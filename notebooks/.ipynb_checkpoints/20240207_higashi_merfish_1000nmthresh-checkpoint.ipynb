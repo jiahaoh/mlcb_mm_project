{
 "cells": [
  {
   "cell_type": "code",
   "execution_count": 1,
   "id": "923be02d",
   "metadata": {},
   "outputs": [],
   "source": [
    "import os\n",
    "import re\n",
    "import pickle\n",
    "\n",
    "import numpy as np\n",
    "import pandas as pd"
   ]
  },
  {
   "cell_type": "code",
   "execution_count": 2,
   "id": "babfaf8e",
   "metadata": {},
   "outputs": [
    {
     "name": "stdout",
     "output_type": "stream",
     "text": [
      "2.5.1+cu118\n"
     ]
    }
   ],
   "source": [
    "import torch\n",
    "print(torch.__version__)"
   ]
  },
  {
   "cell_type": "code",
   "execution_count": 3,
   "id": "5a7f907b",
   "metadata": {},
   "outputs": [
    {
     "name": "stdout",
     "output_type": "stream",
     "text": [
      "Is CUDA available: True\n",
      "CUDA device count: 1\n",
      "CUDA version: 11.8\n",
      "CUDA devices: [<torch.cuda.device object at 0x149bfaaeece0>]\n",
      "CUDA_VISIBLE_DEVICES: MIG-aa265898-f38d-56fb-a517-3ec989e16b08\n",
      "Successfully allocated tensor on GPU.\n"
     ]
    }
   ],
   "source": [
    "print(\"Is CUDA available:\", torch.cuda.is_available())\n",
    "print(\"CUDA device count:\", torch.cuda.device_count())\n",
    "print(\"CUDA version:\", torch.version.cuda)\n",
    "print(\"CUDA devices:\", [torch.cuda.device(i) for i in range(torch.cuda.device_count())])\n",
    "print(\"CUDA_VISIBLE_DEVICES:\", os.environ.get('CUDA_VISIBLE_DEVICES'))\n",
    "\n",
    "# Try to allocate a tensor on GPU\n",
    "try:\n",
    "    device = torch.device('cuda:0')\n",
    "    torch.tensor([1.0], device=device)\n",
    "    print(\"Successfully allocated tensor on GPU.\")\n",
    "except Exception as e:\n",
    "    print(\"Failed to allocate tensor on GPU:\", e)"
   ]
  },
  {
   "cell_type": "code",
   "execution_count": 4,
   "id": "3dcd3c5b",
   "metadata": {},
   "outputs": [
    {
     "data": {
      "text/plain": [
       "['/n/home09/pren/3DGeno_tools/src/gt3d/modules',\n",
       " '/n/home09/pren/.conda/envs/gt3d/lib/python310.zip',\n",
       " '/n/home09/pren/.conda/envs/gt3d/lib/python3.10',\n",
       " '/n/home09/pren/.conda/envs/gt3d/lib/python3.10/lib-dynload',\n",
       " '',\n",
       " '/n/home09/pren/.conda/envs/gt3d/lib/python3.10/site-packages',\n",
       " '/n/home09/pren/3DGeno_tools/src']"
      ]
     },
     "execution_count": 4,
     "metadata": {},
     "output_type": "execute_result"
    }
   ],
   "source": [
    "import sys\n",
    "sys.path.insert(0, '/n/home09/pren/3DGeno_tools/src/gt3d/modules')\n",
    "# sys.path.append('/n/home09/pren/Higashi')\n",
    "# sys.path = ['/n/home09/pren/3DGeno_tools/src/gt3d/modules'] + sys.path\n",
    "sys.path\n"
   ]
  },
  {
   "cell_type": "code",
   "execution_count": 5,
   "id": "099fe23f-f32c-4f00-b75e-ef6ee0512010",
   "metadata": {},
   "outputs": [
    {
     "name": "stdout",
     "output_type": "stream",
     "text": [
      "/n/home09/pren/3DGeno_tools/src/gt3d/modules/higashi/__init__.py\n"
     ]
    }
   ],
   "source": [
    "import higashi\n",
    "print(higashi.__file__)"
   ]
  },
  {
   "cell_type": "code",
   "execution_count": 6,
   "id": "dfcdb4f6",
   "metadata": {},
   "outputs": [],
   "source": [
    "from higashi.Higashi_wrapper import *"
   ]
  },
  {
   "cell_type": "code",
   "execution_count": 7,
   "id": "ae94ecf2",
   "metadata": {},
   "outputs": [],
   "source": [
    "fish_path = '/n/netscratch/zhuang_lab/Lab/Peter/higashi_dnamerfish/multiplexed_fish/t6_filelist'"
   ]
  },
  {
   "cell_type": "code",
   "execution_count": 8,
   "id": "d95bcbfa",
   "metadata": {},
   "outputs": [
    {
     "data": {
      "text/html": [
       "<div>\n",
       "<style scoped>\n",
       "    .dataframe tbody tr th:only-of-type {\n",
       "        vertical-align: middle;\n",
       "    }\n",
       "\n",
       "    .dataframe tbody tr th {\n",
       "        vertical-align: top;\n",
       "    }\n",
       "\n",
       "    .dataframe thead th {\n",
       "        text-align: right;\n",
       "    }\n",
       "</style>\n",
       "<table border=\"1\" class=\"dataframe\">\n",
       "  <thead>\n",
       "    <tr style=\"text-align: right;\">\n",
       "      <th></th>\n",
       "      <th>Cell_ID</th>\n",
       "      <th>FOV_ID</th>\n",
       "      <th>cell_volume_from_merlin</th>\n",
       "      <th>cell_center_x_global</th>\n",
       "      <th>cell_center_y_global</th>\n",
       "      <th>RNA_experiment_ID</th>\n",
       "      <th>Sample_ID</th>\n",
       "      <th>cluster_subclass</th>\n",
       "      <th>cluster_class</th>\n",
       "      <th>neuron_identity</th>\n",
       "      <th>...</th>\n",
       "      <th>Unc13c</th>\n",
       "      <th>Unc5b</th>\n",
       "      <th>Unc5d</th>\n",
       "      <th>Ust</th>\n",
       "      <th>Vipr2</th>\n",
       "      <th>Vtn</th>\n",
       "      <th>Vwc2</th>\n",
       "      <th>Wipf3</th>\n",
       "      <th>Wnt7b</th>\n",
       "      <th>Zfp804b</th>\n",
       "    </tr>\n",
       "  </thead>\n",
       "  <tbody>\n",
       "    <tr>\n",
       "      <th>0</th>\n",
       "      <td>103489270985795086009915676188840872439</td>\n",
       "      <td>0</td>\n",
       "      <td>403.121799</td>\n",
       "      <td>-5984.643199</td>\n",
       "      <td>3962.926100</td>\n",
       "      <td>20220304</td>\n",
       "      <td>C57BL/6_M_1_MOp_1</td>\n",
       "      <td>Astro</td>\n",
       "      <td>Astro</td>\n",
       "      <td>Non-Neuronal</td>\n",
       "      <td>...</td>\n",
       "      <td>0.0</td>\n",
       "      <td>0.0</td>\n",
       "      <td>0.0</td>\n",
       "      <td>0.0</td>\n",
       "      <td>0.0</td>\n",
       "      <td>0.0</td>\n",
       "      <td>0.0</td>\n",
       "      <td>0.0</td>\n",
       "      <td>0.0</td>\n",
       "      <td>0.0</td>\n",
       "    </tr>\n",
       "    <tr>\n",
       "      <th>1</th>\n",
       "      <td>113811790893231448949429397438012891173</td>\n",
       "      <td>0</td>\n",
       "      <td>1345.443053</td>\n",
       "      <td>-6046.845801</td>\n",
       "      <td>3943.378100</td>\n",
       "      <td>20220304</td>\n",
       "      <td>C57BL/6_M_1_MOp_1</td>\n",
       "      <td>other</td>\n",
       "      <td>other</td>\n",
       "      <td>other</td>\n",
       "      <td>...</td>\n",
       "      <td>0.0</td>\n",
       "      <td>0.0</td>\n",
       "      <td>0.0</td>\n",
       "      <td>0.0</td>\n",
       "      <td>0.0</td>\n",
       "      <td>0.0</td>\n",
       "      <td>0.0</td>\n",
       "      <td>0.0</td>\n",
       "      <td>0.0</td>\n",
       "      <td>0.0</td>\n",
       "    </tr>\n",
       "    <tr>\n",
       "      <th>2</th>\n",
       "      <td>119547840309256440899855144626134392385</td>\n",
       "      <td>0</td>\n",
       "      <td>866.273544</td>\n",
       "      <td>-6009.207800</td>\n",
       "      <td>3915.406099</td>\n",
       "      <td>20220304</td>\n",
       "      <td>C57BL/6_M_1_MOp_1</td>\n",
       "      <td>other</td>\n",
       "      <td>other</td>\n",
       "      <td>other</td>\n",
       "      <td>...</td>\n",
       "      <td>0.0</td>\n",
       "      <td>0.0</td>\n",
       "      <td>0.0</td>\n",
       "      <td>0.0</td>\n",
       "      <td>0.0</td>\n",
       "      <td>0.0</td>\n",
       "      <td>0.0</td>\n",
       "      <td>1.0</td>\n",
       "      <td>0.0</td>\n",
       "      <td>0.0</td>\n",
       "    </tr>\n",
       "    <tr>\n",
       "      <th>3</th>\n",
       "      <td>120849314423504941338008541020153695260</td>\n",
       "      <td>0</td>\n",
       "      <td>1186.181156</td>\n",
       "      <td>-6114.885802</td>\n",
       "      <td>3938.572100</td>\n",
       "      <td>20220304</td>\n",
       "      <td>C57BL/6_M_1_MOp_1</td>\n",
       "      <td>other</td>\n",
       "      <td>other</td>\n",
       "      <td>other</td>\n",
       "      <td>...</td>\n",
       "      <td>0.0</td>\n",
       "      <td>0.0</td>\n",
       "      <td>0.0</td>\n",
       "      <td>0.0</td>\n",
       "      <td>0.0</td>\n",
       "      <td>0.0</td>\n",
       "      <td>1.0</td>\n",
       "      <td>0.0</td>\n",
       "      <td>0.0</td>\n",
       "      <td>0.0</td>\n",
       "    </tr>\n",
       "    <tr>\n",
       "      <th>4</th>\n",
       "      <td>125550627244524118102850004242680097855</td>\n",
       "      <td>0</td>\n",
       "      <td>281.811702</td>\n",
       "      <td>-6190.485804</td>\n",
       "      <td>3985.876101</td>\n",
       "      <td>20220304</td>\n",
       "      <td>C57BL/6_M_1_MOp_1</td>\n",
       "      <td>Peri</td>\n",
       "      <td>Peri</td>\n",
       "      <td>Non-Neuronal</td>\n",
       "      <td>...</td>\n",
       "      <td>0.0</td>\n",
       "      <td>0.0</td>\n",
       "      <td>0.0</td>\n",
       "      <td>0.0</td>\n",
       "      <td>0.0</td>\n",
       "      <td>1.0</td>\n",
       "      <td>0.0</td>\n",
       "      <td>0.0</td>\n",
       "      <td>0.0</td>\n",
       "      <td>0.0</td>\n",
       "    </tr>\n",
       "    <tr>\n",
       "      <th>...</th>\n",
       "      <td>...</td>\n",
       "      <td>...</td>\n",
       "      <td>...</td>\n",
       "      <td>...</td>\n",
       "      <td>...</td>\n",
       "      <td>...</td>\n",
       "      <td>...</td>\n",
       "      <td>...</td>\n",
       "      <td>...</td>\n",
       "      <td>...</td>\n",
       "      <td>...</td>\n",
       "      <td>...</td>\n",
       "      <td>...</td>\n",
       "      <td>...</td>\n",
       "      <td>...</td>\n",
       "      <td>...</td>\n",
       "      <td>...</td>\n",
       "      <td>...</td>\n",
       "      <td>...</td>\n",
       "      <td>...</td>\n",
       "      <td>...</td>\n",
       "    </tr>\n",
       "    <tr>\n",
       "      <th>17851</th>\n",
       "      <td>89740340849279220555487673174291177981</td>\n",
       "      <td>167</td>\n",
       "      <td>746.108561</td>\n",
       "      <td>3028.620050</td>\n",
       "      <td>-2372.662093</td>\n",
       "      <td>20220304</td>\n",
       "      <td>C57BL/6_M_1_MOp_1</td>\n",
       "      <td>L5/6 NP</td>\n",
       "      <td>Gluta</td>\n",
       "      <td>Neuronal</td>\n",
       "      <td>...</td>\n",
       "      <td>5.0</td>\n",
       "      <td>0.0</td>\n",
       "      <td>0.0</td>\n",
       "      <td>1.0</td>\n",
       "      <td>1.0</td>\n",
       "      <td>0.0</td>\n",
       "      <td>0.0</td>\n",
       "      <td>8.0</td>\n",
       "      <td>0.0</td>\n",
       "      <td>1.0</td>\n",
       "    </tr>\n",
       "    <tr>\n",
       "      <th>17852</th>\n",
       "      <td>90550019712359509388050476283813007625</td>\n",
       "      <td>167</td>\n",
       "      <td>931.565237</td>\n",
       "      <td>3093.798051</td>\n",
       "      <td>-2484.658096</td>\n",
       "      <td>20220304</td>\n",
       "      <td>C57BL/6_M_1_MOp_1</td>\n",
       "      <td>L6 CT</td>\n",
       "      <td>Gluta</td>\n",
       "      <td>Neuronal</td>\n",
       "      <td>...</td>\n",
       "      <td>1.0</td>\n",
       "      <td>0.0</td>\n",
       "      <td>0.0</td>\n",
       "      <td>2.0</td>\n",
       "      <td>0.0</td>\n",
       "      <td>0.0</td>\n",
       "      <td>0.0</td>\n",
       "      <td>30.0</td>\n",
       "      <td>0.0</td>\n",
       "      <td>0.0</td>\n",
       "    </tr>\n",
       "    <tr>\n",
       "      <th>17853</th>\n",
       "      <td>91790428117198932838975210302149417238</td>\n",
       "      <td>167</td>\n",
       "      <td>146.709916</td>\n",
       "      <td>3073.926051</td>\n",
       "      <td>-2429.902094</td>\n",
       "      <td>20220304</td>\n",
       "      <td>C57BL/6_M_1_MOp_1</td>\n",
       "      <td>Astro</td>\n",
       "      <td>Astro</td>\n",
       "      <td>Non-Neuronal</td>\n",
       "      <td>...</td>\n",
       "      <td>0.0</td>\n",
       "      <td>0.0</td>\n",
       "      <td>0.0</td>\n",
       "      <td>0.0</td>\n",
       "      <td>0.0</td>\n",
       "      <td>0.0</td>\n",
       "      <td>0.0</td>\n",
       "      <td>0.0</td>\n",
       "      <td>0.0</td>\n",
       "      <td>0.0</td>\n",
       "    </tr>\n",
       "    <tr>\n",
       "      <th>17854</th>\n",
       "      <td>95847719459140129344505526245510134602</td>\n",
       "      <td>167</td>\n",
       "      <td>264.662706</td>\n",
       "      <td>3019.332049</td>\n",
       "      <td>-2441.458095</td>\n",
       "      <td>20220304</td>\n",
       "      <td>C57BL/6_M_1_MOp_1</td>\n",
       "      <td>L6 CT</td>\n",
       "      <td>Gluta</td>\n",
       "      <td>Neuronal</td>\n",
       "      <td>...</td>\n",
       "      <td>0.0</td>\n",
       "      <td>0.0</td>\n",
       "      <td>0.0</td>\n",
       "      <td>3.0</td>\n",
       "      <td>0.0</td>\n",
       "      <td>0.0</td>\n",
       "      <td>0.0</td>\n",
       "      <td>4.0</td>\n",
       "      <td>0.0</td>\n",
       "      <td>1.0</td>\n",
       "    </tr>\n",
       "    <tr>\n",
       "      <th>17855</th>\n",
       "      <td>98631367793753865210420375896077451174</td>\n",
       "      <td>167</td>\n",
       "      <td>237.911553</td>\n",
       "      <td>3176.202053</td>\n",
       "      <td>-2464.462095</td>\n",
       "      <td>20220304</td>\n",
       "      <td>C57BL/6_M_1_MOp_1</td>\n",
       "      <td>Oligo</td>\n",
       "      <td>Oligo</td>\n",
       "      <td>Non-Neuronal</td>\n",
       "      <td>...</td>\n",
       "      <td>0.0</td>\n",
       "      <td>4.0</td>\n",
       "      <td>0.0</td>\n",
       "      <td>4.0</td>\n",
       "      <td>0.0</td>\n",
       "      <td>0.0</td>\n",
       "      <td>0.0</td>\n",
       "      <td>0.0</td>\n",
       "      <td>0.0</td>\n",
       "      <td>0.0</td>\n",
       "    </tr>\n",
       "  </tbody>\n",
       "</table>\n",
       "<p>17856 rows × 252 columns</p>\n",
       "</div>"
      ],
      "text/plain": [
       "                                       Cell_ID  FOV_ID  \\\n",
       "0      103489270985795086009915676188840872439       0   \n",
       "1      113811790893231448949429397438012891173       0   \n",
       "2      119547840309256440899855144626134392385       0   \n",
       "3      120849314423504941338008541020153695260       0   \n",
       "4      125550627244524118102850004242680097855       0   \n",
       "...                                        ...     ...   \n",
       "17851   89740340849279220555487673174291177981     167   \n",
       "17852   90550019712359509388050476283813007625     167   \n",
       "17853   91790428117198932838975210302149417238     167   \n",
       "17854   95847719459140129344505526245510134602     167   \n",
       "17855   98631367793753865210420375896077451174     167   \n",
       "\n",
       "       cell_volume_from_merlin  cell_center_x_global  cell_center_y_global  \\\n",
       "0                   403.121799          -5984.643199           3962.926100   \n",
       "1                  1345.443053          -6046.845801           3943.378100   \n",
       "2                   866.273544          -6009.207800           3915.406099   \n",
       "3                  1186.181156          -6114.885802           3938.572100   \n",
       "4                   281.811702          -6190.485804           3985.876101   \n",
       "...                        ...                   ...                   ...   \n",
       "17851               746.108561           3028.620050          -2372.662093   \n",
       "17852               931.565237           3093.798051          -2484.658096   \n",
       "17853               146.709916           3073.926051          -2429.902094   \n",
       "17854               264.662706           3019.332049          -2441.458095   \n",
       "17855               237.911553           3176.202053          -2464.462095   \n",
       "\n",
       "       RNA_experiment_ID          Sample_ID cluster_subclass cluster_class  \\\n",
       "0               20220304  C57BL/6_M_1_MOp_1            Astro         Astro   \n",
       "1               20220304  C57BL/6_M_1_MOp_1            other         other   \n",
       "2               20220304  C57BL/6_M_1_MOp_1            other         other   \n",
       "3               20220304  C57BL/6_M_1_MOp_1            other         other   \n",
       "4               20220304  C57BL/6_M_1_MOp_1             Peri          Peri   \n",
       "...                  ...                ...              ...           ...   \n",
       "17851           20220304  C57BL/6_M_1_MOp_1          L5/6 NP         Gluta   \n",
       "17852           20220304  C57BL/6_M_1_MOp_1            L6 CT         Gluta   \n",
       "17853           20220304  C57BL/6_M_1_MOp_1            Astro         Astro   \n",
       "17854           20220304  C57BL/6_M_1_MOp_1            L6 CT         Gluta   \n",
       "17855           20220304  C57BL/6_M_1_MOp_1            Oligo         Oligo   \n",
       "\n",
       "      neuron_identity  ...  Unc13c  Unc5b  Unc5d  Ust  Vipr2  Vtn  Vwc2  \\\n",
       "0        Non-Neuronal  ...     0.0    0.0    0.0  0.0    0.0  0.0   0.0   \n",
       "1               other  ...     0.0    0.0    0.0  0.0    0.0  0.0   0.0   \n",
       "2               other  ...     0.0    0.0    0.0  0.0    0.0  0.0   0.0   \n",
       "3               other  ...     0.0    0.0    0.0  0.0    0.0  0.0   1.0   \n",
       "4        Non-Neuronal  ...     0.0    0.0    0.0  0.0    0.0  1.0   0.0   \n",
       "...               ...  ...     ...    ...    ...  ...    ...  ...   ...   \n",
       "17851        Neuronal  ...     5.0    0.0    0.0  1.0    1.0  0.0   0.0   \n",
       "17852        Neuronal  ...     1.0    0.0    0.0  2.0    0.0  0.0   0.0   \n",
       "17853    Non-Neuronal  ...     0.0    0.0    0.0  0.0    0.0  0.0   0.0   \n",
       "17854        Neuronal  ...     0.0    0.0    0.0  3.0    0.0  0.0   0.0   \n",
       "17855    Non-Neuronal  ...     0.0    4.0    0.0  4.0    0.0  0.0   0.0   \n",
       "\n",
       "       Wipf3  Wnt7b  Zfp804b  \n",
       "0        0.0    0.0      0.0  \n",
       "1        0.0    0.0      0.0  \n",
       "2        1.0    0.0      0.0  \n",
       "3        0.0    0.0      0.0  \n",
       "4        0.0    0.0      0.0  \n",
       "...      ...    ...      ...  \n",
       "17851    8.0    0.0      1.0  \n",
       "17852   30.0    0.0      0.0  \n",
       "17853    0.0    0.0      0.0  \n",
       "17854    4.0    0.0      1.0  \n",
       "17855    0.0    0.0      0.0  \n",
       "\n",
       "[17856 rows x 252 columns]"
      ]
     },
     "execution_count": 8,
     "metadata": {},
     "output_type": "execute_result"
    }
   ],
   "source": [
    "cell_df = pd.read_csv(os.path.join(fish_path, '4DNESMTNNB3N/4DNFIA7FUW8Y.csv'), skiprows=22)\n",
    "cell_df = cell_df.rename(columns={'##columns=(Cell_ID': 'Cell_ID', 'Zfp804b)': 'Zfp804b'})\n",
    "cell_df\n"
   ]
  },
  {
   "cell_type": "code",
   "execution_count": 9,
   "id": "40271fec",
   "metadata": {},
   "outputs": [
    {
     "data": {
      "text/plain": [
       "2420"
      ]
     },
     "execution_count": 9,
     "metadata": {},
     "output_type": "execute_result"
    }
   ],
   "source": [
    "cell_ids = [re.search('cell\\d+', filename).group()[4:] for filename in os.listdir(os.path.join(fish_path, 'merfish_contacts_thresh1000nm'))]\n",
    "len(cell_ids)"
   ]
  },
  {
   "cell_type": "code",
   "execution_count": 10,
   "id": "a9846a86",
   "metadata": {},
   "outputs": [
    {
     "data": {
      "text/html": [
       "<div>\n",
       "<style scoped>\n",
       "    .dataframe tbody tr th:only-of-type {\n",
       "        vertical-align: middle;\n",
       "    }\n",
       "\n",
       "    .dataframe tbody tr th {\n",
       "        vertical-align: top;\n",
       "    }\n",
       "\n",
       "    .dataframe thead th {\n",
       "        text-align: right;\n",
       "    }\n",
       "</style>\n",
       "<table border=\"1\" class=\"dataframe\">\n",
       "  <thead>\n",
       "    <tr style=\"text-align: right;\">\n",
       "      <th></th>\n",
       "      <th>Cell_ID</th>\n",
       "      <th>FOV_ID</th>\n",
       "      <th>cell_volume_from_merlin</th>\n",
       "      <th>cell_center_x_global</th>\n",
       "      <th>cell_center_y_global</th>\n",
       "      <th>RNA_experiment_ID</th>\n",
       "      <th>Sample_ID</th>\n",
       "      <th>cluster_subclass</th>\n",
       "      <th>cluster_class</th>\n",
       "      <th>neuron_identity</th>\n",
       "      <th>...</th>\n",
       "      <th>Unc13c</th>\n",
       "      <th>Unc5b</th>\n",
       "      <th>Unc5d</th>\n",
       "      <th>Ust</th>\n",
       "      <th>Vipr2</th>\n",
       "      <th>Vtn</th>\n",
       "      <th>Vwc2</th>\n",
       "      <th>Wipf3</th>\n",
       "      <th>Wnt7b</th>\n",
       "      <th>Zfp804b</th>\n",
       "    </tr>\n",
       "  </thead>\n",
       "  <tbody>\n",
       "    <tr>\n",
       "      <th>0</th>\n",
       "      <td>100143354915909514340563966591344282617</td>\n",
       "      <td>84.0</td>\n",
       "      <td>852.211658</td>\n",
       "      <td>2475.098099</td>\n",
       "      <td>-1024.199995</td>\n",
       "      <td>20220304.0</td>\n",
       "      <td>C57BL/6_M_1_MOp_1</td>\n",
       "      <td>L2/3 IT</td>\n",
       "      <td>Gluta</td>\n",
       "      <td>Neuronal</td>\n",
       "      <td>...</td>\n",
       "      <td>2.0</td>\n",
       "      <td>2.0</td>\n",
       "      <td>0.0</td>\n",
       "      <td>1.0</td>\n",
       "      <td>0.0</td>\n",
       "      <td>0.0</td>\n",
       "      <td>0.0</td>\n",
       "      <td>33.0</td>\n",
       "      <td>0.0</td>\n",
       "      <td>1.0</td>\n",
       "    </tr>\n",
       "    <tr>\n",
       "      <th>1</th>\n",
       "      <td>100444929727335622562402977796883679092</td>\n",
       "      <td>8.0</td>\n",
       "      <td>844.089198</td>\n",
       "      <td>-5802.457800</td>\n",
       "      <td>4135.278100</td>\n",
       "      <td>20220304.0</td>\n",
       "      <td>C57BL/6_M_1_MOp_1</td>\n",
       "      <td>Endo</td>\n",
       "      <td>Endo</td>\n",
       "      <td>Non-Neuronal</td>\n",
       "      <td>...</td>\n",
       "      <td>2.0</td>\n",
       "      <td>0.0</td>\n",
       "      <td>0.0</td>\n",
       "      <td>2.0</td>\n",
       "      <td>0.0</td>\n",
       "      <td>0.0</td>\n",
       "      <td>0.0</td>\n",
       "      <td>0.0</td>\n",
       "      <td>0.0</td>\n",
       "      <td>0.0</td>\n",
       "    </tr>\n",
       "    <tr>\n",
       "      <th>2</th>\n",
       "      <td>100636001562801092372127493520169017848</td>\n",
       "      <td>75.0</td>\n",
       "      <td>598.349001</td>\n",
       "      <td>-6372.189898</td>\n",
       "      <td>5324.277907</td>\n",
       "      <td>20220304.0</td>\n",
       "      <td>C57BL/6_M_1_MOp_1</td>\n",
       "      <td>VLMC</td>\n",
       "      <td>VLMC</td>\n",
       "      <td>Non-Neuronal</td>\n",
       "      <td>...</td>\n",
       "      <td>1.0</td>\n",
       "      <td>0.0</td>\n",
       "      <td>0.0</td>\n",
       "      <td>0.0</td>\n",
       "      <td>0.0</td>\n",
       "      <td>0.0</td>\n",
       "      <td>0.0</td>\n",
       "      <td>0.0</td>\n",
       "      <td>0.0</td>\n",
       "      <td>0.0</td>\n",
       "    </tr>\n",
       "    <tr>\n",
       "      <th>3</th>\n",
       "      <td>100641667178165970074422975257012665391</td>\n",
       "      <td>84.0</td>\n",
       "      <td>762.882093</td>\n",
       "      <td>2494.970100</td>\n",
       "      <td>-1057.625996</td>\n",
       "      <td>20220304.0</td>\n",
       "      <td>C57BL/6_M_1_MOp_1</td>\n",
       "      <td>Endo</td>\n",
       "      <td>Endo</td>\n",
       "      <td>Non-Neuronal</td>\n",
       "      <td>...</td>\n",
       "      <td>2.0</td>\n",
       "      <td>5.0</td>\n",
       "      <td>0.0</td>\n",
       "      <td>0.0</td>\n",
       "      <td>0.0</td>\n",
       "      <td>1.0</td>\n",
       "      <td>0.0</td>\n",
       "      <td>0.0</td>\n",
       "      <td>0.0</td>\n",
       "      <td>0.0</td>\n",
       "    </tr>\n",
       "    <tr>\n",
       "      <th>4</th>\n",
       "      <td>100645494773040598441840741335181821324</td>\n",
       "      <td>81.0</td>\n",
       "      <td>917.879399</td>\n",
       "      <td>2390.604102</td>\n",
       "      <td>-437.051995</td>\n",
       "      <td>20220304.0</td>\n",
       "      <td>C57BL/6_M_1_MOp_1</td>\n",
       "      <td>Astro</td>\n",
       "      <td>Astro</td>\n",
       "      <td>Non-Neuronal</td>\n",
       "      <td>...</td>\n",
       "      <td>2.0</td>\n",
       "      <td>0.0</td>\n",
       "      <td>0.0</td>\n",
       "      <td>0.0</td>\n",
       "      <td>0.0</td>\n",
       "      <td>0.0</td>\n",
       "      <td>0.0</td>\n",
       "      <td>1.0</td>\n",
       "      <td>3.0</td>\n",
       "      <td>0.0</td>\n",
       "    </tr>\n",
       "    <tr>\n",
       "      <th>...</th>\n",
       "      <td>...</td>\n",
       "      <td>...</td>\n",
       "      <td>...</td>\n",
       "      <td>...</td>\n",
       "      <td>...</td>\n",
       "      <td>...</td>\n",
       "      <td>...</td>\n",
       "      <td>...</td>\n",
       "      <td>...</td>\n",
       "      <td>...</td>\n",
       "      <td>...</td>\n",
       "      <td>...</td>\n",
       "      <td>...</td>\n",
       "      <td>...</td>\n",
       "      <td>...</td>\n",
       "      <td>...</td>\n",
       "      <td>...</td>\n",
       "      <td>...</td>\n",
       "      <td>...</td>\n",
       "      <td>...</td>\n",
       "      <td>...</td>\n",
       "    </tr>\n",
       "    <tr>\n",
       "      <th>2415</th>\n",
       "      <td>99732441040257909568179107546777692281</td>\n",
       "      <td>85.0</td>\n",
       "      <td>1189.559867</td>\n",
       "      <td>2588.552102</td>\n",
       "      <td>-950.289998</td>\n",
       "      <td>20220304.0</td>\n",
       "      <td>C57BL/6_M_1_MOp_1</td>\n",
       "      <td>Sst</td>\n",
       "      <td>GABA</td>\n",
       "      <td>Neuronal</td>\n",
       "      <td>...</td>\n",
       "      <td>13.0</td>\n",
       "      <td>2.0</td>\n",
       "      <td>6.0</td>\n",
       "      <td>7.0</td>\n",
       "      <td>1.0</td>\n",
       "      <td>1.0</td>\n",
       "      <td>13.0</td>\n",
       "      <td>17.0</td>\n",
       "      <td>1.0</td>\n",
       "      <td>0.0</td>\n",
       "    </tr>\n",
       "    <tr>\n",
       "      <th>2416</th>\n",
       "      <td>99760521419024717766427788907150197811</td>\n",
       "      <td>84.0</td>\n",
       "      <td>554.913079</td>\n",
       "      <td>2633.588103</td>\n",
       "      <td>-1030.841995</td>\n",
       "      <td>20220304.0</td>\n",
       "      <td>C57BL/6_M_1_MOp_1</td>\n",
       "      <td>L5 IT</td>\n",
       "      <td>Gluta</td>\n",
       "      <td>Neuronal</td>\n",
       "      <td>...</td>\n",
       "      <td>0.0</td>\n",
       "      <td>0.0</td>\n",
       "      <td>0.0</td>\n",
       "      <td>0.0</td>\n",
       "      <td>0.0</td>\n",
       "      <td>0.0</td>\n",
       "      <td>0.0</td>\n",
       "      <td>0.0</td>\n",
       "      <td>1.0</td>\n",
       "      <td>0.0</td>\n",
       "    </tr>\n",
       "    <tr>\n",
       "      <th>2417</th>\n",
       "      <td>99806661526131685558261006620437651282</td>\n",
       "      <td>72.0</td>\n",
       "      <td>625.749255</td>\n",
       "      <td>-6655.781900</td>\n",
       "      <td>5085.343906</td>\n",
       "      <td>20220304.0</td>\n",
       "      <td>C57BL/6_M_1_MOp_1</td>\n",
       "      <td>Endo</td>\n",
       "      <td>Endo</td>\n",
       "      <td>Non-Neuronal</td>\n",
       "      <td>...</td>\n",
       "      <td>0.0</td>\n",
       "      <td>0.0</td>\n",
       "      <td>0.0</td>\n",
       "      <td>0.0</td>\n",
       "      <td>0.0</td>\n",
       "      <td>0.0</td>\n",
       "      <td>0.0</td>\n",
       "      <td>1.0</td>\n",
       "      <td>0.0</td>\n",
       "      <td>0.0</td>\n",
       "    </tr>\n",
       "    <tr>\n",
       "      <th>2418</th>\n",
       "      <td>99895158179073067511837782015760741030</td>\n",
       "      <td>9.0</td>\n",
       "      <td>498.213556</td>\n",
       "      <td>-5864.665801</td>\n",
       "      <td>3896.452099</td>\n",
       "      <td>20220304.0</td>\n",
       "      <td>C57BL/6_M_1_MOp_1</td>\n",
       "      <td>Micro</td>\n",
       "      <td>Micro</td>\n",
       "      <td>Non-Neuronal</td>\n",
       "      <td>...</td>\n",
       "      <td>0.0</td>\n",
       "      <td>0.0</td>\n",
       "      <td>0.0</td>\n",
       "      <td>0.0</td>\n",
       "      <td>0.0</td>\n",
       "      <td>0.0</td>\n",
       "      <td>0.0</td>\n",
       "      <td>0.0</td>\n",
       "      <td>0.0</td>\n",
       "      <td>0.0</td>\n",
       "    </tr>\n",
       "    <tr>\n",
       "      <th>2419</th>\n",
       "      <td>99926991096702427762005918916944379629</td>\n",
       "      <td>92.0</td>\n",
       "      <td>1133.789731</td>\n",
       "      <td>2640.106098</td>\n",
       "      <td>-300.987997</td>\n",
       "      <td>20220304.0</td>\n",
       "      <td>C57BL/6_M_1_MOp_1</td>\n",
       "      <td>L2/3 IT</td>\n",
       "      <td>Gluta</td>\n",
       "      <td>Neuronal</td>\n",
       "      <td>...</td>\n",
       "      <td>1.0</td>\n",
       "      <td>0.0</td>\n",
       "      <td>7.0</td>\n",
       "      <td>0.0</td>\n",
       "      <td>1.0</td>\n",
       "      <td>0.0</td>\n",
       "      <td>2.0</td>\n",
       "      <td>41.0</td>\n",
       "      <td>1.0</td>\n",
       "      <td>0.0</td>\n",
       "    </tr>\n",
       "  </tbody>\n",
       "</table>\n",
       "<p>2420 rows × 252 columns</p>\n",
       "</div>"
      ],
      "text/plain": [
       "                                      Cell_ID  FOV_ID  \\\n",
       "0     100143354915909514340563966591344282617    84.0   \n",
       "1     100444929727335622562402977796883679092     8.0   \n",
       "2     100636001562801092372127493520169017848    75.0   \n",
       "3     100641667178165970074422975257012665391    84.0   \n",
       "4     100645494773040598441840741335181821324    81.0   \n",
       "...                                       ...     ...   \n",
       "2415   99732441040257909568179107546777692281    85.0   \n",
       "2416   99760521419024717766427788907150197811    84.0   \n",
       "2417   99806661526131685558261006620437651282    72.0   \n",
       "2418   99895158179073067511837782015760741030     9.0   \n",
       "2419   99926991096702427762005918916944379629    92.0   \n",
       "\n",
       "      cell_volume_from_merlin  cell_center_x_global  cell_center_y_global  \\\n",
       "0                  852.211658           2475.098099          -1024.199995   \n",
       "1                  844.089198          -5802.457800           4135.278100   \n",
       "2                  598.349001          -6372.189898           5324.277907   \n",
       "3                  762.882093           2494.970100          -1057.625996   \n",
       "4                  917.879399           2390.604102           -437.051995   \n",
       "...                       ...                   ...                   ...   \n",
       "2415              1189.559867           2588.552102           -950.289998   \n",
       "2416               554.913079           2633.588103          -1030.841995   \n",
       "2417               625.749255          -6655.781900           5085.343906   \n",
       "2418               498.213556          -5864.665801           3896.452099   \n",
       "2419              1133.789731           2640.106098           -300.987997   \n",
       "\n",
       "      RNA_experiment_ID          Sample_ID cluster_subclass cluster_class  \\\n",
       "0            20220304.0  C57BL/6_M_1_MOp_1          L2/3 IT         Gluta   \n",
       "1            20220304.0  C57BL/6_M_1_MOp_1             Endo          Endo   \n",
       "2            20220304.0  C57BL/6_M_1_MOp_1             VLMC          VLMC   \n",
       "3            20220304.0  C57BL/6_M_1_MOp_1             Endo          Endo   \n",
       "4            20220304.0  C57BL/6_M_1_MOp_1            Astro         Astro   \n",
       "...                 ...                ...              ...           ...   \n",
       "2415         20220304.0  C57BL/6_M_1_MOp_1              Sst          GABA   \n",
       "2416         20220304.0  C57BL/6_M_1_MOp_1            L5 IT         Gluta   \n",
       "2417         20220304.0  C57BL/6_M_1_MOp_1             Endo          Endo   \n",
       "2418         20220304.0  C57BL/6_M_1_MOp_1            Micro         Micro   \n",
       "2419         20220304.0  C57BL/6_M_1_MOp_1          L2/3 IT         Gluta   \n",
       "\n",
       "     neuron_identity  ...  Unc13c  Unc5b  Unc5d  Ust  Vipr2  Vtn  Vwc2  Wipf3  \\\n",
       "0           Neuronal  ...     2.0    2.0    0.0  1.0    0.0  0.0   0.0   33.0   \n",
       "1       Non-Neuronal  ...     2.0    0.0    0.0  2.0    0.0  0.0   0.0    0.0   \n",
       "2       Non-Neuronal  ...     1.0    0.0    0.0  0.0    0.0  0.0   0.0    0.0   \n",
       "3       Non-Neuronal  ...     2.0    5.0    0.0  0.0    0.0  1.0   0.0    0.0   \n",
       "4       Non-Neuronal  ...     2.0    0.0    0.0  0.0    0.0  0.0   0.0    1.0   \n",
       "...              ...  ...     ...    ...    ...  ...    ...  ...   ...    ...   \n",
       "2415        Neuronal  ...    13.0    2.0    6.0  7.0    1.0  1.0  13.0   17.0   \n",
       "2416        Neuronal  ...     0.0    0.0    0.0  0.0    0.0  0.0   0.0    0.0   \n",
       "2417    Non-Neuronal  ...     0.0    0.0    0.0  0.0    0.0  0.0   0.0    1.0   \n",
       "2418    Non-Neuronal  ...     0.0    0.0    0.0  0.0    0.0  0.0   0.0    0.0   \n",
       "2419        Neuronal  ...     1.0    0.0    7.0  0.0    1.0  0.0   2.0   41.0   \n",
       "\n",
       "      Wnt7b  Zfp804b  \n",
       "0       0.0      1.0  \n",
       "1       0.0      0.0  \n",
       "2       0.0      0.0  \n",
       "3       0.0      0.0  \n",
       "4       3.0      0.0  \n",
       "...     ...      ...  \n",
       "2415    1.0      0.0  \n",
       "2416    1.0      0.0  \n",
       "2417    0.0      0.0  \n",
       "2418    0.0      0.0  \n",
       "2419    1.0      0.0  \n",
       "\n",
       "[2420 rows x 252 columns]"
      ]
     },
     "execution_count": 10,
     "metadata": {},
     "output_type": "execute_result"
    }
   ],
   "source": [
    "training_data_meta = pd.DataFrame(cell_ids, columns=['Cell_ID']).merge(cell_df, on='Cell_ID', how='left')\n",
    "training_data_meta"
   ]
  },
  {
   "cell_type": "code",
   "execution_count": 11,
   "id": "08e3ecb4",
   "metadata": {},
   "outputs": [],
   "source": [
    "label_info = {k:np.asarray(training_data_meta[k]) for k in training_data_meta.columns}\n",
    "label_info_path = '/n/home09/pren/higfiles/merfish_metadata/label_info_1000nmthresh.pickle'\n",
    "with open(label_info_path, 'wb') as handle:\n",
    "    pickle.dump(label_info, handle)"
   ]
  },
  {
   "cell_type": "code",
   "execution_count": 15,
   "id": "a2a6bc3c",
   "metadata": {},
   "outputs": [],
   "source": [
    "config = \"/n/home09/pren/higfiles/configs/config_liu_zhuang_t6_1000nmthresh.JSON\"\n",
    "config_info = {\n",
    "    \"data_dir\": fish_path, # where the data is, the data has to be named as data.txt (v1) or filelist.txt (v2) or the code can't find it\n",
    "    \"label_path\": label_info_path,\n",
    "    \"structured\": True,\n",
    "    \"input_format\": 'higashi_v2',\n",
    "    \"temp_dir\": \"/n/netscratch/zhuang_lab/Lab/Peter/higashi_dnamerfish/embeddings_liu_zhuang_temp6_1000nmthresh/\", # where to store model temp files\n",
    "    \"genome_reference_path\": \"/n/home09/pren/higfiles/params/chromInfo.txt\",\n",
    "    \"cytoband_path\": \"/n/home09/pren/higfiles/params/cytoBand.txt\",\n",
    "    \"chrom_list\": ['chr1', 'chr10', 'chr11', 'chr12', 'chr13', 'chr14', 'chr15',\n",
    "       'chr17', 'chr18', 'chr3', 'chr4', 'chr5', 'chr6', 'chr7', 'chr9',\n",
    "       'chr16', 'chr19', 'chr2', 'chr8', \"chrX\"],\n",
    "    \"resolution\": 2500000, # 2.5 Mbp\n",
    "    \"resolution_cell\": 2500000,\n",
    "    \"resolution_fh\": [2500000],\n",
    "    \"embedding_name\": \"test_dnamerfish_1000nmthresh\",\n",
    "    \"minimum_distance\": 2500000,\n",
    "    \"maximum_distance\": -1,\n",
    "    \"local_transfer_range\": 0,\n",
    "    \"loss_mode\": \"zinb\",\n",
    "    \"dimensions\": 100, # can be adjusted later\n",
    "    \"impute_list\":['chr1', 'chr10', 'chr11', 'chr12', 'chr13', 'chr14', 'chr15',\n",
    "       'chr17', 'chr18', 'chr3', 'chr4', 'chr5', 'chr6', 'chr7', 'chr9',\n",
    "       'chr16', 'chr19', 'chr2', 'chr8', \"chrX\"],\n",
    "    \"neighbor_num\": 5,\n",
    "    \"cpu_num\": 10,\n",
    "    \"gpu_num\": 1,\n",
    "    \"embedding_epoch\":65, # this can be adjusted\n",
    "    \"correct_be_impute\": True,\n",
    "    \"header_included\": True,\n",
    "    \"reprocess\": True,\n",
    "    # \"contact_header\": ['cell_id', 'chrom1', 'pos1', 'chrom2', 'pos2', 'count']\n",
    "}\n",
    "\n",
    "# save the config file to the current directory\n",
    "import json\n",
    "with open(config, \"w\") as f:\n",
    "    json.dump(config_info, f, indent = 6)"
   ]
  },
  {
   "cell_type": "code",
   "execution_count": 16,
   "id": "36bd22a9-feeb-4b12-a25c-e3908dcada9b",
   "metadata": {},
   "outputs": [],
   "source": [
    "# Initialize the Higashi instance\n",
    "higashi_model = Higashi(config)\n"
   ]
  },
  {
   "cell_type": "code",
   "execution_count": 17,
   "id": "faccf621",
   "metadata": {},
   "outputs": [
    {
     "data": {
      "text/html": [
       "<pre style=\"white-space:pre;overflow-x:auto;line-height:normal;font-family:Menlo,'DejaVu Sans Mono',consolas,'Courier New',monospace\"><span style=\"color: #7fbfbf; text-decoration-color: #7fbfbf\">[12/07/24 12:21:08] </span><span style=\"color: #000080; text-decoration-color: #000080\">INFO    </span> <span style=\"color: #0000ff; text-decoration-color: #0000ff\">generate_chrom_start_end</span> Generating start/end dict for chromosome        <a href=\"file:///n/home09/pren/3DGeno_tools/src/gt3d/modules/higashi/Process.py\" target=\"_blank\"><span style=\"color: #7f7f7f; text-decoration-color: #7f7f7f\">Process.py</span></a><span style=\"color: #7f7f7f; text-decoration-color: #7f7f7f\">:</span><a href=\"file:///n/home09/pren/3DGeno_tools/src/gt3d/modules/higashi/Process.py#93\" target=\"_blank\"><span style=\"color: #7f7f7f; text-decoration-color: #7f7f7f\">93</span></a>\n",
       "</pre>\n"
      ],
      "text/plain": [
       "\u001b[2;36m[12/07/24 12:21:08]\u001b[0m\u001b[2;36m \u001b[0m\u001b[34mINFO    \u001b[0m \u001b[94mgenerate_chrom_start_end\u001b[0m Generating start/end dict for chromosome        \u001b]8;id=488680;file:///n/home09/pren/3DGeno_tools/src/gt3d/modules/higashi/Process.py\u001b\\\u001b[2mProcess.py\u001b[0m\u001b]8;;\u001b\\\u001b[2m:\u001b[0m\u001b]8;id=450955;file:///n/home09/pren/3DGeno_tools/src/gt3d/modules/higashi/Process.py#93\u001b\\\u001b[2m93\u001b[0m\u001b]8;;\u001b\\\n"
      ]
     },
     "metadata": {},
     "output_type": "display_data"
    },
    {
     "data": {
      "text/html": [
       "<pre style=\"white-space:pre;overflow-x:auto;line-height:normal;font-family:Menlo,'DejaVu Sans Mono',consolas,'Courier New',monospace\"><span style=\"color: #7fbfbf; text-decoration-color: #7fbfbf\">                    </span><span style=\"color: #000080; text-decoration-color: #000080\">INFO    </span> <span style=\"color: #0000ff; text-decoration-color: #0000ff\">extract_table</span> Extracting data from filelist.txt                         <a href=\"file:///n/home09/pren/3DGeno_tools/src/gt3d/modules/higashi/Process.py\" target=\"_blank\"><span style=\"color: #7f7f7f; text-decoration-color: #7f7f7f\">Process.py</span></a><span style=\"color: #7f7f7f; text-decoration-color: #7f7f7f\">:</span><a href=\"file:///n/home09/pren/3DGeno_tools/src/gt3d/modules/higashi/Process.py#298\" target=\"_blank\"><span style=\"color: #7f7f7f; text-decoration-color: #7f7f7f\">298</span></a>\n",
       "</pre>\n"
      ],
      "text/plain": [
       "\u001b[2;36m                   \u001b[0m\u001b[2;36m \u001b[0m\u001b[34mINFO    \u001b[0m \u001b[94mextract_table\u001b[0m Extracting data from filelist.txt                         \u001b]8;id=726152;file:///n/home09/pren/3DGeno_tools/src/gt3d/modules/higashi/Process.py\u001b\\\u001b[2mProcess.py\u001b[0m\u001b]8;;\u001b\\\u001b[2m:\u001b[0m\u001b]8;id=137122;file:///n/home09/pren/3DGeno_tools/src/gt3d/modules/higashi/Process.py#298\u001b\\\u001b[2m298\u001b[0m\u001b]8;;\u001b\\\n"
      ]
     },
     "metadata": {},
     "output_type": "display_data"
    },
    {
     "data": {
      "application/vnd.jupyter.widget-view+json": {
       "model_id": "687253e746df44c8a5fab76a5e1aa7a6",
       "version_major": 2,
       "version_minor": 0
      },
      "text/plain": [
       "Output()"
      ]
     },
     "metadata": {},
     "output_type": "display_data"
    },
    {
     "data": {
      "text/html": [
       "<pre style=\"white-space:pre;overflow-x:auto;line-height:normal;font-family:Menlo,'DejaVu Sans Mono',consolas,'Courier New',monospace\"></pre>\n"
      ],
      "text/plain": []
     },
     "metadata": {},
     "output_type": "display_data"
    },
    {
     "data": {
      "text/html": [
       "<pre style=\"white-space:pre;overflow-x:auto;line-height:normal;font-family:Menlo,'DejaVu Sans Mono',consolas,'Courier New',monospace\"><span style=\"color: #7fbfbf; text-decoration-color: #7fbfbf\">[12/07/24 12:21:35] </span><span style=\"color: #000080; text-decoration-color: #000080\">INFO    </span> <span style=\"color: #0000ff; text-decoration-color: #0000ff\">create_matrix</span> Generating contact maps for baseline                      <a href=\"file:///n/home09/pren/3DGeno_tools/src/gt3d/modules/higashi/Process.py\" target=\"_blank\"><span style=\"color: #7f7f7f; text-decoration-color: #7f7f7f\">Process.py</span></a><span style=\"color: #7f7f7f; text-decoration-color: #7f7f7f\">:</span><a href=\"file:///n/home09/pren/3DGeno_tools/src/gt3d/modules/higashi/Process.py#511\" target=\"_blank\"><span style=\"color: #7f7f7f; text-decoration-color: #7f7f7f\">511</span></a>\n",
       "</pre>\n"
      ],
      "text/plain": [
       "\u001b[2;36m[12/07/24 12:21:35]\u001b[0m\u001b[2;36m \u001b[0m\u001b[34mINFO    \u001b[0m \u001b[94mcreate_matrix\u001b[0m Generating contact maps for baseline                      \u001b]8;id=219885;file:///n/home09/pren/3DGeno_tools/src/gt3d/modules/higashi/Process.py\u001b\\\u001b[2mProcess.py\u001b[0m\u001b]8;;\u001b\\\u001b[2m:\u001b[0m\u001b]8;id=497049;file:///n/home09/pren/3DGeno_tools/src/gt3d/modules/higashi/Process.py#511\u001b\\\u001b[2m511\u001b[0m\u001b]8;;\u001b\\\n"
      ]
     },
     "metadata": {},
     "output_type": "display_data"
    },
    {
     "data": {
      "application/vnd.jupyter.widget-view+json": {
       "model_id": "ddd3db73480a435aa8649593215a8a3f",
       "version_major": 2,
       "version_minor": 0
      },
      "text/plain": [
       "Output()"
      ]
     },
     "metadata": {},
     "output_type": "display_data"
    },
    {
     "data": {
      "text/html": [
       "<pre style=\"white-space:pre;overflow-x:auto;line-height:normal;font-family:Menlo,'DejaVu Sans Mono',consolas,'Courier New',monospace\"></pre>\n"
      ],
      "text/plain": []
     },
     "metadata": {},
     "output_type": "display_data"
    },
    {
     "data": {
      "text/html": [
       "<pre style=\"white-space:pre;overflow-x:auto;line-height:normal;font-family:Menlo,'DejaVu Sans Mono',consolas,'Courier New',monospace\"><span style=\"color: #7fbfbf; text-decoration-color: #7fbfbf\">                    </span><span style=\"color: #000080; text-decoration-color: #000080\">INFO    </span> <span style=\"color: #0000ff; text-decoration-color: #0000ff\">create_matrix</span> Data loaded                                               <a href=\"file:///n/home09/pren/3DGeno_tools/src/gt3d/modules/higashi/Process.py\" target=\"_blank\"><span style=\"color: #7f7f7f; text-decoration-color: #7f7f7f\">Process.py</span></a><span style=\"color: #7f7f7f; text-decoration-color: #7f7f7f\">:</span><a href=\"file:///n/home09/pren/3DGeno_tools/src/gt3d/modules/higashi/Process.py#516\" target=\"_blank\"><span style=\"color: #7f7f7f; text-decoration-color: #7f7f7f\">516</span></a>\n",
       "</pre>\n"
      ],
      "text/plain": [
       "\u001b[2;36m                   \u001b[0m\u001b[2;36m \u001b[0m\u001b[34mINFO    \u001b[0m \u001b[94mcreate_matrix\u001b[0m Data loaded                                               \u001b]8;id=749101;file:///n/home09/pren/3DGeno_tools/src/gt3d/modules/higashi/Process.py\u001b\\\u001b[2mProcess.py\u001b[0m\u001b]8;;\u001b\\\u001b[2m:\u001b[0m\u001b]8;id=185986;file:///n/home09/pren/3DGeno_tools/src/gt3d/modules/higashi/Process.py#516\u001b\\\u001b[2m516\u001b[0m\u001b]8;;\u001b\\\n"
      ]
     },
     "metadata": {},
     "output_type": "display_data"
    },
    {
     "data": {
      "text/html": [
       "<pre style=\"white-space:pre;overflow-x:auto;line-height:normal;font-family:Menlo,'DejaVu Sans Mono',consolas,'Courier New',monospace\"><span style=\"color: #7fbfbf; text-decoration-color: #7fbfbf\">                    </span><span style=\"color: #000080; text-decoration-color: #000080\">INFO    </span> <span style=\"color: #0000ff; text-decoration-color: #0000ff\">create_matrix</span> Data size: <span style=\"color: #008080; text-decoration-color: #008080; font-weight: bold\">796</span>,<span style=\"color: #008080; text-decoration-color: #008080; font-weight: bold\">458</span>                                        <a href=\"file:///n/home09/pren/3DGeno_tools/src/gt3d/modules/higashi/Process.py\" target=\"_blank\"><span style=\"color: #7f7f7f; text-decoration-color: #7f7f7f\">Process.py</span></a><span style=\"color: #7f7f7f; text-decoration-color: #7f7f7f\">:</span><a href=\"file:///n/home09/pren/3DGeno_tools/src/gt3d/modules/higashi/Process.py#535\" target=\"_blank\"><span style=\"color: #7f7f7f; text-decoration-color: #7f7f7f\">535</span></a>\n",
       "</pre>\n"
      ],
      "text/plain": [
       "\u001b[2;36m                   \u001b[0m\u001b[2;36m \u001b[0m\u001b[34mINFO    \u001b[0m \u001b[94mcreate_matrix\u001b[0m Data size: \u001b[1;36m796\u001b[0m,\u001b[1;36m458\u001b[0m                                        \u001b]8;id=374163;file:///n/home09/pren/3DGeno_tools/src/gt3d/modules/higashi/Process.py\u001b\\\u001b[2mProcess.py\u001b[0m\u001b]8;;\u001b\\\u001b[2m:\u001b[0m\u001b]8;id=826135;file:///n/home09/pren/3DGeno_tools/src/gt3d/modules/higashi/Process.py#535\u001b\\\u001b[2m535\u001b[0m\u001b]8;;\u001b\\\n"
      ]
     },
     "metadata": {},
     "output_type": "display_data"
    },
    {
     "data": {
      "application/vnd.jupyter.widget-view+json": {
       "model_id": "92c9cd18738045f8816c8359ac6c8fb6",
       "version_major": 2,
       "version_minor": 0
      },
      "text/plain": [
       "Output()"
      ]
     },
     "metadata": {},
     "output_type": "display_data"
    },
    {
     "data": {
      "text/html": [
       "<pre style=\"white-space:pre;overflow-x:auto;line-height:normal;font-family:Menlo,'DejaVu Sans Mono',consolas,'Courier New',monospace\"></pre>\n"
      ],
      "text/plain": []
     },
     "metadata": {},
     "output_type": "display_data"
    },
    {
     "data": {
      "text/html": [
       "<pre style=\"white-space:pre;overflow-x:auto;line-height:normal;font-family:Menlo,'DejaVu Sans Mono',consolas,'Courier New',monospace\"><span style=\"color: #7fbfbf; text-decoration-color: #7fbfbf\">[12/07/24 12:23:28] </span><span style=\"color: #000080; text-decoration-color: #000080\">INFO    </span> <span style=\"color: #0000ff; text-decoration-color: #0000ff\">create_matrix</span> total_embed_size: <span style=\"color: #008080; text-decoration-color: #008080; font-weight: bold\">1</span>,<span style=\"color: #008080; text-decoration-color: #008080; font-weight: bold\">210</span>                                   <a href=\"file:///n/home09/pren/3DGeno_tools/src/gt3d/modules/higashi/Process.py\" target=\"_blank\"><span style=\"color: #7f7f7f; text-decoration-color: #7f7f7f\">Process.py</span></a><span style=\"color: #7f7f7f; text-decoration-color: #7f7f7f\">:</span><a href=\"file:///n/home09/pren/3DGeno_tools/src/gt3d/modules/higashi/Process.py#789\" target=\"_blank\"><span style=\"color: #7f7f7f; text-decoration-color: #7f7f7f\">789</span></a>\n",
       "</pre>\n"
      ],
      "text/plain": [
       "\u001b[2;36m[12/07/24 12:23:28]\u001b[0m\u001b[2;36m \u001b[0m\u001b[34mINFO    \u001b[0m \u001b[94mcreate_matrix\u001b[0m total_embed_size: \u001b[1;36m1\u001b[0m,\u001b[1;36m210\u001b[0m                                   \u001b]8;id=821500;file:///n/home09/pren/3DGeno_tools/src/gt3d/modules/higashi/Process.py\u001b\\\u001b[2mProcess.py\u001b[0m\u001b]8;;\u001b\\\u001b[2m:\u001b[0m\u001b]8;id=358606;file:///n/home09/pren/3DGeno_tools/src/gt3d/modules/higashi/Process.py#789\u001b\\\u001b[2m789\u001b[0m\u001b]8;;\u001b\\\n"
      ]
     },
     "metadata": {},
     "output_type": "display_data"
    },
    {
     "data": {
      "application/vnd.jupyter.widget-view+json": {
       "model_id": "cac6360f41c347b887897e7fb209dd07",
       "version_major": 2,
       "version_minor": 0
      },
      "text/plain": [
       "Output()"
      ]
     },
     "metadata": {},
     "output_type": "display_data"
    },
    {
     "data": {
      "text/html": [
       "<pre style=\"white-space:pre;overflow-x:auto;line-height:normal;font-family:Menlo,'DejaVu Sans Mono',consolas,'Courier New',monospace\"></pre>\n"
      ],
      "text/plain": []
     },
     "metadata": {},
     "output_type": "display_data"
    }
   ],
   "source": [
    "# Data processing (only needs to be run for once)\n",
    "higashi_model.process_data()\n",
    "\n"
   ]
  },
  {
   "cell_type": "code",
   "execution_count": 18,
   "id": "8ac62b1b-4d00-43be-8bfc-bd14499ebfff",
   "metadata": {},
   "outputs": [
    {
     "data": {
      "text/html": [
       "<pre style=\"white-space:pre;overflow-x:auto;line-height:normal;font-family:Menlo,'DejaVu Sans Mono',consolas,'Courier New',monospace\"><span style=\"color: #7fbfbf; text-decoration-color: #7fbfbf\">[12/07/24 12:23:30] </span><span style=\"color: #000080; text-decoration-color: #000080\">INFO    </span> <span style=\"color: #0000ff; text-decoration-color: #0000ff\">fetch_info_from_config</span> #CPU: <span style=\"color: #008080; text-decoration-color: #008080; font-weight: bold\">10</span>                                 <a href=\"file:///n/home09/pren/3DGeno_tools/src/gt3d/modules/higashi/Higashi_wrapper.py\" target=\"_blank\"><span style=\"color: #7f7f7f; text-decoration-color: #7f7f7f\">Higashi_wrapper.py</span></a><span style=\"color: #7f7f7f; text-decoration-color: #7f7f7f\">:</span><a href=\"file:///n/home09/pren/3DGeno_tools/src/gt3d/modules/higashi/Higashi_wrapper.py#607\" target=\"_blank\"><span style=\"color: #7f7f7f; text-decoration-color: #7f7f7f\">607</span></a>\n",
       "</pre>\n"
      ],
      "text/plain": [
       "\u001b[2;36m[12/07/24 12:23:30]\u001b[0m\u001b[2;36m \u001b[0m\u001b[34mINFO    \u001b[0m \u001b[94mfetch_info_from_config\u001b[0m #CPU: \u001b[1;36m10\u001b[0m                                 \u001b]8;id=619183;file:///n/home09/pren/3DGeno_tools/src/gt3d/modules/higashi/Higashi_wrapper.py\u001b\\\u001b[2mHigashi_wrapper.py\u001b[0m\u001b]8;;\u001b\\\u001b[2m:\u001b[0m\u001b]8;id=60021;file:///n/home09/pren/3DGeno_tools/src/gt3d/modules/higashi/Higashi_wrapper.py#607\u001b\\\u001b[2m607\u001b[0m\u001b]8;;\u001b\\\n"
      ]
     },
     "metadata": {},
     "output_type": "display_data"
    },
    {
     "data": {
      "text/html": [
       "<pre style=\"white-space:pre;overflow-x:auto;line-height:normal;font-family:Menlo,'DejaVu Sans Mono',consolas,'Courier New',monospace\"><span style=\"color: #7fbfbf; text-decoration-color: #7fbfbf\">                    </span><span style=\"color: #000080; text-decoration-color: #000080\">INFO    </span> <span style=\"color: #0000ff; text-decoration-color: #0000ff\">get_free_gpu</span> setting to gpu:<span style=\"color: #008080; text-decoration-color: #008080; font-weight: bold\">0</span>                                    <a href=\"file:///n/home09/pren/3DGeno_tools/src/gt3d/modules/higashi/Higashi_wrapper.py\" target=\"_blank\"><span style=\"color: #7f7f7f; text-decoration-color: #7f7f7f\">Higashi_wrapper.py</span></a><span style=\"color: #7f7f7f; text-decoration-color: #7f7f7f\">:</span><a href=\"file:///n/home09/pren/3DGeno_tools/src/gt3d/modules/higashi/Higashi_wrapper.py#68\" target=\"_blank\"><span style=\"color: #7f7f7f; text-decoration-color: #7f7f7f\">68</span></a>\n",
       "</pre>\n"
      ],
      "text/plain": [
       "\u001b[2;36m                   \u001b[0m\u001b[2;36m \u001b[0m\u001b[34mINFO    \u001b[0m \u001b[94mget_free_gpu\u001b[0m setting to gpu:\u001b[1;36m0\u001b[0m                                    \u001b]8;id=966841;file:///n/home09/pren/3DGeno_tools/src/gt3d/modules/higashi/Higashi_wrapper.py\u001b\\\u001b[2mHigashi_wrapper.py\u001b[0m\u001b]8;;\u001b\\\u001b[2m:\u001b[0m\u001b]8;id=876817;file:///n/home09/pren/3DGeno_tools/src/gt3d/modules/higashi/Higashi_wrapper.py#68\u001b\\\u001b[2m68\u001b[0m\u001b]8;;\u001b\\\n"
      ]
     },
     "metadata": {},
     "output_type": "display_data"
    },
    {
     "data": {
      "text/html": [
       "<pre style=\"white-space:pre;overflow-x:auto;line-height:normal;font-family:Menlo,'DejaVu Sans Mono',consolas,'Courier New',monospace\"><span style=\"color: #7fbfbf; text-decoration-color: #7fbfbf\">                    </span><span style=\"color: #000080; text-decoration-color: #000080\">INFO    </span> <span style=\"color: #0000ff; text-decoration-color: #0000ff\">fetch_info_from_config</span> Training on data from: <span style=\"font-weight: bold\">[</span><span style=\"color: #008000; text-decoration-color: #008000\">'chr1'</span>, <span style=\"color: #008000; text-decoration-color: #008000\">'chr10'</span>, <a href=\"file:///n/home09/pren/3DGeno_tools/src/gt3d/modules/higashi/Higashi_wrapper.py\" target=\"_blank\"><span style=\"color: #7f7f7f; text-decoration-color: #7f7f7f\">Higashi_wrapper.py</span></a><span style=\"color: #7f7f7f; text-decoration-color: #7f7f7f\">:</span><a href=\"file:///n/home09/pren/3DGeno_tools/src/gt3d/modules/higashi/Higashi_wrapper.py#627\" target=\"_blank\"><span style=\"color: #7f7f7f; text-decoration-color: #7f7f7f\">627</span></a>\n",
       "<span style=\"color: #7fbfbf; text-decoration-color: #7fbfbf\">                    </span>         <span style=\"color: #008000; text-decoration-color: #008000\">'chr11'</span>, <span style=\"color: #008000; text-decoration-color: #008000\">'chr12'</span>, <span style=\"color: #008000; text-decoration-color: #008000\">'chr13'</span>, <span style=\"color: #008000; text-decoration-color: #008000\">'chr14'</span>, <span style=\"color: #008000; text-decoration-color: #008000\">'chr15'</span>, <span style=\"color: #008000; text-decoration-color: #008000\">'chr17'</span>, <span style=\"color: #008000; text-decoration-color: #008000\">'chr18'</span>,  <span style=\"color: #7f7f7f; text-decoration-color: #7f7f7f\">                      </span>\n",
       "<span style=\"color: #7fbfbf; text-decoration-color: #7fbfbf\">                    </span>         <span style=\"color: #008000; text-decoration-color: #008000\">'chr3'</span>, <span style=\"color: #008000; text-decoration-color: #008000\">'chr4'</span>, <span style=\"color: #008000; text-decoration-color: #008000\">'chr5'</span>, <span style=\"color: #008000; text-decoration-color: #008000\">'chr6'</span>, <span style=\"color: #008000; text-decoration-color: #008000\">'chr7'</span>, <span style=\"color: #008000; text-decoration-color: #008000\">'chr9'</span>, <span style=\"color: #008000; text-decoration-color: #008000\">'chr16'</span>,        <span style=\"color: #7f7f7f; text-decoration-color: #7f7f7f\">                      </span>\n",
       "<span style=\"color: #7fbfbf; text-decoration-color: #7fbfbf\">                    </span>         <span style=\"color: #008000; text-decoration-color: #008000\">'chr19'</span>, <span style=\"color: #008000; text-decoration-color: #008000\">'chr2'</span>, <span style=\"color: #008000; text-decoration-color: #008000\">'chr8'</span>, <span style=\"color: #008000; text-decoration-color: #008000\">'chrX'</span><span style=\"font-weight: bold\">]</span>                                <span style=\"color: #7f7f7f; text-decoration-color: #7f7f7f\">                      </span>\n",
       "</pre>\n"
      ],
      "text/plain": [
       "\u001b[2;36m                   \u001b[0m\u001b[2;36m \u001b[0m\u001b[34mINFO    \u001b[0m \u001b[94mfetch_info_from_config\u001b[0m Training on data from: \u001b[1m[\u001b[0m\u001b[32m'chr1'\u001b[0m, \u001b[32m'chr10'\u001b[0m, \u001b]8;id=141527;file:///n/home09/pren/3DGeno_tools/src/gt3d/modules/higashi/Higashi_wrapper.py\u001b\\\u001b[2mHigashi_wrapper.py\u001b[0m\u001b]8;;\u001b\\\u001b[2m:\u001b[0m\u001b]8;id=617803;file:///n/home09/pren/3DGeno_tools/src/gt3d/modules/higashi/Higashi_wrapper.py#627\u001b\\\u001b[2m627\u001b[0m\u001b]8;;\u001b\\\n",
       "\u001b[2;36m                    \u001b[0m         \u001b[32m'chr11'\u001b[0m, \u001b[32m'chr12'\u001b[0m, \u001b[32m'chr13'\u001b[0m, \u001b[32m'chr14'\u001b[0m, \u001b[32m'chr15'\u001b[0m, \u001b[32m'chr17'\u001b[0m, \u001b[32m'chr18'\u001b[0m,  \u001b[2m                      \u001b[0m\n",
       "\u001b[2;36m                    \u001b[0m         \u001b[32m'chr3'\u001b[0m, \u001b[32m'chr4'\u001b[0m, \u001b[32m'chr5'\u001b[0m, \u001b[32m'chr6'\u001b[0m, \u001b[32m'chr7'\u001b[0m, \u001b[32m'chr9'\u001b[0m, \u001b[32m'chr16'\u001b[0m,        \u001b[2m                      \u001b[0m\n",
       "\u001b[2;36m                    \u001b[0m         \u001b[32m'chr19'\u001b[0m, \u001b[32m'chr2'\u001b[0m, \u001b[32m'chr8'\u001b[0m, \u001b[32m'chrX'\u001b[0m\u001b[1m]\u001b[0m                                \u001b[2m                      \u001b[0m\n"
      ]
     },
     "metadata": {},
     "output_type": "display_data"
    },
    {
     "data": {
      "text/html": [
       "<pre style=\"white-space:pre;overflow-x:auto;line-height:normal;font-family:Menlo,'DejaVu Sans Mono',consolas,'Courier New',monospace\"><span style=\"color: #7fbfbf; text-decoration-color: #7fbfbf\">                    </span><span style=\"color: #000080; text-decoration-color: #000080\">INFO    </span> <span style=\"color: #0000ff; text-decoration-color: #0000ff\">prep_model</span> total_sparsity_cell = <span style=\"color: #008080; text-decoration-color: #008080; font-weight: bold\">4.2570400800323534e-05</span>         <a href=\"file:///n/home09/pren/3DGeno_tools/src/gt3d/modules/higashi/Higashi_wrapper.py\" target=\"_blank\"><span style=\"color: #7f7f7f; text-decoration-color: #7f7f7f\">Higashi_wrapper.py</span></a><span style=\"color: #7f7f7f; text-decoration-color: #7f7f7f\">:</span><a href=\"file:///n/home09/pren/3DGeno_tools/src/gt3d/modules/higashi/Higashi_wrapper.py#811\" target=\"_blank\"><span style=\"color: #7f7f7f; text-decoration-color: #7f7f7f\">811</span></a>\n",
       "</pre>\n"
      ],
      "text/plain": [
       "\u001b[2;36m                   \u001b[0m\u001b[2;36m \u001b[0m\u001b[34mINFO    \u001b[0m \u001b[94mprep_model\u001b[0m total_sparsity_cell = \u001b[1;36m4.2570400800323534e-05\u001b[0m         \u001b]8;id=122017;file:///n/home09/pren/3DGeno_tools/src/gt3d/modules/higashi/Higashi_wrapper.py\u001b\\\u001b[2mHigashi_wrapper.py\u001b[0m\u001b]8;;\u001b\\\u001b[2m:\u001b[0m\u001b]8;id=51569;file:///n/home09/pren/3DGeno_tools/src/gt3d/modules/higashi/Higashi_wrapper.py#811\u001b\\\u001b[2m811\u001b[0m\u001b]8;;\u001b\\\n"
      ]
     },
     "metadata": {},
     "output_type": "display_data"
    },
    {
     "data": {
      "text/html": [
       "<pre style=\"white-space:pre;overflow-x:auto;line-height:normal;font-family:Menlo,'DejaVu Sans Mono',consolas,'Courier New',monospace\"><span style=\"color: #7fbfbf; text-decoration-color: #7fbfbf\">                    </span><span style=\"color: #000080; text-decoration-color: #000080\">INFO    </span> <span style=\"color: #0000ff; text-decoration-color: #0000ff\">prep_model</span> No contractive loss                                  <a href=\"file:///n/home09/pren/3DGeno_tools/src/gt3d/modules/higashi/Higashi_wrapper.py\" target=\"_blank\"><span style=\"color: #7f7f7f; text-decoration-color: #7f7f7f\">Higashi_wrapper.py</span></a><span style=\"color: #7f7f7f; text-decoration-color: #7f7f7f\">:</span><a href=\"file:///n/home09/pren/3DGeno_tools/src/gt3d/modules/higashi/Higashi_wrapper.py#823\" target=\"_blank\"><span style=\"color: #7f7f7f; text-decoration-color: #7f7f7f\">823</span></a>\n",
       "</pre>\n"
      ],
      "text/plain": [
       "\u001b[2;36m                   \u001b[0m\u001b[2;36m \u001b[0m\u001b[34mINFO    \u001b[0m \u001b[94mprep_model\u001b[0m No contractive loss                                  \u001b]8;id=649778;file:///n/home09/pren/3DGeno_tools/src/gt3d/modules/higashi/Higashi_wrapper.py\u001b\\\u001b[2mHigashi_wrapper.py\u001b[0m\u001b]8;;\u001b\\\u001b[2m:\u001b[0m\u001b]8;id=904825;file:///n/home09/pren/3DGeno_tools/src/gt3d/modules/higashi/Higashi_wrapper.py#823\u001b\\\u001b[2m823\u001b[0m\u001b]8;;\u001b\\\n"
      ]
     },
     "metadata": {},
     "output_type": "display_data"
    },
    {
     "data": {
      "text/html": [
       "<pre style=\"white-space:pre;overflow-x:auto;line-height:normal;font-family:Menlo,'DejaVu Sans Mono',consolas,'Courier New',monospace\"><span style=\"color: #7fbfbf; text-decoration-color: #7fbfbf\">                    </span><span style=\"color: #000080; text-decoration-color: #000080\">INFO    </span> <span style=\"color: #0000ff; text-decoration-color: #0000ff\">prep_model</span> batch_size = <span style=\"color: #008080; text-decoration-color: #008080; font-weight: bold\">256</span>                                     <a href=\"file:///n/home09/pren/3DGeno_tools/src/gt3d/modules/higashi/Higashi_wrapper.py\" target=\"_blank\"><span style=\"color: #7f7f7f; text-decoration-color: #7f7f7f\">Higashi_wrapper.py</span></a><span style=\"color: #7f7f7f; text-decoration-color: #7f7f7f\">:</span><a href=\"file:///n/home09/pren/3DGeno_tools/src/gt3d/modules/higashi/Higashi_wrapper.py#835\" target=\"_blank\"><span style=\"color: #7f7f7f; text-decoration-color: #7f7f7f\">835</span></a>\n",
       "</pre>\n"
      ],
      "text/plain": [
       "\u001b[2;36m                   \u001b[0m\u001b[2;36m \u001b[0m\u001b[34mINFO    \u001b[0m \u001b[94mprep_model\u001b[0m batch_size = \u001b[1;36m256\u001b[0m                                     \u001b]8;id=587579;file:///n/home09/pren/3DGeno_tools/src/gt3d/modules/higashi/Higashi_wrapper.py\u001b\\\u001b[2mHigashi_wrapper.py\u001b[0m\u001b]8;;\u001b\\\u001b[2m:\u001b[0m\u001b]8;id=539131;file:///n/home09/pren/3DGeno_tools/src/gt3d/modules/higashi/Higashi_wrapper.py#835\u001b\\\u001b[2m835\u001b[0m\u001b]8;;\u001b\\\n"
      ]
     },
     "metadata": {},
     "output_type": "display_data"
    },
    {
     "data": {
      "text/html": [
       "<pre style=\"white-space:pre;overflow-x:auto;line-height:normal;font-family:Menlo,'DejaVu Sans Mono',consolas,'Courier New',monospace\"><span style=\"color: #7fbfbf; text-decoration-color: #7fbfbf\">                    </span><span style=\"color: #000080; text-decoration-color: #000080\">INFO    </span> <span style=\"color: #0000ff; text-decoration-color: #0000ff\">prep_model</span> Node type num <span style=\"font-weight: bold\">[</span><span style=\"color: #008080; text-decoration-color: #008080; font-weight: bold\">2420</span>   <span style=\"color: #008080; text-decoration-color: #008080; font-weight: bold\">79</span>   <span style=\"color: #008080; text-decoration-color: #008080; font-weight: bold\">53</span>   <span style=\"color: #008080; text-decoration-color: #008080; font-weight: bold\">49</span>   <span style=\"color: #008080; text-decoration-color: #008080; font-weight: bold\">49</span>   <span style=\"color: #008080; text-decoration-color: #008080; font-weight: bold\">49</span>   <span style=\"color: #008080; text-decoration-color: #008080; font-weight: bold\">50</span>    <a href=\"file:///n/home09/pren/3DGeno_tools/src/gt3d/modules/higashi/Higashi_wrapper.py\" target=\"_blank\"><span style=\"color: #7f7f7f; text-decoration-color: #7f7f7f\">Higashi_wrapper.py</span></a><span style=\"color: #7f7f7f; text-decoration-color: #7f7f7f\">:</span><a href=\"file:///n/home09/pren/3DGeno_tools/src/gt3d/modules/higashi/Higashi_wrapper.py#866\" target=\"_blank\"><span style=\"color: #7f7f7f; text-decoration-color: #7f7f7f\">866</span></a>\n",
       "<span style=\"color: #7fbfbf; text-decoration-color: #7fbfbf\">                    </span>         <span style=\"color: #008080; text-decoration-color: #008080; font-weight: bold\">42</span>   <span style=\"color: #008080; text-decoration-color: #008080; font-weight: bold\">38</span>   <span style=\"color: #008080; text-decoration-color: #008080; font-weight: bold\">37</span>   <span style=\"color: #008080; text-decoration-color: #008080; font-weight: bold\">65</span>   <span style=\"color: #008080; text-decoration-color: #008080; font-weight: bold\">63</span>   <span style=\"color: #008080; text-decoration-color: #008080; font-weight: bold\">61</span>   <span style=\"color: #008080; text-decoration-color: #008080; font-weight: bold\">60</span>                                <span style=\"color: #7f7f7f; text-decoration-color: #7f7f7f\">                      </span>\n",
       "<span style=\"color: #7fbfbf; text-decoration-color: #7fbfbf\">                    </span>            <span style=\"color: #008080; text-decoration-color: #008080; font-weight: bold\">59</span>   <span style=\"color: #008080; text-decoration-color: #008080; font-weight: bold\">50</span>   <span style=\"color: #008080; text-decoration-color: #008080; font-weight: bold\">40</span>   <span style=\"color: #008080; text-decoration-color: #008080; font-weight: bold\">25</span>   <span style=\"color: #008080; text-decoration-color: #008080; font-weight: bold\">73</span>   <span style=\"color: #008080; text-decoration-color: #008080; font-weight: bold\">52</span>   <span style=\"color: #008080; text-decoration-color: #008080; font-weight: bold\">69</span><span style=\"font-weight: bold\">]</span> <span style=\"font-weight: bold\">[</span><span style=\"color: #008080; text-decoration-color: #008080; font-weight: bold\">2420</span> <span style=\"color: #008080; text-decoration-color: #008080; font-weight: bold\">2499</span> <span style=\"color: #008080; text-decoration-color: #008080; font-weight: bold\">2552</span> <span style=\"color: #008080; text-decoration-color: #008080; font-weight: bold\">2601</span> <span style=\"color: #008080; text-decoration-color: #008080; font-weight: bold\">2650</span>  <span style=\"color: #7f7f7f; text-decoration-color: #7f7f7f\">                      </span>\n",
       "<span style=\"color: #7fbfbf; text-decoration-color: #7fbfbf\">                    </span>         <span style=\"color: #008080; text-decoration-color: #008080; font-weight: bold\">2699</span> <span style=\"color: #008080; text-decoration-color: #008080; font-weight: bold\">2749</span> <span style=\"color: #008080; text-decoration-color: #008080; font-weight: bold\">2791</span> <span style=\"color: #008080; text-decoration-color: #008080; font-weight: bold\">2829</span> <span style=\"color: #008080; text-decoration-color: #008080; font-weight: bold\">2866</span> <span style=\"color: #008080; text-decoration-color: #008080; font-weight: bold\">2931</span> <span style=\"color: #008080; text-decoration-color: #008080; font-weight: bold\">2994</span> <span style=\"color: #008080; text-decoration-color: #008080; font-weight: bold\">3055</span> <span style=\"color: #008080; text-decoration-color: #008080; font-weight: bold\">3115</span>                    <span style=\"color: #7f7f7f; text-decoration-color: #7f7f7f\">                      </span>\n",
       "<span style=\"color: #7fbfbf; text-decoration-color: #7fbfbf\">                    </span>          <span style=\"color: #008080; text-decoration-color: #008080; font-weight: bold\">3174</span> <span style=\"color: #008080; text-decoration-color: #008080; font-weight: bold\">3224</span> <span style=\"color: #008080; text-decoration-color: #008080; font-weight: bold\">3264</span> <span style=\"color: #008080; text-decoration-color: #008080; font-weight: bold\">3289</span> <span style=\"color: #008080; text-decoration-color: #008080; font-weight: bold\">3362</span> <span style=\"color: #008080; text-decoration-color: #008080; font-weight: bold\">3414</span> <span style=\"color: #008080; text-decoration-color: #008080; font-weight: bold\">3483</span><span style=\"font-weight: bold\">]</span>                            <span style=\"color: #7f7f7f; text-decoration-color: #7f7f7f\">                      </span>\n",
       "</pre>\n"
      ],
      "text/plain": [
       "\u001b[2;36m                   \u001b[0m\u001b[2;36m \u001b[0m\u001b[34mINFO    \u001b[0m \u001b[94mprep_model\u001b[0m Node type num \u001b[1m[\u001b[0m\u001b[1;36m2420\u001b[0m   \u001b[1;36m79\u001b[0m   \u001b[1;36m53\u001b[0m   \u001b[1;36m49\u001b[0m   \u001b[1;36m49\u001b[0m   \u001b[1;36m49\u001b[0m   \u001b[1;36m50\u001b[0m    \u001b]8;id=281600;file:///n/home09/pren/3DGeno_tools/src/gt3d/modules/higashi/Higashi_wrapper.py\u001b\\\u001b[2mHigashi_wrapper.py\u001b[0m\u001b]8;;\u001b\\\u001b[2m:\u001b[0m\u001b]8;id=245285;file:///n/home09/pren/3DGeno_tools/src/gt3d/modules/higashi/Higashi_wrapper.py#866\u001b\\\u001b[2m866\u001b[0m\u001b]8;;\u001b\\\n",
       "\u001b[2;36m                    \u001b[0m         \u001b[1;36m42\u001b[0m   \u001b[1;36m38\u001b[0m   \u001b[1;36m37\u001b[0m   \u001b[1;36m65\u001b[0m   \u001b[1;36m63\u001b[0m   \u001b[1;36m61\u001b[0m   \u001b[1;36m60\u001b[0m                                \u001b[2m                      \u001b[0m\n",
       "\u001b[2;36m                    \u001b[0m            \u001b[1;36m59\u001b[0m   \u001b[1;36m50\u001b[0m   \u001b[1;36m40\u001b[0m   \u001b[1;36m25\u001b[0m   \u001b[1;36m73\u001b[0m   \u001b[1;36m52\u001b[0m   \u001b[1;36m69\u001b[0m\u001b[1m]\u001b[0m \u001b[1m[\u001b[0m\u001b[1;36m2420\u001b[0m \u001b[1;36m2499\u001b[0m \u001b[1;36m2552\u001b[0m \u001b[1;36m2601\u001b[0m \u001b[1;36m2650\u001b[0m  \u001b[2m                      \u001b[0m\n",
       "\u001b[2;36m                    \u001b[0m         \u001b[1;36m2699\u001b[0m \u001b[1;36m2749\u001b[0m \u001b[1;36m2791\u001b[0m \u001b[1;36m2829\u001b[0m \u001b[1;36m2866\u001b[0m \u001b[1;36m2931\u001b[0m \u001b[1;36m2994\u001b[0m \u001b[1;36m3055\u001b[0m \u001b[1;36m3115\u001b[0m                    \u001b[2m                      \u001b[0m\n",
       "\u001b[2;36m                    \u001b[0m          \u001b[1;36m3174\u001b[0m \u001b[1;36m3224\u001b[0m \u001b[1;36m3264\u001b[0m \u001b[1;36m3289\u001b[0m \u001b[1;36m3362\u001b[0m \u001b[1;36m3414\u001b[0m \u001b[1;36m3483\u001b[0m\u001b[1m]\u001b[0m                            \u001b[2m                      \u001b[0m\n"
      ]
     },
     "metadata": {},
     "output_type": "display_data"
    },
    {
     "data": {
      "text/html": [
       "<pre style=\"white-space:pre;overflow-x:auto;line-height:normal;font-family:Menlo,'DejaVu Sans Mono',consolas,'Courier New',monospace\"><span style=\"color: #7fbfbf; text-decoration-color: #7fbfbf\">[12/07/24 12:23:31] </span><span style=\"color: #000080; text-decoration-color: #000080\">INFO    </span> <span style=\"color: #0000ff; text-decoration-color: #0000ff\">generate_attributes</span> Start making attribute                      <a href=\"file:///n/home09/pren/3DGeno_tools/src/gt3d/modules/higashi/Higashi_wrapper.py\" target=\"_blank\"><span style=\"color: #7f7f7f; text-decoration-color: #7f7f7f\">Higashi_wrapper.py</span></a><span style=\"color: #7f7f7f; text-decoration-color: #7f7f7f\">:</span><a href=\"file:///n/home09/pren/3DGeno_tools/src/gt3d/modules/higashi/Higashi_wrapper.py#756\" target=\"_blank\"><span style=\"color: #7f7f7f; text-decoration-color: #7f7f7f\">756</span></a>\n",
       "</pre>\n"
      ],
      "text/plain": [
       "\u001b[2;36m[12/07/24 12:23:31]\u001b[0m\u001b[2;36m \u001b[0m\u001b[34mINFO    \u001b[0m \u001b[94mgenerate_attributes\u001b[0m Start making attribute                      \u001b]8;id=904488;file:///n/home09/pren/3DGeno_tools/src/gt3d/modules/higashi/Higashi_wrapper.py\u001b\\\u001b[2mHigashi_wrapper.py\u001b[0m\u001b]8;;\u001b\\\u001b[2m:\u001b[0m\u001b]8;id=627301;file:///n/home09/pren/3DGeno_tools/src/gt3d/modules/higashi/Higashi_wrapper.py#756\u001b\\\u001b[2m756\u001b[0m\u001b]8;;\u001b\\\n"
      ]
     },
     "metadata": {},
     "output_type": "display_data"
    },
    {
     "data": {
      "application/vnd.jupyter.widget-view+json": {
       "model_id": "4f739ec4d1794bde97b1c97f98dcdfc4",
       "version_major": 2,
       "version_minor": 0
      },
      "text/plain": [
       "Output()"
      ]
     },
     "metadata": {},
     "output_type": "display_data"
    },
    {
     "data": {
      "text/html": [
       "<pre style=\"white-space:pre;overflow-x:auto;line-height:normal;font-family:Menlo,'DejaVu Sans Mono',consolas,'Courier New',monospace\"></pre>\n"
      ],
      "text/plain": []
     },
     "metadata": {},
     "output_type": "display_data"
    },
    {
     "data": {
      "text/html": [
       "<pre style=\"white-space:pre;overflow-x:auto;line-height:normal;font-family:Menlo,'DejaVu Sans Mono',consolas,'Courier New',monospace\"><span style=\"color: #7fbfbf; text-decoration-color: #7fbfbf\">[12/07/24 12:23:43] </span><span style=\"color: #000080; text-decoration-color: #000080\">INFO    </span> <span style=\"color: #0000ff; text-decoration-color: #0000ff\">fit</span> loss: <span style=\"color: #008080; text-decoration-color: #008080; font-weight: bold\">0.827387273311615</span> loss_best: <span style=\"color: #008080; text-decoration-color: #008080; font-weight: bold\">0.799375057220459</span> epochs: <span style=\"color: #008080; text-decoration-color: #008080; font-weight: bold\">99</span>     <a href=\"file:///n/home09/pren/3DGeno_tools/src/gt3d/modules/higashi/Higashi_backend/Modules.py\" target=\"_blank\"><span style=\"color: #7f7f7f; text-decoration-color: #7f7f7f\">Modules.py</span></a><span style=\"color: #7f7f7f; text-decoration-color: #7f7f7f\">:</span><a href=\"file:///n/home09/pren/3DGeno_tools/src/gt3d/modules/higashi/Higashi_backend/Modules.py#334\" target=\"_blank\"><span style=\"color: #7f7f7f; text-decoration-color: #7f7f7f\">334</span></a>\n",
       "</pre>\n"
      ],
      "text/plain": [
       "\u001b[2;36m[12/07/24 12:23:43]\u001b[0m\u001b[2;36m \u001b[0m\u001b[34mINFO    \u001b[0m \u001b[94mfit\u001b[0m loss: \u001b[1;36m0.827387273311615\u001b[0m loss_best: \u001b[1;36m0.799375057220459\u001b[0m epochs: \u001b[1;36m99\u001b[0m     \u001b]8;id=858264;file:///n/home09/pren/3DGeno_tools/src/gt3d/modules/higashi/Higashi_backend/Modules.py\u001b\\\u001b[2mModules.py\u001b[0m\u001b]8;;\u001b\\\u001b[2m:\u001b[0m\u001b]8;id=558284;file:///n/home09/pren/3DGeno_tools/src/gt3d/modules/higashi/Higashi_backend/Modules.py#334\u001b\\\u001b[2m334\u001b[0m\u001b]8;;\u001b\\\n"
      ]
     },
     "metadata": {},
     "output_type": "display_data"
    },
    {
     "data": {
      "text/html": [
       "<pre style=\"white-space:pre;overflow-x:auto;line-height:normal;font-family:Menlo,'DejaVu Sans Mono',consolas,'Courier New',monospace\"><span style=\"color: #7fbfbf; text-decoration-color: #7fbfbf\">                    </span><span style=\"color: #000080; text-decoration-color: #000080\">INFO    </span> <span style=\"color: #0000ff; text-decoration-color: #0000ff\">__init__</span> Initializing data generator                                   <a href=\"file:///n/home09/pren/3DGeno_tools/src/gt3d/modules/higashi/Higashi_backend/Modules.py\" target=\"_blank\"><span style=\"color: #7f7f7f; text-decoration-color: #7f7f7f\">Modules.py</span></a><span style=\"color: #7f7f7f; text-decoration-color: #7f7f7f\">:</span><a href=\"file:///n/home09/pren/3DGeno_tools/src/gt3d/modules/higashi/Higashi_backend/Modules.py#1177\" target=\"_blank\"><span style=\"color: #7f7f7f; text-decoration-color: #7f7f7f\">1177</span></a>\n",
       "</pre>\n"
      ],
      "text/plain": [
       "\u001b[2;36m                   \u001b[0m\u001b[2;36m \u001b[0m\u001b[34mINFO    \u001b[0m \u001b[94m__init__\u001b[0m Initializing data generator                                   \u001b]8;id=276297;file:///n/home09/pren/3DGeno_tools/src/gt3d/modules/higashi/Higashi_backend/Modules.py\u001b\\\u001b[2mModules.py\u001b[0m\u001b]8;;\u001b\\\u001b[2m:\u001b[0m\u001b]8;id=729188;file:///n/home09/pren/3DGeno_tools/src/gt3d/modules/higashi/Higashi_backend/Modules.py#1177\u001b\\\u001b[2m1177\u001b[0m\u001b]8;;\u001b\\\n"
      ]
     },
     "metadata": {},
     "output_type": "display_data"
    },
    {
     "data": {
      "text/html": [
       "<pre style=\"white-space:pre;overflow-x:auto;line-height:normal;font-family:Menlo,'DejaVu Sans Mono',consolas,'Courier New',monospace\"><span style=\"color: #7fbfbf; text-decoration-color: #7fbfbf\">                    </span><span style=\"color: #000080; text-decoration-color: #000080\">INFO    </span> <span style=\"color: #0000ff; text-decoration-color: #0000ff\">__init__</span> Initializing data generator                                   <a href=\"file:///n/home09/pren/3DGeno_tools/src/gt3d/modules/higashi/Higashi_backend/Modules.py\" target=\"_blank\"><span style=\"color: #7f7f7f; text-decoration-color: #7f7f7f\">Modules.py</span></a><span style=\"color: #7f7f7f; text-decoration-color: #7f7f7f\">:</span><a href=\"file:///n/home09/pren/3DGeno_tools/src/gt3d/modules/higashi/Higashi_backend/Modules.py#1177\" target=\"_blank\"><span style=\"color: #7f7f7f; text-decoration-color: #7f7f7f\">1177</span></a>\n",
       "</pre>\n"
      ],
      "text/plain": [
       "\u001b[2;36m                   \u001b[0m\u001b[2;36m \u001b[0m\u001b[34mINFO    \u001b[0m \u001b[94m__init__\u001b[0m Initializing data generator                                   \u001b]8;id=876776;file:///n/home09/pren/3DGeno_tools/src/gt3d/modules/higashi/Higashi_backend/Modules.py\u001b\\\u001b[2mModules.py\u001b[0m\u001b]8;;\u001b\\\u001b[2m:\u001b[0m\u001b]8;id=174992;file:///n/home09/pren/3DGeno_tools/src/gt3d/modules/higashi/Higashi_backend/Modules.py#1177\u001b\\\u001b[2m1177\u001b[0m\u001b]8;;\u001b\\\n"
      ]
     },
     "metadata": {},
     "output_type": "display_data"
    }
   ],
   "source": [
    "higashi_model.prep_model()"
   ]
  },
  {
   "cell_type": "code",
   "execution_count": 19,
   "id": "3a403c56",
   "metadata": {},
   "outputs": [
    {
     "data": {
      "text/html": [
       "<pre style=\"white-space:pre;overflow-x:auto;line-height:normal;font-family:Menlo,'DejaVu Sans Mono',consolas,'Courier New',monospace\"><span style=\"color: #7fbfbf; text-decoration-color: #7fbfbf\">                    </span><span style=\"color: #000080; text-decoration-color: #000080\">INFO    </span> <span style=\"color: #0000ff; text-decoration-color: #0000ff\">train_for_embeddings</span> <span style=\"color: #808000; text-decoration-color: #808000\">First stage training</span>                      <a href=\"file:///n/home09/pren/3DGeno_tools/src/gt3d/modules/higashi/Higashi_wrapper.py\" target=\"_blank\"><span style=\"color: #7f7f7f; text-decoration-color: #7f7f7f\">Higashi_wrapper.py</span></a><span style=\"color: #7f7f7f; text-decoration-color: #7f7f7f\">:</span><a href=\"file:///n/home09/pren/3DGeno_tools/src/gt3d/modules/higashi/Higashi_wrapper.py#1596\" target=\"_blank\"><span style=\"color: #7f7f7f; text-decoration-color: #7f7f7f\">1596</span></a>\n",
       "</pre>\n"
      ],
      "text/plain": [
       "\u001b[2;36m                   \u001b[0m\u001b[2;36m \u001b[0m\u001b[34mINFO    \u001b[0m \u001b[94mtrain_for_embeddings\u001b[0m \u001b[33mFirst stage training\u001b[0m                      \u001b]8;id=155426;file:///n/home09/pren/3DGeno_tools/src/gt3d/modules/higashi/Higashi_wrapper.py\u001b\\\u001b[2mHigashi_wrapper.py\u001b[0m\u001b]8;;\u001b\\\u001b[2m:\u001b[0m\u001b]8;id=746327;file:///n/home09/pren/3DGeno_tools/src/gt3d/modules/higashi/Higashi_wrapper.py#1596\u001b\\\u001b[2m1596\u001b[0m\u001b]8;;\u001b\\\n"
      ]
     },
     "metadata": {},
     "output_type": "display_data"
    },
    {
     "data": {
      "text/html": [
       "<pre style=\"white-space:pre;overflow-x:auto;line-height:normal;font-family:Menlo,'DejaVu Sans Mono',consolas,'Courier New',monospace\"><span style=\"color: #7fbfbf; text-decoration-color: #7fbfbf\">[12/07/24 12:23:44] </span><span style=\"color: #000080; text-decoration-color: #000080\">INFO    </span> <span style=\"color: #0000ff; text-decoration-color: #0000ff\">train</span> <span style=\"font-weight: bold\">[</span> Epoch <span style=\"color: #008080; text-decoration-color: #008080; font-weight: bold\">0</span> of <span style=\"color: #008080; text-decoration-color: #008080; font-weight: bold\">200</span> <span style=\"font-weight: bold\">]</span>                                       <a href=\"file:///n/home09/pren/3DGeno_tools/src/gt3d/modules/higashi/Higashi_wrapper.py\" target=\"_blank\"><span style=\"color: #7f7f7f; text-decoration-color: #7f7f7f\">Higashi_wrapper.py</span></a><span style=\"color: #7f7f7f; text-decoration-color: #7f7f7f\">:</span><a href=\"file:///n/home09/pren/3DGeno_tools/src/gt3d/modules/higashi/Higashi_wrapper.py#1245\" target=\"_blank\"><span style=\"color: #7f7f7f; text-decoration-color: #7f7f7f\">1245</span></a>\n",
       "</pre>\n"
      ],
      "text/plain": [
       "\u001b[2;36m[12/07/24 12:23:44]\u001b[0m\u001b[2;36m \u001b[0m\u001b[34mINFO    \u001b[0m \u001b[94mtrain\u001b[0m \u001b[1m[\u001b[0m Epoch \u001b[1;36m0\u001b[0m of \u001b[1;36m200\u001b[0m \u001b[1m]\u001b[0m                                       \u001b]8;id=401726;file:///n/home09/pren/3DGeno_tools/src/gt3d/modules/higashi/Higashi_wrapper.py\u001b\\\u001b[2mHigashi_wrapper.py\u001b[0m\u001b]8;;\u001b\\\u001b[2m:\u001b[0m\u001b]8;id=811427;file:///n/home09/pren/3DGeno_tools/src/gt3d/modules/higashi/Higashi_wrapper.py#1245\u001b\\\u001b[2m1245\u001b[0m\u001b]8;;\u001b\\\n"
      ]
     },
     "metadata": {},
     "output_type": "display_data"
    },
    {
     "data": {
      "application/vnd.jupyter.widget-view+json": {
       "model_id": "16070a1f786e404187450f49f424c956",
       "version_major": 2,
       "version_minor": 0
      },
      "text/plain": [
       "Output()"
      ]
     },
     "metadata": {},
     "output_type": "display_data"
    },
    {
     "data": {
      "text/html": [
       "<pre style=\"white-space:pre;overflow-x:auto;line-height:normal;font-family:Menlo,'DejaVu Sans Mono',consolas,'Courier New',monospace\"></pre>\n"
      ],
      "text/plain": []
     },
     "metadata": {},
     "output_type": "display_data"
    },
    {
     "data": {
      "text/html": [
       "<pre style=\"white-space:pre;overflow-x:auto;line-height:normal;font-family:Menlo,'DejaVu Sans Mono',consolas,'Courier New',monospace\"><span style=\"color: #7fbfbf; text-decoration-color: #7fbfbf\">[12/07/24 12:25:33] </span><span style=\"color: #000080; text-decoration-color: #000080\">INFO    </span> <span style=\"color: #0000ff; text-decoration-color: #0000ff\">train</span>  - <span style=\"font-weight: bold\">(</span>Train<span style=\"font-weight: bold\">)</span> bce:  <span style=\"color: #008080; text-decoration-color: #008080; font-weight: bold\">0.4422</span>, mse:  <span style=\"color: #008080; text-decoration-color: #008080; font-weight: bold\">0.8704</span>,  acc: <span style=\"color: #008080; text-decoration-color: #008080; font-weight: bold\">83.200</span> %,   <a href=\"file:///n/home09/pren/3DGeno_tools/src/gt3d/modules/higashi/Higashi_wrapper.py\" target=\"_blank\"><span style=\"color: #7f7f7f; text-decoration-color: #7f7f7f\">Higashi_wrapper.py</span></a><span style=\"color: #7f7f7f; text-decoration-color: #7f7f7f\">:</span><a href=\"file:///n/home09/pren/3DGeno_tools/src/gt3d/modules/higashi/Higashi_wrapper.py#1258\" target=\"_blank\"><span style=\"color: #7f7f7f; text-decoration-color: #7f7f7f\">1258</span></a>\n",
       "<span style=\"color: #7fbfbf; text-decoration-color: #7fbfbf\">                    </span>         pearson: <span style=\"color: #008080; text-decoration-color: #008080; font-weight: bold\">0.426</span>, spearman: <span style=\"color: #008080; text-decoration-color: #008080; font-weight: bold\">0.422</span>, elapse: <span style=\"color: #008080; text-decoration-color: #008080; font-weight: bold\">109.711</span> s             <span style=\"color: #7f7f7f; text-decoration-color: #7f7f7f\">                       </span>\n",
       "</pre>\n"
      ],
      "text/plain": [
       "\u001b[2;36m[12/07/24 12:25:33]\u001b[0m\u001b[2;36m \u001b[0m\u001b[34mINFO    \u001b[0m \u001b[94mtrain\u001b[0m  - \u001b[1m(\u001b[0mTrain\u001b[1m)\u001b[0m bce:  \u001b[1;36m0.4422\u001b[0m, mse:  \u001b[1;36m0.8704\u001b[0m,  acc: \u001b[1;36m83.200\u001b[0m %,   \u001b]8;id=923849;file:///n/home09/pren/3DGeno_tools/src/gt3d/modules/higashi/Higashi_wrapper.py\u001b\\\u001b[2mHigashi_wrapper.py\u001b[0m\u001b]8;;\u001b\\\u001b[2m:\u001b[0m\u001b]8;id=541613;file:///n/home09/pren/3DGeno_tools/src/gt3d/modules/higashi/Higashi_wrapper.py#1258\u001b\\\u001b[2m1258\u001b[0m\u001b]8;;\u001b\\\n",
       "\u001b[2;36m                    \u001b[0m         pearson: \u001b[1;36m0.426\u001b[0m, spearman: \u001b[1;36m0.422\u001b[0m, elapse: \u001b[1;36m109.711\u001b[0m s             \u001b[2m                       \u001b[0m\n"
      ]
     },
     "metadata": {},
     "output_type": "display_data"
    },
    {
     "data": {
      "application/vnd.jupyter.widget-view+json": {
       "model_id": "1f7640e3038348288ab53db877b3377d",
       "version_major": 2,
       "version_minor": 0
      },
      "text/plain": [
       "Output()"
      ]
     },
     "metadata": {},
     "output_type": "display_data"
    },
    {
     "data": {
      "text/html": [
       "<pre style=\"white-space:pre;overflow-x:auto;line-height:normal;font-family:Menlo,'DejaVu Sans Mono',consolas,'Courier New',monospace\"></pre>\n"
      ],
      "text/plain": []
     },
     "metadata": {},
     "output_type": "display_data"
    },
    {
     "data": {
      "text/html": [
       "<pre style=\"white-space:pre;overflow-x:auto;line-height:normal;font-family:Menlo,'DejaVu Sans Mono',consolas,'Courier New',monospace\"><span style=\"color: #7fbfbf; text-decoration-color: #7fbfbf\">[12/07/24 12:25:34] </span><span style=\"color: #000080; text-decoration-color: #000080\">INFO    </span> <span style=\"color: #0000ff; text-decoration-color: #0000ff\">train</span>  - <span style=\"font-weight: bold\">(</span>Valid<span style=\"font-weight: bold\">)</span> bce:  <span style=\"color: #008080; text-decoration-color: #008080; font-weight: bold\">0.4063</span>,  acc: <span style=\"color: #008080; text-decoration-color: #008080; font-weight: bold\">84.720</span> %,pearson: <span style=\"color: #008080; text-decoration-color: #008080; font-weight: bold\">0.513</span>,  <a href=\"file:///n/home09/pren/3DGeno_tools/src/gt3d/modules/higashi/Higashi_wrapper.py\" target=\"_blank\"><span style=\"color: #7f7f7f; text-decoration-color: #7f7f7f\">Higashi_wrapper.py</span></a><span style=\"color: #7f7f7f; text-decoration-color: #7f7f7f\">:</span><a href=\"file:///n/home09/pren/3DGeno_tools/src/gt3d/modules/higashi/Higashi_wrapper.py#1277\" target=\"_blank\"><span style=\"color: #7f7f7f; text-decoration-color: #7f7f7f\">1277</span></a>\n",
       "<span style=\"color: #7fbfbf; text-decoration-color: #7fbfbf\">                    </span>         spearman: <span style=\"color: #008080; text-decoration-color: #008080; font-weight: bold\">0.487</span>,elapse: <span style=\"color: #008080; text-decoration-color: #008080; font-weight: bold\">0.420</span> s                                <span style=\"color: #7f7f7f; text-decoration-color: #7f7f7f\">                       </span>\n",
       "</pre>\n"
      ],
      "text/plain": [
       "\u001b[2;36m[12/07/24 12:25:34]\u001b[0m\u001b[2;36m \u001b[0m\u001b[34mINFO    \u001b[0m \u001b[94mtrain\u001b[0m  - \u001b[1m(\u001b[0mValid\u001b[1m)\u001b[0m bce:  \u001b[1;36m0.4063\u001b[0m,  acc: \u001b[1;36m84.720\u001b[0m %,pearson: \u001b[1;36m0.513\u001b[0m,  \u001b]8;id=272986;file:///n/home09/pren/3DGeno_tools/src/gt3d/modules/higashi/Higashi_wrapper.py\u001b\\\u001b[2mHigashi_wrapper.py\u001b[0m\u001b]8;;\u001b\\\u001b[2m:\u001b[0m\u001b]8;id=569439;file:///n/home09/pren/3DGeno_tools/src/gt3d/modules/higashi/Higashi_wrapper.py#1277\u001b\\\u001b[2m1277\u001b[0m\u001b]8;;\u001b\\\n",
       "\u001b[2;36m                    \u001b[0m         spearman: \u001b[1;36m0.487\u001b[0m,elapse: \u001b[1;36m0.420\u001b[0m s                                \u001b[2m                       \u001b[0m\n"
      ]
     },
     "metadata": {},
     "output_type": "display_data"
    },
    {
     "data": {
      "text/html": [
       "<pre style=\"white-space:pre;overflow-x:auto;line-height:normal;font-family:Menlo,'DejaVu Sans Mono',consolas,'Courier New',monospace\"><span style=\"color: #7fbfbf; text-decoration-color: #7fbfbf\">[12/07/24 12:25:35] </span><span style=\"color: #000080; text-decoration-color: #000080\">INFO    </span> <span style=\"color: #0000ff; text-decoration-color: #0000ff\">train</span> update_rate: <span style=\"color: #008080; text-decoration-color: #008080; font-weight: bold\">0.000000</span>     <span style=\"color: #008080; text-decoration-color: #008080; font-weight: bold\">0.000000</span>        pair_ratio:    <a href=\"file:///n/home09/pren/3DGeno_tools/src/gt3d/modules/higashi/Higashi_wrapper.py\" target=\"_blank\"><span style=\"color: #7f7f7f; text-decoration-color: #7f7f7f\">Higashi_wrapper.py</span></a><span style=\"color: #7f7f7f; text-decoration-color: #7f7f7f\">:</span><a href=\"file:///n/home09/pren/3DGeno_tools/src/gt3d/modules/higashi/Higashi_wrapper.py#1323\" target=\"_blank\"><span style=\"color: #7f7f7f; text-decoration-color: #7f7f7f\">1323</span></a>\n",
       "<span style=\"color: #7fbfbf; text-decoration-color: #7fbfbf\">                    </span>         <span style=\"color: #008080; text-decoration-color: #008080; font-weight: bold\">0.1</span>                                                            <span style=\"color: #7f7f7f; text-decoration-color: #7f7f7f\">                       </span>\n",
       "</pre>\n"
      ],
      "text/plain": [
       "\u001b[2;36m[12/07/24 12:25:35]\u001b[0m\u001b[2;36m \u001b[0m\u001b[34mINFO    \u001b[0m \u001b[94mtrain\u001b[0m update_rate: \u001b[1;36m0.000000\u001b[0m     \u001b[1;36m0.000000\u001b[0m        pair_ratio:    \u001b]8;id=47570;file:///n/home09/pren/3DGeno_tools/src/gt3d/modules/higashi/Higashi_wrapper.py\u001b\\\u001b[2mHigashi_wrapper.py\u001b[0m\u001b]8;;\u001b\\\u001b[2m:\u001b[0m\u001b]8;id=650985;file:///n/home09/pren/3DGeno_tools/src/gt3d/modules/higashi/Higashi_wrapper.py#1323\u001b\\\u001b[2m1323\u001b[0m\u001b]8;;\u001b\\\n",
       "\u001b[2;36m                    \u001b[0m         \u001b[1;36m0.1\u001b[0m                                                            \u001b[2m                       \u001b[0m\n"
      ]
     },
     "metadata": {},
     "output_type": "display_data"
    },
    {
     "data": {
      "text/html": [
       "<pre style=\"white-space:pre;overflow-x:auto;line-height:normal;font-family:Menlo,'DejaVu Sans Mono',consolas,'Courier New',monospace\"><span style=\"color: #7fbfbf; text-decoration-color: #7fbfbf\">[12/07/24 12:25:36] </span><span style=\"color: #000080; text-decoration-color: #000080\">INFO    </span> <span style=\"color: #0000ff; text-decoration-color: #0000ff\">train</span> <span style=\"font-weight: bold\">[</span> Epoch <span style=\"color: #008080; text-decoration-color: #008080; font-weight: bold\">1</span> of <span style=\"color: #008080; text-decoration-color: #008080; font-weight: bold\">200</span> <span style=\"font-weight: bold\">]</span>                                       <a href=\"file:///n/home09/pren/3DGeno_tools/src/gt3d/modules/higashi/Higashi_wrapper.py\" target=\"_blank\"><span style=\"color: #7f7f7f; text-decoration-color: #7f7f7f\">Higashi_wrapper.py</span></a><span style=\"color: #7f7f7f; text-decoration-color: #7f7f7f\">:</span><a href=\"file:///n/home09/pren/3DGeno_tools/src/gt3d/modules/higashi/Higashi_wrapper.py#1245\" target=\"_blank\"><span style=\"color: #7f7f7f; text-decoration-color: #7f7f7f\">1245</span></a>\n",
       "</pre>\n"
      ],
      "text/plain": [
       "\u001b[2;36m[12/07/24 12:25:36]\u001b[0m\u001b[2;36m \u001b[0m\u001b[34mINFO    \u001b[0m \u001b[94mtrain\u001b[0m \u001b[1m[\u001b[0m Epoch \u001b[1;36m1\u001b[0m of \u001b[1;36m200\u001b[0m \u001b[1m]\u001b[0m                                       \u001b]8;id=118611;file:///n/home09/pren/3DGeno_tools/src/gt3d/modules/higashi/Higashi_wrapper.py\u001b\\\u001b[2mHigashi_wrapper.py\u001b[0m\u001b]8;;\u001b\\\u001b[2m:\u001b[0m\u001b]8;id=85307;file:///n/home09/pren/3DGeno_tools/src/gt3d/modules/higashi/Higashi_wrapper.py#1245\u001b\\\u001b[2m1245\u001b[0m\u001b]8;;\u001b\\\n"
      ]
     },
     "metadata": {},
     "output_type": "display_data"
    },
    {
     "data": {
      "application/vnd.jupyter.widget-view+json": {
       "model_id": "e651bd1cf8894c86b190c0ab5662cfc2",
       "version_major": 2,
       "version_minor": 0
      },
      "text/plain": [
       "Output()"
      ]
     },
     "metadata": {},
     "output_type": "display_data"
    },
    {
     "data": {
      "text/html": [
       "<pre style=\"white-space:pre;overflow-x:auto;line-height:normal;font-family:Menlo,'DejaVu Sans Mono',consolas,'Courier New',monospace\"></pre>\n"
      ],
      "text/plain": []
     },
     "metadata": {},
     "output_type": "display_data"
    },
    {
     "data": {
      "text/html": [
       "<pre style=\"white-space:pre;overflow-x:auto;line-height:normal;font-family:Menlo,'DejaVu Sans Mono',consolas,'Courier New',monospace\"><span style=\"color: #7fbfbf; text-decoration-color: #7fbfbf\">[12/07/24 12:27:21] </span><span style=\"color: #000080; text-decoration-color: #000080\">INFO    </span> <span style=\"color: #0000ff; text-decoration-color: #0000ff\">train</span>  - <span style=\"font-weight: bold\">(</span>Train<span style=\"font-weight: bold\">)</span> bce:  <span style=\"color: #008080; text-decoration-color: #008080; font-weight: bold\">0.3945</span>, mse:  <span style=\"color: #008080; text-decoration-color: #008080; font-weight: bold\">1.3203</span>,  acc: <span style=\"color: #008080; text-decoration-color: #008080; font-weight: bold\">85.453</span> %,   <a href=\"file:///n/home09/pren/3DGeno_tools/src/gt3d/modules/higashi/Higashi_wrapper.py\" target=\"_blank\"><span style=\"color: #7f7f7f; text-decoration-color: #7f7f7f\">Higashi_wrapper.py</span></a><span style=\"color: #7f7f7f; text-decoration-color: #7f7f7f\">:</span><a href=\"file:///n/home09/pren/3DGeno_tools/src/gt3d/modules/higashi/Higashi_wrapper.py#1258\" target=\"_blank\"><span style=\"color: #7f7f7f; text-decoration-color: #7f7f7f\">1258</span></a>\n",
       "<span style=\"color: #7fbfbf; text-decoration-color: #7fbfbf\">                    </span>         pearson: <span style=\"color: #008080; text-decoration-color: #008080; font-weight: bold\">0.525</span>, spearman: <span style=\"color: #008080; text-decoration-color: #008080; font-weight: bold\">0.497</span>, elapse: <span style=\"color: #008080; text-decoration-color: #008080; font-weight: bold\">105.686</span> s             <span style=\"color: #7f7f7f; text-decoration-color: #7f7f7f\">                       </span>\n",
       "</pre>\n"
      ],
      "text/plain": [
       "\u001b[2;36m[12/07/24 12:27:21]\u001b[0m\u001b[2;36m \u001b[0m\u001b[34mINFO    \u001b[0m \u001b[94mtrain\u001b[0m  - \u001b[1m(\u001b[0mTrain\u001b[1m)\u001b[0m bce:  \u001b[1;36m0.3945\u001b[0m, mse:  \u001b[1;36m1.3203\u001b[0m,  acc: \u001b[1;36m85.453\u001b[0m %,   \u001b]8;id=581303;file:///n/home09/pren/3DGeno_tools/src/gt3d/modules/higashi/Higashi_wrapper.py\u001b\\\u001b[2mHigashi_wrapper.py\u001b[0m\u001b]8;;\u001b\\\u001b[2m:\u001b[0m\u001b]8;id=150733;file:///n/home09/pren/3DGeno_tools/src/gt3d/modules/higashi/Higashi_wrapper.py#1258\u001b\\\u001b[2m1258\u001b[0m\u001b]8;;\u001b\\\n",
       "\u001b[2;36m                    \u001b[0m         pearson: \u001b[1;36m0.525\u001b[0m, spearman: \u001b[1;36m0.497\u001b[0m, elapse: \u001b[1;36m105.686\u001b[0m s             \u001b[2m                       \u001b[0m\n"
      ]
     },
     "metadata": {},
     "output_type": "display_data"
    },
    {
     "data": {
      "application/vnd.jupyter.widget-view+json": {
       "model_id": "59b874f5e0174ce4bed060d6fbc33e8f",
       "version_major": 2,
       "version_minor": 0
      },
      "text/plain": [
       "Output()"
      ]
     },
     "metadata": {},
     "output_type": "display_data"
    },
    {
     "data": {
      "text/html": [
       "<pre style=\"white-space:pre;overflow-x:auto;line-height:normal;font-family:Menlo,'DejaVu Sans Mono',consolas,'Courier New',monospace\"></pre>\n"
      ],
      "text/plain": []
     },
     "metadata": {},
     "output_type": "display_data"
    },
    {
     "data": {
      "text/html": [
       "<pre style=\"white-space:pre;overflow-x:auto;line-height:normal;font-family:Menlo,'DejaVu Sans Mono',consolas,'Courier New',monospace\"><span style=\"color: #7fbfbf; text-decoration-color: #7fbfbf\">[12/07/24 12:27:22] </span><span style=\"color: #000080; text-decoration-color: #000080\">INFO    </span> <span style=\"color: #0000ff; text-decoration-color: #0000ff\">train</span>  - <span style=\"font-weight: bold\">(</span>Valid<span style=\"font-weight: bold\">)</span> bce:  <span style=\"color: #008080; text-decoration-color: #008080; font-weight: bold\">0.4062</span>,  acc: <span style=\"color: #008080; text-decoration-color: #008080; font-weight: bold\">85.456</span> %,pearson: <span style=\"color: #008080; text-decoration-color: #008080; font-weight: bold\">0.522</span>,  <a href=\"file:///n/home09/pren/3DGeno_tools/src/gt3d/modules/higashi/Higashi_wrapper.py\" target=\"_blank\"><span style=\"color: #7f7f7f; text-decoration-color: #7f7f7f\">Higashi_wrapper.py</span></a><span style=\"color: #7f7f7f; text-decoration-color: #7f7f7f\">:</span><a href=\"file:///n/home09/pren/3DGeno_tools/src/gt3d/modules/higashi/Higashi_wrapper.py#1277\" target=\"_blank\"><span style=\"color: #7f7f7f; text-decoration-color: #7f7f7f\">1277</span></a>\n",
       "<span style=\"color: #7fbfbf; text-decoration-color: #7fbfbf\">                    </span>         spearman: <span style=\"color: #008080; text-decoration-color: #008080; font-weight: bold\">0.496</span>,elapse: <span style=\"color: #008080; text-decoration-color: #008080; font-weight: bold\">0.445</span> s                                <span style=\"color: #7f7f7f; text-decoration-color: #7f7f7f\">                       </span>\n",
       "</pre>\n"
      ],
      "text/plain": [
       "\u001b[2;36m[12/07/24 12:27:22]\u001b[0m\u001b[2;36m \u001b[0m\u001b[34mINFO    \u001b[0m \u001b[94mtrain\u001b[0m  - \u001b[1m(\u001b[0mValid\u001b[1m)\u001b[0m bce:  \u001b[1;36m0.4062\u001b[0m,  acc: \u001b[1;36m85.456\u001b[0m %,pearson: \u001b[1;36m0.522\u001b[0m,  \u001b]8;id=524504;file:///n/home09/pren/3DGeno_tools/src/gt3d/modules/higashi/Higashi_wrapper.py\u001b\\\u001b[2mHigashi_wrapper.py\u001b[0m\u001b]8;;\u001b\\\u001b[2m:\u001b[0m\u001b]8;id=106293;file:///n/home09/pren/3DGeno_tools/src/gt3d/modules/higashi/Higashi_wrapper.py#1277\u001b\\\u001b[2m1277\u001b[0m\u001b]8;;\u001b\\\n",
       "\u001b[2;36m                    \u001b[0m         spearman: \u001b[1;36m0.496\u001b[0m,elapse: \u001b[1;36m0.445\u001b[0m s                                \u001b[2m                       \u001b[0m\n"
      ]
     },
     "metadata": {},
     "output_type": "display_data"
    },
    {
     "data": {
      "text/html": [
       "<pre style=\"white-space:pre;overflow-x:auto;line-height:normal;font-family:Menlo,'DejaVu Sans Mono',consolas,'Courier New',monospace\"><span style=\"color: #7fbfbf; text-decoration-color: #7fbfbf\">                    </span><span style=\"color: #000080; text-decoration-color: #000080\">INFO    </span> <span style=\"color: #0000ff; text-decoration-color: #0000ff\">train</span> update_rate: <span style=\"color: #008080; text-decoration-color: #008080; font-weight: bold\">0.352411</span>     <span style=\"color: #008080; text-decoration-color: #008080; font-weight: bold\">3.756258</span>        pair_ratio:    <a href=\"file:///n/home09/pren/3DGeno_tools/src/gt3d/modules/higashi/Higashi_wrapper.py\" target=\"_blank\"><span style=\"color: #7f7f7f; text-decoration-color: #7f7f7f\">Higashi_wrapper.py</span></a><span style=\"color: #7f7f7f; text-decoration-color: #7f7f7f\">:</span><a href=\"file:///n/home09/pren/3DGeno_tools/src/gt3d/modules/higashi/Higashi_wrapper.py#1323\" target=\"_blank\"><span style=\"color: #7f7f7f; text-decoration-color: #7f7f7f\">1323</span></a>\n",
       "<span style=\"color: #7fbfbf; text-decoration-color: #7fbfbf\">                    </span>         <span style=\"color: #008080; text-decoration-color: #008080; font-weight: bold\">0.2</span>                                                            <span style=\"color: #7f7f7f; text-decoration-color: #7f7f7f\">                       </span>\n",
       "</pre>\n"
      ],
      "text/plain": [
       "\u001b[2;36m                   \u001b[0m\u001b[2;36m \u001b[0m\u001b[34mINFO    \u001b[0m \u001b[94mtrain\u001b[0m update_rate: \u001b[1;36m0.352411\u001b[0m     \u001b[1;36m3.756258\u001b[0m        pair_ratio:    \u001b]8;id=792282;file:///n/home09/pren/3DGeno_tools/src/gt3d/modules/higashi/Higashi_wrapper.py\u001b\\\u001b[2mHigashi_wrapper.py\u001b[0m\u001b]8;;\u001b\\\u001b[2m:\u001b[0m\u001b]8;id=114813;file:///n/home09/pren/3DGeno_tools/src/gt3d/modules/higashi/Higashi_wrapper.py#1323\u001b\\\u001b[2m1323\u001b[0m\u001b]8;;\u001b\\\n",
       "\u001b[2;36m                    \u001b[0m         \u001b[1;36m0.2\u001b[0m                                                            \u001b[2m                       \u001b[0m\n"
      ]
     },
     "metadata": {},
     "output_type": "display_data"
    },
    {
     "data": {
      "text/html": [
       "<pre style=\"white-space:pre;overflow-x:auto;line-height:normal;font-family:Menlo,'DejaVu Sans Mono',consolas,'Courier New',monospace\"><span style=\"color: #7fbfbf; text-decoration-color: #7fbfbf\">[12/07/24 12:27:23] </span><span style=\"color: #000080; text-decoration-color: #000080\">INFO    </span> <span style=\"color: #0000ff; text-decoration-color: #0000ff\">train</span> <span style=\"font-weight: bold\">[</span> Epoch <span style=\"color: #008080; text-decoration-color: #008080; font-weight: bold\">2</span> of <span style=\"color: #008080; text-decoration-color: #008080; font-weight: bold\">200</span> <span style=\"font-weight: bold\">]</span>                                       <a href=\"file:///n/home09/pren/3DGeno_tools/src/gt3d/modules/higashi/Higashi_wrapper.py\" target=\"_blank\"><span style=\"color: #7f7f7f; text-decoration-color: #7f7f7f\">Higashi_wrapper.py</span></a><span style=\"color: #7f7f7f; text-decoration-color: #7f7f7f\">:</span><a href=\"file:///n/home09/pren/3DGeno_tools/src/gt3d/modules/higashi/Higashi_wrapper.py#1245\" target=\"_blank\"><span style=\"color: #7f7f7f; text-decoration-color: #7f7f7f\">1245</span></a>\n",
       "</pre>\n"
      ],
      "text/plain": [
       "\u001b[2;36m[12/07/24 12:27:23]\u001b[0m\u001b[2;36m \u001b[0m\u001b[34mINFO    \u001b[0m \u001b[94mtrain\u001b[0m \u001b[1m[\u001b[0m Epoch \u001b[1;36m2\u001b[0m of \u001b[1;36m200\u001b[0m \u001b[1m]\u001b[0m                                       \u001b]8;id=741560;file:///n/home09/pren/3DGeno_tools/src/gt3d/modules/higashi/Higashi_wrapper.py\u001b\\\u001b[2mHigashi_wrapper.py\u001b[0m\u001b]8;;\u001b\\\u001b[2m:\u001b[0m\u001b]8;id=384613;file:///n/home09/pren/3DGeno_tools/src/gt3d/modules/higashi/Higashi_wrapper.py#1245\u001b\\\u001b[2m1245\u001b[0m\u001b]8;;\u001b\\\n"
      ]
     },
     "metadata": {},
     "output_type": "display_data"
    },
    {
     "data": {
      "application/vnd.jupyter.widget-view+json": {
       "model_id": "57d21463b2e5457c9c6ba869a237a162",
       "version_major": 2,
       "version_minor": 0
      },
      "text/plain": [
       "Output()"
      ]
     },
     "metadata": {},
     "output_type": "display_data"
    },
    {
     "data": {
      "text/html": [
       "<pre style=\"white-space:pre;overflow-x:auto;line-height:normal;font-family:Menlo,'DejaVu Sans Mono',consolas,'Courier New',monospace\"></pre>\n"
      ],
      "text/plain": []
     },
     "metadata": {},
     "output_type": "display_data"
    },
    {
     "data": {
      "text/html": [
       "<pre style=\"white-space:pre;overflow-x:auto;line-height:normal;font-family:Menlo,'DejaVu Sans Mono',consolas,'Courier New',monospace\"><span style=\"color: #7fbfbf; text-decoration-color: #7fbfbf\">[12/07/24 12:29:06] </span><span style=\"color: #000080; text-decoration-color: #000080\">INFO    </span> <span style=\"color: #0000ff; text-decoration-color: #0000ff\">train</span>  - <span style=\"font-weight: bold\">(</span>Train<span style=\"font-weight: bold\">)</span> bce:  <span style=\"color: #008080; text-decoration-color: #008080; font-weight: bold\">0.3737</span>, mse:  <span style=\"color: #008080; text-decoration-color: #008080; font-weight: bold\">0.9063</span>,  acc: <span style=\"color: #008080; text-decoration-color: #008080; font-weight: bold\">86.256</span> %,   <a href=\"file:///n/home09/pren/3DGeno_tools/src/gt3d/modules/higashi/Higashi_wrapper.py\" target=\"_blank\"><span style=\"color: #7f7f7f; text-decoration-color: #7f7f7f\">Higashi_wrapper.py</span></a><span style=\"color: #7f7f7f; text-decoration-color: #7f7f7f\">:</span><a href=\"file:///n/home09/pren/3DGeno_tools/src/gt3d/modules/higashi/Higashi_wrapper.py#1258\" target=\"_blank\"><span style=\"color: #7f7f7f; text-decoration-color: #7f7f7f\">1258</span></a>\n",
       "<span style=\"color: #7fbfbf; text-decoration-color: #7fbfbf\">                    </span>         pearson: <span style=\"color: #008080; text-decoration-color: #008080; font-weight: bold\">0.561</span>, spearman: <span style=\"color: #008080; text-decoration-color: #008080; font-weight: bold\">0.520</span>, elapse: <span style=\"color: #008080; text-decoration-color: #008080; font-weight: bold\">103.585</span> s             <span style=\"color: #7f7f7f; text-decoration-color: #7f7f7f\">                       </span>\n",
       "</pre>\n"
      ],
      "text/plain": [
       "\u001b[2;36m[12/07/24 12:29:06]\u001b[0m\u001b[2;36m \u001b[0m\u001b[34mINFO    \u001b[0m \u001b[94mtrain\u001b[0m  - \u001b[1m(\u001b[0mTrain\u001b[1m)\u001b[0m bce:  \u001b[1;36m0.3737\u001b[0m, mse:  \u001b[1;36m0.9063\u001b[0m,  acc: \u001b[1;36m86.256\u001b[0m %,   \u001b]8;id=154804;file:///n/home09/pren/3DGeno_tools/src/gt3d/modules/higashi/Higashi_wrapper.py\u001b\\\u001b[2mHigashi_wrapper.py\u001b[0m\u001b]8;;\u001b\\\u001b[2m:\u001b[0m\u001b]8;id=210442;file:///n/home09/pren/3DGeno_tools/src/gt3d/modules/higashi/Higashi_wrapper.py#1258\u001b\\\u001b[2m1258\u001b[0m\u001b]8;;\u001b\\\n",
       "\u001b[2;36m                    \u001b[0m         pearson: \u001b[1;36m0.561\u001b[0m, spearman: \u001b[1;36m0.520\u001b[0m, elapse: \u001b[1;36m103.585\u001b[0m s             \u001b[2m                       \u001b[0m\n"
      ]
     },
     "metadata": {},
     "output_type": "display_data"
    },
    {
     "data": {
      "application/vnd.jupyter.widget-view+json": {
       "model_id": "72d5589588584658a75e80d276123614",
       "version_major": 2,
       "version_minor": 0
      },
      "text/plain": [
       "Output()"
      ]
     },
     "metadata": {},
     "output_type": "display_data"
    },
    {
     "data": {
      "text/html": [
       "<pre style=\"white-space:pre;overflow-x:auto;line-height:normal;font-family:Menlo,'DejaVu Sans Mono',consolas,'Courier New',monospace\"></pre>\n"
      ],
      "text/plain": []
     },
     "metadata": {},
     "output_type": "display_data"
    },
    {
     "data": {
      "text/html": [
       "<pre style=\"white-space:pre;overflow-x:auto;line-height:normal;font-family:Menlo,'DejaVu Sans Mono',consolas,'Courier New',monospace\"><span style=\"color: #7fbfbf; text-decoration-color: #7fbfbf\">[12/07/24 12:29:07] </span><span style=\"color: #000080; text-decoration-color: #000080\">INFO    </span> <span style=\"color: #0000ff; text-decoration-color: #0000ff\">train</span>  - <span style=\"font-weight: bold\">(</span>Valid<span style=\"font-weight: bold\">)</span> bce:  <span style=\"color: #008080; text-decoration-color: #008080; font-weight: bold\">0.3802</span>,  acc: <span style=\"color: #008080; text-decoration-color: #008080; font-weight: bold\">84.733</span> %,pearson: <span style=\"color: #008080; text-decoration-color: #008080; font-weight: bold\">0.573</span>,  <a href=\"file:///n/home09/pren/3DGeno_tools/src/gt3d/modules/higashi/Higashi_wrapper.py\" target=\"_blank\"><span style=\"color: #7f7f7f; text-decoration-color: #7f7f7f\">Higashi_wrapper.py</span></a><span style=\"color: #7f7f7f; text-decoration-color: #7f7f7f\">:</span><a href=\"file:///n/home09/pren/3DGeno_tools/src/gt3d/modules/higashi/Higashi_wrapper.py#1277\" target=\"_blank\"><span style=\"color: #7f7f7f; text-decoration-color: #7f7f7f\">1277</span></a>\n",
       "<span style=\"color: #7fbfbf; text-decoration-color: #7fbfbf\">                    </span>         spearman: <span style=\"color: #008080; text-decoration-color: #008080; font-weight: bold\">0.527</span>,elapse: <span style=\"color: #008080; text-decoration-color: #008080; font-weight: bold\">0.497</span> s                                <span style=\"color: #7f7f7f; text-decoration-color: #7f7f7f\">                       </span>\n",
       "</pre>\n"
      ],
      "text/plain": [
       "\u001b[2;36m[12/07/24 12:29:07]\u001b[0m\u001b[2;36m \u001b[0m\u001b[34mINFO    \u001b[0m \u001b[94mtrain\u001b[0m  - \u001b[1m(\u001b[0mValid\u001b[1m)\u001b[0m bce:  \u001b[1;36m0.3802\u001b[0m,  acc: \u001b[1;36m84.733\u001b[0m %,pearson: \u001b[1;36m0.573\u001b[0m,  \u001b]8;id=144351;file:///n/home09/pren/3DGeno_tools/src/gt3d/modules/higashi/Higashi_wrapper.py\u001b\\\u001b[2mHigashi_wrapper.py\u001b[0m\u001b]8;;\u001b\\\u001b[2m:\u001b[0m\u001b]8;id=101112;file:///n/home09/pren/3DGeno_tools/src/gt3d/modules/higashi/Higashi_wrapper.py#1277\u001b\\\u001b[2m1277\u001b[0m\u001b]8;;\u001b\\\n",
       "\u001b[2;36m                    \u001b[0m         spearman: \u001b[1;36m0.527\u001b[0m,elapse: \u001b[1;36m0.497\u001b[0m s                                \u001b[2m                       \u001b[0m\n"
      ]
     },
     "metadata": {},
     "output_type": "display_data"
    },
    {
     "data": {
      "text/html": [
       "<pre style=\"white-space:pre;overflow-x:auto;line-height:normal;font-family:Menlo,'DejaVu Sans Mono',consolas,'Courier New',monospace\"><span style=\"color: #7fbfbf; text-decoration-color: #7fbfbf\">                    </span><span style=\"color: #000080; text-decoration-color: #000080\">INFO    </span> <span style=\"color: #0000ff; text-decoration-color: #0000ff\">train</span> update_rate: <span style=\"color: #008080; text-decoration-color: #008080; font-weight: bold\">0.072908</span>     <span style=\"color: #008080; text-decoration-color: #008080; font-weight: bold\">0.810584</span>        pair_ratio:    <a href=\"file:///n/home09/pren/3DGeno_tools/src/gt3d/modules/higashi/Higashi_wrapper.py\" target=\"_blank\"><span style=\"color: #7f7f7f; text-decoration-color: #7f7f7f\">Higashi_wrapper.py</span></a><span style=\"color: #7f7f7f; text-decoration-color: #7f7f7f\">:</span><a href=\"file:///n/home09/pren/3DGeno_tools/src/gt3d/modules/higashi/Higashi_wrapper.py#1323\" target=\"_blank\"><span style=\"color: #7f7f7f; text-decoration-color: #7f7f7f\">1323</span></a>\n",
       "<span style=\"color: #7fbfbf; text-decoration-color: #7fbfbf\">                    </span>         <span style=\"color: #008080; text-decoration-color: #008080; font-weight: bold\">0.3</span>                                                            <span style=\"color: #7f7f7f; text-decoration-color: #7f7f7f\">                       </span>\n",
       "</pre>\n"
      ],
      "text/plain": [
       "\u001b[2;36m                   \u001b[0m\u001b[2;36m \u001b[0m\u001b[34mINFO    \u001b[0m \u001b[94mtrain\u001b[0m update_rate: \u001b[1;36m0.072908\u001b[0m     \u001b[1;36m0.810584\u001b[0m        pair_ratio:    \u001b]8;id=685235;file:///n/home09/pren/3DGeno_tools/src/gt3d/modules/higashi/Higashi_wrapper.py\u001b\\\u001b[2mHigashi_wrapper.py\u001b[0m\u001b]8;;\u001b\\\u001b[2m:\u001b[0m\u001b]8;id=411463;file:///n/home09/pren/3DGeno_tools/src/gt3d/modules/higashi/Higashi_wrapper.py#1323\u001b\\\u001b[2m1323\u001b[0m\u001b]8;;\u001b\\\n",
       "\u001b[2;36m                    \u001b[0m         \u001b[1;36m0.3\u001b[0m                                                            \u001b[2m                       \u001b[0m\n"
      ]
     },
     "metadata": {},
     "output_type": "display_data"
    },
    {
     "data": {
      "text/html": [
       "<pre style=\"white-space:pre;overflow-x:auto;line-height:normal;font-family:Menlo,'DejaVu Sans Mono',consolas,'Courier New',monospace\"><span style=\"color: #7fbfbf; text-decoration-color: #7fbfbf\">                    </span><span style=\"color: #000080; text-decoration-color: #000080\">INFO    </span> <span style=\"color: #0000ff; text-decoration-color: #0000ff\">train</span> <span style=\"font-weight: bold\">[</span> Epoch <span style=\"color: #008080; text-decoration-color: #008080; font-weight: bold\">3</span> of <span style=\"color: #008080; text-decoration-color: #008080; font-weight: bold\">200</span> <span style=\"font-weight: bold\">]</span>                                       <a href=\"file:///n/home09/pren/3DGeno_tools/src/gt3d/modules/higashi/Higashi_wrapper.py\" target=\"_blank\"><span style=\"color: #7f7f7f; text-decoration-color: #7f7f7f\">Higashi_wrapper.py</span></a><span style=\"color: #7f7f7f; text-decoration-color: #7f7f7f\">:</span><a href=\"file:///n/home09/pren/3DGeno_tools/src/gt3d/modules/higashi/Higashi_wrapper.py#1245\" target=\"_blank\"><span style=\"color: #7f7f7f; text-decoration-color: #7f7f7f\">1245</span></a>\n",
       "</pre>\n"
      ],
      "text/plain": [
       "\u001b[2;36m                   \u001b[0m\u001b[2;36m \u001b[0m\u001b[34mINFO    \u001b[0m \u001b[94mtrain\u001b[0m \u001b[1m[\u001b[0m Epoch \u001b[1;36m3\u001b[0m of \u001b[1;36m200\u001b[0m \u001b[1m]\u001b[0m                                       \u001b]8;id=129206;file:///n/home09/pren/3DGeno_tools/src/gt3d/modules/higashi/Higashi_wrapper.py\u001b\\\u001b[2mHigashi_wrapper.py\u001b[0m\u001b]8;;\u001b\\\u001b[2m:\u001b[0m\u001b]8;id=641171;file:///n/home09/pren/3DGeno_tools/src/gt3d/modules/higashi/Higashi_wrapper.py#1245\u001b\\\u001b[2m1245\u001b[0m\u001b]8;;\u001b\\\n"
      ]
     },
     "metadata": {},
     "output_type": "display_data"
    },
    {
     "data": {
      "application/vnd.jupyter.widget-view+json": {
       "model_id": "ea25f8136b98445482768503cd05c9f4",
       "version_major": 2,
       "version_minor": 0
      },
      "text/plain": [
       "Output()"
      ]
     },
     "metadata": {},
     "output_type": "display_data"
    },
    {
     "data": {
      "text/html": [
       "<pre style=\"white-space:pre;overflow-x:auto;line-height:normal;font-family:Menlo,'DejaVu Sans Mono',consolas,'Courier New',monospace\"></pre>\n"
      ],
      "text/plain": []
     },
     "metadata": {},
     "output_type": "display_data"
    },
    {
     "data": {
      "text/html": [
       "<pre style=\"white-space:pre;overflow-x:auto;line-height:normal;font-family:Menlo,'DejaVu Sans Mono',consolas,'Courier New',monospace\"><span style=\"color: #7fbfbf; text-decoration-color: #7fbfbf\">[12/07/24 12:30:52] </span><span style=\"color: #000080; text-decoration-color: #000080\">INFO    </span> <span style=\"color: #0000ff; text-decoration-color: #0000ff\">train</span>  - <span style=\"font-weight: bold\">(</span>Train<span style=\"font-weight: bold\">)</span> bce:  <span style=\"color: #008080; text-decoration-color: #008080; font-weight: bold\">0.3608</span>, mse:  <span style=\"color: #008080; text-decoration-color: #008080; font-weight: bold\">0.9289</span>,  acc: <span style=\"color: #008080; text-decoration-color: #008080; font-weight: bold\">86.934</span> %,   <a href=\"file:///n/home09/pren/3DGeno_tools/src/gt3d/modules/higashi/Higashi_wrapper.py\" target=\"_blank\"><span style=\"color: #7f7f7f; text-decoration-color: #7f7f7f\">Higashi_wrapper.py</span></a><span style=\"color: #7f7f7f; text-decoration-color: #7f7f7f\">:</span><a href=\"file:///n/home09/pren/3DGeno_tools/src/gt3d/modules/higashi/Higashi_wrapper.py#1258\" target=\"_blank\"><span style=\"color: #7f7f7f; text-decoration-color: #7f7f7f\">1258</span></a>\n",
       "<span style=\"color: #7fbfbf; text-decoration-color: #7fbfbf\">                    </span>         pearson: <span style=\"color: #008080; text-decoration-color: #008080; font-weight: bold\">0.585</span>, spearman: <span style=\"color: #008080; text-decoration-color: #008080; font-weight: bold\">0.534</span>, elapse: <span style=\"color: #008080; text-decoration-color: #008080; font-weight: bold\">104.576</span> s             <span style=\"color: #7f7f7f; text-decoration-color: #7f7f7f\">                       </span>\n",
       "</pre>\n"
      ],
      "text/plain": [
       "\u001b[2;36m[12/07/24 12:30:52]\u001b[0m\u001b[2;36m \u001b[0m\u001b[34mINFO    \u001b[0m \u001b[94mtrain\u001b[0m  - \u001b[1m(\u001b[0mTrain\u001b[1m)\u001b[0m bce:  \u001b[1;36m0.3608\u001b[0m, mse:  \u001b[1;36m0.9289\u001b[0m,  acc: \u001b[1;36m86.934\u001b[0m %,   \u001b]8;id=284130;file:///n/home09/pren/3DGeno_tools/src/gt3d/modules/higashi/Higashi_wrapper.py\u001b\\\u001b[2mHigashi_wrapper.py\u001b[0m\u001b]8;;\u001b\\\u001b[2m:\u001b[0m\u001b]8;id=773807;file:///n/home09/pren/3DGeno_tools/src/gt3d/modules/higashi/Higashi_wrapper.py#1258\u001b\\\u001b[2m1258\u001b[0m\u001b]8;;\u001b\\\n",
       "\u001b[2;36m                    \u001b[0m         pearson: \u001b[1;36m0.585\u001b[0m, spearman: \u001b[1;36m0.534\u001b[0m, elapse: \u001b[1;36m104.576\u001b[0m s             \u001b[2m                       \u001b[0m\n"
      ]
     },
     "metadata": {},
     "output_type": "display_data"
    },
    {
     "data": {
      "application/vnd.jupyter.widget-view+json": {
       "model_id": "0a0a8d17ba334e818b8d025bade6e1fe",
       "version_major": 2,
       "version_minor": 0
      },
      "text/plain": [
       "Output()"
      ]
     },
     "metadata": {},
     "output_type": "display_data"
    },
    {
     "data": {
      "text/html": [
       "<pre style=\"white-space:pre;overflow-x:auto;line-height:normal;font-family:Menlo,'DejaVu Sans Mono',consolas,'Courier New',monospace\"></pre>\n"
      ],
      "text/plain": []
     },
     "metadata": {},
     "output_type": "display_data"
    },
    {
     "data": {
      "text/html": [
       "<pre style=\"white-space:pre;overflow-x:auto;line-height:normal;font-family:Menlo,'DejaVu Sans Mono',consolas,'Courier New',monospace\"><span style=\"color: #7fbfbf; text-decoration-color: #7fbfbf\">                    </span><span style=\"color: #000080; text-decoration-color: #000080\">INFO    </span> <span style=\"color: #0000ff; text-decoration-color: #0000ff\">train</span>  - <span style=\"font-weight: bold\">(</span>Valid<span style=\"font-weight: bold\">)</span> bce:  <span style=\"color: #008080; text-decoration-color: #008080; font-weight: bold\">0.3715</span>,  acc: <span style=\"color: #008080; text-decoration-color: #008080; font-weight: bold\">86.178</span> %,pearson: <span style=\"color: #008080; text-decoration-color: #008080; font-weight: bold\">0.584</span>,  <a href=\"file:///n/home09/pren/3DGeno_tools/src/gt3d/modules/higashi/Higashi_wrapper.py\" target=\"_blank\"><span style=\"color: #7f7f7f; text-decoration-color: #7f7f7f\">Higashi_wrapper.py</span></a><span style=\"color: #7f7f7f; text-decoration-color: #7f7f7f\">:</span><a href=\"file:///n/home09/pren/3DGeno_tools/src/gt3d/modules/higashi/Higashi_wrapper.py#1277\" target=\"_blank\"><span style=\"color: #7f7f7f; text-decoration-color: #7f7f7f\">1277</span></a>\n",
       "<span style=\"color: #7fbfbf; text-decoration-color: #7fbfbf\">                    </span>         spearman: <span style=\"color: #008080; text-decoration-color: #008080; font-weight: bold\">0.531</span>,elapse: <span style=\"color: #008080; text-decoration-color: #008080; font-weight: bold\">0.061</span> s                                <span style=\"color: #7f7f7f; text-decoration-color: #7f7f7f\">                       </span>\n",
       "</pre>\n"
      ],
      "text/plain": [
       "\u001b[2;36m                   \u001b[0m\u001b[2;36m \u001b[0m\u001b[34mINFO    \u001b[0m \u001b[94mtrain\u001b[0m  - \u001b[1m(\u001b[0mValid\u001b[1m)\u001b[0m bce:  \u001b[1;36m0.3715\u001b[0m,  acc: \u001b[1;36m86.178\u001b[0m %,pearson: \u001b[1;36m0.584\u001b[0m,  \u001b]8;id=444832;file:///n/home09/pren/3DGeno_tools/src/gt3d/modules/higashi/Higashi_wrapper.py\u001b\\\u001b[2mHigashi_wrapper.py\u001b[0m\u001b]8;;\u001b\\\u001b[2m:\u001b[0m\u001b]8;id=192645;file:///n/home09/pren/3DGeno_tools/src/gt3d/modules/higashi/Higashi_wrapper.py#1277\u001b\\\u001b[2m1277\u001b[0m\u001b]8;;\u001b\\\n",
       "\u001b[2;36m                    \u001b[0m         spearman: \u001b[1;36m0.531\u001b[0m,elapse: \u001b[1;36m0.061\u001b[0m s                                \u001b[2m                       \u001b[0m\n"
      ]
     },
     "metadata": {},
     "output_type": "display_data"
    },
    {
     "data": {
      "text/html": [
       "<pre style=\"white-space:pre;overflow-x:auto;line-height:normal;font-family:Menlo,'DejaVu Sans Mono',consolas,'Courier New',monospace\"><span style=\"color: #7fbfbf; text-decoration-color: #7fbfbf\">                    </span><span style=\"color: #000080; text-decoration-color: #000080\">INFO    </span> <span style=\"color: #0000ff; text-decoration-color: #0000ff\">train</span> update_rate: <span style=\"color: #008080; text-decoration-color: #008080; font-weight: bold\">0.035572</span>     <span style=\"color: #008080; text-decoration-color: #008080; font-weight: bold\">0.305573</span>        pair_ratio:    <a href=\"file:///n/home09/pren/3DGeno_tools/src/gt3d/modules/higashi/Higashi_wrapper.py\" target=\"_blank\"><span style=\"color: #7f7f7f; text-decoration-color: #7f7f7f\">Higashi_wrapper.py</span></a><span style=\"color: #7f7f7f; text-decoration-color: #7f7f7f\">:</span><a href=\"file:///n/home09/pren/3DGeno_tools/src/gt3d/modules/higashi/Higashi_wrapper.py#1323\" target=\"_blank\"><span style=\"color: #7f7f7f; text-decoration-color: #7f7f7f\">1323</span></a>\n",
       "<span style=\"color: #7fbfbf; text-decoration-color: #7fbfbf\">                    </span>         <span style=\"color: #008080; text-decoration-color: #008080; font-weight: bold\">0.4</span>                                                            <span style=\"color: #7f7f7f; text-decoration-color: #7f7f7f\">                       </span>\n",
       "</pre>\n"
      ],
      "text/plain": [
       "\u001b[2;36m                   \u001b[0m\u001b[2;36m \u001b[0m\u001b[34mINFO    \u001b[0m \u001b[94mtrain\u001b[0m update_rate: \u001b[1;36m0.035572\u001b[0m     \u001b[1;36m0.305573\u001b[0m        pair_ratio:    \u001b]8;id=98893;file:///n/home09/pren/3DGeno_tools/src/gt3d/modules/higashi/Higashi_wrapper.py\u001b\\\u001b[2mHigashi_wrapper.py\u001b[0m\u001b]8;;\u001b\\\u001b[2m:\u001b[0m\u001b]8;id=190191;file:///n/home09/pren/3DGeno_tools/src/gt3d/modules/higashi/Higashi_wrapper.py#1323\u001b\\\u001b[2m1323\u001b[0m\u001b]8;;\u001b\\\n",
       "\u001b[2;36m                    \u001b[0m         \u001b[1;36m0.4\u001b[0m                                                            \u001b[2m                       \u001b[0m\n"
      ]
     },
     "metadata": {},
     "output_type": "display_data"
    },
    {
     "data": {
      "text/html": [
       "<pre style=\"white-space:pre;overflow-x:auto;line-height:normal;font-family:Menlo,'DejaVu Sans Mono',consolas,'Courier New',monospace\"><span style=\"color: #7fbfbf; text-decoration-color: #7fbfbf\">                    </span><span style=\"color: #000080; text-decoration-color: #000080\">INFO    </span> <span style=\"color: #0000ff; text-decoration-color: #0000ff\">train</span> <span style=\"font-weight: bold\">[</span> Epoch <span style=\"color: #008080; text-decoration-color: #008080; font-weight: bold\">4</span> of <span style=\"color: #008080; text-decoration-color: #008080; font-weight: bold\">200</span> <span style=\"font-weight: bold\">]</span>                                       <a href=\"file:///n/home09/pren/3DGeno_tools/src/gt3d/modules/higashi/Higashi_wrapper.py\" target=\"_blank\"><span style=\"color: #7f7f7f; text-decoration-color: #7f7f7f\">Higashi_wrapper.py</span></a><span style=\"color: #7f7f7f; text-decoration-color: #7f7f7f\">:</span><a href=\"file:///n/home09/pren/3DGeno_tools/src/gt3d/modules/higashi/Higashi_wrapper.py#1245\" target=\"_blank\"><span style=\"color: #7f7f7f; text-decoration-color: #7f7f7f\">1245</span></a>\n",
       "</pre>\n"
      ],
      "text/plain": [
       "\u001b[2;36m                   \u001b[0m\u001b[2;36m \u001b[0m\u001b[34mINFO    \u001b[0m \u001b[94mtrain\u001b[0m \u001b[1m[\u001b[0m Epoch \u001b[1;36m4\u001b[0m of \u001b[1;36m200\u001b[0m \u001b[1m]\u001b[0m                                       \u001b]8;id=602575;file:///n/home09/pren/3DGeno_tools/src/gt3d/modules/higashi/Higashi_wrapper.py\u001b\\\u001b[2mHigashi_wrapper.py\u001b[0m\u001b]8;;\u001b\\\u001b[2m:\u001b[0m\u001b]8;id=330376;file:///n/home09/pren/3DGeno_tools/src/gt3d/modules/higashi/Higashi_wrapper.py#1245\u001b\\\u001b[2m1245\u001b[0m\u001b]8;;\u001b\\\n"
      ]
     },
     "metadata": {},
     "output_type": "display_data"
    },
    {
     "data": {
      "application/vnd.jupyter.widget-view+json": {
       "model_id": "59d74f37e8344f9493f853fcc5ef1cd7",
       "version_major": 2,
       "version_minor": 0
      },
      "text/plain": [
       "Output()"
      ]
     },
     "metadata": {},
     "output_type": "display_data"
    },
    {
     "data": {
      "text/html": [
       "<pre style=\"white-space:pre;overflow-x:auto;line-height:normal;font-family:Menlo,'DejaVu Sans Mono',consolas,'Courier New',monospace\"></pre>\n"
      ],
      "text/plain": []
     },
     "metadata": {},
     "output_type": "display_data"
    },
    {
     "data": {
      "text/html": [
       "<pre style=\"white-space:pre;overflow-x:auto;line-height:normal;font-family:Menlo,'DejaVu Sans Mono',consolas,'Courier New',monospace\"><span style=\"color: #7fbfbf; text-decoration-color: #7fbfbf\">[12/07/24 12:32:21] </span><span style=\"color: #000080; text-decoration-color: #000080\">INFO    </span> <span style=\"color: #0000ff; text-decoration-color: #0000ff\">train</span>  - <span style=\"font-weight: bold\">(</span>Train<span style=\"font-weight: bold\">)</span> bce:  <span style=\"color: #008080; text-decoration-color: #008080; font-weight: bold\">0.3567</span>, mse:  <span style=\"color: #008080; text-decoration-color: #008080; font-weight: bold\">0.9014</span>,  acc: <span style=\"color: #008080; text-decoration-color: #008080; font-weight: bold\">87.152</span> %,   <a href=\"file:///n/home09/pren/3DGeno_tools/src/gt3d/modules/higashi/Higashi_wrapper.py\" target=\"_blank\"><span style=\"color: #7f7f7f; text-decoration-color: #7f7f7f\">Higashi_wrapper.py</span></a><span style=\"color: #7f7f7f; text-decoration-color: #7f7f7f\">:</span><a href=\"file:///n/home09/pren/3DGeno_tools/src/gt3d/modules/higashi/Higashi_wrapper.py#1258\" target=\"_blank\"><span style=\"color: #7f7f7f; text-decoration-color: #7f7f7f\">1258</span></a>\n",
       "<span style=\"color: #7fbfbf; text-decoration-color: #7fbfbf\">                    </span>         pearson: <span style=\"color: #008080; text-decoration-color: #008080; font-weight: bold\">0.594</span>, spearman: <span style=\"color: #008080; text-decoration-color: #008080; font-weight: bold\">0.538</span>, elapse: <span style=\"color: #008080; text-decoration-color: #008080; font-weight: bold\">89.029</span> s              <span style=\"color: #7f7f7f; text-decoration-color: #7f7f7f\">                       </span>\n",
       "</pre>\n"
      ],
      "text/plain": [
       "\u001b[2;36m[12/07/24 12:32:21]\u001b[0m\u001b[2;36m \u001b[0m\u001b[34mINFO    \u001b[0m \u001b[94mtrain\u001b[0m  - \u001b[1m(\u001b[0mTrain\u001b[1m)\u001b[0m bce:  \u001b[1;36m0.3567\u001b[0m, mse:  \u001b[1;36m0.9014\u001b[0m,  acc: \u001b[1;36m87.152\u001b[0m %,   \u001b]8;id=658635;file:///n/home09/pren/3DGeno_tools/src/gt3d/modules/higashi/Higashi_wrapper.py\u001b\\\u001b[2mHigashi_wrapper.py\u001b[0m\u001b]8;;\u001b\\\u001b[2m:\u001b[0m\u001b]8;id=350745;file:///n/home09/pren/3DGeno_tools/src/gt3d/modules/higashi/Higashi_wrapper.py#1258\u001b\\\u001b[2m1258\u001b[0m\u001b]8;;\u001b\\\n",
       "\u001b[2;36m                    \u001b[0m         pearson: \u001b[1;36m0.594\u001b[0m, spearman: \u001b[1;36m0.538\u001b[0m, elapse: \u001b[1;36m89.029\u001b[0m s              \u001b[2m                       \u001b[0m\n"
      ]
     },
     "metadata": {},
     "output_type": "display_data"
    },
    {
     "data": {
      "application/vnd.jupyter.widget-view+json": {
       "model_id": "7b6db024a14f4e11bf27d010b48f8b6b",
       "version_major": 2,
       "version_minor": 0
      },
      "text/plain": [
       "Output()"
      ]
     },
     "metadata": {},
     "output_type": "display_data"
    },
    {
     "data": {
      "text/html": [
       "<pre style=\"white-space:pre;overflow-x:auto;line-height:normal;font-family:Menlo,'DejaVu Sans Mono',consolas,'Courier New',monospace\"></pre>\n"
      ],
      "text/plain": []
     },
     "metadata": {},
     "output_type": "display_data"
    },
    {
     "data": {
      "text/html": [
       "<pre style=\"white-space:pre;overflow-x:auto;line-height:normal;font-family:Menlo,'DejaVu Sans Mono',consolas,'Courier New',monospace\"><span style=\"color: #7fbfbf; text-decoration-color: #7fbfbf\">                    </span><span style=\"color: #000080; text-decoration-color: #000080\">INFO    </span> <span style=\"color: #0000ff; text-decoration-color: #0000ff\">train</span>  - <span style=\"font-weight: bold\">(</span>Valid<span style=\"font-weight: bold\">)</span> bce:  <span style=\"color: #008080; text-decoration-color: #008080; font-weight: bold\">0.3571</span>,  acc: <span style=\"color: #008080; text-decoration-color: #008080; font-weight: bold\">86.484</span> %,pearson: <span style=\"color: #008080; text-decoration-color: #008080; font-weight: bold\">0.592</span>,  <a href=\"file:///n/home09/pren/3DGeno_tools/src/gt3d/modules/higashi/Higashi_wrapper.py\" target=\"_blank\"><span style=\"color: #7f7f7f; text-decoration-color: #7f7f7f\">Higashi_wrapper.py</span></a><span style=\"color: #7f7f7f; text-decoration-color: #7f7f7f\">:</span><a href=\"file:///n/home09/pren/3DGeno_tools/src/gt3d/modules/higashi/Higashi_wrapper.py#1277\" target=\"_blank\"><span style=\"color: #7f7f7f; text-decoration-color: #7f7f7f\">1277</span></a>\n",
       "<span style=\"color: #7fbfbf; text-decoration-color: #7fbfbf\">                    </span>         spearman: <span style=\"color: #008080; text-decoration-color: #008080; font-weight: bold\">0.541</span>,elapse: <span style=\"color: #008080; text-decoration-color: #008080; font-weight: bold\">0.052</span> s                                <span style=\"color: #7f7f7f; text-decoration-color: #7f7f7f\">                       </span>\n",
       "</pre>\n"
      ],
      "text/plain": [
       "\u001b[2;36m                   \u001b[0m\u001b[2;36m \u001b[0m\u001b[34mINFO    \u001b[0m \u001b[94mtrain\u001b[0m  - \u001b[1m(\u001b[0mValid\u001b[1m)\u001b[0m bce:  \u001b[1;36m0.3571\u001b[0m,  acc: \u001b[1;36m86.484\u001b[0m %,pearson: \u001b[1;36m0.592\u001b[0m,  \u001b]8;id=908579;file:///n/home09/pren/3DGeno_tools/src/gt3d/modules/higashi/Higashi_wrapper.py\u001b\\\u001b[2mHigashi_wrapper.py\u001b[0m\u001b]8;;\u001b\\\u001b[2m:\u001b[0m\u001b]8;id=500972;file:///n/home09/pren/3DGeno_tools/src/gt3d/modules/higashi/Higashi_wrapper.py#1277\u001b\\\u001b[2m1277\u001b[0m\u001b]8;;\u001b\\\n",
       "\u001b[2;36m                    \u001b[0m         spearman: \u001b[1;36m0.541\u001b[0m,elapse: \u001b[1;36m0.052\u001b[0m s                                \u001b[2m                       \u001b[0m\n"
      ]
     },
     "metadata": {},
     "output_type": "display_data"
    },
    {
     "data": {
      "text/html": [
       "<pre style=\"white-space:pre;overflow-x:auto;line-height:normal;font-family:Menlo,'DejaVu Sans Mono',consolas,'Courier New',monospace\"><span style=\"color: #7fbfbf; text-decoration-color: #7fbfbf\">                    </span><span style=\"color: #000080; text-decoration-color: #000080\">INFO    </span> <span style=\"color: #0000ff; text-decoration-color: #0000ff\">train</span> update_rate: <span style=\"color: #008080; text-decoration-color: #008080; font-weight: bold\">0.021271</span>     <span style=\"color: #008080; text-decoration-color: #008080; font-weight: bold\">0.248087</span>        pair_ratio:    <a href=\"file:///n/home09/pren/3DGeno_tools/src/gt3d/modules/higashi/Higashi_wrapper.py\" target=\"_blank\"><span style=\"color: #7f7f7f; text-decoration-color: #7f7f7f\">Higashi_wrapper.py</span></a><span style=\"color: #7f7f7f; text-decoration-color: #7f7f7f\">:</span><a href=\"file:///n/home09/pren/3DGeno_tools/src/gt3d/modules/higashi/Higashi_wrapper.py#1323\" target=\"_blank\"><span style=\"color: #7f7f7f; text-decoration-color: #7f7f7f\">1323</span></a>\n",
       "<span style=\"color: #7fbfbf; text-decoration-color: #7fbfbf\">                    </span>         <span style=\"color: #008080; text-decoration-color: #008080; font-weight: bold\">0.5</span>                                                            <span style=\"color: #7f7f7f; text-decoration-color: #7f7f7f\">                       </span>\n",
       "</pre>\n"
      ],
      "text/plain": [
       "\u001b[2;36m                   \u001b[0m\u001b[2;36m \u001b[0m\u001b[34mINFO    \u001b[0m \u001b[94mtrain\u001b[0m update_rate: \u001b[1;36m0.021271\u001b[0m     \u001b[1;36m0.248087\u001b[0m        pair_ratio:    \u001b]8;id=979028;file:///n/home09/pren/3DGeno_tools/src/gt3d/modules/higashi/Higashi_wrapper.py\u001b\\\u001b[2mHigashi_wrapper.py\u001b[0m\u001b]8;;\u001b\\\u001b[2m:\u001b[0m\u001b]8;id=566887;file:///n/home09/pren/3DGeno_tools/src/gt3d/modules/higashi/Higashi_wrapper.py#1323\u001b\\\u001b[2m1323\u001b[0m\u001b]8;;\u001b\\\n",
       "\u001b[2;36m                    \u001b[0m         \u001b[1;36m0.5\u001b[0m                                                            \u001b[2m                       \u001b[0m\n"
      ]
     },
     "metadata": {},
     "output_type": "display_data"
    },
    {
     "data": {
      "text/html": [
       "<pre style=\"white-space:pre;overflow-x:auto;line-height:normal;font-family:Menlo,'DejaVu Sans Mono',consolas,'Courier New',monospace\"><span style=\"color: #7fbfbf; text-decoration-color: #7fbfbf\">                    </span><span style=\"color: #000080; text-decoration-color: #000080\">INFO    </span> <span style=\"color: #0000ff; text-decoration-color: #0000ff\">train</span> <span style=\"font-weight: bold\">[</span> Epoch <span style=\"color: #008080; text-decoration-color: #008080; font-weight: bold\">5</span> of <span style=\"color: #008080; text-decoration-color: #008080; font-weight: bold\">200</span> <span style=\"font-weight: bold\">]</span>                                       <a href=\"file:///n/home09/pren/3DGeno_tools/src/gt3d/modules/higashi/Higashi_wrapper.py\" target=\"_blank\"><span style=\"color: #7f7f7f; text-decoration-color: #7f7f7f\">Higashi_wrapper.py</span></a><span style=\"color: #7f7f7f; text-decoration-color: #7f7f7f\">:</span><a href=\"file:///n/home09/pren/3DGeno_tools/src/gt3d/modules/higashi/Higashi_wrapper.py#1245\" target=\"_blank\"><span style=\"color: #7f7f7f; text-decoration-color: #7f7f7f\">1245</span></a>\n",
       "</pre>\n"
      ],
      "text/plain": [
       "\u001b[2;36m                   \u001b[0m\u001b[2;36m \u001b[0m\u001b[34mINFO    \u001b[0m \u001b[94mtrain\u001b[0m \u001b[1m[\u001b[0m Epoch \u001b[1;36m5\u001b[0m of \u001b[1;36m200\u001b[0m \u001b[1m]\u001b[0m                                       \u001b]8;id=315848;file:///n/home09/pren/3DGeno_tools/src/gt3d/modules/higashi/Higashi_wrapper.py\u001b\\\u001b[2mHigashi_wrapper.py\u001b[0m\u001b]8;;\u001b\\\u001b[2m:\u001b[0m\u001b]8;id=670881;file:///n/home09/pren/3DGeno_tools/src/gt3d/modules/higashi/Higashi_wrapper.py#1245\u001b\\\u001b[2m1245\u001b[0m\u001b]8;;\u001b\\\n"
      ]
     },
     "metadata": {},
     "output_type": "display_data"
    },
    {
     "data": {
      "application/vnd.jupyter.widget-view+json": {
       "model_id": "0be8d56d0ea1429ab9a198cec3276f3b",
       "version_major": 2,
       "version_minor": 0
      },
      "text/plain": [
       "Output()"
      ]
     },
     "metadata": {},
     "output_type": "display_data"
    },
    {
     "data": {
      "text/html": [
       "<pre style=\"white-space:pre;overflow-x:auto;line-height:normal;font-family:Menlo,'DejaVu Sans Mono',consolas,'Courier New',monospace\"></pre>\n"
      ],
      "text/plain": []
     },
     "metadata": {},
     "output_type": "display_data"
    },
    {
     "data": {
      "text/html": [
       "<pre style=\"white-space:pre;overflow-x:auto;line-height:normal;font-family:Menlo,'DejaVu Sans Mono',consolas,'Courier New',monospace\"><span style=\"color: #7fbfbf; text-decoration-color: #7fbfbf\">[12/07/24 12:33:50] </span><span style=\"color: #000080; text-decoration-color: #000080\">INFO    </span> <span style=\"color: #0000ff; text-decoration-color: #0000ff\">train</span>  - <span style=\"font-weight: bold\">(</span>Train<span style=\"font-weight: bold\">)</span> bce:  <span style=\"color: #008080; text-decoration-color: #008080; font-weight: bold\">0.3518</span>, mse:  <span style=\"color: #008080; text-decoration-color: #008080; font-weight: bold\">1.0930</span>,  acc: <span style=\"color: #008080; text-decoration-color: #008080; font-weight: bold\">87.408</span> %,   <a href=\"file:///n/home09/pren/3DGeno_tools/src/gt3d/modules/higashi/Higashi_wrapper.py\" target=\"_blank\"><span style=\"color: #7f7f7f; text-decoration-color: #7f7f7f\">Higashi_wrapper.py</span></a><span style=\"color: #7f7f7f; text-decoration-color: #7f7f7f\">:</span><a href=\"file:///n/home09/pren/3DGeno_tools/src/gt3d/modules/higashi/Higashi_wrapper.py#1258\" target=\"_blank\"><span style=\"color: #7f7f7f; text-decoration-color: #7f7f7f\">1258</span></a>\n",
       "<span style=\"color: #7fbfbf; text-decoration-color: #7fbfbf\">                    </span>         pearson: <span style=\"color: #008080; text-decoration-color: #008080; font-weight: bold\">0.604</span>, spearman: <span style=\"color: #008080; text-decoration-color: #008080; font-weight: bold\">0.542</span>, elapse: <span style=\"color: #008080; text-decoration-color: #008080; font-weight: bold\">88.972</span> s              <span style=\"color: #7f7f7f; text-decoration-color: #7f7f7f\">                       </span>\n",
       "</pre>\n"
      ],
      "text/plain": [
       "\u001b[2;36m[12/07/24 12:33:50]\u001b[0m\u001b[2;36m \u001b[0m\u001b[34mINFO    \u001b[0m \u001b[94mtrain\u001b[0m  - \u001b[1m(\u001b[0mTrain\u001b[1m)\u001b[0m bce:  \u001b[1;36m0.3518\u001b[0m, mse:  \u001b[1;36m1.0930\u001b[0m,  acc: \u001b[1;36m87.408\u001b[0m %,   \u001b]8;id=203819;file:///n/home09/pren/3DGeno_tools/src/gt3d/modules/higashi/Higashi_wrapper.py\u001b\\\u001b[2mHigashi_wrapper.py\u001b[0m\u001b]8;;\u001b\\\u001b[2m:\u001b[0m\u001b]8;id=827350;file:///n/home09/pren/3DGeno_tools/src/gt3d/modules/higashi/Higashi_wrapper.py#1258\u001b\\\u001b[2m1258\u001b[0m\u001b]8;;\u001b\\\n",
       "\u001b[2;36m                    \u001b[0m         pearson: \u001b[1;36m0.604\u001b[0m, spearman: \u001b[1;36m0.542\u001b[0m, elapse: \u001b[1;36m88.972\u001b[0m s              \u001b[2m                       \u001b[0m\n"
      ]
     },
     "metadata": {},
     "output_type": "display_data"
    },
    {
     "data": {
      "application/vnd.jupyter.widget-view+json": {
       "model_id": "6f12fdbe9e1f4efeb97f3670309b5fe1",
       "version_major": 2,
       "version_minor": 0
      },
      "text/plain": [
       "Output()"
      ]
     },
     "metadata": {},
     "output_type": "display_data"
    },
    {
     "data": {
      "text/html": [
       "<pre style=\"white-space:pre;overflow-x:auto;line-height:normal;font-family:Menlo,'DejaVu Sans Mono',consolas,'Courier New',monospace\"></pre>\n"
      ],
      "text/plain": []
     },
     "metadata": {},
     "output_type": "display_data"
    },
    {
     "data": {
      "text/html": [
       "<pre style=\"white-space:pre;overflow-x:auto;line-height:normal;font-family:Menlo,'DejaVu Sans Mono',consolas,'Courier New',monospace\"><span style=\"color: #7fbfbf; text-decoration-color: #7fbfbf\">                    </span><span style=\"color: #000080; text-decoration-color: #000080\">INFO    </span> <span style=\"color: #0000ff; text-decoration-color: #0000ff\">train</span>  - <span style=\"font-weight: bold\">(</span>Valid<span style=\"font-weight: bold\">)</span> bce:  <span style=\"color: #008080; text-decoration-color: #008080; font-weight: bold\">0.3523</span>,  acc: <span style=\"color: #008080; text-decoration-color: #008080; font-weight: bold\">86.777</span> %,pearson: <span style=\"color: #008080; text-decoration-color: #008080; font-weight: bold\">0.605</span>,  <a href=\"file:///n/home09/pren/3DGeno_tools/src/gt3d/modules/higashi/Higashi_wrapper.py\" target=\"_blank\"><span style=\"color: #7f7f7f; text-decoration-color: #7f7f7f\">Higashi_wrapper.py</span></a><span style=\"color: #7f7f7f; text-decoration-color: #7f7f7f\">:</span><a href=\"file:///n/home09/pren/3DGeno_tools/src/gt3d/modules/higashi/Higashi_wrapper.py#1277\" target=\"_blank\"><span style=\"color: #7f7f7f; text-decoration-color: #7f7f7f\">1277</span></a>\n",
       "<span style=\"color: #7fbfbf; text-decoration-color: #7fbfbf\">                    </span>         spearman: <span style=\"color: #008080; text-decoration-color: #008080; font-weight: bold\">0.542</span>,elapse: <span style=\"color: #008080; text-decoration-color: #008080; font-weight: bold\">0.052</span> s                                <span style=\"color: #7f7f7f; text-decoration-color: #7f7f7f\">                       </span>\n",
       "</pre>\n"
      ],
      "text/plain": [
       "\u001b[2;36m                   \u001b[0m\u001b[2;36m \u001b[0m\u001b[34mINFO    \u001b[0m \u001b[94mtrain\u001b[0m  - \u001b[1m(\u001b[0mValid\u001b[1m)\u001b[0m bce:  \u001b[1;36m0.3523\u001b[0m,  acc: \u001b[1;36m86.777\u001b[0m %,pearson: \u001b[1;36m0.605\u001b[0m,  \u001b]8;id=83461;file:///n/home09/pren/3DGeno_tools/src/gt3d/modules/higashi/Higashi_wrapper.py\u001b\\\u001b[2mHigashi_wrapper.py\u001b[0m\u001b]8;;\u001b\\\u001b[2m:\u001b[0m\u001b]8;id=448086;file:///n/home09/pren/3DGeno_tools/src/gt3d/modules/higashi/Higashi_wrapper.py#1277\u001b\\\u001b[2m1277\u001b[0m\u001b]8;;\u001b\\\n",
       "\u001b[2;36m                    \u001b[0m         spearman: \u001b[1;36m0.542\u001b[0m,elapse: \u001b[1;36m0.052\u001b[0m s                                \u001b[2m                       \u001b[0m\n"
      ]
     },
     "metadata": {},
     "output_type": "display_data"
    },
    {
     "data": {
      "text/html": [
       "<pre style=\"white-space:pre;overflow-x:auto;line-height:normal;font-family:Menlo,'DejaVu Sans Mono',consolas,'Courier New',monospace\"><span style=\"color: #7fbfbf; text-decoration-color: #7fbfbf\">                    </span><span style=\"color: #000080; text-decoration-color: #000080\">INFO    </span> <span style=\"color: #0000ff; text-decoration-color: #0000ff\">train</span> update_rate: <span style=\"color: #008080; text-decoration-color: #008080; font-weight: bold\">0.017285</span>     <span style=\"color: #008080; text-decoration-color: #008080; font-weight: bold\">0.841697</span>                       <a href=\"file:///n/home09/pren/3DGeno_tools/src/gt3d/modules/higashi/Higashi_wrapper.py\" target=\"_blank\"><span style=\"color: #7f7f7f; text-decoration-color: #7f7f7f\">Higashi_wrapper.py</span></a><span style=\"color: #7f7f7f; text-decoration-color: #7f7f7f\">:</span><a href=\"file:///n/home09/pren/3DGeno_tools/src/gt3d/modules/higashi/Higashi_wrapper.py#1323\" target=\"_blank\"><span style=\"color: #7f7f7f; text-decoration-color: #7f7f7f\">1323</span></a>\n",
       "</pre>\n"
      ],
      "text/plain": [
       "\u001b[2;36m                   \u001b[0m\u001b[2;36m \u001b[0m\u001b[34mINFO    \u001b[0m \u001b[94mtrain\u001b[0m update_rate: \u001b[1;36m0.017285\u001b[0m     \u001b[1;36m0.841697\u001b[0m                       \u001b]8;id=715883;file:///n/home09/pren/3DGeno_tools/src/gt3d/modules/higashi/Higashi_wrapper.py\u001b\\\u001b[2mHigashi_wrapper.py\u001b[0m\u001b]8;;\u001b\\\u001b[2m:\u001b[0m\u001b]8;id=179394;file:///n/home09/pren/3DGeno_tools/src/gt3d/modules/higashi/Higashi_wrapper.py#1323\u001b\\\u001b[2m1323\u001b[0m\u001b]8;;\u001b\\\n"
      ]
     },
     "metadata": {},
     "output_type": "display_data"
    },
    {
     "data": {
      "text/html": [
       "<pre style=\"white-space:pre;overflow-x:auto;line-height:normal;font-family:Menlo,'DejaVu Sans Mono',consolas,'Courier New',monospace\"><span style=\"color: #7fbfbf; text-decoration-color: #7fbfbf\">[12/07/24 12:33:51] </span><span style=\"color: #000080; text-decoration-color: #000080\">INFO    </span> <span style=\"color: #0000ff; text-decoration-color: #0000ff\">train</span> <span style=\"font-weight: bold\">[</span> Epoch <span style=\"color: #008080; text-decoration-color: #008080; font-weight: bold\">6</span> of <span style=\"color: #008080; text-decoration-color: #008080; font-weight: bold\">200</span> <span style=\"font-weight: bold\">]</span>                                       <a href=\"file:///n/home09/pren/3DGeno_tools/src/gt3d/modules/higashi/Higashi_wrapper.py\" target=\"_blank\"><span style=\"color: #7f7f7f; text-decoration-color: #7f7f7f\">Higashi_wrapper.py</span></a><span style=\"color: #7f7f7f; text-decoration-color: #7f7f7f\">:</span><a href=\"file:///n/home09/pren/3DGeno_tools/src/gt3d/modules/higashi/Higashi_wrapper.py#1245\" target=\"_blank\"><span style=\"color: #7f7f7f; text-decoration-color: #7f7f7f\">1245</span></a>\n",
       "</pre>\n"
      ],
      "text/plain": [
       "\u001b[2;36m[12/07/24 12:33:51]\u001b[0m\u001b[2;36m \u001b[0m\u001b[34mINFO    \u001b[0m \u001b[94mtrain\u001b[0m \u001b[1m[\u001b[0m Epoch \u001b[1;36m6\u001b[0m of \u001b[1;36m200\u001b[0m \u001b[1m]\u001b[0m                                       \u001b]8;id=389756;file:///n/home09/pren/3DGeno_tools/src/gt3d/modules/higashi/Higashi_wrapper.py\u001b\\\u001b[2mHigashi_wrapper.py\u001b[0m\u001b]8;;\u001b\\\u001b[2m:\u001b[0m\u001b]8;id=818820;file:///n/home09/pren/3DGeno_tools/src/gt3d/modules/higashi/Higashi_wrapper.py#1245\u001b\\\u001b[2m1245\u001b[0m\u001b]8;;\u001b\\\n"
      ]
     },
     "metadata": {},
     "output_type": "display_data"
    },
    {
     "data": {
      "application/vnd.jupyter.widget-view+json": {
       "model_id": "c813f03e3fae433abee12f638e7190e2",
       "version_major": 2,
       "version_minor": 0
      },
      "text/plain": [
       "Output()"
      ]
     },
     "metadata": {},
     "output_type": "display_data"
    },
    {
     "data": {
      "text/html": [
       "<pre style=\"white-space:pre;overflow-x:auto;line-height:normal;font-family:Menlo,'DejaVu Sans Mono',consolas,'Courier New',monospace\"></pre>\n"
      ],
      "text/plain": []
     },
     "metadata": {},
     "output_type": "display_data"
    },
    {
     "data": {
      "text/html": [
       "<pre style=\"white-space:pre;overflow-x:auto;line-height:normal;font-family:Menlo,'DejaVu Sans Mono',consolas,'Courier New',monospace\"><span style=\"color: #7fbfbf; text-decoration-color: #7fbfbf\">[12/07/24 12:35:19] </span><span style=\"color: #000080; text-decoration-color: #000080\">INFO    </span> <span style=\"color: #0000ff; text-decoration-color: #0000ff\">train</span>  - <span style=\"font-weight: bold\">(</span>Train<span style=\"font-weight: bold\">)</span> bce:  <span style=\"color: #008080; text-decoration-color: #008080; font-weight: bold\">0.3491</span>, mse:  <span style=\"color: #008080; text-decoration-color: #008080; font-weight: bold\">1.0301</span>,  acc: <span style=\"color: #008080; text-decoration-color: #008080; font-weight: bold\">87.593</span> %,   <a href=\"file:///n/home09/pren/3DGeno_tools/src/gt3d/modules/higashi/Higashi_wrapper.py\" target=\"_blank\"><span style=\"color: #7f7f7f; text-decoration-color: #7f7f7f\">Higashi_wrapper.py</span></a><span style=\"color: #7f7f7f; text-decoration-color: #7f7f7f\">:</span><a href=\"file:///n/home09/pren/3DGeno_tools/src/gt3d/modules/higashi/Higashi_wrapper.py#1258\" target=\"_blank\"><span style=\"color: #7f7f7f; text-decoration-color: #7f7f7f\">1258</span></a>\n",
       "<span style=\"color: #7fbfbf; text-decoration-color: #7fbfbf\">                    </span>         pearson: <span style=\"color: #008080; text-decoration-color: #008080; font-weight: bold\">0.610</span>, spearman: <span style=\"color: #008080; text-decoration-color: #008080; font-weight: bold\">0.545</span>, elapse: <span style=\"color: #008080; text-decoration-color: #008080; font-weight: bold\">88.755</span> s              <span style=\"color: #7f7f7f; text-decoration-color: #7f7f7f\">                       </span>\n",
       "</pre>\n"
      ],
      "text/plain": [
       "\u001b[2;36m[12/07/24 12:35:19]\u001b[0m\u001b[2;36m \u001b[0m\u001b[34mINFO    \u001b[0m \u001b[94mtrain\u001b[0m  - \u001b[1m(\u001b[0mTrain\u001b[1m)\u001b[0m bce:  \u001b[1;36m0.3491\u001b[0m, mse:  \u001b[1;36m1.0301\u001b[0m,  acc: \u001b[1;36m87.593\u001b[0m %,   \u001b]8;id=274329;file:///n/home09/pren/3DGeno_tools/src/gt3d/modules/higashi/Higashi_wrapper.py\u001b\\\u001b[2mHigashi_wrapper.py\u001b[0m\u001b]8;;\u001b\\\u001b[2m:\u001b[0m\u001b]8;id=560729;file:///n/home09/pren/3DGeno_tools/src/gt3d/modules/higashi/Higashi_wrapper.py#1258\u001b\\\u001b[2m1258\u001b[0m\u001b]8;;\u001b\\\n",
       "\u001b[2;36m                    \u001b[0m         pearson: \u001b[1;36m0.610\u001b[0m, spearman: \u001b[1;36m0.545\u001b[0m, elapse: \u001b[1;36m88.755\u001b[0m s              \u001b[2m                       \u001b[0m\n"
      ]
     },
     "metadata": {},
     "output_type": "display_data"
    },
    {
     "data": {
      "application/vnd.jupyter.widget-view+json": {
       "model_id": "2fcb7dd458d54e7ab6eeb3efa7e6e8f5",
       "version_major": 2,
       "version_minor": 0
      },
      "text/plain": [
       "Output()"
      ]
     },
     "metadata": {},
     "output_type": "display_data"
    },
    {
     "data": {
      "text/html": [
       "<pre style=\"white-space:pre;overflow-x:auto;line-height:normal;font-family:Menlo,'DejaVu Sans Mono',consolas,'Courier New',monospace\"></pre>\n"
      ],
      "text/plain": []
     },
     "metadata": {},
     "output_type": "display_data"
    },
    {
     "data": {
      "text/html": [
       "<pre style=\"white-space:pre;overflow-x:auto;line-height:normal;font-family:Menlo,'DejaVu Sans Mono',consolas,'Courier New',monospace\"><span style=\"color: #7fbfbf; text-decoration-color: #7fbfbf\">                    </span><span style=\"color: #000080; text-decoration-color: #000080\">INFO    </span> <span style=\"color: #0000ff; text-decoration-color: #0000ff\">train</span>  - <span style=\"font-weight: bold\">(</span>Valid<span style=\"font-weight: bold\">)</span> bce:  <span style=\"color: #008080; text-decoration-color: #008080; font-weight: bold\">0.3690</span>,  acc: <span style=\"color: #008080; text-decoration-color: #008080; font-weight: bold\">86.680</span> %,pearson: <span style=\"color: #008080; text-decoration-color: #008080; font-weight: bold\">0.582</span>,  <a href=\"file:///n/home09/pren/3DGeno_tools/src/gt3d/modules/higashi/Higashi_wrapper.py\" target=\"_blank\"><span style=\"color: #7f7f7f; text-decoration-color: #7f7f7f\">Higashi_wrapper.py</span></a><span style=\"color: #7f7f7f; text-decoration-color: #7f7f7f\">:</span><a href=\"file:///n/home09/pren/3DGeno_tools/src/gt3d/modules/higashi/Higashi_wrapper.py#1277\" target=\"_blank\"><span style=\"color: #7f7f7f; text-decoration-color: #7f7f7f\">1277</span></a>\n",
       "<span style=\"color: #7fbfbf; text-decoration-color: #7fbfbf\">                    </span>         spearman: <span style=\"color: #008080; text-decoration-color: #008080; font-weight: bold\">0.525</span>,elapse: <span style=\"color: #008080; text-decoration-color: #008080; font-weight: bold\">0.051</span> s                                <span style=\"color: #7f7f7f; text-decoration-color: #7f7f7f\">                       </span>\n",
       "</pre>\n"
      ],
      "text/plain": [
       "\u001b[2;36m                   \u001b[0m\u001b[2;36m \u001b[0m\u001b[34mINFO    \u001b[0m \u001b[94mtrain\u001b[0m  - \u001b[1m(\u001b[0mValid\u001b[1m)\u001b[0m bce:  \u001b[1;36m0.3690\u001b[0m,  acc: \u001b[1;36m86.680\u001b[0m %,pearson: \u001b[1;36m0.582\u001b[0m,  \u001b]8;id=129433;file:///n/home09/pren/3DGeno_tools/src/gt3d/modules/higashi/Higashi_wrapper.py\u001b\\\u001b[2mHigashi_wrapper.py\u001b[0m\u001b]8;;\u001b\\\u001b[2m:\u001b[0m\u001b]8;id=340720;file:///n/home09/pren/3DGeno_tools/src/gt3d/modules/higashi/Higashi_wrapper.py#1277\u001b\\\u001b[2m1277\u001b[0m\u001b]8;;\u001b\\\n",
       "\u001b[2;36m                    \u001b[0m         spearman: \u001b[1;36m0.525\u001b[0m,elapse: \u001b[1;36m0.051\u001b[0m s                                \u001b[2m                       \u001b[0m\n"
      ]
     },
     "metadata": {},
     "output_type": "display_data"
    },
    {
     "data": {
      "text/html": [
       "<pre style=\"white-space:pre;overflow-x:auto;line-height:normal;font-family:Menlo,'DejaVu Sans Mono',consolas,'Courier New',monospace\"><span style=\"color: #7fbfbf; text-decoration-color: #7fbfbf\">                    </span><span style=\"color: #000080; text-decoration-color: #000080\">INFO    </span> <span style=\"color: #0000ff; text-decoration-color: #0000ff\">train</span> update_rate: <span style=\"color: #008080; text-decoration-color: #008080; font-weight: bold\">0.013958</span>     <span style=\"color: #008080; text-decoration-color: #008080; font-weight: bold\">0.386931</span>                       <a href=\"file:///n/home09/pren/3DGeno_tools/src/gt3d/modules/higashi/Higashi_wrapper.py\" target=\"_blank\"><span style=\"color: #7f7f7f; text-decoration-color: #7f7f7f\">Higashi_wrapper.py</span></a><span style=\"color: #7f7f7f; text-decoration-color: #7f7f7f\">:</span><a href=\"file:///n/home09/pren/3DGeno_tools/src/gt3d/modules/higashi/Higashi_wrapper.py#1323\" target=\"_blank\"><span style=\"color: #7f7f7f; text-decoration-color: #7f7f7f\">1323</span></a>\n",
       "</pre>\n"
      ],
      "text/plain": [
       "\u001b[2;36m                   \u001b[0m\u001b[2;36m \u001b[0m\u001b[34mINFO    \u001b[0m \u001b[94mtrain\u001b[0m update_rate: \u001b[1;36m0.013958\u001b[0m     \u001b[1;36m0.386931\u001b[0m                       \u001b]8;id=898532;file:///n/home09/pren/3DGeno_tools/src/gt3d/modules/higashi/Higashi_wrapper.py\u001b\\\u001b[2mHigashi_wrapper.py\u001b[0m\u001b]8;;\u001b\\\u001b[2m:\u001b[0m\u001b]8;id=115214;file:///n/home09/pren/3DGeno_tools/src/gt3d/modules/higashi/Higashi_wrapper.py#1323\u001b\\\u001b[2m1323\u001b[0m\u001b]8;;\u001b\\\n"
      ]
     },
     "metadata": {},
     "output_type": "display_data"
    },
    {
     "data": {
      "text/html": [
       "<pre style=\"white-space:pre;overflow-x:auto;line-height:normal;font-family:Menlo,'DejaVu Sans Mono',consolas,'Courier New',monospace\"><span style=\"color: #7fbfbf; text-decoration-color: #7fbfbf\">                    </span><span style=\"color: #000080; text-decoration-color: #000080\">INFO    </span> <span style=\"color: #0000ff; text-decoration-color: #0000ff\">train</span> <span style=\"font-weight: bold\">[</span> Epoch <span style=\"color: #008080; text-decoration-color: #008080; font-weight: bold\">7</span> of <span style=\"color: #008080; text-decoration-color: #008080; font-weight: bold\">200</span> <span style=\"font-weight: bold\">]</span>                                       <a href=\"file:///n/home09/pren/3DGeno_tools/src/gt3d/modules/higashi/Higashi_wrapper.py\" target=\"_blank\"><span style=\"color: #7f7f7f; text-decoration-color: #7f7f7f\">Higashi_wrapper.py</span></a><span style=\"color: #7f7f7f; text-decoration-color: #7f7f7f\">:</span><a href=\"file:///n/home09/pren/3DGeno_tools/src/gt3d/modules/higashi/Higashi_wrapper.py#1245\" target=\"_blank\"><span style=\"color: #7f7f7f; text-decoration-color: #7f7f7f\">1245</span></a>\n",
       "</pre>\n"
      ],
      "text/plain": [
       "\u001b[2;36m                   \u001b[0m\u001b[2;36m \u001b[0m\u001b[34mINFO    \u001b[0m \u001b[94mtrain\u001b[0m \u001b[1m[\u001b[0m Epoch \u001b[1;36m7\u001b[0m of \u001b[1;36m200\u001b[0m \u001b[1m]\u001b[0m                                       \u001b]8;id=681517;file:///n/home09/pren/3DGeno_tools/src/gt3d/modules/higashi/Higashi_wrapper.py\u001b\\\u001b[2mHigashi_wrapper.py\u001b[0m\u001b]8;;\u001b\\\u001b[2m:\u001b[0m\u001b]8;id=389717;file:///n/home09/pren/3DGeno_tools/src/gt3d/modules/higashi/Higashi_wrapper.py#1245\u001b\\\u001b[2m1245\u001b[0m\u001b]8;;\u001b\\\n"
      ]
     },
     "metadata": {},
     "output_type": "display_data"
    },
    {
     "data": {
      "application/vnd.jupyter.widget-view+json": {
       "model_id": "a6127b70303242d38bfd886a6c384895",
       "version_major": 2,
       "version_minor": 0
      },
      "text/plain": [
       "Output()"
      ]
     },
     "metadata": {},
     "output_type": "display_data"
    },
    {
     "data": {
      "text/html": [
       "<pre style=\"white-space:pre;overflow-x:auto;line-height:normal;font-family:Menlo,'DejaVu Sans Mono',consolas,'Courier New',monospace\"></pre>\n"
      ],
      "text/plain": []
     },
     "metadata": {},
     "output_type": "display_data"
    },
    {
     "data": {
      "text/html": [
       "<pre style=\"white-space:pre;overflow-x:auto;line-height:normal;font-family:Menlo,'DejaVu Sans Mono',consolas,'Courier New',monospace\"><span style=\"color: #7fbfbf; text-decoration-color: #7fbfbf\">[12/07/24 12:36:48] </span><span style=\"color: #000080; text-decoration-color: #000080\">INFO    </span> <span style=\"color: #0000ff; text-decoration-color: #0000ff\">train</span>  - <span style=\"font-weight: bold\">(</span>Train<span style=\"font-weight: bold\">)</span> bce:  <span style=\"color: #008080; text-decoration-color: #008080; font-weight: bold\">0.3453</span>, mse:  <span style=\"color: #008080; text-decoration-color: #008080; font-weight: bold\">0.9246</span>,  acc: <span style=\"color: #008080; text-decoration-color: #008080; font-weight: bold\">87.780</span> %,   <a href=\"file:///n/home09/pren/3DGeno_tools/src/gt3d/modules/higashi/Higashi_wrapper.py\" target=\"_blank\"><span style=\"color: #7f7f7f; text-decoration-color: #7f7f7f\">Higashi_wrapper.py</span></a><span style=\"color: #7f7f7f; text-decoration-color: #7f7f7f\">:</span><a href=\"file:///n/home09/pren/3DGeno_tools/src/gt3d/modules/higashi/Higashi_wrapper.py#1258\" target=\"_blank\"><span style=\"color: #7f7f7f; text-decoration-color: #7f7f7f\">1258</span></a>\n",
       "<span style=\"color: #7fbfbf; text-decoration-color: #7fbfbf\">                    </span>         pearson: <span style=\"color: #008080; text-decoration-color: #008080; font-weight: bold\">0.617</span>, spearman: <span style=\"color: #008080; text-decoration-color: #008080; font-weight: bold\">0.549</span>, elapse: <span style=\"color: #008080; text-decoration-color: #008080; font-weight: bold\">88.784</span> s              <span style=\"color: #7f7f7f; text-decoration-color: #7f7f7f\">                       </span>\n",
       "</pre>\n"
      ],
      "text/plain": [
       "\u001b[2;36m[12/07/24 12:36:48]\u001b[0m\u001b[2;36m \u001b[0m\u001b[34mINFO    \u001b[0m \u001b[94mtrain\u001b[0m  - \u001b[1m(\u001b[0mTrain\u001b[1m)\u001b[0m bce:  \u001b[1;36m0.3453\u001b[0m, mse:  \u001b[1;36m0.9246\u001b[0m,  acc: \u001b[1;36m87.780\u001b[0m %,   \u001b]8;id=596912;file:///n/home09/pren/3DGeno_tools/src/gt3d/modules/higashi/Higashi_wrapper.py\u001b\\\u001b[2mHigashi_wrapper.py\u001b[0m\u001b]8;;\u001b\\\u001b[2m:\u001b[0m\u001b]8;id=412568;file:///n/home09/pren/3DGeno_tools/src/gt3d/modules/higashi/Higashi_wrapper.py#1258\u001b\\\u001b[2m1258\u001b[0m\u001b]8;;\u001b\\\n",
       "\u001b[2;36m                    \u001b[0m         pearson: \u001b[1;36m0.617\u001b[0m, spearman: \u001b[1;36m0.549\u001b[0m, elapse: \u001b[1;36m88.784\u001b[0m s              \u001b[2m                       \u001b[0m\n"
      ]
     },
     "metadata": {},
     "output_type": "display_data"
    },
    {
     "data": {
      "application/vnd.jupyter.widget-view+json": {
       "model_id": "50af72ba10dd4afd8bc3e2ae217598cb",
       "version_major": 2,
       "version_minor": 0
      },
      "text/plain": [
       "Output()"
      ]
     },
     "metadata": {},
     "output_type": "display_data"
    },
    {
     "data": {
      "text/html": [
       "<pre style=\"white-space:pre;overflow-x:auto;line-height:normal;font-family:Menlo,'DejaVu Sans Mono',consolas,'Courier New',monospace\"></pre>\n"
      ],
      "text/plain": []
     },
     "metadata": {},
     "output_type": "display_data"
    },
    {
     "data": {
      "text/html": [
       "<pre style=\"white-space:pre;overflow-x:auto;line-height:normal;font-family:Menlo,'DejaVu Sans Mono',consolas,'Courier New',monospace\"><span style=\"color: #7fbfbf; text-decoration-color: #7fbfbf\">                    </span><span style=\"color: #000080; text-decoration-color: #000080\">INFO    </span> <span style=\"color: #0000ff; text-decoration-color: #0000ff\">train</span>  - <span style=\"font-weight: bold\">(</span>Valid<span style=\"font-weight: bold\">)</span> bce:  <span style=\"color: #008080; text-decoration-color: #008080; font-weight: bold\">0.3508</span>,  acc: <span style=\"color: #008080; text-decoration-color: #008080; font-weight: bold\">87.493</span> %,pearson: <span style=\"color: #008080; text-decoration-color: #008080; font-weight: bold\">0.598</span>,  <a href=\"file:///n/home09/pren/3DGeno_tools/src/gt3d/modules/higashi/Higashi_wrapper.py\" target=\"_blank\"><span style=\"color: #7f7f7f; text-decoration-color: #7f7f7f\">Higashi_wrapper.py</span></a><span style=\"color: #7f7f7f; text-decoration-color: #7f7f7f\">:</span><a href=\"file:///n/home09/pren/3DGeno_tools/src/gt3d/modules/higashi/Higashi_wrapper.py#1277\" target=\"_blank\"><span style=\"color: #7f7f7f; text-decoration-color: #7f7f7f\">1277</span></a>\n",
       "<span style=\"color: #7fbfbf; text-decoration-color: #7fbfbf\">                    </span>         spearman: <span style=\"color: #008080; text-decoration-color: #008080; font-weight: bold\">0.541</span>,elapse: <span style=\"color: #008080; text-decoration-color: #008080; font-weight: bold\">0.052</span> s                                <span style=\"color: #7f7f7f; text-decoration-color: #7f7f7f\">                       </span>\n",
       "</pre>\n"
      ],
      "text/plain": [
       "\u001b[2;36m                   \u001b[0m\u001b[2;36m \u001b[0m\u001b[34mINFO    \u001b[0m \u001b[94mtrain\u001b[0m  - \u001b[1m(\u001b[0mValid\u001b[1m)\u001b[0m bce:  \u001b[1;36m0.3508\u001b[0m,  acc: \u001b[1;36m87.493\u001b[0m %,pearson: \u001b[1;36m0.598\u001b[0m,  \u001b]8;id=576401;file:///n/home09/pren/3DGeno_tools/src/gt3d/modules/higashi/Higashi_wrapper.py\u001b\\\u001b[2mHigashi_wrapper.py\u001b[0m\u001b]8;;\u001b\\\u001b[2m:\u001b[0m\u001b]8;id=622401;file:///n/home09/pren/3DGeno_tools/src/gt3d/modules/higashi/Higashi_wrapper.py#1277\u001b\\\u001b[2m1277\u001b[0m\u001b]8;;\u001b\\\n",
       "\u001b[2;36m                    \u001b[0m         spearman: \u001b[1;36m0.541\u001b[0m,elapse: \u001b[1;36m0.052\u001b[0m s                                \u001b[2m                       \u001b[0m\n"
      ]
     },
     "metadata": {},
     "output_type": "display_data"
    },
    {
     "data": {
      "text/html": [
       "<pre style=\"white-space:pre;overflow-x:auto;line-height:normal;font-family:Menlo,'DejaVu Sans Mono',consolas,'Courier New',monospace\"><span style=\"color: #7fbfbf; text-decoration-color: #7fbfbf\">                    </span><span style=\"color: #000080; text-decoration-color: #000080\">INFO    </span> <span style=\"color: #0000ff; text-decoration-color: #0000ff\">train</span> update_rate: <span style=\"color: #008080; text-decoration-color: #008080; font-weight: bold\">0.014186</span>     <span style=\"color: #008080; text-decoration-color: #008080; font-weight: bold\">0.377005</span>                       <a href=\"file:///n/home09/pren/3DGeno_tools/src/gt3d/modules/higashi/Higashi_wrapper.py\" target=\"_blank\"><span style=\"color: #7f7f7f; text-decoration-color: #7f7f7f\">Higashi_wrapper.py</span></a><span style=\"color: #7f7f7f; text-decoration-color: #7f7f7f\">:</span><a href=\"file:///n/home09/pren/3DGeno_tools/src/gt3d/modules/higashi/Higashi_wrapper.py#1323\" target=\"_blank\"><span style=\"color: #7f7f7f; text-decoration-color: #7f7f7f\">1323</span></a>\n",
       "</pre>\n"
      ],
      "text/plain": [
       "\u001b[2;36m                   \u001b[0m\u001b[2;36m \u001b[0m\u001b[34mINFO    \u001b[0m \u001b[94mtrain\u001b[0m update_rate: \u001b[1;36m0.014186\u001b[0m     \u001b[1;36m0.377005\u001b[0m                       \u001b]8;id=545762;file:///n/home09/pren/3DGeno_tools/src/gt3d/modules/higashi/Higashi_wrapper.py\u001b\\\u001b[2mHigashi_wrapper.py\u001b[0m\u001b]8;;\u001b\\\u001b[2m:\u001b[0m\u001b]8;id=838172;file:///n/home09/pren/3DGeno_tools/src/gt3d/modules/higashi/Higashi_wrapper.py#1323\u001b\\\u001b[2m1323\u001b[0m\u001b]8;;\u001b\\\n"
      ]
     },
     "metadata": {},
     "output_type": "display_data"
    },
    {
     "data": {
      "text/html": [
       "<pre style=\"white-space:pre;overflow-x:auto;line-height:normal;font-family:Menlo,'DejaVu Sans Mono',consolas,'Courier New',monospace\"><span style=\"color: #7fbfbf; text-decoration-color: #7fbfbf\">                    </span><span style=\"color: #000080; text-decoration-color: #000080\">INFO    </span> <span style=\"color: #0000ff; text-decoration-color: #0000ff\">train</span> <span style=\"font-weight: bold\">[</span> Epoch <span style=\"color: #008080; text-decoration-color: #008080; font-weight: bold\">8</span> of <span style=\"color: #008080; text-decoration-color: #008080; font-weight: bold\">200</span> <span style=\"font-weight: bold\">]</span>                                       <a href=\"file:///n/home09/pren/3DGeno_tools/src/gt3d/modules/higashi/Higashi_wrapper.py\" target=\"_blank\"><span style=\"color: #7f7f7f; text-decoration-color: #7f7f7f\">Higashi_wrapper.py</span></a><span style=\"color: #7f7f7f; text-decoration-color: #7f7f7f\">:</span><a href=\"file:///n/home09/pren/3DGeno_tools/src/gt3d/modules/higashi/Higashi_wrapper.py#1245\" target=\"_blank\"><span style=\"color: #7f7f7f; text-decoration-color: #7f7f7f\">1245</span></a>\n",
       "</pre>\n"
      ],
      "text/plain": [
       "\u001b[2;36m                   \u001b[0m\u001b[2;36m \u001b[0m\u001b[34mINFO    \u001b[0m \u001b[94mtrain\u001b[0m \u001b[1m[\u001b[0m Epoch \u001b[1;36m8\u001b[0m of \u001b[1;36m200\u001b[0m \u001b[1m]\u001b[0m                                       \u001b]8;id=624154;file:///n/home09/pren/3DGeno_tools/src/gt3d/modules/higashi/Higashi_wrapper.py\u001b\\\u001b[2mHigashi_wrapper.py\u001b[0m\u001b]8;;\u001b\\\u001b[2m:\u001b[0m\u001b]8;id=726847;file:///n/home09/pren/3DGeno_tools/src/gt3d/modules/higashi/Higashi_wrapper.py#1245\u001b\\\u001b[2m1245\u001b[0m\u001b]8;;\u001b\\\n"
      ]
     },
     "metadata": {},
     "output_type": "display_data"
    },
    {
     "data": {
      "application/vnd.jupyter.widget-view+json": {
       "model_id": "ba10929fe52143d3bf1e14c95508efe9",
       "version_major": 2,
       "version_minor": 0
      },
      "text/plain": [
       "Output()"
      ]
     },
     "metadata": {},
     "output_type": "display_data"
    },
    {
     "data": {
      "text/html": [
       "<pre style=\"white-space:pre;overflow-x:auto;line-height:normal;font-family:Menlo,'DejaVu Sans Mono',consolas,'Courier New',monospace\"></pre>\n"
      ],
      "text/plain": []
     },
     "metadata": {},
     "output_type": "display_data"
    },
    {
     "data": {
      "text/html": [
       "<pre style=\"white-space:pre;overflow-x:auto;line-height:normal;font-family:Menlo,'DejaVu Sans Mono',consolas,'Courier New',monospace\"><span style=\"color: #7fbfbf; text-decoration-color: #7fbfbf\">[12/07/24 12:38:17] </span><span style=\"color: #000080; text-decoration-color: #000080\">INFO    </span> <span style=\"color: #0000ff; text-decoration-color: #0000ff\">train</span>  - <span style=\"font-weight: bold\">(</span>Train<span style=\"font-weight: bold\">)</span> bce:  <span style=\"color: #008080; text-decoration-color: #008080; font-weight: bold\">0.3434</span>, mse:  <span style=\"color: #008080; text-decoration-color: #008080; font-weight: bold\">1.1127</span>,  acc: <span style=\"color: #008080; text-decoration-color: #008080; font-weight: bold\">87.846</span> %,   <a href=\"file:///n/home09/pren/3DGeno_tools/src/gt3d/modules/higashi/Higashi_wrapper.py\" target=\"_blank\"><span style=\"color: #7f7f7f; text-decoration-color: #7f7f7f\">Higashi_wrapper.py</span></a><span style=\"color: #7f7f7f; text-decoration-color: #7f7f7f\">:</span><a href=\"file:///n/home09/pren/3DGeno_tools/src/gt3d/modules/higashi/Higashi_wrapper.py#1258\" target=\"_blank\"><span style=\"color: #7f7f7f; text-decoration-color: #7f7f7f\">1258</span></a>\n",
       "<span style=\"color: #7fbfbf; text-decoration-color: #7fbfbf\">                    </span>         pearson: <span style=\"color: #008080; text-decoration-color: #008080; font-weight: bold\">0.620</span>, spearman: <span style=\"color: #008080; text-decoration-color: #008080; font-weight: bold\">0.549</span>, elapse: <span style=\"color: #008080; text-decoration-color: #008080; font-weight: bold\">88.949</span> s              <span style=\"color: #7f7f7f; text-decoration-color: #7f7f7f\">                       </span>\n",
       "</pre>\n"
      ],
      "text/plain": [
       "\u001b[2;36m[12/07/24 12:38:17]\u001b[0m\u001b[2;36m \u001b[0m\u001b[34mINFO    \u001b[0m \u001b[94mtrain\u001b[0m  - \u001b[1m(\u001b[0mTrain\u001b[1m)\u001b[0m bce:  \u001b[1;36m0.3434\u001b[0m, mse:  \u001b[1;36m1.1127\u001b[0m,  acc: \u001b[1;36m87.846\u001b[0m %,   \u001b]8;id=572267;file:///n/home09/pren/3DGeno_tools/src/gt3d/modules/higashi/Higashi_wrapper.py\u001b\\\u001b[2mHigashi_wrapper.py\u001b[0m\u001b]8;;\u001b\\\u001b[2m:\u001b[0m\u001b]8;id=456267;file:///n/home09/pren/3DGeno_tools/src/gt3d/modules/higashi/Higashi_wrapper.py#1258\u001b\\\u001b[2m1258\u001b[0m\u001b]8;;\u001b\\\n",
       "\u001b[2;36m                    \u001b[0m         pearson: \u001b[1;36m0.620\u001b[0m, spearman: \u001b[1;36m0.549\u001b[0m, elapse: \u001b[1;36m88.949\u001b[0m s              \u001b[2m                       \u001b[0m\n"
      ]
     },
     "metadata": {},
     "output_type": "display_data"
    },
    {
     "data": {
      "application/vnd.jupyter.widget-view+json": {
       "model_id": "472faceb23a94a4a8e235901198ade7e",
       "version_major": 2,
       "version_minor": 0
      },
      "text/plain": [
       "Output()"
      ]
     },
     "metadata": {},
     "output_type": "display_data"
    },
    {
     "data": {
      "text/html": [
       "<pre style=\"white-space:pre;overflow-x:auto;line-height:normal;font-family:Menlo,'DejaVu Sans Mono',consolas,'Courier New',monospace\"></pre>\n"
      ],
      "text/plain": []
     },
     "metadata": {},
     "output_type": "display_data"
    },
    {
     "data": {
      "text/html": [
       "<pre style=\"white-space:pre;overflow-x:auto;line-height:normal;font-family:Menlo,'DejaVu Sans Mono',consolas,'Courier New',monospace\"><span style=\"color: #7fbfbf; text-decoration-color: #7fbfbf\">                    </span><span style=\"color: #000080; text-decoration-color: #000080\">INFO    </span> <span style=\"color: #0000ff; text-decoration-color: #0000ff\">train</span>  - <span style=\"font-weight: bold\">(</span>Valid<span style=\"font-weight: bold\">)</span> bce:  <span style=\"color: #008080; text-decoration-color: #008080; font-weight: bold\">0.3566</span>,  acc: <span style=\"color: #008080; text-decoration-color: #008080; font-weight: bold\">87.188</span> %,pearson: <span style=\"color: #008080; text-decoration-color: #008080; font-weight: bold\">0.591</span>,  <a href=\"file:///n/home09/pren/3DGeno_tools/src/gt3d/modules/higashi/Higashi_wrapper.py\" target=\"_blank\"><span style=\"color: #7f7f7f; text-decoration-color: #7f7f7f\">Higashi_wrapper.py</span></a><span style=\"color: #7f7f7f; text-decoration-color: #7f7f7f\">:</span><a href=\"file:///n/home09/pren/3DGeno_tools/src/gt3d/modules/higashi/Higashi_wrapper.py#1277\" target=\"_blank\"><span style=\"color: #7f7f7f; text-decoration-color: #7f7f7f\">1277</span></a>\n",
       "<span style=\"color: #7fbfbf; text-decoration-color: #7fbfbf\">                    </span>         spearman: <span style=\"color: #008080; text-decoration-color: #008080; font-weight: bold\">0.537</span>,elapse: <span style=\"color: #008080; text-decoration-color: #008080; font-weight: bold\">0.049</span> s                                <span style=\"color: #7f7f7f; text-decoration-color: #7f7f7f\">                       </span>\n",
       "</pre>\n"
      ],
      "text/plain": [
       "\u001b[2;36m                   \u001b[0m\u001b[2;36m \u001b[0m\u001b[34mINFO    \u001b[0m \u001b[94mtrain\u001b[0m  - \u001b[1m(\u001b[0mValid\u001b[1m)\u001b[0m bce:  \u001b[1;36m0.3566\u001b[0m,  acc: \u001b[1;36m87.188\u001b[0m %,pearson: \u001b[1;36m0.591\u001b[0m,  \u001b]8;id=897916;file:///n/home09/pren/3DGeno_tools/src/gt3d/modules/higashi/Higashi_wrapper.py\u001b\\\u001b[2mHigashi_wrapper.py\u001b[0m\u001b]8;;\u001b\\\u001b[2m:\u001b[0m\u001b]8;id=675986;file:///n/home09/pren/3DGeno_tools/src/gt3d/modules/higashi/Higashi_wrapper.py#1277\u001b\\\u001b[2m1277\u001b[0m\u001b]8;;\u001b\\\n",
       "\u001b[2;36m                    \u001b[0m         spearman: \u001b[1;36m0.537\u001b[0m,elapse: \u001b[1;36m0.049\u001b[0m s                                \u001b[2m                       \u001b[0m\n"
      ]
     },
     "metadata": {},
     "output_type": "display_data"
    },
    {
     "data": {
      "text/html": [
       "<pre style=\"white-space:pre;overflow-x:auto;line-height:normal;font-family:Menlo,'DejaVu Sans Mono',consolas,'Courier New',monospace\"><span style=\"color: #7fbfbf; text-decoration-color: #7fbfbf\">                    </span><span style=\"color: #000080; text-decoration-color: #000080\">INFO    </span> <span style=\"color: #0000ff; text-decoration-color: #0000ff\">train</span> update_rate: <span style=\"color: #008080; text-decoration-color: #008080; font-weight: bold\">0.013148</span>     <span style=\"color: #008080; text-decoration-color: #008080; font-weight: bold\">0.342323</span>                       <a href=\"file:///n/home09/pren/3DGeno_tools/src/gt3d/modules/higashi/Higashi_wrapper.py\" target=\"_blank\"><span style=\"color: #7f7f7f; text-decoration-color: #7f7f7f\">Higashi_wrapper.py</span></a><span style=\"color: #7f7f7f; text-decoration-color: #7f7f7f\">:</span><a href=\"file:///n/home09/pren/3DGeno_tools/src/gt3d/modules/higashi/Higashi_wrapper.py#1323\" target=\"_blank\"><span style=\"color: #7f7f7f; text-decoration-color: #7f7f7f\">1323</span></a>\n",
       "</pre>\n"
      ],
      "text/plain": [
       "\u001b[2;36m                   \u001b[0m\u001b[2;36m \u001b[0m\u001b[34mINFO    \u001b[0m \u001b[94mtrain\u001b[0m update_rate: \u001b[1;36m0.013148\u001b[0m     \u001b[1;36m0.342323\u001b[0m                       \u001b]8;id=171822;file:///n/home09/pren/3DGeno_tools/src/gt3d/modules/higashi/Higashi_wrapper.py\u001b\\\u001b[2mHigashi_wrapper.py\u001b[0m\u001b]8;;\u001b\\\u001b[2m:\u001b[0m\u001b]8;id=755335;file:///n/home09/pren/3DGeno_tools/src/gt3d/modules/higashi/Higashi_wrapper.py#1323\u001b\\\u001b[2m1323\u001b[0m\u001b]8;;\u001b\\\n"
      ]
     },
     "metadata": {},
     "output_type": "display_data"
    },
    {
     "data": {
      "text/html": [
       "<pre style=\"white-space:pre;overflow-x:auto;line-height:normal;font-family:Menlo,'DejaVu Sans Mono',consolas,'Courier New',monospace\"><span style=\"color: #7fbfbf; text-decoration-color: #7fbfbf\">[12/07/24 12:38:18] </span><span style=\"color: #000080; text-decoration-color: #000080\">INFO    </span> <span style=\"color: #0000ff; text-decoration-color: #0000ff\">train</span> <span style=\"font-weight: bold\">[</span> Epoch <span style=\"color: #008080; text-decoration-color: #008080; font-weight: bold\">9</span> of <span style=\"color: #008080; text-decoration-color: #008080; font-weight: bold\">200</span> <span style=\"font-weight: bold\">]</span>                                       <a href=\"file:///n/home09/pren/3DGeno_tools/src/gt3d/modules/higashi/Higashi_wrapper.py\" target=\"_blank\"><span style=\"color: #7f7f7f; text-decoration-color: #7f7f7f\">Higashi_wrapper.py</span></a><span style=\"color: #7f7f7f; text-decoration-color: #7f7f7f\">:</span><a href=\"file:///n/home09/pren/3DGeno_tools/src/gt3d/modules/higashi/Higashi_wrapper.py#1245\" target=\"_blank\"><span style=\"color: #7f7f7f; text-decoration-color: #7f7f7f\">1245</span></a>\n",
       "</pre>\n"
      ],
      "text/plain": [
       "\u001b[2;36m[12/07/24 12:38:18]\u001b[0m\u001b[2;36m \u001b[0m\u001b[34mINFO    \u001b[0m \u001b[94mtrain\u001b[0m \u001b[1m[\u001b[0m Epoch \u001b[1;36m9\u001b[0m of \u001b[1;36m200\u001b[0m \u001b[1m]\u001b[0m                                       \u001b]8;id=717048;file:///n/home09/pren/3DGeno_tools/src/gt3d/modules/higashi/Higashi_wrapper.py\u001b\\\u001b[2mHigashi_wrapper.py\u001b[0m\u001b]8;;\u001b\\\u001b[2m:\u001b[0m\u001b]8;id=833882;file:///n/home09/pren/3DGeno_tools/src/gt3d/modules/higashi/Higashi_wrapper.py#1245\u001b\\\u001b[2m1245\u001b[0m\u001b]8;;\u001b\\\n"
      ]
     },
     "metadata": {},
     "output_type": "display_data"
    },
    {
     "data": {
      "application/vnd.jupyter.widget-view+json": {
       "model_id": "128275b314da4257ab7c36581fcd9f89",
       "version_major": 2,
       "version_minor": 0
      },
      "text/plain": [
       "Output()"
      ]
     },
     "metadata": {},
     "output_type": "display_data"
    },
    {
     "data": {
      "text/html": [
       "<pre style=\"white-space:pre;overflow-x:auto;line-height:normal;font-family:Menlo,'DejaVu Sans Mono',consolas,'Courier New',monospace\"></pre>\n"
      ],
      "text/plain": []
     },
     "metadata": {},
     "output_type": "display_data"
    },
    {
     "data": {
      "text/html": [
       "<pre style=\"white-space:pre;overflow-x:auto;line-height:normal;font-family:Menlo,'DejaVu Sans Mono',consolas,'Courier New',monospace\"><span style=\"color: #7fbfbf; text-decoration-color: #7fbfbf\">[12/07/24 12:39:47] </span><span style=\"color: #000080; text-decoration-color: #000080\">INFO    </span> <span style=\"color: #0000ff; text-decoration-color: #0000ff\">train</span>  - <span style=\"font-weight: bold\">(</span>Train<span style=\"font-weight: bold\">)</span> bce:  <span style=\"color: #008080; text-decoration-color: #008080; font-weight: bold\">0.3430</span>, mse:  <span style=\"color: #008080; text-decoration-color: #008080; font-weight: bold\">1.8456</span>,  acc: <span style=\"color: #008080; text-decoration-color: #008080; font-weight: bold\">87.973</span> %,   <a href=\"file:///n/home09/pren/3DGeno_tools/src/gt3d/modules/higashi/Higashi_wrapper.py\" target=\"_blank\"><span style=\"color: #7f7f7f; text-decoration-color: #7f7f7f\">Higashi_wrapper.py</span></a><span style=\"color: #7f7f7f; text-decoration-color: #7f7f7f\">:</span><a href=\"file:///n/home09/pren/3DGeno_tools/src/gt3d/modules/higashi/Higashi_wrapper.py#1258\" target=\"_blank\"><span style=\"color: #7f7f7f; text-decoration-color: #7f7f7f\">1258</span></a>\n",
       "<span style=\"color: #7fbfbf; text-decoration-color: #7fbfbf\">                    </span>         pearson: <span style=\"color: #008080; text-decoration-color: #008080; font-weight: bold\">0.623</span>, spearman: <span style=\"color: #008080; text-decoration-color: #008080; font-weight: bold\">0.551</span>, elapse: <span style=\"color: #008080; text-decoration-color: #008080; font-weight: bold\">88.900</span> s              <span style=\"color: #7f7f7f; text-decoration-color: #7f7f7f\">                       </span>\n",
       "</pre>\n"
      ],
      "text/plain": [
       "\u001b[2;36m[12/07/24 12:39:47]\u001b[0m\u001b[2;36m \u001b[0m\u001b[34mINFO    \u001b[0m \u001b[94mtrain\u001b[0m  - \u001b[1m(\u001b[0mTrain\u001b[1m)\u001b[0m bce:  \u001b[1;36m0.3430\u001b[0m, mse:  \u001b[1;36m1.8456\u001b[0m,  acc: \u001b[1;36m87.973\u001b[0m %,   \u001b]8;id=108366;file:///n/home09/pren/3DGeno_tools/src/gt3d/modules/higashi/Higashi_wrapper.py\u001b\\\u001b[2mHigashi_wrapper.py\u001b[0m\u001b]8;;\u001b\\\u001b[2m:\u001b[0m\u001b]8;id=565833;file:///n/home09/pren/3DGeno_tools/src/gt3d/modules/higashi/Higashi_wrapper.py#1258\u001b\\\u001b[2m1258\u001b[0m\u001b]8;;\u001b\\\n",
       "\u001b[2;36m                    \u001b[0m         pearson: \u001b[1;36m0.623\u001b[0m, spearman: \u001b[1;36m0.551\u001b[0m, elapse: \u001b[1;36m88.900\u001b[0m s              \u001b[2m                       \u001b[0m\n"
      ]
     },
     "metadata": {},
     "output_type": "display_data"
    },
    {
     "data": {
      "application/vnd.jupyter.widget-view+json": {
       "model_id": "ad80064d04e24fd687dd30a19a3af9fe",
       "version_major": 2,
       "version_minor": 0
      },
      "text/plain": [
       "Output()"
      ]
     },
     "metadata": {},
     "output_type": "display_data"
    },
    {
     "data": {
      "text/html": [
       "<pre style=\"white-space:pre;overflow-x:auto;line-height:normal;font-family:Menlo,'DejaVu Sans Mono',consolas,'Courier New',monospace\"></pre>\n"
      ],
      "text/plain": []
     },
     "metadata": {},
     "output_type": "display_data"
    },
    {
     "data": {
      "text/html": [
       "<pre style=\"white-space:pre;overflow-x:auto;line-height:normal;font-family:Menlo,'DejaVu Sans Mono',consolas,'Courier New',monospace\"><span style=\"color: #7fbfbf; text-decoration-color: #7fbfbf\">                    </span><span style=\"color: #000080; text-decoration-color: #000080\">INFO    </span> <span style=\"color: #0000ff; text-decoration-color: #0000ff\">train</span>  - <span style=\"font-weight: bold\">(</span>Valid<span style=\"font-weight: bold\">)</span> bce:  <span style=\"color: #008080; text-decoration-color: #008080; font-weight: bold\">0.3436</span>,  acc: <span style=\"color: #008080; text-decoration-color: #008080; font-weight: bold\">87.637</span> %,pearson: <span style=\"color: #008080; text-decoration-color: #008080; font-weight: bold\">0.622</span>,  <a href=\"file:///n/home09/pren/3DGeno_tools/src/gt3d/modules/higashi/Higashi_wrapper.py\" target=\"_blank\"><span style=\"color: #7f7f7f; text-decoration-color: #7f7f7f\">Higashi_wrapper.py</span></a><span style=\"color: #7f7f7f; text-decoration-color: #7f7f7f\">:</span><a href=\"file:///n/home09/pren/3DGeno_tools/src/gt3d/modules/higashi/Higashi_wrapper.py#1277\" target=\"_blank\"><span style=\"color: #7f7f7f; text-decoration-color: #7f7f7f\">1277</span></a>\n",
       "<span style=\"color: #7fbfbf; text-decoration-color: #7fbfbf\">                    </span>         spearman: <span style=\"color: #008080; text-decoration-color: #008080; font-weight: bold\">0.557</span>,elapse: <span style=\"color: #008080; text-decoration-color: #008080; font-weight: bold\">0.052</span> s                                <span style=\"color: #7f7f7f; text-decoration-color: #7f7f7f\">                       </span>\n",
       "</pre>\n"
      ],
      "text/plain": [
       "\u001b[2;36m                   \u001b[0m\u001b[2;36m \u001b[0m\u001b[34mINFO    \u001b[0m \u001b[94mtrain\u001b[0m  - \u001b[1m(\u001b[0mValid\u001b[1m)\u001b[0m bce:  \u001b[1;36m0.3436\u001b[0m,  acc: \u001b[1;36m87.637\u001b[0m %,pearson: \u001b[1;36m0.622\u001b[0m,  \u001b]8;id=682366;file:///n/home09/pren/3DGeno_tools/src/gt3d/modules/higashi/Higashi_wrapper.py\u001b\\\u001b[2mHigashi_wrapper.py\u001b[0m\u001b]8;;\u001b\\\u001b[2m:\u001b[0m\u001b]8;id=307561;file:///n/home09/pren/3DGeno_tools/src/gt3d/modules/higashi/Higashi_wrapper.py#1277\u001b\\\u001b[2m1277\u001b[0m\u001b]8;;\u001b\\\n",
       "\u001b[2;36m                    \u001b[0m         spearman: \u001b[1;36m0.557\u001b[0m,elapse: \u001b[1;36m0.052\u001b[0m s                                \u001b[2m                       \u001b[0m\n"
      ]
     },
     "metadata": {},
     "output_type": "display_data"
    },
    {
     "data": {
      "text/html": [
       "<pre style=\"white-space:pre;overflow-x:auto;line-height:normal;font-family:Menlo,'DejaVu Sans Mono',consolas,'Courier New',monospace\"><span style=\"color: #7fbfbf; text-decoration-color: #7fbfbf\">                    </span><span style=\"color: #000080; text-decoration-color: #000080\">INFO    </span> <span style=\"color: #0000ff; text-decoration-color: #0000ff\">train</span> update_rate: <span style=\"color: #008080; text-decoration-color: #008080; font-weight: bold\">0.007114</span>     <span style=\"color: #008080; text-decoration-color: #008080; font-weight: bold\">0.388460</span>                       <a href=\"file:///n/home09/pren/3DGeno_tools/src/gt3d/modules/higashi/Higashi_wrapper.py\" target=\"_blank\"><span style=\"color: #7f7f7f; text-decoration-color: #7f7f7f\">Higashi_wrapper.py</span></a><span style=\"color: #7f7f7f; text-decoration-color: #7f7f7f\">:</span><a href=\"file:///n/home09/pren/3DGeno_tools/src/gt3d/modules/higashi/Higashi_wrapper.py#1323\" target=\"_blank\"><span style=\"color: #7f7f7f; text-decoration-color: #7f7f7f\">1323</span></a>\n",
       "</pre>\n"
      ],
      "text/plain": [
       "\u001b[2;36m                   \u001b[0m\u001b[2;36m \u001b[0m\u001b[34mINFO    \u001b[0m \u001b[94mtrain\u001b[0m update_rate: \u001b[1;36m0.007114\u001b[0m     \u001b[1;36m0.388460\u001b[0m                       \u001b]8;id=105008;file:///n/home09/pren/3DGeno_tools/src/gt3d/modules/higashi/Higashi_wrapper.py\u001b\\\u001b[2mHigashi_wrapper.py\u001b[0m\u001b]8;;\u001b\\\u001b[2m:\u001b[0m\u001b]8;id=97624;file:///n/home09/pren/3DGeno_tools/src/gt3d/modules/higashi/Higashi_wrapper.py#1323\u001b\\\u001b[2m1323\u001b[0m\u001b]8;;\u001b\\\n"
      ]
     },
     "metadata": {},
     "output_type": "display_data"
    },
    {
     "data": {
      "text/html": [
       "<pre style=\"white-space:pre;overflow-x:auto;line-height:normal;font-family:Menlo,'DejaVu Sans Mono',consolas,'Courier New',monospace\"><span style=\"color: #7fbfbf; text-decoration-color: #7fbfbf\">                    </span><span style=\"color: #000080; text-decoration-color: #000080\">INFO    </span> <span style=\"color: #0000ff; text-decoration-color: #0000ff\">train</span> <span style=\"font-weight: bold\">[</span> Epoch <span style=\"color: #008080; text-decoration-color: #008080; font-weight: bold\">10</span> of <span style=\"color: #008080; text-decoration-color: #008080; font-weight: bold\">200</span> <span style=\"font-weight: bold\">]</span>                                      <a href=\"file:///n/home09/pren/3DGeno_tools/src/gt3d/modules/higashi/Higashi_wrapper.py\" target=\"_blank\"><span style=\"color: #7f7f7f; text-decoration-color: #7f7f7f\">Higashi_wrapper.py</span></a><span style=\"color: #7f7f7f; text-decoration-color: #7f7f7f\">:</span><a href=\"file:///n/home09/pren/3DGeno_tools/src/gt3d/modules/higashi/Higashi_wrapper.py#1245\" target=\"_blank\"><span style=\"color: #7f7f7f; text-decoration-color: #7f7f7f\">1245</span></a>\n",
       "</pre>\n"
      ],
      "text/plain": [
       "\u001b[2;36m                   \u001b[0m\u001b[2;36m \u001b[0m\u001b[34mINFO    \u001b[0m \u001b[94mtrain\u001b[0m \u001b[1m[\u001b[0m Epoch \u001b[1;36m10\u001b[0m of \u001b[1;36m200\u001b[0m \u001b[1m]\u001b[0m                                      \u001b]8;id=939137;file:///n/home09/pren/3DGeno_tools/src/gt3d/modules/higashi/Higashi_wrapper.py\u001b\\\u001b[2mHigashi_wrapper.py\u001b[0m\u001b]8;;\u001b\\\u001b[2m:\u001b[0m\u001b]8;id=263709;file:///n/home09/pren/3DGeno_tools/src/gt3d/modules/higashi/Higashi_wrapper.py#1245\u001b\\\u001b[2m1245\u001b[0m\u001b]8;;\u001b\\\n"
      ]
     },
     "metadata": {},
     "output_type": "display_data"
    },
    {
     "data": {
      "application/vnd.jupyter.widget-view+json": {
       "model_id": "082f33529c1b4b34aee17970eb5df2b7",
       "version_major": 2,
       "version_minor": 0
      },
      "text/plain": [
       "Output()"
      ]
     },
     "metadata": {},
     "output_type": "display_data"
    },
    {
     "data": {
      "text/html": [
       "<pre style=\"white-space:pre;overflow-x:auto;line-height:normal;font-family:Menlo,'DejaVu Sans Mono',consolas,'Courier New',monospace\"></pre>\n"
      ],
      "text/plain": []
     },
     "metadata": {},
     "output_type": "display_data"
    },
    {
     "data": {
      "text/html": [
       "<pre style=\"white-space:pre;overflow-x:auto;line-height:normal;font-family:Menlo,'DejaVu Sans Mono',consolas,'Courier New',monospace\"><span style=\"color: #7fbfbf; text-decoration-color: #7fbfbf\">[12/07/24 12:41:16] </span><span style=\"color: #000080; text-decoration-color: #000080\">INFO    </span> <span style=\"color: #0000ff; text-decoration-color: #0000ff\">train</span>  - <span style=\"font-weight: bold\">(</span>Train<span style=\"font-weight: bold\">)</span> bce:  <span style=\"color: #008080; text-decoration-color: #008080; font-weight: bold\">0.3401</span>, mse:  <span style=\"color: #008080; text-decoration-color: #008080; font-weight: bold\">0.9299</span>,  acc: <span style=\"color: #008080; text-decoration-color: #008080; font-weight: bold\">88.126</span> %,   <a href=\"file:///n/home09/pren/3DGeno_tools/src/gt3d/modules/higashi/Higashi_wrapper.py\" target=\"_blank\"><span style=\"color: #7f7f7f; text-decoration-color: #7f7f7f\">Higashi_wrapper.py</span></a><span style=\"color: #7f7f7f; text-decoration-color: #7f7f7f\">:</span><a href=\"file:///n/home09/pren/3DGeno_tools/src/gt3d/modules/higashi/Higashi_wrapper.py#1258\" target=\"_blank\"><span style=\"color: #7f7f7f; text-decoration-color: #7f7f7f\">1258</span></a>\n",
       "<span style=\"color: #7fbfbf; text-decoration-color: #7fbfbf\">                    </span>         pearson: <span style=\"color: #008080; text-decoration-color: #008080; font-weight: bold\">0.628</span>, spearman: <span style=\"color: #008080; text-decoration-color: #008080; font-weight: bold\">0.554</span>, elapse: <span style=\"color: #008080; text-decoration-color: #008080; font-weight: bold\">88.780</span> s              <span style=\"color: #7f7f7f; text-decoration-color: #7f7f7f\">                       </span>\n",
       "</pre>\n"
      ],
      "text/plain": [
       "\u001b[2;36m[12/07/24 12:41:16]\u001b[0m\u001b[2;36m \u001b[0m\u001b[34mINFO    \u001b[0m \u001b[94mtrain\u001b[0m  - \u001b[1m(\u001b[0mTrain\u001b[1m)\u001b[0m bce:  \u001b[1;36m0.3401\u001b[0m, mse:  \u001b[1;36m0.9299\u001b[0m,  acc: \u001b[1;36m88.126\u001b[0m %,   \u001b]8;id=777517;file:///n/home09/pren/3DGeno_tools/src/gt3d/modules/higashi/Higashi_wrapper.py\u001b\\\u001b[2mHigashi_wrapper.py\u001b[0m\u001b]8;;\u001b\\\u001b[2m:\u001b[0m\u001b]8;id=718019;file:///n/home09/pren/3DGeno_tools/src/gt3d/modules/higashi/Higashi_wrapper.py#1258\u001b\\\u001b[2m1258\u001b[0m\u001b]8;;\u001b\\\n",
       "\u001b[2;36m                    \u001b[0m         pearson: \u001b[1;36m0.628\u001b[0m, spearman: \u001b[1;36m0.554\u001b[0m, elapse: \u001b[1;36m88.780\u001b[0m s              \u001b[2m                       \u001b[0m\n"
      ]
     },
     "metadata": {},
     "output_type": "display_data"
    },
    {
     "data": {
      "application/vnd.jupyter.widget-view+json": {
       "model_id": "2ad9b0309d4240ffbc7b20da4d702ee5",
       "version_major": 2,
       "version_minor": 0
      },
      "text/plain": [
       "Output()"
      ]
     },
     "metadata": {},
     "output_type": "display_data"
    },
    {
     "data": {
      "text/html": [
       "<pre style=\"white-space:pre;overflow-x:auto;line-height:normal;font-family:Menlo,'DejaVu Sans Mono',consolas,'Courier New',monospace\"></pre>\n"
      ],
      "text/plain": []
     },
     "metadata": {},
     "output_type": "display_data"
    },
    {
     "data": {
      "text/html": [
       "<pre style=\"white-space:pre;overflow-x:auto;line-height:normal;font-family:Menlo,'DejaVu Sans Mono',consolas,'Courier New',monospace\"><span style=\"color: #7fbfbf; text-decoration-color: #7fbfbf\">                    </span><span style=\"color: #000080; text-decoration-color: #000080\">INFO    </span> <span style=\"color: #0000ff; text-decoration-color: #0000ff\">train</span>  - <span style=\"font-weight: bold\">(</span>Valid<span style=\"font-weight: bold\">)</span> bce:  <span style=\"color: #008080; text-decoration-color: #008080; font-weight: bold\">0.3523</span>,  acc: <span style=\"color: #008080; text-decoration-color: #008080; font-weight: bold\">88.249</span> %,pearson: <span style=\"color: #008080; text-decoration-color: #008080; font-weight: bold\">0.614</span>,  <a href=\"file:///n/home09/pren/3DGeno_tools/src/gt3d/modules/higashi/Higashi_wrapper.py\" target=\"_blank\"><span style=\"color: #7f7f7f; text-decoration-color: #7f7f7f\">Higashi_wrapper.py</span></a><span style=\"color: #7f7f7f; text-decoration-color: #7f7f7f\">:</span><a href=\"file:///n/home09/pren/3DGeno_tools/src/gt3d/modules/higashi/Higashi_wrapper.py#1277\" target=\"_blank\"><span style=\"color: #7f7f7f; text-decoration-color: #7f7f7f\">1277</span></a>\n",
       "<span style=\"color: #7fbfbf; text-decoration-color: #7fbfbf\">                    </span>         spearman: <span style=\"color: #008080; text-decoration-color: #008080; font-weight: bold\">0.549</span>,elapse: <span style=\"color: #008080; text-decoration-color: #008080; font-weight: bold\">0.052</span> s                                <span style=\"color: #7f7f7f; text-decoration-color: #7f7f7f\">                       </span>\n",
       "</pre>\n"
      ],
      "text/plain": [
       "\u001b[2;36m                   \u001b[0m\u001b[2;36m \u001b[0m\u001b[34mINFO    \u001b[0m \u001b[94mtrain\u001b[0m  - \u001b[1m(\u001b[0mValid\u001b[1m)\u001b[0m bce:  \u001b[1;36m0.3523\u001b[0m,  acc: \u001b[1;36m88.249\u001b[0m %,pearson: \u001b[1;36m0.614\u001b[0m,  \u001b]8;id=887224;file:///n/home09/pren/3DGeno_tools/src/gt3d/modules/higashi/Higashi_wrapper.py\u001b\\\u001b[2mHigashi_wrapper.py\u001b[0m\u001b]8;;\u001b\\\u001b[2m:\u001b[0m\u001b]8;id=829206;file:///n/home09/pren/3DGeno_tools/src/gt3d/modules/higashi/Higashi_wrapper.py#1277\u001b\\\u001b[2m1277\u001b[0m\u001b]8;;\u001b\\\n",
       "\u001b[2;36m                    \u001b[0m         spearman: \u001b[1;36m0.549\u001b[0m,elapse: \u001b[1;36m0.052\u001b[0m s                                \u001b[2m                       \u001b[0m\n"
      ]
     },
     "metadata": {},
     "output_type": "display_data"
    },
    {
     "data": {
      "text/html": [
       "<pre style=\"white-space:pre;overflow-x:auto;line-height:normal;font-family:Menlo,'DejaVu Sans Mono',consolas,'Courier New',monospace\"><span style=\"color: #7fbfbf; text-decoration-color: #7fbfbf\">                    </span><span style=\"color: #000080; text-decoration-color: #000080\">INFO    </span> <span style=\"color: #0000ff; text-decoration-color: #0000ff\">train</span> update_rate: <span style=\"color: #008080; text-decoration-color: #008080; font-weight: bold\">0.009909</span>     <span style=\"color: #008080; text-decoration-color: #008080; font-weight: bold\">0.358936</span>                       <a href=\"file:///n/home09/pren/3DGeno_tools/src/gt3d/modules/higashi/Higashi_wrapper.py\" target=\"_blank\"><span style=\"color: #7f7f7f; text-decoration-color: #7f7f7f\">Higashi_wrapper.py</span></a><span style=\"color: #7f7f7f; text-decoration-color: #7f7f7f\">:</span><a href=\"file:///n/home09/pren/3DGeno_tools/src/gt3d/modules/higashi/Higashi_wrapper.py#1323\" target=\"_blank\"><span style=\"color: #7f7f7f; text-decoration-color: #7f7f7f\">1323</span></a>\n",
       "</pre>\n"
      ],
      "text/plain": [
       "\u001b[2;36m                   \u001b[0m\u001b[2;36m \u001b[0m\u001b[34mINFO    \u001b[0m \u001b[94mtrain\u001b[0m update_rate: \u001b[1;36m0.009909\u001b[0m     \u001b[1;36m0.358936\u001b[0m                       \u001b]8;id=723921;file:///n/home09/pren/3DGeno_tools/src/gt3d/modules/higashi/Higashi_wrapper.py\u001b\\\u001b[2mHigashi_wrapper.py\u001b[0m\u001b]8;;\u001b\\\u001b[2m:\u001b[0m\u001b]8;id=120014;file:///n/home09/pren/3DGeno_tools/src/gt3d/modules/higashi/Higashi_wrapper.py#1323\u001b\\\u001b[2m1323\u001b[0m\u001b]8;;\u001b\\\n"
      ]
     },
     "metadata": {},
     "output_type": "display_data"
    },
    {
     "data": {
      "text/html": [
       "<pre style=\"white-space:pre;overflow-x:auto;line-height:normal;font-family:Menlo,'DejaVu Sans Mono',consolas,'Courier New',monospace\"><span style=\"color: #7fbfbf; text-decoration-color: #7fbfbf\">                    </span><span style=\"color: #000080; text-decoration-color: #000080\">INFO    </span> <span style=\"color: #0000ff; text-decoration-color: #0000ff\">train</span> <span style=\"font-weight: bold\">[</span> Epoch <span style=\"color: #008080; text-decoration-color: #008080; font-weight: bold\">11</span> of <span style=\"color: #008080; text-decoration-color: #008080; font-weight: bold\">200</span> <span style=\"font-weight: bold\">]</span>                                      <a href=\"file:///n/home09/pren/3DGeno_tools/src/gt3d/modules/higashi/Higashi_wrapper.py\" target=\"_blank\"><span style=\"color: #7f7f7f; text-decoration-color: #7f7f7f\">Higashi_wrapper.py</span></a><span style=\"color: #7f7f7f; text-decoration-color: #7f7f7f\">:</span><a href=\"file:///n/home09/pren/3DGeno_tools/src/gt3d/modules/higashi/Higashi_wrapper.py#1245\" target=\"_blank\"><span style=\"color: #7f7f7f; text-decoration-color: #7f7f7f\">1245</span></a>\n",
       "</pre>\n"
      ],
      "text/plain": [
       "\u001b[2;36m                   \u001b[0m\u001b[2;36m \u001b[0m\u001b[34mINFO    \u001b[0m \u001b[94mtrain\u001b[0m \u001b[1m[\u001b[0m Epoch \u001b[1;36m11\u001b[0m of \u001b[1;36m200\u001b[0m \u001b[1m]\u001b[0m                                      \u001b]8;id=457496;file:///n/home09/pren/3DGeno_tools/src/gt3d/modules/higashi/Higashi_wrapper.py\u001b\\\u001b[2mHigashi_wrapper.py\u001b[0m\u001b]8;;\u001b\\\u001b[2m:\u001b[0m\u001b]8;id=77601;file:///n/home09/pren/3DGeno_tools/src/gt3d/modules/higashi/Higashi_wrapper.py#1245\u001b\\\u001b[2m1245\u001b[0m\u001b]8;;\u001b\\\n"
      ]
     },
     "metadata": {},
     "output_type": "display_data"
    },
    {
     "data": {
      "application/vnd.jupyter.widget-view+json": {
       "model_id": "04d39373f2dc495e8da4c276303e1e47",
       "version_major": 2,
       "version_minor": 0
      },
      "text/plain": [
       "Output()"
      ]
     },
     "metadata": {},
     "output_type": "display_data"
    },
    {
     "data": {
      "text/html": [
       "<pre style=\"white-space:pre;overflow-x:auto;line-height:normal;font-family:Menlo,'DejaVu Sans Mono',consolas,'Courier New',monospace\"></pre>\n"
      ],
      "text/plain": []
     },
     "metadata": {},
     "output_type": "display_data"
    },
    {
     "data": {
      "text/html": [
       "<pre style=\"white-space:pre;overflow-x:auto;line-height:normal;font-family:Menlo,'DejaVu Sans Mono',consolas,'Courier New',monospace\"><span style=\"color: #7fbfbf; text-decoration-color: #7fbfbf\">[12/07/24 12:42:49] </span><span style=\"color: #000080; text-decoration-color: #000080\">INFO    </span> <span style=\"color: #0000ff; text-decoration-color: #0000ff\">train</span>  - <span style=\"font-weight: bold\">(</span>Train<span style=\"font-weight: bold\">)</span> bce:  <span style=\"color: #008080; text-decoration-color: #008080; font-weight: bold\">0.3398</span>, mse:  <span style=\"color: #008080; text-decoration-color: #008080; font-weight: bold\">0.9645</span>,  acc: <span style=\"color: #008080; text-decoration-color: #008080; font-weight: bold\">88.167</span> %,   <a href=\"file:///n/home09/pren/3DGeno_tools/src/gt3d/modules/higashi/Higashi_wrapper.py\" target=\"_blank\"><span style=\"color: #7f7f7f; text-decoration-color: #7f7f7f\">Higashi_wrapper.py</span></a><span style=\"color: #7f7f7f; text-decoration-color: #7f7f7f\">:</span><a href=\"file:///n/home09/pren/3DGeno_tools/src/gt3d/modules/higashi/Higashi_wrapper.py#1258\" target=\"_blank\"><span style=\"color: #7f7f7f; text-decoration-color: #7f7f7f\">1258</span></a>\n",
       "<span style=\"color: #7fbfbf; text-decoration-color: #7fbfbf\">                    </span>         pearson: <span style=\"color: #008080; text-decoration-color: #008080; font-weight: bold\">0.630</span>, spearman: <span style=\"color: #008080; text-decoration-color: #008080; font-weight: bold\">0.554</span>, elapse: <span style=\"color: #008080; text-decoration-color: #008080; font-weight: bold\">93.181</span> s              <span style=\"color: #7f7f7f; text-decoration-color: #7f7f7f\">                       </span>\n",
       "</pre>\n"
      ],
      "text/plain": [
       "\u001b[2;36m[12/07/24 12:42:49]\u001b[0m\u001b[2;36m \u001b[0m\u001b[34mINFO    \u001b[0m \u001b[94mtrain\u001b[0m  - \u001b[1m(\u001b[0mTrain\u001b[1m)\u001b[0m bce:  \u001b[1;36m0.3398\u001b[0m, mse:  \u001b[1;36m0.9645\u001b[0m,  acc: \u001b[1;36m88.167\u001b[0m %,   \u001b]8;id=762437;file:///n/home09/pren/3DGeno_tools/src/gt3d/modules/higashi/Higashi_wrapper.py\u001b\\\u001b[2mHigashi_wrapper.py\u001b[0m\u001b]8;;\u001b\\\u001b[2m:\u001b[0m\u001b]8;id=816864;file:///n/home09/pren/3DGeno_tools/src/gt3d/modules/higashi/Higashi_wrapper.py#1258\u001b\\\u001b[2m1258\u001b[0m\u001b]8;;\u001b\\\n",
       "\u001b[2;36m                    \u001b[0m         pearson: \u001b[1;36m0.630\u001b[0m, spearman: \u001b[1;36m0.554\u001b[0m, elapse: \u001b[1;36m93.181\u001b[0m s              \u001b[2m                       \u001b[0m\n"
      ]
     },
     "metadata": {},
     "output_type": "display_data"
    },
    {
     "data": {
      "application/vnd.jupyter.widget-view+json": {
       "model_id": "92f68327a84140519951254c53eaa29d",
       "version_major": 2,
       "version_minor": 0
      },
      "text/plain": [
       "Output()"
      ]
     },
     "metadata": {},
     "output_type": "display_data"
    },
    {
     "data": {
      "text/html": [
       "<pre style=\"white-space:pre;overflow-x:auto;line-height:normal;font-family:Menlo,'DejaVu Sans Mono',consolas,'Courier New',monospace\"></pre>\n"
      ],
      "text/plain": []
     },
     "metadata": {},
     "output_type": "display_data"
    },
    {
     "data": {
      "text/html": [
       "<pre style=\"white-space:pre;overflow-x:auto;line-height:normal;font-family:Menlo,'DejaVu Sans Mono',consolas,'Courier New',monospace\"><span style=\"color: #7fbfbf; text-decoration-color: #7fbfbf\">                    </span><span style=\"color: #000080; text-decoration-color: #000080\">INFO    </span> <span style=\"color: #0000ff; text-decoration-color: #0000ff\">train</span>  - <span style=\"font-weight: bold\">(</span>Valid<span style=\"font-weight: bold\">)</span> bce:  <span style=\"color: #008080; text-decoration-color: #008080; font-weight: bold\">0.3475</span>,  acc: <span style=\"color: #008080; text-decoration-color: #008080; font-weight: bold\">88.587</span> %,pearson: <span style=\"color: #008080; text-decoration-color: #008080; font-weight: bold\">0.630</span>,  <a href=\"file:///n/home09/pren/3DGeno_tools/src/gt3d/modules/higashi/Higashi_wrapper.py\" target=\"_blank\"><span style=\"color: #7f7f7f; text-decoration-color: #7f7f7f\">Higashi_wrapper.py</span></a><span style=\"color: #7f7f7f; text-decoration-color: #7f7f7f\">:</span><a href=\"file:///n/home09/pren/3DGeno_tools/src/gt3d/modules/higashi/Higashi_wrapper.py#1277\" target=\"_blank\"><span style=\"color: #7f7f7f; text-decoration-color: #7f7f7f\">1277</span></a>\n",
       "<span style=\"color: #7fbfbf; text-decoration-color: #7fbfbf\">                    </span>         spearman: <span style=\"color: #008080; text-decoration-color: #008080; font-weight: bold\">0.553</span>,elapse: <span style=\"color: #008080; text-decoration-color: #008080; font-weight: bold\">0.052</span> s                                <span style=\"color: #7f7f7f; text-decoration-color: #7f7f7f\">                       </span>\n",
       "</pre>\n"
      ],
      "text/plain": [
       "\u001b[2;36m                   \u001b[0m\u001b[2;36m \u001b[0m\u001b[34mINFO    \u001b[0m \u001b[94mtrain\u001b[0m  - \u001b[1m(\u001b[0mValid\u001b[1m)\u001b[0m bce:  \u001b[1;36m0.3475\u001b[0m,  acc: \u001b[1;36m88.587\u001b[0m %,pearson: \u001b[1;36m0.630\u001b[0m,  \u001b]8;id=576062;file:///n/home09/pren/3DGeno_tools/src/gt3d/modules/higashi/Higashi_wrapper.py\u001b\\\u001b[2mHigashi_wrapper.py\u001b[0m\u001b]8;;\u001b\\\u001b[2m:\u001b[0m\u001b]8;id=190770;file:///n/home09/pren/3DGeno_tools/src/gt3d/modules/higashi/Higashi_wrapper.py#1277\u001b\\\u001b[2m1277\u001b[0m\u001b]8;;\u001b\\\n",
       "\u001b[2;36m                    \u001b[0m         spearman: \u001b[1;36m0.553\u001b[0m,elapse: \u001b[1;36m0.052\u001b[0m s                                \u001b[2m                       \u001b[0m\n"
      ]
     },
     "metadata": {},
     "output_type": "display_data"
    },
    {
     "data": {
      "text/html": [
       "<pre style=\"white-space:pre;overflow-x:auto;line-height:normal;font-family:Menlo,'DejaVu Sans Mono',consolas,'Courier New',monospace\"><span style=\"color: #7fbfbf; text-decoration-color: #7fbfbf\">                    </span><span style=\"color: #000080; text-decoration-color: #000080\">INFO    </span> <span style=\"color: #0000ff; text-decoration-color: #0000ff\">train</span> update_rate: <span style=\"color: #008080; text-decoration-color: #008080; font-weight: bold\">0.007182</span>     <span style=\"color: #008080; text-decoration-color: #008080; font-weight: bold\">0.291151</span>                       <a href=\"file:///n/home09/pren/3DGeno_tools/src/gt3d/modules/higashi/Higashi_wrapper.py\" target=\"_blank\"><span style=\"color: #7f7f7f; text-decoration-color: #7f7f7f\">Higashi_wrapper.py</span></a><span style=\"color: #7f7f7f; text-decoration-color: #7f7f7f\">:</span><a href=\"file:///n/home09/pren/3DGeno_tools/src/gt3d/modules/higashi/Higashi_wrapper.py#1323\" target=\"_blank\"><span style=\"color: #7f7f7f; text-decoration-color: #7f7f7f\">1323</span></a>\n",
       "</pre>\n"
      ],
      "text/plain": [
       "\u001b[2;36m                   \u001b[0m\u001b[2;36m \u001b[0m\u001b[34mINFO    \u001b[0m \u001b[94mtrain\u001b[0m update_rate: \u001b[1;36m0.007182\u001b[0m     \u001b[1;36m0.291151\u001b[0m                       \u001b]8;id=658823;file:///n/home09/pren/3DGeno_tools/src/gt3d/modules/higashi/Higashi_wrapper.py\u001b\\\u001b[2mHigashi_wrapper.py\u001b[0m\u001b]8;;\u001b\\\u001b[2m:\u001b[0m\u001b]8;id=31022;file:///n/home09/pren/3DGeno_tools/src/gt3d/modules/higashi/Higashi_wrapper.py#1323\u001b\\\u001b[2m1323\u001b[0m\u001b]8;;\u001b\\\n"
      ]
     },
     "metadata": {},
     "output_type": "display_data"
    },
    {
     "data": {
      "text/html": [
       "<pre style=\"white-space:pre;overflow-x:auto;line-height:normal;font-family:Menlo,'DejaVu Sans Mono',consolas,'Courier New',monospace\"><span style=\"color: #7fbfbf; text-decoration-color: #7fbfbf\">                    </span><span style=\"color: #000080; text-decoration-color: #000080\">INFO    </span> <span style=\"color: #0000ff; text-decoration-color: #0000ff\">train</span> <span style=\"font-weight: bold\">[</span> Epoch <span style=\"color: #008080; text-decoration-color: #008080; font-weight: bold\">12</span> of <span style=\"color: #008080; text-decoration-color: #008080; font-weight: bold\">200</span> <span style=\"font-weight: bold\">]</span>                                      <a href=\"file:///n/home09/pren/3DGeno_tools/src/gt3d/modules/higashi/Higashi_wrapper.py\" target=\"_blank\"><span style=\"color: #7f7f7f; text-decoration-color: #7f7f7f\">Higashi_wrapper.py</span></a><span style=\"color: #7f7f7f; text-decoration-color: #7f7f7f\">:</span><a href=\"file:///n/home09/pren/3DGeno_tools/src/gt3d/modules/higashi/Higashi_wrapper.py#1245\" target=\"_blank\"><span style=\"color: #7f7f7f; text-decoration-color: #7f7f7f\">1245</span></a>\n",
       "</pre>\n"
      ],
      "text/plain": [
       "\u001b[2;36m                   \u001b[0m\u001b[2;36m \u001b[0m\u001b[34mINFO    \u001b[0m \u001b[94mtrain\u001b[0m \u001b[1m[\u001b[0m Epoch \u001b[1;36m12\u001b[0m of \u001b[1;36m200\u001b[0m \u001b[1m]\u001b[0m                                      \u001b]8;id=904236;file:///n/home09/pren/3DGeno_tools/src/gt3d/modules/higashi/Higashi_wrapper.py\u001b\\\u001b[2mHigashi_wrapper.py\u001b[0m\u001b]8;;\u001b\\\u001b[2m:\u001b[0m\u001b]8;id=170725;file:///n/home09/pren/3DGeno_tools/src/gt3d/modules/higashi/Higashi_wrapper.py#1245\u001b\\\u001b[2m1245\u001b[0m\u001b]8;;\u001b\\\n"
      ]
     },
     "metadata": {},
     "output_type": "display_data"
    },
    {
     "data": {
      "application/vnd.jupyter.widget-view+json": {
       "model_id": "3fb17b58f44f4b9096c180ed41571a83",
       "version_major": 2,
       "version_minor": 0
      },
      "text/plain": [
       "Output()"
      ]
     },
     "metadata": {},
     "output_type": "display_data"
    },
    {
     "data": {
      "text/html": [
       "<pre style=\"white-space:pre;overflow-x:auto;line-height:normal;font-family:Menlo,'DejaVu Sans Mono',consolas,'Courier New',monospace\"></pre>\n"
      ],
      "text/plain": []
     },
     "metadata": {},
     "output_type": "display_data"
    },
    {
     "data": {
      "text/html": [
       "<pre style=\"white-space:pre;overflow-x:auto;line-height:normal;font-family:Menlo,'DejaVu Sans Mono',consolas,'Courier New',monospace\"><span style=\"color: #7fbfbf; text-decoration-color: #7fbfbf\">[12/07/24 12:44:20] </span><span style=\"color: #000080; text-decoration-color: #000080\">INFO    </span> <span style=\"color: #0000ff; text-decoration-color: #0000ff\">train</span>  - <span style=\"font-weight: bold\">(</span>Train<span style=\"font-weight: bold\">)</span> bce:  <span style=\"color: #008080; text-decoration-color: #008080; font-weight: bold\">0.3386</span>, mse:  <span style=\"color: #008080; text-decoration-color: #008080; font-weight: bold\">1.0636</span>,  acc: <span style=\"color: #008080; text-decoration-color: #008080; font-weight: bold\">88.253</span> %,   <a href=\"file:///n/home09/pren/3DGeno_tools/src/gt3d/modules/higashi/Higashi_wrapper.py\" target=\"_blank\"><span style=\"color: #7f7f7f; text-decoration-color: #7f7f7f\">Higashi_wrapper.py</span></a><span style=\"color: #7f7f7f; text-decoration-color: #7f7f7f\">:</span><a href=\"file:///n/home09/pren/3DGeno_tools/src/gt3d/modules/higashi/Higashi_wrapper.py#1258\" target=\"_blank\"><span style=\"color: #7f7f7f; text-decoration-color: #7f7f7f\">1258</span></a>\n",
       "<span style=\"color: #7fbfbf; text-decoration-color: #7fbfbf\">                    </span>         pearson: <span style=\"color: #008080; text-decoration-color: #008080; font-weight: bold\">0.635</span>, spearman: <span style=\"color: #008080; text-decoration-color: #008080; font-weight: bold\">0.555</span>, elapse: <span style=\"color: #008080; text-decoration-color: #008080; font-weight: bold\">91.030</span> s              <span style=\"color: #7f7f7f; text-decoration-color: #7f7f7f\">                       </span>\n",
       "</pre>\n"
      ],
      "text/plain": [
       "\u001b[2;36m[12/07/24 12:44:20]\u001b[0m\u001b[2;36m \u001b[0m\u001b[34mINFO    \u001b[0m \u001b[94mtrain\u001b[0m  - \u001b[1m(\u001b[0mTrain\u001b[1m)\u001b[0m bce:  \u001b[1;36m0.3386\u001b[0m, mse:  \u001b[1;36m1.0636\u001b[0m,  acc: \u001b[1;36m88.253\u001b[0m %,   \u001b]8;id=564668;file:///n/home09/pren/3DGeno_tools/src/gt3d/modules/higashi/Higashi_wrapper.py\u001b\\\u001b[2mHigashi_wrapper.py\u001b[0m\u001b]8;;\u001b\\\u001b[2m:\u001b[0m\u001b]8;id=337081;file:///n/home09/pren/3DGeno_tools/src/gt3d/modules/higashi/Higashi_wrapper.py#1258\u001b\\\u001b[2m1258\u001b[0m\u001b]8;;\u001b\\\n",
       "\u001b[2;36m                    \u001b[0m         pearson: \u001b[1;36m0.635\u001b[0m, spearman: \u001b[1;36m0.555\u001b[0m, elapse: \u001b[1;36m91.030\u001b[0m s              \u001b[2m                       \u001b[0m\n"
      ]
     },
     "metadata": {},
     "output_type": "display_data"
    },
    {
     "data": {
      "application/vnd.jupyter.widget-view+json": {
       "model_id": "ba44968234ef4330a382005c2c949d0c",
       "version_major": 2,
       "version_minor": 0
      },
      "text/plain": [
       "Output()"
      ]
     },
     "metadata": {},
     "output_type": "display_data"
    },
    {
     "data": {
      "text/html": [
       "<pre style=\"white-space:pre;overflow-x:auto;line-height:normal;font-family:Menlo,'DejaVu Sans Mono',consolas,'Courier New',monospace\"></pre>\n"
      ],
      "text/plain": []
     },
     "metadata": {},
     "output_type": "display_data"
    },
    {
     "data": {
      "text/html": [
       "<pre style=\"white-space:pre;overflow-x:auto;line-height:normal;font-family:Menlo,'DejaVu Sans Mono',consolas,'Courier New',monospace\"><span style=\"color: #7fbfbf; text-decoration-color: #7fbfbf\">                    </span><span style=\"color: #000080; text-decoration-color: #000080\">INFO    </span> <span style=\"color: #0000ff; text-decoration-color: #0000ff\">train</span>  - <span style=\"font-weight: bold\">(</span>Valid<span style=\"font-weight: bold\">)</span> bce:  <span style=\"color: #008080; text-decoration-color: #008080; font-weight: bold\">0.3520</span>,  acc: <span style=\"color: #008080; text-decoration-color: #008080; font-weight: bold\">87.767</span> %,pearson: <span style=\"color: #008080; text-decoration-color: #008080; font-weight: bold\">0.618</span>,  <a href=\"file:///n/home09/pren/3DGeno_tools/src/gt3d/modules/higashi/Higashi_wrapper.py\" target=\"_blank\"><span style=\"color: #7f7f7f; text-decoration-color: #7f7f7f\">Higashi_wrapper.py</span></a><span style=\"color: #7f7f7f; text-decoration-color: #7f7f7f\">:</span><a href=\"file:///n/home09/pren/3DGeno_tools/src/gt3d/modules/higashi/Higashi_wrapper.py#1277\" target=\"_blank\"><span style=\"color: #7f7f7f; text-decoration-color: #7f7f7f\">1277</span></a>\n",
       "<span style=\"color: #7fbfbf; text-decoration-color: #7fbfbf\">                    </span>         spearman: <span style=\"color: #008080; text-decoration-color: #008080; font-weight: bold\">0.550</span>,elapse: <span style=\"color: #008080; text-decoration-color: #008080; font-weight: bold\">0.091</span> s                                <span style=\"color: #7f7f7f; text-decoration-color: #7f7f7f\">                       </span>\n",
       "</pre>\n"
      ],
      "text/plain": [
       "\u001b[2;36m                   \u001b[0m\u001b[2;36m \u001b[0m\u001b[34mINFO    \u001b[0m \u001b[94mtrain\u001b[0m  - \u001b[1m(\u001b[0mValid\u001b[1m)\u001b[0m bce:  \u001b[1;36m0.3520\u001b[0m,  acc: \u001b[1;36m87.767\u001b[0m %,pearson: \u001b[1;36m0.618\u001b[0m,  \u001b]8;id=346625;file:///n/home09/pren/3DGeno_tools/src/gt3d/modules/higashi/Higashi_wrapper.py\u001b\\\u001b[2mHigashi_wrapper.py\u001b[0m\u001b]8;;\u001b\\\u001b[2m:\u001b[0m\u001b]8;id=876126;file:///n/home09/pren/3DGeno_tools/src/gt3d/modules/higashi/Higashi_wrapper.py#1277\u001b\\\u001b[2m1277\u001b[0m\u001b]8;;\u001b\\\n",
       "\u001b[2;36m                    \u001b[0m         spearman: \u001b[1;36m0.550\u001b[0m,elapse: \u001b[1;36m0.091\u001b[0m s                                \u001b[2m                       \u001b[0m\n"
      ]
     },
     "metadata": {},
     "output_type": "display_data"
    },
    {
     "data": {
      "text/html": [
       "<pre style=\"white-space:pre;overflow-x:auto;line-height:normal;font-family:Menlo,'DejaVu Sans Mono',consolas,'Courier New',monospace\"><span style=\"color: #7fbfbf; text-decoration-color: #7fbfbf\">                    </span><span style=\"color: #000080; text-decoration-color: #000080\">INFO    </span> <span style=\"color: #0000ff; text-decoration-color: #0000ff\">train</span> update_rate: <span style=\"color: #008080; text-decoration-color: #008080; font-weight: bold\">0.009275</span>     <span style=\"color: #008080; text-decoration-color: #008080; font-weight: bold\">0.438905</span>                       <a href=\"file:///n/home09/pren/3DGeno_tools/src/gt3d/modules/higashi/Higashi_wrapper.py\" target=\"_blank\"><span style=\"color: #7f7f7f; text-decoration-color: #7f7f7f\">Higashi_wrapper.py</span></a><span style=\"color: #7f7f7f; text-decoration-color: #7f7f7f\">:</span><a href=\"file:///n/home09/pren/3DGeno_tools/src/gt3d/modules/higashi/Higashi_wrapper.py#1323\" target=\"_blank\"><span style=\"color: #7f7f7f; text-decoration-color: #7f7f7f\">1323</span></a>\n",
       "</pre>\n"
      ],
      "text/plain": [
       "\u001b[2;36m                   \u001b[0m\u001b[2;36m \u001b[0m\u001b[34mINFO    \u001b[0m \u001b[94mtrain\u001b[0m update_rate: \u001b[1;36m0.009275\u001b[0m     \u001b[1;36m0.438905\u001b[0m                       \u001b]8;id=71859;file:///n/home09/pren/3DGeno_tools/src/gt3d/modules/higashi/Higashi_wrapper.py\u001b\\\u001b[2mHigashi_wrapper.py\u001b[0m\u001b]8;;\u001b\\\u001b[2m:\u001b[0m\u001b]8;id=941090;file:///n/home09/pren/3DGeno_tools/src/gt3d/modules/higashi/Higashi_wrapper.py#1323\u001b\\\u001b[2m1323\u001b[0m\u001b]8;;\u001b\\\n"
      ]
     },
     "metadata": {},
     "output_type": "display_data"
    },
    {
     "data": {
      "text/html": [
       "<pre style=\"white-space:pre;overflow-x:auto;line-height:normal;font-family:Menlo,'DejaVu Sans Mono',consolas,'Courier New',monospace\"><span style=\"color: #7fbfbf; text-decoration-color: #7fbfbf\">[12/07/24 12:44:21] </span><span style=\"color: #000080; text-decoration-color: #000080\">INFO    </span> <span style=\"color: #0000ff; text-decoration-color: #0000ff\">train</span> <span style=\"font-weight: bold\">[</span> Epoch <span style=\"color: #008080; text-decoration-color: #008080; font-weight: bold\">13</span> of <span style=\"color: #008080; text-decoration-color: #008080; font-weight: bold\">200</span> <span style=\"font-weight: bold\">]</span>                                      <a href=\"file:///n/home09/pren/3DGeno_tools/src/gt3d/modules/higashi/Higashi_wrapper.py\" target=\"_blank\"><span style=\"color: #7f7f7f; text-decoration-color: #7f7f7f\">Higashi_wrapper.py</span></a><span style=\"color: #7f7f7f; text-decoration-color: #7f7f7f\">:</span><a href=\"file:///n/home09/pren/3DGeno_tools/src/gt3d/modules/higashi/Higashi_wrapper.py#1245\" target=\"_blank\"><span style=\"color: #7f7f7f; text-decoration-color: #7f7f7f\">1245</span></a>\n",
       "</pre>\n"
      ],
      "text/plain": [
       "\u001b[2;36m[12/07/24 12:44:21]\u001b[0m\u001b[2;36m \u001b[0m\u001b[34mINFO    \u001b[0m \u001b[94mtrain\u001b[0m \u001b[1m[\u001b[0m Epoch \u001b[1;36m13\u001b[0m of \u001b[1;36m200\u001b[0m \u001b[1m]\u001b[0m                                      \u001b]8;id=819903;file:///n/home09/pren/3DGeno_tools/src/gt3d/modules/higashi/Higashi_wrapper.py\u001b\\\u001b[2mHigashi_wrapper.py\u001b[0m\u001b]8;;\u001b\\\u001b[2m:\u001b[0m\u001b]8;id=510073;file:///n/home09/pren/3DGeno_tools/src/gt3d/modules/higashi/Higashi_wrapper.py#1245\u001b\\\u001b[2m1245\u001b[0m\u001b]8;;\u001b\\\n"
      ]
     },
     "metadata": {},
     "output_type": "display_data"
    },
    {
     "data": {
      "application/vnd.jupyter.widget-view+json": {
       "model_id": "a9eec3efd67143419b94b1a749fb4a87",
       "version_major": 2,
       "version_minor": 0
      },
      "text/plain": [
       "Output()"
      ]
     },
     "metadata": {},
     "output_type": "display_data"
    },
    {
     "data": {
      "text/html": [
       "<pre style=\"white-space:pre;overflow-x:auto;line-height:normal;font-family:Menlo,'DejaVu Sans Mono',consolas,'Courier New',monospace\"></pre>\n"
      ],
      "text/plain": []
     },
     "metadata": {},
     "output_type": "display_data"
    },
    {
     "data": {
      "text/html": [
       "<pre style=\"white-space:pre;overflow-x:auto;line-height:normal;font-family:Menlo,'DejaVu Sans Mono',consolas,'Courier New',monospace\"><span style=\"color: #7fbfbf; text-decoration-color: #7fbfbf\">[12/07/24 12:45:52] </span><span style=\"color: #000080; text-decoration-color: #000080\">INFO    </span> <span style=\"color: #0000ff; text-decoration-color: #0000ff\">train</span>  - <span style=\"font-weight: bold\">(</span>Train<span style=\"font-weight: bold\">)</span> bce:  <span style=\"color: #008080; text-decoration-color: #008080; font-weight: bold\">0.3353</span>, mse:  <span style=\"color: #008080; text-decoration-color: #008080; font-weight: bold\">2.0702</span>,  acc: <span style=\"color: #008080; text-decoration-color: #008080; font-weight: bold\">88.454</span> %,   <a href=\"file:///n/home09/pren/3DGeno_tools/src/gt3d/modules/higashi/Higashi_wrapper.py\" target=\"_blank\"><span style=\"color: #7f7f7f; text-decoration-color: #7f7f7f\">Higashi_wrapper.py</span></a><span style=\"color: #7f7f7f; text-decoration-color: #7f7f7f\">:</span><a href=\"file:///n/home09/pren/3DGeno_tools/src/gt3d/modules/higashi/Higashi_wrapper.py#1258\" target=\"_blank\"><span style=\"color: #7f7f7f; text-decoration-color: #7f7f7f\">1258</span></a>\n",
       "<span style=\"color: #7fbfbf; text-decoration-color: #7fbfbf\">                    </span>         pearson: <span style=\"color: #008080; text-decoration-color: #008080; font-weight: bold\">0.638</span>, spearman: <span style=\"color: #008080; text-decoration-color: #008080; font-weight: bold\">0.558</span>, elapse: <span style=\"color: #008080; text-decoration-color: #008080; font-weight: bold\">91.400</span> s              <span style=\"color: #7f7f7f; text-decoration-color: #7f7f7f\">                       </span>\n",
       "</pre>\n"
      ],
      "text/plain": [
       "\u001b[2;36m[12/07/24 12:45:52]\u001b[0m\u001b[2;36m \u001b[0m\u001b[34mINFO    \u001b[0m \u001b[94mtrain\u001b[0m  - \u001b[1m(\u001b[0mTrain\u001b[1m)\u001b[0m bce:  \u001b[1;36m0.3353\u001b[0m, mse:  \u001b[1;36m2.0702\u001b[0m,  acc: \u001b[1;36m88.454\u001b[0m %,   \u001b]8;id=587781;file:///n/home09/pren/3DGeno_tools/src/gt3d/modules/higashi/Higashi_wrapper.py\u001b\\\u001b[2mHigashi_wrapper.py\u001b[0m\u001b]8;;\u001b\\\u001b[2m:\u001b[0m\u001b]8;id=545727;file:///n/home09/pren/3DGeno_tools/src/gt3d/modules/higashi/Higashi_wrapper.py#1258\u001b\\\u001b[2m1258\u001b[0m\u001b]8;;\u001b\\\n",
       "\u001b[2;36m                    \u001b[0m         pearson: \u001b[1;36m0.638\u001b[0m, spearman: \u001b[1;36m0.558\u001b[0m, elapse: \u001b[1;36m91.400\u001b[0m s              \u001b[2m                       \u001b[0m\n"
      ]
     },
     "metadata": {},
     "output_type": "display_data"
    },
    {
     "data": {
      "application/vnd.jupyter.widget-view+json": {
       "model_id": "8e73ce96d6fe427786bec05c17319715",
       "version_major": 2,
       "version_minor": 0
      },
      "text/plain": [
       "Output()"
      ]
     },
     "metadata": {},
     "output_type": "display_data"
    },
    {
     "data": {
      "text/html": [
       "<pre style=\"white-space:pre;overflow-x:auto;line-height:normal;font-family:Menlo,'DejaVu Sans Mono',consolas,'Courier New',monospace\"></pre>\n"
      ],
      "text/plain": []
     },
     "metadata": {},
     "output_type": "display_data"
    },
    {
     "data": {
      "text/html": [
       "<pre style=\"white-space:pre;overflow-x:auto;line-height:normal;font-family:Menlo,'DejaVu Sans Mono',consolas,'Courier New',monospace\"><span style=\"color: #7fbfbf; text-decoration-color: #7fbfbf\">[12/07/24 12:45:53] </span><span style=\"color: #000080; text-decoration-color: #000080\">INFO    </span> <span style=\"color: #0000ff; text-decoration-color: #0000ff\">train</span>  - <span style=\"font-weight: bold\">(</span>Valid<span style=\"font-weight: bold\">)</span> bce:  <span style=\"color: #008080; text-decoration-color: #008080; font-weight: bold\">0.3480</span>,  acc: <span style=\"color: #008080; text-decoration-color: #008080; font-weight: bold\">89.186</span> %,pearson: <span style=\"color: #008080; text-decoration-color: #008080; font-weight: bold\">0.636</span>,  <a href=\"file:///n/home09/pren/3DGeno_tools/src/gt3d/modules/higashi/Higashi_wrapper.py\" target=\"_blank\"><span style=\"color: #7f7f7f; text-decoration-color: #7f7f7f\">Higashi_wrapper.py</span></a><span style=\"color: #7f7f7f; text-decoration-color: #7f7f7f\">:</span><a href=\"file:///n/home09/pren/3DGeno_tools/src/gt3d/modules/higashi/Higashi_wrapper.py#1277\" target=\"_blank\"><span style=\"color: #7f7f7f; text-decoration-color: #7f7f7f\">1277</span></a>\n",
       "<span style=\"color: #7fbfbf; text-decoration-color: #7fbfbf\">                    </span>         spearman: <span style=\"color: #008080; text-decoration-color: #008080; font-weight: bold\">0.562</span>,elapse: <span style=\"color: #008080; text-decoration-color: #008080; font-weight: bold\">0.052</span> s                                <span style=\"color: #7f7f7f; text-decoration-color: #7f7f7f\">                       </span>\n",
       "</pre>\n"
      ],
      "text/plain": [
       "\u001b[2;36m[12/07/24 12:45:53]\u001b[0m\u001b[2;36m \u001b[0m\u001b[34mINFO    \u001b[0m \u001b[94mtrain\u001b[0m  - \u001b[1m(\u001b[0mValid\u001b[1m)\u001b[0m bce:  \u001b[1;36m0.3480\u001b[0m,  acc: \u001b[1;36m89.186\u001b[0m %,pearson: \u001b[1;36m0.636\u001b[0m,  \u001b]8;id=715892;file:///n/home09/pren/3DGeno_tools/src/gt3d/modules/higashi/Higashi_wrapper.py\u001b\\\u001b[2mHigashi_wrapper.py\u001b[0m\u001b]8;;\u001b\\\u001b[2m:\u001b[0m\u001b]8;id=701615;file:///n/home09/pren/3DGeno_tools/src/gt3d/modules/higashi/Higashi_wrapper.py#1277\u001b\\\u001b[2m1277\u001b[0m\u001b]8;;\u001b\\\n",
       "\u001b[2;36m                    \u001b[0m         spearman: \u001b[1;36m0.562\u001b[0m,elapse: \u001b[1;36m0.052\u001b[0m s                                \u001b[2m                       \u001b[0m\n"
      ]
     },
     "metadata": {},
     "output_type": "display_data"
    },
    {
     "data": {
      "text/html": [
       "<pre style=\"white-space:pre;overflow-x:auto;line-height:normal;font-family:Menlo,'DejaVu Sans Mono',consolas,'Courier New',monospace\"><span style=\"color: #7fbfbf; text-decoration-color: #7fbfbf\">                    </span><span style=\"color: #000080; text-decoration-color: #000080\">INFO    </span> <span style=\"color: #0000ff; text-decoration-color: #0000ff\">train</span> update_rate: <span style=\"color: #008080; text-decoration-color: #008080; font-weight: bold\">0.007554</span>     <span style=\"color: #008080; text-decoration-color: #008080; font-weight: bold\">0.245106</span>                       <a href=\"file:///n/home09/pren/3DGeno_tools/src/gt3d/modules/higashi/Higashi_wrapper.py\" target=\"_blank\"><span style=\"color: #7f7f7f; text-decoration-color: #7f7f7f\">Higashi_wrapper.py</span></a><span style=\"color: #7f7f7f; text-decoration-color: #7f7f7f\">:</span><a href=\"file:///n/home09/pren/3DGeno_tools/src/gt3d/modules/higashi/Higashi_wrapper.py#1323\" target=\"_blank\"><span style=\"color: #7f7f7f; text-decoration-color: #7f7f7f\">1323</span></a>\n",
       "</pre>\n"
      ],
      "text/plain": [
       "\u001b[2;36m                   \u001b[0m\u001b[2;36m \u001b[0m\u001b[34mINFO    \u001b[0m \u001b[94mtrain\u001b[0m update_rate: \u001b[1;36m0.007554\u001b[0m     \u001b[1;36m0.245106\u001b[0m                       \u001b]8;id=25245;file:///n/home09/pren/3DGeno_tools/src/gt3d/modules/higashi/Higashi_wrapper.py\u001b\\\u001b[2mHigashi_wrapper.py\u001b[0m\u001b]8;;\u001b\\\u001b[2m:\u001b[0m\u001b]8;id=82891;file:///n/home09/pren/3DGeno_tools/src/gt3d/modules/higashi/Higashi_wrapper.py#1323\u001b\\\u001b[2m1323\u001b[0m\u001b]8;;\u001b\\\n"
      ]
     },
     "metadata": {},
     "output_type": "display_data"
    },
    {
     "data": {
      "text/html": [
       "<pre style=\"white-space:pre;overflow-x:auto;line-height:normal;font-family:Menlo,'DejaVu Sans Mono',consolas,'Courier New',monospace\"><span style=\"color: #7fbfbf; text-decoration-color: #7fbfbf\">                    </span><span style=\"color: #000080; text-decoration-color: #000080\">INFO    </span> <span style=\"color: #0000ff; text-decoration-color: #0000ff\">train</span> <span style=\"font-weight: bold\">[</span> Epoch <span style=\"color: #008080; text-decoration-color: #008080; font-weight: bold\">14</span> of <span style=\"color: #008080; text-decoration-color: #008080; font-weight: bold\">200</span> <span style=\"font-weight: bold\">]</span>                                      <a href=\"file:///n/home09/pren/3DGeno_tools/src/gt3d/modules/higashi/Higashi_wrapper.py\" target=\"_blank\"><span style=\"color: #7f7f7f; text-decoration-color: #7f7f7f\">Higashi_wrapper.py</span></a><span style=\"color: #7f7f7f; text-decoration-color: #7f7f7f\">:</span><a href=\"file:///n/home09/pren/3DGeno_tools/src/gt3d/modules/higashi/Higashi_wrapper.py#1245\" target=\"_blank\"><span style=\"color: #7f7f7f; text-decoration-color: #7f7f7f\">1245</span></a>\n",
       "</pre>\n"
      ],
      "text/plain": [
       "\u001b[2;36m                   \u001b[0m\u001b[2;36m \u001b[0m\u001b[34mINFO    \u001b[0m \u001b[94mtrain\u001b[0m \u001b[1m[\u001b[0m Epoch \u001b[1;36m14\u001b[0m of \u001b[1;36m200\u001b[0m \u001b[1m]\u001b[0m                                      \u001b]8;id=797850;file:///n/home09/pren/3DGeno_tools/src/gt3d/modules/higashi/Higashi_wrapper.py\u001b\\\u001b[2mHigashi_wrapper.py\u001b[0m\u001b]8;;\u001b\\\u001b[2m:\u001b[0m\u001b]8;id=597742;file:///n/home09/pren/3DGeno_tools/src/gt3d/modules/higashi/Higashi_wrapper.py#1245\u001b\\\u001b[2m1245\u001b[0m\u001b]8;;\u001b\\\n"
      ]
     },
     "metadata": {},
     "output_type": "display_data"
    },
    {
     "data": {
      "application/vnd.jupyter.widget-view+json": {
       "model_id": "25829dc7513847dbbebb4678269c8fe9",
       "version_major": 2,
       "version_minor": 0
      },
      "text/plain": [
       "Output()"
      ]
     },
     "metadata": {},
     "output_type": "display_data"
    },
    {
     "data": {
      "text/html": [
       "<pre style=\"white-space:pre;overflow-x:auto;line-height:normal;font-family:Menlo,'DejaVu Sans Mono',consolas,'Courier New',monospace\"></pre>\n"
      ],
      "text/plain": []
     },
     "metadata": {},
     "output_type": "display_data"
    },
    {
     "data": {
      "text/html": [
       "<pre style=\"white-space:pre;overflow-x:auto;line-height:normal;font-family:Menlo,'DejaVu Sans Mono',consolas,'Courier New',monospace\"><span style=\"color: #7fbfbf; text-decoration-color: #7fbfbf\">[12/07/24 12:47:22] </span><span style=\"color: #000080; text-decoration-color: #000080\">INFO    </span> <span style=\"color: #0000ff; text-decoration-color: #0000ff\">train</span>  - <span style=\"font-weight: bold\">(</span>Train<span style=\"font-weight: bold\">)</span> bce:  <span style=\"color: #008080; text-decoration-color: #008080; font-weight: bold\">0.3332</span>, mse:  <span style=\"color: #008080; text-decoration-color: #008080; font-weight: bold\">0.9362</span>,  acc: <span style=\"color: #008080; text-decoration-color: #008080; font-weight: bold\">88.635</span> %,   <a href=\"file:///n/home09/pren/3DGeno_tools/src/gt3d/modules/higashi/Higashi_wrapper.py\" target=\"_blank\"><span style=\"color: #7f7f7f; text-decoration-color: #7f7f7f\">Higashi_wrapper.py</span></a><span style=\"color: #7f7f7f; text-decoration-color: #7f7f7f\">:</span><a href=\"file:///n/home09/pren/3DGeno_tools/src/gt3d/modules/higashi/Higashi_wrapper.py#1258\" target=\"_blank\"><span style=\"color: #7f7f7f; text-decoration-color: #7f7f7f\">1258</span></a>\n",
       "<span style=\"color: #7fbfbf; text-decoration-color: #7fbfbf\">                    </span>         pearson: <span style=\"color: #008080; text-decoration-color: #008080; font-weight: bold\">0.645</span>, spearman: <span style=\"color: #008080; text-decoration-color: #008080; font-weight: bold\">0.561</span>, elapse: <span style=\"color: #008080; text-decoration-color: #008080; font-weight: bold\">89.257</span> s              <span style=\"color: #7f7f7f; text-decoration-color: #7f7f7f\">                       </span>\n",
       "</pre>\n"
      ],
      "text/plain": [
       "\u001b[2;36m[12/07/24 12:47:22]\u001b[0m\u001b[2;36m \u001b[0m\u001b[34mINFO    \u001b[0m \u001b[94mtrain\u001b[0m  - \u001b[1m(\u001b[0mTrain\u001b[1m)\u001b[0m bce:  \u001b[1;36m0.3332\u001b[0m, mse:  \u001b[1;36m0.9362\u001b[0m,  acc: \u001b[1;36m88.635\u001b[0m %,   \u001b]8;id=483705;file:///n/home09/pren/3DGeno_tools/src/gt3d/modules/higashi/Higashi_wrapper.py\u001b\\\u001b[2mHigashi_wrapper.py\u001b[0m\u001b]8;;\u001b\\\u001b[2m:\u001b[0m\u001b]8;id=485163;file:///n/home09/pren/3DGeno_tools/src/gt3d/modules/higashi/Higashi_wrapper.py#1258\u001b\\\u001b[2m1258\u001b[0m\u001b]8;;\u001b\\\n",
       "\u001b[2;36m                    \u001b[0m         pearson: \u001b[1;36m0.645\u001b[0m, spearman: \u001b[1;36m0.561\u001b[0m, elapse: \u001b[1;36m89.257\u001b[0m s              \u001b[2m                       \u001b[0m\n"
      ]
     },
     "metadata": {},
     "output_type": "display_data"
    },
    {
     "data": {
      "application/vnd.jupyter.widget-view+json": {
       "model_id": "43e391380fdc4fbbb50e1b239bfd4e0a",
       "version_major": 2,
       "version_minor": 0
      },
      "text/plain": [
       "Output()"
      ]
     },
     "metadata": {},
     "output_type": "display_data"
    },
    {
     "data": {
      "text/html": [
       "<pre style=\"white-space:pre;overflow-x:auto;line-height:normal;font-family:Menlo,'DejaVu Sans Mono',consolas,'Courier New',monospace\"></pre>\n"
      ],
      "text/plain": []
     },
     "metadata": {},
     "output_type": "display_data"
    },
    {
     "data": {
      "text/html": [
       "<pre style=\"white-space:pre;overflow-x:auto;line-height:normal;font-family:Menlo,'DejaVu Sans Mono',consolas,'Courier New',monospace\"><span style=\"color: #7fbfbf; text-decoration-color: #7fbfbf\">                    </span><span style=\"color: #000080; text-decoration-color: #000080\">INFO    </span> <span style=\"color: #0000ff; text-decoration-color: #0000ff\">train</span>  - <span style=\"font-weight: bold\">(</span>Valid<span style=\"font-weight: bold\">)</span> bce:  <span style=\"color: #008080; text-decoration-color: #008080; font-weight: bold\">0.3562</span>,  acc: <span style=\"color: #008080; text-decoration-color: #008080; font-weight: bold\">87.122</span> %,pearson: <span style=\"color: #008080; text-decoration-color: #008080; font-weight: bold\">0.613</span>,  <a href=\"file:///n/home09/pren/3DGeno_tools/src/gt3d/modules/higashi/Higashi_wrapper.py\" target=\"_blank\"><span style=\"color: #7f7f7f; text-decoration-color: #7f7f7f\">Higashi_wrapper.py</span></a><span style=\"color: #7f7f7f; text-decoration-color: #7f7f7f\">:</span><a href=\"file:///n/home09/pren/3DGeno_tools/src/gt3d/modules/higashi/Higashi_wrapper.py#1277\" target=\"_blank\"><span style=\"color: #7f7f7f; text-decoration-color: #7f7f7f\">1277</span></a>\n",
       "<span style=\"color: #7fbfbf; text-decoration-color: #7fbfbf\">                    </span>         spearman: <span style=\"color: #008080; text-decoration-color: #008080; font-weight: bold\">0.540</span>,elapse: <span style=\"color: #008080; text-decoration-color: #008080; font-weight: bold\">0.052</span> s                                <span style=\"color: #7f7f7f; text-decoration-color: #7f7f7f\">                       </span>\n",
       "</pre>\n"
      ],
      "text/plain": [
       "\u001b[2;36m                   \u001b[0m\u001b[2;36m \u001b[0m\u001b[34mINFO    \u001b[0m \u001b[94mtrain\u001b[0m  - \u001b[1m(\u001b[0mValid\u001b[1m)\u001b[0m bce:  \u001b[1;36m0.3562\u001b[0m,  acc: \u001b[1;36m87.122\u001b[0m %,pearson: \u001b[1;36m0.613\u001b[0m,  \u001b]8;id=380882;file:///n/home09/pren/3DGeno_tools/src/gt3d/modules/higashi/Higashi_wrapper.py\u001b\\\u001b[2mHigashi_wrapper.py\u001b[0m\u001b]8;;\u001b\\\u001b[2m:\u001b[0m\u001b]8;id=200263;file:///n/home09/pren/3DGeno_tools/src/gt3d/modules/higashi/Higashi_wrapper.py#1277\u001b\\\u001b[2m1277\u001b[0m\u001b]8;;\u001b\\\n",
       "\u001b[2;36m                    \u001b[0m         spearman: \u001b[1;36m0.540\u001b[0m,elapse: \u001b[1;36m0.052\u001b[0m s                                \u001b[2m                       \u001b[0m\n"
      ]
     },
     "metadata": {},
     "output_type": "display_data"
    },
    {
     "data": {
      "text/html": [
       "<pre style=\"white-space:pre;overflow-x:auto;line-height:normal;font-family:Menlo,'DejaVu Sans Mono',consolas,'Courier New',monospace\"><span style=\"color: #7fbfbf; text-decoration-color: #7fbfbf\">                    </span><span style=\"color: #000080; text-decoration-color: #000080\">INFO    </span> <span style=\"color: #0000ff; text-decoration-color: #0000ff\">train</span> update_rate: <span style=\"color: #008080; text-decoration-color: #008080; font-weight: bold\">0.006540</span>     <span style=\"color: #008080; text-decoration-color: #008080; font-weight: bold\">0.210987</span>                       <a href=\"file:///n/home09/pren/3DGeno_tools/src/gt3d/modules/higashi/Higashi_wrapper.py\" target=\"_blank\"><span style=\"color: #7f7f7f; text-decoration-color: #7f7f7f\">Higashi_wrapper.py</span></a><span style=\"color: #7f7f7f; text-decoration-color: #7f7f7f\">:</span><a href=\"file:///n/home09/pren/3DGeno_tools/src/gt3d/modules/higashi/Higashi_wrapper.py#1323\" target=\"_blank\"><span style=\"color: #7f7f7f; text-decoration-color: #7f7f7f\">1323</span></a>\n",
       "</pre>\n"
      ],
      "text/plain": [
       "\u001b[2;36m                   \u001b[0m\u001b[2;36m \u001b[0m\u001b[34mINFO    \u001b[0m \u001b[94mtrain\u001b[0m update_rate: \u001b[1;36m0.006540\u001b[0m     \u001b[1;36m0.210987\u001b[0m                       \u001b]8;id=353412;file:///n/home09/pren/3DGeno_tools/src/gt3d/modules/higashi/Higashi_wrapper.py\u001b\\\u001b[2mHigashi_wrapper.py\u001b[0m\u001b]8;;\u001b\\\u001b[2m:\u001b[0m\u001b]8;id=290831;file:///n/home09/pren/3DGeno_tools/src/gt3d/modules/higashi/Higashi_wrapper.py#1323\u001b\\\u001b[2m1323\u001b[0m\u001b]8;;\u001b\\\n"
      ]
     },
     "metadata": {},
     "output_type": "display_data"
    },
    {
     "data": {
      "text/html": [
       "<pre style=\"white-space:pre;overflow-x:auto;line-height:normal;font-family:Menlo,'DejaVu Sans Mono',consolas,'Courier New',monospace\"><span style=\"color: #7fbfbf; text-decoration-color: #7fbfbf\">                    </span><span style=\"color: #000080; text-decoration-color: #000080\">INFO    </span> <span style=\"color: #0000ff; text-decoration-color: #0000ff\">train</span> <span style=\"font-weight: bold\">[</span> Epoch <span style=\"color: #008080; text-decoration-color: #008080; font-weight: bold\">15</span> of <span style=\"color: #008080; text-decoration-color: #008080; font-weight: bold\">200</span> <span style=\"font-weight: bold\">]</span>                                      <a href=\"file:///n/home09/pren/3DGeno_tools/src/gt3d/modules/higashi/Higashi_wrapper.py\" target=\"_blank\"><span style=\"color: #7f7f7f; text-decoration-color: #7f7f7f\">Higashi_wrapper.py</span></a><span style=\"color: #7f7f7f; text-decoration-color: #7f7f7f\">:</span><a href=\"file:///n/home09/pren/3DGeno_tools/src/gt3d/modules/higashi/Higashi_wrapper.py#1245\" target=\"_blank\"><span style=\"color: #7f7f7f; text-decoration-color: #7f7f7f\">1245</span></a>\n",
       "</pre>\n"
      ],
      "text/plain": [
       "\u001b[2;36m                   \u001b[0m\u001b[2;36m \u001b[0m\u001b[34mINFO    \u001b[0m \u001b[94mtrain\u001b[0m \u001b[1m[\u001b[0m Epoch \u001b[1;36m15\u001b[0m of \u001b[1;36m200\u001b[0m \u001b[1m]\u001b[0m                                      \u001b]8;id=809721;file:///n/home09/pren/3DGeno_tools/src/gt3d/modules/higashi/Higashi_wrapper.py\u001b\\\u001b[2mHigashi_wrapper.py\u001b[0m\u001b]8;;\u001b\\\u001b[2m:\u001b[0m\u001b]8;id=386391;file:///n/home09/pren/3DGeno_tools/src/gt3d/modules/higashi/Higashi_wrapper.py#1245\u001b\\\u001b[2m1245\u001b[0m\u001b]8;;\u001b\\\n"
      ]
     },
     "metadata": {},
     "output_type": "display_data"
    },
    {
     "data": {
      "application/vnd.jupyter.widget-view+json": {
       "model_id": "2768ec74d94148ed95da582f8635dde6",
       "version_major": 2,
       "version_minor": 0
      },
      "text/plain": [
       "Output()"
      ]
     },
     "metadata": {},
     "output_type": "display_data"
    },
    {
     "data": {
      "text/html": [
       "<pre style=\"white-space:pre;overflow-x:auto;line-height:normal;font-family:Menlo,'DejaVu Sans Mono',consolas,'Courier New',monospace\"></pre>\n"
      ],
      "text/plain": []
     },
     "metadata": {},
     "output_type": "display_data"
    },
    {
     "data": {
      "text/html": [
       "<pre style=\"white-space:pre;overflow-x:auto;line-height:normal;font-family:Menlo,'DejaVu Sans Mono',consolas,'Courier New',monospace\"><span style=\"color: #7fbfbf; text-decoration-color: #7fbfbf\">[12/07/24 12:48:52] </span><span style=\"color: #000080; text-decoration-color: #000080\">INFO    </span> <span style=\"color: #0000ff; text-decoration-color: #0000ff\">train</span>  - <span style=\"font-weight: bold\">(</span>Train<span style=\"font-weight: bold\">)</span> bce:  <span style=\"color: #008080; text-decoration-color: #008080; font-weight: bold\">0.3334</span>, mse:  <span style=\"color: #008080; text-decoration-color: #008080; font-weight: bold\">0.9550</span>,  acc: <span style=\"color: #008080; text-decoration-color: #008080; font-weight: bold\">88.613</span> %,   <a href=\"file:///n/home09/pren/3DGeno_tools/src/gt3d/modules/higashi/Higashi_wrapper.py\" target=\"_blank\"><span style=\"color: #7f7f7f; text-decoration-color: #7f7f7f\">Higashi_wrapper.py</span></a><span style=\"color: #7f7f7f; text-decoration-color: #7f7f7f\">:</span><a href=\"file:///n/home09/pren/3DGeno_tools/src/gt3d/modules/higashi/Higashi_wrapper.py#1258\" target=\"_blank\"><span style=\"color: #7f7f7f; text-decoration-color: #7f7f7f\">1258</span></a>\n",
       "<span style=\"color: #7fbfbf; text-decoration-color: #7fbfbf\">                    </span>         pearson: <span style=\"color: #008080; text-decoration-color: #008080; font-weight: bold\">0.645</span>, spearman: <span style=\"color: #008080; text-decoration-color: #008080; font-weight: bold\">0.560</span>, elapse: <span style=\"color: #008080; text-decoration-color: #008080; font-weight: bold\">89.643</span> s              <span style=\"color: #7f7f7f; text-decoration-color: #7f7f7f\">                       </span>\n",
       "</pre>\n"
      ],
      "text/plain": [
       "\u001b[2;36m[12/07/24 12:48:52]\u001b[0m\u001b[2;36m \u001b[0m\u001b[34mINFO    \u001b[0m \u001b[94mtrain\u001b[0m  - \u001b[1m(\u001b[0mTrain\u001b[1m)\u001b[0m bce:  \u001b[1;36m0.3334\u001b[0m, mse:  \u001b[1;36m0.9550\u001b[0m,  acc: \u001b[1;36m88.613\u001b[0m %,   \u001b]8;id=454987;file:///n/home09/pren/3DGeno_tools/src/gt3d/modules/higashi/Higashi_wrapper.py\u001b\\\u001b[2mHigashi_wrapper.py\u001b[0m\u001b]8;;\u001b\\\u001b[2m:\u001b[0m\u001b]8;id=932925;file:///n/home09/pren/3DGeno_tools/src/gt3d/modules/higashi/Higashi_wrapper.py#1258\u001b\\\u001b[2m1258\u001b[0m\u001b]8;;\u001b\\\n",
       "\u001b[2;36m                    \u001b[0m         pearson: \u001b[1;36m0.645\u001b[0m, spearman: \u001b[1;36m0.560\u001b[0m, elapse: \u001b[1;36m89.643\u001b[0m s              \u001b[2m                       \u001b[0m\n"
      ]
     },
     "metadata": {},
     "output_type": "display_data"
    },
    {
     "data": {
      "application/vnd.jupyter.widget-view+json": {
       "model_id": "9edb476731d8410291c035f6a3a06dc8",
       "version_major": 2,
       "version_minor": 0
      },
      "text/plain": [
       "Output()"
      ]
     },
     "metadata": {},
     "output_type": "display_data"
    },
    {
     "data": {
      "text/html": [
       "<pre style=\"white-space:pre;overflow-x:auto;line-height:normal;font-family:Menlo,'DejaVu Sans Mono',consolas,'Courier New',monospace\"></pre>\n"
      ],
      "text/plain": []
     },
     "metadata": {},
     "output_type": "display_data"
    },
    {
     "data": {
      "text/html": [
       "<pre style=\"white-space:pre;overflow-x:auto;line-height:normal;font-family:Menlo,'DejaVu Sans Mono',consolas,'Courier New',monospace\"><span style=\"color: #7fbfbf; text-decoration-color: #7fbfbf\">                    </span><span style=\"color: #000080; text-decoration-color: #000080\">INFO    </span> <span style=\"color: #0000ff; text-decoration-color: #0000ff\">train</span>  - <span style=\"font-weight: bold\">(</span>Valid<span style=\"font-weight: bold\">)</span> bce:  <span style=\"color: #008080; text-decoration-color: #008080; font-weight: bold\">0.3533</span>,  acc: <span style=\"color: #008080; text-decoration-color: #008080; font-weight: bold\">86.862</span> %,pearson: <span style=\"color: #008080; text-decoration-color: #008080; font-weight: bold\">0.609</span>,  <a href=\"file:///n/home09/pren/3DGeno_tools/src/gt3d/modules/higashi/Higashi_wrapper.py\" target=\"_blank\"><span style=\"color: #7f7f7f; text-decoration-color: #7f7f7f\">Higashi_wrapper.py</span></a><span style=\"color: #7f7f7f; text-decoration-color: #7f7f7f\">:</span><a href=\"file:///n/home09/pren/3DGeno_tools/src/gt3d/modules/higashi/Higashi_wrapper.py#1277\" target=\"_blank\"><span style=\"color: #7f7f7f; text-decoration-color: #7f7f7f\">1277</span></a>\n",
       "<span style=\"color: #7fbfbf; text-decoration-color: #7fbfbf\">                    </span>         spearman: <span style=\"color: #008080; text-decoration-color: #008080; font-weight: bold\">0.537</span>,elapse: <span style=\"color: #008080; text-decoration-color: #008080; font-weight: bold\">0.052</span> s                                <span style=\"color: #7f7f7f; text-decoration-color: #7f7f7f\">                       </span>\n",
       "</pre>\n"
      ],
      "text/plain": [
       "\u001b[2;36m                   \u001b[0m\u001b[2;36m \u001b[0m\u001b[34mINFO    \u001b[0m \u001b[94mtrain\u001b[0m  - \u001b[1m(\u001b[0mValid\u001b[1m)\u001b[0m bce:  \u001b[1;36m0.3533\u001b[0m,  acc: \u001b[1;36m86.862\u001b[0m %,pearson: \u001b[1;36m0.609\u001b[0m,  \u001b]8;id=202135;file:///n/home09/pren/3DGeno_tools/src/gt3d/modules/higashi/Higashi_wrapper.py\u001b\\\u001b[2mHigashi_wrapper.py\u001b[0m\u001b]8;;\u001b\\\u001b[2m:\u001b[0m\u001b]8;id=399709;file:///n/home09/pren/3DGeno_tools/src/gt3d/modules/higashi/Higashi_wrapper.py#1277\u001b\\\u001b[2m1277\u001b[0m\u001b]8;;\u001b\\\n",
       "\u001b[2;36m                    \u001b[0m         spearman: \u001b[1;36m0.537\u001b[0m,elapse: \u001b[1;36m0.052\u001b[0m s                                \u001b[2m                       \u001b[0m\n"
      ]
     },
     "metadata": {},
     "output_type": "display_data"
    },
    {
     "data": {
      "text/html": [
       "<pre style=\"white-space:pre;overflow-x:auto;line-height:normal;font-family:Menlo,'DejaVu Sans Mono',consolas,'Courier New',monospace\"><span style=\"color: #7fbfbf; text-decoration-color: #7fbfbf\">                    </span><span style=\"color: #000080; text-decoration-color: #000080\">INFO    </span> <span style=\"color: #0000ff; text-decoration-color: #0000ff\">train</span> update_rate: <span style=\"color: #008080; text-decoration-color: #008080; font-weight: bold\">0.006136</span>     <span style=\"color: #008080; text-decoration-color: #008080; font-weight: bold\">0.306949</span>                       <a href=\"file:///n/home09/pren/3DGeno_tools/src/gt3d/modules/higashi/Higashi_wrapper.py\" target=\"_blank\"><span style=\"color: #7f7f7f; text-decoration-color: #7f7f7f\">Higashi_wrapper.py</span></a><span style=\"color: #7f7f7f; text-decoration-color: #7f7f7f\">:</span><a href=\"file:///n/home09/pren/3DGeno_tools/src/gt3d/modules/higashi/Higashi_wrapper.py#1323\" target=\"_blank\"><span style=\"color: #7f7f7f; text-decoration-color: #7f7f7f\">1323</span></a>\n",
       "</pre>\n"
      ],
      "text/plain": [
       "\u001b[2;36m                   \u001b[0m\u001b[2;36m \u001b[0m\u001b[34mINFO    \u001b[0m \u001b[94mtrain\u001b[0m update_rate: \u001b[1;36m0.006136\u001b[0m     \u001b[1;36m0.306949\u001b[0m                       \u001b]8;id=709147;file:///n/home09/pren/3DGeno_tools/src/gt3d/modules/higashi/Higashi_wrapper.py\u001b\\\u001b[2mHigashi_wrapper.py\u001b[0m\u001b]8;;\u001b\\\u001b[2m:\u001b[0m\u001b]8;id=316280;file:///n/home09/pren/3DGeno_tools/src/gt3d/modules/higashi/Higashi_wrapper.py#1323\u001b\\\u001b[2m1323\u001b[0m\u001b]8;;\u001b\\\n"
      ]
     },
     "metadata": {},
     "output_type": "display_data"
    },
    {
     "data": {
      "text/html": [
       "<pre style=\"white-space:pre;overflow-x:auto;line-height:normal;font-family:Menlo,'DejaVu Sans Mono',consolas,'Courier New',monospace\"><span style=\"color: #7fbfbf; text-decoration-color: #7fbfbf\">                    </span><span style=\"color: #000080; text-decoration-color: #000080\">INFO    </span> <span style=\"color: #0000ff; text-decoration-color: #0000ff\">train</span> <span style=\"font-weight: bold\">[</span> Epoch <span style=\"color: #008080; text-decoration-color: #008080; font-weight: bold\">16</span> of <span style=\"color: #008080; text-decoration-color: #008080; font-weight: bold\">200</span> <span style=\"font-weight: bold\">]</span>                                      <a href=\"file:///n/home09/pren/3DGeno_tools/src/gt3d/modules/higashi/Higashi_wrapper.py\" target=\"_blank\"><span style=\"color: #7f7f7f; text-decoration-color: #7f7f7f\">Higashi_wrapper.py</span></a><span style=\"color: #7f7f7f; text-decoration-color: #7f7f7f\">:</span><a href=\"file:///n/home09/pren/3DGeno_tools/src/gt3d/modules/higashi/Higashi_wrapper.py#1245\" target=\"_blank\"><span style=\"color: #7f7f7f; text-decoration-color: #7f7f7f\">1245</span></a>\n",
       "</pre>\n"
      ],
      "text/plain": [
       "\u001b[2;36m                   \u001b[0m\u001b[2;36m \u001b[0m\u001b[34mINFO    \u001b[0m \u001b[94mtrain\u001b[0m \u001b[1m[\u001b[0m Epoch \u001b[1;36m16\u001b[0m of \u001b[1;36m200\u001b[0m \u001b[1m]\u001b[0m                                      \u001b]8;id=428003;file:///n/home09/pren/3DGeno_tools/src/gt3d/modules/higashi/Higashi_wrapper.py\u001b\\\u001b[2mHigashi_wrapper.py\u001b[0m\u001b]8;;\u001b\\\u001b[2m:\u001b[0m\u001b]8;id=721098;file:///n/home09/pren/3DGeno_tools/src/gt3d/modules/higashi/Higashi_wrapper.py#1245\u001b\\\u001b[2m1245\u001b[0m\u001b]8;;\u001b\\\n"
      ]
     },
     "metadata": {},
     "output_type": "display_data"
    },
    {
     "data": {
      "application/vnd.jupyter.widget-view+json": {
       "model_id": "be5c55ba0f82478b92ea9467d1fdeffc",
       "version_major": 2,
       "version_minor": 0
      },
      "text/plain": [
       "Output()"
      ]
     },
     "metadata": {},
     "output_type": "display_data"
    },
    {
     "data": {
      "text/html": [
       "<pre style=\"white-space:pre;overflow-x:auto;line-height:normal;font-family:Menlo,'DejaVu Sans Mono',consolas,'Courier New',monospace\"></pre>\n"
      ],
      "text/plain": []
     },
     "metadata": {},
     "output_type": "display_data"
    },
    {
     "data": {
      "text/html": [
       "<pre style=\"white-space:pre;overflow-x:auto;line-height:normal;font-family:Menlo,'DejaVu Sans Mono',consolas,'Courier New',monospace\"><span style=\"color: #7fbfbf; text-decoration-color: #7fbfbf\">[12/07/24 12:50:21] </span><span style=\"color: #000080; text-decoration-color: #000080\">INFO    </span> <span style=\"color: #0000ff; text-decoration-color: #0000ff\">train</span>  - <span style=\"font-weight: bold\">(</span>Train<span style=\"font-weight: bold\">)</span> bce:  <span style=\"color: #008080; text-decoration-color: #008080; font-weight: bold\">0.3318</span>, mse:  <span style=\"color: #008080; text-decoration-color: #008080; font-weight: bold\">1.0057</span>,  acc: <span style=\"color: #008080; text-decoration-color: #008080; font-weight: bold\">88.684</span> %,   <a href=\"file:///n/home09/pren/3DGeno_tools/src/gt3d/modules/higashi/Higashi_wrapper.py\" target=\"_blank\"><span style=\"color: #7f7f7f; text-decoration-color: #7f7f7f\">Higashi_wrapper.py</span></a><span style=\"color: #7f7f7f; text-decoration-color: #7f7f7f\">:</span><a href=\"file:///n/home09/pren/3DGeno_tools/src/gt3d/modules/higashi/Higashi_wrapper.py#1258\" target=\"_blank\"><span style=\"color: #7f7f7f; text-decoration-color: #7f7f7f\">1258</span></a>\n",
       "<span style=\"color: #7fbfbf; text-decoration-color: #7fbfbf\">                    </span>         pearson: <span style=\"color: #008080; text-decoration-color: #008080; font-weight: bold\">0.648</span>, spearman: <span style=\"color: #008080; text-decoration-color: #008080; font-weight: bold\">0.561</span>, elapse: <span style=\"color: #008080; text-decoration-color: #008080; font-weight: bold\">89.380</span> s              <span style=\"color: #7f7f7f; text-decoration-color: #7f7f7f\">                       </span>\n",
       "</pre>\n"
      ],
      "text/plain": [
       "\u001b[2;36m[12/07/24 12:50:21]\u001b[0m\u001b[2;36m \u001b[0m\u001b[34mINFO    \u001b[0m \u001b[94mtrain\u001b[0m  - \u001b[1m(\u001b[0mTrain\u001b[1m)\u001b[0m bce:  \u001b[1;36m0.3318\u001b[0m, mse:  \u001b[1;36m1.0057\u001b[0m,  acc: \u001b[1;36m88.684\u001b[0m %,   \u001b]8;id=628156;file:///n/home09/pren/3DGeno_tools/src/gt3d/modules/higashi/Higashi_wrapper.py\u001b\\\u001b[2mHigashi_wrapper.py\u001b[0m\u001b]8;;\u001b\\\u001b[2m:\u001b[0m\u001b]8;id=884728;file:///n/home09/pren/3DGeno_tools/src/gt3d/modules/higashi/Higashi_wrapper.py#1258\u001b\\\u001b[2m1258\u001b[0m\u001b]8;;\u001b\\\n",
       "\u001b[2;36m                    \u001b[0m         pearson: \u001b[1;36m0.648\u001b[0m, spearman: \u001b[1;36m0.561\u001b[0m, elapse: \u001b[1;36m89.380\u001b[0m s              \u001b[2m                       \u001b[0m\n"
      ]
     },
     "metadata": {},
     "output_type": "display_data"
    },
    {
     "data": {
      "application/vnd.jupyter.widget-view+json": {
       "model_id": "85b8a2c576ea4f698ed15ad2f75429b7",
       "version_major": 2,
       "version_minor": 0
      },
      "text/plain": [
       "Output()"
      ]
     },
     "metadata": {},
     "output_type": "display_data"
    },
    {
     "data": {
      "text/html": [
       "<pre style=\"white-space:pre;overflow-x:auto;line-height:normal;font-family:Menlo,'DejaVu Sans Mono',consolas,'Courier New',monospace\"></pre>\n"
      ],
      "text/plain": []
     },
     "metadata": {},
     "output_type": "display_data"
    },
    {
     "data": {
      "text/html": [
       "<pre style=\"white-space:pre;overflow-x:auto;line-height:normal;font-family:Menlo,'DejaVu Sans Mono',consolas,'Courier New',monospace\"><span style=\"color: #7fbfbf; text-decoration-color: #7fbfbf\">                    </span><span style=\"color: #000080; text-decoration-color: #000080\">INFO    </span> <span style=\"color: #0000ff; text-decoration-color: #0000ff\">train</span>  - <span style=\"font-weight: bold\">(</span>Valid<span style=\"font-weight: bold\">)</span> bce:  <span style=\"color: #008080; text-decoration-color: #008080; font-weight: bold\">0.3495</span>,  acc: <span style=\"color: #008080; text-decoration-color: #008080; font-weight: bold\">87.409</span> %,pearson: <span style=\"color: #008080; text-decoration-color: #008080; font-weight: bold\">0.626</span>,  <a href=\"file:///n/home09/pren/3DGeno_tools/src/gt3d/modules/higashi/Higashi_wrapper.py\" target=\"_blank\"><span style=\"color: #7f7f7f; text-decoration-color: #7f7f7f\">Higashi_wrapper.py</span></a><span style=\"color: #7f7f7f; text-decoration-color: #7f7f7f\">:</span><a href=\"file:///n/home09/pren/3DGeno_tools/src/gt3d/modules/higashi/Higashi_wrapper.py#1277\" target=\"_blank\"><span style=\"color: #7f7f7f; text-decoration-color: #7f7f7f\">1277</span></a>\n",
       "<span style=\"color: #7fbfbf; text-decoration-color: #7fbfbf\">                    </span>         spearman: <span style=\"color: #008080; text-decoration-color: #008080; font-weight: bold\">0.551</span>,elapse: <span style=\"color: #008080; text-decoration-color: #008080; font-weight: bold\">0.052</span> s                                <span style=\"color: #7f7f7f; text-decoration-color: #7f7f7f\">                       </span>\n",
       "</pre>\n"
      ],
      "text/plain": [
       "\u001b[2;36m                   \u001b[0m\u001b[2;36m \u001b[0m\u001b[34mINFO    \u001b[0m \u001b[94mtrain\u001b[0m  - \u001b[1m(\u001b[0mValid\u001b[1m)\u001b[0m bce:  \u001b[1;36m0.3495\u001b[0m,  acc: \u001b[1;36m87.409\u001b[0m %,pearson: \u001b[1;36m0.626\u001b[0m,  \u001b]8;id=399408;file:///n/home09/pren/3DGeno_tools/src/gt3d/modules/higashi/Higashi_wrapper.py\u001b\\\u001b[2mHigashi_wrapper.py\u001b[0m\u001b]8;;\u001b\\\u001b[2m:\u001b[0m\u001b]8;id=351094;file:///n/home09/pren/3DGeno_tools/src/gt3d/modules/higashi/Higashi_wrapper.py#1277\u001b\\\u001b[2m1277\u001b[0m\u001b]8;;\u001b\\\n",
       "\u001b[2;36m                    \u001b[0m         spearman: \u001b[1;36m0.551\u001b[0m,elapse: \u001b[1;36m0.052\u001b[0m s                                \u001b[2m                       \u001b[0m\n"
      ]
     },
     "metadata": {},
     "output_type": "display_data"
    },
    {
     "data": {
      "text/html": [
       "<pre style=\"white-space:pre;overflow-x:auto;line-height:normal;font-family:Menlo,'DejaVu Sans Mono',consolas,'Courier New',monospace\"><span style=\"color: #7fbfbf; text-decoration-color: #7fbfbf\">                    </span><span style=\"color: #000080; text-decoration-color: #000080\">INFO    </span> <span style=\"color: #0000ff; text-decoration-color: #0000ff\">train</span> update_rate: <span style=\"color: #008080; text-decoration-color: #008080; font-weight: bold\">0.007091</span>     <span style=\"color: #008080; text-decoration-color: #008080; font-weight: bold\">0.529710</span>                       <a href=\"file:///n/home09/pren/3DGeno_tools/src/gt3d/modules/higashi/Higashi_wrapper.py\" target=\"_blank\"><span style=\"color: #7f7f7f; text-decoration-color: #7f7f7f\">Higashi_wrapper.py</span></a><span style=\"color: #7f7f7f; text-decoration-color: #7f7f7f\">:</span><a href=\"file:///n/home09/pren/3DGeno_tools/src/gt3d/modules/higashi/Higashi_wrapper.py#1323\" target=\"_blank\"><span style=\"color: #7f7f7f; text-decoration-color: #7f7f7f\">1323</span></a>\n",
       "</pre>\n"
      ],
      "text/plain": [
       "\u001b[2;36m                   \u001b[0m\u001b[2;36m \u001b[0m\u001b[34mINFO    \u001b[0m \u001b[94mtrain\u001b[0m update_rate: \u001b[1;36m0.007091\u001b[0m     \u001b[1;36m0.529710\u001b[0m                       \u001b]8;id=60183;file:///n/home09/pren/3DGeno_tools/src/gt3d/modules/higashi/Higashi_wrapper.py\u001b\\\u001b[2mHigashi_wrapper.py\u001b[0m\u001b]8;;\u001b\\\u001b[2m:\u001b[0m\u001b]8;id=399094;file:///n/home09/pren/3DGeno_tools/src/gt3d/modules/higashi/Higashi_wrapper.py#1323\u001b\\\u001b[2m1323\u001b[0m\u001b]8;;\u001b\\\n"
      ]
     },
     "metadata": {},
     "output_type": "display_data"
    },
    {
     "data": {
      "text/html": [
       "<pre style=\"white-space:pre;overflow-x:auto;line-height:normal;font-family:Menlo,'DejaVu Sans Mono',consolas,'Courier New',monospace\"><span style=\"color: #7fbfbf; text-decoration-color: #7fbfbf\">                    </span><span style=\"color: #000080; text-decoration-color: #000080\">INFO    </span> <span style=\"color: #0000ff; text-decoration-color: #0000ff\">train</span> <span style=\"font-weight: bold\">[</span> Epoch <span style=\"color: #008080; text-decoration-color: #008080; font-weight: bold\">17</span> of <span style=\"color: #008080; text-decoration-color: #008080; font-weight: bold\">200</span> <span style=\"font-weight: bold\">]</span>                                      <a href=\"file:///n/home09/pren/3DGeno_tools/src/gt3d/modules/higashi/Higashi_wrapper.py\" target=\"_blank\"><span style=\"color: #7f7f7f; text-decoration-color: #7f7f7f\">Higashi_wrapper.py</span></a><span style=\"color: #7f7f7f; text-decoration-color: #7f7f7f\">:</span><a href=\"file:///n/home09/pren/3DGeno_tools/src/gt3d/modules/higashi/Higashi_wrapper.py#1245\" target=\"_blank\"><span style=\"color: #7f7f7f; text-decoration-color: #7f7f7f\">1245</span></a>\n",
       "</pre>\n"
      ],
      "text/plain": [
       "\u001b[2;36m                   \u001b[0m\u001b[2;36m \u001b[0m\u001b[34mINFO    \u001b[0m \u001b[94mtrain\u001b[0m \u001b[1m[\u001b[0m Epoch \u001b[1;36m17\u001b[0m of \u001b[1;36m200\u001b[0m \u001b[1m]\u001b[0m                                      \u001b]8;id=726065;file:///n/home09/pren/3DGeno_tools/src/gt3d/modules/higashi/Higashi_wrapper.py\u001b\\\u001b[2mHigashi_wrapper.py\u001b[0m\u001b]8;;\u001b\\\u001b[2m:\u001b[0m\u001b]8;id=449417;file:///n/home09/pren/3DGeno_tools/src/gt3d/modules/higashi/Higashi_wrapper.py#1245\u001b\\\u001b[2m1245\u001b[0m\u001b]8;;\u001b\\\n"
      ]
     },
     "metadata": {},
     "output_type": "display_data"
    },
    {
     "data": {
      "application/vnd.jupyter.widget-view+json": {
       "model_id": "07214e26464a48f58233ddf37cf24c71",
       "version_major": 2,
       "version_minor": 0
      },
      "text/plain": [
       "Output()"
      ]
     },
     "metadata": {},
     "output_type": "display_data"
    },
    {
     "data": {
      "text/html": [
       "<pre style=\"white-space:pre;overflow-x:auto;line-height:normal;font-family:Menlo,'DejaVu Sans Mono',consolas,'Courier New',monospace\"></pre>\n"
      ],
      "text/plain": []
     },
     "metadata": {},
     "output_type": "display_data"
    },
    {
     "data": {
      "text/html": [
       "<pre style=\"white-space:pre;overflow-x:auto;line-height:normal;font-family:Menlo,'DejaVu Sans Mono',consolas,'Courier New',monospace\"><span style=\"color: #7fbfbf; text-decoration-color: #7fbfbf\">[12/07/24 12:51:51] </span><span style=\"color: #000080; text-decoration-color: #000080\">INFO    </span> <span style=\"color: #0000ff; text-decoration-color: #0000ff\">train</span>  - <span style=\"font-weight: bold\">(</span>Train<span style=\"font-weight: bold\">)</span> bce:  <span style=\"color: #008080; text-decoration-color: #008080; font-weight: bold\">0.3315</span>, mse:  <span style=\"color: #008080; text-decoration-color: #008080; font-weight: bold\">1.1888</span>,  acc: <span style=\"color: #008080; text-decoration-color: #008080; font-weight: bold\">88.709</span> %,   <a href=\"file:///n/home09/pren/3DGeno_tools/src/gt3d/modules/higashi/Higashi_wrapper.py\" target=\"_blank\"><span style=\"color: #7f7f7f; text-decoration-color: #7f7f7f\">Higashi_wrapper.py</span></a><span style=\"color: #7f7f7f; text-decoration-color: #7f7f7f\">:</span><a href=\"file:///n/home09/pren/3DGeno_tools/src/gt3d/modules/higashi/Higashi_wrapper.py#1258\" target=\"_blank\"><span style=\"color: #7f7f7f; text-decoration-color: #7f7f7f\">1258</span></a>\n",
       "<span style=\"color: #7fbfbf; text-decoration-color: #7fbfbf\">                    </span>         pearson: <span style=\"color: #008080; text-decoration-color: #008080; font-weight: bold\">0.649</span>, spearman: <span style=\"color: #008080; text-decoration-color: #008080; font-weight: bold\">0.562</span>, elapse: <span style=\"color: #008080; text-decoration-color: #008080; font-weight: bold\">89.675</span> s              <span style=\"color: #7f7f7f; text-decoration-color: #7f7f7f\">                       </span>\n",
       "</pre>\n"
      ],
      "text/plain": [
       "\u001b[2;36m[12/07/24 12:51:51]\u001b[0m\u001b[2;36m \u001b[0m\u001b[34mINFO    \u001b[0m \u001b[94mtrain\u001b[0m  - \u001b[1m(\u001b[0mTrain\u001b[1m)\u001b[0m bce:  \u001b[1;36m0.3315\u001b[0m, mse:  \u001b[1;36m1.1888\u001b[0m,  acc: \u001b[1;36m88.709\u001b[0m %,   \u001b]8;id=987472;file:///n/home09/pren/3DGeno_tools/src/gt3d/modules/higashi/Higashi_wrapper.py\u001b\\\u001b[2mHigashi_wrapper.py\u001b[0m\u001b]8;;\u001b\\\u001b[2m:\u001b[0m\u001b]8;id=549336;file:///n/home09/pren/3DGeno_tools/src/gt3d/modules/higashi/Higashi_wrapper.py#1258\u001b\\\u001b[2m1258\u001b[0m\u001b]8;;\u001b\\\n",
       "\u001b[2;36m                    \u001b[0m         pearson: \u001b[1;36m0.649\u001b[0m, spearman: \u001b[1;36m0.562\u001b[0m, elapse: \u001b[1;36m89.675\u001b[0m s              \u001b[2m                       \u001b[0m\n"
      ]
     },
     "metadata": {},
     "output_type": "display_data"
    },
    {
     "data": {
      "application/vnd.jupyter.widget-view+json": {
       "model_id": "ac6abb9477df4079bd5915790a9a233b",
       "version_major": 2,
       "version_minor": 0
      },
      "text/plain": [
       "Output()"
      ]
     },
     "metadata": {},
     "output_type": "display_data"
    },
    {
     "data": {
      "text/html": [
       "<pre style=\"white-space:pre;overflow-x:auto;line-height:normal;font-family:Menlo,'DejaVu Sans Mono',consolas,'Courier New',monospace\"></pre>\n"
      ],
      "text/plain": []
     },
     "metadata": {},
     "output_type": "display_data"
    },
    {
     "data": {
      "text/html": [
       "<pre style=\"white-space:pre;overflow-x:auto;line-height:normal;font-family:Menlo,'DejaVu Sans Mono',consolas,'Courier New',monospace\"><span style=\"color: #7fbfbf; text-decoration-color: #7fbfbf\">                    </span><span style=\"color: #000080; text-decoration-color: #000080\">INFO    </span> <span style=\"color: #0000ff; text-decoration-color: #0000ff\">train</span>  - <span style=\"font-weight: bold\">(</span>Valid<span style=\"font-weight: bold\">)</span> bce:  <span style=\"color: #008080; text-decoration-color: #008080; font-weight: bold\">0.3533</span>,  acc: <span style=\"color: #008080; text-decoration-color: #008080; font-weight: bold\">87.884</span> %,pearson: <span style=\"color: #008080; text-decoration-color: #008080; font-weight: bold\">0.625</span>,  <a href=\"file:///n/home09/pren/3DGeno_tools/src/gt3d/modules/higashi/Higashi_wrapper.py\" target=\"_blank\"><span style=\"color: #7f7f7f; text-decoration-color: #7f7f7f\">Higashi_wrapper.py</span></a><span style=\"color: #7f7f7f; text-decoration-color: #7f7f7f\">:</span><a href=\"file:///n/home09/pren/3DGeno_tools/src/gt3d/modules/higashi/Higashi_wrapper.py#1277\" target=\"_blank\"><span style=\"color: #7f7f7f; text-decoration-color: #7f7f7f\">1277</span></a>\n",
       "<span style=\"color: #7fbfbf; text-decoration-color: #7fbfbf\">                    </span>         spearman: <span style=\"color: #008080; text-decoration-color: #008080; font-weight: bold\">0.553</span>,elapse: <span style=\"color: #008080; text-decoration-color: #008080; font-weight: bold\">0.052</span> s                                <span style=\"color: #7f7f7f; text-decoration-color: #7f7f7f\">                       </span>\n",
       "</pre>\n"
      ],
      "text/plain": [
       "\u001b[2;36m                   \u001b[0m\u001b[2;36m \u001b[0m\u001b[34mINFO    \u001b[0m \u001b[94mtrain\u001b[0m  - \u001b[1m(\u001b[0mValid\u001b[1m)\u001b[0m bce:  \u001b[1;36m0.3533\u001b[0m,  acc: \u001b[1;36m87.884\u001b[0m %,pearson: \u001b[1;36m0.625\u001b[0m,  \u001b]8;id=584157;file:///n/home09/pren/3DGeno_tools/src/gt3d/modules/higashi/Higashi_wrapper.py\u001b\\\u001b[2mHigashi_wrapper.py\u001b[0m\u001b]8;;\u001b\\\u001b[2m:\u001b[0m\u001b]8;id=458405;file:///n/home09/pren/3DGeno_tools/src/gt3d/modules/higashi/Higashi_wrapper.py#1277\u001b\\\u001b[2m1277\u001b[0m\u001b]8;;\u001b\\\n",
       "\u001b[2;36m                    \u001b[0m         spearman: \u001b[1;36m0.553\u001b[0m,elapse: \u001b[1;36m0.052\u001b[0m s                                \u001b[2m                       \u001b[0m\n"
      ]
     },
     "metadata": {},
     "output_type": "display_data"
    },
    {
     "data": {
      "text/html": [
       "<pre style=\"white-space:pre;overflow-x:auto;line-height:normal;font-family:Menlo,'DejaVu Sans Mono',consolas,'Courier New',monospace\"><span style=\"color: #7fbfbf; text-decoration-color: #7fbfbf\">                    </span><span style=\"color: #000080; text-decoration-color: #000080\">INFO    </span> <span style=\"color: #0000ff; text-decoration-color: #0000ff\">train</span> update_rate: <span style=\"color: #008080; text-decoration-color: #008080; font-weight: bold\">0.007192</span>     <span style=\"color: #008080; text-decoration-color: #008080; font-weight: bold\">0.201019</span>                       <a href=\"file:///n/home09/pren/3DGeno_tools/src/gt3d/modules/higashi/Higashi_wrapper.py\" target=\"_blank\"><span style=\"color: #7f7f7f; text-decoration-color: #7f7f7f\">Higashi_wrapper.py</span></a><span style=\"color: #7f7f7f; text-decoration-color: #7f7f7f\">:</span><a href=\"file:///n/home09/pren/3DGeno_tools/src/gt3d/modules/higashi/Higashi_wrapper.py#1323\" target=\"_blank\"><span style=\"color: #7f7f7f; text-decoration-color: #7f7f7f\">1323</span></a>\n",
       "</pre>\n"
      ],
      "text/plain": [
       "\u001b[2;36m                   \u001b[0m\u001b[2;36m \u001b[0m\u001b[34mINFO    \u001b[0m \u001b[94mtrain\u001b[0m update_rate: \u001b[1;36m0.007192\u001b[0m     \u001b[1;36m0.201019\u001b[0m                       \u001b]8;id=816867;file:///n/home09/pren/3DGeno_tools/src/gt3d/modules/higashi/Higashi_wrapper.py\u001b\\\u001b[2mHigashi_wrapper.py\u001b[0m\u001b]8;;\u001b\\\u001b[2m:\u001b[0m\u001b]8;id=695833;file:///n/home09/pren/3DGeno_tools/src/gt3d/modules/higashi/Higashi_wrapper.py#1323\u001b\\\u001b[2m1323\u001b[0m\u001b]8;;\u001b\\\n"
      ]
     },
     "metadata": {},
     "output_type": "display_data"
    },
    {
     "data": {
      "text/html": [
       "<pre style=\"white-space:pre;overflow-x:auto;line-height:normal;font-family:Menlo,'DejaVu Sans Mono',consolas,'Courier New',monospace\"><span style=\"color: #7fbfbf; text-decoration-color: #7fbfbf\">                    </span><span style=\"color: #000080; text-decoration-color: #000080\">INFO    </span> <span style=\"color: #0000ff; text-decoration-color: #0000ff\">train</span> <span style=\"font-weight: bold\">[</span> Epoch <span style=\"color: #008080; text-decoration-color: #008080; font-weight: bold\">18</span> of <span style=\"color: #008080; text-decoration-color: #008080; font-weight: bold\">200</span> <span style=\"font-weight: bold\">]</span>                                      <a href=\"file:///n/home09/pren/3DGeno_tools/src/gt3d/modules/higashi/Higashi_wrapper.py\" target=\"_blank\"><span style=\"color: #7f7f7f; text-decoration-color: #7f7f7f\">Higashi_wrapper.py</span></a><span style=\"color: #7f7f7f; text-decoration-color: #7f7f7f\">:</span><a href=\"file:///n/home09/pren/3DGeno_tools/src/gt3d/modules/higashi/Higashi_wrapper.py#1245\" target=\"_blank\"><span style=\"color: #7f7f7f; text-decoration-color: #7f7f7f\">1245</span></a>\n",
       "</pre>\n"
      ],
      "text/plain": [
       "\u001b[2;36m                   \u001b[0m\u001b[2;36m \u001b[0m\u001b[34mINFO    \u001b[0m \u001b[94mtrain\u001b[0m \u001b[1m[\u001b[0m Epoch \u001b[1;36m18\u001b[0m of \u001b[1;36m200\u001b[0m \u001b[1m]\u001b[0m                                      \u001b]8;id=98496;file:///n/home09/pren/3DGeno_tools/src/gt3d/modules/higashi/Higashi_wrapper.py\u001b\\\u001b[2mHigashi_wrapper.py\u001b[0m\u001b]8;;\u001b\\\u001b[2m:\u001b[0m\u001b]8;id=676048;file:///n/home09/pren/3DGeno_tools/src/gt3d/modules/higashi/Higashi_wrapper.py#1245\u001b\\\u001b[2m1245\u001b[0m\u001b]8;;\u001b\\\n"
      ]
     },
     "metadata": {},
     "output_type": "display_data"
    },
    {
     "data": {
      "application/vnd.jupyter.widget-view+json": {
       "model_id": "6ef965b4ca1d42c2b0abac7050c5a2c3",
       "version_major": 2,
       "version_minor": 0
      },
      "text/plain": [
       "Output()"
      ]
     },
     "metadata": {},
     "output_type": "display_data"
    },
    {
     "data": {
      "text/html": [
       "<pre style=\"white-space:pre;overflow-x:auto;line-height:normal;font-family:Menlo,'DejaVu Sans Mono',consolas,'Courier New',monospace\"></pre>\n"
      ],
      "text/plain": []
     },
     "metadata": {},
     "output_type": "display_data"
    },
    {
     "data": {
      "text/html": [
       "<pre style=\"white-space:pre;overflow-x:auto;line-height:normal;font-family:Menlo,'DejaVu Sans Mono',consolas,'Courier New',monospace\"><span style=\"color: #7fbfbf; text-decoration-color: #7fbfbf\">[12/07/24 12:53:22] </span><span style=\"color: #000080; text-decoration-color: #000080\">INFO    </span> <span style=\"color: #0000ff; text-decoration-color: #0000ff\">train</span>  - <span style=\"font-weight: bold\">(</span>Train<span style=\"font-weight: bold\">)</span> bce:  <span style=\"color: #008080; text-decoration-color: #008080; font-weight: bold\">0.3306</span>, mse:  <span style=\"color: #008080; text-decoration-color: #008080; font-weight: bold\">0.8863</span>,  acc: <span style=\"color: #008080; text-decoration-color: #008080; font-weight: bold\">88.799</span> %,   <a href=\"file:///n/home09/pren/3DGeno_tools/src/gt3d/modules/higashi/Higashi_wrapper.py\" target=\"_blank\"><span style=\"color: #7f7f7f; text-decoration-color: #7f7f7f\">Higashi_wrapper.py</span></a><span style=\"color: #7f7f7f; text-decoration-color: #7f7f7f\">:</span><a href=\"file:///n/home09/pren/3DGeno_tools/src/gt3d/modules/higashi/Higashi_wrapper.py#1258\" target=\"_blank\"><span style=\"color: #7f7f7f; text-decoration-color: #7f7f7f\">1258</span></a>\n",
       "<span style=\"color: #7fbfbf; text-decoration-color: #7fbfbf\">                    </span>         pearson: <span style=\"color: #008080; text-decoration-color: #008080; font-weight: bold\">0.652</span>, spearman: <span style=\"color: #008080; text-decoration-color: #008080; font-weight: bold\">0.563</span>, elapse: <span style=\"color: #008080; text-decoration-color: #008080; font-weight: bold\">90.682</span> s              <span style=\"color: #7f7f7f; text-decoration-color: #7f7f7f\">                       </span>\n",
       "</pre>\n"
      ],
      "text/plain": [
       "\u001b[2;36m[12/07/24 12:53:22]\u001b[0m\u001b[2;36m \u001b[0m\u001b[34mINFO    \u001b[0m \u001b[94mtrain\u001b[0m  - \u001b[1m(\u001b[0mTrain\u001b[1m)\u001b[0m bce:  \u001b[1;36m0.3306\u001b[0m, mse:  \u001b[1;36m0.8863\u001b[0m,  acc: \u001b[1;36m88.799\u001b[0m %,   \u001b]8;id=343180;file:///n/home09/pren/3DGeno_tools/src/gt3d/modules/higashi/Higashi_wrapper.py\u001b\\\u001b[2mHigashi_wrapper.py\u001b[0m\u001b]8;;\u001b\\\u001b[2m:\u001b[0m\u001b]8;id=400160;file:///n/home09/pren/3DGeno_tools/src/gt3d/modules/higashi/Higashi_wrapper.py#1258\u001b\\\u001b[2m1258\u001b[0m\u001b]8;;\u001b\\\n",
       "\u001b[2;36m                    \u001b[0m         pearson: \u001b[1;36m0.652\u001b[0m, spearman: \u001b[1;36m0.563\u001b[0m, elapse: \u001b[1;36m90.682\u001b[0m s              \u001b[2m                       \u001b[0m\n"
      ]
     },
     "metadata": {},
     "output_type": "display_data"
    },
    {
     "data": {
      "application/vnd.jupyter.widget-view+json": {
       "model_id": "f46e5d35ee0a44848b8279d2d79eef16",
       "version_major": 2,
       "version_minor": 0
      },
      "text/plain": [
       "Output()"
      ]
     },
     "metadata": {},
     "output_type": "display_data"
    },
    {
     "data": {
      "text/html": [
       "<pre style=\"white-space:pre;overflow-x:auto;line-height:normal;font-family:Menlo,'DejaVu Sans Mono',consolas,'Courier New',monospace\"></pre>\n"
      ],
      "text/plain": []
     },
     "metadata": {},
     "output_type": "display_data"
    },
    {
     "data": {
      "text/html": [
       "<pre style=\"white-space:pre;overflow-x:auto;line-height:normal;font-family:Menlo,'DejaVu Sans Mono',consolas,'Courier New',monospace\"><span style=\"color: #7fbfbf; text-decoration-color: #7fbfbf\">                    </span><span style=\"color: #000080; text-decoration-color: #000080\">INFO    </span> <span style=\"color: #0000ff; text-decoration-color: #0000ff\">train</span>  - <span style=\"font-weight: bold\">(</span>Valid<span style=\"font-weight: bold\">)</span> bce:  <span style=\"color: #008080; text-decoration-color: #008080; font-weight: bold\">0.3447</span>,  acc: <span style=\"color: #008080; text-decoration-color: #008080; font-weight: bold\">88.431</span> %,pearson: <span style=\"color: #008080; text-decoration-color: #008080; font-weight: bold\">0.625</span>,  <a href=\"file:///n/home09/pren/3DGeno_tools/src/gt3d/modules/higashi/Higashi_wrapper.py\" target=\"_blank\"><span style=\"color: #7f7f7f; text-decoration-color: #7f7f7f\">Higashi_wrapper.py</span></a><span style=\"color: #7f7f7f; text-decoration-color: #7f7f7f\">:</span><a href=\"file:///n/home09/pren/3DGeno_tools/src/gt3d/modules/higashi/Higashi_wrapper.py#1277\" target=\"_blank\"><span style=\"color: #7f7f7f; text-decoration-color: #7f7f7f\">1277</span></a>\n",
       "<span style=\"color: #7fbfbf; text-decoration-color: #7fbfbf\">                    </span>         spearman: <span style=\"color: #008080; text-decoration-color: #008080; font-weight: bold\">0.555</span>,elapse: <span style=\"color: #008080; text-decoration-color: #008080; font-weight: bold\">0.052</span> s                                <span style=\"color: #7f7f7f; text-decoration-color: #7f7f7f\">                       </span>\n",
       "</pre>\n"
      ],
      "text/plain": [
       "\u001b[2;36m                   \u001b[0m\u001b[2;36m \u001b[0m\u001b[34mINFO    \u001b[0m \u001b[94mtrain\u001b[0m  - \u001b[1m(\u001b[0mValid\u001b[1m)\u001b[0m bce:  \u001b[1;36m0.3447\u001b[0m,  acc: \u001b[1;36m88.431\u001b[0m %,pearson: \u001b[1;36m0.625\u001b[0m,  \u001b]8;id=719905;file:///n/home09/pren/3DGeno_tools/src/gt3d/modules/higashi/Higashi_wrapper.py\u001b\\\u001b[2mHigashi_wrapper.py\u001b[0m\u001b]8;;\u001b\\\u001b[2m:\u001b[0m\u001b]8;id=96955;file:///n/home09/pren/3DGeno_tools/src/gt3d/modules/higashi/Higashi_wrapper.py#1277\u001b\\\u001b[2m1277\u001b[0m\u001b]8;;\u001b\\\n",
       "\u001b[2;36m                    \u001b[0m         spearman: \u001b[1;36m0.555\u001b[0m,elapse: \u001b[1;36m0.052\u001b[0m s                                \u001b[2m                       \u001b[0m\n"
      ]
     },
     "metadata": {},
     "output_type": "display_data"
    },
    {
     "data": {
      "text/html": [
       "<pre style=\"white-space:pre;overflow-x:auto;line-height:normal;font-family:Menlo,'DejaVu Sans Mono',consolas,'Courier New',monospace\"><span style=\"color: #7fbfbf; text-decoration-color: #7fbfbf\">                    </span><span style=\"color: #000080; text-decoration-color: #000080\">INFO    </span> <span style=\"color: #0000ff; text-decoration-color: #0000ff\">train</span> update_rate: <span style=\"color: #008080; text-decoration-color: #008080; font-weight: bold\">0.006357</span>     <span style=\"color: #008080; text-decoration-color: #008080; font-weight: bold\">0.288052</span>                       <a href=\"file:///n/home09/pren/3DGeno_tools/src/gt3d/modules/higashi/Higashi_wrapper.py\" target=\"_blank\"><span style=\"color: #7f7f7f; text-decoration-color: #7f7f7f\">Higashi_wrapper.py</span></a><span style=\"color: #7f7f7f; text-decoration-color: #7f7f7f\">:</span><a href=\"file:///n/home09/pren/3DGeno_tools/src/gt3d/modules/higashi/Higashi_wrapper.py#1323\" target=\"_blank\"><span style=\"color: #7f7f7f; text-decoration-color: #7f7f7f\">1323</span></a>\n",
       "</pre>\n"
      ],
      "text/plain": [
       "\u001b[2;36m                   \u001b[0m\u001b[2;36m \u001b[0m\u001b[34mINFO    \u001b[0m \u001b[94mtrain\u001b[0m update_rate: \u001b[1;36m0.006357\u001b[0m     \u001b[1;36m0.288052\u001b[0m                       \u001b]8;id=829207;file:///n/home09/pren/3DGeno_tools/src/gt3d/modules/higashi/Higashi_wrapper.py\u001b\\\u001b[2mHigashi_wrapper.py\u001b[0m\u001b]8;;\u001b\\\u001b[2m:\u001b[0m\u001b]8;id=833809;file:///n/home09/pren/3DGeno_tools/src/gt3d/modules/higashi/Higashi_wrapper.py#1323\u001b\\\u001b[2m1323\u001b[0m\u001b]8;;\u001b\\\n"
      ]
     },
     "metadata": {},
     "output_type": "display_data"
    },
    {
     "data": {
      "text/html": [
       "<pre style=\"white-space:pre;overflow-x:auto;line-height:normal;font-family:Menlo,'DejaVu Sans Mono',consolas,'Courier New',monospace\"><span style=\"color: #7fbfbf; text-decoration-color: #7fbfbf\">                    </span><span style=\"color: #000080; text-decoration-color: #000080\">INFO    </span> <span style=\"color: #0000ff; text-decoration-color: #0000ff\">train</span> <span style=\"font-weight: bold\">[</span> Epoch <span style=\"color: #008080; text-decoration-color: #008080; font-weight: bold\">19</span> of <span style=\"color: #008080; text-decoration-color: #008080; font-weight: bold\">200</span> <span style=\"font-weight: bold\">]</span>                                      <a href=\"file:///n/home09/pren/3DGeno_tools/src/gt3d/modules/higashi/Higashi_wrapper.py\" target=\"_blank\"><span style=\"color: #7f7f7f; text-decoration-color: #7f7f7f\">Higashi_wrapper.py</span></a><span style=\"color: #7f7f7f; text-decoration-color: #7f7f7f\">:</span><a href=\"file:///n/home09/pren/3DGeno_tools/src/gt3d/modules/higashi/Higashi_wrapper.py#1245\" target=\"_blank\"><span style=\"color: #7f7f7f; text-decoration-color: #7f7f7f\">1245</span></a>\n",
       "</pre>\n"
      ],
      "text/plain": [
       "\u001b[2;36m                   \u001b[0m\u001b[2;36m \u001b[0m\u001b[34mINFO    \u001b[0m \u001b[94mtrain\u001b[0m \u001b[1m[\u001b[0m Epoch \u001b[1;36m19\u001b[0m of \u001b[1;36m200\u001b[0m \u001b[1m]\u001b[0m                                      \u001b]8;id=826213;file:///n/home09/pren/3DGeno_tools/src/gt3d/modules/higashi/Higashi_wrapper.py\u001b\\\u001b[2mHigashi_wrapper.py\u001b[0m\u001b]8;;\u001b\\\u001b[2m:\u001b[0m\u001b]8;id=706379;file:///n/home09/pren/3DGeno_tools/src/gt3d/modules/higashi/Higashi_wrapper.py#1245\u001b\\\u001b[2m1245\u001b[0m\u001b]8;;\u001b\\\n"
      ]
     },
     "metadata": {},
     "output_type": "display_data"
    },
    {
     "data": {
      "application/vnd.jupyter.widget-view+json": {
       "model_id": "d6c00b457852491ca3e8a1647617df08",
       "version_major": 2,
       "version_minor": 0
      },
      "text/plain": [
       "Output()"
      ]
     },
     "metadata": {},
     "output_type": "display_data"
    },
    {
     "data": {
      "text/html": [
       "<pre style=\"white-space:pre;overflow-x:auto;line-height:normal;font-family:Menlo,'DejaVu Sans Mono',consolas,'Courier New',monospace\"></pre>\n"
      ],
      "text/plain": []
     },
     "metadata": {},
     "output_type": "display_data"
    },
    {
     "data": {
      "text/html": [
       "<pre style=\"white-space:pre;overflow-x:auto;line-height:normal;font-family:Menlo,'DejaVu Sans Mono',consolas,'Courier New',monospace\"><span style=\"color: #7fbfbf; text-decoration-color: #7fbfbf\">[12/07/24 12:54:51] </span><span style=\"color: #000080; text-decoration-color: #000080\">INFO    </span> <span style=\"color: #0000ff; text-decoration-color: #0000ff\">train</span>  - <span style=\"font-weight: bold\">(</span>Train<span style=\"font-weight: bold\">)</span> bce:  <span style=\"color: #008080; text-decoration-color: #008080; font-weight: bold\">0.3287</span>, mse:  <span style=\"color: #008080; text-decoration-color: #008080; font-weight: bold\">0.9507</span>,  acc: <span style=\"color: #008080; text-decoration-color: #008080; font-weight: bold\">88.878</span> %,   <a href=\"file:///n/home09/pren/3DGeno_tools/src/gt3d/modules/higashi/Higashi_wrapper.py\" target=\"_blank\"><span style=\"color: #7f7f7f; text-decoration-color: #7f7f7f\">Higashi_wrapper.py</span></a><span style=\"color: #7f7f7f; text-decoration-color: #7f7f7f\">:</span><a href=\"file:///n/home09/pren/3DGeno_tools/src/gt3d/modules/higashi/Higashi_wrapper.py#1258\" target=\"_blank\"><span style=\"color: #7f7f7f; text-decoration-color: #7f7f7f\">1258</span></a>\n",
       "<span style=\"color: #7fbfbf; text-decoration-color: #7fbfbf\">                    </span>         pearson: <span style=\"color: #008080; text-decoration-color: #008080; font-weight: bold\">0.654</span>, spearman: <span style=\"color: #008080; text-decoration-color: #008080; font-weight: bold\">0.564</span>, elapse: <span style=\"color: #008080; text-decoration-color: #008080; font-weight: bold\">88.876</span> s              <span style=\"color: #7f7f7f; text-decoration-color: #7f7f7f\">                       </span>\n",
       "</pre>\n"
      ],
      "text/plain": [
       "\u001b[2;36m[12/07/24 12:54:51]\u001b[0m\u001b[2;36m \u001b[0m\u001b[34mINFO    \u001b[0m \u001b[94mtrain\u001b[0m  - \u001b[1m(\u001b[0mTrain\u001b[1m)\u001b[0m bce:  \u001b[1;36m0.3287\u001b[0m, mse:  \u001b[1;36m0.9507\u001b[0m,  acc: \u001b[1;36m88.878\u001b[0m %,   \u001b]8;id=50207;file:///n/home09/pren/3DGeno_tools/src/gt3d/modules/higashi/Higashi_wrapper.py\u001b\\\u001b[2mHigashi_wrapper.py\u001b[0m\u001b]8;;\u001b\\\u001b[2m:\u001b[0m\u001b]8;id=629918;file:///n/home09/pren/3DGeno_tools/src/gt3d/modules/higashi/Higashi_wrapper.py#1258\u001b\\\u001b[2m1258\u001b[0m\u001b]8;;\u001b\\\n",
       "\u001b[2;36m                    \u001b[0m         pearson: \u001b[1;36m0.654\u001b[0m, spearman: \u001b[1;36m0.564\u001b[0m, elapse: \u001b[1;36m88.876\u001b[0m s              \u001b[2m                       \u001b[0m\n"
      ]
     },
     "metadata": {},
     "output_type": "display_data"
    },
    {
     "data": {
      "application/vnd.jupyter.widget-view+json": {
       "model_id": "b9875149614044d49f3c9661bd0a9ce5",
       "version_major": 2,
       "version_minor": 0
      },
      "text/plain": [
       "Output()"
      ]
     },
     "metadata": {},
     "output_type": "display_data"
    },
    {
     "data": {
      "text/html": [
       "<pre style=\"white-space:pre;overflow-x:auto;line-height:normal;font-family:Menlo,'DejaVu Sans Mono',consolas,'Courier New',monospace\"></pre>\n"
      ],
      "text/plain": []
     },
     "metadata": {},
     "output_type": "display_data"
    },
    {
     "data": {
      "text/html": [
       "<pre style=\"white-space:pre;overflow-x:auto;line-height:normal;font-family:Menlo,'DejaVu Sans Mono',consolas,'Courier New',monospace\"><span style=\"color: #7fbfbf; text-decoration-color: #7fbfbf\">                    </span><span style=\"color: #000080; text-decoration-color: #000080\">INFO    </span> <span style=\"color: #0000ff; text-decoration-color: #0000ff\">train</span>  - <span style=\"font-weight: bold\">(</span>Valid<span style=\"font-weight: bold\">)</span> bce:  <span style=\"color: #008080; text-decoration-color: #008080; font-weight: bold\">0.3580</span>,  acc: <span style=\"color: #008080; text-decoration-color: #008080; font-weight: bold\">88.887</span> %,pearson: <span style=\"color: #008080; text-decoration-color: #008080; font-weight: bold\">0.641</span>,  <a href=\"file:///n/home09/pren/3DGeno_tools/src/gt3d/modules/higashi/Higashi_wrapper.py\" target=\"_blank\"><span style=\"color: #7f7f7f; text-decoration-color: #7f7f7f\">Higashi_wrapper.py</span></a><span style=\"color: #7f7f7f; text-decoration-color: #7f7f7f\">:</span><a href=\"file:///n/home09/pren/3DGeno_tools/src/gt3d/modules/higashi/Higashi_wrapper.py#1277\" target=\"_blank\"><span style=\"color: #7f7f7f; text-decoration-color: #7f7f7f\">1277</span></a>\n",
       "<span style=\"color: #7fbfbf; text-decoration-color: #7fbfbf\">                    </span>         spearman: <span style=\"color: #008080; text-decoration-color: #008080; font-weight: bold\">0.558</span>,elapse: <span style=\"color: #008080; text-decoration-color: #008080; font-weight: bold\">0.052</span> s                                <span style=\"color: #7f7f7f; text-decoration-color: #7f7f7f\">                       </span>\n",
       "</pre>\n"
      ],
      "text/plain": [
       "\u001b[2;36m                   \u001b[0m\u001b[2;36m \u001b[0m\u001b[34mINFO    \u001b[0m \u001b[94mtrain\u001b[0m  - \u001b[1m(\u001b[0mValid\u001b[1m)\u001b[0m bce:  \u001b[1;36m0.3580\u001b[0m,  acc: \u001b[1;36m88.887\u001b[0m %,pearson: \u001b[1;36m0.641\u001b[0m,  \u001b]8;id=36778;file:///n/home09/pren/3DGeno_tools/src/gt3d/modules/higashi/Higashi_wrapper.py\u001b\\\u001b[2mHigashi_wrapper.py\u001b[0m\u001b]8;;\u001b\\\u001b[2m:\u001b[0m\u001b]8;id=271509;file:///n/home09/pren/3DGeno_tools/src/gt3d/modules/higashi/Higashi_wrapper.py#1277\u001b\\\u001b[2m1277\u001b[0m\u001b]8;;\u001b\\\n",
       "\u001b[2;36m                    \u001b[0m         spearman: \u001b[1;36m0.558\u001b[0m,elapse: \u001b[1;36m0.052\u001b[0m s                                \u001b[2m                       \u001b[0m\n"
      ]
     },
     "metadata": {},
     "output_type": "display_data"
    },
    {
     "data": {
      "text/html": [
       "<pre style=\"white-space:pre;overflow-x:auto;line-height:normal;font-family:Menlo,'DejaVu Sans Mono',consolas,'Courier New',monospace\"><span style=\"color: #7fbfbf; text-decoration-color: #7fbfbf\">                    </span><span style=\"color: #000080; text-decoration-color: #000080\">INFO    </span> <span style=\"color: #0000ff; text-decoration-color: #0000ff\">train</span> update_rate: <span style=\"color: #008080; text-decoration-color: #008080; font-weight: bold\">0.006545</span>     <span style=\"color: #008080; text-decoration-color: #008080; font-weight: bold\">0.205886</span>                       <a href=\"file:///n/home09/pren/3DGeno_tools/src/gt3d/modules/higashi/Higashi_wrapper.py\" target=\"_blank\"><span style=\"color: #7f7f7f; text-decoration-color: #7f7f7f\">Higashi_wrapper.py</span></a><span style=\"color: #7f7f7f; text-decoration-color: #7f7f7f\">:</span><a href=\"file:///n/home09/pren/3DGeno_tools/src/gt3d/modules/higashi/Higashi_wrapper.py#1323\" target=\"_blank\"><span style=\"color: #7f7f7f; text-decoration-color: #7f7f7f\">1323</span></a>\n",
       "</pre>\n"
      ],
      "text/plain": [
       "\u001b[2;36m                   \u001b[0m\u001b[2;36m \u001b[0m\u001b[34mINFO    \u001b[0m \u001b[94mtrain\u001b[0m update_rate: \u001b[1;36m0.006545\u001b[0m     \u001b[1;36m0.205886\u001b[0m                       \u001b]8;id=253663;file:///n/home09/pren/3DGeno_tools/src/gt3d/modules/higashi/Higashi_wrapper.py\u001b\\\u001b[2mHigashi_wrapper.py\u001b[0m\u001b]8;;\u001b\\\u001b[2m:\u001b[0m\u001b]8;id=149348;file:///n/home09/pren/3DGeno_tools/src/gt3d/modules/higashi/Higashi_wrapper.py#1323\u001b\\\u001b[2m1323\u001b[0m\u001b]8;;\u001b\\\n"
      ]
     },
     "metadata": {},
     "output_type": "display_data"
    },
    {
     "data": {
      "text/html": [
       "<pre style=\"white-space:pre;overflow-x:auto;line-height:normal;font-family:Menlo,'DejaVu Sans Mono',consolas,'Courier New',monospace\"><span style=\"color: #7fbfbf; text-decoration-color: #7fbfbf\">                    </span><span style=\"color: #000080; text-decoration-color: #000080\">INFO    </span> <span style=\"color: #0000ff; text-decoration-color: #0000ff\">train</span> <span style=\"font-weight: bold\">[</span> Epoch <span style=\"color: #008080; text-decoration-color: #008080; font-weight: bold\">20</span> of <span style=\"color: #008080; text-decoration-color: #008080; font-weight: bold\">200</span> <span style=\"font-weight: bold\">]</span>                                      <a href=\"file:///n/home09/pren/3DGeno_tools/src/gt3d/modules/higashi/Higashi_wrapper.py\" target=\"_blank\"><span style=\"color: #7f7f7f; text-decoration-color: #7f7f7f\">Higashi_wrapper.py</span></a><span style=\"color: #7f7f7f; text-decoration-color: #7f7f7f\">:</span><a href=\"file:///n/home09/pren/3DGeno_tools/src/gt3d/modules/higashi/Higashi_wrapper.py#1245\" target=\"_blank\"><span style=\"color: #7f7f7f; text-decoration-color: #7f7f7f\">1245</span></a>\n",
       "</pre>\n"
      ],
      "text/plain": [
       "\u001b[2;36m                   \u001b[0m\u001b[2;36m \u001b[0m\u001b[34mINFO    \u001b[0m \u001b[94mtrain\u001b[0m \u001b[1m[\u001b[0m Epoch \u001b[1;36m20\u001b[0m of \u001b[1;36m200\u001b[0m \u001b[1m]\u001b[0m                                      \u001b]8;id=603004;file:///n/home09/pren/3DGeno_tools/src/gt3d/modules/higashi/Higashi_wrapper.py\u001b\\\u001b[2mHigashi_wrapper.py\u001b[0m\u001b]8;;\u001b\\\u001b[2m:\u001b[0m\u001b]8;id=747899;file:///n/home09/pren/3DGeno_tools/src/gt3d/modules/higashi/Higashi_wrapper.py#1245\u001b\\\u001b[2m1245\u001b[0m\u001b]8;;\u001b\\\n"
      ]
     },
     "metadata": {},
     "output_type": "display_data"
    },
    {
     "data": {
      "application/vnd.jupyter.widget-view+json": {
       "model_id": "64b8b30b913b46f98df036ce9c8bd1fa",
       "version_major": 2,
       "version_minor": 0
      },
      "text/plain": [
       "Output()"
      ]
     },
     "metadata": {},
     "output_type": "display_data"
    },
    {
     "data": {
      "text/html": [
       "<pre style=\"white-space:pre;overflow-x:auto;line-height:normal;font-family:Menlo,'DejaVu Sans Mono',consolas,'Courier New',monospace\"></pre>\n"
      ],
      "text/plain": []
     },
     "metadata": {},
     "output_type": "display_data"
    },
    {
     "data": {
      "text/html": [
       "<pre style=\"white-space:pre;overflow-x:auto;line-height:normal;font-family:Menlo,'DejaVu Sans Mono',consolas,'Courier New',monospace\"><span style=\"color: #7fbfbf; text-decoration-color: #7fbfbf\">[12/07/24 12:56:20] </span><span style=\"color: #000080; text-decoration-color: #000080\">INFO    </span> <span style=\"color: #0000ff; text-decoration-color: #0000ff\">train</span>  - <span style=\"font-weight: bold\">(</span>Train<span style=\"font-weight: bold\">)</span> bce:  <span style=\"color: #008080; text-decoration-color: #008080; font-weight: bold\">0.3275</span>, mse:  <span style=\"color: #008080; text-decoration-color: #008080; font-weight: bold\">1.0395</span>,  acc: <span style=\"color: #008080; text-decoration-color: #008080; font-weight: bold\">88.947</span> %,   <a href=\"file:///n/home09/pren/3DGeno_tools/src/gt3d/modules/higashi/Higashi_wrapper.py\" target=\"_blank\"><span style=\"color: #7f7f7f; text-decoration-color: #7f7f7f\">Higashi_wrapper.py</span></a><span style=\"color: #7f7f7f; text-decoration-color: #7f7f7f\">:</span><a href=\"file:///n/home09/pren/3DGeno_tools/src/gt3d/modules/higashi/Higashi_wrapper.py#1258\" target=\"_blank\"><span style=\"color: #7f7f7f; text-decoration-color: #7f7f7f\">1258</span></a>\n",
       "<span style=\"color: #7fbfbf; text-decoration-color: #7fbfbf\">                    </span>         pearson: <span style=\"color: #008080; text-decoration-color: #008080; font-weight: bold\">0.656</span>, spearman: <span style=\"color: #008080; text-decoration-color: #008080; font-weight: bold\">0.566</span>, elapse: <span style=\"color: #008080; text-decoration-color: #008080; font-weight: bold\">88.853</span> s              <span style=\"color: #7f7f7f; text-decoration-color: #7f7f7f\">                       </span>\n",
       "</pre>\n"
      ],
      "text/plain": [
       "\u001b[2;36m[12/07/24 12:56:20]\u001b[0m\u001b[2;36m \u001b[0m\u001b[34mINFO    \u001b[0m \u001b[94mtrain\u001b[0m  - \u001b[1m(\u001b[0mTrain\u001b[1m)\u001b[0m bce:  \u001b[1;36m0.3275\u001b[0m, mse:  \u001b[1;36m1.0395\u001b[0m,  acc: \u001b[1;36m88.947\u001b[0m %,   \u001b]8;id=821388;file:///n/home09/pren/3DGeno_tools/src/gt3d/modules/higashi/Higashi_wrapper.py\u001b\\\u001b[2mHigashi_wrapper.py\u001b[0m\u001b]8;;\u001b\\\u001b[2m:\u001b[0m\u001b]8;id=381600;file:///n/home09/pren/3DGeno_tools/src/gt3d/modules/higashi/Higashi_wrapper.py#1258\u001b\\\u001b[2m1258\u001b[0m\u001b]8;;\u001b\\\n",
       "\u001b[2;36m                    \u001b[0m         pearson: \u001b[1;36m0.656\u001b[0m, spearman: \u001b[1;36m0.566\u001b[0m, elapse: \u001b[1;36m88.853\u001b[0m s              \u001b[2m                       \u001b[0m\n"
      ]
     },
     "metadata": {},
     "output_type": "display_data"
    },
    {
     "data": {
      "application/vnd.jupyter.widget-view+json": {
       "model_id": "a14bfc3fd7df46f9a4aecebe7ba59613",
       "version_major": 2,
       "version_minor": 0
      },
      "text/plain": [
       "Output()"
      ]
     },
     "metadata": {},
     "output_type": "display_data"
    },
    {
     "data": {
      "text/html": [
       "<pre style=\"white-space:pre;overflow-x:auto;line-height:normal;font-family:Menlo,'DejaVu Sans Mono',consolas,'Courier New',monospace\"></pre>\n"
      ],
      "text/plain": []
     },
     "metadata": {},
     "output_type": "display_data"
    },
    {
     "data": {
      "text/html": [
       "<pre style=\"white-space:pre;overflow-x:auto;line-height:normal;font-family:Menlo,'DejaVu Sans Mono',consolas,'Courier New',monospace\"><span style=\"color: #7fbfbf; text-decoration-color: #7fbfbf\">                    </span><span style=\"color: #000080; text-decoration-color: #000080\">INFO    </span> <span style=\"color: #0000ff; text-decoration-color: #0000ff\">train</span>  - <span style=\"font-weight: bold\">(</span>Valid<span style=\"font-weight: bold\">)</span> bce:  <span style=\"color: #008080; text-decoration-color: #008080; font-weight: bold\">0.3534</span>,  acc: <span style=\"color: #008080; text-decoration-color: #008080; font-weight: bold\">88.320</span> %,pearson: <span style=\"color: #008080; text-decoration-color: #008080; font-weight: bold\">0.623</span>,  <a href=\"file:///n/home09/pren/3DGeno_tools/src/gt3d/modules/higashi/Higashi_wrapper.py\" target=\"_blank\"><span style=\"color: #7f7f7f; text-decoration-color: #7f7f7f\">Higashi_wrapper.py</span></a><span style=\"color: #7f7f7f; text-decoration-color: #7f7f7f\">:</span><a href=\"file:///n/home09/pren/3DGeno_tools/src/gt3d/modules/higashi/Higashi_wrapper.py#1277\" target=\"_blank\"><span style=\"color: #7f7f7f; text-decoration-color: #7f7f7f\">1277</span></a>\n",
       "<span style=\"color: #7fbfbf; text-decoration-color: #7fbfbf\">                    </span>         spearman: <span style=\"color: #008080; text-decoration-color: #008080; font-weight: bold\">0.558</span>,elapse: <span style=\"color: #008080; text-decoration-color: #008080; font-weight: bold\">0.052</span> s                                <span style=\"color: #7f7f7f; text-decoration-color: #7f7f7f\">                       </span>\n",
       "</pre>\n"
      ],
      "text/plain": [
       "\u001b[2;36m                   \u001b[0m\u001b[2;36m \u001b[0m\u001b[34mINFO    \u001b[0m \u001b[94mtrain\u001b[0m  - \u001b[1m(\u001b[0mValid\u001b[1m)\u001b[0m bce:  \u001b[1;36m0.3534\u001b[0m,  acc: \u001b[1;36m88.320\u001b[0m %,pearson: \u001b[1;36m0.623\u001b[0m,  \u001b]8;id=81265;file:///n/home09/pren/3DGeno_tools/src/gt3d/modules/higashi/Higashi_wrapper.py\u001b\\\u001b[2mHigashi_wrapper.py\u001b[0m\u001b]8;;\u001b\\\u001b[2m:\u001b[0m\u001b]8;id=703543;file:///n/home09/pren/3DGeno_tools/src/gt3d/modules/higashi/Higashi_wrapper.py#1277\u001b\\\u001b[2m1277\u001b[0m\u001b]8;;\u001b\\\n",
       "\u001b[2;36m                    \u001b[0m         spearman: \u001b[1;36m0.558\u001b[0m,elapse: \u001b[1;36m0.052\u001b[0m s                                \u001b[2m                       \u001b[0m\n"
      ]
     },
     "metadata": {},
     "output_type": "display_data"
    },
    {
     "data": {
      "text/html": [
       "<pre style=\"white-space:pre;overflow-x:auto;line-height:normal;font-family:Menlo,'DejaVu Sans Mono',consolas,'Courier New',monospace\"><span style=\"color: #7fbfbf; text-decoration-color: #7fbfbf\">                    </span><span style=\"color: #000080; text-decoration-color: #000080\">INFO    </span> <span style=\"color: #0000ff; text-decoration-color: #0000ff\">train</span> update_rate: <span style=\"color: #008080; text-decoration-color: #008080; font-weight: bold\">0.006687</span>     <span style=\"color: #008080; text-decoration-color: #008080; font-weight: bold\">0.313693</span>                       <a href=\"file:///n/home09/pren/3DGeno_tools/src/gt3d/modules/higashi/Higashi_wrapper.py\" target=\"_blank\"><span style=\"color: #7f7f7f; text-decoration-color: #7f7f7f\">Higashi_wrapper.py</span></a><span style=\"color: #7f7f7f; text-decoration-color: #7f7f7f\">:</span><a href=\"file:///n/home09/pren/3DGeno_tools/src/gt3d/modules/higashi/Higashi_wrapper.py#1323\" target=\"_blank\"><span style=\"color: #7f7f7f; text-decoration-color: #7f7f7f\">1323</span></a>\n",
       "</pre>\n"
      ],
      "text/plain": [
       "\u001b[2;36m                   \u001b[0m\u001b[2;36m \u001b[0m\u001b[34mINFO    \u001b[0m \u001b[94mtrain\u001b[0m update_rate: \u001b[1;36m0.006687\u001b[0m     \u001b[1;36m0.313693\u001b[0m                       \u001b]8;id=482834;file:///n/home09/pren/3DGeno_tools/src/gt3d/modules/higashi/Higashi_wrapper.py\u001b\\\u001b[2mHigashi_wrapper.py\u001b[0m\u001b]8;;\u001b\\\u001b[2m:\u001b[0m\u001b]8;id=715775;file:///n/home09/pren/3DGeno_tools/src/gt3d/modules/higashi/Higashi_wrapper.py#1323\u001b\\\u001b[2m1323\u001b[0m\u001b]8;;\u001b\\\n"
      ]
     },
     "metadata": {},
     "output_type": "display_data"
    },
    {
     "data": {
      "text/html": [
       "<pre style=\"white-space:pre;overflow-x:auto;line-height:normal;font-family:Menlo,'DejaVu Sans Mono',consolas,'Courier New',monospace\"><span style=\"color: #7fbfbf; text-decoration-color: #7fbfbf\">                    </span><span style=\"color: #000080; text-decoration-color: #000080\">INFO    </span> <span style=\"color: #0000ff; text-decoration-color: #0000ff\">train</span> <span style=\"font-weight: bold\">[</span> Epoch <span style=\"color: #008080; text-decoration-color: #008080; font-weight: bold\">21</span> of <span style=\"color: #008080; text-decoration-color: #008080; font-weight: bold\">200</span> <span style=\"font-weight: bold\">]</span>                                      <a href=\"file:///n/home09/pren/3DGeno_tools/src/gt3d/modules/higashi/Higashi_wrapper.py\" target=\"_blank\"><span style=\"color: #7f7f7f; text-decoration-color: #7f7f7f\">Higashi_wrapper.py</span></a><span style=\"color: #7f7f7f; text-decoration-color: #7f7f7f\">:</span><a href=\"file:///n/home09/pren/3DGeno_tools/src/gt3d/modules/higashi/Higashi_wrapper.py#1245\" target=\"_blank\"><span style=\"color: #7f7f7f; text-decoration-color: #7f7f7f\">1245</span></a>\n",
       "</pre>\n"
      ],
      "text/plain": [
       "\u001b[2;36m                   \u001b[0m\u001b[2;36m \u001b[0m\u001b[34mINFO    \u001b[0m \u001b[94mtrain\u001b[0m \u001b[1m[\u001b[0m Epoch \u001b[1;36m21\u001b[0m of \u001b[1;36m200\u001b[0m \u001b[1m]\u001b[0m                                      \u001b]8;id=633860;file:///n/home09/pren/3DGeno_tools/src/gt3d/modules/higashi/Higashi_wrapper.py\u001b\\\u001b[2mHigashi_wrapper.py\u001b[0m\u001b]8;;\u001b\\\u001b[2m:\u001b[0m\u001b]8;id=856924;file:///n/home09/pren/3DGeno_tools/src/gt3d/modules/higashi/Higashi_wrapper.py#1245\u001b\\\u001b[2m1245\u001b[0m\u001b]8;;\u001b\\\n"
      ]
     },
     "metadata": {},
     "output_type": "display_data"
    },
    {
     "data": {
      "application/vnd.jupyter.widget-view+json": {
       "model_id": "0967d0c3a68146699bae43a8f8ec0a74",
       "version_major": 2,
       "version_minor": 0
      },
      "text/plain": [
       "Output()"
      ]
     },
     "metadata": {},
     "output_type": "display_data"
    },
    {
     "data": {
      "text/html": [
       "<pre style=\"white-space:pre;overflow-x:auto;line-height:normal;font-family:Menlo,'DejaVu Sans Mono',consolas,'Courier New',monospace\"></pre>\n"
      ],
      "text/plain": []
     },
     "metadata": {},
     "output_type": "display_data"
    },
    {
     "data": {
      "text/html": [
       "<pre style=\"white-space:pre;overflow-x:auto;line-height:normal;font-family:Menlo,'DejaVu Sans Mono',consolas,'Courier New',monospace\"><span style=\"color: #7fbfbf; text-decoration-color: #7fbfbf\">[12/07/24 12:57:49] </span><span style=\"color: #000080; text-decoration-color: #000080\">INFO    </span> <span style=\"color: #0000ff; text-decoration-color: #0000ff\">train</span>  - <span style=\"font-weight: bold\">(</span>Train<span style=\"font-weight: bold\">)</span> bce:  <span style=\"color: #008080; text-decoration-color: #008080; font-weight: bold\">0.3272</span>, mse:  <span style=\"color: #008080; text-decoration-color: #008080; font-weight: bold\">1.0138</span>,  acc: <span style=\"color: #008080; text-decoration-color: #008080; font-weight: bold\">88.931</span> %,   <a href=\"file:///n/home09/pren/3DGeno_tools/src/gt3d/modules/higashi/Higashi_wrapper.py\" target=\"_blank\"><span style=\"color: #7f7f7f; text-decoration-color: #7f7f7f\">Higashi_wrapper.py</span></a><span style=\"color: #7f7f7f; text-decoration-color: #7f7f7f\">:</span><a href=\"file:///n/home09/pren/3DGeno_tools/src/gt3d/modules/higashi/Higashi_wrapper.py#1258\" target=\"_blank\"><span style=\"color: #7f7f7f; text-decoration-color: #7f7f7f\">1258</span></a>\n",
       "<span style=\"color: #7fbfbf; text-decoration-color: #7fbfbf\">                    </span>         pearson: <span style=\"color: #008080; text-decoration-color: #008080; font-weight: bold\">0.656</span>, spearman: <span style=\"color: #008080; text-decoration-color: #008080; font-weight: bold\">0.565</span>, elapse: <span style=\"color: #008080; text-decoration-color: #008080; font-weight: bold\">89.064</span> s              <span style=\"color: #7f7f7f; text-decoration-color: #7f7f7f\">                       </span>\n",
       "</pre>\n"
      ],
      "text/plain": [
       "\u001b[2;36m[12/07/24 12:57:49]\u001b[0m\u001b[2;36m \u001b[0m\u001b[34mINFO    \u001b[0m \u001b[94mtrain\u001b[0m  - \u001b[1m(\u001b[0mTrain\u001b[1m)\u001b[0m bce:  \u001b[1;36m0.3272\u001b[0m, mse:  \u001b[1;36m1.0138\u001b[0m,  acc: \u001b[1;36m88.931\u001b[0m %,   \u001b]8;id=827552;file:///n/home09/pren/3DGeno_tools/src/gt3d/modules/higashi/Higashi_wrapper.py\u001b\\\u001b[2mHigashi_wrapper.py\u001b[0m\u001b]8;;\u001b\\\u001b[2m:\u001b[0m\u001b]8;id=911464;file:///n/home09/pren/3DGeno_tools/src/gt3d/modules/higashi/Higashi_wrapper.py#1258\u001b\\\u001b[2m1258\u001b[0m\u001b]8;;\u001b\\\n",
       "\u001b[2;36m                    \u001b[0m         pearson: \u001b[1;36m0.656\u001b[0m, spearman: \u001b[1;36m0.565\u001b[0m, elapse: \u001b[1;36m89.064\u001b[0m s              \u001b[2m                       \u001b[0m\n"
      ]
     },
     "metadata": {},
     "output_type": "display_data"
    },
    {
     "data": {
      "application/vnd.jupyter.widget-view+json": {
       "model_id": "ceb8f5938cd64863bc0bc2255fe5178f",
       "version_major": 2,
       "version_minor": 0
      },
      "text/plain": [
       "Output()"
      ]
     },
     "metadata": {},
     "output_type": "display_data"
    },
    {
     "data": {
      "text/html": [
       "<pre style=\"white-space:pre;overflow-x:auto;line-height:normal;font-family:Menlo,'DejaVu Sans Mono',consolas,'Courier New',monospace\"></pre>\n"
      ],
      "text/plain": []
     },
     "metadata": {},
     "output_type": "display_data"
    },
    {
     "data": {
      "text/html": [
       "<pre style=\"white-space:pre;overflow-x:auto;line-height:normal;font-family:Menlo,'DejaVu Sans Mono',consolas,'Courier New',monospace\"><span style=\"color: #7fbfbf; text-decoration-color: #7fbfbf\">                    </span><span style=\"color: #000080; text-decoration-color: #000080\">INFO    </span> <span style=\"color: #0000ff; text-decoration-color: #0000ff\">train</span>  - <span style=\"font-weight: bold\">(</span>Valid<span style=\"font-weight: bold\">)</span> bce:  <span style=\"color: #008080; text-decoration-color: #008080; font-weight: bold\">0.3474</span>,  acc: <span style=\"color: #008080; text-decoration-color: #008080; font-weight: bold\">88.984</span> %,pearson: <span style=\"color: #008080; text-decoration-color: #008080; font-weight: bold\">0.642</span>,  <a href=\"file:///n/home09/pren/3DGeno_tools/src/gt3d/modules/higashi/Higashi_wrapper.py\" target=\"_blank\"><span style=\"color: #7f7f7f; text-decoration-color: #7f7f7f\">Higashi_wrapper.py</span></a><span style=\"color: #7f7f7f; text-decoration-color: #7f7f7f\">:</span><a href=\"file:///n/home09/pren/3DGeno_tools/src/gt3d/modules/higashi/Higashi_wrapper.py#1277\" target=\"_blank\"><span style=\"color: #7f7f7f; text-decoration-color: #7f7f7f\">1277</span></a>\n",
       "<span style=\"color: #7fbfbf; text-decoration-color: #7fbfbf\">                    </span>         spearman: <span style=\"color: #008080; text-decoration-color: #008080; font-weight: bold\">0.570</span>,elapse: <span style=\"color: #008080; text-decoration-color: #008080; font-weight: bold\">0.052</span> s                                <span style=\"color: #7f7f7f; text-decoration-color: #7f7f7f\">                       </span>\n",
       "</pre>\n"
      ],
      "text/plain": [
       "\u001b[2;36m                   \u001b[0m\u001b[2;36m \u001b[0m\u001b[34mINFO    \u001b[0m \u001b[94mtrain\u001b[0m  - \u001b[1m(\u001b[0mValid\u001b[1m)\u001b[0m bce:  \u001b[1;36m0.3474\u001b[0m,  acc: \u001b[1;36m88.984\u001b[0m %,pearson: \u001b[1;36m0.642\u001b[0m,  \u001b]8;id=649671;file:///n/home09/pren/3DGeno_tools/src/gt3d/modules/higashi/Higashi_wrapper.py\u001b\\\u001b[2mHigashi_wrapper.py\u001b[0m\u001b]8;;\u001b\\\u001b[2m:\u001b[0m\u001b]8;id=52004;file:///n/home09/pren/3DGeno_tools/src/gt3d/modules/higashi/Higashi_wrapper.py#1277\u001b\\\u001b[2m1277\u001b[0m\u001b]8;;\u001b\\\n",
       "\u001b[2;36m                    \u001b[0m         spearman: \u001b[1;36m0.570\u001b[0m,elapse: \u001b[1;36m0.052\u001b[0m s                                \u001b[2m                       \u001b[0m\n"
      ]
     },
     "metadata": {},
     "output_type": "display_data"
    },
    {
     "data": {
      "text/html": [
       "<pre style=\"white-space:pre;overflow-x:auto;line-height:normal;font-family:Menlo,'DejaVu Sans Mono',consolas,'Courier New',monospace\"><span style=\"color: #7fbfbf; text-decoration-color: #7fbfbf\">                    </span><span style=\"color: #000080; text-decoration-color: #000080\">INFO    </span> <span style=\"color: #0000ff; text-decoration-color: #0000ff\">train</span> update_rate: <span style=\"color: #008080; text-decoration-color: #008080; font-weight: bold\">0.005171</span>     <span style=\"color: #008080; text-decoration-color: #008080; font-weight: bold\">0.742158</span>                       <a href=\"file:///n/home09/pren/3DGeno_tools/src/gt3d/modules/higashi/Higashi_wrapper.py\" target=\"_blank\"><span style=\"color: #7f7f7f; text-decoration-color: #7f7f7f\">Higashi_wrapper.py</span></a><span style=\"color: #7f7f7f; text-decoration-color: #7f7f7f\">:</span><a href=\"file:///n/home09/pren/3DGeno_tools/src/gt3d/modules/higashi/Higashi_wrapper.py#1323\" target=\"_blank\"><span style=\"color: #7f7f7f; text-decoration-color: #7f7f7f\">1323</span></a>\n",
       "</pre>\n"
      ],
      "text/plain": [
       "\u001b[2;36m                   \u001b[0m\u001b[2;36m \u001b[0m\u001b[34mINFO    \u001b[0m \u001b[94mtrain\u001b[0m update_rate: \u001b[1;36m0.005171\u001b[0m     \u001b[1;36m0.742158\u001b[0m                       \u001b]8;id=602369;file:///n/home09/pren/3DGeno_tools/src/gt3d/modules/higashi/Higashi_wrapper.py\u001b\\\u001b[2mHigashi_wrapper.py\u001b[0m\u001b]8;;\u001b\\\u001b[2m:\u001b[0m\u001b]8;id=207024;file:///n/home09/pren/3DGeno_tools/src/gt3d/modules/higashi/Higashi_wrapper.py#1323\u001b\\\u001b[2m1323\u001b[0m\u001b]8;;\u001b\\\n"
      ]
     },
     "metadata": {},
     "output_type": "display_data"
    },
    {
     "data": {
      "text/html": [
       "<pre style=\"white-space:pre;overflow-x:auto;line-height:normal;font-family:Menlo,'DejaVu Sans Mono',consolas,'Courier New',monospace\"><span style=\"color: #7fbfbf; text-decoration-color: #7fbfbf\">                    </span><span style=\"color: #000080; text-decoration-color: #000080\">INFO    </span> <span style=\"color: #0000ff; text-decoration-color: #0000ff\">train</span> <span style=\"font-weight: bold\">[</span> Epoch <span style=\"color: #008080; text-decoration-color: #008080; font-weight: bold\">22</span> of <span style=\"color: #008080; text-decoration-color: #008080; font-weight: bold\">200</span> <span style=\"font-weight: bold\">]</span>                                      <a href=\"file:///n/home09/pren/3DGeno_tools/src/gt3d/modules/higashi/Higashi_wrapper.py\" target=\"_blank\"><span style=\"color: #7f7f7f; text-decoration-color: #7f7f7f\">Higashi_wrapper.py</span></a><span style=\"color: #7f7f7f; text-decoration-color: #7f7f7f\">:</span><a href=\"file:///n/home09/pren/3DGeno_tools/src/gt3d/modules/higashi/Higashi_wrapper.py#1245\" target=\"_blank\"><span style=\"color: #7f7f7f; text-decoration-color: #7f7f7f\">1245</span></a>\n",
       "</pre>\n"
      ],
      "text/plain": [
       "\u001b[2;36m                   \u001b[0m\u001b[2;36m \u001b[0m\u001b[34mINFO    \u001b[0m \u001b[94mtrain\u001b[0m \u001b[1m[\u001b[0m Epoch \u001b[1;36m22\u001b[0m of \u001b[1;36m200\u001b[0m \u001b[1m]\u001b[0m                                      \u001b]8;id=123422;file:///n/home09/pren/3DGeno_tools/src/gt3d/modules/higashi/Higashi_wrapper.py\u001b\\\u001b[2mHigashi_wrapper.py\u001b[0m\u001b]8;;\u001b\\\u001b[2m:\u001b[0m\u001b]8;id=675687;file:///n/home09/pren/3DGeno_tools/src/gt3d/modules/higashi/Higashi_wrapper.py#1245\u001b\\\u001b[2m1245\u001b[0m\u001b]8;;\u001b\\\n"
      ]
     },
     "metadata": {},
     "output_type": "display_data"
    },
    {
     "data": {
      "application/vnd.jupyter.widget-view+json": {
       "model_id": "2e8f2292c1e94bf8ae2ec896a7686918",
       "version_major": 2,
       "version_minor": 0
      },
      "text/plain": [
       "Output()"
      ]
     },
     "metadata": {},
     "output_type": "display_data"
    },
    {
     "data": {
      "text/html": [
       "<pre style=\"white-space:pre;overflow-x:auto;line-height:normal;font-family:Menlo,'DejaVu Sans Mono',consolas,'Courier New',monospace\"></pre>\n"
      ],
      "text/plain": []
     },
     "metadata": {},
     "output_type": "display_data"
    },
    {
     "data": {
      "text/html": [
       "<pre style=\"white-space:pre;overflow-x:auto;line-height:normal;font-family:Menlo,'DejaVu Sans Mono',consolas,'Courier New',monospace\"><span style=\"color: #7fbfbf; text-decoration-color: #7fbfbf\">[12/07/24 12:59:18] </span><span style=\"color: #000080; text-decoration-color: #000080\">INFO    </span> <span style=\"color: #0000ff; text-decoration-color: #0000ff\">train</span>  - <span style=\"font-weight: bold\">(</span>Train<span style=\"font-weight: bold\">)</span> bce:  <span style=\"color: #008080; text-decoration-color: #008080; font-weight: bold\">0.3268</span>, mse:  <span style=\"color: #008080; text-decoration-color: #008080; font-weight: bold\">1.1868</span>,  acc: <span style=\"color: #008080; text-decoration-color: #008080; font-weight: bold\">89.006</span> %,   <a href=\"file:///n/home09/pren/3DGeno_tools/src/gt3d/modules/higashi/Higashi_wrapper.py\" target=\"_blank\"><span style=\"color: #7f7f7f; text-decoration-color: #7f7f7f\">Higashi_wrapper.py</span></a><span style=\"color: #7f7f7f; text-decoration-color: #7f7f7f\">:</span><a href=\"file:///n/home09/pren/3DGeno_tools/src/gt3d/modules/higashi/Higashi_wrapper.py#1258\" target=\"_blank\"><span style=\"color: #7f7f7f; text-decoration-color: #7f7f7f\">1258</span></a>\n",
       "<span style=\"color: #7fbfbf; text-decoration-color: #7fbfbf\">                    </span>         pearson: <span style=\"color: #008080; text-decoration-color: #008080; font-weight: bold\">0.659</span>, spearman: <span style=\"color: #008080; text-decoration-color: #008080; font-weight: bold\">0.566</span>, elapse: <span style=\"color: #008080; text-decoration-color: #008080; font-weight: bold\">88.957</span> s              <span style=\"color: #7f7f7f; text-decoration-color: #7f7f7f\">                       </span>\n",
       "</pre>\n"
      ],
      "text/plain": [
       "\u001b[2;36m[12/07/24 12:59:18]\u001b[0m\u001b[2;36m \u001b[0m\u001b[34mINFO    \u001b[0m \u001b[94mtrain\u001b[0m  - \u001b[1m(\u001b[0mTrain\u001b[1m)\u001b[0m bce:  \u001b[1;36m0.3268\u001b[0m, mse:  \u001b[1;36m1.1868\u001b[0m,  acc: \u001b[1;36m89.006\u001b[0m %,   \u001b]8;id=913741;file:///n/home09/pren/3DGeno_tools/src/gt3d/modules/higashi/Higashi_wrapper.py\u001b\\\u001b[2mHigashi_wrapper.py\u001b[0m\u001b]8;;\u001b\\\u001b[2m:\u001b[0m\u001b]8;id=643307;file:///n/home09/pren/3DGeno_tools/src/gt3d/modules/higashi/Higashi_wrapper.py#1258\u001b\\\u001b[2m1258\u001b[0m\u001b]8;;\u001b\\\n",
       "\u001b[2;36m                    \u001b[0m         pearson: \u001b[1;36m0.659\u001b[0m, spearman: \u001b[1;36m0.566\u001b[0m, elapse: \u001b[1;36m88.957\u001b[0m s              \u001b[2m                       \u001b[0m\n"
      ]
     },
     "metadata": {},
     "output_type": "display_data"
    },
    {
     "data": {
      "application/vnd.jupyter.widget-view+json": {
       "model_id": "be350f79af0a41f2a11ac338dc95612a",
       "version_major": 2,
       "version_minor": 0
      },
      "text/plain": [
       "Output()"
      ]
     },
     "metadata": {},
     "output_type": "display_data"
    },
    {
     "data": {
      "text/html": [
       "<pre style=\"white-space:pre;overflow-x:auto;line-height:normal;font-family:Menlo,'DejaVu Sans Mono',consolas,'Courier New',monospace\"></pre>\n"
      ],
      "text/plain": []
     },
     "metadata": {},
     "output_type": "display_data"
    },
    {
     "data": {
      "text/html": [
       "<pre style=\"white-space:pre;overflow-x:auto;line-height:normal;font-family:Menlo,'DejaVu Sans Mono',consolas,'Courier New',monospace\"><span style=\"color: #7fbfbf; text-decoration-color: #7fbfbf\">                    </span><span style=\"color: #000080; text-decoration-color: #000080\">INFO    </span> <span style=\"color: #0000ff; text-decoration-color: #0000ff\">train</span>  - <span style=\"font-weight: bold\">(</span>Valid<span style=\"font-weight: bold\">)</span> bce:  <span style=\"color: #008080; text-decoration-color: #008080; font-weight: bold\">0.3473</span>,  acc: <span style=\"color: #008080; text-decoration-color: #008080; font-weight: bold\">88.092</span> %,pearson: <span style=\"color: #008080; text-decoration-color: #008080; font-weight: bold\">0.624</span>,  <a href=\"file:///n/home09/pren/3DGeno_tools/src/gt3d/modules/higashi/Higashi_wrapper.py\" target=\"_blank\"><span style=\"color: #7f7f7f; text-decoration-color: #7f7f7f\">Higashi_wrapper.py</span></a><span style=\"color: #7f7f7f; text-decoration-color: #7f7f7f\">:</span><a href=\"file:///n/home09/pren/3DGeno_tools/src/gt3d/modules/higashi/Higashi_wrapper.py#1277\" target=\"_blank\"><span style=\"color: #7f7f7f; text-decoration-color: #7f7f7f\">1277</span></a>\n",
       "<span style=\"color: #7fbfbf; text-decoration-color: #7fbfbf\">                    </span>         spearman: <span style=\"color: #008080; text-decoration-color: #008080; font-weight: bold\">0.554</span>,elapse: <span style=\"color: #008080; text-decoration-color: #008080; font-weight: bold\">0.052</span> s                                <span style=\"color: #7f7f7f; text-decoration-color: #7f7f7f\">                       </span>\n",
       "</pre>\n"
      ],
      "text/plain": [
       "\u001b[2;36m                   \u001b[0m\u001b[2;36m \u001b[0m\u001b[34mINFO    \u001b[0m \u001b[94mtrain\u001b[0m  - \u001b[1m(\u001b[0mValid\u001b[1m)\u001b[0m bce:  \u001b[1;36m0.3473\u001b[0m,  acc: \u001b[1;36m88.092\u001b[0m %,pearson: \u001b[1;36m0.624\u001b[0m,  \u001b]8;id=999856;file:///n/home09/pren/3DGeno_tools/src/gt3d/modules/higashi/Higashi_wrapper.py\u001b\\\u001b[2mHigashi_wrapper.py\u001b[0m\u001b]8;;\u001b\\\u001b[2m:\u001b[0m\u001b]8;id=525159;file:///n/home09/pren/3DGeno_tools/src/gt3d/modules/higashi/Higashi_wrapper.py#1277\u001b\\\u001b[2m1277\u001b[0m\u001b]8;;\u001b\\\n",
       "\u001b[2;36m                    \u001b[0m         spearman: \u001b[1;36m0.554\u001b[0m,elapse: \u001b[1;36m0.052\u001b[0m s                                \u001b[2m                       \u001b[0m\n"
      ]
     },
     "metadata": {},
     "output_type": "display_data"
    },
    {
     "data": {
      "text/html": [
       "<pre style=\"white-space:pre;overflow-x:auto;line-height:normal;font-family:Menlo,'DejaVu Sans Mono',consolas,'Courier New',monospace\"><span style=\"color: #7fbfbf; text-decoration-color: #7fbfbf\">                    </span><span style=\"color: #000080; text-decoration-color: #000080\">INFO    </span> <span style=\"color: #0000ff; text-decoration-color: #0000ff\">train</span> update_rate: <span style=\"color: #008080; text-decoration-color: #008080; font-weight: bold\">0.005803</span>     <span style=\"color: #008080; text-decoration-color: #008080; font-weight: bold\">0.131308</span>                       <a href=\"file:///n/home09/pren/3DGeno_tools/src/gt3d/modules/higashi/Higashi_wrapper.py\" target=\"_blank\"><span style=\"color: #7f7f7f; text-decoration-color: #7f7f7f\">Higashi_wrapper.py</span></a><span style=\"color: #7f7f7f; text-decoration-color: #7f7f7f\">:</span><a href=\"file:///n/home09/pren/3DGeno_tools/src/gt3d/modules/higashi/Higashi_wrapper.py#1323\" target=\"_blank\"><span style=\"color: #7f7f7f; text-decoration-color: #7f7f7f\">1323</span></a>\n",
       "</pre>\n"
      ],
      "text/plain": [
       "\u001b[2;36m                   \u001b[0m\u001b[2;36m \u001b[0m\u001b[34mINFO    \u001b[0m \u001b[94mtrain\u001b[0m update_rate: \u001b[1;36m0.005803\u001b[0m     \u001b[1;36m0.131308\u001b[0m                       \u001b]8;id=950144;file:///n/home09/pren/3DGeno_tools/src/gt3d/modules/higashi/Higashi_wrapper.py\u001b\\\u001b[2mHigashi_wrapper.py\u001b[0m\u001b]8;;\u001b\\\u001b[2m:\u001b[0m\u001b]8;id=33707;file:///n/home09/pren/3DGeno_tools/src/gt3d/modules/higashi/Higashi_wrapper.py#1323\u001b\\\u001b[2m1323\u001b[0m\u001b]8;;\u001b\\\n"
      ]
     },
     "metadata": {},
     "output_type": "display_data"
    },
    {
     "data": {
      "text/html": [
       "<pre style=\"white-space:pre;overflow-x:auto;line-height:normal;font-family:Menlo,'DejaVu Sans Mono',consolas,'Courier New',monospace\"><span style=\"color: #7fbfbf; text-decoration-color: #7fbfbf\">                    </span><span style=\"color: #000080; text-decoration-color: #000080\">INFO    </span> <span style=\"color: #0000ff; text-decoration-color: #0000ff\">train</span> <span style=\"font-weight: bold\">[</span> Epoch <span style=\"color: #008080; text-decoration-color: #008080; font-weight: bold\">23</span> of <span style=\"color: #008080; text-decoration-color: #008080; font-weight: bold\">200</span> <span style=\"font-weight: bold\">]</span>                                      <a href=\"file:///n/home09/pren/3DGeno_tools/src/gt3d/modules/higashi/Higashi_wrapper.py\" target=\"_blank\"><span style=\"color: #7f7f7f; text-decoration-color: #7f7f7f\">Higashi_wrapper.py</span></a><span style=\"color: #7f7f7f; text-decoration-color: #7f7f7f\">:</span><a href=\"file:///n/home09/pren/3DGeno_tools/src/gt3d/modules/higashi/Higashi_wrapper.py#1245\" target=\"_blank\"><span style=\"color: #7f7f7f; text-decoration-color: #7f7f7f\">1245</span></a>\n",
       "</pre>\n"
      ],
      "text/plain": [
       "\u001b[2;36m                   \u001b[0m\u001b[2;36m \u001b[0m\u001b[34mINFO    \u001b[0m \u001b[94mtrain\u001b[0m \u001b[1m[\u001b[0m Epoch \u001b[1;36m23\u001b[0m of \u001b[1;36m200\u001b[0m \u001b[1m]\u001b[0m                                      \u001b]8;id=295912;file:///n/home09/pren/3DGeno_tools/src/gt3d/modules/higashi/Higashi_wrapper.py\u001b\\\u001b[2mHigashi_wrapper.py\u001b[0m\u001b]8;;\u001b\\\u001b[2m:\u001b[0m\u001b]8;id=656740;file:///n/home09/pren/3DGeno_tools/src/gt3d/modules/higashi/Higashi_wrapper.py#1245\u001b\\\u001b[2m1245\u001b[0m\u001b]8;;\u001b\\\n"
      ]
     },
     "metadata": {},
     "output_type": "display_data"
    },
    {
     "data": {
      "application/vnd.jupyter.widget-view+json": {
       "model_id": "f2a1fe25fec5403ca40dc1d7247c3315",
       "version_major": 2,
       "version_minor": 0
      },
      "text/plain": [
       "Output()"
      ]
     },
     "metadata": {},
     "output_type": "display_data"
    },
    {
     "data": {
      "text/html": [
       "<pre style=\"white-space:pre;overflow-x:auto;line-height:normal;font-family:Menlo,'DejaVu Sans Mono',consolas,'Courier New',monospace\"></pre>\n"
      ],
      "text/plain": []
     },
     "metadata": {},
     "output_type": "display_data"
    },
    {
     "data": {
      "text/html": [
       "<pre style=\"white-space:pre;overflow-x:auto;line-height:normal;font-family:Menlo,'DejaVu Sans Mono',consolas,'Courier New',monospace\"><span style=\"color: #7fbfbf; text-decoration-color: #7fbfbf\">[12/07/24 13:00:48] </span><span style=\"color: #000080; text-decoration-color: #000080\">INFO    </span> <span style=\"color: #0000ff; text-decoration-color: #0000ff\">train</span>  - <span style=\"font-weight: bold\">(</span>Train<span style=\"font-weight: bold\">)</span> bce:  <span style=\"color: #008080; text-decoration-color: #008080; font-weight: bold\">0.3252</span>, mse:  <span style=\"color: #008080; text-decoration-color: #008080; font-weight: bold\">1.2460</span>,  acc: <span style=\"color: #008080; text-decoration-color: #008080; font-weight: bold\">89.131</span> %,   <a href=\"file:///n/home09/pren/3DGeno_tools/src/gt3d/modules/higashi/Higashi_wrapper.py\" target=\"_blank\"><span style=\"color: #7f7f7f; text-decoration-color: #7f7f7f\">Higashi_wrapper.py</span></a><span style=\"color: #7f7f7f; text-decoration-color: #7f7f7f\">:</span><a href=\"file:///n/home09/pren/3DGeno_tools/src/gt3d/modules/higashi/Higashi_wrapper.py#1258\" target=\"_blank\"><span style=\"color: #7f7f7f; text-decoration-color: #7f7f7f\">1258</span></a>\n",
       "<span style=\"color: #7fbfbf; text-decoration-color: #7fbfbf\">                    </span>         pearson: <span style=\"color: #008080; text-decoration-color: #008080; font-weight: bold\">0.662</span>, spearman: <span style=\"color: #008080; text-decoration-color: #008080; font-weight: bold\">0.568</span>, elapse: <span style=\"color: #008080; text-decoration-color: #008080; font-weight: bold\">89.044</span> s              <span style=\"color: #7f7f7f; text-decoration-color: #7f7f7f\">                       </span>\n",
       "</pre>\n"
      ],
      "text/plain": [
       "\u001b[2;36m[12/07/24 13:00:48]\u001b[0m\u001b[2;36m \u001b[0m\u001b[34mINFO    \u001b[0m \u001b[94mtrain\u001b[0m  - \u001b[1m(\u001b[0mTrain\u001b[1m)\u001b[0m bce:  \u001b[1;36m0.3252\u001b[0m, mse:  \u001b[1;36m1.2460\u001b[0m,  acc: \u001b[1;36m89.131\u001b[0m %,   \u001b]8;id=807693;file:///n/home09/pren/3DGeno_tools/src/gt3d/modules/higashi/Higashi_wrapper.py\u001b\\\u001b[2mHigashi_wrapper.py\u001b[0m\u001b]8;;\u001b\\\u001b[2m:\u001b[0m\u001b]8;id=685300;file:///n/home09/pren/3DGeno_tools/src/gt3d/modules/higashi/Higashi_wrapper.py#1258\u001b\\\u001b[2m1258\u001b[0m\u001b]8;;\u001b\\\n",
       "\u001b[2;36m                    \u001b[0m         pearson: \u001b[1;36m0.662\u001b[0m, spearman: \u001b[1;36m0.568\u001b[0m, elapse: \u001b[1;36m89.044\u001b[0m s              \u001b[2m                       \u001b[0m\n"
      ]
     },
     "metadata": {},
     "output_type": "display_data"
    },
    {
     "data": {
      "application/vnd.jupyter.widget-view+json": {
       "model_id": "7aa741f26c214820addbb5f940b024df",
       "version_major": 2,
       "version_minor": 0
      },
      "text/plain": [
       "Output()"
      ]
     },
     "metadata": {},
     "output_type": "display_data"
    },
    {
     "data": {
      "text/html": [
       "<pre style=\"white-space:pre;overflow-x:auto;line-height:normal;font-family:Menlo,'DejaVu Sans Mono',consolas,'Courier New',monospace\"></pre>\n"
      ],
      "text/plain": []
     },
     "metadata": {},
     "output_type": "display_data"
    },
    {
     "data": {
      "text/html": [
       "<pre style=\"white-space:pre;overflow-x:auto;line-height:normal;font-family:Menlo,'DejaVu Sans Mono',consolas,'Courier New',monospace\"><span style=\"color: #7fbfbf; text-decoration-color: #7fbfbf\">                    </span><span style=\"color: #000080; text-decoration-color: #000080\">INFO    </span> <span style=\"color: #0000ff; text-decoration-color: #0000ff\">train</span>  - <span style=\"font-weight: bold\">(</span>Valid<span style=\"font-weight: bold\">)</span> bce:  <span style=\"color: #008080; text-decoration-color: #008080; font-weight: bold\">0.3544</span>,  acc: <span style=\"color: #008080; text-decoration-color: #008080; font-weight: bold\">88.783</span> %,pearson: <span style=\"color: #008080; text-decoration-color: #008080; font-weight: bold\">0.636</span>,  <a href=\"file:///n/home09/pren/3DGeno_tools/src/gt3d/modules/higashi/Higashi_wrapper.py\" target=\"_blank\"><span style=\"color: #7f7f7f; text-decoration-color: #7f7f7f\">Higashi_wrapper.py</span></a><span style=\"color: #7f7f7f; text-decoration-color: #7f7f7f\">:</span><a href=\"file:///n/home09/pren/3DGeno_tools/src/gt3d/modules/higashi/Higashi_wrapper.py#1277\" target=\"_blank\"><span style=\"color: #7f7f7f; text-decoration-color: #7f7f7f\">1277</span></a>\n",
       "<span style=\"color: #7fbfbf; text-decoration-color: #7fbfbf\">                    </span>         spearman: <span style=\"color: #008080; text-decoration-color: #008080; font-weight: bold\">0.555</span>,elapse: <span style=\"color: #008080; text-decoration-color: #008080; font-weight: bold\">0.051</span> s                                <span style=\"color: #7f7f7f; text-decoration-color: #7f7f7f\">                       </span>\n",
       "</pre>\n"
      ],
      "text/plain": [
       "\u001b[2;36m                   \u001b[0m\u001b[2;36m \u001b[0m\u001b[34mINFO    \u001b[0m \u001b[94mtrain\u001b[0m  - \u001b[1m(\u001b[0mValid\u001b[1m)\u001b[0m bce:  \u001b[1;36m0.3544\u001b[0m,  acc: \u001b[1;36m88.783\u001b[0m %,pearson: \u001b[1;36m0.636\u001b[0m,  \u001b]8;id=571495;file:///n/home09/pren/3DGeno_tools/src/gt3d/modules/higashi/Higashi_wrapper.py\u001b\\\u001b[2mHigashi_wrapper.py\u001b[0m\u001b]8;;\u001b\\\u001b[2m:\u001b[0m\u001b]8;id=92147;file:///n/home09/pren/3DGeno_tools/src/gt3d/modules/higashi/Higashi_wrapper.py#1277\u001b\\\u001b[2m1277\u001b[0m\u001b]8;;\u001b\\\n",
       "\u001b[2;36m                    \u001b[0m         spearman: \u001b[1;36m0.555\u001b[0m,elapse: \u001b[1;36m0.051\u001b[0m s                                \u001b[2m                       \u001b[0m\n"
      ]
     },
     "metadata": {},
     "output_type": "display_data"
    },
    {
     "data": {
      "text/html": [
       "<pre style=\"white-space:pre;overflow-x:auto;line-height:normal;font-family:Menlo,'DejaVu Sans Mono',consolas,'Courier New',monospace\"><span style=\"color: #7fbfbf; text-decoration-color: #7fbfbf\">                    </span><span style=\"color: #000080; text-decoration-color: #000080\">INFO    </span> <span style=\"color: #0000ff; text-decoration-color: #0000ff\">train</span> update_rate: <span style=\"color: #008080; text-decoration-color: #008080; font-weight: bold\">0.006643</span>     <span style=\"color: #008080; text-decoration-color: #008080; font-weight: bold\">0.159719</span>                       <a href=\"file:///n/home09/pren/3DGeno_tools/src/gt3d/modules/higashi/Higashi_wrapper.py\" target=\"_blank\"><span style=\"color: #7f7f7f; text-decoration-color: #7f7f7f\">Higashi_wrapper.py</span></a><span style=\"color: #7f7f7f; text-decoration-color: #7f7f7f\">:</span><a href=\"file:///n/home09/pren/3DGeno_tools/src/gt3d/modules/higashi/Higashi_wrapper.py#1323\" target=\"_blank\"><span style=\"color: #7f7f7f; text-decoration-color: #7f7f7f\">1323</span></a>\n",
       "</pre>\n"
      ],
      "text/plain": [
       "\u001b[2;36m                   \u001b[0m\u001b[2;36m \u001b[0m\u001b[34mINFO    \u001b[0m \u001b[94mtrain\u001b[0m update_rate: \u001b[1;36m0.006643\u001b[0m     \u001b[1;36m0.159719\u001b[0m                       \u001b]8;id=753332;file:///n/home09/pren/3DGeno_tools/src/gt3d/modules/higashi/Higashi_wrapper.py\u001b\\\u001b[2mHigashi_wrapper.py\u001b[0m\u001b]8;;\u001b\\\u001b[2m:\u001b[0m\u001b]8;id=973159;file:///n/home09/pren/3DGeno_tools/src/gt3d/modules/higashi/Higashi_wrapper.py#1323\u001b\\\u001b[2m1323\u001b[0m\u001b]8;;\u001b\\\n"
      ]
     },
     "metadata": {},
     "output_type": "display_data"
    },
    {
     "data": {
      "text/html": [
       "<pre style=\"white-space:pre;overflow-x:auto;line-height:normal;font-family:Menlo,'DejaVu Sans Mono',consolas,'Courier New',monospace\"><span style=\"color: #7fbfbf; text-decoration-color: #7fbfbf\">                    </span><span style=\"color: #000080; text-decoration-color: #000080\">INFO    </span> <span style=\"color: #0000ff; text-decoration-color: #0000ff\">train</span> <span style=\"font-weight: bold\">[</span> Epoch <span style=\"color: #008080; text-decoration-color: #008080; font-weight: bold\">24</span> of <span style=\"color: #008080; text-decoration-color: #008080; font-weight: bold\">200</span> <span style=\"font-weight: bold\">]</span>                                      <a href=\"file:///n/home09/pren/3DGeno_tools/src/gt3d/modules/higashi/Higashi_wrapper.py\" target=\"_blank\"><span style=\"color: #7f7f7f; text-decoration-color: #7f7f7f\">Higashi_wrapper.py</span></a><span style=\"color: #7f7f7f; text-decoration-color: #7f7f7f\">:</span><a href=\"file:///n/home09/pren/3DGeno_tools/src/gt3d/modules/higashi/Higashi_wrapper.py#1245\" target=\"_blank\"><span style=\"color: #7f7f7f; text-decoration-color: #7f7f7f\">1245</span></a>\n",
       "</pre>\n"
      ],
      "text/plain": [
       "\u001b[2;36m                   \u001b[0m\u001b[2;36m \u001b[0m\u001b[34mINFO    \u001b[0m \u001b[94mtrain\u001b[0m \u001b[1m[\u001b[0m Epoch \u001b[1;36m24\u001b[0m of \u001b[1;36m200\u001b[0m \u001b[1m]\u001b[0m                                      \u001b]8;id=406819;file:///n/home09/pren/3DGeno_tools/src/gt3d/modules/higashi/Higashi_wrapper.py\u001b\\\u001b[2mHigashi_wrapper.py\u001b[0m\u001b]8;;\u001b\\\u001b[2m:\u001b[0m\u001b]8;id=271053;file:///n/home09/pren/3DGeno_tools/src/gt3d/modules/higashi/Higashi_wrapper.py#1245\u001b\\\u001b[2m1245\u001b[0m\u001b]8;;\u001b\\\n"
      ]
     },
     "metadata": {},
     "output_type": "display_data"
    },
    {
     "data": {
      "application/vnd.jupyter.widget-view+json": {
       "model_id": "d7aeb46504a945b28f882f78223b441e",
       "version_major": 2,
       "version_minor": 0
      },
      "text/plain": [
       "Output()"
      ]
     },
     "metadata": {},
     "output_type": "display_data"
    },
    {
     "data": {
      "text/html": [
       "<pre style=\"white-space:pre;overflow-x:auto;line-height:normal;font-family:Menlo,'DejaVu Sans Mono',consolas,'Courier New',monospace\"></pre>\n"
      ],
      "text/plain": []
     },
     "metadata": {},
     "output_type": "display_data"
    },
    {
     "data": {
      "text/html": [
       "<pre style=\"white-space:pre;overflow-x:auto;line-height:normal;font-family:Menlo,'DejaVu Sans Mono',consolas,'Courier New',monospace\"><span style=\"color: #7fbfbf; text-decoration-color: #7fbfbf\">[12/07/24 13:02:17] </span><span style=\"color: #000080; text-decoration-color: #000080\">INFO    </span> <span style=\"color: #0000ff; text-decoration-color: #0000ff\">train</span>  - <span style=\"font-weight: bold\">(</span>Train<span style=\"font-weight: bold\">)</span> bce:  <span style=\"color: #008080; text-decoration-color: #008080; font-weight: bold\">0.3244</span>, mse:  <span style=\"color: #008080; text-decoration-color: #008080; font-weight: bold\">0.8863</span>,  acc: <span style=\"color: #008080; text-decoration-color: #008080; font-weight: bold\">89.223</span> %,   <a href=\"file:///n/home09/pren/3DGeno_tools/src/gt3d/modules/higashi/Higashi_wrapper.py\" target=\"_blank\"><span style=\"color: #7f7f7f; text-decoration-color: #7f7f7f\">Higashi_wrapper.py</span></a><span style=\"color: #7f7f7f; text-decoration-color: #7f7f7f\">:</span><a href=\"file:///n/home09/pren/3DGeno_tools/src/gt3d/modules/higashi/Higashi_wrapper.py#1258\" target=\"_blank\"><span style=\"color: #7f7f7f; text-decoration-color: #7f7f7f\">1258</span></a>\n",
       "<span style=\"color: #7fbfbf; text-decoration-color: #7fbfbf\">                    </span>         pearson: <span style=\"color: #008080; text-decoration-color: #008080; font-weight: bold\">0.665</span>, spearman: <span style=\"color: #008080; text-decoration-color: #008080; font-weight: bold\">0.569</span>, elapse: <span style=\"color: #008080; text-decoration-color: #008080; font-weight: bold\">89.280</span> s              <span style=\"color: #7f7f7f; text-decoration-color: #7f7f7f\">                       </span>\n",
       "</pre>\n"
      ],
      "text/plain": [
       "\u001b[2;36m[12/07/24 13:02:17]\u001b[0m\u001b[2;36m \u001b[0m\u001b[34mINFO    \u001b[0m \u001b[94mtrain\u001b[0m  - \u001b[1m(\u001b[0mTrain\u001b[1m)\u001b[0m bce:  \u001b[1;36m0.3244\u001b[0m, mse:  \u001b[1;36m0.8863\u001b[0m,  acc: \u001b[1;36m89.223\u001b[0m %,   \u001b]8;id=694828;file:///n/home09/pren/3DGeno_tools/src/gt3d/modules/higashi/Higashi_wrapper.py\u001b\\\u001b[2mHigashi_wrapper.py\u001b[0m\u001b]8;;\u001b\\\u001b[2m:\u001b[0m\u001b]8;id=558659;file:///n/home09/pren/3DGeno_tools/src/gt3d/modules/higashi/Higashi_wrapper.py#1258\u001b\\\u001b[2m1258\u001b[0m\u001b]8;;\u001b\\\n",
       "\u001b[2;36m                    \u001b[0m         pearson: \u001b[1;36m0.665\u001b[0m, spearman: \u001b[1;36m0.569\u001b[0m, elapse: \u001b[1;36m89.280\u001b[0m s              \u001b[2m                       \u001b[0m\n"
      ]
     },
     "metadata": {},
     "output_type": "display_data"
    },
    {
     "data": {
      "application/vnd.jupyter.widget-view+json": {
       "model_id": "a0ffd6e2d18345f5b0c8ee0bbf8b2747",
       "version_major": 2,
       "version_minor": 0
      },
      "text/plain": [
       "Output()"
      ]
     },
     "metadata": {},
     "output_type": "display_data"
    },
    {
     "data": {
      "text/html": [
       "<pre style=\"white-space:pre;overflow-x:auto;line-height:normal;font-family:Menlo,'DejaVu Sans Mono',consolas,'Courier New',monospace\"></pre>\n"
      ],
      "text/plain": []
     },
     "metadata": {},
     "output_type": "display_data"
    },
    {
     "data": {
      "text/html": [
       "<pre style=\"white-space:pre;overflow-x:auto;line-height:normal;font-family:Menlo,'DejaVu Sans Mono',consolas,'Courier New',monospace\"><span style=\"color: #7fbfbf; text-decoration-color: #7fbfbf\">                    </span><span style=\"color: #000080; text-decoration-color: #000080\">INFO    </span> <span style=\"color: #0000ff; text-decoration-color: #0000ff\">train</span>  - <span style=\"font-weight: bold\">(</span>Valid<span style=\"font-weight: bold\">)</span> bce:  <span style=\"color: #008080; text-decoration-color: #008080; font-weight: bold\">0.3533</span>,  acc: <span style=\"color: #008080; text-decoration-color: #008080; font-weight: bold\">87.995</span> %,pearson: <span style=\"color: #008080; text-decoration-color: #008080; font-weight: bold\">0.622</span>,  <a href=\"file:///n/home09/pren/3DGeno_tools/src/gt3d/modules/higashi/Higashi_wrapper.py\" target=\"_blank\"><span style=\"color: #7f7f7f; text-decoration-color: #7f7f7f\">Higashi_wrapper.py</span></a><span style=\"color: #7f7f7f; text-decoration-color: #7f7f7f\">:</span><a href=\"file:///n/home09/pren/3DGeno_tools/src/gt3d/modules/higashi/Higashi_wrapper.py#1277\" target=\"_blank\"><span style=\"color: #7f7f7f; text-decoration-color: #7f7f7f\">1277</span></a>\n",
       "<span style=\"color: #7fbfbf; text-decoration-color: #7fbfbf\">                    </span>         spearman: <span style=\"color: #008080; text-decoration-color: #008080; font-weight: bold\">0.550</span>,elapse: <span style=\"color: #008080; text-decoration-color: #008080; font-weight: bold\">0.052</span> s                                <span style=\"color: #7f7f7f; text-decoration-color: #7f7f7f\">                       </span>\n",
       "</pre>\n"
      ],
      "text/plain": [
       "\u001b[2;36m                   \u001b[0m\u001b[2;36m \u001b[0m\u001b[34mINFO    \u001b[0m \u001b[94mtrain\u001b[0m  - \u001b[1m(\u001b[0mValid\u001b[1m)\u001b[0m bce:  \u001b[1;36m0.3533\u001b[0m,  acc: \u001b[1;36m87.995\u001b[0m %,pearson: \u001b[1;36m0.622\u001b[0m,  \u001b]8;id=580548;file:///n/home09/pren/3DGeno_tools/src/gt3d/modules/higashi/Higashi_wrapper.py\u001b\\\u001b[2mHigashi_wrapper.py\u001b[0m\u001b]8;;\u001b\\\u001b[2m:\u001b[0m\u001b]8;id=27808;file:///n/home09/pren/3DGeno_tools/src/gt3d/modules/higashi/Higashi_wrapper.py#1277\u001b\\\u001b[2m1277\u001b[0m\u001b]8;;\u001b\\\n",
       "\u001b[2;36m                    \u001b[0m         spearman: \u001b[1;36m0.550\u001b[0m,elapse: \u001b[1;36m0.052\u001b[0m s                                \u001b[2m                       \u001b[0m\n"
      ]
     },
     "metadata": {},
     "output_type": "display_data"
    },
    {
     "data": {
      "text/html": [
       "<pre style=\"white-space:pre;overflow-x:auto;line-height:normal;font-family:Menlo,'DejaVu Sans Mono',consolas,'Courier New',monospace\"><span style=\"color: #7fbfbf; text-decoration-color: #7fbfbf\">                    </span><span style=\"color: #000080; text-decoration-color: #000080\">INFO    </span> <span style=\"color: #0000ff; text-decoration-color: #0000ff\">train</span> update_rate: <span style=\"color: #008080; text-decoration-color: #008080; font-weight: bold\">0.005579</span>     <span style=\"color: #008080; text-decoration-color: #008080; font-weight: bold\">0.209407</span>                       <a href=\"file:///n/home09/pren/3DGeno_tools/src/gt3d/modules/higashi/Higashi_wrapper.py\" target=\"_blank\"><span style=\"color: #7f7f7f; text-decoration-color: #7f7f7f\">Higashi_wrapper.py</span></a><span style=\"color: #7f7f7f; text-decoration-color: #7f7f7f\">:</span><a href=\"file:///n/home09/pren/3DGeno_tools/src/gt3d/modules/higashi/Higashi_wrapper.py#1323\" target=\"_blank\"><span style=\"color: #7f7f7f; text-decoration-color: #7f7f7f\">1323</span></a>\n",
       "</pre>\n"
      ],
      "text/plain": [
       "\u001b[2;36m                   \u001b[0m\u001b[2;36m \u001b[0m\u001b[34mINFO    \u001b[0m \u001b[94mtrain\u001b[0m update_rate: \u001b[1;36m0.005579\u001b[0m     \u001b[1;36m0.209407\u001b[0m                       \u001b]8;id=650379;file:///n/home09/pren/3DGeno_tools/src/gt3d/modules/higashi/Higashi_wrapper.py\u001b\\\u001b[2mHigashi_wrapper.py\u001b[0m\u001b]8;;\u001b\\\u001b[2m:\u001b[0m\u001b]8;id=768550;file:///n/home09/pren/3DGeno_tools/src/gt3d/modules/higashi/Higashi_wrapper.py#1323\u001b\\\u001b[2m1323\u001b[0m\u001b]8;;\u001b\\\n"
      ]
     },
     "metadata": {},
     "output_type": "display_data"
    },
    {
     "data": {
      "text/html": [
       "<pre style=\"white-space:pre;overflow-x:auto;line-height:normal;font-family:Menlo,'DejaVu Sans Mono',consolas,'Courier New',monospace\"><span style=\"color: #7fbfbf; text-decoration-color: #7fbfbf\">                    </span><span style=\"color: #000080; text-decoration-color: #000080\">INFO    </span> <span style=\"color: #0000ff; text-decoration-color: #0000ff\">train</span> <span style=\"font-weight: bold\">[</span> Epoch <span style=\"color: #008080; text-decoration-color: #008080; font-weight: bold\">25</span> of <span style=\"color: #008080; text-decoration-color: #008080; font-weight: bold\">200</span> <span style=\"font-weight: bold\">]</span>                                      <a href=\"file:///n/home09/pren/3DGeno_tools/src/gt3d/modules/higashi/Higashi_wrapper.py\" target=\"_blank\"><span style=\"color: #7f7f7f; text-decoration-color: #7f7f7f\">Higashi_wrapper.py</span></a><span style=\"color: #7f7f7f; text-decoration-color: #7f7f7f\">:</span><a href=\"file:///n/home09/pren/3DGeno_tools/src/gt3d/modules/higashi/Higashi_wrapper.py#1245\" target=\"_blank\"><span style=\"color: #7f7f7f; text-decoration-color: #7f7f7f\">1245</span></a>\n",
       "</pre>\n"
      ],
      "text/plain": [
       "\u001b[2;36m                   \u001b[0m\u001b[2;36m \u001b[0m\u001b[34mINFO    \u001b[0m \u001b[94mtrain\u001b[0m \u001b[1m[\u001b[0m Epoch \u001b[1;36m25\u001b[0m of \u001b[1;36m200\u001b[0m \u001b[1m]\u001b[0m                                      \u001b]8;id=945787;file:///n/home09/pren/3DGeno_tools/src/gt3d/modules/higashi/Higashi_wrapper.py\u001b\\\u001b[2mHigashi_wrapper.py\u001b[0m\u001b]8;;\u001b\\\u001b[2m:\u001b[0m\u001b]8;id=477510;file:///n/home09/pren/3DGeno_tools/src/gt3d/modules/higashi/Higashi_wrapper.py#1245\u001b\\\u001b[2m1245\u001b[0m\u001b]8;;\u001b\\\n"
      ]
     },
     "metadata": {},
     "output_type": "display_data"
    },
    {
     "data": {
      "application/vnd.jupyter.widget-view+json": {
       "model_id": "8d9b3cb339c242f28211cb16309f2795",
       "version_major": 2,
       "version_minor": 0
      },
      "text/plain": [
       "Output()"
      ]
     },
     "metadata": {},
     "output_type": "display_data"
    },
    {
     "data": {
      "text/html": [
       "<pre style=\"white-space:pre;overflow-x:auto;line-height:normal;font-family:Menlo,'DejaVu Sans Mono',consolas,'Courier New',monospace\"></pre>\n"
      ],
      "text/plain": []
     },
     "metadata": {},
     "output_type": "display_data"
    },
    {
     "data": {
      "text/html": [
       "<pre style=\"white-space:pre;overflow-x:auto;line-height:normal;font-family:Menlo,'DejaVu Sans Mono',consolas,'Courier New',monospace\"><span style=\"color: #7fbfbf; text-decoration-color: #7fbfbf\">[12/07/24 13:03:46] </span><span style=\"color: #000080; text-decoration-color: #000080\">INFO    </span> <span style=\"color: #0000ff; text-decoration-color: #0000ff\">train</span>  - <span style=\"font-weight: bold\">(</span>Train<span style=\"font-weight: bold\">)</span> bce:  <span style=\"color: #008080; text-decoration-color: #008080; font-weight: bold\">0.3234</span>, mse:  <span style=\"color: #008080; text-decoration-color: #008080; font-weight: bold\">1.1487</span>,  acc: <span style=\"color: #008080; text-decoration-color: #008080; font-weight: bold\">89.227</span> %,   <a href=\"file:///n/home09/pren/3DGeno_tools/src/gt3d/modules/higashi/Higashi_wrapper.py\" target=\"_blank\"><span style=\"color: #7f7f7f; text-decoration-color: #7f7f7f\">Higashi_wrapper.py</span></a><span style=\"color: #7f7f7f; text-decoration-color: #7f7f7f\">:</span><a href=\"file:///n/home09/pren/3DGeno_tools/src/gt3d/modules/higashi/Higashi_wrapper.py#1258\" target=\"_blank\"><span style=\"color: #7f7f7f; text-decoration-color: #7f7f7f\">1258</span></a>\n",
       "<span style=\"color: #7fbfbf; text-decoration-color: #7fbfbf\">                    </span>         pearson: <span style=\"color: #008080; text-decoration-color: #008080; font-weight: bold\">0.665</span>, spearman: <span style=\"color: #008080; text-decoration-color: #008080; font-weight: bold\">0.569</span>, elapse: <span style=\"color: #008080; text-decoration-color: #008080; font-weight: bold\">89.176</span> s              <span style=\"color: #7f7f7f; text-decoration-color: #7f7f7f\">                       </span>\n",
       "</pre>\n"
      ],
      "text/plain": [
       "\u001b[2;36m[12/07/24 13:03:46]\u001b[0m\u001b[2;36m \u001b[0m\u001b[34mINFO    \u001b[0m \u001b[94mtrain\u001b[0m  - \u001b[1m(\u001b[0mTrain\u001b[1m)\u001b[0m bce:  \u001b[1;36m0.3234\u001b[0m, mse:  \u001b[1;36m1.1487\u001b[0m,  acc: \u001b[1;36m89.227\u001b[0m %,   \u001b]8;id=860991;file:///n/home09/pren/3DGeno_tools/src/gt3d/modules/higashi/Higashi_wrapper.py\u001b\\\u001b[2mHigashi_wrapper.py\u001b[0m\u001b]8;;\u001b\\\u001b[2m:\u001b[0m\u001b]8;id=65041;file:///n/home09/pren/3DGeno_tools/src/gt3d/modules/higashi/Higashi_wrapper.py#1258\u001b\\\u001b[2m1258\u001b[0m\u001b]8;;\u001b\\\n",
       "\u001b[2;36m                    \u001b[0m         pearson: \u001b[1;36m0.665\u001b[0m, spearman: \u001b[1;36m0.569\u001b[0m, elapse: \u001b[1;36m89.176\u001b[0m s              \u001b[2m                       \u001b[0m\n"
      ]
     },
     "metadata": {},
     "output_type": "display_data"
    },
    {
     "data": {
      "application/vnd.jupyter.widget-view+json": {
       "model_id": "ac36557b58034016ba319338d0745218",
       "version_major": 2,
       "version_minor": 0
      },
      "text/plain": [
       "Output()"
      ]
     },
     "metadata": {},
     "output_type": "display_data"
    },
    {
     "data": {
      "text/html": [
       "<pre style=\"white-space:pre;overflow-x:auto;line-height:normal;font-family:Menlo,'DejaVu Sans Mono',consolas,'Courier New',monospace\"></pre>\n"
      ],
      "text/plain": []
     },
     "metadata": {},
     "output_type": "display_data"
    },
    {
     "data": {
      "text/html": [
       "<pre style=\"white-space:pre;overflow-x:auto;line-height:normal;font-family:Menlo,'DejaVu Sans Mono',consolas,'Courier New',monospace\"><span style=\"color: #7fbfbf; text-decoration-color: #7fbfbf\">                    </span><span style=\"color: #000080; text-decoration-color: #000080\">INFO    </span> <span style=\"color: #0000ff; text-decoration-color: #0000ff\">train</span>  - <span style=\"font-weight: bold\">(</span>Valid<span style=\"font-weight: bold\">)</span> bce:  <span style=\"color: #008080; text-decoration-color: #008080; font-weight: bold\">0.3650</span>,  acc: <span style=\"color: #008080; text-decoration-color: #008080; font-weight: bold\">88.770</span> %,pearson: <span style=\"color: #008080; text-decoration-color: #008080; font-weight: bold\">0.622</span>,  <a href=\"file:///n/home09/pren/3DGeno_tools/src/gt3d/modules/higashi/Higashi_wrapper.py\" target=\"_blank\"><span style=\"color: #7f7f7f; text-decoration-color: #7f7f7f\">Higashi_wrapper.py</span></a><span style=\"color: #7f7f7f; text-decoration-color: #7f7f7f\">:</span><a href=\"file:///n/home09/pren/3DGeno_tools/src/gt3d/modules/higashi/Higashi_wrapper.py#1277\" target=\"_blank\"><span style=\"color: #7f7f7f; text-decoration-color: #7f7f7f\">1277</span></a>\n",
       "<span style=\"color: #7fbfbf; text-decoration-color: #7fbfbf\">                    </span>         spearman: <span style=\"color: #008080; text-decoration-color: #008080; font-weight: bold\">0.550</span>,elapse: <span style=\"color: #008080; text-decoration-color: #008080; font-weight: bold\">0.052</span> s                                <span style=\"color: #7f7f7f; text-decoration-color: #7f7f7f\">                       </span>\n",
       "</pre>\n"
      ],
      "text/plain": [
       "\u001b[2;36m                   \u001b[0m\u001b[2;36m \u001b[0m\u001b[34mINFO    \u001b[0m \u001b[94mtrain\u001b[0m  - \u001b[1m(\u001b[0mValid\u001b[1m)\u001b[0m bce:  \u001b[1;36m0.3650\u001b[0m,  acc: \u001b[1;36m88.770\u001b[0m %,pearson: \u001b[1;36m0.622\u001b[0m,  \u001b]8;id=365825;file:///n/home09/pren/3DGeno_tools/src/gt3d/modules/higashi/Higashi_wrapper.py\u001b\\\u001b[2mHigashi_wrapper.py\u001b[0m\u001b]8;;\u001b\\\u001b[2m:\u001b[0m\u001b]8;id=57939;file:///n/home09/pren/3DGeno_tools/src/gt3d/modules/higashi/Higashi_wrapper.py#1277\u001b\\\u001b[2m1277\u001b[0m\u001b]8;;\u001b\\\n",
       "\u001b[2;36m                    \u001b[0m         spearman: \u001b[1;36m0.550\u001b[0m,elapse: \u001b[1;36m0.052\u001b[0m s                                \u001b[2m                       \u001b[0m\n"
      ]
     },
     "metadata": {},
     "output_type": "display_data"
    },
    {
     "data": {
      "text/html": [
       "<pre style=\"white-space:pre;overflow-x:auto;line-height:normal;font-family:Menlo,'DejaVu Sans Mono',consolas,'Courier New',monospace\"><span style=\"color: #7fbfbf; text-decoration-color: #7fbfbf\">                    </span><span style=\"color: #000080; text-decoration-color: #000080\">INFO    </span> <span style=\"color: #0000ff; text-decoration-color: #0000ff\">train</span> update_rate: <span style=\"color: #008080; text-decoration-color: #008080; font-weight: bold\">0.004868</span>     <span style=\"color: #008080; text-decoration-color: #008080; font-weight: bold\">0.107639</span>                       <a href=\"file:///n/home09/pren/3DGeno_tools/src/gt3d/modules/higashi/Higashi_wrapper.py\" target=\"_blank\"><span style=\"color: #7f7f7f; text-decoration-color: #7f7f7f\">Higashi_wrapper.py</span></a><span style=\"color: #7f7f7f; text-decoration-color: #7f7f7f\">:</span><a href=\"file:///n/home09/pren/3DGeno_tools/src/gt3d/modules/higashi/Higashi_wrapper.py#1323\" target=\"_blank\"><span style=\"color: #7f7f7f; text-decoration-color: #7f7f7f\">1323</span></a>\n",
       "</pre>\n"
      ],
      "text/plain": [
       "\u001b[2;36m                   \u001b[0m\u001b[2;36m \u001b[0m\u001b[34mINFO    \u001b[0m \u001b[94mtrain\u001b[0m update_rate: \u001b[1;36m0.004868\u001b[0m     \u001b[1;36m0.107639\u001b[0m                       \u001b]8;id=600662;file:///n/home09/pren/3DGeno_tools/src/gt3d/modules/higashi/Higashi_wrapper.py\u001b\\\u001b[2mHigashi_wrapper.py\u001b[0m\u001b]8;;\u001b\\\u001b[2m:\u001b[0m\u001b]8;id=338453;file:///n/home09/pren/3DGeno_tools/src/gt3d/modules/higashi/Higashi_wrapper.py#1323\u001b\\\u001b[2m1323\u001b[0m\u001b]8;;\u001b\\\n"
      ]
     },
     "metadata": {},
     "output_type": "display_data"
    },
    {
     "data": {
      "text/html": [
       "<pre style=\"white-space:pre;overflow-x:auto;line-height:normal;font-family:Menlo,'DejaVu Sans Mono',consolas,'Courier New',monospace\"><span style=\"color: #7fbfbf; text-decoration-color: #7fbfbf\">                    </span><span style=\"color: #000080; text-decoration-color: #000080\">INFO    </span> <span style=\"color: #0000ff; text-decoration-color: #0000ff\">train</span> <span style=\"font-weight: bold\">[</span> Epoch <span style=\"color: #008080; text-decoration-color: #008080; font-weight: bold\">26</span> of <span style=\"color: #008080; text-decoration-color: #008080; font-weight: bold\">200</span> <span style=\"font-weight: bold\">]</span>                                      <a href=\"file:///n/home09/pren/3DGeno_tools/src/gt3d/modules/higashi/Higashi_wrapper.py\" target=\"_blank\"><span style=\"color: #7f7f7f; text-decoration-color: #7f7f7f\">Higashi_wrapper.py</span></a><span style=\"color: #7f7f7f; text-decoration-color: #7f7f7f\">:</span><a href=\"file:///n/home09/pren/3DGeno_tools/src/gt3d/modules/higashi/Higashi_wrapper.py#1245\" target=\"_blank\"><span style=\"color: #7f7f7f; text-decoration-color: #7f7f7f\">1245</span></a>\n",
       "</pre>\n"
      ],
      "text/plain": [
       "\u001b[2;36m                   \u001b[0m\u001b[2;36m \u001b[0m\u001b[34mINFO    \u001b[0m \u001b[94mtrain\u001b[0m \u001b[1m[\u001b[0m Epoch \u001b[1;36m26\u001b[0m of \u001b[1;36m200\u001b[0m \u001b[1m]\u001b[0m                                      \u001b]8;id=376881;file:///n/home09/pren/3DGeno_tools/src/gt3d/modules/higashi/Higashi_wrapper.py\u001b\\\u001b[2mHigashi_wrapper.py\u001b[0m\u001b]8;;\u001b\\\u001b[2m:\u001b[0m\u001b]8;id=918483;file:///n/home09/pren/3DGeno_tools/src/gt3d/modules/higashi/Higashi_wrapper.py#1245\u001b\\\u001b[2m1245\u001b[0m\u001b]8;;\u001b\\\n"
      ]
     },
     "metadata": {},
     "output_type": "display_data"
    },
    {
     "data": {
      "application/vnd.jupyter.widget-view+json": {
       "model_id": "d75042cca140462ca181e82e71cfa4e2",
       "version_major": 2,
       "version_minor": 0
      },
      "text/plain": [
       "Output()"
      ]
     },
     "metadata": {},
     "output_type": "display_data"
    },
    {
     "data": {
      "text/html": [
       "<pre style=\"white-space:pre;overflow-x:auto;line-height:normal;font-family:Menlo,'DejaVu Sans Mono',consolas,'Courier New',monospace\"></pre>\n"
      ],
      "text/plain": []
     },
     "metadata": {},
     "output_type": "display_data"
    },
    {
     "data": {
      "text/html": [
       "<pre style=\"white-space:pre;overflow-x:auto;line-height:normal;font-family:Menlo,'DejaVu Sans Mono',consolas,'Courier New',monospace\"><span style=\"color: #7fbfbf; text-decoration-color: #7fbfbf\">[12/07/24 13:05:16] </span><span style=\"color: #000080; text-decoration-color: #000080\">INFO    </span> <span style=\"color: #0000ff; text-decoration-color: #0000ff\">train</span>  - <span style=\"font-weight: bold\">(</span>Train<span style=\"font-weight: bold\">)</span> bce:  <span style=\"color: #008080; text-decoration-color: #008080; font-weight: bold\">0.3222</span>, mse:  <span style=\"color: #008080; text-decoration-color: #008080; font-weight: bold\">0.9577</span>,  acc: <span style=\"color: #008080; text-decoration-color: #008080; font-weight: bold\">89.303</span> %,   <a href=\"file:///n/home09/pren/3DGeno_tools/src/gt3d/modules/higashi/Higashi_wrapper.py\" target=\"_blank\"><span style=\"color: #7f7f7f; text-decoration-color: #7f7f7f\">Higashi_wrapper.py</span></a><span style=\"color: #7f7f7f; text-decoration-color: #7f7f7f\">:</span><a href=\"file:///n/home09/pren/3DGeno_tools/src/gt3d/modules/higashi/Higashi_wrapper.py#1258\" target=\"_blank\"><span style=\"color: #7f7f7f; text-decoration-color: #7f7f7f\">1258</span></a>\n",
       "<span style=\"color: #7fbfbf; text-decoration-color: #7fbfbf\">                    </span>         pearson: <span style=\"color: #008080; text-decoration-color: #008080; font-weight: bold\">0.668</span>, spearman: <span style=\"color: #008080; text-decoration-color: #008080; font-weight: bold\">0.571</span>, elapse: <span style=\"color: #008080; text-decoration-color: #008080; font-weight: bold\">89.039</span> s              <span style=\"color: #7f7f7f; text-decoration-color: #7f7f7f\">                       </span>\n",
       "</pre>\n"
      ],
      "text/plain": [
       "\u001b[2;36m[12/07/24 13:05:16]\u001b[0m\u001b[2;36m \u001b[0m\u001b[34mINFO    \u001b[0m \u001b[94mtrain\u001b[0m  - \u001b[1m(\u001b[0mTrain\u001b[1m)\u001b[0m bce:  \u001b[1;36m0.3222\u001b[0m, mse:  \u001b[1;36m0.9577\u001b[0m,  acc: \u001b[1;36m89.303\u001b[0m %,   \u001b]8;id=373662;file:///n/home09/pren/3DGeno_tools/src/gt3d/modules/higashi/Higashi_wrapper.py\u001b\\\u001b[2mHigashi_wrapper.py\u001b[0m\u001b]8;;\u001b\\\u001b[2m:\u001b[0m\u001b]8;id=720664;file:///n/home09/pren/3DGeno_tools/src/gt3d/modules/higashi/Higashi_wrapper.py#1258\u001b\\\u001b[2m1258\u001b[0m\u001b]8;;\u001b\\\n",
       "\u001b[2;36m                    \u001b[0m         pearson: \u001b[1;36m0.668\u001b[0m, spearman: \u001b[1;36m0.571\u001b[0m, elapse: \u001b[1;36m89.039\u001b[0m s              \u001b[2m                       \u001b[0m\n"
      ]
     },
     "metadata": {},
     "output_type": "display_data"
    },
    {
     "data": {
      "application/vnd.jupyter.widget-view+json": {
       "model_id": "d18d229330784eb9b0d359d5320d15da",
       "version_major": 2,
       "version_minor": 0
      },
      "text/plain": [
       "Output()"
      ]
     },
     "metadata": {},
     "output_type": "display_data"
    },
    {
     "data": {
      "text/html": [
       "<pre style=\"white-space:pre;overflow-x:auto;line-height:normal;font-family:Menlo,'DejaVu Sans Mono',consolas,'Courier New',monospace\"></pre>\n"
      ],
      "text/plain": []
     },
     "metadata": {},
     "output_type": "display_data"
    },
    {
     "data": {
      "text/html": [
       "<pre style=\"white-space:pre;overflow-x:auto;line-height:normal;font-family:Menlo,'DejaVu Sans Mono',consolas,'Courier New',monospace\"><span style=\"color: #7fbfbf; text-decoration-color: #7fbfbf\">                    </span><span style=\"color: #000080; text-decoration-color: #000080\">INFO    </span> <span style=\"color: #0000ff; text-decoration-color: #0000ff\">train</span>  - <span style=\"font-weight: bold\">(</span>Valid<span style=\"font-weight: bold\">)</span> bce:  <span style=\"color: #008080; text-decoration-color: #008080; font-weight: bold\">0.3563</span>,  acc: <span style=\"color: #008080; text-decoration-color: #008080; font-weight: bold\">88.704</span> %,pearson: <span style=\"color: #008080; text-decoration-color: #008080; font-weight: bold\">0.629</span>,  <a href=\"file:///n/home09/pren/3DGeno_tools/src/gt3d/modules/higashi/Higashi_wrapper.py\" target=\"_blank\"><span style=\"color: #7f7f7f; text-decoration-color: #7f7f7f\">Higashi_wrapper.py</span></a><span style=\"color: #7f7f7f; text-decoration-color: #7f7f7f\">:</span><a href=\"file:///n/home09/pren/3DGeno_tools/src/gt3d/modules/higashi/Higashi_wrapper.py#1277\" target=\"_blank\"><span style=\"color: #7f7f7f; text-decoration-color: #7f7f7f\">1277</span></a>\n",
       "<span style=\"color: #7fbfbf; text-decoration-color: #7fbfbf\">                    </span>         spearman: <span style=\"color: #008080; text-decoration-color: #008080; font-weight: bold\">0.551</span>,elapse: <span style=\"color: #008080; text-decoration-color: #008080; font-weight: bold\">0.052</span> s                                <span style=\"color: #7f7f7f; text-decoration-color: #7f7f7f\">                       </span>\n",
       "</pre>\n"
      ],
      "text/plain": [
       "\u001b[2;36m                   \u001b[0m\u001b[2;36m \u001b[0m\u001b[34mINFO    \u001b[0m \u001b[94mtrain\u001b[0m  - \u001b[1m(\u001b[0mValid\u001b[1m)\u001b[0m bce:  \u001b[1;36m0.3563\u001b[0m,  acc: \u001b[1;36m88.704\u001b[0m %,pearson: \u001b[1;36m0.629\u001b[0m,  \u001b]8;id=602764;file:///n/home09/pren/3DGeno_tools/src/gt3d/modules/higashi/Higashi_wrapper.py\u001b\\\u001b[2mHigashi_wrapper.py\u001b[0m\u001b]8;;\u001b\\\u001b[2m:\u001b[0m\u001b]8;id=397054;file:///n/home09/pren/3DGeno_tools/src/gt3d/modules/higashi/Higashi_wrapper.py#1277\u001b\\\u001b[2m1277\u001b[0m\u001b]8;;\u001b\\\n",
       "\u001b[2;36m                    \u001b[0m         spearman: \u001b[1;36m0.551\u001b[0m,elapse: \u001b[1;36m0.052\u001b[0m s                                \u001b[2m                       \u001b[0m\n"
      ]
     },
     "metadata": {},
     "output_type": "display_data"
    },
    {
     "data": {
      "text/html": [
       "<pre style=\"white-space:pre;overflow-x:auto;line-height:normal;font-family:Menlo,'DejaVu Sans Mono',consolas,'Courier New',monospace\"><span style=\"color: #7fbfbf; text-decoration-color: #7fbfbf\">                    </span><span style=\"color: #000080; text-decoration-color: #000080\">INFO    </span> <span style=\"color: #0000ff; text-decoration-color: #0000ff\">train</span> update_rate: <span style=\"color: #008080; text-decoration-color: #008080; font-weight: bold\">0.004924</span>     <span style=\"color: #008080; text-decoration-color: #008080; font-weight: bold\">0.181808</span>                       <a href=\"file:///n/home09/pren/3DGeno_tools/src/gt3d/modules/higashi/Higashi_wrapper.py\" target=\"_blank\"><span style=\"color: #7f7f7f; text-decoration-color: #7f7f7f\">Higashi_wrapper.py</span></a><span style=\"color: #7f7f7f; text-decoration-color: #7f7f7f\">:</span><a href=\"file:///n/home09/pren/3DGeno_tools/src/gt3d/modules/higashi/Higashi_wrapper.py#1323\" target=\"_blank\"><span style=\"color: #7f7f7f; text-decoration-color: #7f7f7f\">1323</span></a>\n",
       "</pre>\n"
      ],
      "text/plain": [
       "\u001b[2;36m                   \u001b[0m\u001b[2;36m \u001b[0m\u001b[34mINFO    \u001b[0m \u001b[94mtrain\u001b[0m update_rate: \u001b[1;36m0.004924\u001b[0m     \u001b[1;36m0.181808\u001b[0m                       \u001b]8;id=639546;file:///n/home09/pren/3DGeno_tools/src/gt3d/modules/higashi/Higashi_wrapper.py\u001b\\\u001b[2mHigashi_wrapper.py\u001b[0m\u001b]8;;\u001b\\\u001b[2m:\u001b[0m\u001b]8;id=331390;file:///n/home09/pren/3DGeno_tools/src/gt3d/modules/higashi/Higashi_wrapper.py#1323\u001b\\\u001b[2m1323\u001b[0m\u001b]8;;\u001b\\\n"
      ]
     },
     "metadata": {},
     "output_type": "display_data"
    },
    {
     "data": {
      "text/html": [
       "<pre style=\"white-space:pre;overflow-x:auto;line-height:normal;font-family:Menlo,'DejaVu Sans Mono',consolas,'Courier New',monospace\"><span style=\"color: #7fbfbf; text-decoration-color: #7fbfbf\">                    </span><span style=\"color: #000080; text-decoration-color: #000080\">INFO    </span> <span style=\"color: #0000ff; text-decoration-color: #0000ff\">train</span> <span style=\"font-weight: bold\">[</span> Epoch <span style=\"color: #008080; text-decoration-color: #008080; font-weight: bold\">27</span> of <span style=\"color: #008080; text-decoration-color: #008080; font-weight: bold\">200</span> <span style=\"font-weight: bold\">]</span>                                      <a href=\"file:///n/home09/pren/3DGeno_tools/src/gt3d/modules/higashi/Higashi_wrapper.py\" target=\"_blank\"><span style=\"color: #7f7f7f; text-decoration-color: #7f7f7f\">Higashi_wrapper.py</span></a><span style=\"color: #7f7f7f; text-decoration-color: #7f7f7f\">:</span><a href=\"file:///n/home09/pren/3DGeno_tools/src/gt3d/modules/higashi/Higashi_wrapper.py#1245\" target=\"_blank\"><span style=\"color: #7f7f7f; text-decoration-color: #7f7f7f\">1245</span></a>\n",
       "</pre>\n"
      ],
      "text/plain": [
       "\u001b[2;36m                   \u001b[0m\u001b[2;36m \u001b[0m\u001b[34mINFO    \u001b[0m \u001b[94mtrain\u001b[0m \u001b[1m[\u001b[0m Epoch \u001b[1;36m27\u001b[0m of \u001b[1;36m200\u001b[0m \u001b[1m]\u001b[0m                                      \u001b]8;id=944850;file:///n/home09/pren/3DGeno_tools/src/gt3d/modules/higashi/Higashi_wrapper.py\u001b\\\u001b[2mHigashi_wrapper.py\u001b[0m\u001b]8;;\u001b\\\u001b[2m:\u001b[0m\u001b]8;id=715027;file:///n/home09/pren/3DGeno_tools/src/gt3d/modules/higashi/Higashi_wrapper.py#1245\u001b\\\u001b[2m1245\u001b[0m\u001b]8;;\u001b\\\n"
      ]
     },
     "metadata": {},
     "output_type": "display_data"
    },
    {
     "data": {
      "application/vnd.jupyter.widget-view+json": {
       "model_id": "39c12afc739f4c2fb6668f9470628d8a",
       "version_major": 2,
       "version_minor": 0
      },
      "text/plain": [
       "Output()"
      ]
     },
     "metadata": {},
     "output_type": "display_data"
    },
    {
     "data": {
      "text/html": [
       "<pre style=\"white-space:pre;overflow-x:auto;line-height:normal;font-family:Menlo,'DejaVu Sans Mono',consolas,'Courier New',monospace\"></pre>\n"
      ],
      "text/plain": []
     },
     "metadata": {},
     "output_type": "display_data"
    },
    {
     "data": {
      "text/html": [
       "<pre style=\"white-space:pre;overflow-x:auto;line-height:normal;font-family:Menlo,'DejaVu Sans Mono',consolas,'Courier New',monospace\"><span style=\"color: #7fbfbf; text-decoration-color: #7fbfbf\">[12/07/24 13:06:45] </span><span style=\"color: #000080; text-decoration-color: #000080\">INFO    </span> <span style=\"color: #0000ff; text-decoration-color: #0000ff\">train</span>  - <span style=\"font-weight: bold\">(</span>Train<span style=\"font-weight: bold\">)</span> bce:  <span style=\"color: #008080; text-decoration-color: #008080; font-weight: bold\">0.3224</span>, mse:  <span style=\"color: #008080; text-decoration-color: #008080; font-weight: bold\">0.9914</span>,  acc: <span style=\"color: #008080; text-decoration-color: #008080; font-weight: bold\">89.271</span> %,   <a href=\"file:///n/home09/pren/3DGeno_tools/src/gt3d/modules/higashi/Higashi_wrapper.py\" target=\"_blank\"><span style=\"color: #7f7f7f; text-decoration-color: #7f7f7f\">Higashi_wrapper.py</span></a><span style=\"color: #7f7f7f; text-decoration-color: #7f7f7f\">:</span><a href=\"file:///n/home09/pren/3DGeno_tools/src/gt3d/modules/higashi/Higashi_wrapper.py#1258\" target=\"_blank\"><span style=\"color: #7f7f7f; text-decoration-color: #7f7f7f\">1258</span></a>\n",
       "<span style=\"color: #7fbfbf; text-decoration-color: #7fbfbf\">                    </span>         pearson: <span style=\"color: #008080; text-decoration-color: #008080; font-weight: bold\">0.667</span>, spearman: <span style=\"color: #008080; text-decoration-color: #008080; font-weight: bold\">0.570</span>, elapse: <span style=\"color: #008080; text-decoration-color: #008080; font-weight: bold\">89.356</span> s              <span style=\"color: #7f7f7f; text-decoration-color: #7f7f7f\">                       </span>\n",
       "</pre>\n"
      ],
      "text/plain": [
       "\u001b[2;36m[12/07/24 13:06:45]\u001b[0m\u001b[2;36m \u001b[0m\u001b[34mINFO    \u001b[0m \u001b[94mtrain\u001b[0m  - \u001b[1m(\u001b[0mTrain\u001b[1m)\u001b[0m bce:  \u001b[1;36m0.3224\u001b[0m, mse:  \u001b[1;36m0.9914\u001b[0m,  acc: \u001b[1;36m89.271\u001b[0m %,   \u001b]8;id=334050;file:///n/home09/pren/3DGeno_tools/src/gt3d/modules/higashi/Higashi_wrapper.py\u001b\\\u001b[2mHigashi_wrapper.py\u001b[0m\u001b]8;;\u001b\\\u001b[2m:\u001b[0m\u001b]8;id=380203;file:///n/home09/pren/3DGeno_tools/src/gt3d/modules/higashi/Higashi_wrapper.py#1258\u001b\\\u001b[2m1258\u001b[0m\u001b]8;;\u001b\\\n",
       "\u001b[2;36m                    \u001b[0m         pearson: \u001b[1;36m0.667\u001b[0m, spearman: \u001b[1;36m0.570\u001b[0m, elapse: \u001b[1;36m89.356\u001b[0m s              \u001b[2m                       \u001b[0m\n"
      ]
     },
     "metadata": {},
     "output_type": "display_data"
    },
    {
     "data": {
      "application/vnd.jupyter.widget-view+json": {
       "model_id": "18eeeef8a4794f7a8c06695c57faa5b2",
       "version_major": 2,
       "version_minor": 0
      },
      "text/plain": [
       "Output()"
      ]
     },
     "metadata": {},
     "output_type": "display_data"
    },
    {
     "data": {
      "text/html": [
       "<pre style=\"white-space:pre;overflow-x:auto;line-height:normal;font-family:Menlo,'DejaVu Sans Mono',consolas,'Courier New',monospace\"></pre>\n"
      ],
      "text/plain": []
     },
     "metadata": {},
     "output_type": "display_data"
    },
    {
     "data": {
      "text/html": [
       "<pre style=\"white-space:pre;overflow-x:auto;line-height:normal;font-family:Menlo,'DejaVu Sans Mono',consolas,'Courier New',monospace\"><span style=\"color: #7fbfbf; text-decoration-color: #7fbfbf\">                    </span><span style=\"color: #000080; text-decoration-color: #000080\">INFO    </span> <span style=\"color: #0000ff; text-decoration-color: #0000ff\">train</span>  - <span style=\"font-weight: bold\">(</span>Valid<span style=\"font-weight: bold\">)</span> bce:  <span style=\"color: #008080; text-decoration-color: #008080; font-weight: bold\">0.3565</span>,  acc: <span style=\"color: #008080; text-decoration-color: #008080; font-weight: bold\">88.919</span> %,pearson: <span style=\"color: #008080; text-decoration-color: #008080; font-weight: bold\">0.640</span>,  <a href=\"file:///n/home09/pren/3DGeno_tools/src/gt3d/modules/higashi/Higashi_wrapper.py\" target=\"_blank\"><span style=\"color: #7f7f7f; text-decoration-color: #7f7f7f\">Higashi_wrapper.py</span></a><span style=\"color: #7f7f7f; text-decoration-color: #7f7f7f\">:</span><a href=\"file:///n/home09/pren/3DGeno_tools/src/gt3d/modules/higashi/Higashi_wrapper.py#1277\" target=\"_blank\"><span style=\"color: #7f7f7f; text-decoration-color: #7f7f7f\">1277</span></a>\n",
       "<span style=\"color: #7fbfbf; text-decoration-color: #7fbfbf\">                    </span>         spearman: <span style=\"color: #008080; text-decoration-color: #008080; font-weight: bold\">0.561</span>,elapse: <span style=\"color: #008080; text-decoration-color: #008080; font-weight: bold\">0.051</span> s                                <span style=\"color: #7f7f7f; text-decoration-color: #7f7f7f\">                       </span>\n",
       "</pre>\n"
      ],
      "text/plain": [
       "\u001b[2;36m                   \u001b[0m\u001b[2;36m \u001b[0m\u001b[34mINFO    \u001b[0m \u001b[94mtrain\u001b[0m  - \u001b[1m(\u001b[0mValid\u001b[1m)\u001b[0m bce:  \u001b[1;36m0.3565\u001b[0m,  acc: \u001b[1;36m88.919\u001b[0m %,pearson: \u001b[1;36m0.640\u001b[0m,  \u001b]8;id=316201;file:///n/home09/pren/3DGeno_tools/src/gt3d/modules/higashi/Higashi_wrapper.py\u001b\\\u001b[2mHigashi_wrapper.py\u001b[0m\u001b]8;;\u001b\\\u001b[2m:\u001b[0m\u001b]8;id=870556;file:///n/home09/pren/3DGeno_tools/src/gt3d/modules/higashi/Higashi_wrapper.py#1277\u001b\\\u001b[2m1277\u001b[0m\u001b]8;;\u001b\\\n",
       "\u001b[2;36m                    \u001b[0m         spearman: \u001b[1;36m0.561\u001b[0m,elapse: \u001b[1;36m0.051\u001b[0m s                                \u001b[2m                       \u001b[0m\n"
      ]
     },
     "metadata": {},
     "output_type": "display_data"
    },
    {
     "data": {
      "text/html": [
       "<pre style=\"white-space:pre;overflow-x:auto;line-height:normal;font-family:Menlo,'DejaVu Sans Mono',consolas,'Courier New',monospace\"><span style=\"color: #7fbfbf; text-decoration-color: #7fbfbf\">                    </span><span style=\"color: #000080; text-decoration-color: #000080\">INFO    </span> <span style=\"color: #0000ff; text-decoration-color: #0000ff\">train</span> update_rate: <span style=\"color: #008080; text-decoration-color: #008080; font-weight: bold\">0.005615</span>     <span style=\"color: #008080; text-decoration-color: #008080; font-weight: bold\">0.271808</span>                       <a href=\"file:///n/home09/pren/3DGeno_tools/src/gt3d/modules/higashi/Higashi_wrapper.py\" target=\"_blank\"><span style=\"color: #7f7f7f; text-decoration-color: #7f7f7f\">Higashi_wrapper.py</span></a><span style=\"color: #7f7f7f; text-decoration-color: #7f7f7f\">:</span><a href=\"file:///n/home09/pren/3DGeno_tools/src/gt3d/modules/higashi/Higashi_wrapper.py#1323\" target=\"_blank\"><span style=\"color: #7f7f7f; text-decoration-color: #7f7f7f\">1323</span></a>\n",
       "</pre>\n"
      ],
      "text/plain": [
       "\u001b[2;36m                   \u001b[0m\u001b[2;36m \u001b[0m\u001b[34mINFO    \u001b[0m \u001b[94mtrain\u001b[0m update_rate: \u001b[1;36m0.005615\u001b[0m     \u001b[1;36m0.271808\u001b[0m                       \u001b]8;id=449461;file:///n/home09/pren/3DGeno_tools/src/gt3d/modules/higashi/Higashi_wrapper.py\u001b\\\u001b[2mHigashi_wrapper.py\u001b[0m\u001b]8;;\u001b\\\u001b[2m:\u001b[0m\u001b]8;id=870782;file:///n/home09/pren/3DGeno_tools/src/gt3d/modules/higashi/Higashi_wrapper.py#1323\u001b\\\u001b[2m1323\u001b[0m\u001b]8;;\u001b\\\n"
      ]
     },
     "metadata": {},
     "output_type": "display_data"
    },
    {
     "data": {
      "text/html": [
       "<pre style=\"white-space:pre;overflow-x:auto;line-height:normal;font-family:Menlo,'DejaVu Sans Mono',consolas,'Courier New',monospace\"><span style=\"color: #7fbfbf; text-decoration-color: #7fbfbf\">                    </span><span style=\"color: #000080; text-decoration-color: #000080\">INFO    </span> <span style=\"color: #0000ff; text-decoration-color: #0000ff\">train</span> <span style=\"font-weight: bold\">[</span> Epoch <span style=\"color: #008080; text-decoration-color: #008080; font-weight: bold\">28</span> of <span style=\"color: #008080; text-decoration-color: #008080; font-weight: bold\">200</span> <span style=\"font-weight: bold\">]</span>                                      <a href=\"file:///n/home09/pren/3DGeno_tools/src/gt3d/modules/higashi/Higashi_wrapper.py\" target=\"_blank\"><span style=\"color: #7f7f7f; text-decoration-color: #7f7f7f\">Higashi_wrapper.py</span></a><span style=\"color: #7f7f7f; text-decoration-color: #7f7f7f\">:</span><a href=\"file:///n/home09/pren/3DGeno_tools/src/gt3d/modules/higashi/Higashi_wrapper.py#1245\" target=\"_blank\"><span style=\"color: #7f7f7f; text-decoration-color: #7f7f7f\">1245</span></a>\n",
       "</pre>\n"
      ],
      "text/plain": [
       "\u001b[2;36m                   \u001b[0m\u001b[2;36m \u001b[0m\u001b[34mINFO    \u001b[0m \u001b[94mtrain\u001b[0m \u001b[1m[\u001b[0m Epoch \u001b[1;36m28\u001b[0m of \u001b[1;36m200\u001b[0m \u001b[1m]\u001b[0m                                      \u001b]8;id=533330;file:///n/home09/pren/3DGeno_tools/src/gt3d/modules/higashi/Higashi_wrapper.py\u001b\\\u001b[2mHigashi_wrapper.py\u001b[0m\u001b]8;;\u001b\\\u001b[2m:\u001b[0m\u001b]8;id=528785;file:///n/home09/pren/3DGeno_tools/src/gt3d/modules/higashi/Higashi_wrapper.py#1245\u001b\\\u001b[2m1245\u001b[0m\u001b]8;;\u001b\\\n"
      ]
     },
     "metadata": {},
     "output_type": "display_data"
    },
    {
     "data": {
      "application/vnd.jupyter.widget-view+json": {
       "model_id": "63da59dd6828420ca7fb1788c2eb56b1",
       "version_major": 2,
       "version_minor": 0
      },
      "text/plain": [
       "Output()"
      ]
     },
     "metadata": {},
     "output_type": "display_data"
    },
    {
     "data": {
      "text/html": [
       "<pre style=\"white-space:pre;overflow-x:auto;line-height:normal;font-family:Menlo,'DejaVu Sans Mono',consolas,'Courier New',monospace\"></pre>\n"
      ],
      "text/plain": []
     },
     "metadata": {},
     "output_type": "display_data"
    },
    {
     "data": {
      "text/html": [
       "<pre style=\"white-space:pre;overflow-x:auto;line-height:normal;font-family:Menlo,'DejaVu Sans Mono',consolas,'Courier New',monospace\"><span style=\"color: #7fbfbf; text-decoration-color: #7fbfbf\">[12/07/24 13:08:14] </span><span style=\"color: #000080; text-decoration-color: #000080\">INFO    </span> <span style=\"color: #0000ff; text-decoration-color: #0000ff\">train</span>  - <span style=\"font-weight: bold\">(</span>Train<span style=\"font-weight: bold\">)</span> bce:  <span style=\"color: #008080; text-decoration-color: #008080; font-weight: bold\">0.3215</span>, mse:  <span style=\"color: #008080; text-decoration-color: #008080; font-weight: bold\">0.9659</span>,  acc: <span style=\"color: #008080; text-decoration-color: #008080; font-weight: bold\">89.383</span> %,   <a href=\"file:///n/home09/pren/3DGeno_tools/src/gt3d/modules/higashi/Higashi_wrapper.py\" target=\"_blank\"><span style=\"color: #7f7f7f; text-decoration-color: #7f7f7f\">Higashi_wrapper.py</span></a><span style=\"color: #7f7f7f; text-decoration-color: #7f7f7f\">:</span><a href=\"file:///n/home09/pren/3DGeno_tools/src/gt3d/modules/higashi/Higashi_wrapper.py#1258\" target=\"_blank\"><span style=\"color: #7f7f7f; text-decoration-color: #7f7f7f\">1258</span></a>\n",
       "<span style=\"color: #7fbfbf; text-decoration-color: #7fbfbf\">                    </span>         pearson: <span style=\"color: #008080; text-decoration-color: #008080; font-weight: bold\">0.671</span>, spearman: <span style=\"color: #008080; text-decoration-color: #008080; font-weight: bold\">0.571</span>, elapse: <span style=\"color: #008080; text-decoration-color: #008080; font-weight: bold\">89.151</span> s              <span style=\"color: #7f7f7f; text-decoration-color: #7f7f7f\">                       </span>\n",
       "</pre>\n"
      ],
      "text/plain": [
       "\u001b[2;36m[12/07/24 13:08:14]\u001b[0m\u001b[2;36m \u001b[0m\u001b[34mINFO    \u001b[0m \u001b[94mtrain\u001b[0m  - \u001b[1m(\u001b[0mTrain\u001b[1m)\u001b[0m bce:  \u001b[1;36m0.3215\u001b[0m, mse:  \u001b[1;36m0.9659\u001b[0m,  acc: \u001b[1;36m89.383\u001b[0m %,   \u001b]8;id=841446;file:///n/home09/pren/3DGeno_tools/src/gt3d/modules/higashi/Higashi_wrapper.py\u001b\\\u001b[2mHigashi_wrapper.py\u001b[0m\u001b]8;;\u001b\\\u001b[2m:\u001b[0m\u001b]8;id=370109;file:///n/home09/pren/3DGeno_tools/src/gt3d/modules/higashi/Higashi_wrapper.py#1258\u001b\\\u001b[2m1258\u001b[0m\u001b]8;;\u001b\\\n",
       "\u001b[2;36m                    \u001b[0m         pearson: \u001b[1;36m0.671\u001b[0m, spearman: \u001b[1;36m0.571\u001b[0m, elapse: \u001b[1;36m89.151\u001b[0m s              \u001b[2m                       \u001b[0m\n"
      ]
     },
     "metadata": {},
     "output_type": "display_data"
    },
    {
     "data": {
      "application/vnd.jupyter.widget-view+json": {
       "model_id": "cbe8971e76154de591ffd38c919ffa20",
       "version_major": 2,
       "version_minor": 0
      },
      "text/plain": [
       "Output()"
      ]
     },
     "metadata": {},
     "output_type": "display_data"
    },
    {
     "data": {
      "text/html": [
       "<pre style=\"white-space:pre;overflow-x:auto;line-height:normal;font-family:Menlo,'DejaVu Sans Mono',consolas,'Courier New',monospace\"></pre>\n"
      ],
      "text/plain": []
     },
     "metadata": {},
     "output_type": "display_data"
    },
    {
     "data": {
      "text/html": [
       "<pre style=\"white-space:pre;overflow-x:auto;line-height:normal;font-family:Menlo,'DejaVu Sans Mono',consolas,'Courier New',monospace\"><span style=\"color: #7fbfbf; text-decoration-color: #7fbfbf\">                    </span><span style=\"color: #000080; text-decoration-color: #000080\">INFO    </span> <span style=\"color: #0000ff; text-decoration-color: #0000ff\">train</span>  - <span style=\"font-weight: bold\">(</span>Valid<span style=\"font-weight: bold\">)</span> bce:  <span style=\"color: #008080; text-decoration-color: #008080; font-weight: bold\">0.3505</span>,  acc: <span style=\"color: #008080; text-decoration-color: #008080; font-weight: bold\">88.223</span> %,pearson: <span style=\"color: #008080; text-decoration-color: #008080; font-weight: bold\">0.626</span>,  <a href=\"file:///n/home09/pren/3DGeno_tools/src/gt3d/modules/higashi/Higashi_wrapper.py\" target=\"_blank\"><span style=\"color: #7f7f7f; text-decoration-color: #7f7f7f\">Higashi_wrapper.py</span></a><span style=\"color: #7f7f7f; text-decoration-color: #7f7f7f\">:</span><a href=\"file:///n/home09/pren/3DGeno_tools/src/gt3d/modules/higashi/Higashi_wrapper.py#1277\" target=\"_blank\"><span style=\"color: #7f7f7f; text-decoration-color: #7f7f7f\">1277</span></a>\n",
       "<span style=\"color: #7fbfbf; text-decoration-color: #7fbfbf\">                    </span>         spearman: <span style=\"color: #008080; text-decoration-color: #008080; font-weight: bold\">0.548</span>,elapse: <span style=\"color: #008080; text-decoration-color: #008080; font-weight: bold\">0.052</span> s                                <span style=\"color: #7f7f7f; text-decoration-color: #7f7f7f\">                       </span>\n",
       "</pre>\n"
      ],
      "text/plain": [
       "\u001b[2;36m                   \u001b[0m\u001b[2;36m \u001b[0m\u001b[34mINFO    \u001b[0m \u001b[94mtrain\u001b[0m  - \u001b[1m(\u001b[0mValid\u001b[1m)\u001b[0m bce:  \u001b[1;36m0.3505\u001b[0m,  acc: \u001b[1;36m88.223\u001b[0m %,pearson: \u001b[1;36m0.626\u001b[0m,  \u001b]8;id=168630;file:///n/home09/pren/3DGeno_tools/src/gt3d/modules/higashi/Higashi_wrapper.py\u001b\\\u001b[2mHigashi_wrapper.py\u001b[0m\u001b]8;;\u001b\\\u001b[2m:\u001b[0m\u001b]8;id=871918;file:///n/home09/pren/3DGeno_tools/src/gt3d/modules/higashi/Higashi_wrapper.py#1277\u001b\\\u001b[2m1277\u001b[0m\u001b]8;;\u001b\\\n",
       "\u001b[2;36m                    \u001b[0m         spearman: \u001b[1;36m0.548\u001b[0m,elapse: \u001b[1;36m0.052\u001b[0m s                                \u001b[2m                       \u001b[0m\n"
      ]
     },
     "metadata": {},
     "output_type": "display_data"
    },
    {
     "data": {
      "text/html": [
       "<pre style=\"white-space:pre;overflow-x:auto;line-height:normal;font-family:Menlo,'DejaVu Sans Mono',consolas,'Courier New',monospace\"><span style=\"color: #7fbfbf; text-decoration-color: #7fbfbf\">                    </span><span style=\"color: #000080; text-decoration-color: #000080\">INFO    </span> <span style=\"color: #0000ff; text-decoration-color: #0000ff\">train</span> update_rate: <span style=\"color: #008080; text-decoration-color: #008080; font-weight: bold\">0.004975</span>     <span style=\"color: #008080; text-decoration-color: #008080; font-weight: bold\">0.134587</span>                       <a href=\"file:///n/home09/pren/3DGeno_tools/src/gt3d/modules/higashi/Higashi_wrapper.py\" target=\"_blank\"><span style=\"color: #7f7f7f; text-decoration-color: #7f7f7f\">Higashi_wrapper.py</span></a><span style=\"color: #7f7f7f; text-decoration-color: #7f7f7f\">:</span><a href=\"file:///n/home09/pren/3DGeno_tools/src/gt3d/modules/higashi/Higashi_wrapper.py#1323\" target=\"_blank\"><span style=\"color: #7f7f7f; text-decoration-color: #7f7f7f\">1323</span></a>\n",
       "</pre>\n"
      ],
      "text/plain": [
       "\u001b[2;36m                   \u001b[0m\u001b[2;36m \u001b[0m\u001b[34mINFO    \u001b[0m \u001b[94mtrain\u001b[0m update_rate: \u001b[1;36m0.004975\u001b[0m     \u001b[1;36m0.134587\u001b[0m                       \u001b]8;id=293806;file:///n/home09/pren/3DGeno_tools/src/gt3d/modules/higashi/Higashi_wrapper.py\u001b\\\u001b[2mHigashi_wrapper.py\u001b[0m\u001b]8;;\u001b\\\u001b[2m:\u001b[0m\u001b]8;id=811799;file:///n/home09/pren/3DGeno_tools/src/gt3d/modules/higashi/Higashi_wrapper.py#1323\u001b\\\u001b[2m1323\u001b[0m\u001b]8;;\u001b\\\n"
      ]
     },
     "metadata": {},
     "output_type": "display_data"
    },
    {
     "data": {
      "text/html": [
       "<pre style=\"white-space:pre;overflow-x:auto;line-height:normal;font-family:Menlo,'DejaVu Sans Mono',consolas,'Courier New',monospace\"><span style=\"color: #7fbfbf; text-decoration-color: #7fbfbf\">[12/07/24 13:08:15] </span><span style=\"color: #000080; text-decoration-color: #000080\">INFO    </span> <span style=\"color: #0000ff; text-decoration-color: #0000ff\">train</span> <span style=\"font-weight: bold\">[</span> Epoch <span style=\"color: #008080; text-decoration-color: #008080; font-weight: bold\">29</span> of <span style=\"color: #008080; text-decoration-color: #008080; font-weight: bold\">200</span> <span style=\"font-weight: bold\">]</span>                                      <a href=\"file:///n/home09/pren/3DGeno_tools/src/gt3d/modules/higashi/Higashi_wrapper.py\" target=\"_blank\"><span style=\"color: #7f7f7f; text-decoration-color: #7f7f7f\">Higashi_wrapper.py</span></a><span style=\"color: #7f7f7f; text-decoration-color: #7f7f7f\">:</span><a href=\"file:///n/home09/pren/3DGeno_tools/src/gt3d/modules/higashi/Higashi_wrapper.py#1245\" target=\"_blank\"><span style=\"color: #7f7f7f; text-decoration-color: #7f7f7f\">1245</span></a>\n",
       "</pre>\n"
      ],
      "text/plain": [
       "\u001b[2;36m[12/07/24 13:08:15]\u001b[0m\u001b[2;36m \u001b[0m\u001b[34mINFO    \u001b[0m \u001b[94mtrain\u001b[0m \u001b[1m[\u001b[0m Epoch \u001b[1;36m29\u001b[0m of \u001b[1;36m200\u001b[0m \u001b[1m]\u001b[0m                                      \u001b]8;id=756491;file:///n/home09/pren/3DGeno_tools/src/gt3d/modules/higashi/Higashi_wrapper.py\u001b\\\u001b[2mHigashi_wrapper.py\u001b[0m\u001b]8;;\u001b\\\u001b[2m:\u001b[0m\u001b]8;id=521547;file:///n/home09/pren/3DGeno_tools/src/gt3d/modules/higashi/Higashi_wrapper.py#1245\u001b\\\u001b[2m1245\u001b[0m\u001b]8;;\u001b\\\n"
      ]
     },
     "metadata": {},
     "output_type": "display_data"
    },
    {
     "data": {
      "application/vnd.jupyter.widget-view+json": {
       "model_id": "83b3f108d10e49a4abbc71c28585218e",
       "version_major": 2,
       "version_minor": 0
      },
      "text/plain": [
       "Output()"
      ]
     },
     "metadata": {},
     "output_type": "display_data"
    },
    {
     "data": {
      "text/html": [
       "<pre style=\"white-space:pre;overflow-x:auto;line-height:normal;font-family:Menlo,'DejaVu Sans Mono',consolas,'Courier New',monospace\"></pre>\n"
      ],
      "text/plain": []
     },
     "metadata": {},
     "output_type": "display_data"
    },
    {
     "data": {
      "text/html": [
       "<pre style=\"white-space:pre;overflow-x:auto;line-height:normal;font-family:Menlo,'DejaVu Sans Mono',consolas,'Courier New',monospace\"><span style=\"color: #7fbfbf; text-decoration-color: #7fbfbf\">[12/07/24 13:09:44] </span><span style=\"color: #000080; text-decoration-color: #000080\">INFO    </span> <span style=\"color: #0000ff; text-decoration-color: #0000ff\">train</span>  - <span style=\"font-weight: bold\">(</span>Train<span style=\"font-weight: bold\">)</span> bce:  <span style=\"color: #008080; text-decoration-color: #008080; font-weight: bold\">0.3218</span>, mse:  <span style=\"color: #008080; text-decoration-color: #008080; font-weight: bold\">0.8797</span>,  acc: <span style=\"color: #008080; text-decoration-color: #008080; font-weight: bold\">89.335</span> %,   <a href=\"file:///n/home09/pren/3DGeno_tools/src/gt3d/modules/higashi/Higashi_wrapper.py\" target=\"_blank\"><span style=\"color: #7f7f7f; text-decoration-color: #7f7f7f\">Higashi_wrapper.py</span></a><span style=\"color: #7f7f7f; text-decoration-color: #7f7f7f\">:</span><a href=\"file:///n/home09/pren/3DGeno_tools/src/gt3d/modules/higashi/Higashi_wrapper.py#1258\" target=\"_blank\"><span style=\"color: #7f7f7f; text-decoration-color: #7f7f7f\">1258</span></a>\n",
       "<span style=\"color: #7fbfbf; text-decoration-color: #7fbfbf\">                    </span>         pearson: <span style=\"color: #008080; text-decoration-color: #008080; font-weight: bold\">0.670</span>, spearman: <span style=\"color: #008080; text-decoration-color: #008080; font-weight: bold\">0.571</span>, elapse: <span style=\"color: #008080; text-decoration-color: #008080; font-weight: bold\">89.433</span> s              <span style=\"color: #7f7f7f; text-decoration-color: #7f7f7f\">                       </span>\n",
       "</pre>\n"
      ],
      "text/plain": [
       "\u001b[2;36m[12/07/24 13:09:44]\u001b[0m\u001b[2;36m \u001b[0m\u001b[34mINFO    \u001b[0m \u001b[94mtrain\u001b[0m  - \u001b[1m(\u001b[0mTrain\u001b[1m)\u001b[0m bce:  \u001b[1;36m0.3218\u001b[0m, mse:  \u001b[1;36m0.8797\u001b[0m,  acc: \u001b[1;36m89.335\u001b[0m %,   \u001b]8;id=699441;file:///n/home09/pren/3DGeno_tools/src/gt3d/modules/higashi/Higashi_wrapper.py\u001b\\\u001b[2mHigashi_wrapper.py\u001b[0m\u001b]8;;\u001b\\\u001b[2m:\u001b[0m\u001b]8;id=28603;file:///n/home09/pren/3DGeno_tools/src/gt3d/modules/higashi/Higashi_wrapper.py#1258\u001b\\\u001b[2m1258\u001b[0m\u001b]8;;\u001b\\\n",
       "\u001b[2;36m                    \u001b[0m         pearson: \u001b[1;36m0.670\u001b[0m, spearman: \u001b[1;36m0.571\u001b[0m, elapse: \u001b[1;36m89.433\u001b[0m s              \u001b[2m                       \u001b[0m\n"
      ]
     },
     "metadata": {},
     "output_type": "display_data"
    },
    {
     "data": {
      "application/vnd.jupyter.widget-view+json": {
       "model_id": "3892b76b66014241a41bcd79dcaf97a9",
       "version_major": 2,
       "version_minor": 0
      },
      "text/plain": [
       "Output()"
      ]
     },
     "metadata": {},
     "output_type": "display_data"
    },
    {
     "data": {
      "text/html": [
       "<pre style=\"white-space:pre;overflow-x:auto;line-height:normal;font-family:Menlo,'DejaVu Sans Mono',consolas,'Courier New',monospace\"></pre>\n"
      ],
      "text/plain": []
     },
     "metadata": {},
     "output_type": "display_data"
    },
    {
     "data": {
      "text/html": [
       "<pre style=\"white-space:pre;overflow-x:auto;line-height:normal;font-family:Menlo,'DejaVu Sans Mono',consolas,'Courier New',monospace\"><span style=\"color: #7fbfbf; text-decoration-color: #7fbfbf\">                    </span><span style=\"color: #000080; text-decoration-color: #000080\">INFO    </span> <span style=\"color: #0000ff; text-decoration-color: #0000ff\">train</span>  - <span style=\"font-weight: bold\">(</span>Valid<span style=\"font-weight: bold\">)</span> bce:  <span style=\"color: #008080; text-decoration-color: #008080; font-weight: bold\">0.3528</span>,  acc: <span style=\"color: #008080; text-decoration-color: #008080; font-weight: bold\">87.682</span> %,pearson: <span style=\"color: #008080; text-decoration-color: #008080; font-weight: bold\">0.618</span>,  <a href=\"file:///n/home09/pren/3DGeno_tools/src/gt3d/modules/higashi/Higashi_wrapper.py\" target=\"_blank\"><span style=\"color: #7f7f7f; text-decoration-color: #7f7f7f\">Higashi_wrapper.py</span></a><span style=\"color: #7f7f7f; text-decoration-color: #7f7f7f\">:</span><a href=\"file:///n/home09/pren/3DGeno_tools/src/gt3d/modules/higashi/Higashi_wrapper.py#1277\" target=\"_blank\"><span style=\"color: #7f7f7f; text-decoration-color: #7f7f7f\">1277</span></a>\n",
       "<span style=\"color: #7fbfbf; text-decoration-color: #7fbfbf\">                    </span>         spearman: <span style=\"color: #008080; text-decoration-color: #008080; font-weight: bold\">0.542</span>,elapse: <span style=\"color: #008080; text-decoration-color: #008080; font-weight: bold\">0.052</span> s                                <span style=\"color: #7f7f7f; text-decoration-color: #7f7f7f\">                       </span>\n",
       "</pre>\n"
      ],
      "text/plain": [
       "\u001b[2;36m                   \u001b[0m\u001b[2;36m \u001b[0m\u001b[34mINFO    \u001b[0m \u001b[94mtrain\u001b[0m  - \u001b[1m(\u001b[0mValid\u001b[1m)\u001b[0m bce:  \u001b[1;36m0.3528\u001b[0m,  acc: \u001b[1;36m87.682\u001b[0m %,pearson: \u001b[1;36m0.618\u001b[0m,  \u001b]8;id=791815;file:///n/home09/pren/3DGeno_tools/src/gt3d/modules/higashi/Higashi_wrapper.py\u001b\\\u001b[2mHigashi_wrapper.py\u001b[0m\u001b]8;;\u001b\\\u001b[2m:\u001b[0m\u001b]8;id=721858;file:///n/home09/pren/3DGeno_tools/src/gt3d/modules/higashi/Higashi_wrapper.py#1277\u001b\\\u001b[2m1277\u001b[0m\u001b]8;;\u001b\\\n",
       "\u001b[2;36m                    \u001b[0m         spearman: \u001b[1;36m0.542\u001b[0m,elapse: \u001b[1;36m0.052\u001b[0m s                                \u001b[2m                       \u001b[0m\n"
      ]
     },
     "metadata": {},
     "output_type": "display_data"
    },
    {
     "data": {
      "text/html": [
       "<pre style=\"white-space:pre;overflow-x:auto;line-height:normal;font-family:Menlo,'DejaVu Sans Mono',consolas,'Courier New',monospace\"><span style=\"color: #7fbfbf; text-decoration-color: #7fbfbf\">                    </span><span style=\"color: #000080; text-decoration-color: #000080\">INFO    </span> <span style=\"color: #0000ff; text-decoration-color: #0000ff\">train</span> update_rate: <span style=\"color: #008080; text-decoration-color: #008080; font-weight: bold\">0.005157</span>     <span style=\"color: #008080; text-decoration-color: #008080; font-weight: bold\">0.235423</span>                       <a href=\"file:///n/home09/pren/3DGeno_tools/src/gt3d/modules/higashi/Higashi_wrapper.py\" target=\"_blank\"><span style=\"color: #7f7f7f; text-decoration-color: #7f7f7f\">Higashi_wrapper.py</span></a><span style=\"color: #7f7f7f; text-decoration-color: #7f7f7f\">:</span><a href=\"file:///n/home09/pren/3DGeno_tools/src/gt3d/modules/higashi/Higashi_wrapper.py#1323\" target=\"_blank\"><span style=\"color: #7f7f7f; text-decoration-color: #7f7f7f\">1323</span></a>\n",
       "</pre>\n"
      ],
      "text/plain": [
       "\u001b[2;36m                   \u001b[0m\u001b[2;36m \u001b[0m\u001b[34mINFO    \u001b[0m \u001b[94mtrain\u001b[0m update_rate: \u001b[1;36m0.005157\u001b[0m     \u001b[1;36m0.235423\u001b[0m                       \u001b]8;id=314375;file:///n/home09/pren/3DGeno_tools/src/gt3d/modules/higashi/Higashi_wrapper.py\u001b\\\u001b[2mHigashi_wrapper.py\u001b[0m\u001b]8;;\u001b\\\u001b[2m:\u001b[0m\u001b]8;id=830203;file:///n/home09/pren/3DGeno_tools/src/gt3d/modules/higashi/Higashi_wrapper.py#1323\u001b\\\u001b[2m1323\u001b[0m\u001b]8;;\u001b\\\n"
      ]
     },
     "metadata": {},
     "output_type": "display_data"
    },
    {
     "data": {
      "text/html": [
       "<pre style=\"white-space:pre;overflow-x:auto;line-height:normal;font-family:Menlo,'DejaVu Sans Mono',consolas,'Courier New',monospace\"><span style=\"color: #7fbfbf; text-decoration-color: #7fbfbf\">                    </span><span style=\"color: #000080; text-decoration-color: #000080\">INFO    </span> <span style=\"color: #0000ff; text-decoration-color: #0000ff\">train</span> <span style=\"font-weight: bold\">[</span> Epoch <span style=\"color: #008080; text-decoration-color: #008080; font-weight: bold\">30</span> of <span style=\"color: #008080; text-decoration-color: #008080; font-weight: bold\">200</span> <span style=\"font-weight: bold\">]</span>                                      <a href=\"file:///n/home09/pren/3DGeno_tools/src/gt3d/modules/higashi/Higashi_wrapper.py\" target=\"_blank\"><span style=\"color: #7f7f7f; text-decoration-color: #7f7f7f\">Higashi_wrapper.py</span></a><span style=\"color: #7f7f7f; text-decoration-color: #7f7f7f\">:</span><a href=\"file:///n/home09/pren/3DGeno_tools/src/gt3d/modules/higashi/Higashi_wrapper.py#1245\" target=\"_blank\"><span style=\"color: #7f7f7f; text-decoration-color: #7f7f7f\">1245</span></a>\n",
       "</pre>\n"
      ],
      "text/plain": [
       "\u001b[2;36m                   \u001b[0m\u001b[2;36m \u001b[0m\u001b[34mINFO    \u001b[0m \u001b[94mtrain\u001b[0m \u001b[1m[\u001b[0m Epoch \u001b[1;36m30\u001b[0m of \u001b[1;36m200\u001b[0m \u001b[1m]\u001b[0m                                      \u001b]8;id=739972;file:///n/home09/pren/3DGeno_tools/src/gt3d/modules/higashi/Higashi_wrapper.py\u001b\\\u001b[2mHigashi_wrapper.py\u001b[0m\u001b]8;;\u001b\\\u001b[2m:\u001b[0m\u001b]8;id=770951;file:///n/home09/pren/3DGeno_tools/src/gt3d/modules/higashi/Higashi_wrapper.py#1245\u001b\\\u001b[2m1245\u001b[0m\u001b]8;;\u001b\\\n"
      ]
     },
     "metadata": {},
     "output_type": "display_data"
    },
    {
     "data": {
      "application/vnd.jupyter.widget-view+json": {
       "model_id": "ca81d649ef144505b5c32aaef17bf3ad",
       "version_major": 2,
       "version_minor": 0
      },
      "text/plain": [
       "Output()"
      ]
     },
     "metadata": {},
     "output_type": "display_data"
    },
    {
     "data": {
      "text/html": [
       "<pre style=\"white-space:pre;overflow-x:auto;line-height:normal;font-family:Menlo,'DejaVu Sans Mono',consolas,'Courier New',monospace\"></pre>\n"
      ],
      "text/plain": []
     },
     "metadata": {},
     "output_type": "display_data"
    },
    {
     "data": {
      "text/html": [
       "<pre style=\"white-space:pre;overflow-x:auto;line-height:normal;font-family:Menlo,'DejaVu Sans Mono',consolas,'Courier New',monospace\"><span style=\"color: #7fbfbf; text-decoration-color: #7fbfbf\">[12/07/24 13:11:14] </span><span style=\"color: #000080; text-decoration-color: #000080\">INFO    </span> <span style=\"color: #0000ff; text-decoration-color: #0000ff\">train</span>  - <span style=\"font-weight: bold\">(</span>Train<span style=\"font-weight: bold\">)</span> bce:  <span style=\"color: #008080; text-decoration-color: #008080; font-weight: bold\">0.3211</span>, mse:  <span style=\"color: #008080; text-decoration-color: #008080; font-weight: bold\">0.8916</span>,  acc: <span style=\"color: #008080; text-decoration-color: #008080; font-weight: bold\">89.354</span> %,   <a href=\"file:///n/home09/pren/3DGeno_tools/src/gt3d/modules/higashi/Higashi_wrapper.py\" target=\"_blank\"><span style=\"color: #7f7f7f; text-decoration-color: #7f7f7f\">Higashi_wrapper.py</span></a><span style=\"color: #7f7f7f; text-decoration-color: #7f7f7f\">:</span><a href=\"file:///n/home09/pren/3DGeno_tools/src/gt3d/modules/higashi/Higashi_wrapper.py#1258\" target=\"_blank\"><span style=\"color: #7f7f7f; text-decoration-color: #7f7f7f\">1258</span></a>\n",
       "<span style=\"color: #7fbfbf; text-decoration-color: #7fbfbf\">                    </span>         pearson: <span style=\"color: #008080; text-decoration-color: #008080; font-weight: bold\">0.670</span>, spearman: <span style=\"color: #008080; text-decoration-color: #008080; font-weight: bold\">0.571</span>, elapse: <span style=\"color: #008080; text-decoration-color: #008080; font-weight: bold\">89.472</span> s              <span style=\"color: #7f7f7f; text-decoration-color: #7f7f7f\">                       </span>\n",
       "</pre>\n"
      ],
      "text/plain": [
       "\u001b[2;36m[12/07/24 13:11:14]\u001b[0m\u001b[2;36m \u001b[0m\u001b[34mINFO    \u001b[0m \u001b[94mtrain\u001b[0m  - \u001b[1m(\u001b[0mTrain\u001b[1m)\u001b[0m bce:  \u001b[1;36m0.3211\u001b[0m, mse:  \u001b[1;36m0.8916\u001b[0m,  acc: \u001b[1;36m89.354\u001b[0m %,   \u001b]8;id=984471;file:///n/home09/pren/3DGeno_tools/src/gt3d/modules/higashi/Higashi_wrapper.py\u001b\\\u001b[2mHigashi_wrapper.py\u001b[0m\u001b]8;;\u001b\\\u001b[2m:\u001b[0m\u001b]8;id=523687;file:///n/home09/pren/3DGeno_tools/src/gt3d/modules/higashi/Higashi_wrapper.py#1258\u001b\\\u001b[2m1258\u001b[0m\u001b]8;;\u001b\\\n",
       "\u001b[2;36m                    \u001b[0m         pearson: \u001b[1;36m0.670\u001b[0m, spearman: \u001b[1;36m0.571\u001b[0m, elapse: \u001b[1;36m89.472\u001b[0m s              \u001b[2m                       \u001b[0m\n"
      ]
     },
     "metadata": {},
     "output_type": "display_data"
    },
    {
     "data": {
      "application/vnd.jupyter.widget-view+json": {
       "model_id": "4e86bf133c034392adfcac3602e730d3",
       "version_major": 2,
       "version_minor": 0
      },
      "text/plain": [
       "Output()"
      ]
     },
     "metadata": {},
     "output_type": "display_data"
    },
    {
     "data": {
      "text/html": [
       "<pre style=\"white-space:pre;overflow-x:auto;line-height:normal;font-family:Menlo,'DejaVu Sans Mono',consolas,'Courier New',monospace\"></pre>\n"
      ],
      "text/plain": []
     },
     "metadata": {},
     "output_type": "display_data"
    },
    {
     "data": {
      "text/html": [
       "<pre style=\"white-space:pre;overflow-x:auto;line-height:normal;font-family:Menlo,'DejaVu Sans Mono',consolas,'Courier New',monospace\"><span style=\"color: #7fbfbf; text-decoration-color: #7fbfbf\">                    </span><span style=\"color: #000080; text-decoration-color: #000080\">INFO    </span> <span style=\"color: #0000ff; text-decoration-color: #0000ff\">train</span>  - <span style=\"font-weight: bold\">(</span>Valid<span style=\"font-weight: bold\">)</span> bce:  <span style=\"color: #008080; text-decoration-color: #008080; font-weight: bold\">0.3616</span>,  acc: <span style=\"color: #008080; text-decoration-color: #008080; font-weight: bold\">88.483</span> %,pearson: <span style=\"color: #008080; text-decoration-color: #008080; font-weight: bold\">0.623</span>,  <a href=\"file:///n/home09/pren/3DGeno_tools/src/gt3d/modules/higashi/Higashi_wrapper.py\" target=\"_blank\"><span style=\"color: #7f7f7f; text-decoration-color: #7f7f7f\">Higashi_wrapper.py</span></a><span style=\"color: #7f7f7f; text-decoration-color: #7f7f7f\">:</span><a href=\"file:///n/home09/pren/3DGeno_tools/src/gt3d/modules/higashi/Higashi_wrapper.py#1277\" target=\"_blank\"><span style=\"color: #7f7f7f; text-decoration-color: #7f7f7f\">1277</span></a>\n",
       "<span style=\"color: #7fbfbf; text-decoration-color: #7fbfbf\">                    </span>         spearman: <span style=\"color: #008080; text-decoration-color: #008080; font-weight: bold\">0.549</span>,elapse: <span style=\"color: #008080; text-decoration-color: #008080; font-weight: bold\">0.052</span> s                                <span style=\"color: #7f7f7f; text-decoration-color: #7f7f7f\">                       </span>\n",
       "</pre>\n"
      ],
      "text/plain": [
       "\u001b[2;36m                   \u001b[0m\u001b[2;36m \u001b[0m\u001b[34mINFO    \u001b[0m \u001b[94mtrain\u001b[0m  - \u001b[1m(\u001b[0mValid\u001b[1m)\u001b[0m bce:  \u001b[1;36m0.3616\u001b[0m,  acc: \u001b[1;36m88.483\u001b[0m %,pearson: \u001b[1;36m0.623\u001b[0m,  \u001b]8;id=110043;file:///n/home09/pren/3DGeno_tools/src/gt3d/modules/higashi/Higashi_wrapper.py\u001b\\\u001b[2mHigashi_wrapper.py\u001b[0m\u001b]8;;\u001b\\\u001b[2m:\u001b[0m\u001b]8;id=301726;file:///n/home09/pren/3DGeno_tools/src/gt3d/modules/higashi/Higashi_wrapper.py#1277\u001b\\\u001b[2m1277\u001b[0m\u001b]8;;\u001b\\\n",
       "\u001b[2;36m                    \u001b[0m         spearman: \u001b[1;36m0.549\u001b[0m,elapse: \u001b[1;36m0.052\u001b[0m s                                \u001b[2m                       \u001b[0m\n"
      ]
     },
     "metadata": {},
     "output_type": "display_data"
    },
    {
     "data": {
      "text/html": [
       "<pre style=\"white-space:pre;overflow-x:auto;line-height:normal;font-family:Menlo,'DejaVu Sans Mono',consolas,'Courier New',monospace\"><span style=\"color: #7fbfbf; text-decoration-color: #7fbfbf\">                    </span><span style=\"color: #000080; text-decoration-color: #000080\">INFO    </span> <span style=\"color: #0000ff; text-decoration-color: #0000ff\">train</span> update_rate: <span style=\"color: #008080; text-decoration-color: #008080; font-weight: bold\">0.004157</span>     <span style=\"color: #008080; text-decoration-color: #008080; font-weight: bold\">0.112816</span>                       <a href=\"file:///n/home09/pren/3DGeno_tools/src/gt3d/modules/higashi/Higashi_wrapper.py\" target=\"_blank\"><span style=\"color: #7f7f7f; text-decoration-color: #7f7f7f\">Higashi_wrapper.py</span></a><span style=\"color: #7f7f7f; text-decoration-color: #7f7f7f\">:</span><a href=\"file:///n/home09/pren/3DGeno_tools/src/gt3d/modules/higashi/Higashi_wrapper.py#1323\" target=\"_blank\"><span style=\"color: #7f7f7f; text-decoration-color: #7f7f7f\">1323</span></a>\n",
       "</pre>\n"
      ],
      "text/plain": [
       "\u001b[2;36m                   \u001b[0m\u001b[2;36m \u001b[0m\u001b[34mINFO    \u001b[0m \u001b[94mtrain\u001b[0m update_rate: \u001b[1;36m0.004157\u001b[0m     \u001b[1;36m0.112816\u001b[0m                       \u001b]8;id=297282;file:///n/home09/pren/3DGeno_tools/src/gt3d/modules/higashi/Higashi_wrapper.py\u001b\\\u001b[2mHigashi_wrapper.py\u001b[0m\u001b]8;;\u001b\\\u001b[2m:\u001b[0m\u001b]8;id=677929;file:///n/home09/pren/3DGeno_tools/src/gt3d/modules/higashi/Higashi_wrapper.py#1323\u001b\\\u001b[2m1323\u001b[0m\u001b]8;;\u001b\\\n"
      ]
     },
     "metadata": {},
     "output_type": "display_data"
    },
    {
     "data": {
      "text/html": [
       "<pre style=\"white-space:pre;overflow-x:auto;line-height:normal;font-family:Menlo,'DejaVu Sans Mono',consolas,'Courier New',monospace\"><span style=\"color: #7fbfbf; text-decoration-color: #7fbfbf\">                    </span><span style=\"color: #000080; text-decoration-color: #000080\">INFO    </span> <span style=\"color: #0000ff; text-decoration-color: #0000ff\">train</span> <span style=\"font-weight: bold\">[</span> Epoch <span style=\"color: #008080; text-decoration-color: #008080; font-weight: bold\">31</span> of <span style=\"color: #008080; text-decoration-color: #008080; font-weight: bold\">200</span> <span style=\"font-weight: bold\">]</span>                                      <a href=\"file:///n/home09/pren/3DGeno_tools/src/gt3d/modules/higashi/Higashi_wrapper.py\" target=\"_blank\"><span style=\"color: #7f7f7f; text-decoration-color: #7f7f7f\">Higashi_wrapper.py</span></a><span style=\"color: #7f7f7f; text-decoration-color: #7f7f7f\">:</span><a href=\"file:///n/home09/pren/3DGeno_tools/src/gt3d/modules/higashi/Higashi_wrapper.py#1245\" target=\"_blank\"><span style=\"color: #7f7f7f; text-decoration-color: #7f7f7f\">1245</span></a>\n",
       "</pre>\n"
      ],
      "text/plain": [
       "\u001b[2;36m                   \u001b[0m\u001b[2;36m \u001b[0m\u001b[34mINFO    \u001b[0m \u001b[94mtrain\u001b[0m \u001b[1m[\u001b[0m Epoch \u001b[1;36m31\u001b[0m of \u001b[1;36m200\u001b[0m \u001b[1m]\u001b[0m                                      \u001b]8;id=625211;file:///n/home09/pren/3DGeno_tools/src/gt3d/modules/higashi/Higashi_wrapper.py\u001b\\\u001b[2mHigashi_wrapper.py\u001b[0m\u001b]8;;\u001b\\\u001b[2m:\u001b[0m\u001b]8;id=807744;file:///n/home09/pren/3DGeno_tools/src/gt3d/modules/higashi/Higashi_wrapper.py#1245\u001b\\\u001b[2m1245\u001b[0m\u001b]8;;\u001b\\\n"
      ]
     },
     "metadata": {},
     "output_type": "display_data"
    },
    {
     "data": {
      "application/vnd.jupyter.widget-view+json": {
       "model_id": "e12693d31a6e4cf09591862f45c89612",
       "version_major": 2,
       "version_minor": 0
      },
      "text/plain": [
       "Output()"
      ]
     },
     "metadata": {},
     "output_type": "display_data"
    },
    {
     "data": {
      "text/html": [
       "<pre style=\"white-space:pre;overflow-x:auto;line-height:normal;font-family:Menlo,'DejaVu Sans Mono',consolas,'Courier New',monospace\"></pre>\n"
      ],
      "text/plain": []
     },
     "metadata": {},
     "output_type": "display_data"
    },
    {
     "data": {
      "text/html": [
       "<pre style=\"white-space:pre;overflow-x:auto;line-height:normal;font-family:Menlo,'DejaVu Sans Mono',consolas,'Courier New',monospace\"><span style=\"color: #7fbfbf; text-decoration-color: #7fbfbf\">[12/07/24 13:12:43] </span><span style=\"color: #000080; text-decoration-color: #000080\">INFO    </span> <span style=\"color: #0000ff; text-decoration-color: #0000ff\">train</span>  - <span style=\"font-weight: bold\">(</span>Train<span style=\"font-weight: bold\">)</span> bce:  <span style=\"color: #008080; text-decoration-color: #008080; font-weight: bold\">0.3203</span>, mse:  <span style=\"color: #008080; text-decoration-color: #008080; font-weight: bold\">0.9055</span>,  acc: <span style=\"color: #008080; text-decoration-color: #008080; font-weight: bold\">89.410</span> %,   <a href=\"file:///n/home09/pren/3DGeno_tools/src/gt3d/modules/higashi/Higashi_wrapper.py\" target=\"_blank\"><span style=\"color: #7f7f7f; text-decoration-color: #7f7f7f\">Higashi_wrapper.py</span></a><span style=\"color: #7f7f7f; text-decoration-color: #7f7f7f\">:</span><a href=\"file:///n/home09/pren/3DGeno_tools/src/gt3d/modules/higashi/Higashi_wrapper.py#1258\" target=\"_blank\"><span style=\"color: #7f7f7f; text-decoration-color: #7f7f7f\">1258</span></a>\n",
       "<span style=\"color: #7fbfbf; text-decoration-color: #7fbfbf\">                    </span>         pearson: <span style=\"color: #008080; text-decoration-color: #008080; font-weight: bold\">0.673</span>, spearman: <span style=\"color: #008080; text-decoration-color: #008080; font-weight: bold\">0.572</span>, elapse: <span style=\"color: #008080; text-decoration-color: #008080; font-weight: bold\">89.344</span> s              <span style=\"color: #7f7f7f; text-decoration-color: #7f7f7f\">                       </span>\n",
       "</pre>\n"
      ],
      "text/plain": [
       "\u001b[2;36m[12/07/24 13:12:43]\u001b[0m\u001b[2;36m \u001b[0m\u001b[34mINFO    \u001b[0m \u001b[94mtrain\u001b[0m  - \u001b[1m(\u001b[0mTrain\u001b[1m)\u001b[0m bce:  \u001b[1;36m0.3203\u001b[0m, mse:  \u001b[1;36m0.9055\u001b[0m,  acc: \u001b[1;36m89.410\u001b[0m %,   \u001b]8;id=108679;file:///n/home09/pren/3DGeno_tools/src/gt3d/modules/higashi/Higashi_wrapper.py\u001b\\\u001b[2mHigashi_wrapper.py\u001b[0m\u001b]8;;\u001b\\\u001b[2m:\u001b[0m\u001b]8;id=605914;file:///n/home09/pren/3DGeno_tools/src/gt3d/modules/higashi/Higashi_wrapper.py#1258\u001b\\\u001b[2m1258\u001b[0m\u001b]8;;\u001b\\\n",
       "\u001b[2;36m                    \u001b[0m         pearson: \u001b[1;36m0.673\u001b[0m, spearman: \u001b[1;36m0.572\u001b[0m, elapse: \u001b[1;36m89.344\u001b[0m s              \u001b[2m                       \u001b[0m\n"
      ]
     },
     "metadata": {},
     "output_type": "display_data"
    },
    {
     "data": {
      "application/vnd.jupyter.widget-view+json": {
       "model_id": "02bcded71fb345fe8706f2e3cb986e72",
       "version_major": 2,
       "version_minor": 0
      },
      "text/plain": [
       "Output()"
      ]
     },
     "metadata": {},
     "output_type": "display_data"
    },
    {
     "data": {
      "text/html": [
       "<pre style=\"white-space:pre;overflow-x:auto;line-height:normal;font-family:Menlo,'DejaVu Sans Mono',consolas,'Courier New',monospace\"></pre>\n"
      ],
      "text/plain": []
     },
     "metadata": {},
     "output_type": "display_data"
    },
    {
     "data": {
      "text/html": [
       "<pre style=\"white-space:pre;overflow-x:auto;line-height:normal;font-family:Menlo,'DejaVu Sans Mono',consolas,'Courier New',monospace\"><span style=\"color: #7fbfbf; text-decoration-color: #7fbfbf\">                    </span><span style=\"color: #000080; text-decoration-color: #000080\">INFO    </span> <span style=\"color: #0000ff; text-decoration-color: #0000ff\">train</span>  - <span style=\"font-weight: bold\">(</span>Valid<span style=\"font-weight: bold\">)</span> bce:  <span style=\"color: #008080; text-decoration-color: #008080; font-weight: bold\">0.3634</span>,  acc: <span style=\"color: #008080; text-decoration-color: #008080; font-weight: bold\">88.568</span> %,pearson: <span style=\"color: #008080; text-decoration-color: #008080; font-weight: bold\">0.624</span>,  <a href=\"file:///n/home09/pren/3DGeno_tools/src/gt3d/modules/higashi/Higashi_wrapper.py\" target=\"_blank\"><span style=\"color: #7f7f7f; text-decoration-color: #7f7f7f\">Higashi_wrapper.py</span></a><span style=\"color: #7f7f7f; text-decoration-color: #7f7f7f\">:</span><a href=\"file:///n/home09/pren/3DGeno_tools/src/gt3d/modules/higashi/Higashi_wrapper.py#1277\" target=\"_blank\"><span style=\"color: #7f7f7f; text-decoration-color: #7f7f7f\">1277</span></a>\n",
       "<span style=\"color: #7fbfbf; text-decoration-color: #7fbfbf\">                    </span>         spearman: <span style=\"color: #008080; text-decoration-color: #008080; font-weight: bold\">0.543</span>,elapse: <span style=\"color: #008080; text-decoration-color: #008080; font-weight: bold\">0.052</span> s                                <span style=\"color: #7f7f7f; text-decoration-color: #7f7f7f\">                       </span>\n",
       "</pre>\n"
      ],
      "text/plain": [
       "\u001b[2;36m                   \u001b[0m\u001b[2;36m \u001b[0m\u001b[34mINFO    \u001b[0m \u001b[94mtrain\u001b[0m  - \u001b[1m(\u001b[0mValid\u001b[1m)\u001b[0m bce:  \u001b[1;36m0.3634\u001b[0m,  acc: \u001b[1;36m88.568\u001b[0m %,pearson: \u001b[1;36m0.624\u001b[0m,  \u001b]8;id=103659;file:///n/home09/pren/3DGeno_tools/src/gt3d/modules/higashi/Higashi_wrapper.py\u001b\\\u001b[2mHigashi_wrapper.py\u001b[0m\u001b]8;;\u001b\\\u001b[2m:\u001b[0m\u001b]8;id=617350;file:///n/home09/pren/3DGeno_tools/src/gt3d/modules/higashi/Higashi_wrapper.py#1277\u001b\\\u001b[2m1277\u001b[0m\u001b]8;;\u001b\\\n",
       "\u001b[2;36m                    \u001b[0m         spearman: \u001b[1;36m0.543\u001b[0m,elapse: \u001b[1;36m0.052\u001b[0m s                                \u001b[2m                       \u001b[0m\n"
      ]
     },
     "metadata": {},
     "output_type": "display_data"
    },
    {
     "data": {
      "text/html": [
       "<pre style=\"white-space:pre;overflow-x:auto;line-height:normal;font-family:Menlo,'DejaVu Sans Mono',consolas,'Courier New',monospace\"><span style=\"color: #7fbfbf; text-decoration-color: #7fbfbf\">                    </span><span style=\"color: #000080; text-decoration-color: #000080\">INFO    </span> <span style=\"color: #0000ff; text-decoration-color: #0000ff\">train</span> update_rate: <span style=\"color: #008080; text-decoration-color: #008080; font-weight: bold\">0.004199</span>     <span style=\"color: #008080; text-decoration-color: #008080; font-weight: bold\">0.224155</span>                       <a href=\"file:///n/home09/pren/3DGeno_tools/src/gt3d/modules/higashi/Higashi_wrapper.py\" target=\"_blank\"><span style=\"color: #7f7f7f; text-decoration-color: #7f7f7f\">Higashi_wrapper.py</span></a><span style=\"color: #7f7f7f; text-decoration-color: #7f7f7f\">:</span><a href=\"file:///n/home09/pren/3DGeno_tools/src/gt3d/modules/higashi/Higashi_wrapper.py#1323\" target=\"_blank\"><span style=\"color: #7f7f7f; text-decoration-color: #7f7f7f\">1323</span></a>\n",
       "</pre>\n"
      ],
      "text/plain": [
       "\u001b[2;36m                   \u001b[0m\u001b[2;36m \u001b[0m\u001b[34mINFO    \u001b[0m \u001b[94mtrain\u001b[0m update_rate: \u001b[1;36m0.004199\u001b[0m     \u001b[1;36m0.224155\u001b[0m                       \u001b]8;id=733203;file:///n/home09/pren/3DGeno_tools/src/gt3d/modules/higashi/Higashi_wrapper.py\u001b\\\u001b[2mHigashi_wrapper.py\u001b[0m\u001b]8;;\u001b\\\u001b[2m:\u001b[0m\u001b]8;id=950863;file:///n/home09/pren/3DGeno_tools/src/gt3d/modules/higashi/Higashi_wrapper.py#1323\u001b\\\u001b[2m1323\u001b[0m\u001b]8;;\u001b\\\n"
      ]
     },
     "metadata": {},
     "output_type": "display_data"
    },
    {
     "data": {
      "text/html": [
       "<pre style=\"white-space:pre;overflow-x:auto;line-height:normal;font-family:Menlo,'DejaVu Sans Mono',consolas,'Courier New',monospace\"><span style=\"color: #7fbfbf; text-decoration-color: #7fbfbf\">                    </span><span style=\"color: #000080; text-decoration-color: #000080\">INFO    </span> <span style=\"color: #0000ff; text-decoration-color: #0000ff\">train</span> <span style=\"font-weight: bold\">[</span> Epoch <span style=\"color: #008080; text-decoration-color: #008080; font-weight: bold\">32</span> of <span style=\"color: #008080; text-decoration-color: #008080; font-weight: bold\">200</span> <span style=\"font-weight: bold\">]</span>                                      <a href=\"file:///n/home09/pren/3DGeno_tools/src/gt3d/modules/higashi/Higashi_wrapper.py\" target=\"_blank\"><span style=\"color: #7f7f7f; text-decoration-color: #7f7f7f\">Higashi_wrapper.py</span></a><span style=\"color: #7f7f7f; text-decoration-color: #7f7f7f\">:</span><a href=\"file:///n/home09/pren/3DGeno_tools/src/gt3d/modules/higashi/Higashi_wrapper.py#1245\" target=\"_blank\"><span style=\"color: #7f7f7f; text-decoration-color: #7f7f7f\">1245</span></a>\n",
       "</pre>\n"
      ],
      "text/plain": [
       "\u001b[2;36m                   \u001b[0m\u001b[2;36m \u001b[0m\u001b[34mINFO    \u001b[0m \u001b[94mtrain\u001b[0m \u001b[1m[\u001b[0m Epoch \u001b[1;36m32\u001b[0m of \u001b[1;36m200\u001b[0m \u001b[1m]\u001b[0m                                      \u001b]8;id=312255;file:///n/home09/pren/3DGeno_tools/src/gt3d/modules/higashi/Higashi_wrapper.py\u001b\\\u001b[2mHigashi_wrapper.py\u001b[0m\u001b]8;;\u001b\\\u001b[2m:\u001b[0m\u001b]8;id=248954;file:///n/home09/pren/3DGeno_tools/src/gt3d/modules/higashi/Higashi_wrapper.py#1245\u001b\\\u001b[2m1245\u001b[0m\u001b]8;;\u001b\\\n"
      ]
     },
     "metadata": {},
     "output_type": "display_data"
    },
    {
     "data": {
      "application/vnd.jupyter.widget-view+json": {
       "model_id": "8337fee83c68431896dfe8f4644e56fc",
       "version_major": 2,
       "version_minor": 0
      },
      "text/plain": [
       "Output()"
      ]
     },
     "metadata": {},
     "output_type": "display_data"
    },
    {
     "data": {
      "text/html": [
       "<pre style=\"white-space:pre;overflow-x:auto;line-height:normal;font-family:Menlo,'DejaVu Sans Mono',consolas,'Courier New',monospace\"></pre>\n"
      ],
      "text/plain": []
     },
     "metadata": {},
     "output_type": "display_data"
    },
    {
     "data": {
      "text/html": [
       "<pre style=\"white-space:pre;overflow-x:auto;line-height:normal;font-family:Menlo,'DejaVu Sans Mono',consolas,'Courier New',monospace\"><span style=\"color: #7fbfbf; text-decoration-color: #7fbfbf\">[12/07/24 13:14:13] </span><span style=\"color: #000080; text-decoration-color: #000080\">INFO    </span> <span style=\"color: #0000ff; text-decoration-color: #0000ff\">train</span>  - <span style=\"font-weight: bold\">(</span>Train<span style=\"font-weight: bold\">)</span> bce:  <span style=\"color: #008080; text-decoration-color: #008080; font-weight: bold\">0.3211</span>, mse:  <span style=\"color: #008080; text-decoration-color: #008080; font-weight: bold\">1.5204</span>,  acc: <span style=\"color: #008080; text-decoration-color: #008080; font-weight: bold\">89.344</span> %,   <a href=\"file:///n/home09/pren/3DGeno_tools/src/gt3d/modules/higashi/Higashi_wrapper.py\" target=\"_blank\"><span style=\"color: #7f7f7f; text-decoration-color: #7f7f7f\">Higashi_wrapper.py</span></a><span style=\"color: #7f7f7f; text-decoration-color: #7f7f7f\">:</span><a href=\"file:///n/home09/pren/3DGeno_tools/src/gt3d/modules/higashi/Higashi_wrapper.py#1258\" target=\"_blank\"><span style=\"color: #7f7f7f; text-decoration-color: #7f7f7f\">1258</span></a>\n",
       "<span style=\"color: #7fbfbf; text-decoration-color: #7fbfbf\">                    </span>         pearson: <span style=\"color: #008080; text-decoration-color: #008080; font-weight: bold\">0.671</span>, spearman: <span style=\"color: #008080; text-decoration-color: #008080; font-weight: bold\">0.571</span>, elapse: <span style=\"color: #008080; text-decoration-color: #008080; font-weight: bold\">89.311</span> s              <span style=\"color: #7f7f7f; text-decoration-color: #7f7f7f\">                       </span>\n",
       "</pre>\n"
      ],
      "text/plain": [
       "\u001b[2;36m[12/07/24 13:14:13]\u001b[0m\u001b[2;36m \u001b[0m\u001b[34mINFO    \u001b[0m \u001b[94mtrain\u001b[0m  - \u001b[1m(\u001b[0mTrain\u001b[1m)\u001b[0m bce:  \u001b[1;36m0.3211\u001b[0m, mse:  \u001b[1;36m1.5204\u001b[0m,  acc: \u001b[1;36m89.344\u001b[0m %,   \u001b]8;id=292341;file:///n/home09/pren/3DGeno_tools/src/gt3d/modules/higashi/Higashi_wrapper.py\u001b\\\u001b[2mHigashi_wrapper.py\u001b[0m\u001b]8;;\u001b\\\u001b[2m:\u001b[0m\u001b]8;id=848844;file:///n/home09/pren/3DGeno_tools/src/gt3d/modules/higashi/Higashi_wrapper.py#1258\u001b\\\u001b[2m1258\u001b[0m\u001b]8;;\u001b\\\n",
       "\u001b[2;36m                    \u001b[0m         pearson: \u001b[1;36m0.671\u001b[0m, spearman: \u001b[1;36m0.571\u001b[0m, elapse: \u001b[1;36m89.311\u001b[0m s              \u001b[2m                       \u001b[0m\n"
      ]
     },
     "metadata": {},
     "output_type": "display_data"
    },
    {
     "data": {
      "application/vnd.jupyter.widget-view+json": {
       "model_id": "87315db492d84bc7a43f1d46f9bcf83f",
       "version_major": 2,
       "version_minor": 0
      },
      "text/plain": [
       "Output()"
      ]
     },
     "metadata": {},
     "output_type": "display_data"
    },
    {
     "data": {
      "text/html": [
       "<pre style=\"white-space:pre;overflow-x:auto;line-height:normal;font-family:Menlo,'DejaVu Sans Mono',consolas,'Courier New',monospace\"></pre>\n"
      ],
      "text/plain": []
     },
     "metadata": {},
     "output_type": "display_data"
    },
    {
     "data": {
      "text/html": [
       "<pre style=\"white-space:pre;overflow-x:auto;line-height:normal;font-family:Menlo,'DejaVu Sans Mono',consolas,'Courier New',monospace\"><span style=\"color: #7fbfbf; text-decoration-color: #7fbfbf\">                    </span><span style=\"color: #000080; text-decoration-color: #000080\">INFO    </span> <span style=\"color: #0000ff; text-decoration-color: #0000ff\">train</span>  - <span style=\"font-weight: bold\">(</span>Valid<span style=\"font-weight: bold\">)</span> bce:  <span style=\"color: #008080; text-decoration-color: #008080; font-weight: bold\">0.3560</span>,  acc: <span style=\"color: #008080; text-decoration-color: #008080; font-weight: bold\">88.835</span> %,pearson: <span style=\"color: #008080; text-decoration-color: #008080; font-weight: bold\">0.628</span>,  <a href=\"file:///n/home09/pren/3DGeno_tools/src/gt3d/modules/higashi/Higashi_wrapper.py\" target=\"_blank\"><span style=\"color: #7f7f7f; text-decoration-color: #7f7f7f\">Higashi_wrapper.py</span></a><span style=\"color: #7f7f7f; text-decoration-color: #7f7f7f\">:</span><a href=\"file:///n/home09/pren/3DGeno_tools/src/gt3d/modules/higashi/Higashi_wrapper.py#1277\" target=\"_blank\"><span style=\"color: #7f7f7f; text-decoration-color: #7f7f7f\">1277</span></a>\n",
       "<span style=\"color: #7fbfbf; text-decoration-color: #7fbfbf\">                    </span>         spearman: <span style=\"color: #008080; text-decoration-color: #008080; font-weight: bold\">0.558</span>,elapse: <span style=\"color: #008080; text-decoration-color: #008080; font-weight: bold\">0.052</span> s                                <span style=\"color: #7f7f7f; text-decoration-color: #7f7f7f\">                       </span>\n",
       "</pre>\n"
      ],
      "text/plain": [
       "\u001b[2;36m                   \u001b[0m\u001b[2;36m \u001b[0m\u001b[34mINFO    \u001b[0m \u001b[94mtrain\u001b[0m  - \u001b[1m(\u001b[0mValid\u001b[1m)\u001b[0m bce:  \u001b[1;36m0.3560\u001b[0m,  acc: \u001b[1;36m88.835\u001b[0m %,pearson: \u001b[1;36m0.628\u001b[0m,  \u001b]8;id=730365;file:///n/home09/pren/3DGeno_tools/src/gt3d/modules/higashi/Higashi_wrapper.py\u001b\\\u001b[2mHigashi_wrapper.py\u001b[0m\u001b]8;;\u001b\\\u001b[2m:\u001b[0m\u001b]8;id=476905;file:///n/home09/pren/3DGeno_tools/src/gt3d/modules/higashi/Higashi_wrapper.py#1277\u001b\\\u001b[2m1277\u001b[0m\u001b]8;;\u001b\\\n",
       "\u001b[2;36m                    \u001b[0m         spearman: \u001b[1;36m0.558\u001b[0m,elapse: \u001b[1;36m0.052\u001b[0m s                                \u001b[2m                       \u001b[0m\n"
      ]
     },
     "metadata": {},
     "output_type": "display_data"
    },
    {
     "data": {
      "text/html": [
       "<pre style=\"white-space:pre;overflow-x:auto;line-height:normal;font-family:Menlo,'DejaVu Sans Mono',consolas,'Courier New',monospace\"><span style=\"color: #7fbfbf; text-decoration-color: #7fbfbf\">                    </span><span style=\"color: #000080; text-decoration-color: #000080\">INFO    </span> <span style=\"color: #0000ff; text-decoration-color: #0000ff\">train</span> update_rate: <span style=\"color: #008080; text-decoration-color: #008080; font-weight: bold\">0.004870</span>     <span style=\"color: #008080; text-decoration-color: #008080; font-weight: bold\">0.225023</span>                       <a href=\"file:///n/home09/pren/3DGeno_tools/src/gt3d/modules/higashi/Higashi_wrapper.py\" target=\"_blank\"><span style=\"color: #7f7f7f; text-decoration-color: #7f7f7f\">Higashi_wrapper.py</span></a><span style=\"color: #7f7f7f; text-decoration-color: #7f7f7f\">:</span><a href=\"file:///n/home09/pren/3DGeno_tools/src/gt3d/modules/higashi/Higashi_wrapper.py#1323\" target=\"_blank\"><span style=\"color: #7f7f7f; text-decoration-color: #7f7f7f\">1323</span></a>\n",
       "</pre>\n"
      ],
      "text/plain": [
       "\u001b[2;36m                   \u001b[0m\u001b[2;36m \u001b[0m\u001b[34mINFO    \u001b[0m \u001b[94mtrain\u001b[0m update_rate: \u001b[1;36m0.004870\u001b[0m     \u001b[1;36m0.225023\u001b[0m                       \u001b]8;id=823577;file:///n/home09/pren/3DGeno_tools/src/gt3d/modules/higashi/Higashi_wrapper.py\u001b\\\u001b[2mHigashi_wrapper.py\u001b[0m\u001b]8;;\u001b\\\u001b[2m:\u001b[0m\u001b]8;id=778674;file:///n/home09/pren/3DGeno_tools/src/gt3d/modules/higashi/Higashi_wrapper.py#1323\u001b\\\u001b[2m1323\u001b[0m\u001b]8;;\u001b\\\n"
      ]
     },
     "metadata": {},
     "output_type": "display_data"
    },
    {
     "data": {
      "text/html": [
       "<pre style=\"white-space:pre;overflow-x:auto;line-height:normal;font-family:Menlo,'DejaVu Sans Mono',consolas,'Courier New',monospace\"><span style=\"color: #7fbfbf; text-decoration-color: #7fbfbf\">                    </span><span style=\"color: #000080; text-decoration-color: #000080\">INFO    </span> <span style=\"color: #0000ff; text-decoration-color: #0000ff\">train</span> <span style=\"font-weight: bold\">[</span> Epoch <span style=\"color: #008080; text-decoration-color: #008080; font-weight: bold\">33</span> of <span style=\"color: #008080; text-decoration-color: #008080; font-weight: bold\">200</span> <span style=\"font-weight: bold\">]</span>                                      <a href=\"file:///n/home09/pren/3DGeno_tools/src/gt3d/modules/higashi/Higashi_wrapper.py\" target=\"_blank\"><span style=\"color: #7f7f7f; text-decoration-color: #7f7f7f\">Higashi_wrapper.py</span></a><span style=\"color: #7f7f7f; text-decoration-color: #7f7f7f\">:</span><a href=\"file:///n/home09/pren/3DGeno_tools/src/gt3d/modules/higashi/Higashi_wrapper.py#1245\" target=\"_blank\"><span style=\"color: #7f7f7f; text-decoration-color: #7f7f7f\">1245</span></a>\n",
       "</pre>\n"
      ],
      "text/plain": [
       "\u001b[2;36m                   \u001b[0m\u001b[2;36m \u001b[0m\u001b[34mINFO    \u001b[0m \u001b[94mtrain\u001b[0m \u001b[1m[\u001b[0m Epoch \u001b[1;36m33\u001b[0m of \u001b[1;36m200\u001b[0m \u001b[1m]\u001b[0m                                      \u001b]8;id=558827;file:///n/home09/pren/3DGeno_tools/src/gt3d/modules/higashi/Higashi_wrapper.py\u001b\\\u001b[2mHigashi_wrapper.py\u001b[0m\u001b]8;;\u001b\\\u001b[2m:\u001b[0m\u001b]8;id=555225;file:///n/home09/pren/3DGeno_tools/src/gt3d/modules/higashi/Higashi_wrapper.py#1245\u001b\\\u001b[2m1245\u001b[0m\u001b]8;;\u001b\\\n"
      ]
     },
     "metadata": {},
     "output_type": "display_data"
    },
    {
     "data": {
      "application/vnd.jupyter.widget-view+json": {
       "model_id": "103d4a85e60645e1a08502253556ec20",
       "version_major": 2,
       "version_minor": 0
      },
      "text/plain": [
       "Output()"
      ]
     },
     "metadata": {},
     "output_type": "display_data"
    },
    {
     "data": {
      "text/html": [
       "<pre style=\"white-space:pre;overflow-x:auto;line-height:normal;font-family:Menlo,'DejaVu Sans Mono',consolas,'Courier New',monospace\"></pre>\n"
      ],
      "text/plain": []
     },
     "metadata": {},
     "output_type": "display_data"
    },
    {
     "data": {
      "text/html": [
       "<pre style=\"white-space:pre;overflow-x:auto;line-height:normal;font-family:Menlo,'DejaVu Sans Mono',consolas,'Courier New',monospace\"><span style=\"color: #7fbfbf; text-decoration-color: #7fbfbf\">[12/07/24 13:15:42] </span><span style=\"color: #000080; text-decoration-color: #000080\">INFO    </span> <span style=\"color: #0000ff; text-decoration-color: #0000ff\">train</span>  - <span style=\"font-weight: bold\">(</span>Train<span style=\"font-weight: bold\">)</span> bce:  <span style=\"color: #008080; text-decoration-color: #008080; font-weight: bold\">0.3181</span>, mse:  <span style=\"color: #008080; text-decoration-color: #008080; font-weight: bold\">0.9156</span>,  acc: <span style=\"color: #008080; text-decoration-color: #008080; font-weight: bold\">89.590</span> %,   <a href=\"file:///n/home09/pren/3DGeno_tools/src/gt3d/modules/higashi/Higashi_wrapper.py\" target=\"_blank\"><span style=\"color: #7f7f7f; text-decoration-color: #7f7f7f\">Higashi_wrapper.py</span></a><span style=\"color: #7f7f7f; text-decoration-color: #7f7f7f\">:</span><a href=\"file:///n/home09/pren/3DGeno_tools/src/gt3d/modules/higashi/Higashi_wrapper.py#1258\" target=\"_blank\"><span style=\"color: #7f7f7f; text-decoration-color: #7f7f7f\">1258</span></a>\n",
       "<span style=\"color: #7fbfbf; text-decoration-color: #7fbfbf\">                    </span>         pearson: <span style=\"color: #008080; text-decoration-color: #008080; font-weight: bold\">0.677</span>, spearman: <span style=\"color: #008080; text-decoration-color: #008080; font-weight: bold\">0.574</span>, elapse: <span style=\"color: #008080; text-decoration-color: #008080; font-weight: bold\">89.114</span> s              <span style=\"color: #7f7f7f; text-decoration-color: #7f7f7f\">                       </span>\n",
       "</pre>\n"
      ],
      "text/plain": [
       "\u001b[2;36m[12/07/24 13:15:42]\u001b[0m\u001b[2;36m \u001b[0m\u001b[34mINFO    \u001b[0m \u001b[94mtrain\u001b[0m  - \u001b[1m(\u001b[0mTrain\u001b[1m)\u001b[0m bce:  \u001b[1;36m0.3181\u001b[0m, mse:  \u001b[1;36m0.9156\u001b[0m,  acc: \u001b[1;36m89.590\u001b[0m %,   \u001b]8;id=210340;file:///n/home09/pren/3DGeno_tools/src/gt3d/modules/higashi/Higashi_wrapper.py\u001b\\\u001b[2mHigashi_wrapper.py\u001b[0m\u001b]8;;\u001b\\\u001b[2m:\u001b[0m\u001b]8;id=412297;file:///n/home09/pren/3DGeno_tools/src/gt3d/modules/higashi/Higashi_wrapper.py#1258\u001b\\\u001b[2m1258\u001b[0m\u001b]8;;\u001b\\\n",
       "\u001b[2;36m                    \u001b[0m         pearson: \u001b[1;36m0.677\u001b[0m, spearman: \u001b[1;36m0.574\u001b[0m, elapse: \u001b[1;36m89.114\u001b[0m s              \u001b[2m                       \u001b[0m\n"
      ]
     },
     "metadata": {},
     "output_type": "display_data"
    },
    {
     "data": {
      "application/vnd.jupyter.widget-view+json": {
       "model_id": "ef42dc12319847f9b5ec794ec13ffc1d",
       "version_major": 2,
       "version_minor": 0
      },
      "text/plain": [
       "Output()"
      ]
     },
     "metadata": {},
     "output_type": "display_data"
    },
    {
     "data": {
      "text/html": [
       "<pre style=\"white-space:pre;overflow-x:auto;line-height:normal;font-family:Menlo,'DejaVu Sans Mono',consolas,'Courier New',monospace\"></pre>\n"
      ],
      "text/plain": []
     },
     "metadata": {},
     "output_type": "display_data"
    },
    {
     "data": {
      "text/html": [
       "<pre style=\"white-space:pre;overflow-x:auto;line-height:normal;font-family:Menlo,'DejaVu Sans Mono',consolas,'Courier New',monospace\"><span style=\"color: #7fbfbf; text-decoration-color: #7fbfbf\">                    </span><span style=\"color: #000080; text-decoration-color: #000080\">INFO    </span> <span style=\"color: #0000ff; text-decoration-color: #0000ff\">train</span>  - <span style=\"font-weight: bold\">(</span>Valid<span style=\"font-weight: bold\">)</span> bce:  <span style=\"color: #008080; text-decoration-color: #008080; font-weight: bold\">0.3668</span>,  acc: <span style=\"color: #008080; text-decoration-color: #008080; font-weight: bold\">89.076</span> %,pearson: <span style=\"color: #008080; text-decoration-color: #008080; font-weight: bold\">0.638</span>,  <a href=\"file:///n/home09/pren/3DGeno_tools/src/gt3d/modules/higashi/Higashi_wrapper.py\" target=\"_blank\"><span style=\"color: #7f7f7f; text-decoration-color: #7f7f7f\">Higashi_wrapper.py</span></a><span style=\"color: #7f7f7f; text-decoration-color: #7f7f7f\">:</span><a href=\"file:///n/home09/pren/3DGeno_tools/src/gt3d/modules/higashi/Higashi_wrapper.py#1277\" target=\"_blank\"><span style=\"color: #7f7f7f; text-decoration-color: #7f7f7f\">1277</span></a>\n",
       "<span style=\"color: #7fbfbf; text-decoration-color: #7fbfbf\">                    </span>         spearman: <span style=\"color: #008080; text-decoration-color: #008080; font-weight: bold\">0.559</span>,elapse: <span style=\"color: #008080; text-decoration-color: #008080; font-weight: bold\">0.052</span> s                                <span style=\"color: #7f7f7f; text-decoration-color: #7f7f7f\">                       </span>\n",
       "</pre>\n"
      ],
      "text/plain": [
       "\u001b[2;36m                   \u001b[0m\u001b[2;36m \u001b[0m\u001b[34mINFO    \u001b[0m \u001b[94mtrain\u001b[0m  - \u001b[1m(\u001b[0mValid\u001b[1m)\u001b[0m bce:  \u001b[1;36m0.3668\u001b[0m,  acc: \u001b[1;36m89.076\u001b[0m %,pearson: \u001b[1;36m0.638\u001b[0m,  \u001b]8;id=814401;file:///n/home09/pren/3DGeno_tools/src/gt3d/modules/higashi/Higashi_wrapper.py\u001b\\\u001b[2mHigashi_wrapper.py\u001b[0m\u001b]8;;\u001b\\\u001b[2m:\u001b[0m\u001b]8;id=155876;file:///n/home09/pren/3DGeno_tools/src/gt3d/modules/higashi/Higashi_wrapper.py#1277\u001b\\\u001b[2m1277\u001b[0m\u001b]8;;\u001b\\\n",
       "\u001b[2;36m                    \u001b[0m         spearman: \u001b[1;36m0.559\u001b[0m,elapse: \u001b[1;36m0.052\u001b[0m s                                \u001b[2m                       \u001b[0m\n"
      ]
     },
     "metadata": {},
     "output_type": "display_data"
    },
    {
     "data": {
      "text/html": [
       "<pre style=\"white-space:pre;overflow-x:auto;line-height:normal;font-family:Menlo,'DejaVu Sans Mono',consolas,'Courier New',monospace\"><span style=\"color: #7fbfbf; text-decoration-color: #7fbfbf\">                    </span><span style=\"color: #000080; text-decoration-color: #000080\">INFO    </span> <span style=\"color: #0000ff; text-decoration-color: #0000ff\">train</span> update_rate: <span style=\"color: #008080; text-decoration-color: #008080; font-weight: bold\">0.004408</span>     <span style=\"color: #008080; text-decoration-color: #008080; font-weight: bold\">0.118714</span>                       <a href=\"file:///n/home09/pren/3DGeno_tools/src/gt3d/modules/higashi/Higashi_wrapper.py\" target=\"_blank\"><span style=\"color: #7f7f7f; text-decoration-color: #7f7f7f\">Higashi_wrapper.py</span></a><span style=\"color: #7f7f7f; text-decoration-color: #7f7f7f\">:</span><a href=\"file:///n/home09/pren/3DGeno_tools/src/gt3d/modules/higashi/Higashi_wrapper.py#1323\" target=\"_blank\"><span style=\"color: #7f7f7f; text-decoration-color: #7f7f7f\">1323</span></a>\n",
       "</pre>\n"
      ],
      "text/plain": [
       "\u001b[2;36m                   \u001b[0m\u001b[2;36m \u001b[0m\u001b[34mINFO    \u001b[0m \u001b[94mtrain\u001b[0m update_rate: \u001b[1;36m0.004408\u001b[0m     \u001b[1;36m0.118714\u001b[0m                       \u001b]8;id=56751;file:///n/home09/pren/3DGeno_tools/src/gt3d/modules/higashi/Higashi_wrapper.py\u001b\\\u001b[2mHigashi_wrapper.py\u001b[0m\u001b]8;;\u001b\\\u001b[2m:\u001b[0m\u001b]8;id=14637;file:///n/home09/pren/3DGeno_tools/src/gt3d/modules/higashi/Higashi_wrapper.py#1323\u001b\\\u001b[2m1323\u001b[0m\u001b]8;;\u001b\\\n"
      ]
     },
     "metadata": {},
     "output_type": "display_data"
    },
    {
     "data": {
      "text/html": [
       "<pre style=\"white-space:pre;overflow-x:auto;line-height:normal;font-family:Menlo,'DejaVu Sans Mono',consolas,'Courier New',monospace\"><span style=\"color: #7fbfbf; text-decoration-color: #7fbfbf\">                    </span><span style=\"color: #000080; text-decoration-color: #000080\">INFO    </span> <span style=\"color: #0000ff; text-decoration-color: #0000ff\">train</span> <span style=\"font-weight: bold\">[</span> Epoch <span style=\"color: #008080; text-decoration-color: #008080; font-weight: bold\">34</span> of <span style=\"color: #008080; text-decoration-color: #008080; font-weight: bold\">200</span> <span style=\"font-weight: bold\">]</span>                                      <a href=\"file:///n/home09/pren/3DGeno_tools/src/gt3d/modules/higashi/Higashi_wrapper.py\" target=\"_blank\"><span style=\"color: #7f7f7f; text-decoration-color: #7f7f7f\">Higashi_wrapper.py</span></a><span style=\"color: #7f7f7f; text-decoration-color: #7f7f7f\">:</span><a href=\"file:///n/home09/pren/3DGeno_tools/src/gt3d/modules/higashi/Higashi_wrapper.py#1245\" target=\"_blank\"><span style=\"color: #7f7f7f; text-decoration-color: #7f7f7f\">1245</span></a>\n",
       "</pre>\n"
      ],
      "text/plain": [
       "\u001b[2;36m                   \u001b[0m\u001b[2;36m \u001b[0m\u001b[34mINFO    \u001b[0m \u001b[94mtrain\u001b[0m \u001b[1m[\u001b[0m Epoch \u001b[1;36m34\u001b[0m of \u001b[1;36m200\u001b[0m \u001b[1m]\u001b[0m                                      \u001b]8;id=384701;file:///n/home09/pren/3DGeno_tools/src/gt3d/modules/higashi/Higashi_wrapper.py\u001b\\\u001b[2mHigashi_wrapper.py\u001b[0m\u001b]8;;\u001b\\\u001b[2m:\u001b[0m\u001b]8;id=848312;file:///n/home09/pren/3DGeno_tools/src/gt3d/modules/higashi/Higashi_wrapper.py#1245\u001b\\\u001b[2m1245\u001b[0m\u001b]8;;\u001b\\\n"
      ]
     },
     "metadata": {},
     "output_type": "display_data"
    },
    {
     "data": {
      "application/vnd.jupyter.widget-view+json": {
       "model_id": "447c5f52dcc44af3b76317aacfa81a0e",
       "version_major": 2,
       "version_minor": 0
      },
      "text/plain": [
       "Output()"
      ]
     },
     "metadata": {},
     "output_type": "display_data"
    },
    {
     "data": {
      "text/html": [
       "<pre style=\"white-space:pre;overflow-x:auto;line-height:normal;font-family:Menlo,'DejaVu Sans Mono',consolas,'Courier New',monospace\"></pre>\n"
      ],
      "text/plain": []
     },
     "metadata": {},
     "output_type": "display_data"
    },
    {
     "data": {
      "text/html": [
       "<pre style=\"white-space:pre;overflow-x:auto;line-height:normal;font-family:Menlo,'DejaVu Sans Mono',consolas,'Courier New',monospace\"><span style=\"color: #7fbfbf; text-decoration-color: #7fbfbf\">[12/07/24 13:17:11] </span><span style=\"color: #000080; text-decoration-color: #000080\">INFO    </span> <span style=\"color: #0000ff; text-decoration-color: #0000ff\">train</span>  - <span style=\"font-weight: bold\">(</span>Train<span style=\"font-weight: bold\">)</span> bce:  <span style=\"color: #008080; text-decoration-color: #008080; font-weight: bold\">0.3178</span>, mse:  <span style=\"color: #008080; text-decoration-color: #008080; font-weight: bold\">1.5635</span>,  acc: <span style=\"color: #008080; text-decoration-color: #008080; font-weight: bold\">89.562</span> %,   <a href=\"file:///n/home09/pren/3DGeno_tools/src/gt3d/modules/higashi/Higashi_wrapper.py\" target=\"_blank\"><span style=\"color: #7f7f7f; text-decoration-color: #7f7f7f\">Higashi_wrapper.py</span></a><span style=\"color: #7f7f7f; text-decoration-color: #7f7f7f\">:</span><a href=\"file:///n/home09/pren/3DGeno_tools/src/gt3d/modules/higashi/Higashi_wrapper.py#1258\" target=\"_blank\"><span style=\"color: #7f7f7f; text-decoration-color: #7f7f7f\">1258</span></a>\n",
       "<span style=\"color: #7fbfbf; text-decoration-color: #7fbfbf\">                    </span>         pearson: <span style=\"color: #008080; text-decoration-color: #008080; font-weight: bold\">0.676</span>, spearman: <span style=\"color: #008080; text-decoration-color: #008080; font-weight: bold\">0.574</span>, elapse: <span style=\"color: #008080; text-decoration-color: #008080; font-weight: bold\">89.378</span> s              <span style=\"color: #7f7f7f; text-decoration-color: #7f7f7f\">                       </span>\n",
       "</pre>\n"
      ],
      "text/plain": [
       "\u001b[2;36m[12/07/24 13:17:11]\u001b[0m\u001b[2;36m \u001b[0m\u001b[34mINFO    \u001b[0m \u001b[94mtrain\u001b[0m  - \u001b[1m(\u001b[0mTrain\u001b[1m)\u001b[0m bce:  \u001b[1;36m0.3178\u001b[0m, mse:  \u001b[1;36m1.5635\u001b[0m,  acc: \u001b[1;36m89.562\u001b[0m %,   \u001b]8;id=230359;file:///n/home09/pren/3DGeno_tools/src/gt3d/modules/higashi/Higashi_wrapper.py\u001b\\\u001b[2mHigashi_wrapper.py\u001b[0m\u001b]8;;\u001b\\\u001b[2m:\u001b[0m\u001b]8;id=784693;file:///n/home09/pren/3DGeno_tools/src/gt3d/modules/higashi/Higashi_wrapper.py#1258\u001b\\\u001b[2m1258\u001b[0m\u001b]8;;\u001b\\\n",
       "\u001b[2;36m                    \u001b[0m         pearson: \u001b[1;36m0.676\u001b[0m, spearman: \u001b[1;36m0.574\u001b[0m, elapse: \u001b[1;36m89.378\u001b[0m s              \u001b[2m                       \u001b[0m\n"
      ]
     },
     "metadata": {},
     "output_type": "display_data"
    },
    {
     "data": {
      "application/vnd.jupyter.widget-view+json": {
       "model_id": "976c28f5373a48d5bf2240207bc580d3",
       "version_major": 2,
       "version_minor": 0
      },
      "text/plain": [
       "Output()"
      ]
     },
     "metadata": {},
     "output_type": "display_data"
    },
    {
     "data": {
      "text/html": [
       "<pre style=\"white-space:pre;overflow-x:auto;line-height:normal;font-family:Menlo,'DejaVu Sans Mono',consolas,'Courier New',monospace\"></pre>\n"
      ],
      "text/plain": []
     },
     "metadata": {},
     "output_type": "display_data"
    },
    {
     "data": {
      "text/html": [
       "<pre style=\"white-space:pre;overflow-x:auto;line-height:normal;font-family:Menlo,'DejaVu Sans Mono',consolas,'Courier New',monospace\"><span style=\"color: #7fbfbf; text-decoration-color: #7fbfbf\">[12/07/24 13:17:12] </span><span style=\"color: #000080; text-decoration-color: #000080\">INFO    </span> <span style=\"color: #0000ff; text-decoration-color: #0000ff\">train</span>  - <span style=\"font-weight: bold\">(</span>Valid<span style=\"font-weight: bold\">)</span> bce:  <span style=\"color: #008080; text-decoration-color: #008080; font-weight: bold\">0.3729</span>,  acc: <span style=\"color: #008080; text-decoration-color: #008080; font-weight: bold\">88.828</span> %,pearson: <span style=\"color: #008080; text-decoration-color: #008080; font-weight: bold\">0.618</span>,  <a href=\"file:///n/home09/pren/3DGeno_tools/src/gt3d/modules/higashi/Higashi_wrapper.py\" target=\"_blank\"><span style=\"color: #7f7f7f; text-decoration-color: #7f7f7f\">Higashi_wrapper.py</span></a><span style=\"color: #7f7f7f; text-decoration-color: #7f7f7f\">:</span><a href=\"file:///n/home09/pren/3DGeno_tools/src/gt3d/modules/higashi/Higashi_wrapper.py#1277\" target=\"_blank\"><span style=\"color: #7f7f7f; text-decoration-color: #7f7f7f\">1277</span></a>\n",
       "<span style=\"color: #7fbfbf; text-decoration-color: #7fbfbf\">                    </span>         spearman: <span style=\"color: #008080; text-decoration-color: #008080; font-weight: bold\">0.548</span>,elapse: <span style=\"color: #008080; text-decoration-color: #008080; font-weight: bold\">0.051</span> s                                <span style=\"color: #7f7f7f; text-decoration-color: #7f7f7f\">                       </span>\n",
       "</pre>\n"
      ],
      "text/plain": [
       "\u001b[2;36m[12/07/24 13:17:12]\u001b[0m\u001b[2;36m \u001b[0m\u001b[34mINFO    \u001b[0m \u001b[94mtrain\u001b[0m  - \u001b[1m(\u001b[0mValid\u001b[1m)\u001b[0m bce:  \u001b[1;36m0.3729\u001b[0m,  acc: \u001b[1;36m88.828\u001b[0m %,pearson: \u001b[1;36m0.618\u001b[0m,  \u001b]8;id=234646;file:///n/home09/pren/3DGeno_tools/src/gt3d/modules/higashi/Higashi_wrapper.py\u001b\\\u001b[2mHigashi_wrapper.py\u001b[0m\u001b]8;;\u001b\\\u001b[2m:\u001b[0m\u001b]8;id=884476;file:///n/home09/pren/3DGeno_tools/src/gt3d/modules/higashi/Higashi_wrapper.py#1277\u001b\\\u001b[2m1277\u001b[0m\u001b]8;;\u001b\\\n",
       "\u001b[2;36m                    \u001b[0m         spearman: \u001b[1;36m0.548\u001b[0m,elapse: \u001b[1;36m0.051\u001b[0m s                                \u001b[2m                       \u001b[0m\n"
      ]
     },
     "metadata": {},
     "output_type": "display_data"
    },
    {
     "data": {
      "text/html": [
       "<pre style=\"white-space:pre;overflow-x:auto;line-height:normal;font-family:Menlo,'DejaVu Sans Mono',consolas,'Courier New',monospace\"><span style=\"color: #7fbfbf; text-decoration-color: #7fbfbf\">                    </span><span style=\"color: #000080; text-decoration-color: #000080\">INFO    </span> <span style=\"color: #0000ff; text-decoration-color: #0000ff\">train</span> update_rate: <span style=\"color: #008080; text-decoration-color: #008080; font-weight: bold\">0.003424</span>     <span style=\"color: #008080; text-decoration-color: #008080; font-weight: bold\">0.175294</span>                       <a href=\"file:///n/home09/pren/3DGeno_tools/src/gt3d/modules/higashi/Higashi_wrapper.py\" target=\"_blank\"><span style=\"color: #7f7f7f; text-decoration-color: #7f7f7f\">Higashi_wrapper.py</span></a><span style=\"color: #7f7f7f; text-decoration-color: #7f7f7f\">:</span><a href=\"file:///n/home09/pren/3DGeno_tools/src/gt3d/modules/higashi/Higashi_wrapper.py#1323\" target=\"_blank\"><span style=\"color: #7f7f7f; text-decoration-color: #7f7f7f\">1323</span></a>\n",
       "</pre>\n"
      ],
      "text/plain": [
       "\u001b[2;36m                   \u001b[0m\u001b[2;36m \u001b[0m\u001b[34mINFO    \u001b[0m \u001b[94mtrain\u001b[0m update_rate: \u001b[1;36m0.003424\u001b[0m     \u001b[1;36m0.175294\u001b[0m                       \u001b]8;id=639078;file:///n/home09/pren/3DGeno_tools/src/gt3d/modules/higashi/Higashi_wrapper.py\u001b\\\u001b[2mHigashi_wrapper.py\u001b[0m\u001b]8;;\u001b\\\u001b[2m:\u001b[0m\u001b]8;id=692112;file:///n/home09/pren/3DGeno_tools/src/gt3d/modules/higashi/Higashi_wrapper.py#1323\u001b\\\u001b[2m1323\u001b[0m\u001b]8;;\u001b\\\n"
      ]
     },
     "metadata": {},
     "output_type": "display_data"
    },
    {
     "data": {
      "text/html": [
       "<pre style=\"white-space:pre;overflow-x:auto;line-height:normal;font-family:Menlo,'DejaVu Sans Mono',consolas,'Courier New',monospace\"><span style=\"color: #7fbfbf; text-decoration-color: #7fbfbf\">                    </span><span style=\"color: #000080; text-decoration-color: #000080\">INFO    </span> <span style=\"color: #0000ff; text-decoration-color: #0000ff\">train</span> <span style=\"font-weight: bold\">[</span> Epoch <span style=\"color: #008080; text-decoration-color: #008080; font-weight: bold\">35</span> of <span style=\"color: #008080; text-decoration-color: #008080; font-weight: bold\">200</span> <span style=\"font-weight: bold\">]</span>                                      <a href=\"file:///n/home09/pren/3DGeno_tools/src/gt3d/modules/higashi/Higashi_wrapper.py\" target=\"_blank\"><span style=\"color: #7f7f7f; text-decoration-color: #7f7f7f\">Higashi_wrapper.py</span></a><span style=\"color: #7f7f7f; text-decoration-color: #7f7f7f\">:</span><a href=\"file:///n/home09/pren/3DGeno_tools/src/gt3d/modules/higashi/Higashi_wrapper.py#1245\" target=\"_blank\"><span style=\"color: #7f7f7f; text-decoration-color: #7f7f7f\">1245</span></a>\n",
       "</pre>\n"
      ],
      "text/plain": [
       "\u001b[2;36m                   \u001b[0m\u001b[2;36m \u001b[0m\u001b[34mINFO    \u001b[0m \u001b[94mtrain\u001b[0m \u001b[1m[\u001b[0m Epoch \u001b[1;36m35\u001b[0m of \u001b[1;36m200\u001b[0m \u001b[1m]\u001b[0m                                      \u001b]8;id=536324;file:///n/home09/pren/3DGeno_tools/src/gt3d/modules/higashi/Higashi_wrapper.py\u001b\\\u001b[2mHigashi_wrapper.py\u001b[0m\u001b]8;;\u001b\\\u001b[2m:\u001b[0m\u001b]8;id=174000;file:///n/home09/pren/3DGeno_tools/src/gt3d/modules/higashi/Higashi_wrapper.py#1245\u001b\\\u001b[2m1245\u001b[0m\u001b]8;;\u001b\\\n"
      ]
     },
     "metadata": {},
     "output_type": "display_data"
    },
    {
     "data": {
      "application/vnd.jupyter.widget-view+json": {
       "model_id": "93b0c23d341e42418f99d8dec17cf9ed",
       "version_major": 2,
       "version_minor": 0
      },
      "text/plain": [
       "Output()"
      ]
     },
     "metadata": {},
     "output_type": "display_data"
    },
    {
     "data": {
      "text/html": [
       "<pre style=\"white-space:pre;overflow-x:auto;line-height:normal;font-family:Menlo,'DejaVu Sans Mono',consolas,'Courier New',monospace\"></pre>\n"
      ],
      "text/plain": []
     },
     "metadata": {},
     "output_type": "display_data"
    },
    {
     "data": {
      "text/html": [
       "<pre style=\"white-space:pre;overflow-x:auto;line-height:normal;font-family:Menlo,'DejaVu Sans Mono',consolas,'Courier New',monospace\"><span style=\"color: #7fbfbf; text-decoration-color: #7fbfbf\">[12/07/24 13:18:41] </span><span style=\"color: #000080; text-decoration-color: #000080\">INFO    </span> <span style=\"color: #0000ff; text-decoration-color: #0000ff\">train</span>  - <span style=\"font-weight: bold\">(</span>Train<span style=\"font-weight: bold\">)</span> bce:  <span style=\"color: #008080; text-decoration-color: #008080; font-weight: bold\">0.3168</span>, mse:  <span style=\"color: #008080; text-decoration-color: #008080; font-weight: bold\">1.9024</span>,  acc: <span style=\"color: #008080; text-decoration-color: #008080; font-weight: bold\">89.712</span> %,   <a href=\"file:///n/home09/pren/3DGeno_tools/src/gt3d/modules/higashi/Higashi_wrapper.py\" target=\"_blank\"><span style=\"color: #7f7f7f; text-decoration-color: #7f7f7f\">Higashi_wrapper.py</span></a><span style=\"color: #7f7f7f; text-decoration-color: #7f7f7f\">:</span><a href=\"file:///n/home09/pren/3DGeno_tools/src/gt3d/modules/higashi/Higashi_wrapper.py#1258\" target=\"_blank\"><span style=\"color: #7f7f7f; text-decoration-color: #7f7f7f\">1258</span></a>\n",
       "<span style=\"color: #7fbfbf; text-decoration-color: #7fbfbf\">                    </span>         pearson: <span style=\"color: #008080; text-decoration-color: #008080; font-weight: bold\">0.680</span>, spearman: <span style=\"color: #008080; text-decoration-color: #008080; font-weight: bold\">0.576</span>, elapse: <span style=\"color: #008080; text-decoration-color: #008080; font-weight: bold\">89.176</span> s              <span style=\"color: #7f7f7f; text-decoration-color: #7f7f7f\">                       </span>\n",
       "</pre>\n"
      ],
      "text/plain": [
       "\u001b[2;36m[12/07/24 13:18:41]\u001b[0m\u001b[2;36m \u001b[0m\u001b[34mINFO    \u001b[0m \u001b[94mtrain\u001b[0m  - \u001b[1m(\u001b[0mTrain\u001b[1m)\u001b[0m bce:  \u001b[1;36m0.3168\u001b[0m, mse:  \u001b[1;36m1.9024\u001b[0m,  acc: \u001b[1;36m89.712\u001b[0m %,   \u001b]8;id=266571;file:///n/home09/pren/3DGeno_tools/src/gt3d/modules/higashi/Higashi_wrapper.py\u001b\\\u001b[2mHigashi_wrapper.py\u001b[0m\u001b]8;;\u001b\\\u001b[2m:\u001b[0m\u001b]8;id=483146;file:///n/home09/pren/3DGeno_tools/src/gt3d/modules/higashi/Higashi_wrapper.py#1258\u001b\\\u001b[2m1258\u001b[0m\u001b]8;;\u001b\\\n",
       "\u001b[2;36m                    \u001b[0m         pearson: \u001b[1;36m0.680\u001b[0m, spearman: \u001b[1;36m0.576\u001b[0m, elapse: \u001b[1;36m89.176\u001b[0m s              \u001b[2m                       \u001b[0m\n"
      ]
     },
     "metadata": {},
     "output_type": "display_data"
    },
    {
     "data": {
      "application/vnd.jupyter.widget-view+json": {
       "model_id": "de31866199834fbd8962e5a16df319d1",
       "version_major": 2,
       "version_minor": 0
      },
      "text/plain": [
       "Output()"
      ]
     },
     "metadata": {},
     "output_type": "display_data"
    },
    {
     "data": {
      "text/html": [
       "<pre style=\"white-space:pre;overflow-x:auto;line-height:normal;font-family:Menlo,'DejaVu Sans Mono',consolas,'Courier New',monospace\"></pre>\n"
      ],
      "text/plain": []
     },
     "metadata": {},
     "output_type": "display_data"
    },
    {
     "data": {
      "text/html": [
       "<pre style=\"white-space:pre;overflow-x:auto;line-height:normal;font-family:Menlo,'DejaVu Sans Mono',consolas,'Courier New',monospace\"><span style=\"color: #7fbfbf; text-decoration-color: #7fbfbf\">                    </span><span style=\"color: #000080; text-decoration-color: #000080\">INFO    </span> <span style=\"color: #0000ff; text-decoration-color: #0000ff\">train</span>  - <span style=\"font-weight: bold\">(</span>Valid<span style=\"font-weight: bold\">)</span> bce:  <span style=\"color: #008080; text-decoration-color: #008080; font-weight: bold\">0.3635</span>,  acc: <span style=\"color: #008080; text-decoration-color: #008080; font-weight: bold\">88.932</span> %,pearson: <span style=\"color: #008080; text-decoration-color: #008080; font-weight: bold\">0.642</span>,  <a href=\"file:///n/home09/pren/3DGeno_tools/src/gt3d/modules/higashi/Higashi_wrapper.py\" target=\"_blank\"><span style=\"color: #7f7f7f; text-decoration-color: #7f7f7f\">Higashi_wrapper.py</span></a><span style=\"color: #7f7f7f; text-decoration-color: #7f7f7f\">:</span><a href=\"file:///n/home09/pren/3DGeno_tools/src/gt3d/modules/higashi/Higashi_wrapper.py#1277\" target=\"_blank\"><span style=\"color: #7f7f7f; text-decoration-color: #7f7f7f\">1277</span></a>\n",
       "<span style=\"color: #7fbfbf; text-decoration-color: #7fbfbf\">                    </span>         spearman: <span style=\"color: #008080; text-decoration-color: #008080; font-weight: bold\">0.559</span>,elapse: <span style=\"color: #008080; text-decoration-color: #008080; font-weight: bold\">0.051</span> s                                <span style=\"color: #7f7f7f; text-decoration-color: #7f7f7f\">                       </span>\n",
       "</pre>\n"
      ],
      "text/plain": [
       "\u001b[2;36m                   \u001b[0m\u001b[2;36m \u001b[0m\u001b[34mINFO    \u001b[0m \u001b[94mtrain\u001b[0m  - \u001b[1m(\u001b[0mValid\u001b[1m)\u001b[0m bce:  \u001b[1;36m0.3635\u001b[0m,  acc: \u001b[1;36m88.932\u001b[0m %,pearson: \u001b[1;36m0.642\u001b[0m,  \u001b]8;id=411656;file:///n/home09/pren/3DGeno_tools/src/gt3d/modules/higashi/Higashi_wrapper.py\u001b\\\u001b[2mHigashi_wrapper.py\u001b[0m\u001b]8;;\u001b\\\u001b[2m:\u001b[0m\u001b]8;id=469118;file:///n/home09/pren/3DGeno_tools/src/gt3d/modules/higashi/Higashi_wrapper.py#1277\u001b\\\u001b[2m1277\u001b[0m\u001b]8;;\u001b\\\n",
       "\u001b[2;36m                    \u001b[0m         spearman: \u001b[1;36m0.559\u001b[0m,elapse: \u001b[1;36m0.051\u001b[0m s                                \u001b[2m                       \u001b[0m\n"
      ]
     },
     "metadata": {},
     "output_type": "display_data"
    },
    {
     "data": {
      "text/html": [
       "<pre style=\"white-space:pre;overflow-x:auto;line-height:normal;font-family:Menlo,'DejaVu Sans Mono',consolas,'Courier New',monospace\"><span style=\"color: #7fbfbf; text-decoration-color: #7fbfbf\">                    </span><span style=\"color: #000080; text-decoration-color: #000080\">INFO    </span> <span style=\"color: #0000ff; text-decoration-color: #0000ff\">train</span> update_rate: <span style=\"color: #008080; text-decoration-color: #008080; font-weight: bold\">0.003884</span>     <span style=\"color: #008080; text-decoration-color: #008080; font-weight: bold\">0.959292</span>                       <a href=\"file:///n/home09/pren/3DGeno_tools/src/gt3d/modules/higashi/Higashi_wrapper.py\" target=\"_blank\"><span style=\"color: #7f7f7f; text-decoration-color: #7f7f7f\">Higashi_wrapper.py</span></a><span style=\"color: #7f7f7f; text-decoration-color: #7f7f7f\">:</span><a href=\"file:///n/home09/pren/3DGeno_tools/src/gt3d/modules/higashi/Higashi_wrapper.py#1323\" target=\"_blank\"><span style=\"color: #7f7f7f; text-decoration-color: #7f7f7f\">1323</span></a>\n",
       "</pre>\n"
      ],
      "text/plain": [
       "\u001b[2;36m                   \u001b[0m\u001b[2;36m \u001b[0m\u001b[34mINFO    \u001b[0m \u001b[94mtrain\u001b[0m update_rate: \u001b[1;36m0.003884\u001b[0m     \u001b[1;36m0.959292\u001b[0m                       \u001b]8;id=251957;file:///n/home09/pren/3DGeno_tools/src/gt3d/modules/higashi/Higashi_wrapper.py\u001b\\\u001b[2mHigashi_wrapper.py\u001b[0m\u001b]8;;\u001b\\\u001b[2m:\u001b[0m\u001b]8;id=785121;file:///n/home09/pren/3DGeno_tools/src/gt3d/modules/higashi/Higashi_wrapper.py#1323\u001b\\\u001b[2m1323\u001b[0m\u001b]8;;\u001b\\\n"
      ]
     },
     "metadata": {},
     "output_type": "display_data"
    },
    {
     "data": {
      "text/html": [
       "<pre style=\"white-space:pre;overflow-x:auto;line-height:normal;font-family:Menlo,'DejaVu Sans Mono',consolas,'Courier New',monospace\"><span style=\"color: #7fbfbf; text-decoration-color: #7fbfbf\">                    </span><span style=\"color: #000080; text-decoration-color: #000080\">INFO    </span> <span style=\"color: #0000ff; text-decoration-color: #0000ff\">train</span> <span style=\"font-weight: bold\">[</span> Epoch <span style=\"color: #008080; text-decoration-color: #008080; font-weight: bold\">36</span> of <span style=\"color: #008080; text-decoration-color: #008080; font-weight: bold\">200</span> <span style=\"font-weight: bold\">]</span>                                      <a href=\"file:///n/home09/pren/3DGeno_tools/src/gt3d/modules/higashi/Higashi_wrapper.py\" target=\"_blank\"><span style=\"color: #7f7f7f; text-decoration-color: #7f7f7f\">Higashi_wrapper.py</span></a><span style=\"color: #7f7f7f; text-decoration-color: #7f7f7f\">:</span><a href=\"file:///n/home09/pren/3DGeno_tools/src/gt3d/modules/higashi/Higashi_wrapper.py#1245\" target=\"_blank\"><span style=\"color: #7f7f7f; text-decoration-color: #7f7f7f\">1245</span></a>\n",
       "</pre>\n"
      ],
      "text/plain": [
       "\u001b[2;36m                   \u001b[0m\u001b[2;36m \u001b[0m\u001b[34mINFO    \u001b[0m \u001b[94mtrain\u001b[0m \u001b[1m[\u001b[0m Epoch \u001b[1;36m36\u001b[0m of \u001b[1;36m200\u001b[0m \u001b[1m]\u001b[0m                                      \u001b]8;id=214751;file:///n/home09/pren/3DGeno_tools/src/gt3d/modules/higashi/Higashi_wrapper.py\u001b\\\u001b[2mHigashi_wrapper.py\u001b[0m\u001b]8;;\u001b\\\u001b[2m:\u001b[0m\u001b]8;id=482983;file:///n/home09/pren/3DGeno_tools/src/gt3d/modules/higashi/Higashi_wrapper.py#1245\u001b\\\u001b[2m1245\u001b[0m\u001b]8;;\u001b\\\n"
      ]
     },
     "metadata": {},
     "output_type": "display_data"
    },
    {
     "data": {
      "application/vnd.jupyter.widget-view+json": {
       "model_id": "e3f729517f354a8991739774df29c8f7",
       "version_major": 2,
       "version_minor": 0
      },
      "text/plain": [
       "Output()"
      ]
     },
     "metadata": {},
     "output_type": "display_data"
    },
    {
     "data": {
      "text/html": [
       "<pre style=\"white-space:pre;overflow-x:auto;line-height:normal;font-family:Menlo,'DejaVu Sans Mono',consolas,'Courier New',monospace\"></pre>\n"
      ],
      "text/plain": []
     },
     "metadata": {},
     "output_type": "display_data"
    },
    {
     "data": {
      "text/html": [
       "<pre style=\"white-space:pre;overflow-x:auto;line-height:normal;font-family:Menlo,'DejaVu Sans Mono',consolas,'Courier New',monospace\"><span style=\"color: #7fbfbf; text-decoration-color: #7fbfbf\">[12/07/24 13:20:10] </span><span style=\"color: #000080; text-decoration-color: #000080\">INFO    </span> <span style=\"color: #0000ff; text-decoration-color: #0000ff\">train</span>  - <span style=\"font-weight: bold\">(</span>Train<span style=\"font-weight: bold\">)</span> bce:  <span style=\"color: #008080; text-decoration-color: #008080; font-weight: bold\">0.3164</span>, mse:  <span style=\"color: #008080; text-decoration-color: #008080; font-weight: bold\">0.8729</span>,  acc: <span style=\"color: #008080; text-decoration-color: #008080; font-weight: bold\">89.607</span> %,   <a href=\"file:///n/home09/pren/3DGeno_tools/src/gt3d/modules/higashi/Higashi_wrapper.py\" target=\"_blank\"><span style=\"color: #7f7f7f; text-decoration-color: #7f7f7f\">Higashi_wrapper.py</span></a><span style=\"color: #7f7f7f; text-decoration-color: #7f7f7f\">:</span><a href=\"file:///n/home09/pren/3DGeno_tools/src/gt3d/modules/higashi/Higashi_wrapper.py#1258\" target=\"_blank\"><span style=\"color: #7f7f7f; text-decoration-color: #7f7f7f\">1258</span></a>\n",
       "<span style=\"color: #7fbfbf; text-decoration-color: #7fbfbf\">                    </span>         pearson: <span style=\"color: #008080; text-decoration-color: #008080; font-weight: bold\">0.678</span>, spearman: <span style=\"color: #008080; text-decoration-color: #008080; font-weight: bold\">0.575</span>, elapse: <span style=\"color: #008080; text-decoration-color: #008080; font-weight: bold\">89.437</span> s              <span style=\"color: #7f7f7f; text-decoration-color: #7f7f7f\">                       </span>\n",
       "</pre>\n"
      ],
      "text/plain": [
       "\u001b[2;36m[12/07/24 13:20:10]\u001b[0m\u001b[2;36m \u001b[0m\u001b[34mINFO    \u001b[0m \u001b[94mtrain\u001b[0m  - \u001b[1m(\u001b[0mTrain\u001b[1m)\u001b[0m bce:  \u001b[1;36m0.3164\u001b[0m, mse:  \u001b[1;36m0.8729\u001b[0m,  acc: \u001b[1;36m89.607\u001b[0m %,   \u001b]8;id=853871;file:///n/home09/pren/3DGeno_tools/src/gt3d/modules/higashi/Higashi_wrapper.py\u001b\\\u001b[2mHigashi_wrapper.py\u001b[0m\u001b]8;;\u001b\\\u001b[2m:\u001b[0m\u001b]8;id=875275;file:///n/home09/pren/3DGeno_tools/src/gt3d/modules/higashi/Higashi_wrapper.py#1258\u001b\\\u001b[2m1258\u001b[0m\u001b]8;;\u001b\\\n",
       "\u001b[2;36m                    \u001b[0m         pearson: \u001b[1;36m0.678\u001b[0m, spearman: \u001b[1;36m0.575\u001b[0m, elapse: \u001b[1;36m89.437\u001b[0m s              \u001b[2m                       \u001b[0m\n"
      ]
     },
     "metadata": {},
     "output_type": "display_data"
    },
    {
     "data": {
      "application/vnd.jupyter.widget-view+json": {
       "model_id": "3d37cc9cc4904550a89b3e2447298a9f",
       "version_major": 2,
       "version_minor": 0
      },
      "text/plain": [
       "Output()"
      ]
     },
     "metadata": {},
     "output_type": "display_data"
    },
    {
     "data": {
      "text/html": [
       "<pre style=\"white-space:pre;overflow-x:auto;line-height:normal;font-family:Menlo,'DejaVu Sans Mono',consolas,'Courier New',monospace\"></pre>\n"
      ],
      "text/plain": []
     },
     "metadata": {},
     "output_type": "display_data"
    },
    {
     "data": {
      "text/html": [
       "<pre style=\"white-space:pre;overflow-x:auto;line-height:normal;font-family:Menlo,'DejaVu Sans Mono',consolas,'Courier New',monospace\"><span style=\"color: #7fbfbf; text-decoration-color: #7fbfbf\">                    </span><span style=\"color: #000080; text-decoration-color: #000080\">INFO    </span> <span style=\"color: #0000ff; text-decoration-color: #0000ff\">train</span>  - <span style=\"font-weight: bold\">(</span>Valid<span style=\"font-weight: bold\">)</span> bce:  <span style=\"color: #008080; text-decoration-color: #008080; font-weight: bold\">0.3635</span>,  acc: <span style=\"color: #008080; text-decoration-color: #008080; font-weight: bold\">89.564</span> %,pearson: <span style=\"color: #008080; text-decoration-color: #008080; font-weight: bold\">0.646</span>,  <a href=\"file:///n/home09/pren/3DGeno_tools/src/gt3d/modules/higashi/Higashi_wrapper.py\" target=\"_blank\"><span style=\"color: #7f7f7f; text-decoration-color: #7f7f7f\">Higashi_wrapper.py</span></a><span style=\"color: #7f7f7f; text-decoration-color: #7f7f7f\">:</span><a href=\"file:///n/home09/pren/3DGeno_tools/src/gt3d/modules/higashi/Higashi_wrapper.py#1277\" target=\"_blank\"><span style=\"color: #7f7f7f; text-decoration-color: #7f7f7f\">1277</span></a>\n",
       "<span style=\"color: #7fbfbf; text-decoration-color: #7fbfbf\">                    </span>         spearman: <span style=\"color: #008080; text-decoration-color: #008080; font-weight: bold\">0.564</span>,elapse: <span style=\"color: #008080; text-decoration-color: #008080; font-weight: bold\">0.052</span> s                                <span style=\"color: #7f7f7f; text-decoration-color: #7f7f7f\">                       </span>\n",
       "</pre>\n"
      ],
      "text/plain": [
       "\u001b[2;36m                   \u001b[0m\u001b[2;36m \u001b[0m\u001b[34mINFO    \u001b[0m \u001b[94mtrain\u001b[0m  - \u001b[1m(\u001b[0mValid\u001b[1m)\u001b[0m bce:  \u001b[1;36m0.3635\u001b[0m,  acc: \u001b[1;36m89.564\u001b[0m %,pearson: \u001b[1;36m0.646\u001b[0m,  \u001b]8;id=528186;file:///n/home09/pren/3DGeno_tools/src/gt3d/modules/higashi/Higashi_wrapper.py\u001b\\\u001b[2mHigashi_wrapper.py\u001b[0m\u001b]8;;\u001b\\\u001b[2m:\u001b[0m\u001b]8;id=795945;file:///n/home09/pren/3DGeno_tools/src/gt3d/modules/higashi/Higashi_wrapper.py#1277\u001b\\\u001b[2m1277\u001b[0m\u001b]8;;\u001b\\\n",
       "\u001b[2;36m                    \u001b[0m         spearman: \u001b[1;36m0.564\u001b[0m,elapse: \u001b[1;36m0.052\u001b[0m s                                \u001b[2m                       \u001b[0m\n"
      ]
     },
     "metadata": {},
     "output_type": "display_data"
    },
    {
     "data": {
      "text/html": [
       "<pre style=\"white-space:pre;overflow-x:auto;line-height:normal;font-family:Menlo,'DejaVu Sans Mono',consolas,'Courier New',monospace\"><span style=\"color: #7fbfbf; text-decoration-color: #7fbfbf\">                    </span><span style=\"color: #000080; text-decoration-color: #000080\">INFO    </span> <span style=\"color: #0000ff; text-decoration-color: #0000ff\">train</span> update_rate: <span style=\"color: #008080; text-decoration-color: #008080; font-weight: bold\">0.004394</span>     <span style=\"color: #008080; text-decoration-color: #008080; font-weight: bold\">0.125958</span>                       <a href=\"file:///n/home09/pren/3DGeno_tools/src/gt3d/modules/higashi/Higashi_wrapper.py\" target=\"_blank\"><span style=\"color: #7f7f7f; text-decoration-color: #7f7f7f\">Higashi_wrapper.py</span></a><span style=\"color: #7f7f7f; text-decoration-color: #7f7f7f\">:</span><a href=\"file:///n/home09/pren/3DGeno_tools/src/gt3d/modules/higashi/Higashi_wrapper.py#1323\" target=\"_blank\"><span style=\"color: #7f7f7f; text-decoration-color: #7f7f7f\">1323</span></a>\n",
       "</pre>\n"
      ],
      "text/plain": [
       "\u001b[2;36m                   \u001b[0m\u001b[2;36m \u001b[0m\u001b[34mINFO    \u001b[0m \u001b[94mtrain\u001b[0m update_rate: \u001b[1;36m0.004394\u001b[0m     \u001b[1;36m0.125958\u001b[0m                       \u001b]8;id=496269;file:///n/home09/pren/3DGeno_tools/src/gt3d/modules/higashi/Higashi_wrapper.py\u001b\\\u001b[2mHigashi_wrapper.py\u001b[0m\u001b]8;;\u001b\\\u001b[2m:\u001b[0m\u001b]8;id=694065;file:///n/home09/pren/3DGeno_tools/src/gt3d/modules/higashi/Higashi_wrapper.py#1323\u001b\\\u001b[2m1323\u001b[0m\u001b]8;;\u001b\\\n"
      ]
     },
     "metadata": {},
     "output_type": "display_data"
    },
    {
     "data": {
      "text/html": [
       "<pre style=\"white-space:pre;overflow-x:auto;line-height:normal;font-family:Menlo,'DejaVu Sans Mono',consolas,'Courier New',monospace\"><span style=\"color: #7fbfbf; text-decoration-color: #7fbfbf\">[12/07/24 13:20:11] </span><span style=\"color: #000080; text-decoration-color: #000080\">INFO    </span> <span style=\"color: #0000ff; text-decoration-color: #0000ff\">train</span> <span style=\"font-weight: bold\">[</span> Epoch <span style=\"color: #008080; text-decoration-color: #008080; font-weight: bold\">37</span> of <span style=\"color: #008080; text-decoration-color: #008080; font-weight: bold\">200</span> <span style=\"font-weight: bold\">]</span>                                      <a href=\"file:///n/home09/pren/3DGeno_tools/src/gt3d/modules/higashi/Higashi_wrapper.py\" target=\"_blank\"><span style=\"color: #7f7f7f; text-decoration-color: #7f7f7f\">Higashi_wrapper.py</span></a><span style=\"color: #7f7f7f; text-decoration-color: #7f7f7f\">:</span><a href=\"file:///n/home09/pren/3DGeno_tools/src/gt3d/modules/higashi/Higashi_wrapper.py#1245\" target=\"_blank\"><span style=\"color: #7f7f7f; text-decoration-color: #7f7f7f\">1245</span></a>\n",
       "</pre>\n"
      ],
      "text/plain": [
       "\u001b[2;36m[12/07/24 13:20:11]\u001b[0m\u001b[2;36m \u001b[0m\u001b[34mINFO    \u001b[0m \u001b[94mtrain\u001b[0m \u001b[1m[\u001b[0m Epoch \u001b[1;36m37\u001b[0m of \u001b[1;36m200\u001b[0m \u001b[1m]\u001b[0m                                      \u001b]8;id=191644;file:///n/home09/pren/3DGeno_tools/src/gt3d/modules/higashi/Higashi_wrapper.py\u001b\\\u001b[2mHigashi_wrapper.py\u001b[0m\u001b]8;;\u001b\\\u001b[2m:\u001b[0m\u001b]8;id=628478;file:///n/home09/pren/3DGeno_tools/src/gt3d/modules/higashi/Higashi_wrapper.py#1245\u001b\\\u001b[2m1245\u001b[0m\u001b]8;;\u001b\\\n"
      ]
     },
     "metadata": {},
     "output_type": "display_data"
    },
    {
     "data": {
      "application/vnd.jupyter.widget-view+json": {
       "model_id": "428f8a85420d4c54854599d38878aec1",
       "version_major": 2,
       "version_minor": 0
      },
      "text/plain": [
       "Output()"
      ]
     },
     "metadata": {},
     "output_type": "display_data"
    },
    {
     "data": {
      "text/html": [
       "<pre style=\"white-space:pre;overflow-x:auto;line-height:normal;font-family:Menlo,'DejaVu Sans Mono',consolas,'Courier New',monospace\"></pre>\n"
      ],
      "text/plain": []
     },
     "metadata": {},
     "output_type": "display_data"
    },
    {
     "data": {
      "text/html": [
       "<pre style=\"white-space:pre;overflow-x:auto;line-height:normal;font-family:Menlo,'DejaVu Sans Mono',consolas,'Courier New',monospace\"><span style=\"color: #7fbfbf; text-decoration-color: #7fbfbf\">[12/07/24 13:21:40] </span><span style=\"color: #000080; text-decoration-color: #000080\">INFO    </span> <span style=\"color: #0000ff; text-decoration-color: #0000ff\">train</span>  - <span style=\"font-weight: bold\">(</span>Train<span style=\"font-weight: bold\">)</span> bce:  <span style=\"color: #008080; text-decoration-color: #008080; font-weight: bold\">0.3161</span>, mse:  <span style=\"color: #008080; text-decoration-color: #008080; font-weight: bold\">1.5766</span>,  acc: <span style=\"color: #008080; text-decoration-color: #008080; font-weight: bold\">89.632</span> %,   <a href=\"file:///n/home09/pren/3DGeno_tools/src/gt3d/modules/higashi/Higashi_wrapper.py\" target=\"_blank\"><span style=\"color: #7f7f7f; text-decoration-color: #7f7f7f\">Higashi_wrapper.py</span></a><span style=\"color: #7f7f7f; text-decoration-color: #7f7f7f\">:</span><a href=\"file:///n/home09/pren/3DGeno_tools/src/gt3d/modules/higashi/Higashi_wrapper.py#1258\" target=\"_blank\"><span style=\"color: #7f7f7f; text-decoration-color: #7f7f7f\">1258</span></a>\n",
       "<span style=\"color: #7fbfbf; text-decoration-color: #7fbfbf\">                    </span>         pearson: <span style=\"color: #008080; text-decoration-color: #008080; font-weight: bold\">0.679</span>, spearman: <span style=\"color: #008080; text-decoration-color: #008080; font-weight: bold\">0.575</span>, elapse: <span style=\"color: #008080; text-decoration-color: #008080; font-weight: bold\">89.385</span> s              <span style=\"color: #7f7f7f; text-decoration-color: #7f7f7f\">                       </span>\n",
       "</pre>\n"
      ],
      "text/plain": [
       "\u001b[2;36m[12/07/24 13:21:40]\u001b[0m\u001b[2;36m \u001b[0m\u001b[34mINFO    \u001b[0m \u001b[94mtrain\u001b[0m  - \u001b[1m(\u001b[0mTrain\u001b[1m)\u001b[0m bce:  \u001b[1;36m0.3161\u001b[0m, mse:  \u001b[1;36m1.5766\u001b[0m,  acc: \u001b[1;36m89.632\u001b[0m %,   \u001b]8;id=376106;file:///n/home09/pren/3DGeno_tools/src/gt3d/modules/higashi/Higashi_wrapper.py\u001b\\\u001b[2mHigashi_wrapper.py\u001b[0m\u001b]8;;\u001b\\\u001b[2m:\u001b[0m\u001b]8;id=769996;file:///n/home09/pren/3DGeno_tools/src/gt3d/modules/higashi/Higashi_wrapper.py#1258\u001b\\\u001b[2m1258\u001b[0m\u001b]8;;\u001b\\\n",
       "\u001b[2;36m                    \u001b[0m         pearson: \u001b[1;36m0.679\u001b[0m, spearman: \u001b[1;36m0.575\u001b[0m, elapse: \u001b[1;36m89.385\u001b[0m s              \u001b[2m                       \u001b[0m\n"
      ]
     },
     "metadata": {},
     "output_type": "display_data"
    },
    {
     "data": {
      "application/vnd.jupyter.widget-view+json": {
       "model_id": "5bd07895d0b04a9a830710c66265abd3",
       "version_major": 2,
       "version_minor": 0
      },
      "text/plain": [
       "Output()"
      ]
     },
     "metadata": {},
     "output_type": "display_data"
    },
    {
     "data": {
      "text/html": [
       "<pre style=\"white-space:pre;overflow-x:auto;line-height:normal;font-family:Menlo,'DejaVu Sans Mono',consolas,'Courier New',monospace\"></pre>\n"
      ],
      "text/plain": []
     },
     "metadata": {},
     "output_type": "display_data"
    },
    {
     "data": {
      "text/html": [
       "<pre style=\"white-space:pre;overflow-x:auto;line-height:normal;font-family:Menlo,'DejaVu Sans Mono',consolas,'Courier New',monospace\"><span style=\"color: #7fbfbf; text-decoration-color: #7fbfbf\">                    </span><span style=\"color: #000080; text-decoration-color: #000080\">INFO    </span> <span style=\"color: #0000ff; text-decoration-color: #0000ff\">train</span>  - <span style=\"font-weight: bold\">(</span>Valid<span style=\"font-weight: bold\">)</span> bce:  <span style=\"color: #008080; text-decoration-color: #008080; font-weight: bold\">0.3551</span>,  acc: <span style=\"color: #008080; text-decoration-color: #008080; font-weight: bold\">88.965</span> %,pearson: <span style=\"color: #008080; text-decoration-color: #008080; font-weight: bold\">0.647</span>,  <a href=\"file:///n/home09/pren/3DGeno_tools/src/gt3d/modules/higashi/Higashi_wrapper.py\" target=\"_blank\"><span style=\"color: #7f7f7f; text-decoration-color: #7f7f7f\">Higashi_wrapper.py</span></a><span style=\"color: #7f7f7f; text-decoration-color: #7f7f7f\">:</span><a href=\"file:///n/home09/pren/3DGeno_tools/src/gt3d/modules/higashi/Higashi_wrapper.py#1277\" target=\"_blank\"><span style=\"color: #7f7f7f; text-decoration-color: #7f7f7f\">1277</span></a>\n",
       "<span style=\"color: #7fbfbf; text-decoration-color: #7fbfbf\">                    </span>         spearman: <span style=\"color: #008080; text-decoration-color: #008080; font-weight: bold\">0.559</span>,elapse: <span style=\"color: #008080; text-decoration-color: #008080; font-weight: bold\">0.052</span> s                                <span style=\"color: #7f7f7f; text-decoration-color: #7f7f7f\">                       </span>\n",
       "</pre>\n"
      ],
      "text/plain": [
       "\u001b[2;36m                   \u001b[0m\u001b[2;36m \u001b[0m\u001b[34mINFO    \u001b[0m \u001b[94mtrain\u001b[0m  - \u001b[1m(\u001b[0mValid\u001b[1m)\u001b[0m bce:  \u001b[1;36m0.3551\u001b[0m,  acc: \u001b[1;36m88.965\u001b[0m %,pearson: \u001b[1;36m0.647\u001b[0m,  \u001b]8;id=393332;file:///n/home09/pren/3DGeno_tools/src/gt3d/modules/higashi/Higashi_wrapper.py\u001b\\\u001b[2mHigashi_wrapper.py\u001b[0m\u001b]8;;\u001b\\\u001b[2m:\u001b[0m\u001b]8;id=768663;file:///n/home09/pren/3DGeno_tools/src/gt3d/modules/higashi/Higashi_wrapper.py#1277\u001b\\\u001b[2m1277\u001b[0m\u001b]8;;\u001b\\\n",
       "\u001b[2;36m                    \u001b[0m         spearman: \u001b[1;36m0.559\u001b[0m,elapse: \u001b[1;36m0.052\u001b[0m s                                \u001b[2m                       \u001b[0m\n"
      ]
     },
     "metadata": {},
     "output_type": "display_data"
    },
    {
     "data": {
      "text/html": [
       "<pre style=\"white-space:pre;overflow-x:auto;line-height:normal;font-family:Menlo,'DejaVu Sans Mono',consolas,'Courier New',monospace\"><span style=\"color: #7fbfbf; text-decoration-color: #7fbfbf\">                    </span><span style=\"color: #000080; text-decoration-color: #000080\">INFO    </span> <span style=\"color: #0000ff; text-decoration-color: #0000ff\">train</span> update_rate: <span style=\"color: #008080; text-decoration-color: #008080; font-weight: bold\">0.004218</span>     <span style=\"color: #008080; text-decoration-color: #008080; font-weight: bold\">0.135498</span>                       <a href=\"file:///n/home09/pren/3DGeno_tools/src/gt3d/modules/higashi/Higashi_wrapper.py\" target=\"_blank\"><span style=\"color: #7f7f7f; text-decoration-color: #7f7f7f\">Higashi_wrapper.py</span></a><span style=\"color: #7f7f7f; text-decoration-color: #7f7f7f\">:</span><a href=\"file:///n/home09/pren/3DGeno_tools/src/gt3d/modules/higashi/Higashi_wrapper.py#1323\" target=\"_blank\"><span style=\"color: #7f7f7f; text-decoration-color: #7f7f7f\">1323</span></a>\n",
       "</pre>\n"
      ],
      "text/plain": [
       "\u001b[2;36m                   \u001b[0m\u001b[2;36m \u001b[0m\u001b[34mINFO    \u001b[0m \u001b[94mtrain\u001b[0m update_rate: \u001b[1;36m0.004218\u001b[0m     \u001b[1;36m0.135498\u001b[0m                       \u001b]8;id=196769;file:///n/home09/pren/3DGeno_tools/src/gt3d/modules/higashi/Higashi_wrapper.py\u001b\\\u001b[2mHigashi_wrapper.py\u001b[0m\u001b]8;;\u001b\\\u001b[2m:\u001b[0m\u001b]8;id=576138;file:///n/home09/pren/3DGeno_tools/src/gt3d/modules/higashi/Higashi_wrapper.py#1323\u001b\\\u001b[2m1323\u001b[0m\u001b]8;;\u001b\\\n"
      ]
     },
     "metadata": {},
     "output_type": "display_data"
    },
    {
     "data": {
      "text/html": [
       "<pre style=\"white-space:pre;overflow-x:auto;line-height:normal;font-family:Menlo,'DejaVu Sans Mono',consolas,'Courier New',monospace\"><span style=\"color: #7fbfbf; text-decoration-color: #7fbfbf\">                    </span><span style=\"color: #000080; text-decoration-color: #000080\">INFO    </span> <span style=\"color: #0000ff; text-decoration-color: #0000ff\">train</span> <span style=\"font-weight: bold\">[</span> Epoch <span style=\"color: #008080; text-decoration-color: #008080; font-weight: bold\">38</span> of <span style=\"color: #008080; text-decoration-color: #008080; font-weight: bold\">200</span> <span style=\"font-weight: bold\">]</span>                                      <a href=\"file:///n/home09/pren/3DGeno_tools/src/gt3d/modules/higashi/Higashi_wrapper.py\" target=\"_blank\"><span style=\"color: #7f7f7f; text-decoration-color: #7f7f7f\">Higashi_wrapper.py</span></a><span style=\"color: #7f7f7f; text-decoration-color: #7f7f7f\">:</span><a href=\"file:///n/home09/pren/3DGeno_tools/src/gt3d/modules/higashi/Higashi_wrapper.py#1245\" target=\"_blank\"><span style=\"color: #7f7f7f; text-decoration-color: #7f7f7f\">1245</span></a>\n",
       "</pre>\n"
      ],
      "text/plain": [
       "\u001b[2;36m                   \u001b[0m\u001b[2;36m \u001b[0m\u001b[34mINFO    \u001b[0m \u001b[94mtrain\u001b[0m \u001b[1m[\u001b[0m Epoch \u001b[1;36m38\u001b[0m of \u001b[1;36m200\u001b[0m \u001b[1m]\u001b[0m                                      \u001b]8;id=898740;file:///n/home09/pren/3DGeno_tools/src/gt3d/modules/higashi/Higashi_wrapper.py\u001b\\\u001b[2mHigashi_wrapper.py\u001b[0m\u001b]8;;\u001b\\\u001b[2m:\u001b[0m\u001b]8;id=918507;file:///n/home09/pren/3DGeno_tools/src/gt3d/modules/higashi/Higashi_wrapper.py#1245\u001b\\\u001b[2m1245\u001b[0m\u001b]8;;\u001b\\\n"
      ]
     },
     "metadata": {},
     "output_type": "display_data"
    },
    {
     "data": {
      "application/vnd.jupyter.widget-view+json": {
       "model_id": "a4748caecb86464097342bbffa893469",
       "version_major": 2,
       "version_minor": 0
      },
      "text/plain": [
       "Output()"
      ]
     },
     "metadata": {},
     "output_type": "display_data"
    },
    {
     "data": {
      "text/html": [
       "<pre style=\"white-space:pre;overflow-x:auto;line-height:normal;font-family:Menlo,'DejaVu Sans Mono',consolas,'Courier New',monospace\"></pre>\n"
      ],
      "text/plain": []
     },
     "metadata": {},
     "output_type": "display_data"
    },
    {
     "data": {
      "text/html": [
       "<pre style=\"white-space:pre;overflow-x:auto;line-height:normal;font-family:Menlo,'DejaVu Sans Mono',consolas,'Courier New',monospace\"><span style=\"color: #7fbfbf; text-decoration-color: #7fbfbf\">[12/07/24 13:23:10] </span><span style=\"color: #000080; text-decoration-color: #000080\">INFO    </span> <span style=\"color: #0000ff; text-decoration-color: #0000ff\">train</span>  - <span style=\"font-weight: bold\">(</span>Train<span style=\"font-weight: bold\">)</span> bce:  <span style=\"color: #008080; text-decoration-color: #008080; font-weight: bold\">0.3165</span>, mse:  <span style=\"color: #008080; text-decoration-color: #008080; font-weight: bold\">0.8679</span>,  acc: <span style=\"color: #008080; text-decoration-color: #008080; font-weight: bold\">89.642</span> %,   <a href=\"file:///n/home09/pren/3DGeno_tools/src/gt3d/modules/higashi/Higashi_wrapper.py\" target=\"_blank\"><span style=\"color: #7f7f7f; text-decoration-color: #7f7f7f\">Higashi_wrapper.py</span></a><span style=\"color: #7f7f7f; text-decoration-color: #7f7f7f\">:</span><a href=\"file:///n/home09/pren/3DGeno_tools/src/gt3d/modules/higashi/Higashi_wrapper.py#1258\" target=\"_blank\"><span style=\"color: #7f7f7f; text-decoration-color: #7f7f7f\">1258</span></a>\n",
       "<span style=\"color: #7fbfbf; text-decoration-color: #7fbfbf\">                    </span>         pearson: <span style=\"color: #008080; text-decoration-color: #008080; font-weight: bold\">0.680</span>, spearman: <span style=\"color: #008080; text-decoration-color: #008080; font-weight: bold\">0.575</span>, elapse: <span style=\"color: #008080; text-decoration-color: #008080; font-weight: bold\">89.435</span> s              <span style=\"color: #7f7f7f; text-decoration-color: #7f7f7f\">                       </span>\n",
       "</pre>\n"
      ],
      "text/plain": [
       "\u001b[2;36m[12/07/24 13:23:10]\u001b[0m\u001b[2;36m \u001b[0m\u001b[34mINFO    \u001b[0m \u001b[94mtrain\u001b[0m  - \u001b[1m(\u001b[0mTrain\u001b[1m)\u001b[0m bce:  \u001b[1;36m0.3165\u001b[0m, mse:  \u001b[1;36m0.8679\u001b[0m,  acc: \u001b[1;36m89.642\u001b[0m %,   \u001b]8;id=222600;file:///n/home09/pren/3DGeno_tools/src/gt3d/modules/higashi/Higashi_wrapper.py\u001b\\\u001b[2mHigashi_wrapper.py\u001b[0m\u001b]8;;\u001b\\\u001b[2m:\u001b[0m\u001b]8;id=342261;file:///n/home09/pren/3DGeno_tools/src/gt3d/modules/higashi/Higashi_wrapper.py#1258\u001b\\\u001b[2m1258\u001b[0m\u001b]8;;\u001b\\\n",
       "\u001b[2;36m                    \u001b[0m         pearson: \u001b[1;36m0.680\u001b[0m, spearman: \u001b[1;36m0.575\u001b[0m, elapse: \u001b[1;36m89.435\u001b[0m s              \u001b[2m                       \u001b[0m\n"
      ]
     },
     "metadata": {},
     "output_type": "display_data"
    },
    {
     "data": {
      "application/vnd.jupyter.widget-view+json": {
       "model_id": "b1c75aecb0b04ec29feae92ee2156548",
       "version_major": 2,
       "version_minor": 0
      },
      "text/plain": [
       "Output()"
      ]
     },
     "metadata": {},
     "output_type": "display_data"
    },
    {
     "data": {
      "text/html": [
       "<pre style=\"white-space:pre;overflow-x:auto;line-height:normal;font-family:Menlo,'DejaVu Sans Mono',consolas,'Courier New',monospace\"></pre>\n"
      ],
      "text/plain": []
     },
     "metadata": {},
     "output_type": "display_data"
    },
    {
     "data": {
      "text/html": [
       "<pre style=\"white-space:pre;overflow-x:auto;line-height:normal;font-family:Menlo,'DejaVu Sans Mono',consolas,'Courier New',monospace\"><span style=\"color: #7fbfbf; text-decoration-color: #7fbfbf\">                    </span><span style=\"color: #000080; text-decoration-color: #000080\">INFO    </span> <span style=\"color: #0000ff; text-decoration-color: #0000ff\">train</span>  - <span style=\"font-weight: bold\">(</span>Valid<span style=\"font-weight: bold\">)</span> bce:  <span style=\"color: #008080; text-decoration-color: #008080; font-weight: bold\">0.3647</span>,  acc: <span style=\"color: #008080; text-decoration-color: #008080; font-weight: bold\">88.919</span> %,pearson: <span style=\"color: #008080; text-decoration-color: #008080; font-weight: bold\">0.627</span>,  <a href=\"file:///n/home09/pren/3DGeno_tools/src/gt3d/modules/higashi/Higashi_wrapper.py\" target=\"_blank\"><span style=\"color: #7f7f7f; text-decoration-color: #7f7f7f\">Higashi_wrapper.py</span></a><span style=\"color: #7f7f7f; text-decoration-color: #7f7f7f\">:</span><a href=\"file:///n/home09/pren/3DGeno_tools/src/gt3d/modules/higashi/Higashi_wrapper.py#1277\" target=\"_blank\"><span style=\"color: #7f7f7f; text-decoration-color: #7f7f7f\">1277</span></a>\n",
       "<span style=\"color: #7fbfbf; text-decoration-color: #7fbfbf\">                    </span>         spearman: <span style=\"color: #008080; text-decoration-color: #008080; font-weight: bold\">0.556</span>,elapse: <span style=\"color: #008080; text-decoration-color: #008080; font-weight: bold\">0.074</span> s                                <span style=\"color: #7f7f7f; text-decoration-color: #7f7f7f\">                       </span>\n",
       "</pre>\n"
      ],
      "text/plain": [
       "\u001b[2;36m                   \u001b[0m\u001b[2;36m \u001b[0m\u001b[34mINFO    \u001b[0m \u001b[94mtrain\u001b[0m  - \u001b[1m(\u001b[0mValid\u001b[1m)\u001b[0m bce:  \u001b[1;36m0.3647\u001b[0m,  acc: \u001b[1;36m88.919\u001b[0m %,pearson: \u001b[1;36m0.627\u001b[0m,  \u001b]8;id=698520;file:///n/home09/pren/3DGeno_tools/src/gt3d/modules/higashi/Higashi_wrapper.py\u001b\\\u001b[2mHigashi_wrapper.py\u001b[0m\u001b]8;;\u001b\\\u001b[2m:\u001b[0m\u001b]8;id=796041;file:///n/home09/pren/3DGeno_tools/src/gt3d/modules/higashi/Higashi_wrapper.py#1277\u001b\\\u001b[2m1277\u001b[0m\u001b]8;;\u001b\\\n",
       "\u001b[2;36m                    \u001b[0m         spearman: \u001b[1;36m0.556\u001b[0m,elapse: \u001b[1;36m0.074\u001b[0m s                                \u001b[2m                       \u001b[0m\n"
      ]
     },
     "metadata": {},
     "output_type": "display_data"
    },
    {
     "data": {
      "text/html": [
       "<pre style=\"white-space:pre;overflow-x:auto;line-height:normal;font-family:Menlo,'DejaVu Sans Mono',consolas,'Courier New',monospace\"><span style=\"color: #7fbfbf; text-decoration-color: #7fbfbf\">                    </span><span style=\"color: #000080; text-decoration-color: #000080\">INFO    </span> <span style=\"color: #0000ff; text-decoration-color: #0000ff\">train</span> update_rate: <span style=\"color: #008080; text-decoration-color: #008080; font-weight: bold\">0.003586</span>     <span style=\"color: #008080; text-decoration-color: #008080; font-weight: bold\">0.136768</span>                       <a href=\"file:///n/home09/pren/3DGeno_tools/src/gt3d/modules/higashi/Higashi_wrapper.py\" target=\"_blank\"><span style=\"color: #7f7f7f; text-decoration-color: #7f7f7f\">Higashi_wrapper.py</span></a><span style=\"color: #7f7f7f; text-decoration-color: #7f7f7f\">:</span><a href=\"file:///n/home09/pren/3DGeno_tools/src/gt3d/modules/higashi/Higashi_wrapper.py#1323\" target=\"_blank\"><span style=\"color: #7f7f7f; text-decoration-color: #7f7f7f\">1323</span></a>\n",
       "</pre>\n"
      ],
      "text/plain": [
       "\u001b[2;36m                   \u001b[0m\u001b[2;36m \u001b[0m\u001b[34mINFO    \u001b[0m \u001b[94mtrain\u001b[0m update_rate: \u001b[1;36m0.003586\u001b[0m     \u001b[1;36m0.136768\u001b[0m                       \u001b]8;id=792037;file:///n/home09/pren/3DGeno_tools/src/gt3d/modules/higashi/Higashi_wrapper.py\u001b\\\u001b[2mHigashi_wrapper.py\u001b[0m\u001b]8;;\u001b\\\u001b[2m:\u001b[0m\u001b]8;id=573843;file:///n/home09/pren/3DGeno_tools/src/gt3d/modules/higashi/Higashi_wrapper.py#1323\u001b\\\u001b[2m1323\u001b[0m\u001b]8;;\u001b\\\n"
      ]
     },
     "metadata": {},
     "output_type": "display_data"
    },
    {
     "data": {
      "text/html": [
       "<pre style=\"white-space:pre;overflow-x:auto;line-height:normal;font-family:Menlo,'DejaVu Sans Mono',consolas,'Courier New',monospace\"><span style=\"color: #7fbfbf; text-decoration-color: #7fbfbf\">                    </span><span style=\"color: #000080; text-decoration-color: #000080\">INFO    </span> <span style=\"color: #0000ff; text-decoration-color: #0000ff\">train</span> <span style=\"font-weight: bold\">[</span> Epoch <span style=\"color: #008080; text-decoration-color: #008080; font-weight: bold\">39</span> of <span style=\"color: #008080; text-decoration-color: #008080; font-weight: bold\">200</span> <span style=\"font-weight: bold\">]</span>                                      <a href=\"file:///n/home09/pren/3DGeno_tools/src/gt3d/modules/higashi/Higashi_wrapper.py\" target=\"_blank\"><span style=\"color: #7f7f7f; text-decoration-color: #7f7f7f\">Higashi_wrapper.py</span></a><span style=\"color: #7f7f7f; text-decoration-color: #7f7f7f\">:</span><a href=\"file:///n/home09/pren/3DGeno_tools/src/gt3d/modules/higashi/Higashi_wrapper.py#1245\" target=\"_blank\"><span style=\"color: #7f7f7f; text-decoration-color: #7f7f7f\">1245</span></a>\n",
       "</pre>\n"
      ],
      "text/plain": [
       "\u001b[2;36m                   \u001b[0m\u001b[2;36m \u001b[0m\u001b[34mINFO    \u001b[0m \u001b[94mtrain\u001b[0m \u001b[1m[\u001b[0m Epoch \u001b[1;36m39\u001b[0m of \u001b[1;36m200\u001b[0m \u001b[1m]\u001b[0m                                      \u001b]8;id=94739;file:///n/home09/pren/3DGeno_tools/src/gt3d/modules/higashi/Higashi_wrapper.py\u001b\\\u001b[2mHigashi_wrapper.py\u001b[0m\u001b]8;;\u001b\\\u001b[2m:\u001b[0m\u001b]8;id=979831;file:///n/home09/pren/3DGeno_tools/src/gt3d/modules/higashi/Higashi_wrapper.py#1245\u001b\\\u001b[2m1245\u001b[0m\u001b]8;;\u001b\\\n"
      ]
     },
     "metadata": {},
     "output_type": "display_data"
    },
    {
     "data": {
      "application/vnd.jupyter.widget-view+json": {
       "model_id": "94ebbbd67889433fabb277b98126eacd",
       "version_major": 2,
       "version_minor": 0
      },
      "text/plain": [
       "Output()"
      ]
     },
     "metadata": {},
     "output_type": "display_data"
    },
    {
     "data": {
      "text/html": [
       "<pre style=\"white-space:pre;overflow-x:auto;line-height:normal;font-family:Menlo,'DejaVu Sans Mono',consolas,'Courier New',monospace\"></pre>\n"
      ],
      "text/plain": []
     },
     "metadata": {},
     "output_type": "display_data"
    },
    {
     "data": {
      "text/html": [
       "<pre style=\"white-space:pre;overflow-x:auto;line-height:normal;font-family:Menlo,'DejaVu Sans Mono',consolas,'Courier New',monospace\"><span style=\"color: #7fbfbf; text-decoration-color: #7fbfbf\">[12/07/24 13:24:39] </span><span style=\"color: #000080; text-decoration-color: #000080\">INFO    </span> <span style=\"color: #0000ff; text-decoration-color: #0000ff\">train</span>  - <span style=\"font-weight: bold\">(</span>Train<span style=\"font-weight: bold\">)</span> bce:  <span style=\"color: #008080; text-decoration-color: #008080; font-weight: bold\">0.3141</span>, mse:  <span style=\"color: #008080; text-decoration-color: #008080; font-weight: bold\">0.9346</span>,  acc: <span style=\"color: #008080; text-decoration-color: #008080; font-weight: bold\">89.785</span> %,   <a href=\"file:///n/home09/pren/3DGeno_tools/src/gt3d/modules/higashi/Higashi_wrapper.py\" target=\"_blank\"><span style=\"color: #7f7f7f; text-decoration-color: #7f7f7f\">Higashi_wrapper.py</span></a><span style=\"color: #7f7f7f; text-decoration-color: #7f7f7f\">:</span><a href=\"file:///n/home09/pren/3DGeno_tools/src/gt3d/modules/higashi/Higashi_wrapper.py#1258\" target=\"_blank\"><span style=\"color: #7f7f7f; text-decoration-color: #7f7f7f\">1258</span></a>\n",
       "<span style=\"color: #7fbfbf; text-decoration-color: #7fbfbf\">                    </span>         pearson: <span style=\"color: #008080; text-decoration-color: #008080; font-weight: bold\">0.685</span>, spearman: <span style=\"color: #008080; text-decoration-color: #008080; font-weight: bold\">0.577</span>, elapse: <span style=\"color: #008080; text-decoration-color: #008080; font-weight: bold\">89.407</span> s              <span style=\"color: #7f7f7f; text-decoration-color: #7f7f7f\">                       </span>\n",
       "</pre>\n"
      ],
      "text/plain": [
       "\u001b[2;36m[12/07/24 13:24:39]\u001b[0m\u001b[2;36m \u001b[0m\u001b[34mINFO    \u001b[0m \u001b[94mtrain\u001b[0m  - \u001b[1m(\u001b[0mTrain\u001b[1m)\u001b[0m bce:  \u001b[1;36m0.3141\u001b[0m, mse:  \u001b[1;36m0.9346\u001b[0m,  acc: \u001b[1;36m89.785\u001b[0m %,   \u001b]8;id=159355;file:///n/home09/pren/3DGeno_tools/src/gt3d/modules/higashi/Higashi_wrapper.py\u001b\\\u001b[2mHigashi_wrapper.py\u001b[0m\u001b]8;;\u001b\\\u001b[2m:\u001b[0m\u001b]8;id=364642;file:///n/home09/pren/3DGeno_tools/src/gt3d/modules/higashi/Higashi_wrapper.py#1258\u001b\\\u001b[2m1258\u001b[0m\u001b]8;;\u001b\\\n",
       "\u001b[2;36m                    \u001b[0m         pearson: \u001b[1;36m0.685\u001b[0m, spearman: \u001b[1;36m0.577\u001b[0m, elapse: \u001b[1;36m89.407\u001b[0m s              \u001b[2m                       \u001b[0m\n"
      ]
     },
     "metadata": {},
     "output_type": "display_data"
    },
    {
     "data": {
      "application/vnd.jupyter.widget-view+json": {
       "model_id": "0b61d91d9d724a37a49a4dd7f5364a54",
       "version_major": 2,
       "version_minor": 0
      },
      "text/plain": [
       "Output()"
      ]
     },
     "metadata": {},
     "output_type": "display_data"
    },
    {
     "data": {
      "text/html": [
       "<pre style=\"white-space:pre;overflow-x:auto;line-height:normal;font-family:Menlo,'DejaVu Sans Mono',consolas,'Courier New',monospace\"></pre>\n"
      ],
      "text/plain": []
     },
     "metadata": {},
     "output_type": "display_data"
    },
    {
     "data": {
      "text/html": [
       "<pre style=\"white-space:pre;overflow-x:auto;line-height:normal;font-family:Menlo,'DejaVu Sans Mono',consolas,'Courier New',monospace\"><span style=\"color: #7fbfbf; text-decoration-color: #7fbfbf\">                    </span><span style=\"color: #000080; text-decoration-color: #000080\">INFO    </span> <span style=\"color: #0000ff; text-decoration-color: #0000ff\">train</span>  - <span style=\"font-weight: bold\">(</span>Valid<span style=\"font-weight: bold\">)</span> bce:  <span style=\"color: #008080; text-decoration-color: #008080; font-weight: bold\">0.3590</span>,  acc: <span style=\"color: #008080; text-decoration-color: #008080; font-weight: bold\">88.802</span> %,pearson: <span style=\"color: #008080; text-decoration-color: #008080; font-weight: bold\">0.636</span>,  <a href=\"file:///n/home09/pren/3DGeno_tools/src/gt3d/modules/higashi/Higashi_wrapper.py\" target=\"_blank\"><span style=\"color: #7f7f7f; text-decoration-color: #7f7f7f\">Higashi_wrapper.py</span></a><span style=\"color: #7f7f7f; text-decoration-color: #7f7f7f\">:</span><a href=\"file:///n/home09/pren/3DGeno_tools/src/gt3d/modules/higashi/Higashi_wrapper.py#1277\" target=\"_blank\"><span style=\"color: #7f7f7f; text-decoration-color: #7f7f7f\">1277</span></a>\n",
       "<span style=\"color: #7fbfbf; text-decoration-color: #7fbfbf\">                    </span>         spearman: <span style=\"color: #008080; text-decoration-color: #008080; font-weight: bold\">0.554</span>,elapse: <span style=\"color: #008080; text-decoration-color: #008080; font-weight: bold\">0.052</span> s                                <span style=\"color: #7f7f7f; text-decoration-color: #7f7f7f\">                       </span>\n",
       "</pre>\n"
      ],
      "text/plain": [
       "\u001b[2;36m                   \u001b[0m\u001b[2;36m \u001b[0m\u001b[34mINFO    \u001b[0m \u001b[94mtrain\u001b[0m  - \u001b[1m(\u001b[0mValid\u001b[1m)\u001b[0m bce:  \u001b[1;36m0.3590\u001b[0m,  acc: \u001b[1;36m88.802\u001b[0m %,pearson: \u001b[1;36m0.636\u001b[0m,  \u001b]8;id=704650;file:///n/home09/pren/3DGeno_tools/src/gt3d/modules/higashi/Higashi_wrapper.py\u001b\\\u001b[2mHigashi_wrapper.py\u001b[0m\u001b]8;;\u001b\\\u001b[2m:\u001b[0m\u001b]8;id=167391;file:///n/home09/pren/3DGeno_tools/src/gt3d/modules/higashi/Higashi_wrapper.py#1277\u001b\\\u001b[2m1277\u001b[0m\u001b]8;;\u001b\\\n",
       "\u001b[2;36m                    \u001b[0m         spearman: \u001b[1;36m0.554\u001b[0m,elapse: \u001b[1;36m0.052\u001b[0m s                                \u001b[2m                       \u001b[0m\n"
      ]
     },
     "metadata": {},
     "output_type": "display_data"
    },
    {
     "data": {
      "text/html": [
       "<pre style=\"white-space:pre;overflow-x:auto;line-height:normal;font-family:Menlo,'DejaVu Sans Mono',consolas,'Courier New',monospace\"><span style=\"color: #7fbfbf; text-decoration-color: #7fbfbf\">                    </span><span style=\"color: #000080; text-decoration-color: #000080\">INFO    </span> <span style=\"color: #0000ff; text-decoration-color: #0000ff\">train</span> update_rate: <span style=\"color: #008080; text-decoration-color: #008080; font-weight: bold\">0.003528</span>     <span style=\"color: #008080; text-decoration-color: #008080; font-weight: bold\">0.085748</span>                       <a href=\"file:///n/home09/pren/3DGeno_tools/src/gt3d/modules/higashi/Higashi_wrapper.py\" target=\"_blank\"><span style=\"color: #7f7f7f; text-decoration-color: #7f7f7f\">Higashi_wrapper.py</span></a><span style=\"color: #7f7f7f; text-decoration-color: #7f7f7f\">:</span><a href=\"file:///n/home09/pren/3DGeno_tools/src/gt3d/modules/higashi/Higashi_wrapper.py#1323\" target=\"_blank\"><span style=\"color: #7f7f7f; text-decoration-color: #7f7f7f\">1323</span></a>\n",
       "</pre>\n"
      ],
      "text/plain": [
       "\u001b[2;36m                   \u001b[0m\u001b[2;36m \u001b[0m\u001b[34mINFO    \u001b[0m \u001b[94mtrain\u001b[0m update_rate: \u001b[1;36m0.003528\u001b[0m     \u001b[1;36m0.085748\u001b[0m                       \u001b]8;id=569415;file:///n/home09/pren/3DGeno_tools/src/gt3d/modules/higashi/Higashi_wrapper.py\u001b\\\u001b[2mHigashi_wrapper.py\u001b[0m\u001b]8;;\u001b\\\u001b[2m:\u001b[0m\u001b]8;id=326141;file:///n/home09/pren/3DGeno_tools/src/gt3d/modules/higashi/Higashi_wrapper.py#1323\u001b\\\u001b[2m1323\u001b[0m\u001b]8;;\u001b\\\n"
      ]
     },
     "metadata": {},
     "output_type": "display_data"
    },
    {
     "data": {
      "text/html": [
       "<pre style=\"white-space:pre;overflow-x:auto;line-height:normal;font-family:Menlo,'DejaVu Sans Mono',consolas,'Courier New',monospace\"><span style=\"color: #7fbfbf; text-decoration-color: #7fbfbf\">                    </span><span style=\"color: #000080; text-decoration-color: #000080\">INFO    </span> <span style=\"color: #0000ff; text-decoration-color: #0000ff\">train</span> <span style=\"font-weight: bold\">[</span> Epoch <span style=\"color: #008080; text-decoration-color: #008080; font-weight: bold\">40</span> of <span style=\"color: #008080; text-decoration-color: #008080; font-weight: bold\">200</span> <span style=\"font-weight: bold\">]</span>                                      <a href=\"file:///n/home09/pren/3DGeno_tools/src/gt3d/modules/higashi/Higashi_wrapper.py\" target=\"_blank\"><span style=\"color: #7f7f7f; text-decoration-color: #7f7f7f\">Higashi_wrapper.py</span></a><span style=\"color: #7f7f7f; text-decoration-color: #7f7f7f\">:</span><a href=\"file:///n/home09/pren/3DGeno_tools/src/gt3d/modules/higashi/Higashi_wrapper.py#1245\" target=\"_blank\"><span style=\"color: #7f7f7f; text-decoration-color: #7f7f7f\">1245</span></a>\n",
       "</pre>\n"
      ],
      "text/plain": [
       "\u001b[2;36m                   \u001b[0m\u001b[2;36m \u001b[0m\u001b[34mINFO    \u001b[0m \u001b[94mtrain\u001b[0m \u001b[1m[\u001b[0m Epoch \u001b[1;36m40\u001b[0m of \u001b[1;36m200\u001b[0m \u001b[1m]\u001b[0m                                      \u001b]8;id=880093;file:///n/home09/pren/3DGeno_tools/src/gt3d/modules/higashi/Higashi_wrapper.py\u001b\\\u001b[2mHigashi_wrapper.py\u001b[0m\u001b]8;;\u001b\\\u001b[2m:\u001b[0m\u001b]8;id=633590;file:///n/home09/pren/3DGeno_tools/src/gt3d/modules/higashi/Higashi_wrapper.py#1245\u001b\\\u001b[2m1245\u001b[0m\u001b]8;;\u001b\\\n"
      ]
     },
     "metadata": {},
     "output_type": "display_data"
    },
    {
     "data": {
      "application/vnd.jupyter.widget-view+json": {
       "model_id": "3a2b02ac35234131ad4f8c44649683ee",
       "version_major": 2,
       "version_minor": 0
      },
      "text/plain": [
       "Output()"
      ]
     },
     "metadata": {},
     "output_type": "display_data"
    },
    {
     "data": {
      "text/html": [
       "<pre style=\"white-space:pre;overflow-x:auto;line-height:normal;font-family:Menlo,'DejaVu Sans Mono',consolas,'Courier New',monospace\"></pre>\n"
      ],
      "text/plain": []
     },
     "metadata": {},
     "output_type": "display_data"
    },
    {
     "data": {
      "text/html": [
       "<pre style=\"white-space:pre;overflow-x:auto;line-height:normal;font-family:Menlo,'DejaVu Sans Mono',consolas,'Courier New',monospace\"><span style=\"color: #7fbfbf; text-decoration-color: #7fbfbf\">[12/07/24 13:26:09] </span><span style=\"color: #000080; text-decoration-color: #000080\">INFO    </span> <span style=\"color: #0000ff; text-decoration-color: #0000ff\">train</span>  - <span style=\"font-weight: bold\">(</span>Train<span style=\"font-weight: bold\">)</span> bce:  <span style=\"color: #008080; text-decoration-color: #008080; font-weight: bold\">0.3155</span>, mse:  <span style=\"color: #008080; text-decoration-color: #008080; font-weight: bold\">0.9303</span>,  acc: <span style=\"color: #008080; text-decoration-color: #008080; font-weight: bold\">89.704</span> %,   <a href=\"file:///n/home09/pren/3DGeno_tools/src/gt3d/modules/higashi/Higashi_wrapper.py\" target=\"_blank\"><span style=\"color: #7f7f7f; text-decoration-color: #7f7f7f\">Higashi_wrapper.py</span></a><span style=\"color: #7f7f7f; text-decoration-color: #7f7f7f\">:</span><a href=\"file:///n/home09/pren/3DGeno_tools/src/gt3d/modules/higashi/Higashi_wrapper.py#1258\" target=\"_blank\"><span style=\"color: #7f7f7f; text-decoration-color: #7f7f7f\">1258</span></a>\n",
       "<span style=\"color: #7fbfbf; text-decoration-color: #7fbfbf\">                    </span>         pearson: <span style=\"color: #008080; text-decoration-color: #008080; font-weight: bold\">0.682</span>, spearman: <span style=\"color: #008080; text-decoration-color: #008080; font-weight: bold\">0.576</span>, elapse: <span style=\"color: #008080; text-decoration-color: #008080; font-weight: bold\">89.380</span> s              <span style=\"color: #7f7f7f; text-decoration-color: #7f7f7f\">                       </span>\n",
       "</pre>\n"
      ],
      "text/plain": [
       "\u001b[2;36m[12/07/24 13:26:09]\u001b[0m\u001b[2;36m \u001b[0m\u001b[34mINFO    \u001b[0m \u001b[94mtrain\u001b[0m  - \u001b[1m(\u001b[0mTrain\u001b[1m)\u001b[0m bce:  \u001b[1;36m0.3155\u001b[0m, mse:  \u001b[1;36m0.9303\u001b[0m,  acc: \u001b[1;36m89.704\u001b[0m %,   \u001b]8;id=60746;file:///n/home09/pren/3DGeno_tools/src/gt3d/modules/higashi/Higashi_wrapper.py\u001b\\\u001b[2mHigashi_wrapper.py\u001b[0m\u001b]8;;\u001b\\\u001b[2m:\u001b[0m\u001b]8;id=259073;file:///n/home09/pren/3DGeno_tools/src/gt3d/modules/higashi/Higashi_wrapper.py#1258\u001b\\\u001b[2m1258\u001b[0m\u001b]8;;\u001b\\\n",
       "\u001b[2;36m                    \u001b[0m         pearson: \u001b[1;36m0.682\u001b[0m, spearman: \u001b[1;36m0.576\u001b[0m, elapse: \u001b[1;36m89.380\u001b[0m s              \u001b[2m                       \u001b[0m\n"
      ]
     },
     "metadata": {},
     "output_type": "display_data"
    },
    {
     "data": {
      "application/vnd.jupyter.widget-view+json": {
       "model_id": "9c9a33601c614bee842fcc60ff670109",
       "version_major": 2,
       "version_minor": 0
      },
      "text/plain": [
       "Output()"
      ]
     },
     "metadata": {},
     "output_type": "display_data"
    },
    {
     "data": {
      "text/html": [
       "<pre style=\"white-space:pre;overflow-x:auto;line-height:normal;font-family:Menlo,'DejaVu Sans Mono',consolas,'Courier New',monospace\"></pre>\n"
      ],
      "text/plain": []
     },
     "metadata": {},
     "output_type": "display_data"
    },
    {
     "data": {
      "text/html": [
       "<pre style=\"white-space:pre;overflow-x:auto;line-height:normal;font-family:Menlo,'DejaVu Sans Mono',consolas,'Courier New',monospace\"><span style=\"color: #7fbfbf; text-decoration-color: #7fbfbf\">                    </span><span style=\"color: #000080; text-decoration-color: #000080\">INFO    </span> <span style=\"color: #0000ff; text-decoration-color: #0000ff\">train</span>  - <span style=\"font-weight: bold\">(</span>Valid<span style=\"font-weight: bold\">)</span> bce:  <span style=\"color: #008080; text-decoration-color: #008080; font-weight: bold\">0.3656</span>,  acc: <span style=\"color: #008080; text-decoration-color: #008080; font-weight: bold\">88.555</span> %,pearson: <span style=\"color: #008080; text-decoration-color: #008080; font-weight: bold\">0.619</span>,  <a href=\"file:///n/home09/pren/3DGeno_tools/src/gt3d/modules/higashi/Higashi_wrapper.py\" target=\"_blank\"><span style=\"color: #7f7f7f; text-decoration-color: #7f7f7f\">Higashi_wrapper.py</span></a><span style=\"color: #7f7f7f; text-decoration-color: #7f7f7f\">:</span><a href=\"file:///n/home09/pren/3DGeno_tools/src/gt3d/modules/higashi/Higashi_wrapper.py#1277\" target=\"_blank\"><span style=\"color: #7f7f7f; text-decoration-color: #7f7f7f\">1277</span></a>\n",
       "<span style=\"color: #7fbfbf; text-decoration-color: #7fbfbf\">                    </span>         spearman: <span style=\"color: #008080; text-decoration-color: #008080; font-weight: bold\">0.557</span>,elapse: <span style=\"color: #008080; text-decoration-color: #008080; font-weight: bold\">0.052</span> s                                <span style=\"color: #7f7f7f; text-decoration-color: #7f7f7f\">                       </span>\n",
       "</pre>\n"
      ],
      "text/plain": [
       "\u001b[2;36m                   \u001b[0m\u001b[2;36m \u001b[0m\u001b[34mINFO    \u001b[0m \u001b[94mtrain\u001b[0m  - \u001b[1m(\u001b[0mValid\u001b[1m)\u001b[0m bce:  \u001b[1;36m0.3656\u001b[0m,  acc: \u001b[1;36m88.555\u001b[0m %,pearson: \u001b[1;36m0.619\u001b[0m,  \u001b]8;id=981072;file:///n/home09/pren/3DGeno_tools/src/gt3d/modules/higashi/Higashi_wrapper.py\u001b\\\u001b[2mHigashi_wrapper.py\u001b[0m\u001b]8;;\u001b\\\u001b[2m:\u001b[0m\u001b]8;id=536503;file:///n/home09/pren/3DGeno_tools/src/gt3d/modules/higashi/Higashi_wrapper.py#1277\u001b\\\u001b[2m1277\u001b[0m\u001b]8;;\u001b\\\n",
       "\u001b[2;36m                    \u001b[0m         spearman: \u001b[1;36m0.557\u001b[0m,elapse: \u001b[1;36m0.052\u001b[0m s                                \u001b[2m                       \u001b[0m\n"
      ]
     },
     "metadata": {},
     "output_type": "display_data"
    },
    {
     "data": {
      "text/html": [
       "<pre style=\"white-space:pre;overflow-x:auto;line-height:normal;font-family:Menlo,'DejaVu Sans Mono',consolas,'Courier New',monospace\"><span style=\"color: #7fbfbf; text-decoration-color: #7fbfbf\">                    </span><span style=\"color: #000080; text-decoration-color: #000080\">INFO    </span> <span style=\"color: #0000ff; text-decoration-color: #0000ff\">train</span> update_rate: <span style=\"color: #008080; text-decoration-color: #008080; font-weight: bold\">0.003377</span>     <span style=\"color: #008080; text-decoration-color: #008080; font-weight: bold\">0.113044</span>                       <a href=\"file:///n/home09/pren/3DGeno_tools/src/gt3d/modules/higashi/Higashi_wrapper.py\" target=\"_blank\"><span style=\"color: #7f7f7f; text-decoration-color: #7f7f7f\">Higashi_wrapper.py</span></a><span style=\"color: #7f7f7f; text-decoration-color: #7f7f7f\">:</span><a href=\"file:///n/home09/pren/3DGeno_tools/src/gt3d/modules/higashi/Higashi_wrapper.py#1323\" target=\"_blank\"><span style=\"color: #7f7f7f; text-decoration-color: #7f7f7f\">1323</span></a>\n",
       "</pre>\n"
      ],
      "text/plain": [
       "\u001b[2;36m                   \u001b[0m\u001b[2;36m \u001b[0m\u001b[34mINFO    \u001b[0m \u001b[94mtrain\u001b[0m update_rate: \u001b[1;36m0.003377\u001b[0m     \u001b[1;36m0.113044\u001b[0m                       \u001b]8;id=630977;file:///n/home09/pren/3DGeno_tools/src/gt3d/modules/higashi/Higashi_wrapper.py\u001b\\\u001b[2mHigashi_wrapper.py\u001b[0m\u001b]8;;\u001b\\\u001b[2m:\u001b[0m\u001b]8;id=143181;file:///n/home09/pren/3DGeno_tools/src/gt3d/modules/higashi/Higashi_wrapper.py#1323\u001b\\\u001b[2m1323\u001b[0m\u001b]8;;\u001b\\\n"
      ]
     },
     "metadata": {},
     "output_type": "display_data"
    },
    {
     "data": {
      "text/html": [
       "<pre style=\"white-space:pre;overflow-x:auto;line-height:normal;font-family:Menlo,'DejaVu Sans Mono',consolas,'Courier New',monospace\"><span style=\"color: #7fbfbf; text-decoration-color: #7fbfbf\">                    </span><span style=\"color: #000080; text-decoration-color: #000080\">INFO    </span> <span style=\"color: #0000ff; text-decoration-color: #0000ff\">train</span> <span style=\"font-weight: bold\">[</span> Epoch <span style=\"color: #008080; text-decoration-color: #008080; font-weight: bold\">41</span> of <span style=\"color: #008080; text-decoration-color: #008080; font-weight: bold\">200</span> <span style=\"font-weight: bold\">]</span>                                      <a href=\"file:///n/home09/pren/3DGeno_tools/src/gt3d/modules/higashi/Higashi_wrapper.py\" target=\"_blank\"><span style=\"color: #7f7f7f; text-decoration-color: #7f7f7f\">Higashi_wrapper.py</span></a><span style=\"color: #7f7f7f; text-decoration-color: #7f7f7f\">:</span><a href=\"file:///n/home09/pren/3DGeno_tools/src/gt3d/modules/higashi/Higashi_wrapper.py#1245\" target=\"_blank\"><span style=\"color: #7f7f7f; text-decoration-color: #7f7f7f\">1245</span></a>\n",
       "</pre>\n"
      ],
      "text/plain": [
       "\u001b[2;36m                   \u001b[0m\u001b[2;36m \u001b[0m\u001b[34mINFO    \u001b[0m \u001b[94mtrain\u001b[0m \u001b[1m[\u001b[0m Epoch \u001b[1;36m41\u001b[0m of \u001b[1;36m200\u001b[0m \u001b[1m]\u001b[0m                                      \u001b]8;id=957124;file:///n/home09/pren/3DGeno_tools/src/gt3d/modules/higashi/Higashi_wrapper.py\u001b\\\u001b[2mHigashi_wrapper.py\u001b[0m\u001b]8;;\u001b\\\u001b[2m:\u001b[0m\u001b]8;id=945565;file:///n/home09/pren/3DGeno_tools/src/gt3d/modules/higashi/Higashi_wrapper.py#1245\u001b\\\u001b[2m1245\u001b[0m\u001b]8;;\u001b\\\n"
      ]
     },
     "metadata": {},
     "output_type": "display_data"
    },
    {
     "data": {
      "application/vnd.jupyter.widget-view+json": {
       "model_id": "9348ab2b5c9f44159d5612f2c9fa9a17",
       "version_major": 2,
       "version_minor": 0
      },
      "text/plain": [
       "Output()"
      ]
     },
     "metadata": {},
     "output_type": "display_data"
    },
    {
     "data": {
      "text/html": [
       "<pre style=\"white-space:pre;overflow-x:auto;line-height:normal;font-family:Menlo,'DejaVu Sans Mono',consolas,'Courier New',monospace\"></pre>\n"
      ],
      "text/plain": []
     },
     "metadata": {},
     "output_type": "display_data"
    },
    {
     "data": {
      "text/html": [
       "<pre style=\"white-space:pre;overflow-x:auto;line-height:normal;font-family:Menlo,'DejaVu Sans Mono',consolas,'Courier New',monospace\"><span style=\"color: #7fbfbf; text-decoration-color: #7fbfbf\">[12/07/24 13:27:38] </span><span style=\"color: #000080; text-decoration-color: #000080\">INFO    </span> <span style=\"color: #0000ff; text-decoration-color: #0000ff\">train</span>  - <span style=\"font-weight: bold\">(</span>Train<span style=\"font-weight: bold\">)</span> bce:  <span style=\"color: #008080; text-decoration-color: #008080; font-weight: bold\">0.3129</span>, mse:  <span style=\"color: #008080; text-decoration-color: #008080; font-weight: bold\">1.1648</span>,  acc: <span style=\"color: #008080; text-decoration-color: #008080; font-weight: bold\">89.944</span> %,   <a href=\"file:///n/home09/pren/3DGeno_tools/src/gt3d/modules/higashi/Higashi_wrapper.py\" target=\"_blank\"><span style=\"color: #7f7f7f; text-decoration-color: #7f7f7f\">Higashi_wrapper.py</span></a><span style=\"color: #7f7f7f; text-decoration-color: #7f7f7f\">:</span><a href=\"file:///n/home09/pren/3DGeno_tools/src/gt3d/modules/higashi/Higashi_wrapper.py#1258\" target=\"_blank\"><span style=\"color: #7f7f7f; text-decoration-color: #7f7f7f\">1258</span></a>\n",
       "<span style=\"color: #7fbfbf; text-decoration-color: #7fbfbf\">                    </span>         pearson: <span style=\"color: #008080; text-decoration-color: #008080; font-weight: bold\">0.688</span>, spearman: <span style=\"color: #008080; text-decoration-color: #008080; font-weight: bold\">0.579</span>, elapse: <span style=\"color: #008080; text-decoration-color: #008080; font-weight: bold\">89.363</span> s              <span style=\"color: #7f7f7f; text-decoration-color: #7f7f7f\">                       </span>\n",
       "</pre>\n"
      ],
      "text/plain": [
       "\u001b[2;36m[12/07/24 13:27:38]\u001b[0m\u001b[2;36m \u001b[0m\u001b[34mINFO    \u001b[0m \u001b[94mtrain\u001b[0m  - \u001b[1m(\u001b[0mTrain\u001b[1m)\u001b[0m bce:  \u001b[1;36m0.3129\u001b[0m, mse:  \u001b[1;36m1.1648\u001b[0m,  acc: \u001b[1;36m89.944\u001b[0m %,   \u001b]8;id=954317;file:///n/home09/pren/3DGeno_tools/src/gt3d/modules/higashi/Higashi_wrapper.py\u001b\\\u001b[2mHigashi_wrapper.py\u001b[0m\u001b]8;;\u001b\\\u001b[2m:\u001b[0m\u001b]8;id=950606;file:///n/home09/pren/3DGeno_tools/src/gt3d/modules/higashi/Higashi_wrapper.py#1258\u001b\\\u001b[2m1258\u001b[0m\u001b]8;;\u001b\\\n",
       "\u001b[2;36m                    \u001b[0m         pearson: \u001b[1;36m0.688\u001b[0m, spearman: \u001b[1;36m0.579\u001b[0m, elapse: \u001b[1;36m89.363\u001b[0m s              \u001b[2m                       \u001b[0m\n"
      ]
     },
     "metadata": {},
     "output_type": "display_data"
    },
    {
     "data": {
      "application/vnd.jupyter.widget-view+json": {
       "model_id": "a094f1396e724aec80e8c106ec7d2a9d",
       "version_major": 2,
       "version_minor": 0
      },
      "text/plain": [
       "Output()"
      ]
     },
     "metadata": {},
     "output_type": "display_data"
    },
    {
     "data": {
      "text/html": [
       "<pre style=\"white-space:pre;overflow-x:auto;line-height:normal;font-family:Menlo,'DejaVu Sans Mono',consolas,'Courier New',monospace\"></pre>\n"
      ],
      "text/plain": []
     },
     "metadata": {},
     "output_type": "display_data"
    },
    {
     "data": {
      "text/html": [
       "<pre style=\"white-space:pre;overflow-x:auto;line-height:normal;font-family:Menlo,'DejaVu Sans Mono',consolas,'Courier New',monospace\"><span style=\"color: #7fbfbf; text-decoration-color: #7fbfbf\">                    </span><span style=\"color: #000080; text-decoration-color: #000080\">INFO    </span> <span style=\"color: #0000ff; text-decoration-color: #0000ff\">train</span>  - <span style=\"font-weight: bold\">(</span>Valid<span style=\"font-weight: bold\">)</span> bce:  <span style=\"color: #008080; text-decoration-color: #008080; font-weight: bold\">0.3662</span>,  acc: <span style=\"color: #008080; text-decoration-color: #008080; font-weight: bold\">88.555</span> %,pearson: <span style=\"color: #008080; text-decoration-color: #008080; font-weight: bold\">0.617</span>,  <a href=\"file:///n/home09/pren/3DGeno_tools/src/gt3d/modules/higashi/Higashi_wrapper.py\" target=\"_blank\"><span style=\"color: #7f7f7f; text-decoration-color: #7f7f7f\">Higashi_wrapper.py</span></a><span style=\"color: #7f7f7f; text-decoration-color: #7f7f7f\">:</span><a href=\"file:///n/home09/pren/3DGeno_tools/src/gt3d/modules/higashi/Higashi_wrapper.py#1277\" target=\"_blank\"><span style=\"color: #7f7f7f; text-decoration-color: #7f7f7f\">1277</span></a>\n",
       "<span style=\"color: #7fbfbf; text-decoration-color: #7fbfbf\">                    </span>         spearman: <span style=\"color: #008080; text-decoration-color: #008080; font-weight: bold\">0.556</span>,elapse: <span style=\"color: #008080; text-decoration-color: #008080; font-weight: bold\">0.052</span> s                                <span style=\"color: #7f7f7f; text-decoration-color: #7f7f7f\">                       </span>\n",
       "</pre>\n"
      ],
      "text/plain": [
       "\u001b[2;36m                   \u001b[0m\u001b[2;36m \u001b[0m\u001b[34mINFO    \u001b[0m \u001b[94mtrain\u001b[0m  - \u001b[1m(\u001b[0mValid\u001b[1m)\u001b[0m bce:  \u001b[1;36m0.3662\u001b[0m,  acc: \u001b[1;36m88.555\u001b[0m %,pearson: \u001b[1;36m0.617\u001b[0m,  \u001b]8;id=405342;file:///n/home09/pren/3DGeno_tools/src/gt3d/modules/higashi/Higashi_wrapper.py\u001b\\\u001b[2mHigashi_wrapper.py\u001b[0m\u001b]8;;\u001b\\\u001b[2m:\u001b[0m\u001b]8;id=907185;file:///n/home09/pren/3DGeno_tools/src/gt3d/modules/higashi/Higashi_wrapper.py#1277\u001b\\\u001b[2m1277\u001b[0m\u001b]8;;\u001b\\\n",
       "\u001b[2;36m                    \u001b[0m         spearman: \u001b[1;36m0.556\u001b[0m,elapse: \u001b[1;36m0.052\u001b[0m s                                \u001b[2m                       \u001b[0m\n"
      ]
     },
     "metadata": {},
     "output_type": "display_data"
    },
    {
     "data": {
      "text/html": [
       "<pre style=\"white-space:pre;overflow-x:auto;line-height:normal;font-family:Menlo,'DejaVu Sans Mono',consolas,'Courier New',monospace\"><span style=\"color: #7fbfbf; text-decoration-color: #7fbfbf\">                    </span><span style=\"color: #000080; text-decoration-color: #000080\">INFO    </span> <span style=\"color: #0000ff; text-decoration-color: #0000ff\">train</span> update_rate: <span style=\"color: #008080; text-decoration-color: #008080; font-weight: bold\">0.003164</span>     <span style=\"color: #008080; text-decoration-color: #008080; font-weight: bold\">0.070078</span>                       <a href=\"file:///n/home09/pren/3DGeno_tools/src/gt3d/modules/higashi/Higashi_wrapper.py\" target=\"_blank\"><span style=\"color: #7f7f7f; text-decoration-color: #7f7f7f\">Higashi_wrapper.py</span></a><span style=\"color: #7f7f7f; text-decoration-color: #7f7f7f\">:</span><a href=\"file:///n/home09/pren/3DGeno_tools/src/gt3d/modules/higashi/Higashi_wrapper.py#1323\" target=\"_blank\"><span style=\"color: #7f7f7f; text-decoration-color: #7f7f7f\">1323</span></a>\n",
       "</pre>\n"
      ],
      "text/plain": [
       "\u001b[2;36m                   \u001b[0m\u001b[2;36m \u001b[0m\u001b[34mINFO    \u001b[0m \u001b[94mtrain\u001b[0m update_rate: \u001b[1;36m0.003164\u001b[0m     \u001b[1;36m0.070078\u001b[0m                       \u001b]8;id=171391;file:///n/home09/pren/3DGeno_tools/src/gt3d/modules/higashi/Higashi_wrapper.py\u001b\\\u001b[2mHigashi_wrapper.py\u001b[0m\u001b]8;;\u001b\\\u001b[2m:\u001b[0m\u001b]8;id=754528;file:///n/home09/pren/3DGeno_tools/src/gt3d/modules/higashi/Higashi_wrapper.py#1323\u001b\\\u001b[2m1323\u001b[0m\u001b]8;;\u001b\\\n"
      ]
     },
     "metadata": {},
     "output_type": "display_data"
    },
    {
     "data": {
      "text/html": [
       "<pre style=\"white-space:pre;overflow-x:auto;line-height:normal;font-family:Menlo,'DejaVu Sans Mono',consolas,'Courier New',monospace\"><span style=\"color: #7fbfbf; text-decoration-color: #7fbfbf\">[12/07/24 13:27:39] </span><span style=\"color: #000080; text-decoration-color: #000080\">INFO    </span> <span style=\"color: #0000ff; text-decoration-color: #0000ff\">train</span> <span style=\"font-weight: bold\">[</span> Epoch <span style=\"color: #008080; text-decoration-color: #008080; font-weight: bold\">42</span> of <span style=\"color: #008080; text-decoration-color: #008080; font-weight: bold\">200</span> <span style=\"font-weight: bold\">]</span>                                      <a href=\"file:///n/home09/pren/3DGeno_tools/src/gt3d/modules/higashi/Higashi_wrapper.py\" target=\"_blank\"><span style=\"color: #7f7f7f; text-decoration-color: #7f7f7f\">Higashi_wrapper.py</span></a><span style=\"color: #7f7f7f; text-decoration-color: #7f7f7f\">:</span><a href=\"file:///n/home09/pren/3DGeno_tools/src/gt3d/modules/higashi/Higashi_wrapper.py#1245\" target=\"_blank\"><span style=\"color: #7f7f7f; text-decoration-color: #7f7f7f\">1245</span></a>\n",
       "</pre>\n"
      ],
      "text/plain": [
       "\u001b[2;36m[12/07/24 13:27:39]\u001b[0m\u001b[2;36m \u001b[0m\u001b[34mINFO    \u001b[0m \u001b[94mtrain\u001b[0m \u001b[1m[\u001b[0m Epoch \u001b[1;36m42\u001b[0m of \u001b[1;36m200\u001b[0m \u001b[1m]\u001b[0m                                      \u001b]8;id=970081;file:///n/home09/pren/3DGeno_tools/src/gt3d/modules/higashi/Higashi_wrapper.py\u001b\\\u001b[2mHigashi_wrapper.py\u001b[0m\u001b]8;;\u001b\\\u001b[2m:\u001b[0m\u001b]8;id=840826;file:///n/home09/pren/3DGeno_tools/src/gt3d/modules/higashi/Higashi_wrapper.py#1245\u001b\\\u001b[2m1245\u001b[0m\u001b]8;;\u001b\\\n"
      ]
     },
     "metadata": {},
     "output_type": "display_data"
    },
    {
     "data": {
      "application/vnd.jupyter.widget-view+json": {
       "model_id": "b7360a6b42124984bc0d6177117dc2c6",
       "version_major": 2,
       "version_minor": 0
      },
      "text/plain": [
       "Output()"
      ]
     },
     "metadata": {},
     "output_type": "display_data"
    },
    {
     "data": {
      "text/html": [
       "<pre style=\"white-space:pre;overflow-x:auto;line-height:normal;font-family:Menlo,'DejaVu Sans Mono',consolas,'Courier New',monospace\"></pre>\n"
      ],
      "text/plain": []
     },
     "metadata": {},
     "output_type": "display_data"
    },
    {
     "data": {
      "text/html": [
       "<pre style=\"white-space:pre;overflow-x:auto;line-height:normal;font-family:Menlo,'DejaVu Sans Mono',consolas,'Courier New',monospace\"><span style=\"color: #7fbfbf; text-decoration-color: #7fbfbf\">[12/07/24 13:29:08] </span><span style=\"color: #000080; text-decoration-color: #000080\">INFO    </span> <span style=\"color: #0000ff; text-decoration-color: #0000ff\">train</span>  - <span style=\"font-weight: bold\">(</span>Train<span style=\"font-weight: bold\">)</span> bce:  <span style=\"color: #008080; text-decoration-color: #008080; font-weight: bold\">0.3148</span>, mse:  <span style=\"color: #008080; text-decoration-color: #008080; font-weight: bold\">0.9101</span>,  acc: <span style=\"color: #008080; text-decoration-color: #008080; font-weight: bold\">89.716</span> %,   <a href=\"file:///n/home09/pren/3DGeno_tools/src/gt3d/modules/higashi/Higashi_wrapper.py\" target=\"_blank\"><span style=\"color: #7f7f7f; text-decoration-color: #7f7f7f\">Higashi_wrapper.py</span></a><span style=\"color: #7f7f7f; text-decoration-color: #7f7f7f\">:</span><a href=\"file:///n/home09/pren/3DGeno_tools/src/gt3d/modules/higashi/Higashi_wrapper.py#1258\" target=\"_blank\"><span style=\"color: #7f7f7f; text-decoration-color: #7f7f7f\">1258</span></a>\n",
       "<span style=\"color: #7fbfbf; text-decoration-color: #7fbfbf\">                    </span>         pearson: <span style=\"color: #008080; text-decoration-color: #008080; font-weight: bold\">0.682</span>, spearman: <span style=\"color: #008080; text-decoration-color: #008080; font-weight: bold\">0.577</span>, elapse: <span style=\"color: #008080; text-decoration-color: #008080; font-weight: bold\">89.770</span> s              <span style=\"color: #7f7f7f; text-decoration-color: #7f7f7f\">                       </span>\n",
       "</pre>\n"
      ],
      "text/plain": [
       "\u001b[2;36m[12/07/24 13:29:08]\u001b[0m\u001b[2;36m \u001b[0m\u001b[34mINFO    \u001b[0m \u001b[94mtrain\u001b[0m  - \u001b[1m(\u001b[0mTrain\u001b[1m)\u001b[0m bce:  \u001b[1;36m0.3148\u001b[0m, mse:  \u001b[1;36m0.9101\u001b[0m,  acc: \u001b[1;36m89.716\u001b[0m %,   \u001b]8;id=657593;file:///n/home09/pren/3DGeno_tools/src/gt3d/modules/higashi/Higashi_wrapper.py\u001b\\\u001b[2mHigashi_wrapper.py\u001b[0m\u001b]8;;\u001b\\\u001b[2m:\u001b[0m\u001b]8;id=233940;file:///n/home09/pren/3DGeno_tools/src/gt3d/modules/higashi/Higashi_wrapper.py#1258\u001b\\\u001b[2m1258\u001b[0m\u001b]8;;\u001b\\\n",
       "\u001b[2;36m                    \u001b[0m         pearson: \u001b[1;36m0.682\u001b[0m, spearman: \u001b[1;36m0.577\u001b[0m, elapse: \u001b[1;36m89.770\u001b[0m s              \u001b[2m                       \u001b[0m\n"
      ]
     },
     "metadata": {},
     "output_type": "display_data"
    },
    {
     "data": {
      "application/vnd.jupyter.widget-view+json": {
       "model_id": "b238ea0627704b54ac98a516a2f91f20",
       "version_major": 2,
       "version_minor": 0
      },
      "text/plain": [
       "Output()"
      ]
     },
     "metadata": {},
     "output_type": "display_data"
    },
    {
     "data": {
      "text/html": [
       "<pre style=\"white-space:pre;overflow-x:auto;line-height:normal;font-family:Menlo,'DejaVu Sans Mono',consolas,'Courier New',monospace\"></pre>\n"
      ],
      "text/plain": []
     },
     "metadata": {},
     "output_type": "display_data"
    },
    {
     "data": {
      "text/html": [
       "<pre style=\"white-space:pre;overflow-x:auto;line-height:normal;font-family:Menlo,'DejaVu Sans Mono',consolas,'Courier New',monospace\"><span style=\"color: #7fbfbf; text-decoration-color: #7fbfbf\">                    </span><span style=\"color: #000080; text-decoration-color: #000080\">INFO    </span> <span style=\"color: #0000ff; text-decoration-color: #0000ff\">train</span>  - <span style=\"font-weight: bold\">(</span>Valid<span style=\"font-weight: bold\">)</span> bce:  <span style=\"color: #008080; text-decoration-color: #008080; font-weight: bold\">0.3744</span>,  acc: <span style=\"color: #008080; text-decoration-color: #008080; font-weight: bold\">89.036</span> %,pearson: <span style=\"color: #008080; text-decoration-color: #008080; font-weight: bold\">0.634</span>,  <a href=\"file:///n/home09/pren/3DGeno_tools/src/gt3d/modules/higashi/Higashi_wrapper.py\" target=\"_blank\"><span style=\"color: #7f7f7f; text-decoration-color: #7f7f7f\">Higashi_wrapper.py</span></a><span style=\"color: #7f7f7f; text-decoration-color: #7f7f7f\">:</span><a href=\"file:///n/home09/pren/3DGeno_tools/src/gt3d/modules/higashi/Higashi_wrapper.py#1277\" target=\"_blank\"><span style=\"color: #7f7f7f; text-decoration-color: #7f7f7f\">1277</span></a>\n",
       "<span style=\"color: #7fbfbf; text-decoration-color: #7fbfbf\">                    </span>         spearman: <span style=\"color: #008080; text-decoration-color: #008080; font-weight: bold\">0.555</span>,elapse: <span style=\"color: #008080; text-decoration-color: #008080; font-weight: bold\">0.052</span> s                                <span style=\"color: #7f7f7f; text-decoration-color: #7f7f7f\">                       </span>\n",
       "</pre>\n"
      ],
      "text/plain": [
       "\u001b[2;36m                   \u001b[0m\u001b[2;36m \u001b[0m\u001b[34mINFO    \u001b[0m \u001b[94mtrain\u001b[0m  - \u001b[1m(\u001b[0mValid\u001b[1m)\u001b[0m bce:  \u001b[1;36m0.3744\u001b[0m,  acc: \u001b[1;36m89.036\u001b[0m %,pearson: \u001b[1;36m0.634\u001b[0m,  \u001b]8;id=57790;file:///n/home09/pren/3DGeno_tools/src/gt3d/modules/higashi/Higashi_wrapper.py\u001b\\\u001b[2mHigashi_wrapper.py\u001b[0m\u001b]8;;\u001b\\\u001b[2m:\u001b[0m\u001b]8;id=671124;file:///n/home09/pren/3DGeno_tools/src/gt3d/modules/higashi/Higashi_wrapper.py#1277\u001b\\\u001b[2m1277\u001b[0m\u001b]8;;\u001b\\\n",
       "\u001b[2;36m                    \u001b[0m         spearman: \u001b[1;36m0.555\u001b[0m,elapse: \u001b[1;36m0.052\u001b[0m s                                \u001b[2m                       \u001b[0m\n"
      ]
     },
     "metadata": {},
     "output_type": "display_data"
    },
    {
     "data": {
      "text/html": [
       "<pre style=\"white-space:pre;overflow-x:auto;line-height:normal;font-family:Menlo,'DejaVu Sans Mono',consolas,'Courier New',monospace\"><span style=\"color: #7fbfbf; text-decoration-color: #7fbfbf\">                    </span><span style=\"color: #000080; text-decoration-color: #000080\">INFO    </span> <span style=\"color: #0000ff; text-decoration-color: #0000ff\">train</span> update_rate: <span style=\"color: #008080; text-decoration-color: #008080; font-weight: bold\">0.003974</span>     <span style=\"color: #008080; text-decoration-color: #008080; font-weight: bold\">0.145406</span>                       <a href=\"file:///n/home09/pren/3DGeno_tools/src/gt3d/modules/higashi/Higashi_wrapper.py\" target=\"_blank\"><span style=\"color: #7f7f7f; text-decoration-color: #7f7f7f\">Higashi_wrapper.py</span></a><span style=\"color: #7f7f7f; text-decoration-color: #7f7f7f\">:</span><a href=\"file:///n/home09/pren/3DGeno_tools/src/gt3d/modules/higashi/Higashi_wrapper.py#1323\" target=\"_blank\"><span style=\"color: #7f7f7f; text-decoration-color: #7f7f7f\">1323</span></a>\n",
       "</pre>\n"
      ],
      "text/plain": [
       "\u001b[2;36m                   \u001b[0m\u001b[2;36m \u001b[0m\u001b[34mINFO    \u001b[0m \u001b[94mtrain\u001b[0m update_rate: \u001b[1;36m0.003974\u001b[0m     \u001b[1;36m0.145406\u001b[0m                       \u001b]8;id=938197;file:///n/home09/pren/3DGeno_tools/src/gt3d/modules/higashi/Higashi_wrapper.py\u001b\\\u001b[2mHigashi_wrapper.py\u001b[0m\u001b]8;;\u001b\\\u001b[2m:\u001b[0m\u001b]8;id=853986;file:///n/home09/pren/3DGeno_tools/src/gt3d/modules/higashi/Higashi_wrapper.py#1323\u001b\\\u001b[2m1323\u001b[0m\u001b]8;;\u001b\\\n"
      ]
     },
     "metadata": {},
     "output_type": "display_data"
    },
    {
     "data": {
      "text/html": [
       "<pre style=\"white-space:pre;overflow-x:auto;line-height:normal;font-family:Menlo,'DejaVu Sans Mono',consolas,'Courier New',monospace\"><span style=\"color: #7fbfbf; text-decoration-color: #7fbfbf\">                    </span><span style=\"color: #000080; text-decoration-color: #000080\">INFO    </span> <span style=\"color: #0000ff; text-decoration-color: #0000ff\">train</span> <span style=\"font-weight: bold\">[</span> Epoch <span style=\"color: #008080; text-decoration-color: #008080; font-weight: bold\">43</span> of <span style=\"color: #008080; text-decoration-color: #008080; font-weight: bold\">200</span> <span style=\"font-weight: bold\">]</span>                                      <a href=\"file:///n/home09/pren/3DGeno_tools/src/gt3d/modules/higashi/Higashi_wrapper.py\" target=\"_blank\"><span style=\"color: #7f7f7f; text-decoration-color: #7f7f7f\">Higashi_wrapper.py</span></a><span style=\"color: #7f7f7f; text-decoration-color: #7f7f7f\">:</span><a href=\"file:///n/home09/pren/3DGeno_tools/src/gt3d/modules/higashi/Higashi_wrapper.py#1245\" target=\"_blank\"><span style=\"color: #7f7f7f; text-decoration-color: #7f7f7f\">1245</span></a>\n",
       "</pre>\n"
      ],
      "text/plain": [
       "\u001b[2;36m                   \u001b[0m\u001b[2;36m \u001b[0m\u001b[34mINFO    \u001b[0m \u001b[94mtrain\u001b[0m \u001b[1m[\u001b[0m Epoch \u001b[1;36m43\u001b[0m of \u001b[1;36m200\u001b[0m \u001b[1m]\u001b[0m                                      \u001b]8;id=276013;file:///n/home09/pren/3DGeno_tools/src/gt3d/modules/higashi/Higashi_wrapper.py\u001b\\\u001b[2mHigashi_wrapper.py\u001b[0m\u001b]8;;\u001b\\\u001b[2m:\u001b[0m\u001b]8;id=922917;file:///n/home09/pren/3DGeno_tools/src/gt3d/modules/higashi/Higashi_wrapper.py#1245\u001b\\\u001b[2m1245\u001b[0m\u001b]8;;\u001b\\\n"
      ]
     },
     "metadata": {},
     "output_type": "display_data"
    },
    {
     "data": {
      "application/vnd.jupyter.widget-view+json": {
       "model_id": "37c54a4a390444ad92246eaad516ad7a",
       "version_major": 2,
       "version_minor": 0
      },
      "text/plain": [
       "Output()"
      ]
     },
     "metadata": {},
     "output_type": "display_data"
    },
    {
     "data": {
      "text/html": [
       "<pre style=\"white-space:pre;overflow-x:auto;line-height:normal;font-family:Menlo,'DejaVu Sans Mono',consolas,'Courier New',monospace\"></pre>\n"
      ],
      "text/plain": []
     },
     "metadata": {},
     "output_type": "display_data"
    },
    {
     "data": {
      "text/html": [
       "<pre style=\"white-space:pre;overflow-x:auto;line-height:normal;font-family:Menlo,'DejaVu Sans Mono',consolas,'Courier New',monospace\"><span style=\"color: #7fbfbf; text-decoration-color: #7fbfbf\">[12/07/24 13:30:39] </span><span style=\"color: #000080; text-decoration-color: #000080\">INFO    </span> <span style=\"color: #0000ff; text-decoration-color: #0000ff\">train</span>  - <span style=\"font-weight: bold\">(</span>Train<span style=\"font-weight: bold\">)</span> bce:  <span style=\"color: #008080; text-decoration-color: #008080; font-weight: bold\">0.3150</span>, mse:  <span style=\"color: #008080; text-decoration-color: #008080; font-weight: bold\">0.9093</span>,  acc: <span style=\"color: #008080; text-decoration-color: #008080; font-weight: bold\">89.711</span> %,   <a href=\"file:///n/home09/pren/3DGeno_tools/src/gt3d/modules/higashi/Higashi_wrapper.py\" target=\"_blank\"><span style=\"color: #7f7f7f; text-decoration-color: #7f7f7f\">Higashi_wrapper.py</span></a><span style=\"color: #7f7f7f; text-decoration-color: #7f7f7f\">:</span><a href=\"file:///n/home09/pren/3DGeno_tools/src/gt3d/modules/higashi/Higashi_wrapper.py#1258\" target=\"_blank\"><span style=\"color: #7f7f7f; text-decoration-color: #7f7f7f\">1258</span></a>\n",
       "<span style=\"color: #7fbfbf; text-decoration-color: #7fbfbf\">                    </span>         pearson: <span style=\"color: #008080; text-decoration-color: #008080; font-weight: bold\">0.683</span>, spearman: <span style=\"color: #008080; text-decoration-color: #008080; font-weight: bold\">0.577</span>, elapse: <span style=\"color: #008080; text-decoration-color: #008080; font-weight: bold\">90.251</span> s              <span style=\"color: #7f7f7f; text-decoration-color: #7f7f7f\">                       </span>\n",
       "</pre>\n"
      ],
      "text/plain": [
       "\u001b[2;36m[12/07/24 13:30:39]\u001b[0m\u001b[2;36m \u001b[0m\u001b[34mINFO    \u001b[0m \u001b[94mtrain\u001b[0m  - \u001b[1m(\u001b[0mTrain\u001b[1m)\u001b[0m bce:  \u001b[1;36m0.3150\u001b[0m, mse:  \u001b[1;36m0.9093\u001b[0m,  acc: \u001b[1;36m89.711\u001b[0m %,   \u001b]8;id=270039;file:///n/home09/pren/3DGeno_tools/src/gt3d/modules/higashi/Higashi_wrapper.py\u001b\\\u001b[2mHigashi_wrapper.py\u001b[0m\u001b]8;;\u001b\\\u001b[2m:\u001b[0m\u001b]8;id=532114;file:///n/home09/pren/3DGeno_tools/src/gt3d/modules/higashi/Higashi_wrapper.py#1258\u001b\\\u001b[2m1258\u001b[0m\u001b]8;;\u001b\\\n",
       "\u001b[2;36m                    \u001b[0m         pearson: \u001b[1;36m0.683\u001b[0m, spearman: \u001b[1;36m0.577\u001b[0m, elapse: \u001b[1;36m90.251\u001b[0m s              \u001b[2m                       \u001b[0m\n"
      ]
     },
     "metadata": {},
     "output_type": "display_data"
    },
    {
     "data": {
      "application/vnd.jupyter.widget-view+json": {
       "model_id": "a4930bd050a64f48bcd25ac2b7141e73",
       "version_major": 2,
       "version_minor": 0
      },
      "text/plain": [
       "Output()"
      ]
     },
     "metadata": {},
     "output_type": "display_data"
    },
    {
     "data": {
      "text/html": [
       "<pre style=\"white-space:pre;overflow-x:auto;line-height:normal;font-family:Menlo,'DejaVu Sans Mono',consolas,'Courier New',monospace\"></pre>\n"
      ],
      "text/plain": []
     },
     "metadata": {},
     "output_type": "display_data"
    },
    {
     "data": {
      "text/html": [
       "<pre style=\"white-space:pre;overflow-x:auto;line-height:normal;font-family:Menlo,'DejaVu Sans Mono',consolas,'Courier New',monospace\"><span style=\"color: #7fbfbf; text-decoration-color: #7fbfbf\">                    </span><span style=\"color: #000080; text-decoration-color: #000080\">INFO    </span> <span style=\"color: #0000ff; text-decoration-color: #0000ff\">train</span>  - <span style=\"font-weight: bold\">(</span>Valid<span style=\"font-weight: bold\">)</span> bce:  <span style=\"color: #008080; text-decoration-color: #008080; font-weight: bold\">0.3588</span>,  acc: <span style=\"color: #008080; text-decoration-color: #008080; font-weight: bold\">88.997</span> %,pearson: <span style=\"color: #008080; text-decoration-color: #008080; font-weight: bold\">0.629</span>,  <a href=\"file:///n/home09/pren/3DGeno_tools/src/gt3d/modules/higashi/Higashi_wrapper.py\" target=\"_blank\"><span style=\"color: #7f7f7f; text-decoration-color: #7f7f7f\">Higashi_wrapper.py</span></a><span style=\"color: #7f7f7f; text-decoration-color: #7f7f7f\">:</span><a href=\"file:///n/home09/pren/3DGeno_tools/src/gt3d/modules/higashi/Higashi_wrapper.py#1277\" target=\"_blank\"><span style=\"color: #7f7f7f; text-decoration-color: #7f7f7f\">1277</span></a>\n",
       "<span style=\"color: #7fbfbf; text-decoration-color: #7fbfbf\">                    </span>         spearman: <span style=\"color: #008080; text-decoration-color: #008080; font-weight: bold\">0.561</span>,elapse: <span style=\"color: #008080; text-decoration-color: #008080; font-weight: bold\">0.051</span> s                                <span style=\"color: #7f7f7f; text-decoration-color: #7f7f7f\">                       </span>\n",
       "</pre>\n"
      ],
      "text/plain": [
       "\u001b[2;36m                   \u001b[0m\u001b[2;36m \u001b[0m\u001b[34mINFO    \u001b[0m \u001b[94mtrain\u001b[0m  - \u001b[1m(\u001b[0mValid\u001b[1m)\u001b[0m bce:  \u001b[1;36m0.3588\u001b[0m,  acc: \u001b[1;36m88.997\u001b[0m %,pearson: \u001b[1;36m0.629\u001b[0m,  \u001b]8;id=420190;file:///n/home09/pren/3DGeno_tools/src/gt3d/modules/higashi/Higashi_wrapper.py\u001b\\\u001b[2mHigashi_wrapper.py\u001b[0m\u001b]8;;\u001b\\\u001b[2m:\u001b[0m\u001b]8;id=342122;file:///n/home09/pren/3DGeno_tools/src/gt3d/modules/higashi/Higashi_wrapper.py#1277\u001b\\\u001b[2m1277\u001b[0m\u001b]8;;\u001b\\\n",
       "\u001b[2;36m                    \u001b[0m         spearman: \u001b[1;36m0.561\u001b[0m,elapse: \u001b[1;36m0.051\u001b[0m s                                \u001b[2m                       \u001b[0m\n"
      ]
     },
     "metadata": {},
     "output_type": "display_data"
    },
    {
     "data": {
      "text/html": [
       "<pre style=\"white-space:pre;overflow-x:auto;line-height:normal;font-family:Menlo,'DejaVu Sans Mono',consolas,'Courier New',monospace\"><span style=\"color: #7fbfbf; text-decoration-color: #7fbfbf\">                    </span><span style=\"color: #000080; text-decoration-color: #000080\">INFO    </span> <span style=\"color: #0000ff; text-decoration-color: #0000ff\">train</span> update_rate: <span style=\"color: #008080; text-decoration-color: #008080; font-weight: bold\">0.003828</span>     <span style=\"color: #008080; text-decoration-color: #008080; font-weight: bold\">0.155638</span>                       <a href=\"file:///n/home09/pren/3DGeno_tools/src/gt3d/modules/higashi/Higashi_wrapper.py\" target=\"_blank\"><span style=\"color: #7f7f7f; text-decoration-color: #7f7f7f\">Higashi_wrapper.py</span></a><span style=\"color: #7f7f7f; text-decoration-color: #7f7f7f\">:</span><a href=\"file:///n/home09/pren/3DGeno_tools/src/gt3d/modules/higashi/Higashi_wrapper.py#1323\" target=\"_blank\"><span style=\"color: #7f7f7f; text-decoration-color: #7f7f7f\">1323</span></a>\n",
       "</pre>\n"
      ],
      "text/plain": [
       "\u001b[2;36m                   \u001b[0m\u001b[2;36m \u001b[0m\u001b[34mINFO    \u001b[0m \u001b[94mtrain\u001b[0m update_rate: \u001b[1;36m0.003828\u001b[0m     \u001b[1;36m0.155638\u001b[0m                       \u001b]8;id=739271;file:///n/home09/pren/3DGeno_tools/src/gt3d/modules/higashi/Higashi_wrapper.py\u001b\\\u001b[2mHigashi_wrapper.py\u001b[0m\u001b]8;;\u001b\\\u001b[2m:\u001b[0m\u001b]8;id=835032;file:///n/home09/pren/3DGeno_tools/src/gt3d/modules/higashi/Higashi_wrapper.py#1323\u001b\\\u001b[2m1323\u001b[0m\u001b]8;;\u001b\\\n"
      ]
     },
     "metadata": {},
     "output_type": "display_data"
    },
    {
     "data": {
      "text/html": [
       "<pre style=\"white-space:pre;overflow-x:auto;line-height:normal;font-family:Menlo,'DejaVu Sans Mono',consolas,'Courier New',monospace\"><span style=\"color: #7fbfbf; text-decoration-color: #7fbfbf\">                    </span><span style=\"color: #000080; text-decoration-color: #000080\">INFO    </span> <span style=\"color: #0000ff; text-decoration-color: #0000ff\">train</span> <span style=\"font-weight: bold\">[</span> Epoch <span style=\"color: #008080; text-decoration-color: #008080; font-weight: bold\">44</span> of <span style=\"color: #008080; text-decoration-color: #008080; font-weight: bold\">200</span> <span style=\"font-weight: bold\">]</span>                                      <a href=\"file:///n/home09/pren/3DGeno_tools/src/gt3d/modules/higashi/Higashi_wrapper.py\" target=\"_blank\"><span style=\"color: #7f7f7f; text-decoration-color: #7f7f7f\">Higashi_wrapper.py</span></a><span style=\"color: #7f7f7f; text-decoration-color: #7f7f7f\">:</span><a href=\"file:///n/home09/pren/3DGeno_tools/src/gt3d/modules/higashi/Higashi_wrapper.py#1245\" target=\"_blank\"><span style=\"color: #7f7f7f; text-decoration-color: #7f7f7f\">1245</span></a>\n",
       "</pre>\n"
      ],
      "text/plain": [
       "\u001b[2;36m                   \u001b[0m\u001b[2;36m \u001b[0m\u001b[34mINFO    \u001b[0m \u001b[94mtrain\u001b[0m \u001b[1m[\u001b[0m Epoch \u001b[1;36m44\u001b[0m of \u001b[1;36m200\u001b[0m \u001b[1m]\u001b[0m                                      \u001b]8;id=105758;file:///n/home09/pren/3DGeno_tools/src/gt3d/modules/higashi/Higashi_wrapper.py\u001b\\\u001b[2mHigashi_wrapper.py\u001b[0m\u001b]8;;\u001b\\\u001b[2m:\u001b[0m\u001b]8;id=84811;file:///n/home09/pren/3DGeno_tools/src/gt3d/modules/higashi/Higashi_wrapper.py#1245\u001b\\\u001b[2m1245\u001b[0m\u001b]8;;\u001b\\\n"
      ]
     },
     "metadata": {},
     "output_type": "display_data"
    },
    {
     "data": {
      "application/vnd.jupyter.widget-view+json": {
       "model_id": "d573175cb6ed496db0989b45002571c3",
       "version_major": 2,
       "version_minor": 0
      },
      "text/plain": [
       "Output()"
      ]
     },
     "metadata": {},
     "output_type": "display_data"
    },
    {
     "data": {
      "text/html": [
       "<pre style=\"white-space:pre;overflow-x:auto;line-height:normal;font-family:Menlo,'DejaVu Sans Mono',consolas,'Courier New',monospace\"></pre>\n"
      ],
      "text/plain": []
     },
     "metadata": {},
     "output_type": "display_data"
    },
    {
     "data": {
      "text/html": [
       "<pre style=\"white-space:pre;overflow-x:auto;line-height:normal;font-family:Menlo,'DejaVu Sans Mono',consolas,'Courier New',monospace\"><span style=\"color: #7fbfbf; text-decoration-color: #7fbfbf\">[12/07/24 13:32:08] </span><span style=\"color: #000080; text-decoration-color: #000080\">INFO    </span> <span style=\"color: #0000ff; text-decoration-color: #0000ff\">train</span>  - <span style=\"font-weight: bold\">(</span>Train<span style=\"font-weight: bold\">)</span> bce:  <span style=\"color: #008080; text-decoration-color: #008080; font-weight: bold\">0.3124</span>, mse:  <span style=\"color: #008080; text-decoration-color: #008080; font-weight: bold\">0.9599</span>,  acc: <span style=\"color: #008080; text-decoration-color: #008080; font-weight: bold\">89.890</span> %,   <a href=\"file:///n/home09/pren/3DGeno_tools/src/gt3d/modules/higashi/Higashi_wrapper.py\" target=\"_blank\"><span style=\"color: #7f7f7f; text-decoration-color: #7f7f7f\">Higashi_wrapper.py</span></a><span style=\"color: #7f7f7f; text-decoration-color: #7f7f7f\">:</span><a href=\"file:///n/home09/pren/3DGeno_tools/src/gt3d/modules/higashi/Higashi_wrapper.py#1258\" target=\"_blank\"><span style=\"color: #7f7f7f; text-decoration-color: #7f7f7f\">1258</span></a>\n",
       "<span style=\"color: #7fbfbf; text-decoration-color: #7fbfbf\">                    </span>         pearson: <span style=\"color: #008080; text-decoration-color: #008080; font-weight: bold\">0.688</span>, spearman: <span style=\"color: #008080; text-decoration-color: #008080; font-weight: bold\">0.579</span>, elapse: <span style=\"color: #008080; text-decoration-color: #008080; font-weight: bold\">89.509</span> s              <span style=\"color: #7f7f7f; text-decoration-color: #7f7f7f\">                       </span>\n",
       "</pre>\n"
      ],
      "text/plain": [
       "\u001b[2;36m[12/07/24 13:32:08]\u001b[0m\u001b[2;36m \u001b[0m\u001b[34mINFO    \u001b[0m \u001b[94mtrain\u001b[0m  - \u001b[1m(\u001b[0mTrain\u001b[1m)\u001b[0m bce:  \u001b[1;36m0.3124\u001b[0m, mse:  \u001b[1;36m0.9599\u001b[0m,  acc: \u001b[1;36m89.890\u001b[0m %,   \u001b]8;id=736564;file:///n/home09/pren/3DGeno_tools/src/gt3d/modules/higashi/Higashi_wrapper.py\u001b\\\u001b[2mHigashi_wrapper.py\u001b[0m\u001b]8;;\u001b\\\u001b[2m:\u001b[0m\u001b]8;id=195340;file:///n/home09/pren/3DGeno_tools/src/gt3d/modules/higashi/Higashi_wrapper.py#1258\u001b\\\u001b[2m1258\u001b[0m\u001b]8;;\u001b\\\n",
       "\u001b[2;36m                    \u001b[0m         pearson: \u001b[1;36m0.688\u001b[0m, spearman: \u001b[1;36m0.579\u001b[0m, elapse: \u001b[1;36m89.509\u001b[0m s              \u001b[2m                       \u001b[0m\n"
      ]
     },
     "metadata": {},
     "output_type": "display_data"
    },
    {
     "data": {
      "application/vnd.jupyter.widget-view+json": {
       "model_id": "8c82d69fad4b408b9fd0caaaf6ceeef9",
       "version_major": 2,
       "version_minor": 0
      },
      "text/plain": [
       "Output()"
      ]
     },
     "metadata": {},
     "output_type": "display_data"
    },
    {
     "data": {
      "text/html": [
       "<pre style=\"white-space:pre;overflow-x:auto;line-height:normal;font-family:Menlo,'DejaVu Sans Mono',consolas,'Courier New',monospace\"></pre>\n"
      ],
      "text/plain": []
     },
     "metadata": {},
     "output_type": "display_data"
    },
    {
     "data": {
      "text/html": [
       "<pre style=\"white-space:pre;overflow-x:auto;line-height:normal;font-family:Menlo,'DejaVu Sans Mono',consolas,'Courier New',monospace\"><span style=\"color: #7fbfbf; text-decoration-color: #7fbfbf\">                    </span><span style=\"color: #000080; text-decoration-color: #000080\">INFO    </span> <span style=\"color: #0000ff; text-decoration-color: #0000ff\">train</span>  - <span style=\"font-weight: bold\">(</span>Valid<span style=\"font-weight: bold\">)</span> bce:  <span style=\"color: #008080; text-decoration-color: #008080; font-weight: bold\">0.3753</span>,  acc: <span style=\"color: #008080; text-decoration-color: #008080; font-weight: bold\">89.238</span> %,pearson: <span style=\"color: #008080; text-decoration-color: #008080; font-weight: bold\">0.625</span>,  <a href=\"file:///n/home09/pren/3DGeno_tools/src/gt3d/modules/higashi/Higashi_wrapper.py\" target=\"_blank\"><span style=\"color: #7f7f7f; text-decoration-color: #7f7f7f\">Higashi_wrapper.py</span></a><span style=\"color: #7f7f7f; text-decoration-color: #7f7f7f\">:</span><a href=\"file:///n/home09/pren/3DGeno_tools/src/gt3d/modules/higashi/Higashi_wrapper.py#1277\" target=\"_blank\"><span style=\"color: #7f7f7f; text-decoration-color: #7f7f7f\">1277</span></a>\n",
       "<span style=\"color: #7fbfbf; text-decoration-color: #7fbfbf\">                    </span>         spearman: <span style=\"color: #008080; text-decoration-color: #008080; font-weight: bold\">0.557</span>,elapse: <span style=\"color: #008080; text-decoration-color: #008080; font-weight: bold\">0.053</span> s                                <span style=\"color: #7f7f7f; text-decoration-color: #7f7f7f\">                       </span>\n",
       "</pre>\n"
      ],
      "text/plain": [
       "\u001b[2;36m                   \u001b[0m\u001b[2;36m \u001b[0m\u001b[34mINFO    \u001b[0m \u001b[94mtrain\u001b[0m  - \u001b[1m(\u001b[0mValid\u001b[1m)\u001b[0m bce:  \u001b[1;36m0.3753\u001b[0m,  acc: \u001b[1;36m89.238\u001b[0m %,pearson: \u001b[1;36m0.625\u001b[0m,  \u001b]8;id=528666;file:///n/home09/pren/3DGeno_tools/src/gt3d/modules/higashi/Higashi_wrapper.py\u001b\\\u001b[2mHigashi_wrapper.py\u001b[0m\u001b]8;;\u001b\\\u001b[2m:\u001b[0m\u001b]8;id=561714;file:///n/home09/pren/3DGeno_tools/src/gt3d/modules/higashi/Higashi_wrapper.py#1277\u001b\\\u001b[2m1277\u001b[0m\u001b]8;;\u001b\\\n",
       "\u001b[2;36m                    \u001b[0m         spearman: \u001b[1;36m0.557\u001b[0m,elapse: \u001b[1;36m0.053\u001b[0m s                                \u001b[2m                       \u001b[0m\n"
      ]
     },
     "metadata": {},
     "output_type": "display_data"
    },
    {
     "data": {
      "text/html": [
       "<pre style=\"white-space:pre;overflow-x:auto;line-height:normal;font-family:Menlo,'DejaVu Sans Mono',consolas,'Courier New',monospace\"><span style=\"color: #7fbfbf; text-decoration-color: #7fbfbf\">                    </span><span style=\"color: #000080; text-decoration-color: #000080\">INFO    </span> <span style=\"color: #0000ff; text-decoration-color: #0000ff\">train</span> update_rate: <span style=\"color: #008080; text-decoration-color: #008080; font-weight: bold\">0.003862</span>     <span style=\"color: #008080; text-decoration-color: #008080; font-weight: bold\">0.138857</span>                       <a href=\"file:///n/home09/pren/3DGeno_tools/src/gt3d/modules/higashi/Higashi_wrapper.py\" target=\"_blank\"><span style=\"color: #7f7f7f; text-decoration-color: #7f7f7f\">Higashi_wrapper.py</span></a><span style=\"color: #7f7f7f; text-decoration-color: #7f7f7f\">:</span><a href=\"file:///n/home09/pren/3DGeno_tools/src/gt3d/modules/higashi/Higashi_wrapper.py#1323\" target=\"_blank\"><span style=\"color: #7f7f7f; text-decoration-color: #7f7f7f\">1323</span></a>\n",
       "</pre>\n"
      ],
      "text/plain": [
       "\u001b[2;36m                   \u001b[0m\u001b[2;36m \u001b[0m\u001b[34mINFO    \u001b[0m \u001b[94mtrain\u001b[0m update_rate: \u001b[1;36m0.003862\u001b[0m     \u001b[1;36m0.138857\u001b[0m                       \u001b]8;id=196009;file:///n/home09/pren/3DGeno_tools/src/gt3d/modules/higashi/Higashi_wrapper.py\u001b\\\u001b[2mHigashi_wrapper.py\u001b[0m\u001b]8;;\u001b\\\u001b[2m:\u001b[0m\u001b]8;id=318179;file:///n/home09/pren/3DGeno_tools/src/gt3d/modules/higashi/Higashi_wrapper.py#1323\u001b\\\u001b[2m1323\u001b[0m\u001b]8;;\u001b\\\n"
      ]
     },
     "metadata": {},
     "output_type": "display_data"
    },
    {
     "data": {
      "text/html": [
       "<pre style=\"white-space:pre;overflow-x:auto;line-height:normal;font-family:Menlo,'DejaVu Sans Mono',consolas,'Courier New',monospace\"><span style=\"color: #7fbfbf; text-decoration-color: #7fbfbf\">[12/07/24 13:32:09] </span><span style=\"color: #000080; text-decoration-color: #000080\">INFO    </span> <span style=\"color: #0000ff; text-decoration-color: #0000ff\">train</span> <span style=\"font-weight: bold\">[</span> Epoch <span style=\"color: #008080; text-decoration-color: #008080; font-weight: bold\">45</span> of <span style=\"color: #008080; text-decoration-color: #008080; font-weight: bold\">200</span> <span style=\"font-weight: bold\">]</span>                                      <a href=\"file:///n/home09/pren/3DGeno_tools/src/gt3d/modules/higashi/Higashi_wrapper.py\" target=\"_blank\"><span style=\"color: #7f7f7f; text-decoration-color: #7f7f7f\">Higashi_wrapper.py</span></a><span style=\"color: #7f7f7f; text-decoration-color: #7f7f7f\">:</span><a href=\"file:///n/home09/pren/3DGeno_tools/src/gt3d/modules/higashi/Higashi_wrapper.py#1245\" target=\"_blank\"><span style=\"color: #7f7f7f; text-decoration-color: #7f7f7f\">1245</span></a>\n",
       "</pre>\n"
      ],
      "text/plain": [
       "\u001b[2;36m[12/07/24 13:32:09]\u001b[0m\u001b[2;36m \u001b[0m\u001b[34mINFO    \u001b[0m \u001b[94mtrain\u001b[0m \u001b[1m[\u001b[0m Epoch \u001b[1;36m45\u001b[0m of \u001b[1;36m200\u001b[0m \u001b[1m]\u001b[0m                                      \u001b]8;id=925268;file:///n/home09/pren/3DGeno_tools/src/gt3d/modules/higashi/Higashi_wrapper.py\u001b\\\u001b[2mHigashi_wrapper.py\u001b[0m\u001b]8;;\u001b\\\u001b[2m:\u001b[0m\u001b]8;id=342106;file:///n/home09/pren/3DGeno_tools/src/gt3d/modules/higashi/Higashi_wrapper.py#1245\u001b\\\u001b[2m1245\u001b[0m\u001b]8;;\u001b\\\n"
      ]
     },
     "metadata": {},
     "output_type": "display_data"
    },
    {
     "data": {
      "application/vnd.jupyter.widget-view+json": {
       "model_id": "2d803d9558084f1ca419350678ce2027",
       "version_major": 2,
       "version_minor": 0
      },
      "text/plain": [
       "Output()"
      ]
     },
     "metadata": {},
     "output_type": "display_data"
    },
    {
     "data": {
      "text/html": [
       "<pre style=\"white-space:pre;overflow-x:auto;line-height:normal;font-family:Menlo,'DejaVu Sans Mono',consolas,'Courier New',monospace\"></pre>\n"
      ],
      "text/plain": []
     },
     "metadata": {},
     "output_type": "display_data"
    },
    {
     "data": {
      "text/html": [
       "<pre style=\"white-space:pre;overflow-x:auto;line-height:normal;font-family:Menlo,'DejaVu Sans Mono',consolas,'Courier New',monospace\"><span style=\"color: #7fbfbf; text-decoration-color: #7fbfbf\">[12/07/24 13:33:38] </span><span style=\"color: #000080; text-decoration-color: #000080\">INFO    </span> <span style=\"color: #0000ff; text-decoration-color: #0000ff\">train</span>  - <span style=\"font-weight: bold\">(</span>Train<span style=\"font-weight: bold\">)</span> bce:  <span style=\"color: #008080; text-decoration-color: #008080; font-weight: bold\">0.3123</span>, mse:  <span style=\"color: #008080; text-decoration-color: #008080; font-weight: bold\">1.0707</span>,  acc: <span style=\"color: #008080; text-decoration-color: #008080; font-weight: bold\">89.895</span> %,   <a href=\"file:///n/home09/pren/3DGeno_tools/src/gt3d/modules/higashi/Higashi_wrapper.py\" target=\"_blank\"><span style=\"color: #7f7f7f; text-decoration-color: #7f7f7f\">Higashi_wrapper.py</span></a><span style=\"color: #7f7f7f; text-decoration-color: #7f7f7f\">:</span><a href=\"file:///n/home09/pren/3DGeno_tools/src/gt3d/modules/higashi/Higashi_wrapper.py#1258\" target=\"_blank\"><span style=\"color: #7f7f7f; text-decoration-color: #7f7f7f\">1258</span></a>\n",
       "<span style=\"color: #7fbfbf; text-decoration-color: #7fbfbf\">                    </span>         pearson: <span style=\"color: #008080; text-decoration-color: #008080; font-weight: bold\">0.687</span>, spearman: <span style=\"color: #008080; text-decoration-color: #008080; font-weight: bold\">0.579</span>, elapse: <span style=\"color: #008080; text-decoration-color: #008080; font-weight: bold\">89.753</span> s              <span style=\"color: #7f7f7f; text-decoration-color: #7f7f7f\">                       </span>\n",
       "</pre>\n"
      ],
      "text/plain": [
       "\u001b[2;36m[12/07/24 13:33:38]\u001b[0m\u001b[2;36m \u001b[0m\u001b[34mINFO    \u001b[0m \u001b[94mtrain\u001b[0m  - \u001b[1m(\u001b[0mTrain\u001b[1m)\u001b[0m bce:  \u001b[1;36m0.3123\u001b[0m, mse:  \u001b[1;36m1.0707\u001b[0m,  acc: \u001b[1;36m89.895\u001b[0m %,   \u001b]8;id=740819;file:///n/home09/pren/3DGeno_tools/src/gt3d/modules/higashi/Higashi_wrapper.py\u001b\\\u001b[2mHigashi_wrapper.py\u001b[0m\u001b]8;;\u001b\\\u001b[2m:\u001b[0m\u001b]8;id=187356;file:///n/home09/pren/3DGeno_tools/src/gt3d/modules/higashi/Higashi_wrapper.py#1258\u001b\\\u001b[2m1258\u001b[0m\u001b]8;;\u001b\\\n",
       "\u001b[2;36m                    \u001b[0m         pearson: \u001b[1;36m0.687\u001b[0m, spearman: \u001b[1;36m0.579\u001b[0m, elapse: \u001b[1;36m89.753\u001b[0m s              \u001b[2m                       \u001b[0m\n"
      ]
     },
     "metadata": {},
     "output_type": "display_data"
    },
    {
     "data": {
      "application/vnd.jupyter.widget-view+json": {
       "model_id": "848fa02b1c664d6780e41abbf666ac45",
       "version_major": 2,
       "version_minor": 0
      },
      "text/plain": [
       "Output()"
      ]
     },
     "metadata": {},
     "output_type": "display_data"
    },
    {
     "data": {
      "text/html": [
       "<pre style=\"white-space:pre;overflow-x:auto;line-height:normal;font-family:Menlo,'DejaVu Sans Mono',consolas,'Courier New',monospace\"></pre>\n"
      ],
      "text/plain": []
     },
     "metadata": {},
     "output_type": "display_data"
    },
    {
     "data": {
      "text/html": [
       "<pre style=\"white-space:pre;overflow-x:auto;line-height:normal;font-family:Menlo,'DejaVu Sans Mono',consolas,'Courier New',monospace\"><span style=\"color: #7fbfbf; text-decoration-color: #7fbfbf\">                    </span><span style=\"color: #000080; text-decoration-color: #000080\">INFO    </span> <span style=\"color: #0000ff; text-decoration-color: #0000ff\">train</span>  - <span style=\"font-weight: bold\">(</span>Valid<span style=\"font-weight: bold\">)</span> bce:  <span style=\"color: #008080; text-decoration-color: #008080; font-weight: bold\">0.3731</span>,  acc: <span style=\"color: #008080; text-decoration-color: #008080; font-weight: bold\">88.548</span> %,pearson: <span style=\"color: #008080; text-decoration-color: #008080; font-weight: bold\">0.628</span>,  <a href=\"file:///n/home09/pren/3DGeno_tools/src/gt3d/modules/higashi/Higashi_wrapper.py\" target=\"_blank\"><span style=\"color: #7f7f7f; text-decoration-color: #7f7f7f\">Higashi_wrapper.py</span></a><span style=\"color: #7f7f7f; text-decoration-color: #7f7f7f\">:</span><a href=\"file:///n/home09/pren/3DGeno_tools/src/gt3d/modules/higashi/Higashi_wrapper.py#1277\" target=\"_blank\"><span style=\"color: #7f7f7f; text-decoration-color: #7f7f7f\">1277</span></a>\n",
       "<span style=\"color: #7fbfbf; text-decoration-color: #7fbfbf\">                    </span>         spearman: <span style=\"color: #008080; text-decoration-color: #008080; font-weight: bold\">0.553</span>,elapse: <span style=\"color: #008080; text-decoration-color: #008080; font-weight: bold\">0.052</span> s                                <span style=\"color: #7f7f7f; text-decoration-color: #7f7f7f\">                       </span>\n",
       "</pre>\n"
      ],
      "text/plain": [
       "\u001b[2;36m                   \u001b[0m\u001b[2;36m \u001b[0m\u001b[34mINFO    \u001b[0m \u001b[94mtrain\u001b[0m  - \u001b[1m(\u001b[0mValid\u001b[1m)\u001b[0m bce:  \u001b[1;36m0.3731\u001b[0m,  acc: \u001b[1;36m88.548\u001b[0m %,pearson: \u001b[1;36m0.628\u001b[0m,  \u001b]8;id=675908;file:///n/home09/pren/3DGeno_tools/src/gt3d/modules/higashi/Higashi_wrapper.py\u001b\\\u001b[2mHigashi_wrapper.py\u001b[0m\u001b]8;;\u001b\\\u001b[2m:\u001b[0m\u001b]8;id=344692;file:///n/home09/pren/3DGeno_tools/src/gt3d/modules/higashi/Higashi_wrapper.py#1277\u001b\\\u001b[2m1277\u001b[0m\u001b]8;;\u001b\\\n",
       "\u001b[2;36m                    \u001b[0m         spearman: \u001b[1;36m0.553\u001b[0m,elapse: \u001b[1;36m0.052\u001b[0m s                                \u001b[2m                       \u001b[0m\n"
      ]
     },
     "metadata": {},
     "output_type": "display_data"
    },
    {
     "data": {
      "text/html": [
       "<pre style=\"white-space:pre;overflow-x:auto;line-height:normal;font-family:Menlo,'DejaVu Sans Mono',consolas,'Courier New',monospace\"><span style=\"color: #7fbfbf; text-decoration-color: #7fbfbf\">                    </span><span style=\"color: #000080; text-decoration-color: #000080\">INFO    </span> <span style=\"color: #0000ff; text-decoration-color: #0000ff\">train</span> update_rate: <span style=\"color: #008080; text-decoration-color: #008080; font-weight: bold\">0.003029</span>     <span style=\"color: #008080; text-decoration-color: #008080; font-weight: bold\">0.122131</span>                       <a href=\"file:///n/home09/pren/3DGeno_tools/src/gt3d/modules/higashi/Higashi_wrapper.py\" target=\"_blank\"><span style=\"color: #7f7f7f; text-decoration-color: #7f7f7f\">Higashi_wrapper.py</span></a><span style=\"color: #7f7f7f; text-decoration-color: #7f7f7f\">:</span><a href=\"file:///n/home09/pren/3DGeno_tools/src/gt3d/modules/higashi/Higashi_wrapper.py#1323\" target=\"_blank\"><span style=\"color: #7f7f7f; text-decoration-color: #7f7f7f\">1323</span></a>\n",
       "</pre>\n"
      ],
      "text/plain": [
       "\u001b[2;36m                   \u001b[0m\u001b[2;36m \u001b[0m\u001b[34mINFO    \u001b[0m \u001b[94mtrain\u001b[0m update_rate: \u001b[1;36m0.003029\u001b[0m     \u001b[1;36m0.122131\u001b[0m                       \u001b]8;id=191550;file:///n/home09/pren/3DGeno_tools/src/gt3d/modules/higashi/Higashi_wrapper.py\u001b\\\u001b[2mHigashi_wrapper.py\u001b[0m\u001b]8;;\u001b\\\u001b[2m:\u001b[0m\u001b]8;id=481270;file:///n/home09/pren/3DGeno_tools/src/gt3d/modules/higashi/Higashi_wrapper.py#1323\u001b\\\u001b[2m1323\u001b[0m\u001b]8;;\u001b\\\n"
      ]
     },
     "metadata": {},
     "output_type": "display_data"
    },
    {
     "data": {
      "text/html": [
       "<pre style=\"white-space:pre;overflow-x:auto;line-height:normal;font-family:Menlo,'DejaVu Sans Mono',consolas,'Courier New',monospace\"><span style=\"color: #7fbfbf; text-decoration-color: #7fbfbf\">[12/07/24 13:33:39] </span><span style=\"color: #000080; text-decoration-color: #000080\">INFO    </span> <span style=\"color: #0000ff; text-decoration-color: #0000ff\">train</span> <span style=\"font-weight: bold\">[</span> Epoch <span style=\"color: #008080; text-decoration-color: #008080; font-weight: bold\">46</span> of <span style=\"color: #008080; text-decoration-color: #008080; font-weight: bold\">200</span> <span style=\"font-weight: bold\">]</span>                                      <a href=\"file:///n/home09/pren/3DGeno_tools/src/gt3d/modules/higashi/Higashi_wrapper.py\" target=\"_blank\"><span style=\"color: #7f7f7f; text-decoration-color: #7f7f7f\">Higashi_wrapper.py</span></a><span style=\"color: #7f7f7f; text-decoration-color: #7f7f7f\">:</span><a href=\"file:///n/home09/pren/3DGeno_tools/src/gt3d/modules/higashi/Higashi_wrapper.py#1245\" target=\"_blank\"><span style=\"color: #7f7f7f; text-decoration-color: #7f7f7f\">1245</span></a>\n",
       "</pre>\n"
      ],
      "text/plain": [
       "\u001b[2;36m[12/07/24 13:33:39]\u001b[0m\u001b[2;36m \u001b[0m\u001b[34mINFO    \u001b[0m \u001b[94mtrain\u001b[0m \u001b[1m[\u001b[0m Epoch \u001b[1;36m46\u001b[0m of \u001b[1;36m200\u001b[0m \u001b[1m]\u001b[0m                                      \u001b]8;id=261587;file:///n/home09/pren/3DGeno_tools/src/gt3d/modules/higashi/Higashi_wrapper.py\u001b\\\u001b[2mHigashi_wrapper.py\u001b[0m\u001b]8;;\u001b\\\u001b[2m:\u001b[0m\u001b]8;id=607231;file:///n/home09/pren/3DGeno_tools/src/gt3d/modules/higashi/Higashi_wrapper.py#1245\u001b\\\u001b[2m1245\u001b[0m\u001b]8;;\u001b\\\n"
      ]
     },
     "metadata": {},
     "output_type": "display_data"
    },
    {
     "data": {
      "application/vnd.jupyter.widget-view+json": {
       "model_id": "78d2113325ce482f9a0bb08a0cffc16b",
       "version_major": 2,
       "version_minor": 0
      },
      "text/plain": [
       "Output()"
      ]
     },
     "metadata": {},
     "output_type": "display_data"
    },
    {
     "data": {
      "text/html": [
       "<pre style=\"white-space:pre;overflow-x:auto;line-height:normal;font-family:Menlo,'DejaVu Sans Mono',consolas,'Courier New',monospace\"></pre>\n"
      ],
      "text/plain": []
     },
     "metadata": {},
     "output_type": "display_data"
    },
    {
     "data": {
      "text/html": [
       "<pre style=\"white-space:pre;overflow-x:auto;line-height:normal;font-family:Menlo,'DejaVu Sans Mono',consolas,'Courier New',monospace\"><span style=\"color: #7fbfbf; text-decoration-color: #7fbfbf\">[12/07/24 13:35:09] </span><span style=\"color: #000080; text-decoration-color: #000080\">INFO    </span> <span style=\"color: #0000ff; text-decoration-color: #0000ff\">train</span>  - <span style=\"font-weight: bold\">(</span>Train<span style=\"font-weight: bold\">)</span> bce:  <span style=\"color: #008080; text-decoration-color: #008080; font-weight: bold\">0.3122</span>, mse:  <span style=\"color: #008080; text-decoration-color: #008080; font-weight: bold\">0.9406</span>,  acc: <span style=\"color: #008080; text-decoration-color: #008080; font-weight: bold\">89.911</span> %,   <a href=\"file:///n/home09/pren/3DGeno_tools/src/gt3d/modules/higashi/Higashi_wrapper.py\" target=\"_blank\"><span style=\"color: #7f7f7f; text-decoration-color: #7f7f7f\">Higashi_wrapper.py</span></a><span style=\"color: #7f7f7f; text-decoration-color: #7f7f7f\">:</span><a href=\"file:///n/home09/pren/3DGeno_tools/src/gt3d/modules/higashi/Higashi_wrapper.py#1258\" target=\"_blank\"><span style=\"color: #7f7f7f; text-decoration-color: #7f7f7f\">1258</span></a>\n",
       "<span style=\"color: #7fbfbf; text-decoration-color: #7fbfbf\">                    </span>         pearson: <span style=\"color: #008080; text-decoration-color: #008080; font-weight: bold\">0.687</span>, spearman: <span style=\"color: #008080; text-decoration-color: #008080; font-weight: bold\">0.579</span>, elapse: <span style=\"color: #008080; text-decoration-color: #008080; font-weight: bold\">90.009</span> s              <span style=\"color: #7f7f7f; text-decoration-color: #7f7f7f\">                       </span>\n",
       "</pre>\n"
      ],
      "text/plain": [
       "\u001b[2;36m[12/07/24 13:35:09]\u001b[0m\u001b[2;36m \u001b[0m\u001b[34mINFO    \u001b[0m \u001b[94mtrain\u001b[0m  - \u001b[1m(\u001b[0mTrain\u001b[1m)\u001b[0m bce:  \u001b[1;36m0.3122\u001b[0m, mse:  \u001b[1;36m0.9406\u001b[0m,  acc: \u001b[1;36m89.911\u001b[0m %,   \u001b]8;id=299758;file:///n/home09/pren/3DGeno_tools/src/gt3d/modules/higashi/Higashi_wrapper.py\u001b\\\u001b[2mHigashi_wrapper.py\u001b[0m\u001b]8;;\u001b\\\u001b[2m:\u001b[0m\u001b]8;id=727602;file:///n/home09/pren/3DGeno_tools/src/gt3d/modules/higashi/Higashi_wrapper.py#1258\u001b\\\u001b[2m1258\u001b[0m\u001b]8;;\u001b\\\n",
       "\u001b[2;36m                    \u001b[0m         pearson: \u001b[1;36m0.687\u001b[0m, spearman: \u001b[1;36m0.579\u001b[0m, elapse: \u001b[1;36m90.009\u001b[0m s              \u001b[2m                       \u001b[0m\n"
      ]
     },
     "metadata": {},
     "output_type": "display_data"
    },
    {
     "data": {
      "application/vnd.jupyter.widget-view+json": {
       "model_id": "15ed049966fd495fad31a67c6ebceb03",
       "version_major": 2,
       "version_minor": 0
      },
      "text/plain": [
       "Output()"
      ]
     },
     "metadata": {},
     "output_type": "display_data"
    },
    {
     "data": {
      "text/html": [
       "<pre style=\"white-space:pre;overflow-x:auto;line-height:normal;font-family:Menlo,'DejaVu Sans Mono',consolas,'Courier New',monospace\"></pre>\n"
      ],
      "text/plain": []
     },
     "metadata": {},
     "output_type": "display_data"
    },
    {
     "data": {
      "text/html": [
       "<pre style=\"white-space:pre;overflow-x:auto;line-height:normal;font-family:Menlo,'DejaVu Sans Mono',consolas,'Courier New',monospace\"><span style=\"color: #7fbfbf; text-decoration-color: #7fbfbf\">                    </span><span style=\"color: #000080; text-decoration-color: #000080\">INFO    </span> <span style=\"color: #0000ff; text-decoration-color: #0000ff\">train</span>  - <span style=\"font-weight: bold\">(</span>Valid<span style=\"font-weight: bold\">)</span> bce:  <span style=\"color: #008080; text-decoration-color: #008080; font-weight: bold\">0.3590</span>,  acc: <span style=\"color: #008080; text-decoration-color: #008080; font-weight: bold\">88.828</span> %,pearson: <span style=\"color: #008080; text-decoration-color: #008080; font-weight: bold\">0.622</span>,  <a href=\"file:///n/home09/pren/3DGeno_tools/src/gt3d/modules/higashi/Higashi_wrapper.py\" target=\"_blank\"><span style=\"color: #7f7f7f; text-decoration-color: #7f7f7f\">Higashi_wrapper.py</span></a><span style=\"color: #7f7f7f; text-decoration-color: #7f7f7f\">:</span><a href=\"file:///n/home09/pren/3DGeno_tools/src/gt3d/modules/higashi/Higashi_wrapper.py#1277\" target=\"_blank\"><span style=\"color: #7f7f7f; text-decoration-color: #7f7f7f\">1277</span></a>\n",
       "<span style=\"color: #7fbfbf; text-decoration-color: #7fbfbf\">                    </span>         spearman: <span style=\"color: #008080; text-decoration-color: #008080; font-weight: bold\">0.555</span>,elapse: <span style=\"color: #008080; text-decoration-color: #008080; font-weight: bold\">0.052</span> s                                <span style=\"color: #7f7f7f; text-decoration-color: #7f7f7f\">                       </span>\n",
       "</pre>\n"
      ],
      "text/plain": [
       "\u001b[2;36m                   \u001b[0m\u001b[2;36m \u001b[0m\u001b[34mINFO    \u001b[0m \u001b[94mtrain\u001b[0m  - \u001b[1m(\u001b[0mValid\u001b[1m)\u001b[0m bce:  \u001b[1;36m0.3590\u001b[0m,  acc: \u001b[1;36m88.828\u001b[0m %,pearson: \u001b[1;36m0.622\u001b[0m,  \u001b]8;id=336093;file:///n/home09/pren/3DGeno_tools/src/gt3d/modules/higashi/Higashi_wrapper.py\u001b\\\u001b[2mHigashi_wrapper.py\u001b[0m\u001b]8;;\u001b\\\u001b[2m:\u001b[0m\u001b]8;id=549205;file:///n/home09/pren/3DGeno_tools/src/gt3d/modules/higashi/Higashi_wrapper.py#1277\u001b\\\u001b[2m1277\u001b[0m\u001b]8;;\u001b\\\n",
       "\u001b[2;36m                    \u001b[0m         spearman: \u001b[1;36m0.555\u001b[0m,elapse: \u001b[1;36m0.052\u001b[0m s                                \u001b[2m                       \u001b[0m\n"
      ]
     },
     "metadata": {},
     "output_type": "display_data"
    },
    {
     "data": {
      "text/html": [
       "<pre style=\"white-space:pre;overflow-x:auto;line-height:normal;font-family:Menlo,'DejaVu Sans Mono',consolas,'Courier New',monospace\"><span style=\"color: #7fbfbf; text-decoration-color: #7fbfbf\">                    </span><span style=\"color: #000080; text-decoration-color: #000080\">INFO    </span> <span style=\"color: #0000ff; text-decoration-color: #0000ff\">train</span> update_rate: <span style=\"color: #008080; text-decoration-color: #008080; font-weight: bold\">0.003015</span>     <span style=\"color: #008080; text-decoration-color: #008080; font-weight: bold\">0.102930</span>                       <a href=\"file:///n/home09/pren/3DGeno_tools/src/gt3d/modules/higashi/Higashi_wrapper.py\" target=\"_blank\"><span style=\"color: #7f7f7f; text-decoration-color: #7f7f7f\">Higashi_wrapper.py</span></a><span style=\"color: #7f7f7f; text-decoration-color: #7f7f7f\">:</span><a href=\"file:///n/home09/pren/3DGeno_tools/src/gt3d/modules/higashi/Higashi_wrapper.py#1323\" target=\"_blank\"><span style=\"color: #7f7f7f; text-decoration-color: #7f7f7f\">1323</span></a>\n",
       "</pre>\n"
      ],
      "text/plain": [
       "\u001b[2;36m                   \u001b[0m\u001b[2;36m \u001b[0m\u001b[34mINFO    \u001b[0m \u001b[94mtrain\u001b[0m update_rate: \u001b[1;36m0.003015\u001b[0m     \u001b[1;36m0.102930\u001b[0m                       \u001b]8;id=261638;file:///n/home09/pren/3DGeno_tools/src/gt3d/modules/higashi/Higashi_wrapper.py\u001b\\\u001b[2mHigashi_wrapper.py\u001b[0m\u001b]8;;\u001b\\\u001b[2m:\u001b[0m\u001b]8;id=629331;file:///n/home09/pren/3DGeno_tools/src/gt3d/modules/higashi/Higashi_wrapper.py#1323\u001b\\\u001b[2m1323\u001b[0m\u001b]8;;\u001b\\\n"
      ]
     },
     "metadata": {},
     "output_type": "display_data"
    },
    {
     "data": {
      "text/html": [
       "<pre style=\"white-space:pre;overflow-x:auto;line-height:normal;font-family:Menlo,'DejaVu Sans Mono',consolas,'Courier New',monospace\"><span style=\"color: #7fbfbf; text-decoration-color: #7fbfbf\">                    </span><span style=\"color: #000080; text-decoration-color: #000080\">INFO    </span> <span style=\"color: #0000ff; text-decoration-color: #0000ff\">train</span> <span style=\"font-weight: bold\">[</span> Epoch <span style=\"color: #008080; text-decoration-color: #008080; font-weight: bold\">47</span> of <span style=\"color: #008080; text-decoration-color: #008080; font-weight: bold\">200</span> <span style=\"font-weight: bold\">]</span>                                      <a href=\"file:///n/home09/pren/3DGeno_tools/src/gt3d/modules/higashi/Higashi_wrapper.py\" target=\"_blank\"><span style=\"color: #7f7f7f; text-decoration-color: #7f7f7f\">Higashi_wrapper.py</span></a><span style=\"color: #7f7f7f; text-decoration-color: #7f7f7f\">:</span><a href=\"file:///n/home09/pren/3DGeno_tools/src/gt3d/modules/higashi/Higashi_wrapper.py#1245\" target=\"_blank\"><span style=\"color: #7f7f7f; text-decoration-color: #7f7f7f\">1245</span></a>\n",
       "</pre>\n"
      ],
      "text/plain": [
       "\u001b[2;36m                   \u001b[0m\u001b[2;36m \u001b[0m\u001b[34mINFO    \u001b[0m \u001b[94mtrain\u001b[0m \u001b[1m[\u001b[0m Epoch \u001b[1;36m47\u001b[0m of \u001b[1;36m200\u001b[0m \u001b[1m]\u001b[0m                                      \u001b]8;id=531245;file:///n/home09/pren/3DGeno_tools/src/gt3d/modules/higashi/Higashi_wrapper.py\u001b\\\u001b[2mHigashi_wrapper.py\u001b[0m\u001b]8;;\u001b\\\u001b[2m:\u001b[0m\u001b]8;id=958973;file:///n/home09/pren/3DGeno_tools/src/gt3d/modules/higashi/Higashi_wrapper.py#1245\u001b\\\u001b[2m1245\u001b[0m\u001b]8;;\u001b\\\n"
      ]
     },
     "metadata": {},
     "output_type": "display_data"
    },
    {
     "data": {
      "application/vnd.jupyter.widget-view+json": {
       "model_id": "3a7514f1928a4d8c9308f4a71a15c4ef",
       "version_major": 2,
       "version_minor": 0
      },
      "text/plain": [
       "Output()"
      ]
     },
     "metadata": {},
     "output_type": "display_data"
    },
    {
     "data": {
      "text/html": [
       "<pre style=\"white-space:pre;overflow-x:auto;line-height:normal;font-family:Menlo,'DejaVu Sans Mono',consolas,'Courier New',monospace\"></pre>\n"
      ],
      "text/plain": []
     },
     "metadata": {},
     "output_type": "display_data"
    },
    {
     "data": {
      "text/html": [
       "<pre style=\"white-space:pre;overflow-x:auto;line-height:normal;font-family:Menlo,'DejaVu Sans Mono',consolas,'Courier New',monospace\"><span style=\"color: #7fbfbf; text-decoration-color: #7fbfbf\">[12/07/24 13:36:38] </span><span style=\"color: #000080; text-decoration-color: #000080\">INFO    </span> <span style=\"color: #0000ff; text-decoration-color: #0000ff\">train</span>  - <span style=\"font-weight: bold\">(</span>Train<span style=\"font-weight: bold\">)</span> bce:  <span style=\"color: #008080; text-decoration-color: #008080; font-weight: bold\">0.3131</span>, mse:  <span style=\"color: #008080; text-decoration-color: #008080; font-weight: bold\">0.8638</span>,  acc: <span style=\"color: #008080; text-decoration-color: #008080; font-weight: bold\">89.833</span> %,   <a href=\"file:///n/home09/pren/3DGeno_tools/src/gt3d/modules/higashi/Higashi_wrapper.py\" target=\"_blank\"><span style=\"color: #7f7f7f; text-decoration-color: #7f7f7f\">Higashi_wrapper.py</span></a><span style=\"color: #7f7f7f; text-decoration-color: #7f7f7f\">:</span><a href=\"file:///n/home09/pren/3DGeno_tools/src/gt3d/modules/higashi/Higashi_wrapper.py#1258\" target=\"_blank\"><span style=\"color: #7f7f7f; text-decoration-color: #7f7f7f\">1258</span></a>\n",
       "<span style=\"color: #7fbfbf; text-decoration-color: #7fbfbf\">                    </span>         pearson: <span style=\"color: #008080; text-decoration-color: #008080; font-weight: bold\">0.685</span>, spearman: <span style=\"color: #008080; text-decoration-color: #008080; font-weight: bold\">0.578</span>, elapse: <span style=\"color: #008080; text-decoration-color: #008080; font-weight: bold\">89.426</span> s              <span style=\"color: #7f7f7f; text-decoration-color: #7f7f7f\">                       </span>\n",
       "</pre>\n"
      ],
      "text/plain": [
       "\u001b[2;36m[12/07/24 13:36:38]\u001b[0m\u001b[2;36m \u001b[0m\u001b[34mINFO    \u001b[0m \u001b[94mtrain\u001b[0m  - \u001b[1m(\u001b[0mTrain\u001b[1m)\u001b[0m bce:  \u001b[1;36m0.3131\u001b[0m, mse:  \u001b[1;36m0.8638\u001b[0m,  acc: \u001b[1;36m89.833\u001b[0m %,   \u001b]8;id=880911;file:///n/home09/pren/3DGeno_tools/src/gt3d/modules/higashi/Higashi_wrapper.py\u001b\\\u001b[2mHigashi_wrapper.py\u001b[0m\u001b]8;;\u001b\\\u001b[2m:\u001b[0m\u001b]8;id=624157;file:///n/home09/pren/3DGeno_tools/src/gt3d/modules/higashi/Higashi_wrapper.py#1258\u001b\\\u001b[2m1258\u001b[0m\u001b]8;;\u001b\\\n",
       "\u001b[2;36m                    \u001b[0m         pearson: \u001b[1;36m0.685\u001b[0m, spearman: \u001b[1;36m0.578\u001b[0m, elapse: \u001b[1;36m89.426\u001b[0m s              \u001b[2m                       \u001b[0m\n"
      ]
     },
     "metadata": {},
     "output_type": "display_data"
    },
    {
     "data": {
      "application/vnd.jupyter.widget-view+json": {
       "model_id": "bbd4dd05cfad42b9a933fdf727b428f7",
       "version_major": 2,
       "version_minor": 0
      },
      "text/plain": [
       "Output()"
      ]
     },
     "metadata": {},
     "output_type": "display_data"
    },
    {
     "data": {
      "text/html": [
       "<pre style=\"white-space:pre;overflow-x:auto;line-height:normal;font-family:Menlo,'DejaVu Sans Mono',consolas,'Courier New',monospace\"></pre>\n"
      ],
      "text/plain": []
     },
     "metadata": {},
     "output_type": "display_data"
    },
    {
     "data": {
      "text/html": [
       "<pre style=\"white-space:pre;overflow-x:auto;line-height:normal;font-family:Menlo,'DejaVu Sans Mono',consolas,'Courier New',monospace\"><span style=\"color: #7fbfbf; text-decoration-color: #7fbfbf\">                    </span><span style=\"color: #000080; text-decoration-color: #000080\">INFO    </span> <span style=\"color: #0000ff; text-decoration-color: #0000ff\">train</span>  - <span style=\"font-weight: bold\">(</span>Valid<span style=\"font-weight: bold\">)</span> bce:  <span style=\"color: #008080; text-decoration-color: #008080; font-weight: bold\">0.3850</span>,  acc: <span style=\"color: #008080; text-decoration-color: #008080; font-weight: bold\">88.542</span> %,pearson: <span style=\"color: #008080; text-decoration-color: #008080; font-weight: bold\">0.610</span>,  <a href=\"file:///n/home09/pren/3DGeno_tools/src/gt3d/modules/higashi/Higashi_wrapper.py\" target=\"_blank\"><span style=\"color: #7f7f7f; text-decoration-color: #7f7f7f\">Higashi_wrapper.py</span></a><span style=\"color: #7f7f7f; text-decoration-color: #7f7f7f\">:</span><a href=\"file:///n/home09/pren/3DGeno_tools/src/gt3d/modules/higashi/Higashi_wrapper.py#1277\" target=\"_blank\"><span style=\"color: #7f7f7f; text-decoration-color: #7f7f7f\">1277</span></a>\n",
       "<span style=\"color: #7fbfbf; text-decoration-color: #7fbfbf\">                    </span>         spearman: <span style=\"color: #008080; text-decoration-color: #008080; font-weight: bold\">0.549</span>,elapse: <span style=\"color: #008080; text-decoration-color: #008080; font-weight: bold\">0.053</span> s                                <span style=\"color: #7f7f7f; text-decoration-color: #7f7f7f\">                       </span>\n",
       "</pre>\n"
      ],
      "text/plain": [
       "\u001b[2;36m                   \u001b[0m\u001b[2;36m \u001b[0m\u001b[34mINFO    \u001b[0m \u001b[94mtrain\u001b[0m  - \u001b[1m(\u001b[0mValid\u001b[1m)\u001b[0m bce:  \u001b[1;36m0.3850\u001b[0m,  acc: \u001b[1;36m88.542\u001b[0m %,pearson: \u001b[1;36m0.610\u001b[0m,  \u001b]8;id=73391;file:///n/home09/pren/3DGeno_tools/src/gt3d/modules/higashi/Higashi_wrapper.py\u001b\\\u001b[2mHigashi_wrapper.py\u001b[0m\u001b]8;;\u001b\\\u001b[2m:\u001b[0m\u001b]8;id=967380;file:///n/home09/pren/3DGeno_tools/src/gt3d/modules/higashi/Higashi_wrapper.py#1277\u001b\\\u001b[2m1277\u001b[0m\u001b]8;;\u001b\\\n",
       "\u001b[2;36m                    \u001b[0m         spearman: \u001b[1;36m0.549\u001b[0m,elapse: \u001b[1;36m0.053\u001b[0m s                                \u001b[2m                       \u001b[0m\n"
      ]
     },
     "metadata": {},
     "output_type": "display_data"
    },
    {
     "data": {
      "text/html": [
       "<pre style=\"white-space:pre;overflow-x:auto;line-height:normal;font-family:Menlo,'DejaVu Sans Mono',consolas,'Courier New',monospace\"><span style=\"color: #7fbfbf; text-decoration-color: #7fbfbf\">                    </span><span style=\"color: #000080; text-decoration-color: #000080\">INFO    </span> <span style=\"color: #0000ff; text-decoration-color: #0000ff\">train</span> update_rate: <span style=\"color: #008080; text-decoration-color: #008080; font-weight: bold\">0.002796</span>     <span style=\"color: #008080; text-decoration-color: #008080; font-weight: bold\">0.107796</span>                       <a href=\"file:///n/home09/pren/3DGeno_tools/src/gt3d/modules/higashi/Higashi_wrapper.py\" target=\"_blank\"><span style=\"color: #7f7f7f; text-decoration-color: #7f7f7f\">Higashi_wrapper.py</span></a><span style=\"color: #7f7f7f; text-decoration-color: #7f7f7f\">:</span><a href=\"file:///n/home09/pren/3DGeno_tools/src/gt3d/modules/higashi/Higashi_wrapper.py#1323\" target=\"_blank\"><span style=\"color: #7f7f7f; text-decoration-color: #7f7f7f\">1323</span></a>\n",
       "</pre>\n"
      ],
      "text/plain": [
       "\u001b[2;36m                   \u001b[0m\u001b[2;36m \u001b[0m\u001b[34mINFO    \u001b[0m \u001b[94mtrain\u001b[0m update_rate: \u001b[1;36m0.002796\u001b[0m     \u001b[1;36m0.107796\u001b[0m                       \u001b]8;id=349409;file:///n/home09/pren/3DGeno_tools/src/gt3d/modules/higashi/Higashi_wrapper.py\u001b\\\u001b[2mHigashi_wrapper.py\u001b[0m\u001b]8;;\u001b\\\u001b[2m:\u001b[0m\u001b]8;id=392391;file:///n/home09/pren/3DGeno_tools/src/gt3d/modules/higashi/Higashi_wrapper.py#1323\u001b\\\u001b[2m1323\u001b[0m\u001b]8;;\u001b\\\n"
      ]
     },
     "metadata": {},
     "output_type": "display_data"
    },
    {
     "data": {
      "text/html": [
       "<pre style=\"white-space:pre;overflow-x:auto;line-height:normal;font-family:Menlo,'DejaVu Sans Mono',consolas,'Courier New',monospace\"><span style=\"color: #7fbfbf; text-decoration-color: #7fbfbf\">                    </span><span style=\"color: #000080; text-decoration-color: #000080\">INFO    </span> <span style=\"color: #0000ff; text-decoration-color: #0000ff\">train</span> <span style=\"font-weight: bold\">[</span> Epoch <span style=\"color: #008080; text-decoration-color: #008080; font-weight: bold\">48</span> of <span style=\"color: #008080; text-decoration-color: #008080; font-weight: bold\">200</span> <span style=\"font-weight: bold\">]</span>                                      <a href=\"file:///n/home09/pren/3DGeno_tools/src/gt3d/modules/higashi/Higashi_wrapper.py\" target=\"_blank\"><span style=\"color: #7f7f7f; text-decoration-color: #7f7f7f\">Higashi_wrapper.py</span></a><span style=\"color: #7f7f7f; text-decoration-color: #7f7f7f\">:</span><a href=\"file:///n/home09/pren/3DGeno_tools/src/gt3d/modules/higashi/Higashi_wrapper.py#1245\" target=\"_blank\"><span style=\"color: #7f7f7f; text-decoration-color: #7f7f7f\">1245</span></a>\n",
       "</pre>\n"
      ],
      "text/plain": [
       "\u001b[2;36m                   \u001b[0m\u001b[2;36m \u001b[0m\u001b[34mINFO    \u001b[0m \u001b[94mtrain\u001b[0m \u001b[1m[\u001b[0m Epoch \u001b[1;36m48\u001b[0m of \u001b[1;36m200\u001b[0m \u001b[1m]\u001b[0m                                      \u001b]8;id=289295;file:///n/home09/pren/3DGeno_tools/src/gt3d/modules/higashi/Higashi_wrapper.py\u001b\\\u001b[2mHigashi_wrapper.py\u001b[0m\u001b]8;;\u001b\\\u001b[2m:\u001b[0m\u001b]8;id=954192;file:///n/home09/pren/3DGeno_tools/src/gt3d/modules/higashi/Higashi_wrapper.py#1245\u001b\\\u001b[2m1245\u001b[0m\u001b]8;;\u001b\\\n"
      ]
     },
     "metadata": {},
     "output_type": "display_data"
    },
    {
     "data": {
      "application/vnd.jupyter.widget-view+json": {
       "model_id": "865fb600ff1742b6b74c0e6015044c05",
       "version_major": 2,
       "version_minor": 0
      },
      "text/plain": [
       "Output()"
      ]
     },
     "metadata": {},
     "output_type": "display_data"
    },
    {
     "data": {
      "text/html": [
       "<pre style=\"white-space:pre;overflow-x:auto;line-height:normal;font-family:Menlo,'DejaVu Sans Mono',consolas,'Courier New',monospace\"></pre>\n"
      ],
      "text/plain": []
     },
     "metadata": {},
     "output_type": "display_data"
    },
    {
     "data": {
      "text/html": [
       "<pre style=\"white-space:pre;overflow-x:auto;line-height:normal;font-family:Menlo,'DejaVu Sans Mono',consolas,'Courier New',monospace\"><span style=\"color: #7fbfbf; text-decoration-color: #7fbfbf\">[12/07/24 13:38:08] </span><span style=\"color: #000080; text-decoration-color: #000080\">INFO    </span> <span style=\"color: #0000ff; text-decoration-color: #0000ff\">train</span>  - <span style=\"font-weight: bold\">(</span>Train<span style=\"font-weight: bold\">)</span> bce:  <span style=\"color: #008080; text-decoration-color: #008080; font-weight: bold\">0.3114</span>, mse:  <span style=\"color: #008080; text-decoration-color: #008080; font-weight: bold\">0.8895</span>,  acc: <span style=\"color: #008080; text-decoration-color: #008080; font-weight: bold\">89.953</span> %,   <a href=\"file:///n/home09/pren/3DGeno_tools/src/gt3d/modules/higashi/Higashi_wrapper.py\" target=\"_blank\"><span style=\"color: #7f7f7f; text-decoration-color: #7f7f7f\">Higashi_wrapper.py</span></a><span style=\"color: #7f7f7f; text-decoration-color: #7f7f7f\">:</span><a href=\"file:///n/home09/pren/3DGeno_tools/src/gt3d/modules/higashi/Higashi_wrapper.py#1258\" target=\"_blank\"><span style=\"color: #7f7f7f; text-decoration-color: #7f7f7f\">1258</span></a>\n",
       "<span style=\"color: #7fbfbf; text-decoration-color: #7fbfbf\">                    </span>         pearson: <span style=\"color: #008080; text-decoration-color: #008080; font-weight: bold\">0.689</span>, spearman: <span style=\"color: #008080; text-decoration-color: #008080; font-weight: bold\">0.579</span>, elapse: <span style=\"color: #008080; text-decoration-color: #008080; font-weight: bold\">89.972</span> s              <span style=\"color: #7f7f7f; text-decoration-color: #7f7f7f\">                       </span>\n",
       "</pre>\n"
      ],
      "text/plain": [
       "\u001b[2;36m[12/07/24 13:38:08]\u001b[0m\u001b[2;36m \u001b[0m\u001b[34mINFO    \u001b[0m \u001b[94mtrain\u001b[0m  - \u001b[1m(\u001b[0mTrain\u001b[1m)\u001b[0m bce:  \u001b[1;36m0.3114\u001b[0m, mse:  \u001b[1;36m0.8895\u001b[0m,  acc: \u001b[1;36m89.953\u001b[0m %,   \u001b]8;id=673136;file:///n/home09/pren/3DGeno_tools/src/gt3d/modules/higashi/Higashi_wrapper.py\u001b\\\u001b[2mHigashi_wrapper.py\u001b[0m\u001b]8;;\u001b\\\u001b[2m:\u001b[0m\u001b]8;id=783851;file:///n/home09/pren/3DGeno_tools/src/gt3d/modules/higashi/Higashi_wrapper.py#1258\u001b\\\u001b[2m1258\u001b[0m\u001b]8;;\u001b\\\n",
       "\u001b[2;36m                    \u001b[0m         pearson: \u001b[1;36m0.689\u001b[0m, spearman: \u001b[1;36m0.579\u001b[0m, elapse: \u001b[1;36m89.972\u001b[0m s              \u001b[2m                       \u001b[0m\n"
      ]
     },
     "metadata": {},
     "output_type": "display_data"
    },
    {
     "data": {
      "application/vnd.jupyter.widget-view+json": {
       "model_id": "4e12b09fcbac4e23a794693fa5a292f1",
       "version_major": 2,
       "version_minor": 0
      },
      "text/plain": [
       "Output()"
      ]
     },
     "metadata": {},
     "output_type": "display_data"
    },
    {
     "data": {
      "text/html": [
       "<pre style=\"white-space:pre;overflow-x:auto;line-height:normal;font-family:Menlo,'DejaVu Sans Mono',consolas,'Courier New',monospace\"></pre>\n"
      ],
      "text/plain": []
     },
     "metadata": {},
     "output_type": "display_data"
    },
    {
     "data": {
      "text/html": [
       "<pre style=\"white-space:pre;overflow-x:auto;line-height:normal;font-family:Menlo,'DejaVu Sans Mono',consolas,'Courier New',monospace\"><span style=\"color: #7fbfbf; text-decoration-color: #7fbfbf\">                    </span><span style=\"color: #000080; text-decoration-color: #000080\">INFO    </span> <span style=\"color: #0000ff; text-decoration-color: #0000ff\">train</span>  - <span style=\"font-weight: bold\">(</span>Valid<span style=\"font-weight: bold\">)</span> bce:  <span style=\"color: #008080; text-decoration-color: #008080; font-weight: bold\">0.3650</span>,  acc: <span style=\"color: #008080; text-decoration-color: #008080; font-weight: bold\">88.932</span> %,pearson: <span style=\"color: #008080; text-decoration-color: #008080; font-weight: bold\">0.642</span>,  <a href=\"file:///n/home09/pren/3DGeno_tools/src/gt3d/modules/higashi/Higashi_wrapper.py\" target=\"_blank\"><span style=\"color: #7f7f7f; text-decoration-color: #7f7f7f\">Higashi_wrapper.py</span></a><span style=\"color: #7f7f7f; text-decoration-color: #7f7f7f\">:</span><a href=\"file:///n/home09/pren/3DGeno_tools/src/gt3d/modules/higashi/Higashi_wrapper.py#1277\" target=\"_blank\"><span style=\"color: #7f7f7f; text-decoration-color: #7f7f7f\">1277</span></a>\n",
       "<span style=\"color: #7fbfbf; text-decoration-color: #7fbfbf\">                    </span>         spearman: <span style=\"color: #008080; text-decoration-color: #008080; font-weight: bold\">0.560</span>,elapse: <span style=\"color: #008080; text-decoration-color: #008080; font-weight: bold\">0.052</span> s                                <span style=\"color: #7f7f7f; text-decoration-color: #7f7f7f\">                       </span>\n",
       "</pre>\n"
      ],
      "text/plain": [
       "\u001b[2;36m                   \u001b[0m\u001b[2;36m \u001b[0m\u001b[34mINFO    \u001b[0m \u001b[94mtrain\u001b[0m  - \u001b[1m(\u001b[0mValid\u001b[1m)\u001b[0m bce:  \u001b[1;36m0.3650\u001b[0m,  acc: \u001b[1;36m88.932\u001b[0m %,pearson: \u001b[1;36m0.642\u001b[0m,  \u001b]8;id=64001;file:///n/home09/pren/3DGeno_tools/src/gt3d/modules/higashi/Higashi_wrapper.py\u001b\\\u001b[2mHigashi_wrapper.py\u001b[0m\u001b]8;;\u001b\\\u001b[2m:\u001b[0m\u001b]8;id=107206;file:///n/home09/pren/3DGeno_tools/src/gt3d/modules/higashi/Higashi_wrapper.py#1277\u001b\\\u001b[2m1277\u001b[0m\u001b]8;;\u001b\\\n",
       "\u001b[2;36m                    \u001b[0m         spearman: \u001b[1;36m0.560\u001b[0m,elapse: \u001b[1;36m0.052\u001b[0m s                                \u001b[2m                       \u001b[0m\n"
      ]
     },
     "metadata": {},
     "output_type": "display_data"
    },
    {
     "data": {
      "text/html": [
       "<pre style=\"white-space:pre;overflow-x:auto;line-height:normal;font-family:Menlo,'DejaVu Sans Mono',consolas,'Courier New',monospace\"><span style=\"color: #7fbfbf; text-decoration-color: #7fbfbf\">                    </span><span style=\"color: #000080; text-decoration-color: #000080\">INFO    </span> <span style=\"color: #0000ff; text-decoration-color: #0000ff\">train</span> update_rate: <span style=\"color: #008080; text-decoration-color: #008080; font-weight: bold\">0.003380</span>     <span style=\"color: #008080; text-decoration-color: #008080; font-weight: bold\">0.092732</span>                       <a href=\"file:///n/home09/pren/3DGeno_tools/src/gt3d/modules/higashi/Higashi_wrapper.py\" target=\"_blank\"><span style=\"color: #7f7f7f; text-decoration-color: #7f7f7f\">Higashi_wrapper.py</span></a><span style=\"color: #7f7f7f; text-decoration-color: #7f7f7f\">:</span><a href=\"file:///n/home09/pren/3DGeno_tools/src/gt3d/modules/higashi/Higashi_wrapper.py#1323\" target=\"_blank\"><span style=\"color: #7f7f7f; text-decoration-color: #7f7f7f\">1323</span></a>\n",
       "</pre>\n"
      ],
      "text/plain": [
       "\u001b[2;36m                   \u001b[0m\u001b[2;36m \u001b[0m\u001b[34mINFO    \u001b[0m \u001b[94mtrain\u001b[0m update_rate: \u001b[1;36m0.003380\u001b[0m     \u001b[1;36m0.092732\u001b[0m                       \u001b]8;id=57638;file:///n/home09/pren/3DGeno_tools/src/gt3d/modules/higashi/Higashi_wrapper.py\u001b\\\u001b[2mHigashi_wrapper.py\u001b[0m\u001b]8;;\u001b\\\u001b[2m:\u001b[0m\u001b]8;id=13137;file:///n/home09/pren/3DGeno_tools/src/gt3d/modules/higashi/Higashi_wrapper.py#1323\u001b\\\u001b[2m1323\u001b[0m\u001b]8;;\u001b\\\n"
      ]
     },
     "metadata": {},
     "output_type": "display_data"
    },
    {
     "data": {
      "text/html": [
       "<pre style=\"white-space:pre;overflow-x:auto;line-height:normal;font-family:Menlo,'DejaVu Sans Mono',consolas,'Courier New',monospace\"><span style=\"color: #7fbfbf; text-decoration-color: #7fbfbf\">                    </span><span style=\"color: #000080; text-decoration-color: #000080\">INFO    </span> <span style=\"color: #0000ff; text-decoration-color: #0000ff\">train</span> <span style=\"font-weight: bold\">[</span> Epoch <span style=\"color: #008080; text-decoration-color: #008080; font-weight: bold\">49</span> of <span style=\"color: #008080; text-decoration-color: #008080; font-weight: bold\">200</span> <span style=\"font-weight: bold\">]</span>                                      <a href=\"file:///n/home09/pren/3DGeno_tools/src/gt3d/modules/higashi/Higashi_wrapper.py\" target=\"_blank\"><span style=\"color: #7f7f7f; text-decoration-color: #7f7f7f\">Higashi_wrapper.py</span></a><span style=\"color: #7f7f7f; text-decoration-color: #7f7f7f\">:</span><a href=\"file:///n/home09/pren/3DGeno_tools/src/gt3d/modules/higashi/Higashi_wrapper.py#1245\" target=\"_blank\"><span style=\"color: #7f7f7f; text-decoration-color: #7f7f7f\">1245</span></a>\n",
       "</pre>\n"
      ],
      "text/plain": [
       "\u001b[2;36m                   \u001b[0m\u001b[2;36m \u001b[0m\u001b[34mINFO    \u001b[0m \u001b[94mtrain\u001b[0m \u001b[1m[\u001b[0m Epoch \u001b[1;36m49\u001b[0m of \u001b[1;36m200\u001b[0m \u001b[1m]\u001b[0m                                      \u001b]8;id=334995;file:///n/home09/pren/3DGeno_tools/src/gt3d/modules/higashi/Higashi_wrapper.py\u001b\\\u001b[2mHigashi_wrapper.py\u001b[0m\u001b]8;;\u001b\\\u001b[2m:\u001b[0m\u001b]8;id=657580;file:///n/home09/pren/3DGeno_tools/src/gt3d/modules/higashi/Higashi_wrapper.py#1245\u001b\\\u001b[2m1245\u001b[0m\u001b]8;;\u001b\\\n"
      ]
     },
     "metadata": {},
     "output_type": "display_data"
    },
    {
     "data": {
      "application/vnd.jupyter.widget-view+json": {
       "model_id": "bc27a768f8c54a0f98f1b68109ea841e",
       "version_major": 2,
       "version_minor": 0
      },
      "text/plain": [
       "Output()"
      ]
     },
     "metadata": {},
     "output_type": "display_data"
    },
    {
     "data": {
      "text/html": [
       "<pre style=\"white-space:pre;overflow-x:auto;line-height:normal;font-family:Menlo,'DejaVu Sans Mono',consolas,'Courier New',monospace\"></pre>\n"
      ],
      "text/plain": []
     },
     "metadata": {},
     "output_type": "display_data"
    },
    {
     "data": {
      "text/html": [
       "<pre style=\"white-space:pre;overflow-x:auto;line-height:normal;font-family:Menlo,'DejaVu Sans Mono',consolas,'Courier New',monospace\"><span style=\"color: #7fbfbf; text-decoration-color: #7fbfbf\">[12/07/24 13:39:38] </span><span style=\"color: #000080; text-decoration-color: #000080\">INFO    </span> <span style=\"color: #0000ff; text-decoration-color: #0000ff\">train</span>  - <span style=\"font-weight: bold\">(</span>Train<span style=\"font-weight: bold\">)</span> bce:  <span style=\"color: #008080; text-decoration-color: #008080; font-weight: bold\">0.3120</span>, mse:  <span style=\"color: #008080; text-decoration-color: #008080; font-weight: bold\">0.9825</span>,  acc: <span style=\"color: #008080; text-decoration-color: #008080; font-weight: bold\">89.962</span> %,   <a href=\"file:///n/home09/pren/3DGeno_tools/src/gt3d/modules/higashi/Higashi_wrapper.py\" target=\"_blank\"><span style=\"color: #7f7f7f; text-decoration-color: #7f7f7f\">Higashi_wrapper.py</span></a><span style=\"color: #7f7f7f; text-decoration-color: #7f7f7f\">:</span><a href=\"file:///n/home09/pren/3DGeno_tools/src/gt3d/modules/higashi/Higashi_wrapper.py#1258\" target=\"_blank\"><span style=\"color: #7f7f7f; text-decoration-color: #7f7f7f\">1258</span></a>\n",
       "<span style=\"color: #7fbfbf; text-decoration-color: #7fbfbf\">                    </span>         pearson: <span style=\"color: #008080; text-decoration-color: #008080; font-weight: bold\">0.689</span>, spearman: <span style=\"color: #008080; text-decoration-color: #008080; font-weight: bold\">0.580</span>, elapse: <span style=\"color: #008080; text-decoration-color: #008080; font-weight: bold\">89.194</span> s              <span style=\"color: #7f7f7f; text-decoration-color: #7f7f7f\">                       </span>\n",
       "</pre>\n"
      ],
      "text/plain": [
       "\u001b[2;36m[12/07/24 13:39:38]\u001b[0m\u001b[2;36m \u001b[0m\u001b[34mINFO    \u001b[0m \u001b[94mtrain\u001b[0m  - \u001b[1m(\u001b[0mTrain\u001b[1m)\u001b[0m bce:  \u001b[1;36m0.3120\u001b[0m, mse:  \u001b[1;36m0.9825\u001b[0m,  acc: \u001b[1;36m89.962\u001b[0m %,   \u001b]8;id=122543;file:///n/home09/pren/3DGeno_tools/src/gt3d/modules/higashi/Higashi_wrapper.py\u001b\\\u001b[2mHigashi_wrapper.py\u001b[0m\u001b]8;;\u001b\\\u001b[2m:\u001b[0m\u001b]8;id=338949;file:///n/home09/pren/3DGeno_tools/src/gt3d/modules/higashi/Higashi_wrapper.py#1258\u001b\\\u001b[2m1258\u001b[0m\u001b]8;;\u001b\\\n",
       "\u001b[2;36m                    \u001b[0m         pearson: \u001b[1;36m0.689\u001b[0m, spearman: \u001b[1;36m0.580\u001b[0m, elapse: \u001b[1;36m89.194\u001b[0m s              \u001b[2m                       \u001b[0m\n"
      ]
     },
     "metadata": {},
     "output_type": "display_data"
    },
    {
     "data": {
      "application/vnd.jupyter.widget-view+json": {
       "model_id": "044b0e79aea542049ad6aa766e21c378",
       "version_major": 2,
       "version_minor": 0
      },
      "text/plain": [
       "Output()"
      ]
     },
     "metadata": {},
     "output_type": "display_data"
    },
    {
     "data": {
      "text/html": [
       "<pre style=\"white-space:pre;overflow-x:auto;line-height:normal;font-family:Menlo,'DejaVu Sans Mono',consolas,'Courier New',monospace\"></pre>\n"
      ],
      "text/plain": []
     },
     "metadata": {},
     "output_type": "display_data"
    },
    {
     "data": {
      "text/html": [
       "<pre style=\"white-space:pre;overflow-x:auto;line-height:normal;font-family:Menlo,'DejaVu Sans Mono',consolas,'Courier New',monospace\"><span style=\"color: #7fbfbf; text-decoration-color: #7fbfbf\">                    </span><span style=\"color: #000080; text-decoration-color: #000080\">INFO    </span> <span style=\"color: #0000ff; text-decoration-color: #0000ff\">train</span>  - <span style=\"font-weight: bold\">(</span>Valid<span style=\"font-weight: bold\">)</span> bce:  <span style=\"color: #008080; text-decoration-color: #008080; font-weight: bold\">0.3715</span>,  acc: <span style=\"color: #008080; text-decoration-color: #008080; font-weight: bold\">88.926</span> %,pearson: <span style=\"color: #008080; text-decoration-color: #008080; font-weight: bold\">0.625</span>,  <a href=\"file:///n/home09/pren/3DGeno_tools/src/gt3d/modules/higashi/Higashi_wrapper.py\" target=\"_blank\"><span style=\"color: #7f7f7f; text-decoration-color: #7f7f7f\">Higashi_wrapper.py</span></a><span style=\"color: #7f7f7f; text-decoration-color: #7f7f7f\">:</span><a href=\"file:///n/home09/pren/3DGeno_tools/src/gt3d/modules/higashi/Higashi_wrapper.py#1277\" target=\"_blank\"><span style=\"color: #7f7f7f; text-decoration-color: #7f7f7f\">1277</span></a>\n",
       "<span style=\"color: #7fbfbf; text-decoration-color: #7fbfbf\">                    </span>         spearman: <span style=\"color: #008080; text-decoration-color: #008080; font-weight: bold\">0.558</span>,elapse: <span style=\"color: #008080; text-decoration-color: #008080; font-weight: bold\">0.052</span> s                                <span style=\"color: #7f7f7f; text-decoration-color: #7f7f7f\">                       </span>\n",
       "</pre>\n"
      ],
      "text/plain": [
       "\u001b[2;36m                   \u001b[0m\u001b[2;36m \u001b[0m\u001b[34mINFO    \u001b[0m \u001b[94mtrain\u001b[0m  - \u001b[1m(\u001b[0mValid\u001b[1m)\u001b[0m bce:  \u001b[1;36m0.3715\u001b[0m,  acc: \u001b[1;36m88.926\u001b[0m %,pearson: \u001b[1;36m0.625\u001b[0m,  \u001b]8;id=971223;file:///n/home09/pren/3DGeno_tools/src/gt3d/modules/higashi/Higashi_wrapper.py\u001b\\\u001b[2mHigashi_wrapper.py\u001b[0m\u001b]8;;\u001b\\\u001b[2m:\u001b[0m\u001b]8;id=275249;file:///n/home09/pren/3DGeno_tools/src/gt3d/modules/higashi/Higashi_wrapper.py#1277\u001b\\\u001b[2m1277\u001b[0m\u001b]8;;\u001b\\\n",
       "\u001b[2;36m                    \u001b[0m         spearman: \u001b[1;36m0.558\u001b[0m,elapse: \u001b[1;36m0.052\u001b[0m s                                \u001b[2m                       \u001b[0m\n"
      ]
     },
     "metadata": {},
     "output_type": "display_data"
    },
    {
     "data": {
      "text/html": [
       "<pre style=\"white-space:pre;overflow-x:auto;line-height:normal;font-family:Menlo,'DejaVu Sans Mono',consolas,'Courier New',monospace\"><span style=\"color: #7fbfbf; text-decoration-color: #7fbfbf\">                    </span><span style=\"color: #000080; text-decoration-color: #000080\">INFO    </span> <span style=\"color: #0000ff; text-decoration-color: #0000ff\">train</span> update_rate: <span style=\"color: #008080; text-decoration-color: #008080; font-weight: bold\">0.002806</span>     <span style=\"color: #008080; text-decoration-color: #008080; font-weight: bold\">0.107770</span>                       <a href=\"file:///n/home09/pren/3DGeno_tools/src/gt3d/modules/higashi/Higashi_wrapper.py\" target=\"_blank\"><span style=\"color: #7f7f7f; text-decoration-color: #7f7f7f\">Higashi_wrapper.py</span></a><span style=\"color: #7f7f7f; text-decoration-color: #7f7f7f\">:</span><a href=\"file:///n/home09/pren/3DGeno_tools/src/gt3d/modules/higashi/Higashi_wrapper.py#1323\" target=\"_blank\"><span style=\"color: #7f7f7f; text-decoration-color: #7f7f7f\">1323</span></a>\n",
       "</pre>\n"
      ],
      "text/plain": [
       "\u001b[2;36m                   \u001b[0m\u001b[2;36m \u001b[0m\u001b[34mINFO    \u001b[0m \u001b[94mtrain\u001b[0m update_rate: \u001b[1;36m0.002806\u001b[0m     \u001b[1;36m0.107770\u001b[0m                       \u001b]8;id=322;file:///n/home09/pren/3DGeno_tools/src/gt3d/modules/higashi/Higashi_wrapper.py\u001b\\\u001b[2mHigashi_wrapper.py\u001b[0m\u001b]8;;\u001b\\\u001b[2m:\u001b[0m\u001b]8;id=552357;file:///n/home09/pren/3DGeno_tools/src/gt3d/modules/higashi/Higashi_wrapper.py#1323\u001b\\\u001b[2m1323\u001b[0m\u001b]8;;\u001b\\\n"
      ]
     },
     "metadata": {},
     "output_type": "display_data"
    },
    {
     "data": {
      "text/html": [
       "<pre style=\"white-space:pre;overflow-x:auto;line-height:normal;font-family:Menlo,'DejaVu Sans Mono',consolas,'Courier New',monospace\"><span style=\"color: #7fbfbf; text-decoration-color: #7fbfbf\">                    </span><span style=\"color: #000080; text-decoration-color: #000080\">INFO    </span> <span style=\"color: #0000ff; text-decoration-color: #0000ff\">train</span> <span style=\"font-weight: bold\">[</span> Epoch <span style=\"color: #008080; text-decoration-color: #008080; font-weight: bold\">50</span> of <span style=\"color: #008080; text-decoration-color: #008080; font-weight: bold\">200</span> <span style=\"font-weight: bold\">]</span>                                      <a href=\"file:///n/home09/pren/3DGeno_tools/src/gt3d/modules/higashi/Higashi_wrapper.py\" target=\"_blank\"><span style=\"color: #7f7f7f; text-decoration-color: #7f7f7f\">Higashi_wrapper.py</span></a><span style=\"color: #7f7f7f; text-decoration-color: #7f7f7f\">:</span><a href=\"file:///n/home09/pren/3DGeno_tools/src/gt3d/modules/higashi/Higashi_wrapper.py#1245\" target=\"_blank\"><span style=\"color: #7f7f7f; text-decoration-color: #7f7f7f\">1245</span></a>\n",
       "</pre>\n"
      ],
      "text/plain": [
       "\u001b[2;36m                   \u001b[0m\u001b[2;36m \u001b[0m\u001b[34mINFO    \u001b[0m \u001b[94mtrain\u001b[0m \u001b[1m[\u001b[0m Epoch \u001b[1;36m50\u001b[0m of \u001b[1;36m200\u001b[0m \u001b[1m]\u001b[0m                                      \u001b]8;id=592282;file:///n/home09/pren/3DGeno_tools/src/gt3d/modules/higashi/Higashi_wrapper.py\u001b\\\u001b[2mHigashi_wrapper.py\u001b[0m\u001b]8;;\u001b\\\u001b[2m:\u001b[0m\u001b]8;id=110100;file:///n/home09/pren/3DGeno_tools/src/gt3d/modules/higashi/Higashi_wrapper.py#1245\u001b\\\u001b[2m1245\u001b[0m\u001b]8;;\u001b\\\n"
      ]
     },
     "metadata": {},
     "output_type": "display_data"
    },
    {
     "data": {
      "application/vnd.jupyter.widget-view+json": {
       "model_id": "ad2c8a436d4c4603a3591f1a671339d1",
       "version_major": 2,
       "version_minor": 0
      },
      "text/plain": [
       "Output()"
      ]
     },
     "metadata": {},
     "output_type": "display_data"
    },
    {
     "data": {
      "text/html": [
       "<pre style=\"white-space:pre;overflow-x:auto;line-height:normal;font-family:Menlo,'DejaVu Sans Mono',consolas,'Courier New',monospace\"></pre>\n"
      ],
      "text/plain": []
     },
     "metadata": {},
     "output_type": "display_data"
    },
    {
     "data": {
      "text/html": [
       "<pre style=\"white-space:pre;overflow-x:auto;line-height:normal;font-family:Menlo,'DejaVu Sans Mono',consolas,'Courier New',monospace\"><span style=\"color: #7fbfbf; text-decoration-color: #7fbfbf\">[12/07/24 13:41:07] </span><span style=\"color: #000080; text-decoration-color: #000080\">INFO    </span> <span style=\"color: #0000ff; text-decoration-color: #0000ff\">train</span>  - <span style=\"font-weight: bold\">(</span>Train<span style=\"font-weight: bold\">)</span> bce:  <span style=\"color: #008080; text-decoration-color: #008080; font-weight: bold\">0.3135</span>, mse:  <span style=\"color: #008080; text-decoration-color: #008080; font-weight: bold\">1.0067</span>,  acc: <span style=\"color: #008080; text-decoration-color: #008080; font-weight: bold\">89.852</span> %,   <a href=\"file:///n/home09/pren/3DGeno_tools/src/gt3d/modules/higashi/Higashi_wrapper.py\" target=\"_blank\"><span style=\"color: #7f7f7f; text-decoration-color: #7f7f7f\">Higashi_wrapper.py</span></a><span style=\"color: #7f7f7f; text-decoration-color: #7f7f7f\">:</span><a href=\"file:///n/home09/pren/3DGeno_tools/src/gt3d/modules/higashi/Higashi_wrapper.py#1258\" target=\"_blank\"><span style=\"color: #7f7f7f; text-decoration-color: #7f7f7f\">1258</span></a>\n",
       "<span style=\"color: #7fbfbf; text-decoration-color: #7fbfbf\">                    </span>         pearson: <span style=\"color: #008080; text-decoration-color: #008080; font-weight: bold\">0.687</span>, spearman: <span style=\"color: #008080; text-decoration-color: #008080; font-weight: bold\">0.578</span>, elapse: <span style=\"color: #008080; text-decoration-color: #008080; font-weight: bold\">89.247</span> s              <span style=\"color: #7f7f7f; text-decoration-color: #7f7f7f\">                       </span>\n",
       "</pre>\n"
      ],
      "text/plain": [
       "\u001b[2;36m[12/07/24 13:41:07]\u001b[0m\u001b[2;36m \u001b[0m\u001b[34mINFO    \u001b[0m \u001b[94mtrain\u001b[0m  - \u001b[1m(\u001b[0mTrain\u001b[1m)\u001b[0m bce:  \u001b[1;36m0.3135\u001b[0m, mse:  \u001b[1;36m1.0067\u001b[0m,  acc: \u001b[1;36m89.852\u001b[0m %,   \u001b]8;id=368725;file:///n/home09/pren/3DGeno_tools/src/gt3d/modules/higashi/Higashi_wrapper.py\u001b\\\u001b[2mHigashi_wrapper.py\u001b[0m\u001b]8;;\u001b\\\u001b[2m:\u001b[0m\u001b]8;id=231664;file:///n/home09/pren/3DGeno_tools/src/gt3d/modules/higashi/Higashi_wrapper.py#1258\u001b\\\u001b[2m1258\u001b[0m\u001b]8;;\u001b\\\n",
       "\u001b[2;36m                    \u001b[0m         pearson: \u001b[1;36m0.687\u001b[0m, spearman: \u001b[1;36m0.578\u001b[0m, elapse: \u001b[1;36m89.247\u001b[0m s              \u001b[2m                       \u001b[0m\n"
      ]
     },
     "metadata": {},
     "output_type": "display_data"
    },
    {
     "data": {
      "application/vnd.jupyter.widget-view+json": {
       "model_id": "5ec0920848b1483b95c80551773eccf6",
       "version_major": 2,
       "version_minor": 0
      },
      "text/plain": [
       "Output()"
      ]
     },
     "metadata": {},
     "output_type": "display_data"
    },
    {
     "data": {
      "text/html": [
       "<pre style=\"white-space:pre;overflow-x:auto;line-height:normal;font-family:Menlo,'DejaVu Sans Mono',consolas,'Courier New',monospace\"></pre>\n"
      ],
      "text/plain": []
     },
     "metadata": {},
     "output_type": "display_data"
    },
    {
     "data": {
      "text/html": [
       "<pre style=\"white-space:pre;overflow-x:auto;line-height:normal;font-family:Menlo,'DejaVu Sans Mono',consolas,'Courier New',monospace\"><span style=\"color: #7fbfbf; text-decoration-color: #7fbfbf\">                    </span><span style=\"color: #000080; text-decoration-color: #000080\">INFO    </span> <span style=\"color: #0000ff; text-decoration-color: #0000ff\">train</span>  - <span style=\"font-weight: bold\">(</span>Valid<span style=\"font-weight: bold\">)</span> bce:  <span style=\"color: #008080; text-decoration-color: #008080; font-weight: bold\">0.3739</span>,  acc: <span style=\"color: #008080; text-decoration-color: #008080; font-weight: bold\">88.034</span> %,pearson: <span style=\"color: #008080; text-decoration-color: #008080; font-weight: bold\">0.607</span>,  <a href=\"file:///n/home09/pren/3DGeno_tools/src/gt3d/modules/higashi/Higashi_wrapper.py\" target=\"_blank\"><span style=\"color: #7f7f7f; text-decoration-color: #7f7f7f\">Higashi_wrapper.py</span></a><span style=\"color: #7f7f7f; text-decoration-color: #7f7f7f\">:</span><a href=\"file:///n/home09/pren/3DGeno_tools/src/gt3d/modules/higashi/Higashi_wrapper.py#1277\" target=\"_blank\"><span style=\"color: #7f7f7f; text-decoration-color: #7f7f7f\">1277</span></a>\n",
       "<span style=\"color: #7fbfbf; text-decoration-color: #7fbfbf\">                    </span>         spearman: <span style=\"color: #008080; text-decoration-color: #008080; font-weight: bold\">0.531</span>,elapse: <span style=\"color: #008080; text-decoration-color: #008080; font-weight: bold\">0.052</span> s                                <span style=\"color: #7f7f7f; text-decoration-color: #7f7f7f\">                       </span>\n",
       "</pre>\n"
      ],
      "text/plain": [
       "\u001b[2;36m                   \u001b[0m\u001b[2;36m \u001b[0m\u001b[34mINFO    \u001b[0m \u001b[94mtrain\u001b[0m  - \u001b[1m(\u001b[0mValid\u001b[1m)\u001b[0m bce:  \u001b[1;36m0.3739\u001b[0m,  acc: \u001b[1;36m88.034\u001b[0m %,pearson: \u001b[1;36m0.607\u001b[0m,  \u001b]8;id=513761;file:///n/home09/pren/3DGeno_tools/src/gt3d/modules/higashi/Higashi_wrapper.py\u001b\\\u001b[2mHigashi_wrapper.py\u001b[0m\u001b]8;;\u001b\\\u001b[2m:\u001b[0m\u001b]8;id=556766;file:///n/home09/pren/3DGeno_tools/src/gt3d/modules/higashi/Higashi_wrapper.py#1277\u001b\\\u001b[2m1277\u001b[0m\u001b]8;;\u001b\\\n",
       "\u001b[2;36m                    \u001b[0m         spearman: \u001b[1;36m0.531\u001b[0m,elapse: \u001b[1;36m0.052\u001b[0m s                                \u001b[2m                       \u001b[0m\n"
      ]
     },
     "metadata": {},
     "output_type": "display_data"
    },
    {
     "data": {
      "text/html": [
       "<pre style=\"white-space:pre;overflow-x:auto;line-height:normal;font-family:Menlo,'DejaVu Sans Mono',consolas,'Courier New',monospace\"><span style=\"color: #7fbfbf; text-decoration-color: #7fbfbf\">                    </span><span style=\"color: #000080; text-decoration-color: #000080\">INFO    </span> <span style=\"color: #0000ff; text-decoration-color: #0000ff\">train</span> update_rate: <span style=\"color: #008080; text-decoration-color: #008080; font-weight: bold\">0.002672</span>     <span style=\"color: #008080; text-decoration-color: #008080; font-weight: bold\">0.122233</span>                       <a href=\"file:///n/home09/pren/3DGeno_tools/src/gt3d/modules/higashi/Higashi_wrapper.py\" target=\"_blank\"><span style=\"color: #7f7f7f; text-decoration-color: #7f7f7f\">Higashi_wrapper.py</span></a><span style=\"color: #7f7f7f; text-decoration-color: #7f7f7f\">:</span><a href=\"file:///n/home09/pren/3DGeno_tools/src/gt3d/modules/higashi/Higashi_wrapper.py#1323\" target=\"_blank\"><span style=\"color: #7f7f7f; text-decoration-color: #7f7f7f\">1323</span></a>\n",
       "</pre>\n"
      ],
      "text/plain": [
       "\u001b[2;36m                   \u001b[0m\u001b[2;36m \u001b[0m\u001b[34mINFO    \u001b[0m \u001b[94mtrain\u001b[0m update_rate: \u001b[1;36m0.002672\u001b[0m     \u001b[1;36m0.122233\u001b[0m                       \u001b]8;id=526496;file:///n/home09/pren/3DGeno_tools/src/gt3d/modules/higashi/Higashi_wrapper.py\u001b\\\u001b[2mHigashi_wrapper.py\u001b[0m\u001b]8;;\u001b\\\u001b[2m:\u001b[0m\u001b]8;id=37580;file:///n/home09/pren/3DGeno_tools/src/gt3d/modules/higashi/Higashi_wrapper.py#1323\u001b\\\u001b[2m1323\u001b[0m\u001b]8;;\u001b\\\n"
      ]
     },
     "metadata": {},
     "output_type": "display_data"
    },
    {
     "data": {
      "text/html": [
       "<pre style=\"white-space:pre;overflow-x:auto;line-height:normal;font-family:Menlo,'DejaVu Sans Mono',consolas,'Courier New',monospace\"><span style=\"color: #7fbfbf; text-decoration-color: #7fbfbf\">                    </span><span style=\"color: #000080; text-decoration-color: #000080\">INFO    </span> <span style=\"color: #0000ff; text-decoration-color: #0000ff\">train</span> <span style=\"font-weight: bold\">[</span> Epoch <span style=\"color: #008080; text-decoration-color: #008080; font-weight: bold\">51</span> of <span style=\"color: #008080; text-decoration-color: #008080; font-weight: bold\">200</span> <span style=\"font-weight: bold\">]</span>                                      <a href=\"file:///n/home09/pren/3DGeno_tools/src/gt3d/modules/higashi/Higashi_wrapper.py\" target=\"_blank\"><span style=\"color: #7f7f7f; text-decoration-color: #7f7f7f\">Higashi_wrapper.py</span></a><span style=\"color: #7f7f7f; text-decoration-color: #7f7f7f\">:</span><a href=\"file:///n/home09/pren/3DGeno_tools/src/gt3d/modules/higashi/Higashi_wrapper.py#1245\" target=\"_blank\"><span style=\"color: #7f7f7f; text-decoration-color: #7f7f7f\">1245</span></a>\n",
       "</pre>\n"
      ],
      "text/plain": [
       "\u001b[2;36m                   \u001b[0m\u001b[2;36m \u001b[0m\u001b[34mINFO    \u001b[0m \u001b[94mtrain\u001b[0m \u001b[1m[\u001b[0m Epoch \u001b[1;36m51\u001b[0m of \u001b[1;36m200\u001b[0m \u001b[1m]\u001b[0m                                      \u001b]8;id=286523;file:///n/home09/pren/3DGeno_tools/src/gt3d/modules/higashi/Higashi_wrapper.py\u001b\\\u001b[2mHigashi_wrapper.py\u001b[0m\u001b]8;;\u001b\\\u001b[2m:\u001b[0m\u001b]8;id=750526;file:///n/home09/pren/3DGeno_tools/src/gt3d/modules/higashi/Higashi_wrapper.py#1245\u001b\\\u001b[2m1245\u001b[0m\u001b]8;;\u001b\\\n"
      ]
     },
     "metadata": {},
     "output_type": "display_data"
    },
    {
     "data": {
      "application/vnd.jupyter.widget-view+json": {
       "model_id": "7fd893fcb602495298ce70f9149dac4e",
       "version_major": 2,
       "version_minor": 0
      },
      "text/plain": [
       "Output()"
      ]
     },
     "metadata": {},
     "output_type": "display_data"
    },
    {
     "data": {
      "text/html": [
       "<pre style=\"white-space:pre;overflow-x:auto;line-height:normal;font-family:Menlo,'DejaVu Sans Mono',consolas,'Courier New',monospace\"></pre>\n"
      ],
      "text/plain": []
     },
     "metadata": {},
     "output_type": "display_data"
    },
    {
     "data": {
      "text/html": [
       "<pre style=\"white-space:pre;overflow-x:auto;line-height:normal;font-family:Menlo,'DejaVu Sans Mono',consolas,'Courier New',monospace\"><span style=\"color: #7fbfbf; text-decoration-color: #7fbfbf\">[12/07/24 13:42:36] </span><span style=\"color: #000080; text-decoration-color: #000080\">INFO    </span> <span style=\"color: #0000ff; text-decoration-color: #0000ff\">train</span>  - <span style=\"font-weight: bold\">(</span>Train<span style=\"font-weight: bold\">)</span> bce:  <span style=\"color: #008080; text-decoration-color: #008080; font-weight: bold\">0.3092</span>, mse:  <span style=\"color: #008080; text-decoration-color: #008080; font-weight: bold\">1.2766</span>,  acc: <span style=\"color: #008080; text-decoration-color: #008080; font-weight: bold\">90.170</span> %,   <a href=\"file:///n/home09/pren/3DGeno_tools/src/gt3d/modules/higashi/Higashi_wrapper.py\" target=\"_blank\"><span style=\"color: #7f7f7f; text-decoration-color: #7f7f7f\">Higashi_wrapper.py</span></a><span style=\"color: #7f7f7f; text-decoration-color: #7f7f7f\">:</span><a href=\"file:///n/home09/pren/3DGeno_tools/src/gt3d/modules/higashi/Higashi_wrapper.py#1258\" target=\"_blank\"><span style=\"color: #7f7f7f; text-decoration-color: #7f7f7f\">1258</span></a>\n",
       "<span style=\"color: #7fbfbf; text-decoration-color: #7fbfbf\">                    </span>         pearson: <span style=\"color: #008080; text-decoration-color: #008080; font-weight: bold\">0.695</span>, spearman: <span style=\"color: #008080; text-decoration-color: #008080; font-weight: bold\">0.583</span>, elapse: <span style=\"color: #008080; text-decoration-color: #008080; font-weight: bold\">89.153</span> s              <span style=\"color: #7f7f7f; text-decoration-color: #7f7f7f\">                       </span>\n",
       "</pre>\n"
      ],
      "text/plain": [
       "\u001b[2;36m[12/07/24 13:42:36]\u001b[0m\u001b[2;36m \u001b[0m\u001b[34mINFO    \u001b[0m \u001b[94mtrain\u001b[0m  - \u001b[1m(\u001b[0mTrain\u001b[1m)\u001b[0m bce:  \u001b[1;36m0.3092\u001b[0m, mse:  \u001b[1;36m1.2766\u001b[0m,  acc: \u001b[1;36m90.170\u001b[0m %,   \u001b]8;id=43631;file:///n/home09/pren/3DGeno_tools/src/gt3d/modules/higashi/Higashi_wrapper.py\u001b\\\u001b[2mHigashi_wrapper.py\u001b[0m\u001b]8;;\u001b\\\u001b[2m:\u001b[0m\u001b]8;id=601786;file:///n/home09/pren/3DGeno_tools/src/gt3d/modules/higashi/Higashi_wrapper.py#1258\u001b\\\u001b[2m1258\u001b[0m\u001b]8;;\u001b\\\n",
       "\u001b[2;36m                    \u001b[0m         pearson: \u001b[1;36m0.695\u001b[0m, spearman: \u001b[1;36m0.583\u001b[0m, elapse: \u001b[1;36m89.153\u001b[0m s              \u001b[2m                       \u001b[0m\n"
      ]
     },
     "metadata": {},
     "output_type": "display_data"
    },
    {
     "data": {
      "application/vnd.jupyter.widget-view+json": {
       "model_id": "1d918caad93d4ceeb723f8a0d163705c",
       "version_major": 2,
       "version_minor": 0
      },
      "text/plain": [
       "Output()"
      ]
     },
     "metadata": {},
     "output_type": "display_data"
    },
    {
     "data": {
      "text/html": [
       "<pre style=\"white-space:pre;overflow-x:auto;line-height:normal;font-family:Menlo,'DejaVu Sans Mono',consolas,'Courier New',monospace\"></pre>\n"
      ],
      "text/plain": []
     },
     "metadata": {},
     "output_type": "display_data"
    },
    {
     "data": {
      "text/html": [
       "<pre style=\"white-space:pre;overflow-x:auto;line-height:normal;font-family:Menlo,'DejaVu Sans Mono',consolas,'Courier New',monospace\"><span style=\"color: #7fbfbf; text-decoration-color: #7fbfbf\">                    </span><span style=\"color: #000080; text-decoration-color: #000080\">INFO    </span> <span style=\"color: #0000ff; text-decoration-color: #0000ff\">train</span>  - <span style=\"font-weight: bold\">(</span>Valid<span style=\"font-weight: bold\">)</span> bce:  <span style=\"color: #008080; text-decoration-color: #008080; font-weight: bold\">0.3540</span>,  acc: <span style=\"color: #008080; text-decoration-color: #008080; font-weight: bold\">88.900</span> %,pearson: <span style=\"color: #008080; text-decoration-color: #008080; font-weight: bold\">0.628</span>,  <a href=\"file:///n/home09/pren/3DGeno_tools/src/gt3d/modules/higashi/Higashi_wrapper.py\" target=\"_blank\"><span style=\"color: #7f7f7f; text-decoration-color: #7f7f7f\">Higashi_wrapper.py</span></a><span style=\"color: #7f7f7f; text-decoration-color: #7f7f7f\">:</span><a href=\"file:///n/home09/pren/3DGeno_tools/src/gt3d/modules/higashi/Higashi_wrapper.py#1277\" target=\"_blank\"><span style=\"color: #7f7f7f; text-decoration-color: #7f7f7f\">1277</span></a>\n",
       "<span style=\"color: #7fbfbf; text-decoration-color: #7fbfbf\">                    </span>         spearman: <span style=\"color: #008080; text-decoration-color: #008080; font-weight: bold\">0.560</span>,elapse: <span style=\"color: #008080; text-decoration-color: #008080; font-weight: bold\">0.052</span> s                                <span style=\"color: #7f7f7f; text-decoration-color: #7f7f7f\">                       </span>\n",
       "</pre>\n"
      ],
      "text/plain": [
       "\u001b[2;36m                   \u001b[0m\u001b[2;36m \u001b[0m\u001b[34mINFO    \u001b[0m \u001b[94mtrain\u001b[0m  - \u001b[1m(\u001b[0mValid\u001b[1m)\u001b[0m bce:  \u001b[1;36m0.3540\u001b[0m,  acc: \u001b[1;36m88.900\u001b[0m %,pearson: \u001b[1;36m0.628\u001b[0m,  \u001b]8;id=5603;file:///n/home09/pren/3DGeno_tools/src/gt3d/modules/higashi/Higashi_wrapper.py\u001b\\\u001b[2mHigashi_wrapper.py\u001b[0m\u001b]8;;\u001b\\\u001b[2m:\u001b[0m\u001b]8;id=359923;file:///n/home09/pren/3DGeno_tools/src/gt3d/modules/higashi/Higashi_wrapper.py#1277\u001b\\\u001b[2m1277\u001b[0m\u001b]8;;\u001b\\\n",
       "\u001b[2;36m                    \u001b[0m         spearman: \u001b[1;36m0.560\u001b[0m,elapse: \u001b[1;36m0.052\u001b[0m s                                \u001b[2m                       \u001b[0m\n"
      ]
     },
     "metadata": {},
     "output_type": "display_data"
    },
    {
     "data": {
      "text/html": [
       "<pre style=\"white-space:pre;overflow-x:auto;line-height:normal;font-family:Menlo,'DejaVu Sans Mono',consolas,'Courier New',monospace\"><span style=\"color: #7fbfbf; text-decoration-color: #7fbfbf\">                    </span><span style=\"color: #000080; text-decoration-color: #000080\">INFO    </span> <span style=\"color: #0000ff; text-decoration-color: #0000ff\">train</span> update_rate: <span style=\"color: #008080; text-decoration-color: #008080; font-weight: bold\">0.003295</span>     <span style=\"color: #008080; text-decoration-color: #008080; font-weight: bold\">0.089862</span>                       <a href=\"file:///n/home09/pren/3DGeno_tools/src/gt3d/modules/higashi/Higashi_wrapper.py\" target=\"_blank\"><span style=\"color: #7f7f7f; text-decoration-color: #7f7f7f\">Higashi_wrapper.py</span></a><span style=\"color: #7f7f7f; text-decoration-color: #7f7f7f\">:</span><a href=\"file:///n/home09/pren/3DGeno_tools/src/gt3d/modules/higashi/Higashi_wrapper.py#1323\" target=\"_blank\"><span style=\"color: #7f7f7f; text-decoration-color: #7f7f7f\">1323</span></a>\n",
       "</pre>\n"
      ],
      "text/plain": [
       "\u001b[2;36m                   \u001b[0m\u001b[2;36m \u001b[0m\u001b[34mINFO    \u001b[0m \u001b[94mtrain\u001b[0m update_rate: \u001b[1;36m0.003295\u001b[0m     \u001b[1;36m0.089862\u001b[0m                       \u001b]8;id=94409;file:///n/home09/pren/3DGeno_tools/src/gt3d/modules/higashi/Higashi_wrapper.py\u001b\\\u001b[2mHigashi_wrapper.py\u001b[0m\u001b]8;;\u001b\\\u001b[2m:\u001b[0m\u001b]8;id=260141;file:///n/home09/pren/3DGeno_tools/src/gt3d/modules/higashi/Higashi_wrapper.py#1323\u001b\\\u001b[2m1323\u001b[0m\u001b]8;;\u001b\\\n"
      ]
     },
     "metadata": {},
     "output_type": "display_data"
    },
    {
     "data": {
      "text/html": [
       "<pre style=\"white-space:pre;overflow-x:auto;line-height:normal;font-family:Menlo,'DejaVu Sans Mono',consolas,'Courier New',monospace\"><span style=\"color: #7fbfbf; text-decoration-color: #7fbfbf\">[12/07/24 13:42:37] </span><span style=\"color: #000080; text-decoration-color: #000080\">INFO    </span> <span style=\"color: #0000ff; text-decoration-color: #0000ff\">train</span> <span style=\"font-weight: bold\">[</span> Epoch <span style=\"color: #008080; text-decoration-color: #008080; font-weight: bold\">52</span> of <span style=\"color: #008080; text-decoration-color: #008080; font-weight: bold\">200</span> <span style=\"font-weight: bold\">]</span>                                      <a href=\"file:///n/home09/pren/3DGeno_tools/src/gt3d/modules/higashi/Higashi_wrapper.py\" target=\"_blank\"><span style=\"color: #7f7f7f; text-decoration-color: #7f7f7f\">Higashi_wrapper.py</span></a><span style=\"color: #7f7f7f; text-decoration-color: #7f7f7f\">:</span><a href=\"file:///n/home09/pren/3DGeno_tools/src/gt3d/modules/higashi/Higashi_wrapper.py#1245\" target=\"_blank\"><span style=\"color: #7f7f7f; text-decoration-color: #7f7f7f\">1245</span></a>\n",
       "</pre>\n"
      ],
      "text/plain": [
       "\u001b[2;36m[12/07/24 13:42:37]\u001b[0m\u001b[2;36m \u001b[0m\u001b[34mINFO    \u001b[0m \u001b[94mtrain\u001b[0m \u001b[1m[\u001b[0m Epoch \u001b[1;36m52\u001b[0m of \u001b[1;36m200\u001b[0m \u001b[1m]\u001b[0m                                      \u001b]8;id=491076;file:///n/home09/pren/3DGeno_tools/src/gt3d/modules/higashi/Higashi_wrapper.py\u001b\\\u001b[2mHigashi_wrapper.py\u001b[0m\u001b]8;;\u001b\\\u001b[2m:\u001b[0m\u001b]8;id=18207;file:///n/home09/pren/3DGeno_tools/src/gt3d/modules/higashi/Higashi_wrapper.py#1245\u001b\\\u001b[2m1245\u001b[0m\u001b]8;;\u001b\\\n"
      ]
     },
     "metadata": {},
     "output_type": "display_data"
    },
    {
     "data": {
      "application/vnd.jupyter.widget-view+json": {
       "model_id": "7275454543504fa88ec5cfc27ec4e261",
       "version_major": 2,
       "version_minor": 0
      },
      "text/plain": [
       "Output()"
      ]
     },
     "metadata": {},
     "output_type": "display_data"
    },
    {
     "data": {
      "text/html": [
       "<pre style=\"white-space:pre;overflow-x:auto;line-height:normal;font-family:Menlo,'DejaVu Sans Mono',consolas,'Courier New',monospace\"></pre>\n"
      ],
      "text/plain": []
     },
     "metadata": {},
     "output_type": "display_data"
    },
    {
     "data": {
      "text/html": [
       "<pre style=\"white-space:pre;overflow-x:auto;line-height:normal;font-family:Menlo,'DejaVu Sans Mono',consolas,'Courier New',monospace\"><span style=\"color: #7fbfbf; text-decoration-color: #7fbfbf\">[12/07/24 13:44:06] </span><span style=\"color: #000080; text-decoration-color: #000080\">INFO    </span> <span style=\"color: #0000ff; text-decoration-color: #0000ff\">train</span>  - <span style=\"font-weight: bold\">(</span>Train<span style=\"font-weight: bold\">)</span> bce:  <span style=\"color: #008080; text-decoration-color: #008080; font-weight: bold\">0.3074</span>, mse:  <span style=\"color: #008080; text-decoration-color: #008080; font-weight: bold\">1.0399</span>,  acc: <span style=\"color: #008080; text-decoration-color: #008080; font-weight: bold\">90.236</span> %,   <a href=\"file:///n/home09/pren/3DGeno_tools/src/gt3d/modules/higashi/Higashi_wrapper.py\" target=\"_blank\"><span style=\"color: #7f7f7f; text-decoration-color: #7f7f7f\">Higashi_wrapper.py</span></a><span style=\"color: #7f7f7f; text-decoration-color: #7f7f7f\">:</span><a href=\"file:///n/home09/pren/3DGeno_tools/src/gt3d/modules/higashi/Higashi_wrapper.py#1258\" target=\"_blank\"><span style=\"color: #7f7f7f; text-decoration-color: #7f7f7f\">1258</span></a>\n",
       "<span style=\"color: #7fbfbf; text-decoration-color: #7fbfbf\">                    </span>         pearson: <span style=\"color: #008080; text-decoration-color: #008080; font-weight: bold\">0.697</span>, spearman: <span style=\"color: #008080; text-decoration-color: #008080; font-weight: bold\">0.583</span>, elapse: <span style=\"color: #008080; text-decoration-color: #008080; font-weight: bold\">89.338</span> s              <span style=\"color: #7f7f7f; text-decoration-color: #7f7f7f\">                       </span>\n",
       "</pre>\n"
      ],
      "text/plain": [
       "\u001b[2;36m[12/07/24 13:44:06]\u001b[0m\u001b[2;36m \u001b[0m\u001b[34mINFO    \u001b[0m \u001b[94mtrain\u001b[0m  - \u001b[1m(\u001b[0mTrain\u001b[1m)\u001b[0m bce:  \u001b[1;36m0.3074\u001b[0m, mse:  \u001b[1;36m1.0399\u001b[0m,  acc: \u001b[1;36m90.236\u001b[0m %,   \u001b]8;id=500273;file:///n/home09/pren/3DGeno_tools/src/gt3d/modules/higashi/Higashi_wrapper.py\u001b\\\u001b[2mHigashi_wrapper.py\u001b[0m\u001b]8;;\u001b\\\u001b[2m:\u001b[0m\u001b]8;id=835515;file:///n/home09/pren/3DGeno_tools/src/gt3d/modules/higashi/Higashi_wrapper.py#1258\u001b\\\u001b[2m1258\u001b[0m\u001b]8;;\u001b\\\n",
       "\u001b[2;36m                    \u001b[0m         pearson: \u001b[1;36m0.697\u001b[0m, spearman: \u001b[1;36m0.583\u001b[0m, elapse: \u001b[1;36m89.338\u001b[0m s              \u001b[2m                       \u001b[0m\n"
      ]
     },
     "metadata": {},
     "output_type": "display_data"
    },
    {
     "data": {
      "application/vnd.jupyter.widget-view+json": {
       "model_id": "c91c85a2fcd443658d9b9e6bbe61d9f7",
       "version_major": 2,
       "version_minor": 0
      },
      "text/plain": [
       "Output()"
      ]
     },
     "metadata": {},
     "output_type": "display_data"
    },
    {
     "data": {
      "text/html": [
       "<pre style=\"white-space:pre;overflow-x:auto;line-height:normal;font-family:Menlo,'DejaVu Sans Mono',consolas,'Courier New',monospace\"></pre>\n"
      ],
      "text/plain": []
     },
     "metadata": {},
     "output_type": "display_data"
    },
    {
     "data": {
      "text/html": [
       "<pre style=\"white-space:pre;overflow-x:auto;line-height:normal;font-family:Menlo,'DejaVu Sans Mono',consolas,'Courier New',monospace\"><span style=\"color: #7fbfbf; text-decoration-color: #7fbfbf\">                    </span><span style=\"color: #000080; text-decoration-color: #000080\">INFO    </span> <span style=\"color: #0000ff; text-decoration-color: #0000ff\">train</span>  - <span style=\"font-weight: bold\">(</span>Valid<span style=\"font-weight: bold\">)</span> bce:  <span style=\"color: #008080; text-decoration-color: #008080; font-weight: bold\">0.3962</span>,  acc: <span style=\"color: #008080; text-decoration-color: #008080; font-weight: bold\">88.164</span> %,pearson: <span style=\"color: #008080; text-decoration-color: #008080; font-weight: bold\">0.606</span>,  <a href=\"file:///n/home09/pren/3DGeno_tools/src/gt3d/modules/higashi/Higashi_wrapper.py\" target=\"_blank\"><span style=\"color: #7f7f7f; text-decoration-color: #7f7f7f\">Higashi_wrapper.py</span></a><span style=\"color: #7f7f7f; text-decoration-color: #7f7f7f\">:</span><a href=\"file:///n/home09/pren/3DGeno_tools/src/gt3d/modules/higashi/Higashi_wrapper.py#1277\" target=\"_blank\"><span style=\"color: #7f7f7f; text-decoration-color: #7f7f7f\">1277</span></a>\n",
       "<span style=\"color: #7fbfbf; text-decoration-color: #7fbfbf\">                    </span>         spearman: <span style=\"color: #008080; text-decoration-color: #008080; font-weight: bold\">0.538</span>,elapse: <span style=\"color: #008080; text-decoration-color: #008080; font-weight: bold\">0.052</span> s                                <span style=\"color: #7f7f7f; text-decoration-color: #7f7f7f\">                       </span>\n",
       "</pre>\n"
      ],
      "text/plain": [
       "\u001b[2;36m                   \u001b[0m\u001b[2;36m \u001b[0m\u001b[34mINFO    \u001b[0m \u001b[94mtrain\u001b[0m  - \u001b[1m(\u001b[0mValid\u001b[1m)\u001b[0m bce:  \u001b[1;36m0.3962\u001b[0m,  acc: \u001b[1;36m88.164\u001b[0m %,pearson: \u001b[1;36m0.606\u001b[0m,  \u001b]8;id=815323;file:///n/home09/pren/3DGeno_tools/src/gt3d/modules/higashi/Higashi_wrapper.py\u001b\\\u001b[2mHigashi_wrapper.py\u001b[0m\u001b]8;;\u001b\\\u001b[2m:\u001b[0m\u001b]8;id=259476;file:///n/home09/pren/3DGeno_tools/src/gt3d/modules/higashi/Higashi_wrapper.py#1277\u001b\\\u001b[2m1277\u001b[0m\u001b]8;;\u001b\\\n",
       "\u001b[2;36m                    \u001b[0m         spearman: \u001b[1;36m0.538\u001b[0m,elapse: \u001b[1;36m0.052\u001b[0m s                                \u001b[2m                       \u001b[0m\n"
      ]
     },
     "metadata": {},
     "output_type": "display_data"
    },
    {
     "data": {
      "text/html": [
       "<pre style=\"white-space:pre;overflow-x:auto;line-height:normal;font-family:Menlo,'DejaVu Sans Mono',consolas,'Courier New',monospace\"><span style=\"color: #7fbfbf; text-decoration-color: #7fbfbf\">                    </span><span style=\"color: #000080; text-decoration-color: #000080\">INFO    </span> <span style=\"color: #0000ff; text-decoration-color: #0000ff\">train</span> update_rate: <span style=\"color: #008080; text-decoration-color: #008080; font-weight: bold\">0.002944</span>     <span style=\"color: #008080; text-decoration-color: #008080; font-weight: bold\">0.297171</span>                       <a href=\"file:///n/home09/pren/3DGeno_tools/src/gt3d/modules/higashi/Higashi_wrapper.py\" target=\"_blank\"><span style=\"color: #7f7f7f; text-decoration-color: #7f7f7f\">Higashi_wrapper.py</span></a><span style=\"color: #7f7f7f; text-decoration-color: #7f7f7f\">:</span><a href=\"file:///n/home09/pren/3DGeno_tools/src/gt3d/modules/higashi/Higashi_wrapper.py#1323\" target=\"_blank\"><span style=\"color: #7f7f7f; text-decoration-color: #7f7f7f\">1323</span></a>\n",
       "</pre>\n"
      ],
      "text/plain": [
       "\u001b[2;36m                   \u001b[0m\u001b[2;36m \u001b[0m\u001b[34mINFO    \u001b[0m \u001b[94mtrain\u001b[0m update_rate: \u001b[1;36m0.002944\u001b[0m     \u001b[1;36m0.297171\u001b[0m                       \u001b]8;id=104437;file:///n/home09/pren/3DGeno_tools/src/gt3d/modules/higashi/Higashi_wrapper.py\u001b\\\u001b[2mHigashi_wrapper.py\u001b[0m\u001b]8;;\u001b\\\u001b[2m:\u001b[0m\u001b]8;id=892947;file:///n/home09/pren/3DGeno_tools/src/gt3d/modules/higashi/Higashi_wrapper.py#1323\u001b\\\u001b[2m1323\u001b[0m\u001b]8;;\u001b\\\n"
      ]
     },
     "metadata": {},
     "output_type": "display_data"
    },
    {
     "data": {
      "text/html": [
       "<pre style=\"white-space:pre;overflow-x:auto;line-height:normal;font-family:Menlo,'DejaVu Sans Mono',consolas,'Courier New',monospace\"><span style=\"color: #7fbfbf; text-decoration-color: #7fbfbf\">                    </span><span style=\"color: #000080; text-decoration-color: #000080\">INFO    </span> <span style=\"color: #0000ff; text-decoration-color: #0000ff\">train</span> <span style=\"font-weight: bold\">[</span> Epoch <span style=\"color: #008080; text-decoration-color: #008080; font-weight: bold\">53</span> of <span style=\"color: #008080; text-decoration-color: #008080; font-weight: bold\">200</span> <span style=\"font-weight: bold\">]</span>                                      <a href=\"file:///n/home09/pren/3DGeno_tools/src/gt3d/modules/higashi/Higashi_wrapper.py\" target=\"_blank\"><span style=\"color: #7f7f7f; text-decoration-color: #7f7f7f\">Higashi_wrapper.py</span></a><span style=\"color: #7f7f7f; text-decoration-color: #7f7f7f\">:</span><a href=\"file:///n/home09/pren/3DGeno_tools/src/gt3d/modules/higashi/Higashi_wrapper.py#1245\" target=\"_blank\"><span style=\"color: #7f7f7f; text-decoration-color: #7f7f7f\">1245</span></a>\n",
       "</pre>\n"
      ],
      "text/plain": [
       "\u001b[2;36m                   \u001b[0m\u001b[2;36m \u001b[0m\u001b[34mINFO    \u001b[0m \u001b[94mtrain\u001b[0m \u001b[1m[\u001b[0m Epoch \u001b[1;36m53\u001b[0m of \u001b[1;36m200\u001b[0m \u001b[1m]\u001b[0m                                      \u001b]8;id=482928;file:///n/home09/pren/3DGeno_tools/src/gt3d/modules/higashi/Higashi_wrapper.py\u001b\\\u001b[2mHigashi_wrapper.py\u001b[0m\u001b]8;;\u001b\\\u001b[2m:\u001b[0m\u001b]8;id=509179;file:///n/home09/pren/3DGeno_tools/src/gt3d/modules/higashi/Higashi_wrapper.py#1245\u001b\\\u001b[2m1245\u001b[0m\u001b]8;;\u001b\\\n"
      ]
     },
     "metadata": {},
     "output_type": "display_data"
    },
    {
     "data": {
      "application/vnd.jupyter.widget-view+json": {
       "model_id": "bc2f19beb6d34636b7eb9422fe7e18d6",
       "version_major": 2,
       "version_minor": 0
      },
      "text/plain": [
       "Output()"
      ]
     },
     "metadata": {},
     "output_type": "display_data"
    },
    {
     "data": {
      "text/html": [
       "<pre style=\"white-space:pre;overflow-x:auto;line-height:normal;font-family:Menlo,'DejaVu Sans Mono',consolas,'Courier New',monospace\"></pre>\n"
      ],
      "text/plain": []
     },
     "metadata": {},
     "output_type": "display_data"
    },
    {
     "data": {
      "text/html": [
       "<pre style=\"white-space:pre;overflow-x:auto;line-height:normal;font-family:Menlo,'DejaVu Sans Mono',consolas,'Courier New',monospace\"><span style=\"color: #7fbfbf; text-decoration-color: #7fbfbf\">[12/07/24 13:45:41] </span><span style=\"color: #000080; text-decoration-color: #000080\">INFO    </span> <span style=\"color: #0000ff; text-decoration-color: #0000ff\">train</span>  - <span style=\"font-weight: bold\">(</span>Train<span style=\"font-weight: bold\">)</span> bce:  <span style=\"color: #008080; text-decoration-color: #008080; font-weight: bold\">0.3092</span>, mse:  <span style=\"color: #008080; text-decoration-color: #008080; font-weight: bold\">0.8783</span>,  acc: <span style=\"color: #008080; text-decoration-color: #008080; font-weight: bold\">90.095</span> %,   <a href=\"file:///n/home09/pren/3DGeno_tools/src/gt3d/modules/higashi/Higashi_wrapper.py\" target=\"_blank\"><span style=\"color: #7f7f7f; text-decoration-color: #7f7f7f\">Higashi_wrapper.py</span></a><span style=\"color: #7f7f7f; text-decoration-color: #7f7f7f\">:</span><a href=\"file:///n/home09/pren/3DGeno_tools/src/gt3d/modules/higashi/Higashi_wrapper.py#1258\" target=\"_blank\"><span style=\"color: #7f7f7f; text-decoration-color: #7f7f7f\">1258</span></a>\n",
       "<span style=\"color: #7fbfbf; text-decoration-color: #7fbfbf\">                    </span>         pearson: <span style=\"color: #008080; text-decoration-color: #008080; font-weight: bold\">0.695</span>, spearman: <span style=\"color: #008080; text-decoration-color: #008080; font-weight: bold\">0.582</span>, elapse: <span style=\"color: #008080; text-decoration-color: #008080; font-weight: bold\">95.109</span> s              <span style=\"color: #7f7f7f; text-decoration-color: #7f7f7f\">                       </span>\n",
       "</pre>\n"
      ],
      "text/plain": [
       "\u001b[2;36m[12/07/24 13:45:41]\u001b[0m\u001b[2;36m \u001b[0m\u001b[34mINFO    \u001b[0m \u001b[94mtrain\u001b[0m  - \u001b[1m(\u001b[0mTrain\u001b[1m)\u001b[0m bce:  \u001b[1;36m0.3092\u001b[0m, mse:  \u001b[1;36m0.8783\u001b[0m,  acc: \u001b[1;36m90.095\u001b[0m %,   \u001b]8;id=865438;file:///n/home09/pren/3DGeno_tools/src/gt3d/modules/higashi/Higashi_wrapper.py\u001b\\\u001b[2mHigashi_wrapper.py\u001b[0m\u001b]8;;\u001b\\\u001b[2m:\u001b[0m\u001b]8;id=8631;file:///n/home09/pren/3DGeno_tools/src/gt3d/modules/higashi/Higashi_wrapper.py#1258\u001b\\\u001b[2m1258\u001b[0m\u001b]8;;\u001b\\\n",
       "\u001b[2;36m                    \u001b[0m         pearson: \u001b[1;36m0.695\u001b[0m, spearman: \u001b[1;36m0.582\u001b[0m, elapse: \u001b[1;36m95.109\u001b[0m s              \u001b[2m                       \u001b[0m\n"
      ]
     },
     "metadata": {},
     "output_type": "display_data"
    },
    {
     "data": {
      "application/vnd.jupyter.widget-view+json": {
       "model_id": "8cafded80c7d4451b9c4d7f63a96ddff",
       "version_major": 2,
       "version_minor": 0
      },
      "text/plain": [
       "Output()"
      ]
     },
     "metadata": {},
     "output_type": "display_data"
    },
    {
     "data": {
      "text/html": [
       "<pre style=\"white-space:pre;overflow-x:auto;line-height:normal;font-family:Menlo,'DejaVu Sans Mono',consolas,'Courier New',monospace\"></pre>\n"
      ],
      "text/plain": []
     },
     "metadata": {},
     "output_type": "display_data"
    },
    {
     "data": {
      "text/html": [
       "<pre style=\"white-space:pre;overflow-x:auto;line-height:normal;font-family:Menlo,'DejaVu Sans Mono',consolas,'Courier New',monospace\"><span style=\"color: #7fbfbf; text-decoration-color: #7fbfbf\">                    </span><span style=\"color: #000080; text-decoration-color: #000080\">INFO    </span> <span style=\"color: #0000ff; text-decoration-color: #0000ff\">train</span>  - <span style=\"font-weight: bold\">(</span>Valid<span style=\"font-weight: bold\">)</span> bce:  <span style=\"color: #008080; text-decoration-color: #008080; font-weight: bold\">0.3608</span>,  acc: <span style=\"color: #008080; text-decoration-color: #008080; font-weight: bold\">88.809</span> %,pearson: <span style=\"color: #008080; text-decoration-color: #008080; font-weight: bold\">0.624</span>,  <a href=\"file:///n/home09/pren/3DGeno_tools/src/gt3d/modules/higashi/Higashi_wrapper.py\" target=\"_blank\"><span style=\"color: #7f7f7f; text-decoration-color: #7f7f7f\">Higashi_wrapper.py</span></a><span style=\"color: #7f7f7f; text-decoration-color: #7f7f7f\">:</span><a href=\"file:///n/home09/pren/3DGeno_tools/src/gt3d/modules/higashi/Higashi_wrapper.py#1277\" target=\"_blank\"><span style=\"color: #7f7f7f; text-decoration-color: #7f7f7f\">1277</span></a>\n",
       "<span style=\"color: #7fbfbf; text-decoration-color: #7fbfbf\">                    </span>         spearman: <span style=\"color: #008080; text-decoration-color: #008080; font-weight: bold\">0.561</span>,elapse: <span style=\"color: #008080; text-decoration-color: #008080; font-weight: bold\">0.052</span> s                                <span style=\"color: #7f7f7f; text-decoration-color: #7f7f7f\">                       </span>\n",
       "</pre>\n"
      ],
      "text/plain": [
       "\u001b[2;36m                   \u001b[0m\u001b[2;36m \u001b[0m\u001b[34mINFO    \u001b[0m \u001b[94mtrain\u001b[0m  - \u001b[1m(\u001b[0mValid\u001b[1m)\u001b[0m bce:  \u001b[1;36m0.3608\u001b[0m,  acc: \u001b[1;36m88.809\u001b[0m %,pearson: \u001b[1;36m0.624\u001b[0m,  \u001b]8;id=957481;file:///n/home09/pren/3DGeno_tools/src/gt3d/modules/higashi/Higashi_wrapper.py\u001b\\\u001b[2mHigashi_wrapper.py\u001b[0m\u001b]8;;\u001b\\\u001b[2m:\u001b[0m\u001b]8;id=977698;file:///n/home09/pren/3DGeno_tools/src/gt3d/modules/higashi/Higashi_wrapper.py#1277\u001b\\\u001b[2m1277\u001b[0m\u001b]8;;\u001b\\\n",
       "\u001b[2;36m                    \u001b[0m         spearman: \u001b[1;36m0.561\u001b[0m,elapse: \u001b[1;36m0.052\u001b[0m s                                \u001b[2m                       \u001b[0m\n"
      ]
     },
     "metadata": {},
     "output_type": "display_data"
    },
    {
     "data": {
      "text/html": [
       "<pre style=\"white-space:pre;overflow-x:auto;line-height:normal;font-family:Menlo,'DejaVu Sans Mono',consolas,'Courier New',monospace\"><span style=\"color: #7fbfbf; text-decoration-color: #7fbfbf\">                    </span><span style=\"color: #000080; text-decoration-color: #000080\">INFO    </span> <span style=\"color: #0000ff; text-decoration-color: #0000ff\">train</span> update_rate: <span style=\"color: #008080; text-decoration-color: #008080; font-weight: bold\">0.003090</span>     <span style=\"color: #008080; text-decoration-color: #008080; font-weight: bold\">0.196801</span>                       <a href=\"file:///n/home09/pren/3DGeno_tools/src/gt3d/modules/higashi/Higashi_wrapper.py\" target=\"_blank\"><span style=\"color: #7f7f7f; text-decoration-color: #7f7f7f\">Higashi_wrapper.py</span></a><span style=\"color: #7f7f7f; text-decoration-color: #7f7f7f\">:</span><a href=\"file:///n/home09/pren/3DGeno_tools/src/gt3d/modules/higashi/Higashi_wrapper.py#1323\" target=\"_blank\"><span style=\"color: #7f7f7f; text-decoration-color: #7f7f7f\">1323</span></a>\n",
       "</pre>\n"
      ],
      "text/plain": [
       "\u001b[2;36m                   \u001b[0m\u001b[2;36m \u001b[0m\u001b[34mINFO    \u001b[0m \u001b[94mtrain\u001b[0m update_rate: \u001b[1;36m0.003090\u001b[0m     \u001b[1;36m0.196801\u001b[0m                       \u001b]8;id=999602;file:///n/home09/pren/3DGeno_tools/src/gt3d/modules/higashi/Higashi_wrapper.py\u001b\\\u001b[2mHigashi_wrapper.py\u001b[0m\u001b]8;;\u001b\\\u001b[2m:\u001b[0m\u001b]8;id=980032;file:///n/home09/pren/3DGeno_tools/src/gt3d/modules/higashi/Higashi_wrapper.py#1323\u001b\\\u001b[2m1323\u001b[0m\u001b]8;;\u001b\\\n"
      ]
     },
     "metadata": {},
     "output_type": "display_data"
    },
    {
     "data": {
      "text/html": [
       "<pre style=\"white-space:pre;overflow-x:auto;line-height:normal;font-family:Menlo,'DejaVu Sans Mono',consolas,'Courier New',monospace\"><span style=\"color: #7fbfbf; text-decoration-color: #7fbfbf\">                    </span><span style=\"color: #000080; text-decoration-color: #000080\">INFO    </span> <span style=\"color: #0000ff; text-decoration-color: #0000ff\">train</span> <span style=\"font-weight: bold\">[</span> Epoch <span style=\"color: #008080; text-decoration-color: #008080; font-weight: bold\">54</span> of <span style=\"color: #008080; text-decoration-color: #008080; font-weight: bold\">200</span> <span style=\"font-weight: bold\">]</span>                                      <a href=\"file:///n/home09/pren/3DGeno_tools/src/gt3d/modules/higashi/Higashi_wrapper.py\" target=\"_blank\"><span style=\"color: #7f7f7f; text-decoration-color: #7f7f7f\">Higashi_wrapper.py</span></a><span style=\"color: #7f7f7f; text-decoration-color: #7f7f7f\">:</span><a href=\"file:///n/home09/pren/3DGeno_tools/src/gt3d/modules/higashi/Higashi_wrapper.py#1245\" target=\"_blank\"><span style=\"color: #7f7f7f; text-decoration-color: #7f7f7f\">1245</span></a>\n",
       "</pre>\n"
      ],
      "text/plain": [
       "\u001b[2;36m                   \u001b[0m\u001b[2;36m \u001b[0m\u001b[34mINFO    \u001b[0m \u001b[94mtrain\u001b[0m \u001b[1m[\u001b[0m Epoch \u001b[1;36m54\u001b[0m of \u001b[1;36m200\u001b[0m \u001b[1m]\u001b[0m                                      \u001b]8;id=833045;file:///n/home09/pren/3DGeno_tools/src/gt3d/modules/higashi/Higashi_wrapper.py\u001b\\\u001b[2mHigashi_wrapper.py\u001b[0m\u001b]8;;\u001b\\\u001b[2m:\u001b[0m\u001b]8;id=14347;file:///n/home09/pren/3DGeno_tools/src/gt3d/modules/higashi/Higashi_wrapper.py#1245\u001b\\\u001b[2m1245\u001b[0m\u001b]8;;\u001b\\\n"
      ]
     },
     "metadata": {},
     "output_type": "display_data"
    },
    {
     "data": {
      "application/vnd.jupyter.widget-view+json": {
       "model_id": "06d703172a144a919a1521545da3e4fb",
       "version_major": 2,
       "version_minor": 0
      },
      "text/plain": [
       "Output()"
      ]
     },
     "metadata": {},
     "output_type": "display_data"
    },
    {
     "data": {
      "text/html": [
       "<pre style=\"white-space:pre;overflow-x:auto;line-height:normal;font-family:Menlo,'DejaVu Sans Mono',consolas,'Courier New',monospace\"></pre>\n"
      ],
      "text/plain": []
     },
     "metadata": {},
     "output_type": "display_data"
    },
    {
     "data": {
      "text/html": [
       "<pre style=\"white-space:pre;overflow-x:auto;line-height:normal;font-family:Menlo,'DejaVu Sans Mono',consolas,'Courier New',monospace\"><span style=\"color: #7fbfbf; text-decoration-color: #7fbfbf\">[12/07/24 13:47:11] </span><span style=\"color: #000080; text-decoration-color: #000080\">INFO    </span> <span style=\"color: #0000ff; text-decoration-color: #0000ff\">train</span>  - <span style=\"font-weight: bold\">(</span>Train<span style=\"font-weight: bold\">)</span> bce:  <span style=\"color: #008080; text-decoration-color: #008080; font-weight: bold\">0.3087</span>, mse:  <span style=\"color: #008080; text-decoration-color: #008080; font-weight: bold\">0.9841</span>,  acc: <span style=\"color: #008080; text-decoration-color: #008080; font-weight: bold\">90.188</span> %,   <a href=\"file:///n/home09/pren/3DGeno_tools/src/gt3d/modules/higashi/Higashi_wrapper.py\" target=\"_blank\"><span style=\"color: #7f7f7f; text-decoration-color: #7f7f7f\">Higashi_wrapper.py</span></a><span style=\"color: #7f7f7f; text-decoration-color: #7f7f7f\">:</span><a href=\"file:///n/home09/pren/3DGeno_tools/src/gt3d/modules/higashi/Higashi_wrapper.py#1258\" target=\"_blank\"><span style=\"color: #7f7f7f; text-decoration-color: #7f7f7f\">1258</span></a>\n",
       "<span style=\"color: #7fbfbf; text-decoration-color: #7fbfbf\">                    </span>         pearson: <span style=\"color: #008080; text-decoration-color: #008080; font-weight: bold\">0.695</span>, spearman: <span style=\"color: #008080; text-decoration-color: #008080; font-weight: bold\">0.583</span>, elapse: <span style=\"color: #008080; text-decoration-color: #008080; font-weight: bold\">89.644</span> s              <span style=\"color: #7f7f7f; text-decoration-color: #7f7f7f\">                       </span>\n",
       "</pre>\n"
      ],
      "text/plain": [
       "\u001b[2;36m[12/07/24 13:47:11]\u001b[0m\u001b[2;36m \u001b[0m\u001b[34mINFO    \u001b[0m \u001b[94mtrain\u001b[0m  - \u001b[1m(\u001b[0mTrain\u001b[1m)\u001b[0m bce:  \u001b[1;36m0.3087\u001b[0m, mse:  \u001b[1;36m0.9841\u001b[0m,  acc: \u001b[1;36m90.188\u001b[0m %,   \u001b]8;id=777117;file:///n/home09/pren/3DGeno_tools/src/gt3d/modules/higashi/Higashi_wrapper.py\u001b\\\u001b[2mHigashi_wrapper.py\u001b[0m\u001b]8;;\u001b\\\u001b[2m:\u001b[0m\u001b]8;id=823090;file:///n/home09/pren/3DGeno_tools/src/gt3d/modules/higashi/Higashi_wrapper.py#1258\u001b\\\u001b[2m1258\u001b[0m\u001b]8;;\u001b\\\n",
       "\u001b[2;36m                    \u001b[0m         pearson: \u001b[1;36m0.695\u001b[0m, spearman: \u001b[1;36m0.583\u001b[0m, elapse: \u001b[1;36m89.644\u001b[0m s              \u001b[2m                       \u001b[0m\n"
      ]
     },
     "metadata": {},
     "output_type": "display_data"
    },
    {
     "data": {
      "application/vnd.jupyter.widget-view+json": {
       "model_id": "44a55e0ee6b94d8182e84cfa39eeb11a",
       "version_major": 2,
       "version_minor": 0
      },
      "text/plain": [
       "Output()"
      ]
     },
     "metadata": {},
     "output_type": "display_data"
    },
    {
     "data": {
      "text/html": [
       "<pre style=\"white-space:pre;overflow-x:auto;line-height:normal;font-family:Menlo,'DejaVu Sans Mono',consolas,'Courier New',monospace\"></pre>\n"
      ],
      "text/plain": []
     },
     "metadata": {},
     "output_type": "display_data"
    },
    {
     "data": {
      "text/html": [
       "<pre style=\"white-space:pre;overflow-x:auto;line-height:normal;font-family:Menlo,'DejaVu Sans Mono',consolas,'Courier New',monospace\"><span style=\"color: #7fbfbf; text-decoration-color: #7fbfbf\">                    </span><span style=\"color: #000080; text-decoration-color: #000080\">INFO    </span> <span style=\"color: #0000ff; text-decoration-color: #0000ff\">train</span>  - <span style=\"font-weight: bold\">(</span>Valid<span style=\"font-weight: bold\">)</span> bce:  <span style=\"color: #008080; text-decoration-color: #008080; font-weight: bold\">0.3683</span>,  acc: <span style=\"color: #008080; text-decoration-color: #008080; font-weight: bold\">88.796</span> %,pearson: <span style=\"color: #008080; text-decoration-color: #008080; font-weight: bold\">0.619</span>,  <a href=\"file:///n/home09/pren/3DGeno_tools/src/gt3d/modules/higashi/Higashi_wrapper.py\" target=\"_blank\"><span style=\"color: #7f7f7f; text-decoration-color: #7f7f7f\">Higashi_wrapper.py</span></a><span style=\"color: #7f7f7f; text-decoration-color: #7f7f7f\">:</span><a href=\"file:///n/home09/pren/3DGeno_tools/src/gt3d/modules/higashi/Higashi_wrapper.py#1277\" target=\"_blank\"><span style=\"color: #7f7f7f; text-decoration-color: #7f7f7f\">1277</span></a>\n",
       "<span style=\"color: #7fbfbf; text-decoration-color: #7fbfbf\">                    </span>         spearman: <span style=\"color: #008080; text-decoration-color: #008080; font-weight: bold\">0.558</span>,elapse: <span style=\"color: #008080; text-decoration-color: #008080; font-weight: bold\">0.051</span> s                                <span style=\"color: #7f7f7f; text-decoration-color: #7f7f7f\">                       </span>\n",
       "</pre>\n"
      ],
      "text/plain": [
       "\u001b[2;36m                   \u001b[0m\u001b[2;36m \u001b[0m\u001b[34mINFO    \u001b[0m \u001b[94mtrain\u001b[0m  - \u001b[1m(\u001b[0mValid\u001b[1m)\u001b[0m bce:  \u001b[1;36m0.3683\u001b[0m,  acc: \u001b[1;36m88.796\u001b[0m %,pearson: \u001b[1;36m0.619\u001b[0m,  \u001b]8;id=701488;file:///n/home09/pren/3DGeno_tools/src/gt3d/modules/higashi/Higashi_wrapper.py\u001b\\\u001b[2mHigashi_wrapper.py\u001b[0m\u001b]8;;\u001b\\\u001b[2m:\u001b[0m\u001b]8;id=322693;file:///n/home09/pren/3DGeno_tools/src/gt3d/modules/higashi/Higashi_wrapper.py#1277\u001b\\\u001b[2m1277\u001b[0m\u001b]8;;\u001b\\\n",
       "\u001b[2;36m                    \u001b[0m         spearman: \u001b[1;36m0.558\u001b[0m,elapse: \u001b[1;36m0.051\u001b[0m s                                \u001b[2m                       \u001b[0m\n"
      ]
     },
     "metadata": {},
     "output_type": "display_data"
    },
    {
     "data": {
      "text/html": [
       "<pre style=\"white-space:pre;overflow-x:auto;line-height:normal;font-family:Menlo,'DejaVu Sans Mono',consolas,'Courier New',monospace\"><span style=\"color: #7fbfbf; text-decoration-color: #7fbfbf\">                    </span><span style=\"color: #000080; text-decoration-color: #000080\">INFO    </span> <span style=\"color: #0000ff; text-decoration-color: #0000ff\">train</span> update_rate: <span style=\"color: #008080; text-decoration-color: #008080; font-weight: bold\">0.002170</span>     <span style=\"color: #008080; text-decoration-color: #008080; font-weight: bold\">0.099221</span>                       <a href=\"file:///n/home09/pren/3DGeno_tools/src/gt3d/modules/higashi/Higashi_wrapper.py\" target=\"_blank\"><span style=\"color: #7f7f7f; text-decoration-color: #7f7f7f\">Higashi_wrapper.py</span></a><span style=\"color: #7f7f7f; text-decoration-color: #7f7f7f\">:</span><a href=\"file:///n/home09/pren/3DGeno_tools/src/gt3d/modules/higashi/Higashi_wrapper.py#1323\" target=\"_blank\"><span style=\"color: #7f7f7f; text-decoration-color: #7f7f7f\">1323</span></a>\n",
       "</pre>\n"
      ],
      "text/plain": [
       "\u001b[2;36m                   \u001b[0m\u001b[2;36m \u001b[0m\u001b[34mINFO    \u001b[0m \u001b[94mtrain\u001b[0m update_rate: \u001b[1;36m0.002170\u001b[0m     \u001b[1;36m0.099221\u001b[0m                       \u001b]8;id=316677;file:///n/home09/pren/3DGeno_tools/src/gt3d/modules/higashi/Higashi_wrapper.py\u001b\\\u001b[2mHigashi_wrapper.py\u001b[0m\u001b]8;;\u001b\\\u001b[2m:\u001b[0m\u001b]8;id=184660;file:///n/home09/pren/3DGeno_tools/src/gt3d/modules/higashi/Higashi_wrapper.py#1323\u001b\\\u001b[2m1323\u001b[0m\u001b]8;;\u001b\\\n"
      ]
     },
     "metadata": {},
     "output_type": "display_data"
    },
    {
     "data": {
      "text/html": [
       "<pre style=\"white-space:pre;overflow-x:auto;line-height:normal;font-family:Menlo,'DejaVu Sans Mono',consolas,'Courier New',monospace\"><span style=\"color: #7fbfbf; text-decoration-color: #7fbfbf\">                    </span><span style=\"color: #000080; text-decoration-color: #000080\">INFO    </span> <span style=\"color: #0000ff; text-decoration-color: #0000ff\">train</span> <span style=\"font-weight: bold\">[</span> Epoch <span style=\"color: #008080; text-decoration-color: #008080; font-weight: bold\">55</span> of <span style=\"color: #008080; text-decoration-color: #008080; font-weight: bold\">200</span> <span style=\"font-weight: bold\">]</span>                                      <a href=\"file:///n/home09/pren/3DGeno_tools/src/gt3d/modules/higashi/Higashi_wrapper.py\" target=\"_blank\"><span style=\"color: #7f7f7f; text-decoration-color: #7f7f7f\">Higashi_wrapper.py</span></a><span style=\"color: #7f7f7f; text-decoration-color: #7f7f7f\">:</span><a href=\"file:///n/home09/pren/3DGeno_tools/src/gt3d/modules/higashi/Higashi_wrapper.py#1245\" target=\"_blank\"><span style=\"color: #7f7f7f; text-decoration-color: #7f7f7f\">1245</span></a>\n",
       "</pre>\n"
      ],
      "text/plain": [
       "\u001b[2;36m                   \u001b[0m\u001b[2;36m \u001b[0m\u001b[34mINFO    \u001b[0m \u001b[94mtrain\u001b[0m \u001b[1m[\u001b[0m Epoch \u001b[1;36m55\u001b[0m of \u001b[1;36m200\u001b[0m \u001b[1m]\u001b[0m                                      \u001b]8;id=614140;file:///n/home09/pren/3DGeno_tools/src/gt3d/modules/higashi/Higashi_wrapper.py\u001b\\\u001b[2mHigashi_wrapper.py\u001b[0m\u001b]8;;\u001b\\\u001b[2m:\u001b[0m\u001b]8;id=114302;file:///n/home09/pren/3DGeno_tools/src/gt3d/modules/higashi/Higashi_wrapper.py#1245\u001b\\\u001b[2m1245\u001b[0m\u001b]8;;\u001b\\\n"
      ]
     },
     "metadata": {},
     "output_type": "display_data"
    },
    {
     "data": {
      "application/vnd.jupyter.widget-view+json": {
       "model_id": "f8be53b918fa46db9f1465776590a2a5",
       "version_major": 2,
       "version_minor": 0
      },
      "text/plain": [
       "Output()"
      ]
     },
     "metadata": {},
     "output_type": "display_data"
    },
    {
     "data": {
      "text/html": [
       "<pre style=\"white-space:pre;overflow-x:auto;line-height:normal;font-family:Menlo,'DejaVu Sans Mono',consolas,'Courier New',monospace\"></pre>\n"
      ],
      "text/plain": []
     },
     "metadata": {},
     "output_type": "display_data"
    },
    {
     "data": {
      "text/html": [
       "<pre style=\"white-space:pre;overflow-x:auto;line-height:normal;font-family:Menlo,'DejaVu Sans Mono',consolas,'Courier New',monospace\"><span style=\"color: #7fbfbf; text-decoration-color: #7fbfbf\">[12/07/24 13:48:41] </span><span style=\"color: #000080; text-decoration-color: #000080\">INFO    </span> <span style=\"color: #0000ff; text-decoration-color: #0000ff\">train</span>  - <span style=\"font-weight: bold\">(</span>Train<span style=\"font-weight: bold\">)</span> bce:  <span style=\"color: #008080; text-decoration-color: #008080; font-weight: bold\">0.3096</span>, mse:  <span style=\"color: #008080; text-decoration-color: #008080; font-weight: bold\">0.8927</span>,  acc: <span style=\"color: #008080; text-decoration-color: #008080; font-weight: bold\">90.061</span> %,   <a href=\"file:///n/home09/pren/3DGeno_tools/src/gt3d/modules/higashi/Higashi_wrapper.py\" target=\"_blank\"><span style=\"color: #7f7f7f; text-decoration-color: #7f7f7f\">Higashi_wrapper.py</span></a><span style=\"color: #7f7f7f; text-decoration-color: #7f7f7f\">:</span><a href=\"file:///n/home09/pren/3DGeno_tools/src/gt3d/modules/higashi/Higashi_wrapper.py#1258\" target=\"_blank\"><span style=\"color: #7f7f7f; text-decoration-color: #7f7f7f\">1258</span></a>\n",
       "<span style=\"color: #7fbfbf; text-decoration-color: #7fbfbf\">                    </span>         pearson: <span style=\"color: #008080; text-decoration-color: #008080; font-weight: bold\">0.694</span>, spearman: <span style=\"color: #008080; text-decoration-color: #008080; font-weight: bold\">0.581</span>, elapse: <span style=\"color: #008080; text-decoration-color: #008080; font-weight: bold\">89.444</span> s              <span style=\"color: #7f7f7f; text-decoration-color: #7f7f7f\">                       </span>\n",
       "</pre>\n"
      ],
      "text/plain": [
       "\u001b[2;36m[12/07/24 13:48:41]\u001b[0m\u001b[2;36m \u001b[0m\u001b[34mINFO    \u001b[0m \u001b[94mtrain\u001b[0m  - \u001b[1m(\u001b[0mTrain\u001b[1m)\u001b[0m bce:  \u001b[1;36m0.3096\u001b[0m, mse:  \u001b[1;36m0.8927\u001b[0m,  acc: \u001b[1;36m90.061\u001b[0m %,   \u001b]8;id=376885;file:///n/home09/pren/3DGeno_tools/src/gt3d/modules/higashi/Higashi_wrapper.py\u001b\\\u001b[2mHigashi_wrapper.py\u001b[0m\u001b]8;;\u001b\\\u001b[2m:\u001b[0m\u001b]8;id=632294;file:///n/home09/pren/3DGeno_tools/src/gt3d/modules/higashi/Higashi_wrapper.py#1258\u001b\\\u001b[2m1258\u001b[0m\u001b]8;;\u001b\\\n",
       "\u001b[2;36m                    \u001b[0m         pearson: \u001b[1;36m0.694\u001b[0m, spearman: \u001b[1;36m0.581\u001b[0m, elapse: \u001b[1;36m89.444\u001b[0m s              \u001b[2m                       \u001b[0m\n"
      ]
     },
     "metadata": {},
     "output_type": "display_data"
    },
    {
     "data": {
      "application/vnd.jupyter.widget-view+json": {
       "model_id": "0740380518a341c89a89924ace003824",
       "version_major": 2,
       "version_minor": 0
      },
      "text/plain": [
       "Output()"
      ]
     },
     "metadata": {},
     "output_type": "display_data"
    },
    {
     "data": {
      "text/html": [
       "<pre style=\"white-space:pre;overflow-x:auto;line-height:normal;font-family:Menlo,'DejaVu Sans Mono',consolas,'Courier New',monospace\"></pre>\n"
      ],
      "text/plain": []
     },
     "metadata": {},
     "output_type": "display_data"
    },
    {
     "data": {
      "text/html": [
       "<pre style=\"white-space:pre;overflow-x:auto;line-height:normal;font-family:Menlo,'DejaVu Sans Mono',consolas,'Courier New',monospace\"><span style=\"color: #7fbfbf; text-decoration-color: #7fbfbf\">                    </span><span style=\"color: #000080; text-decoration-color: #000080\">INFO    </span> <span style=\"color: #0000ff; text-decoration-color: #0000ff\">train</span>  - <span style=\"font-weight: bold\">(</span>Valid<span style=\"font-weight: bold\">)</span> bce:  <span style=\"color: #008080; text-decoration-color: #008080; font-weight: bold\">0.3671</span>,  acc: <span style=\"color: #008080; text-decoration-color: #008080; font-weight: bold\">88.704</span> %,pearson: <span style=\"color: #008080; text-decoration-color: #008080; font-weight: bold\">0.618</span>,  <a href=\"file:///n/home09/pren/3DGeno_tools/src/gt3d/modules/higashi/Higashi_wrapper.py\" target=\"_blank\"><span style=\"color: #7f7f7f; text-decoration-color: #7f7f7f\">Higashi_wrapper.py</span></a><span style=\"color: #7f7f7f; text-decoration-color: #7f7f7f\">:</span><a href=\"file:///n/home09/pren/3DGeno_tools/src/gt3d/modules/higashi/Higashi_wrapper.py#1277\" target=\"_blank\"><span style=\"color: #7f7f7f; text-decoration-color: #7f7f7f\">1277</span></a>\n",
       "<span style=\"color: #7fbfbf; text-decoration-color: #7fbfbf\">                    </span>         spearman: <span style=\"color: #008080; text-decoration-color: #008080; font-weight: bold\">0.554</span>,elapse: <span style=\"color: #008080; text-decoration-color: #008080; font-weight: bold\">0.052</span> s                                <span style=\"color: #7f7f7f; text-decoration-color: #7f7f7f\">                       </span>\n",
       "</pre>\n"
      ],
      "text/plain": [
       "\u001b[2;36m                   \u001b[0m\u001b[2;36m \u001b[0m\u001b[34mINFO    \u001b[0m \u001b[94mtrain\u001b[0m  - \u001b[1m(\u001b[0mValid\u001b[1m)\u001b[0m bce:  \u001b[1;36m0.3671\u001b[0m,  acc: \u001b[1;36m88.704\u001b[0m %,pearson: \u001b[1;36m0.618\u001b[0m,  \u001b]8;id=94806;file:///n/home09/pren/3DGeno_tools/src/gt3d/modules/higashi/Higashi_wrapper.py\u001b\\\u001b[2mHigashi_wrapper.py\u001b[0m\u001b]8;;\u001b\\\u001b[2m:\u001b[0m\u001b]8;id=988701;file:///n/home09/pren/3DGeno_tools/src/gt3d/modules/higashi/Higashi_wrapper.py#1277\u001b\\\u001b[2m1277\u001b[0m\u001b]8;;\u001b\\\n",
       "\u001b[2;36m                    \u001b[0m         spearman: \u001b[1;36m0.554\u001b[0m,elapse: \u001b[1;36m0.052\u001b[0m s                                \u001b[2m                       \u001b[0m\n"
      ]
     },
     "metadata": {},
     "output_type": "display_data"
    },
    {
     "data": {
      "text/html": [
       "<pre style=\"white-space:pre;overflow-x:auto;line-height:normal;font-family:Menlo,'DejaVu Sans Mono',consolas,'Courier New',monospace\"><span style=\"color: #7fbfbf; text-decoration-color: #7fbfbf\">                    </span><span style=\"color: #000080; text-decoration-color: #000080\">INFO    </span> <span style=\"color: #0000ff; text-decoration-color: #0000ff\">train</span> update_rate: <span style=\"color: #008080; text-decoration-color: #008080; font-weight: bold\">0.002865</span>     <span style=\"color: #008080; text-decoration-color: #008080; font-weight: bold\">0.104987</span>                       <a href=\"file:///n/home09/pren/3DGeno_tools/src/gt3d/modules/higashi/Higashi_wrapper.py\" target=\"_blank\"><span style=\"color: #7f7f7f; text-decoration-color: #7f7f7f\">Higashi_wrapper.py</span></a><span style=\"color: #7f7f7f; text-decoration-color: #7f7f7f\">:</span><a href=\"file:///n/home09/pren/3DGeno_tools/src/gt3d/modules/higashi/Higashi_wrapper.py#1323\" target=\"_blank\"><span style=\"color: #7f7f7f; text-decoration-color: #7f7f7f\">1323</span></a>\n",
       "</pre>\n"
      ],
      "text/plain": [
       "\u001b[2;36m                   \u001b[0m\u001b[2;36m \u001b[0m\u001b[34mINFO    \u001b[0m \u001b[94mtrain\u001b[0m update_rate: \u001b[1;36m0.002865\u001b[0m     \u001b[1;36m0.104987\u001b[0m                       \u001b]8;id=637263;file:///n/home09/pren/3DGeno_tools/src/gt3d/modules/higashi/Higashi_wrapper.py\u001b\\\u001b[2mHigashi_wrapper.py\u001b[0m\u001b]8;;\u001b\\\u001b[2m:\u001b[0m\u001b]8;id=125924;file:///n/home09/pren/3DGeno_tools/src/gt3d/modules/higashi/Higashi_wrapper.py#1323\u001b\\\u001b[2m1323\u001b[0m\u001b]8;;\u001b\\\n"
      ]
     },
     "metadata": {},
     "output_type": "display_data"
    },
    {
     "data": {
      "text/html": [
       "<pre style=\"white-space:pre;overflow-x:auto;line-height:normal;font-family:Menlo,'DejaVu Sans Mono',consolas,'Courier New',monospace\"><span style=\"color: #7fbfbf; text-decoration-color: #7fbfbf\">                    </span><span style=\"color: #000080; text-decoration-color: #000080\">INFO    </span> <span style=\"color: #0000ff; text-decoration-color: #0000ff\">train</span> <span style=\"font-weight: bold\">[</span> Epoch <span style=\"color: #008080; text-decoration-color: #008080; font-weight: bold\">56</span> of <span style=\"color: #008080; text-decoration-color: #008080; font-weight: bold\">200</span> <span style=\"font-weight: bold\">]</span>                                      <a href=\"file:///n/home09/pren/3DGeno_tools/src/gt3d/modules/higashi/Higashi_wrapper.py\" target=\"_blank\"><span style=\"color: #7f7f7f; text-decoration-color: #7f7f7f\">Higashi_wrapper.py</span></a><span style=\"color: #7f7f7f; text-decoration-color: #7f7f7f\">:</span><a href=\"file:///n/home09/pren/3DGeno_tools/src/gt3d/modules/higashi/Higashi_wrapper.py#1245\" target=\"_blank\"><span style=\"color: #7f7f7f; text-decoration-color: #7f7f7f\">1245</span></a>\n",
       "</pre>\n"
      ],
      "text/plain": [
       "\u001b[2;36m                   \u001b[0m\u001b[2;36m \u001b[0m\u001b[34mINFO    \u001b[0m \u001b[94mtrain\u001b[0m \u001b[1m[\u001b[0m Epoch \u001b[1;36m56\u001b[0m of \u001b[1;36m200\u001b[0m \u001b[1m]\u001b[0m                                      \u001b]8;id=527749;file:///n/home09/pren/3DGeno_tools/src/gt3d/modules/higashi/Higashi_wrapper.py\u001b\\\u001b[2mHigashi_wrapper.py\u001b[0m\u001b]8;;\u001b\\\u001b[2m:\u001b[0m\u001b]8;id=408115;file:///n/home09/pren/3DGeno_tools/src/gt3d/modules/higashi/Higashi_wrapper.py#1245\u001b\\\u001b[2m1245\u001b[0m\u001b]8;;\u001b\\\n"
      ]
     },
     "metadata": {},
     "output_type": "display_data"
    },
    {
     "data": {
      "application/vnd.jupyter.widget-view+json": {
       "model_id": "44e5c77f76b54a089a319053fecb19d0",
       "version_major": 2,
       "version_minor": 0
      },
      "text/plain": [
       "Output()"
      ]
     },
     "metadata": {},
     "output_type": "display_data"
    },
    {
     "data": {
      "text/html": [
       "<pre style=\"white-space:pre;overflow-x:auto;line-height:normal;font-family:Menlo,'DejaVu Sans Mono',consolas,'Courier New',monospace\"></pre>\n"
      ],
      "text/plain": []
     },
     "metadata": {},
     "output_type": "display_data"
    },
    {
     "data": {
      "text/html": [
       "<pre style=\"white-space:pre;overflow-x:auto;line-height:normal;font-family:Menlo,'DejaVu Sans Mono',consolas,'Courier New',monospace\"><span style=\"color: #7fbfbf; text-decoration-color: #7fbfbf\">[12/07/24 13:50:10] </span><span style=\"color: #000080; text-decoration-color: #000080\">INFO    </span> <span style=\"color: #0000ff; text-decoration-color: #0000ff\">train</span>  - <span style=\"font-weight: bold\">(</span>Train<span style=\"font-weight: bold\">)</span> bce:  <span style=\"color: #008080; text-decoration-color: #008080; font-weight: bold\">0.3094</span>, mse:  <span style=\"color: #008080; text-decoration-color: #008080; font-weight: bold\">4.4960</span>,  acc: <span style=\"color: #008080; text-decoration-color: #008080; font-weight: bold\">90.091</span> %,   <a href=\"file:///n/home09/pren/3DGeno_tools/src/gt3d/modules/higashi/Higashi_wrapper.py\" target=\"_blank\"><span style=\"color: #7f7f7f; text-decoration-color: #7f7f7f\">Higashi_wrapper.py</span></a><span style=\"color: #7f7f7f; text-decoration-color: #7f7f7f\">:</span><a href=\"file:///n/home09/pren/3DGeno_tools/src/gt3d/modules/higashi/Higashi_wrapper.py#1258\" target=\"_blank\"><span style=\"color: #7f7f7f; text-decoration-color: #7f7f7f\">1258</span></a>\n",
       "<span style=\"color: #7fbfbf; text-decoration-color: #7fbfbf\">                    </span>         pearson: <span style=\"color: #008080; text-decoration-color: #008080; font-weight: bold\">0.693</span>, spearman: <span style=\"color: #008080; text-decoration-color: #008080; font-weight: bold\">0.582</span>, elapse: <span style=\"color: #008080; text-decoration-color: #008080; font-weight: bold\">89.143</span> s              <span style=\"color: #7f7f7f; text-decoration-color: #7f7f7f\">                       </span>\n",
       "</pre>\n"
      ],
      "text/plain": [
       "\u001b[2;36m[12/07/24 13:50:10]\u001b[0m\u001b[2;36m \u001b[0m\u001b[34mINFO    \u001b[0m \u001b[94mtrain\u001b[0m  - \u001b[1m(\u001b[0mTrain\u001b[1m)\u001b[0m bce:  \u001b[1;36m0.3094\u001b[0m, mse:  \u001b[1;36m4.4960\u001b[0m,  acc: \u001b[1;36m90.091\u001b[0m %,   \u001b]8;id=326696;file:///n/home09/pren/3DGeno_tools/src/gt3d/modules/higashi/Higashi_wrapper.py\u001b\\\u001b[2mHigashi_wrapper.py\u001b[0m\u001b]8;;\u001b\\\u001b[2m:\u001b[0m\u001b]8;id=399052;file:///n/home09/pren/3DGeno_tools/src/gt3d/modules/higashi/Higashi_wrapper.py#1258\u001b\\\u001b[2m1258\u001b[0m\u001b]8;;\u001b\\\n",
       "\u001b[2;36m                    \u001b[0m         pearson: \u001b[1;36m0.693\u001b[0m, spearman: \u001b[1;36m0.582\u001b[0m, elapse: \u001b[1;36m89.143\u001b[0m s              \u001b[2m                       \u001b[0m\n"
      ]
     },
     "metadata": {},
     "output_type": "display_data"
    },
    {
     "data": {
      "application/vnd.jupyter.widget-view+json": {
       "model_id": "081492fddd5e475e8c86b783621c5cd3",
       "version_major": 2,
       "version_minor": 0
      },
      "text/plain": [
       "Output()"
      ]
     },
     "metadata": {},
     "output_type": "display_data"
    },
    {
     "data": {
      "text/html": [
       "<pre style=\"white-space:pre;overflow-x:auto;line-height:normal;font-family:Menlo,'DejaVu Sans Mono',consolas,'Courier New',monospace\"></pre>\n"
      ],
      "text/plain": []
     },
     "metadata": {},
     "output_type": "display_data"
    },
    {
     "data": {
      "text/html": [
       "<pre style=\"white-space:pre;overflow-x:auto;line-height:normal;font-family:Menlo,'DejaVu Sans Mono',consolas,'Courier New',monospace\"><span style=\"color: #7fbfbf; text-decoration-color: #7fbfbf\">                    </span><span style=\"color: #000080; text-decoration-color: #000080\">INFO    </span> <span style=\"color: #0000ff; text-decoration-color: #0000ff\">train</span>  - <span style=\"font-weight: bold\">(</span>Valid<span style=\"font-weight: bold\">)</span> bce:  <span style=\"color: #008080; text-decoration-color: #008080; font-weight: bold\">0.3675</span>,  acc: <span style=\"color: #008080; text-decoration-color: #008080; font-weight: bold\">88.561</span> %,pearson: <span style=\"color: #008080; text-decoration-color: #008080; font-weight: bold\">0.622</span>,  <a href=\"file:///n/home09/pren/3DGeno_tools/src/gt3d/modules/higashi/Higashi_wrapper.py\" target=\"_blank\"><span style=\"color: #7f7f7f; text-decoration-color: #7f7f7f\">Higashi_wrapper.py</span></a><span style=\"color: #7f7f7f; text-decoration-color: #7f7f7f\">:</span><a href=\"file:///n/home09/pren/3DGeno_tools/src/gt3d/modules/higashi/Higashi_wrapper.py#1277\" target=\"_blank\"><span style=\"color: #7f7f7f; text-decoration-color: #7f7f7f\">1277</span></a>\n",
       "<span style=\"color: #7fbfbf; text-decoration-color: #7fbfbf\">                    </span>         spearman: <span style=\"color: #008080; text-decoration-color: #008080; font-weight: bold\">0.552</span>,elapse: <span style=\"color: #008080; text-decoration-color: #008080; font-weight: bold\">0.052</span> s                                <span style=\"color: #7f7f7f; text-decoration-color: #7f7f7f\">                       </span>\n",
       "</pre>\n"
      ],
      "text/plain": [
       "\u001b[2;36m                   \u001b[0m\u001b[2;36m \u001b[0m\u001b[34mINFO    \u001b[0m \u001b[94mtrain\u001b[0m  - \u001b[1m(\u001b[0mValid\u001b[1m)\u001b[0m bce:  \u001b[1;36m0.3675\u001b[0m,  acc: \u001b[1;36m88.561\u001b[0m %,pearson: \u001b[1;36m0.622\u001b[0m,  \u001b]8;id=174619;file:///n/home09/pren/3DGeno_tools/src/gt3d/modules/higashi/Higashi_wrapper.py\u001b\\\u001b[2mHigashi_wrapper.py\u001b[0m\u001b]8;;\u001b\\\u001b[2m:\u001b[0m\u001b]8;id=627447;file:///n/home09/pren/3DGeno_tools/src/gt3d/modules/higashi/Higashi_wrapper.py#1277\u001b\\\u001b[2m1277\u001b[0m\u001b]8;;\u001b\\\n",
       "\u001b[2;36m                    \u001b[0m         spearman: \u001b[1;36m0.552\u001b[0m,elapse: \u001b[1;36m0.052\u001b[0m s                                \u001b[2m                       \u001b[0m\n"
      ]
     },
     "metadata": {},
     "output_type": "display_data"
    },
    {
     "data": {
      "text/html": [
       "<pre style=\"white-space:pre;overflow-x:auto;line-height:normal;font-family:Menlo,'DejaVu Sans Mono',consolas,'Courier New',monospace\"><span style=\"color: #7fbfbf; text-decoration-color: #7fbfbf\">                    </span><span style=\"color: #000080; text-decoration-color: #000080\">INFO    </span> <span style=\"color: #0000ff; text-decoration-color: #0000ff\">train</span> update_rate: <span style=\"color: #008080; text-decoration-color: #008080; font-weight: bold\">0.002543</span>     <span style=\"color: #008080; text-decoration-color: #008080; font-weight: bold\">0.080043</span>                       <a href=\"file:///n/home09/pren/3DGeno_tools/src/gt3d/modules/higashi/Higashi_wrapper.py\" target=\"_blank\"><span style=\"color: #7f7f7f; text-decoration-color: #7f7f7f\">Higashi_wrapper.py</span></a><span style=\"color: #7f7f7f; text-decoration-color: #7f7f7f\">:</span><a href=\"file:///n/home09/pren/3DGeno_tools/src/gt3d/modules/higashi/Higashi_wrapper.py#1323\" target=\"_blank\"><span style=\"color: #7f7f7f; text-decoration-color: #7f7f7f\">1323</span></a>\n",
       "</pre>\n"
      ],
      "text/plain": [
       "\u001b[2;36m                   \u001b[0m\u001b[2;36m \u001b[0m\u001b[34mINFO    \u001b[0m \u001b[94mtrain\u001b[0m update_rate: \u001b[1;36m0.002543\u001b[0m     \u001b[1;36m0.080043\u001b[0m                       \u001b]8;id=170659;file:///n/home09/pren/3DGeno_tools/src/gt3d/modules/higashi/Higashi_wrapper.py\u001b\\\u001b[2mHigashi_wrapper.py\u001b[0m\u001b]8;;\u001b\\\u001b[2m:\u001b[0m\u001b]8;id=54231;file:///n/home09/pren/3DGeno_tools/src/gt3d/modules/higashi/Higashi_wrapper.py#1323\u001b\\\u001b[2m1323\u001b[0m\u001b]8;;\u001b\\\n"
      ]
     },
     "metadata": {},
     "output_type": "display_data"
    },
    {
     "data": {
      "text/html": [
       "<pre style=\"white-space:pre;overflow-x:auto;line-height:normal;font-family:Menlo,'DejaVu Sans Mono',consolas,'Courier New',monospace\"><span style=\"color: #7fbfbf; text-decoration-color: #7fbfbf\">                    </span><span style=\"color: #000080; text-decoration-color: #000080\">INFO    </span> <span style=\"color: #0000ff; text-decoration-color: #0000ff\">train</span> <span style=\"font-weight: bold\">[</span> Epoch <span style=\"color: #008080; text-decoration-color: #008080; font-weight: bold\">57</span> of <span style=\"color: #008080; text-decoration-color: #008080; font-weight: bold\">200</span> <span style=\"font-weight: bold\">]</span>                                      <a href=\"file:///n/home09/pren/3DGeno_tools/src/gt3d/modules/higashi/Higashi_wrapper.py\" target=\"_blank\"><span style=\"color: #7f7f7f; text-decoration-color: #7f7f7f\">Higashi_wrapper.py</span></a><span style=\"color: #7f7f7f; text-decoration-color: #7f7f7f\">:</span><a href=\"file:///n/home09/pren/3DGeno_tools/src/gt3d/modules/higashi/Higashi_wrapper.py#1245\" target=\"_blank\"><span style=\"color: #7f7f7f; text-decoration-color: #7f7f7f\">1245</span></a>\n",
       "</pre>\n"
      ],
      "text/plain": [
       "\u001b[2;36m                   \u001b[0m\u001b[2;36m \u001b[0m\u001b[34mINFO    \u001b[0m \u001b[94mtrain\u001b[0m \u001b[1m[\u001b[0m Epoch \u001b[1;36m57\u001b[0m of \u001b[1;36m200\u001b[0m \u001b[1m]\u001b[0m                                      \u001b]8;id=150817;file:///n/home09/pren/3DGeno_tools/src/gt3d/modules/higashi/Higashi_wrapper.py\u001b\\\u001b[2mHigashi_wrapper.py\u001b[0m\u001b]8;;\u001b\\\u001b[2m:\u001b[0m\u001b]8;id=379766;file:///n/home09/pren/3DGeno_tools/src/gt3d/modules/higashi/Higashi_wrapper.py#1245\u001b\\\u001b[2m1245\u001b[0m\u001b]8;;\u001b\\\n"
      ]
     },
     "metadata": {},
     "output_type": "display_data"
    },
    {
     "data": {
      "application/vnd.jupyter.widget-view+json": {
       "model_id": "60c59f980e744b64a5baa27c7c853469",
       "version_major": 2,
       "version_minor": 0
      },
      "text/plain": [
       "Output()"
      ]
     },
     "metadata": {},
     "output_type": "display_data"
    },
    {
     "data": {
      "text/html": [
       "<pre style=\"white-space:pre;overflow-x:auto;line-height:normal;font-family:Menlo,'DejaVu Sans Mono',consolas,'Courier New',monospace\"></pre>\n"
      ],
      "text/plain": []
     },
     "metadata": {},
     "output_type": "display_data"
    },
    {
     "data": {
      "text/html": [
       "<pre style=\"white-space:pre;overflow-x:auto;line-height:normal;font-family:Menlo,'DejaVu Sans Mono',consolas,'Courier New',monospace\"><span style=\"color: #7fbfbf; text-decoration-color: #7fbfbf\">[12/07/24 13:51:40] </span><span style=\"color: #000080; text-decoration-color: #000080\">INFO    </span> <span style=\"color: #0000ff; text-decoration-color: #0000ff\">train</span>  - <span style=\"font-weight: bold\">(</span>Train<span style=\"font-weight: bold\">)</span> bce:  <span style=\"color: #008080; text-decoration-color: #008080; font-weight: bold\">0.3102</span>, mse:  <span style=\"color: #008080; text-decoration-color: #008080; font-weight: bold\">0.8644</span>,  acc: <span style=\"color: #008080; text-decoration-color: #008080; font-weight: bold\">89.998</span> %,   <a href=\"file:///n/home09/pren/3DGeno_tools/src/gt3d/modules/higashi/Higashi_wrapper.py\" target=\"_blank\"><span style=\"color: #7f7f7f; text-decoration-color: #7f7f7f\">Higashi_wrapper.py</span></a><span style=\"color: #7f7f7f; text-decoration-color: #7f7f7f\">:</span><a href=\"file:///n/home09/pren/3DGeno_tools/src/gt3d/modules/higashi/Higashi_wrapper.py#1258\" target=\"_blank\"><span style=\"color: #7f7f7f; text-decoration-color: #7f7f7f\">1258</span></a>\n",
       "<span style=\"color: #7fbfbf; text-decoration-color: #7fbfbf\">                    </span>         pearson: <span style=\"color: #008080; text-decoration-color: #008080; font-weight: bold\">0.691</span>, spearman: <span style=\"color: #008080; text-decoration-color: #008080; font-weight: bold\">0.581</span>, elapse: <span style=\"color: #008080; text-decoration-color: #008080; font-weight: bold\">89.805</span> s              <span style=\"color: #7f7f7f; text-decoration-color: #7f7f7f\">                       </span>\n",
       "</pre>\n"
      ],
      "text/plain": [
       "\u001b[2;36m[12/07/24 13:51:40]\u001b[0m\u001b[2;36m \u001b[0m\u001b[34mINFO    \u001b[0m \u001b[94mtrain\u001b[0m  - \u001b[1m(\u001b[0mTrain\u001b[1m)\u001b[0m bce:  \u001b[1;36m0.3102\u001b[0m, mse:  \u001b[1;36m0.8644\u001b[0m,  acc: \u001b[1;36m89.998\u001b[0m %,   \u001b]8;id=425884;file:///n/home09/pren/3DGeno_tools/src/gt3d/modules/higashi/Higashi_wrapper.py\u001b\\\u001b[2mHigashi_wrapper.py\u001b[0m\u001b]8;;\u001b\\\u001b[2m:\u001b[0m\u001b]8;id=53488;file:///n/home09/pren/3DGeno_tools/src/gt3d/modules/higashi/Higashi_wrapper.py#1258\u001b\\\u001b[2m1258\u001b[0m\u001b]8;;\u001b\\\n",
       "\u001b[2;36m                    \u001b[0m         pearson: \u001b[1;36m0.691\u001b[0m, spearman: \u001b[1;36m0.581\u001b[0m, elapse: \u001b[1;36m89.805\u001b[0m s              \u001b[2m                       \u001b[0m\n"
      ]
     },
     "metadata": {},
     "output_type": "display_data"
    },
    {
     "data": {
      "application/vnd.jupyter.widget-view+json": {
       "model_id": "c000965f564c4258a550ed757d36c509",
       "version_major": 2,
       "version_minor": 0
      },
      "text/plain": [
       "Output()"
      ]
     },
     "metadata": {},
     "output_type": "display_data"
    },
    {
     "data": {
      "text/html": [
       "<pre style=\"white-space:pre;overflow-x:auto;line-height:normal;font-family:Menlo,'DejaVu Sans Mono',consolas,'Courier New',monospace\"></pre>\n"
      ],
      "text/plain": []
     },
     "metadata": {},
     "output_type": "display_data"
    },
    {
     "data": {
      "text/html": [
       "<pre style=\"white-space:pre;overflow-x:auto;line-height:normal;font-family:Menlo,'DejaVu Sans Mono',consolas,'Courier New',monospace\"><span style=\"color: #7fbfbf; text-decoration-color: #7fbfbf\">                    </span><span style=\"color: #000080; text-decoration-color: #000080\">INFO    </span> <span style=\"color: #0000ff; text-decoration-color: #0000ff\">train</span>  - <span style=\"font-weight: bold\">(</span>Valid<span style=\"font-weight: bold\">)</span> bce:  <span style=\"color: #008080; text-decoration-color: #008080; font-weight: bold\">0.3681</span>,  acc: <span style=\"color: #008080; text-decoration-color: #008080; font-weight: bold\">87.708</span> %,pearson: <span style=\"color: #008080; text-decoration-color: #008080; font-weight: bold\">0.608</span>,  <a href=\"file:///n/home09/pren/3DGeno_tools/src/gt3d/modules/higashi/Higashi_wrapper.py\" target=\"_blank\"><span style=\"color: #7f7f7f; text-decoration-color: #7f7f7f\">Higashi_wrapper.py</span></a><span style=\"color: #7f7f7f; text-decoration-color: #7f7f7f\">:</span><a href=\"file:///n/home09/pren/3DGeno_tools/src/gt3d/modules/higashi/Higashi_wrapper.py#1277\" target=\"_blank\"><span style=\"color: #7f7f7f; text-decoration-color: #7f7f7f\">1277</span></a>\n",
       "<span style=\"color: #7fbfbf; text-decoration-color: #7fbfbf\">                    </span>         spearman: <span style=\"color: #008080; text-decoration-color: #008080; font-weight: bold\">0.547</span>,elapse: <span style=\"color: #008080; text-decoration-color: #008080; font-weight: bold\">0.052</span> s                                <span style=\"color: #7f7f7f; text-decoration-color: #7f7f7f\">                       </span>\n",
       "</pre>\n"
      ],
      "text/plain": [
       "\u001b[2;36m                   \u001b[0m\u001b[2;36m \u001b[0m\u001b[34mINFO    \u001b[0m \u001b[94mtrain\u001b[0m  - \u001b[1m(\u001b[0mValid\u001b[1m)\u001b[0m bce:  \u001b[1;36m0.3681\u001b[0m,  acc: \u001b[1;36m87.708\u001b[0m %,pearson: \u001b[1;36m0.608\u001b[0m,  \u001b]8;id=570967;file:///n/home09/pren/3DGeno_tools/src/gt3d/modules/higashi/Higashi_wrapper.py\u001b\\\u001b[2mHigashi_wrapper.py\u001b[0m\u001b]8;;\u001b\\\u001b[2m:\u001b[0m\u001b]8;id=599487;file:///n/home09/pren/3DGeno_tools/src/gt3d/modules/higashi/Higashi_wrapper.py#1277\u001b\\\u001b[2m1277\u001b[0m\u001b]8;;\u001b\\\n",
       "\u001b[2;36m                    \u001b[0m         spearman: \u001b[1;36m0.547\u001b[0m,elapse: \u001b[1;36m0.052\u001b[0m s                                \u001b[2m                       \u001b[0m\n"
      ]
     },
     "metadata": {},
     "output_type": "display_data"
    },
    {
     "data": {
      "text/html": [
       "<pre style=\"white-space:pre;overflow-x:auto;line-height:normal;font-family:Menlo,'DejaVu Sans Mono',consolas,'Courier New',monospace\"><span style=\"color: #7fbfbf; text-decoration-color: #7fbfbf\">                    </span><span style=\"color: #000080; text-decoration-color: #000080\">INFO    </span> <span style=\"color: #0000ff; text-decoration-color: #0000ff\">train</span> update_rate: <span style=\"color: #008080; text-decoration-color: #008080; font-weight: bold\">0.002934</span>     <span style=\"color: #008080; text-decoration-color: #008080; font-weight: bold\">0.536919</span>                       <a href=\"file:///n/home09/pren/3DGeno_tools/src/gt3d/modules/higashi/Higashi_wrapper.py\" target=\"_blank\"><span style=\"color: #7f7f7f; text-decoration-color: #7f7f7f\">Higashi_wrapper.py</span></a><span style=\"color: #7f7f7f; text-decoration-color: #7f7f7f\">:</span><a href=\"file:///n/home09/pren/3DGeno_tools/src/gt3d/modules/higashi/Higashi_wrapper.py#1323\" target=\"_blank\"><span style=\"color: #7f7f7f; text-decoration-color: #7f7f7f\">1323</span></a>\n",
       "</pre>\n"
      ],
      "text/plain": [
       "\u001b[2;36m                   \u001b[0m\u001b[2;36m \u001b[0m\u001b[34mINFO    \u001b[0m \u001b[94mtrain\u001b[0m update_rate: \u001b[1;36m0.002934\u001b[0m     \u001b[1;36m0.536919\u001b[0m                       \u001b]8;id=117485;file:///n/home09/pren/3DGeno_tools/src/gt3d/modules/higashi/Higashi_wrapper.py\u001b\\\u001b[2mHigashi_wrapper.py\u001b[0m\u001b]8;;\u001b\\\u001b[2m:\u001b[0m\u001b]8;id=757446;file:///n/home09/pren/3DGeno_tools/src/gt3d/modules/higashi/Higashi_wrapper.py#1323\u001b\\\u001b[2m1323\u001b[0m\u001b]8;;\u001b\\\n"
      ]
     },
     "metadata": {},
     "output_type": "display_data"
    },
    {
     "data": {
      "text/html": [
       "<pre style=\"white-space:pre;overflow-x:auto;line-height:normal;font-family:Menlo,'DejaVu Sans Mono',consolas,'Courier New',monospace\"><span style=\"color: #7fbfbf; text-decoration-color: #7fbfbf\">                    </span><span style=\"color: #000080; text-decoration-color: #000080\">INFO    </span> <span style=\"color: #0000ff; text-decoration-color: #0000ff\">train</span> <span style=\"font-weight: bold\">[</span> Epoch <span style=\"color: #008080; text-decoration-color: #008080; font-weight: bold\">58</span> of <span style=\"color: #008080; text-decoration-color: #008080; font-weight: bold\">200</span> <span style=\"font-weight: bold\">]</span>                                      <a href=\"file:///n/home09/pren/3DGeno_tools/src/gt3d/modules/higashi/Higashi_wrapper.py\" target=\"_blank\"><span style=\"color: #7f7f7f; text-decoration-color: #7f7f7f\">Higashi_wrapper.py</span></a><span style=\"color: #7f7f7f; text-decoration-color: #7f7f7f\">:</span><a href=\"file:///n/home09/pren/3DGeno_tools/src/gt3d/modules/higashi/Higashi_wrapper.py#1245\" target=\"_blank\"><span style=\"color: #7f7f7f; text-decoration-color: #7f7f7f\">1245</span></a>\n",
       "</pre>\n"
      ],
      "text/plain": [
       "\u001b[2;36m                   \u001b[0m\u001b[2;36m \u001b[0m\u001b[34mINFO    \u001b[0m \u001b[94mtrain\u001b[0m \u001b[1m[\u001b[0m Epoch \u001b[1;36m58\u001b[0m of \u001b[1;36m200\u001b[0m \u001b[1m]\u001b[0m                                      \u001b]8;id=152159;file:///n/home09/pren/3DGeno_tools/src/gt3d/modules/higashi/Higashi_wrapper.py\u001b\\\u001b[2mHigashi_wrapper.py\u001b[0m\u001b]8;;\u001b\\\u001b[2m:\u001b[0m\u001b]8;id=727877;file:///n/home09/pren/3DGeno_tools/src/gt3d/modules/higashi/Higashi_wrapper.py#1245\u001b\\\u001b[2m1245\u001b[0m\u001b]8;;\u001b\\\n"
      ]
     },
     "metadata": {},
     "output_type": "display_data"
    },
    {
     "data": {
      "application/vnd.jupyter.widget-view+json": {
       "model_id": "bc498f14174c4f9ca80a6d3d291ed4ad",
       "version_major": 2,
       "version_minor": 0
      },
      "text/plain": [
       "Output()"
      ]
     },
     "metadata": {},
     "output_type": "display_data"
    },
    {
     "data": {
      "text/html": [
       "<pre style=\"white-space:pre;overflow-x:auto;line-height:normal;font-family:Menlo,'DejaVu Sans Mono',consolas,'Courier New',monospace\"></pre>\n"
      ],
      "text/plain": []
     },
     "metadata": {},
     "output_type": "display_data"
    },
    {
     "data": {
      "text/html": [
       "<pre style=\"white-space:pre;overflow-x:auto;line-height:normal;font-family:Menlo,'DejaVu Sans Mono',consolas,'Courier New',monospace\"><span style=\"color: #7fbfbf; text-decoration-color: #7fbfbf\">[12/07/24 13:53:10] </span><span style=\"color: #000080; text-decoration-color: #000080\">INFO    </span> <span style=\"color: #0000ff; text-decoration-color: #0000ff\">train</span>  - <span style=\"font-weight: bold\">(</span>Train<span style=\"font-weight: bold\">)</span> bce:  <span style=\"color: #008080; text-decoration-color: #008080; font-weight: bold\">0.3067</span>, mse:  <span style=\"color: #008080; text-decoration-color: #008080; font-weight: bold\">0.9194</span>,  acc: <span style=\"color: #008080; text-decoration-color: #008080; font-weight: bold\">90.232</span> %,   <a href=\"file:///n/home09/pren/3DGeno_tools/src/gt3d/modules/higashi/Higashi_wrapper.py\" target=\"_blank\"><span style=\"color: #7f7f7f; text-decoration-color: #7f7f7f\">Higashi_wrapper.py</span></a><span style=\"color: #7f7f7f; text-decoration-color: #7f7f7f\">:</span><a href=\"file:///n/home09/pren/3DGeno_tools/src/gt3d/modules/higashi/Higashi_wrapper.py#1258\" target=\"_blank\"><span style=\"color: #7f7f7f; text-decoration-color: #7f7f7f\">1258</span></a>\n",
       "<span style=\"color: #7fbfbf; text-decoration-color: #7fbfbf\">                    </span>         pearson: <span style=\"color: #008080; text-decoration-color: #008080; font-weight: bold\">0.698</span>, spearman: <span style=\"color: #008080; text-decoration-color: #008080; font-weight: bold\">0.584</span>, elapse: <span style=\"color: #008080; text-decoration-color: #008080; font-weight: bold\">89.586</span> s              <span style=\"color: #7f7f7f; text-decoration-color: #7f7f7f\">                       </span>\n",
       "</pre>\n"
      ],
      "text/plain": [
       "\u001b[2;36m[12/07/24 13:53:10]\u001b[0m\u001b[2;36m \u001b[0m\u001b[34mINFO    \u001b[0m \u001b[94mtrain\u001b[0m  - \u001b[1m(\u001b[0mTrain\u001b[1m)\u001b[0m bce:  \u001b[1;36m0.3067\u001b[0m, mse:  \u001b[1;36m0.9194\u001b[0m,  acc: \u001b[1;36m90.232\u001b[0m %,   \u001b]8;id=152179;file:///n/home09/pren/3DGeno_tools/src/gt3d/modules/higashi/Higashi_wrapper.py\u001b\\\u001b[2mHigashi_wrapper.py\u001b[0m\u001b]8;;\u001b\\\u001b[2m:\u001b[0m\u001b]8;id=662897;file:///n/home09/pren/3DGeno_tools/src/gt3d/modules/higashi/Higashi_wrapper.py#1258\u001b\\\u001b[2m1258\u001b[0m\u001b]8;;\u001b\\\n",
       "\u001b[2;36m                    \u001b[0m         pearson: \u001b[1;36m0.698\u001b[0m, spearman: \u001b[1;36m0.584\u001b[0m, elapse: \u001b[1;36m89.586\u001b[0m s              \u001b[2m                       \u001b[0m\n"
      ]
     },
     "metadata": {},
     "output_type": "display_data"
    },
    {
     "data": {
      "application/vnd.jupyter.widget-view+json": {
       "model_id": "8e4e7dbfa09344e88c5eeaceebb1c7d3",
       "version_major": 2,
       "version_minor": 0
      },
      "text/plain": [
       "Output()"
      ]
     },
     "metadata": {},
     "output_type": "display_data"
    },
    {
     "data": {
      "text/html": [
       "<pre style=\"white-space:pre;overflow-x:auto;line-height:normal;font-family:Menlo,'DejaVu Sans Mono',consolas,'Courier New',monospace\"></pre>\n"
      ],
      "text/plain": []
     },
     "metadata": {},
     "output_type": "display_data"
    },
    {
     "data": {
      "text/html": [
       "<pre style=\"white-space:pre;overflow-x:auto;line-height:normal;font-family:Menlo,'DejaVu Sans Mono',consolas,'Courier New',monospace\"><span style=\"color: #7fbfbf; text-decoration-color: #7fbfbf\">                    </span><span style=\"color: #000080; text-decoration-color: #000080\">INFO    </span> <span style=\"color: #0000ff; text-decoration-color: #0000ff\">train</span>  - <span style=\"font-weight: bold\">(</span>Valid<span style=\"font-weight: bold\">)</span> bce:  <span style=\"color: #008080; text-decoration-color: #008080; font-weight: bold\">0.3854</span>,  acc: <span style=\"color: #008080; text-decoration-color: #008080; font-weight: bold\">88.958</span> %,pearson: <span style=\"color: #008080; text-decoration-color: #008080; font-weight: bold\">0.642</span>,  <a href=\"file:///n/home09/pren/3DGeno_tools/src/gt3d/modules/higashi/Higashi_wrapper.py\" target=\"_blank\"><span style=\"color: #7f7f7f; text-decoration-color: #7f7f7f\">Higashi_wrapper.py</span></a><span style=\"color: #7f7f7f; text-decoration-color: #7f7f7f\">:</span><a href=\"file:///n/home09/pren/3DGeno_tools/src/gt3d/modules/higashi/Higashi_wrapper.py#1277\" target=\"_blank\"><span style=\"color: #7f7f7f; text-decoration-color: #7f7f7f\">1277</span></a>\n",
       "<span style=\"color: #7fbfbf; text-decoration-color: #7fbfbf\">                    </span>         spearman: <span style=\"color: #008080; text-decoration-color: #008080; font-weight: bold\">0.568</span>,elapse: <span style=\"color: #008080; text-decoration-color: #008080; font-weight: bold\">0.053</span> s                                <span style=\"color: #7f7f7f; text-decoration-color: #7f7f7f\">                       </span>\n",
       "</pre>\n"
      ],
      "text/plain": [
       "\u001b[2;36m                   \u001b[0m\u001b[2;36m \u001b[0m\u001b[34mINFO    \u001b[0m \u001b[94mtrain\u001b[0m  - \u001b[1m(\u001b[0mValid\u001b[1m)\u001b[0m bce:  \u001b[1;36m0.3854\u001b[0m,  acc: \u001b[1;36m88.958\u001b[0m %,pearson: \u001b[1;36m0.642\u001b[0m,  \u001b]8;id=817237;file:///n/home09/pren/3DGeno_tools/src/gt3d/modules/higashi/Higashi_wrapper.py\u001b\\\u001b[2mHigashi_wrapper.py\u001b[0m\u001b]8;;\u001b\\\u001b[2m:\u001b[0m\u001b]8;id=430851;file:///n/home09/pren/3DGeno_tools/src/gt3d/modules/higashi/Higashi_wrapper.py#1277\u001b\\\u001b[2m1277\u001b[0m\u001b]8;;\u001b\\\n",
       "\u001b[2;36m                    \u001b[0m         spearman: \u001b[1;36m0.568\u001b[0m,elapse: \u001b[1;36m0.053\u001b[0m s                                \u001b[2m                       \u001b[0m\n"
      ]
     },
     "metadata": {},
     "output_type": "display_data"
    },
    {
     "data": {
      "text/html": [
       "<pre style=\"white-space:pre;overflow-x:auto;line-height:normal;font-family:Menlo,'DejaVu Sans Mono',consolas,'Courier New',monospace\"><span style=\"color: #7fbfbf; text-decoration-color: #7fbfbf\">                    </span><span style=\"color: #000080; text-decoration-color: #000080\">INFO    </span> <span style=\"color: #0000ff; text-decoration-color: #0000ff\">train</span> update_rate: <span style=\"color: #008080; text-decoration-color: #008080; font-weight: bold\">0.002166</span>     <span style=\"color: #008080; text-decoration-color: #008080; font-weight: bold\">0.063920</span>                       <a href=\"file:///n/home09/pren/3DGeno_tools/src/gt3d/modules/higashi/Higashi_wrapper.py\" target=\"_blank\"><span style=\"color: #7f7f7f; text-decoration-color: #7f7f7f\">Higashi_wrapper.py</span></a><span style=\"color: #7f7f7f; text-decoration-color: #7f7f7f\">:</span><a href=\"file:///n/home09/pren/3DGeno_tools/src/gt3d/modules/higashi/Higashi_wrapper.py#1323\" target=\"_blank\"><span style=\"color: #7f7f7f; text-decoration-color: #7f7f7f\">1323</span></a>\n",
       "</pre>\n"
      ],
      "text/plain": [
       "\u001b[2;36m                   \u001b[0m\u001b[2;36m \u001b[0m\u001b[34mINFO    \u001b[0m \u001b[94mtrain\u001b[0m update_rate: \u001b[1;36m0.002166\u001b[0m     \u001b[1;36m0.063920\u001b[0m                       \u001b]8;id=604011;file:///n/home09/pren/3DGeno_tools/src/gt3d/modules/higashi/Higashi_wrapper.py\u001b\\\u001b[2mHigashi_wrapper.py\u001b[0m\u001b]8;;\u001b\\\u001b[2m:\u001b[0m\u001b]8;id=477698;file:///n/home09/pren/3DGeno_tools/src/gt3d/modules/higashi/Higashi_wrapper.py#1323\u001b\\\u001b[2m1323\u001b[0m\u001b]8;;\u001b\\\n"
      ]
     },
     "metadata": {},
     "output_type": "display_data"
    },
    {
     "data": {
      "text/html": [
       "<pre style=\"white-space:pre;overflow-x:auto;line-height:normal;font-family:Menlo,'DejaVu Sans Mono',consolas,'Courier New',monospace\"><span style=\"color: #7fbfbf; text-decoration-color: #7fbfbf\">                    </span><span style=\"color: #000080; text-decoration-color: #000080\">INFO    </span> <span style=\"color: #0000ff; text-decoration-color: #0000ff\">train</span> <span style=\"font-weight: bold\">[</span> Epoch <span style=\"color: #008080; text-decoration-color: #008080; font-weight: bold\">59</span> of <span style=\"color: #008080; text-decoration-color: #008080; font-weight: bold\">200</span> <span style=\"font-weight: bold\">]</span>                                      <a href=\"file:///n/home09/pren/3DGeno_tools/src/gt3d/modules/higashi/Higashi_wrapper.py\" target=\"_blank\"><span style=\"color: #7f7f7f; text-decoration-color: #7f7f7f\">Higashi_wrapper.py</span></a><span style=\"color: #7f7f7f; text-decoration-color: #7f7f7f\">:</span><a href=\"file:///n/home09/pren/3DGeno_tools/src/gt3d/modules/higashi/Higashi_wrapper.py#1245\" target=\"_blank\"><span style=\"color: #7f7f7f; text-decoration-color: #7f7f7f\">1245</span></a>\n",
       "</pre>\n"
      ],
      "text/plain": [
       "\u001b[2;36m                   \u001b[0m\u001b[2;36m \u001b[0m\u001b[34mINFO    \u001b[0m \u001b[94mtrain\u001b[0m \u001b[1m[\u001b[0m Epoch \u001b[1;36m59\u001b[0m of \u001b[1;36m200\u001b[0m \u001b[1m]\u001b[0m                                      \u001b]8;id=966373;file:///n/home09/pren/3DGeno_tools/src/gt3d/modules/higashi/Higashi_wrapper.py\u001b\\\u001b[2mHigashi_wrapper.py\u001b[0m\u001b]8;;\u001b\\\u001b[2m:\u001b[0m\u001b]8;id=422740;file:///n/home09/pren/3DGeno_tools/src/gt3d/modules/higashi/Higashi_wrapper.py#1245\u001b\\\u001b[2m1245\u001b[0m\u001b]8;;\u001b\\\n"
      ]
     },
     "metadata": {},
     "output_type": "display_data"
    },
    {
     "data": {
      "application/vnd.jupyter.widget-view+json": {
       "model_id": "301d7f8713084396ada47965e281e645",
       "version_major": 2,
       "version_minor": 0
      },
      "text/plain": [
       "Output()"
      ]
     },
     "metadata": {},
     "output_type": "display_data"
    },
    {
     "data": {
      "text/html": [
       "<pre style=\"white-space:pre;overflow-x:auto;line-height:normal;font-family:Menlo,'DejaVu Sans Mono',consolas,'Courier New',monospace\"></pre>\n"
      ],
      "text/plain": []
     },
     "metadata": {},
     "output_type": "display_data"
    },
    {
     "data": {
      "text/html": [
       "<pre style=\"white-space:pre;overflow-x:auto;line-height:normal;font-family:Menlo,'DejaVu Sans Mono',consolas,'Courier New',monospace\"><span style=\"color: #7fbfbf; text-decoration-color: #7fbfbf\">[12/07/24 13:54:39] </span><span style=\"color: #000080; text-decoration-color: #000080\">INFO    </span> <span style=\"color: #0000ff; text-decoration-color: #0000ff\">train</span>  - <span style=\"font-weight: bold\">(</span>Train<span style=\"font-weight: bold\">)</span> bce:  <span style=\"color: #008080; text-decoration-color: #008080; font-weight: bold\">0.3089</span>, mse:  <span style=\"color: #008080; text-decoration-color: #008080; font-weight: bold\">0.9074</span>,  acc: <span style=\"color: #008080; text-decoration-color: #008080; font-weight: bold\">90.086</span> %,   <a href=\"file:///n/home09/pren/3DGeno_tools/src/gt3d/modules/higashi/Higashi_wrapper.py\" target=\"_blank\"><span style=\"color: #7f7f7f; text-decoration-color: #7f7f7f\">Higashi_wrapper.py</span></a><span style=\"color: #7f7f7f; text-decoration-color: #7f7f7f\">:</span><a href=\"file:///n/home09/pren/3DGeno_tools/src/gt3d/modules/higashi/Higashi_wrapper.py#1258\" target=\"_blank\"><span style=\"color: #7f7f7f; text-decoration-color: #7f7f7f\">1258</span></a>\n",
       "<span style=\"color: #7fbfbf; text-decoration-color: #7fbfbf\">                    </span>         pearson: <span style=\"color: #008080; text-decoration-color: #008080; font-weight: bold\">0.694</span>, spearman: <span style=\"color: #008080; text-decoration-color: #008080; font-weight: bold\">0.582</span>, elapse: <span style=\"color: #008080; text-decoration-color: #008080; font-weight: bold\">89.151</span> s              <span style=\"color: #7f7f7f; text-decoration-color: #7f7f7f\">                       </span>\n",
       "</pre>\n"
      ],
      "text/plain": [
       "\u001b[2;36m[12/07/24 13:54:39]\u001b[0m\u001b[2;36m \u001b[0m\u001b[34mINFO    \u001b[0m \u001b[94mtrain\u001b[0m  - \u001b[1m(\u001b[0mTrain\u001b[1m)\u001b[0m bce:  \u001b[1;36m0.3089\u001b[0m, mse:  \u001b[1;36m0.9074\u001b[0m,  acc: \u001b[1;36m90.086\u001b[0m %,   \u001b]8;id=675623;file:///n/home09/pren/3DGeno_tools/src/gt3d/modules/higashi/Higashi_wrapper.py\u001b\\\u001b[2mHigashi_wrapper.py\u001b[0m\u001b]8;;\u001b\\\u001b[2m:\u001b[0m\u001b]8;id=554401;file:///n/home09/pren/3DGeno_tools/src/gt3d/modules/higashi/Higashi_wrapper.py#1258\u001b\\\u001b[2m1258\u001b[0m\u001b]8;;\u001b\\\n",
       "\u001b[2;36m                    \u001b[0m         pearson: \u001b[1;36m0.694\u001b[0m, spearman: \u001b[1;36m0.582\u001b[0m, elapse: \u001b[1;36m89.151\u001b[0m s              \u001b[2m                       \u001b[0m\n"
      ]
     },
     "metadata": {},
     "output_type": "display_data"
    },
    {
     "data": {
      "application/vnd.jupyter.widget-view+json": {
       "model_id": "90f663cfae35487395778801c8555ddc",
       "version_major": 2,
       "version_minor": 0
      },
      "text/plain": [
       "Output()"
      ]
     },
     "metadata": {},
     "output_type": "display_data"
    },
    {
     "data": {
      "text/html": [
       "<pre style=\"white-space:pre;overflow-x:auto;line-height:normal;font-family:Menlo,'DejaVu Sans Mono',consolas,'Courier New',monospace\"></pre>\n"
      ],
      "text/plain": []
     },
     "metadata": {},
     "output_type": "display_data"
    },
    {
     "data": {
      "text/html": [
       "<pre style=\"white-space:pre;overflow-x:auto;line-height:normal;font-family:Menlo,'DejaVu Sans Mono',consolas,'Courier New',monospace\"><span style=\"color: #7fbfbf; text-decoration-color: #7fbfbf\">                    </span><span style=\"color: #000080; text-decoration-color: #000080\">INFO    </span> <span style=\"color: #0000ff; text-decoration-color: #0000ff\">train</span>  - <span style=\"font-weight: bold\">(</span>Valid<span style=\"font-weight: bold\">)</span> bce:  <span style=\"color: #008080; text-decoration-color: #008080; font-weight: bold\">0.3949</span>,  acc: <span style=\"color: #008080; text-decoration-color: #008080; font-weight: bold\">89.199</span> %,pearson: <span style=\"color: #008080; text-decoration-color: #008080; font-weight: bold\">0.620</span>,  <a href=\"file:///n/home09/pren/3DGeno_tools/src/gt3d/modules/higashi/Higashi_wrapper.py\" target=\"_blank\"><span style=\"color: #7f7f7f; text-decoration-color: #7f7f7f\">Higashi_wrapper.py</span></a><span style=\"color: #7f7f7f; text-decoration-color: #7f7f7f\">:</span><a href=\"file:///n/home09/pren/3DGeno_tools/src/gt3d/modules/higashi/Higashi_wrapper.py#1277\" target=\"_blank\"><span style=\"color: #7f7f7f; text-decoration-color: #7f7f7f\">1277</span></a>\n",
       "<span style=\"color: #7fbfbf; text-decoration-color: #7fbfbf\">                    </span>         spearman: <span style=\"color: #008080; text-decoration-color: #008080; font-weight: bold\">0.555</span>,elapse: <span style=\"color: #008080; text-decoration-color: #008080; font-weight: bold\">0.052</span> s                                <span style=\"color: #7f7f7f; text-decoration-color: #7f7f7f\">                       </span>\n",
       "</pre>\n"
      ],
      "text/plain": [
       "\u001b[2;36m                   \u001b[0m\u001b[2;36m \u001b[0m\u001b[34mINFO    \u001b[0m \u001b[94mtrain\u001b[0m  - \u001b[1m(\u001b[0mValid\u001b[1m)\u001b[0m bce:  \u001b[1;36m0.3949\u001b[0m,  acc: \u001b[1;36m89.199\u001b[0m %,pearson: \u001b[1;36m0.620\u001b[0m,  \u001b]8;id=894553;file:///n/home09/pren/3DGeno_tools/src/gt3d/modules/higashi/Higashi_wrapper.py\u001b\\\u001b[2mHigashi_wrapper.py\u001b[0m\u001b]8;;\u001b\\\u001b[2m:\u001b[0m\u001b]8;id=16491;file:///n/home09/pren/3DGeno_tools/src/gt3d/modules/higashi/Higashi_wrapper.py#1277\u001b\\\u001b[2m1277\u001b[0m\u001b]8;;\u001b\\\n",
       "\u001b[2;36m                    \u001b[0m         spearman: \u001b[1;36m0.555\u001b[0m,elapse: \u001b[1;36m0.052\u001b[0m s                                \u001b[2m                       \u001b[0m\n"
      ]
     },
     "metadata": {},
     "output_type": "display_data"
    },
    {
     "data": {
      "text/html": [
       "<pre style=\"white-space:pre;overflow-x:auto;line-height:normal;font-family:Menlo,'DejaVu Sans Mono',consolas,'Courier New',monospace\"><span style=\"color: #7fbfbf; text-decoration-color: #7fbfbf\">                    </span><span style=\"color: #000080; text-decoration-color: #000080\">INFO    </span> <span style=\"color: #0000ff; text-decoration-color: #0000ff\">train</span> update_rate: <span style=\"color: #008080; text-decoration-color: #008080; font-weight: bold\">0.002086</span>     <span style=\"color: #008080; text-decoration-color: #008080; font-weight: bold\">0.084553</span>                       <a href=\"file:///n/home09/pren/3DGeno_tools/src/gt3d/modules/higashi/Higashi_wrapper.py\" target=\"_blank\"><span style=\"color: #7f7f7f; text-decoration-color: #7f7f7f\">Higashi_wrapper.py</span></a><span style=\"color: #7f7f7f; text-decoration-color: #7f7f7f\">:</span><a href=\"file:///n/home09/pren/3DGeno_tools/src/gt3d/modules/higashi/Higashi_wrapper.py#1323\" target=\"_blank\"><span style=\"color: #7f7f7f; text-decoration-color: #7f7f7f\">1323</span></a>\n",
       "</pre>\n"
      ],
      "text/plain": [
       "\u001b[2;36m                   \u001b[0m\u001b[2;36m \u001b[0m\u001b[34mINFO    \u001b[0m \u001b[94mtrain\u001b[0m update_rate: \u001b[1;36m0.002086\u001b[0m     \u001b[1;36m0.084553\u001b[0m                       \u001b]8;id=988922;file:///n/home09/pren/3DGeno_tools/src/gt3d/modules/higashi/Higashi_wrapper.py\u001b\\\u001b[2mHigashi_wrapper.py\u001b[0m\u001b]8;;\u001b\\\u001b[2m:\u001b[0m\u001b]8;id=79482;file:///n/home09/pren/3DGeno_tools/src/gt3d/modules/higashi/Higashi_wrapper.py#1323\u001b\\\u001b[2m1323\u001b[0m\u001b]8;;\u001b\\\n"
      ]
     },
     "metadata": {},
     "output_type": "display_data"
    },
    {
     "data": {
      "text/html": [
       "<pre style=\"white-space:pre;overflow-x:auto;line-height:normal;font-family:Menlo,'DejaVu Sans Mono',consolas,'Courier New',monospace\"><span style=\"color: #7fbfbf; text-decoration-color: #7fbfbf\">                    </span><span style=\"color: #000080; text-decoration-color: #000080\">INFO    </span> <span style=\"color: #0000ff; text-decoration-color: #0000ff\">train</span> <span style=\"font-weight: bold\">[</span> Epoch <span style=\"color: #008080; text-decoration-color: #008080; font-weight: bold\">60</span> of <span style=\"color: #008080; text-decoration-color: #008080; font-weight: bold\">200</span> <span style=\"font-weight: bold\">]</span>                                      <a href=\"file:///n/home09/pren/3DGeno_tools/src/gt3d/modules/higashi/Higashi_wrapper.py\" target=\"_blank\"><span style=\"color: #7f7f7f; text-decoration-color: #7f7f7f\">Higashi_wrapper.py</span></a><span style=\"color: #7f7f7f; text-decoration-color: #7f7f7f\">:</span><a href=\"file:///n/home09/pren/3DGeno_tools/src/gt3d/modules/higashi/Higashi_wrapper.py#1245\" target=\"_blank\"><span style=\"color: #7f7f7f; text-decoration-color: #7f7f7f\">1245</span></a>\n",
       "</pre>\n"
      ],
      "text/plain": [
       "\u001b[2;36m                   \u001b[0m\u001b[2;36m \u001b[0m\u001b[34mINFO    \u001b[0m \u001b[94mtrain\u001b[0m \u001b[1m[\u001b[0m Epoch \u001b[1;36m60\u001b[0m of \u001b[1;36m200\u001b[0m \u001b[1m]\u001b[0m                                      \u001b]8;id=518625;file:///n/home09/pren/3DGeno_tools/src/gt3d/modules/higashi/Higashi_wrapper.py\u001b\\\u001b[2mHigashi_wrapper.py\u001b[0m\u001b]8;;\u001b\\\u001b[2m:\u001b[0m\u001b]8;id=522022;file:///n/home09/pren/3DGeno_tools/src/gt3d/modules/higashi/Higashi_wrapper.py#1245\u001b\\\u001b[2m1245\u001b[0m\u001b]8;;\u001b\\\n"
      ]
     },
     "metadata": {},
     "output_type": "display_data"
    },
    {
     "data": {
      "application/vnd.jupyter.widget-view+json": {
       "model_id": "9058dcff7f4b428f83fc375075b36c96",
       "version_major": 2,
       "version_minor": 0
      },
      "text/plain": [
       "Output()"
      ]
     },
     "metadata": {},
     "output_type": "display_data"
    },
    {
     "data": {
      "text/html": [
       "<pre style=\"white-space:pre;overflow-x:auto;line-height:normal;font-family:Menlo,'DejaVu Sans Mono',consolas,'Courier New',monospace\"></pre>\n"
      ],
      "text/plain": []
     },
     "metadata": {},
     "output_type": "display_data"
    },
    {
     "data": {
      "text/html": [
       "<pre style=\"white-space:pre;overflow-x:auto;line-height:normal;font-family:Menlo,'DejaVu Sans Mono',consolas,'Courier New',monospace\"><span style=\"color: #7fbfbf; text-decoration-color: #7fbfbf\">[12/07/24 13:56:09] </span><span style=\"color: #000080; text-decoration-color: #000080\">INFO    </span> <span style=\"color: #0000ff; text-decoration-color: #0000ff\">train</span>  - <span style=\"font-weight: bold\">(</span>Train<span style=\"font-weight: bold\">)</span> bce:  <span style=\"color: #008080; text-decoration-color: #008080; font-weight: bold\">0.3067</span>, mse:  <span style=\"color: #008080; text-decoration-color: #008080; font-weight: bold\">0.8948</span>,  acc: <span style=\"color: #008080; text-decoration-color: #008080; font-weight: bold\">90.261</span> %,   <a href=\"file:///n/home09/pren/3DGeno_tools/src/gt3d/modules/higashi/Higashi_wrapper.py\" target=\"_blank\"><span style=\"color: #7f7f7f; text-decoration-color: #7f7f7f\">Higashi_wrapper.py</span></a><span style=\"color: #7f7f7f; text-decoration-color: #7f7f7f\">:</span><a href=\"file:///n/home09/pren/3DGeno_tools/src/gt3d/modules/higashi/Higashi_wrapper.py#1258\" target=\"_blank\"><span style=\"color: #7f7f7f; text-decoration-color: #7f7f7f\">1258</span></a>\n",
       "<span style=\"color: #7fbfbf; text-decoration-color: #7fbfbf\">                    </span>         pearson: <span style=\"color: #008080; text-decoration-color: #008080; font-weight: bold\">0.698</span>, spearman: <span style=\"color: #008080; text-decoration-color: #008080; font-weight: bold\">0.584</span>, elapse: <span style=\"color: #008080; text-decoration-color: #008080; font-weight: bold\">89.281</span> s              <span style=\"color: #7f7f7f; text-decoration-color: #7f7f7f\">                       </span>\n",
       "</pre>\n"
      ],
      "text/plain": [
       "\u001b[2;36m[12/07/24 13:56:09]\u001b[0m\u001b[2;36m \u001b[0m\u001b[34mINFO    \u001b[0m \u001b[94mtrain\u001b[0m  - \u001b[1m(\u001b[0mTrain\u001b[1m)\u001b[0m bce:  \u001b[1;36m0.3067\u001b[0m, mse:  \u001b[1;36m0.8948\u001b[0m,  acc: \u001b[1;36m90.261\u001b[0m %,   \u001b]8;id=434042;file:///n/home09/pren/3DGeno_tools/src/gt3d/modules/higashi/Higashi_wrapper.py\u001b\\\u001b[2mHigashi_wrapper.py\u001b[0m\u001b]8;;\u001b\\\u001b[2m:\u001b[0m\u001b]8;id=5024;file:///n/home09/pren/3DGeno_tools/src/gt3d/modules/higashi/Higashi_wrapper.py#1258\u001b\\\u001b[2m1258\u001b[0m\u001b]8;;\u001b\\\n",
       "\u001b[2;36m                    \u001b[0m         pearson: \u001b[1;36m0.698\u001b[0m, spearman: \u001b[1;36m0.584\u001b[0m, elapse: \u001b[1;36m89.281\u001b[0m s              \u001b[2m                       \u001b[0m\n"
      ]
     },
     "metadata": {},
     "output_type": "display_data"
    },
    {
     "data": {
      "application/vnd.jupyter.widget-view+json": {
       "model_id": "54e3ea323b4b4532b94cf4dd9ca76cdb",
       "version_major": 2,
       "version_minor": 0
      },
      "text/plain": [
       "Output()"
      ]
     },
     "metadata": {},
     "output_type": "display_data"
    },
    {
     "data": {
      "text/html": [
       "<pre style=\"white-space:pre;overflow-x:auto;line-height:normal;font-family:Menlo,'DejaVu Sans Mono',consolas,'Courier New',monospace\"></pre>\n"
      ],
      "text/plain": []
     },
     "metadata": {},
     "output_type": "display_data"
    },
    {
     "data": {
      "text/html": [
       "<pre style=\"white-space:pre;overflow-x:auto;line-height:normal;font-family:Menlo,'DejaVu Sans Mono',consolas,'Courier New',monospace\"><span style=\"color: #7fbfbf; text-decoration-color: #7fbfbf\">                    </span><span style=\"color: #000080; text-decoration-color: #000080\">INFO    </span> <span style=\"color: #0000ff; text-decoration-color: #0000ff\">train</span>  - <span style=\"font-weight: bold\">(</span>Valid<span style=\"font-weight: bold\">)</span> bce:  <span style=\"color: #008080; text-decoration-color: #008080; font-weight: bold\">0.3807</span>,  acc: <span style=\"color: #008080; text-decoration-color: #008080; font-weight: bold\">88.477</span> %,pearson: <span style=\"color: #008080; text-decoration-color: #008080; font-weight: bold\">0.617</span>,  <a href=\"file:///n/home09/pren/3DGeno_tools/src/gt3d/modules/higashi/Higashi_wrapper.py\" target=\"_blank\"><span style=\"color: #7f7f7f; text-decoration-color: #7f7f7f\">Higashi_wrapper.py</span></a><span style=\"color: #7f7f7f; text-decoration-color: #7f7f7f\">:</span><a href=\"file:///n/home09/pren/3DGeno_tools/src/gt3d/modules/higashi/Higashi_wrapper.py#1277\" target=\"_blank\"><span style=\"color: #7f7f7f; text-decoration-color: #7f7f7f\">1277</span></a>\n",
       "<span style=\"color: #7fbfbf; text-decoration-color: #7fbfbf\">                    </span>         spearman: <span style=\"color: #008080; text-decoration-color: #008080; font-weight: bold\">0.550</span>,elapse: <span style=\"color: #008080; text-decoration-color: #008080; font-weight: bold\">0.052</span> s                                <span style=\"color: #7f7f7f; text-decoration-color: #7f7f7f\">                       </span>\n",
       "</pre>\n"
      ],
      "text/plain": [
       "\u001b[2;36m                   \u001b[0m\u001b[2;36m \u001b[0m\u001b[34mINFO    \u001b[0m \u001b[94mtrain\u001b[0m  - \u001b[1m(\u001b[0mValid\u001b[1m)\u001b[0m bce:  \u001b[1;36m0.3807\u001b[0m,  acc: \u001b[1;36m88.477\u001b[0m %,pearson: \u001b[1;36m0.617\u001b[0m,  \u001b]8;id=176450;file:///n/home09/pren/3DGeno_tools/src/gt3d/modules/higashi/Higashi_wrapper.py\u001b\\\u001b[2mHigashi_wrapper.py\u001b[0m\u001b]8;;\u001b\\\u001b[2m:\u001b[0m\u001b]8;id=548633;file:///n/home09/pren/3DGeno_tools/src/gt3d/modules/higashi/Higashi_wrapper.py#1277\u001b\\\u001b[2m1277\u001b[0m\u001b]8;;\u001b\\\n",
       "\u001b[2;36m                    \u001b[0m         spearman: \u001b[1;36m0.550\u001b[0m,elapse: \u001b[1;36m0.052\u001b[0m s                                \u001b[2m                       \u001b[0m\n"
      ]
     },
     "metadata": {},
     "output_type": "display_data"
    },
    {
     "data": {
      "text/html": [
       "<pre style=\"white-space:pre;overflow-x:auto;line-height:normal;font-family:Menlo,'DejaVu Sans Mono',consolas,'Courier New',monospace\"><span style=\"color: #7fbfbf; text-decoration-color: #7fbfbf\">                    </span><span style=\"color: #000080; text-decoration-color: #000080\">INFO    </span> <span style=\"color: #0000ff; text-decoration-color: #0000ff\">train</span> update_rate: <span style=\"color: #008080; text-decoration-color: #008080; font-weight: bold\">0.002258</span>     <span style=\"color: #008080; text-decoration-color: #008080; font-weight: bold\">0.081240</span>                       <a href=\"file:///n/home09/pren/3DGeno_tools/src/gt3d/modules/higashi/Higashi_wrapper.py\" target=\"_blank\"><span style=\"color: #7f7f7f; text-decoration-color: #7f7f7f\">Higashi_wrapper.py</span></a><span style=\"color: #7f7f7f; text-decoration-color: #7f7f7f\">:</span><a href=\"file:///n/home09/pren/3DGeno_tools/src/gt3d/modules/higashi/Higashi_wrapper.py#1323\" target=\"_blank\"><span style=\"color: #7f7f7f; text-decoration-color: #7f7f7f\">1323</span></a>\n",
       "</pre>\n"
      ],
      "text/plain": [
       "\u001b[2;36m                   \u001b[0m\u001b[2;36m \u001b[0m\u001b[34mINFO    \u001b[0m \u001b[94mtrain\u001b[0m update_rate: \u001b[1;36m0.002258\u001b[0m     \u001b[1;36m0.081240\u001b[0m                       \u001b]8;id=97121;file:///n/home09/pren/3DGeno_tools/src/gt3d/modules/higashi/Higashi_wrapper.py\u001b\\\u001b[2mHigashi_wrapper.py\u001b[0m\u001b]8;;\u001b\\\u001b[2m:\u001b[0m\u001b]8;id=883380;file:///n/home09/pren/3DGeno_tools/src/gt3d/modules/higashi/Higashi_wrapper.py#1323\u001b\\\u001b[2m1323\u001b[0m\u001b]8;;\u001b\\\n"
      ]
     },
     "metadata": {},
     "output_type": "display_data"
    },
    {
     "data": {
      "text/html": [
       "<pre style=\"white-space:pre;overflow-x:auto;line-height:normal;font-family:Menlo,'DejaVu Sans Mono',consolas,'Courier New',monospace\"><span style=\"color: #7fbfbf; text-decoration-color: #7fbfbf\">                    </span><span style=\"color: #000080; text-decoration-color: #000080\">INFO    </span> <span style=\"color: #0000ff; text-decoration-color: #0000ff\">train</span> <span style=\"font-weight: bold\">[</span> Epoch <span style=\"color: #008080; text-decoration-color: #008080; font-weight: bold\">61</span> of <span style=\"color: #008080; text-decoration-color: #008080; font-weight: bold\">200</span> <span style=\"font-weight: bold\">]</span>                                      <a href=\"file:///n/home09/pren/3DGeno_tools/src/gt3d/modules/higashi/Higashi_wrapper.py\" target=\"_blank\"><span style=\"color: #7f7f7f; text-decoration-color: #7f7f7f\">Higashi_wrapper.py</span></a><span style=\"color: #7f7f7f; text-decoration-color: #7f7f7f\">:</span><a href=\"file:///n/home09/pren/3DGeno_tools/src/gt3d/modules/higashi/Higashi_wrapper.py#1245\" target=\"_blank\"><span style=\"color: #7f7f7f; text-decoration-color: #7f7f7f\">1245</span></a>\n",
       "</pre>\n"
      ],
      "text/plain": [
       "\u001b[2;36m                   \u001b[0m\u001b[2;36m \u001b[0m\u001b[34mINFO    \u001b[0m \u001b[94mtrain\u001b[0m \u001b[1m[\u001b[0m Epoch \u001b[1;36m61\u001b[0m of \u001b[1;36m200\u001b[0m \u001b[1m]\u001b[0m                                      \u001b]8;id=742972;file:///n/home09/pren/3DGeno_tools/src/gt3d/modules/higashi/Higashi_wrapper.py\u001b\\\u001b[2mHigashi_wrapper.py\u001b[0m\u001b]8;;\u001b\\\u001b[2m:\u001b[0m\u001b]8;id=108816;file:///n/home09/pren/3DGeno_tools/src/gt3d/modules/higashi/Higashi_wrapper.py#1245\u001b\\\u001b[2m1245\u001b[0m\u001b]8;;\u001b\\\n"
      ]
     },
     "metadata": {},
     "output_type": "display_data"
    },
    {
     "data": {
      "application/vnd.jupyter.widget-view+json": {
       "model_id": "694eefdf8e46410d966f95493e51174d",
       "version_major": 2,
       "version_minor": 0
      },
      "text/plain": [
       "Output()"
      ]
     },
     "metadata": {},
     "output_type": "display_data"
    },
    {
     "data": {
      "text/html": [
       "<pre style=\"white-space:pre;overflow-x:auto;line-height:normal;font-family:Menlo,'DejaVu Sans Mono',consolas,'Courier New',monospace\"></pre>\n"
      ],
      "text/plain": []
     },
     "metadata": {},
     "output_type": "display_data"
    },
    {
     "data": {
      "text/html": [
       "<pre style=\"white-space:pre;overflow-x:auto;line-height:normal;font-family:Menlo,'DejaVu Sans Mono',consolas,'Courier New',monospace\"><span style=\"color: #7fbfbf; text-decoration-color: #7fbfbf\">[12/07/24 13:57:38] </span><span style=\"color: #000080; text-decoration-color: #000080\">INFO    </span> <span style=\"color: #0000ff; text-decoration-color: #0000ff\">train</span>  - <span style=\"font-weight: bold\">(</span>Train<span style=\"font-weight: bold\">)</span> bce:  <span style=\"color: #008080; text-decoration-color: #008080; font-weight: bold\">0.3084</span>, mse:  <span style=\"color: #008080; text-decoration-color: #008080; font-weight: bold\">0.8637</span>,  acc: <span style=\"color: #008080; text-decoration-color: #008080; font-weight: bold\">90.104</span> %,   <a href=\"file:///n/home09/pren/3DGeno_tools/src/gt3d/modules/higashi/Higashi_wrapper.py\" target=\"_blank\"><span style=\"color: #7f7f7f; text-decoration-color: #7f7f7f\">Higashi_wrapper.py</span></a><span style=\"color: #7f7f7f; text-decoration-color: #7f7f7f\">:</span><a href=\"file:///n/home09/pren/3DGeno_tools/src/gt3d/modules/higashi/Higashi_wrapper.py#1258\" target=\"_blank\"><span style=\"color: #7f7f7f; text-decoration-color: #7f7f7f\">1258</span></a>\n",
       "<span style=\"color: #7fbfbf; text-decoration-color: #7fbfbf\">                    </span>         pearson: <span style=\"color: #008080; text-decoration-color: #008080; font-weight: bold\">0.695</span>, spearman: <span style=\"color: #008080; text-decoration-color: #008080; font-weight: bold\">0.582</span>, elapse: <span style=\"color: #008080; text-decoration-color: #008080; font-weight: bold\">89.512</span> s              <span style=\"color: #7f7f7f; text-decoration-color: #7f7f7f\">                       </span>\n",
       "</pre>\n"
      ],
      "text/plain": [
       "\u001b[2;36m[12/07/24 13:57:38]\u001b[0m\u001b[2;36m \u001b[0m\u001b[34mINFO    \u001b[0m \u001b[94mtrain\u001b[0m  - \u001b[1m(\u001b[0mTrain\u001b[1m)\u001b[0m bce:  \u001b[1;36m0.3084\u001b[0m, mse:  \u001b[1;36m0.8637\u001b[0m,  acc: \u001b[1;36m90.104\u001b[0m %,   \u001b]8;id=53500;file:///n/home09/pren/3DGeno_tools/src/gt3d/modules/higashi/Higashi_wrapper.py\u001b\\\u001b[2mHigashi_wrapper.py\u001b[0m\u001b]8;;\u001b\\\u001b[2m:\u001b[0m\u001b]8;id=395087;file:///n/home09/pren/3DGeno_tools/src/gt3d/modules/higashi/Higashi_wrapper.py#1258\u001b\\\u001b[2m1258\u001b[0m\u001b]8;;\u001b\\\n",
       "\u001b[2;36m                    \u001b[0m         pearson: \u001b[1;36m0.695\u001b[0m, spearman: \u001b[1;36m0.582\u001b[0m, elapse: \u001b[1;36m89.512\u001b[0m s              \u001b[2m                       \u001b[0m\n"
      ]
     },
     "metadata": {},
     "output_type": "display_data"
    },
    {
     "data": {
      "application/vnd.jupyter.widget-view+json": {
       "model_id": "52a9f7df78e74dfababbf69fc38e68f7",
       "version_major": 2,
       "version_minor": 0
      },
      "text/plain": [
       "Output()"
      ]
     },
     "metadata": {},
     "output_type": "display_data"
    },
    {
     "data": {
      "text/html": [
       "<pre style=\"white-space:pre;overflow-x:auto;line-height:normal;font-family:Menlo,'DejaVu Sans Mono',consolas,'Courier New',monospace\"></pre>\n"
      ],
      "text/plain": []
     },
     "metadata": {},
     "output_type": "display_data"
    },
    {
     "data": {
      "text/html": [
       "<pre style=\"white-space:pre;overflow-x:auto;line-height:normal;font-family:Menlo,'DejaVu Sans Mono',consolas,'Courier New',monospace\"><span style=\"color: #7fbfbf; text-decoration-color: #7fbfbf\">                    </span><span style=\"color: #000080; text-decoration-color: #000080\">INFO    </span> <span style=\"color: #0000ff; text-decoration-color: #0000ff\">train</span>  - <span style=\"font-weight: bold\">(</span>Valid<span style=\"font-weight: bold\">)</span> bce:  <span style=\"color: #008080; text-decoration-color: #008080; font-weight: bold\">0.3786</span>,  acc: <span style=\"color: #008080; text-decoration-color: #008080; font-weight: bold\">88.952</span> %,pearson: <span style=\"color: #008080; text-decoration-color: #008080; font-weight: bold\">0.631</span>,  <a href=\"file:///n/home09/pren/3DGeno_tools/src/gt3d/modules/higashi/Higashi_wrapper.py\" target=\"_blank\"><span style=\"color: #7f7f7f; text-decoration-color: #7f7f7f\">Higashi_wrapper.py</span></a><span style=\"color: #7f7f7f; text-decoration-color: #7f7f7f\">:</span><a href=\"file:///n/home09/pren/3DGeno_tools/src/gt3d/modules/higashi/Higashi_wrapper.py#1277\" target=\"_blank\"><span style=\"color: #7f7f7f; text-decoration-color: #7f7f7f\">1277</span></a>\n",
       "<span style=\"color: #7fbfbf; text-decoration-color: #7fbfbf\">                    </span>         spearman: <span style=\"color: #008080; text-decoration-color: #008080; font-weight: bold\">0.556</span>,elapse: <span style=\"color: #008080; text-decoration-color: #008080; font-weight: bold\">0.053</span> s                                <span style=\"color: #7f7f7f; text-decoration-color: #7f7f7f\">                       </span>\n",
       "</pre>\n"
      ],
      "text/plain": [
       "\u001b[2;36m                   \u001b[0m\u001b[2;36m \u001b[0m\u001b[34mINFO    \u001b[0m \u001b[94mtrain\u001b[0m  - \u001b[1m(\u001b[0mValid\u001b[1m)\u001b[0m bce:  \u001b[1;36m0.3786\u001b[0m,  acc: \u001b[1;36m88.952\u001b[0m %,pearson: \u001b[1;36m0.631\u001b[0m,  \u001b]8;id=856570;file:///n/home09/pren/3DGeno_tools/src/gt3d/modules/higashi/Higashi_wrapper.py\u001b\\\u001b[2mHigashi_wrapper.py\u001b[0m\u001b]8;;\u001b\\\u001b[2m:\u001b[0m\u001b]8;id=34797;file:///n/home09/pren/3DGeno_tools/src/gt3d/modules/higashi/Higashi_wrapper.py#1277\u001b\\\u001b[2m1277\u001b[0m\u001b]8;;\u001b\\\n",
       "\u001b[2;36m                    \u001b[0m         spearman: \u001b[1;36m0.556\u001b[0m,elapse: \u001b[1;36m0.053\u001b[0m s                                \u001b[2m                       \u001b[0m\n"
      ]
     },
     "metadata": {},
     "output_type": "display_data"
    },
    {
     "data": {
      "text/html": [
       "<pre style=\"white-space:pre;overflow-x:auto;line-height:normal;font-family:Menlo,'DejaVu Sans Mono',consolas,'Courier New',monospace\"><span style=\"color: #7fbfbf; text-decoration-color: #7fbfbf\">                    </span><span style=\"color: #000080; text-decoration-color: #000080\">INFO    </span> <span style=\"color: #0000ff; text-decoration-color: #0000ff\">train</span> update_rate: <span style=\"color: #008080; text-decoration-color: #008080; font-weight: bold\">0.002399</span>     <span style=\"color: #008080; text-decoration-color: #008080; font-weight: bold\">0.109648</span>                       <a href=\"file:///n/home09/pren/3DGeno_tools/src/gt3d/modules/higashi/Higashi_wrapper.py\" target=\"_blank\"><span style=\"color: #7f7f7f; text-decoration-color: #7f7f7f\">Higashi_wrapper.py</span></a><span style=\"color: #7f7f7f; text-decoration-color: #7f7f7f\">:</span><a href=\"file:///n/home09/pren/3DGeno_tools/src/gt3d/modules/higashi/Higashi_wrapper.py#1323\" target=\"_blank\"><span style=\"color: #7f7f7f; text-decoration-color: #7f7f7f\">1323</span></a>\n",
       "</pre>\n"
      ],
      "text/plain": [
       "\u001b[2;36m                   \u001b[0m\u001b[2;36m \u001b[0m\u001b[34mINFO    \u001b[0m \u001b[94mtrain\u001b[0m update_rate: \u001b[1;36m0.002399\u001b[0m     \u001b[1;36m0.109648\u001b[0m                       \u001b]8;id=78114;file:///n/home09/pren/3DGeno_tools/src/gt3d/modules/higashi/Higashi_wrapper.py\u001b\\\u001b[2mHigashi_wrapper.py\u001b[0m\u001b]8;;\u001b\\\u001b[2m:\u001b[0m\u001b]8;id=100221;file:///n/home09/pren/3DGeno_tools/src/gt3d/modules/higashi/Higashi_wrapper.py#1323\u001b\\\u001b[2m1323\u001b[0m\u001b]8;;\u001b\\\n"
      ]
     },
     "metadata": {},
     "output_type": "display_data"
    },
    {
     "data": {
      "text/html": [
       "<pre style=\"white-space:pre;overflow-x:auto;line-height:normal;font-family:Menlo,'DejaVu Sans Mono',consolas,'Courier New',monospace\"><span style=\"color: #7fbfbf; text-decoration-color: #7fbfbf\">                    </span><span style=\"color: #000080; text-decoration-color: #000080\">INFO    </span> <span style=\"color: #0000ff; text-decoration-color: #0000ff\">train</span> <span style=\"font-weight: bold\">[</span> Epoch <span style=\"color: #008080; text-decoration-color: #008080; font-weight: bold\">62</span> of <span style=\"color: #008080; text-decoration-color: #008080; font-weight: bold\">200</span> <span style=\"font-weight: bold\">]</span>                                      <a href=\"file:///n/home09/pren/3DGeno_tools/src/gt3d/modules/higashi/Higashi_wrapper.py\" target=\"_blank\"><span style=\"color: #7f7f7f; text-decoration-color: #7f7f7f\">Higashi_wrapper.py</span></a><span style=\"color: #7f7f7f; text-decoration-color: #7f7f7f\">:</span><a href=\"file:///n/home09/pren/3DGeno_tools/src/gt3d/modules/higashi/Higashi_wrapper.py#1245\" target=\"_blank\"><span style=\"color: #7f7f7f; text-decoration-color: #7f7f7f\">1245</span></a>\n",
       "</pre>\n"
      ],
      "text/plain": [
       "\u001b[2;36m                   \u001b[0m\u001b[2;36m \u001b[0m\u001b[34mINFO    \u001b[0m \u001b[94mtrain\u001b[0m \u001b[1m[\u001b[0m Epoch \u001b[1;36m62\u001b[0m of \u001b[1;36m200\u001b[0m \u001b[1m]\u001b[0m                                      \u001b]8;id=475308;file:///n/home09/pren/3DGeno_tools/src/gt3d/modules/higashi/Higashi_wrapper.py\u001b\\\u001b[2mHigashi_wrapper.py\u001b[0m\u001b]8;;\u001b\\\u001b[2m:\u001b[0m\u001b]8;id=366609;file:///n/home09/pren/3DGeno_tools/src/gt3d/modules/higashi/Higashi_wrapper.py#1245\u001b\\\u001b[2m1245\u001b[0m\u001b]8;;\u001b\\\n"
      ]
     },
     "metadata": {},
     "output_type": "display_data"
    },
    {
     "data": {
      "application/vnd.jupyter.widget-view+json": {
       "model_id": "91cd39369f8645578d1bbdd23392a7a0",
       "version_major": 2,
       "version_minor": 0
      },
      "text/plain": [
       "Output()"
      ]
     },
     "metadata": {},
     "output_type": "display_data"
    },
    {
     "data": {
      "text/html": [
       "<pre style=\"white-space:pre;overflow-x:auto;line-height:normal;font-family:Menlo,'DejaVu Sans Mono',consolas,'Courier New',monospace\"></pre>\n"
      ],
      "text/plain": []
     },
     "metadata": {},
     "output_type": "display_data"
    },
    {
     "data": {
      "text/html": [
       "<pre style=\"white-space:pre;overflow-x:auto;line-height:normal;font-family:Menlo,'DejaVu Sans Mono',consolas,'Courier New',monospace\"><span style=\"color: #7fbfbf; text-decoration-color: #7fbfbf\">[12/07/24 13:59:08] </span><span style=\"color: #000080; text-decoration-color: #000080\">INFO    </span> <span style=\"color: #0000ff; text-decoration-color: #0000ff\">train</span>  - <span style=\"font-weight: bold\">(</span>Train<span style=\"font-weight: bold\">)</span> bce:  <span style=\"color: #008080; text-decoration-color: #008080; font-weight: bold\">0.3069</span>, mse:  <span style=\"color: #008080; text-decoration-color: #008080; font-weight: bold\">0.9014</span>,  acc: <span style=\"color: #008080; text-decoration-color: #008080; font-weight: bold\">90.246</span> %,   <a href=\"file:///n/home09/pren/3DGeno_tools/src/gt3d/modules/higashi/Higashi_wrapper.py\" target=\"_blank\"><span style=\"color: #7f7f7f; text-decoration-color: #7f7f7f\">Higashi_wrapper.py</span></a><span style=\"color: #7f7f7f; text-decoration-color: #7f7f7f\">:</span><a href=\"file:///n/home09/pren/3DGeno_tools/src/gt3d/modules/higashi/Higashi_wrapper.py#1258\" target=\"_blank\"><span style=\"color: #7f7f7f; text-decoration-color: #7f7f7f\">1258</span></a>\n",
       "<span style=\"color: #7fbfbf; text-decoration-color: #7fbfbf\">                    </span>         pearson: <span style=\"color: #008080; text-decoration-color: #008080; font-weight: bold\">0.699</span>, spearman: <span style=\"color: #008080; text-decoration-color: #008080; font-weight: bold\">0.584</span>, elapse: <span style=\"color: #008080; text-decoration-color: #008080; font-weight: bold\">89.230</span> s              <span style=\"color: #7f7f7f; text-decoration-color: #7f7f7f\">                       </span>\n",
       "</pre>\n"
      ],
      "text/plain": [
       "\u001b[2;36m[12/07/24 13:59:08]\u001b[0m\u001b[2;36m \u001b[0m\u001b[34mINFO    \u001b[0m \u001b[94mtrain\u001b[0m  - \u001b[1m(\u001b[0mTrain\u001b[1m)\u001b[0m bce:  \u001b[1;36m0.3069\u001b[0m, mse:  \u001b[1;36m0.9014\u001b[0m,  acc: \u001b[1;36m90.246\u001b[0m %,   \u001b]8;id=61775;file:///n/home09/pren/3DGeno_tools/src/gt3d/modules/higashi/Higashi_wrapper.py\u001b\\\u001b[2mHigashi_wrapper.py\u001b[0m\u001b]8;;\u001b\\\u001b[2m:\u001b[0m\u001b]8;id=687225;file:///n/home09/pren/3DGeno_tools/src/gt3d/modules/higashi/Higashi_wrapper.py#1258\u001b\\\u001b[2m1258\u001b[0m\u001b]8;;\u001b\\\n",
       "\u001b[2;36m                    \u001b[0m         pearson: \u001b[1;36m0.699\u001b[0m, spearman: \u001b[1;36m0.584\u001b[0m, elapse: \u001b[1;36m89.230\u001b[0m s              \u001b[2m                       \u001b[0m\n"
      ]
     },
     "metadata": {},
     "output_type": "display_data"
    },
    {
     "data": {
      "application/vnd.jupyter.widget-view+json": {
       "model_id": "530be076f6a14fddb821360f028d5724",
       "version_major": 2,
       "version_minor": 0
      },
      "text/plain": [
       "Output()"
      ]
     },
     "metadata": {},
     "output_type": "display_data"
    },
    {
     "data": {
      "text/html": [
       "<pre style=\"white-space:pre;overflow-x:auto;line-height:normal;font-family:Menlo,'DejaVu Sans Mono',consolas,'Courier New',monospace\"></pre>\n"
      ],
      "text/plain": []
     },
     "metadata": {},
     "output_type": "display_data"
    },
    {
     "data": {
      "text/html": [
       "<pre style=\"white-space:pre;overflow-x:auto;line-height:normal;font-family:Menlo,'DejaVu Sans Mono',consolas,'Courier New',monospace\"><span style=\"color: #7fbfbf; text-decoration-color: #7fbfbf\">                    </span><span style=\"color: #000080; text-decoration-color: #000080\">INFO    </span> <span style=\"color: #0000ff; text-decoration-color: #0000ff\">train</span>  - <span style=\"font-weight: bold\">(</span>Valid<span style=\"font-weight: bold\">)</span> bce:  <span style=\"color: #008080; text-decoration-color: #008080; font-weight: bold\">0.3986</span>,  acc: <span style=\"color: #008080; text-decoration-color: #008080; font-weight: bold\">88.646</span> %,pearson: <span style=\"color: #008080; text-decoration-color: #008080; font-weight: bold\">0.620</span>,  <a href=\"file:///n/home09/pren/3DGeno_tools/src/gt3d/modules/higashi/Higashi_wrapper.py\" target=\"_blank\"><span style=\"color: #7f7f7f; text-decoration-color: #7f7f7f\">Higashi_wrapper.py</span></a><span style=\"color: #7f7f7f; text-decoration-color: #7f7f7f\">:</span><a href=\"file:///n/home09/pren/3DGeno_tools/src/gt3d/modules/higashi/Higashi_wrapper.py#1277\" target=\"_blank\"><span style=\"color: #7f7f7f; text-decoration-color: #7f7f7f\">1277</span></a>\n",
       "<span style=\"color: #7fbfbf; text-decoration-color: #7fbfbf\">                    </span>         spearman: <span style=\"color: #008080; text-decoration-color: #008080; font-weight: bold\">0.549</span>,elapse: <span style=\"color: #008080; text-decoration-color: #008080; font-weight: bold\">0.052</span> s                                <span style=\"color: #7f7f7f; text-decoration-color: #7f7f7f\">                       </span>\n",
       "</pre>\n"
      ],
      "text/plain": [
       "\u001b[2;36m                   \u001b[0m\u001b[2;36m \u001b[0m\u001b[34mINFO    \u001b[0m \u001b[94mtrain\u001b[0m  - \u001b[1m(\u001b[0mValid\u001b[1m)\u001b[0m bce:  \u001b[1;36m0.3986\u001b[0m,  acc: \u001b[1;36m88.646\u001b[0m %,pearson: \u001b[1;36m0.620\u001b[0m,  \u001b]8;id=750322;file:///n/home09/pren/3DGeno_tools/src/gt3d/modules/higashi/Higashi_wrapper.py\u001b\\\u001b[2mHigashi_wrapper.py\u001b[0m\u001b]8;;\u001b\\\u001b[2m:\u001b[0m\u001b]8;id=195524;file:///n/home09/pren/3DGeno_tools/src/gt3d/modules/higashi/Higashi_wrapper.py#1277\u001b\\\u001b[2m1277\u001b[0m\u001b]8;;\u001b\\\n",
       "\u001b[2;36m                    \u001b[0m         spearman: \u001b[1;36m0.549\u001b[0m,elapse: \u001b[1;36m0.052\u001b[0m s                                \u001b[2m                       \u001b[0m\n"
      ]
     },
     "metadata": {},
     "output_type": "display_data"
    },
    {
     "data": {
      "text/html": [
       "<pre style=\"white-space:pre;overflow-x:auto;line-height:normal;font-family:Menlo,'DejaVu Sans Mono',consolas,'Courier New',monospace\"><span style=\"color: #7fbfbf; text-decoration-color: #7fbfbf\">                    </span><span style=\"color: #000080; text-decoration-color: #000080\">INFO    </span> <span style=\"color: #0000ff; text-decoration-color: #0000ff\">train</span> update_rate: <span style=\"color: #008080; text-decoration-color: #008080; font-weight: bold\">0.002025</span>     <span style=\"color: #008080; text-decoration-color: #008080; font-weight: bold\">0.140159</span>                       <a href=\"file:///n/home09/pren/3DGeno_tools/src/gt3d/modules/higashi/Higashi_wrapper.py\" target=\"_blank\"><span style=\"color: #7f7f7f; text-decoration-color: #7f7f7f\">Higashi_wrapper.py</span></a><span style=\"color: #7f7f7f; text-decoration-color: #7f7f7f\">:</span><a href=\"file:///n/home09/pren/3DGeno_tools/src/gt3d/modules/higashi/Higashi_wrapper.py#1323\" target=\"_blank\"><span style=\"color: #7f7f7f; text-decoration-color: #7f7f7f\">1323</span></a>\n",
       "</pre>\n"
      ],
      "text/plain": [
       "\u001b[2;36m                   \u001b[0m\u001b[2;36m \u001b[0m\u001b[34mINFO    \u001b[0m \u001b[94mtrain\u001b[0m update_rate: \u001b[1;36m0.002025\u001b[0m     \u001b[1;36m0.140159\u001b[0m                       \u001b]8;id=795353;file:///n/home09/pren/3DGeno_tools/src/gt3d/modules/higashi/Higashi_wrapper.py\u001b\\\u001b[2mHigashi_wrapper.py\u001b[0m\u001b]8;;\u001b\\\u001b[2m:\u001b[0m\u001b]8;id=657283;file:///n/home09/pren/3DGeno_tools/src/gt3d/modules/higashi/Higashi_wrapper.py#1323\u001b\\\u001b[2m1323\u001b[0m\u001b]8;;\u001b\\\n"
      ]
     },
     "metadata": {},
     "output_type": "display_data"
    },
    {
     "data": {
      "text/html": [
       "<pre style=\"white-space:pre;overflow-x:auto;line-height:normal;font-family:Menlo,'DejaVu Sans Mono',consolas,'Courier New',monospace\"><span style=\"color: #7fbfbf; text-decoration-color: #7fbfbf\">                    </span><span style=\"color: #000080; text-decoration-color: #000080\">INFO    </span> <span style=\"color: #0000ff; text-decoration-color: #0000ff\">train</span> <span style=\"font-weight: bold\">[</span> Epoch <span style=\"color: #008080; text-decoration-color: #008080; font-weight: bold\">63</span> of <span style=\"color: #008080; text-decoration-color: #008080; font-weight: bold\">200</span> <span style=\"font-weight: bold\">]</span>                                      <a href=\"file:///n/home09/pren/3DGeno_tools/src/gt3d/modules/higashi/Higashi_wrapper.py\" target=\"_blank\"><span style=\"color: #7f7f7f; text-decoration-color: #7f7f7f\">Higashi_wrapper.py</span></a><span style=\"color: #7f7f7f; text-decoration-color: #7f7f7f\">:</span><a href=\"file:///n/home09/pren/3DGeno_tools/src/gt3d/modules/higashi/Higashi_wrapper.py#1245\" target=\"_blank\"><span style=\"color: #7f7f7f; text-decoration-color: #7f7f7f\">1245</span></a>\n",
       "</pre>\n"
      ],
      "text/plain": [
       "\u001b[2;36m                   \u001b[0m\u001b[2;36m \u001b[0m\u001b[34mINFO    \u001b[0m \u001b[94mtrain\u001b[0m \u001b[1m[\u001b[0m Epoch \u001b[1;36m63\u001b[0m of \u001b[1;36m200\u001b[0m \u001b[1m]\u001b[0m                                      \u001b]8;id=801392;file:///n/home09/pren/3DGeno_tools/src/gt3d/modules/higashi/Higashi_wrapper.py\u001b\\\u001b[2mHigashi_wrapper.py\u001b[0m\u001b]8;;\u001b\\\u001b[2m:\u001b[0m\u001b]8;id=500820;file:///n/home09/pren/3DGeno_tools/src/gt3d/modules/higashi/Higashi_wrapper.py#1245\u001b\\\u001b[2m1245\u001b[0m\u001b]8;;\u001b\\\n"
      ]
     },
     "metadata": {},
     "output_type": "display_data"
    },
    {
     "data": {
      "application/vnd.jupyter.widget-view+json": {
       "model_id": "ce2fa0469edb4019be5d82332a2bff4f",
       "version_major": 2,
       "version_minor": 0
      },
      "text/plain": [
       "Output()"
      ]
     },
     "metadata": {},
     "output_type": "display_data"
    },
    {
     "data": {
      "text/html": [
       "<pre style=\"white-space:pre;overflow-x:auto;line-height:normal;font-family:Menlo,'DejaVu Sans Mono',consolas,'Courier New',monospace\"></pre>\n"
      ],
      "text/plain": []
     },
     "metadata": {},
     "output_type": "display_data"
    },
    {
     "data": {
      "text/html": [
       "<pre style=\"white-space:pre;overflow-x:auto;line-height:normal;font-family:Menlo,'DejaVu Sans Mono',consolas,'Courier New',monospace\"><span style=\"color: #7fbfbf; text-decoration-color: #7fbfbf\">[12/07/24 14:00:37] </span><span style=\"color: #000080; text-decoration-color: #000080\">INFO    </span> <span style=\"color: #0000ff; text-decoration-color: #0000ff\">train</span>  - <span style=\"font-weight: bold\">(</span>Train<span style=\"font-weight: bold\">)</span> bce:  <span style=\"color: #008080; text-decoration-color: #008080; font-weight: bold\">0.3072</span>, mse:  <span style=\"color: #008080; text-decoration-color: #008080; font-weight: bold\">0.8882</span>,  acc: <span style=\"color: #008080; text-decoration-color: #008080; font-weight: bold\">90.221</span> %,   <a href=\"file:///n/home09/pren/3DGeno_tools/src/gt3d/modules/higashi/Higashi_wrapper.py\" target=\"_blank\"><span style=\"color: #7f7f7f; text-decoration-color: #7f7f7f\">Higashi_wrapper.py</span></a><span style=\"color: #7f7f7f; text-decoration-color: #7f7f7f\">:</span><a href=\"file:///n/home09/pren/3DGeno_tools/src/gt3d/modules/higashi/Higashi_wrapper.py#1258\" target=\"_blank\"><span style=\"color: #7f7f7f; text-decoration-color: #7f7f7f\">1258</span></a>\n",
       "<span style=\"color: #7fbfbf; text-decoration-color: #7fbfbf\">                    </span>         pearson: <span style=\"color: #008080; text-decoration-color: #008080; font-weight: bold\">0.697</span>, spearman: <span style=\"color: #008080; text-decoration-color: #008080; font-weight: bold\">0.584</span>, elapse: <span style=\"color: #008080; text-decoration-color: #008080; font-weight: bold\">89.447</span> s              <span style=\"color: #7f7f7f; text-decoration-color: #7f7f7f\">                       </span>\n",
       "</pre>\n"
      ],
      "text/plain": [
       "\u001b[2;36m[12/07/24 14:00:37]\u001b[0m\u001b[2;36m \u001b[0m\u001b[34mINFO    \u001b[0m \u001b[94mtrain\u001b[0m  - \u001b[1m(\u001b[0mTrain\u001b[1m)\u001b[0m bce:  \u001b[1;36m0.3072\u001b[0m, mse:  \u001b[1;36m0.8882\u001b[0m,  acc: \u001b[1;36m90.221\u001b[0m %,   \u001b]8;id=457881;file:///n/home09/pren/3DGeno_tools/src/gt3d/modules/higashi/Higashi_wrapper.py\u001b\\\u001b[2mHigashi_wrapper.py\u001b[0m\u001b]8;;\u001b\\\u001b[2m:\u001b[0m\u001b]8;id=301963;file:///n/home09/pren/3DGeno_tools/src/gt3d/modules/higashi/Higashi_wrapper.py#1258\u001b\\\u001b[2m1258\u001b[0m\u001b]8;;\u001b\\\n",
       "\u001b[2;36m                    \u001b[0m         pearson: \u001b[1;36m0.697\u001b[0m, spearman: \u001b[1;36m0.584\u001b[0m, elapse: \u001b[1;36m89.447\u001b[0m s              \u001b[2m                       \u001b[0m\n"
      ]
     },
     "metadata": {},
     "output_type": "display_data"
    },
    {
     "data": {
      "application/vnd.jupyter.widget-view+json": {
       "model_id": "abacb7f0f15945128af71180e5ed8f52",
       "version_major": 2,
       "version_minor": 0
      },
      "text/plain": [
       "Output()"
      ]
     },
     "metadata": {},
     "output_type": "display_data"
    },
    {
     "data": {
      "text/html": [
       "<pre style=\"white-space:pre;overflow-x:auto;line-height:normal;font-family:Menlo,'DejaVu Sans Mono',consolas,'Courier New',monospace\"></pre>\n"
      ],
      "text/plain": []
     },
     "metadata": {},
     "output_type": "display_data"
    },
    {
     "data": {
      "text/html": [
       "<pre style=\"white-space:pre;overflow-x:auto;line-height:normal;font-family:Menlo,'DejaVu Sans Mono',consolas,'Courier New',monospace\"><span style=\"color: #7fbfbf; text-decoration-color: #7fbfbf\">                    </span><span style=\"color: #000080; text-decoration-color: #000080\">INFO    </span> <span style=\"color: #0000ff; text-decoration-color: #0000ff\">train</span>  - <span style=\"font-weight: bold\">(</span>Valid<span style=\"font-weight: bold\">)</span> bce:  <span style=\"color: #008080; text-decoration-color: #008080; font-weight: bold\">0.4084</span>,  acc: <span style=\"color: #008080; text-decoration-color: #008080; font-weight: bold\">89.505</span> %,pearson: <span style=\"color: #008080; text-decoration-color: #008080; font-weight: bold\">0.642</span>,  <a href=\"file:///n/home09/pren/3DGeno_tools/src/gt3d/modules/higashi/Higashi_wrapper.py\" target=\"_blank\"><span style=\"color: #7f7f7f; text-decoration-color: #7f7f7f\">Higashi_wrapper.py</span></a><span style=\"color: #7f7f7f; text-decoration-color: #7f7f7f\">:</span><a href=\"file:///n/home09/pren/3DGeno_tools/src/gt3d/modules/higashi/Higashi_wrapper.py#1277\" target=\"_blank\"><span style=\"color: #7f7f7f; text-decoration-color: #7f7f7f\">1277</span></a>\n",
       "<span style=\"color: #7fbfbf; text-decoration-color: #7fbfbf\">                    </span>         spearman: <span style=\"color: #008080; text-decoration-color: #008080; font-weight: bold\">0.563</span>,elapse: <span style=\"color: #008080; text-decoration-color: #008080; font-weight: bold\">0.052</span> s                                <span style=\"color: #7f7f7f; text-decoration-color: #7f7f7f\">                       </span>\n",
       "</pre>\n"
      ],
      "text/plain": [
       "\u001b[2;36m                   \u001b[0m\u001b[2;36m \u001b[0m\u001b[34mINFO    \u001b[0m \u001b[94mtrain\u001b[0m  - \u001b[1m(\u001b[0mValid\u001b[1m)\u001b[0m bce:  \u001b[1;36m0.4084\u001b[0m,  acc: \u001b[1;36m89.505\u001b[0m %,pearson: \u001b[1;36m0.642\u001b[0m,  \u001b]8;id=452302;file:///n/home09/pren/3DGeno_tools/src/gt3d/modules/higashi/Higashi_wrapper.py\u001b\\\u001b[2mHigashi_wrapper.py\u001b[0m\u001b]8;;\u001b\\\u001b[2m:\u001b[0m\u001b]8;id=94522;file:///n/home09/pren/3DGeno_tools/src/gt3d/modules/higashi/Higashi_wrapper.py#1277\u001b\\\u001b[2m1277\u001b[0m\u001b]8;;\u001b\\\n",
       "\u001b[2;36m                    \u001b[0m         spearman: \u001b[1;36m0.563\u001b[0m,elapse: \u001b[1;36m0.052\u001b[0m s                                \u001b[2m                       \u001b[0m\n"
      ]
     },
     "metadata": {},
     "output_type": "display_data"
    },
    {
     "data": {
      "text/html": [
       "<pre style=\"white-space:pre;overflow-x:auto;line-height:normal;font-family:Menlo,'DejaVu Sans Mono',consolas,'Courier New',monospace\"><span style=\"color: #7fbfbf; text-decoration-color: #7fbfbf\">                    </span><span style=\"color: #000080; text-decoration-color: #000080\">INFO    </span> <span style=\"color: #0000ff; text-decoration-color: #0000ff\">train</span> update_rate: <span style=\"color: #008080; text-decoration-color: #008080; font-weight: bold\">0.002407</span>     <span style=\"color: #008080; text-decoration-color: #008080; font-weight: bold\">0.122268</span>                       <a href=\"file:///n/home09/pren/3DGeno_tools/src/gt3d/modules/higashi/Higashi_wrapper.py\" target=\"_blank\"><span style=\"color: #7f7f7f; text-decoration-color: #7f7f7f\">Higashi_wrapper.py</span></a><span style=\"color: #7f7f7f; text-decoration-color: #7f7f7f\">:</span><a href=\"file:///n/home09/pren/3DGeno_tools/src/gt3d/modules/higashi/Higashi_wrapper.py#1323\" target=\"_blank\"><span style=\"color: #7f7f7f; text-decoration-color: #7f7f7f\">1323</span></a>\n",
       "</pre>\n"
      ],
      "text/plain": [
       "\u001b[2;36m                   \u001b[0m\u001b[2;36m \u001b[0m\u001b[34mINFO    \u001b[0m \u001b[94mtrain\u001b[0m update_rate: \u001b[1;36m0.002407\u001b[0m     \u001b[1;36m0.122268\u001b[0m                       \u001b]8;id=326951;file:///n/home09/pren/3DGeno_tools/src/gt3d/modules/higashi/Higashi_wrapper.py\u001b\\\u001b[2mHigashi_wrapper.py\u001b[0m\u001b]8;;\u001b\\\u001b[2m:\u001b[0m\u001b]8;id=994116;file:///n/home09/pren/3DGeno_tools/src/gt3d/modules/higashi/Higashi_wrapper.py#1323\u001b\\\u001b[2m1323\u001b[0m\u001b]8;;\u001b\\\n"
      ]
     },
     "metadata": {},
     "output_type": "display_data"
    },
    {
     "data": {
      "text/html": [
       "<pre style=\"white-space:pre;overflow-x:auto;line-height:normal;font-family:Menlo,'DejaVu Sans Mono',consolas,'Courier New',monospace\"><span style=\"color: #7fbfbf; text-decoration-color: #7fbfbf\">                    </span><span style=\"color: #000080; text-decoration-color: #000080\">INFO    </span> <span style=\"color: #0000ff; text-decoration-color: #0000ff\">train</span> <span style=\"font-weight: bold\">[</span> Epoch <span style=\"color: #008080; text-decoration-color: #008080; font-weight: bold\">64</span> of <span style=\"color: #008080; text-decoration-color: #008080; font-weight: bold\">200</span> <span style=\"font-weight: bold\">]</span>                                      <a href=\"file:///n/home09/pren/3DGeno_tools/src/gt3d/modules/higashi/Higashi_wrapper.py\" target=\"_blank\"><span style=\"color: #7f7f7f; text-decoration-color: #7f7f7f\">Higashi_wrapper.py</span></a><span style=\"color: #7f7f7f; text-decoration-color: #7f7f7f\">:</span><a href=\"file:///n/home09/pren/3DGeno_tools/src/gt3d/modules/higashi/Higashi_wrapper.py#1245\" target=\"_blank\"><span style=\"color: #7f7f7f; text-decoration-color: #7f7f7f\">1245</span></a>\n",
       "</pre>\n"
      ],
      "text/plain": [
       "\u001b[2;36m                   \u001b[0m\u001b[2;36m \u001b[0m\u001b[34mINFO    \u001b[0m \u001b[94mtrain\u001b[0m \u001b[1m[\u001b[0m Epoch \u001b[1;36m64\u001b[0m of \u001b[1;36m200\u001b[0m \u001b[1m]\u001b[0m                                      \u001b]8;id=897240;file:///n/home09/pren/3DGeno_tools/src/gt3d/modules/higashi/Higashi_wrapper.py\u001b\\\u001b[2mHigashi_wrapper.py\u001b[0m\u001b]8;;\u001b\\\u001b[2m:\u001b[0m\u001b]8;id=306693;file:///n/home09/pren/3DGeno_tools/src/gt3d/modules/higashi/Higashi_wrapper.py#1245\u001b\\\u001b[2m1245\u001b[0m\u001b]8;;\u001b\\\n"
      ]
     },
     "metadata": {},
     "output_type": "display_data"
    },
    {
     "data": {
      "application/vnd.jupyter.widget-view+json": {
       "model_id": "da19da49d6ee4a78b7b2833d0c9c5eea",
       "version_major": 2,
       "version_minor": 0
      },
      "text/plain": [
       "Output()"
      ]
     },
     "metadata": {},
     "output_type": "display_data"
    },
    {
     "name": "stderr",
     "output_type": "stream",
     "text": [
      "Process ForkProcess-199:\n",
      "Process ForkProcess-193:\n",
      "Process ForkProcess-195:\n",
      "Process ForkProcess-196:\n",
      "Process ForkProcess-197:\n",
      "Process ForkProcess-194:\n",
      "Process ForkProcess-198:\n",
      "Process ForkProcess-200:\n",
      "Process ForkProcess-201:\n",
      "Process ForkProcess-202:\n",
      "Traceback (most recent call last):\n",
      "Traceback (most recent call last):\n",
      "Traceback (most recent call last):\n",
      "Traceback (most recent call last):\n",
      "Traceback (most recent call last):\n",
      "Traceback (most recent call last):\n",
      "Traceback (most recent call last):\n",
      "Traceback (most recent call last):\n",
      "Traceback (most recent call last):\n",
      "Traceback (most recent call last):\n",
      "  File \"/n/home09/pren/.conda/envs/gt3d/lib/python3.10/multiprocessing/process.py\", line 314, in _bootstrap\n",
      "    self.run()\n",
      "  File \"/n/home09/pren/.conda/envs/gt3d/lib/python3.10/multiprocessing/process.py\", line 314, in _bootstrap\n",
      "    self.run()\n",
      "  File \"/n/home09/pren/.conda/envs/gt3d/lib/python3.10/multiprocessing/process.py\", line 314, in _bootstrap\n",
      "    self.run()\n",
      "  File \"/n/home09/pren/.conda/envs/gt3d/lib/python3.10/multiprocessing/process.py\", line 314, in _bootstrap\n",
      "    self.run()\n",
      "  File \"/n/home09/pren/.conda/envs/gt3d/lib/python3.10/multiprocessing/process.py\", line 314, in _bootstrap\n",
      "    self.run()\n",
      "  File \"/n/home09/pren/.conda/envs/gt3d/lib/python3.10/multiprocessing/process.py\", line 314, in _bootstrap\n",
      "    self.run()\n",
      "  File \"/n/home09/pren/.conda/envs/gt3d/lib/python3.10/multiprocessing/process.py\", line 314, in _bootstrap\n",
      "    self.run()\n",
      "  File \"/n/home09/pren/.conda/envs/gt3d/lib/python3.10/multiprocessing/process.py\", line 314, in _bootstrap\n",
      "    self.run()\n",
      "  File \"/n/home09/pren/.conda/envs/gt3d/lib/python3.10/multiprocessing/process.py\", line 314, in _bootstrap\n",
      "    self.run()\n",
      "  File \"/n/home09/pren/.conda/envs/gt3d/lib/python3.10/multiprocessing/process.py\", line 314, in _bootstrap\n",
      "    self.run()\n",
      "  File \"/n/home09/pren/.conda/envs/gt3d/lib/python3.10/multiprocessing/process.py\", line 108, in run\n",
      "    self._target(*self._args, **self._kwargs)\n",
      "  File \"/n/home09/pren/.conda/envs/gt3d/lib/python3.10/multiprocessing/process.py\", line 108, in run\n",
      "    self._target(*self._args, **self._kwargs)\n",
      "  File \"/n/home09/pren/.conda/envs/gt3d/lib/python3.10/multiprocessing/process.py\", line 108, in run\n",
      "    self._target(*self._args, **self._kwargs)\n",
      "  File \"/n/home09/pren/.conda/envs/gt3d/lib/python3.10/multiprocessing/process.py\", line 108, in run\n",
      "    self._target(*self._args, **self._kwargs)\n",
      "  File \"/n/home09/pren/.conda/envs/gt3d/lib/python3.10/multiprocessing/process.py\", line 108, in run\n",
      "    self._target(*self._args, **self._kwargs)\n",
      "  File \"/n/home09/pren/.conda/envs/gt3d/lib/python3.10/multiprocessing/process.py\", line 108, in run\n",
      "    self._target(*self._args, **self._kwargs)\n",
      "  File \"/n/home09/pren/.conda/envs/gt3d/lib/python3.10/multiprocessing/process.py\", line 108, in run\n",
      "    self._target(*self._args, **self._kwargs)\n",
      "  File \"/n/home09/pren/.conda/envs/gt3d/lib/python3.10/multiprocessing/process.py\", line 108, in run\n",
      "    self._target(*self._args, **self._kwargs)\n",
      "  File \"/n/home09/pren/.conda/envs/gt3d/lib/python3.10/multiprocessing/process.py\", line 108, in run\n",
      "    self._target(*self._args, **self._kwargs)\n",
      "  File \"/n/home09/pren/.conda/envs/gt3d/lib/python3.10/multiprocessing/process.py\", line 108, in run\n",
      "    self._target(*self._args, **self._kwargs)\n",
      "  File \"/n/home09/pren/.conda/envs/gt3d/lib/python3.10/concurrent/futures/process.py\", line 240, in _process_worker\n",
      "    call_item = call_queue.get(block=True)\n",
      "  File \"/n/home09/pren/.conda/envs/gt3d/lib/python3.10/concurrent/futures/process.py\", line 240, in _process_worker\n",
      "    call_item = call_queue.get(block=True)\n",
      "  File \"/n/home09/pren/.conda/envs/gt3d/lib/python3.10/concurrent/futures/process.py\", line 240, in _process_worker\n",
      "    call_item = call_queue.get(block=True)\n",
      "  File \"/n/home09/pren/.conda/envs/gt3d/lib/python3.10/concurrent/futures/process.py\", line 240, in _process_worker\n",
      "    call_item = call_queue.get(block=True)\n",
      "  File \"/n/home09/pren/.conda/envs/gt3d/lib/python3.10/concurrent/futures/process.py\", line 240, in _process_worker\n",
      "    call_item = call_queue.get(block=True)\n",
      "  File \"/n/home09/pren/.conda/envs/gt3d/lib/python3.10/concurrent/futures/process.py\", line 240, in _process_worker\n",
      "    call_item = call_queue.get(block=True)\n",
      "  File \"/n/home09/pren/.conda/envs/gt3d/lib/python3.10/concurrent/futures/process.py\", line 240, in _process_worker\n",
      "    call_item = call_queue.get(block=True)\n",
      "  File \"/n/home09/pren/.conda/envs/gt3d/lib/python3.10/concurrent/futures/process.py\", line 240, in _process_worker\n",
      "    call_item = call_queue.get(block=True)\n",
      "  File \"/n/home09/pren/.conda/envs/gt3d/lib/python3.10/concurrent/futures/process.py\", line 240, in _process_worker\n",
      "    call_item = call_queue.get(block=True)\n",
      "  File \"/n/home09/pren/.conda/envs/gt3d/lib/python3.10/concurrent/futures/process.py\", line 240, in _process_worker\n",
      "    call_item = call_queue.get(block=True)\n",
      "  File \"/n/home09/pren/.conda/envs/gt3d/lib/python3.10/multiprocessing/queues.py\", line 102, in get\n",
      "    with self._rlock:\n",
      "  File \"/n/home09/pren/.conda/envs/gt3d/lib/python3.10/multiprocessing/queues.py\", line 102, in get\n",
      "    with self._rlock:\n",
      "  File \"/n/home09/pren/.conda/envs/gt3d/lib/python3.10/multiprocessing/queues.py\", line 102, in get\n",
      "    with self._rlock:\n",
      "  File \"/n/home09/pren/.conda/envs/gt3d/lib/python3.10/multiprocessing/queues.py\", line 102, in get\n",
      "    with self._rlock:\n",
      "  File \"/n/home09/pren/.conda/envs/gt3d/lib/python3.10/multiprocessing/queues.py\", line 102, in get\n",
      "    with self._rlock:\n",
      "  File \"/n/home09/pren/.conda/envs/gt3d/lib/python3.10/multiprocessing/queues.py\", line 102, in get\n",
      "    with self._rlock:\n",
      "  File \"/n/home09/pren/.conda/envs/gt3d/lib/python3.10/multiprocessing/queues.py\", line 102, in get\n",
      "    with self._rlock:\n",
      "  File \"/n/home09/pren/.conda/envs/gt3d/lib/python3.10/multiprocessing/queues.py\", line 102, in get\n",
      "    with self._rlock:\n",
      "  File \"/n/home09/pren/.conda/envs/gt3d/lib/python3.10/multiprocessing/queues.py\", line 102, in get\n",
      "    with self._rlock:\n",
      "  File \"/n/home09/pren/.conda/envs/gt3d/lib/python3.10/multiprocessing/queues.py\", line 103, in get\n",
      "    res = self._recv_bytes()\n",
      "  File \"/n/home09/pren/.conda/envs/gt3d/lib/python3.10/multiprocessing/synchronize.py\", line 95, in __enter__\n",
      "    return self._semlock.__enter__()\n",
      "  File \"/n/home09/pren/.conda/envs/gt3d/lib/python3.10/multiprocessing/synchronize.py\", line 95, in __enter__\n",
      "    return self._semlock.__enter__()\n",
      "  File \"/n/home09/pren/.conda/envs/gt3d/lib/python3.10/multiprocessing/synchronize.py\", line 95, in __enter__\n",
      "    return self._semlock.__enter__()\n",
      "  File \"/n/home09/pren/.conda/envs/gt3d/lib/python3.10/multiprocessing/synchronize.py\", line 95, in __enter__\n",
      "    return self._semlock.__enter__()\n",
      "  File \"/n/home09/pren/.conda/envs/gt3d/lib/python3.10/multiprocessing/synchronize.py\", line 95, in __enter__\n",
      "    return self._semlock.__enter__()\n",
      "  File \"/n/home09/pren/.conda/envs/gt3d/lib/python3.10/multiprocessing/synchronize.py\", line 95, in __enter__\n",
      "    return self._semlock.__enter__()\n",
      "  File \"/n/home09/pren/.conda/envs/gt3d/lib/python3.10/multiprocessing/synchronize.py\", line 95, in __enter__\n",
      "    return self._semlock.__enter__()\n",
      "  File \"/n/home09/pren/.conda/envs/gt3d/lib/python3.10/multiprocessing/synchronize.py\", line 95, in __enter__\n",
      "    return self._semlock.__enter__()\n",
      "  File \"/n/home09/pren/.conda/envs/gt3d/lib/python3.10/multiprocessing/synchronize.py\", line 95, in __enter__\n",
      "    return self._semlock.__enter__()\n",
      "  File \"/n/home09/pren/.conda/envs/gt3d/lib/python3.10/multiprocessing/connection.py\", line 216, in recv_bytes\n",
      "    buf = self._recv_bytes(maxlength)\n",
      "KeyboardInterrupt\n"
     ]
    },
    {
     "ename": "KeyboardInterrupt",
     "evalue": "",
     "output_type": "error",
     "traceback": [
      "\u001b[0;31m---------------------------------------------------------------------------\u001b[0m",
      "\u001b[0;31mKeyboardInterrupt\u001b[0m                         Traceback (most recent call last)",
      "Cell \u001b[0;32mIn[19], line 2\u001b[0m\n\u001b[1;32m      1\u001b[0m \u001b[38;5;66;03m# Stage 1 training\u001b[39;00m\n\u001b[0;32m----> 2\u001b[0m \u001b[43mhigashi_model\u001b[49m\u001b[38;5;241;43m.\u001b[39;49m\u001b[43mtrain_for_embeddings\u001b[49m\u001b[43m(\u001b[49m\u001b[43m)\u001b[49m\n",
      "File \u001b[0;32m~/3DGeno_tools/src/gt3d/modules/higashi/Higashi_wrapper.py:1599\u001b[0m, in \u001b[0;36mHigashi.train_for_embeddings\u001b[0;34m(self, max_epochs)\u001b[0m\n\u001b[1;32m   1597\u001b[0m \u001b[38;5;28mself\u001b[39m\u001b[38;5;241m.\u001b[39mhigashi_model\u001b[38;5;241m.\u001b[39monly_distance \u001b[38;5;241m=\u001b[39m \u001b[38;5;28;01mFalse\u001b[39;00m\n\u001b[1;32m   1598\u001b[0m \u001b[38;5;28mself\u001b[39m\u001b[38;5;241m.\u001b[39muse_recon \u001b[38;5;241m=\u001b[39m \u001b[38;5;28;01mTrue\u001b[39;00m\n\u001b[0;32m-> 1599\u001b[0m \u001b[38;5;28;43mself\u001b[39;49m\u001b[38;5;241;43m.\u001b[39;49m\u001b[43mtrain\u001b[49m\u001b[43m(\u001b[49m\n\u001b[1;32m   1600\u001b[0m \u001b[43m    \u001b[49m\u001b[43mtraining_data_generator\u001b[49m\u001b[38;5;241;43m=\u001b[39;49m\u001b[38;5;28;43mself\u001b[39;49m\u001b[38;5;241;43m.\u001b[39;49m\u001b[43mtraining_data_generator\u001b[49m\u001b[43m,\u001b[49m\n\u001b[1;32m   1601\u001b[0m \u001b[43m    \u001b[49m\u001b[43mvalidation_data_generator\u001b[49m\u001b[38;5;241;43m=\u001b[39;49m\u001b[38;5;28;43mself\u001b[39;49m\u001b[38;5;241;43m.\u001b[39;49m\u001b[43mvalidation_data_generator\u001b[49m\u001b[43m,\u001b[49m\n\u001b[1;32m   1602\u001b[0m \u001b[43m    \u001b[49m\u001b[43moptimizer\u001b[49m\u001b[38;5;241;43m=\u001b[39;49m\u001b[43m[\u001b[49m\u001b[43moptimizer\u001b[49m\u001b[43m]\u001b[49m\u001b[43m,\u001b[49m\u001b[43m \u001b[49m\u001b[43mepochs\u001b[49m\u001b[38;5;241;43m=\u001b[39;49m\u001b[38;5;28;43mself\u001b[39;49m\u001b[38;5;241;43m.\u001b[39;49m\u001b[43membedding_epoch\u001b[49m\u001b[43m \u001b[49m\u001b[38;5;28;43;01mif\u001b[39;49;00m\u001b[43m \u001b[49m\u001b[43mmax_epochs\u001b[49m\u001b[43m \u001b[49m\u001b[38;5;129;43;01mis\u001b[39;49;00m\u001b[43m \u001b[49m\u001b[38;5;28;43;01mNone\u001b[39;49;00m\u001b[43m \u001b[49m\u001b[38;5;28;43;01melse\u001b[39;49;00m\u001b[43m \u001b[49m\u001b[43mmax_epochs\u001b[49m\u001b[43m,\u001b[49m\n\u001b[1;32m   1603\u001b[0m \u001b[43m    \u001b[49m\u001b[43mload_first\u001b[49m\u001b[38;5;241;43m=\u001b[39;49m\u001b[38;5;28;43;01mFalse\u001b[39;49;00m\u001b[43m,\u001b[49m\u001b[43m \u001b[49m\u001b[43msave_embed\u001b[49m\u001b[38;5;241;43m=\u001b[39;49m\u001b[38;5;28;43;01mTrue\u001b[39;49;00m\u001b[43m,\u001b[49m\u001b[43m \u001b[49m\u001b[43msave_name\u001b[49m\u001b[38;5;241;43m=\u001b[39;49m\u001b[38;5;124;43m\"\u001b[39;49m\u001b[38;5;124;43m_stage1\u001b[39;49m\u001b[38;5;124;43m\"\u001b[39;49m\u001b[43m)\u001b[49m\n\u001b[1;32m   1605\u001b[0m checkpoint \u001b[38;5;241m=\u001b[39m {\n\u001b[1;32m   1606\u001b[0m     \u001b[38;5;124m'\u001b[39m\u001b[38;5;124mmodel_link\u001b[39m\u001b[38;5;124m'\u001b[39m: \u001b[38;5;28mself\u001b[39m\u001b[38;5;241m.\u001b[39mhigashi_model\u001b[38;5;241m.\u001b[39mstate_dict()}\n\u001b[1;32m   1608\u001b[0m torch\u001b[38;5;241m.\u001b[39msave(checkpoint, \u001b[38;5;28mself\u001b[39m\u001b[38;5;241m.\u001b[39msave_path \u001b[38;5;241m+\u001b[39m \u001b[38;5;124m\"\u001b[39m\u001b[38;5;124m_stage1\u001b[39m\u001b[38;5;124m\"\u001b[39m)\n",
      "File \u001b[0;32m~/3DGeno_tools/src/gt3d/modules/higashi/Higashi_wrapper.py:1256\u001b[0m, in \u001b[0;36mHigashi.train\u001b[0;34m(self, training_data_generator, validation_data_generator, optimizer, epochs, load_first, save_embed, save_name)\u001b[0m\n\u001b[1;32m   1249\u001b[0m     eval_p_list\u001b[38;5;241m.\u001b[39mappend(\n\u001b[1;32m   1250\u001b[0m         eval_pool\u001b[38;5;241m.\u001b[39msubmit(one_thread_generate_neg, edges_part, edges_chrom, edge_weight_part,\n\u001b[1;32m   1251\u001b[0m                          \u001b[38;5;241m1\u001b[39m, \u001b[38;5;28;01mFalse\u001b[39;00m,\n\u001b[1;32m   1252\u001b[0m                          chroms_in_batch))\n\u001b[1;32m   1254\u001b[0m start \u001b[38;5;241m=\u001b[39m time\u001b[38;5;241m.\u001b[39mtime()\n\u001b[0;32m-> 1256\u001b[0m bce_loss, mse_loss, train_accu, auc1, auc2, str1, str2, train_pool, train_p_list \u001b[38;5;241m=\u001b[39m \u001b[38;5;28;43mself\u001b[39;49m\u001b[38;5;241;43m.\u001b[39;49m\u001b[43mtrain_epoch\u001b[49m\u001b[43m(\u001b[49m\n\u001b[1;32m   1257\u001b[0m \u001b[43m    \u001b[49m\u001b[43mtraining_data_generator\u001b[49m\u001b[43m,\u001b[49m\u001b[43m \u001b[49m\u001b[43moptimizer\u001b[49m\u001b[43m,\u001b[49m\u001b[43m \u001b[49m\u001b[43mtrain_pool\u001b[49m\u001b[43m,\u001b[49m\u001b[43m \u001b[49m\u001b[43mtrain_p_list\u001b[49m\u001b[43m)\u001b[49m\n\u001b[1;32m   1258\u001b[0m logger\u001b[38;5;241m.\u001b[39minfo(\n\u001b[1;32m   1259\u001b[0m     \u001b[38;5;124m'\u001b[39m\u001b[38;5;124m - (Train) bce: \u001b[39m\u001b[38;5;132;01m{bce_loss: 7.4f}\u001b[39;00m\u001b[38;5;124m, mse: \u001b[39m\u001b[38;5;132;01m{mse_loss: 7.4f}\u001b[39;00m\u001b[38;5;124m, \u001b[39m\u001b[38;5;124m'\u001b[39m\n\u001b[1;32m   1260\u001b[0m     \u001b[38;5;124m'\u001b[39m\u001b[38;5;124m acc: \u001b[39m\u001b[38;5;132;01m{accu:3.3f}\u001b[39;00m\u001b[38;5;124m \u001b[39m\u001b[38;5;124m%\u001b[39m\u001b[38;5;124m, \u001b[39m\u001b[38;5;132;01m{str1}\u001b[39;00m\u001b[38;5;124m: \u001b[39m\u001b[38;5;132;01m{auc1:3.3f}\u001b[39;00m\u001b[38;5;124m, \u001b[39m\u001b[38;5;132;01m{str2}\u001b[39;00m\u001b[38;5;124m: \u001b[39m\u001b[38;5;132;01m{auc2:3.3f}\u001b[39;00m\u001b[38;5;124m, \u001b[39m\u001b[38;5;124m'\u001b[39m\n\u001b[0;32m   (...)\u001b[0m\n\u001b[1;32m   1271\u001b[0m     )\n\u001b[1;32m   1272\u001b[0m )\n\u001b[1;32m   1274\u001b[0m start \u001b[38;5;241m=\u001b[39m time\u001b[38;5;241m.\u001b[39mtime()\n",
      "File \u001b[0;32m~/3DGeno_tools/src/gt3d/modules/higashi/Higashi_wrapper.py:1060\u001b[0m, in \u001b[0;36mHigashi.train_epoch\u001b[0;34m(self, training_data_generator, optimizer_list, train_pool, train_p_list)\u001b[0m\n\u001b[1;32m   1054\u001b[0m batch_edge, batch_edge_weight, batch_y, batch_chrom \u001b[38;5;241m=\u001b[39m \u001b[38;5;28mmap\u001b[39m(\n\u001b[1;32m   1055\u001b[0m     \u001b[38;5;28;01mlambda\u001b[39;00m x: x[s],\n\u001b[1;32m   1056\u001b[0m     (batch_edge_big, batch_edge_weight_big, batch_y_big, batch_chrom_big),\n\u001b[1;32m   1057\u001b[0m )\n\u001b[1;32m   1058\u001b[0m batch_to_neighs \u001b[38;5;241m=\u001b[39m batch_to_neighs_big[j]\n\u001b[0;32m-> 1060\u001b[0m pred, loss_bce, loss_mse \u001b[38;5;241m=\u001b[39m \u001b[38;5;28;43mself\u001b[39;49m\u001b[38;5;241;43m.\u001b[39;49m\u001b[43mforward_batch_hyperedge\u001b[49m\u001b[43m(\u001b[49m\u001b[43mbatch_edge\u001b[49m\u001b[43m,\u001b[49m\n\u001b[1;32m   1061\u001b[0m \u001b[43m                                                        \u001b[49m\u001b[43mbatch_edge_weight\u001b[49m\u001b[43m,\u001b[49m\u001b[43m \u001b[49m\u001b[43mbatch_chrom\u001b[49m\u001b[43m,\u001b[49m\n\u001b[1;32m   1062\u001b[0m \u001b[43m                                                        \u001b[49m\u001b[43mbatch_to_neighs\u001b[49m\u001b[43m,\u001b[49m\u001b[43m \u001b[49m\u001b[43my\u001b[49m\u001b[38;5;241;43m=\u001b[39;49m\u001b[43mbatch_y\u001b[49m\u001b[43m,\u001b[49m\n\u001b[1;32m   1063\u001b[0m \u001b[43m                                                        \u001b[49m\u001b[43mchroms_in_batch\u001b[49m\u001b[38;5;241;43m=\u001b[39;49m\u001b[43mchroms_in_batch\u001b[49m\u001b[43m)\u001b[49m\n\u001b[1;32m   1065\u001b[0m y_list\u001b[38;5;241m.\u001b[39mappend(batch_y\u001b[38;5;241m.\u001b[39mdetach()\u001b[38;5;241m.\u001b[39mcpu())\n\u001b[1;32m   1066\u001b[0m w_list\u001b[38;5;241m.\u001b[39mappend(batch_edge_weight\u001b[38;5;241m.\u001b[39mdetach()\u001b[38;5;241m.\u001b[39mcpu())\n",
      "File \u001b[0;32m~/3DGeno_tools/src/gt3d/modules/higashi/Higashi_wrapper.py:976\u001b[0m, in \u001b[0;36mHigashi.forward_batch_hyperedge\u001b[0;34m(self, batch_data, batch_weight, batch_chrom, batch_to_neighs, y, chroms_in_batch)\u001b[0m\n\u001b[1;32m    974\u001b[0m w \u001b[38;5;241m=\u001b[39m batch_weight\n\u001b[1;32m    975\u001b[0m \u001b[38;5;66;03m# plus one, because chr1 - id 0 - NN1\u001b[39;00m\n\u001b[0;32m--> 976\u001b[0m pred, pred_var, pred_proba \u001b[38;5;241m=\u001b[39m \u001b[43mmodel\u001b[49m\u001b[43m(\u001b[49m\u001b[43mx\u001b[49m\u001b[43m,\u001b[49m\u001b[43m \u001b[49m\u001b[43m(\u001b[49m\u001b[43mbatch_chrom\u001b[49m\u001b[43m,\u001b[49m\u001b[43m \u001b[49m\u001b[43mbatch_to_neighs\u001b[49m\u001b[43m)\u001b[49m\u001b[43m,\u001b[49m\u001b[43m \u001b[49m\u001b[43mchroms_in_batch\u001b[49m\u001b[38;5;241;43m=\u001b[39;49m\u001b[43mchroms_in_batch\u001b[49m\u001b[43m \u001b[49m\u001b[38;5;241;43m+\u001b[39;49m\u001b[43m \u001b[49m\u001b[38;5;241;43m1\u001b[39;49m\u001b[43m)\u001b[49m\n\u001b[1;32m    978\u001b[0m \u001b[38;5;28;01mif\u001b[39;00m \u001b[38;5;28mself\u001b[39m\u001b[38;5;241m.\u001b[39muse_recon:\n\u001b[1;32m    979\u001b[0m     adj \u001b[38;5;241m=\u001b[39m \u001b[38;5;28mself\u001b[39m\u001b[38;5;241m.\u001b[39mnode_embedding_init\u001b[38;5;241m.\u001b[39membeddings[\u001b[38;5;241m0\u001b[39m](\u001b[38;5;28mself\u001b[39m\u001b[38;5;241m.\u001b[39mcell_ids)\u001b[38;5;241m.\u001b[39mfloat()\n",
      "File \u001b[0;32m~/.conda/envs/gt3d/lib/python3.10/site-packages/torch/nn/modules/module.py:1736\u001b[0m, in \u001b[0;36mModule._wrapped_call_impl\u001b[0;34m(self, *args, **kwargs)\u001b[0m\n\u001b[1;32m   1734\u001b[0m     \u001b[38;5;28;01mreturn\u001b[39;00m \u001b[38;5;28mself\u001b[39m\u001b[38;5;241m.\u001b[39m_compiled_call_impl(\u001b[38;5;241m*\u001b[39margs, \u001b[38;5;241m*\u001b[39m\u001b[38;5;241m*\u001b[39mkwargs)  \u001b[38;5;66;03m# type: ignore[misc]\u001b[39;00m\n\u001b[1;32m   1735\u001b[0m \u001b[38;5;28;01melse\u001b[39;00m:\n\u001b[0;32m-> 1736\u001b[0m     \u001b[38;5;28;01mreturn\u001b[39;00m \u001b[38;5;28;43mself\u001b[39;49m\u001b[38;5;241;43m.\u001b[39;49m\u001b[43m_call_impl\u001b[49m\u001b[43m(\u001b[49m\u001b[38;5;241;43m*\u001b[39;49m\u001b[43margs\u001b[49m\u001b[43m,\u001b[49m\u001b[43m \u001b[49m\u001b[38;5;241;43m*\u001b[39;49m\u001b[38;5;241;43m*\u001b[39;49m\u001b[43mkwargs\u001b[49m\u001b[43m)\u001b[49m\n",
      "File \u001b[0;32m~/.conda/envs/gt3d/lib/python3.10/site-packages/torch/nn/modules/module.py:1747\u001b[0m, in \u001b[0;36mModule._call_impl\u001b[0;34m(self, *args, **kwargs)\u001b[0m\n\u001b[1;32m   1742\u001b[0m \u001b[38;5;66;03m# If we don't have any hooks, we want to skip the rest of the logic in\u001b[39;00m\n\u001b[1;32m   1743\u001b[0m \u001b[38;5;66;03m# this function, and just call forward.\u001b[39;00m\n\u001b[1;32m   1744\u001b[0m \u001b[38;5;28;01mif\u001b[39;00m \u001b[38;5;129;01mnot\u001b[39;00m (\u001b[38;5;28mself\u001b[39m\u001b[38;5;241m.\u001b[39m_backward_hooks \u001b[38;5;129;01mor\u001b[39;00m \u001b[38;5;28mself\u001b[39m\u001b[38;5;241m.\u001b[39m_backward_pre_hooks \u001b[38;5;129;01mor\u001b[39;00m \u001b[38;5;28mself\u001b[39m\u001b[38;5;241m.\u001b[39m_forward_hooks \u001b[38;5;129;01mor\u001b[39;00m \u001b[38;5;28mself\u001b[39m\u001b[38;5;241m.\u001b[39m_forward_pre_hooks\n\u001b[1;32m   1745\u001b[0m         \u001b[38;5;129;01mor\u001b[39;00m _global_backward_pre_hooks \u001b[38;5;129;01mor\u001b[39;00m _global_backward_hooks\n\u001b[1;32m   1746\u001b[0m         \u001b[38;5;129;01mor\u001b[39;00m _global_forward_hooks \u001b[38;5;129;01mor\u001b[39;00m _global_forward_pre_hooks):\n\u001b[0;32m-> 1747\u001b[0m     \u001b[38;5;28;01mreturn\u001b[39;00m \u001b[43mforward_call\u001b[49m\u001b[43m(\u001b[49m\u001b[38;5;241;43m*\u001b[39;49m\u001b[43margs\u001b[49m\u001b[43m,\u001b[49m\u001b[43m \u001b[49m\u001b[38;5;241;43m*\u001b[39;49m\u001b[38;5;241;43m*\u001b[39;49m\u001b[43mkwargs\u001b[49m\u001b[43m)\u001b[49m\n\u001b[1;32m   1749\u001b[0m result \u001b[38;5;241m=\u001b[39m \u001b[38;5;28;01mNone\u001b[39;00m\n\u001b[1;32m   1750\u001b[0m called_always_called_hooks \u001b[38;5;241m=\u001b[39m \u001b[38;5;28mset\u001b[39m()\n",
      "File \u001b[0;32m~/3DGeno_tools/src/gt3d/modules/higashi/Higashi_backend/Modules.py:766\u001b[0m, in \u001b[0;36mHyper_SAGNN.forward\u001b[0;34m(self, x, x_chrom, mask, chroms_in_batch)\u001b[0m\n\u001b[1;32m    760\u001b[0m     \u001b[38;5;28;01mreturn\u001b[39;00m distance_proba2, distance_proba3, distance_proba\n\u001b[1;32m    762\u001b[0m \u001b[38;5;28;01melse\u001b[39;00m:\n\u001b[1;32m    763\u001b[0m     \u001b[38;5;66;03m# slf_attn_mask = get_attn_key_pad_mask(seq_k=x, seq_q=x)\u001b[39;00m\n\u001b[1;32m    764\u001b[0m     \u001b[38;5;66;03m# non_pad_mask = get_non_pad_mask(x)\u001b[39;00m\n\u001b[0;32m--> 766\u001b[0m     dynamic, static \u001b[38;5;241m=\u001b[39m \u001b[38;5;28;43mself\u001b[39;49m\u001b[38;5;241;43m.\u001b[39;49m\u001b[43mget_embedding\u001b[49m\u001b[43m(\u001b[49m\u001b[43mx\u001b[49m\u001b[43m,\u001b[49m\u001b[43m \u001b[49m\u001b[43mx_chrom\u001b[49m\u001b[43m,\u001b[49m\u001b[43m \u001b[49m\u001b[43mchroms_in_batch\u001b[49m\u001b[38;5;241;43m=\u001b[39;49m\u001b[43mchroms_in_batch\u001b[49m\u001b[43m)\u001b[49m\n\u001b[1;32m    767\u001b[0m     dynamic, static \u001b[38;5;241m=\u001b[39m \u001b[38;5;28mself\u001b[39m\u001b[38;5;241m.\u001b[39mlayer_norm1(dynamic), \u001b[38;5;28mself\u001b[39m\u001b[38;5;241m.\u001b[39mlayer_norm2(static)\n\u001b[1;32m    769\u001b[0m     output_proba \u001b[38;5;241m=\u001b[39m \u001b[38;5;28mself\u001b[39m\u001b[38;5;241m.\u001b[39mpff_classifier_proba(static)\n",
      "File \u001b[0;32m~/3DGeno_tools/src/gt3d/modules/higashi/Higashi_backend/Modules.py:700\u001b[0m, in \u001b[0;36mHyper_SAGNN.get_embedding\u001b[0;34m(self, x, x_chrom, slf_attn_mask, non_pad_mask, chroms_in_batch)\u001b[0m\n\u001b[1;32m    695\u001b[0m \u001b[38;5;28;01mdef\u001b[39;00m \u001b[38;5;21mget_embedding\u001b[39m(\u001b[38;5;28mself\u001b[39m, x, x_chrom, slf_attn_mask\u001b[38;5;241m=\u001b[39m\u001b[38;5;28;01mNone\u001b[39;00m, non_pad_mask\u001b[38;5;241m=\u001b[39m\u001b[38;5;28;01mNone\u001b[39;00m, chroms_in_batch\u001b[38;5;241m=\u001b[39m\u001b[38;5;28;01mNone\u001b[39;00m):\n\u001b[1;32m    696\u001b[0m     \u001b[38;5;66;03m# if slf_attn_mask is None:\u001b[39;00m\n\u001b[1;32m    697\u001b[0m     \u001b[38;5;66;03m# \tslf_attn_mask = get_attn_key_pad_mask(seq_k=x, seq_q=x)\u001b[39;00m\n\u001b[1;32m    698\u001b[0m     \u001b[38;5;66;03m# \tnon_pad_mask = get_non_pad_mask(x)\u001b[39;00m\n\u001b[0;32m--> 700\u001b[0m     dynamic, static \u001b[38;5;241m=\u001b[39m \u001b[38;5;28;43mself\u001b[39;49m\u001b[38;5;241;43m.\u001b[39;49m\u001b[43mencode1\u001b[49m\u001b[43m(\u001b[49m\u001b[43mx\u001b[49m\u001b[43m,\u001b[49m\u001b[43m \u001b[49m\u001b[43mx\u001b[49m\u001b[43m,\u001b[49m\u001b[43m \u001b[49m\u001b[43mx_chrom\u001b[49m\u001b[43m,\u001b[49m\u001b[43m \u001b[49m\u001b[43mslf_attn_mask\u001b[49m\u001b[43m,\u001b[49m\u001b[43m \u001b[49m\u001b[43mnon_pad_mask\u001b[49m\u001b[43m,\u001b[49m\u001b[43m \u001b[49m\u001b[43mchroms_in_batch\u001b[49m\u001b[38;5;241;43m=\u001b[39;49m\u001b[43mchroms_in_batch\u001b[49m\u001b[43m)\u001b[49m\n\u001b[1;32m    702\u001b[0m     \u001b[38;5;28;01mif\u001b[39;00m torch\u001b[38;5;241m.\u001b[39msum(torch\u001b[38;5;241m.\u001b[39misnan(dynamic)) \u001b[38;5;241m>\u001b[39m \u001b[38;5;241m0\u001b[39m:\n\u001b[1;32m    703\u001b[0m         logger\u001b[38;5;241m.\u001b[39merror(\u001b[38;5;124m\"\u001b[39m\u001b[38;5;124mnan error\u001b[39m\u001b[38;5;124m\"\u001b[39m, x, dynamic, static)\n",
      "File \u001b[0;32m~/.conda/envs/gt3d/lib/python3.10/site-packages/torch/nn/modules/module.py:1736\u001b[0m, in \u001b[0;36mModule._wrapped_call_impl\u001b[0;34m(self, *args, **kwargs)\u001b[0m\n\u001b[1;32m   1734\u001b[0m     \u001b[38;5;28;01mreturn\u001b[39;00m \u001b[38;5;28mself\u001b[39m\u001b[38;5;241m.\u001b[39m_compiled_call_impl(\u001b[38;5;241m*\u001b[39margs, \u001b[38;5;241m*\u001b[39m\u001b[38;5;241m*\u001b[39mkwargs)  \u001b[38;5;66;03m# type: ignore[misc]\u001b[39;00m\n\u001b[1;32m   1735\u001b[0m \u001b[38;5;28;01melse\u001b[39;00m:\n\u001b[0;32m-> 1736\u001b[0m     \u001b[38;5;28;01mreturn\u001b[39;00m \u001b[38;5;28;43mself\u001b[39;49m\u001b[38;5;241;43m.\u001b[39;49m\u001b[43m_call_impl\u001b[49m\u001b[43m(\u001b[49m\u001b[38;5;241;43m*\u001b[39;49m\u001b[43margs\u001b[49m\u001b[43m,\u001b[49m\u001b[43m \u001b[49m\u001b[38;5;241;43m*\u001b[39;49m\u001b[38;5;241;43m*\u001b[39;49m\u001b[43mkwargs\u001b[49m\u001b[43m)\u001b[49m\n",
      "File \u001b[0;32m~/.conda/envs/gt3d/lib/python3.10/site-packages/torch/nn/modules/module.py:1747\u001b[0m, in \u001b[0;36mModule._call_impl\u001b[0;34m(self, *args, **kwargs)\u001b[0m\n\u001b[1;32m   1742\u001b[0m \u001b[38;5;66;03m# If we don't have any hooks, we want to skip the rest of the logic in\u001b[39;00m\n\u001b[1;32m   1743\u001b[0m \u001b[38;5;66;03m# this function, and just call forward.\u001b[39;00m\n\u001b[1;32m   1744\u001b[0m \u001b[38;5;28;01mif\u001b[39;00m \u001b[38;5;129;01mnot\u001b[39;00m (\u001b[38;5;28mself\u001b[39m\u001b[38;5;241m.\u001b[39m_backward_hooks \u001b[38;5;129;01mor\u001b[39;00m \u001b[38;5;28mself\u001b[39m\u001b[38;5;241m.\u001b[39m_backward_pre_hooks \u001b[38;5;129;01mor\u001b[39;00m \u001b[38;5;28mself\u001b[39m\u001b[38;5;241m.\u001b[39m_forward_hooks \u001b[38;5;129;01mor\u001b[39;00m \u001b[38;5;28mself\u001b[39m\u001b[38;5;241m.\u001b[39m_forward_pre_hooks\n\u001b[1;32m   1745\u001b[0m         \u001b[38;5;129;01mor\u001b[39;00m _global_backward_pre_hooks \u001b[38;5;129;01mor\u001b[39;00m _global_backward_hooks\n\u001b[1;32m   1746\u001b[0m         \u001b[38;5;129;01mor\u001b[39;00m _global_forward_hooks \u001b[38;5;129;01mor\u001b[39;00m _global_forward_pre_hooks):\n\u001b[0;32m-> 1747\u001b[0m     \u001b[38;5;28;01mreturn\u001b[39;00m \u001b[43mforward_call\u001b[49m\u001b[43m(\u001b[49m\u001b[38;5;241;43m*\u001b[39;49m\u001b[43margs\u001b[49m\u001b[43m,\u001b[49m\u001b[43m \u001b[49m\u001b[38;5;241;43m*\u001b[39;49m\u001b[38;5;241;43m*\u001b[39;49m\u001b[43mkwargs\u001b[49m\u001b[43m)\u001b[49m\n\u001b[1;32m   1749\u001b[0m result \u001b[38;5;241m=\u001b[39m \u001b[38;5;28;01mNone\u001b[39;00m\n\u001b[1;32m   1750\u001b[0m called_always_called_hooks \u001b[38;5;241m=\u001b[39m \u001b[38;5;28mset\u001b[39m()\n",
      "File \u001b[0;32m~/3DGeno_tools/src/gt3d/modules/higashi/Higashi_backend/Modules.py:1153\u001b[0m, in \u001b[0;36mEncoderLayer.forward\u001b[0;34m(self, dynamic, static, chrom_info, slf_attn_mask, non_pad_mask, chroms_in_batch)\u001b[0m\n\u001b[1;32m   1150\u001b[0m     static \u001b[38;5;241m=\u001b[39m torch\u001b[38;5;241m.\u001b[39mcat([static_cell[:, \u001b[38;5;28;01mNone\u001b[39;00m, :], static_bin], dim\u001b[38;5;241m=\u001b[39m\u001b[38;5;241m1\u001b[39m)\n\u001b[1;32m   1151\u001b[0m     dynamic \u001b[38;5;241m=\u001b[39m static\n\u001b[0;32m-> 1153\u001b[0m dynamic, static, attn \u001b[38;5;241m=\u001b[39m \u001b[38;5;28;43mself\u001b[39;49m\u001b[38;5;241;43m.\u001b[39;49m\u001b[43mmul_head_attn\u001b[49m\u001b[43m(\u001b[49m\n\u001b[1;32m   1154\u001b[0m \u001b[43m    \u001b[49m\u001b[43mdynamic\u001b[49m\u001b[43m,\u001b[49m\u001b[43m \u001b[49m\u001b[43mdynamic\u001b[49m\u001b[43m,\u001b[49m\u001b[43m \u001b[49m\u001b[43mstatic\u001b[49m\u001b[43m)\u001b[49m\n\u001b[1;32m   1155\u001b[0m dynamic \u001b[38;5;241m=\u001b[39m \u001b[38;5;28mself\u001b[39m\u001b[38;5;241m.\u001b[39mpff_n1(dynamic)  \u001b[38;5;66;03m# * non_pad_mask\u001b[39;00m\n\u001b[1;32m   1156\u001b[0m \u001b[38;5;66;03m# static = self.pff_n2(static * non_pad_mask) * non_pad_mask\u001b[39;00m\n",
      "File \u001b[0;32m~/.conda/envs/gt3d/lib/python3.10/site-packages/torch/nn/modules/module.py:1736\u001b[0m, in \u001b[0;36mModule._wrapped_call_impl\u001b[0;34m(self, *args, **kwargs)\u001b[0m\n\u001b[1;32m   1734\u001b[0m     \u001b[38;5;28;01mreturn\u001b[39;00m \u001b[38;5;28mself\u001b[39m\u001b[38;5;241m.\u001b[39m_compiled_call_impl(\u001b[38;5;241m*\u001b[39margs, \u001b[38;5;241m*\u001b[39m\u001b[38;5;241m*\u001b[39mkwargs)  \u001b[38;5;66;03m# type: ignore[misc]\u001b[39;00m\n\u001b[1;32m   1735\u001b[0m \u001b[38;5;28;01melse\u001b[39;00m:\n\u001b[0;32m-> 1736\u001b[0m     \u001b[38;5;28;01mreturn\u001b[39;00m \u001b[38;5;28;43mself\u001b[39;49m\u001b[38;5;241;43m.\u001b[39;49m\u001b[43m_call_impl\u001b[49m\u001b[43m(\u001b[49m\u001b[38;5;241;43m*\u001b[39;49m\u001b[43margs\u001b[49m\u001b[43m,\u001b[49m\u001b[43m \u001b[49m\u001b[38;5;241;43m*\u001b[39;49m\u001b[38;5;241;43m*\u001b[39;49m\u001b[43mkwargs\u001b[49m\u001b[43m)\u001b[49m\n",
      "File \u001b[0;32m~/.conda/envs/gt3d/lib/python3.10/site-packages/torch/nn/modules/module.py:1747\u001b[0m, in \u001b[0;36mModule._call_impl\u001b[0;34m(self, *args, **kwargs)\u001b[0m\n\u001b[1;32m   1742\u001b[0m \u001b[38;5;66;03m# If we don't have any hooks, we want to skip the rest of the logic in\u001b[39;00m\n\u001b[1;32m   1743\u001b[0m \u001b[38;5;66;03m# this function, and just call forward.\u001b[39;00m\n\u001b[1;32m   1744\u001b[0m \u001b[38;5;28;01mif\u001b[39;00m \u001b[38;5;129;01mnot\u001b[39;00m (\u001b[38;5;28mself\u001b[39m\u001b[38;5;241m.\u001b[39m_backward_hooks \u001b[38;5;129;01mor\u001b[39;00m \u001b[38;5;28mself\u001b[39m\u001b[38;5;241m.\u001b[39m_backward_pre_hooks \u001b[38;5;129;01mor\u001b[39;00m \u001b[38;5;28mself\u001b[39m\u001b[38;5;241m.\u001b[39m_forward_hooks \u001b[38;5;129;01mor\u001b[39;00m \u001b[38;5;28mself\u001b[39m\u001b[38;5;241m.\u001b[39m_forward_pre_hooks\n\u001b[1;32m   1745\u001b[0m         \u001b[38;5;129;01mor\u001b[39;00m _global_backward_pre_hooks \u001b[38;5;129;01mor\u001b[39;00m _global_backward_hooks\n\u001b[1;32m   1746\u001b[0m         \u001b[38;5;129;01mor\u001b[39;00m _global_forward_hooks \u001b[38;5;129;01mor\u001b[39;00m _global_forward_pre_hooks):\n\u001b[0;32m-> 1747\u001b[0m     \u001b[38;5;28;01mreturn\u001b[39;00m \u001b[43mforward_call\u001b[49m\u001b[43m(\u001b[49m\u001b[38;5;241;43m*\u001b[39;49m\u001b[43margs\u001b[49m\u001b[43m,\u001b[49m\u001b[43m \u001b[49m\u001b[38;5;241;43m*\u001b[39;49m\u001b[38;5;241;43m*\u001b[39;49m\u001b[43mkwargs\u001b[49m\u001b[43m)\u001b[49m\n\u001b[1;32m   1749\u001b[0m result \u001b[38;5;241m=\u001b[39m \u001b[38;5;28;01mNone\u001b[39;00m\n\u001b[1;32m   1750\u001b[0m called_always_called_hooks \u001b[38;5;241m=\u001b[39m \u001b[38;5;28mset\u001b[39m()\n",
      "File \u001b[0;32m~/3DGeno_tools/src/gt3d/modules/higashi/Higashi_backend/Modules.py:1049\u001b[0m, in \u001b[0;36mMultiHeadAttention.forward\u001b[0;34m(self, q, k, v, diag_mask, mask)\u001b[0m\n\u001b[1;32m   1046\u001b[0m k \u001b[38;5;241m=\u001b[39m \u001b[38;5;28mself\u001b[39m\u001b[38;5;241m.\u001b[39mw_ks(k)\u001b[38;5;241m.\u001b[39mview(sz_b, len_k, n_head, d_k)\n\u001b[1;32m   1047\u001b[0m v \u001b[38;5;241m=\u001b[39m \u001b[38;5;28mself\u001b[39m\u001b[38;5;241m.\u001b[39mw_vs(v)\u001b[38;5;241m.\u001b[39mview(sz_b, len_v, n_head, d_v)\n\u001b[0;32m-> 1049\u001b[0m q \u001b[38;5;241m=\u001b[39m \u001b[43mq\u001b[49m\u001b[38;5;241;43m.\u001b[39;49m\u001b[43mpermute\u001b[49m\u001b[43m(\u001b[49m\u001b[38;5;241;43m2\u001b[39;49m\u001b[43m,\u001b[49m\u001b[43m \u001b[49m\u001b[38;5;241;43m0\u001b[39;49m\u001b[43m,\u001b[49m\u001b[43m \u001b[49m\u001b[38;5;241;43m1\u001b[39;49m\u001b[43m,\u001b[49m\u001b[43m \u001b[49m\u001b[38;5;241;43m3\u001b[39;49m\u001b[43m)\u001b[49m\u001b[38;5;241;43m.\u001b[39;49m\u001b[43mcontiguous\u001b[49m\u001b[43m(\u001b[49m\u001b[43m)\u001b[49m\u001b[38;5;241m.\u001b[39mview(\u001b[38;5;241m-\u001b[39m\u001b[38;5;241m1\u001b[39m, len_q, d_k)  \u001b[38;5;66;03m# (n*b) x lq x dk\u001b[39;00m\n\u001b[1;32m   1050\u001b[0m k \u001b[38;5;241m=\u001b[39m k\u001b[38;5;241m.\u001b[39mpermute(\u001b[38;5;241m2\u001b[39m, \u001b[38;5;241m0\u001b[39m, \u001b[38;5;241m1\u001b[39m, \u001b[38;5;241m3\u001b[39m)\u001b[38;5;241m.\u001b[39mcontiguous()\u001b[38;5;241m.\u001b[39mview(\u001b[38;5;241m-\u001b[39m\u001b[38;5;241m1\u001b[39m, len_k, d_k)  \u001b[38;5;66;03m# (n*b) x lk x dk\u001b[39;00m\n\u001b[1;32m   1051\u001b[0m v \u001b[38;5;241m=\u001b[39m v\u001b[38;5;241m.\u001b[39mpermute(\u001b[38;5;241m2\u001b[39m, \u001b[38;5;241m0\u001b[39m, \u001b[38;5;241m1\u001b[39m, \u001b[38;5;241m3\u001b[39m)\u001b[38;5;241m.\u001b[39mcontiguous()\u001b[38;5;241m.\u001b[39mview(\u001b[38;5;241m-\u001b[39m\u001b[38;5;241m1\u001b[39m, len_v, d_v)  \u001b[38;5;66;03m# (n*b) x lv x dv\u001b[39;00m\n",
      "\u001b[0;31mKeyboardInterrupt\u001b[0m: "
     ]
    }
   ],
   "source": [
    "# Stage 1 training\n",
    "higashi_model.train_for_embeddings()"
   ]
  },
  {
   "cell_type": "code",
   "execution_count": 20,
   "id": "0988d5de",
   "metadata": {},
   "outputs": [
    {
     "data": {
      "text/plain": [
       "array(['L2/3 IT', 'Endo', 'VLMC', 'Astro', 'Oligo', 'Sst', 'OPC', 'L5 IT',\n",
       "       'L4/5 IT', 'Vip', 'L6 CT', 'L5 ET', 'Micro', 'Pvalb', 'L6 IT',\n",
       "       'SMC', 'Peri', 'Lamp5', 'L6b', nan, 'L5/6 NP', 'other', 'Sncg'],\n",
       "      dtype=object)"
      ]
     },
     "execution_count": 20,
     "metadata": {},
     "output_type": "execute_result"
    }
   ],
   "source": [
    "training_data_meta['cluster_subclass'].unique()"
   ]
  },
  {
   "cell_type": "code",
   "execution_count": 21,
   "id": "7b3514ee",
   "metadata": {},
   "outputs": [
    {
     "data": {
      "text/plain": [
       "array(['Gluta', 'Endo', 'VLMC', 'Astro', 'Oligo', 'GABA', 'Micro', 'SMC',\n",
       "       'Peri', nan, 'other'], dtype=object)"
      ]
     },
     "execution_count": 21,
     "metadata": {},
     "output_type": "execute_result"
    }
   ],
   "source": [
    "training_data_meta['cluster_class'].unique()"
   ]
  },
  {
   "cell_type": "code",
   "execution_count": 22,
   "id": "f39d7f10",
   "metadata": {},
   "outputs": [
    {
     "data": {
      "text/html": [
       "<pre style=\"white-space:pre;overflow-x:auto;line-height:normal;font-family:Menlo,'DejaVu Sans Mono',consolas,'Courier New',monospace\">(2420, 100)\n",
       "</pre>\n"
      ],
      "text/plain": [
       "(2420, 100)\n"
      ]
     },
     "metadata": {},
     "output_type": "display_data"
    },
    {
     "ename": "ValueError",
     "evalue": "All arrays must be of the same length",
     "output_type": "error",
     "traceback": [
      "\u001b[0;31m---------------------------------------------------------------------------\u001b[0m",
      "\u001b[0;31mValueError\u001b[0m                                Traceback (most recent call last)",
      "Cell \u001b[0;32mIn[22], line 19\u001b[0m\n\u001b[1;32m     14\u001b[0m ax \u001b[38;5;241m=\u001b[39m plt\u001b[38;5;241m.\u001b[39msubplot(\u001b[38;5;241m1\u001b[39m, \u001b[38;5;241m2\u001b[39m, \u001b[38;5;241m1\u001b[39m)\n\u001b[1;32m     15\u001b[0m \u001b[38;5;66;03m# sns.scatterplot(x=vec[:, 0], y=vec[:, 1], hue=cell_type, ax=ax, s=5, alpha=0.8, linewidth=0,\u001b[39;00m\n\u001b[1;32m     16\u001b[0m \u001b[38;5;66;03m#                 hue_order=['L2/3 IT', 'Endo', 'VLMC', 'Astro', 'Oligo', 'Sst', 'OPC', 'L5 IT',\u001b[39;00m\n\u001b[1;32m     17\u001b[0m \u001b[38;5;66;03m#                            'L4/5 IT', 'Vip', 'L5 ET', 'Micro', 'Pvalb', 'L6 IT', 'L6 CT',\u001b[39;00m\n\u001b[1;32m     18\u001b[0m \u001b[38;5;66;03m#                            'SMC', 'Peri', 'Lamp5', 'L6b', 'L5/6 NP', 'other', 'Sncg'])\u001b[39;00m\n\u001b[0;32m---> 19\u001b[0m \u001b[43msns\u001b[49m\u001b[38;5;241;43m.\u001b[39;49m\u001b[43mscatterplot\u001b[49m\u001b[43m(\u001b[49m\u001b[43mx\u001b[49m\u001b[38;5;241;43m=\u001b[39;49m\u001b[43mvec\u001b[49m\u001b[43m[\u001b[49m\u001b[43m:\u001b[49m\u001b[43m,\u001b[49m\u001b[43m \u001b[49m\u001b[38;5;241;43m0\u001b[39;49m\u001b[43m]\u001b[49m\u001b[43m,\u001b[49m\u001b[43m \u001b[49m\u001b[43my\u001b[49m\u001b[38;5;241;43m=\u001b[39;49m\u001b[43mvec\u001b[49m\u001b[43m[\u001b[49m\u001b[43m:\u001b[49m\u001b[43m,\u001b[49m\u001b[43m \u001b[49m\u001b[38;5;241;43m1\u001b[39;49m\u001b[43m]\u001b[49m\u001b[43m,\u001b[49m\u001b[43m \u001b[49m\u001b[43mhue\u001b[49m\u001b[38;5;241;43m=\u001b[39;49m\u001b[43mcell_type\u001b[49m\u001b[43m,\u001b[49m\u001b[43m \u001b[49m\u001b[43max\u001b[49m\u001b[38;5;241;43m=\u001b[39;49m\u001b[43max\u001b[49m\u001b[43m,\u001b[49m\u001b[43m \u001b[49m\u001b[43ms\u001b[49m\u001b[38;5;241;43m=\u001b[39;49m\u001b[38;5;241;43m5\u001b[39;49m\u001b[43m,\u001b[49m\u001b[43m \u001b[49m\u001b[43malpha\u001b[49m\u001b[38;5;241;43m=\u001b[39;49m\u001b[38;5;241;43m0.8\u001b[39;49m\u001b[43m,\u001b[49m\u001b[43m \u001b[49m\u001b[43mlinewidth\u001b[49m\u001b[38;5;241;43m=\u001b[39;49m\u001b[38;5;241;43m0\u001b[39;49m\u001b[43m,\u001b[49m\n\u001b[1;32m     20\u001b[0m \u001b[43m                \u001b[49m\u001b[43mhue_order\u001b[49m\u001b[38;5;241;43m=\u001b[39;49m\u001b[43m[\u001b[49m\u001b[38;5;124;43m'\u001b[39;49m\u001b[38;5;124;43mGluta\u001b[39;49m\u001b[38;5;124;43m'\u001b[39;49m\u001b[43m,\u001b[49m\u001b[43m \u001b[49m\u001b[38;5;124;43m'\u001b[39;49m\u001b[38;5;124;43mEndo\u001b[39;49m\u001b[38;5;124;43m'\u001b[39;49m\u001b[43m,\u001b[49m\u001b[43m \u001b[49m\u001b[38;5;124;43m'\u001b[39;49m\u001b[38;5;124;43mVLMC\u001b[39;49m\u001b[38;5;124;43m'\u001b[39;49m\u001b[43m,\u001b[49m\u001b[43m \u001b[49m\u001b[38;5;124;43m'\u001b[39;49m\u001b[38;5;124;43mAstro\u001b[39;49m\u001b[38;5;124;43m'\u001b[39;49m\u001b[43m,\u001b[49m\u001b[43m \u001b[49m\u001b[38;5;124;43m'\u001b[39;49m\u001b[38;5;124;43mOligo\u001b[39;49m\u001b[38;5;124;43m'\u001b[39;49m\u001b[43m,\u001b[49m\u001b[43m \u001b[49m\u001b[38;5;124;43m'\u001b[39;49m\u001b[38;5;124;43mGABA\u001b[39;49m\u001b[38;5;124;43m'\u001b[39;49m\u001b[43m,\u001b[49m\u001b[43m \u001b[49m\u001b[38;5;124;43m'\u001b[39;49m\u001b[38;5;124;43mMicro\u001b[39;49m\u001b[38;5;124;43m'\u001b[39;49m\u001b[43m,\u001b[49m\u001b[43m \u001b[49m\u001b[38;5;124;43m'\u001b[39;49m\u001b[38;5;124;43mSMC\u001b[39;49m\u001b[38;5;124;43m'\u001b[39;49m\u001b[43m,\u001b[49m\n\u001b[1;32m     21\u001b[0m \u001b[43m                           \u001b[49m\u001b[38;5;124;43m'\u001b[39;49m\u001b[38;5;124;43mPeri\u001b[39;49m\u001b[38;5;124;43m'\u001b[39;49m\u001b[43m,\u001b[49m\u001b[43m \u001b[49m\u001b[38;5;124;43m'\u001b[39;49m\u001b[38;5;124;43mother\u001b[39;49m\u001b[38;5;124;43m'\u001b[39;49m\u001b[43m]\u001b[49m\u001b[43m)\u001b[49m\n\u001b[1;32m     22\u001b[0m handles, labels \u001b[38;5;241m=\u001b[39m ax\u001b[38;5;241m.\u001b[39mget_legend_handles_labels()\n\u001b[1;32m     23\u001b[0m labels, handles \u001b[38;5;241m=\u001b[39m \u001b[38;5;28mzip\u001b[39m(\u001b[38;5;241m*\u001b[39m\u001b[38;5;28msorted\u001b[39m(\u001b[38;5;28mzip\u001b[39m(labels, handles), key\u001b[38;5;241m=\u001b[39m\u001b[38;5;28;01mlambda\u001b[39;00m t: t[\u001b[38;5;241m0\u001b[39m]))\n",
      "File \u001b[0;32m~/.conda/envs/gt3d/lib/python3.10/site-packages/seaborn/relational.py:615\u001b[0m, in \u001b[0;36mscatterplot\u001b[0;34m(data, x, y, hue, size, style, palette, hue_order, hue_norm, sizes, size_order, size_norm, markers, style_order, legend, ax, **kwargs)\u001b[0m\n\u001b[1;32m    606\u001b[0m \u001b[38;5;28;01mdef\u001b[39;00m \u001b[38;5;21mscatterplot\u001b[39m(\n\u001b[1;32m    607\u001b[0m     data\u001b[38;5;241m=\u001b[39m\u001b[38;5;28;01mNone\u001b[39;00m, \u001b[38;5;241m*\u001b[39m,\n\u001b[1;32m    608\u001b[0m     x\u001b[38;5;241m=\u001b[39m\u001b[38;5;28;01mNone\u001b[39;00m, y\u001b[38;5;241m=\u001b[39m\u001b[38;5;28;01mNone\u001b[39;00m, hue\u001b[38;5;241m=\u001b[39m\u001b[38;5;28;01mNone\u001b[39;00m, size\u001b[38;5;241m=\u001b[39m\u001b[38;5;28;01mNone\u001b[39;00m, style\u001b[38;5;241m=\u001b[39m\u001b[38;5;28;01mNone\u001b[39;00m,\n\u001b[0;32m   (...)\u001b[0m\n\u001b[1;32m    612\u001b[0m     \u001b[38;5;241m*\u001b[39m\u001b[38;5;241m*\u001b[39mkwargs\n\u001b[1;32m    613\u001b[0m ):\n\u001b[0;32m--> 615\u001b[0m     p \u001b[38;5;241m=\u001b[39m \u001b[43m_ScatterPlotter\u001b[49m\u001b[43m(\u001b[49m\n\u001b[1;32m    616\u001b[0m \u001b[43m        \u001b[49m\u001b[43mdata\u001b[49m\u001b[38;5;241;43m=\u001b[39;49m\u001b[43mdata\u001b[49m\u001b[43m,\u001b[49m\n\u001b[1;32m    617\u001b[0m \u001b[43m        \u001b[49m\u001b[43mvariables\u001b[49m\u001b[38;5;241;43m=\u001b[39;49m\u001b[38;5;28;43mdict\u001b[39;49m\u001b[43m(\u001b[49m\u001b[43mx\u001b[49m\u001b[38;5;241;43m=\u001b[39;49m\u001b[43mx\u001b[49m\u001b[43m,\u001b[49m\u001b[43m \u001b[49m\u001b[43my\u001b[49m\u001b[38;5;241;43m=\u001b[39;49m\u001b[43my\u001b[49m\u001b[43m,\u001b[49m\u001b[43m \u001b[49m\u001b[43mhue\u001b[49m\u001b[38;5;241;43m=\u001b[39;49m\u001b[43mhue\u001b[49m\u001b[43m,\u001b[49m\u001b[43m \u001b[49m\u001b[43msize\u001b[49m\u001b[38;5;241;43m=\u001b[39;49m\u001b[43msize\u001b[49m\u001b[43m,\u001b[49m\u001b[43m \u001b[49m\u001b[43mstyle\u001b[49m\u001b[38;5;241;43m=\u001b[39;49m\u001b[43mstyle\u001b[49m\u001b[43m)\u001b[49m\u001b[43m,\u001b[49m\n\u001b[1;32m    618\u001b[0m \u001b[43m        \u001b[49m\u001b[43mlegend\u001b[49m\u001b[38;5;241;43m=\u001b[39;49m\u001b[43mlegend\u001b[49m\n\u001b[1;32m    619\u001b[0m \u001b[43m    \u001b[49m\u001b[43m)\u001b[49m\n\u001b[1;32m    621\u001b[0m     p\u001b[38;5;241m.\u001b[39mmap_hue(palette\u001b[38;5;241m=\u001b[39mpalette, order\u001b[38;5;241m=\u001b[39mhue_order, norm\u001b[38;5;241m=\u001b[39mhue_norm)\n\u001b[1;32m    622\u001b[0m     p\u001b[38;5;241m.\u001b[39mmap_size(sizes\u001b[38;5;241m=\u001b[39msizes, order\u001b[38;5;241m=\u001b[39msize_order, norm\u001b[38;5;241m=\u001b[39msize_norm)\n",
      "File \u001b[0;32m~/.conda/envs/gt3d/lib/python3.10/site-packages/seaborn/relational.py:396\u001b[0m, in \u001b[0;36m_ScatterPlotter.__init__\u001b[0;34m(self, data, variables, legend)\u001b[0m\n\u001b[1;32m    387\u001b[0m \u001b[38;5;28;01mdef\u001b[39;00m \u001b[38;5;21m__init__\u001b[39m(\u001b[38;5;28mself\u001b[39m, \u001b[38;5;241m*\u001b[39m, data\u001b[38;5;241m=\u001b[39m\u001b[38;5;28;01mNone\u001b[39;00m, variables\u001b[38;5;241m=\u001b[39m{}, legend\u001b[38;5;241m=\u001b[39m\u001b[38;5;28;01mNone\u001b[39;00m):\n\u001b[1;32m    388\u001b[0m \n\u001b[1;32m    389\u001b[0m     \u001b[38;5;66;03m# TODO this is messy, we want the mapping to be agnostic about\u001b[39;00m\n\u001b[1;32m    390\u001b[0m     \u001b[38;5;66;03m# the kind of plot to draw, but for the time being we need to set\u001b[39;00m\n\u001b[1;32m    391\u001b[0m     \u001b[38;5;66;03m# this information so the SizeMapping can use it\u001b[39;00m\n\u001b[1;32m    392\u001b[0m     \u001b[38;5;28mself\u001b[39m\u001b[38;5;241m.\u001b[39m_default_size_range \u001b[38;5;241m=\u001b[39m (\n\u001b[1;32m    393\u001b[0m         np\u001b[38;5;241m.\u001b[39mr_[\u001b[38;5;241m.5\u001b[39m, \u001b[38;5;241m2\u001b[39m] \u001b[38;5;241m*\u001b[39m np\u001b[38;5;241m.\u001b[39msquare(mpl\u001b[38;5;241m.\u001b[39mrcParams[\u001b[38;5;124m\"\u001b[39m\u001b[38;5;124mlines.markersize\u001b[39m\u001b[38;5;124m\"\u001b[39m])\n\u001b[1;32m    394\u001b[0m     )\n\u001b[0;32m--> 396\u001b[0m     \u001b[38;5;28;43msuper\u001b[39;49m\u001b[43m(\u001b[49m\u001b[43m)\u001b[49m\u001b[38;5;241;43m.\u001b[39;49m\u001b[38;5;21;43m__init__\u001b[39;49m\u001b[43m(\u001b[49m\u001b[43mdata\u001b[49m\u001b[38;5;241;43m=\u001b[39;49m\u001b[43mdata\u001b[49m\u001b[43m,\u001b[49m\u001b[43m \u001b[49m\u001b[43mvariables\u001b[49m\u001b[38;5;241;43m=\u001b[39;49m\u001b[43mvariables\u001b[49m\u001b[43m)\u001b[49m\n\u001b[1;32m    398\u001b[0m     \u001b[38;5;28mself\u001b[39m\u001b[38;5;241m.\u001b[39mlegend \u001b[38;5;241m=\u001b[39m legend\n",
      "File \u001b[0;32m~/.conda/envs/gt3d/lib/python3.10/site-packages/seaborn/_base.py:634\u001b[0m, in \u001b[0;36mVectorPlotter.__init__\u001b[0;34m(self, data, variables)\u001b[0m\n\u001b[1;32m    629\u001b[0m \u001b[38;5;66;03m# var_ordered is relevant only for categorical axis variables, and may\u001b[39;00m\n\u001b[1;32m    630\u001b[0m \u001b[38;5;66;03m# be better handled by an internal axis information object that tracks\u001b[39;00m\n\u001b[1;32m    631\u001b[0m \u001b[38;5;66;03m# such information and is set up by the scale_* methods. The analogous\u001b[39;00m\n\u001b[1;32m    632\u001b[0m \u001b[38;5;66;03m# information for numeric axes would be information about log scales.\u001b[39;00m\n\u001b[1;32m    633\u001b[0m \u001b[38;5;28mself\u001b[39m\u001b[38;5;241m.\u001b[39m_var_ordered \u001b[38;5;241m=\u001b[39m {\u001b[38;5;124m\"\u001b[39m\u001b[38;5;124mx\u001b[39m\u001b[38;5;124m\"\u001b[39m: \u001b[38;5;28;01mFalse\u001b[39;00m, \u001b[38;5;124m\"\u001b[39m\u001b[38;5;124my\u001b[39m\u001b[38;5;124m\"\u001b[39m: \u001b[38;5;28;01mFalse\u001b[39;00m}  \u001b[38;5;66;03m# alt., used DefaultDict\u001b[39;00m\n\u001b[0;32m--> 634\u001b[0m \u001b[38;5;28;43mself\u001b[39;49m\u001b[38;5;241;43m.\u001b[39;49m\u001b[43massign_variables\u001b[49m\u001b[43m(\u001b[49m\u001b[43mdata\u001b[49m\u001b[43m,\u001b[49m\u001b[43m \u001b[49m\u001b[43mvariables\u001b[49m\u001b[43m)\u001b[49m\n\u001b[1;32m    636\u001b[0m \u001b[38;5;66;03m# TODO Lots of tests assume that these are called to initialize the\u001b[39;00m\n\u001b[1;32m    637\u001b[0m \u001b[38;5;66;03m# mappings to default values on class initialization. I'd prefer to\u001b[39;00m\n\u001b[1;32m    638\u001b[0m \u001b[38;5;66;03m# move away from that and only have a mapping when explicitly called.\u001b[39;00m\n\u001b[1;32m    639\u001b[0m \u001b[38;5;28;01mfor\u001b[39;00m var \u001b[38;5;129;01min\u001b[39;00m [\u001b[38;5;124m\"\u001b[39m\u001b[38;5;124mhue\u001b[39m\u001b[38;5;124m\"\u001b[39m, \u001b[38;5;124m\"\u001b[39m\u001b[38;5;124msize\u001b[39m\u001b[38;5;124m\"\u001b[39m, \u001b[38;5;124m\"\u001b[39m\u001b[38;5;124mstyle\u001b[39m\u001b[38;5;124m\"\u001b[39m]:\n",
      "File \u001b[0;32m~/.conda/envs/gt3d/lib/python3.10/site-packages/seaborn/_base.py:679\u001b[0m, in \u001b[0;36mVectorPlotter.assign_variables\u001b[0;34m(self, data, variables)\u001b[0m\n\u001b[1;32m    674\u001b[0m \u001b[38;5;28;01melse\u001b[39;00m:\n\u001b[1;32m    675\u001b[0m     \u001b[38;5;66;03m# When dealing with long-form input, use the newer PlotData\u001b[39;00m\n\u001b[1;32m    676\u001b[0m     \u001b[38;5;66;03m# object (internal but introduced for the objects interface)\u001b[39;00m\n\u001b[1;32m    677\u001b[0m     \u001b[38;5;66;03m# to centralize / standardize data consumption logic.\u001b[39;00m\n\u001b[1;32m    678\u001b[0m     \u001b[38;5;28mself\u001b[39m\u001b[38;5;241m.\u001b[39minput_format \u001b[38;5;241m=\u001b[39m \u001b[38;5;124m\"\u001b[39m\u001b[38;5;124mlong\u001b[39m\u001b[38;5;124m\"\u001b[39m\n\u001b[0;32m--> 679\u001b[0m     plot_data \u001b[38;5;241m=\u001b[39m \u001b[43mPlotData\u001b[49m\u001b[43m(\u001b[49m\u001b[43mdata\u001b[49m\u001b[43m,\u001b[49m\u001b[43m \u001b[49m\u001b[43mvariables\u001b[49m\u001b[43m)\u001b[49m\n\u001b[1;32m    680\u001b[0m     frame \u001b[38;5;241m=\u001b[39m plot_data\u001b[38;5;241m.\u001b[39mframe\n\u001b[1;32m    681\u001b[0m     names \u001b[38;5;241m=\u001b[39m plot_data\u001b[38;5;241m.\u001b[39mnames\n",
      "File \u001b[0;32m~/.conda/envs/gt3d/lib/python3.10/site-packages/seaborn/_core/data.py:58\u001b[0m, in \u001b[0;36mPlotData.__init__\u001b[0;34m(self, data, variables)\u001b[0m\n\u001b[1;32m     51\u001b[0m \u001b[38;5;28;01mdef\u001b[39;00m \u001b[38;5;21m__init__\u001b[39m(\n\u001b[1;32m     52\u001b[0m     \u001b[38;5;28mself\u001b[39m,\n\u001b[1;32m     53\u001b[0m     data: DataSource,\n\u001b[1;32m     54\u001b[0m     variables: \u001b[38;5;28mdict\u001b[39m[\u001b[38;5;28mstr\u001b[39m, VariableSpec],\n\u001b[1;32m     55\u001b[0m ):\n\u001b[1;32m     57\u001b[0m     data \u001b[38;5;241m=\u001b[39m handle_data_source(data)\n\u001b[0;32m---> 58\u001b[0m     frame, names, ids \u001b[38;5;241m=\u001b[39m \u001b[38;5;28;43mself\u001b[39;49m\u001b[38;5;241;43m.\u001b[39;49m\u001b[43m_assign_variables\u001b[49m\u001b[43m(\u001b[49m\u001b[43mdata\u001b[49m\u001b[43m,\u001b[49m\u001b[43m \u001b[49m\u001b[43mvariables\u001b[49m\u001b[43m)\u001b[49m\n\u001b[1;32m     60\u001b[0m     \u001b[38;5;28mself\u001b[39m\u001b[38;5;241m.\u001b[39mframe \u001b[38;5;241m=\u001b[39m frame\n\u001b[1;32m     61\u001b[0m     \u001b[38;5;28mself\u001b[39m\u001b[38;5;241m.\u001b[39mnames \u001b[38;5;241m=\u001b[39m names\n",
      "File \u001b[0;32m~/.conda/envs/gt3d/lib/python3.10/site-packages/seaborn/_core/data.py:265\u001b[0m, in \u001b[0;36mPlotData._assign_variables\u001b[0;34m(self, data, variables)\u001b[0m\n\u001b[1;32m    260\u001b[0m             ids[key] \u001b[38;5;241m=\u001b[39m \u001b[38;5;28mid\u001b[39m(val)\n\u001b[1;32m    262\u001b[0m \u001b[38;5;66;03m# Construct a tidy plot DataFrame. This will convert a number of\u001b[39;00m\n\u001b[1;32m    263\u001b[0m \u001b[38;5;66;03m# types automatically, aligning on index in case of pandas objects\u001b[39;00m\n\u001b[1;32m    264\u001b[0m \u001b[38;5;66;03m# TODO Note: this fails when variable specs *only* have scalars!\u001b[39;00m\n\u001b[0;32m--> 265\u001b[0m frame \u001b[38;5;241m=\u001b[39m \u001b[43mpd\u001b[49m\u001b[38;5;241;43m.\u001b[39;49m\u001b[43mDataFrame\u001b[49m\u001b[43m(\u001b[49m\u001b[43mplot_data\u001b[49m\u001b[43m)\u001b[49m\n\u001b[1;32m    267\u001b[0m \u001b[38;5;28;01mreturn\u001b[39;00m frame, names, ids\n",
      "File \u001b[0;32m~/.conda/envs/gt3d/lib/python3.10/site-packages/pandas/core/frame.py:778\u001b[0m, in \u001b[0;36mDataFrame.__init__\u001b[0;34m(self, data, index, columns, dtype, copy)\u001b[0m\n\u001b[1;32m    772\u001b[0m     mgr \u001b[38;5;241m=\u001b[39m \u001b[38;5;28mself\u001b[39m\u001b[38;5;241m.\u001b[39m_init_mgr(\n\u001b[1;32m    773\u001b[0m         data, axes\u001b[38;5;241m=\u001b[39m{\u001b[38;5;124m\"\u001b[39m\u001b[38;5;124mindex\u001b[39m\u001b[38;5;124m\"\u001b[39m: index, \u001b[38;5;124m\"\u001b[39m\u001b[38;5;124mcolumns\u001b[39m\u001b[38;5;124m\"\u001b[39m: columns}, dtype\u001b[38;5;241m=\u001b[39mdtype, copy\u001b[38;5;241m=\u001b[39mcopy\n\u001b[1;32m    774\u001b[0m     )\n\u001b[1;32m    776\u001b[0m \u001b[38;5;28;01melif\u001b[39;00m \u001b[38;5;28misinstance\u001b[39m(data, \u001b[38;5;28mdict\u001b[39m):\n\u001b[1;32m    777\u001b[0m     \u001b[38;5;66;03m# GH#38939 de facto copy defaults to False only in non-dict cases\u001b[39;00m\n\u001b[0;32m--> 778\u001b[0m     mgr \u001b[38;5;241m=\u001b[39m \u001b[43mdict_to_mgr\u001b[49m\u001b[43m(\u001b[49m\u001b[43mdata\u001b[49m\u001b[43m,\u001b[49m\u001b[43m \u001b[49m\u001b[43mindex\u001b[49m\u001b[43m,\u001b[49m\u001b[43m \u001b[49m\u001b[43mcolumns\u001b[49m\u001b[43m,\u001b[49m\u001b[43m \u001b[49m\u001b[43mdtype\u001b[49m\u001b[38;5;241;43m=\u001b[39;49m\u001b[43mdtype\u001b[49m\u001b[43m,\u001b[49m\u001b[43m \u001b[49m\u001b[43mcopy\u001b[49m\u001b[38;5;241;43m=\u001b[39;49m\u001b[43mcopy\u001b[49m\u001b[43m,\u001b[49m\u001b[43m \u001b[49m\u001b[43mtyp\u001b[49m\u001b[38;5;241;43m=\u001b[39;49m\u001b[43mmanager\u001b[49m\u001b[43m)\u001b[49m\n\u001b[1;32m    779\u001b[0m \u001b[38;5;28;01melif\u001b[39;00m \u001b[38;5;28misinstance\u001b[39m(data, ma\u001b[38;5;241m.\u001b[39mMaskedArray):\n\u001b[1;32m    780\u001b[0m     \u001b[38;5;28;01mfrom\u001b[39;00m \u001b[38;5;21;01mnumpy\u001b[39;00m\u001b[38;5;21;01m.\u001b[39;00m\u001b[38;5;21;01mma\u001b[39;00m \u001b[38;5;28;01mimport\u001b[39;00m mrecords\n",
      "File \u001b[0;32m~/.conda/envs/gt3d/lib/python3.10/site-packages/pandas/core/internals/construction.py:503\u001b[0m, in \u001b[0;36mdict_to_mgr\u001b[0;34m(data, index, columns, dtype, typ, copy)\u001b[0m\n\u001b[1;32m    499\u001b[0m     \u001b[38;5;28;01melse\u001b[39;00m:\n\u001b[1;32m    500\u001b[0m         \u001b[38;5;66;03m# dtype check to exclude e.g. range objects, scalars\u001b[39;00m\n\u001b[1;32m    501\u001b[0m         arrays \u001b[38;5;241m=\u001b[39m [x\u001b[38;5;241m.\u001b[39mcopy() \u001b[38;5;28;01mif\u001b[39;00m \u001b[38;5;28mhasattr\u001b[39m(x, \u001b[38;5;124m\"\u001b[39m\u001b[38;5;124mdtype\u001b[39m\u001b[38;5;124m\"\u001b[39m) \u001b[38;5;28;01melse\u001b[39;00m x \u001b[38;5;28;01mfor\u001b[39;00m x \u001b[38;5;129;01min\u001b[39;00m arrays]\n\u001b[0;32m--> 503\u001b[0m \u001b[38;5;28;01mreturn\u001b[39;00m \u001b[43marrays_to_mgr\u001b[49m\u001b[43m(\u001b[49m\u001b[43marrays\u001b[49m\u001b[43m,\u001b[49m\u001b[43m \u001b[49m\u001b[43mcolumns\u001b[49m\u001b[43m,\u001b[49m\u001b[43m \u001b[49m\u001b[43mindex\u001b[49m\u001b[43m,\u001b[49m\u001b[43m \u001b[49m\u001b[43mdtype\u001b[49m\u001b[38;5;241;43m=\u001b[39;49m\u001b[43mdtype\u001b[49m\u001b[43m,\u001b[49m\u001b[43m \u001b[49m\u001b[43mtyp\u001b[49m\u001b[38;5;241;43m=\u001b[39;49m\u001b[43mtyp\u001b[49m\u001b[43m,\u001b[49m\u001b[43m \u001b[49m\u001b[43mconsolidate\u001b[49m\u001b[38;5;241;43m=\u001b[39;49m\u001b[43mcopy\u001b[49m\u001b[43m)\u001b[49m\n",
      "File \u001b[0;32m~/.conda/envs/gt3d/lib/python3.10/site-packages/pandas/core/internals/construction.py:114\u001b[0m, in \u001b[0;36marrays_to_mgr\u001b[0;34m(arrays, columns, index, dtype, verify_integrity, typ, consolidate)\u001b[0m\n\u001b[1;32m    111\u001b[0m \u001b[38;5;28;01mif\u001b[39;00m verify_integrity:\n\u001b[1;32m    112\u001b[0m     \u001b[38;5;66;03m# figure out the index, if necessary\u001b[39;00m\n\u001b[1;32m    113\u001b[0m     \u001b[38;5;28;01mif\u001b[39;00m index \u001b[38;5;129;01mis\u001b[39;00m \u001b[38;5;28;01mNone\u001b[39;00m:\n\u001b[0;32m--> 114\u001b[0m         index \u001b[38;5;241m=\u001b[39m \u001b[43m_extract_index\u001b[49m\u001b[43m(\u001b[49m\u001b[43marrays\u001b[49m\u001b[43m)\u001b[49m\n\u001b[1;32m    115\u001b[0m     \u001b[38;5;28;01melse\u001b[39;00m:\n\u001b[1;32m    116\u001b[0m         index \u001b[38;5;241m=\u001b[39m ensure_index(index)\n",
      "File \u001b[0;32m~/.conda/envs/gt3d/lib/python3.10/site-packages/pandas/core/internals/construction.py:677\u001b[0m, in \u001b[0;36m_extract_index\u001b[0;34m(data)\u001b[0m\n\u001b[1;32m    675\u001b[0m lengths \u001b[38;5;241m=\u001b[39m \u001b[38;5;28mlist\u001b[39m(\u001b[38;5;28mset\u001b[39m(raw_lengths))\n\u001b[1;32m    676\u001b[0m \u001b[38;5;28;01mif\u001b[39;00m \u001b[38;5;28mlen\u001b[39m(lengths) \u001b[38;5;241m>\u001b[39m \u001b[38;5;241m1\u001b[39m:\n\u001b[0;32m--> 677\u001b[0m     \u001b[38;5;28;01mraise\u001b[39;00m \u001b[38;5;167;01mValueError\u001b[39;00m(\u001b[38;5;124m\"\u001b[39m\u001b[38;5;124mAll arrays must be of the same length\u001b[39m\u001b[38;5;124m\"\u001b[39m)\n\u001b[1;32m    679\u001b[0m \u001b[38;5;28;01mif\u001b[39;00m have_dicts:\n\u001b[1;32m    680\u001b[0m     \u001b[38;5;28;01mraise\u001b[39;00m \u001b[38;5;167;01mValueError\u001b[39;00m(\n\u001b[1;32m    681\u001b[0m         \u001b[38;5;124m\"\u001b[39m\u001b[38;5;124mMixing dicts with non-Series may lead to ambiguous ordering.\u001b[39m\u001b[38;5;124m\"\u001b[39m\n\u001b[1;32m    682\u001b[0m     )\n",
      "\u001b[0;31mValueError\u001b[0m: All arrays must be of the same length"
     ]
    },
    {
     "data": {
      "image/png": "[encoded data removed]",
      "text/plain": [
       "<Figure size 1400x500 with 1 Axes>"
      ]
     },
     "metadata": {},
     "output_type": "display_data"
    }
   ],
   "source": [
    "# Visualize initial embedding results\n",
    "cell_embeddings = higashi_model.fetch_cell_embeddings()\n",
    "print (cell_embeddings.shape)\n",
    "\n",
    "from umap import UMAP\n",
    "import seaborn as sns\n",
    "import matplotlib.pyplot as plt\n",
    "\n",
    "vec = UMAP(n_components=2, n_neighbors=5, random_state=0).fit_transform(cell_embeddings)\n",
    "# cell_type = higashi_model.label_info['cluster_subclass']\n",
    "cell_type = higashi_model.label_info['cluster_class']\n",
    "batch = higashi_model.label_info['Sample_ID']\n",
    "fig = plt.figure(figsize=(14, 5))\n",
    "ax = plt.subplot(1, 2, 1)\n",
    "# sns.scatterplot(x=vec[:, 0], y=vec[:, 1], hue=cell_type, ax=ax, s=5, alpha=0.8, linewidth=0,\n",
    "#                 hue_order=['L2/3 IT', 'Endo', 'VLMC', 'Astro', 'Oligo', 'Sst', 'OPC', 'L5 IT',\n",
    "#                            'L4/5 IT', 'Vip', 'L5 ET', 'Micro', 'Pvalb', 'L6 IT', 'L6 CT',\n",
    "#                            'SMC', 'Peri', 'Lamp5', 'L6b', 'L5/6 NP', 'other', 'Sncg'])\n",
    "sns.scatterplot(x=vec[:, 0], y=vec[:, 1], hue=cell_type, ax=ax, s=5, alpha=0.8, linewidth=0,\n",
    "                hue_order=['Gluta', 'Endo', 'VLMC', 'Astro', 'Oligo', 'GABA', 'Micro', 'SMC',\n",
    "                           'Peri', 'other'])\n",
    "handles, labels = ax.get_legend_handles_labels()\n",
    "labels, handles = zip(*sorted(zip(labels, handles), key=lambda t: t[0]))\n",
    "ax.legend(handles=handles, labels=labels, bbox_to_anchor=(1.05, 1), loc=2, borderaxespad=0., ncol=1)\n",
    "ax = plt.subplot(1, 2, 2)\n",
    "sns.scatterplot(x=vec[:, 0], y=vec[:, 1], hue=batch, ax=ax, s=5, alpha=0.8, linewidth=0)\n",
    "handles, labels = ax.get_legend_handles_labels()\n",
    "labels, handles = zip(*sorted(zip(labels, handles), key=lambda t: t[0]))\n",
    "ax.legend(handles=handles, labels=labels, bbox_to_anchor=(1.05, 1), loc=2, borderaxespad=0., ncol=1)\n",
    "plt.tight_layout()\n",
    "plt.show()\n"
   ]
  },
  {
   "cell_type": "code",
   "execution_count": null,
   "id": "b17c1605",
   "metadata": {},
   "outputs": [],
   "source": [
    "# np.save('/n/netscratch/zhuang_lab/Lab/Peter/higashi_dnamerfish/test2/state/embeddings_dnamerfish_stage1_r2.npy', cell_embeddings)"
   ]
  },
  {
   "cell_type": "code",
   "execution_count": null,
   "id": "666b6153",
   "metadata": {},
   "outputs": [],
   "source": [
    "higashi_model.current_device"
   ]
  },
  {
   "cell_type": "code",
   "execution_count": null,
   "id": "c58d1e15",
   "metadata": {},
   "outputs": [],
   "source": [
    "# higashi_model.higashi_model = torch.load(higashi_model.save_path + \"_stage1_model\", map_location=higashi_model.current_device)\n",
    "# higashi_model.node_embedding_init = None\n"
   ]
  },
  {
   "cell_type": "code",
   "execution_count": null,
   "id": "da8c89d1",
   "metadata": {},
   "outputs": [],
   "source": [
    "higashi_model.train_for_imputation_nbr_0()\n",
    "higashi_model.impute_no_nbr()"
   ]
  },
  {
   "cell_type": "code",
   "execution_count": null,
   "id": "69d5401f",
   "metadata": {},
   "outputs": [],
   "source": [
    "higashi_model.train_for_imputation_with_nbr()\n",
    "higashi_model.impute_with_nbr()"
   ]
  },
  {
   "cell_type": "code",
   "execution_count": null,
   "id": "781114df",
   "metadata": {},
   "outputs": [],
   "source": [
    "# Visualize final embedding results\n",
    "cell_embeddings = higashi_model.fetch_cell_embeddings()\n",
    "print (cell_embeddings.shape)\n",
    "\n",
    "from sklearn.decomposition import PCA\n",
    "\n",
    "cell_type = higashi_model.label_info['cluster_class']\n",
    "fig = plt.figure(figsize=(14, 5))\n",
    "ax = plt.subplot(1, 2, 1)\n",
    "vec = PCA(n_components=2).fit_transform(cell_embeddings)\n",
    "sns.scatterplot(x=vec[:, 0], y=vec[:, 1], hue=cell_type, ax=ax, s=6, linewidth=0)\n",
    "handles, labels = ax.get_legend_handles_labels()\n",
    "labels, handles = zip(*sorted(zip(labels, handles), key=lambda t: t[0]))\n",
    "ax.legend(handles=handles, labels=labels, bbox_to_anchor=(1.05, 1), loc=2, borderaxespad=0., ncol=1)\n",
    "ax = plt.subplot(1, 2, 2)\n",
    "vec = UMAP(n_components=2).fit_transform(cell_embeddings)\n",
    "sns.scatterplot(x=vec[:, 0], y=vec[:, 1], hue=cell_type, ax=ax, s=6, linewidth=0)\n",
    "handles, labels = ax.get_legend_handles_labels()\n",
    "labels, handles = zip(*sorted(zip(labels, handles), key=lambda t: t[0]))\n",
    "ax.legend(handles=handles, labels=labels, bbox_to_anchor=(1.05, 1), loc=2, borderaxespad=0., ncol=1)\n",
    "plt.tight_layout()\n",
    "plt.savefig('/n/home09/pren/figures/dnamerfish_pca_umapp_1000nmthresh.png')\n",
    "plt.show()"
   ]
  },
  {
   "cell_type": "code",
   "execution_count": null,
   "id": "3f389e10-11b8-423f-98c1-b8d325559b90",
   "metadata": {},
   "outputs": [],
   "source": [
    "# Visualize final embedding results\n",
    "cell_embeddings = higashi_model.fetch_cell_embeddings()\n",
    "print (cell_embeddings.shape)\n",
    "\n",
    "from sklearn.decomposition import PCA\n",
    "\n",
    "cell_type = higashi_model.label_info['neuron_identity']\n",
    "fig = plt.figure(figsize=(14, 5))\n",
    "ax = plt.subplot(1, 2, 1)\n",
    "vec = PCA(n_components=2).fit_transform(cell_embeddings)\n",
    "sns.scatterplot(x=vec[:, 0], y=vec[:, 1], hue=cell_type, ax=ax, s=6, linewidth=0)\n",
    "handles, labels = ax.get_legend_handles_labels()\n",
    "labels, handles = zip(*sorted(zip(labels, handles), key=lambda t: t[0]))\n",
    "ax.legend(handles=handles, labels=labels, bbox_to_anchor=(1.05, 1), loc=2, borderaxespad=0., ncol=1)\n",
    "ax = plt.subplot(1, 2, 2)\n",
    "vec = UMAP(n_components=2).fit_transform(cell_embeddings)\n",
    "sns.scatterplot(x=vec[:, 0], y=vec[:, 1], hue=cell_type, ax=ax, s=6, linewidth=0)\n",
    "handles, labels = ax.get_legend_handles_labels()\n",
    "labels, handles = zip(*sorted(zip(labels, handles), key=lambda t: t[0]))\n",
    "ax.legend(handles=handles, labels=labels, bbox_to_anchor=(1.05, 1), loc=2, borderaxespad=0., ncol=1)\n",
    "plt.tight_layout()\n",
    "plt.savefig('/n/home09/pren/figures/dnamerfish_pca_umapp_neuronlabels_1000nmthresh.png')\n",
    "plt.show()"
   ]
  },
  {
   "cell_type": "code",
   "execution_count": null,
   "id": "07557105-515f-4e67-821f-e874f9090c1a",
   "metadata": {},
   "outputs": [],
   "source": [
    "# ori.data"
   ]
  },
  {
   "cell_type": "code",
   "execution_count": null,
   "id": "5d59a924",
   "metadata": {
    "jupyter": {
     "source_hidden": true
    }
   },
   "outputs": [],
   "source": [
    "count = 0\n",
    "fig = plt.figure(figsize=(6, 2*5))\n",
    "i = 0\n",
    "for id_ in np.random.randint(0, 620, 620):\n",
    "    if i == 5:\n",
    "        break\n",
    "    ori, nbr0, nbr5 = higashi_model.fetch_map(\"chr3\", id_)\n",
    "    # print('ori.data.shape: ', ori.data.shape)\n",
    "    if ori.data.shape[0] == 0:\n",
    "        continue\n",
    "    else:\n",
    "        i += 1\n",
    "    count += 1\n",
    "    ax = plt.subplot(5, 3, count * 3 - 2)\n",
    "    ax.imshow(ori.toarray(), cmap='Reds', vmin=0.0, vmax=np.quantile(ori.data, 0.6))\n",
    "    ax.set_xticks([], [])\n",
    "    ax.set_yticks([], [])\n",
    "    if count == 1:\n",
    "        ax.set_title(\"raw\")\n",
    "    ax.set_ylabel(f'Cell {id_}')\n",
    "\n",
    "    \n",
    "    ax = plt.subplot(5, 3, count * 3 - 1)\n",
    "    ax.imshow(nbr0.toarray(), cmap='Reds', vmin=0.0, vmax=np.quantile(nbr0.data, 0.95))\n",
    "    ax.set_xticks([], [])\n",
    "    ax.set_yticks([], [])\n",
    "    if count == 1:\n",
    "        ax.set_title(\"higashi, k=0\")\n",
    "    \n",
    "    ax = plt.subplot(5, 3, count * 3)\n",
    "    ax.imshow(nbr5.toarray(), cmap='Reds', vmin=0.0, vmax=np.quantile(nbr5.data, 0.95))\n",
    "    ax.set_xticks([], [])\n",
    "    ax.set_yticks([], [])\n",
    "    if count == 1:\n",
    "        ax.set_title(\"higashi, k=5\")\n",
    "\n",
    "plt.tight_layout()\n",
    "# plt.suptitle('Chromosome 3')\n",
    "\n",
    "plt.savefig('/n/home09/pren/figures/dnamerfish_imputation_1000nmthresh.png')"
   ]
  },
  {
   "cell_type": "code",
   "execution_count": null,
   "id": "662006b1",
   "metadata": {},
   "outputs": [],
   "source": []
  },
  {
   "cell_type": "code",
   "execution_count": null,
   "id": "baddeae8",
   "metadata": {},
   "outputs": [],
   "source": []
  },
  {
   "cell_type": "code",
   "execution_count": null,
   "id": "92e3e35b-be95-459b-831a-1e36cd543e48",
   "metadata": {},
   "outputs": [],
   "source": []
  }
 ],
 "metadata": {
  "kernelspec": {
   "display_name": "Python 3 (ipykernel)",
   "language": "python",
   "name": "python3"
  },
  "language_info": {
   "codemirror_mode": {
    "name": "ipython",
    "version": 3
   },
   "file_extension": ".py",
   "mimetype": "text/x-python",
   "name": "python",
   "nbconvert_exporter": "python",
   "pygments_lexer": "ipython3",
   "version": "3.10.16"
  }
 },
 "nbformat": 4,
 "nbformat_minor": 5
}
