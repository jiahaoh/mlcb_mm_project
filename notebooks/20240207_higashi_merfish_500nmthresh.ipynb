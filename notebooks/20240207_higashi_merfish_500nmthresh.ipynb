{
 "cells": [
  {
   "cell_type": "code",
   "execution_count": 1,
   "id": "923be02d",
   "metadata": {},
   "outputs": [],
   "source": [
    "import os\n",
    "import re\n",
    "import pickle\n",
    "\n",
    "import numpy as np\n",
    "import pandas as pd"
   ]
  },
  {
   "cell_type": "code",
   "execution_count": 2,
   "id": "babfaf8e",
   "metadata": {},
   "outputs": [
    {
     "name": "stdout",
     "output_type": "stream",
     "text": [
      "2.5.1+cu118\n"
     ]
    }
   ],
   "source": [
    "import torch\n",
    "print(torch.__version__)"
   ]
  },
  {
   "cell_type": "code",
   "execution_count": 3,
   "id": "5a7f907b",
   "metadata": {},
   "outputs": [
    {
     "name": "stdout",
     "output_type": "stream",
     "text": [
      "Is CUDA available: True\n",
      "CUDA device count: 1\n",
      "CUDA version: 11.8\n",
      "CUDA devices: [<torch.cuda.device object at 0x14af18d18df0>]\n",
      "CUDA_VISIBLE_DEVICES: MIG-aa265898-f38d-56fb-a517-3ec989e16b08\n",
      "Successfully allocated tensor on GPU.\n"
     ]
    }
   ],
   "source": [
    "print(\"Is CUDA available:\", torch.cuda.is_available())\n",
    "print(\"CUDA device count:\", torch.cuda.device_count())\n",
    "print(\"CUDA version:\", torch.version.cuda)\n",
    "print(\"CUDA devices:\", [torch.cuda.device(i) for i in range(torch.cuda.device_count())])\n",
    "print(\"CUDA_VISIBLE_DEVICES:\", os.environ.get('CUDA_VISIBLE_DEVICES'))\n",
    "\n",
    "# Try to allocate a tensor on GPU\n",
    "try:\n",
    "    device = torch.device('cuda:0')\n",
    "    torch.tensor([1.0], device=device)\n",
    "    print(\"Successfully allocated tensor on GPU.\")\n",
    "except Exception as e:\n",
    "    print(\"Failed to allocate tensor on GPU:\", e)"
   ]
  },
  {
   "cell_type": "code",
   "execution_count": 4,
   "id": "3dcd3c5b",
   "metadata": {},
   "outputs": [
    {
     "data": {
      "text/plain": [
       "['/n/home09/pren/3DGeno_tools/src/gt3d/modules',\n",
       " '/n/home09/pren/.conda/envs/gt3d/lib/python310.zip',\n",
       " '/n/home09/pren/.conda/envs/gt3d/lib/python3.10',\n",
       " '/n/home09/pren/.conda/envs/gt3d/lib/python3.10/lib-dynload',\n",
       " '',\n",
       " '/n/home09/pren/.conda/envs/gt3d/lib/python3.10/site-packages',\n",
       " '/n/home09/pren/3DGeno_tools/src']"
      ]
     },
     "execution_count": 4,
     "metadata": {},
     "output_type": "execute_result"
    }
   ],
   "source": [
    "import sys\n",
    "sys.path.insert(0, '/n/home09/pren/3DGeno_tools/src/gt3d/modules')\n",
    "# sys.path.append('/n/home09/pren/Higashi')\n",
    "# sys.path = ['/n/home09/pren/3DGeno_tools/src/gt3d/modules'] + sys.path\n",
    "sys.path\n"
   ]
  },
  {
   "cell_type": "code",
   "execution_count": 5,
   "id": "099fe23f-f32c-4f00-b75e-ef6ee0512010",
   "metadata": {},
   "outputs": [
    {
     "name": "stdout",
     "output_type": "stream",
     "text": [
      "/n/home09/pren/3DGeno_tools/src/gt3d/modules/higashi/__init__.py\n"
     ]
    }
   ],
   "source": [
    "import higashi\n",
    "print(higashi.__file__)"
   ]
  },
  {
   "cell_type": "code",
   "execution_count": 6,
   "id": "dfcdb4f6",
   "metadata": {},
   "outputs": [],
   "source": [
    "from higashi.Higashi_wrapper import *"
   ]
  },
  {
   "cell_type": "code",
   "execution_count": 7,
   "id": "ae94ecf2",
   "metadata": {},
   "outputs": [],
   "source": [
    "fish_path = '/n/netscratch/zhuang_lab/Lab/Peter/higashi_dnamerfish/multiplexed_fish'"
   ]
  },
  {
   "cell_type": "code",
   "execution_count": 8,
   "id": "d95bcbfa",
   "metadata": {},
   "outputs": [
    {
     "data": {
      "text/html": [
       "<div>\n",
       "<style scoped>\n",
       "    .dataframe tbody tr th:only-of-type {\n",
       "        vertical-align: middle;\n",
       "    }\n",
       "\n",
       "    .dataframe tbody tr th {\n",
       "        vertical-align: top;\n",
       "    }\n",
       "\n",
       "    .dataframe thead th {\n",
       "        text-align: right;\n",
       "    }\n",
       "</style>\n",
       "<table border=\"1\" class=\"dataframe\">\n",
       "  <thead>\n",
       "    <tr style=\"text-align: right;\">\n",
       "      <th></th>\n",
       "      <th>Cell_ID</th>\n",
       "      <th>FOV_ID</th>\n",
       "      <th>cell_volume_from_merlin</th>\n",
       "      <th>cell_center_x_global</th>\n",
       "      <th>cell_center_y_global</th>\n",
       "      <th>RNA_experiment_ID</th>\n",
       "      <th>Sample_ID</th>\n",
       "      <th>cluster_subclass</th>\n",
       "      <th>cluster_class</th>\n",
       "      <th>neuron_identity</th>\n",
       "      <th>...</th>\n",
       "      <th>Unc13c</th>\n",
       "      <th>Unc5b</th>\n",
       "      <th>Unc5d</th>\n",
       "      <th>Ust</th>\n",
       "      <th>Vipr2</th>\n",
       "      <th>Vtn</th>\n",
       "      <th>Vwc2</th>\n",
       "      <th>Wipf3</th>\n",
       "      <th>Wnt7b</th>\n",
       "      <th>Zfp804b</th>\n",
       "    </tr>\n",
       "  </thead>\n",
       "  <tbody>\n",
       "    <tr>\n",
       "      <th>0</th>\n",
       "      <td>103489270985795086009915676188840872439</td>\n",
       "      <td>0</td>\n",
       "      <td>403.121799</td>\n",
       "      <td>-5984.643199</td>\n",
       "      <td>3962.926100</td>\n",
       "      <td>20220304</td>\n",
       "      <td>C57BL/6_M_1_MOp_1</td>\n",
       "      <td>Astro</td>\n",
       "      <td>Astro</td>\n",
       "      <td>Non-Neuronal</td>\n",
       "      <td>...</td>\n",
       "      <td>0.0</td>\n",
       "      <td>0.0</td>\n",
       "      <td>0.0</td>\n",
       "      <td>0.0</td>\n",
       "      <td>0.0</td>\n",
       "      <td>0.0</td>\n",
       "      <td>0.0</td>\n",
       "      <td>0.0</td>\n",
       "      <td>0.0</td>\n",
       "      <td>0.0</td>\n",
       "    </tr>\n",
       "    <tr>\n",
       "      <th>1</th>\n",
       "      <td>113811790893231448949429397438012891173</td>\n",
       "      <td>0</td>\n",
       "      <td>1345.443053</td>\n",
       "      <td>-6046.845801</td>\n",
       "      <td>3943.378100</td>\n",
       "      <td>20220304</td>\n",
       "      <td>C57BL/6_M_1_MOp_1</td>\n",
       "      <td>other</td>\n",
       "      <td>other</td>\n",
       "      <td>other</td>\n",
       "      <td>...</td>\n",
       "      <td>0.0</td>\n",
       "      <td>0.0</td>\n",
       "      <td>0.0</td>\n",
       "      <td>0.0</td>\n",
       "      <td>0.0</td>\n",
       "      <td>0.0</td>\n",
       "      <td>0.0</td>\n",
       "      <td>0.0</td>\n",
       "      <td>0.0</td>\n",
       "      <td>0.0</td>\n",
       "    </tr>\n",
       "    <tr>\n",
       "      <th>2</th>\n",
       "      <td>119547840309256440899855144626134392385</td>\n",
       "      <td>0</td>\n",
       "      <td>866.273544</td>\n",
       "      <td>-6009.207800</td>\n",
       "      <td>3915.406099</td>\n",
       "      <td>20220304</td>\n",
       "      <td>C57BL/6_M_1_MOp_1</td>\n",
       "      <td>other</td>\n",
       "      <td>other</td>\n",
       "      <td>other</td>\n",
       "      <td>...</td>\n",
       "      <td>0.0</td>\n",
       "      <td>0.0</td>\n",
       "      <td>0.0</td>\n",
       "      <td>0.0</td>\n",
       "      <td>0.0</td>\n",
       "      <td>0.0</td>\n",
       "      <td>0.0</td>\n",
       "      <td>1.0</td>\n",
       "      <td>0.0</td>\n",
       "      <td>0.0</td>\n",
       "    </tr>\n",
       "    <tr>\n",
       "      <th>3</th>\n",
       "      <td>120849314423504941338008541020153695260</td>\n",
       "      <td>0</td>\n",
       "      <td>1186.181156</td>\n",
       "      <td>-6114.885802</td>\n",
       "      <td>3938.572100</td>\n",
       "      <td>20220304</td>\n",
       "      <td>C57BL/6_M_1_MOp_1</td>\n",
       "      <td>other</td>\n",
       "      <td>other</td>\n",
       "      <td>other</td>\n",
       "      <td>...</td>\n",
       "      <td>0.0</td>\n",
       "      <td>0.0</td>\n",
       "      <td>0.0</td>\n",
       "      <td>0.0</td>\n",
       "      <td>0.0</td>\n",
       "      <td>0.0</td>\n",
       "      <td>1.0</td>\n",
       "      <td>0.0</td>\n",
       "      <td>0.0</td>\n",
       "      <td>0.0</td>\n",
       "    </tr>\n",
       "    <tr>\n",
       "      <th>4</th>\n",
       "      <td>125550627244524118102850004242680097855</td>\n",
       "      <td>0</td>\n",
       "      <td>281.811702</td>\n",
       "      <td>-6190.485804</td>\n",
       "      <td>3985.876101</td>\n",
       "      <td>20220304</td>\n",
       "      <td>C57BL/6_M_1_MOp_1</td>\n",
       "      <td>Peri</td>\n",
       "      <td>Peri</td>\n",
       "      <td>Non-Neuronal</td>\n",
       "      <td>...</td>\n",
       "      <td>0.0</td>\n",
       "      <td>0.0</td>\n",
       "      <td>0.0</td>\n",
       "      <td>0.0</td>\n",
       "      <td>0.0</td>\n",
       "      <td>1.0</td>\n",
       "      <td>0.0</td>\n",
       "      <td>0.0</td>\n",
       "      <td>0.0</td>\n",
       "      <td>0.0</td>\n",
       "    </tr>\n",
       "    <tr>\n",
       "      <th>...</th>\n",
       "      <td>...</td>\n",
       "      <td>...</td>\n",
       "      <td>...</td>\n",
       "      <td>...</td>\n",
       "      <td>...</td>\n",
       "      <td>...</td>\n",
       "      <td>...</td>\n",
       "      <td>...</td>\n",
       "      <td>...</td>\n",
       "      <td>...</td>\n",
       "      <td>...</td>\n",
       "      <td>...</td>\n",
       "      <td>...</td>\n",
       "      <td>...</td>\n",
       "      <td>...</td>\n",
       "      <td>...</td>\n",
       "      <td>...</td>\n",
       "      <td>...</td>\n",
       "      <td>...</td>\n",
       "      <td>...</td>\n",
       "      <td>...</td>\n",
       "    </tr>\n",
       "    <tr>\n",
       "      <th>17851</th>\n",
       "      <td>89740340849279220555487673174291177981</td>\n",
       "      <td>167</td>\n",
       "      <td>746.108561</td>\n",
       "      <td>3028.620050</td>\n",
       "      <td>-2372.662093</td>\n",
       "      <td>20220304</td>\n",
       "      <td>C57BL/6_M_1_MOp_1</td>\n",
       "      <td>L5/6 NP</td>\n",
       "      <td>Gluta</td>\n",
       "      <td>Neuronal</td>\n",
       "      <td>...</td>\n",
       "      <td>5.0</td>\n",
       "      <td>0.0</td>\n",
       "      <td>0.0</td>\n",
       "      <td>1.0</td>\n",
       "      <td>1.0</td>\n",
       "      <td>0.0</td>\n",
       "      <td>0.0</td>\n",
       "      <td>8.0</td>\n",
       "      <td>0.0</td>\n",
       "      <td>1.0</td>\n",
       "    </tr>\n",
       "    <tr>\n",
       "      <th>17852</th>\n",
       "      <td>90550019712359509388050476283813007625</td>\n",
       "      <td>167</td>\n",
       "      <td>931.565237</td>\n",
       "      <td>3093.798051</td>\n",
       "      <td>-2484.658096</td>\n",
       "      <td>20220304</td>\n",
       "      <td>C57BL/6_M_1_MOp_1</td>\n",
       "      <td>L6 CT</td>\n",
       "      <td>Gluta</td>\n",
       "      <td>Neuronal</td>\n",
       "      <td>...</td>\n",
       "      <td>1.0</td>\n",
       "      <td>0.0</td>\n",
       "      <td>0.0</td>\n",
       "      <td>2.0</td>\n",
       "      <td>0.0</td>\n",
       "      <td>0.0</td>\n",
       "      <td>0.0</td>\n",
       "      <td>30.0</td>\n",
       "      <td>0.0</td>\n",
       "      <td>0.0</td>\n",
       "    </tr>\n",
       "    <tr>\n",
       "      <th>17853</th>\n",
       "      <td>91790428117198932838975210302149417238</td>\n",
       "      <td>167</td>\n",
       "      <td>146.709916</td>\n",
       "      <td>3073.926051</td>\n",
       "      <td>-2429.902094</td>\n",
       "      <td>20220304</td>\n",
       "      <td>C57BL/6_M_1_MOp_1</td>\n",
       "      <td>Astro</td>\n",
       "      <td>Astro</td>\n",
       "      <td>Non-Neuronal</td>\n",
       "      <td>...</td>\n",
       "      <td>0.0</td>\n",
       "      <td>0.0</td>\n",
       "      <td>0.0</td>\n",
       "      <td>0.0</td>\n",
       "      <td>0.0</td>\n",
       "      <td>0.0</td>\n",
       "      <td>0.0</td>\n",
       "      <td>0.0</td>\n",
       "      <td>0.0</td>\n",
       "      <td>0.0</td>\n",
       "    </tr>\n",
       "    <tr>\n",
       "      <th>17854</th>\n",
       "      <td>95847719459140129344505526245510134602</td>\n",
       "      <td>167</td>\n",
       "      <td>264.662706</td>\n",
       "      <td>3019.332049</td>\n",
       "      <td>-2441.458095</td>\n",
       "      <td>20220304</td>\n",
       "      <td>C57BL/6_M_1_MOp_1</td>\n",
       "      <td>L6 CT</td>\n",
       "      <td>Gluta</td>\n",
       "      <td>Neuronal</td>\n",
       "      <td>...</td>\n",
       "      <td>0.0</td>\n",
       "      <td>0.0</td>\n",
       "      <td>0.0</td>\n",
       "      <td>3.0</td>\n",
       "      <td>0.0</td>\n",
       "      <td>0.0</td>\n",
       "      <td>0.0</td>\n",
       "      <td>4.0</td>\n",
       "      <td>0.0</td>\n",
       "      <td>1.0</td>\n",
       "    </tr>\n",
       "    <tr>\n",
       "      <th>17855</th>\n",
       "      <td>98631367793753865210420375896077451174</td>\n",
       "      <td>167</td>\n",
       "      <td>237.911553</td>\n",
       "      <td>3176.202053</td>\n",
       "      <td>-2464.462095</td>\n",
       "      <td>20220304</td>\n",
       "      <td>C57BL/6_M_1_MOp_1</td>\n",
       "      <td>Oligo</td>\n",
       "      <td>Oligo</td>\n",
       "      <td>Non-Neuronal</td>\n",
       "      <td>...</td>\n",
       "      <td>0.0</td>\n",
       "      <td>4.0</td>\n",
       "      <td>0.0</td>\n",
       "      <td>4.0</td>\n",
       "      <td>0.0</td>\n",
       "      <td>0.0</td>\n",
       "      <td>0.0</td>\n",
       "      <td>0.0</td>\n",
       "      <td>0.0</td>\n",
       "      <td>0.0</td>\n",
       "    </tr>\n",
       "  </tbody>\n",
       "</table>\n",
       "<p>17856 rows × 252 columns</p>\n",
       "</div>"
      ],
      "text/plain": [
       "                                       Cell_ID  FOV_ID  \\\n",
       "0      103489270985795086009915676188840872439       0   \n",
       "1      113811790893231448949429397438012891173       0   \n",
       "2      119547840309256440899855144626134392385       0   \n",
       "3      120849314423504941338008541020153695260       0   \n",
       "4      125550627244524118102850004242680097855       0   \n",
       "...                                        ...     ...   \n",
       "17851   89740340849279220555487673174291177981     167   \n",
       "17852   90550019712359509388050476283813007625     167   \n",
       "17853   91790428117198932838975210302149417238     167   \n",
       "17854   95847719459140129344505526245510134602     167   \n",
       "17855   98631367793753865210420375896077451174     167   \n",
       "\n",
       "       cell_volume_from_merlin  cell_center_x_global  cell_center_y_global  \\\n",
       "0                   403.121799          -5984.643199           3962.926100   \n",
       "1                  1345.443053          -6046.845801           3943.378100   \n",
       "2                   866.273544          -6009.207800           3915.406099   \n",
       "3                  1186.181156          -6114.885802           3938.572100   \n",
       "4                   281.811702          -6190.485804           3985.876101   \n",
       "...                        ...                   ...                   ...   \n",
       "17851               746.108561           3028.620050          -2372.662093   \n",
       "17852               931.565237           3093.798051          -2484.658096   \n",
       "17853               146.709916           3073.926051          -2429.902094   \n",
       "17854               264.662706           3019.332049          -2441.458095   \n",
       "17855               237.911553           3176.202053          -2464.462095   \n",
       "\n",
       "       RNA_experiment_ID          Sample_ID cluster_subclass cluster_class  \\\n",
       "0               20220304  C57BL/6_M_1_MOp_1            Astro         Astro   \n",
       "1               20220304  C57BL/6_M_1_MOp_1            other         other   \n",
       "2               20220304  C57BL/6_M_1_MOp_1            other         other   \n",
       "3               20220304  C57BL/6_M_1_MOp_1            other         other   \n",
       "4               20220304  C57BL/6_M_1_MOp_1             Peri          Peri   \n",
       "...                  ...                ...              ...           ...   \n",
       "17851           20220304  C57BL/6_M_1_MOp_1          L5/6 NP         Gluta   \n",
       "17852           20220304  C57BL/6_M_1_MOp_1            L6 CT         Gluta   \n",
       "17853           20220304  C57BL/6_M_1_MOp_1            Astro         Astro   \n",
       "17854           20220304  C57BL/6_M_1_MOp_1            L6 CT         Gluta   \n",
       "17855           20220304  C57BL/6_M_1_MOp_1            Oligo         Oligo   \n",
       "\n",
       "      neuron_identity  ...  Unc13c  Unc5b  Unc5d  Ust  Vipr2  Vtn  Vwc2  \\\n",
       "0        Non-Neuronal  ...     0.0    0.0    0.0  0.0    0.0  0.0   0.0   \n",
       "1               other  ...     0.0    0.0    0.0  0.0    0.0  0.0   0.0   \n",
       "2               other  ...     0.0    0.0    0.0  0.0    0.0  0.0   0.0   \n",
       "3               other  ...     0.0    0.0    0.0  0.0    0.0  0.0   1.0   \n",
       "4        Non-Neuronal  ...     0.0    0.0    0.0  0.0    0.0  1.0   0.0   \n",
       "...               ...  ...     ...    ...    ...  ...    ...  ...   ...   \n",
       "17851        Neuronal  ...     5.0    0.0    0.0  1.0    1.0  0.0   0.0   \n",
       "17852        Neuronal  ...     1.0    0.0    0.0  2.0    0.0  0.0   0.0   \n",
       "17853    Non-Neuronal  ...     0.0    0.0    0.0  0.0    0.0  0.0   0.0   \n",
       "17854        Neuronal  ...     0.0    0.0    0.0  3.0    0.0  0.0   0.0   \n",
       "17855    Non-Neuronal  ...     0.0    4.0    0.0  4.0    0.0  0.0   0.0   \n",
       "\n",
       "       Wipf3  Wnt7b  Zfp804b  \n",
       "0        0.0    0.0      0.0  \n",
       "1        0.0    0.0      0.0  \n",
       "2        1.0    0.0      0.0  \n",
       "3        0.0    0.0      0.0  \n",
       "4        0.0    0.0      0.0  \n",
       "...      ...    ...      ...  \n",
       "17851    8.0    0.0      1.0  \n",
       "17852   30.0    0.0      0.0  \n",
       "17853    0.0    0.0      0.0  \n",
       "17854    4.0    0.0      1.0  \n",
       "17855    0.0    0.0      0.0  \n",
       "\n",
       "[17856 rows x 252 columns]"
      ]
     },
     "execution_count": 8,
     "metadata": {},
     "output_type": "execute_result"
    }
   ],
   "source": [
    "cell_df = pd.read_csv(os.path.join(fish_path, '4DNESMTNNB3N/4DNFIA7FUW8Y.csv'), skiprows=22)\n",
    "cell_df = cell_df.rename(columns={'##columns=(Cell_ID': 'Cell_ID', 'Zfp804b)': 'Zfp804b'})\n",
    "cell_df\n"
   ]
  },
  {
   "cell_type": "code",
   "execution_count": 9,
   "id": "40271fec",
   "metadata": {},
   "outputs": [
    {
     "data": {
      "text/plain": [
       "2420"
      ]
     },
     "execution_count": 9,
     "metadata": {},
     "output_type": "execute_result"
    }
   ],
   "source": [
    "cell_ids = [re.search('cell\\d+', filename).group()[4:] for filename in os.listdir(os.path.join(fish_path, 'merfish_contacts_thresh500nm'))]\n",
    "len(cell_ids)"
   ]
  },
  {
   "cell_type": "code",
   "execution_count": 10,
   "id": "a9846a86",
   "metadata": {},
   "outputs": [
    {
     "data": {
      "text/html": [
       "<div>\n",
       "<style scoped>\n",
       "    .dataframe tbody tr th:only-of-type {\n",
       "        vertical-align: middle;\n",
       "    }\n",
       "\n",
       "    .dataframe tbody tr th {\n",
       "        vertical-align: top;\n",
       "    }\n",
       "\n",
       "    .dataframe thead th {\n",
       "        text-align: right;\n",
       "    }\n",
       "</style>\n",
       "<table border=\"1\" class=\"dataframe\">\n",
       "  <thead>\n",
       "    <tr style=\"text-align: right;\">\n",
       "      <th></th>\n",
       "      <th>Cell_ID</th>\n",
       "      <th>FOV_ID</th>\n",
       "      <th>cell_volume_from_merlin</th>\n",
       "      <th>cell_center_x_global</th>\n",
       "      <th>cell_center_y_global</th>\n",
       "      <th>RNA_experiment_ID</th>\n",
       "      <th>Sample_ID</th>\n",
       "      <th>cluster_subclass</th>\n",
       "      <th>cluster_class</th>\n",
       "      <th>neuron_identity</th>\n",
       "      <th>...</th>\n",
       "      <th>Unc13c</th>\n",
       "      <th>Unc5b</th>\n",
       "      <th>Unc5d</th>\n",
       "      <th>Ust</th>\n",
       "      <th>Vipr2</th>\n",
       "      <th>Vtn</th>\n",
       "      <th>Vwc2</th>\n",
       "      <th>Wipf3</th>\n",
       "      <th>Wnt7b</th>\n",
       "      <th>Zfp804b</th>\n",
       "    </tr>\n",
       "  </thead>\n",
       "  <tbody>\n",
       "    <tr>\n",
       "      <th>0</th>\n",
       "      <td>100143354915909514340563966591344282617</td>\n",
       "      <td>84.0</td>\n",
       "      <td>852.211658</td>\n",
       "      <td>2475.098099</td>\n",
       "      <td>-1024.199995</td>\n",
       "      <td>20220304.0</td>\n",
       "      <td>C57BL/6_M_1_MOp_1</td>\n",
       "      <td>L2/3 IT</td>\n",
       "      <td>Gluta</td>\n",
       "      <td>Neuronal</td>\n",
       "      <td>...</td>\n",
       "      <td>2.0</td>\n",
       "      <td>2.0</td>\n",
       "      <td>0.0</td>\n",
       "      <td>1.0</td>\n",
       "      <td>0.0</td>\n",
       "      <td>0.0</td>\n",
       "      <td>0.0</td>\n",
       "      <td>33.0</td>\n",
       "      <td>0.0</td>\n",
       "      <td>1.0</td>\n",
       "    </tr>\n",
       "    <tr>\n",
       "      <th>1</th>\n",
       "      <td>100444929727335622562402977796883679092</td>\n",
       "      <td>8.0</td>\n",
       "      <td>844.089198</td>\n",
       "      <td>-5802.457800</td>\n",
       "      <td>4135.278100</td>\n",
       "      <td>20220304.0</td>\n",
       "      <td>C57BL/6_M_1_MOp_1</td>\n",
       "      <td>Endo</td>\n",
       "      <td>Endo</td>\n",
       "      <td>Non-Neuronal</td>\n",
       "      <td>...</td>\n",
       "      <td>2.0</td>\n",
       "      <td>0.0</td>\n",
       "      <td>0.0</td>\n",
       "      <td>2.0</td>\n",
       "      <td>0.0</td>\n",
       "      <td>0.0</td>\n",
       "      <td>0.0</td>\n",
       "      <td>0.0</td>\n",
       "      <td>0.0</td>\n",
       "      <td>0.0</td>\n",
       "    </tr>\n",
       "    <tr>\n",
       "      <th>2</th>\n",
       "      <td>100636001562801092372127493520169017848</td>\n",
       "      <td>75.0</td>\n",
       "      <td>598.349001</td>\n",
       "      <td>-6372.189898</td>\n",
       "      <td>5324.277907</td>\n",
       "      <td>20220304.0</td>\n",
       "      <td>C57BL/6_M_1_MOp_1</td>\n",
       "      <td>VLMC</td>\n",
       "      <td>VLMC</td>\n",
       "      <td>Non-Neuronal</td>\n",
       "      <td>...</td>\n",
       "      <td>1.0</td>\n",
       "      <td>0.0</td>\n",
       "      <td>0.0</td>\n",
       "      <td>0.0</td>\n",
       "      <td>0.0</td>\n",
       "      <td>0.0</td>\n",
       "      <td>0.0</td>\n",
       "      <td>0.0</td>\n",
       "      <td>0.0</td>\n",
       "      <td>0.0</td>\n",
       "    </tr>\n",
       "    <tr>\n",
       "      <th>3</th>\n",
       "      <td>100641667178165970074422975257012665391</td>\n",
       "      <td>84.0</td>\n",
       "      <td>762.882093</td>\n",
       "      <td>2494.970100</td>\n",
       "      <td>-1057.625996</td>\n",
       "      <td>20220304.0</td>\n",
       "      <td>C57BL/6_M_1_MOp_1</td>\n",
       "      <td>Endo</td>\n",
       "      <td>Endo</td>\n",
       "      <td>Non-Neuronal</td>\n",
       "      <td>...</td>\n",
       "      <td>2.0</td>\n",
       "      <td>5.0</td>\n",
       "      <td>0.0</td>\n",
       "      <td>0.0</td>\n",
       "      <td>0.0</td>\n",
       "      <td>1.0</td>\n",
       "      <td>0.0</td>\n",
       "      <td>0.0</td>\n",
       "      <td>0.0</td>\n",
       "      <td>0.0</td>\n",
       "    </tr>\n",
       "    <tr>\n",
       "      <th>4</th>\n",
       "      <td>100645494773040598441840741335181821324</td>\n",
       "      <td>81.0</td>\n",
       "      <td>917.879399</td>\n",
       "      <td>2390.604102</td>\n",
       "      <td>-437.051995</td>\n",
       "      <td>20220304.0</td>\n",
       "      <td>C57BL/6_M_1_MOp_1</td>\n",
       "      <td>Astro</td>\n",
       "      <td>Astro</td>\n",
       "      <td>Non-Neuronal</td>\n",
       "      <td>...</td>\n",
       "      <td>2.0</td>\n",
       "      <td>0.0</td>\n",
       "      <td>0.0</td>\n",
       "      <td>0.0</td>\n",
       "      <td>0.0</td>\n",
       "      <td>0.0</td>\n",
       "      <td>0.0</td>\n",
       "      <td>1.0</td>\n",
       "      <td>3.0</td>\n",
       "      <td>0.0</td>\n",
       "    </tr>\n",
       "    <tr>\n",
       "      <th>...</th>\n",
       "      <td>...</td>\n",
       "      <td>...</td>\n",
       "      <td>...</td>\n",
       "      <td>...</td>\n",
       "      <td>...</td>\n",
       "      <td>...</td>\n",
       "      <td>...</td>\n",
       "      <td>...</td>\n",
       "      <td>...</td>\n",
       "      <td>...</td>\n",
       "      <td>...</td>\n",
       "      <td>...</td>\n",
       "      <td>...</td>\n",
       "      <td>...</td>\n",
       "      <td>...</td>\n",
       "      <td>...</td>\n",
       "      <td>...</td>\n",
       "      <td>...</td>\n",
       "      <td>...</td>\n",
       "      <td>...</td>\n",
       "      <td>...</td>\n",
       "    </tr>\n",
       "    <tr>\n",
       "      <th>2415</th>\n",
       "      <td>99732441040257909568179107546777692281</td>\n",
       "      <td>85.0</td>\n",
       "      <td>1189.559867</td>\n",
       "      <td>2588.552102</td>\n",
       "      <td>-950.289998</td>\n",
       "      <td>20220304.0</td>\n",
       "      <td>C57BL/6_M_1_MOp_1</td>\n",
       "      <td>Sst</td>\n",
       "      <td>GABA</td>\n",
       "      <td>Neuronal</td>\n",
       "      <td>...</td>\n",
       "      <td>13.0</td>\n",
       "      <td>2.0</td>\n",
       "      <td>6.0</td>\n",
       "      <td>7.0</td>\n",
       "      <td>1.0</td>\n",
       "      <td>1.0</td>\n",
       "      <td>13.0</td>\n",
       "      <td>17.0</td>\n",
       "      <td>1.0</td>\n",
       "      <td>0.0</td>\n",
       "    </tr>\n",
       "    <tr>\n",
       "      <th>2416</th>\n",
       "      <td>99760521419024717766427788907150197811</td>\n",
       "      <td>84.0</td>\n",
       "      <td>554.913079</td>\n",
       "      <td>2633.588103</td>\n",
       "      <td>-1030.841995</td>\n",
       "      <td>20220304.0</td>\n",
       "      <td>C57BL/6_M_1_MOp_1</td>\n",
       "      <td>L5 IT</td>\n",
       "      <td>Gluta</td>\n",
       "      <td>Neuronal</td>\n",
       "      <td>...</td>\n",
       "      <td>0.0</td>\n",
       "      <td>0.0</td>\n",
       "      <td>0.0</td>\n",
       "      <td>0.0</td>\n",
       "      <td>0.0</td>\n",
       "      <td>0.0</td>\n",
       "      <td>0.0</td>\n",
       "      <td>0.0</td>\n",
       "      <td>1.0</td>\n",
       "      <td>0.0</td>\n",
       "    </tr>\n",
       "    <tr>\n",
       "      <th>2417</th>\n",
       "      <td>99806661526131685558261006620437651282</td>\n",
       "      <td>72.0</td>\n",
       "      <td>625.749255</td>\n",
       "      <td>-6655.781900</td>\n",
       "      <td>5085.343906</td>\n",
       "      <td>20220304.0</td>\n",
       "      <td>C57BL/6_M_1_MOp_1</td>\n",
       "      <td>Endo</td>\n",
       "      <td>Endo</td>\n",
       "      <td>Non-Neuronal</td>\n",
       "      <td>...</td>\n",
       "      <td>0.0</td>\n",
       "      <td>0.0</td>\n",
       "      <td>0.0</td>\n",
       "      <td>0.0</td>\n",
       "      <td>0.0</td>\n",
       "      <td>0.0</td>\n",
       "      <td>0.0</td>\n",
       "      <td>1.0</td>\n",
       "      <td>0.0</td>\n",
       "      <td>0.0</td>\n",
       "    </tr>\n",
       "    <tr>\n",
       "      <th>2418</th>\n",
       "      <td>99895158179073067511837782015760741030</td>\n",
       "      <td>9.0</td>\n",
       "      <td>498.213556</td>\n",
       "      <td>-5864.665801</td>\n",
       "      <td>3896.452099</td>\n",
       "      <td>20220304.0</td>\n",
       "      <td>C57BL/6_M_1_MOp_1</td>\n",
       "      <td>Micro</td>\n",
       "      <td>Micro</td>\n",
       "      <td>Non-Neuronal</td>\n",
       "      <td>...</td>\n",
       "      <td>0.0</td>\n",
       "      <td>0.0</td>\n",
       "      <td>0.0</td>\n",
       "      <td>0.0</td>\n",
       "      <td>0.0</td>\n",
       "      <td>0.0</td>\n",
       "      <td>0.0</td>\n",
       "      <td>0.0</td>\n",
       "      <td>0.0</td>\n",
       "      <td>0.0</td>\n",
       "    </tr>\n",
       "    <tr>\n",
       "      <th>2419</th>\n",
       "      <td>99926991096702427762005918916944379629</td>\n",
       "      <td>92.0</td>\n",
       "      <td>1133.789731</td>\n",
       "      <td>2640.106098</td>\n",
       "      <td>-300.987997</td>\n",
       "      <td>20220304.0</td>\n",
       "      <td>C57BL/6_M_1_MOp_1</td>\n",
       "      <td>L2/3 IT</td>\n",
       "      <td>Gluta</td>\n",
       "      <td>Neuronal</td>\n",
       "      <td>...</td>\n",
       "      <td>1.0</td>\n",
       "      <td>0.0</td>\n",
       "      <td>7.0</td>\n",
       "      <td>0.0</td>\n",
       "      <td>1.0</td>\n",
       "      <td>0.0</td>\n",
       "      <td>2.0</td>\n",
       "      <td>41.0</td>\n",
       "      <td>1.0</td>\n",
       "      <td>0.0</td>\n",
       "    </tr>\n",
       "  </tbody>\n",
       "</table>\n",
       "<p>2420 rows × 252 columns</p>\n",
       "</div>"
      ],
      "text/plain": [
       "                                      Cell_ID  FOV_ID  \\\n",
       "0     100143354915909514340563966591344282617    84.0   \n",
       "1     100444929727335622562402977796883679092     8.0   \n",
       "2     100636001562801092372127493520169017848    75.0   \n",
       "3     100641667178165970074422975257012665391    84.0   \n",
       "4     100645494773040598441840741335181821324    81.0   \n",
       "...                                       ...     ...   \n",
       "2415   99732441040257909568179107546777692281    85.0   \n",
       "2416   99760521419024717766427788907150197811    84.0   \n",
       "2417   99806661526131685558261006620437651282    72.0   \n",
       "2418   99895158179073067511837782015760741030     9.0   \n",
       "2419   99926991096702427762005918916944379629    92.0   \n",
       "\n",
       "      cell_volume_from_merlin  cell_center_x_global  cell_center_y_global  \\\n",
       "0                  852.211658           2475.098099          -1024.199995   \n",
       "1                  844.089198          -5802.457800           4135.278100   \n",
       "2                  598.349001          -6372.189898           5324.277907   \n",
       "3                  762.882093           2494.970100          -1057.625996   \n",
       "4                  917.879399           2390.604102           -437.051995   \n",
       "...                       ...                   ...                   ...   \n",
       "2415              1189.559867           2588.552102           -950.289998   \n",
       "2416               554.913079           2633.588103          -1030.841995   \n",
       "2417               625.749255          -6655.781900           5085.343906   \n",
       "2418               498.213556          -5864.665801           3896.452099   \n",
       "2419              1133.789731           2640.106098           -300.987997   \n",
       "\n",
       "      RNA_experiment_ID          Sample_ID cluster_subclass cluster_class  \\\n",
       "0            20220304.0  C57BL/6_M_1_MOp_1          L2/3 IT         Gluta   \n",
       "1            20220304.0  C57BL/6_M_1_MOp_1             Endo          Endo   \n",
       "2            20220304.0  C57BL/6_M_1_MOp_1             VLMC          VLMC   \n",
       "3            20220304.0  C57BL/6_M_1_MOp_1             Endo          Endo   \n",
       "4            20220304.0  C57BL/6_M_1_MOp_1            Astro         Astro   \n",
       "...                 ...                ...              ...           ...   \n",
       "2415         20220304.0  C57BL/6_M_1_MOp_1              Sst          GABA   \n",
       "2416         20220304.0  C57BL/6_M_1_MOp_1            L5 IT         Gluta   \n",
       "2417         20220304.0  C57BL/6_M_1_MOp_1             Endo          Endo   \n",
       "2418         20220304.0  C57BL/6_M_1_MOp_1            Micro         Micro   \n",
       "2419         20220304.0  C57BL/6_M_1_MOp_1          L2/3 IT         Gluta   \n",
       "\n",
       "     neuron_identity  ...  Unc13c  Unc5b  Unc5d  Ust  Vipr2  Vtn  Vwc2  Wipf3  \\\n",
       "0           Neuronal  ...     2.0    2.0    0.0  1.0    0.0  0.0   0.0   33.0   \n",
       "1       Non-Neuronal  ...     2.0    0.0    0.0  2.0    0.0  0.0   0.0    0.0   \n",
       "2       Non-Neuronal  ...     1.0    0.0    0.0  0.0    0.0  0.0   0.0    0.0   \n",
       "3       Non-Neuronal  ...     2.0    5.0    0.0  0.0    0.0  1.0   0.0    0.0   \n",
       "4       Non-Neuronal  ...     2.0    0.0    0.0  0.0    0.0  0.0   0.0    1.0   \n",
       "...              ...  ...     ...    ...    ...  ...    ...  ...   ...    ...   \n",
       "2415        Neuronal  ...    13.0    2.0    6.0  7.0    1.0  1.0  13.0   17.0   \n",
       "2416        Neuronal  ...     0.0    0.0    0.0  0.0    0.0  0.0   0.0    0.0   \n",
       "2417    Non-Neuronal  ...     0.0    0.0    0.0  0.0    0.0  0.0   0.0    1.0   \n",
       "2418    Non-Neuronal  ...     0.0    0.0    0.0  0.0    0.0  0.0   0.0    0.0   \n",
       "2419        Neuronal  ...     1.0    0.0    7.0  0.0    1.0  0.0   2.0   41.0   \n",
       "\n",
       "      Wnt7b  Zfp804b  \n",
       "0       0.0      1.0  \n",
       "1       0.0      0.0  \n",
       "2       0.0      0.0  \n",
       "3       0.0      0.0  \n",
       "4       3.0      0.0  \n",
       "...     ...      ...  \n",
       "2415    1.0      0.0  \n",
       "2416    1.0      0.0  \n",
       "2417    0.0      0.0  \n",
       "2418    0.0      0.0  \n",
       "2419    1.0      0.0  \n",
       "\n",
       "[2420 rows x 252 columns]"
      ]
     },
     "execution_count": 10,
     "metadata": {},
     "output_type": "execute_result"
    }
   ],
   "source": [
    "training_data_meta = pd.DataFrame(cell_ids, columns=['Cell_ID']).merge(cell_df, on='Cell_ID', how='left')\n",
    "training_data_meta"
   ]
  },
  {
   "cell_type": "code",
   "execution_count": 11,
   "id": "08e3ecb4",
   "metadata": {},
   "outputs": [],
   "source": [
    "label_info = {k:np.asarray(training_data_meta[k]) for k in training_data_meta.columns}\n",
    "label_info_path = '/n/home09/pren/higfiles/merfish_metadata/label_info_500nmthresh.pickle'\n",
    "with open(label_info_path, 'wb') as handle:\n",
    "    pickle.dump(label_info, handle)"
   ]
  },
  {
   "cell_type": "code",
   "execution_count": 12,
   "id": "a2a6bc3c",
   "metadata": {},
   "outputs": [],
   "source": [
    "config = \"/n/home09/pren/higfiles/configs/config_liu_zhuang_t5_500nmthresh.JSON\"\n",
    "config_info = {\n",
    "    \"data_dir\": fish_path, # where the data is, the data has to be named as data.txt (v1) or filelist.txt (v2) or the code can't find it\n",
    "    \"label_path\": label_info_path,\n",
    "    \"structured\": True,\n",
    "    \"input_format\": 'higashi_v2',\n",
    "    \"temp_dir\": \"/n/netscratch/zhuang_lab/Lab/Peter/higashi_dnamerfish/embeddings_liu_zhuang_temp5_500nmthresh/\", # where to store model temp files\n",
    "    \"genome_reference_path\": \"/n/home09/pren/higfiles/params/chromInfo.txt\",\n",
    "    \"cytoband_path\": \"/n/home09/pren/higfiles/params/cytoBand.txt\",\n",
    "    \"chrom_list\": ['chr1', 'chr10', 'chr11', 'chr12', 'chr13', 'chr14', 'chr15',\n",
    "       'chr17', 'chr18', 'chr3', 'chr4', 'chr5', 'chr6', 'chr7', 'chr9',\n",
    "       'chr16', 'chr19', 'chr2', 'chr8', \"chrX\"],\n",
    "    \"resolution\": 2500000, # 2.5 Mbp\n",
    "    \"resolution_cell\": 2500000,\n",
    "    \"resolution_fh\": [2500000],\n",
    "    \"embedding_name\": \"test_dnamerfish_500nmthresh\",\n",
    "    \"minimum_distance\": 2500000,\n",
    "    \"maximum_distance\": -1,\n",
    "    \"local_transfer_range\": 0,\n",
    "    \"loss_mode\": \"zinb\",\n",
    "    \"dimensions\": 100, # can be adjusted later\n",
    "    \"impute_list\":['chr1', 'chr10', 'chr11', 'chr12', 'chr13', 'chr14', 'chr15',\n",
    "       'chr17', 'chr18', 'chr3', 'chr4', 'chr5', 'chr6', 'chr7', 'chr9',\n",
    "       'chr16', 'chr19', 'chr2', 'chr8', \"chrX\"],\n",
    "    \"neighbor_num\": 5,\n",
    "    \"cpu_num\": 10,\n",
    "    \"gpu_num\": 1,\n",
    "    \"embedding_epoch\":65, # this can be adjusted\n",
    "    \"correct_be_impute\": True,\n",
    "    \"header_included\": True,\n",
    "    # \"reprocess\": True,\n",
    "    # \"contact_header\": ['cell_id', 'chrom1', 'pos1', 'chrom2', 'pos2', 'count']\n",
    "}\n",
    "\n",
    "# save the config file to the current directory\n",
    "import json\n",
    "with open(config, \"w\") as f:\n",
    "    json.dump(config_info, f, indent = 6)"
   ]
  },
  {
   "cell_type": "code",
   "execution_count": 13,
   "id": "36bd22a9-feeb-4b12-a25c-e3908dcada9b",
   "metadata": {},
   "outputs": [],
   "source": [
    "# Initialize the Higashi instance\n",
    "higashi_model = Higashi(config)\n"
   ]
  },
  {
   "cell_type": "code",
   "execution_count": 14,
   "id": "faccf621",
   "metadata": {},
   "outputs": [
    {
     "data": {
      "text/html": [
       "<pre style=\"white-space:pre;overflow-x:auto;line-height:normal;font-family:Menlo,'DejaVu Sans Mono',consolas,'Courier New',monospace\"><span style=\"color: #7fbfbf; text-decoration-color: #7fbfbf\">[12/07/24 14:29:13] </span><span style=\"color: #000080; text-decoration-color: #000080\">INFO    </span> <span style=\"color: #0000ff; text-decoration-color: #0000ff\">generate_chrom_start_end</span> Found cached chromosome start/end dict:         <a href=\"file:///n/home09/pren/3DGeno_tools/src/gt3d/modules/higashi/Process.py\" target=\"_blank\"><span style=\"color: #7f7f7f; text-decoration-color: #7f7f7f\">Process.py</span></a><span style=\"color: #7f7f7f; text-decoration-color: #7f7f7f\">:</span><a href=\"file:///n/home09/pren/3DGeno_tools/src/gt3d/modules/higashi/Process.py#90\" target=\"_blank\"><span style=\"color: #7f7f7f; text-decoration-color: #7f7f7f\">90</span></a>\n",
       "<span style=\"color: #7fbfbf; text-decoration-color: #7fbfbf\">                    </span>         <span style=\"color: #800080; text-decoration-color: #800080\">/n/netscratch/zhuang_lab/Lab/Peter/higashi_dnamerfish/embeddings_liu_zhu</span> <span style=\"color: #7f7f7f; text-decoration-color: #7f7f7f\">             </span>\n",
       "<span style=\"color: #7fbfbf; text-decoration-color: #7fbfbf\">                    </span>         <span style=\"color: #800080; text-decoration-color: #800080\">ang_temp5_500nmthresh/</span><span style=\"color: #ff00ff; text-decoration-color: #ff00ff\">chrom_start_end.npy</span>                                <span style=\"color: #7f7f7f; text-decoration-color: #7f7f7f\">             </span>\n",
       "</pre>\n"
      ],
      "text/plain": [
       "\u001b[2;36m[12/07/24 14:29:13]\u001b[0m\u001b[2;36m \u001b[0m\u001b[34mINFO    \u001b[0m \u001b[94mgenerate_chrom_start_end\u001b[0m Found cached chromosome start/end dict:         \u001b]8;id=878833;file:///n/home09/pren/3DGeno_tools/src/gt3d/modules/higashi/Process.py\u001b\\\u001b[2mProcess.py\u001b[0m\u001b]8;;\u001b\\\u001b[2m:\u001b[0m\u001b]8;id=725738;file:///n/home09/pren/3DGeno_tools/src/gt3d/modules/higashi/Process.py#90\u001b\\\u001b[2m90\u001b[0m\u001b]8;;\u001b\\\n",
       "\u001b[2;36m                    \u001b[0m         \u001b[35m/n/netscratch/zhuang_lab/Lab/Peter/higashi_dnamerfish/embeddings_liu_zhu\u001b[0m \u001b[2m             \u001b[0m\n",
       "\u001b[2;36m                    \u001b[0m         \u001b[35mang_temp5_500nmthresh/\u001b[0m\u001b[95mchrom_start_end.npy\u001b[0m                                \u001b[2m             \u001b[0m\n"
      ]
     },
     "metadata": {},
     "output_type": "display_data"
    },
    {
     "data": {
      "text/html": [
       "<pre style=\"white-space:pre;overflow-x:auto;line-height:normal;font-family:Menlo,'DejaVu Sans Mono',consolas,'Courier New',monospace\"><span style=\"color: #7fbfbf; text-decoration-color: #7fbfbf\">                    </span><span style=\"color: #000080; text-decoration-color: #000080\">INFO    </span> <span style=\"color: #0000ff; text-decoration-color: #0000ff\">extract_table</span> Found cached data tables:                                 <a href=\"file:///n/home09/pren/3DGeno_tools/src/gt3d/modules/higashi/Process.py\" target=\"_blank\"><span style=\"color: #7f7f7f; text-decoration-color: #7f7f7f\">Process.py</span></a><span style=\"color: #7f7f7f; text-decoration-color: #7f7f7f\">:</span><a href=\"file:///n/home09/pren/3DGeno_tools/src/gt3d/modules/higashi/Process.py#225\" target=\"_blank\"><span style=\"color: #7f7f7f; text-decoration-color: #7f7f7f\">225</span></a>\n",
       "<span style=\"color: #7fbfbf; text-decoration-color: #7fbfbf\">                    </span>                 <span style=\"color: #800080; text-decoration-color: #800080\">/n/netscratch/zhuang_lab/Lab/Peter/higashi_dnamerfish/embedding</span> <span style=\"color: #7f7f7f; text-decoration-color: #7f7f7f\">              </span>\n",
       "<span style=\"color: #7fbfbf; text-decoration-color: #7fbfbf\">                    </span>         <span style=\"color: #800080; text-decoration-color: #800080\">s_liu_zhuang_temp5_500nmthresh/</span><span style=\"color: #ff00ff; text-decoration-color: #ff00ff\">data.npy</span>                                 <span style=\"color: #7f7f7f; text-decoration-color: #7f7f7f\">              </span>\n",
       "<span style=\"color: #7fbfbf; text-decoration-color: #7fbfbf\">                    </span>                 <span style=\"color: #800080; text-decoration-color: #800080\">/n/netscratch/zhuang_lab/Lab/Peter/higashi_dnamerfish/embedding</span> <span style=\"color: #7f7f7f; text-decoration-color: #7f7f7f\">              </span>\n",
       "<span style=\"color: #7fbfbf; text-decoration-color: #7fbfbf\">                    </span>         <span style=\"color: #800080; text-decoration-color: #800080\">s_liu_zhuang_temp5_500nmthresh/</span><span style=\"color: #ff00ff; text-decoration-color: #ff00ff\">weight.npy</span>                               <span style=\"color: #7f7f7f; text-decoration-color: #7f7f7f\">              </span>\n",
       "</pre>\n"
      ],
      "text/plain": [
       "\u001b[2;36m                   \u001b[0m\u001b[2;36m \u001b[0m\u001b[34mINFO    \u001b[0m \u001b[94mextract_table\u001b[0m Found cached data tables:                                 \u001b]8;id=798347;file:///n/home09/pren/3DGeno_tools/src/gt3d/modules/higashi/Process.py\u001b\\\u001b[2mProcess.py\u001b[0m\u001b]8;;\u001b\\\u001b[2m:\u001b[0m\u001b]8;id=131498;file:///n/home09/pren/3DGeno_tools/src/gt3d/modules/higashi/Process.py#225\u001b\\\u001b[2m225\u001b[0m\u001b]8;;\u001b\\\n",
       "\u001b[2;36m                    \u001b[0m                 \u001b[35m/n/netscratch/zhuang_lab/Lab/Peter/higashi_dnamerfish/embedding\u001b[0m \u001b[2m              \u001b[0m\n",
       "\u001b[2;36m                    \u001b[0m         \u001b[35ms_liu_zhuang_temp5_500nmthresh/\u001b[0m\u001b[95mdata.npy\u001b[0m                                 \u001b[2m              \u001b[0m\n",
       "\u001b[2;36m                    \u001b[0m                 \u001b[35m/n/netscratch/zhuang_lab/Lab/Peter/higashi_dnamerfish/embedding\u001b[0m \u001b[2m              \u001b[0m\n",
       "\u001b[2;36m                    \u001b[0m         \u001b[35ms_liu_zhuang_temp5_500nmthresh/\u001b[0m\u001b[95mweight.npy\u001b[0m                               \u001b[2m              \u001b[0m\n"
      ]
     },
     "metadata": {},
     "output_type": "display_data"
    },
    {
     "data": {
      "text/html": [
       "<pre style=\"white-space:pre;overflow-x:auto;line-height:normal;font-family:Menlo,'DejaVu Sans Mono',consolas,'Courier New',monospace\"><span style=\"color: #7fbfbf; text-decoration-color: #7fbfbf\">                    </span><span style=\"color: #000080; text-decoration-color: #000080\">INFO    </span> <span style=\"color: #0000ff; text-decoration-color: #0000ff\">create_matrix</span> Generating contact maps for baseline                      <a href=\"file:///n/home09/pren/3DGeno_tools/src/gt3d/modules/higashi/Process.py\" target=\"_blank\"><span style=\"color: #7f7f7f; text-decoration-color: #7f7f7f\">Process.py</span></a><span style=\"color: #7f7f7f; text-decoration-color: #7f7f7f\">:</span><a href=\"file:///n/home09/pren/3DGeno_tools/src/gt3d/modules/higashi/Process.py#511\" target=\"_blank\"><span style=\"color: #7f7f7f; text-decoration-color: #7f7f7f\">511</span></a>\n",
       "</pre>\n"
      ],
      "text/plain": [
       "\u001b[2;36m                   \u001b[0m\u001b[2;36m \u001b[0m\u001b[34mINFO    \u001b[0m \u001b[94mcreate_matrix\u001b[0m Generating contact maps for baseline                      \u001b]8;id=839341;file:///n/home09/pren/3DGeno_tools/src/gt3d/modules/higashi/Process.py\u001b\\\u001b[2mProcess.py\u001b[0m\u001b]8;;\u001b\\\u001b[2m:\u001b[0m\u001b]8;id=902876;file:///n/home09/pren/3DGeno_tools/src/gt3d/modules/higashi/Process.py#511\u001b\\\u001b[2m511\u001b[0m\u001b]8;;\u001b\\\n"
      ]
     },
     "metadata": {},
     "output_type": "display_data"
    },
    {
     "data": {
      "application/vnd.jupyter.widget-view+json": {
       "model_id": "23c433af18904f3a83532d2e8976928f",
       "version_major": 2,
       "version_minor": 0
      },
      "text/plain": [
       "Output()"
      ]
     },
     "metadata": {},
     "output_type": "display_data"
    },
    {
     "data": {
      "text/html": [
       "<pre style=\"white-space:pre;overflow-x:auto;line-height:normal;font-family:Menlo,'DejaVu Sans Mono',consolas,'Courier New',monospace\"></pre>\n"
      ],
      "text/plain": []
     },
     "metadata": {},
     "output_type": "display_data"
    },
    {
     "data": {
      "text/html": [
       "<pre style=\"white-space:pre;overflow-x:auto;line-height:normal;font-family:Menlo,'DejaVu Sans Mono',consolas,'Courier New',monospace\"><span style=\"color: #7fbfbf; text-decoration-color: #7fbfbf\">                    </span><span style=\"color: #000080; text-decoration-color: #000080\">INFO    </span> <span style=\"color: #0000ff; text-decoration-color: #0000ff\">create_matrix</span> Data loaded                                               <a href=\"file:///n/home09/pren/3DGeno_tools/src/gt3d/modules/higashi/Process.py\" target=\"_blank\"><span style=\"color: #7f7f7f; text-decoration-color: #7f7f7f\">Process.py</span></a><span style=\"color: #7f7f7f; text-decoration-color: #7f7f7f\">:</span><a href=\"file:///n/home09/pren/3DGeno_tools/src/gt3d/modules/higashi/Process.py#516\" target=\"_blank\"><span style=\"color: #7f7f7f; text-decoration-color: #7f7f7f\">516</span></a>\n",
       "</pre>\n"
      ],
      "text/plain": [
       "\u001b[2;36m                   \u001b[0m\u001b[2;36m \u001b[0m\u001b[34mINFO    \u001b[0m \u001b[94mcreate_matrix\u001b[0m Data loaded                                               \u001b]8;id=27156;file:///n/home09/pren/3DGeno_tools/src/gt3d/modules/higashi/Process.py\u001b\\\u001b[2mProcess.py\u001b[0m\u001b]8;;\u001b\\\u001b[2m:\u001b[0m\u001b]8;id=390679;file:///n/home09/pren/3DGeno_tools/src/gt3d/modules/higashi/Process.py#516\u001b\\\u001b[2m516\u001b[0m\u001b]8;;\u001b\\\n"
      ]
     },
     "metadata": {},
     "output_type": "display_data"
    },
    {
     "data": {
      "text/html": [
       "<pre style=\"white-space:pre;overflow-x:auto;line-height:normal;font-family:Menlo,'DejaVu Sans Mono',consolas,'Courier New',monospace\"><span style=\"color: #7fbfbf; text-decoration-color: #7fbfbf\">                    </span><span style=\"color: #000080; text-decoration-color: #000080\">INFO    </span> <span style=\"color: #0000ff; text-decoration-color: #0000ff\">create_matrix</span> Data size: <span style=\"color: #008080; text-decoration-color: #008080; font-weight: bold\">796</span>,<span style=\"color: #008080; text-decoration-color: #008080; font-weight: bold\">458</span>                                        <a href=\"file:///n/home09/pren/3DGeno_tools/src/gt3d/modules/higashi/Process.py\" target=\"_blank\"><span style=\"color: #7f7f7f; text-decoration-color: #7f7f7f\">Process.py</span></a><span style=\"color: #7f7f7f; text-decoration-color: #7f7f7f\">:</span><a href=\"file:///n/home09/pren/3DGeno_tools/src/gt3d/modules/higashi/Process.py#535\" target=\"_blank\"><span style=\"color: #7f7f7f; text-decoration-color: #7f7f7f\">535</span></a>\n",
       "</pre>\n"
      ],
      "text/plain": [
       "\u001b[2;36m                   \u001b[0m\u001b[2;36m \u001b[0m\u001b[34mINFO    \u001b[0m \u001b[94mcreate_matrix\u001b[0m Data size: \u001b[1;36m796\u001b[0m,\u001b[1;36m458\u001b[0m                                        \u001b]8;id=980011;file:///n/home09/pren/3DGeno_tools/src/gt3d/modules/higashi/Process.py\u001b\\\u001b[2mProcess.py\u001b[0m\u001b]8;;\u001b\\\u001b[2m:\u001b[0m\u001b]8;id=466925;file:///n/home09/pren/3DGeno_tools/src/gt3d/modules/higashi/Process.py#535\u001b\\\u001b[2m535\u001b[0m\u001b]8;;\u001b\\\n"
      ]
     },
     "metadata": {},
     "output_type": "display_data"
    },
    {
     "data": {
      "text/html": [
       "<pre style=\"white-space:pre;overflow-x:auto;line-height:normal;font-family:Menlo,'DejaVu Sans Mono',consolas,'Courier New',monospace\"><span style=\"color: #7fbfbf; text-decoration-color: #7fbfbf\">                    </span><span style=\"color: #000080; text-decoration-color: #000080\">INFO    </span> <span style=\"color: #0000ff; text-decoration-color: #0000ff\">create_matrix</span> Found cached data with full set of keys <span style=\"font-weight: bold\">(&lt;</span><span style=\"color: #ff00ff; text-decoration-color: #ff00ff; font-weight: bold\">HDF5</span><span style=\"color: #000000; text-decoration-color: #000000\"> file </span>      <a href=\"file:///n/home09/pren/3DGeno_tools/src/gt3d/modules/higashi/Process.py\" target=\"_blank\"><span style=\"color: #7f7f7f; text-decoration-color: #7f7f7f\">Process.py</span></a><span style=\"color: #7f7f7f; text-decoration-color: #7f7f7f\">:</span><a href=\"file:///n/home09/pren/3DGeno_tools/src/gt3d/modules/higashi/Process.py#560\" target=\"_blank\"><span style=\"color: #7f7f7f; text-decoration-color: #7f7f7f\">560</span></a>\n",
       "<span style=\"color: #7fbfbf; text-decoration-color: #7fbfbf\">                    </span>         <span style=\"color: #008000; text-decoration-color: #008000\">\"node_feats.hdf5\"</span><span style=\"color: #000000; text-decoration-color: #000000\"> </span><span style=\"color: #000000; text-decoration-color: #000000; font-weight: bold\">(</span><span style=\"color: #000000; text-decoration-color: #000000\">mode r+</span><span style=\"color: #000000; text-decoration-color: #000000; font-weight: bold\">)</span><span style=\"font-weight: bold\">&gt;)</span>:                                          <span style=\"color: #7f7f7f; text-decoration-color: #7f7f7f\">              </span>\n",
       "<span style=\"color: #7fbfbf; text-decoration-color: #7fbfbf\">                    </span>         <span style=\"color: #800080; text-decoration-color: #800080\">/n/netscratch/zhuang_lab/Lab/Peter/higashi_dnamerfish/embeddings_liu_zh</span> <span style=\"color: #7f7f7f; text-decoration-color: #7f7f7f\">              </span>\n",
       "<span style=\"color: #7fbfbf; text-decoration-color: #7fbfbf\">                    </span>         <span style=\"color: #800080; text-decoration-color: #800080\">uang_temp5_500nmthresh/</span><span style=\"color: #ff00ff; text-decoration-color: #ff00ff\">node_feats.hdf5</span>                                  <span style=\"color: #7f7f7f; text-decoration-color: #7f7f7f\">              </span>\n",
       "</pre>\n"
      ],
      "text/plain": [
       "\u001b[2;36m                   \u001b[0m\u001b[2;36m \u001b[0m\u001b[34mINFO    \u001b[0m \u001b[94mcreate_matrix\u001b[0m Found cached data with full set of keys \u001b[1m(\u001b[0m\u001b[1m<\u001b[0m\u001b[1;95mHDF5\u001b[0m\u001b[39m file \u001b[0m      \u001b]8;id=616051;file:///n/home09/pren/3DGeno_tools/src/gt3d/modules/higashi/Process.py\u001b\\\u001b[2mProcess.py\u001b[0m\u001b]8;;\u001b\\\u001b[2m:\u001b[0m\u001b]8;id=690458;file:///n/home09/pren/3DGeno_tools/src/gt3d/modules/higashi/Process.py#560\u001b\\\u001b[2m560\u001b[0m\u001b]8;;\u001b\\\n",
       "\u001b[2;36m                    \u001b[0m         \u001b[32m\"node_feats.hdf5\"\u001b[0m\u001b[39m \u001b[0m\u001b[1;39m(\u001b[0m\u001b[39mmode r+\u001b[0m\u001b[1;39m)\u001b[0m\u001b[1m>\u001b[0m\u001b[1m)\u001b[0m:                                          \u001b[2m              \u001b[0m\n",
       "\u001b[2;36m                    \u001b[0m         \u001b[35m/n/netscratch/zhuang_lab/Lab/Peter/higashi_dnamerfish/embeddings_liu_zh\u001b[0m \u001b[2m              \u001b[0m\n",
       "\u001b[2;36m                    \u001b[0m         \u001b[35muang_temp5_500nmthresh/\u001b[0m\u001b[95mnode_feats.hdf5\u001b[0m                                  \u001b[2m              \u001b[0m\n"
      ]
     },
     "metadata": {},
     "output_type": "display_data"
    }
   ],
   "source": [
    "# Data processing (only needs to be run for once)\n",
    "higashi_model.process_data()\n",
    "\n"
   ]
  },
  {
   "cell_type": "code",
   "execution_count": 15,
   "id": "8ac62b1b-4d00-43be-8bfc-bd14499ebfff",
   "metadata": {},
   "outputs": [
    {
     "data": {
      "text/html": [
       "<pre style=\"white-space:pre;overflow-x:auto;line-height:normal;font-family:Menlo,'DejaVu Sans Mono',consolas,'Courier New',monospace\"><span style=\"color: #7fbfbf; text-decoration-color: #7fbfbf\">                    </span><span style=\"color: #000080; text-decoration-color: #000080\">INFO    </span> <span style=\"color: #0000ff; text-decoration-color: #0000ff\">fetch_info_from_config</span> #CPU: <span style=\"color: #008080; text-decoration-color: #008080; font-weight: bold\">10</span>                                 <a href=\"file:///n/home09/pren/3DGeno_tools/src/gt3d/modules/higashi/Higashi_wrapper.py\" target=\"_blank\"><span style=\"color: #7f7f7f; text-decoration-color: #7f7f7f\">Higashi_wrapper.py</span></a><span style=\"color: #7f7f7f; text-decoration-color: #7f7f7f\">:</span><a href=\"file:///n/home09/pren/3DGeno_tools/src/gt3d/modules/higashi/Higashi_wrapper.py#607\" target=\"_blank\"><span style=\"color: #7f7f7f; text-decoration-color: #7f7f7f\">607</span></a>\n",
       "</pre>\n"
      ],
      "text/plain": [
       "\u001b[2;36m                   \u001b[0m\u001b[2;36m \u001b[0m\u001b[34mINFO    \u001b[0m \u001b[94mfetch_info_from_config\u001b[0m #CPU: \u001b[1;36m10\u001b[0m                                 \u001b]8;id=263816;file:///n/home09/pren/3DGeno_tools/src/gt3d/modules/higashi/Higashi_wrapper.py\u001b\\\u001b[2mHigashi_wrapper.py\u001b[0m\u001b]8;;\u001b\\\u001b[2m:\u001b[0m\u001b]8;id=630123;file:///n/home09/pren/3DGeno_tools/src/gt3d/modules/higashi/Higashi_wrapper.py#607\u001b\\\u001b[2m607\u001b[0m\u001b]8;;\u001b\\\n"
      ]
     },
     "metadata": {},
     "output_type": "display_data"
    },
    {
     "data": {
      "text/html": [
       "<pre style=\"white-space:pre;overflow-x:auto;line-height:normal;font-family:Menlo,'DejaVu Sans Mono',consolas,'Courier New',monospace\"><span style=\"color: #7fbfbf; text-decoration-color: #7fbfbf\">                    </span><span style=\"color: #000080; text-decoration-color: #000080\">INFO    </span> <span style=\"color: #0000ff; text-decoration-color: #0000ff\">get_free_gpu</span> setting to gpu:<span style=\"color: #008080; text-decoration-color: #008080; font-weight: bold\">0</span>                                    <a href=\"file:///n/home09/pren/3DGeno_tools/src/gt3d/modules/higashi/Higashi_wrapper.py\" target=\"_blank\"><span style=\"color: #7f7f7f; text-decoration-color: #7f7f7f\">Higashi_wrapper.py</span></a><span style=\"color: #7f7f7f; text-decoration-color: #7f7f7f\">:</span><a href=\"file:///n/home09/pren/3DGeno_tools/src/gt3d/modules/higashi/Higashi_wrapper.py#68\" target=\"_blank\"><span style=\"color: #7f7f7f; text-decoration-color: #7f7f7f\">68</span></a>\n",
       "</pre>\n"
      ],
      "text/plain": [
       "\u001b[2;36m                   \u001b[0m\u001b[2;36m \u001b[0m\u001b[34mINFO    \u001b[0m \u001b[94mget_free_gpu\u001b[0m setting to gpu:\u001b[1;36m0\u001b[0m                                    \u001b]8;id=80544;file:///n/home09/pren/3DGeno_tools/src/gt3d/modules/higashi/Higashi_wrapper.py\u001b\\\u001b[2mHigashi_wrapper.py\u001b[0m\u001b]8;;\u001b\\\u001b[2m:\u001b[0m\u001b]8;id=304556;file:///n/home09/pren/3DGeno_tools/src/gt3d/modules/higashi/Higashi_wrapper.py#68\u001b\\\u001b[2m68\u001b[0m\u001b]8;;\u001b\\\n"
      ]
     },
     "metadata": {},
     "output_type": "display_data"
    },
    {
     "data": {
      "text/html": [
       "<pre style=\"white-space:pre;overflow-x:auto;line-height:normal;font-family:Menlo,'DejaVu Sans Mono',consolas,'Courier New',monospace\"><span style=\"color: #7fbfbf; text-decoration-color: #7fbfbf\">                    </span><span style=\"color: #000080; text-decoration-color: #000080\">INFO    </span> <span style=\"color: #0000ff; text-decoration-color: #0000ff\">fetch_info_from_config</span> Training on data from: <span style=\"font-weight: bold\">[</span><span style=\"color: #008000; text-decoration-color: #008000\">'chr1'</span>, <span style=\"color: #008000; text-decoration-color: #008000\">'chr10'</span>, <a href=\"file:///n/home09/pren/3DGeno_tools/src/gt3d/modules/higashi/Higashi_wrapper.py\" target=\"_blank\"><span style=\"color: #7f7f7f; text-decoration-color: #7f7f7f\">Higashi_wrapper.py</span></a><span style=\"color: #7f7f7f; text-decoration-color: #7f7f7f\">:</span><a href=\"file:///n/home09/pren/3DGeno_tools/src/gt3d/modules/higashi/Higashi_wrapper.py#627\" target=\"_blank\"><span style=\"color: #7f7f7f; text-decoration-color: #7f7f7f\">627</span></a>\n",
       "<span style=\"color: #7fbfbf; text-decoration-color: #7fbfbf\">                    </span>         <span style=\"color: #008000; text-decoration-color: #008000\">'chr11'</span>, <span style=\"color: #008000; text-decoration-color: #008000\">'chr12'</span>, <span style=\"color: #008000; text-decoration-color: #008000\">'chr13'</span>, <span style=\"color: #008000; text-decoration-color: #008000\">'chr14'</span>, <span style=\"color: #008000; text-decoration-color: #008000\">'chr15'</span>, <span style=\"color: #008000; text-decoration-color: #008000\">'chr17'</span>, <span style=\"color: #008000; text-decoration-color: #008000\">'chr18'</span>,  <span style=\"color: #7f7f7f; text-decoration-color: #7f7f7f\">                      </span>\n",
       "<span style=\"color: #7fbfbf; text-decoration-color: #7fbfbf\">                    </span>         <span style=\"color: #008000; text-decoration-color: #008000\">'chr3'</span>, <span style=\"color: #008000; text-decoration-color: #008000\">'chr4'</span>, <span style=\"color: #008000; text-decoration-color: #008000\">'chr5'</span>, <span style=\"color: #008000; text-decoration-color: #008000\">'chr6'</span>, <span style=\"color: #008000; text-decoration-color: #008000\">'chr7'</span>, <span style=\"color: #008000; text-decoration-color: #008000\">'chr9'</span>, <span style=\"color: #008000; text-decoration-color: #008000\">'chr16'</span>,        <span style=\"color: #7f7f7f; text-decoration-color: #7f7f7f\">                      </span>\n",
       "<span style=\"color: #7fbfbf; text-decoration-color: #7fbfbf\">                    </span>         <span style=\"color: #008000; text-decoration-color: #008000\">'chr19'</span>, <span style=\"color: #008000; text-decoration-color: #008000\">'chr2'</span>, <span style=\"color: #008000; text-decoration-color: #008000\">'chr8'</span>, <span style=\"color: #008000; text-decoration-color: #008000\">'chrX'</span><span style=\"font-weight: bold\">]</span>                                <span style=\"color: #7f7f7f; text-decoration-color: #7f7f7f\">                      </span>\n",
       "</pre>\n"
      ],
      "text/plain": [
       "\u001b[2;36m                   \u001b[0m\u001b[2;36m \u001b[0m\u001b[34mINFO    \u001b[0m \u001b[94mfetch_info_from_config\u001b[0m Training on data from: \u001b[1m[\u001b[0m\u001b[32m'chr1'\u001b[0m, \u001b[32m'chr10'\u001b[0m, \u001b]8;id=237411;file:///n/home09/pren/3DGeno_tools/src/gt3d/modules/higashi/Higashi_wrapper.py\u001b\\\u001b[2mHigashi_wrapper.py\u001b[0m\u001b]8;;\u001b\\\u001b[2m:\u001b[0m\u001b]8;id=349267;file:///n/home09/pren/3DGeno_tools/src/gt3d/modules/higashi/Higashi_wrapper.py#627\u001b\\\u001b[2m627\u001b[0m\u001b]8;;\u001b\\\n",
       "\u001b[2;36m                    \u001b[0m         \u001b[32m'chr11'\u001b[0m, \u001b[32m'chr12'\u001b[0m, \u001b[32m'chr13'\u001b[0m, \u001b[32m'chr14'\u001b[0m, \u001b[32m'chr15'\u001b[0m, \u001b[32m'chr17'\u001b[0m, \u001b[32m'chr18'\u001b[0m,  \u001b[2m                      \u001b[0m\n",
       "\u001b[2;36m                    \u001b[0m         \u001b[32m'chr3'\u001b[0m, \u001b[32m'chr4'\u001b[0m, \u001b[32m'chr5'\u001b[0m, \u001b[32m'chr6'\u001b[0m, \u001b[32m'chr7'\u001b[0m, \u001b[32m'chr9'\u001b[0m, \u001b[32m'chr16'\u001b[0m,        \u001b[2m                      \u001b[0m\n",
       "\u001b[2;36m                    \u001b[0m         \u001b[32m'chr19'\u001b[0m, \u001b[32m'chr2'\u001b[0m, \u001b[32m'chr8'\u001b[0m, \u001b[32m'chrX'\u001b[0m\u001b[1m]\u001b[0m                                \u001b[2m                      \u001b[0m\n"
      ]
     },
     "metadata": {},
     "output_type": "display_data"
    },
    {
     "data": {
      "text/html": [
       "<pre style=\"white-space:pre;overflow-x:auto;line-height:normal;font-family:Menlo,'DejaVu Sans Mono',consolas,'Courier New',monospace\"><span style=\"color: #7fbfbf; text-decoration-color: #7fbfbf\">                    </span><span style=\"color: #000080; text-decoration-color: #000080\">INFO    </span> <span style=\"color: #0000ff; text-decoration-color: #0000ff\">prep_model</span> total_sparsity_cell = <span style=\"color: #008080; text-decoration-color: #008080; font-weight: bold\">4.2570400800323534e-05</span>         <a href=\"file:///n/home09/pren/3DGeno_tools/src/gt3d/modules/higashi/Higashi_wrapper.py\" target=\"_blank\"><span style=\"color: #7f7f7f; text-decoration-color: #7f7f7f\">Higashi_wrapper.py</span></a><span style=\"color: #7f7f7f; text-decoration-color: #7f7f7f\">:</span><a href=\"file:///n/home09/pren/3DGeno_tools/src/gt3d/modules/higashi/Higashi_wrapper.py#811\" target=\"_blank\"><span style=\"color: #7f7f7f; text-decoration-color: #7f7f7f\">811</span></a>\n",
       "</pre>\n"
      ],
      "text/plain": [
       "\u001b[2;36m                   \u001b[0m\u001b[2;36m \u001b[0m\u001b[34mINFO    \u001b[0m \u001b[94mprep_model\u001b[0m total_sparsity_cell = \u001b[1;36m4.2570400800323534e-05\u001b[0m         \u001b]8;id=762855;file:///n/home09/pren/3DGeno_tools/src/gt3d/modules/higashi/Higashi_wrapper.py\u001b\\\u001b[2mHigashi_wrapper.py\u001b[0m\u001b]8;;\u001b\\\u001b[2m:\u001b[0m\u001b]8;id=544661;file:///n/home09/pren/3DGeno_tools/src/gt3d/modules/higashi/Higashi_wrapper.py#811\u001b\\\u001b[2m811\u001b[0m\u001b]8;;\u001b\\\n"
      ]
     },
     "metadata": {},
     "output_type": "display_data"
    },
    {
     "data": {
      "text/html": [
       "<pre style=\"white-space:pre;overflow-x:auto;line-height:normal;font-family:Menlo,'DejaVu Sans Mono',consolas,'Courier New',monospace\"><span style=\"color: #7fbfbf; text-decoration-color: #7fbfbf\">                    </span><span style=\"color: #000080; text-decoration-color: #000080\">INFO    </span> <span style=\"color: #0000ff; text-decoration-color: #0000ff\">prep_model</span> No contractive loss                                  <a href=\"file:///n/home09/pren/3DGeno_tools/src/gt3d/modules/higashi/Higashi_wrapper.py\" target=\"_blank\"><span style=\"color: #7f7f7f; text-decoration-color: #7f7f7f\">Higashi_wrapper.py</span></a><span style=\"color: #7f7f7f; text-decoration-color: #7f7f7f\">:</span><a href=\"file:///n/home09/pren/3DGeno_tools/src/gt3d/modules/higashi/Higashi_wrapper.py#823\" target=\"_blank\"><span style=\"color: #7f7f7f; text-decoration-color: #7f7f7f\">823</span></a>\n",
       "</pre>\n"
      ],
      "text/plain": [
       "\u001b[2;36m                   \u001b[0m\u001b[2;36m \u001b[0m\u001b[34mINFO    \u001b[0m \u001b[94mprep_model\u001b[0m No contractive loss                                  \u001b]8;id=132275;file:///n/home09/pren/3DGeno_tools/src/gt3d/modules/higashi/Higashi_wrapper.py\u001b\\\u001b[2mHigashi_wrapper.py\u001b[0m\u001b]8;;\u001b\\\u001b[2m:\u001b[0m\u001b]8;id=823704;file:///n/home09/pren/3DGeno_tools/src/gt3d/modules/higashi/Higashi_wrapper.py#823\u001b\\\u001b[2m823\u001b[0m\u001b]8;;\u001b\\\n"
      ]
     },
     "metadata": {},
     "output_type": "display_data"
    },
    {
     "data": {
      "text/html": [
       "<pre style=\"white-space:pre;overflow-x:auto;line-height:normal;font-family:Menlo,'DejaVu Sans Mono',consolas,'Courier New',monospace\"><span style=\"color: #7fbfbf; text-decoration-color: #7fbfbf\">                    </span><span style=\"color: #000080; text-decoration-color: #000080\">INFO    </span> <span style=\"color: #0000ff; text-decoration-color: #0000ff\">prep_model</span> batch_size = <span style=\"color: #008080; text-decoration-color: #008080; font-weight: bold\">256</span>                                     <a href=\"file:///n/home09/pren/3DGeno_tools/src/gt3d/modules/higashi/Higashi_wrapper.py\" target=\"_blank\"><span style=\"color: #7f7f7f; text-decoration-color: #7f7f7f\">Higashi_wrapper.py</span></a><span style=\"color: #7f7f7f; text-decoration-color: #7f7f7f\">:</span><a href=\"file:///n/home09/pren/3DGeno_tools/src/gt3d/modules/higashi/Higashi_wrapper.py#835\" target=\"_blank\"><span style=\"color: #7f7f7f; text-decoration-color: #7f7f7f\">835</span></a>\n",
       "</pre>\n"
      ],
      "text/plain": [
       "\u001b[2;36m                   \u001b[0m\u001b[2;36m \u001b[0m\u001b[34mINFO    \u001b[0m \u001b[94mprep_model\u001b[0m batch_size = \u001b[1;36m256\u001b[0m                                     \u001b]8;id=631745;file:///n/home09/pren/3DGeno_tools/src/gt3d/modules/higashi/Higashi_wrapper.py\u001b\\\u001b[2mHigashi_wrapper.py\u001b[0m\u001b]8;;\u001b\\\u001b[2m:\u001b[0m\u001b]8;id=169760;file:///n/home09/pren/3DGeno_tools/src/gt3d/modules/higashi/Higashi_wrapper.py#835\u001b\\\u001b[2m835\u001b[0m\u001b]8;;\u001b\\\n"
      ]
     },
     "metadata": {},
     "output_type": "display_data"
    },
    {
     "data": {
      "text/html": [
       "<pre style=\"white-space:pre;overflow-x:auto;line-height:normal;font-family:Menlo,'DejaVu Sans Mono',consolas,'Courier New',monospace\"><span style=\"color: #7fbfbf; text-decoration-color: #7fbfbf\">                    </span><span style=\"color: #000080; text-decoration-color: #000080\">INFO    </span> <span style=\"color: #0000ff; text-decoration-color: #0000ff\">prep_model</span> Node type num <span style=\"font-weight: bold\">[</span><span style=\"color: #008080; text-decoration-color: #008080; font-weight: bold\">2420</span>   <span style=\"color: #008080; text-decoration-color: #008080; font-weight: bold\">79</span>   <span style=\"color: #008080; text-decoration-color: #008080; font-weight: bold\">53</span>   <span style=\"color: #008080; text-decoration-color: #008080; font-weight: bold\">49</span>   <span style=\"color: #008080; text-decoration-color: #008080; font-weight: bold\">49</span>   <span style=\"color: #008080; text-decoration-color: #008080; font-weight: bold\">49</span>   <span style=\"color: #008080; text-decoration-color: #008080; font-weight: bold\">50</span>    <a href=\"file:///n/home09/pren/3DGeno_tools/src/gt3d/modules/higashi/Higashi_wrapper.py\" target=\"_blank\"><span style=\"color: #7f7f7f; text-decoration-color: #7f7f7f\">Higashi_wrapper.py</span></a><span style=\"color: #7f7f7f; text-decoration-color: #7f7f7f\">:</span><a href=\"file:///n/home09/pren/3DGeno_tools/src/gt3d/modules/higashi/Higashi_wrapper.py#866\" target=\"_blank\"><span style=\"color: #7f7f7f; text-decoration-color: #7f7f7f\">866</span></a>\n",
       "<span style=\"color: #7fbfbf; text-decoration-color: #7fbfbf\">                    </span>         <span style=\"color: #008080; text-decoration-color: #008080; font-weight: bold\">42</span>   <span style=\"color: #008080; text-decoration-color: #008080; font-weight: bold\">38</span>   <span style=\"color: #008080; text-decoration-color: #008080; font-weight: bold\">37</span>   <span style=\"color: #008080; text-decoration-color: #008080; font-weight: bold\">65</span>   <span style=\"color: #008080; text-decoration-color: #008080; font-weight: bold\">63</span>   <span style=\"color: #008080; text-decoration-color: #008080; font-weight: bold\">61</span>   <span style=\"color: #008080; text-decoration-color: #008080; font-weight: bold\">60</span>                                <span style=\"color: #7f7f7f; text-decoration-color: #7f7f7f\">                      </span>\n",
       "<span style=\"color: #7fbfbf; text-decoration-color: #7fbfbf\">                    </span>            <span style=\"color: #008080; text-decoration-color: #008080; font-weight: bold\">59</span>   <span style=\"color: #008080; text-decoration-color: #008080; font-weight: bold\">50</span>   <span style=\"color: #008080; text-decoration-color: #008080; font-weight: bold\">40</span>   <span style=\"color: #008080; text-decoration-color: #008080; font-weight: bold\">25</span>   <span style=\"color: #008080; text-decoration-color: #008080; font-weight: bold\">73</span>   <span style=\"color: #008080; text-decoration-color: #008080; font-weight: bold\">52</span>   <span style=\"color: #008080; text-decoration-color: #008080; font-weight: bold\">69</span><span style=\"font-weight: bold\">]</span> <span style=\"font-weight: bold\">[</span><span style=\"color: #008080; text-decoration-color: #008080; font-weight: bold\">2420</span> <span style=\"color: #008080; text-decoration-color: #008080; font-weight: bold\">2499</span> <span style=\"color: #008080; text-decoration-color: #008080; font-weight: bold\">2552</span> <span style=\"color: #008080; text-decoration-color: #008080; font-weight: bold\">2601</span> <span style=\"color: #008080; text-decoration-color: #008080; font-weight: bold\">2650</span>  <span style=\"color: #7f7f7f; text-decoration-color: #7f7f7f\">                      </span>\n",
       "<span style=\"color: #7fbfbf; text-decoration-color: #7fbfbf\">                    </span>         <span style=\"color: #008080; text-decoration-color: #008080; font-weight: bold\">2699</span> <span style=\"color: #008080; text-decoration-color: #008080; font-weight: bold\">2749</span> <span style=\"color: #008080; text-decoration-color: #008080; font-weight: bold\">2791</span> <span style=\"color: #008080; text-decoration-color: #008080; font-weight: bold\">2829</span> <span style=\"color: #008080; text-decoration-color: #008080; font-weight: bold\">2866</span> <span style=\"color: #008080; text-decoration-color: #008080; font-weight: bold\">2931</span> <span style=\"color: #008080; text-decoration-color: #008080; font-weight: bold\">2994</span> <span style=\"color: #008080; text-decoration-color: #008080; font-weight: bold\">3055</span> <span style=\"color: #008080; text-decoration-color: #008080; font-weight: bold\">3115</span>                    <span style=\"color: #7f7f7f; text-decoration-color: #7f7f7f\">                      </span>\n",
       "<span style=\"color: #7fbfbf; text-decoration-color: #7fbfbf\">                    </span>          <span style=\"color: #008080; text-decoration-color: #008080; font-weight: bold\">3174</span> <span style=\"color: #008080; text-decoration-color: #008080; font-weight: bold\">3224</span> <span style=\"color: #008080; text-decoration-color: #008080; font-weight: bold\">3264</span> <span style=\"color: #008080; text-decoration-color: #008080; font-weight: bold\">3289</span> <span style=\"color: #008080; text-decoration-color: #008080; font-weight: bold\">3362</span> <span style=\"color: #008080; text-decoration-color: #008080; font-weight: bold\">3414</span> <span style=\"color: #008080; text-decoration-color: #008080; font-weight: bold\">3483</span><span style=\"font-weight: bold\">]</span>                            <span style=\"color: #7f7f7f; text-decoration-color: #7f7f7f\">                      </span>\n",
       "</pre>\n"
      ],
      "text/plain": [
       "\u001b[2;36m                   \u001b[0m\u001b[2;36m \u001b[0m\u001b[34mINFO    \u001b[0m \u001b[94mprep_model\u001b[0m Node type num \u001b[1m[\u001b[0m\u001b[1;36m2420\u001b[0m   \u001b[1;36m79\u001b[0m   \u001b[1;36m53\u001b[0m   \u001b[1;36m49\u001b[0m   \u001b[1;36m49\u001b[0m   \u001b[1;36m49\u001b[0m   \u001b[1;36m50\u001b[0m    \u001b]8;id=554357;file:///n/home09/pren/3DGeno_tools/src/gt3d/modules/higashi/Higashi_wrapper.py\u001b\\\u001b[2mHigashi_wrapper.py\u001b[0m\u001b]8;;\u001b\\\u001b[2m:\u001b[0m\u001b]8;id=120935;file:///n/home09/pren/3DGeno_tools/src/gt3d/modules/higashi/Higashi_wrapper.py#866\u001b\\\u001b[2m866\u001b[0m\u001b]8;;\u001b\\\n",
       "\u001b[2;36m                    \u001b[0m         \u001b[1;36m42\u001b[0m   \u001b[1;36m38\u001b[0m   \u001b[1;36m37\u001b[0m   \u001b[1;36m65\u001b[0m   \u001b[1;36m63\u001b[0m   \u001b[1;36m61\u001b[0m   \u001b[1;36m60\u001b[0m                                \u001b[2m                      \u001b[0m\n",
       "\u001b[2;36m                    \u001b[0m            \u001b[1;36m59\u001b[0m   \u001b[1;36m50\u001b[0m   \u001b[1;36m40\u001b[0m   \u001b[1;36m25\u001b[0m   \u001b[1;36m73\u001b[0m   \u001b[1;36m52\u001b[0m   \u001b[1;36m69\u001b[0m\u001b[1m]\u001b[0m \u001b[1m[\u001b[0m\u001b[1;36m2420\u001b[0m \u001b[1;36m2499\u001b[0m \u001b[1;36m2552\u001b[0m \u001b[1;36m2601\u001b[0m \u001b[1;36m2650\u001b[0m  \u001b[2m                      \u001b[0m\n",
       "\u001b[2;36m                    \u001b[0m         \u001b[1;36m2699\u001b[0m \u001b[1;36m2749\u001b[0m \u001b[1;36m2791\u001b[0m \u001b[1;36m2829\u001b[0m \u001b[1;36m2866\u001b[0m \u001b[1;36m2931\u001b[0m \u001b[1;36m2994\u001b[0m \u001b[1;36m3055\u001b[0m \u001b[1;36m3115\u001b[0m                    \u001b[2m                      \u001b[0m\n",
       "\u001b[2;36m                    \u001b[0m          \u001b[1;36m3174\u001b[0m \u001b[1;36m3224\u001b[0m \u001b[1;36m3264\u001b[0m \u001b[1;36m3289\u001b[0m \u001b[1;36m3362\u001b[0m \u001b[1;36m3414\u001b[0m \u001b[1;36m3483\u001b[0m\u001b[1m]\u001b[0m                            \u001b[2m                      \u001b[0m\n"
      ]
     },
     "metadata": {},
     "output_type": "display_data"
    },
    {
     "data": {
      "text/html": [
       "<pre style=\"white-space:pre;overflow-x:auto;line-height:normal;font-family:Menlo,'DejaVu Sans Mono',consolas,'Courier New',monospace\"><span style=\"color: #7fbfbf; text-decoration-color: #7fbfbf\">                    </span><span style=\"color: #000080; text-decoration-color: #000080\">INFO    </span> <span style=\"color: #0000ff; text-decoration-color: #0000ff\">generate_attributes</span> Start making attribute                      <a href=\"file:///n/home09/pren/3DGeno_tools/src/gt3d/modules/higashi/Higashi_wrapper.py\" target=\"_blank\"><span style=\"color: #7f7f7f; text-decoration-color: #7f7f7f\">Higashi_wrapper.py</span></a><span style=\"color: #7f7f7f; text-decoration-color: #7f7f7f\">:</span><a href=\"file:///n/home09/pren/3DGeno_tools/src/gt3d/modules/higashi/Higashi_wrapper.py#756\" target=\"_blank\"><span style=\"color: #7f7f7f; text-decoration-color: #7f7f7f\">756</span></a>\n",
       "</pre>\n"
      ],
      "text/plain": [
       "\u001b[2;36m                   \u001b[0m\u001b[2;36m \u001b[0m\u001b[34mINFO    \u001b[0m \u001b[94mgenerate_attributes\u001b[0m Start making attribute                      \u001b]8;id=711194;file:///n/home09/pren/3DGeno_tools/src/gt3d/modules/higashi/Higashi_wrapper.py\u001b\\\u001b[2mHigashi_wrapper.py\u001b[0m\u001b]8;;\u001b\\\u001b[2m:\u001b[0m\u001b]8;id=874187;file:///n/home09/pren/3DGeno_tools/src/gt3d/modules/higashi/Higashi_wrapper.py#756\u001b\\\u001b[2m756\u001b[0m\u001b]8;;\u001b\\\n"
      ]
     },
     "metadata": {},
     "output_type": "display_data"
    },
    {
     "data": {
      "application/vnd.jupyter.widget-view+json": {
       "model_id": "2cbad82c4827446b8c17c9289343de63",
       "version_major": 2,
       "version_minor": 0
      },
      "text/plain": [
       "Output()"
      ]
     },
     "metadata": {},
     "output_type": "display_data"
    },
    {
     "data": {
      "text/html": [
       "<pre style=\"white-space:pre;overflow-x:auto;line-height:normal;font-family:Menlo,'DejaVu Sans Mono',consolas,'Courier New',monospace\"></pre>\n"
      ],
      "text/plain": []
     },
     "metadata": {},
     "output_type": "display_data"
    },
    {
     "data": {
      "text/html": [
       "<pre style=\"white-space:pre;overflow-x:auto;line-height:normal;font-family:Menlo,'DejaVu Sans Mono',consolas,'Courier New',monospace\"><span style=\"color: #7fbfbf; text-decoration-color: #7fbfbf\">[12/07/24 14:29:24] </span><span style=\"color: #000080; text-decoration-color: #000080\">INFO    </span> <span style=\"color: #0000ff; text-decoration-color: #0000ff\">fit</span> loss: <span style=\"color: #008080; text-decoration-color: #008080; font-weight: bold\">0.8282062411308289</span> loss_best: <span style=\"color: #008080; text-decoration-color: #008080; font-weight: bold\">0.7962300777435303</span> epochs: <span style=\"color: #008080; text-decoration-color: #008080; font-weight: bold\">123</span>  <a href=\"file:///n/home09/pren/3DGeno_tools/src/gt3d/modules/higashi/Higashi_backend/Modules.py\" target=\"_blank\"><span style=\"color: #7f7f7f; text-decoration-color: #7f7f7f\">Modules.py</span></a><span style=\"color: #7f7f7f; text-decoration-color: #7f7f7f\">:</span><a href=\"file:///n/home09/pren/3DGeno_tools/src/gt3d/modules/higashi/Higashi_backend/Modules.py#334\" target=\"_blank\"><span style=\"color: #7f7f7f; text-decoration-color: #7f7f7f\">334</span></a>\n",
       "</pre>\n"
      ],
      "text/plain": [
       "\u001b[2;36m[12/07/24 14:29:24]\u001b[0m\u001b[2;36m \u001b[0m\u001b[34mINFO    \u001b[0m \u001b[94mfit\u001b[0m loss: \u001b[1;36m0.8282062411308289\u001b[0m loss_best: \u001b[1;36m0.7962300777435303\u001b[0m epochs: \u001b[1;36m123\u001b[0m  \u001b]8;id=660192;file:///n/home09/pren/3DGeno_tools/src/gt3d/modules/higashi/Higashi_backend/Modules.py\u001b\\\u001b[2mModules.py\u001b[0m\u001b]8;;\u001b\\\u001b[2m:\u001b[0m\u001b]8;id=316511;file:///n/home09/pren/3DGeno_tools/src/gt3d/modules/higashi/Higashi_backend/Modules.py#334\u001b\\\u001b[2m334\u001b[0m\u001b]8;;\u001b\\\n"
      ]
     },
     "metadata": {},
     "output_type": "display_data"
    },
    {
     "data": {
      "text/html": [
       "<pre style=\"white-space:pre;overflow-x:auto;line-height:normal;font-family:Menlo,'DejaVu Sans Mono',consolas,'Courier New',monospace\"><span style=\"color: #7fbfbf; text-decoration-color: #7fbfbf\">                    </span><span style=\"color: #000080; text-decoration-color: #000080\">INFO    </span> <span style=\"color: #0000ff; text-decoration-color: #0000ff\">__init__</span> Initializing data generator                                   <a href=\"file:///n/home09/pren/3DGeno_tools/src/gt3d/modules/higashi/Higashi_backend/Modules.py\" target=\"_blank\"><span style=\"color: #7f7f7f; text-decoration-color: #7f7f7f\">Modules.py</span></a><span style=\"color: #7f7f7f; text-decoration-color: #7f7f7f\">:</span><a href=\"file:///n/home09/pren/3DGeno_tools/src/gt3d/modules/higashi/Higashi_backend/Modules.py#1177\" target=\"_blank\"><span style=\"color: #7f7f7f; text-decoration-color: #7f7f7f\">1177</span></a>\n",
       "</pre>\n"
      ],
      "text/plain": [
       "\u001b[2;36m                   \u001b[0m\u001b[2;36m \u001b[0m\u001b[34mINFO    \u001b[0m \u001b[94m__init__\u001b[0m Initializing data generator                                   \u001b]8;id=307814;file:///n/home09/pren/3DGeno_tools/src/gt3d/modules/higashi/Higashi_backend/Modules.py\u001b\\\u001b[2mModules.py\u001b[0m\u001b]8;;\u001b\\\u001b[2m:\u001b[0m\u001b]8;id=107919;file:///n/home09/pren/3DGeno_tools/src/gt3d/modules/higashi/Higashi_backend/Modules.py#1177\u001b\\\u001b[2m1177\u001b[0m\u001b]8;;\u001b\\\n"
      ]
     },
     "metadata": {},
     "output_type": "display_data"
    },
    {
     "data": {
      "text/html": [
       "<pre style=\"white-space:pre;overflow-x:auto;line-height:normal;font-family:Menlo,'DejaVu Sans Mono',consolas,'Courier New',monospace\"><span style=\"color: #7fbfbf; text-decoration-color: #7fbfbf\">                    </span><span style=\"color: #000080; text-decoration-color: #000080\">INFO    </span> <span style=\"color: #0000ff; text-decoration-color: #0000ff\">__init__</span> Initializing data generator                                   <a href=\"file:///n/home09/pren/3DGeno_tools/src/gt3d/modules/higashi/Higashi_backend/Modules.py\" target=\"_blank\"><span style=\"color: #7f7f7f; text-decoration-color: #7f7f7f\">Modules.py</span></a><span style=\"color: #7f7f7f; text-decoration-color: #7f7f7f\">:</span><a href=\"file:///n/home09/pren/3DGeno_tools/src/gt3d/modules/higashi/Higashi_backend/Modules.py#1177\" target=\"_blank\"><span style=\"color: #7f7f7f; text-decoration-color: #7f7f7f\">1177</span></a>\n",
       "</pre>\n"
      ],
      "text/plain": [
       "\u001b[2;36m                   \u001b[0m\u001b[2;36m \u001b[0m\u001b[34mINFO    \u001b[0m \u001b[94m__init__\u001b[0m Initializing data generator                                   \u001b]8;id=257237;file:///n/home09/pren/3DGeno_tools/src/gt3d/modules/higashi/Higashi_backend/Modules.py\u001b\\\u001b[2mModules.py\u001b[0m\u001b]8;;\u001b\\\u001b[2m:\u001b[0m\u001b]8;id=982334;file:///n/home09/pren/3DGeno_tools/src/gt3d/modules/higashi/Higashi_backend/Modules.py#1177\u001b\\\u001b[2m1177\u001b[0m\u001b]8;;\u001b\\\n"
      ]
     },
     "metadata": {},
     "output_type": "display_data"
    }
   ],
   "source": [
    "higashi_model.prep_model()"
   ]
  },
  {
   "cell_type": "code",
   "execution_count": 16,
   "id": "3a403c56",
   "metadata": {},
   "outputs": [
    {
     "data": {
      "text/html": [
       "<pre style=\"white-space:pre;overflow-x:auto;line-height:normal;font-family:Menlo,'DejaVu Sans Mono',consolas,'Courier New',monospace\"><span style=\"color: #7fbfbf; text-decoration-color: #7fbfbf\">                    </span><span style=\"color: #000080; text-decoration-color: #000080\">INFO    </span> <span style=\"color: #0000ff; text-decoration-color: #0000ff\">train_for_embeddings</span> <span style=\"color: #808000; text-decoration-color: #808000\">First stage training</span>                      <a href=\"file:///n/home09/pren/3DGeno_tools/src/gt3d/modules/higashi/Higashi_wrapper.py\" target=\"_blank\"><span style=\"color: #7f7f7f; text-decoration-color: #7f7f7f\">Higashi_wrapper.py</span></a><span style=\"color: #7f7f7f; text-decoration-color: #7f7f7f\">:</span><a href=\"file:///n/home09/pren/3DGeno_tools/src/gt3d/modules/higashi/Higashi_wrapper.py#1596\" target=\"_blank\"><span style=\"color: #7f7f7f; text-decoration-color: #7f7f7f\">1596</span></a>\n",
       "</pre>\n"
      ],
      "text/plain": [
       "\u001b[2;36m                   \u001b[0m\u001b[2;36m \u001b[0m\u001b[34mINFO    \u001b[0m \u001b[94mtrain_for_embeddings\u001b[0m \u001b[33mFirst stage training\u001b[0m                      \u001b]8;id=409926;file:///n/home09/pren/3DGeno_tools/src/gt3d/modules/higashi/Higashi_wrapper.py\u001b\\\u001b[2mHigashi_wrapper.py\u001b[0m\u001b]8;;\u001b\\\u001b[2m:\u001b[0m\u001b]8;id=360457;file:///n/home09/pren/3DGeno_tools/src/gt3d/modules/higashi/Higashi_wrapper.py#1596\u001b\\\u001b[2m1596\u001b[0m\u001b]8;;\u001b\\\n"
      ]
     },
     "metadata": {},
     "output_type": "display_data"
    },
    {
     "data": {
      "text/html": [
       "<pre style=\"white-space:pre;overflow-x:auto;line-height:normal;font-family:Menlo,'DejaVu Sans Mono',consolas,'Courier New',monospace\"><span style=\"color: #7fbfbf; text-decoration-color: #7fbfbf\">                    </span><span style=\"color: #000080; text-decoration-color: #000080\">INFO    </span> <span style=\"color: #0000ff; text-decoration-color: #0000ff\">train</span> <span style=\"font-weight: bold\">[</span> Epoch <span style=\"color: #008080; text-decoration-color: #008080; font-weight: bold\">0</span> of <span style=\"color: #008080; text-decoration-color: #008080; font-weight: bold\">65</span> <span style=\"font-weight: bold\">]</span>                                        <a href=\"file:///n/home09/pren/3DGeno_tools/src/gt3d/modules/higashi/Higashi_wrapper.py\" target=\"_blank\"><span style=\"color: #7f7f7f; text-decoration-color: #7f7f7f\">Higashi_wrapper.py</span></a><span style=\"color: #7f7f7f; text-decoration-color: #7f7f7f\">:</span><a href=\"file:///n/home09/pren/3DGeno_tools/src/gt3d/modules/higashi/Higashi_wrapper.py#1245\" target=\"_blank\"><span style=\"color: #7f7f7f; text-decoration-color: #7f7f7f\">1245</span></a>\n",
       "</pre>\n"
      ],
      "text/plain": [
       "\u001b[2;36m                   \u001b[0m\u001b[2;36m \u001b[0m\u001b[34mINFO    \u001b[0m \u001b[94mtrain\u001b[0m \u001b[1m[\u001b[0m Epoch \u001b[1;36m0\u001b[0m of \u001b[1;36m65\u001b[0m \u001b[1m]\u001b[0m                                        \u001b]8;id=959425;file:///n/home09/pren/3DGeno_tools/src/gt3d/modules/higashi/Higashi_wrapper.py\u001b\\\u001b[2mHigashi_wrapper.py\u001b[0m\u001b]8;;\u001b\\\u001b[2m:\u001b[0m\u001b]8;id=314565;file:///n/home09/pren/3DGeno_tools/src/gt3d/modules/higashi/Higashi_wrapper.py#1245\u001b\\\u001b[2m1245\u001b[0m\u001b]8;;\u001b\\\n"
      ]
     },
     "metadata": {},
     "output_type": "display_data"
    },
    {
     "data": {
      "application/vnd.jupyter.widget-view+json": {
       "model_id": "df99ae4c1f904bf1a8825380212e4e25",
       "version_major": 2,
       "version_minor": 0
      },
      "text/plain": [
       "Output()"
      ]
     },
     "metadata": {},
     "output_type": "display_data"
    },
    {
     "data": {
      "text/html": [
       "<pre style=\"white-space:pre;overflow-x:auto;line-height:normal;font-family:Menlo,'DejaVu Sans Mono',consolas,'Courier New',monospace\"></pre>\n"
      ],
      "text/plain": []
     },
     "metadata": {},
     "output_type": "display_data"
    },
    {
     "data": {
      "text/html": [
       "<pre style=\"white-space:pre;overflow-x:auto;line-height:normal;font-family:Menlo,'DejaVu Sans Mono',consolas,'Courier New',monospace\"><span style=\"color: #7fbfbf; text-decoration-color: #7fbfbf\">[12/07/24 14:31:13] </span><span style=\"color: #000080; text-decoration-color: #000080\">INFO    </span> <span style=\"color: #0000ff; text-decoration-color: #0000ff\">train</span>  - <span style=\"font-weight: bold\">(</span>Train<span style=\"font-weight: bold\">)</span> bce:  <span style=\"color: #008080; text-decoration-color: #008080; font-weight: bold\">0.4374</span>, mse:  <span style=\"color: #008080; text-decoration-color: #008080; font-weight: bold\">0.8569</span>,  acc: <span style=\"color: #008080; text-decoration-color: #008080; font-weight: bold\">83.771</span> %,   <a href=\"file:///n/home09/pren/3DGeno_tools/src/gt3d/modules/higashi/Higashi_wrapper.py\" target=\"_blank\"><span style=\"color: #7f7f7f; text-decoration-color: #7f7f7f\">Higashi_wrapper.py</span></a><span style=\"color: #7f7f7f; text-decoration-color: #7f7f7f\">:</span><a href=\"file:///n/home09/pren/3DGeno_tools/src/gt3d/modules/higashi/Higashi_wrapper.py#1258\" target=\"_blank\"><span style=\"color: #7f7f7f; text-decoration-color: #7f7f7f\">1258</span></a>\n",
       "<span style=\"color: #7fbfbf; text-decoration-color: #7fbfbf\">                    </span>         pearson: <span style=\"color: #008080; text-decoration-color: #008080; font-weight: bold\">0.439</span>, spearman: <span style=\"color: #008080; text-decoration-color: #008080; font-weight: bold\">0.431</span>, elapse: <span style=\"color: #008080; text-decoration-color: #008080; font-weight: bold\">108.946</span> s             <span style=\"color: #7f7f7f; text-decoration-color: #7f7f7f\">                       </span>\n",
       "</pre>\n"
      ],
      "text/plain": [
       "\u001b[2;36m[12/07/24 14:31:13]\u001b[0m\u001b[2;36m \u001b[0m\u001b[34mINFO    \u001b[0m \u001b[94mtrain\u001b[0m  - \u001b[1m(\u001b[0mTrain\u001b[1m)\u001b[0m bce:  \u001b[1;36m0.4374\u001b[0m, mse:  \u001b[1;36m0.8569\u001b[0m,  acc: \u001b[1;36m83.771\u001b[0m %,   \u001b]8;id=122345;file:///n/home09/pren/3DGeno_tools/src/gt3d/modules/higashi/Higashi_wrapper.py\u001b\\\u001b[2mHigashi_wrapper.py\u001b[0m\u001b]8;;\u001b\\\u001b[2m:\u001b[0m\u001b]8;id=359545;file:///n/home09/pren/3DGeno_tools/src/gt3d/modules/higashi/Higashi_wrapper.py#1258\u001b\\\u001b[2m1258\u001b[0m\u001b]8;;\u001b\\\n",
       "\u001b[2;36m                    \u001b[0m         pearson: \u001b[1;36m0.439\u001b[0m, spearman: \u001b[1;36m0.431\u001b[0m, elapse: \u001b[1;36m108.946\u001b[0m s             \u001b[2m                       \u001b[0m\n"
      ]
     },
     "metadata": {},
     "output_type": "display_data"
    },
    {
     "data": {
      "application/vnd.jupyter.widget-view+json": {
       "model_id": "55eabd89084543b0a98c358e4b33c9cc",
       "version_major": 2,
       "version_minor": 0
      },
      "text/plain": [
       "Output()"
      ]
     },
     "metadata": {},
     "output_type": "display_data"
    },
    {
     "data": {
      "text/html": [
       "<pre style=\"white-space:pre;overflow-x:auto;line-height:normal;font-family:Menlo,'DejaVu Sans Mono',consolas,'Courier New',monospace\"></pre>\n"
      ],
      "text/plain": []
     },
     "metadata": {},
     "output_type": "display_data"
    },
    {
     "data": {
      "text/html": [
       "<pre style=\"white-space:pre;overflow-x:auto;line-height:normal;font-family:Menlo,'DejaVu Sans Mono',consolas,'Courier New',monospace\"><span style=\"color: #7fbfbf; text-decoration-color: #7fbfbf\">                    </span><span style=\"color: #000080; text-decoration-color: #000080\">INFO    </span> <span style=\"color: #0000ff; text-decoration-color: #0000ff\">train</span>  - <span style=\"font-weight: bold\">(</span>Valid<span style=\"font-weight: bold\">)</span> bce:  <span style=\"color: #008080; text-decoration-color: #008080; font-weight: bold\">0.4033</span>,  acc: <span style=\"color: #008080; text-decoration-color: #008080; font-weight: bold\">86.159</span> %,pearson: <span style=\"color: #008080; text-decoration-color: #008080; font-weight: bold\">0.515</span>,  <a href=\"file:///n/home09/pren/3DGeno_tools/src/gt3d/modules/higashi/Higashi_wrapper.py\" target=\"_blank\"><span style=\"color: #7f7f7f; text-decoration-color: #7f7f7f\">Higashi_wrapper.py</span></a><span style=\"color: #7f7f7f; text-decoration-color: #7f7f7f\">:</span><a href=\"file:///n/home09/pren/3DGeno_tools/src/gt3d/modules/higashi/Higashi_wrapper.py#1277\" target=\"_blank\"><span style=\"color: #7f7f7f; text-decoration-color: #7f7f7f\">1277</span></a>\n",
       "<span style=\"color: #7fbfbf; text-decoration-color: #7fbfbf\">                    </span>         spearman: <span style=\"color: #008080; text-decoration-color: #008080; font-weight: bold\">0.497</span>,elapse: <span style=\"color: #008080; text-decoration-color: #008080; font-weight: bold\">0.396</span> s                                <span style=\"color: #7f7f7f; text-decoration-color: #7f7f7f\">                       </span>\n",
       "</pre>\n"
      ],
      "text/plain": [
       "\u001b[2;36m                   \u001b[0m\u001b[2;36m \u001b[0m\u001b[34mINFO    \u001b[0m \u001b[94mtrain\u001b[0m  - \u001b[1m(\u001b[0mValid\u001b[1m)\u001b[0m bce:  \u001b[1;36m0.4033\u001b[0m,  acc: \u001b[1;36m86.159\u001b[0m %,pearson: \u001b[1;36m0.515\u001b[0m,  \u001b]8;id=290017;file:///n/home09/pren/3DGeno_tools/src/gt3d/modules/higashi/Higashi_wrapper.py\u001b\\\u001b[2mHigashi_wrapper.py\u001b[0m\u001b]8;;\u001b\\\u001b[2m:\u001b[0m\u001b]8;id=818197;file:///n/home09/pren/3DGeno_tools/src/gt3d/modules/higashi/Higashi_wrapper.py#1277\u001b\\\u001b[2m1277\u001b[0m\u001b]8;;\u001b\\\n",
       "\u001b[2;36m                    \u001b[0m         spearman: \u001b[1;36m0.497\u001b[0m,elapse: \u001b[1;36m0.396\u001b[0m s                                \u001b[2m                       \u001b[0m\n"
      ]
     },
     "metadata": {},
     "output_type": "display_data"
    },
    {
     "data": {
      "text/html": [
       "<pre style=\"white-space:pre;overflow-x:auto;line-height:normal;font-family:Menlo,'DejaVu Sans Mono',consolas,'Courier New',monospace\"><span style=\"color: #7fbfbf; text-decoration-color: #7fbfbf\">[12/07/24 14:31:14] </span><span style=\"color: #000080; text-decoration-color: #000080\">INFO    </span> <span style=\"color: #0000ff; text-decoration-color: #0000ff\">train</span> update_rate: <span style=\"color: #008080; text-decoration-color: #008080; font-weight: bold\">0.795764</span>     <span style=\"color: #008080; text-decoration-color: #008080; font-weight: bold\">1.129442</span>        update_rate:   <a href=\"file:///n/home09/pren/3DGeno_tools/src/gt3d/modules/higashi/Higashi_wrapper.py\" target=\"_blank\"><span style=\"color: #7f7f7f; text-decoration-color: #7f7f7f\">Higashi_wrapper.py</span></a><span style=\"color: #7f7f7f; text-decoration-color: #7f7f7f\">:</span><a href=\"file:///n/home09/pren/3DGeno_tools/src/gt3d/modules/higashi/Higashi_wrapper.py#1323\" target=\"_blank\"><span style=\"color: #7f7f7f; text-decoration-color: #7f7f7f\">1323</span></a>\n",
       "<span style=\"color: #7fbfbf; text-decoration-color: #7fbfbf\">                    </span>         <span style=\"color: #008080; text-decoration-color: #008080; font-weight: bold\">0.000000</span>   <span style=\"color: #008080; text-decoration-color: #008080; font-weight: bold\">0.000000</span>        pair_ratio: <span style=\"color: #008080; text-decoration-color: #008080; font-weight: bold\">0.1</span>                     <span style=\"color: #7f7f7f; text-decoration-color: #7f7f7f\">                       </span>\n",
       "</pre>\n"
      ],
      "text/plain": [
       "\u001b[2;36m[12/07/24 14:31:14]\u001b[0m\u001b[2;36m \u001b[0m\u001b[34mINFO    \u001b[0m \u001b[94mtrain\u001b[0m update_rate: \u001b[1;36m0.795764\u001b[0m     \u001b[1;36m1.129442\u001b[0m        update_rate:   \u001b]8;id=886067;file:///n/home09/pren/3DGeno_tools/src/gt3d/modules/higashi/Higashi_wrapper.py\u001b\\\u001b[2mHigashi_wrapper.py\u001b[0m\u001b]8;;\u001b\\\u001b[2m:\u001b[0m\u001b]8;id=786244;file:///n/home09/pren/3DGeno_tools/src/gt3d/modules/higashi/Higashi_wrapper.py#1323\u001b\\\u001b[2m1323\u001b[0m\u001b]8;;\u001b\\\n",
       "\u001b[2;36m                    \u001b[0m         \u001b[1;36m0.000000\u001b[0m   \u001b[1;36m0.000000\u001b[0m        pair_ratio: \u001b[1;36m0.1\u001b[0m                     \u001b[2m                       \u001b[0m\n"
      ]
     },
     "metadata": {},
     "output_type": "display_data"
    },
    {
     "data": {
      "text/html": [
       "<pre style=\"white-space:pre;overflow-x:auto;line-height:normal;font-family:Menlo,'DejaVu Sans Mono',consolas,'Courier New',monospace\"><span style=\"color: #7fbfbf; text-decoration-color: #7fbfbf\">                    </span><span style=\"color: #000080; text-decoration-color: #000080\">INFO    </span> <span style=\"color: #0000ff; text-decoration-color: #0000ff\">train</span> <span style=\"font-weight: bold\">[</span> Epoch <span style=\"color: #008080; text-decoration-color: #008080; font-weight: bold\">1</span> of <span style=\"color: #008080; text-decoration-color: #008080; font-weight: bold\">65</span> <span style=\"font-weight: bold\">]</span>                                        <a href=\"file:///n/home09/pren/3DGeno_tools/src/gt3d/modules/higashi/Higashi_wrapper.py\" target=\"_blank\"><span style=\"color: #7f7f7f; text-decoration-color: #7f7f7f\">Higashi_wrapper.py</span></a><span style=\"color: #7f7f7f; text-decoration-color: #7f7f7f\">:</span><a href=\"file:///n/home09/pren/3DGeno_tools/src/gt3d/modules/higashi/Higashi_wrapper.py#1245\" target=\"_blank\"><span style=\"color: #7f7f7f; text-decoration-color: #7f7f7f\">1245</span></a>\n",
       "</pre>\n"
      ],
      "text/plain": [
       "\u001b[2;36m                   \u001b[0m\u001b[2;36m \u001b[0m\u001b[34mINFO    \u001b[0m \u001b[94mtrain\u001b[0m \u001b[1m[\u001b[0m Epoch \u001b[1;36m1\u001b[0m of \u001b[1;36m65\u001b[0m \u001b[1m]\u001b[0m                                        \u001b]8;id=194775;file:///n/home09/pren/3DGeno_tools/src/gt3d/modules/higashi/Higashi_wrapper.py\u001b\\\u001b[2mHigashi_wrapper.py\u001b[0m\u001b]8;;\u001b\\\u001b[2m:\u001b[0m\u001b]8;id=15335;file:///n/home09/pren/3DGeno_tools/src/gt3d/modules/higashi/Higashi_wrapper.py#1245\u001b\\\u001b[2m1245\u001b[0m\u001b]8;;\u001b\\\n"
      ]
     },
     "metadata": {},
     "output_type": "display_data"
    },
    {
     "data": {
      "application/vnd.jupyter.widget-view+json": {
       "model_id": "5084d564c5a34cc6827312f13f5b9222",
       "version_major": 2,
       "version_minor": 0
      },
      "text/plain": [
       "Output()"
      ]
     },
     "metadata": {},
     "output_type": "display_data"
    },
    {
     "data": {
      "text/html": [
       "<pre style=\"white-space:pre;overflow-x:auto;line-height:normal;font-family:Menlo,'DejaVu Sans Mono',consolas,'Courier New',monospace\"></pre>\n"
      ],
      "text/plain": []
     },
     "metadata": {},
     "output_type": "display_data"
    },
    {
     "data": {
      "text/html": [
       "<pre style=\"white-space:pre;overflow-x:auto;line-height:normal;font-family:Menlo,'DejaVu Sans Mono',consolas,'Courier New',monospace\"><span style=\"color: #7fbfbf; text-decoration-color: #7fbfbf\">[12/07/24 14:32:59] </span><span style=\"color: #000080; text-decoration-color: #000080\">INFO    </span> <span style=\"color: #0000ff; text-decoration-color: #0000ff\">train</span>  - <span style=\"font-weight: bold\">(</span>Train<span style=\"font-weight: bold\">)</span> bce:  <span style=\"color: #008080; text-decoration-color: #008080; font-weight: bold\">0.3884</span>, mse:  <span style=\"color: #008080; text-decoration-color: #008080; font-weight: bold\">0.8722</span>,  acc: <span style=\"color: #008080; text-decoration-color: #008080; font-weight: bold\">85.817</span> %,   <a href=\"file:///n/home09/pren/3DGeno_tools/src/gt3d/modules/higashi/Higashi_wrapper.py\" target=\"_blank\"><span style=\"color: #7f7f7f; text-decoration-color: #7f7f7f\">Higashi_wrapper.py</span></a><span style=\"color: #7f7f7f; text-decoration-color: #7f7f7f\">:</span><a href=\"file:///n/home09/pren/3DGeno_tools/src/gt3d/modules/higashi/Higashi_wrapper.py#1258\" target=\"_blank\"><span style=\"color: #7f7f7f; text-decoration-color: #7f7f7f\">1258</span></a>\n",
       "<span style=\"color: #7fbfbf; text-decoration-color: #7fbfbf\">                    </span>         pearson: <span style=\"color: #008080; text-decoration-color: #008080; font-weight: bold\">0.539</span>, spearman: <span style=\"color: #008080; text-decoration-color: #008080; font-weight: bold\">0.505</span>, elapse: <span style=\"color: #008080; text-decoration-color: #008080; font-weight: bold\">104.814</span> s             <span style=\"color: #7f7f7f; text-decoration-color: #7f7f7f\">                       </span>\n",
       "</pre>\n"
      ],
      "text/plain": [
       "\u001b[2;36m[12/07/24 14:32:59]\u001b[0m\u001b[2;36m \u001b[0m\u001b[34mINFO    \u001b[0m \u001b[94mtrain\u001b[0m  - \u001b[1m(\u001b[0mTrain\u001b[1m)\u001b[0m bce:  \u001b[1;36m0.3884\u001b[0m, mse:  \u001b[1;36m0.8722\u001b[0m,  acc: \u001b[1;36m85.817\u001b[0m %,   \u001b]8;id=784225;file:///n/home09/pren/3DGeno_tools/src/gt3d/modules/higashi/Higashi_wrapper.py\u001b\\\u001b[2mHigashi_wrapper.py\u001b[0m\u001b]8;;\u001b\\\u001b[2m:\u001b[0m\u001b]8;id=860546;file:///n/home09/pren/3DGeno_tools/src/gt3d/modules/higashi/Higashi_wrapper.py#1258\u001b\\\u001b[2m1258\u001b[0m\u001b]8;;\u001b\\\n",
       "\u001b[2;36m                    \u001b[0m         pearson: \u001b[1;36m0.539\u001b[0m, spearman: \u001b[1;36m0.505\u001b[0m, elapse: \u001b[1;36m104.814\u001b[0m s             \u001b[2m                       \u001b[0m\n"
      ]
     },
     "metadata": {},
     "output_type": "display_data"
    },
    {
     "data": {
      "application/vnd.jupyter.widget-view+json": {
       "model_id": "a591825674834c18b58f6206f83d621d",
       "version_major": 2,
       "version_minor": 0
      },
      "text/plain": [
       "Output()"
      ]
     },
     "metadata": {},
     "output_type": "display_data"
    },
    {
     "data": {
      "text/html": [
       "<pre style=\"white-space:pre;overflow-x:auto;line-height:normal;font-family:Menlo,'DejaVu Sans Mono',consolas,'Courier New',monospace\"></pre>\n"
      ],
      "text/plain": []
     },
     "metadata": {},
     "output_type": "display_data"
    },
    {
     "data": {
      "text/html": [
       "<pre style=\"white-space:pre;overflow-x:auto;line-height:normal;font-family:Menlo,'DejaVu Sans Mono',consolas,'Courier New',monospace\"><span style=\"color: #7fbfbf; text-decoration-color: #7fbfbf\">[12/07/24 14:33:00] </span><span style=\"color: #000080; text-decoration-color: #000080\">INFO    </span> <span style=\"color: #0000ff; text-decoration-color: #0000ff\">train</span>  - <span style=\"font-weight: bold\">(</span>Valid<span style=\"font-weight: bold\">)</span> bce:  <span style=\"color: #008080; text-decoration-color: #008080; font-weight: bold\">0.3977</span>,  acc: <span style=\"color: #008080; text-decoration-color: #008080; font-weight: bold\">84.316</span> %,pearson: <span style=\"color: #008080; text-decoration-color: #008080; font-weight: bold\">0.544</span>,  <a href=\"file:///n/home09/pren/3DGeno_tools/src/gt3d/modules/higashi/Higashi_wrapper.py\" target=\"_blank\"><span style=\"color: #7f7f7f; text-decoration-color: #7f7f7f\">Higashi_wrapper.py</span></a><span style=\"color: #7f7f7f; text-decoration-color: #7f7f7f\">:</span><a href=\"file:///n/home09/pren/3DGeno_tools/src/gt3d/modules/higashi/Higashi_wrapper.py#1277\" target=\"_blank\"><span style=\"color: #7f7f7f; text-decoration-color: #7f7f7f\">1277</span></a>\n",
       "<span style=\"color: #7fbfbf; text-decoration-color: #7fbfbf\">                    </span>         spearman: <span style=\"color: #008080; text-decoration-color: #008080; font-weight: bold\">0.510</span>,elapse: <span style=\"color: #008080; text-decoration-color: #008080; font-weight: bold\">0.614</span> s                                <span style=\"color: #7f7f7f; text-decoration-color: #7f7f7f\">                       </span>\n",
       "</pre>\n"
      ],
      "text/plain": [
       "\u001b[2;36m[12/07/24 14:33:00]\u001b[0m\u001b[2;36m \u001b[0m\u001b[34mINFO    \u001b[0m \u001b[94mtrain\u001b[0m  - \u001b[1m(\u001b[0mValid\u001b[1m)\u001b[0m bce:  \u001b[1;36m0.3977\u001b[0m,  acc: \u001b[1;36m84.316\u001b[0m %,pearson: \u001b[1;36m0.544\u001b[0m,  \u001b]8;id=527983;file:///n/home09/pren/3DGeno_tools/src/gt3d/modules/higashi/Higashi_wrapper.py\u001b\\\u001b[2mHigashi_wrapper.py\u001b[0m\u001b]8;;\u001b\\\u001b[2m:\u001b[0m\u001b]8;id=306107;file:///n/home09/pren/3DGeno_tools/src/gt3d/modules/higashi/Higashi_wrapper.py#1277\u001b\\\u001b[2m1277\u001b[0m\u001b]8;;\u001b\\\n",
       "\u001b[2;36m                    \u001b[0m         spearman: \u001b[1;36m0.510\u001b[0m,elapse: \u001b[1;36m0.614\u001b[0m s                                \u001b[2m                       \u001b[0m\n"
      ]
     },
     "metadata": {},
     "output_type": "display_data"
    },
    {
     "data": {
      "text/html": [
       "<pre style=\"white-space:pre;overflow-x:auto;line-height:normal;font-family:Menlo,'DejaVu Sans Mono',consolas,'Courier New',monospace\"><span style=\"color: #7fbfbf; text-decoration-color: #7fbfbf\">                    </span><span style=\"color: #000080; text-decoration-color: #000080\">INFO    </span> <span style=\"color: #0000ff; text-decoration-color: #0000ff\">train</span> update_rate: <span style=\"color: #008080; text-decoration-color: #008080; font-weight: bold\">0.386655</span>     <span style=\"color: #008080; text-decoration-color: #008080; font-weight: bold\">3.183111</span>        pair_ratio:    <a href=\"file:///n/home09/pren/3DGeno_tools/src/gt3d/modules/higashi/Higashi_wrapper.py\" target=\"_blank\"><span style=\"color: #7f7f7f; text-decoration-color: #7f7f7f\">Higashi_wrapper.py</span></a><span style=\"color: #7f7f7f; text-decoration-color: #7f7f7f\">:</span><a href=\"file:///n/home09/pren/3DGeno_tools/src/gt3d/modules/higashi/Higashi_wrapper.py#1323\" target=\"_blank\"><span style=\"color: #7f7f7f; text-decoration-color: #7f7f7f\">1323</span></a>\n",
       "<span style=\"color: #7fbfbf; text-decoration-color: #7fbfbf\">                    </span>         <span style=\"color: #008080; text-decoration-color: #008080; font-weight: bold\">0.2</span>                                                            <span style=\"color: #7f7f7f; text-decoration-color: #7f7f7f\">                       </span>\n",
       "</pre>\n"
      ],
      "text/plain": [
       "\u001b[2;36m                   \u001b[0m\u001b[2;36m \u001b[0m\u001b[34mINFO    \u001b[0m \u001b[94mtrain\u001b[0m update_rate: \u001b[1;36m0.386655\u001b[0m     \u001b[1;36m3.183111\u001b[0m        pair_ratio:    \u001b]8;id=125855;file:///n/home09/pren/3DGeno_tools/src/gt3d/modules/higashi/Higashi_wrapper.py\u001b\\\u001b[2mHigashi_wrapper.py\u001b[0m\u001b]8;;\u001b\\\u001b[2m:\u001b[0m\u001b]8;id=668776;file:///n/home09/pren/3DGeno_tools/src/gt3d/modules/higashi/Higashi_wrapper.py#1323\u001b\\\u001b[2m1323\u001b[0m\u001b]8;;\u001b\\\n",
       "\u001b[2;36m                    \u001b[0m         \u001b[1;36m0.2\u001b[0m                                                            \u001b[2m                       \u001b[0m\n"
      ]
     },
     "metadata": {},
     "output_type": "display_data"
    },
    {
     "data": {
      "text/html": [
       "<pre style=\"white-space:pre;overflow-x:auto;line-height:normal;font-family:Menlo,'DejaVu Sans Mono',consolas,'Courier New',monospace\"><span style=\"color: #7fbfbf; text-decoration-color: #7fbfbf\">                    </span><span style=\"color: #000080; text-decoration-color: #000080\">INFO    </span> <span style=\"color: #0000ff; text-decoration-color: #0000ff\">train</span> <span style=\"font-weight: bold\">[</span> Epoch <span style=\"color: #008080; text-decoration-color: #008080; font-weight: bold\">2</span> of <span style=\"color: #008080; text-decoration-color: #008080; font-weight: bold\">65</span> <span style=\"font-weight: bold\">]</span>                                        <a href=\"file:///n/home09/pren/3DGeno_tools/src/gt3d/modules/higashi/Higashi_wrapper.py\" target=\"_blank\"><span style=\"color: #7f7f7f; text-decoration-color: #7f7f7f\">Higashi_wrapper.py</span></a><span style=\"color: #7f7f7f; text-decoration-color: #7f7f7f\">:</span><a href=\"file:///n/home09/pren/3DGeno_tools/src/gt3d/modules/higashi/Higashi_wrapper.py#1245\" target=\"_blank\"><span style=\"color: #7f7f7f; text-decoration-color: #7f7f7f\">1245</span></a>\n",
       "</pre>\n"
      ],
      "text/plain": [
       "\u001b[2;36m                   \u001b[0m\u001b[2;36m \u001b[0m\u001b[34mINFO    \u001b[0m \u001b[94mtrain\u001b[0m \u001b[1m[\u001b[0m Epoch \u001b[1;36m2\u001b[0m of \u001b[1;36m65\u001b[0m \u001b[1m]\u001b[0m                                        \u001b]8;id=597695;file:///n/home09/pren/3DGeno_tools/src/gt3d/modules/higashi/Higashi_wrapper.py\u001b\\\u001b[2mHigashi_wrapper.py\u001b[0m\u001b]8;;\u001b\\\u001b[2m:\u001b[0m\u001b]8;id=119820;file:///n/home09/pren/3DGeno_tools/src/gt3d/modules/higashi/Higashi_wrapper.py#1245\u001b\\\u001b[2m1245\u001b[0m\u001b]8;;\u001b\\\n"
      ]
     },
     "metadata": {},
     "output_type": "display_data"
    },
    {
     "data": {
      "application/vnd.jupyter.widget-view+json": {
       "model_id": "ab242a8a7b2645cbaa64826f07a47550",
       "version_major": 2,
       "version_minor": 0
      },
      "text/plain": [
       "Output()"
      ]
     },
     "metadata": {},
     "output_type": "display_data"
    },
    {
     "data": {
      "text/html": [
       "<pre style=\"white-space:pre;overflow-x:auto;line-height:normal;font-family:Menlo,'DejaVu Sans Mono',consolas,'Courier New',monospace\"></pre>\n"
      ],
      "text/plain": []
     },
     "metadata": {},
     "output_type": "display_data"
    },
    {
     "data": {
      "text/html": [
       "<pre style=\"white-space:pre;overflow-x:auto;line-height:normal;font-family:Menlo,'DejaVu Sans Mono',consolas,'Courier New',monospace\"><span style=\"color: #7fbfbf; text-decoration-color: #7fbfbf\">[12/07/24 14:34:45] </span><span style=\"color: #000080; text-decoration-color: #000080\">INFO    </span> <span style=\"color: #0000ff; text-decoration-color: #0000ff\">train</span>  - <span style=\"font-weight: bold\">(</span>Train<span style=\"font-weight: bold\">)</span> bce:  <span style=\"color: #008080; text-decoration-color: #008080; font-weight: bold\">0.3680</span>, mse:  <span style=\"color: #008080; text-decoration-color: #008080; font-weight: bold\">0.8835</span>,  acc: <span style=\"color: #008080; text-decoration-color: #008080; font-weight: bold\">86.572</span> %,   <a href=\"file:///n/home09/pren/3DGeno_tools/src/gt3d/modules/higashi/Higashi_wrapper.py\" target=\"_blank\"><span style=\"color: #7f7f7f; text-decoration-color: #7f7f7f\">Higashi_wrapper.py</span></a><span style=\"color: #7f7f7f; text-decoration-color: #7f7f7f\">:</span><a href=\"file:///n/home09/pren/3DGeno_tools/src/gt3d/modules/higashi/Higashi_wrapper.py#1258\" target=\"_blank\"><span style=\"color: #7f7f7f; text-decoration-color: #7f7f7f\">1258</span></a>\n",
       "<span style=\"color: #7fbfbf; text-decoration-color: #7fbfbf\">                    </span>         pearson: <span style=\"color: #008080; text-decoration-color: #008080; font-weight: bold\">0.572</span>, spearman: <span style=\"color: #008080; text-decoration-color: #008080; font-weight: bold\">0.526</span>, elapse: <span style=\"color: #008080; text-decoration-color: #008080; font-weight: bold\">104.275</span> s             <span style=\"color: #7f7f7f; text-decoration-color: #7f7f7f\">                       </span>\n",
       "</pre>\n"
      ],
      "text/plain": [
       "\u001b[2;36m[12/07/24 14:34:45]\u001b[0m\u001b[2;36m \u001b[0m\u001b[34mINFO    \u001b[0m \u001b[94mtrain\u001b[0m  - \u001b[1m(\u001b[0mTrain\u001b[1m)\u001b[0m bce:  \u001b[1;36m0.3680\u001b[0m, mse:  \u001b[1;36m0.8835\u001b[0m,  acc: \u001b[1;36m86.572\u001b[0m %,   \u001b]8;id=470421;file:///n/home09/pren/3DGeno_tools/src/gt3d/modules/higashi/Higashi_wrapper.py\u001b\\\u001b[2mHigashi_wrapper.py\u001b[0m\u001b]8;;\u001b\\\u001b[2m:\u001b[0m\u001b]8;id=358880;file:///n/home09/pren/3DGeno_tools/src/gt3d/modules/higashi/Higashi_wrapper.py#1258\u001b\\\u001b[2m1258\u001b[0m\u001b]8;;\u001b\\\n",
       "\u001b[2;36m                    \u001b[0m         pearson: \u001b[1;36m0.572\u001b[0m, spearman: \u001b[1;36m0.526\u001b[0m, elapse: \u001b[1;36m104.275\u001b[0m s             \u001b[2m                       \u001b[0m\n"
      ]
     },
     "metadata": {},
     "output_type": "display_data"
    },
    {
     "data": {
      "application/vnd.jupyter.widget-view+json": {
       "model_id": "21f6956b211c4ec3ba31bfab9edbcd83",
       "version_major": 2,
       "version_minor": 0
      },
      "text/plain": [
       "Output()"
      ]
     },
     "metadata": {},
     "output_type": "display_data"
    },
    {
     "data": {
      "text/html": [
       "<pre style=\"white-space:pre;overflow-x:auto;line-height:normal;font-family:Menlo,'DejaVu Sans Mono',consolas,'Courier New',monospace\"></pre>\n"
      ],
      "text/plain": []
     },
     "metadata": {},
     "output_type": "display_data"
    },
    {
     "data": {
      "text/html": [
       "<pre style=\"white-space:pre;overflow-x:auto;line-height:normal;font-family:Menlo,'DejaVu Sans Mono',consolas,'Courier New',monospace\"><span style=\"color: #7fbfbf; text-decoration-color: #7fbfbf\">                    </span><span style=\"color: #000080; text-decoration-color: #000080\">INFO    </span> <span style=\"color: #0000ff; text-decoration-color: #0000ff\">train</span>  - <span style=\"font-weight: bold\">(</span>Valid<span style=\"font-weight: bold\">)</span> bce:  <span style=\"color: #008080; text-decoration-color: #008080; font-weight: bold\">0.3749</span>,  acc: <span style=\"color: #008080; text-decoration-color: #008080; font-weight: bold\">85.137</span> %,pearson: <span style=\"color: #008080; text-decoration-color: #008080; font-weight: bold\">0.564</span>,  <a href=\"file:///n/home09/pren/3DGeno_tools/src/gt3d/modules/higashi/Higashi_wrapper.py\" target=\"_blank\"><span style=\"color: #7f7f7f; text-decoration-color: #7f7f7f\">Higashi_wrapper.py</span></a><span style=\"color: #7f7f7f; text-decoration-color: #7f7f7f\">:</span><a href=\"file:///n/home09/pren/3DGeno_tools/src/gt3d/modules/higashi/Higashi_wrapper.py#1277\" target=\"_blank\"><span style=\"color: #7f7f7f; text-decoration-color: #7f7f7f\">1277</span></a>\n",
       "<span style=\"color: #7fbfbf; text-decoration-color: #7fbfbf\">                    </span>         spearman: <span style=\"color: #008080; text-decoration-color: #008080; font-weight: bold\">0.525</span>,elapse: <span style=\"color: #008080; text-decoration-color: #008080; font-weight: bold\">0.452</span> s                                <span style=\"color: #7f7f7f; text-decoration-color: #7f7f7f\">                       </span>\n",
       "</pre>\n"
      ],
      "text/plain": [
       "\u001b[2;36m                   \u001b[0m\u001b[2;36m \u001b[0m\u001b[34mINFO    \u001b[0m \u001b[94mtrain\u001b[0m  - \u001b[1m(\u001b[0mValid\u001b[1m)\u001b[0m bce:  \u001b[1;36m0.3749\u001b[0m,  acc: \u001b[1;36m85.137\u001b[0m %,pearson: \u001b[1;36m0.564\u001b[0m,  \u001b]8;id=819781;file:///n/home09/pren/3DGeno_tools/src/gt3d/modules/higashi/Higashi_wrapper.py\u001b\\\u001b[2mHigashi_wrapper.py\u001b[0m\u001b]8;;\u001b\\\u001b[2m:\u001b[0m\u001b]8;id=419051;file:///n/home09/pren/3DGeno_tools/src/gt3d/modules/higashi/Higashi_wrapper.py#1277\u001b\\\u001b[2m1277\u001b[0m\u001b]8;;\u001b\\\n",
       "\u001b[2;36m                    \u001b[0m         spearman: \u001b[1;36m0.525\u001b[0m,elapse: \u001b[1;36m0.452\u001b[0m s                                \u001b[2m                       \u001b[0m\n"
      ]
     },
     "metadata": {},
     "output_type": "display_data"
    },
    {
     "data": {
      "text/html": [
       "<pre style=\"white-space:pre;overflow-x:auto;line-height:normal;font-family:Menlo,'DejaVu Sans Mono',consolas,'Courier New',monospace\"><span style=\"color: #7fbfbf; text-decoration-color: #7fbfbf\">                    </span><span style=\"color: #000080; text-decoration-color: #000080\">INFO    </span> <span style=\"color: #0000ff; text-decoration-color: #0000ff\">train</span> update_rate: <span style=\"color: #008080; text-decoration-color: #008080; font-weight: bold\">0.075115</span>     <span style=\"color: #008080; text-decoration-color: #008080; font-weight: bold\">0.683457</span>        pair_ratio:    <a href=\"file:///n/home09/pren/3DGeno_tools/src/gt3d/modules/higashi/Higashi_wrapper.py\" target=\"_blank\"><span style=\"color: #7f7f7f; text-decoration-color: #7f7f7f\">Higashi_wrapper.py</span></a><span style=\"color: #7f7f7f; text-decoration-color: #7f7f7f\">:</span><a href=\"file:///n/home09/pren/3DGeno_tools/src/gt3d/modules/higashi/Higashi_wrapper.py#1323\" target=\"_blank\"><span style=\"color: #7f7f7f; text-decoration-color: #7f7f7f\">1323</span></a>\n",
       "<span style=\"color: #7fbfbf; text-decoration-color: #7fbfbf\">                    </span>         <span style=\"color: #008080; text-decoration-color: #008080; font-weight: bold\">0.3</span>                                                            <span style=\"color: #7f7f7f; text-decoration-color: #7f7f7f\">                       </span>\n",
       "</pre>\n"
      ],
      "text/plain": [
       "\u001b[2;36m                   \u001b[0m\u001b[2;36m \u001b[0m\u001b[34mINFO    \u001b[0m \u001b[94mtrain\u001b[0m update_rate: \u001b[1;36m0.075115\u001b[0m     \u001b[1;36m0.683457\u001b[0m        pair_ratio:    \u001b]8;id=209602;file:///n/home09/pren/3DGeno_tools/src/gt3d/modules/higashi/Higashi_wrapper.py\u001b\\\u001b[2mHigashi_wrapper.py\u001b[0m\u001b]8;;\u001b\\\u001b[2m:\u001b[0m\u001b]8;id=566047;file:///n/home09/pren/3DGeno_tools/src/gt3d/modules/higashi/Higashi_wrapper.py#1323\u001b\\\u001b[2m1323\u001b[0m\u001b]8;;\u001b\\\n",
       "\u001b[2;36m                    \u001b[0m         \u001b[1;36m0.3\u001b[0m                                                            \u001b[2m                       \u001b[0m\n"
      ]
     },
     "metadata": {},
     "output_type": "display_data"
    },
    {
     "data": {
      "text/html": [
       "<pre style=\"white-space:pre;overflow-x:auto;line-height:normal;font-family:Menlo,'DejaVu Sans Mono',consolas,'Courier New',monospace\"><span style=\"color: #7fbfbf; text-decoration-color: #7fbfbf\">[12/07/24 14:34:46] </span><span style=\"color: #000080; text-decoration-color: #000080\">INFO    </span> <span style=\"color: #0000ff; text-decoration-color: #0000ff\">train</span> <span style=\"font-weight: bold\">[</span> Epoch <span style=\"color: #008080; text-decoration-color: #008080; font-weight: bold\">3</span> of <span style=\"color: #008080; text-decoration-color: #008080; font-weight: bold\">65</span> <span style=\"font-weight: bold\">]</span>                                        <a href=\"file:///n/home09/pren/3DGeno_tools/src/gt3d/modules/higashi/Higashi_wrapper.py\" target=\"_blank\"><span style=\"color: #7f7f7f; text-decoration-color: #7f7f7f\">Higashi_wrapper.py</span></a><span style=\"color: #7f7f7f; text-decoration-color: #7f7f7f\">:</span><a href=\"file:///n/home09/pren/3DGeno_tools/src/gt3d/modules/higashi/Higashi_wrapper.py#1245\" target=\"_blank\"><span style=\"color: #7f7f7f; text-decoration-color: #7f7f7f\">1245</span></a>\n",
       "</pre>\n"
      ],
      "text/plain": [
       "\u001b[2;36m[12/07/24 14:34:46]\u001b[0m\u001b[2;36m \u001b[0m\u001b[34mINFO    \u001b[0m \u001b[94mtrain\u001b[0m \u001b[1m[\u001b[0m Epoch \u001b[1;36m3\u001b[0m of \u001b[1;36m65\u001b[0m \u001b[1m]\u001b[0m                                        \u001b]8;id=892363;file:///n/home09/pren/3DGeno_tools/src/gt3d/modules/higashi/Higashi_wrapper.py\u001b\\\u001b[2mHigashi_wrapper.py\u001b[0m\u001b]8;;\u001b\\\u001b[2m:\u001b[0m\u001b]8;id=595559;file:///n/home09/pren/3DGeno_tools/src/gt3d/modules/higashi/Higashi_wrapper.py#1245\u001b\\\u001b[2m1245\u001b[0m\u001b]8;;\u001b\\\n"
      ]
     },
     "metadata": {},
     "output_type": "display_data"
    },
    {
     "data": {
      "application/vnd.jupyter.widget-view+json": {
       "model_id": "37c4db5e86644a75a7934d51db6b7f73",
       "version_major": 2,
       "version_minor": 0
      },
      "text/plain": [
       "Output()"
      ]
     },
     "metadata": {},
     "output_type": "display_data"
    },
    {
     "data": {
      "text/html": [
       "<pre style=\"white-space:pre;overflow-x:auto;line-height:normal;font-family:Menlo,'DejaVu Sans Mono',consolas,'Courier New',monospace\"></pre>\n"
      ],
      "text/plain": []
     },
     "metadata": {},
     "output_type": "display_data"
    },
    {
     "data": {
      "text/html": [
       "<pre style=\"white-space:pre;overflow-x:auto;line-height:normal;font-family:Menlo,'DejaVu Sans Mono',consolas,'Courier New',monospace\"><span style=\"color: #7fbfbf; text-decoration-color: #7fbfbf\">[12/07/24 14:36:31] </span><span style=\"color: #000080; text-decoration-color: #000080\">INFO    </span> <span style=\"color: #0000ff; text-decoration-color: #0000ff\">train</span>  - <span style=\"font-weight: bold\">(</span>Train<span style=\"font-weight: bold\">)</span> bce:  <span style=\"color: #008080; text-decoration-color: #008080; font-weight: bold\">0.3603</span>, mse:  <span style=\"color: #008080; text-decoration-color: #008080; font-weight: bold\">0.8808</span>,  acc: <span style=\"color: #008080; text-decoration-color: #008080; font-weight: bold\">87.008</span> %,   <a href=\"file:///n/home09/pren/3DGeno_tools/src/gt3d/modules/higashi/Higashi_wrapper.py\" target=\"_blank\"><span style=\"color: #7f7f7f; text-decoration-color: #7f7f7f\">Higashi_wrapper.py</span></a><span style=\"color: #7f7f7f; text-decoration-color: #7f7f7f\">:</span><a href=\"file:///n/home09/pren/3DGeno_tools/src/gt3d/modules/higashi/Higashi_wrapper.py#1258\" target=\"_blank\"><span style=\"color: #7f7f7f; text-decoration-color: #7f7f7f\">1258</span></a>\n",
       "<span style=\"color: #7fbfbf; text-decoration-color: #7fbfbf\">                    </span>         pearson: <span style=\"color: #008080; text-decoration-color: #008080; font-weight: bold\">0.590</span>, spearman: <span style=\"color: #008080; text-decoration-color: #008080; font-weight: bold\">0.536</span>, elapse: <span style=\"color: #008080; text-decoration-color: #008080; font-weight: bold\">105.546</span> s             <span style=\"color: #7f7f7f; text-decoration-color: #7f7f7f\">                       </span>\n",
       "</pre>\n"
      ],
      "text/plain": [
       "\u001b[2;36m[12/07/24 14:36:31]\u001b[0m\u001b[2;36m \u001b[0m\u001b[34mINFO    \u001b[0m \u001b[94mtrain\u001b[0m  - \u001b[1m(\u001b[0mTrain\u001b[1m)\u001b[0m bce:  \u001b[1;36m0.3603\u001b[0m, mse:  \u001b[1;36m0.8808\u001b[0m,  acc: \u001b[1;36m87.008\u001b[0m %,   \u001b]8;id=916195;file:///n/home09/pren/3DGeno_tools/src/gt3d/modules/higashi/Higashi_wrapper.py\u001b\\\u001b[2mHigashi_wrapper.py\u001b[0m\u001b]8;;\u001b\\\u001b[2m:\u001b[0m\u001b]8;id=151049;file:///n/home09/pren/3DGeno_tools/src/gt3d/modules/higashi/Higashi_wrapper.py#1258\u001b\\\u001b[2m1258\u001b[0m\u001b]8;;\u001b\\\n",
       "\u001b[2;36m                    \u001b[0m         pearson: \u001b[1;36m0.590\u001b[0m, spearman: \u001b[1;36m0.536\u001b[0m, elapse: \u001b[1;36m105.546\u001b[0m s             \u001b[2m                       \u001b[0m\n"
      ]
     },
     "metadata": {},
     "output_type": "display_data"
    },
    {
     "data": {
      "application/vnd.jupyter.widget-view+json": {
       "model_id": "8d0e710ac50044048a95d1282fe98b7f",
       "version_major": 2,
       "version_minor": 0
      },
      "text/plain": [
       "Output()"
      ]
     },
     "metadata": {},
     "output_type": "display_data"
    },
    {
     "data": {
      "text/html": [
       "<pre style=\"white-space:pre;overflow-x:auto;line-height:normal;font-family:Menlo,'DejaVu Sans Mono',consolas,'Courier New',monospace\"></pre>\n"
      ],
      "text/plain": []
     },
     "metadata": {},
     "output_type": "display_data"
    },
    {
     "data": {
      "text/html": [
       "<pre style=\"white-space:pre;overflow-x:auto;line-height:normal;font-family:Menlo,'DejaVu Sans Mono',consolas,'Courier New',monospace\"><span style=\"color: #7fbfbf; text-decoration-color: #7fbfbf\">[12/07/24 14:36:32] </span><span style=\"color: #000080; text-decoration-color: #000080\">INFO    </span> <span style=\"color: #0000ff; text-decoration-color: #0000ff\">train</span>  - <span style=\"font-weight: bold\">(</span>Valid<span style=\"font-weight: bold\">)</span> bce:  <span style=\"color: #008080; text-decoration-color: #008080; font-weight: bold\">0.3779</span>,  acc: <span style=\"color: #008080; text-decoration-color: #008080; font-weight: bold\">86.094</span> %,pearson: <span style=\"color: #008080; text-decoration-color: #008080; font-weight: bold\">0.561</span>,  <a href=\"file:///n/home09/pren/3DGeno_tools/src/gt3d/modules/higashi/Higashi_wrapper.py\" target=\"_blank\"><span style=\"color: #7f7f7f; text-decoration-color: #7f7f7f\">Higashi_wrapper.py</span></a><span style=\"color: #7f7f7f; text-decoration-color: #7f7f7f\">:</span><a href=\"file:///n/home09/pren/3DGeno_tools/src/gt3d/modules/higashi/Higashi_wrapper.py#1277\" target=\"_blank\"><span style=\"color: #7f7f7f; text-decoration-color: #7f7f7f\">1277</span></a>\n",
       "<span style=\"color: #7fbfbf; text-decoration-color: #7fbfbf\">                    </span>         spearman: <span style=\"color: #008080; text-decoration-color: #008080; font-weight: bold\">0.528</span>,elapse: <span style=\"color: #008080; text-decoration-color: #008080; font-weight: bold\">0.401</span> s                                <span style=\"color: #7f7f7f; text-decoration-color: #7f7f7f\">                       </span>\n",
       "</pre>\n"
      ],
      "text/plain": [
       "\u001b[2;36m[12/07/24 14:36:32]\u001b[0m\u001b[2;36m \u001b[0m\u001b[34mINFO    \u001b[0m \u001b[94mtrain\u001b[0m  - \u001b[1m(\u001b[0mValid\u001b[1m)\u001b[0m bce:  \u001b[1;36m0.3779\u001b[0m,  acc: \u001b[1;36m86.094\u001b[0m %,pearson: \u001b[1;36m0.561\u001b[0m,  \u001b]8;id=891846;file:///n/home09/pren/3DGeno_tools/src/gt3d/modules/higashi/Higashi_wrapper.py\u001b\\\u001b[2mHigashi_wrapper.py\u001b[0m\u001b]8;;\u001b\\\u001b[2m:\u001b[0m\u001b]8;id=642562;file:///n/home09/pren/3DGeno_tools/src/gt3d/modules/higashi/Higashi_wrapper.py#1277\u001b\\\u001b[2m1277\u001b[0m\u001b]8;;\u001b\\\n",
       "\u001b[2;36m                    \u001b[0m         spearman: \u001b[1;36m0.528\u001b[0m,elapse: \u001b[1;36m0.401\u001b[0m s                                \u001b[2m                       \u001b[0m\n"
      ]
     },
     "metadata": {},
     "output_type": "display_data"
    },
    {
     "data": {
      "text/html": [
       "<pre style=\"white-space:pre;overflow-x:auto;line-height:normal;font-family:Menlo,'DejaVu Sans Mono',consolas,'Courier New',monospace\"><span style=\"color: #7fbfbf; text-decoration-color: #7fbfbf\">                    </span><span style=\"color: #000080; text-decoration-color: #000080\">INFO    </span> <span style=\"color: #0000ff; text-decoration-color: #0000ff\">train</span> update_rate: <span style=\"color: #008080; text-decoration-color: #008080; font-weight: bold\">0.034493</span>     <span style=\"color: #008080; text-decoration-color: #008080; font-weight: bold\">0.239070</span>        pair_ratio:    <a href=\"file:///n/home09/pren/3DGeno_tools/src/gt3d/modules/higashi/Higashi_wrapper.py\" target=\"_blank\"><span style=\"color: #7f7f7f; text-decoration-color: #7f7f7f\">Higashi_wrapper.py</span></a><span style=\"color: #7f7f7f; text-decoration-color: #7f7f7f\">:</span><a href=\"file:///n/home09/pren/3DGeno_tools/src/gt3d/modules/higashi/Higashi_wrapper.py#1323\" target=\"_blank\"><span style=\"color: #7f7f7f; text-decoration-color: #7f7f7f\">1323</span></a>\n",
       "<span style=\"color: #7fbfbf; text-decoration-color: #7fbfbf\">                    </span>         <span style=\"color: #008080; text-decoration-color: #008080; font-weight: bold\">0.4</span>                                                            <span style=\"color: #7f7f7f; text-decoration-color: #7f7f7f\">                       </span>\n",
       "</pre>\n"
      ],
      "text/plain": [
       "\u001b[2;36m                   \u001b[0m\u001b[2;36m \u001b[0m\u001b[34mINFO    \u001b[0m \u001b[94mtrain\u001b[0m update_rate: \u001b[1;36m0.034493\u001b[0m     \u001b[1;36m0.239070\u001b[0m        pair_ratio:    \u001b]8;id=703999;file:///n/home09/pren/3DGeno_tools/src/gt3d/modules/higashi/Higashi_wrapper.py\u001b\\\u001b[2mHigashi_wrapper.py\u001b[0m\u001b]8;;\u001b\\\u001b[2m:\u001b[0m\u001b]8;id=353669;file:///n/home09/pren/3DGeno_tools/src/gt3d/modules/higashi/Higashi_wrapper.py#1323\u001b\\\u001b[2m1323\u001b[0m\u001b]8;;\u001b\\\n",
       "\u001b[2;36m                    \u001b[0m         \u001b[1;36m0.4\u001b[0m                                                            \u001b[2m                       \u001b[0m\n"
      ]
     },
     "metadata": {},
     "output_type": "display_data"
    },
    {
     "data": {
      "text/html": [
       "<pre style=\"white-space:pre;overflow-x:auto;line-height:normal;font-family:Menlo,'DejaVu Sans Mono',consolas,'Courier New',monospace\"><span style=\"color: #7fbfbf; text-decoration-color: #7fbfbf\">[12/07/24 14:36:33] </span><span style=\"color: #000080; text-decoration-color: #000080\">INFO    </span> <span style=\"color: #0000ff; text-decoration-color: #0000ff\">train</span> <span style=\"font-weight: bold\">[</span> Epoch <span style=\"color: #008080; text-decoration-color: #008080; font-weight: bold\">4</span> of <span style=\"color: #008080; text-decoration-color: #008080; font-weight: bold\">65</span> <span style=\"font-weight: bold\">]</span>                                        <a href=\"file:///n/home09/pren/3DGeno_tools/src/gt3d/modules/higashi/Higashi_wrapper.py\" target=\"_blank\"><span style=\"color: #7f7f7f; text-decoration-color: #7f7f7f\">Higashi_wrapper.py</span></a><span style=\"color: #7f7f7f; text-decoration-color: #7f7f7f\">:</span><a href=\"file:///n/home09/pren/3DGeno_tools/src/gt3d/modules/higashi/Higashi_wrapper.py#1245\" target=\"_blank\"><span style=\"color: #7f7f7f; text-decoration-color: #7f7f7f\">1245</span></a>\n",
       "</pre>\n"
      ],
      "text/plain": [
       "\u001b[2;36m[12/07/24 14:36:33]\u001b[0m\u001b[2;36m \u001b[0m\u001b[34mINFO    \u001b[0m \u001b[94mtrain\u001b[0m \u001b[1m[\u001b[0m Epoch \u001b[1;36m4\u001b[0m of \u001b[1;36m65\u001b[0m \u001b[1m]\u001b[0m                                        \u001b]8;id=167349;file:///n/home09/pren/3DGeno_tools/src/gt3d/modules/higashi/Higashi_wrapper.py\u001b\\\u001b[2mHigashi_wrapper.py\u001b[0m\u001b]8;;\u001b\\\u001b[2m:\u001b[0m\u001b]8;id=566126;file:///n/home09/pren/3DGeno_tools/src/gt3d/modules/higashi/Higashi_wrapper.py#1245\u001b\\\u001b[2m1245\u001b[0m\u001b]8;;\u001b\\\n"
      ]
     },
     "metadata": {},
     "output_type": "display_data"
    },
    {
     "data": {
      "application/vnd.jupyter.widget-view+json": {
       "model_id": "c512edfa4bcc4aec8810587adb14f025",
       "version_major": 2,
       "version_minor": 0
      },
      "text/plain": [
       "Output()"
      ]
     },
     "metadata": {},
     "output_type": "display_data"
    },
    {
     "data": {
      "text/html": [
       "<pre style=\"white-space:pre;overflow-x:auto;line-height:normal;font-family:Menlo,'DejaVu Sans Mono',consolas,'Courier New',monospace\"></pre>\n"
      ],
      "text/plain": []
     },
     "metadata": {},
     "output_type": "display_data"
    },
    {
     "data": {
      "text/html": [
       "<pre style=\"white-space:pre;overflow-x:auto;line-height:normal;font-family:Menlo,'DejaVu Sans Mono',consolas,'Courier New',monospace\"><span style=\"color: #7fbfbf; text-decoration-color: #7fbfbf\">[12/07/24 14:38:05] </span><span style=\"color: #000080; text-decoration-color: #000080\">INFO    </span> <span style=\"color: #0000ff; text-decoration-color: #0000ff\">train</span>  - <span style=\"font-weight: bold\">(</span>Train<span style=\"font-weight: bold\">)</span> bce:  <span style=\"color: #008080; text-decoration-color: #008080; font-weight: bold\">0.3561</span>, mse:  <span style=\"color: #008080; text-decoration-color: #008080; font-weight: bold\">0.9049</span>,  acc: <span style=\"color: #008080; text-decoration-color: #008080; font-weight: bold\">87.300</span> %,   <a href=\"file:///n/home09/pren/3DGeno_tools/src/gt3d/modules/higashi/Higashi_wrapper.py\" target=\"_blank\"><span style=\"color: #7f7f7f; text-decoration-color: #7f7f7f\">Higashi_wrapper.py</span></a><span style=\"color: #7f7f7f; text-decoration-color: #7f7f7f\">:</span><a href=\"file:///n/home09/pren/3DGeno_tools/src/gt3d/modules/higashi/Higashi_wrapper.py#1258\" target=\"_blank\"><span style=\"color: #7f7f7f; text-decoration-color: #7f7f7f\">1258</span></a>\n",
       "<span style=\"color: #7fbfbf; text-decoration-color: #7fbfbf\">                    </span>         pearson: <span style=\"color: #008080; text-decoration-color: #008080; font-weight: bold\">0.600</span>, spearman: <span style=\"color: #008080; text-decoration-color: #008080; font-weight: bold\">0.541</span>, elapse: <span style=\"color: #008080; text-decoration-color: #008080; font-weight: bold\">92.447</span> s              <span style=\"color: #7f7f7f; text-decoration-color: #7f7f7f\">                       </span>\n",
       "</pre>\n"
      ],
      "text/plain": [
       "\u001b[2;36m[12/07/24 14:38:05]\u001b[0m\u001b[2;36m \u001b[0m\u001b[34mINFO    \u001b[0m \u001b[94mtrain\u001b[0m  - \u001b[1m(\u001b[0mTrain\u001b[1m)\u001b[0m bce:  \u001b[1;36m0.3561\u001b[0m, mse:  \u001b[1;36m0.9049\u001b[0m,  acc: \u001b[1;36m87.300\u001b[0m %,   \u001b]8;id=399054;file:///n/home09/pren/3DGeno_tools/src/gt3d/modules/higashi/Higashi_wrapper.py\u001b\\\u001b[2mHigashi_wrapper.py\u001b[0m\u001b]8;;\u001b\\\u001b[2m:\u001b[0m\u001b]8;id=851886;file:///n/home09/pren/3DGeno_tools/src/gt3d/modules/higashi/Higashi_wrapper.py#1258\u001b\\\u001b[2m1258\u001b[0m\u001b]8;;\u001b\\\n",
       "\u001b[2;36m                    \u001b[0m         pearson: \u001b[1;36m0.600\u001b[0m, spearman: \u001b[1;36m0.541\u001b[0m, elapse: \u001b[1;36m92.447\u001b[0m s              \u001b[2m                       \u001b[0m\n"
      ]
     },
     "metadata": {},
     "output_type": "display_data"
    },
    {
     "data": {
      "application/vnd.jupyter.widget-view+json": {
       "model_id": "903ab67b25df4c94a6822d283888754e",
       "version_major": 2,
       "version_minor": 0
      },
      "text/plain": [
       "Output()"
      ]
     },
     "metadata": {},
     "output_type": "display_data"
    },
    {
     "data": {
      "text/html": [
       "<pre style=\"white-space:pre;overflow-x:auto;line-height:normal;font-family:Menlo,'DejaVu Sans Mono',consolas,'Courier New',monospace\"></pre>\n"
      ],
      "text/plain": []
     },
     "metadata": {},
     "output_type": "display_data"
    },
    {
     "data": {
      "text/html": [
       "<pre style=\"white-space:pre;overflow-x:auto;line-height:normal;font-family:Menlo,'DejaVu Sans Mono',consolas,'Courier New',monospace\"><span style=\"color: #7fbfbf; text-decoration-color: #7fbfbf\">                    </span><span style=\"color: #000080; text-decoration-color: #000080\">INFO    </span> <span style=\"color: #0000ff; text-decoration-color: #0000ff\">train</span>  - <span style=\"font-weight: bold\">(</span>Valid<span style=\"font-weight: bold\">)</span> bce:  <span style=\"color: #008080; text-decoration-color: #008080; font-weight: bold\">0.3649</span>,  acc: <span style=\"color: #008080; text-decoration-color: #008080; font-weight: bold\">87.396</span> %,pearson: <span style=\"color: #008080; text-decoration-color: #008080; font-weight: bold\">0.587</span>,  <a href=\"file:///n/home09/pren/3DGeno_tools/src/gt3d/modules/higashi/Higashi_wrapper.py\" target=\"_blank\"><span style=\"color: #7f7f7f; text-decoration-color: #7f7f7f\">Higashi_wrapper.py</span></a><span style=\"color: #7f7f7f; text-decoration-color: #7f7f7f\">:</span><a href=\"file:///n/home09/pren/3DGeno_tools/src/gt3d/modules/higashi/Higashi_wrapper.py#1277\" target=\"_blank\"><span style=\"color: #7f7f7f; text-decoration-color: #7f7f7f\">1277</span></a>\n",
       "<span style=\"color: #7fbfbf; text-decoration-color: #7fbfbf\">                    </span>         spearman: <span style=\"color: #008080; text-decoration-color: #008080; font-weight: bold\">0.539</span>,elapse: <span style=\"color: #008080; text-decoration-color: #008080; font-weight: bold\">0.052</span> s                                <span style=\"color: #7f7f7f; text-decoration-color: #7f7f7f\">                       </span>\n",
       "</pre>\n"
      ],
      "text/plain": [
       "\u001b[2;36m                   \u001b[0m\u001b[2;36m \u001b[0m\u001b[34mINFO    \u001b[0m \u001b[94mtrain\u001b[0m  - \u001b[1m(\u001b[0mValid\u001b[1m)\u001b[0m bce:  \u001b[1;36m0.3649\u001b[0m,  acc: \u001b[1;36m87.396\u001b[0m %,pearson: \u001b[1;36m0.587\u001b[0m,  \u001b]8;id=524399;file:///n/home09/pren/3DGeno_tools/src/gt3d/modules/higashi/Higashi_wrapper.py\u001b\\\u001b[2mHigashi_wrapper.py\u001b[0m\u001b]8;;\u001b\\\u001b[2m:\u001b[0m\u001b]8;id=120308;file:///n/home09/pren/3DGeno_tools/src/gt3d/modules/higashi/Higashi_wrapper.py#1277\u001b\\\u001b[2m1277\u001b[0m\u001b]8;;\u001b\\\n",
       "\u001b[2;36m                    \u001b[0m         spearman: \u001b[1;36m0.539\u001b[0m,elapse: \u001b[1;36m0.052\u001b[0m s                                \u001b[2m                       \u001b[0m\n"
      ]
     },
     "metadata": {},
     "output_type": "display_data"
    },
    {
     "data": {
      "text/html": [
       "<pre style=\"white-space:pre;overflow-x:auto;line-height:normal;font-family:Menlo,'DejaVu Sans Mono',consolas,'Courier New',monospace\"><span style=\"color: #7fbfbf; text-decoration-color: #7fbfbf\">                    </span><span style=\"color: #000080; text-decoration-color: #000080\">INFO    </span> <span style=\"color: #0000ff; text-decoration-color: #0000ff\">train</span> update_rate: <span style=\"color: #008080; text-decoration-color: #008080; font-weight: bold\">0.016405</span>     <span style=\"color: #008080; text-decoration-color: #008080; font-weight: bold\">0.256050</span>        pair_ratio:    <a href=\"file:///n/home09/pren/3DGeno_tools/src/gt3d/modules/higashi/Higashi_wrapper.py\" target=\"_blank\"><span style=\"color: #7f7f7f; text-decoration-color: #7f7f7f\">Higashi_wrapper.py</span></a><span style=\"color: #7f7f7f; text-decoration-color: #7f7f7f\">:</span><a href=\"file:///n/home09/pren/3DGeno_tools/src/gt3d/modules/higashi/Higashi_wrapper.py#1323\" target=\"_blank\"><span style=\"color: #7f7f7f; text-decoration-color: #7f7f7f\">1323</span></a>\n",
       "<span style=\"color: #7fbfbf; text-decoration-color: #7fbfbf\">                    </span>         <span style=\"color: #008080; text-decoration-color: #008080; font-weight: bold\">0.5</span>                                                            <span style=\"color: #7f7f7f; text-decoration-color: #7f7f7f\">                       </span>\n",
       "</pre>\n"
      ],
      "text/plain": [
       "\u001b[2;36m                   \u001b[0m\u001b[2;36m \u001b[0m\u001b[34mINFO    \u001b[0m \u001b[94mtrain\u001b[0m update_rate: \u001b[1;36m0.016405\u001b[0m     \u001b[1;36m0.256050\u001b[0m        pair_ratio:    \u001b]8;id=531990;file:///n/home09/pren/3DGeno_tools/src/gt3d/modules/higashi/Higashi_wrapper.py\u001b\\\u001b[2mHigashi_wrapper.py\u001b[0m\u001b]8;;\u001b\\\u001b[2m:\u001b[0m\u001b]8;id=321834;file:///n/home09/pren/3DGeno_tools/src/gt3d/modules/higashi/Higashi_wrapper.py#1323\u001b\\\u001b[2m1323\u001b[0m\u001b]8;;\u001b\\\n",
       "\u001b[2;36m                    \u001b[0m         \u001b[1;36m0.5\u001b[0m                                                            \u001b[2m                       \u001b[0m\n"
      ]
     },
     "metadata": {},
     "output_type": "display_data"
    },
    {
     "data": {
      "text/html": [
       "<pre style=\"white-space:pre;overflow-x:auto;line-height:normal;font-family:Menlo,'DejaVu Sans Mono',consolas,'Courier New',monospace\"><span style=\"color: #7fbfbf; text-decoration-color: #7fbfbf\">                    </span><span style=\"color: #000080; text-decoration-color: #000080\">INFO    </span> <span style=\"color: #0000ff; text-decoration-color: #0000ff\">train</span> <span style=\"font-weight: bold\">[</span> Epoch <span style=\"color: #008080; text-decoration-color: #008080; font-weight: bold\">5</span> of <span style=\"color: #008080; text-decoration-color: #008080; font-weight: bold\">65</span> <span style=\"font-weight: bold\">]</span>                                        <a href=\"file:///n/home09/pren/3DGeno_tools/src/gt3d/modules/higashi/Higashi_wrapper.py\" target=\"_blank\"><span style=\"color: #7f7f7f; text-decoration-color: #7f7f7f\">Higashi_wrapper.py</span></a><span style=\"color: #7f7f7f; text-decoration-color: #7f7f7f\">:</span><a href=\"file:///n/home09/pren/3DGeno_tools/src/gt3d/modules/higashi/Higashi_wrapper.py#1245\" target=\"_blank\"><span style=\"color: #7f7f7f; text-decoration-color: #7f7f7f\">1245</span></a>\n",
       "</pre>\n"
      ],
      "text/plain": [
       "\u001b[2;36m                   \u001b[0m\u001b[2;36m \u001b[0m\u001b[34mINFO    \u001b[0m \u001b[94mtrain\u001b[0m \u001b[1m[\u001b[0m Epoch \u001b[1;36m5\u001b[0m of \u001b[1;36m65\u001b[0m \u001b[1m]\u001b[0m                                        \u001b]8;id=588613;file:///n/home09/pren/3DGeno_tools/src/gt3d/modules/higashi/Higashi_wrapper.py\u001b\\\u001b[2mHigashi_wrapper.py\u001b[0m\u001b]8;;\u001b\\\u001b[2m:\u001b[0m\u001b]8;id=337325;file:///n/home09/pren/3DGeno_tools/src/gt3d/modules/higashi/Higashi_wrapper.py#1245\u001b\\\u001b[2m1245\u001b[0m\u001b]8;;\u001b\\\n"
      ]
     },
     "metadata": {},
     "output_type": "display_data"
    },
    {
     "data": {
      "application/vnd.jupyter.widget-view+json": {
       "model_id": "ae2056ac527d4b3987e355d36236929a",
       "version_major": 2,
       "version_minor": 0
      },
      "text/plain": [
       "Output()"
      ]
     },
     "metadata": {},
     "output_type": "display_data"
    },
    {
     "data": {
      "text/html": [
       "<pre style=\"white-space:pre;overflow-x:auto;line-height:normal;font-family:Menlo,'DejaVu Sans Mono',consolas,'Courier New',monospace\"></pre>\n"
      ],
      "text/plain": []
     },
     "metadata": {},
     "output_type": "display_data"
    },
    {
     "data": {
      "text/html": [
       "<pre style=\"white-space:pre;overflow-x:auto;line-height:normal;font-family:Menlo,'DejaVu Sans Mono',consolas,'Courier New',monospace\"><span style=\"color: #7fbfbf; text-decoration-color: #7fbfbf\">[12/07/24 14:39:35] </span><span style=\"color: #000080; text-decoration-color: #000080\">INFO    </span> <span style=\"color: #0000ff; text-decoration-color: #0000ff\">train</span>  - <span style=\"font-weight: bold\">(</span>Train<span style=\"font-weight: bold\">)</span> bce:  <span style=\"color: #008080; text-decoration-color: #008080; font-weight: bold\">0.3537</span>, mse:  <span style=\"color: #008080; text-decoration-color: #008080; font-weight: bold\">1.7270</span>,  acc: <span style=\"color: #008080; text-decoration-color: #008080; font-weight: bold\">87.391</span> %,   <a href=\"file:///n/home09/pren/3DGeno_tools/src/gt3d/modules/higashi/Higashi_wrapper.py\" target=\"_blank\"><span style=\"color: #7f7f7f; text-decoration-color: #7f7f7f\">Higashi_wrapper.py</span></a><span style=\"color: #7f7f7f; text-decoration-color: #7f7f7f\">:</span><a href=\"file:///n/home09/pren/3DGeno_tools/src/gt3d/modules/higashi/Higashi_wrapper.py#1258\" target=\"_blank\"><span style=\"color: #7f7f7f; text-decoration-color: #7f7f7f\">1258</span></a>\n",
       "<span style=\"color: #7fbfbf; text-decoration-color: #7fbfbf\">                    </span>         pearson: <span style=\"color: #008080; text-decoration-color: #008080; font-weight: bold\">0.605</span>, spearman: <span style=\"color: #008080; text-decoration-color: #008080; font-weight: bold\">0.543</span>, elapse: <span style=\"color: #008080; text-decoration-color: #008080; font-weight: bold\">89.145</span> s              <span style=\"color: #7f7f7f; text-decoration-color: #7f7f7f\">                       </span>\n",
       "</pre>\n"
      ],
      "text/plain": [
       "\u001b[2;36m[12/07/24 14:39:35]\u001b[0m\u001b[2;36m \u001b[0m\u001b[34mINFO    \u001b[0m \u001b[94mtrain\u001b[0m  - \u001b[1m(\u001b[0mTrain\u001b[1m)\u001b[0m bce:  \u001b[1;36m0.3537\u001b[0m, mse:  \u001b[1;36m1.7270\u001b[0m,  acc: \u001b[1;36m87.391\u001b[0m %,   \u001b]8;id=951932;file:///n/home09/pren/3DGeno_tools/src/gt3d/modules/higashi/Higashi_wrapper.py\u001b\\\u001b[2mHigashi_wrapper.py\u001b[0m\u001b]8;;\u001b\\\u001b[2m:\u001b[0m\u001b]8;id=540483;file:///n/home09/pren/3DGeno_tools/src/gt3d/modules/higashi/Higashi_wrapper.py#1258\u001b\\\u001b[2m1258\u001b[0m\u001b]8;;\u001b\\\n",
       "\u001b[2;36m                    \u001b[0m         pearson: \u001b[1;36m0.605\u001b[0m, spearman: \u001b[1;36m0.543\u001b[0m, elapse: \u001b[1;36m89.145\u001b[0m s              \u001b[2m                       \u001b[0m\n"
      ]
     },
     "metadata": {},
     "output_type": "display_data"
    },
    {
     "data": {
      "application/vnd.jupyter.widget-view+json": {
       "model_id": "3665d9e7f9da47a0ac4389c1fc3f2be7",
       "version_major": 2,
       "version_minor": 0
      },
      "text/plain": [
       "Output()"
      ]
     },
     "metadata": {},
     "output_type": "display_data"
    },
    {
     "data": {
      "text/html": [
       "<pre style=\"white-space:pre;overflow-x:auto;line-height:normal;font-family:Menlo,'DejaVu Sans Mono',consolas,'Courier New',monospace\"></pre>\n"
      ],
      "text/plain": []
     },
     "metadata": {},
     "output_type": "display_data"
    },
    {
     "data": {
      "text/html": [
       "<pre style=\"white-space:pre;overflow-x:auto;line-height:normal;font-family:Menlo,'DejaVu Sans Mono',consolas,'Courier New',monospace\"><span style=\"color: #7fbfbf; text-decoration-color: #7fbfbf\">                    </span><span style=\"color: #000080; text-decoration-color: #000080\">INFO    </span> <span style=\"color: #0000ff; text-decoration-color: #0000ff\">train</span>  - <span style=\"font-weight: bold\">(</span>Valid<span style=\"font-weight: bold\">)</span> bce:  <span style=\"color: #008080; text-decoration-color: #008080; font-weight: bold\">0.3592</span>,  acc: <span style=\"color: #008080; text-decoration-color: #008080; font-weight: bold\">87.819</span> %,pearson: <span style=\"color: #008080; text-decoration-color: #008080; font-weight: bold\">0.604</span>,  <a href=\"file:///n/home09/pren/3DGeno_tools/src/gt3d/modules/higashi/Higashi_wrapper.py\" target=\"_blank\"><span style=\"color: #7f7f7f; text-decoration-color: #7f7f7f\">Higashi_wrapper.py</span></a><span style=\"color: #7f7f7f; text-decoration-color: #7f7f7f\">:</span><a href=\"file:///n/home09/pren/3DGeno_tools/src/gt3d/modules/higashi/Higashi_wrapper.py#1277\" target=\"_blank\"><span style=\"color: #7f7f7f; text-decoration-color: #7f7f7f\">1277</span></a>\n",
       "<span style=\"color: #7fbfbf; text-decoration-color: #7fbfbf\">                    </span>         spearman: <span style=\"color: #008080; text-decoration-color: #008080; font-weight: bold\">0.546</span>,elapse: <span style=\"color: #008080; text-decoration-color: #008080; font-weight: bold\">0.052</span> s                                <span style=\"color: #7f7f7f; text-decoration-color: #7f7f7f\">                       </span>\n",
       "</pre>\n"
      ],
      "text/plain": [
       "\u001b[2;36m                   \u001b[0m\u001b[2;36m \u001b[0m\u001b[34mINFO    \u001b[0m \u001b[94mtrain\u001b[0m  - \u001b[1m(\u001b[0mValid\u001b[1m)\u001b[0m bce:  \u001b[1;36m0.3592\u001b[0m,  acc: \u001b[1;36m87.819\u001b[0m %,pearson: \u001b[1;36m0.604\u001b[0m,  \u001b]8;id=509021;file:///n/home09/pren/3DGeno_tools/src/gt3d/modules/higashi/Higashi_wrapper.py\u001b\\\u001b[2mHigashi_wrapper.py\u001b[0m\u001b]8;;\u001b\\\u001b[2m:\u001b[0m\u001b]8;id=46250;file:///n/home09/pren/3DGeno_tools/src/gt3d/modules/higashi/Higashi_wrapper.py#1277\u001b\\\u001b[2m1277\u001b[0m\u001b]8;;\u001b\\\n",
       "\u001b[2;36m                    \u001b[0m         spearman: \u001b[1;36m0.546\u001b[0m,elapse: \u001b[1;36m0.052\u001b[0m s                                \u001b[2m                       \u001b[0m\n"
      ]
     },
     "metadata": {},
     "output_type": "display_data"
    },
    {
     "data": {
      "text/html": [
       "<pre style=\"white-space:pre;overflow-x:auto;line-height:normal;font-family:Menlo,'DejaVu Sans Mono',consolas,'Courier New',monospace\"><span style=\"color: #7fbfbf; text-decoration-color: #7fbfbf\">                    </span><span style=\"color: #000080; text-decoration-color: #000080\">INFO    </span> <span style=\"color: #0000ff; text-decoration-color: #0000ff\">train</span> update_rate: <span style=\"color: #008080; text-decoration-color: #008080; font-weight: bold\">0.012610</span>     <span style=\"color: #008080; text-decoration-color: #008080; font-weight: bold\">0.620343</span>                       <a href=\"file:///n/home09/pren/3DGeno_tools/src/gt3d/modules/higashi/Higashi_wrapper.py\" target=\"_blank\"><span style=\"color: #7f7f7f; text-decoration-color: #7f7f7f\">Higashi_wrapper.py</span></a><span style=\"color: #7f7f7f; text-decoration-color: #7f7f7f\">:</span><a href=\"file:///n/home09/pren/3DGeno_tools/src/gt3d/modules/higashi/Higashi_wrapper.py#1323\" target=\"_blank\"><span style=\"color: #7f7f7f; text-decoration-color: #7f7f7f\">1323</span></a>\n",
       "</pre>\n"
      ],
      "text/plain": [
       "\u001b[2;36m                   \u001b[0m\u001b[2;36m \u001b[0m\u001b[34mINFO    \u001b[0m \u001b[94mtrain\u001b[0m update_rate: \u001b[1;36m0.012610\u001b[0m     \u001b[1;36m0.620343\u001b[0m                       \u001b]8;id=955999;file:///n/home09/pren/3DGeno_tools/src/gt3d/modules/higashi/Higashi_wrapper.py\u001b\\\u001b[2mHigashi_wrapper.py\u001b[0m\u001b]8;;\u001b\\\u001b[2m:\u001b[0m\u001b]8;id=120093;file:///n/home09/pren/3DGeno_tools/src/gt3d/modules/higashi/Higashi_wrapper.py#1323\u001b\\\u001b[2m1323\u001b[0m\u001b]8;;\u001b\\\n"
      ]
     },
     "metadata": {},
     "output_type": "display_data"
    },
    {
     "data": {
      "text/html": [
       "<pre style=\"white-space:pre;overflow-x:auto;line-height:normal;font-family:Menlo,'DejaVu Sans Mono',consolas,'Courier New',monospace\"><span style=\"color: #7fbfbf; text-decoration-color: #7fbfbf\">                    </span><span style=\"color: #000080; text-decoration-color: #000080\">INFO    </span> <span style=\"color: #0000ff; text-decoration-color: #0000ff\">train</span> <span style=\"font-weight: bold\">[</span> Epoch <span style=\"color: #008080; text-decoration-color: #008080; font-weight: bold\">6</span> of <span style=\"color: #008080; text-decoration-color: #008080; font-weight: bold\">65</span> <span style=\"font-weight: bold\">]</span>                                        <a href=\"file:///n/home09/pren/3DGeno_tools/src/gt3d/modules/higashi/Higashi_wrapper.py\" target=\"_blank\"><span style=\"color: #7f7f7f; text-decoration-color: #7f7f7f\">Higashi_wrapper.py</span></a><span style=\"color: #7f7f7f; text-decoration-color: #7f7f7f\">:</span><a href=\"file:///n/home09/pren/3DGeno_tools/src/gt3d/modules/higashi/Higashi_wrapper.py#1245\" target=\"_blank\"><span style=\"color: #7f7f7f; text-decoration-color: #7f7f7f\">1245</span></a>\n",
       "</pre>\n"
      ],
      "text/plain": [
       "\u001b[2;36m                   \u001b[0m\u001b[2;36m \u001b[0m\u001b[34mINFO    \u001b[0m \u001b[94mtrain\u001b[0m \u001b[1m[\u001b[0m Epoch \u001b[1;36m6\u001b[0m of \u001b[1;36m65\u001b[0m \u001b[1m]\u001b[0m                                        \u001b]8;id=977510;file:///n/home09/pren/3DGeno_tools/src/gt3d/modules/higashi/Higashi_wrapper.py\u001b\\\u001b[2mHigashi_wrapper.py\u001b[0m\u001b]8;;\u001b\\\u001b[2m:\u001b[0m\u001b]8;id=947828;file:///n/home09/pren/3DGeno_tools/src/gt3d/modules/higashi/Higashi_wrapper.py#1245\u001b\\\u001b[2m1245\u001b[0m\u001b]8;;\u001b\\\n"
      ]
     },
     "metadata": {},
     "output_type": "display_data"
    },
    {
     "data": {
      "application/vnd.jupyter.widget-view+json": {
       "model_id": "a1066ec2b9c9497db428db0cc349a3a4",
       "version_major": 2,
       "version_minor": 0
      },
      "text/plain": [
       "Output()"
      ]
     },
     "metadata": {},
     "output_type": "display_data"
    },
    {
     "data": {
      "text/html": [
       "<pre style=\"white-space:pre;overflow-x:auto;line-height:normal;font-family:Menlo,'DejaVu Sans Mono',consolas,'Courier New',monospace\"></pre>\n"
      ],
      "text/plain": []
     },
     "metadata": {},
     "output_type": "display_data"
    },
    {
     "data": {
      "text/html": [
       "<pre style=\"white-space:pre;overflow-x:auto;line-height:normal;font-family:Menlo,'DejaVu Sans Mono',consolas,'Courier New',monospace\"><span style=\"color: #7fbfbf; text-decoration-color: #7fbfbf\">[12/07/24 14:41:04] </span><span style=\"color: #000080; text-decoration-color: #000080\">INFO    </span> <span style=\"color: #0000ff; text-decoration-color: #0000ff\">train</span>  - <span style=\"font-weight: bold\">(</span>Train<span style=\"font-weight: bold\">)</span> bce:  <span style=\"color: #008080; text-decoration-color: #008080; font-weight: bold\">0.3489</span>, mse:  <span style=\"color: #008080; text-decoration-color: #008080; font-weight: bold\">0.9002</span>,  acc: <span style=\"color: #008080; text-decoration-color: #008080; font-weight: bold\">87.640</span> %,   <a href=\"file:///n/home09/pren/3DGeno_tools/src/gt3d/modules/higashi/Higashi_wrapper.py\" target=\"_blank\"><span style=\"color: #7f7f7f; text-decoration-color: #7f7f7f\">Higashi_wrapper.py</span></a><span style=\"color: #7f7f7f; text-decoration-color: #7f7f7f\">:</span><a href=\"file:///n/home09/pren/3DGeno_tools/src/gt3d/modules/higashi/Higashi_wrapper.py#1258\" target=\"_blank\"><span style=\"color: #7f7f7f; text-decoration-color: #7f7f7f\">1258</span></a>\n",
       "<span style=\"color: #7fbfbf; text-decoration-color: #7fbfbf\">                    </span>         pearson: <span style=\"color: #008080; text-decoration-color: #008080; font-weight: bold\">0.613</span>, spearman: <span style=\"color: #008080; text-decoration-color: #008080; font-weight: bold\">0.547</span>, elapse: <span style=\"color: #008080; text-decoration-color: #008080; font-weight: bold\">89.281</span> s              <span style=\"color: #7f7f7f; text-decoration-color: #7f7f7f\">                       </span>\n",
       "</pre>\n"
      ],
      "text/plain": [
       "\u001b[2;36m[12/07/24 14:41:04]\u001b[0m\u001b[2;36m \u001b[0m\u001b[34mINFO    \u001b[0m \u001b[94mtrain\u001b[0m  - \u001b[1m(\u001b[0mTrain\u001b[1m)\u001b[0m bce:  \u001b[1;36m0.3489\u001b[0m, mse:  \u001b[1;36m0.9002\u001b[0m,  acc: \u001b[1;36m87.640\u001b[0m %,   \u001b]8;id=398632;file:///n/home09/pren/3DGeno_tools/src/gt3d/modules/higashi/Higashi_wrapper.py\u001b\\\u001b[2mHigashi_wrapper.py\u001b[0m\u001b]8;;\u001b\\\u001b[2m:\u001b[0m\u001b]8;id=309481;file:///n/home09/pren/3DGeno_tools/src/gt3d/modules/higashi/Higashi_wrapper.py#1258\u001b\\\u001b[2m1258\u001b[0m\u001b]8;;\u001b\\\n",
       "\u001b[2;36m                    \u001b[0m         pearson: \u001b[1;36m0.613\u001b[0m, spearman: \u001b[1;36m0.547\u001b[0m, elapse: \u001b[1;36m89.281\u001b[0m s              \u001b[2m                       \u001b[0m\n"
      ]
     },
     "metadata": {},
     "output_type": "display_data"
    },
    {
     "data": {
      "application/vnd.jupyter.widget-view+json": {
       "model_id": "3e5c8f209f204ac195b312e93b44e166",
       "version_major": 2,
       "version_minor": 0
      },
      "text/plain": [
       "Output()"
      ]
     },
     "metadata": {},
     "output_type": "display_data"
    },
    {
     "data": {
      "text/html": [
       "<pre style=\"white-space:pre;overflow-x:auto;line-height:normal;font-family:Menlo,'DejaVu Sans Mono',consolas,'Courier New',monospace\"></pre>\n"
      ],
      "text/plain": []
     },
     "metadata": {},
     "output_type": "display_data"
    },
    {
     "data": {
      "text/html": [
       "<pre style=\"white-space:pre;overflow-x:auto;line-height:normal;font-family:Menlo,'DejaVu Sans Mono',consolas,'Courier New',monospace\"><span style=\"color: #7fbfbf; text-decoration-color: #7fbfbf\">                    </span><span style=\"color: #000080; text-decoration-color: #000080\">INFO    </span> <span style=\"color: #0000ff; text-decoration-color: #0000ff\">train</span>  - <span style=\"font-weight: bold\">(</span>Valid<span style=\"font-weight: bold\">)</span> bce:  <span style=\"color: #008080; text-decoration-color: #008080; font-weight: bold\">0.3419</span>,  acc: <span style=\"color: #008080; text-decoration-color: #008080; font-weight: bold\">87.585</span> %,pearson: <span style=\"color: #008080; text-decoration-color: #008080; font-weight: bold\">0.615</span>,  <a href=\"file:///n/home09/pren/3DGeno_tools/src/gt3d/modules/higashi/Higashi_wrapper.py\" target=\"_blank\"><span style=\"color: #7f7f7f; text-decoration-color: #7f7f7f\">Higashi_wrapper.py</span></a><span style=\"color: #7f7f7f; text-decoration-color: #7f7f7f\">:</span><a href=\"file:///n/home09/pren/3DGeno_tools/src/gt3d/modules/higashi/Higashi_wrapper.py#1277\" target=\"_blank\"><span style=\"color: #7f7f7f; text-decoration-color: #7f7f7f\">1277</span></a>\n",
       "<span style=\"color: #7fbfbf; text-decoration-color: #7fbfbf\">                    </span>         spearman: <span style=\"color: #008080; text-decoration-color: #008080; font-weight: bold\">0.555</span>,elapse: <span style=\"color: #008080; text-decoration-color: #008080; font-weight: bold\">0.052</span> s                                <span style=\"color: #7f7f7f; text-decoration-color: #7f7f7f\">                       </span>\n",
       "</pre>\n"
      ],
      "text/plain": [
       "\u001b[2;36m                   \u001b[0m\u001b[2;36m \u001b[0m\u001b[34mINFO    \u001b[0m \u001b[94mtrain\u001b[0m  - \u001b[1m(\u001b[0mValid\u001b[1m)\u001b[0m bce:  \u001b[1;36m0.3419\u001b[0m,  acc: \u001b[1;36m87.585\u001b[0m %,pearson: \u001b[1;36m0.615\u001b[0m,  \u001b]8;id=875652;file:///n/home09/pren/3DGeno_tools/src/gt3d/modules/higashi/Higashi_wrapper.py\u001b\\\u001b[2mHigashi_wrapper.py\u001b[0m\u001b]8;;\u001b\\\u001b[2m:\u001b[0m\u001b]8;id=596876;file:///n/home09/pren/3DGeno_tools/src/gt3d/modules/higashi/Higashi_wrapper.py#1277\u001b\\\u001b[2m1277\u001b[0m\u001b]8;;\u001b\\\n",
       "\u001b[2;36m                    \u001b[0m         spearman: \u001b[1;36m0.555\u001b[0m,elapse: \u001b[1;36m0.052\u001b[0m s                                \u001b[2m                       \u001b[0m\n"
      ]
     },
     "metadata": {},
     "output_type": "display_data"
    },
    {
     "data": {
      "text/html": [
       "<pre style=\"white-space:pre;overflow-x:auto;line-height:normal;font-family:Menlo,'DejaVu Sans Mono',consolas,'Courier New',monospace\"><span style=\"color: #7fbfbf; text-decoration-color: #7fbfbf\">                    </span><span style=\"color: #000080; text-decoration-color: #000080\">INFO    </span> <span style=\"color: #0000ff; text-decoration-color: #0000ff\">train</span> update_rate: <span style=\"color: #008080; text-decoration-color: #008080; font-weight: bold\">0.010399</span>     <span style=\"color: #008080; text-decoration-color: #008080; font-weight: bold\">0.264573</span>                       <a href=\"file:///n/home09/pren/3DGeno_tools/src/gt3d/modules/higashi/Higashi_wrapper.py\" target=\"_blank\"><span style=\"color: #7f7f7f; text-decoration-color: #7f7f7f\">Higashi_wrapper.py</span></a><span style=\"color: #7f7f7f; text-decoration-color: #7f7f7f\">:</span><a href=\"file:///n/home09/pren/3DGeno_tools/src/gt3d/modules/higashi/Higashi_wrapper.py#1323\" target=\"_blank\"><span style=\"color: #7f7f7f; text-decoration-color: #7f7f7f\">1323</span></a>\n",
       "</pre>\n"
      ],
      "text/plain": [
       "\u001b[2;36m                   \u001b[0m\u001b[2;36m \u001b[0m\u001b[34mINFO    \u001b[0m \u001b[94mtrain\u001b[0m update_rate: \u001b[1;36m0.010399\u001b[0m     \u001b[1;36m0.264573\u001b[0m                       \u001b]8;id=996897;file:///n/home09/pren/3DGeno_tools/src/gt3d/modules/higashi/Higashi_wrapper.py\u001b\\\u001b[2mHigashi_wrapper.py\u001b[0m\u001b]8;;\u001b\\\u001b[2m:\u001b[0m\u001b]8;id=85628;file:///n/home09/pren/3DGeno_tools/src/gt3d/modules/higashi/Higashi_wrapper.py#1323\u001b\\\u001b[2m1323\u001b[0m\u001b]8;;\u001b\\\n"
      ]
     },
     "metadata": {},
     "output_type": "display_data"
    },
    {
     "data": {
      "text/html": [
       "<pre style=\"white-space:pre;overflow-x:auto;line-height:normal;font-family:Menlo,'DejaVu Sans Mono',consolas,'Courier New',monospace\"><span style=\"color: #7fbfbf; text-decoration-color: #7fbfbf\">                    </span><span style=\"color: #000080; text-decoration-color: #000080\">INFO    </span> <span style=\"color: #0000ff; text-decoration-color: #0000ff\">train</span> <span style=\"font-weight: bold\">[</span> Epoch <span style=\"color: #008080; text-decoration-color: #008080; font-weight: bold\">7</span> of <span style=\"color: #008080; text-decoration-color: #008080; font-weight: bold\">65</span> <span style=\"font-weight: bold\">]</span>                                        <a href=\"file:///n/home09/pren/3DGeno_tools/src/gt3d/modules/higashi/Higashi_wrapper.py\" target=\"_blank\"><span style=\"color: #7f7f7f; text-decoration-color: #7f7f7f\">Higashi_wrapper.py</span></a><span style=\"color: #7f7f7f; text-decoration-color: #7f7f7f\">:</span><a href=\"file:///n/home09/pren/3DGeno_tools/src/gt3d/modules/higashi/Higashi_wrapper.py#1245\" target=\"_blank\"><span style=\"color: #7f7f7f; text-decoration-color: #7f7f7f\">1245</span></a>\n",
       "</pre>\n"
      ],
      "text/plain": [
       "\u001b[2;36m                   \u001b[0m\u001b[2;36m \u001b[0m\u001b[34mINFO    \u001b[0m \u001b[94mtrain\u001b[0m \u001b[1m[\u001b[0m Epoch \u001b[1;36m7\u001b[0m of \u001b[1;36m65\u001b[0m \u001b[1m]\u001b[0m                                        \u001b]8;id=540575;file:///n/home09/pren/3DGeno_tools/src/gt3d/modules/higashi/Higashi_wrapper.py\u001b\\\u001b[2mHigashi_wrapper.py\u001b[0m\u001b]8;;\u001b\\\u001b[2m:\u001b[0m\u001b]8;id=658206;file:///n/home09/pren/3DGeno_tools/src/gt3d/modules/higashi/Higashi_wrapper.py#1245\u001b\\\u001b[2m1245\u001b[0m\u001b]8;;\u001b\\\n"
      ]
     },
     "metadata": {},
     "output_type": "display_data"
    },
    {
     "data": {
      "application/vnd.jupyter.widget-view+json": {
       "model_id": "fc67a1af3d844846b7318390dc6b3238",
       "version_major": 2,
       "version_minor": 0
      },
      "text/plain": [
       "Output()"
      ]
     },
     "metadata": {},
     "output_type": "display_data"
    },
    {
     "data": {
      "text/html": [
       "<pre style=\"white-space:pre;overflow-x:auto;line-height:normal;font-family:Menlo,'DejaVu Sans Mono',consolas,'Courier New',monospace\"></pre>\n"
      ],
      "text/plain": []
     },
     "metadata": {},
     "output_type": "display_data"
    },
    {
     "data": {
      "text/html": [
       "<pre style=\"white-space:pre;overflow-x:auto;line-height:normal;font-family:Menlo,'DejaVu Sans Mono',consolas,'Courier New',monospace\"><span style=\"color: #7fbfbf; text-decoration-color: #7fbfbf\">[12/07/24 14:42:35] </span><span style=\"color: #000080; text-decoration-color: #000080\">INFO    </span> <span style=\"color: #0000ff; text-decoration-color: #0000ff\">train</span>  - <span style=\"font-weight: bold\">(</span>Train<span style=\"font-weight: bold\">)</span> bce:  <span style=\"color: #008080; text-decoration-color: #008080; font-weight: bold\">0.3471</span>, mse:  <span style=\"color: #008080; text-decoration-color: #008080; font-weight: bold\">0.9777</span>,  acc: <span style=\"color: #008080; text-decoration-color: #008080; font-weight: bold\">87.796</span> %,   <a href=\"file:///n/home09/pren/3DGeno_tools/src/gt3d/modules/higashi/Higashi_wrapper.py\" target=\"_blank\"><span style=\"color: #7f7f7f; text-decoration-color: #7f7f7f\">Higashi_wrapper.py</span></a><span style=\"color: #7f7f7f; text-decoration-color: #7f7f7f\">:</span><a href=\"file:///n/home09/pren/3DGeno_tools/src/gt3d/modules/higashi/Higashi_wrapper.py#1258\" target=\"_blank\"><span style=\"color: #7f7f7f; text-decoration-color: #7f7f7f\">1258</span></a>\n",
       "<span style=\"color: #7fbfbf; text-decoration-color: #7fbfbf\">                    </span>         pearson: <span style=\"color: #008080; text-decoration-color: #008080; font-weight: bold\">0.618</span>, spearman: <span style=\"color: #008080; text-decoration-color: #008080; font-weight: bold\">0.549</span>, elapse: <span style=\"color: #008080; text-decoration-color: #008080; font-weight: bold\">91.098</span> s              <span style=\"color: #7f7f7f; text-decoration-color: #7f7f7f\">                       </span>\n",
       "</pre>\n"
      ],
      "text/plain": [
       "\u001b[2;36m[12/07/24 14:42:35]\u001b[0m\u001b[2;36m \u001b[0m\u001b[34mINFO    \u001b[0m \u001b[94mtrain\u001b[0m  - \u001b[1m(\u001b[0mTrain\u001b[1m)\u001b[0m bce:  \u001b[1;36m0.3471\u001b[0m, mse:  \u001b[1;36m0.9777\u001b[0m,  acc: \u001b[1;36m87.796\u001b[0m %,   \u001b]8;id=984689;file:///n/home09/pren/3DGeno_tools/src/gt3d/modules/higashi/Higashi_wrapper.py\u001b\\\u001b[2mHigashi_wrapper.py\u001b[0m\u001b]8;;\u001b\\\u001b[2m:\u001b[0m\u001b]8;id=843549;file:///n/home09/pren/3DGeno_tools/src/gt3d/modules/higashi/Higashi_wrapper.py#1258\u001b\\\u001b[2m1258\u001b[0m\u001b]8;;\u001b\\\n",
       "\u001b[2;36m                    \u001b[0m         pearson: \u001b[1;36m0.618\u001b[0m, spearman: \u001b[1;36m0.549\u001b[0m, elapse: \u001b[1;36m91.098\u001b[0m s              \u001b[2m                       \u001b[0m\n"
      ]
     },
     "metadata": {},
     "output_type": "display_data"
    },
    {
     "data": {
      "application/vnd.jupyter.widget-view+json": {
       "model_id": "5118b9ede68841689f893d0c5ead975e",
       "version_major": 2,
       "version_minor": 0
      },
      "text/plain": [
       "Output()"
      ]
     },
     "metadata": {},
     "output_type": "display_data"
    },
    {
     "data": {
      "text/html": [
       "<pre style=\"white-space:pre;overflow-x:auto;line-height:normal;font-family:Menlo,'DejaVu Sans Mono',consolas,'Courier New',monospace\"></pre>\n"
      ],
      "text/plain": []
     },
     "metadata": {},
     "output_type": "display_data"
    },
    {
     "data": {
      "text/html": [
       "<pre style=\"white-space:pre;overflow-x:auto;line-height:normal;font-family:Menlo,'DejaVu Sans Mono',consolas,'Courier New',monospace\"><span style=\"color: #7fbfbf; text-decoration-color: #7fbfbf\">                    </span><span style=\"color: #000080; text-decoration-color: #000080\">INFO    </span> <span style=\"color: #0000ff; text-decoration-color: #0000ff\">train</span>  - <span style=\"font-weight: bold\">(</span>Valid<span style=\"font-weight: bold\">)</span> bce:  <span style=\"color: #008080; text-decoration-color: #008080; font-weight: bold\">0.3434</span>,  acc: <span style=\"color: #008080; text-decoration-color: #008080; font-weight: bold\">88.568</span> %,pearson: <span style=\"color: #008080; text-decoration-color: #008080; font-weight: bold\">0.619</span>,  <a href=\"file:///n/home09/pren/3DGeno_tools/src/gt3d/modules/higashi/Higashi_wrapper.py\" target=\"_blank\"><span style=\"color: #7f7f7f; text-decoration-color: #7f7f7f\">Higashi_wrapper.py</span></a><span style=\"color: #7f7f7f; text-decoration-color: #7f7f7f\">:</span><a href=\"file:///n/home09/pren/3DGeno_tools/src/gt3d/modules/higashi/Higashi_wrapper.py#1277\" target=\"_blank\"><span style=\"color: #7f7f7f; text-decoration-color: #7f7f7f\">1277</span></a>\n",
       "<span style=\"color: #7fbfbf; text-decoration-color: #7fbfbf\">                    </span>         spearman: <span style=\"color: #008080; text-decoration-color: #008080; font-weight: bold\">0.555</span>,elapse: <span style=\"color: #008080; text-decoration-color: #008080; font-weight: bold\">0.052</span> s                                <span style=\"color: #7f7f7f; text-decoration-color: #7f7f7f\">                       </span>\n",
       "</pre>\n"
      ],
      "text/plain": [
       "\u001b[2;36m                   \u001b[0m\u001b[2;36m \u001b[0m\u001b[34mINFO    \u001b[0m \u001b[94mtrain\u001b[0m  - \u001b[1m(\u001b[0mValid\u001b[1m)\u001b[0m bce:  \u001b[1;36m0.3434\u001b[0m,  acc: \u001b[1;36m88.568\u001b[0m %,pearson: \u001b[1;36m0.619\u001b[0m,  \u001b]8;id=32137;file:///n/home09/pren/3DGeno_tools/src/gt3d/modules/higashi/Higashi_wrapper.py\u001b\\\u001b[2mHigashi_wrapper.py\u001b[0m\u001b]8;;\u001b\\\u001b[2m:\u001b[0m\u001b]8;id=849754;file:///n/home09/pren/3DGeno_tools/src/gt3d/modules/higashi/Higashi_wrapper.py#1277\u001b\\\u001b[2m1277\u001b[0m\u001b]8;;\u001b\\\n",
       "\u001b[2;36m                    \u001b[0m         spearman: \u001b[1;36m0.555\u001b[0m,elapse: \u001b[1;36m0.052\u001b[0m s                                \u001b[2m                       \u001b[0m\n"
      ]
     },
     "metadata": {},
     "output_type": "display_data"
    },
    {
     "data": {
      "text/html": [
       "<pre style=\"white-space:pre;overflow-x:auto;line-height:normal;font-family:Menlo,'DejaVu Sans Mono',consolas,'Courier New',monospace\"><span style=\"color: #7fbfbf; text-decoration-color: #7fbfbf\">                    </span><span style=\"color: #000080; text-decoration-color: #000080\">INFO    </span> <span style=\"color: #0000ff; text-decoration-color: #0000ff\">train</span> update_rate: <span style=\"color: #008080; text-decoration-color: #008080; font-weight: bold\">0.009770</span>     <span style=\"color: #008080; text-decoration-color: #008080; font-weight: bold\">0.237548</span>                       <a href=\"file:///n/home09/pren/3DGeno_tools/src/gt3d/modules/higashi/Higashi_wrapper.py\" target=\"_blank\"><span style=\"color: #7f7f7f; text-decoration-color: #7f7f7f\">Higashi_wrapper.py</span></a><span style=\"color: #7f7f7f; text-decoration-color: #7f7f7f\">:</span><a href=\"file:///n/home09/pren/3DGeno_tools/src/gt3d/modules/higashi/Higashi_wrapper.py#1323\" target=\"_blank\"><span style=\"color: #7f7f7f; text-decoration-color: #7f7f7f\">1323</span></a>\n",
       "</pre>\n"
      ],
      "text/plain": [
       "\u001b[2;36m                   \u001b[0m\u001b[2;36m \u001b[0m\u001b[34mINFO    \u001b[0m \u001b[94mtrain\u001b[0m update_rate: \u001b[1;36m0.009770\u001b[0m     \u001b[1;36m0.237548\u001b[0m                       \u001b]8;id=898823;file:///n/home09/pren/3DGeno_tools/src/gt3d/modules/higashi/Higashi_wrapper.py\u001b\\\u001b[2mHigashi_wrapper.py\u001b[0m\u001b]8;;\u001b\\\u001b[2m:\u001b[0m\u001b]8;id=130116;file:///n/home09/pren/3DGeno_tools/src/gt3d/modules/higashi/Higashi_wrapper.py#1323\u001b\\\u001b[2m1323\u001b[0m\u001b]8;;\u001b\\\n"
      ]
     },
     "metadata": {},
     "output_type": "display_data"
    },
    {
     "data": {
      "text/html": [
       "<pre style=\"white-space:pre;overflow-x:auto;line-height:normal;font-family:Menlo,'DejaVu Sans Mono',consolas,'Courier New',monospace\"><span style=\"color: #7fbfbf; text-decoration-color: #7fbfbf\">                    </span><span style=\"color: #000080; text-decoration-color: #000080\">INFO    </span> <span style=\"color: #0000ff; text-decoration-color: #0000ff\">train</span> <span style=\"font-weight: bold\">[</span> Epoch <span style=\"color: #008080; text-decoration-color: #008080; font-weight: bold\">8</span> of <span style=\"color: #008080; text-decoration-color: #008080; font-weight: bold\">65</span> <span style=\"font-weight: bold\">]</span>                                        <a href=\"file:///n/home09/pren/3DGeno_tools/src/gt3d/modules/higashi/Higashi_wrapper.py\" target=\"_blank\"><span style=\"color: #7f7f7f; text-decoration-color: #7f7f7f\">Higashi_wrapper.py</span></a><span style=\"color: #7f7f7f; text-decoration-color: #7f7f7f\">:</span><a href=\"file:///n/home09/pren/3DGeno_tools/src/gt3d/modules/higashi/Higashi_wrapper.py#1245\" target=\"_blank\"><span style=\"color: #7f7f7f; text-decoration-color: #7f7f7f\">1245</span></a>\n",
       "</pre>\n"
      ],
      "text/plain": [
       "\u001b[2;36m                   \u001b[0m\u001b[2;36m \u001b[0m\u001b[34mINFO    \u001b[0m \u001b[94mtrain\u001b[0m \u001b[1m[\u001b[0m Epoch \u001b[1;36m8\u001b[0m of \u001b[1;36m65\u001b[0m \u001b[1m]\u001b[0m                                        \u001b]8;id=471803;file:///n/home09/pren/3DGeno_tools/src/gt3d/modules/higashi/Higashi_wrapper.py\u001b\\\u001b[2mHigashi_wrapper.py\u001b[0m\u001b]8;;\u001b\\\u001b[2m:\u001b[0m\u001b]8;id=131921;file:///n/home09/pren/3DGeno_tools/src/gt3d/modules/higashi/Higashi_wrapper.py#1245\u001b\\\u001b[2m1245\u001b[0m\u001b]8;;\u001b\\\n"
      ]
     },
     "metadata": {},
     "output_type": "display_data"
    },
    {
     "data": {
      "application/vnd.jupyter.widget-view+json": {
       "model_id": "5bbe4725fdb645c2b9caa475bce85acf",
       "version_major": 2,
       "version_minor": 0
      },
      "text/plain": [
       "Output()"
      ]
     },
     "metadata": {},
     "output_type": "display_data"
    },
    {
     "data": {
      "text/html": [
       "<pre style=\"white-space:pre;overflow-x:auto;line-height:normal;font-family:Menlo,'DejaVu Sans Mono',consolas,'Courier New',monospace\"></pre>\n"
      ],
      "text/plain": []
     },
     "metadata": {},
     "output_type": "display_data"
    },
    {
     "data": {
      "text/html": [
       "<pre style=\"white-space:pre;overflow-x:auto;line-height:normal;font-family:Menlo,'DejaVu Sans Mono',consolas,'Courier New',monospace\"><span style=\"color: #7fbfbf; text-decoration-color: #7fbfbf\">[12/07/24 14:44:04] </span><span style=\"color: #000080; text-decoration-color: #000080\">INFO    </span> <span style=\"color: #0000ff; text-decoration-color: #0000ff\">train</span>  - <span style=\"font-weight: bold\">(</span>Train<span style=\"font-weight: bold\">)</span> bce:  <span style=\"color: #008080; text-decoration-color: #008080; font-weight: bold\">0.3477</span>, mse:  <span style=\"color: #008080; text-decoration-color: #008080; font-weight: bold\">2.6276</span>,  acc: <span style=\"color: #008080; text-decoration-color: #008080; font-weight: bold\">87.784</span> %,   <a href=\"file:///n/home09/pren/3DGeno_tools/src/gt3d/modules/higashi/Higashi_wrapper.py\" target=\"_blank\"><span style=\"color: #7f7f7f; text-decoration-color: #7f7f7f\">Higashi_wrapper.py</span></a><span style=\"color: #7f7f7f; text-decoration-color: #7f7f7f\">:</span><a href=\"file:///n/home09/pren/3DGeno_tools/src/gt3d/modules/higashi/Higashi_wrapper.py#1258\" target=\"_blank\"><span style=\"color: #7f7f7f; text-decoration-color: #7f7f7f\">1258</span></a>\n",
       "<span style=\"color: #7fbfbf; text-decoration-color: #7fbfbf\">                    </span>         pearson: <span style=\"color: #008080; text-decoration-color: #008080; font-weight: bold\">0.617</span>, spearman: <span style=\"color: #008080; text-decoration-color: #008080; font-weight: bold\">0.549</span>, elapse: <span style=\"color: #008080; text-decoration-color: #008080; font-weight: bold\">89.064</span> s              <span style=\"color: #7f7f7f; text-decoration-color: #7f7f7f\">                       </span>\n",
       "</pre>\n"
      ],
      "text/plain": [
       "\u001b[2;36m[12/07/24 14:44:04]\u001b[0m\u001b[2;36m \u001b[0m\u001b[34mINFO    \u001b[0m \u001b[94mtrain\u001b[0m  - \u001b[1m(\u001b[0mTrain\u001b[1m)\u001b[0m bce:  \u001b[1;36m0.3477\u001b[0m, mse:  \u001b[1;36m2.6276\u001b[0m,  acc: \u001b[1;36m87.784\u001b[0m %,   \u001b]8;id=389024;file:///n/home09/pren/3DGeno_tools/src/gt3d/modules/higashi/Higashi_wrapper.py\u001b\\\u001b[2mHigashi_wrapper.py\u001b[0m\u001b]8;;\u001b\\\u001b[2m:\u001b[0m\u001b]8;id=925203;file:///n/home09/pren/3DGeno_tools/src/gt3d/modules/higashi/Higashi_wrapper.py#1258\u001b\\\u001b[2m1258\u001b[0m\u001b]8;;\u001b\\\n",
       "\u001b[2;36m                    \u001b[0m         pearson: \u001b[1;36m0.617\u001b[0m, spearman: \u001b[1;36m0.549\u001b[0m, elapse: \u001b[1;36m89.064\u001b[0m s              \u001b[2m                       \u001b[0m\n"
      ]
     },
     "metadata": {},
     "output_type": "display_data"
    },
    {
     "data": {
      "application/vnd.jupyter.widget-view+json": {
       "model_id": "acd4174f78134b178406f5e0be33cd1d",
       "version_major": 2,
       "version_minor": 0
      },
      "text/plain": [
       "Output()"
      ]
     },
     "metadata": {},
     "output_type": "display_data"
    },
    {
     "data": {
      "text/html": [
       "<pre style=\"white-space:pre;overflow-x:auto;line-height:normal;font-family:Menlo,'DejaVu Sans Mono',consolas,'Courier New',monospace\"></pre>\n"
      ],
      "text/plain": []
     },
     "metadata": {},
     "output_type": "display_data"
    },
    {
     "data": {
      "text/html": [
       "<pre style=\"white-space:pre;overflow-x:auto;line-height:normal;font-family:Menlo,'DejaVu Sans Mono',consolas,'Courier New',monospace\"><span style=\"color: #7fbfbf; text-decoration-color: #7fbfbf\">                    </span><span style=\"color: #000080; text-decoration-color: #000080\">INFO    </span> <span style=\"color: #0000ff; text-decoration-color: #0000ff\">train</span>  - <span style=\"font-weight: bold\">(</span>Valid<span style=\"font-weight: bold\">)</span> bce:  <span style=\"color: #008080; text-decoration-color: #008080; font-weight: bold\">0.3562</span>,  acc: <span style=\"color: #008080; text-decoration-color: #008080; font-weight: bold\">87.812</span> %,pearson: <span style=\"color: #008080; text-decoration-color: #008080; font-weight: bold\">0.624</span>,  <a href=\"file:///n/home09/pren/3DGeno_tools/src/gt3d/modules/higashi/Higashi_wrapper.py\" target=\"_blank\"><span style=\"color: #7f7f7f; text-decoration-color: #7f7f7f\">Higashi_wrapper.py</span></a><span style=\"color: #7f7f7f; text-decoration-color: #7f7f7f\">:</span><a href=\"file:///n/home09/pren/3DGeno_tools/src/gt3d/modules/higashi/Higashi_wrapper.py#1277\" target=\"_blank\"><span style=\"color: #7f7f7f; text-decoration-color: #7f7f7f\">1277</span></a>\n",
       "<span style=\"color: #7fbfbf; text-decoration-color: #7fbfbf\">                    </span>         spearman: <span style=\"color: #008080; text-decoration-color: #008080; font-weight: bold\">0.553</span>,elapse: <span style=\"color: #008080; text-decoration-color: #008080; font-weight: bold\">0.051</span> s                                <span style=\"color: #7f7f7f; text-decoration-color: #7f7f7f\">                       </span>\n",
       "</pre>\n"
      ],
      "text/plain": [
       "\u001b[2;36m                   \u001b[0m\u001b[2;36m \u001b[0m\u001b[34mINFO    \u001b[0m \u001b[94mtrain\u001b[0m  - \u001b[1m(\u001b[0mValid\u001b[1m)\u001b[0m bce:  \u001b[1;36m0.3562\u001b[0m,  acc: \u001b[1;36m87.812\u001b[0m %,pearson: \u001b[1;36m0.624\u001b[0m,  \u001b]8;id=897519;file:///n/home09/pren/3DGeno_tools/src/gt3d/modules/higashi/Higashi_wrapper.py\u001b\\\u001b[2mHigashi_wrapper.py\u001b[0m\u001b]8;;\u001b\\\u001b[2m:\u001b[0m\u001b]8;id=149174;file:///n/home09/pren/3DGeno_tools/src/gt3d/modules/higashi/Higashi_wrapper.py#1277\u001b\\\u001b[2m1277\u001b[0m\u001b]8;;\u001b\\\n",
       "\u001b[2;36m                    \u001b[0m         spearman: \u001b[1;36m0.553\u001b[0m,elapse: \u001b[1;36m0.051\u001b[0m s                                \u001b[2m                       \u001b[0m\n"
      ]
     },
     "metadata": {},
     "output_type": "display_data"
    },
    {
     "data": {
      "text/html": [
       "<pre style=\"white-space:pre;overflow-x:auto;line-height:normal;font-family:Menlo,'DejaVu Sans Mono',consolas,'Courier New',monospace\"><span style=\"color: #7fbfbf; text-decoration-color: #7fbfbf\">                    </span><span style=\"color: #000080; text-decoration-color: #000080\">INFO    </span> <span style=\"color: #0000ff; text-decoration-color: #0000ff\">train</span> update_rate: <span style=\"color: #008080; text-decoration-color: #008080; font-weight: bold\">0.007890</span>     <span style=\"color: #008080; text-decoration-color: #008080; font-weight: bold\">0.217170</span>                       <a href=\"file:///n/home09/pren/3DGeno_tools/src/gt3d/modules/higashi/Higashi_wrapper.py\" target=\"_blank\"><span style=\"color: #7f7f7f; text-decoration-color: #7f7f7f\">Higashi_wrapper.py</span></a><span style=\"color: #7f7f7f; text-decoration-color: #7f7f7f\">:</span><a href=\"file:///n/home09/pren/3DGeno_tools/src/gt3d/modules/higashi/Higashi_wrapper.py#1323\" target=\"_blank\"><span style=\"color: #7f7f7f; text-decoration-color: #7f7f7f\">1323</span></a>\n",
       "</pre>\n"
      ],
      "text/plain": [
       "\u001b[2;36m                   \u001b[0m\u001b[2;36m \u001b[0m\u001b[34mINFO    \u001b[0m \u001b[94mtrain\u001b[0m update_rate: \u001b[1;36m0.007890\u001b[0m     \u001b[1;36m0.217170\u001b[0m                       \u001b]8;id=458040;file:///n/home09/pren/3DGeno_tools/src/gt3d/modules/higashi/Higashi_wrapper.py\u001b\\\u001b[2mHigashi_wrapper.py\u001b[0m\u001b]8;;\u001b\\\u001b[2m:\u001b[0m\u001b]8;id=470458;file:///n/home09/pren/3DGeno_tools/src/gt3d/modules/higashi/Higashi_wrapper.py#1323\u001b\\\u001b[2m1323\u001b[0m\u001b]8;;\u001b\\\n"
      ]
     },
     "metadata": {},
     "output_type": "display_data"
    },
    {
     "data": {
      "text/html": [
       "<pre style=\"white-space:pre;overflow-x:auto;line-height:normal;font-family:Menlo,'DejaVu Sans Mono',consolas,'Courier New',monospace\"><span style=\"color: #7fbfbf; text-decoration-color: #7fbfbf\">[12/07/24 14:44:05] </span><span style=\"color: #000080; text-decoration-color: #000080\">INFO    </span> <span style=\"color: #0000ff; text-decoration-color: #0000ff\">train</span> <span style=\"font-weight: bold\">[</span> Epoch <span style=\"color: #008080; text-decoration-color: #008080; font-weight: bold\">9</span> of <span style=\"color: #008080; text-decoration-color: #008080; font-weight: bold\">65</span> <span style=\"font-weight: bold\">]</span>                                        <a href=\"file:///n/home09/pren/3DGeno_tools/src/gt3d/modules/higashi/Higashi_wrapper.py\" target=\"_blank\"><span style=\"color: #7f7f7f; text-decoration-color: #7f7f7f\">Higashi_wrapper.py</span></a><span style=\"color: #7f7f7f; text-decoration-color: #7f7f7f\">:</span><a href=\"file:///n/home09/pren/3DGeno_tools/src/gt3d/modules/higashi/Higashi_wrapper.py#1245\" target=\"_blank\"><span style=\"color: #7f7f7f; text-decoration-color: #7f7f7f\">1245</span></a>\n",
       "</pre>\n"
      ],
      "text/plain": [
       "\u001b[2;36m[12/07/24 14:44:05]\u001b[0m\u001b[2;36m \u001b[0m\u001b[34mINFO    \u001b[0m \u001b[94mtrain\u001b[0m \u001b[1m[\u001b[0m Epoch \u001b[1;36m9\u001b[0m of \u001b[1;36m65\u001b[0m \u001b[1m]\u001b[0m                                        \u001b]8;id=657891;file:///n/home09/pren/3DGeno_tools/src/gt3d/modules/higashi/Higashi_wrapper.py\u001b\\\u001b[2mHigashi_wrapper.py\u001b[0m\u001b]8;;\u001b\\\u001b[2m:\u001b[0m\u001b]8;id=167340;file:///n/home09/pren/3DGeno_tools/src/gt3d/modules/higashi/Higashi_wrapper.py#1245\u001b\\\u001b[2m1245\u001b[0m\u001b]8;;\u001b\\\n"
      ]
     },
     "metadata": {},
     "output_type": "display_data"
    },
    {
     "data": {
      "application/vnd.jupyter.widget-view+json": {
       "model_id": "731f6417e0994da385bfb30def56d277",
       "version_major": 2,
       "version_minor": 0
      },
      "text/plain": [
       "Output()"
      ]
     },
     "metadata": {},
     "output_type": "display_data"
    },
    {
     "data": {
      "text/html": [
       "<pre style=\"white-space:pre;overflow-x:auto;line-height:normal;font-family:Menlo,'DejaVu Sans Mono',consolas,'Courier New',monospace\"></pre>\n"
      ],
      "text/plain": []
     },
     "metadata": {},
     "output_type": "display_data"
    },
    {
     "data": {
      "text/html": [
       "<pre style=\"white-space:pre;overflow-x:auto;line-height:normal;font-family:Menlo,'DejaVu Sans Mono',consolas,'Courier New',monospace\"><span style=\"color: #7fbfbf; text-decoration-color: #7fbfbf\">[12/07/24 14:45:34] </span><span style=\"color: #000080; text-decoration-color: #000080\">INFO    </span> <span style=\"color: #0000ff; text-decoration-color: #0000ff\">train</span>  - <span style=\"font-weight: bold\">(</span>Train<span style=\"font-weight: bold\">)</span> bce:  <span style=\"color: #008080; text-decoration-color: #008080; font-weight: bold\">0.3412</span>, mse:  <span style=\"color: #008080; text-decoration-color: #008080; font-weight: bold\">0.8781</span>,  acc: <span style=\"color: #008080; text-decoration-color: #008080; font-weight: bold\">88.172</span> %,   <a href=\"file:///n/home09/pren/3DGeno_tools/src/gt3d/modules/higashi/Higashi_wrapper.py\" target=\"_blank\"><span style=\"color: #7f7f7f; text-decoration-color: #7f7f7f\">Higashi_wrapper.py</span></a><span style=\"color: #7f7f7f; text-decoration-color: #7f7f7f\">:</span><a href=\"file:///n/home09/pren/3DGeno_tools/src/gt3d/modules/higashi/Higashi_wrapper.py#1258\" target=\"_blank\"><span style=\"color: #7f7f7f; text-decoration-color: #7f7f7f\">1258</span></a>\n",
       "<span style=\"color: #7fbfbf; text-decoration-color: #7fbfbf\">                    </span>         pearson: <span style=\"color: #008080; text-decoration-color: #008080; font-weight: bold\">0.631</span>, spearman: <span style=\"color: #008080; text-decoration-color: #008080; font-weight: bold\">0.555</span>, elapse: <span style=\"color: #008080; text-decoration-color: #008080; font-weight: bold\">88.988</span> s              <span style=\"color: #7f7f7f; text-decoration-color: #7f7f7f\">                       </span>\n",
       "</pre>\n"
      ],
      "text/plain": [
       "\u001b[2;36m[12/07/24 14:45:34]\u001b[0m\u001b[2;36m \u001b[0m\u001b[34mINFO    \u001b[0m \u001b[94mtrain\u001b[0m  - \u001b[1m(\u001b[0mTrain\u001b[1m)\u001b[0m bce:  \u001b[1;36m0.3412\u001b[0m, mse:  \u001b[1;36m0.8781\u001b[0m,  acc: \u001b[1;36m88.172\u001b[0m %,   \u001b]8;id=518509;file:///n/home09/pren/3DGeno_tools/src/gt3d/modules/higashi/Higashi_wrapper.py\u001b\\\u001b[2mHigashi_wrapper.py\u001b[0m\u001b]8;;\u001b\\\u001b[2m:\u001b[0m\u001b]8;id=224497;file:///n/home09/pren/3DGeno_tools/src/gt3d/modules/higashi/Higashi_wrapper.py#1258\u001b\\\u001b[2m1258\u001b[0m\u001b]8;;\u001b\\\n",
       "\u001b[2;36m                    \u001b[0m         pearson: \u001b[1;36m0.631\u001b[0m, spearman: \u001b[1;36m0.555\u001b[0m, elapse: \u001b[1;36m88.988\u001b[0m s              \u001b[2m                       \u001b[0m\n"
      ]
     },
     "metadata": {},
     "output_type": "display_data"
    },
    {
     "data": {
      "application/vnd.jupyter.widget-view+json": {
       "model_id": "5a865926fec647239c5e8934382132a7",
       "version_major": 2,
       "version_minor": 0
      },
      "text/plain": [
       "Output()"
      ]
     },
     "metadata": {},
     "output_type": "display_data"
    },
    {
     "data": {
      "text/html": [
       "<pre style=\"white-space:pre;overflow-x:auto;line-height:normal;font-family:Menlo,'DejaVu Sans Mono',consolas,'Courier New',monospace\"></pre>\n"
      ],
      "text/plain": []
     },
     "metadata": {},
     "output_type": "display_data"
    },
    {
     "data": {
      "text/html": [
       "<pre style=\"white-space:pre;overflow-x:auto;line-height:normal;font-family:Menlo,'DejaVu Sans Mono',consolas,'Courier New',monospace\"><span style=\"color: #7fbfbf; text-decoration-color: #7fbfbf\">                    </span><span style=\"color: #000080; text-decoration-color: #000080\">INFO    </span> <span style=\"color: #0000ff; text-decoration-color: #0000ff\">train</span>  - <span style=\"font-weight: bold\">(</span>Valid<span style=\"font-weight: bold\">)</span> bce:  <span style=\"color: #008080; text-decoration-color: #008080; font-weight: bold\">0.3481</span>,  acc: <span style=\"color: #008080; text-decoration-color: #008080; font-weight: bold\">88.079</span> %,pearson: <span style=\"color: #008080; text-decoration-color: #008080; font-weight: bold\">0.632</span>,  <a href=\"file:///n/home09/pren/3DGeno_tools/src/gt3d/modules/higashi/Higashi_wrapper.py\" target=\"_blank\"><span style=\"color: #7f7f7f; text-decoration-color: #7f7f7f\">Higashi_wrapper.py</span></a><span style=\"color: #7f7f7f; text-decoration-color: #7f7f7f\">:</span><a href=\"file:///n/home09/pren/3DGeno_tools/src/gt3d/modules/higashi/Higashi_wrapper.py#1277\" target=\"_blank\"><span style=\"color: #7f7f7f; text-decoration-color: #7f7f7f\">1277</span></a>\n",
       "<span style=\"color: #7fbfbf; text-decoration-color: #7fbfbf\">                    </span>         spearman: <span style=\"color: #008080; text-decoration-color: #008080; font-weight: bold\">0.557</span>,elapse: <span style=\"color: #008080; text-decoration-color: #008080; font-weight: bold\">0.052</span> s                                <span style=\"color: #7f7f7f; text-decoration-color: #7f7f7f\">                       </span>\n",
       "</pre>\n"
      ],
      "text/plain": [
       "\u001b[2;36m                   \u001b[0m\u001b[2;36m \u001b[0m\u001b[34mINFO    \u001b[0m \u001b[94mtrain\u001b[0m  - \u001b[1m(\u001b[0mValid\u001b[1m)\u001b[0m bce:  \u001b[1;36m0.3481\u001b[0m,  acc: \u001b[1;36m88.079\u001b[0m %,pearson: \u001b[1;36m0.632\u001b[0m,  \u001b]8;id=694432;file:///n/home09/pren/3DGeno_tools/src/gt3d/modules/higashi/Higashi_wrapper.py\u001b\\\u001b[2mHigashi_wrapper.py\u001b[0m\u001b]8;;\u001b\\\u001b[2m:\u001b[0m\u001b]8;id=33774;file:///n/home09/pren/3DGeno_tools/src/gt3d/modules/higashi/Higashi_wrapper.py#1277\u001b\\\u001b[2m1277\u001b[0m\u001b]8;;\u001b\\\n",
       "\u001b[2;36m                    \u001b[0m         spearman: \u001b[1;36m0.557\u001b[0m,elapse: \u001b[1;36m0.052\u001b[0m s                                \u001b[2m                       \u001b[0m\n"
      ]
     },
     "metadata": {},
     "output_type": "display_data"
    },
    {
     "data": {
      "text/html": [
       "<pre style=\"white-space:pre;overflow-x:auto;line-height:normal;font-family:Menlo,'DejaVu Sans Mono',consolas,'Courier New',monospace\"><span style=\"color: #7fbfbf; text-decoration-color: #7fbfbf\">                    </span><span style=\"color: #000080; text-decoration-color: #000080\">INFO    </span> <span style=\"color: #0000ff; text-decoration-color: #0000ff\">train</span> update_rate: <span style=\"color: #008080; text-decoration-color: #008080; font-weight: bold\">0.013569</span>     <span style=\"color: #008080; text-decoration-color: #008080; font-weight: bold\">0.567725</span>                       <a href=\"file:///n/home09/pren/3DGeno_tools/src/gt3d/modules/higashi/Higashi_wrapper.py\" target=\"_blank\"><span style=\"color: #7f7f7f; text-decoration-color: #7f7f7f\">Higashi_wrapper.py</span></a><span style=\"color: #7f7f7f; text-decoration-color: #7f7f7f\">:</span><a href=\"file:///n/home09/pren/3DGeno_tools/src/gt3d/modules/higashi/Higashi_wrapper.py#1323\" target=\"_blank\"><span style=\"color: #7f7f7f; text-decoration-color: #7f7f7f\">1323</span></a>\n",
       "</pre>\n"
      ],
      "text/plain": [
       "\u001b[2;36m                   \u001b[0m\u001b[2;36m \u001b[0m\u001b[34mINFO    \u001b[0m \u001b[94mtrain\u001b[0m update_rate: \u001b[1;36m0.013569\u001b[0m     \u001b[1;36m0.567725\u001b[0m                       \u001b]8;id=909745;file:///n/home09/pren/3DGeno_tools/src/gt3d/modules/higashi/Higashi_wrapper.py\u001b\\\u001b[2mHigashi_wrapper.py\u001b[0m\u001b]8;;\u001b\\\u001b[2m:\u001b[0m\u001b]8;id=802507;file:///n/home09/pren/3DGeno_tools/src/gt3d/modules/higashi/Higashi_wrapper.py#1323\u001b\\\u001b[2m1323\u001b[0m\u001b]8;;\u001b\\\n"
      ]
     },
     "metadata": {},
     "output_type": "display_data"
    },
    {
     "data": {
      "text/html": [
       "<pre style=\"white-space:pre;overflow-x:auto;line-height:normal;font-family:Menlo,'DejaVu Sans Mono',consolas,'Courier New',monospace\"><span style=\"color: #7fbfbf; text-decoration-color: #7fbfbf\">                    </span><span style=\"color: #000080; text-decoration-color: #000080\">INFO    </span> <span style=\"color: #0000ff; text-decoration-color: #0000ff\">train</span> <span style=\"font-weight: bold\">[</span> Epoch <span style=\"color: #008080; text-decoration-color: #008080; font-weight: bold\">10</span> of <span style=\"color: #008080; text-decoration-color: #008080; font-weight: bold\">65</span> <span style=\"font-weight: bold\">]</span>                                       <a href=\"file:///n/home09/pren/3DGeno_tools/src/gt3d/modules/higashi/Higashi_wrapper.py\" target=\"_blank\"><span style=\"color: #7f7f7f; text-decoration-color: #7f7f7f\">Higashi_wrapper.py</span></a><span style=\"color: #7f7f7f; text-decoration-color: #7f7f7f\">:</span><a href=\"file:///n/home09/pren/3DGeno_tools/src/gt3d/modules/higashi/Higashi_wrapper.py#1245\" target=\"_blank\"><span style=\"color: #7f7f7f; text-decoration-color: #7f7f7f\">1245</span></a>\n",
       "</pre>\n"
      ],
      "text/plain": [
       "\u001b[2;36m                   \u001b[0m\u001b[2;36m \u001b[0m\u001b[34mINFO    \u001b[0m \u001b[94mtrain\u001b[0m \u001b[1m[\u001b[0m Epoch \u001b[1;36m10\u001b[0m of \u001b[1;36m65\u001b[0m \u001b[1m]\u001b[0m                                       \u001b]8;id=310350;file:///n/home09/pren/3DGeno_tools/src/gt3d/modules/higashi/Higashi_wrapper.py\u001b\\\u001b[2mHigashi_wrapper.py\u001b[0m\u001b]8;;\u001b\\\u001b[2m:\u001b[0m\u001b]8;id=586463;file:///n/home09/pren/3DGeno_tools/src/gt3d/modules/higashi/Higashi_wrapper.py#1245\u001b\\\u001b[2m1245\u001b[0m\u001b]8;;\u001b\\\n"
      ]
     },
     "metadata": {},
     "output_type": "display_data"
    },
    {
     "data": {
      "application/vnd.jupyter.widget-view+json": {
       "model_id": "25c4b4db8978409284df74d754513bdb",
       "version_major": 2,
       "version_minor": 0
      },
      "text/plain": [
       "Output()"
      ]
     },
     "metadata": {},
     "output_type": "display_data"
    },
    {
     "data": {
      "text/html": [
       "<pre style=\"white-space:pre;overflow-x:auto;line-height:normal;font-family:Menlo,'DejaVu Sans Mono',consolas,'Courier New',monospace\"></pre>\n"
      ],
      "text/plain": []
     },
     "metadata": {},
     "output_type": "display_data"
    },
    {
     "data": {
      "text/html": [
       "<pre style=\"white-space:pre;overflow-x:auto;line-height:normal;font-family:Menlo,'DejaVu Sans Mono',consolas,'Courier New',monospace\"><span style=\"color: #7fbfbf; text-decoration-color: #7fbfbf\">[12/07/24 14:47:03] </span><span style=\"color: #000080; text-decoration-color: #000080\">INFO    </span> <span style=\"color: #0000ff; text-decoration-color: #0000ff\">train</span>  - <span style=\"font-weight: bold\">(</span>Train<span style=\"font-weight: bold\">)</span> bce:  <span style=\"color: #008080; text-decoration-color: #008080; font-weight: bold\">0.3411</span>, mse:  <span style=\"color: #008080; text-decoration-color: #008080; font-weight: bold\">1.3101</span>,  acc: <span style=\"color: #008080; text-decoration-color: #008080; font-weight: bold\">88.182</span> %,   <a href=\"file:///n/home09/pren/3DGeno_tools/src/gt3d/modules/higashi/Higashi_wrapper.py\" target=\"_blank\"><span style=\"color: #7f7f7f; text-decoration-color: #7f7f7f\">Higashi_wrapper.py</span></a><span style=\"color: #7f7f7f; text-decoration-color: #7f7f7f\">:</span><a href=\"file:///n/home09/pren/3DGeno_tools/src/gt3d/modules/higashi/Higashi_wrapper.py#1258\" target=\"_blank\"><span style=\"color: #7f7f7f; text-decoration-color: #7f7f7f\">1258</span></a>\n",
       "<span style=\"color: #7fbfbf; text-decoration-color: #7fbfbf\">                    </span>         pearson: <span style=\"color: #008080; text-decoration-color: #008080; font-weight: bold\">0.630</span>, spearman: <span style=\"color: #008080; text-decoration-color: #008080; font-weight: bold\">0.555</span>, elapse: <span style=\"color: #008080; text-decoration-color: #008080; font-weight: bold\">88.881</span> s              <span style=\"color: #7f7f7f; text-decoration-color: #7f7f7f\">                       </span>\n",
       "</pre>\n"
      ],
      "text/plain": [
       "\u001b[2;36m[12/07/24 14:47:03]\u001b[0m\u001b[2;36m \u001b[0m\u001b[34mINFO    \u001b[0m \u001b[94mtrain\u001b[0m  - \u001b[1m(\u001b[0mTrain\u001b[1m)\u001b[0m bce:  \u001b[1;36m0.3411\u001b[0m, mse:  \u001b[1;36m1.3101\u001b[0m,  acc: \u001b[1;36m88.182\u001b[0m %,   \u001b]8;id=610355;file:///n/home09/pren/3DGeno_tools/src/gt3d/modules/higashi/Higashi_wrapper.py\u001b\\\u001b[2mHigashi_wrapper.py\u001b[0m\u001b]8;;\u001b\\\u001b[2m:\u001b[0m\u001b]8;id=341496;file:///n/home09/pren/3DGeno_tools/src/gt3d/modules/higashi/Higashi_wrapper.py#1258\u001b\\\u001b[2m1258\u001b[0m\u001b]8;;\u001b\\\n",
       "\u001b[2;36m                    \u001b[0m         pearson: \u001b[1;36m0.630\u001b[0m, spearman: \u001b[1;36m0.555\u001b[0m, elapse: \u001b[1;36m88.881\u001b[0m s              \u001b[2m                       \u001b[0m\n"
      ]
     },
     "metadata": {},
     "output_type": "display_data"
    },
    {
     "data": {
      "application/vnd.jupyter.widget-view+json": {
       "model_id": "71c1bf69f6a54bd9b6bd27ff99f72716",
       "version_major": 2,
       "version_minor": 0
      },
      "text/plain": [
       "Output()"
      ]
     },
     "metadata": {},
     "output_type": "display_data"
    },
    {
     "data": {
      "text/html": [
       "<pre style=\"white-space:pre;overflow-x:auto;line-height:normal;font-family:Menlo,'DejaVu Sans Mono',consolas,'Courier New',monospace\"></pre>\n"
      ],
      "text/plain": []
     },
     "metadata": {},
     "output_type": "display_data"
    },
    {
     "data": {
      "text/html": [
       "<pre style=\"white-space:pre;overflow-x:auto;line-height:normal;font-family:Menlo,'DejaVu Sans Mono',consolas,'Courier New',monospace\"><span style=\"color: #7fbfbf; text-decoration-color: #7fbfbf\">                    </span><span style=\"color: #000080; text-decoration-color: #000080\">INFO    </span> <span style=\"color: #0000ff; text-decoration-color: #0000ff\">train</span>  - <span style=\"font-weight: bold\">(</span>Valid<span style=\"font-weight: bold\">)</span> bce:  <span style=\"color: #008080; text-decoration-color: #008080; font-weight: bold\">0.3573</span>,  acc: <span style=\"color: #008080; text-decoration-color: #008080; font-weight: bold\">87.715</span> %,pearson: <span style=\"color: #008080; text-decoration-color: #008080; font-weight: bold\">0.615</span>,  <a href=\"file:///n/home09/pren/3DGeno_tools/src/gt3d/modules/higashi/Higashi_wrapper.py\" target=\"_blank\"><span style=\"color: #7f7f7f; text-decoration-color: #7f7f7f\">Higashi_wrapper.py</span></a><span style=\"color: #7f7f7f; text-decoration-color: #7f7f7f\">:</span><a href=\"file:///n/home09/pren/3DGeno_tools/src/gt3d/modules/higashi/Higashi_wrapper.py#1277\" target=\"_blank\"><span style=\"color: #7f7f7f; text-decoration-color: #7f7f7f\">1277</span></a>\n",
       "<span style=\"color: #7fbfbf; text-decoration-color: #7fbfbf\">                    </span>         spearman: <span style=\"color: #008080; text-decoration-color: #008080; font-weight: bold\">0.547</span>,elapse: <span style=\"color: #008080; text-decoration-color: #008080; font-weight: bold\">0.051</span> s                                <span style=\"color: #7f7f7f; text-decoration-color: #7f7f7f\">                       </span>\n",
       "</pre>\n"
      ],
      "text/plain": [
       "\u001b[2;36m                   \u001b[0m\u001b[2;36m \u001b[0m\u001b[34mINFO    \u001b[0m \u001b[94mtrain\u001b[0m  - \u001b[1m(\u001b[0mValid\u001b[1m)\u001b[0m bce:  \u001b[1;36m0.3573\u001b[0m,  acc: \u001b[1;36m87.715\u001b[0m %,pearson: \u001b[1;36m0.615\u001b[0m,  \u001b]8;id=717852;file:///n/home09/pren/3DGeno_tools/src/gt3d/modules/higashi/Higashi_wrapper.py\u001b\\\u001b[2mHigashi_wrapper.py\u001b[0m\u001b]8;;\u001b\\\u001b[2m:\u001b[0m\u001b]8;id=235472;file:///n/home09/pren/3DGeno_tools/src/gt3d/modules/higashi/Higashi_wrapper.py#1277\u001b\\\u001b[2m1277\u001b[0m\u001b]8;;\u001b\\\n",
       "\u001b[2;36m                    \u001b[0m         spearman: \u001b[1;36m0.547\u001b[0m,elapse: \u001b[1;36m0.051\u001b[0m s                                \u001b[2m                       \u001b[0m\n"
      ]
     },
     "metadata": {},
     "output_type": "display_data"
    },
    {
     "data": {
      "text/html": [
       "<pre style=\"white-space:pre;overflow-x:auto;line-height:normal;font-family:Menlo,'DejaVu Sans Mono',consolas,'Courier New',monospace\"><span style=\"color: #7fbfbf; text-decoration-color: #7fbfbf\">                    </span><span style=\"color: #000080; text-decoration-color: #000080\">INFO    </span> <span style=\"color: #0000ff; text-decoration-color: #0000ff\">train</span> update_rate: <span style=\"color: #008080; text-decoration-color: #008080; font-weight: bold\">0.007548</span>     <span style=\"color: #008080; text-decoration-color: #008080; font-weight: bold\">0.295342</span>                       <a href=\"file:///n/home09/pren/3DGeno_tools/src/gt3d/modules/higashi/Higashi_wrapper.py\" target=\"_blank\"><span style=\"color: #7f7f7f; text-decoration-color: #7f7f7f\">Higashi_wrapper.py</span></a><span style=\"color: #7f7f7f; text-decoration-color: #7f7f7f\">:</span><a href=\"file:///n/home09/pren/3DGeno_tools/src/gt3d/modules/higashi/Higashi_wrapper.py#1323\" target=\"_blank\"><span style=\"color: #7f7f7f; text-decoration-color: #7f7f7f\">1323</span></a>\n",
       "</pre>\n"
      ],
      "text/plain": [
       "\u001b[2;36m                   \u001b[0m\u001b[2;36m \u001b[0m\u001b[34mINFO    \u001b[0m \u001b[94mtrain\u001b[0m update_rate: \u001b[1;36m0.007548\u001b[0m     \u001b[1;36m0.295342\u001b[0m                       \u001b]8;id=794981;file:///n/home09/pren/3DGeno_tools/src/gt3d/modules/higashi/Higashi_wrapper.py\u001b\\\u001b[2mHigashi_wrapper.py\u001b[0m\u001b]8;;\u001b\\\u001b[2m:\u001b[0m\u001b]8;id=869495;file:///n/home09/pren/3DGeno_tools/src/gt3d/modules/higashi/Higashi_wrapper.py#1323\u001b\\\u001b[2m1323\u001b[0m\u001b]8;;\u001b\\\n"
      ]
     },
     "metadata": {},
     "output_type": "display_data"
    },
    {
     "data": {
      "text/html": [
       "<pre style=\"white-space:pre;overflow-x:auto;line-height:normal;font-family:Menlo,'DejaVu Sans Mono',consolas,'Courier New',monospace\"><span style=\"color: #7fbfbf; text-decoration-color: #7fbfbf\">                    </span><span style=\"color: #000080; text-decoration-color: #000080\">INFO    </span> <span style=\"color: #0000ff; text-decoration-color: #0000ff\">train</span> <span style=\"font-weight: bold\">[</span> Epoch <span style=\"color: #008080; text-decoration-color: #008080; font-weight: bold\">11</span> of <span style=\"color: #008080; text-decoration-color: #008080; font-weight: bold\">65</span> <span style=\"font-weight: bold\">]</span>                                       <a href=\"file:///n/home09/pren/3DGeno_tools/src/gt3d/modules/higashi/Higashi_wrapper.py\" target=\"_blank\"><span style=\"color: #7f7f7f; text-decoration-color: #7f7f7f\">Higashi_wrapper.py</span></a><span style=\"color: #7f7f7f; text-decoration-color: #7f7f7f\">:</span><a href=\"file:///n/home09/pren/3DGeno_tools/src/gt3d/modules/higashi/Higashi_wrapper.py#1245\" target=\"_blank\"><span style=\"color: #7f7f7f; text-decoration-color: #7f7f7f\">1245</span></a>\n",
       "</pre>\n"
      ],
      "text/plain": [
       "\u001b[2;36m                   \u001b[0m\u001b[2;36m \u001b[0m\u001b[34mINFO    \u001b[0m \u001b[94mtrain\u001b[0m \u001b[1m[\u001b[0m Epoch \u001b[1;36m11\u001b[0m of \u001b[1;36m65\u001b[0m \u001b[1m]\u001b[0m                                       \u001b]8;id=540930;file:///n/home09/pren/3DGeno_tools/src/gt3d/modules/higashi/Higashi_wrapper.py\u001b\\\u001b[2mHigashi_wrapper.py\u001b[0m\u001b]8;;\u001b\\\u001b[2m:\u001b[0m\u001b]8;id=467797;file:///n/home09/pren/3DGeno_tools/src/gt3d/modules/higashi/Higashi_wrapper.py#1245\u001b\\\u001b[2m1245\u001b[0m\u001b]8;;\u001b\\\n"
      ]
     },
     "metadata": {},
     "output_type": "display_data"
    },
    {
     "data": {
      "application/vnd.jupyter.widget-view+json": {
       "model_id": "c0c36ea87cb149cda1aa5d63cbe37c9b",
       "version_major": 2,
       "version_minor": 0
      },
      "text/plain": [
       "Output()"
      ]
     },
     "metadata": {},
     "output_type": "display_data"
    },
    {
     "data": {
      "text/html": [
       "<pre style=\"white-space:pre;overflow-x:auto;line-height:normal;font-family:Menlo,'DejaVu Sans Mono',consolas,'Courier New',monospace\"></pre>\n"
      ],
      "text/plain": []
     },
     "metadata": {},
     "output_type": "display_data"
    },
    {
     "data": {
      "text/html": [
       "<pre style=\"white-space:pre;overflow-x:auto;line-height:normal;font-family:Menlo,'DejaVu Sans Mono',consolas,'Courier New',monospace\"><span style=\"color: #7fbfbf; text-decoration-color: #7fbfbf\">[12/07/24 14:48:32] </span><span style=\"color: #000080; text-decoration-color: #000080\">INFO    </span> <span style=\"color: #0000ff; text-decoration-color: #0000ff\">train</span>  - <span style=\"font-weight: bold\">(</span>Train<span style=\"font-weight: bold\">)</span> bce:  <span style=\"color: #008080; text-decoration-color: #008080; font-weight: bold\">0.3381</span>, mse:  <span style=\"color: #008080; text-decoration-color: #008080; font-weight: bold\">0.9932</span>,  acc: <span style=\"color: #008080; text-decoration-color: #008080; font-weight: bold\">88.394</span> %,   <a href=\"file:///n/home09/pren/3DGeno_tools/src/gt3d/modules/higashi/Higashi_wrapper.py\" target=\"_blank\"><span style=\"color: #7f7f7f; text-decoration-color: #7f7f7f\">Higashi_wrapper.py</span></a><span style=\"color: #7f7f7f; text-decoration-color: #7f7f7f\">:</span><a href=\"file:///n/home09/pren/3DGeno_tools/src/gt3d/modules/higashi/Higashi_wrapper.py#1258\" target=\"_blank\"><span style=\"color: #7f7f7f; text-decoration-color: #7f7f7f\">1258</span></a>\n",
       "<span style=\"color: #7fbfbf; text-decoration-color: #7fbfbf\">                    </span>         pearson: <span style=\"color: #008080; text-decoration-color: #008080; font-weight: bold\">0.637</span>, spearman: <span style=\"color: #008080; text-decoration-color: #008080; font-weight: bold\">0.558</span>, elapse: <span style=\"color: #008080; text-decoration-color: #008080; font-weight: bold\">88.819</span> s              <span style=\"color: #7f7f7f; text-decoration-color: #7f7f7f\">                       </span>\n",
       "</pre>\n"
      ],
      "text/plain": [
       "\u001b[2;36m[12/07/24 14:48:32]\u001b[0m\u001b[2;36m \u001b[0m\u001b[34mINFO    \u001b[0m \u001b[94mtrain\u001b[0m  - \u001b[1m(\u001b[0mTrain\u001b[1m)\u001b[0m bce:  \u001b[1;36m0.3381\u001b[0m, mse:  \u001b[1;36m0.9932\u001b[0m,  acc: \u001b[1;36m88.394\u001b[0m %,   \u001b]8;id=693734;file:///n/home09/pren/3DGeno_tools/src/gt3d/modules/higashi/Higashi_wrapper.py\u001b\\\u001b[2mHigashi_wrapper.py\u001b[0m\u001b]8;;\u001b\\\u001b[2m:\u001b[0m\u001b]8;id=778843;file:///n/home09/pren/3DGeno_tools/src/gt3d/modules/higashi/Higashi_wrapper.py#1258\u001b\\\u001b[2m1258\u001b[0m\u001b]8;;\u001b\\\n",
       "\u001b[2;36m                    \u001b[0m         pearson: \u001b[1;36m0.637\u001b[0m, spearman: \u001b[1;36m0.558\u001b[0m, elapse: \u001b[1;36m88.819\u001b[0m s              \u001b[2m                       \u001b[0m\n"
      ]
     },
     "metadata": {},
     "output_type": "display_data"
    },
    {
     "data": {
      "application/vnd.jupyter.widget-view+json": {
       "model_id": "da477585f0af44848fb39b2cf2e12c39",
       "version_major": 2,
       "version_minor": 0
      },
      "text/plain": [
       "Output()"
      ]
     },
     "metadata": {},
     "output_type": "display_data"
    },
    {
     "data": {
      "text/html": [
       "<pre style=\"white-space:pre;overflow-x:auto;line-height:normal;font-family:Menlo,'DejaVu Sans Mono',consolas,'Courier New',monospace\"></pre>\n"
      ],
      "text/plain": []
     },
     "metadata": {},
     "output_type": "display_data"
    },
    {
     "data": {
      "text/html": [
       "<pre style=\"white-space:pre;overflow-x:auto;line-height:normal;font-family:Menlo,'DejaVu Sans Mono',consolas,'Courier New',monospace\"><span style=\"color: #7fbfbf; text-decoration-color: #7fbfbf\">                    </span><span style=\"color: #000080; text-decoration-color: #000080\">INFO    </span> <span style=\"color: #0000ff; text-decoration-color: #0000ff\">train</span>  - <span style=\"font-weight: bold\">(</span>Valid<span style=\"font-weight: bold\">)</span> bce:  <span style=\"color: #008080; text-decoration-color: #008080; font-weight: bold\">0.3426</span>,  acc: <span style=\"color: #008080; text-decoration-color: #008080; font-weight: bold\">88.132</span> %,pearson: <span style=\"color: #008080; text-decoration-color: #008080; font-weight: bold\">0.623</span>,  <a href=\"file:///n/home09/pren/3DGeno_tools/src/gt3d/modules/higashi/Higashi_wrapper.py\" target=\"_blank\"><span style=\"color: #7f7f7f; text-decoration-color: #7f7f7f\">Higashi_wrapper.py</span></a><span style=\"color: #7f7f7f; text-decoration-color: #7f7f7f\">:</span><a href=\"file:///n/home09/pren/3DGeno_tools/src/gt3d/modules/higashi/Higashi_wrapper.py#1277\" target=\"_blank\"><span style=\"color: #7f7f7f; text-decoration-color: #7f7f7f\">1277</span></a>\n",
       "<span style=\"color: #7fbfbf; text-decoration-color: #7fbfbf\">                    </span>         spearman: <span style=\"color: #008080; text-decoration-color: #008080; font-weight: bold\">0.552</span>,elapse: <span style=\"color: #008080; text-decoration-color: #008080; font-weight: bold\">0.052</span> s                                <span style=\"color: #7f7f7f; text-decoration-color: #7f7f7f\">                       </span>\n",
       "</pre>\n"
      ],
      "text/plain": [
       "\u001b[2;36m                   \u001b[0m\u001b[2;36m \u001b[0m\u001b[34mINFO    \u001b[0m \u001b[94mtrain\u001b[0m  - \u001b[1m(\u001b[0mValid\u001b[1m)\u001b[0m bce:  \u001b[1;36m0.3426\u001b[0m,  acc: \u001b[1;36m88.132\u001b[0m %,pearson: \u001b[1;36m0.623\u001b[0m,  \u001b]8;id=298127;file:///n/home09/pren/3DGeno_tools/src/gt3d/modules/higashi/Higashi_wrapper.py\u001b\\\u001b[2mHigashi_wrapper.py\u001b[0m\u001b]8;;\u001b\\\u001b[2m:\u001b[0m\u001b]8;id=158016;file:///n/home09/pren/3DGeno_tools/src/gt3d/modules/higashi/Higashi_wrapper.py#1277\u001b\\\u001b[2m1277\u001b[0m\u001b]8;;\u001b\\\n",
       "\u001b[2;36m                    \u001b[0m         spearman: \u001b[1;36m0.552\u001b[0m,elapse: \u001b[1;36m0.052\u001b[0m s                                \u001b[2m                       \u001b[0m\n"
      ]
     },
     "metadata": {},
     "output_type": "display_data"
    },
    {
     "data": {
      "text/html": [
       "<pre style=\"white-space:pre;overflow-x:auto;line-height:normal;font-family:Menlo,'DejaVu Sans Mono',consolas,'Courier New',monospace\"><span style=\"color: #7fbfbf; text-decoration-color: #7fbfbf\">                    </span><span style=\"color: #000080; text-decoration-color: #000080\">INFO    </span> <span style=\"color: #0000ff; text-decoration-color: #0000ff\">train</span> update_rate: <span style=\"color: #008080; text-decoration-color: #008080; font-weight: bold\">0.007831</span>     <span style=\"color: #008080; text-decoration-color: #008080; font-weight: bold\">0.308510</span>                       <a href=\"file:///n/home09/pren/3DGeno_tools/src/gt3d/modules/higashi/Higashi_wrapper.py\" target=\"_blank\"><span style=\"color: #7f7f7f; text-decoration-color: #7f7f7f\">Higashi_wrapper.py</span></a><span style=\"color: #7f7f7f; text-decoration-color: #7f7f7f\">:</span><a href=\"file:///n/home09/pren/3DGeno_tools/src/gt3d/modules/higashi/Higashi_wrapper.py#1323\" target=\"_blank\"><span style=\"color: #7f7f7f; text-decoration-color: #7f7f7f\">1323</span></a>\n",
       "</pre>\n"
      ],
      "text/plain": [
       "\u001b[2;36m                   \u001b[0m\u001b[2;36m \u001b[0m\u001b[34mINFO    \u001b[0m \u001b[94mtrain\u001b[0m update_rate: \u001b[1;36m0.007831\u001b[0m     \u001b[1;36m0.308510\u001b[0m                       \u001b]8;id=898289;file:///n/home09/pren/3DGeno_tools/src/gt3d/modules/higashi/Higashi_wrapper.py\u001b\\\u001b[2mHigashi_wrapper.py\u001b[0m\u001b]8;;\u001b\\\u001b[2m:\u001b[0m\u001b]8;id=424713;file:///n/home09/pren/3DGeno_tools/src/gt3d/modules/higashi/Higashi_wrapper.py#1323\u001b\\\u001b[2m1323\u001b[0m\u001b]8;;\u001b\\\n"
      ]
     },
     "metadata": {},
     "output_type": "display_data"
    },
    {
     "data": {
      "text/html": [
       "<pre style=\"white-space:pre;overflow-x:auto;line-height:normal;font-family:Menlo,'DejaVu Sans Mono',consolas,'Courier New',monospace\"><span style=\"color: #7fbfbf; text-decoration-color: #7fbfbf\">                    </span><span style=\"color: #000080; text-decoration-color: #000080\">INFO    </span> <span style=\"color: #0000ff; text-decoration-color: #0000ff\">train</span> <span style=\"font-weight: bold\">[</span> Epoch <span style=\"color: #008080; text-decoration-color: #008080; font-weight: bold\">12</span> of <span style=\"color: #008080; text-decoration-color: #008080; font-weight: bold\">65</span> <span style=\"font-weight: bold\">]</span>                                       <a href=\"file:///n/home09/pren/3DGeno_tools/src/gt3d/modules/higashi/Higashi_wrapper.py\" target=\"_blank\"><span style=\"color: #7f7f7f; text-decoration-color: #7f7f7f\">Higashi_wrapper.py</span></a><span style=\"color: #7f7f7f; text-decoration-color: #7f7f7f\">:</span><a href=\"file:///n/home09/pren/3DGeno_tools/src/gt3d/modules/higashi/Higashi_wrapper.py#1245\" target=\"_blank\"><span style=\"color: #7f7f7f; text-decoration-color: #7f7f7f\">1245</span></a>\n",
       "</pre>\n"
      ],
      "text/plain": [
       "\u001b[2;36m                   \u001b[0m\u001b[2;36m \u001b[0m\u001b[34mINFO    \u001b[0m \u001b[94mtrain\u001b[0m \u001b[1m[\u001b[0m Epoch \u001b[1;36m12\u001b[0m of \u001b[1;36m65\u001b[0m \u001b[1m]\u001b[0m                                       \u001b]8;id=856879;file:///n/home09/pren/3DGeno_tools/src/gt3d/modules/higashi/Higashi_wrapper.py\u001b\\\u001b[2mHigashi_wrapper.py\u001b[0m\u001b]8;;\u001b\\\u001b[2m:\u001b[0m\u001b]8;id=59778;file:///n/home09/pren/3DGeno_tools/src/gt3d/modules/higashi/Higashi_wrapper.py#1245\u001b\\\u001b[2m1245\u001b[0m\u001b]8;;\u001b\\\n"
      ]
     },
     "metadata": {},
     "output_type": "display_data"
    },
    {
     "data": {
      "application/vnd.jupyter.widget-view+json": {
       "model_id": "0559f1c5827f40b2879c65669f6e1113",
       "version_major": 2,
       "version_minor": 0
      },
      "text/plain": [
       "Output()"
      ]
     },
     "metadata": {},
     "output_type": "display_data"
    },
    {
     "data": {
      "text/html": [
       "<pre style=\"white-space:pre;overflow-x:auto;line-height:normal;font-family:Menlo,'DejaVu Sans Mono',consolas,'Courier New',monospace\"></pre>\n"
      ],
      "text/plain": []
     },
     "metadata": {},
     "output_type": "display_data"
    },
    {
     "data": {
      "text/html": [
       "<pre style=\"white-space:pre;overflow-x:auto;line-height:normal;font-family:Menlo,'DejaVu Sans Mono',consolas,'Courier New',monospace\"><span style=\"color: #7fbfbf; text-decoration-color: #7fbfbf\">[12/07/24 14:50:01] </span><span style=\"color: #000080; text-decoration-color: #000080\">INFO    </span> <span style=\"color: #0000ff; text-decoration-color: #0000ff\">train</span>  - <span style=\"font-weight: bold\">(</span>Train<span style=\"font-weight: bold\">)</span> bce:  <span style=\"color: #008080; text-decoration-color: #008080; font-weight: bold\">0.3385</span>, mse:  <span style=\"color: #008080; text-decoration-color: #008080; font-weight: bold\">0.9406</span>,  acc: <span style=\"color: #008080; text-decoration-color: #008080; font-weight: bold\">88.351</span> %,   <a href=\"file:///n/home09/pren/3DGeno_tools/src/gt3d/modules/higashi/Higashi_wrapper.py\" target=\"_blank\"><span style=\"color: #7f7f7f; text-decoration-color: #7f7f7f\">Higashi_wrapper.py</span></a><span style=\"color: #7f7f7f; text-decoration-color: #7f7f7f\">:</span><a href=\"file:///n/home09/pren/3DGeno_tools/src/gt3d/modules/higashi/Higashi_wrapper.py#1258\" target=\"_blank\"><span style=\"color: #7f7f7f; text-decoration-color: #7f7f7f\">1258</span></a>\n",
       "<span style=\"color: #7fbfbf; text-decoration-color: #7fbfbf\">                    </span>         pearson: <span style=\"color: #008080; text-decoration-color: #008080; font-weight: bold\">0.637</span>, spearman: <span style=\"color: #008080; text-decoration-color: #008080; font-weight: bold\">0.558</span>, elapse: <span style=\"color: #008080; text-decoration-color: #008080; font-weight: bold\">89.620</span> s              <span style=\"color: #7f7f7f; text-decoration-color: #7f7f7f\">                       </span>\n",
       "</pre>\n"
      ],
      "text/plain": [
       "\u001b[2;36m[12/07/24 14:50:01]\u001b[0m\u001b[2;36m \u001b[0m\u001b[34mINFO    \u001b[0m \u001b[94mtrain\u001b[0m  - \u001b[1m(\u001b[0mTrain\u001b[1m)\u001b[0m bce:  \u001b[1;36m0.3385\u001b[0m, mse:  \u001b[1;36m0.9406\u001b[0m,  acc: \u001b[1;36m88.351\u001b[0m %,   \u001b]8;id=175279;file:///n/home09/pren/3DGeno_tools/src/gt3d/modules/higashi/Higashi_wrapper.py\u001b\\\u001b[2mHigashi_wrapper.py\u001b[0m\u001b]8;;\u001b\\\u001b[2m:\u001b[0m\u001b]8;id=510968;file:///n/home09/pren/3DGeno_tools/src/gt3d/modules/higashi/Higashi_wrapper.py#1258\u001b\\\u001b[2m1258\u001b[0m\u001b]8;;\u001b\\\n",
       "\u001b[2;36m                    \u001b[0m         pearson: \u001b[1;36m0.637\u001b[0m, spearman: \u001b[1;36m0.558\u001b[0m, elapse: \u001b[1;36m89.620\u001b[0m s              \u001b[2m                       \u001b[0m\n"
      ]
     },
     "metadata": {},
     "output_type": "display_data"
    },
    {
     "data": {
      "application/vnd.jupyter.widget-view+json": {
       "model_id": "57e6321633a24ec7b6a37cd4e47782d7",
       "version_major": 2,
       "version_minor": 0
      },
      "text/plain": [
       "Output()"
      ]
     },
     "metadata": {},
     "output_type": "display_data"
    },
    {
     "data": {
      "text/html": [
       "<pre style=\"white-space:pre;overflow-x:auto;line-height:normal;font-family:Menlo,'DejaVu Sans Mono',consolas,'Courier New',monospace\"></pre>\n"
      ],
      "text/plain": []
     },
     "metadata": {},
     "output_type": "display_data"
    },
    {
     "data": {
      "text/html": [
       "<pre style=\"white-space:pre;overflow-x:auto;line-height:normal;font-family:Menlo,'DejaVu Sans Mono',consolas,'Courier New',monospace\"><span style=\"color: #7fbfbf; text-decoration-color: #7fbfbf\">                    </span><span style=\"color: #000080; text-decoration-color: #000080\">INFO    </span> <span style=\"color: #0000ff; text-decoration-color: #0000ff\">train</span>  - <span style=\"font-weight: bold\">(</span>Valid<span style=\"font-weight: bold\">)</span> bce:  <span style=\"color: #008080; text-decoration-color: #008080; font-weight: bold\">0.3407</span>,  acc: <span style=\"color: #008080; text-decoration-color: #008080; font-weight: bold\">89.271</span> %,pearson: <span style=\"color: #008080; text-decoration-color: #008080; font-weight: bold\">0.644</span>,  <a href=\"file:///n/home09/pren/3DGeno_tools/src/gt3d/modules/higashi/Higashi_wrapper.py\" target=\"_blank\"><span style=\"color: #7f7f7f; text-decoration-color: #7f7f7f\">Higashi_wrapper.py</span></a><span style=\"color: #7f7f7f; text-decoration-color: #7f7f7f\">:</span><a href=\"file:///n/home09/pren/3DGeno_tools/src/gt3d/modules/higashi/Higashi_wrapper.py#1277\" target=\"_blank\"><span style=\"color: #7f7f7f; text-decoration-color: #7f7f7f\">1277</span></a>\n",
       "<span style=\"color: #7fbfbf; text-decoration-color: #7fbfbf\">                    </span>         spearman: <span style=\"color: #008080; text-decoration-color: #008080; font-weight: bold\">0.564</span>,elapse: <span style=\"color: #008080; text-decoration-color: #008080; font-weight: bold\">0.051</span> s                                <span style=\"color: #7f7f7f; text-decoration-color: #7f7f7f\">                       </span>\n",
       "</pre>\n"
      ],
      "text/plain": [
       "\u001b[2;36m                   \u001b[0m\u001b[2;36m \u001b[0m\u001b[34mINFO    \u001b[0m \u001b[94mtrain\u001b[0m  - \u001b[1m(\u001b[0mValid\u001b[1m)\u001b[0m bce:  \u001b[1;36m0.3407\u001b[0m,  acc: \u001b[1;36m89.271\u001b[0m %,pearson: \u001b[1;36m0.644\u001b[0m,  \u001b]8;id=778978;file:///n/home09/pren/3DGeno_tools/src/gt3d/modules/higashi/Higashi_wrapper.py\u001b\\\u001b[2mHigashi_wrapper.py\u001b[0m\u001b]8;;\u001b\\\u001b[2m:\u001b[0m\u001b]8;id=158916;file:///n/home09/pren/3DGeno_tools/src/gt3d/modules/higashi/Higashi_wrapper.py#1277\u001b\\\u001b[2m1277\u001b[0m\u001b]8;;\u001b\\\n",
       "\u001b[2;36m                    \u001b[0m         spearman: \u001b[1;36m0.564\u001b[0m,elapse: \u001b[1;36m0.051\u001b[0m s                                \u001b[2m                       \u001b[0m\n"
      ]
     },
     "metadata": {},
     "output_type": "display_data"
    },
    {
     "data": {
      "text/html": [
       "<pre style=\"white-space:pre;overflow-x:auto;line-height:normal;font-family:Menlo,'DejaVu Sans Mono',consolas,'Courier New',monospace\"><span style=\"color: #7fbfbf; text-decoration-color: #7fbfbf\">                    </span><span style=\"color: #000080; text-decoration-color: #000080\">INFO    </span> <span style=\"color: #0000ff; text-decoration-color: #0000ff\">train</span> update_rate: <span style=\"color: #008080; text-decoration-color: #008080; font-weight: bold\">0.007243</span>     <span style=\"color: #008080; text-decoration-color: #008080; font-weight: bold\">0.332496</span>                       <a href=\"file:///n/home09/pren/3DGeno_tools/src/gt3d/modules/higashi/Higashi_wrapper.py\" target=\"_blank\"><span style=\"color: #7f7f7f; text-decoration-color: #7f7f7f\">Higashi_wrapper.py</span></a><span style=\"color: #7f7f7f; text-decoration-color: #7f7f7f\">:</span><a href=\"file:///n/home09/pren/3DGeno_tools/src/gt3d/modules/higashi/Higashi_wrapper.py#1323\" target=\"_blank\"><span style=\"color: #7f7f7f; text-decoration-color: #7f7f7f\">1323</span></a>\n",
       "</pre>\n"
      ],
      "text/plain": [
       "\u001b[2;36m                   \u001b[0m\u001b[2;36m \u001b[0m\u001b[34mINFO    \u001b[0m \u001b[94mtrain\u001b[0m update_rate: \u001b[1;36m0.007243\u001b[0m     \u001b[1;36m0.332496\u001b[0m                       \u001b]8;id=243427;file:///n/home09/pren/3DGeno_tools/src/gt3d/modules/higashi/Higashi_wrapper.py\u001b\\\u001b[2mHigashi_wrapper.py\u001b[0m\u001b]8;;\u001b\\\u001b[2m:\u001b[0m\u001b]8;id=432898;file:///n/home09/pren/3DGeno_tools/src/gt3d/modules/higashi/Higashi_wrapper.py#1323\u001b\\\u001b[2m1323\u001b[0m\u001b]8;;\u001b\\\n"
      ]
     },
     "metadata": {},
     "output_type": "display_data"
    },
    {
     "data": {
      "text/html": [
       "<pre style=\"white-space:pre;overflow-x:auto;line-height:normal;font-family:Menlo,'DejaVu Sans Mono',consolas,'Courier New',monospace\"><span style=\"color: #7fbfbf; text-decoration-color: #7fbfbf\">[12/07/24 14:50:02] </span><span style=\"color: #000080; text-decoration-color: #000080\">INFO    </span> <span style=\"color: #0000ff; text-decoration-color: #0000ff\">train</span> <span style=\"font-weight: bold\">[</span> Epoch <span style=\"color: #008080; text-decoration-color: #008080; font-weight: bold\">13</span> of <span style=\"color: #008080; text-decoration-color: #008080; font-weight: bold\">65</span> <span style=\"font-weight: bold\">]</span>                                       <a href=\"file:///n/home09/pren/3DGeno_tools/src/gt3d/modules/higashi/Higashi_wrapper.py\" target=\"_blank\"><span style=\"color: #7f7f7f; text-decoration-color: #7f7f7f\">Higashi_wrapper.py</span></a><span style=\"color: #7f7f7f; text-decoration-color: #7f7f7f\">:</span><a href=\"file:///n/home09/pren/3DGeno_tools/src/gt3d/modules/higashi/Higashi_wrapper.py#1245\" target=\"_blank\"><span style=\"color: #7f7f7f; text-decoration-color: #7f7f7f\">1245</span></a>\n",
       "</pre>\n"
      ],
      "text/plain": [
       "\u001b[2;36m[12/07/24 14:50:02]\u001b[0m\u001b[2;36m \u001b[0m\u001b[34mINFO    \u001b[0m \u001b[94mtrain\u001b[0m \u001b[1m[\u001b[0m Epoch \u001b[1;36m13\u001b[0m of \u001b[1;36m65\u001b[0m \u001b[1m]\u001b[0m                                       \u001b]8;id=841622;file:///n/home09/pren/3DGeno_tools/src/gt3d/modules/higashi/Higashi_wrapper.py\u001b\\\u001b[2mHigashi_wrapper.py\u001b[0m\u001b]8;;\u001b\\\u001b[2m:\u001b[0m\u001b]8;id=984289;file:///n/home09/pren/3DGeno_tools/src/gt3d/modules/higashi/Higashi_wrapper.py#1245\u001b\\\u001b[2m1245\u001b[0m\u001b]8;;\u001b\\\n"
      ]
     },
     "metadata": {},
     "output_type": "display_data"
    },
    {
     "data": {
      "application/vnd.jupyter.widget-view+json": {
       "model_id": "7e4292a15ce9450dafe641bdb0336344",
       "version_major": 2,
       "version_minor": 0
      },
      "text/plain": [
       "Output()"
      ]
     },
     "metadata": {},
     "output_type": "display_data"
    },
    {
     "data": {
      "text/html": [
       "<pre style=\"white-space:pre;overflow-x:auto;line-height:normal;font-family:Menlo,'DejaVu Sans Mono',consolas,'Courier New',monospace\"></pre>\n"
      ],
      "text/plain": []
     },
     "metadata": {},
     "output_type": "display_data"
    },
    {
     "data": {
      "text/html": [
       "<pre style=\"white-space:pre;overflow-x:auto;line-height:normal;font-family:Menlo,'DejaVu Sans Mono',consolas,'Courier New',monospace\"><span style=\"color: #7fbfbf; text-decoration-color: #7fbfbf\">[12/07/24 14:51:31] </span><span style=\"color: #000080; text-decoration-color: #000080\">INFO    </span> <span style=\"color: #0000ff; text-decoration-color: #0000ff\">train</span>  - <span style=\"font-weight: bold\">(</span>Train<span style=\"font-weight: bold\">)</span> bce:  <span style=\"color: #008080; text-decoration-color: #008080; font-weight: bold\">0.3343</span>, mse:  <span style=\"color: #008080; text-decoration-color: #008080; font-weight: bold\">1.3674</span>,  acc: <span style=\"color: #008080; text-decoration-color: #008080; font-weight: bold\">88.646</span> %,   <a href=\"file:///n/home09/pren/3DGeno_tools/src/gt3d/modules/higashi/Higashi_wrapper.py\" target=\"_blank\"><span style=\"color: #7f7f7f; text-decoration-color: #7f7f7f\">Higashi_wrapper.py</span></a><span style=\"color: #7f7f7f; text-decoration-color: #7f7f7f\">:</span><a href=\"file:///n/home09/pren/3DGeno_tools/src/gt3d/modules/higashi/Higashi_wrapper.py#1258\" target=\"_blank\"><span style=\"color: #7f7f7f; text-decoration-color: #7f7f7f\">1258</span></a>\n",
       "<span style=\"color: #7fbfbf; text-decoration-color: #7fbfbf\">                    </span>         pearson: <span style=\"color: #008080; text-decoration-color: #008080; font-weight: bold\">0.646</span>, spearman: <span style=\"color: #008080; text-decoration-color: #008080; font-weight: bold\">0.562</span>, elapse: <span style=\"color: #008080; text-decoration-color: #008080; font-weight: bold\">88.949</span> s              <span style=\"color: #7f7f7f; text-decoration-color: #7f7f7f\">                       </span>\n",
       "</pre>\n"
      ],
      "text/plain": [
       "\u001b[2;36m[12/07/24 14:51:31]\u001b[0m\u001b[2;36m \u001b[0m\u001b[34mINFO    \u001b[0m \u001b[94mtrain\u001b[0m  - \u001b[1m(\u001b[0mTrain\u001b[1m)\u001b[0m bce:  \u001b[1;36m0.3343\u001b[0m, mse:  \u001b[1;36m1.3674\u001b[0m,  acc: \u001b[1;36m88.646\u001b[0m %,   \u001b]8;id=184812;file:///n/home09/pren/3DGeno_tools/src/gt3d/modules/higashi/Higashi_wrapper.py\u001b\\\u001b[2mHigashi_wrapper.py\u001b[0m\u001b]8;;\u001b\\\u001b[2m:\u001b[0m\u001b]8;id=836708;file:///n/home09/pren/3DGeno_tools/src/gt3d/modules/higashi/Higashi_wrapper.py#1258\u001b\\\u001b[2m1258\u001b[0m\u001b]8;;\u001b\\\n",
       "\u001b[2;36m                    \u001b[0m         pearson: \u001b[1;36m0.646\u001b[0m, spearman: \u001b[1;36m0.562\u001b[0m, elapse: \u001b[1;36m88.949\u001b[0m s              \u001b[2m                       \u001b[0m\n"
      ]
     },
     "metadata": {},
     "output_type": "display_data"
    },
    {
     "data": {
      "application/vnd.jupyter.widget-view+json": {
       "model_id": "0b262b1927a5474bafffef2b081a0a05",
       "version_major": 2,
       "version_minor": 0
      },
      "text/plain": [
       "Output()"
      ]
     },
     "metadata": {},
     "output_type": "display_data"
    },
    {
     "data": {
      "text/html": [
       "<pre style=\"white-space:pre;overflow-x:auto;line-height:normal;font-family:Menlo,'DejaVu Sans Mono',consolas,'Courier New',monospace\"></pre>\n"
      ],
      "text/plain": []
     },
     "metadata": {},
     "output_type": "display_data"
    },
    {
     "data": {
      "text/html": [
       "<pre style=\"white-space:pre;overflow-x:auto;line-height:normal;font-family:Menlo,'DejaVu Sans Mono',consolas,'Courier New',monospace\"><span style=\"color: #7fbfbf; text-decoration-color: #7fbfbf\">                    </span><span style=\"color: #000080; text-decoration-color: #000080\">INFO    </span> <span style=\"color: #0000ff; text-decoration-color: #0000ff\">train</span>  - <span style=\"font-weight: bold\">(</span>Valid<span style=\"font-weight: bold\">)</span> bce:  <span style=\"color: #008080; text-decoration-color: #008080; font-weight: bold\">0.3304</span>,  acc: <span style=\"color: #008080; text-decoration-color: #008080; font-weight: bold\">88.978</span> %,pearson: <span style=\"color: #008080; text-decoration-color: #008080; font-weight: bold\">0.654</span>,  <a href=\"file:///n/home09/pren/3DGeno_tools/src/gt3d/modules/higashi/Higashi_wrapper.py\" target=\"_blank\"><span style=\"color: #7f7f7f; text-decoration-color: #7f7f7f\">Higashi_wrapper.py</span></a><span style=\"color: #7f7f7f; text-decoration-color: #7f7f7f\">:</span><a href=\"file:///n/home09/pren/3DGeno_tools/src/gt3d/modules/higashi/Higashi_wrapper.py#1277\" target=\"_blank\"><span style=\"color: #7f7f7f; text-decoration-color: #7f7f7f\">1277</span></a>\n",
       "<span style=\"color: #7fbfbf; text-decoration-color: #7fbfbf\">                    </span>         spearman: <span style=\"color: #008080; text-decoration-color: #008080; font-weight: bold\">0.567</span>,elapse: <span style=\"color: #008080; text-decoration-color: #008080; font-weight: bold\">0.051</span> s                                <span style=\"color: #7f7f7f; text-decoration-color: #7f7f7f\">                       </span>\n",
       "</pre>\n"
      ],
      "text/plain": [
       "\u001b[2;36m                   \u001b[0m\u001b[2;36m \u001b[0m\u001b[34mINFO    \u001b[0m \u001b[94mtrain\u001b[0m  - \u001b[1m(\u001b[0mValid\u001b[1m)\u001b[0m bce:  \u001b[1;36m0.3304\u001b[0m,  acc: \u001b[1;36m88.978\u001b[0m %,pearson: \u001b[1;36m0.654\u001b[0m,  \u001b]8;id=551966;file:///n/home09/pren/3DGeno_tools/src/gt3d/modules/higashi/Higashi_wrapper.py\u001b\\\u001b[2mHigashi_wrapper.py\u001b[0m\u001b]8;;\u001b\\\u001b[2m:\u001b[0m\u001b]8;id=635012;file:///n/home09/pren/3DGeno_tools/src/gt3d/modules/higashi/Higashi_wrapper.py#1277\u001b\\\u001b[2m1277\u001b[0m\u001b]8;;\u001b\\\n",
       "\u001b[2;36m                    \u001b[0m         spearman: \u001b[1;36m0.567\u001b[0m,elapse: \u001b[1;36m0.051\u001b[0m s                                \u001b[2m                       \u001b[0m\n"
      ]
     },
     "metadata": {},
     "output_type": "display_data"
    },
    {
     "data": {
      "text/html": [
       "<pre style=\"white-space:pre;overflow-x:auto;line-height:normal;font-family:Menlo,'DejaVu Sans Mono',consolas,'Courier New',monospace\"><span style=\"color: #7fbfbf; text-decoration-color: #7fbfbf\">                    </span><span style=\"color: #000080; text-decoration-color: #000080\">INFO    </span> <span style=\"color: #0000ff; text-decoration-color: #0000ff\">train</span> update_rate: <span style=\"color: #008080; text-decoration-color: #008080; font-weight: bold\">0.007255</span>     <span style=\"color: #008080; text-decoration-color: #008080; font-weight: bold\">0.299165</span>                       <a href=\"file:///n/home09/pren/3DGeno_tools/src/gt3d/modules/higashi/Higashi_wrapper.py\" target=\"_blank\"><span style=\"color: #7f7f7f; text-decoration-color: #7f7f7f\">Higashi_wrapper.py</span></a><span style=\"color: #7f7f7f; text-decoration-color: #7f7f7f\">:</span><a href=\"file:///n/home09/pren/3DGeno_tools/src/gt3d/modules/higashi/Higashi_wrapper.py#1323\" target=\"_blank\"><span style=\"color: #7f7f7f; text-decoration-color: #7f7f7f\">1323</span></a>\n",
       "</pre>\n"
      ],
      "text/plain": [
       "\u001b[2;36m                   \u001b[0m\u001b[2;36m \u001b[0m\u001b[34mINFO    \u001b[0m \u001b[94mtrain\u001b[0m update_rate: \u001b[1;36m0.007255\u001b[0m     \u001b[1;36m0.299165\u001b[0m                       \u001b]8;id=981325;file:///n/home09/pren/3DGeno_tools/src/gt3d/modules/higashi/Higashi_wrapper.py\u001b\\\u001b[2mHigashi_wrapper.py\u001b[0m\u001b]8;;\u001b\\\u001b[2m:\u001b[0m\u001b]8;id=744992;file:///n/home09/pren/3DGeno_tools/src/gt3d/modules/higashi/Higashi_wrapper.py#1323\u001b\\\u001b[2m1323\u001b[0m\u001b]8;;\u001b\\\n"
      ]
     },
     "metadata": {},
     "output_type": "display_data"
    },
    {
     "data": {
      "text/html": [
       "<pre style=\"white-space:pre;overflow-x:auto;line-height:normal;font-family:Menlo,'DejaVu Sans Mono',consolas,'Courier New',monospace\"><span style=\"color: #7fbfbf; text-decoration-color: #7fbfbf\">                    </span><span style=\"color: #000080; text-decoration-color: #000080\">INFO    </span> <span style=\"color: #0000ff; text-decoration-color: #0000ff\">train</span> <span style=\"font-weight: bold\">[</span> Epoch <span style=\"color: #008080; text-decoration-color: #008080; font-weight: bold\">14</span> of <span style=\"color: #008080; text-decoration-color: #008080; font-weight: bold\">65</span> <span style=\"font-weight: bold\">]</span>                                       <a href=\"file:///n/home09/pren/3DGeno_tools/src/gt3d/modules/higashi/Higashi_wrapper.py\" target=\"_blank\"><span style=\"color: #7f7f7f; text-decoration-color: #7f7f7f\">Higashi_wrapper.py</span></a><span style=\"color: #7f7f7f; text-decoration-color: #7f7f7f\">:</span><a href=\"file:///n/home09/pren/3DGeno_tools/src/gt3d/modules/higashi/Higashi_wrapper.py#1245\" target=\"_blank\"><span style=\"color: #7f7f7f; text-decoration-color: #7f7f7f\">1245</span></a>\n",
       "</pre>\n"
      ],
      "text/plain": [
       "\u001b[2;36m                   \u001b[0m\u001b[2;36m \u001b[0m\u001b[34mINFO    \u001b[0m \u001b[94mtrain\u001b[0m \u001b[1m[\u001b[0m Epoch \u001b[1;36m14\u001b[0m of \u001b[1;36m65\u001b[0m \u001b[1m]\u001b[0m                                       \u001b]8;id=962089;file:///n/home09/pren/3DGeno_tools/src/gt3d/modules/higashi/Higashi_wrapper.py\u001b\\\u001b[2mHigashi_wrapper.py\u001b[0m\u001b]8;;\u001b\\\u001b[2m:\u001b[0m\u001b]8;id=505362;file:///n/home09/pren/3DGeno_tools/src/gt3d/modules/higashi/Higashi_wrapper.py#1245\u001b\\\u001b[2m1245\u001b[0m\u001b]8;;\u001b\\\n"
      ]
     },
     "metadata": {},
     "output_type": "display_data"
    },
    {
     "data": {
      "application/vnd.jupyter.widget-view+json": {
       "model_id": "86c228d04b7d470e906aee5b224cc443",
       "version_major": 2,
       "version_minor": 0
      },
      "text/plain": [
       "Output()"
      ]
     },
     "metadata": {},
     "output_type": "display_data"
    },
    {
     "data": {
      "text/html": [
       "<pre style=\"white-space:pre;overflow-x:auto;line-height:normal;font-family:Menlo,'DejaVu Sans Mono',consolas,'Courier New',monospace\"></pre>\n"
      ],
      "text/plain": []
     },
     "metadata": {},
     "output_type": "display_data"
    },
    {
     "data": {
      "text/html": [
       "<pre style=\"white-space:pre;overflow-x:auto;line-height:normal;font-family:Menlo,'DejaVu Sans Mono',consolas,'Courier New',monospace\"><span style=\"color: #7fbfbf; text-decoration-color: #7fbfbf\">[12/07/24 14:53:00] </span><span style=\"color: #000080; text-decoration-color: #000080\">INFO    </span> <span style=\"color: #0000ff; text-decoration-color: #0000ff\">train</span>  - <span style=\"font-weight: bold\">(</span>Train<span style=\"font-weight: bold\">)</span> bce:  <span style=\"color: #008080; text-decoration-color: #008080; font-weight: bold\">0.3347</span>, mse:  <span style=\"color: #008080; text-decoration-color: #008080; font-weight: bold\">0.9582</span>,  acc: <span style=\"color: #008080; text-decoration-color: #008080; font-weight: bold\">88.609</span> %,   <a href=\"file:///n/home09/pren/3DGeno_tools/src/gt3d/modules/higashi/Higashi_wrapper.py\" target=\"_blank\"><span style=\"color: #7f7f7f; text-decoration-color: #7f7f7f\">Higashi_wrapper.py</span></a><span style=\"color: #7f7f7f; text-decoration-color: #7f7f7f\">:</span><a href=\"file:///n/home09/pren/3DGeno_tools/src/gt3d/modules/higashi/Higashi_wrapper.py#1258\" target=\"_blank\"><span style=\"color: #7f7f7f; text-decoration-color: #7f7f7f\">1258</span></a>\n",
       "<span style=\"color: #7fbfbf; text-decoration-color: #7fbfbf\">                    </span>         pearson: <span style=\"color: #008080; text-decoration-color: #008080; font-weight: bold\">0.645</span>, spearman: <span style=\"color: #008080; text-decoration-color: #008080; font-weight: bold\">0.561</span>, elapse: <span style=\"color: #008080; text-decoration-color: #008080; font-weight: bold\">88.813</span> s              <span style=\"color: #7f7f7f; text-decoration-color: #7f7f7f\">                       </span>\n",
       "</pre>\n"
      ],
      "text/plain": [
       "\u001b[2;36m[12/07/24 14:53:00]\u001b[0m\u001b[2;36m \u001b[0m\u001b[34mINFO    \u001b[0m \u001b[94mtrain\u001b[0m  - \u001b[1m(\u001b[0mTrain\u001b[1m)\u001b[0m bce:  \u001b[1;36m0.3347\u001b[0m, mse:  \u001b[1;36m0.9582\u001b[0m,  acc: \u001b[1;36m88.609\u001b[0m %,   \u001b]8;id=84788;file:///n/home09/pren/3DGeno_tools/src/gt3d/modules/higashi/Higashi_wrapper.py\u001b\\\u001b[2mHigashi_wrapper.py\u001b[0m\u001b]8;;\u001b\\\u001b[2m:\u001b[0m\u001b]8;id=761957;file:///n/home09/pren/3DGeno_tools/src/gt3d/modules/higashi/Higashi_wrapper.py#1258\u001b\\\u001b[2m1258\u001b[0m\u001b]8;;\u001b\\\n",
       "\u001b[2;36m                    \u001b[0m         pearson: \u001b[1;36m0.645\u001b[0m, spearman: \u001b[1;36m0.561\u001b[0m, elapse: \u001b[1;36m88.813\u001b[0m s              \u001b[2m                       \u001b[0m\n"
      ]
     },
     "metadata": {},
     "output_type": "display_data"
    },
    {
     "data": {
      "application/vnd.jupyter.widget-view+json": {
       "model_id": "7e6732bab1c14b6e9d6a1de0205e9aea",
       "version_major": 2,
       "version_minor": 0
      },
      "text/plain": [
       "Output()"
      ]
     },
     "metadata": {},
     "output_type": "display_data"
    },
    {
     "data": {
      "text/html": [
       "<pre style=\"white-space:pre;overflow-x:auto;line-height:normal;font-family:Menlo,'DejaVu Sans Mono',consolas,'Courier New',monospace\"></pre>\n"
      ],
      "text/plain": []
     },
     "metadata": {},
     "output_type": "display_data"
    },
    {
     "data": {
      "text/html": [
       "<pre style=\"white-space:pre;overflow-x:auto;line-height:normal;font-family:Menlo,'DejaVu Sans Mono',consolas,'Courier New',monospace\"><span style=\"color: #7fbfbf; text-decoration-color: #7fbfbf\">                    </span><span style=\"color: #000080; text-decoration-color: #000080\">INFO    </span> <span style=\"color: #0000ff; text-decoration-color: #0000ff\">train</span>  - <span style=\"font-weight: bold\">(</span>Valid<span style=\"font-weight: bold\">)</span> bce:  <span style=\"color: #008080; text-decoration-color: #008080; font-weight: bold\">0.3445</span>,  acc: <span style=\"color: #008080; text-decoration-color: #008080; font-weight: bold\">87.923</span> %,pearson: <span style=\"color: #008080; text-decoration-color: #008080; font-weight: bold\">0.635</span>,  <a href=\"file:///n/home09/pren/3DGeno_tools/src/gt3d/modules/higashi/Higashi_wrapper.py\" target=\"_blank\"><span style=\"color: #7f7f7f; text-decoration-color: #7f7f7f\">Higashi_wrapper.py</span></a><span style=\"color: #7f7f7f; text-decoration-color: #7f7f7f\">:</span><a href=\"file:///n/home09/pren/3DGeno_tools/src/gt3d/modules/higashi/Higashi_wrapper.py#1277\" target=\"_blank\"><span style=\"color: #7f7f7f; text-decoration-color: #7f7f7f\">1277</span></a>\n",
       "<span style=\"color: #7fbfbf; text-decoration-color: #7fbfbf\">                    </span>         spearman: <span style=\"color: #008080; text-decoration-color: #008080; font-weight: bold\">0.557</span>,elapse: <span style=\"color: #008080; text-decoration-color: #008080; font-weight: bold\">0.049</span> s                                <span style=\"color: #7f7f7f; text-decoration-color: #7f7f7f\">                       </span>\n",
       "</pre>\n"
      ],
      "text/plain": [
       "\u001b[2;36m                   \u001b[0m\u001b[2;36m \u001b[0m\u001b[34mINFO    \u001b[0m \u001b[94mtrain\u001b[0m  - \u001b[1m(\u001b[0mValid\u001b[1m)\u001b[0m bce:  \u001b[1;36m0.3445\u001b[0m,  acc: \u001b[1;36m87.923\u001b[0m %,pearson: \u001b[1;36m0.635\u001b[0m,  \u001b]8;id=609485;file:///n/home09/pren/3DGeno_tools/src/gt3d/modules/higashi/Higashi_wrapper.py\u001b\\\u001b[2mHigashi_wrapper.py\u001b[0m\u001b]8;;\u001b\\\u001b[2m:\u001b[0m\u001b]8;id=934515;file:///n/home09/pren/3DGeno_tools/src/gt3d/modules/higashi/Higashi_wrapper.py#1277\u001b\\\u001b[2m1277\u001b[0m\u001b]8;;\u001b\\\n",
       "\u001b[2;36m                    \u001b[0m         spearman: \u001b[1;36m0.557\u001b[0m,elapse: \u001b[1;36m0.049\u001b[0m s                                \u001b[2m                       \u001b[0m\n"
      ]
     },
     "metadata": {},
     "output_type": "display_data"
    },
    {
     "data": {
      "text/html": [
       "<pre style=\"white-space:pre;overflow-x:auto;line-height:normal;font-family:Menlo,'DejaVu Sans Mono',consolas,'Courier New',monospace\"><span style=\"color: #7fbfbf; text-decoration-color: #7fbfbf\">                    </span><span style=\"color: #000080; text-decoration-color: #000080\">INFO    </span> <span style=\"color: #0000ff; text-decoration-color: #0000ff\">train</span> update_rate: <span style=\"color: #008080; text-decoration-color: #008080; font-weight: bold\">0.006585</span>     <span style=\"color: #008080; text-decoration-color: #008080; font-weight: bold\">0.195947</span>                       <a href=\"file:///n/home09/pren/3DGeno_tools/src/gt3d/modules/higashi/Higashi_wrapper.py\" target=\"_blank\"><span style=\"color: #7f7f7f; text-decoration-color: #7f7f7f\">Higashi_wrapper.py</span></a><span style=\"color: #7f7f7f; text-decoration-color: #7f7f7f\">:</span><a href=\"file:///n/home09/pren/3DGeno_tools/src/gt3d/modules/higashi/Higashi_wrapper.py#1323\" target=\"_blank\"><span style=\"color: #7f7f7f; text-decoration-color: #7f7f7f\">1323</span></a>\n",
       "</pre>\n"
      ],
      "text/plain": [
       "\u001b[2;36m                   \u001b[0m\u001b[2;36m \u001b[0m\u001b[34mINFO    \u001b[0m \u001b[94mtrain\u001b[0m update_rate: \u001b[1;36m0.006585\u001b[0m     \u001b[1;36m0.195947\u001b[0m                       \u001b]8;id=516310;file:///n/home09/pren/3DGeno_tools/src/gt3d/modules/higashi/Higashi_wrapper.py\u001b\\\u001b[2mHigashi_wrapper.py\u001b[0m\u001b]8;;\u001b\\\u001b[2m:\u001b[0m\u001b]8;id=590206;file:///n/home09/pren/3DGeno_tools/src/gt3d/modules/higashi/Higashi_wrapper.py#1323\u001b\\\u001b[2m1323\u001b[0m\u001b]8;;\u001b\\\n"
      ]
     },
     "metadata": {},
     "output_type": "display_data"
    },
    {
     "data": {
      "text/html": [
       "<pre style=\"white-space:pre;overflow-x:auto;line-height:normal;font-family:Menlo,'DejaVu Sans Mono',consolas,'Courier New',monospace\"><span style=\"color: #7fbfbf; text-decoration-color: #7fbfbf\">                    </span><span style=\"color: #000080; text-decoration-color: #000080\">INFO    </span> <span style=\"color: #0000ff; text-decoration-color: #0000ff\">train</span> <span style=\"font-weight: bold\">[</span> Epoch <span style=\"color: #008080; text-decoration-color: #008080; font-weight: bold\">15</span> of <span style=\"color: #008080; text-decoration-color: #008080; font-weight: bold\">65</span> <span style=\"font-weight: bold\">]</span>                                       <a href=\"file:///n/home09/pren/3DGeno_tools/src/gt3d/modules/higashi/Higashi_wrapper.py\" target=\"_blank\"><span style=\"color: #7f7f7f; text-decoration-color: #7f7f7f\">Higashi_wrapper.py</span></a><span style=\"color: #7f7f7f; text-decoration-color: #7f7f7f\">:</span><a href=\"file:///n/home09/pren/3DGeno_tools/src/gt3d/modules/higashi/Higashi_wrapper.py#1245\" target=\"_blank\"><span style=\"color: #7f7f7f; text-decoration-color: #7f7f7f\">1245</span></a>\n",
       "</pre>\n"
      ],
      "text/plain": [
       "\u001b[2;36m                   \u001b[0m\u001b[2;36m \u001b[0m\u001b[34mINFO    \u001b[0m \u001b[94mtrain\u001b[0m \u001b[1m[\u001b[0m Epoch \u001b[1;36m15\u001b[0m of \u001b[1;36m65\u001b[0m \u001b[1m]\u001b[0m                                       \u001b]8;id=628430;file:///n/home09/pren/3DGeno_tools/src/gt3d/modules/higashi/Higashi_wrapper.py\u001b\\\u001b[2mHigashi_wrapper.py\u001b[0m\u001b]8;;\u001b\\\u001b[2m:\u001b[0m\u001b]8;id=52333;file:///n/home09/pren/3DGeno_tools/src/gt3d/modules/higashi/Higashi_wrapper.py#1245\u001b\\\u001b[2m1245\u001b[0m\u001b]8;;\u001b\\\n"
      ]
     },
     "metadata": {},
     "output_type": "display_data"
    },
    {
     "data": {
      "application/vnd.jupyter.widget-view+json": {
       "model_id": "fcdecf761c2f419d92893cb42d9774ee",
       "version_major": 2,
       "version_minor": 0
      },
      "text/plain": [
       "Output()"
      ]
     },
     "metadata": {},
     "output_type": "display_data"
    },
    {
     "data": {
      "text/html": [
       "<pre style=\"white-space:pre;overflow-x:auto;line-height:normal;font-family:Menlo,'DejaVu Sans Mono',consolas,'Courier New',monospace\"></pre>\n"
      ],
      "text/plain": []
     },
     "metadata": {},
     "output_type": "display_data"
    },
    {
     "data": {
      "text/html": [
       "<pre style=\"white-space:pre;overflow-x:auto;line-height:normal;font-family:Menlo,'DejaVu Sans Mono',consolas,'Courier New',monospace\"><span style=\"color: #7fbfbf; text-decoration-color: #7fbfbf\">[12/07/24 14:54:29] </span><span style=\"color: #000080; text-decoration-color: #000080\">INFO    </span> <span style=\"color: #0000ff; text-decoration-color: #0000ff\">train</span>  - <span style=\"font-weight: bold\">(</span>Train<span style=\"font-weight: bold\">)</span> bce:  <span style=\"color: #008080; text-decoration-color: #008080; font-weight: bold\">0.3324</span>, mse:  <span style=\"color: #008080; text-decoration-color: #008080; font-weight: bold\">0.9815</span>,  acc: <span style=\"color: #008080; text-decoration-color: #008080; font-weight: bold\">88.695</span> %,   <a href=\"file:///n/home09/pren/3DGeno_tools/src/gt3d/modules/higashi/Higashi_wrapper.py\" target=\"_blank\"><span style=\"color: #7f7f7f; text-decoration-color: #7f7f7f\">Higashi_wrapper.py</span></a><span style=\"color: #7f7f7f; text-decoration-color: #7f7f7f\">:</span><a href=\"file:///n/home09/pren/3DGeno_tools/src/gt3d/modules/higashi/Higashi_wrapper.py#1258\" target=\"_blank\"><span style=\"color: #7f7f7f; text-decoration-color: #7f7f7f\">1258</span></a>\n",
       "<span style=\"color: #7fbfbf; text-decoration-color: #7fbfbf\">                    </span>         pearson: <span style=\"color: #008080; text-decoration-color: #008080; font-weight: bold\">0.647</span>, spearman: <span style=\"color: #008080; text-decoration-color: #008080; font-weight: bold\">0.563</span>, elapse: <span style=\"color: #008080; text-decoration-color: #008080; font-weight: bold\">88.760</span> s              <span style=\"color: #7f7f7f; text-decoration-color: #7f7f7f\">                       </span>\n",
       "</pre>\n"
      ],
      "text/plain": [
       "\u001b[2;36m[12/07/24 14:54:29]\u001b[0m\u001b[2;36m \u001b[0m\u001b[34mINFO    \u001b[0m \u001b[94mtrain\u001b[0m  - \u001b[1m(\u001b[0mTrain\u001b[1m)\u001b[0m bce:  \u001b[1;36m0.3324\u001b[0m, mse:  \u001b[1;36m0.9815\u001b[0m,  acc: \u001b[1;36m88.695\u001b[0m %,   \u001b]8;id=533512;file:///n/home09/pren/3DGeno_tools/src/gt3d/modules/higashi/Higashi_wrapper.py\u001b\\\u001b[2mHigashi_wrapper.py\u001b[0m\u001b]8;;\u001b\\\u001b[2m:\u001b[0m\u001b]8;id=839850;file:///n/home09/pren/3DGeno_tools/src/gt3d/modules/higashi/Higashi_wrapper.py#1258\u001b\\\u001b[2m1258\u001b[0m\u001b]8;;\u001b\\\n",
       "\u001b[2;36m                    \u001b[0m         pearson: \u001b[1;36m0.647\u001b[0m, spearman: \u001b[1;36m0.563\u001b[0m, elapse: \u001b[1;36m88.760\u001b[0m s              \u001b[2m                       \u001b[0m\n"
      ]
     },
     "metadata": {},
     "output_type": "display_data"
    },
    {
     "data": {
      "application/vnd.jupyter.widget-view+json": {
       "model_id": "bf0d188411dd4e8dac15d097dc219f7f",
       "version_major": 2,
       "version_minor": 0
      },
      "text/plain": [
       "Output()"
      ]
     },
     "metadata": {},
     "output_type": "display_data"
    },
    {
     "data": {
      "text/html": [
       "<pre style=\"white-space:pre;overflow-x:auto;line-height:normal;font-family:Menlo,'DejaVu Sans Mono',consolas,'Courier New',monospace\"></pre>\n"
      ],
      "text/plain": []
     },
     "metadata": {},
     "output_type": "display_data"
    },
    {
     "data": {
      "text/html": [
       "<pre style=\"white-space:pre;overflow-x:auto;line-height:normal;font-family:Menlo,'DejaVu Sans Mono',consolas,'Courier New',monospace\"><span style=\"color: #7fbfbf; text-decoration-color: #7fbfbf\">                    </span><span style=\"color: #000080; text-decoration-color: #000080\">INFO    </span> <span style=\"color: #0000ff; text-decoration-color: #0000ff\">train</span>  - <span style=\"font-weight: bold\">(</span>Valid<span style=\"font-weight: bold\">)</span> bce:  <span style=\"color: #008080; text-decoration-color: #008080; font-weight: bold\">0.3487</span>,  acc: <span style=\"color: #008080; text-decoration-color: #008080; font-weight: bold\">88.014</span> %,pearson: <span style=\"color: #008080; text-decoration-color: #008080; font-weight: bold\">0.626</span>,  <a href=\"file:///n/home09/pren/3DGeno_tools/src/gt3d/modules/higashi/Higashi_wrapper.py\" target=\"_blank\"><span style=\"color: #7f7f7f; text-decoration-color: #7f7f7f\">Higashi_wrapper.py</span></a><span style=\"color: #7f7f7f; text-decoration-color: #7f7f7f\">:</span><a href=\"file:///n/home09/pren/3DGeno_tools/src/gt3d/modules/higashi/Higashi_wrapper.py#1277\" target=\"_blank\"><span style=\"color: #7f7f7f; text-decoration-color: #7f7f7f\">1277</span></a>\n",
       "<span style=\"color: #7fbfbf; text-decoration-color: #7fbfbf\">                    </span>         spearman: <span style=\"color: #008080; text-decoration-color: #008080; font-weight: bold\">0.547</span>,elapse: <span style=\"color: #008080; text-decoration-color: #008080; font-weight: bold\">0.053</span> s                                <span style=\"color: #7f7f7f; text-decoration-color: #7f7f7f\">                       </span>\n",
       "</pre>\n"
      ],
      "text/plain": [
       "\u001b[2;36m                   \u001b[0m\u001b[2;36m \u001b[0m\u001b[34mINFO    \u001b[0m \u001b[94mtrain\u001b[0m  - \u001b[1m(\u001b[0mValid\u001b[1m)\u001b[0m bce:  \u001b[1;36m0.3487\u001b[0m,  acc: \u001b[1;36m88.014\u001b[0m %,pearson: \u001b[1;36m0.626\u001b[0m,  \u001b]8;id=143889;file:///n/home09/pren/3DGeno_tools/src/gt3d/modules/higashi/Higashi_wrapper.py\u001b\\\u001b[2mHigashi_wrapper.py\u001b[0m\u001b]8;;\u001b\\\u001b[2m:\u001b[0m\u001b]8;id=323315;file:///n/home09/pren/3DGeno_tools/src/gt3d/modules/higashi/Higashi_wrapper.py#1277\u001b\\\u001b[2m1277\u001b[0m\u001b]8;;\u001b\\\n",
       "\u001b[2;36m                    \u001b[0m         spearman: \u001b[1;36m0.547\u001b[0m,elapse: \u001b[1;36m0.053\u001b[0m s                                \u001b[2m                       \u001b[0m\n"
      ]
     },
     "metadata": {},
     "output_type": "display_data"
    },
    {
     "data": {
      "text/html": [
       "<pre style=\"white-space:pre;overflow-x:auto;line-height:normal;font-family:Menlo,'DejaVu Sans Mono',consolas,'Courier New',monospace\"><span style=\"color: #7fbfbf; text-decoration-color: #7fbfbf\">                    </span><span style=\"color: #000080; text-decoration-color: #000080\">INFO    </span> <span style=\"color: #0000ff; text-decoration-color: #0000ff\">train</span> update_rate: <span style=\"color: #008080; text-decoration-color: #008080; font-weight: bold\">0.007326</span>     <span style=\"color: #008080; text-decoration-color: #008080; font-weight: bold\">0.188547</span>                       <a href=\"file:///n/home09/pren/3DGeno_tools/src/gt3d/modules/higashi/Higashi_wrapper.py\" target=\"_blank\"><span style=\"color: #7f7f7f; text-decoration-color: #7f7f7f\">Higashi_wrapper.py</span></a><span style=\"color: #7f7f7f; text-decoration-color: #7f7f7f\">:</span><a href=\"file:///n/home09/pren/3DGeno_tools/src/gt3d/modules/higashi/Higashi_wrapper.py#1323\" target=\"_blank\"><span style=\"color: #7f7f7f; text-decoration-color: #7f7f7f\">1323</span></a>\n",
       "</pre>\n"
      ],
      "text/plain": [
       "\u001b[2;36m                   \u001b[0m\u001b[2;36m \u001b[0m\u001b[34mINFO    \u001b[0m \u001b[94mtrain\u001b[0m update_rate: \u001b[1;36m0.007326\u001b[0m     \u001b[1;36m0.188547\u001b[0m                       \u001b]8;id=524364;file:///n/home09/pren/3DGeno_tools/src/gt3d/modules/higashi/Higashi_wrapper.py\u001b\\\u001b[2mHigashi_wrapper.py\u001b[0m\u001b]8;;\u001b\\\u001b[2m:\u001b[0m\u001b]8;id=431363;file:///n/home09/pren/3DGeno_tools/src/gt3d/modules/higashi/Higashi_wrapper.py#1323\u001b\\\u001b[2m1323\u001b[0m\u001b]8;;\u001b\\\n"
      ]
     },
     "metadata": {},
     "output_type": "display_data"
    },
    {
     "data": {
      "text/html": [
       "<pre style=\"white-space:pre;overflow-x:auto;line-height:normal;font-family:Menlo,'DejaVu Sans Mono',consolas,'Courier New',monospace\"><span style=\"color: #7fbfbf; text-decoration-color: #7fbfbf\">                    </span><span style=\"color: #000080; text-decoration-color: #000080\">INFO    </span> <span style=\"color: #0000ff; text-decoration-color: #0000ff\">train</span> <span style=\"font-weight: bold\">[</span> Epoch <span style=\"color: #008080; text-decoration-color: #008080; font-weight: bold\">16</span> of <span style=\"color: #008080; text-decoration-color: #008080; font-weight: bold\">65</span> <span style=\"font-weight: bold\">]</span>                                       <a href=\"file:///n/home09/pren/3DGeno_tools/src/gt3d/modules/higashi/Higashi_wrapper.py\" target=\"_blank\"><span style=\"color: #7f7f7f; text-decoration-color: #7f7f7f\">Higashi_wrapper.py</span></a><span style=\"color: #7f7f7f; text-decoration-color: #7f7f7f\">:</span><a href=\"file:///n/home09/pren/3DGeno_tools/src/gt3d/modules/higashi/Higashi_wrapper.py#1245\" target=\"_blank\"><span style=\"color: #7f7f7f; text-decoration-color: #7f7f7f\">1245</span></a>\n",
       "</pre>\n"
      ],
      "text/plain": [
       "\u001b[2;36m                   \u001b[0m\u001b[2;36m \u001b[0m\u001b[34mINFO    \u001b[0m \u001b[94mtrain\u001b[0m \u001b[1m[\u001b[0m Epoch \u001b[1;36m16\u001b[0m of \u001b[1;36m65\u001b[0m \u001b[1m]\u001b[0m                                       \u001b]8;id=868218;file:///n/home09/pren/3DGeno_tools/src/gt3d/modules/higashi/Higashi_wrapper.py\u001b\\\u001b[2mHigashi_wrapper.py\u001b[0m\u001b]8;;\u001b\\\u001b[2m:\u001b[0m\u001b]8;id=618441;file:///n/home09/pren/3DGeno_tools/src/gt3d/modules/higashi/Higashi_wrapper.py#1245\u001b\\\u001b[2m1245\u001b[0m\u001b]8;;\u001b\\\n"
      ]
     },
     "metadata": {},
     "output_type": "display_data"
    },
    {
     "data": {
      "application/vnd.jupyter.widget-view+json": {
       "model_id": "5898653d17f148bab58143bd8643325c",
       "version_major": 2,
       "version_minor": 0
      },
      "text/plain": [
       "Output()"
      ]
     },
     "metadata": {},
     "output_type": "display_data"
    },
    {
     "data": {
      "text/html": [
       "<pre style=\"white-space:pre;overflow-x:auto;line-height:normal;font-family:Menlo,'DejaVu Sans Mono',consolas,'Courier New',monospace\"></pre>\n"
      ],
      "text/plain": []
     },
     "metadata": {},
     "output_type": "display_data"
    },
    {
     "data": {
      "text/html": [
       "<pre style=\"white-space:pre;overflow-x:auto;line-height:normal;font-family:Menlo,'DejaVu Sans Mono',consolas,'Courier New',monospace\"><span style=\"color: #7fbfbf; text-decoration-color: #7fbfbf\">[12/07/24 14:55:58] </span><span style=\"color: #000080; text-decoration-color: #000080\">INFO    </span> <span style=\"color: #0000ff; text-decoration-color: #0000ff\">train</span>  - <span style=\"font-weight: bold\">(</span>Train<span style=\"font-weight: bold\">)</span> bce:  <span style=\"color: #008080; text-decoration-color: #008080; font-weight: bold\">0.3327</span>, mse:  <span style=\"color: #008080; text-decoration-color: #008080; font-weight: bold\">0.9502</span>,  acc: <span style=\"color: #008080; text-decoration-color: #008080; font-weight: bold\">88.729</span> %,   <a href=\"file:///n/home09/pren/3DGeno_tools/src/gt3d/modules/higashi/Higashi_wrapper.py\" target=\"_blank\"><span style=\"color: #7f7f7f; text-decoration-color: #7f7f7f\">Higashi_wrapper.py</span></a><span style=\"color: #7f7f7f; text-decoration-color: #7f7f7f\">:</span><a href=\"file:///n/home09/pren/3DGeno_tools/src/gt3d/modules/higashi/Higashi_wrapper.py#1258\" target=\"_blank\"><span style=\"color: #7f7f7f; text-decoration-color: #7f7f7f\">1258</span></a>\n",
       "<span style=\"color: #7fbfbf; text-decoration-color: #7fbfbf\">                    </span>         pearson: <span style=\"color: #008080; text-decoration-color: #008080; font-weight: bold\">0.648</span>, spearman: <span style=\"color: #008080; text-decoration-color: #008080; font-weight: bold\">0.563</span>, elapse: <span style=\"color: #008080; text-decoration-color: #008080; font-weight: bold\">88.930</span> s              <span style=\"color: #7f7f7f; text-decoration-color: #7f7f7f\">                       </span>\n",
       "</pre>\n"
      ],
      "text/plain": [
       "\u001b[2;36m[12/07/24 14:55:58]\u001b[0m\u001b[2;36m \u001b[0m\u001b[34mINFO    \u001b[0m \u001b[94mtrain\u001b[0m  - \u001b[1m(\u001b[0mTrain\u001b[1m)\u001b[0m bce:  \u001b[1;36m0.3327\u001b[0m, mse:  \u001b[1;36m0.9502\u001b[0m,  acc: \u001b[1;36m88.729\u001b[0m %,   \u001b]8;id=27204;file:///n/home09/pren/3DGeno_tools/src/gt3d/modules/higashi/Higashi_wrapper.py\u001b\\\u001b[2mHigashi_wrapper.py\u001b[0m\u001b]8;;\u001b\\\u001b[2m:\u001b[0m\u001b]8;id=279759;file:///n/home09/pren/3DGeno_tools/src/gt3d/modules/higashi/Higashi_wrapper.py#1258\u001b\\\u001b[2m1258\u001b[0m\u001b]8;;\u001b\\\n",
       "\u001b[2;36m                    \u001b[0m         pearson: \u001b[1;36m0.648\u001b[0m, spearman: \u001b[1;36m0.563\u001b[0m, elapse: \u001b[1;36m88.930\u001b[0m s              \u001b[2m                       \u001b[0m\n"
      ]
     },
     "metadata": {},
     "output_type": "display_data"
    },
    {
     "data": {
      "application/vnd.jupyter.widget-view+json": {
       "model_id": "1f155a164f35474b93095d20a6477a9d",
       "version_major": 2,
       "version_minor": 0
      },
      "text/plain": [
       "Output()"
      ]
     },
     "metadata": {},
     "output_type": "display_data"
    },
    {
     "data": {
      "text/html": [
       "<pre style=\"white-space:pre;overflow-x:auto;line-height:normal;font-family:Menlo,'DejaVu Sans Mono',consolas,'Courier New',monospace\"></pre>\n"
      ],
      "text/plain": []
     },
     "metadata": {},
     "output_type": "display_data"
    },
    {
     "data": {
      "text/html": [
       "<pre style=\"white-space:pre;overflow-x:auto;line-height:normal;font-family:Menlo,'DejaVu Sans Mono',consolas,'Courier New',monospace\"><span style=\"color: #7fbfbf; text-decoration-color: #7fbfbf\">                    </span><span style=\"color: #000080; text-decoration-color: #000080\">INFO    </span> <span style=\"color: #0000ff; text-decoration-color: #0000ff\">train</span>  - <span style=\"font-weight: bold\">(</span>Valid<span style=\"font-weight: bold\">)</span> bce:  <span style=\"color: #008080; text-decoration-color: #008080; font-weight: bold\">0.3456</span>,  acc: <span style=\"color: #008080; text-decoration-color: #008080; font-weight: bold\">87.923</span> %,pearson: <span style=\"color: #008080; text-decoration-color: #008080; font-weight: bold\">0.627</span>,  <a href=\"file:///n/home09/pren/3DGeno_tools/src/gt3d/modules/higashi/Higashi_wrapper.py\" target=\"_blank\"><span style=\"color: #7f7f7f; text-decoration-color: #7f7f7f\">Higashi_wrapper.py</span></a><span style=\"color: #7f7f7f; text-decoration-color: #7f7f7f\">:</span><a href=\"file:///n/home09/pren/3DGeno_tools/src/gt3d/modules/higashi/Higashi_wrapper.py#1277\" target=\"_blank\"><span style=\"color: #7f7f7f; text-decoration-color: #7f7f7f\">1277</span></a>\n",
       "<span style=\"color: #7fbfbf; text-decoration-color: #7fbfbf\">                    </span>         spearman: <span style=\"color: #008080; text-decoration-color: #008080; font-weight: bold\">0.551</span>,elapse: <span style=\"color: #008080; text-decoration-color: #008080; font-weight: bold\">0.051</span> s                                <span style=\"color: #7f7f7f; text-decoration-color: #7f7f7f\">                       </span>\n",
       "</pre>\n"
      ],
      "text/plain": [
       "\u001b[2;36m                   \u001b[0m\u001b[2;36m \u001b[0m\u001b[34mINFO    \u001b[0m \u001b[94mtrain\u001b[0m  - \u001b[1m(\u001b[0mValid\u001b[1m)\u001b[0m bce:  \u001b[1;36m0.3456\u001b[0m,  acc: \u001b[1;36m87.923\u001b[0m %,pearson: \u001b[1;36m0.627\u001b[0m,  \u001b]8;id=457141;file:///n/home09/pren/3DGeno_tools/src/gt3d/modules/higashi/Higashi_wrapper.py\u001b\\\u001b[2mHigashi_wrapper.py\u001b[0m\u001b]8;;\u001b\\\u001b[2m:\u001b[0m\u001b]8;id=803856;file:///n/home09/pren/3DGeno_tools/src/gt3d/modules/higashi/Higashi_wrapper.py#1277\u001b\\\u001b[2m1277\u001b[0m\u001b]8;;\u001b\\\n",
       "\u001b[2;36m                    \u001b[0m         spearman: \u001b[1;36m0.551\u001b[0m,elapse: \u001b[1;36m0.051\u001b[0m s                                \u001b[2m                       \u001b[0m\n"
      ]
     },
     "metadata": {},
     "output_type": "display_data"
    },
    {
     "data": {
      "text/html": [
       "<pre style=\"white-space:pre;overflow-x:auto;line-height:normal;font-family:Menlo,'DejaVu Sans Mono',consolas,'Courier New',monospace\"><span style=\"color: #7fbfbf; text-decoration-color: #7fbfbf\">                    </span><span style=\"color: #000080; text-decoration-color: #000080\">INFO    </span> <span style=\"color: #0000ff; text-decoration-color: #0000ff\">train</span> update_rate: <span style=\"color: #008080; text-decoration-color: #008080; font-weight: bold\">0.005817</span>     <span style=\"color: #008080; text-decoration-color: #008080; font-weight: bold\">0.388081</span>                       <a href=\"file:///n/home09/pren/3DGeno_tools/src/gt3d/modules/higashi/Higashi_wrapper.py\" target=\"_blank\"><span style=\"color: #7f7f7f; text-decoration-color: #7f7f7f\">Higashi_wrapper.py</span></a><span style=\"color: #7f7f7f; text-decoration-color: #7f7f7f\">:</span><a href=\"file:///n/home09/pren/3DGeno_tools/src/gt3d/modules/higashi/Higashi_wrapper.py#1323\" target=\"_blank\"><span style=\"color: #7f7f7f; text-decoration-color: #7f7f7f\">1323</span></a>\n",
       "</pre>\n"
      ],
      "text/plain": [
       "\u001b[2;36m                   \u001b[0m\u001b[2;36m \u001b[0m\u001b[34mINFO    \u001b[0m \u001b[94mtrain\u001b[0m update_rate: \u001b[1;36m0.005817\u001b[0m     \u001b[1;36m0.388081\u001b[0m                       \u001b]8;id=902589;file:///n/home09/pren/3DGeno_tools/src/gt3d/modules/higashi/Higashi_wrapper.py\u001b\\\u001b[2mHigashi_wrapper.py\u001b[0m\u001b]8;;\u001b\\\u001b[2m:\u001b[0m\u001b]8;id=35047;file:///n/home09/pren/3DGeno_tools/src/gt3d/modules/higashi/Higashi_wrapper.py#1323\u001b\\\u001b[2m1323\u001b[0m\u001b]8;;\u001b\\\n"
      ]
     },
     "metadata": {},
     "output_type": "display_data"
    },
    {
     "data": {
      "text/html": [
       "<pre style=\"white-space:pre;overflow-x:auto;line-height:normal;font-family:Menlo,'DejaVu Sans Mono',consolas,'Courier New',monospace\"><span style=\"color: #7fbfbf; text-decoration-color: #7fbfbf\">                    </span><span style=\"color: #000080; text-decoration-color: #000080\">INFO    </span> <span style=\"color: #0000ff; text-decoration-color: #0000ff\">train</span> <span style=\"font-weight: bold\">[</span> Epoch <span style=\"color: #008080; text-decoration-color: #008080; font-weight: bold\">17</span> of <span style=\"color: #008080; text-decoration-color: #008080; font-weight: bold\">65</span> <span style=\"font-weight: bold\">]</span>                                       <a href=\"file:///n/home09/pren/3DGeno_tools/src/gt3d/modules/higashi/Higashi_wrapper.py\" target=\"_blank\"><span style=\"color: #7f7f7f; text-decoration-color: #7f7f7f\">Higashi_wrapper.py</span></a><span style=\"color: #7f7f7f; text-decoration-color: #7f7f7f\">:</span><a href=\"file:///n/home09/pren/3DGeno_tools/src/gt3d/modules/higashi/Higashi_wrapper.py#1245\" target=\"_blank\"><span style=\"color: #7f7f7f; text-decoration-color: #7f7f7f\">1245</span></a>\n",
       "</pre>\n"
      ],
      "text/plain": [
       "\u001b[2;36m                   \u001b[0m\u001b[2;36m \u001b[0m\u001b[34mINFO    \u001b[0m \u001b[94mtrain\u001b[0m \u001b[1m[\u001b[0m Epoch \u001b[1;36m17\u001b[0m of \u001b[1;36m65\u001b[0m \u001b[1m]\u001b[0m                                       \u001b]8;id=437777;file:///n/home09/pren/3DGeno_tools/src/gt3d/modules/higashi/Higashi_wrapper.py\u001b\\\u001b[2mHigashi_wrapper.py\u001b[0m\u001b]8;;\u001b\\\u001b[2m:\u001b[0m\u001b]8;id=263545;file:///n/home09/pren/3DGeno_tools/src/gt3d/modules/higashi/Higashi_wrapper.py#1245\u001b\\\u001b[2m1245\u001b[0m\u001b]8;;\u001b\\\n"
      ]
     },
     "metadata": {},
     "output_type": "display_data"
    },
    {
     "data": {
      "application/vnd.jupyter.widget-view+json": {
       "model_id": "be66e02527d8498b858d5f3a09177b18",
       "version_major": 2,
       "version_minor": 0
      },
      "text/plain": [
       "Output()"
      ]
     },
     "metadata": {},
     "output_type": "display_data"
    },
    {
     "data": {
      "text/html": [
       "<pre style=\"white-space:pre;overflow-x:auto;line-height:normal;font-family:Menlo,'DejaVu Sans Mono',consolas,'Courier New',monospace\"></pre>\n"
      ],
      "text/plain": []
     },
     "metadata": {},
     "output_type": "display_data"
    },
    {
     "data": {
      "text/html": [
       "<pre style=\"white-space:pre;overflow-x:auto;line-height:normal;font-family:Menlo,'DejaVu Sans Mono',consolas,'Courier New',monospace\"><span style=\"color: #7fbfbf; text-decoration-color: #7fbfbf\">[12/07/24 14:57:27] </span><span style=\"color: #000080; text-decoration-color: #000080\">INFO    </span> <span style=\"color: #0000ff; text-decoration-color: #0000ff\">train</span>  - <span style=\"font-weight: bold\">(</span>Train<span style=\"font-weight: bold\">)</span> bce:  <span style=\"color: #008080; text-decoration-color: #008080; font-weight: bold\">0.3299</span>, mse:  <span style=\"color: #008080; text-decoration-color: #008080; font-weight: bold\">2.6389</span>,  acc: <span style=\"color: #008080; text-decoration-color: #008080; font-weight: bold\">88.948</span> %,   <a href=\"file:///n/home09/pren/3DGeno_tools/src/gt3d/modules/higashi/Higashi_wrapper.py\" target=\"_blank\"><span style=\"color: #7f7f7f; text-decoration-color: #7f7f7f\">Higashi_wrapper.py</span></a><span style=\"color: #7f7f7f; text-decoration-color: #7f7f7f\">:</span><a href=\"file:///n/home09/pren/3DGeno_tools/src/gt3d/modules/higashi/Higashi_wrapper.py#1258\" target=\"_blank\"><span style=\"color: #7f7f7f; text-decoration-color: #7f7f7f\">1258</span></a>\n",
       "<span style=\"color: #7fbfbf; text-decoration-color: #7fbfbf\">                    </span>         pearson: <span style=\"color: #008080; text-decoration-color: #008080; font-weight: bold\">0.656</span>, spearman: <span style=\"color: #008080; text-decoration-color: #008080; font-weight: bold\">0.566</span>, elapse: <span style=\"color: #008080; text-decoration-color: #008080; font-weight: bold\">88.839</span> s              <span style=\"color: #7f7f7f; text-decoration-color: #7f7f7f\">                       </span>\n",
       "</pre>\n"
      ],
      "text/plain": [
       "\u001b[2;36m[12/07/24 14:57:27]\u001b[0m\u001b[2;36m \u001b[0m\u001b[34mINFO    \u001b[0m \u001b[94mtrain\u001b[0m  - \u001b[1m(\u001b[0mTrain\u001b[1m)\u001b[0m bce:  \u001b[1;36m0.3299\u001b[0m, mse:  \u001b[1;36m2.6389\u001b[0m,  acc: \u001b[1;36m88.948\u001b[0m %,   \u001b]8;id=1019;file:///n/home09/pren/3DGeno_tools/src/gt3d/modules/higashi/Higashi_wrapper.py\u001b\\\u001b[2mHigashi_wrapper.py\u001b[0m\u001b]8;;\u001b\\\u001b[2m:\u001b[0m\u001b]8;id=217243;file:///n/home09/pren/3DGeno_tools/src/gt3d/modules/higashi/Higashi_wrapper.py#1258\u001b\\\u001b[2m1258\u001b[0m\u001b]8;;\u001b\\\n",
       "\u001b[2;36m                    \u001b[0m         pearson: \u001b[1;36m0.656\u001b[0m, spearman: \u001b[1;36m0.566\u001b[0m, elapse: \u001b[1;36m88.839\u001b[0m s              \u001b[2m                       \u001b[0m\n"
      ]
     },
     "metadata": {},
     "output_type": "display_data"
    },
    {
     "data": {
      "application/vnd.jupyter.widget-view+json": {
       "model_id": "b70cbdb94970466c874d1c337b698290",
       "version_major": 2,
       "version_minor": 0
      },
      "text/plain": [
       "Output()"
      ]
     },
     "metadata": {},
     "output_type": "display_data"
    },
    {
     "data": {
      "text/html": [
       "<pre style=\"white-space:pre;overflow-x:auto;line-height:normal;font-family:Menlo,'DejaVu Sans Mono',consolas,'Courier New',monospace\"></pre>\n"
      ],
      "text/plain": []
     },
     "metadata": {},
     "output_type": "display_data"
    },
    {
     "data": {
      "text/html": [
       "<pre style=\"white-space:pre;overflow-x:auto;line-height:normal;font-family:Menlo,'DejaVu Sans Mono',consolas,'Courier New',monospace\"><span style=\"color: #7fbfbf; text-decoration-color: #7fbfbf\">                    </span><span style=\"color: #000080; text-decoration-color: #000080\">INFO    </span> <span style=\"color: #0000ff; text-decoration-color: #0000ff\">train</span>  - <span style=\"font-weight: bold\">(</span>Valid<span style=\"font-weight: bold\">)</span> bce:  <span style=\"color: #008080; text-decoration-color: #008080; font-weight: bold\">0.3575</span>,  acc: <span style=\"color: #008080; text-decoration-color: #008080; font-weight: bold\">87.826</span> %,pearson: <span style=\"color: #008080; text-decoration-color: #008080; font-weight: bold\">0.625</span>,  <a href=\"file:///n/home09/pren/3DGeno_tools/src/gt3d/modules/higashi/Higashi_wrapper.py\" target=\"_blank\"><span style=\"color: #7f7f7f; text-decoration-color: #7f7f7f\">Higashi_wrapper.py</span></a><span style=\"color: #7f7f7f; text-decoration-color: #7f7f7f\">:</span><a href=\"file:///n/home09/pren/3DGeno_tools/src/gt3d/modules/higashi/Higashi_wrapper.py#1277\" target=\"_blank\"><span style=\"color: #7f7f7f; text-decoration-color: #7f7f7f\">1277</span></a>\n",
       "<span style=\"color: #7fbfbf; text-decoration-color: #7fbfbf\">                    </span>         spearman: <span style=\"color: #008080; text-decoration-color: #008080; font-weight: bold\">0.550</span>,elapse: <span style=\"color: #008080; text-decoration-color: #008080; font-weight: bold\">0.052</span> s                                <span style=\"color: #7f7f7f; text-decoration-color: #7f7f7f\">                       </span>\n",
       "</pre>\n"
      ],
      "text/plain": [
       "\u001b[2;36m                   \u001b[0m\u001b[2;36m \u001b[0m\u001b[34mINFO    \u001b[0m \u001b[94mtrain\u001b[0m  - \u001b[1m(\u001b[0mValid\u001b[1m)\u001b[0m bce:  \u001b[1;36m0.3575\u001b[0m,  acc: \u001b[1;36m87.826\u001b[0m %,pearson: \u001b[1;36m0.625\u001b[0m,  \u001b]8;id=994865;file:///n/home09/pren/3DGeno_tools/src/gt3d/modules/higashi/Higashi_wrapper.py\u001b\\\u001b[2mHigashi_wrapper.py\u001b[0m\u001b]8;;\u001b\\\u001b[2m:\u001b[0m\u001b]8;id=645050;file:///n/home09/pren/3DGeno_tools/src/gt3d/modules/higashi/Higashi_wrapper.py#1277\u001b\\\u001b[2m1277\u001b[0m\u001b]8;;\u001b\\\n",
       "\u001b[2;36m                    \u001b[0m         spearman: \u001b[1;36m0.550\u001b[0m,elapse: \u001b[1;36m0.052\u001b[0m s                                \u001b[2m                       \u001b[0m\n"
      ]
     },
     "metadata": {},
     "output_type": "display_data"
    },
    {
     "data": {
      "text/html": [
       "<pre style=\"white-space:pre;overflow-x:auto;line-height:normal;font-family:Menlo,'DejaVu Sans Mono',consolas,'Courier New',monospace\"><span style=\"color: #7fbfbf; text-decoration-color: #7fbfbf\">                    </span><span style=\"color: #000080; text-decoration-color: #000080\">INFO    </span> <span style=\"color: #0000ff; text-decoration-color: #0000ff\">train</span> update_rate: <span style=\"color: #008080; text-decoration-color: #008080; font-weight: bold\">0.005768</span>     <span style=\"color: #008080; text-decoration-color: #008080; font-weight: bold\">0.231181</span>                       <a href=\"file:///n/home09/pren/3DGeno_tools/src/gt3d/modules/higashi/Higashi_wrapper.py\" target=\"_blank\"><span style=\"color: #7f7f7f; text-decoration-color: #7f7f7f\">Higashi_wrapper.py</span></a><span style=\"color: #7f7f7f; text-decoration-color: #7f7f7f\">:</span><a href=\"file:///n/home09/pren/3DGeno_tools/src/gt3d/modules/higashi/Higashi_wrapper.py#1323\" target=\"_blank\"><span style=\"color: #7f7f7f; text-decoration-color: #7f7f7f\">1323</span></a>\n",
       "</pre>\n"
      ],
      "text/plain": [
       "\u001b[2;36m                   \u001b[0m\u001b[2;36m \u001b[0m\u001b[34mINFO    \u001b[0m \u001b[94mtrain\u001b[0m update_rate: \u001b[1;36m0.005768\u001b[0m     \u001b[1;36m0.231181\u001b[0m                       \u001b]8;id=156094;file:///n/home09/pren/3DGeno_tools/src/gt3d/modules/higashi/Higashi_wrapper.py\u001b\\\u001b[2mHigashi_wrapper.py\u001b[0m\u001b]8;;\u001b\\\u001b[2m:\u001b[0m\u001b]8;id=779524;file:///n/home09/pren/3DGeno_tools/src/gt3d/modules/higashi/Higashi_wrapper.py#1323\u001b\\\u001b[2m1323\u001b[0m\u001b]8;;\u001b\\\n"
      ]
     },
     "metadata": {},
     "output_type": "display_data"
    },
    {
     "data": {
      "text/html": [
       "<pre style=\"white-space:pre;overflow-x:auto;line-height:normal;font-family:Menlo,'DejaVu Sans Mono',consolas,'Courier New',monospace\"><span style=\"color: #7fbfbf; text-decoration-color: #7fbfbf\">                    </span><span style=\"color: #000080; text-decoration-color: #000080\">INFO    </span> <span style=\"color: #0000ff; text-decoration-color: #0000ff\">train</span> <span style=\"font-weight: bold\">[</span> Epoch <span style=\"color: #008080; text-decoration-color: #008080; font-weight: bold\">18</span> of <span style=\"color: #008080; text-decoration-color: #008080; font-weight: bold\">65</span> <span style=\"font-weight: bold\">]</span>                                       <a href=\"file:///n/home09/pren/3DGeno_tools/src/gt3d/modules/higashi/Higashi_wrapper.py\" target=\"_blank\"><span style=\"color: #7f7f7f; text-decoration-color: #7f7f7f\">Higashi_wrapper.py</span></a><span style=\"color: #7f7f7f; text-decoration-color: #7f7f7f\">:</span><a href=\"file:///n/home09/pren/3DGeno_tools/src/gt3d/modules/higashi/Higashi_wrapper.py#1245\" target=\"_blank\"><span style=\"color: #7f7f7f; text-decoration-color: #7f7f7f\">1245</span></a>\n",
       "</pre>\n"
      ],
      "text/plain": [
       "\u001b[2;36m                   \u001b[0m\u001b[2;36m \u001b[0m\u001b[34mINFO    \u001b[0m \u001b[94mtrain\u001b[0m \u001b[1m[\u001b[0m Epoch \u001b[1;36m18\u001b[0m of \u001b[1;36m65\u001b[0m \u001b[1m]\u001b[0m                                       \u001b]8;id=373008;file:///n/home09/pren/3DGeno_tools/src/gt3d/modules/higashi/Higashi_wrapper.py\u001b\\\u001b[2mHigashi_wrapper.py\u001b[0m\u001b]8;;\u001b\\\u001b[2m:\u001b[0m\u001b]8;id=310888;file:///n/home09/pren/3DGeno_tools/src/gt3d/modules/higashi/Higashi_wrapper.py#1245\u001b\\\u001b[2m1245\u001b[0m\u001b]8;;\u001b\\\n"
      ]
     },
     "metadata": {},
     "output_type": "display_data"
    },
    {
     "data": {
      "application/vnd.jupyter.widget-view+json": {
       "model_id": "edf0591efd604ee38da487b49fa832ad",
       "version_major": 2,
       "version_minor": 0
      },
      "text/plain": [
       "Output()"
      ]
     },
     "metadata": {},
     "output_type": "display_data"
    },
    {
     "data": {
      "text/html": [
       "<pre style=\"white-space:pre;overflow-x:auto;line-height:normal;font-family:Menlo,'DejaVu Sans Mono',consolas,'Courier New',monospace\"></pre>\n"
      ],
      "text/plain": []
     },
     "metadata": {},
     "output_type": "display_data"
    },
    {
     "data": {
      "text/html": [
       "<pre style=\"white-space:pre;overflow-x:auto;line-height:normal;font-family:Menlo,'DejaVu Sans Mono',consolas,'Courier New',monospace\"><span style=\"color: #7fbfbf; text-decoration-color: #7fbfbf\">[12/07/24 14:58:56] </span><span style=\"color: #000080; text-decoration-color: #000080\">INFO    </span> <span style=\"color: #0000ff; text-decoration-color: #0000ff\">train</span>  - <span style=\"font-weight: bold\">(</span>Train<span style=\"font-weight: bold\">)</span> bce:  <span style=\"color: #008080; text-decoration-color: #008080; font-weight: bold\">0.3296</span>, mse:  <span style=\"color: #008080; text-decoration-color: #008080; font-weight: bold\">0.8991</span>,  acc: <span style=\"color: #008080; text-decoration-color: #008080; font-weight: bold\">88.961</span> %,   <a href=\"file:///n/home09/pren/3DGeno_tools/src/gt3d/modules/higashi/Higashi_wrapper.py\" target=\"_blank\"><span style=\"color: #7f7f7f; text-decoration-color: #7f7f7f\">Higashi_wrapper.py</span></a><span style=\"color: #7f7f7f; text-decoration-color: #7f7f7f\">:</span><a href=\"file:///n/home09/pren/3DGeno_tools/src/gt3d/modules/higashi/Higashi_wrapper.py#1258\" target=\"_blank\"><span style=\"color: #7f7f7f; text-decoration-color: #7f7f7f\">1258</span></a>\n",
       "<span style=\"color: #7fbfbf; text-decoration-color: #7fbfbf\">                    </span>         pearson: <span style=\"color: #008080; text-decoration-color: #008080; font-weight: bold\">0.657</span>, spearman: <span style=\"color: #008080; text-decoration-color: #008080; font-weight: bold\">0.566</span>, elapse: <span style=\"color: #008080; text-decoration-color: #008080; font-weight: bold\">88.606</span> s              <span style=\"color: #7f7f7f; text-decoration-color: #7f7f7f\">                       </span>\n",
       "</pre>\n"
      ],
      "text/plain": [
       "\u001b[2;36m[12/07/24 14:58:56]\u001b[0m\u001b[2;36m \u001b[0m\u001b[34mINFO    \u001b[0m \u001b[94mtrain\u001b[0m  - \u001b[1m(\u001b[0mTrain\u001b[1m)\u001b[0m bce:  \u001b[1;36m0.3296\u001b[0m, mse:  \u001b[1;36m0.8991\u001b[0m,  acc: \u001b[1;36m88.961\u001b[0m %,   \u001b]8;id=231430;file:///n/home09/pren/3DGeno_tools/src/gt3d/modules/higashi/Higashi_wrapper.py\u001b\\\u001b[2mHigashi_wrapper.py\u001b[0m\u001b]8;;\u001b\\\u001b[2m:\u001b[0m\u001b]8;id=259578;file:///n/home09/pren/3DGeno_tools/src/gt3d/modules/higashi/Higashi_wrapper.py#1258\u001b\\\u001b[2m1258\u001b[0m\u001b]8;;\u001b\\\n",
       "\u001b[2;36m                    \u001b[0m         pearson: \u001b[1;36m0.657\u001b[0m, spearman: \u001b[1;36m0.566\u001b[0m, elapse: \u001b[1;36m88.606\u001b[0m s              \u001b[2m                       \u001b[0m\n"
      ]
     },
     "metadata": {},
     "output_type": "display_data"
    },
    {
     "data": {
      "application/vnd.jupyter.widget-view+json": {
       "model_id": "ba6f9c32f569414abcc2b31c40befd4b",
       "version_major": 2,
       "version_minor": 0
      },
      "text/plain": [
       "Output()"
      ]
     },
     "metadata": {},
     "output_type": "display_data"
    },
    {
     "data": {
      "text/html": [
       "<pre style=\"white-space:pre;overflow-x:auto;line-height:normal;font-family:Menlo,'DejaVu Sans Mono',consolas,'Courier New',monospace\"></pre>\n"
      ],
      "text/plain": []
     },
     "metadata": {},
     "output_type": "display_data"
    },
    {
     "data": {
      "text/html": [
       "<pre style=\"white-space:pre;overflow-x:auto;line-height:normal;font-family:Menlo,'DejaVu Sans Mono',consolas,'Courier New',monospace\"><span style=\"color: #7fbfbf; text-decoration-color: #7fbfbf\">                    </span><span style=\"color: #000080; text-decoration-color: #000080\">INFO    </span> <span style=\"color: #0000ff; text-decoration-color: #0000ff\">train</span>  - <span style=\"font-weight: bold\">(</span>Valid<span style=\"font-weight: bold\">)</span> bce:  <span style=\"color: #008080; text-decoration-color: #008080; font-weight: bold\">0.3427</span>,  acc: <span style=\"color: #008080; text-decoration-color: #008080; font-weight: bold\">88.587</span> %,pearson: <span style=\"color: #008080; text-decoration-color: #008080; font-weight: bold\">0.635</span>,  <a href=\"file:///n/home09/pren/3DGeno_tools/src/gt3d/modules/higashi/Higashi_wrapper.py\" target=\"_blank\"><span style=\"color: #7f7f7f; text-decoration-color: #7f7f7f\">Higashi_wrapper.py</span></a><span style=\"color: #7f7f7f; text-decoration-color: #7f7f7f\">:</span><a href=\"file:///n/home09/pren/3DGeno_tools/src/gt3d/modules/higashi/Higashi_wrapper.py#1277\" target=\"_blank\"><span style=\"color: #7f7f7f; text-decoration-color: #7f7f7f\">1277</span></a>\n",
       "<span style=\"color: #7fbfbf; text-decoration-color: #7fbfbf\">                    </span>         spearman: <span style=\"color: #008080; text-decoration-color: #008080; font-weight: bold\">0.557</span>,elapse: <span style=\"color: #008080; text-decoration-color: #008080; font-weight: bold\">0.051</span> s                                <span style=\"color: #7f7f7f; text-decoration-color: #7f7f7f\">                       </span>\n",
       "</pre>\n"
      ],
      "text/plain": [
       "\u001b[2;36m                   \u001b[0m\u001b[2;36m \u001b[0m\u001b[34mINFO    \u001b[0m \u001b[94mtrain\u001b[0m  - \u001b[1m(\u001b[0mValid\u001b[1m)\u001b[0m bce:  \u001b[1;36m0.3427\u001b[0m,  acc: \u001b[1;36m88.587\u001b[0m %,pearson: \u001b[1;36m0.635\u001b[0m,  \u001b]8;id=881105;file:///n/home09/pren/3DGeno_tools/src/gt3d/modules/higashi/Higashi_wrapper.py\u001b\\\u001b[2mHigashi_wrapper.py\u001b[0m\u001b]8;;\u001b\\\u001b[2m:\u001b[0m\u001b]8;id=481347;file:///n/home09/pren/3DGeno_tools/src/gt3d/modules/higashi/Higashi_wrapper.py#1277\u001b\\\u001b[2m1277\u001b[0m\u001b]8;;\u001b\\\n",
       "\u001b[2;36m                    \u001b[0m         spearman: \u001b[1;36m0.557\u001b[0m,elapse: \u001b[1;36m0.051\u001b[0m s                                \u001b[2m                       \u001b[0m\n"
      ]
     },
     "metadata": {},
     "output_type": "display_data"
    },
    {
     "data": {
      "text/html": [
       "<pre style=\"white-space:pre;overflow-x:auto;line-height:normal;font-family:Menlo,'DejaVu Sans Mono',consolas,'Courier New',monospace\"><span style=\"color: #7fbfbf; text-decoration-color: #7fbfbf\">                    </span><span style=\"color: #000080; text-decoration-color: #000080\">INFO    </span> <span style=\"color: #0000ff; text-decoration-color: #0000ff\">train</span> update_rate: <span style=\"color: #008080; text-decoration-color: #008080; font-weight: bold\">0.005400</span>     <span style=\"color: #008080; text-decoration-color: #008080; font-weight: bold\">0.153275</span>                       <a href=\"file:///n/home09/pren/3DGeno_tools/src/gt3d/modules/higashi/Higashi_wrapper.py\" target=\"_blank\"><span style=\"color: #7f7f7f; text-decoration-color: #7f7f7f\">Higashi_wrapper.py</span></a><span style=\"color: #7f7f7f; text-decoration-color: #7f7f7f\">:</span><a href=\"file:///n/home09/pren/3DGeno_tools/src/gt3d/modules/higashi/Higashi_wrapper.py#1323\" target=\"_blank\"><span style=\"color: #7f7f7f; text-decoration-color: #7f7f7f\">1323</span></a>\n",
       "</pre>\n"
      ],
      "text/plain": [
       "\u001b[2;36m                   \u001b[0m\u001b[2;36m \u001b[0m\u001b[34mINFO    \u001b[0m \u001b[94mtrain\u001b[0m update_rate: \u001b[1;36m0.005400\u001b[0m     \u001b[1;36m0.153275\u001b[0m                       \u001b]8;id=738402;file:///n/home09/pren/3DGeno_tools/src/gt3d/modules/higashi/Higashi_wrapper.py\u001b\\\u001b[2mHigashi_wrapper.py\u001b[0m\u001b]8;;\u001b\\\u001b[2m:\u001b[0m\u001b]8;id=157398;file:///n/home09/pren/3DGeno_tools/src/gt3d/modules/higashi/Higashi_wrapper.py#1323\u001b\\\u001b[2m1323\u001b[0m\u001b]8;;\u001b\\\n"
      ]
     },
     "metadata": {},
     "output_type": "display_data"
    },
    {
     "data": {
      "text/html": [
       "<pre style=\"white-space:pre;overflow-x:auto;line-height:normal;font-family:Menlo,'DejaVu Sans Mono',consolas,'Courier New',monospace\"><span style=\"color: #7fbfbf; text-decoration-color: #7fbfbf\">                    </span><span style=\"color: #000080; text-decoration-color: #000080\">INFO    </span> <span style=\"color: #0000ff; text-decoration-color: #0000ff\">train</span> <span style=\"font-weight: bold\">[</span> Epoch <span style=\"color: #008080; text-decoration-color: #008080; font-weight: bold\">19</span> of <span style=\"color: #008080; text-decoration-color: #008080; font-weight: bold\">65</span> <span style=\"font-weight: bold\">]</span>                                       <a href=\"file:///n/home09/pren/3DGeno_tools/src/gt3d/modules/higashi/Higashi_wrapper.py\" target=\"_blank\"><span style=\"color: #7f7f7f; text-decoration-color: #7f7f7f\">Higashi_wrapper.py</span></a><span style=\"color: #7f7f7f; text-decoration-color: #7f7f7f\">:</span><a href=\"file:///n/home09/pren/3DGeno_tools/src/gt3d/modules/higashi/Higashi_wrapper.py#1245\" target=\"_blank\"><span style=\"color: #7f7f7f; text-decoration-color: #7f7f7f\">1245</span></a>\n",
       "</pre>\n"
      ],
      "text/plain": [
       "\u001b[2;36m                   \u001b[0m\u001b[2;36m \u001b[0m\u001b[34mINFO    \u001b[0m \u001b[94mtrain\u001b[0m \u001b[1m[\u001b[0m Epoch \u001b[1;36m19\u001b[0m of \u001b[1;36m65\u001b[0m \u001b[1m]\u001b[0m                                       \u001b]8;id=348705;file:///n/home09/pren/3DGeno_tools/src/gt3d/modules/higashi/Higashi_wrapper.py\u001b\\\u001b[2mHigashi_wrapper.py\u001b[0m\u001b]8;;\u001b\\\u001b[2m:\u001b[0m\u001b]8;id=445475;file:///n/home09/pren/3DGeno_tools/src/gt3d/modules/higashi/Higashi_wrapper.py#1245\u001b\\\u001b[2m1245\u001b[0m\u001b]8;;\u001b\\\n"
      ]
     },
     "metadata": {},
     "output_type": "display_data"
    },
    {
     "data": {
      "application/vnd.jupyter.widget-view+json": {
       "model_id": "e3f5de1e43d4433eb844af1688b6c4ce",
       "version_major": 2,
       "version_minor": 0
      },
      "text/plain": [
       "Output()"
      ]
     },
     "metadata": {},
     "output_type": "display_data"
    },
    {
     "data": {
      "text/html": [
       "<pre style=\"white-space:pre;overflow-x:auto;line-height:normal;font-family:Menlo,'DejaVu Sans Mono',consolas,'Courier New',monospace\"></pre>\n"
      ],
      "text/plain": []
     },
     "metadata": {},
     "output_type": "display_data"
    },
    {
     "data": {
      "text/html": [
       "<pre style=\"white-space:pre;overflow-x:auto;line-height:normal;font-family:Menlo,'DejaVu Sans Mono',consolas,'Courier New',monospace\"><span style=\"color: #7fbfbf; text-decoration-color: #7fbfbf\">[12/07/24 15:00:25] </span><span style=\"color: #000080; text-decoration-color: #000080\">INFO    </span> <span style=\"color: #0000ff; text-decoration-color: #0000ff\">train</span>  - <span style=\"font-weight: bold\">(</span>Train<span style=\"font-weight: bold\">)</span> bce:  <span style=\"color: #008080; text-decoration-color: #008080; font-weight: bold\">0.3275</span>, mse:  <span style=\"color: #008080; text-decoration-color: #008080; font-weight: bold\">1.0972</span>,  acc: <span style=\"color: #008080; text-decoration-color: #008080; font-weight: bold\">89.071</span> %,   <a href=\"file:///n/home09/pren/3DGeno_tools/src/gt3d/modules/higashi/Higashi_wrapper.py\" target=\"_blank\"><span style=\"color: #7f7f7f; text-decoration-color: #7f7f7f\">Higashi_wrapper.py</span></a><span style=\"color: #7f7f7f; text-decoration-color: #7f7f7f\">:</span><a href=\"file:///n/home09/pren/3DGeno_tools/src/gt3d/modules/higashi/Higashi_wrapper.py#1258\" target=\"_blank\"><span style=\"color: #7f7f7f; text-decoration-color: #7f7f7f\">1258</span></a>\n",
       "<span style=\"color: #7fbfbf; text-decoration-color: #7fbfbf\">                    </span>         pearson: <span style=\"color: #008080; text-decoration-color: #008080; font-weight: bold\">0.659</span>, spearman: <span style=\"color: #008080; text-decoration-color: #008080; font-weight: bold\">0.568</span>, elapse: <span style=\"color: #008080; text-decoration-color: #008080; font-weight: bold\">88.795</span> s              <span style=\"color: #7f7f7f; text-decoration-color: #7f7f7f\">                       </span>\n",
       "</pre>\n"
      ],
      "text/plain": [
       "\u001b[2;36m[12/07/24 15:00:25]\u001b[0m\u001b[2;36m \u001b[0m\u001b[34mINFO    \u001b[0m \u001b[94mtrain\u001b[0m  - \u001b[1m(\u001b[0mTrain\u001b[1m)\u001b[0m bce:  \u001b[1;36m0.3275\u001b[0m, mse:  \u001b[1;36m1.0972\u001b[0m,  acc: \u001b[1;36m89.071\u001b[0m %,   \u001b]8;id=116539;file:///n/home09/pren/3DGeno_tools/src/gt3d/modules/higashi/Higashi_wrapper.py\u001b\\\u001b[2mHigashi_wrapper.py\u001b[0m\u001b]8;;\u001b\\\u001b[2m:\u001b[0m\u001b]8;id=735349;file:///n/home09/pren/3DGeno_tools/src/gt3d/modules/higashi/Higashi_wrapper.py#1258\u001b\\\u001b[2m1258\u001b[0m\u001b]8;;\u001b\\\n",
       "\u001b[2;36m                    \u001b[0m         pearson: \u001b[1;36m0.659\u001b[0m, spearman: \u001b[1;36m0.568\u001b[0m, elapse: \u001b[1;36m88.795\u001b[0m s              \u001b[2m                       \u001b[0m\n"
      ]
     },
     "metadata": {},
     "output_type": "display_data"
    },
    {
     "data": {
      "application/vnd.jupyter.widget-view+json": {
       "model_id": "9534b5c7670742a9969b4f09cb2979b1",
       "version_major": 2,
       "version_minor": 0
      },
      "text/plain": [
       "Output()"
      ]
     },
     "metadata": {},
     "output_type": "display_data"
    },
    {
     "data": {
      "text/html": [
       "<pre style=\"white-space:pre;overflow-x:auto;line-height:normal;font-family:Menlo,'DejaVu Sans Mono',consolas,'Courier New',monospace\"></pre>\n"
      ],
      "text/plain": []
     },
     "metadata": {},
     "output_type": "display_data"
    },
    {
     "data": {
      "text/html": [
       "<pre style=\"white-space:pre;overflow-x:auto;line-height:normal;font-family:Menlo,'DejaVu Sans Mono',consolas,'Courier New',monospace\"><span style=\"color: #7fbfbf; text-decoration-color: #7fbfbf\">                    </span><span style=\"color: #000080; text-decoration-color: #000080\">INFO    </span> <span style=\"color: #0000ff; text-decoration-color: #0000ff\">train</span>  - <span style=\"font-weight: bold\">(</span>Valid<span style=\"font-weight: bold\">)</span> bce:  <span style=\"color: #008080; text-decoration-color: #008080; font-weight: bold\">0.3525</span>,  acc: <span style=\"color: #008080; text-decoration-color: #008080; font-weight: bold\">88.262</span> %,pearson: <span style=\"color: #008080; text-decoration-color: #008080; font-weight: bold\">0.617</span>,  <a href=\"file:///n/home09/pren/3DGeno_tools/src/gt3d/modules/higashi/Higashi_wrapper.py\" target=\"_blank\"><span style=\"color: #7f7f7f; text-decoration-color: #7f7f7f\">Higashi_wrapper.py</span></a><span style=\"color: #7f7f7f; text-decoration-color: #7f7f7f\">:</span><a href=\"file:///n/home09/pren/3DGeno_tools/src/gt3d/modules/higashi/Higashi_wrapper.py#1277\" target=\"_blank\"><span style=\"color: #7f7f7f; text-decoration-color: #7f7f7f\">1277</span></a>\n",
       "<span style=\"color: #7fbfbf; text-decoration-color: #7fbfbf\">                    </span>         spearman: <span style=\"color: #008080; text-decoration-color: #008080; font-weight: bold\">0.549</span>,elapse: <span style=\"color: #008080; text-decoration-color: #008080; font-weight: bold\">0.051</span> s                                <span style=\"color: #7f7f7f; text-decoration-color: #7f7f7f\">                       </span>\n",
       "</pre>\n"
      ],
      "text/plain": [
       "\u001b[2;36m                   \u001b[0m\u001b[2;36m \u001b[0m\u001b[34mINFO    \u001b[0m \u001b[94mtrain\u001b[0m  - \u001b[1m(\u001b[0mValid\u001b[1m)\u001b[0m bce:  \u001b[1;36m0.3525\u001b[0m,  acc: \u001b[1;36m88.262\u001b[0m %,pearson: \u001b[1;36m0.617\u001b[0m,  \u001b]8;id=455686;file:///n/home09/pren/3DGeno_tools/src/gt3d/modules/higashi/Higashi_wrapper.py\u001b\\\u001b[2mHigashi_wrapper.py\u001b[0m\u001b]8;;\u001b\\\u001b[2m:\u001b[0m\u001b]8;id=879958;file:///n/home09/pren/3DGeno_tools/src/gt3d/modules/higashi/Higashi_wrapper.py#1277\u001b\\\u001b[2m1277\u001b[0m\u001b]8;;\u001b\\\n",
       "\u001b[2;36m                    \u001b[0m         spearman: \u001b[1;36m0.549\u001b[0m,elapse: \u001b[1;36m0.051\u001b[0m s                                \u001b[2m                       \u001b[0m\n"
      ]
     },
     "metadata": {},
     "output_type": "display_data"
    },
    {
     "data": {
      "text/html": [
       "<pre style=\"white-space:pre;overflow-x:auto;line-height:normal;font-family:Menlo,'DejaVu Sans Mono',consolas,'Courier New',monospace\"><span style=\"color: #7fbfbf; text-decoration-color: #7fbfbf\">                    </span><span style=\"color: #000080; text-decoration-color: #000080\">INFO    </span> <span style=\"color: #0000ff; text-decoration-color: #0000ff\">train</span> update_rate: <span style=\"color: #008080; text-decoration-color: #008080; font-weight: bold\">0.007046</span>     <span style=\"color: #008080; text-decoration-color: #008080; font-weight: bold\">0.248586</span>                       <a href=\"file:///n/home09/pren/3DGeno_tools/src/gt3d/modules/higashi/Higashi_wrapper.py\" target=\"_blank\"><span style=\"color: #7f7f7f; text-decoration-color: #7f7f7f\">Higashi_wrapper.py</span></a><span style=\"color: #7f7f7f; text-decoration-color: #7f7f7f\">:</span><a href=\"file:///n/home09/pren/3DGeno_tools/src/gt3d/modules/higashi/Higashi_wrapper.py#1323\" target=\"_blank\"><span style=\"color: #7f7f7f; text-decoration-color: #7f7f7f\">1323</span></a>\n",
       "</pre>\n"
      ],
      "text/plain": [
       "\u001b[2;36m                   \u001b[0m\u001b[2;36m \u001b[0m\u001b[34mINFO    \u001b[0m \u001b[94mtrain\u001b[0m update_rate: \u001b[1;36m0.007046\u001b[0m     \u001b[1;36m0.248586\u001b[0m                       \u001b]8;id=907726;file:///n/home09/pren/3DGeno_tools/src/gt3d/modules/higashi/Higashi_wrapper.py\u001b\\\u001b[2mHigashi_wrapper.py\u001b[0m\u001b]8;;\u001b\\\u001b[2m:\u001b[0m\u001b]8;id=189247;file:///n/home09/pren/3DGeno_tools/src/gt3d/modules/higashi/Higashi_wrapper.py#1323\u001b\\\u001b[2m1323\u001b[0m\u001b]8;;\u001b\\\n"
      ]
     },
     "metadata": {},
     "output_type": "display_data"
    },
    {
     "data": {
      "text/html": [
       "<pre style=\"white-space:pre;overflow-x:auto;line-height:normal;font-family:Menlo,'DejaVu Sans Mono',consolas,'Courier New',monospace\"><span style=\"color: #7fbfbf; text-decoration-color: #7fbfbf\">                    </span><span style=\"color: #000080; text-decoration-color: #000080\">INFO    </span> <span style=\"color: #0000ff; text-decoration-color: #0000ff\">train</span> <span style=\"font-weight: bold\">[</span> Epoch <span style=\"color: #008080; text-decoration-color: #008080; font-weight: bold\">20</span> of <span style=\"color: #008080; text-decoration-color: #008080; font-weight: bold\">65</span> <span style=\"font-weight: bold\">]</span>                                       <a href=\"file:///n/home09/pren/3DGeno_tools/src/gt3d/modules/higashi/Higashi_wrapper.py\" target=\"_blank\"><span style=\"color: #7f7f7f; text-decoration-color: #7f7f7f\">Higashi_wrapper.py</span></a><span style=\"color: #7f7f7f; text-decoration-color: #7f7f7f\">:</span><a href=\"file:///n/home09/pren/3DGeno_tools/src/gt3d/modules/higashi/Higashi_wrapper.py#1245\" target=\"_blank\"><span style=\"color: #7f7f7f; text-decoration-color: #7f7f7f\">1245</span></a>\n",
       "</pre>\n"
      ],
      "text/plain": [
       "\u001b[2;36m                   \u001b[0m\u001b[2;36m \u001b[0m\u001b[34mINFO    \u001b[0m \u001b[94mtrain\u001b[0m \u001b[1m[\u001b[0m Epoch \u001b[1;36m20\u001b[0m of \u001b[1;36m65\u001b[0m \u001b[1m]\u001b[0m                                       \u001b]8;id=756685;file:///n/home09/pren/3DGeno_tools/src/gt3d/modules/higashi/Higashi_wrapper.py\u001b\\\u001b[2mHigashi_wrapper.py\u001b[0m\u001b]8;;\u001b\\\u001b[2m:\u001b[0m\u001b]8;id=768016;file:///n/home09/pren/3DGeno_tools/src/gt3d/modules/higashi/Higashi_wrapper.py#1245\u001b\\\u001b[2m1245\u001b[0m\u001b]8;;\u001b\\\n"
      ]
     },
     "metadata": {},
     "output_type": "display_data"
    },
    {
     "data": {
      "application/vnd.jupyter.widget-view+json": {
       "model_id": "8f8efcb1f0484fc08f172cc7eb77cc13",
       "version_major": 2,
       "version_minor": 0
      },
      "text/plain": [
       "Output()"
      ]
     },
     "metadata": {},
     "output_type": "display_data"
    },
    {
     "data": {
      "text/html": [
       "<pre style=\"white-space:pre;overflow-x:auto;line-height:normal;font-family:Menlo,'DejaVu Sans Mono',consolas,'Courier New',monospace\"></pre>\n"
      ],
      "text/plain": []
     },
     "metadata": {},
     "output_type": "display_data"
    },
    {
     "data": {
      "text/html": [
       "<pre style=\"white-space:pre;overflow-x:auto;line-height:normal;font-family:Menlo,'DejaVu Sans Mono',consolas,'Courier New',monospace\"><span style=\"color: #7fbfbf; text-decoration-color: #7fbfbf\">[12/07/24 15:01:54] </span><span style=\"color: #000080; text-decoration-color: #000080\">INFO    </span> <span style=\"color: #0000ff; text-decoration-color: #0000ff\">train</span>  - <span style=\"font-weight: bold\">(</span>Train<span style=\"font-weight: bold\">)</span> bce:  <span style=\"color: #008080; text-decoration-color: #008080; font-weight: bold\">0.3266</span>, mse:  <span style=\"color: #008080; text-decoration-color: #008080; font-weight: bold\">1.1983</span>,  acc: <span style=\"color: #008080; text-decoration-color: #008080; font-weight: bold\">89.168</span> %,   <a href=\"file:///n/home09/pren/3DGeno_tools/src/gt3d/modules/higashi/Higashi_wrapper.py\" target=\"_blank\"><span style=\"color: #7f7f7f; text-decoration-color: #7f7f7f\">Higashi_wrapper.py</span></a><span style=\"color: #7f7f7f; text-decoration-color: #7f7f7f\">:</span><a href=\"file:///n/home09/pren/3DGeno_tools/src/gt3d/modules/higashi/Higashi_wrapper.py#1258\" target=\"_blank\"><span style=\"color: #7f7f7f; text-decoration-color: #7f7f7f\">1258</span></a>\n",
       "<span style=\"color: #7fbfbf; text-decoration-color: #7fbfbf\">                    </span>         pearson: <span style=\"color: #008080; text-decoration-color: #008080; font-weight: bold\">0.663</span>, spearman: <span style=\"color: #008080; text-decoration-color: #008080; font-weight: bold\">0.569</span>, elapse: <span style=\"color: #008080; text-decoration-color: #008080; font-weight: bold\">88.921</span> s              <span style=\"color: #7f7f7f; text-decoration-color: #7f7f7f\">                       </span>\n",
       "</pre>\n"
      ],
      "text/plain": [
       "\u001b[2;36m[12/07/24 15:01:54]\u001b[0m\u001b[2;36m \u001b[0m\u001b[34mINFO    \u001b[0m \u001b[94mtrain\u001b[0m  - \u001b[1m(\u001b[0mTrain\u001b[1m)\u001b[0m bce:  \u001b[1;36m0.3266\u001b[0m, mse:  \u001b[1;36m1.1983\u001b[0m,  acc: \u001b[1;36m89.168\u001b[0m %,   \u001b]8;id=246551;file:///n/home09/pren/3DGeno_tools/src/gt3d/modules/higashi/Higashi_wrapper.py\u001b\\\u001b[2mHigashi_wrapper.py\u001b[0m\u001b]8;;\u001b\\\u001b[2m:\u001b[0m\u001b]8;id=371471;file:///n/home09/pren/3DGeno_tools/src/gt3d/modules/higashi/Higashi_wrapper.py#1258\u001b\\\u001b[2m1258\u001b[0m\u001b]8;;\u001b\\\n",
       "\u001b[2;36m                    \u001b[0m         pearson: \u001b[1;36m0.663\u001b[0m, spearman: \u001b[1;36m0.569\u001b[0m, elapse: \u001b[1;36m88.921\u001b[0m s              \u001b[2m                       \u001b[0m\n"
      ]
     },
     "metadata": {},
     "output_type": "display_data"
    },
    {
     "data": {
      "application/vnd.jupyter.widget-view+json": {
       "model_id": "7ded912b713e483ca8bd944581258d55",
       "version_major": 2,
       "version_minor": 0
      },
      "text/plain": [
       "Output()"
      ]
     },
     "metadata": {},
     "output_type": "display_data"
    },
    {
     "data": {
      "text/html": [
       "<pre style=\"white-space:pre;overflow-x:auto;line-height:normal;font-family:Menlo,'DejaVu Sans Mono',consolas,'Courier New',monospace\"></pre>\n"
      ],
      "text/plain": []
     },
     "metadata": {},
     "output_type": "display_data"
    },
    {
     "data": {
      "text/html": [
       "<pre style=\"white-space:pre;overflow-x:auto;line-height:normal;font-family:Menlo,'DejaVu Sans Mono',consolas,'Courier New',monospace\"><span style=\"color: #7fbfbf; text-decoration-color: #7fbfbf\">                    </span><span style=\"color: #000080; text-decoration-color: #000080\">INFO    </span> <span style=\"color: #0000ff; text-decoration-color: #0000ff\">train</span>  - <span style=\"font-weight: bold\">(</span>Valid<span style=\"font-weight: bold\">)</span> bce:  <span style=\"color: #008080; text-decoration-color: #008080; font-weight: bold\">0.3605</span>,  acc: <span style=\"color: #008080; text-decoration-color: #008080; font-weight: bold\">88.132</span> %,pearson: <span style=\"color: #008080; text-decoration-color: #008080; font-weight: bold\">0.611</span>,  <a href=\"file:///n/home09/pren/3DGeno_tools/src/gt3d/modules/higashi/Higashi_wrapper.py\" target=\"_blank\"><span style=\"color: #7f7f7f; text-decoration-color: #7f7f7f\">Higashi_wrapper.py</span></a><span style=\"color: #7f7f7f; text-decoration-color: #7f7f7f\">:</span><a href=\"file:///n/home09/pren/3DGeno_tools/src/gt3d/modules/higashi/Higashi_wrapper.py#1277\" target=\"_blank\"><span style=\"color: #7f7f7f; text-decoration-color: #7f7f7f\">1277</span></a>\n",
       "<span style=\"color: #7fbfbf; text-decoration-color: #7fbfbf\">                    </span>         spearman: <span style=\"color: #008080; text-decoration-color: #008080; font-weight: bold\">0.549</span>,elapse: <span style=\"color: #008080; text-decoration-color: #008080; font-weight: bold\">0.052</span> s                                <span style=\"color: #7f7f7f; text-decoration-color: #7f7f7f\">                       </span>\n",
       "</pre>\n"
      ],
      "text/plain": [
       "\u001b[2;36m                   \u001b[0m\u001b[2;36m \u001b[0m\u001b[34mINFO    \u001b[0m \u001b[94mtrain\u001b[0m  - \u001b[1m(\u001b[0mValid\u001b[1m)\u001b[0m bce:  \u001b[1;36m0.3605\u001b[0m,  acc: \u001b[1;36m88.132\u001b[0m %,pearson: \u001b[1;36m0.611\u001b[0m,  \u001b]8;id=780414;file:///n/home09/pren/3DGeno_tools/src/gt3d/modules/higashi/Higashi_wrapper.py\u001b\\\u001b[2mHigashi_wrapper.py\u001b[0m\u001b]8;;\u001b\\\u001b[2m:\u001b[0m\u001b]8;id=260893;file:///n/home09/pren/3DGeno_tools/src/gt3d/modules/higashi/Higashi_wrapper.py#1277\u001b\\\u001b[2m1277\u001b[0m\u001b]8;;\u001b\\\n",
       "\u001b[2;36m                    \u001b[0m         spearman: \u001b[1;36m0.549\u001b[0m,elapse: \u001b[1;36m0.052\u001b[0m s                                \u001b[2m                       \u001b[0m\n"
      ]
     },
     "metadata": {},
     "output_type": "display_data"
    },
    {
     "data": {
      "text/html": [
       "<pre style=\"white-space:pre;overflow-x:auto;line-height:normal;font-family:Menlo,'DejaVu Sans Mono',consolas,'Courier New',monospace\"><span style=\"color: #7fbfbf; text-decoration-color: #7fbfbf\">                    </span><span style=\"color: #000080; text-decoration-color: #000080\">INFO    </span> <span style=\"color: #0000ff; text-decoration-color: #0000ff\">train</span> update_rate: <span style=\"color: #008080; text-decoration-color: #008080; font-weight: bold\">0.005798</span>     <span style=\"color: #008080; text-decoration-color: #008080; font-weight: bold\">0.243915</span>                       <a href=\"file:///n/home09/pren/3DGeno_tools/src/gt3d/modules/higashi/Higashi_wrapper.py\" target=\"_blank\"><span style=\"color: #7f7f7f; text-decoration-color: #7f7f7f\">Higashi_wrapper.py</span></a><span style=\"color: #7f7f7f; text-decoration-color: #7f7f7f\">:</span><a href=\"file:///n/home09/pren/3DGeno_tools/src/gt3d/modules/higashi/Higashi_wrapper.py#1323\" target=\"_blank\"><span style=\"color: #7f7f7f; text-decoration-color: #7f7f7f\">1323</span></a>\n",
       "</pre>\n"
      ],
      "text/plain": [
       "\u001b[2;36m                   \u001b[0m\u001b[2;36m \u001b[0m\u001b[34mINFO    \u001b[0m \u001b[94mtrain\u001b[0m update_rate: \u001b[1;36m0.005798\u001b[0m     \u001b[1;36m0.243915\u001b[0m                       \u001b]8;id=273271;file:///n/home09/pren/3DGeno_tools/src/gt3d/modules/higashi/Higashi_wrapper.py\u001b\\\u001b[2mHigashi_wrapper.py\u001b[0m\u001b]8;;\u001b\\\u001b[2m:\u001b[0m\u001b]8;id=397302;file:///n/home09/pren/3DGeno_tools/src/gt3d/modules/higashi/Higashi_wrapper.py#1323\u001b\\\u001b[2m1323\u001b[0m\u001b]8;;\u001b\\\n"
      ]
     },
     "metadata": {},
     "output_type": "display_data"
    },
    {
     "data": {
      "text/html": [
       "<pre style=\"white-space:pre;overflow-x:auto;line-height:normal;font-family:Menlo,'DejaVu Sans Mono',consolas,'Courier New',monospace\"><span style=\"color: #7fbfbf; text-decoration-color: #7fbfbf\">                    </span><span style=\"color: #000080; text-decoration-color: #000080\">INFO    </span> <span style=\"color: #0000ff; text-decoration-color: #0000ff\">train</span> <span style=\"font-weight: bold\">[</span> Epoch <span style=\"color: #008080; text-decoration-color: #008080; font-weight: bold\">21</span> of <span style=\"color: #008080; text-decoration-color: #008080; font-weight: bold\">65</span> <span style=\"font-weight: bold\">]</span>                                       <a href=\"file:///n/home09/pren/3DGeno_tools/src/gt3d/modules/higashi/Higashi_wrapper.py\" target=\"_blank\"><span style=\"color: #7f7f7f; text-decoration-color: #7f7f7f\">Higashi_wrapper.py</span></a><span style=\"color: #7f7f7f; text-decoration-color: #7f7f7f\">:</span><a href=\"file:///n/home09/pren/3DGeno_tools/src/gt3d/modules/higashi/Higashi_wrapper.py#1245\" target=\"_blank\"><span style=\"color: #7f7f7f; text-decoration-color: #7f7f7f\">1245</span></a>\n",
       "</pre>\n"
      ],
      "text/plain": [
       "\u001b[2;36m                   \u001b[0m\u001b[2;36m \u001b[0m\u001b[34mINFO    \u001b[0m \u001b[94mtrain\u001b[0m \u001b[1m[\u001b[0m Epoch \u001b[1;36m21\u001b[0m of \u001b[1;36m65\u001b[0m \u001b[1m]\u001b[0m                                       \u001b]8;id=917791;file:///n/home09/pren/3DGeno_tools/src/gt3d/modules/higashi/Higashi_wrapper.py\u001b\\\u001b[2mHigashi_wrapper.py\u001b[0m\u001b]8;;\u001b\\\u001b[2m:\u001b[0m\u001b]8;id=391473;file:///n/home09/pren/3DGeno_tools/src/gt3d/modules/higashi/Higashi_wrapper.py#1245\u001b\\\u001b[2m1245\u001b[0m\u001b]8;;\u001b\\\n"
      ]
     },
     "metadata": {},
     "output_type": "display_data"
    },
    {
     "data": {
      "application/vnd.jupyter.widget-view+json": {
       "model_id": "3ec12ae12f21429fb4e68f0c40398027",
       "version_major": 2,
       "version_minor": 0
      },
      "text/plain": [
       "Output()"
      ]
     },
     "metadata": {},
     "output_type": "display_data"
    },
    {
     "data": {
      "text/html": [
       "<pre style=\"white-space:pre;overflow-x:auto;line-height:normal;font-family:Menlo,'DejaVu Sans Mono',consolas,'Courier New',monospace\"></pre>\n"
      ],
      "text/plain": []
     },
     "metadata": {},
     "output_type": "display_data"
    },
    {
     "data": {
      "text/html": [
       "<pre style=\"white-space:pre;overflow-x:auto;line-height:normal;font-family:Menlo,'DejaVu Sans Mono',consolas,'Courier New',monospace\"><span style=\"color: #7fbfbf; text-decoration-color: #7fbfbf\">[12/07/24 15:03:23] </span><span style=\"color: #000080; text-decoration-color: #000080\">INFO    </span> <span style=\"color: #0000ff; text-decoration-color: #0000ff\">train</span>  - <span style=\"font-weight: bold\">(</span>Train<span style=\"font-weight: bold\">)</span> bce:  <span style=\"color: #008080; text-decoration-color: #008080; font-weight: bold\">0.3283</span>, mse:  <span style=\"color: #008080; text-decoration-color: #008080; font-weight: bold\">0.9329</span>,  acc: <span style=\"color: #008080; text-decoration-color: #008080; font-weight: bold\">89.025</span> %,   <a href=\"file:///n/home09/pren/3DGeno_tools/src/gt3d/modules/higashi/Higashi_wrapper.py\" target=\"_blank\"><span style=\"color: #7f7f7f; text-decoration-color: #7f7f7f\">Higashi_wrapper.py</span></a><span style=\"color: #7f7f7f; text-decoration-color: #7f7f7f\">:</span><a href=\"file:///n/home09/pren/3DGeno_tools/src/gt3d/modules/higashi/Higashi_wrapper.py#1258\" target=\"_blank\"><span style=\"color: #7f7f7f; text-decoration-color: #7f7f7f\">1258</span></a>\n",
       "<span style=\"color: #7fbfbf; text-decoration-color: #7fbfbf\">                    </span>         pearson: <span style=\"color: #008080; text-decoration-color: #008080; font-weight: bold\">0.658</span>, spearman: <span style=\"color: #008080; text-decoration-color: #008080; font-weight: bold\">0.567</span>, elapse: <span style=\"color: #008080; text-decoration-color: #008080; font-weight: bold\">88.812</span> s              <span style=\"color: #7f7f7f; text-decoration-color: #7f7f7f\">                       </span>\n",
       "</pre>\n"
      ],
      "text/plain": [
       "\u001b[2;36m[12/07/24 15:03:23]\u001b[0m\u001b[2;36m \u001b[0m\u001b[34mINFO    \u001b[0m \u001b[94mtrain\u001b[0m  - \u001b[1m(\u001b[0mTrain\u001b[1m)\u001b[0m bce:  \u001b[1;36m0.3283\u001b[0m, mse:  \u001b[1;36m0.9329\u001b[0m,  acc: \u001b[1;36m89.025\u001b[0m %,   \u001b]8;id=104803;file:///n/home09/pren/3DGeno_tools/src/gt3d/modules/higashi/Higashi_wrapper.py\u001b\\\u001b[2mHigashi_wrapper.py\u001b[0m\u001b]8;;\u001b\\\u001b[2m:\u001b[0m\u001b]8;id=555097;file:///n/home09/pren/3DGeno_tools/src/gt3d/modules/higashi/Higashi_wrapper.py#1258\u001b\\\u001b[2m1258\u001b[0m\u001b]8;;\u001b\\\n",
       "\u001b[2;36m                    \u001b[0m         pearson: \u001b[1;36m0.658\u001b[0m, spearman: \u001b[1;36m0.567\u001b[0m, elapse: \u001b[1;36m88.812\u001b[0m s              \u001b[2m                       \u001b[0m\n"
      ]
     },
     "metadata": {},
     "output_type": "display_data"
    },
    {
     "data": {
      "application/vnd.jupyter.widget-view+json": {
       "model_id": "99491fcdc0de4094b25b7aa94db9f9b0",
       "version_major": 2,
       "version_minor": 0
      },
      "text/plain": [
       "Output()"
      ]
     },
     "metadata": {},
     "output_type": "display_data"
    },
    {
     "data": {
      "text/html": [
       "<pre style=\"white-space:pre;overflow-x:auto;line-height:normal;font-family:Menlo,'DejaVu Sans Mono',consolas,'Courier New',monospace\"></pre>\n"
      ],
      "text/plain": []
     },
     "metadata": {},
     "output_type": "display_data"
    },
    {
     "data": {
      "text/html": [
       "<pre style=\"white-space:pre;overflow-x:auto;line-height:normal;font-family:Menlo,'DejaVu Sans Mono',consolas,'Courier New',monospace\"><span style=\"color: #7fbfbf; text-decoration-color: #7fbfbf\">                    </span><span style=\"color: #000080; text-decoration-color: #000080\">INFO    </span> <span style=\"color: #0000ff; text-decoration-color: #0000ff\">train</span>  - <span style=\"font-weight: bold\">(</span>Valid<span style=\"font-weight: bold\">)</span> bce:  <span style=\"color: #008080; text-decoration-color: #008080; font-weight: bold\">0.3553</span>,  acc: <span style=\"color: #008080; text-decoration-color: #008080; font-weight: bold\">88.079</span> %,pearson: <span style=\"color: #008080; text-decoration-color: #008080; font-weight: bold\">0.612</span>,  <a href=\"file:///n/home09/pren/3DGeno_tools/src/gt3d/modules/higashi/Higashi_wrapper.py\" target=\"_blank\"><span style=\"color: #7f7f7f; text-decoration-color: #7f7f7f\">Higashi_wrapper.py</span></a><span style=\"color: #7f7f7f; text-decoration-color: #7f7f7f\">:</span><a href=\"file:///n/home09/pren/3DGeno_tools/src/gt3d/modules/higashi/Higashi_wrapper.py#1277\" target=\"_blank\"><span style=\"color: #7f7f7f; text-decoration-color: #7f7f7f\">1277</span></a>\n",
       "<span style=\"color: #7fbfbf; text-decoration-color: #7fbfbf\">                    </span>         spearman: <span style=\"color: #008080; text-decoration-color: #008080; font-weight: bold\">0.549</span>,elapse: <span style=\"color: #008080; text-decoration-color: #008080; font-weight: bold\">0.051</span> s                                <span style=\"color: #7f7f7f; text-decoration-color: #7f7f7f\">                       </span>\n",
       "</pre>\n"
      ],
      "text/plain": [
       "\u001b[2;36m                   \u001b[0m\u001b[2;36m \u001b[0m\u001b[34mINFO    \u001b[0m \u001b[94mtrain\u001b[0m  - \u001b[1m(\u001b[0mValid\u001b[1m)\u001b[0m bce:  \u001b[1;36m0.3553\u001b[0m,  acc: \u001b[1;36m88.079\u001b[0m %,pearson: \u001b[1;36m0.612\u001b[0m,  \u001b]8;id=508196;file:///n/home09/pren/3DGeno_tools/src/gt3d/modules/higashi/Higashi_wrapper.py\u001b\\\u001b[2mHigashi_wrapper.py\u001b[0m\u001b]8;;\u001b\\\u001b[2m:\u001b[0m\u001b]8;id=996006;file:///n/home09/pren/3DGeno_tools/src/gt3d/modules/higashi/Higashi_wrapper.py#1277\u001b\\\u001b[2m1277\u001b[0m\u001b]8;;\u001b\\\n",
       "\u001b[2;36m                    \u001b[0m         spearman: \u001b[1;36m0.549\u001b[0m,elapse: \u001b[1;36m0.051\u001b[0m s                                \u001b[2m                       \u001b[0m\n"
      ]
     },
     "metadata": {},
     "output_type": "display_data"
    },
    {
     "data": {
      "text/html": [
       "<pre style=\"white-space:pre;overflow-x:auto;line-height:normal;font-family:Menlo,'DejaVu Sans Mono',consolas,'Courier New',monospace\"><span style=\"color: #7fbfbf; text-decoration-color: #7fbfbf\">                    </span><span style=\"color: #000080; text-decoration-color: #000080\">INFO    </span> <span style=\"color: #0000ff; text-decoration-color: #0000ff\">train</span> update_rate: <span style=\"color: #008080; text-decoration-color: #008080; font-weight: bold\">0.004993</span>     <span style=\"color: #008080; text-decoration-color: #008080; font-weight: bold\">0.230969</span>                       <a href=\"file:///n/home09/pren/3DGeno_tools/src/gt3d/modules/higashi/Higashi_wrapper.py\" target=\"_blank\"><span style=\"color: #7f7f7f; text-decoration-color: #7f7f7f\">Higashi_wrapper.py</span></a><span style=\"color: #7f7f7f; text-decoration-color: #7f7f7f\">:</span><a href=\"file:///n/home09/pren/3DGeno_tools/src/gt3d/modules/higashi/Higashi_wrapper.py#1323\" target=\"_blank\"><span style=\"color: #7f7f7f; text-decoration-color: #7f7f7f\">1323</span></a>\n",
       "</pre>\n"
      ],
      "text/plain": [
       "\u001b[2;36m                   \u001b[0m\u001b[2;36m \u001b[0m\u001b[34mINFO    \u001b[0m \u001b[94mtrain\u001b[0m update_rate: \u001b[1;36m0.004993\u001b[0m     \u001b[1;36m0.230969\u001b[0m                       \u001b]8;id=206138;file:///n/home09/pren/3DGeno_tools/src/gt3d/modules/higashi/Higashi_wrapper.py\u001b\\\u001b[2mHigashi_wrapper.py\u001b[0m\u001b]8;;\u001b\\\u001b[2m:\u001b[0m\u001b]8;id=445138;file:///n/home09/pren/3DGeno_tools/src/gt3d/modules/higashi/Higashi_wrapper.py#1323\u001b\\\u001b[2m1323\u001b[0m\u001b]8;;\u001b\\\n"
      ]
     },
     "metadata": {},
     "output_type": "display_data"
    },
    {
     "data": {
      "text/html": [
       "<pre style=\"white-space:pre;overflow-x:auto;line-height:normal;font-family:Menlo,'DejaVu Sans Mono',consolas,'Courier New',monospace\"><span style=\"color: #7fbfbf; text-decoration-color: #7fbfbf\">                    </span><span style=\"color: #000080; text-decoration-color: #000080\">INFO    </span> <span style=\"color: #0000ff; text-decoration-color: #0000ff\">train</span> <span style=\"font-weight: bold\">[</span> Epoch <span style=\"color: #008080; text-decoration-color: #008080; font-weight: bold\">22</span> of <span style=\"color: #008080; text-decoration-color: #008080; font-weight: bold\">65</span> <span style=\"font-weight: bold\">]</span>                                       <a href=\"file:///n/home09/pren/3DGeno_tools/src/gt3d/modules/higashi/Higashi_wrapper.py\" target=\"_blank\"><span style=\"color: #7f7f7f; text-decoration-color: #7f7f7f\">Higashi_wrapper.py</span></a><span style=\"color: #7f7f7f; text-decoration-color: #7f7f7f\">:</span><a href=\"file:///n/home09/pren/3DGeno_tools/src/gt3d/modules/higashi/Higashi_wrapper.py#1245\" target=\"_blank\"><span style=\"color: #7f7f7f; text-decoration-color: #7f7f7f\">1245</span></a>\n",
       "</pre>\n"
      ],
      "text/plain": [
       "\u001b[2;36m                   \u001b[0m\u001b[2;36m \u001b[0m\u001b[34mINFO    \u001b[0m \u001b[94mtrain\u001b[0m \u001b[1m[\u001b[0m Epoch \u001b[1;36m22\u001b[0m of \u001b[1;36m65\u001b[0m \u001b[1m]\u001b[0m                                       \u001b]8;id=419667;file:///n/home09/pren/3DGeno_tools/src/gt3d/modules/higashi/Higashi_wrapper.py\u001b\\\u001b[2mHigashi_wrapper.py\u001b[0m\u001b]8;;\u001b\\\u001b[2m:\u001b[0m\u001b]8;id=475329;file:///n/home09/pren/3DGeno_tools/src/gt3d/modules/higashi/Higashi_wrapper.py#1245\u001b\\\u001b[2m1245\u001b[0m\u001b]8;;\u001b\\\n"
      ]
     },
     "metadata": {},
     "output_type": "display_data"
    },
    {
     "data": {
      "application/vnd.jupyter.widget-view+json": {
       "model_id": "dd41b4beae1f4558b115a18b6bd7850f",
       "version_major": 2,
       "version_minor": 0
      },
      "text/plain": [
       "Output()"
      ]
     },
     "metadata": {},
     "output_type": "display_data"
    },
    {
     "data": {
      "text/html": [
       "<pre style=\"white-space:pre;overflow-x:auto;line-height:normal;font-family:Menlo,'DejaVu Sans Mono',consolas,'Courier New',monospace\"></pre>\n"
      ],
      "text/plain": []
     },
     "metadata": {},
     "output_type": "display_data"
    },
    {
     "data": {
      "text/html": [
       "<pre style=\"white-space:pre;overflow-x:auto;line-height:normal;font-family:Menlo,'DejaVu Sans Mono',consolas,'Courier New',monospace\"><span style=\"color: #7fbfbf; text-decoration-color: #7fbfbf\">[12/07/24 15:04:52] </span><span style=\"color: #000080; text-decoration-color: #000080\">INFO    </span> <span style=\"color: #0000ff; text-decoration-color: #0000ff\">train</span>  - <span style=\"font-weight: bold\">(</span>Train<span style=\"font-weight: bold\">)</span> bce:  <span style=\"color: #008080; text-decoration-color: #008080; font-weight: bold\">0.3259</span>, mse:  <span style=\"color: #008080; text-decoration-color: #008080; font-weight: bold\">0.9132</span>,  acc: <span style=\"color: #008080; text-decoration-color: #008080; font-weight: bold\">89.165</span> %,   <a href=\"file:///n/home09/pren/3DGeno_tools/src/gt3d/modules/higashi/Higashi_wrapper.py\" target=\"_blank\"><span style=\"color: #7f7f7f; text-decoration-color: #7f7f7f\">Higashi_wrapper.py</span></a><span style=\"color: #7f7f7f; text-decoration-color: #7f7f7f\">:</span><a href=\"file:///n/home09/pren/3DGeno_tools/src/gt3d/modules/higashi/Higashi_wrapper.py#1258\" target=\"_blank\"><span style=\"color: #7f7f7f; text-decoration-color: #7f7f7f\">1258</span></a>\n",
       "<span style=\"color: #7fbfbf; text-decoration-color: #7fbfbf\">                    </span>         pearson: <span style=\"color: #008080; text-decoration-color: #008080; font-weight: bold\">0.662</span>, spearman: <span style=\"color: #008080; text-decoration-color: #008080; font-weight: bold\">0.569</span>, elapse: <span style=\"color: #008080; text-decoration-color: #008080; font-weight: bold\">88.855</span> s              <span style=\"color: #7f7f7f; text-decoration-color: #7f7f7f\">                       </span>\n",
       "</pre>\n"
      ],
      "text/plain": [
       "\u001b[2;36m[12/07/24 15:04:52]\u001b[0m\u001b[2;36m \u001b[0m\u001b[34mINFO    \u001b[0m \u001b[94mtrain\u001b[0m  - \u001b[1m(\u001b[0mTrain\u001b[1m)\u001b[0m bce:  \u001b[1;36m0.3259\u001b[0m, mse:  \u001b[1;36m0.9132\u001b[0m,  acc: \u001b[1;36m89.165\u001b[0m %,   \u001b]8;id=468286;file:///n/home09/pren/3DGeno_tools/src/gt3d/modules/higashi/Higashi_wrapper.py\u001b\\\u001b[2mHigashi_wrapper.py\u001b[0m\u001b]8;;\u001b\\\u001b[2m:\u001b[0m\u001b]8;id=130297;file:///n/home09/pren/3DGeno_tools/src/gt3d/modules/higashi/Higashi_wrapper.py#1258\u001b\\\u001b[2m1258\u001b[0m\u001b]8;;\u001b\\\n",
       "\u001b[2;36m                    \u001b[0m         pearson: \u001b[1;36m0.662\u001b[0m, spearman: \u001b[1;36m0.569\u001b[0m, elapse: \u001b[1;36m88.855\u001b[0m s              \u001b[2m                       \u001b[0m\n"
      ]
     },
     "metadata": {},
     "output_type": "display_data"
    },
    {
     "data": {
      "application/vnd.jupyter.widget-view+json": {
       "model_id": "a4ba8e60c5a24737a734dd45b7c7e46b",
       "version_major": 2,
       "version_minor": 0
      },
      "text/plain": [
       "Output()"
      ]
     },
     "metadata": {},
     "output_type": "display_data"
    },
    {
     "data": {
      "text/html": [
       "<pre style=\"white-space:pre;overflow-x:auto;line-height:normal;font-family:Menlo,'DejaVu Sans Mono',consolas,'Courier New',monospace\"></pre>\n"
      ],
      "text/plain": []
     },
     "metadata": {},
     "output_type": "display_data"
    },
    {
     "data": {
      "text/html": [
       "<pre style=\"white-space:pre;overflow-x:auto;line-height:normal;font-family:Menlo,'DejaVu Sans Mono',consolas,'Courier New',monospace\"><span style=\"color: #7fbfbf; text-decoration-color: #7fbfbf\">                    </span><span style=\"color: #000080; text-decoration-color: #000080\">INFO    </span> <span style=\"color: #0000ff; text-decoration-color: #0000ff\">train</span>  - <span style=\"font-weight: bold\">(</span>Valid<span style=\"font-weight: bold\">)</span> bce:  <span style=\"color: #008080; text-decoration-color: #008080; font-weight: bold\">0.3490</span>,  acc: <span style=\"color: #008080; text-decoration-color: #008080; font-weight: bold\">89.622</span> %,pearson: <span style=\"color: #008080; text-decoration-color: #008080; font-weight: bold\">0.646</span>,  <a href=\"file:///n/home09/pren/3DGeno_tools/src/gt3d/modules/higashi/Higashi_wrapper.py\" target=\"_blank\"><span style=\"color: #7f7f7f; text-decoration-color: #7f7f7f\">Higashi_wrapper.py</span></a><span style=\"color: #7f7f7f; text-decoration-color: #7f7f7f\">:</span><a href=\"file:///n/home09/pren/3DGeno_tools/src/gt3d/modules/higashi/Higashi_wrapper.py#1277\" target=\"_blank\"><span style=\"color: #7f7f7f; text-decoration-color: #7f7f7f\">1277</span></a>\n",
       "<span style=\"color: #7fbfbf; text-decoration-color: #7fbfbf\">                    </span>         spearman: <span style=\"color: #008080; text-decoration-color: #008080; font-weight: bold\">0.568</span>,elapse: <span style=\"color: #008080; text-decoration-color: #008080; font-weight: bold\">0.052</span> s                                <span style=\"color: #7f7f7f; text-decoration-color: #7f7f7f\">                       </span>\n",
       "</pre>\n"
      ],
      "text/plain": [
       "\u001b[2;36m                   \u001b[0m\u001b[2;36m \u001b[0m\u001b[34mINFO    \u001b[0m \u001b[94mtrain\u001b[0m  - \u001b[1m(\u001b[0mValid\u001b[1m)\u001b[0m bce:  \u001b[1;36m0.3490\u001b[0m,  acc: \u001b[1;36m89.622\u001b[0m %,pearson: \u001b[1;36m0.646\u001b[0m,  \u001b]8;id=32518;file:///n/home09/pren/3DGeno_tools/src/gt3d/modules/higashi/Higashi_wrapper.py\u001b\\\u001b[2mHigashi_wrapper.py\u001b[0m\u001b]8;;\u001b\\\u001b[2m:\u001b[0m\u001b]8;id=357133;file:///n/home09/pren/3DGeno_tools/src/gt3d/modules/higashi/Higashi_wrapper.py#1277\u001b\\\u001b[2m1277\u001b[0m\u001b]8;;\u001b\\\n",
       "\u001b[2;36m                    \u001b[0m         spearman: \u001b[1;36m0.568\u001b[0m,elapse: \u001b[1;36m0.052\u001b[0m s                                \u001b[2m                       \u001b[0m\n"
      ]
     },
     "metadata": {},
     "output_type": "display_data"
    },
    {
     "data": {
      "text/html": [
       "<pre style=\"white-space:pre;overflow-x:auto;line-height:normal;font-family:Menlo,'DejaVu Sans Mono',consolas,'Courier New',monospace\"><span style=\"color: #7fbfbf; text-decoration-color: #7fbfbf\">                    </span><span style=\"color: #000080; text-decoration-color: #000080\">INFO    </span> <span style=\"color: #0000ff; text-decoration-color: #0000ff\">train</span> update_rate: <span style=\"color: #008080; text-decoration-color: #008080; font-weight: bold\">0.004922</span>     <span style=\"color: #008080; text-decoration-color: #008080; font-weight: bold\">0.137810</span>                       <a href=\"file:///n/home09/pren/3DGeno_tools/src/gt3d/modules/higashi/Higashi_wrapper.py\" target=\"_blank\"><span style=\"color: #7f7f7f; text-decoration-color: #7f7f7f\">Higashi_wrapper.py</span></a><span style=\"color: #7f7f7f; text-decoration-color: #7f7f7f\">:</span><a href=\"file:///n/home09/pren/3DGeno_tools/src/gt3d/modules/higashi/Higashi_wrapper.py#1323\" target=\"_blank\"><span style=\"color: #7f7f7f; text-decoration-color: #7f7f7f\">1323</span></a>\n",
       "</pre>\n"
      ],
      "text/plain": [
       "\u001b[2;36m                   \u001b[0m\u001b[2;36m \u001b[0m\u001b[34mINFO    \u001b[0m \u001b[94mtrain\u001b[0m update_rate: \u001b[1;36m0.004922\u001b[0m     \u001b[1;36m0.137810\u001b[0m                       \u001b]8;id=897663;file:///n/home09/pren/3DGeno_tools/src/gt3d/modules/higashi/Higashi_wrapper.py\u001b\\\u001b[2mHigashi_wrapper.py\u001b[0m\u001b]8;;\u001b\\\u001b[2m:\u001b[0m\u001b]8;id=428510;file:///n/home09/pren/3DGeno_tools/src/gt3d/modules/higashi/Higashi_wrapper.py#1323\u001b\\\u001b[2m1323\u001b[0m\u001b]8;;\u001b\\\n"
      ]
     },
     "metadata": {},
     "output_type": "display_data"
    },
    {
     "data": {
      "text/html": [
       "<pre style=\"white-space:pre;overflow-x:auto;line-height:normal;font-family:Menlo,'DejaVu Sans Mono',consolas,'Courier New',monospace\"><span style=\"color: #7fbfbf; text-decoration-color: #7fbfbf\">                    </span><span style=\"color: #000080; text-decoration-color: #000080\">INFO    </span> <span style=\"color: #0000ff; text-decoration-color: #0000ff\">train</span> <span style=\"font-weight: bold\">[</span> Epoch <span style=\"color: #008080; text-decoration-color: #008080; font-weight: bold\">23</span> of <span style=\"color: #008080; text-decoration-color: #008080; font-weight: bold\">65</span> <span style=\"font-weight: bold\">]</span>                                       <a href=\"file:///n/home09/pren/3DGeno_tools/src/gt3d/modules/higashi/Higashi_wrapper.py\" target=\"_blank\"><span style=\"color: #7f7f7f; text-decoration-color: #7f7f7f\">Higashi_wrapper.py</span></a><span style=\"color: #7f7f7f; text-decoration-color: #7f7f7f\">:</span><a href=\"file:///n/home09/pren/3DGeno_tools/src/gt3d/modules/higashi/Higashi_wrapper.py#1245\" target=\"_blank\"><span style=\"color: #7f7f7f; text-decoration-color: #7f7f7f\">1245</span></a>\n",
       "</pre>\n"
      ],
      "text/plain": [
       "\u001b[2;36m                   \u001b[0m\u001b[2;36m \u001b[0m\u001b[34mINFO    \u001b[0m \u001b[94mtrain\u001b[0m \u001b[1m[\u001b[0m Epoch \u001b[1;36m23\u001b[0m of \u001b[1;36m65\u001b[0m \u001b[1m]\u001b[0m                                       \u001b]8;id=889273;file:///n/home09/pren/3DGeno_tools/src/gt3d/modules/higashi/Higashi_wrapper.py\u001b\\\u001b[2mHigashi_wrapper.py\u001b[0m\u001b]8;;\u001b\\\u001b[2m:\u001b[0m\u001b]8;id=763098;file:///n/home09/pren/3DGeno_tools/src/gt3d/modules/higashi/Higashi_wrapper.py#1245\u001b\\\u001b[2m1245\u001b[0m\u001b]8;;\u001b\\\n"
      ]
     },
     "metadata": {},
     "output_type": "display_data"
    },
    {
     "data": {
      "application/vnd.jupyter.widget-view+json": {
       "model_id": "670a3a03cfc2430f82ff36c901ffaa21",
       "version_major": 2,
       "version_minor": 0
      },
      "text/plain": [
       "Output()"
      ]
     },
     "metadata": {},
     "output_type": "display_data"
    },
    {
     "data": {
      "text/html": [
       "<pre style=\"white-space:pre;overflow-x:auto;line-height:normal;font-family:Menlo,'DejaVu Sans Mono',consolas,'Courier New',monospace\"></pre>\n"
      ],
      "text/plain": []
     },
     "metadata": {},
     "output_type": "display_data"
    },
    {
     "data": {
      "text/html": [
       "<pre style=\"white-space:pre;overflow-x:auto;line-height:normal;font-family:Menlo,'DejaVu Sans Mono',consolas,'Courier New',monospace\"><span style=\"color: #7fbfbf; text-decoration-color: #7fbfbf\">[12/07/24 15:06:21] </span><span style=\"color: #000080; text-decoration-color: #000080\">INFO    </span> <span style=\"color: #0000ff; text-decoration-color: #0000ff\">train</span>  - <span style=\"font-weight: bold\">(</span>Train<span style=\"font-weight: bold\">)</span> bce:  <span style=\"color: #008080; text-decoration-color: #008080; font-weight: bold\">0.3258</span>, mse:  <span style=\"color: #008080; text-decoration-color: #008080; font-weight: bold\">0.9095</span>,  acc: <span style=\"color: #008080; text-decoration-color: #008080; font-weight: bold\">89.204</span> %,   <a href=\"file:///n/home09/pren/3DGeno_tools/src/gt3d/modules/higashi/Higashi_wrapper.py\" target=\"_blank\"><span style=\"color: #7f7f7f; text-decoration-color: #7f7f7f\">Higashi_wrapper.py</span></a><span style=\"color: #7f7f7f; text-decoration-color: #7f7f7f\">:</span><a href=\"file:///n/home09/pren/3DGeno_tools/src/gt3d/modules/higashi/Higashi_wrapper.py#1258\" target=\"_blank\"><span style=\"color: #7f7f7f; text-decoration-color: #7f7f7f\">1258</span></a>\n",
       "<span style=\"color: #7fbfbf; text-decoration-color: #7fbfbf\">                    </span>         pearson: <span style=\"color: #008080; text-decoration-color: #008080; font-weight: bold\">0.665</span>, spearman: <span style=\"color: #008080; text-decoration-color: #008080; font-weight: bold\">0.570</span>, elapse: <span style=\"color: #008080; text-decoration-color: #008080; font-weight: bold\">89.147</span> s              <span style=\"color: #7f7f7f; text-decoration-color: #7f7f7f\">                       </span>\n",
       "</pre>\n"
      ],
      "text/plain": [
       "\u001b[2;36m[12/07/24 15:06:21]\u001b[0m\u001b[2;36m \u001b[0m\u001b[34mINFO    \u001b[0m \u001b[94mtrain\u001b[0m  - \u001b[1m(\u001b[0mTrain\u001b[1m)\u001b[0m bce:  \u001b[1;36m0.3258\u001b[0m, mse:  \u001b[1;36m0.9095\u001b[0m,  acc: \u001b[1;36m89.204\u001b[0m %,   \u001b]8;id=609908;file:///n/home09/pren/3DGeno_tools/src/gt3d/modules/higashi/Higashi_wrapper.py\u001b\\\u001b[2mHigashi_wrapper.py\u001b[0m\u001b]8;;\u001b\\\u001b[2m:\u001b[0m\u001b]8;id=830582;file:///n/home09/pren/3DGeno_tools/src/gt3d/modules/higashi/Higashi_wrapper.py#1258\u001b\\\u001b[2m1258\u001b[0m\u001b]8;;\u001b\\\n",
       "\u001b[2;36m                    \u001b[0m         pearson: \u001b[1;36m0.665\u001b[0m, spearman: \u001b[1;36m0.570\u001b[0m, elapse: \u001b[1;36m89.147\u001b[0m s              \u001b[2m                       \u001b[0m\n"
      ]
     },
     "metadata": {},
     "output_type": "display_data"
    },
    {
     "data": {
      "application/vnd.jupyter.widget-view+json": {
       "model_id": "a35d38da8dd144bc959d07e57aec6dd9",
       "version_major": 2,
       "version_minor": 0
      },
      "text/plain": [
       "Output()"
      ]
     },
     "metadata": {},
     "output_type": "display_data"
    },
    {
     "data": {
      "text/html": [
       "<pre style=\"white-space:pre;overflow-x:auto;line-height:normal;font-family:Menlo,'DejaVu Sans Mono',consolas,'Courier New',monospace\"></pre>\n"
      ],
      "text/plain": []
     },
     "metadata": {},
     "output_type": "display_data"
    },
    {
     "data": {
      "text/html": [
       "<pre style=\"white-space:pre;overflow-x:auto;line-height:normal;font-family:Menlo,'DejaVu Sans Mono',consolas,'Courier New',monospace\"><span style=\"color: #7fbfbf; text-decoration-color: #7fbfbf\">                    </span><span style=\"color: #000080; text-decoration-color: #000080\">INFO    </span> <span style=\"color: #0000ff; text-decoration-color: #0000ff\">train</span>  - <span style=\"font-weight: bold\">(</span>Valid<span style=\"font-weight: bold\">)</span> bce:  <span style=\"color: #008080; text-decoration-color: #008080; font-weight: bold\">0.3538</span>,  acc: <span style=\"color: #008080; text-decoration-color: #008080; font-weight: bold\">87.949</span> %,pearson: <span style=\"color: #008080; text-decoration-color: #008080; font-weight: bold\">0.632</span>,  <a href=\"file:///n/home09/pren/3DGeno_tools/src/gt3d/modules/higashi/Higashi_wrapper.py\" target=\"_blank\"><span style=\"color: #7f7f7f; text-decoration-color: #7f7f7f\">Higashi_wrapper.py</span></a><span style=\"color: #7f7f7f; text-decoration-color: #7f7f7f\">:</span><a href=\"file:///n/home09/pren/3DGeno_tools/src/gt3d/modules/higashi/Higashi_wrapper.py#1277\" target=\"_blank\"><span style=\"color: #7f7f7f; text-decoration-color: #7f7f7f\">1277</span></a>\n",
       "<span style=\"color: #7fbfbf; text-decoration-color: #7fbfbf\">                    </span>         spearman: <span style=\"color: #008080; text-decoration-color: #008080; font-weight: bold\">0.553</span>,elapse: <span style=\"color: #008080; text-decoration-color: #008080; font-weight: bold\">0.052</span> s                                <span style=\"color: #7f7f7f; text-decoration-color: #7f7f7f\">                       </span>\n",
       "</pre>\n"
      ],
      "text/plain": [
       "\u001b[2;36m                   \u001b[0m\u001b[2;36m \u001b[0m\u001b[34mINFO    \u001b[0m \u001b[94mtrain\u001b[0m  - \u001b[1m(\u001b[0mValid\u001b[1m)\u001b[0m bce:  \u001b[1;36m0.3538\u001b[0m,  acc: \u001b[1;36m87.949\u001b[0m %,pearson: \u001b[1;36m0.632\u001b[0m,  \u001b]8;id=771390;file:///n/home09/pren/3DGeno_tools/src/gt3d/modules/higashi/Higashi_wrapper.py\u001b\\\u001b[2mHigashi_wrapper.py\u001b[0m\u001b]8;;\u001b\\\u001b[2m:\u001b[0m\u001b]8;id=936235;file:///n/home09/pren/3DGeno_tools/src/gt3d/modules/higashi/Higashi_wrapper.py#1277\u001b\\\u001b[2m1277\u001b[0m\u001b]8;;\u001b\\\n",
       "\u001b[2;36m                    \u001b[0m         spearman: \u001b[1;36m0.553\u001b[0m,elapse: \u001b[1;36m0.052\u001b[0m s                                \u001b[2m                       \u001b[0m\n"
      ]
     },
     "metadata": {},
     "output_type": "display_data"
    },
    {
     "data": {
      "text/html": [
       "<pre style=\"white-space:pre;overflow-x:auto;line-height:normal;font-family:Menlo,'DejaVu Sans Mono',consolas,'Courier New',monospace\"><span style=\"color: #7fbfbf; text-decoration-color: #7fbfbf\">                    </span><span style=\"color: #000080; text-decoration-color: #000080\">INFO    </span> <span style=\"color: #0000ff; text-decoration-color: #0000ff\">train</span> update_rate: <span style=\"color: #008080; text-decoration-color: #008080; font-weight: bold\">0.004999</span>     <span style=\"color: #008080; text-decoration-color: #008080; font-weight: bold\">0.136034</span>                       <a href=\"file:///n/home09/pren/3DGeno_tools/src/gt3d/modules/higashi/Higashi_wrapper.py\" target=\"_blank\"><span style=\"color: #7f7f7f; text-decoration-color: #7f7f7f\">Higashi_wrapper.py</span></a><span style=\"color: #7f7f7f; text-decoration-color: #7f7f7f\">:</span><a href=\"file:///n/home09/pren/3DGeno_tools/src/gt3d/modules/higashi/Higashi_wrapper.py#1323\" target=\"_blank\"><span style=\"color: #7f7f7f; text-decoration-color: #7f7f7f\">1323</span></a>\n",
       "</pre>\n"
      ],
      "text/plain": [
       "\u001b[2;36m                   \u001b[0m\u001b[2;36m \u001b[0m\u001b[34mINFO    \u001b[0m \u001b[94mtrain\u001b[0m update_rate: \u001b[1;36m0.004999\u001b[0m     \u001b[1;36m0.136034\u001b[0m                       \u001b]8;id=694897;file:///n/home09/pren/3DGeno_tools/src/gt3d/modules/higashi/Higashi_wrapper.py\u001b\\\u001b[2mHigashi_wrapper.py\u001b[0m\u001b]8;;\u001b\\\u001b[2m:\u001b[0m\u001b]8;id=462231;file:///n/home09/pren/3DGeno_tools/src/gt3d/modules/higashi/Higashi_wrapper.py#1323\u001b\\\u001b[2m1323\u001b[0m\u001b]8;;\u001b\\\n"
      ]
     },
     "metadata": {},
     "output_type": "display_data"
    },
    {
     "data": {
      "text/html": [
       "<pre style=\"white-space:pre;overflow-x:auto;line-height:normal;font-family:Menlo,'DejaVu Sans Mono',consolas,'Courier New',monospace\"><span style=\"color: #7fbfbf; text-decoration-color: #7fbfbf\">                    </span><span style=\"color: #000080; text-decoration-color: #000080\">INFO    </span> <span style=\"color: #0000ff; text-decoration-color: #0000ff\">train</span> <span style=\"font-weight: bold\">[</span> Epoch <span style=\"color: #008080; text-decoration-color: #008080; font-weight: bold\">24</span> of <span style=\"color: #008080; text-decoration-color: #008080; font-weight: bold\">65</span> <span style=\"font-weight: bold\">]</span>                                       <a href=\"file:///n/home09/pren/3DGeno_tools/src/gt3d/modules/higashi/Higashi_wrapper.py\" target=\"_blank\"><span style=\"color: #7f7f7f; text-decoration-color: #7f7f7f\">Higashi_wrapper.py</span></a><span style=\"color: #7f7f7f; text-decoration-color: #7f7f7f\">:</span><a href=\"file:///n/home09/pren/3DGeno_tools/src/gt3d/modules/higashi/Higashi_wrapper.py#1245\" target=\"_blank\"><span style=\"color: #7f7f7f; text-decoration-color: #7f7f7f\">1245</span></a>\n",
       "</pre>\n"
      ],
      "text/plain": [
       "\u001b[2;36m                   \u001b[0m\u001b[2;36m \u001b[0m\u001b[34mINFO    \u001b[0m \u001b[94mtrain\u001b[0m \u001b[1m[\u001b[0m Epoch \u001b[1;36m24\u001b[0m of \u001b[1;36m65\u001b[0m \u001b[1m]\u001b[0m                                       \u001b]8;id=979462;file:///n/home09/pren/3DGeno_tools/src/gt3d/modules/higashi/Higashi_wrapper.py\u001b\\\u001b[2mHigashi_wrapper.py\u001b[0m\u001b]8;;\u001b\\\u001b[2m:\u001b[0m\u001b]8;id=472191;file:///n/home09/pren/3DGeno_tools/src/gt3d/modules/higashi/Higashi_wrapper.py#1245\u001b\\\u001b[2m1245\u001b[0m\u001b]8;;\u001b\\\n"
      ]
     },
     "metadata": {},
     "output_type": "display_data"
    },
    {
     "data": {
      "application/vnd.jupyter.widget-view+json": {
       "model_id": "27f26ece7e2049578e0210206ef972af",
       "version_major": 2,
       "version_minor": 0
      },
      "text/plain": [
       "Output()"
      ]
     },
     "metadata": {},
     "output_type": "display_data"
    },
    {
     "data": {
      "text/html": [
       "<pre style=\"white-space:pre;overflow-x:auto;line-height:normal;font-family:Menlo,'DejaVu Sans Mono',consolas,'Courier New',monospace\"></pre>\n"
      ],
      "text/plain": []
     },
     "metadata": {},
     "output_type": "display_data"
    },
    {
     "data": {
      "text/html": [
       "<pre style=\"white-space:pre;overflow-x:auto;line-height:normal;font-family:Menlo,'DejaVu Sans Mono',consolas,'Courier New',monospace\"><span style=\"color: #7fbfbf; text-decoration-color: #7fbfbf\">[12/07/24 15:07:50] </span><span style=\"color: #000080; text-decoration-color: #000080\">INFO    </span> <span style=\"color: #0000ff; text-decoration-color: #0000ff\">train</span>  - <span style=\"font-weight: bold\">(</span>Train<span style=\"font-weight: bold\">)</span> bce:  <span style=\"color: #008080; text-decoration-color: #008080; font-weight: bold\">0.3227</span>, mse:  <span style=\"color: #008080; text-decoration-color: #008080; font-weight: bold\">0.8717</span>,  acc: <span style=\"color: #008080; text-decoration-color: #008080; font-weight: bold\">89.413</span> %,   <a href=\"file:///n/home09/pren/3DGeno_tools/src/gt3d/modules/higashi/Higashi_wrapper.py\" target=\"_blank\"><span style=\"color: #7f7f7f; text-decoration-color: #7f7f7f\">Higashi_wrapper.py</span></a><span style=\"color: #7f7f7f; text-decoration-color: #7f7f7f\">:</span><a href=\"file:///n/home09/pren/3DGeno_tools/src/gt3d/modules/higashi/Higashi_wrapper.py#1258\" target=\"_blank\"><span style=\"color: #7f7f7f; text-decoration-color: #7f7f7f\">1258</span></a>\n",
       "<span style=\"color: #7fbfbf; text-decoration-color: #7fbfbf\">                    </span>         pearson: <span style=\"color: #008080; text-decoration-color: #008080; font-weight: bold\">0.670</span>, spearman: <span style=\"color: #008080; text-decoration-color: #008080; font-weight: bold\">0.573</span>, elapse: <span style=\"color: #008080; text-decoration-color: #008080; font-weight: bold\">88.949</span> s              <span style=\"color: #7f7f7f; text-decoration-color: #7f7f7f\">                       </span>\n",
       "</pre>\n"
      ],
      "text/plain": [
       "\u001b[2;36m[12/07/24 15:07:50]\u001b[0m\u001b[2;36m \u001b[0m\u001b[34mINFO    \u001b[0m \u001b[94mtrain\u001b[0m  - \u001b[1m(\u001b[0mTrain\u001b[1m)\u001b[0m bce:  \u001b[1;36m0.3227\u001b[0m, mse:  \u001b[1;36m0.8717\u001b[0m,  acc: \u001b[1;36m89.413\u001b[0m %,   \u001b]8;id=822805;file:///n/home09/pren/3DGeno_tools/src/gt3d/modules/higashi/Higashi_wrapper.py\u001b\\\u001b[2mHigashi_wrapper.py\u001b[0m\u001b]8;;\u001b\\\u001b[2m:\u001b[0m\u001b]8;id=615292;file:///n/home09/pren/3DGeno_tools/src/gt3d/modules/higashi/Higashi_wrapper.py#1258\u001b\\\u001b[2m1258\u001b[0m\u001b]8;;\u001b\\\n",
       "\u001b[2;36m                    \u001b[0m         pearson: \u001b[1;36m0.670\u001b[0m, spearman: \u001b[1;36m0.573\u001b[0m, elapse: \u001b[1;36m88.949\u001b[0m s              \u001b[2m                       \u001b[0m\n"
      ]
     },
     "metadata": {},
     "output_type": "display_data"
    },
    {
     "data": {
      "application/vnd.jupyter.widget-view+json": {
       "model_id": "0af8524f9c304c6da2ca18e1b96939aa",
       "version_major": 2,
       "version_minor": 0
      },
      "text/plain": [
       "Output()"
      ]
     },
     "metadata": {},
     "output_type": "display_data"
    },
    {
     "data": {
      "text/html": [
       "<pre style=\"white-space:pre;overflow-x:auto;line-height:normal;font-family:Menlo,'DejaVu Sans Mono',consolas,'Courier New',monospace\"></pre>\n"
      ],
      "text/plain": []
     },
     "metadata": {},
     "output_type": "display_data"
    },
    {
     "data": {
      "text/html": [
       "<pre style=\"white-space:pre;overflow-x:auto;line-height:normal;font-family:Menlo,'DejaVu Sans Mono',consolas,'Courier New',monospace\"><span style=\"color: #7fbfbf; text-decoration-color: #7fbfbf\">                    </span><span style=\"color: #000080; text-decoration-color: #000080\">INFO    </span> <span style=\"color: #0000ff; text-decoration-color: #0000ff\">train</span>  - <span style=\"font-weight: bold\">(</span>Valid<span style=\"font-weight: bold\">)</span> bce:  <span style=\"color: #008080; text-decoration-color: #008080; font-weight: bold\">0.3545</span>,  acc: <span style=\"color: #008080; text-decoration-color: #008080; font-weight: bold\">88.249</span> %,pearson: <span style=\"color: #008080; text-decoration-color: #008080; font-weight: bold\">0.616</span>,  <a href=\"file:///n/home09/pren/3DGeno_tools/src/gt3d/modules/higashi/Higashi_wrapper.py\" target=\"_blank\"><span style=\"color: #7f7f7f; text-decoration-color: #7f7f7f\">Higashi_wrapper.py</span></a><span style=\"color: #7f7f7f; text-decoration-color: #7f7f7f\">:</span><a href=\"file:///n/home09/pren/3DGeno_tools/src/gt3d/modules/higashi/Higashi_wrapper.py#1277\" target=\"_blank\"><span style=\"color: #7f7f7f; text-decoration-color: #7f7f7f\">1277</span></a>\n",
       "<span style=\"color: #7fbfbf; text-decoration-color: #7fbfbf\">                    </span>         spearman: <span style=\"color: #008080; text-decoration-color: #008080; font-weight: bold\">0.552</span>,elapse: <span style=\"color: #008080; text-decoration-color: #008080; font-weight: bold\">0.052</span> s                                <span style=\"color: #7f7f7f; text-decoration-color: #7f7f7f\">                       </span>\n",
       "</pre>\n"
      ],
      "text/plain": [
       "\u001b[2;36m                   \u001b[0m\u001b[2;36m \u001b[0m\u001b[34mINFO    \u001b[0m \u001b[94mtrain\u001b[0m  - \u001b[1m(\u001b[0mValid\u001b[1m)\u001b[0m bce:  \u001b[1;36m0.3545\u001b[0m,  acc: \u001b[1;36m88.249\u001b[0m %,pearson: \u001b[1;36m0.616\u001b[0m,  \u001b]8;id=228466;file:///n/home09/pren/3DGeno_tools/src/gt3d/modules/higashi/Higashi_wrapper.py\u001b\\\u001b[2mHigashi_wrapper.py\u001b[0m\u001b]8;;\u001b\\\u001b[2m:\u001b[0m\u001b]8;id=895974;file:///n/home09/pren/3DGeno_tools/src/gt3d/modules/higashi/Higashi_wrapper.py#1277\u001b\\\u001b[2m1277\u001b[0m\u001b]8;;\u001b\\\n",
       "\u001b[2;36m                    \u001b[0m         spearman: \u001b[1;36m0.552\u001b[0m,elapse: \u001b[1;36m0.052\u001b[0m s                                \u001b[2m                       \u001b[0m\n"
      ]
     },
     "metadata": {},
     "output_type": "display_data"
    },
    {
     "data": {
      "text/html": [
       "<pre style=\"white-space:pre;overflow-x:auto;line-height:normal;font-family:Menlo,'DejaVu Sans Mono',consolas,'Courier New',monospace\"><span style=\"color: #7fbfbf; text-decoration-color: #7fbfbf\">                    </span><span style=\"color: #000080; text-decoration-color: #000080\">INFO    </span> <span style=\"color: #0000ff; text-decoration-color: #0000ff\">train</span> update_rate: <span style=\"color: #008080; text-decoration-color: #008080; font-weight: bold\">0.005210</span>     <span style=\"color: #008080; text-decoration-color: #008080; font-weight: bold\">0.110219</span>                       <a href=\"file:///n/home09/pren/3DGeno_tools/src/gt3d/modules/higashi/Higashi_wrapper.py\" target=\"_blank\"><span style=\"color: #7f7f7f; text-decoration-color: #7f7f7f\">Higashi_wrapper.py</span></a><span style=\"color: #7f7f7f; text-decoration-color: #7f7f7f\">:</span><a href=\"file:///n/home09/pren/3DGeno_tools/src/gt3d/modules/higashi/Higashi_wrapper.py#1323\" target=\"_blank\"><span style=\"color: #7f7f7f; text-decoration-color: #7f7f7f\">1323</span></a>\n",
       "</pre>\n"
      ],
      "text/plain": [
       "\u001b[2;36m                   \u001b[0m\u001b[2;36m \u001b[0m\u001b[34mINFO    \u001b[0m \u001b[94mtrain\u001b[0m update_rate: \u001b[1;36m0.005210\u001b[0m     \u001b[1;36m0.110219\u001b[0m                       \u001b]8;id=33101;file:///n/home09/pren/3DGeno_tools/src/gt3d/modules/higashi/Higashi_wrapper.py\u001b\\\u001b[2mHigashi_wrapper.py\u001b[0m\u001b]8;;\u001b\\\u001b[2m:\u001b[0m\u001b]8;id=962304;file:///n/home09/pren/3DGeno_tools/src/gt3d/modules/higashi/Higashi_wrapper.py#1323\u001b\\\u001b[2m1323\u001b[0m\u001b]8;;\u001b\\\n"
      ]
     },
     "metadata": {},
     "output_type": "display_data"
    },
    {
     "data": {
      "text/html": [
       "<pre style=\"white-space:pre;overflow-x:auto;line-height:normal;font-family:Menlo,'DejaVu Sans Mono',consolas,'Courier New',monospace\"><span style=\"color: #7fbfbf; text-decoration-color: #7fbfbf\">                    </span><span style=\"color: #000080; text-decoration-color: #000080\">INFO    </span> <span style=\"color: #0000ff; text-decoration-color: #0000ff\">train</span> <span style=\"font-weight: bold\">[</span> Epoch <span style=\"color: #008080; text-decoration-color: #008080; font-weight: bold\">25</span> of <span style=\"color: #008080; text-decoration-color: #008080; font-weight: bold\">65</span> <span style=\"font-weight: bold\">]</span>                                       <a href=\"file:///n/home09/pren/3DGeno_tools/src/gt3d/modules/higashi/Higashi_wrapper.py\" target=\"_blank\"><span style=\"color: #7f7f7f; text-decoration-color: #7f7f7f\">Higashi_wrapper.py</span></a><span style=\"color: #7f7f7f; text-decoration-color: #7f7f7f\">:</span><a href=\"file:///n/home09/pren/3DGeno_tools/src/gt3d/modules/higashi/Higashi_wrapper.py#1245\" target=\"_blank\"><span style=\"color: #7f7f7f; text-decoration-color: #7f7f7f\">1245</span></a>\n",
       "</pre>\n"
      ],
      "text/plain": [
       "\u001b[2;36m                   \u001b[0m\u001b[2;36m \u001b[0m\u001b[34mINFO    \u001b[0m \u001b[94mtrain\u001b[0m \u001b[1m[\u001b[0m Epoch \u001b[1;36m25\u001b[0m of \u001b[1;36m65\u001b[0m \u001b[1m]\u001b[0m                                       \u001b]8;id=255101;file:///n/home09/pren/3DGeno_tools/src/gt3d/modules/higashi/Higashi_wrapper.py\u001b\\\u001b[2mHigashi_wrapper.py\u001b[0m\u001b]8;;\u001b\\\u001b[2m:\u001b[0m\u001b]8;id=811197;file:///n/home09/pren/3DGeno_tools/src/gt3d/modules/higashi/Higashi_wrapper.py#1245\u001b\\\u001b[2m1245\u001b[0m\u001b]8;;\u001b\\\n"
      ]
     },
     "metadata": {},
     "output_type": "display_data"
    },
    {
     "data": {
      "application/vnd.jupyter.widget-view+json": {
       "model_id": "4fa5b38cb48e4eca85e646fb179d5fc7",
       "version_major": 2,
       "version_minor": 0
      },
      "text/plain": [
       "Output()"
      ]
     },
     "metadata": {},
     "output_type": "display_data"
    },
    {
     "data": {
      "text/html": [
       "<pre style=\"white-space:pre;overflow-x:auto;line-height:normal;font-family:Menlo,'DejaVu Sans Mono',consolas,'Courier New',monospace\"></pre>\n"
      ],
      "text/plain": []
     },
     "metadata": {},
     "output_type": "display_data"
    },
    {
     "data": {
      "text/html": [
       "<pre style=\"white-space:pre;overflow-x:auto;line-height:normal;font-family:Menlo,'DejaVu Sans Mono',consolas,'Courier New',monospace\"><span style=\"color: #7fbfbf; text-decoration-color: #7fbfbf\">[12/07/24 15:09:19] </span><span style=\"color: #000080; text-decoration-color: #000080\">INFO    </span> <span style=\"color: #0000ff; text-decoration-color: #0000ff\">train</span>  - <span style=\"font-weight: bold\">(</span>Train<span style=\"font-weight: bold\">)</span> bce:  <span style=\"color: #008080; text-decoration-color: #008080; font-weight: bold\">0.3231</span>, mse:  <span style=\"color: #008080; text-decoration-color: #008080; font-weight: bold\">0.9017</span>,  acc: <span style=\"color: #008080; text-decoration-color: #008080; font-weight: bold\">89.389</span> %,   <a href=\"file:///n/home09/pren/3DGeno_tools/src/gt3d/modules/higashi/Higashi_wrapper.py\" target=\"_blank\"><span style=\"color: #7f7f7f; text-decoration-color: #7f7f7f\">Higashi_wrapper.py</span></a><span style=\"color: #7f7f7f; text-decoration-color: #7f7f7f\">:</span><a href=\"file:///n/home09/pren/3DGeno_tools/src/gt3d/modules/higashi/Higashi_wrapper.py#1258\" target=\"_blank\"><span style=\"color: #7f7f7f; text-decoration-color: #7f7f7f\">1258</span></a>\n",
       "<span style=\"color: #7fbfbf; text-decoration-color: #7fbfbf\">                    </span>         pearson: <span style=\"color: #008080; text-decoration-color: #008080; font-weight: bold\">0.669</span>, spearman: <span style=\"color: #008080; text-decoration-color: #008080; font-weight: bold\">0.572</span>, elapse: <span style=\"color: #008080; text-decoration-color: #008080; font-weight: bold\">88.768</span> s              <span style=\"color: #7f7f7f; text-decoration-color: #7f7f7f\">                       </span>\n",
       "</pre>\n"
      ],
      "text/plain": [
       "\u001b[2;36m[12/07/24 15:09:19]\u001b[0m\u001b[2;36m \u001b[0m\u001b[34mINFO    \u001b[0m \u001b[94mtrain\u001b[0m  - \u001b[1m(\u001b[0mTrain\u001b[1m)\u001b[0m bce:  \u001b[1;36m0.3231\u001b[0m, mse:  \u001b[1;36m0.9017\u001b[0m,  acc: \u001b[1;36m89.389\u001b[0m %,   \u001b]8;id=337147;file:///n/home09/pren/3DGeno_tools/src/gt3d/modules/higashi/Higashi_wrapper.py\u001b\\\u001b[2mHigashi_wrapper.py\u001b[0m\u001b]8;;\u001b\\\u001b[2m:\u001b[0m\u001b]8;id=883276;file:///n/home09/pren/3DGeno_tools/src/gt3d/modules/higashi/Higashi_wrapper.py#1258\u001b\\\u001b[2m1258\u001b[0m\u001b]8;;\u001b\\\n",
       "\u001b[2;36m                    \u001b[0m         pearson: \u001b[1;36m0.669\u001b[0m, spearman: \u001b[1;36m0.572\u001b[0m, elapse: \u001b[1;36m88.768\u001b[0m s              \u001b[2m                       \u001b[0m\n"
      ]
     },
     "metadata": {},
     "output_type": "display_data"
    },
    {
     "data": {
      "application/vnd.jupyter.widget-view+json": {
       "model_id": "98ee608ffff54237b23e56db0546ff70",
       "version_major": 2,
       "version_minor": 0
      },
      "text/plain": [
       "Output()"
      ]
     },
     "metadata": {},
     "output_type": "display_data"
    },
    {
     "data": {
      "text/html": [
       "<pre style=\"white-space:pre;overflow-x:auto;line-height:normal;font-family:Menlo,'DejaVu Sans Mono',consolas,'Courier New',monospace\"></pre>\n"
      ],
      "text/plain": []
     },
     "metadata": {},
     "output_type": "display_data"
    },
    {
     "data": {
      "text/html": [
       "<pre style=\"white-space:pre;overflow-x:auto;line-height:normal;font-family:Menlo,'DejaVu Sans Mono',consolas,'Courier New',monospace\"><span style=\"color: #7fbfbf; text-decoration-color: #7fbfbf\">                    </span><span style=\"color: #000080; text-decoration-color: #000080\">INFO    </span> <span style=\"color: #0000ff; text-decoration-color: #0000ff\">train</span>  - <span style=\"font-weight: bold\">(</span>Valid<span style=\"font-weight: bold\">)</span> bce:  <span style=\"color: #008080; text-decoration-color: #008080; font-weight: bold\">0.3437</span>,  acc: <span style=\"color: #008080; text-decoration-color: #008080; font-weight: bold\">88.158</span> %,pearson: <span style=\"color: #008080; text-decoration-color: #008080; font-weight: bold\">0.624</span>,  <a href=\"file:///n/home09/pren/3DGeno_tools/src/gt3d/modules/higashi/Higashi_wrapper.py\" target=\"_blank\"><span style=\"color: #7f7f7f; text-decoration-color: #7f7f7f\">Higashi_wrapper.py</span></a><span style=\"color: #7f7f7f; text-decoration-color: #7f7f7f\">:</span><a href=\"file:///n/home09/pren/3DGeno_tools/src/gt3d/modules/higashi/Higashi_wrapper.py#1277\" target=\"_blank\"><span style=\"color: #7f7f7f; text-decoration-color: #7f7f7f\">1277</span></a>\n",
       "<span style=\"color: #7fbfbf; text-decoration-color: #7fbfbf\">                    </span>         spearman: <span style=\"color: #008080; text-decoration-color: #008080; font-weight: bold\">0.553</span>,elapse: <span style=\"color: #008080; text-decoration-color: #008080; font-weight: bold\">0.051</span> s                                <span style=\"color: #7f7f7f; text-decoration-color: #7f7f7f\">                       </span>\n",
       "</pre>\n"
      ],
      "text/plain": [
       "\u001b[2;36m                   \u001b[0m\u001b[2;36m \u001b[0m\u001b[34mINFO    \u001b[0m \u001b[94mtrain\u001b[0m  - \u001b[1m(\u001b[0mValid\u001b[1m)\u001b[0m bce:  \u001b[1;36m0.3437\u001b[0m,  acc: \u001b[1;36m88.158\u001b[0m %,pearson: \u001b[1;36m0.624\u001b[0m,  \u001b]8;id=619314;file:///n/home09/pren/3DGeno_tools/src/gt3d/modules/higashi/Higashi_wrapper.py\u001b\\\u001b[2mHigashi_wrapper.py\u001b[0m\u001b]8;;\u001b\\\u001b[2m:\u001b[0m\u001b]8;id=571050;file:///n/home09/pren/3DGeno_tools/src/gt3d/modules/higashi/Higashi_wrapper.py#1277\u001b\\\u001b[2m1277\u001b[0m\u001b]8;;\u001b\\\n",
       "\u001b[2;36m                    \u001b[0m         spearman: \u001b[1;36m0.553\u001b[0m,elapse: \u001b[1;36m0.051\u001b[0m s                                \u001b[2m                       \u001b[0m\n"
      ]
     },
     "metadata": {},
     "output_type": "display_data"
    },
    {
     "data": {
      "text/html": [
       "<pre style=\"white-space:pre;overflow-x:auto;line-height:normal;font-family:Menlo,'DejaVu Sans Mono',consolas,'Courier New',monospace\"><span style=\"color: #7fbfbf; text-decoration-color: #7fbfbf\">                    </span><span style=\"color: #000080; text-decoration-color: #000080\">INFO    </span> <span style=\"color: #0000ff; text-decoration-color: #0000ff\">train</span> update_rate: <span style=\"color: #008080; text-decoration-color: #008080; font-weight: bold\">0.004963</span>     <span style=\"color: #008080; text-decoration-color: #008080; font-weight: bold\">0.177729</span>                       <a href=\"file:///n/home09/pren/3DGeno_tools/src/gt3d/modules/higashi/Higashi_wrapper.py\" target=\"_blank\"><span style=\"color: #7f7f7f; text-decoration-color: #7f7f7f\">Higashi_wrapper.py</span></a><span style=\"color: #7f7f7f; text-decoration-color: #7f7f7f\">:</span><a href=\"file:///n/home09/pren/3DGeno_tools/src/gt3d/modules/higashi/Higashi_wrapper.py#1323\" target=\"_blank\"><span style=\"color: #7f7f7f; text-decoration-color: #7f7f7f\">1323</span></a>\n",
       "</pre>\n"
      ],
      "text/plain": [
       "\u001b[2;36m                   \u001b[0m\u001b[2;36m \u001b[0m\u001b[34mINFO    \u001b[0m \u001b[94mtrain\u001b[0m update_rate: \u001b[1;36m0.004963\u001b[0m     \u001b[1;36m0.177729\u001b[0m                       \u001b]8;id=714694;file:///n/home09/pren/3DGeno_tools/src/gt3d/modules/higashi/Higashi_wrapper.py\u001b\\\u001b[2mHigashi_wrapper.py\u001b[0m\u001b]8;;\u001b\\\u001b[2m:\u001b[0m\u001b]8;id=278952;file:///n/home09/pren/3DGeno_tools/src/gt3d/modules/higashi/Higashi_wrapper.py#1323\u001b\\\u001b[2m1323\u001b[0m\u001b]8;;\u001b\\\n"
      ]
     },
     "metadata": {},
     "output_type": "display_data"
    },
    {
     "data": {
      "text/html": [
       "<pre style=\"white-space:pre;overflow-x:auto;line-height:normal;font-family:Menlo,'DejaVu Sans Mono',consolas,'Courier New',monospace\"><span style=\"color: #7fbfbf; text-decoration-color: #7fbfbf\">                    </span><span style=\"color: #000080; text-decoration-color: #000080\">INFO    </span> <span style=\"color: #0000ff; text-decoration-color: #0000ff\">train</span> <span style=\"font-weight: bold\">[</span> Epoch <span style=\"color: #008080; text-decoration-color: #008080; font-weight: bold\">26</span> of <span style=\"color: #008080; text-decoration-color: #008080; font-weight: bold\">65</span> <span style=\"font-weight: bold\">]</span>                                       <a href=\"file:///n/home09/pren/3DGeno_tools/src/gt3d/modules/higashi/Higashi_wrapper.py\" target=\"_blank\"><span style=\"color: #7f7f7f; text-decoration-color: #7f7f7f\">Higashi_wrapper.py</span></a><span style=\"color: #7f7f7f; text-decoration-color: #7f7f7f\">:</span><a href=\"file:///n/home09/pren/3DGeno_tools/src/gt3d/modules/higashi/Higashi_wrapper.py#1245\" target=\"_blank\"><span style=\"color: #7f7f7f; text-decoration-color: #7f7f7f\">1245</span></a>\n",
       "</pre>\n"
      ],
      "text/plain": [
       "\u001b[2;36m                   \u001b[0m\u001b[2;36m \u001b[0m\u001b[34mINFO    \u001b[0m \u001b[94mtrain\u001b[0m \u001b[1m[\u001b[0m Epoch \u001b[1;36m26\u001b[0m of \u001b[1;36m65\u001b[0m \u001b[1m]\u001b[0m                                       \u001b]8;id=172749;file:///n/home09/pren/3DGeno_tools/src/gt3d/modules/higashi/Higashi_wrapper.py\u001b\\\u001b[2mHigashi_wrapper.py\u001b[0m\u001b]8;;\u001b\\\u001b[2m:\u001b[0m\u001b]8;id=590476;file:///n/home09/pren/3DGeno_tools/src/gt3d/modules/higashi/Higashi_wrapper.py#1245\u001b\\\u001b[2m1245\u001b[0m\u001b]8;;\u001b\\\n"
      ]
     },
     "metadata": {},
     "output_type": "display_data"
    },
    {
     "data": {
      "application/vnd.jupyter.widget-view+json": {
       "model_id": "35de051fe38d428c969a9a5dadd23c7e",
       "version_major": 2,
       "version_minor": 0
      },
      "text/plain": [
       "Output()"
      ]
     },
     "metadata": {},
     "output_type": "display_data"
    },
    {
     "data": {
      "text/html": [
       "<pre style=\"white-space:pre;overflow-x:auto;line-height:normal;font-family:Menlo,'DejaVu Sans Mono',consolas,'Courier New',monospace\"></pre>\n"
      ],
      "text/plain": []
     },
     "metadata": {},
     "output_type": "display_data"
    },
    {
     "data": {
      "text/html": [
       "<pre style=\"white-space:pre;overflow-x:auto;line-height:normal;font-family:Menlo,'DejaVu Sans Mono',consolas,'Courier New',monospace\"><span style=\"color: #7fbfbf; text-decoration-color: #7fbfbf\">[12/07/24 15:10:50] </span><span style=\"color: #000080; text-decoration-color: #000080\">INFO    </span> <span style=\"color: #0000ff; text-decoration-color: #0000ff\">train</span>  - <span style=\"font-weight: bold\">(</span>Train<span style=\"font-weight: bold\">)</span> bce:  <span style=\"color: #008080; text-decoration-color: #008080; font-weight: bold\">0.3212</span>, mse:  <span style=\"color: #008080; text-decoration-color: #008080; font-weight: bold\">0.9651</span>,  acc: <span style=\"color: #008080; text-decoration-color: #008080; font-weight: bold\">89.486</span> %,   <a href=\"file:///n/home09/pren/3DGeno_tools/src/gt3d/modules/higashi/Higashi_wrapper.py\" target=\"_blank\"><span style=\"color: #7f7f7f; text-decoration-color: #7f7f7f\">Higashi_wrapper.py</span></a><span style=\"color: #7f7f7f; text-decoration-color: #7f7f7f\">:</span><a href=\"file:///n/home09/pren/3DGeno_tools/src/gt3d/modules/higashi/Higashi_wrapper.py#1258\" target=\"_blank\"><span style=\"color: #7f7f7f; text-decoration-color: #7f7f7f\">1258</span></a>\n",
       "<span style=\"color: #7fbfbf; text-decoration-color: #7fbfbf\">                    </span>         pearson: <span style=\"color: #008080; text-decoration-color: #008080; font-weight: bold\">0.673</span>, spearman: <span style=\"color: #008080; text-decoration-color: #008080; font-weight: bold\">0.574</span>, elapse: <span style=\"color: #008080; text-decoration-color: #008080; font-weight: bold\">90.287</span> s              <span style=\"color: #7f7f7f; text-decoration-color: #7f7f7f\">                       </span>\n",
       "</pre>\n"
      ],
      "text/plain": [
       "\u001b[2;36m[12/07/24 15:10:50]\u001b[0m\u001b[2;36m \u001b[0m\u001b[34mINFO    \u001b[0m \u001b[94mtrain\u001b[0m  - \u001b[1m(\u001b[0mTrain\u001b[1m)\u001b[0m bce:  \u001b[1;36m0.3212\u001b[0m, mse:  \u001b[1;36m0.9651\u001b[0m,  acc: \u001b[1;36m89.486\u001b[0m %,   \u001b]8;id=931317;file:///n/home09/pren/3DGeno_tools/src/gt3d/modules/higashi/Higashi_wrapper.py\u001b\\\u001b[2mHigashi_wrapper.py\u001b[0m\u001b]8;;\u001b\\\u001b[2m:\u001b[0m\u001b]8;id=86248;file:///n/home09/pren/3DGeno_tools/src/gt3d/modules/higashi/Higashi_wrapper.py#1258\u001b\\\u001b[2m1258\u001b[0m\u001b]8;;\u001b\\\n",
       "\u001b[2;36m                    \u001b[0m         pearson: \u001b[1;36m0.673\u001b[0m, spearman: \u001b[1;36m0.574\u001b[0m, elapse: \u001b[1;36m90.287\u001b[0m s              \u001b[2m                       \u001b[0m\n"
      ]
     },
     "metadata": {},
     "output_type": "display_data"
    },
    {
     "data": {
      "application/vnd.jupyter.widget-view+json": {
       "model_id": "69394568eaf84a33ac1e3899bc4aa89a",
       "version_major": 2,
       "version_minor": 0
      },
      "text/plain": [
       "Output()"
      ]
     },
     "metadata": {},
     "output_type": "display_data"
    },
    {
     "data": {
      "text/html": [
       "<pre style=\"white-space:pre;overflow-x:auto;line-height:normal;font-family:Menlo,'DejaVu Sans Mono',consolas,'Courier New',monospace\"></pre>\n"
      ],
      "text/plain": []
     },
     "metadata": {},
     "output_type": "display_data"
    },
    {
     "data": {
      "text/html": [
       "<pre style=\"white-space:pre;overflow-x:auto;line-height:normal;font-family:Menlo,'DejaVu Sans Mono',consolas,'Courier New',monospace\"><span style=\"color: #7fbfbf; text-decoration-color: #7fbfbf\">                    </span><span style=\"color: #000080; text-decoration-color: #000080\">INFO    </span> <span style=\"color: #0000ff; text-decoration-color: #0000ff\">train</span>  - <span style=\"font-weight: bold\">(</span>Valid<span style=\"font-weight: bold\">)</span> bce:  <span style=\"color: #008080; text-decoration-color: #008080; font-weight: bold\">0.3641</span>,  acc: <span style=\"color: #008080; text-decoration-color: #008080; font-weight: bold\">88.626</span> %,pearson: <span style=\"color: #008080; text-decoration-color: #008080; font-weight: bold\">0.624</span>,  <a href=\"file:///n/home09/pren/3DGeno_tools/src/gt3d/modules/higashi/Higashi_wrapper.py\" target=\"_blank\"><span style=\"color: #7f7f7f; text-decoration-color: #7f7f7f\">Higashi_wrapper.py</span></a><span style=\"color: #7f7f7f; text-decoration-color: #7f7f7f\">:</span><a href=\"file:///n/home09/pren/3DGeno_tools/src/gt3d/modules/higashi/Higashi_wrapper.py#1277\" target=\"_blank\"><span style=\"color: #7f7f7f; text-decoration-color: #7f7f7f\">1277</span></a>\n",
       "<span style=\"color: #7fbfbf; text-decoration-color: #7fbfbf\">                    </span>         spearman: <span style=\"color: #008080; text-decoration-color: #008080; font-weight: bold\">0.555</span>,elapse: <span style=\"color: #008080; text-decoration-color: #008080; font-weight: bold\">0.052</span> s                                <span style=\"color: #7f7f7f; text-decoration-color: #7f7f7f\">                       </span>\n",
       "</pre>\n"
      ],
      "text/plain": [
       "\u001b[2;36m                   \u001b[0m\u001b[2;36m \u001b[0m\u001b[34mINFO    \u001b[0m \u001b[94mtrain\u001b[0m  - \u001b[1m(\u001b[0mValid\u001b[1m)\u001b[0m bce:  \u001b[1;36m0.3641\u001b[0m,  acc: \u001b[1;36m88.626\u001b[0m %,pearson: \u001b[1;36m0.624\u001b[0m,  \u001b]8;id=203240;file:///n/home09/pren/3DGeno_tools/src/gt3d/modules/higashi/Higashi_wrapper.py\u001b\\\u001b[2mHigashi_wrapper.py\u001b[0m\u001b]8;;\u001b\\\u001b[2m:\u001b[0m\u001b]8;id=868273;file:///n/home09/pren/3DGeno_tools/src/gt3d/modules/higashi/Higashi_wrapper.py#1277\u001b\\\u001b[2m1277\u001b[0m\u001b]8;;\u001b\\\n",
       "\u001b[2;36m                    \u001b[0m         spearman: \u001b[1;36m0.555\u001b[0m,elapse: \u001b[1;36m0.052\u001b[0m s                                \u001b[2m                       \u001b[0m\n"
      ]
     },
     "metadata": {},
     "output_type": "display_data"
    },
    {
     "data": {
      "text/html": [
       "<pre style=\"white-space:pre;overflow-x:auto;line-height:normal;font-family:Menlo,'DejaVu Sans Mono',consolas,'Courier New',monospace\"><span style=\"color: #7fbfbf; text-decoration-color: #7fbfbf\">                    </span><span style=\"color: #000080; text-decoration-color: #000080\">INFO    </span> <span style=\"color: #0000ff; text-decoration-color: #0000ff\">train</span> update_rate: <span style=\"color: #008080; text-decoration-color: #008080; font-weight: bold\">0.005615</span>     <span style=\"color: #008080; text-decoration-color: #008080; font-weight: bold\">0.194308</span>                       <a href=\"file:///n/home09/pren/3DGeno_tools/src/gt3d/modules/higashi/Higashi_wrapper.py\" target=\"_blank\"><span style=\"color: #7f7f7f; text-decoration-color: #7f7f7f\">Higashi_wrapper.py</span></a><span style=\"color: #7f7f7f; text-decoration-color: #7f7f7f\">:</span><a href=\"file:///n/home09/pren/3DGeno_tools/src/gt3d/modules/higashi/Higashi_wrapper.py#1323\" target=\"_blank\"><span style=\"color: #7f7f7f; text-decoration-color: #7f7f7f\">1323</span></a>\n",
       "</pre>\n"
      ],
      "text/plain": [
       "\u001b[2;36m                   \u001b[0m\u001b[2;36m \u001b[0m\u001b[34mINFO    \u001b[0m \u001b[94mtrain\u001b[0m update_rate: \u001b[1;36m0.005615\u001b[0m     \u001b[1;36m0.194308\u001b[0m                       \u001b]8;id=398846;file:///n/home09/pren/3DGeno_tools/src/gt3d/modules/higashi/Higashi_wrapper.py\u001b\\\u001b[2mHigashi_wrapper.py\u001b[0m\u001b]8;;\u001b\\\u001b[2m:\u001b[0m\u001b]8;id=778821;file:///n/home09/pren/3DGeno_tools/src/gt3d/modules/higashi/Higashi_wrapper.py#1323\u001b\\\u001b[2m1323\u001b[0m\u001b]8;;\u001b\\\n"
      ]
     },
     "metadata": {},
     "output_type": "display_data"
    },
    {
     "data": {
      "text/html": [
       "<pre style=\"white-space:pre;overflow-x:auto;line-height:normal;font-family:Menlo,'DejaVu Sans Mono',consolas,'Courier New',monospace\"><span style=\"color: #7fbfbf; text-decoration-color: #7fbfbf\">                    </span><span style=\"color: #000080; text-decoration-color: #000080\">INFO    </span> <span style=\"color: #0000ff; text-decoration-color: #0000ff\">train</span> <span style=\"font-weight: bold\">[</span> Epoch <span style=\"color: #008080; text-decoration-color: #008080; font-weight: bold\">27</span> of <span style=\"color: #008080; text-decoration-color: #008080; font-weight: bold\">65</span> <span style=\"font-weight: bold\">]</span>                                       <a href=\"file:///n/home09/pren/3DGeno_tools/src/gt3d/modules/higashi/Higashi_wrapper.py\" target=\"_blank\"><span style=\"color: #7f7f7f; text-decoration-color: #7f7f7f\">Higashi_wrapper.py</span></a><span style=\"color: #7f7f7f; text-decoration-color: #7f7f7f\">:</span><a href=\"file:///n/home09/pren/3DGeno_tools/src/gt3d/modules/higashi/Higashi_wrapper.py#1245\" target=\"_blank\"><span style=\"color: #7f7f7f; text-decoration-color: #7f7f7f\">1245</span></a>\n",
       "</pre>\n"
      ],
      "text/plain": [
       "\u001b[2;36m                   \u001b[0m\u001b[2;36m \u001b[0m\u001b[34mINFO    \u001b[0m \u001b[94mtrain\u001b[0m \u001b[1m[\u001b[0m Epoch \u001b[1;36m27\u001b[0m of \u001b[1;36m65\u001b[0m \u001b[1m]\u001b[0m                                       \u001b]8;id=876916;file:///n/home09/pren/3DGeno_tools/src/gt3d/modules/higashi/Higashi_wrapper.py\u001b\\\u001b[2mHigashi_wrapper.py\u001b[0m\u001b]8;;\u001b\\\u001b[2m:\u001b[0m\u001b]8;id=540005;file:///n/home09/pren/3DGeno_tools/src/gt3d/modules/higashi/Higashi_wrapper.py#1245\u001b\\\u001b[2m1245\u001b[0m\u001b]8;;\u001b\\\n"
      ]
     },
     "metadata": {},
     "output_type": "display_data"
    },
    {
     "data": {
      "application/vnd.jupyter.widget-view+json": {
       "model_id": "40a258d3dc2649f8a0cccc7a5aaf672c",
       "version_major": 2,
       "version_minor": 0
      },
      "text/plain": [
       "Output()"
      ]
     },
     "metadata": {},
     "output_type": "display_data"
    },
    {
     "data": {
      "text/html": [
       "<pre style=\"white-space:pre;overflow-x:auto;line-height:normal;font-family:Menlo,'DejaVu Sans Mono',consolas,'Courier New',monospace\"></pre>\n"
      ],
      "text/plain": []
     },
     "metadata": {},
     "output_type": "display_data"
    },
    {
     "data": {
      "text/html": [
       "<pre style=\"white-space:pre;overflow-x:auto;line-height:normal;font-family:Menlo,'DejaVu Sans Mono',consolas,'Courier New',monospace\"><span style=\"color: #7fbfbf; text-decoration-color: #7fbfbf\">[12/07/24 15:12:19] </span><span style=\"color: #000080; text-decoration-color: #000080\">INFO    </span> <span style=\"color: #0000ff; text-decoration-color: #0000ff\">train</span>  - <span style=\"font-weight: bold\">(</span>Train<span style=\"font-weight: bold\">)</span> bce:  <span style=\"color: #008080; text-decoration-color: #008080; font-weight: bold\">0.3192</span>, mse:  <span style=\"color: #008080; text-decoration-color: #008080; font-weight: bold\">0.9814</span>,  acc: <span style=\"color: #008080; text-decoration-color: #008080; font-weight: bold\">89.630</span> %,   <a href=\"file:///n/home09/pren/3DGeno_tools/src/gt3d/modules/higashi/Higashi_wrapper.py\" target=\"_blank\"><span style=\"color: #7f7f7f; text-decoration-color: #7f7f7f\">Higashi_wrapper.py</span></a><span style=\"color: #7f7f7f; text-decoration-color: #7f7f7f\">:</span><a href=\"file:///n/home09/pren/3DGeno_tools/src/gt3d/modules/higashi/Higashi_wrapper.py#1258\" target=\"_blank\"><span style=\"color: #7f7f7f; text-decoration-color: #7f7f7f\">1258</span></a>\n",
       "<span style=\"color: #7fbfbf; text-decoration-color: #7fbfbf\">                    </span>         pearson: <span style=\"color: #008080; text-decoration-color: #008080; font-weight: bold\">0.677</span>, spearman: <span style=\"color: #008080; text-decoration-color: #008080; font-weight: bold\">0.576</span>, elapse: <span style=\"color: #008080; text-decoration-color: #008080; font-weight: bold\">88.903</span> s              <span style=\"color: #7f7f7f; text-decoration-color: #7f7f7f\">                       </span>\n",
       "</pre>\n"
      ],
      "text/plain": [
       "\u001b[2;36m[12/07/24 15:12:19]\u001b[0m\u001b[2;36m \u001b[0m\u001b[34mINFO    \u001b[0m \u001b[94mtrain\u001b[0m  - \u001b[1m(\u001b[0mTrain\u001b[1m)\u001b[0m bce:  \u001b[1;36m0.3192\u001b[0m, mse:  \u001b[1;36m0.9814\u001b[0m,  acc: \u001b[1;36m89.630\u001b[0m %,   \u001b]8;id=696397;file:///n/home09/pren/3DGeno_tools/src/gt3d/modules/higashi/Higashi_wrapper.py\u001b\\\u001b[2mHigashi_wrapper.py\u001b[0m\u001b]8;;\u001b\\\u001b[2m:\u001b[0m\u001b]8;id=445284;file:///n/home09/pren/3DGeno_tools/src/gt3d/modules/higashi/Higashi_wrapper.py#1258\u001b\\\u001b[2m1258\u001b[0m\u001b]8;;\u001b\\\n",
       "\u001b[2;36m                    \u001b[0m         pearson: \u001b[1;36m0.677\u001b[0m, spearman: \u001b[1;36m0.576\u001b[0m, elapse: \u001b[1;36m88.903\u001b[0m s              \u001b[2m                       \u001b[0m\n"
      ]
     },
     "metadata": {},
     "output_type": "display_data"
    },
    {
     "data": {
      "application/vnd.jupyter.widget-view+json": {
       "model_id": "dde9217a14ff436aa66605defad22d3d",
       "version_major": 2,
       "version_minor": 0
      },
      "text/plain": [
       "Output()"
      ]
     },
     "metadata": {},
     "output_type": "display_data"
    },
    {
     "data": {
      "text/html": [
       "<pre style=\"white-space:pre;overflow-x:auto;line-height:normal;font-family:Menlo,'DejaVu Sans Mono',consolas,'Courier New',monospace\"></pre>\n"
      ],
      "text/plain": []
     },
     "metadata": {},
     "output_type": "display_data"
    },
    {
     "data": {
      "text/html": [
       "<pre style=\"white-space:pre;overflow-x:auto;line-height:normal;font-family:Menlo,'DejaVu Sans Mono',consolas,'Courier New',monospace\"><span style=\"color: #7fbfbf; text-decoration-color: #7fbfbf\">                    </span><span style=\"color: #000080; text-decoration-color: #000080\">INFO    </span> <span style=\"color: #0000ff; text-decoration-color: #0000ff\">train</span>  - <span style=\"font-weight: bold\">(</span>Valid<span style=\"font-weight: bold\">)</span> bce:  <span style=\"color: #008080; text-decoration-color: #008080; font-weight: bold\">0.3440</span>,  acc: <span style=\"color: #008080; text-decoration-color: #008080; font-weight: bold\">88.958</span> %,pearson: <span style=\"color: #008080; text-decoration-color: #008080; font-weight: bold\">0.641</span>,  <a href=\"file:///n/home09/pren/3DGeno_tools/src/gt3d/modules/higashi/Higashi_wrapper.py\" target=\"_blank\"><span style=\"color: #7f7f7f; text-decoration-color: #7f7f7f\">Higashi_wrapper.py</span></a><span style=\"color: #7f7f7f; text-decoration-color: #7f7f7f\">:</span><a href=\"file:///n/home09/pren/3DGeno_tools/src/gt3d/modules/higashi/Higashi_wrapper.py#1277\" target=\"_blank\"><span style=\"color: #7f7f7f; text-decoration-color: #7f7f7f\">1277</span></a>\n",
       "<span style=\"color: #7fbfbf; text-decoration-color: #7fbfbf\">                    </span>         spearman: <span style=\"color: #008080; text-decoration-color: #008080; font-weight: bold\">0.561</span>,elapse: <span style=\"color: #008080; text-decoration-color: #008080; font-weight: bold\">0.051</span> s                                <span style=\"color: #7f7f7f; text-decoration-color: #7f7f7f\">                       </span>\n",
       "</pre>\n"
      ],
      "text/plain": [
       "\u001b[2;36m                   \u001b[0m\u001b[2;36m \u001b[0m\u001b[34mINFO    \u001b[0m \u001b[94mtrain\u001b[0m  - \u001b[1m(\u001b[0mValid\u001b[1m)\u001b[0m bce:  \u001b[1;36m0.3440\u001b[0m,  acc: \u001b[1;36m88.958\u001b[0m %,pearson: \u001b[1;36m0.641\u001b[0m,  \u001b]8;id=805496;file:///n/home09/pren/3DGeno_tools/src/gt3d/modules/higashi/Higashi_wrapper.py\u001b\\\u001b[2mHigashi_wrapper.py\u001b[0m\u001b]8;;\u001b\\\u001b[2m:\u001b[0m\u001b]8;id=844062;file:///n/home09/pren/3DGeno_tools/src/gt3d/modules/higashi/Higashi_wrapper.py#1277\u001b\\\u001b[2m1277\u001b[0m\u001b]8;;\u001b\\\n",
       "\u001b[2;36m                    \u001b[0m         spearman: \u001b[1;36m0.561\u001b[0m,elapse: \u001b[1;36m0.051\u001b[0m s                                \u001b[2m                       \u001b[0m\n"
      ]
     },
     "metadata": {},
     "output_type": "display_data"
    },
    {
     "data": {
      "text/html": [
       "<pre style=\"white-space:pre;overflow-x:auto;line-height:normal;font-family:Menlo,'DejaVu Sans Mono',consolas,'Courier New',monospace\"><span style=\"color: #7fbfbf; text-decoration-color: #7fbfbf\">                    </span><span style=\"color: #000080; text-decoration-color: #000080\">INFO    </span> <span style=\"color: #0000ff; text-decoration-color: #0000ff\">train</span> update_rate: <span style=\"color: #008080; text-decoration-color: #008080; font-weight: bold\">0.005096</span>     <span style=\"color: #008080; text-decoration-color: #008080; font-weight: bold\">0.238078</span>                       <a href=\"file:///n/home09/pren/3DGeno_tools/src/gt3d/modules/higashi/Higashi_wrapper.py\" target=\"_blank\"><span style=\"color: #7f7f7f; text-decoration-color: #7f7f7f\">Higashi_wrapper.py</span></a><span style=\"color: #7f7f7f; text-decoration-color: #7f7f7f\">:</span><a href=\"file:///n/home09/pren/3DGeno_tools/src/gt3d/modules/higashi/Higashi_wrapper.py#1323\" target=\"_blank\"><span style=\"color: #7f7f7f; text-decoration-color: #7f7f7f\">1323</span></a>\n",
       "</pre>\n"
      ],
      "text/plain": [
       "\u001b[2;36m                   \u001b[0m\u001b[2;36m \u001b[0m\u001b[34mINFO    \u001b[0m \u001b[94mtrain\u001b[0m update_rate: \u001b[1;36m0.005096\u001b[0m     \u001b[1;36m0.238078\u001b[0m                       \u001b]8;id=242944;file:///n/home09/pren/3DGeno_tools/src/gt3d/modules/higashi/Higashi_wrapper.py\u001b\\\u001b[2mHigashi_wrapper.py\u001b[0m\u001b]8;;\u001b\\\u001b[2m:\u001b[0m\u001b]8;id=583312;file:///n/home09/pren/3DGeno_tools/src/gt3d/modules/higashi/Higashi_wrapper.py#1323\u001b\\\u001b[2m1323\u001b[0m\u001b]8;;\u001b\\\n"
      ]
     },
     "metadata": {},
     "output_type": "display_data"
    },
    {
     "data": {
      "text/html": [
       "<pre style=\"white-space:pre;overflow-x:auto;line-height:normal;font-family:Menlo,'DejaVu Sans Mono',consolas,'Courier New',monospace\"><span style=\"color: #7fbfbf; text-decoration-color: #7fbfbf\">                    </span><span style=\"color: #000080; text-decoration-color: #000080\">INFO    </span> <span style=\"color: #0000ff; text-decoration-color: #0000ff\">train</span> <span style=\"font-weight: bold\">[</span> Epoch <span style=\"color: #008080; text-decoration-color: #008080; font-weight: bold\">28</span> of <span style=\"color: #008080; text-decoration-color: #008080; font-weight: bold\">65</span> <span style=\"font-weight: bold\">]</span>                                       <a href=\"file:///n/home09/pren/3DGeno_tools/src/gt3d/modules/higashi/Higashi_wrapper.py\" target=\"_blank\"><span style=\"color: #7f7f7f; text-decoration-color: #7f7f7f\">Higashi_wrapper.py</span></a><span style=\"color: #7f7f7f; text-decoration-color: #7f7f7f\">:</span><a href=\"file:///n/home09/pren/3DGeno_tools/src/gt3d/modules/higashi/Higashi_wrapper.py#1245\" target=\"_blank\"><span style=\"color: #7f7f7f; text-decoration-color: #7f7f7f\">1245</span></a>\n",
       "</pre>\n"
      ],
      "text/plain": [
       "\u001b[2;36m                   \u001b[0m\u001b[2;36m \u001b[0m\u001b[34mINFO    \u001b[0m \u001b[94mtrain\u001b[0m \u001b[1m[\u001b[0m Epoch \u001b[1;36m28\u001b[0m of \u001b[1;36m65\u001b[0m \u001b[1m]\u001b[0m                                       \u001b]8;id=494526;file:///n/home09/pren/3DGeno_tools/src/gt3d/modules/higashi/Higashi_wrapper.py\u001b\\\u001b[2mHigashi_wrapper.py\u001b[0m\u001b]8;;\u001b\\\u001b[2m:\u001b[0m\u001b]8;id=871762;file:///n/home09/pren/3DGeno_tools/src/gt3d/modules/higashi/Higashi_wrapper.py#1245\u001b\\\u001b[2m1245\u001b[0m\u001b]8;;\u001b\\\n"
      ]
     },
     "metadata": {},
     "output_type": "display_data"
    },
    {
     "data": {
      "application/vnd.jupyter.widget-view+json": {
       "model_id": "8be0a6251ce44d938ea8ec487a14b8b0",
       "version_major": 2,
       "version_minor": 0
      },
      "text/plain": [
       "Output()"
      ]
     },
     "metadata": {},
     "output_type": "display_data"
    },
    {
     "data": {
      "text/html": [
       "<pre style=\"white-space:pre;overflow-x:auto;line-height:normal;font-family:Menlo,'DejaVu Sans Mono',consolas,'Courier New',monospace\"></pre>\n"
      ],
      "text/plain": []
     },
     "metadata": {},
     "output_type": "display_data"
    },
    {
     "data": {
      "text/html": [
       "<pre style=\"white-space:pre;overflow-x:auto;line-height:normal;font-family:Menlo,'DejaVu Sans Mono',consolas,'Courier New',monospace\"><span style=\"color: #7fbfbf; text-decoration-color: #7fbfbf\">[12/07/24 15:13:48] </span><span style=\"color: #000080; text-decoration-color: #000080\">INFO    </span> <span style=\"color: #0000ff; text-decoration-color: #0000ff\">train</span>  - <span style=\"font-weight: bold\">(</span>Train<span style=\"font-weight: bold\">)</span> bce:  <span style=\"color: #008080; text-decoration-color: #008080; font-weight: bold\">0.3187</span>, mse:  <span style=\"color: #008080; text-decoration-color: #008080; font-weight: bold\">0.9496</span>,  acc: <span style=\"color: #008080; text-decoration-color: #008080; font-weight: bold\">89.643</span> %,   <a href=\"file:///n/home09/pren/3DGeno_tools/src/gt3d/modules/higashi/Higashi_wrapper.py\" target=\"_blank\"><span style=\"color: #7f7f7f; text-decoration-color: #7f7f7f\">Higashi_wrapper.py</span></a><span style=\"color: #7f7f7f; text-decoration-color: #7f7f7f\">:</span><a href=\"file:///n/home09/pren/3DGeno_tools/src/gt3d/modules/higashi/Higashi_wrapper.py#1258\" target=\"_blank\"><span style=\"color: #7f7f7f; text-decoration-color: #7f7f7f\">1258</span></a>\n",
       "<span style=\"color: #7fbfbf; text-decoration-color: #7fbfbf\">                    </span>         pearson: <span style=\"color: #008080; text-decoration-color: #008080; font-weight: bold\">0.676</span>, spearman: <span style=\"color: #008080; text-decoration-color: #008080; font-weight: bold\">0.576</span>, elapse: <span style=\"color: #008080; text-decoration-color: #008080; font-weight: bold\">88.834</span> s              <span style=\"color: #7f7f7f; text-decoration-color: #7f7f7f\">                       </span>\n",
       "</pre>\n"
      ],
      "text/plain": [
       "\u001b[2;36m[12/07/24 15:13:48]\u001b[0m\u001b[2;36m \u001b[0m\u001b[34mINFO    \u001b[0m \u001b[94mtrain\u001b[0m  - \u001b[1m(\u001b[0mTrain\u001b[1m)\u001b[0m bce:  \u001b[1;36m0.3187\u001b[0m, mse:  \u001b[1;36m0.9496\u001b[0m,  acc: \u001b[1;36m89.643\u001b[0m %,   \u001b]8;id=947805;file:///n/home09/pren/3DGeno_tools/src/gt3d/modules/higashi/Higashi_wrapper.py\u001b\\\u001b[2mHigashi_wrapper.py\u001b[0m\u001b]8;;\u001b\\\u001b[2m:\u001b[0m\u001b]8;id=853436;file:///n/home09/pren/3DGeno_tools/src/gt3d/modules/higashi/Higashi_wrapper.py#1258\u001b\\\u001b[2m1258\u001b[0m\u001b]8;;\u001b\\\n",
       "\u001b[2;36m                    \u001b[0m         pearson: \u001b[1;36m0.676\u001b[0m, spearman: \u001b[1;36m0.576\u001b[0m, elapse: \u001b[1;36m88.834\u001b[0m s              \u001b[2m                       \u001b[0m\n"
      ]
     },
     "metadata": {},
     "output_type": "display_data"
    },
    {
     "data": {
      "application/vnd.jupyter.widget-view+json": {
       "model_id": "0f9bf4b9e3104640b064634e983e9395",
       "version_major": 2,
       "version_minor": 0
      },
      "text/plain": [
       "Output()"
      ]
     },
     "metadata": {},
     "output_type": "display_data"
    },
    {
     "data": {
      "text/html": [
       "<pre style=\"white-space:pre;overflow-x:auto;line-height:normal;font-family:Menlo,'DejaVu Sans Mono',consolas,'Courier New',monospace\"></pre>\n"
      ],
      "text/plain": []
     },
     "metadata": {},
     "output_type": "display_data"
    },
    {
     "data": {
      "text/html": [
       "<pre style=\"white-space:pre;overflow-x:auto;line-height:normal;font-family:Menlo,'DejaVu Sans Mono',consolas,'Courier New',monospace\"><span style=\"color: #7fbfbf; text-decoration-color: #7fbfbf\">                    </span><span style=\"color: #000080; text-decoration-color: #000080\">INFO    </span> <span style=\"color: #0000ff; text-decoration-color: #0000ff\">train</span>  - <span style=\"font-weight: bold\">(</span>Valid<span style=\"font-weight: bold\">)</span> bce:  <span style=\"color: #008080; text-decoration-color: #008080; font-weight: bold\">0.3537</span>,  acc: <span style=\"color: #008080; text-decoration-color: #008080; font-weight: bold\">88.939</span> %,pearson: <span style=\"color: #008080; text-decoration-color: #008080; font-weight: bold\">0.633</span>,  <a href=\"file:///n/home09/pren/3DGeno_tools/src/gt3d/modules/higashi/Higashi_wrapper.py\" target=\"_blank\"><span style=\"color: #7f7f7f; text-decoration-color: #7f7f7f\">Higashi_wrapper.py</span></a><span style=\"color: #7f7f7f; text-decoration-color: #7f7f7f\">:</span><a href=\"file:///n/home09/pren/3DGeno_tools/src/gt3d/modules/higashi/Higashi_wrapper.py#1277\" target=\"_blank\"><span style=\"color: #7f7f7f; text-decoration-color: #7f7f7f\">1277</span></a>\n",
       "<span style=\"color: #7fbfbf; text-decoration-color: #7fbfbf\">                    </span>         spearman: <span style=\"color: #008080; text-decoration-color: #008080; font-weight: bold\">0.566</span>,elapse: <span style=\"color: #008080; text-decoration-color: #008080; font-weight: bold\">0.052</span> s                                <span style=\"color: #7f7f7f; text-decoration-color: #7f7f7f\">                       </span>\n",
       "</pre>\n"
      ],
      "text/plain": [
       "\u001b[2;36m                   \u001b[0m\u001b[2;36m \u001b[0m\u001b[34mINFO    \u001b[0m \u001b[94mtrain\u001b[0m  - \u001b[1m(\u001b[0mValid\u001b[1m)\u001b[0m bce:  \u001b[1;36m0.3537\u001b[0m,  acc: \u001b[1;36m88.939\u001b[0m %,pearson: \u001b[1;36m0.633\u001b[0m,  \u001b]8;id=482484;file:///n/home09/pren/3DGeno_tools/src/gt3d/modules/higashi/Higashi_wrapper.py\u001b\\\u001b[2mHigashi_wrapper.py\u001b[0m\u001b]8;;\u001b\\\u001b[2m:\u001b[0m\u001b]8;id=973234;file:///n/home09/pren/3DGeno_tools/src/gt3d/modules/higashi/Higashi_wrapper.py#1277\u001b\\\u001b[2m1277\u001b[0m\u001b]8;;\u001b\\\n",
       "\u001b[2;36m                    \u001b[0m         spearman: \u001b[1;36m0.566\u001b[0m,elapse: \u001b[1;36m0.052\u001b[0m s                                \u001b[2m                       \u001b[0m\n"
      ]
     },
     "metadata": {},
     "output_type": "display_data"
    },
    {
     "data": {
      "text/html": [
       "<pre style=\"white-space:pre;overflow-x:auto;line-height:normal;font-family:Menlo,'DejaVu Sans Mono',consolas,'Courier New',monospace\"><span style=\"color: #7fbfbf; text-decoration-color: #7fbfbf\">                    </span><span style=\"color: #000080; text-decoration-color: #000080\">INFO    </span> <span style=\"color: #0000ff; text-decoration-color: #0000ff\">train</span> update_rate: <span style=\"color: #008080; text-decoration-color: #008080; font-weight: bold\">0.005225</span>     <span style=\"color: #008080; text-decoration-color: #008080; font-weight: bold\">0.220353</span>                       <a href=\"file:///n/home09/pren/3DGeno_tools/src/gt3d/modules/higashi/Higashi_wrapper.py\" target=\"_blank\"><span style=\"color: #7f7f7f; text-decoration-color: #7f7f7f\">Higashi_wrapper.py</span></a><span style=\"color: #7f7f7f; text-decoration-color: #7f7f7f\">:</span><a href=\"file:///n/home09/pren/3DGeno_tools/src/gt3d/modules/higashi/Higashi_wrapper.py#1323\" target=\"_blank\"><span style=\"color: #7f7f7f; text-decoration-color: #7f7f7f\">1323</span></a>\n",
       "</pre>\n"
      ],
      "text/plain": [
       "\u001b[2;36m                   \u001b[0m\u001b[2;36m \u001b[0m\u001b[34mINFO    \u001b[0m \u001b[94mtrain\u001b[0m update_rate: \u001b[1;36m0.005225\u001b[0m     \u001b[1;36m0.220353\u001b[0m                       \u001b]8;id=994991;file:///n/home09/pren/3DGeno_tools/src/gt3d/modules/higashi/Higashi_wrapper.py\u001b\\\u001b[2mHigashi_wrapper.py\u001b[0m\u001b]8;;\u001b\\\u001b[2m:\u001b[0m\u001b]8;id=323822;file:///n/home09/pren/3DGeno_tools/src/gt3d/modules/higashi/Higashi_wrapper.py#1323\u001b\\\u001b[2m1323\u001b[0m\u001b]8;;\u001b\\\n"
      ]
     },
     "metadata": {},
     "output_type": "display_data"
    },
    {
     "data": {
      "text/html": [
       "<pre style=\"white-space:pre;overflow-x:auto;line-height:normal;font-family:Menlo,'DejaVu Sans Mono',consolas,'Courier New',monospace\"><span style=\"color: #7fbfbf; text-decoration-color: #7fbfbf\">                    </span><span style=\"color: #000080; text-decoration-color: #000080\">INFO    </span> <span style=\"color: #0000ff; text-decoration-color: #0000ff\">train</span> <span style=\"font-weight: bold\">[</span> Epoch <span style=\"color: #008080; text-decoration-color: #008080; font-weight: bold\">29</span> of <span style=\"color: #008080; text-decoration-color: #008080; font-weight: bold\">65</span> <span style=\"font-weight: bold\">]</span>                                       <a href=\"file:///n/home09/pren/3DGeno_tools/src/gt3d/modules/higashi/Higashi_wrapper.py\" target=\"_blank\"><span style=\"color: #7f7f7f; text-decoration-color: #7f7f7f\">Higashi_wrapper.py</span></a><span style=\"color: #7f7f7f; text-decoration-color: #7f7f7f\">:</span><a href=\"file:///n/home09/pren/3DGeno_tools/src/gt3d/modules/higashi/Higashi_wrapper.py#1245\" target=\"_blank\"><span style=\"color: #7f7f7f; text-decoration-color: #7f7f7f\">1245</span></a>\n",
       "</pre>\n"
      ],
      "text/plain": [
       "\u001b[2;36m                   \u001b[0m\u001b[2;36m \u001b[0m\u001b[34mINFO    \u001b[0m \u001b[94mtrain\u001b[0m \u001b[1m[\u001b[0m Epoch \u001b[1;36m29\u001b[0m of \u001b[1;36m65\u001b[0m \u001b[1m]\u001b[0m                                       \u001b]8;id=66706;file:///n/home09/pren/3DGeno_tools/src/gt3d/modules/higashi/Higashi_wrapper.py\u001b\\\u001b[2mHigashi_wrapper.py\u001b[0m\u001b]8;;\u001b\\\u001b[2m:\u001b[0m\u001b]8;id=2488;file:///n/home09/pren/3DGeno_tools/src/gt3d/modules/higashi/Higashi_wrapper.py#1245\u001b\\\u001b[2m1245\u001b[0m\u001b]8;;\u001b\\\n"
      ]
     },
     "metadata": {},
     "output_type": "display_data"
    },
    {
     "data": {
      "application/vnd.jupyter.widget-view+json": {
       "model_id": "53ad57af2f034b6cbce787e0dc1332bb",
       "version_major": 2,
       "version_minor": 0
      },
      "text/plain": [
       "Output()"
      ]
     },
     "metadata": {},
     "output_type": "display_data"
    },
    {
     "data": {
      "text/html": [
       "<pre style=\"white-space:pre;overflow-x:auto;line-height:normal;font-family:Menlo,'DejaVu Sans Mono',consolas,'Courier New',monospace\"></pre>\n"
      ],
      "text/plain": []
     },
     "metadata": {},
     "output_type": "display_data"
    },
    {
     "data": {
      "text/html": [
       "<pre style=\"white-space:pre;overflow-x:auto;line-height:normal;font-family:Menlo,'DejaVu Sans Mono',consolas,'Courier New',monospace\"><span style=\"color: #7fbfbf; text-decoration-color: #7fbfbf\">[12/07/24 15:15:17] </span><span style=\"color: #000080; text-decoration-color: #000080\">INFO    </span> <span style=\"color: #0000ff; text-decoration-color: #0000ff\">train</span>  - <span style=\"font-weight: bold\">(</span>Train<span style=\"font-weight: bold\">)</span> bce:  <span style=\"color: #008080; text-decoration-color: #008080; font-weight: bold\">0.3228</span>, mse:  <span style=\"color: #008080; text-decoration-color: #008080; font-weight: bold\">1.0174</span>,  acc: <span style=\"color: #008080; text-decoration-color: #008080; font-weight: bold\">89.360</span> %,   <a href=\"file:///n/home09/pren/3DGeno_tools/src/gt3d/modules/higashi/Higashi_wrapper.py\" target=\"_blank\"><span style=\"color: #7f7f7f; text-decoration-color: #7f7f7f\">Higashi_wrapper.py</span></a><span style=\"color: #7f7f7f; text-decoration-color: #7f7f7f\">:</span><a href=\"file:///n/home09/pren/3DGeno_tools/src/gt3d/modules/higashi/Higashi_wrapper.py#1258\" target=\"_blank\"><span style=\"color: #7f7f7f; text-decoration-color: #7f7f7f\">1258</span></a>\n",
       "<span style=\"color: #7fbfbf; text-decoration-color: #7fbfbf\">                    </span>         pearson: <span style=\"color: #008080; text-decoration-color: #008080; font-weight: bold\">0.670</span>, spearman: <span style=\"color: #008080; text-decoration-color: #008080; font-weight: bold\">0.572</span>, elapse: <span style=\"color: #008080; text-decoration-color: #008080; font-weight: bold\">88.704</span> s              <span style=\"color: #7f7f7f; text-decoration-color: #7f7f7f\">                       </span>\n",
       "</pre>\n"
      ],
      "text/plain": [
       "\u001b[2;36m[12/07/24 15:15:17]\u001b[0m\u001b[2;36m \u001b[0m\u001b[34mINFO    \u001b[0m \u001b[94mtrain\u001b[0m  - \u001b[1m(\u001b[0mTrain\u001b[1m)\u001b[0m bce:  \u001b[1;36m0.3228\u001b[0m, mse:  \u001b[1;36m1.0174\u001b[0m,  acc: \u001b[1;36m89.360\u001b[0m %,   \u001b]8;id=889124;file:///n/home09/pren/3DGeno_tools/src/gt3d/modules/higashi/Higashi_wrapper.py\u001b\\\u001b[2mHigashi_wrapper.py\u001b[0m\u001b]8;;\u001b\\\u001b[2m:\u001b[0m\u001b]8;id=314074;file:///n/home09/pren/3DGeno_tools/src/gt3d/modules/higashi/Higashi_wrapper.py#1258\u001b\\\u001b[2m1258\u001b[0m\u001b]8;;\u001b\\\n",
       "\u001b[2;36m                    \u001b[0m         pearson: \u001b[1;36m0.670\u001b[0m, spearman: \u001b[1;36m0.572\u001b[0m, elapse: \u001b[1;36m88.704\u001b[0m s              \u001b[2m                       \u001b[0m\n"
      ]
     },
     "metadata": {},
     "output_type": "display_data"
    },
    {
     "data": {
      "application/vnd.jupyter.widget-view+json": {
       "model_id": "438e1d43734546c39dc3d6011160a54a",
       "version_major": 2,
       "version_minor": 0
      },
      "text/plain": [
       "Output()"
      ]
     },
     "metadata": {},
     "output_type": "display_data"
    },
    {
     "data": {
      "text/html": [
       "<pre style=\"white-space:pre;overflow-x:auto;line-height:normal;font-family:Menlo,'DejaVu Sans Mono',consolas,'Courier New',monospace\"></pre>\n"
      ],
      "text/plain": []
     },
     "metadata": {},
     "output_type": "display_data"
    },
    {
     "data": {
      "text/html": [
       "<pre style=\"white-space:pre;overflow-x:auto;line-height:normal;font-family:Menlo,'DejaVu Sans Mono',consolas,'Courier New',monospace\"><span style=\"color: #7fbfbf; text-decoration-color: #7fbfbf\">                    </span><span style=\"color: #000080; text-decoration-color: #000080\">INFO    </span> <span style=\"color: #0000ff; text-decoration-color: #0000ff\">train</span>  - <span style=\"font-weight: bold\">(</span>Valid<span style=\"font-weight: bold\">)</span> bce:  <span style=\"color: #008080; text-decoration-color: #008080; font-weight: bold\">0.3518</span>,  acc: <span style=\"color: #008080; text-decoration-color: #008080; font-weight: bold\">88.281</span> %,pearson: <span style=\"color: #008080; text-decoration-color: #008080; font-weight: bold\">0.625</span>,  <a href=\"file:///n/home09/pren/3DGeno_tools/src/gt3d/modules/higashi/Higashi_wrapper.py\" target=\"_blank\"><span style=\"color: #7f7f7f; text-decoration-color: #7f7f7f\">Higashi_wrapper.py</span></a><span style=\"color: #7f7f7f; text-decoration-color: #7f7f7f\">:</span><a href=\"file:///n/home09/pren/3DGeno_tools/src/gt3d/modules/higashi/Higashi_wrapper.py#1277\" target=\"_blank\"><span style=\"color: #7f7f7f; text-decoration-color: #7f7f7f\">1277</span></a>\n",
       "<span style=\"color: #7fbfbf; text-decoration-color: #7fbfbf\">                    </span>         spearman: <span style=\"color: #008080; text-decoration-color: #008080; font-weight: bold\">0.551</span>,elapse: <span style=\"color: #008080; text-decoration-color: #008080; font-weight: bold\">0.051</span> s                                <span style=\"color: #7f7f7f; text-decoration-color: #7f7f7f\">                       </span>\n",
       "</pre>\n"
      ],
      "text/plain": [
       "\u001b[2;36m                   \u001b[0m\u001b[2;36m \u001b[0m\u001b[34mINFO    \u001b[0m \u001b[94mtrain\u001b[0m  - \u001b[1m(\u001b[0mValid\u001b[1m)\u001b[0m bce:  \u001b[1;36m0.3518\u001b[0m,  acc: \u001b[1;36m88.281\u001b[0m %,pearson: \u001b[1;36m0.625\u001b[0m,  \u001b]8;id=520609;file:///n/home09/pren/3DGeno_tools/src/gt3d/modules/higashi/Higashi_wrapper.py\u001b\\\u001b[2mHigashi_wrapper.py\u001b[0m\u001b]8;;\u001b\\\u001b[2m:\u001b[0m\u001b]8;id=959628;file:///n/home09/pren/3DGeno_tools/src/gt3d/modules/higashi/Higashi_wrapper.py#1277\u001b\\\u001b[2m1277\u001b[0m\u001b]8;;\u001b\\\n",
       "\u001b[2;36m                    \u001b[0m         spearman: \u001b[1;36m0.551\u001b[0m,elapse: \u001b[1;36m0.051\u001b[0m s                                \u001b[2m                       \u001b[0m\n"
      ]
     },
     "metadata": {},
     "output_type": "display_data"
    },
    {
     "data": {
      "text/html": [
       "<pre style=\"white-space:pre;overflow-x:auto;line-height:normal;font-family:Menlo,'DejaVu Sans Mono',consolas,'Courier New',monospace\"><span style=\"color: #7fbfbf; text-decoration-color: #7fbfbf\">                    </span><span style=\"color: #000080; text-decoration-color: #000080\">INFO    </span> <span style=\"color: #0000ff; text-decoration-color: #0000ff\">train</span> update_rate: <span style=\"color: #008080; text-decoration-color: #008080; font-weight: bold\">0.005440</span>     <span style=\"color: #008080; text-decoration-color: #008080; font-weight: bold\">0.096865</span>                       <a href=\"file:///n/home09/pren/3DGeno_tools/src/gt3d/modules/higashi/Higashi_wrapper.py\" target=\"_blank\"><span style=\"color: #7f7f7f; text-decoration-color: #7f7f7f\">Higashi_wrapper.py</span></a><span style=\"color: #7f7f7f; text-decoration-color: #7f7f7f\">:</span><a href=\"file:///n/home09/pren/3DGeno_tools/src/gt3d/modules/higashi/Higashi_wrapper.py#1323\" target=\"_blank\"><span style=\"color: #7f7f7f; text-decoration-color: #7f7f7f\">1323</span></a>\n",
       "</pre>\n"
      ],
      "text/plain": [
       "\u001b[2;36m                   \u001b[0m\u001b[2;36m \u001b[0m\u001b[34mINFO    \u001b[0m \u001b[94mtrain\u001b[0m update_rate: \u001b[1;36m0.005440\u001b[0m     \u001b[1;36m0.096865\u001b[0m                       \u001b]8;id=731599;file:///n/home09/pren/3DGeno_tools/src/gt3d/modules/higashi/Higashi_wrapper.py\u001b\\\u001b[2mHigashi_wrapper.py\u001b[0m\u001b]8;;\u001b\\\u001b[2m:\u001b[0m\u001b]8;id=935993;file:///n/home09/pren/3DGeno_tools/src/gt3d/modules/higashi/Higashi_wrapper.py#1323\u001b\\\u001b[2m1323\u001b[0m\u001b]8;;\u001b\\\n"
      ]
     },
     "metadata": {},
     "output_type": "display_data"
    },
    {
     "data": {
      "text/html": [
       "<pre style=\"white-space:pre;overflow-x:auto;line-height:normal;font-family:Menlo,'DejaVu Sans Mono',consolas,'Courier New',monospace\"><span style=\"color: #7fbfbf; text-decoration-color: #7fbfbf\">                    </span><span style=\"color: #000080; text-decoration-color: #000080\">INFO    </span> <span style=\"color: #0000ff; text-decoration-color: #0000ff\">train</span> <span style=\"font-weight: bold\">[</span> Epoch <span style=\"color: #008080; text-decoration-color: #008080; font-weight: bold\">30</span> of <span style=\"color: #008080; text-decoration-color: #008080; font-weight: bold\">65</span> <span style=\"font-weight: bold\">]</span>                                       <a href=\"file:///n/home09/pren/3DGeno_tools/src/gt3d/modules/higashi/Higashi_wrapper.py\" target=\"_blank\"><span style=\"color: #7f7f7f; text-decoration-color: #7f7f7f\">Higashi_wrapper.py</span></a><span style=\"color: #7f7f7f; text-decoration-color: #7f7f7f\">:</span><a href=\"file:///n/home09/pren/3DGeno_tools/src/gt3d/modules/higashi/Higashi_wrapper.py#1245\" target=\"_blank\"><span style=\"color: #7f7f7f; text-decoration-color: #7f7f7f\">1245</span></a>\n",
       "</pre>\n"
      ],
      "text/plain": [
       "\u001b[2;36m                   \u001b[0m\u001b[2;36m \u001b[0m\u001b[34mINFO    \u001b[0m \u001b[94mtrain\u001b[0m \u001b[1m[\u001b[0m Epoch \u001b[1;36m30\u001b[0m of \u001b[1;36m65\u001b[0m \u001b[1m]\u001b[0m                                       \u001b]8;id=319719;file:///n/home09/pren/3DGeno_tools/src/gt3d/modules/higashi/Higashi_wrapper.py\u001b\\\u001b[2mHigashi_wrapper.py\u001b[0m\u001b]8;;\u001b\\\u001b[2m:\u001b[0m\u001b]8;id=911742;file:///n/home09/pren/3DGeno_tools/src/gt3d/modules/higashi/Higashi_wrapper.py#1245\u001b\\\u001b[2m1245\u001b[0m\u001b]8;;\u001b\\\n"
      ]
     },
     "metadata": {},
     "output_type": "display_data"
    },
    {
     "data": {
      "application/vnd.jupyter.widget-view+json": {
       "model_id": "ce7512af2af24283a92f78c8a3841bfc",
       "version_major": 2,
       "version_minor": 0
      },
      "text/plain": [
       "Output()"
      ]
     },
     "metadata": {},
     "output_type": "display_data"
    },
    {
     "data": {
      "text/html": [
       "<pre style=\"white-space:pre;overflow-x:auto;line-height:normal;font-family:Menlo,'DejaVu Sans Mono',consolas,'Courier New',monospace\"></pre>\n"
      ],
      "text/plain": []
     },
     "metadata": {},
     "output_type": "display_data"
    },
    {
     "data": {
      "text/html": [
       "<pre style=\"white-space:pre;overflow-x:auto;line-height:normal;font-family:Menlo,'DejaVu Sans Mono',consolas,'Courier New',monospace\"><span style=\"color: #7fbfbf; text-decoration-color: #7fbfbf\">[12/07/24 15:16:46] </span><span style=\"color: #000080; text-decoration-color: #000080\">INFO    </span> <span style=\"color: #0000ff; text-decoration-color: #0000ff\">train</span>  - <span style=\"font-weight: bold\">(</span>Train<span style=\"font-weight: bold\">)</span> bce:  <span style=\"color: #008080; text-decoration-color: #008080; font-weight: bold\">0.3188</span>, mse:  <span style=\"color: #008080; text-decoration-color: #008080; font-weight: bold\">0.8718</span>,  acc: <span style=\"color: #008080; text-decoration-color: #008080; font-weight: bold\">89.710</span> %,   <a href=\"file:///n/home09/pren/3DGeno_tools/src/gt3d/modules/higashi/Higashi_wrapper.py\" target=\"_blank\"><span style=\"color: #7f7f7f; text-decoration-color: #7f7f7f\">Higashi_wrapper.py</span></a><span style=\"color: #7f7f7f; text-decoration-color: #7f7f7f\">:</span><a href=\"file:///n/home09/pren/3DGeno_tools/src/gt3d/modules/higashi/Higashi_wrapper.py#1258\" target=\"_blank\"><span style=\"color: #7f7f7f; text-decoration-color: #7f7f7f\">1258</span></a>\n",
       "<span style=\"color: #7fbfbf; text-decoration-color: #7fbfbf\">                    </span>         pearson: <span style=\"color: #008080; text-decoration-color: #008080; font-weight: bold\">0.678</span>, spearman: <span style=\"color: #008080; text-decoration-color: #008080; font-weight: bold\">0.576</span>, elapse: <span style=\"color: #008080; text-decoration-color: #008080; font-weight: bold\">89.020</span> s              <span style=\"color: #7f7f7f; text-decoration-color: #7f7f7f\">                       </span>\n",
       "</pre>\n"
      ],
      "text/plain": [
       "\u001b[2;36m[12/07/24 15:16:46]\u001b[0m\u001b[2;36m \u001b[0m\u001b[34mINFO    \u001b[0m \u001b[94mtrain\u001b[0m  - \u001b[1m(\u001b[0mTrain\u001b[1m)\u001b[0m bce:  \u001b[1;36m0.3188\u001b[0m, mse:  \u001b[1;36m0.8718\u001b[0m,  acc: \u001b[1;36m89.710\u001b[0m %,   \u001b]8;id=679073;file:///n/home09/pren/3DGeno_tools/src/gt3d/modules/higashi/Higashi_wrapper.py\u001b\\\u001b[2mHigashi_wrapper.py\u001b[0m\u001b]8;;\u001b\\\u001b[2m:\u001b[0m\u001b]8;id=980655;file:///n/home09/pren/3DGeno_tools/src/gt3d/modules/higashi/Higashi_wrapper.py#1258\u001b\\\u001b[2m1258\u001b[0m\u001b]8;;\u001b\\\n",
       "\u001b[2;36m                    \u001b[0m         pearson: \u001b[1;36m0.678\u001b[0m, spearman: \u001b[1;36m0.576\u001b[0m, elapse: \u001b[1;36m89.020\u001b[0m s              \u001b[2m                       \u001b[0m\n"
      ]
     },
     "metadata": {},
     "output_type": "display_data"
    },
    {
     "data": {
      "application/vnd.jupyter.widget-view+json": {
       "model_id": "dcd2d29af0064869b16738cdea79b399",
       "version_major": 2,
       "version_minor": 0
      },
      "text/plain": [
       "Output()"
      ]
     },
     "metadata": {},
     "output_type": "display_data"
    },
    {
     "data": {
      "text/html": [
       "<pre style=\"white-space:pre;overflow-x:auto;line-height:normal;font-family:Menlo,'DejaVu Sans Mono',consolas,'Courier New',monospace\"></pre>\n"
      ],
      "text/plain": []
     },
     "metadata": {},
     "output_type": "display_data"
    },
    {
     "data": {
      "text/html": [
       "<pre style=\"white-space:pre;overflow-x:auto;line-height:normal;font-family:Menlo,'DejaVu Sans Mono',consolas,'Courier New',monospace\"><span style=\"color: #7fbfbf; text-decoration-color: #7fbfbf\">                    </span><span style=\"color: #000080; text-decoration-color: #000080\">INFO    </span> <span style=\"color: #0000ff; text-decoration-color: #0000ff\">train</span>  - <span style=\"font-weight: bold\">(</span>Valid<span style=\"font-weight: bold\">)</span> bce:  <span style=\"color: #008080; text-decoration-color: #008080; font-weight: bold\">0.3747</span>,  acc: <span style=\"color: #008080; text-decoration-color: #008080; font-weight: bold\">89.076</span> %,pearson: <span style=\"color: #008080; text-decoration-color: #008080; font-weight: bold\">0.625</span>,  <a href=\"file:///n/home09/pren/3DGeno_tools/src/gt3d/modules/higashi/Higashi_wrapper.py\" target=\"_blank\"><span style=\"color: #7f7f7f; text-decoration-color: #7f7f7f\">Higashi_wrapper.py</span></a><span style=\"color: #7f7f7f; text-decoration-color: #7f7f7f\">:</span><a href=\"file:///n/home09/pren/3DGeno_tools/src/gt3d/modules/higashi/Higashi_wrapper.py#1277\" target=\"_blank\"><span style=\"color: #7f7f7f; text-decoration-color: #7f7f7f\">1277</span></a>\n",
       "<span style=\"color: #7fbfbf; text-decoration-color: #7fbfbf\">                    </span>         spearman: <span style=\"color: #008080; text-decoration-color: #008080; font-weight: bold\">0.559</span>,elapse: <span style=\"color: #008080; text-decoration-color: #008080; font-weight: bold\">0.052</span> s                                <span style=\"color: #7f7f7f; text-decoration-color: #7f7f7f\">                       </span>\n",
       "</pre>\n"
      ],
      "text/plain": [
       "\u001b[2;36m                   \u001b[0m\u001b[2;36m \u001b[0m\u001b[34mINFO    \u001b[0m \u001b[94mtrain\u001b[0m  - \u001b[1m(\u001b[0mValid\u001b[1m)\u001b[0m bce:  \u001b[1;36m0.3747\u001b[0m,  acc: \u001b[1;36m89.076\u001b[0m %,pearson: \u001b[1;36m0.625\u001b[0m,  \u001b]8;id=310908;file:///n/home09/pren/3DGeno_tools/src/gt3d/modules/higashi/Higashi_wrapper.py\u001b\\\u001b[2mHigashi_wrapper.py\u001b[0m\u001b]8;;\u001b\\\u001b[2m:\u001b[0m\u001b]8;id=381525;file:///n/home09/pren/3DGeno_tools/src/gt3d/modules/higashi/Higashi_wrapper.py#1277\u001b\\\u001b[2m1277\u001b[0m\u001b]8;;\u001b\\\n",
       "\u001b[2;36m                    \u001b[0m         spearman: \u001b[1;36m0.559\u001b[0m,elapse: \u001b[1;36m0.052\u001b[0m s                                \u001b[2m                       \u001b[0m\n"
      ]
     },
     "metadata": {},
     "output_type": "display_data"
    },
    {
     "data": {
      "text/html": [
       "<pre style=\"white-space:pre;overflow-x:auto;line-height:normal;font-family:Menlo,'DejaVu Sans Mono',consolas,'Courier New',monospace\"><span style=\"color: #7fbfbf; text-decoration-color: #7fbfbf\">                    </span><span style=\"color: #000080; text-decoration-color: #000080\">INFO    </span> <span style=\"color: #0000ff; text-decoration-color: #0000ff\">train</span> update_rate: <span style=\"color: #008080; text-decoration-color: #008080; font-weight: bold\">0.004858</span>     <span style=\"color: #008080; text-decoration-color: #008080; font-weight: bold\">0.237468</span>                       <a href=\"file:///n/home09/pren/3DGeno_tools/src/gt3d/modules/higashi/Higashi_wrapper.py\" target=\"_blank\"><span style=\"color: #7f7f7f; text-decoration-color: #7f7f7f\">Higashi_wrapper.py</span></a><span style=\"color: #7f7f7f; text-decoration-color: #7f7f7f\">:</span><a href=\"file:///n/home09/pren/3DGeno_tools/src/gt3d/modules/higashi/Higashi_wrapper.py#1323\" target=\"_blank\"><span style=\"color: #7f7f7f; text-decoration-color: #7f7f7f\">1323</span></a>\n",
       "</pre>\n"
      ],
      "text/plain": [
       "\u001b[2;36m                   \u001b[0m\u001b[2;36m \u001b[0m\u001b[34mINFO    \u001b[0m \u001b[94mtrain\u001b[0m update_rate: \u001b[1;36m0.004858\u001b[0m     \u001b[1;36m0.237468\u001b[0m                       \u001b]8;id=809908;file:///n/home09/pren/3DGeno_tools/src/gt3d/modules/higashi/Higashi_wrapper.py\u001b\\\u001b[2mHigashi_wrapper.py\u001b[0m\u001b]8;;\u001b\\\u001b[2m:\u001b[0m\u001b]8;id=634551;file:///n/home09/pren/3DGeno_tools/src/gt3d/modules/higashi/Higashi_wrapper.py#1323\u001b\\\u001b[2m1323\u001b[0m\u001b]8;;\u001b\\\n"
      ]
     },
     "metadata": {},
     "output_type": "display_data"
    },
    {
     "data": {
      "text/html": [
       "<pre style=\"white-space:pre;overflow-x:auto;line-height:normal;font-family:Menlo,'DejaVu Sans Mono',consolas,'Courier New',monospace\"><span style=\"color: #7fbfbf; text-decoration-color: #7fbfbf\">                    </span><span style=\"color: #000080; text-decoration-color: #000080\">INFO    </span> <span style=\"color: #0000ff; text-decoration-color: #0000ff\">train</span> <span style=\"font-weight: bold\">[</span> Epoch <span style=\"color: #008080; text-decoration-color: #008080; font-weight: bold\">31</span> of <span style=\"color: #008080; text-decoration-color: #008080; font-weight: bold\">65</span> <span style=\"font-weight: bold\">]</span>                                       <a href=\"file:///n/home09/pren/3DGeno_tools/src/gt3d/modules/higashi/Higashi_wrapper.py\" target=\"_blank\"><span style=\"color: #7f7f7f; text-decoration-color: #7f7f7f\">Higashi_wrapper.py</span></a><span style=\"color: #7f7f7f; text-decoration-color: #7f7f7f\">:</span><a href=\"file:///n/home09/pren/3DGeno_tools/src/gt3d/modules/higashi/Higashi_wrapper.py#1245\" target=\"_blank\"><span style=\"color: #7f7f7f; text-decoration-color: #7f7f7f\">1245</span></a>\n",
       "</pre>\n"
      ],
      "text/plain": [
       "\u001b[2;36m                   \u001b[0m\u001b[2;36m \u001b[0m\u001b[34mINFO    \u001b[0m \u001b[94mtrain\u001b[0m \u001b[1m[\u001b[0m Epoch \u001b[1;36m31\u001b[0m of \u001b[1;36m65\u001b[0m \u001b[1m]\u001b[0m                                       \u001b]8;id=354260;file:///n/home09/pren/3DGeno_tools/src/gt3d/modules/higashi/Higashi_wrapper.py\u001b\\\u001b[2mHigashi_wrapper.py\u001b[0m\u001b]8;;\u001b\\\u001b[2m:\u001b[0m\u001b]8;id=557087;file:///n/home09/pren/3DGeno_tools/src/gt3d/modules/higashi/Higashi_wrapper.py#1245\u001b\\\u001b[2m1245\u001b[0m\u001b]8;;\u001b\\\n"
      ]
     },
     "metadata": {},
     "output_type": "display_data"
    },
    {
     "data": {
      "application/vnd.jupyter.widget-view+json": {
       "model_id": "d061b4fce8c948c78b6a303e982730fa",
       "version_major": 2,
       "version_minor": 0
      },
      "text/plain": [
       "Output()"
      ]
     },
     "metadata": {},
     "output_type": "display_data"
    },
    {
     "data": {
      "text/html": [
       "<pre style=\"white-space:pre;overflow-x:auto;line-height:normal;font-family:Menlo,'DejaVu Sans Mono',consolas,'Courier New',monospace\"></pre>\n"
      ],
      "text/plain": []
     },
     "metadata": {},
     "output_type": "display_data"
    },
    {
     "data": {
      "text/html": [
       "<pre style=\"white-space:pre;overflow-x:auto;line-height:normal;font-family:Menlo,'DejaVu Sans Mono',consolas,'Courier New',monospace\"><span style=\"color: #7fbfbf; text-decoration-color: #7fbfbf\">[12/07/24 15:18:15] </span><span style=\"color: #000080; text-decoration-color: #000080\">INFO    </span> <span style=\"color: #0000ff; text-decoration-color: #0000ff\">train</span>  - <span style=\"font-weight: bold\">(</span>Train<span style=\"font-weight: bold\">)</span> bce:  <span style=\"color: #008080; text-decoration-color: #008080; font-weight: bold\">0.3196</span>, mse:  <span style=\"color: #008080; text-decoration-color: #008080; font-weight: bold\">0.8859</span>,  acc: <span style=\"color: #008080; text-decoration-color: #008080; font-weight: bold\">89.593</span> %,   <a href=\"file:///n/home09/pren/3DGeno_tools/src/gt3d/modules/higashi/Higashi_wrapper.py\" target=\"_blank\"><span style=\"color: #7f7f7f; text-decoration-color: #7f7f7f\">Higashi_wrapper.py</span></a><span style=\"color: #7f7f7f; text-decoration-color: #7f7f7f\">:</span><a href=\"file:///n/home09/pren/3DGeno_tools/src/gt3d/modules/higashi/Higashi_wrapper.py#1258\" target=\"_blank\"><span style=\"color: #7f7f7f; text-decoration-color: #7f7f7f\">1258</span></a>\n",
       "<span style=\"color: #7fbfbf; text-decoration-color: #7fbfbf\">                    </span>         pearson: <span style=\"color: #008080; text-decoration-color: #008080; font-weight: bold\">0.677</span>, spearman: <span style=\"color: #008080; text-decoration-color: #008080; font-weight: bold\">0.576</span>, elapse: <span style=\"color: #008080; text-decoration-color: #008080; font-weight: bold\">89.004</span> s              <span style=\"color: #7f7f7f; text-decoration-color: #7f7f7f\">                       </span>\n",
       "</pre>\n"
      ],
      "text/plain": [
       "\u001b[2;36m[12/07/24 15:18:15]\u001b[0m\u001b[2;36m \u001b[0m\u001b[34mINFO    \u001b[0m \u001b[94mtrain\u001b[0m  - \u001b[1m(\u001b[0mTrain\u001b[1m)\u001b[0m bce:  \u001b[1;36m0.3196\u001b[0m, mse:  \u001b[1;36m0.8859\u001b[0m,  acc: \u001b[1;36m89.593\u001b[0m %,   \u001b]8;id=336399;file:///n/home09/pren/3DGeno_tools/src/gt3d/modules/higashi/Higashi_wrapper.py\u001b\\\u001b[2mHigashi_wrapper.py\u001b[0m\u001b]8;;\u001b\\\u001b[2m:\u001b[0m\u001b]8;id=85649;file:///n/home09/pren/3DGeno_tools/src/gt3d/modules/higashi/Higashi_wrapper.py#1258\u001b\\\u001b[2m1258\u001b[0m\u001b]8;;\u001b\\\n",
       "\u001b[2;36m                    \u001b[0m         pearson: \u001b[1;36m0.677\u001b[0m, spearman: \u001b[1;36m0.576\u001b[0m, elapse: \u001b[1;36m89.004\u001b[0m s              \u001b[2m                       \u001b[0m\n"
      ]
     },
     "metadata": {},
     "output_type": "display_data"
    },
    {
     "data": {
      "application/vnd.jupyter.widget-view+json": {
       "model_id": "fe0cc4ad47a44e8ba757cc3efb714107",
       "version_major": 2,
       "version_minor": 0
      },
      "text/plain": [
       "Output()"
      ]
     },
     "metadata": {},
     "output_type": "display_data"
    },
    {
     "data": {
      "text/html": [
       "<pre style=\"white-space:pre;overflow-x:auto;line-height:normal;font-family:Menlo,'DejaVu Sans Mono',consolas,'Courier New',monospace\"></pre>\n"
      ],
      "text/plain": []
     },
     "metadata": {},
     "output_type": "display_data"
    },
    {
     "data": {
      "text/html": [
       "<pre style=\"white-space:pre;overflow-x:auto;line-height:normal;font-family:Menlo,'DejaVu Sans Mono',consolas,'Courier New',monospace\"><span style=\"color: #7fbfbf; text-decoration-color: #7fbfbf\">                    </span><span style=\"color: #000080; text-decoration-color: #000080\">INFO    </span> <span style=\"color: #0000ff; text-decoration-color: #0000ff\">train</span>  - <span style=\"font-weight: bold\">(</span>Valid<span style=\"font-weight: bold\">)</span> bce:  <span style=\"color: #008080; text-decoration-color: #008080; font-weight: bold\">0.3536</span>,  acc: <span style=\"color: #008080; text-decoration-color: #008080; font-weight: bold\">87.760</span> %,pearson: <span style=\"color: #008080; text-decoration-color: #008080; font-weight: bold\">0.617</span>,  <a href=\"file:///n/home09/pren/3DGeno_tools/src/gt3d/modules/higashi/Higashi_wrapper.py\" target=\"_blank\"><span style=\"color: #7f7f7f; text-decoration-color: #7f7f7f\">Higashi_wrapper.py</span></a><span style=\"color: #7f7f7f; text-decoration-color: #7f7f7f\">:</span><a href=\"file:///n/home09/pren/3DGeno_tools/src/gt3d/modules/higashi/Higashi_wrapper.py#1277\" target=\"_blank\"><span style=\"color: #7f7f7f; text-decoration-color: #7f7f7f\">1277</span></a>\n",
       "<span style=\"color: #7fbfbf; text-decoration-color: #7fbfbf\">                    </span>         spearman: <span style=\"color: #008080; text-decoration-color: #008080; font-weight: bold\">0.548</span>,elapse: <span style=\"color: #008080; text-decoration-color: #008080; font-weight: bold\">0.052</span> s                                <span style=\"color: #7f7f7f; text-decoration-color: #7f7f7f\">                       </span>\n",
       "</pre>\n"
      ],
      "text/plain": [
       "\u001b[2;36m                   \u001b[0m\u001b[2;36m \u001b[0m\u001b[34mINFO    \u001b[0m \u001b[94mtrain\u001b[0m  - \u001b[1m(\u001b[0mValid\u001b[1m)\u001b[0m bce:  \u001b[1;36m0.3536\u001b[0m,  acc: \u001b[1;36m87.760\u001b[0m %,pearson: \u001b[1;36m0.617\u001b[0m,  \u001b]8;id=338178;file:///n/home09/pren/3DGeno_tools/src/gt3d/modules/higashi/Higashi_wrapper.py\u001b\\\u001b[2mHigashi_wrapper.py\u001b[0m\u001b]8;;\u001b\\\u001b[2m:\u001b[0m\u001b]8;id=833773;file:///n/home09/pren/3DGeno_tools/src/gt3d/modules/higashi/Higashi_wrapper.py#1277\u001b\\\u001b[2m1277\u001b[0m\u001b]8;;\u001b\\\n",
       "\u001b[2;36m                    \u001b[0m         spearman: \u001b[1;36m0.548\u001b[0m,elapse: \u001b[1;36m0.052\u001b[0m s                                \u001b[2m                       \u001b[0m\n"
      ]
     },
     "metadata": {},
     "output_type": "display_data"
    },
    {
     "data": {
      "text/html": [
       "<pre style=\"white-space:pre;overflow-x:auto;line-height:normal;font-family:Menlo,'DejaVu Sans Mono',consolas,'Courier New',monospace\"><span style=\"color: #7fbfbf; text-decoration-color: #7fbfbf\">                    </span><span style=\"color: #000080; text-decoration-color: #000080\">INFO    </span> <span style=\"color: #0000ff; text-decoration-color: #0000ff\">train</span> update_rate: <span style=\"color: #008080; text-decoration-color: #008080; font-weight: bold\">0.003670</span>     <span style=\"color: #008080; text-decoration-color: #008080; font-weight: bold\">0.174996</span>                       <a href=\"file:///n/home09/pren/3DGeno_tools/src/gt3d/modules/higashi/Higashi_wrapper.py\" target=\"_blank\"><span style=\"color: #7f7f7f; text-decoration-color: #7f7f7f\">Higashi_wrapper.py</span></a><span style=\"color: #7f7f7f; text-decoration-color: #7f7f7f\">:</span><a href=\"file:///n/home09/pren/3DGeno_tools/src/gt3d/modules/higashi/Higashi_wrapper.py#1323\" target=\"_blank\"><span style=\"color: #7f7f7f; text-decoration-color: #7f7f7f\">1323</span></a>\n",
       "</pre>\n"
      ],
      "text/plain": [
       "\u001b[2;36m                   \u001b[0m\u001b[2;36m \u001b[0m\u001b[34mINFO    \u001b[0m \u001b[94mtrain\u001b[0m update_rate: \u001b[1;36m0.003670\u001b[0m     \u001b[1;36m0.174996\u001b[0m                       \u001b]8;id=705028;file:///n/home09/pren/3DGeno_tools/src/gt3d/modules/higashi/Higashi_wrapper.py\u001b\\\u001b[2mHigashi_wrapper.py\u001b[0m\u001b]8;;\u001b\\\u001b[2m:\u001b[0m\u001b]8;id=427700;file:///n/home09/pren/3DGeno_tools/src/gt3d/modules/higashi/Higashi_wrapper.py#1323\u001b\\\u001b[2m1323\u001b[0m\u001b]8;;\u001b\\\n"
      ]
     },
     "metadata": {},
     "output_type": "display_data"
    },
    {
     "data": {
      "text/html": [
       "<pre style=\"white-space:pre;overflow-x:auto;line-height:normal;font-family:Menlo,'DejaVu Sans Mono',consolas,'Courier New',monospace\"><span style=\"color: #7fbfbf; text-decoration-color: #7fbfbf\">                    </span><span style=\"color: #000080; text-decoration-color: #000080\">INFO    </span> <span style=\"color: #0000ff; text-decoration-color: #0000ff\">train</span> <span style=\"font-weight: bold\">[</span> Epoch <span style=\"color: #008080; text-decoration-color: #008080; font-weight: bold\">32</span> of <span style=\"color: #008080; text-decoration-color: #008080; font-weight: bold\">65</span> <span style=\"font-weight: bold\">]</span>                                       <a href=\"file:///n/home09/pren/3DGeno_tools/src/gt3d/modules/higashi/Higashi_wrapper.py\" target=\"_blank\"><span style=\"color: #7f7f7f; text-decoration-color: #7f7f7f\">Higashi_wrapper.py</span></a><span style=\"color: #7f7f7f; text-decoration-color: #7f7f7f\">:</span><a href=\"file:///n/home09/pren/3DGeno_tools/src/gt3d/modules/higashi/Higashi_wrapper.py#1245\" target=\"_blank\"><span style=\"color: #7f7f7f; text-decoration-color: #7f7f7f\">1245</span></a>\n",
       "</pre>\n"
      ],
      "text/plain": [
       "\u001b[2;36m                   \u001b[0m\u001b[2;36m \u001b[0m\u001b[34mINFO    \u001b[0m \u001b[94mtrain\u001b[0m \u001b[1m[\u001b[0m Epoch \u001b[1;36m32\u001b[0m of \u001b[1;36m65\u001b[0m \u001b[1m]\u001b[0m                                       \u001b]8;id=607064;file:///n/home09/pren/3DGeno_tools/src/gt3d/modules/higashi/Higashi_wrapper.py\u001b\\\u001b[2mHigashi_wrapper.py\u001b[0m\u001b]8;;\u001b\\\u001b[2m:\u001b[0m\u001b]8;id=231127;file:///n/home09/pren/3DGeno_tools/src/gt3d/modules/higashi/Higashi_wrapper.py#1245\u001b\\\u001b[2m1245\u001b[0m\u001b]8;;\u001b\\\n"
      ]
     },
     "metadata": {},
     "output_type": "display_data"
    },
    {
     "data": {
      "application/vnd.jupyter.widget-view+json": {
       "model_id": "cd05c43e00c4441a9e37591badf69d04",
       "version_major": 2,
       "version_minor": 0
      },
      "text/plain": [
       "Output()"
      ]
     },
     "metadata": {},
     "output_type": "display_data"
    },
    {
     "data": {
      "text/html": [
       "<pre style=\"white-space:pre;overflow-x:auto;line-height:normal;font-family:Menlo,'DejaVu Sans Mono',consolas,'Courier New',monospace\"></pre>\n"
      ],
      "text/plain": []
     },
     "metadata": {},
     "output_type": "display_data"
    },
    {
     "data": {
      "text/html": [
       "<pre style=\"white-space:pre;overflow-x:auto;line-height:normal;font-family:Menlo,'DejaVu Sans Mono',consolas,'Courier New',monospace\"><span style=\"color: #7fbfbf; text-decoration-color: #7fbfbf\">[12/07/24 15:19:44] </span><span style=\"color: #000080; text-decoration-color: #000080\">INFO    </span> <span style=\"color: #0000ff; text-decoration-color: #0000ff\">train</span>  - <span style=\"font-weight: bold\">(</span>Train<span style=\"font-weight: bold\">)</span> bce:  <span style=\"color: #008080; text-decoration-color: #008080; font-weight: bold\">0.3171</span>, mse:  <span style=\"color: #008080; text-decoration-color: #008080; font-weight: bold\">1.1167</span>,  acc: <span style=\"color: #008080; text-decoration-color: #008080; font-weight: bold\">89.763</span> %,   <a href=\"file:///n/home09/pren/3DGeno_tools/src/gt3d/modules/higashi/Higashi_wrapper.py\" target=\"_blank\"><span style=\"color: #7f7f7f; text-decoration-color: #7f7f7f\">Higashi_wrapper.py</span></a><span style=\"color: #7f7f7f; text-decoration-color: #7f7f7f\">:</span><a href=\"file:///n/home09/pren/3DGeno_tools/src/gt3d/modules/higashi/Higashi_wrapper.py#1258\" target=\"_blank\"><span style=\"color: #7f7f7f; text-decoration-color: #7f7f7f\">1258</span></a>\n",
       "<span style=\"color: #7fbfbf; text-decoration-color: #7fbfbf\">                    </span>         pearson: <span style=\"color: #008080; text-decoration-color: #008080; font-weight: bold\">0.681</span>, spearman: <span style=\"color: #008080; text-decoration-color: #008080; font-weight: bold\">0.578</span>, elapse: <span style=\"color: #008080; text-decoration-color: #008080; font-weight: bold\">89.050</span> s              <span style=\"color: #7f7f7f; text-decoration-color: #7f7f7f\">                       </span>\n",
       "</pre>\n"
      ],
      "text/plain": [
       "\u001b[2;36m[12/07/24 15:19:44]\u001b[0m\u001b[2;36m \u001b[0m\u001b[34mINFO    \u001b[0m \u001b[94mtrain\u001b[0m  - \u001b[1m(\u001b[0mTrain\u001b[1m)\u001b[0m bce:  \u001b[1;36m0.3171\u001b[0m, mse:  \u001b[1;36m1.1167\u001b[0m,  acc: \u001b[1;36m89.763\u001b[0m %,   \u001b]8;id=658836;file:///n/home09/pren/3DGeno_tools/src/gt3d/modules/higashi/Higashi_wrapper.py\u001b\\\u001b[2mHigashi_wrapper.py\u001b[0m\u001b]8;;\u001b\\\u001b[2m:\u001b[0m\u001b]8;id=770470;file:///n/home09/pren/3DGeno_tools/src/gt3d/modules/higashi/Higashi_wrapper.py#1258\u001b\\\u001b[2m1258\u001b[0m\u001b]8;;\u001b\\\n",
       "\u001b[2;36m                    \u001b[0m         pearson: \u001b[1;36m0.681\u001b[0m, spearman: \u001b[1;36m0.578\u001b[0m, elapse: \u001b[1;36m89.050\u001b[0m s              \u001b[2m                       \u001b[0m\n"
      ]
     },
     "metadata": {},
     "output_type": "display_data"
    },
    {
     "data": {
      "application/vnd.jupyter.widget-view+json": {
       "model_id": "b452bf4501ca4e1583978255d483e7c1",
       "version_major": 2,
       "version_minor": 0
      },
      "text/plain": [
       "Output()"
      ]
     },
     "metadata": {},
     "output_type": "display_data"
    },
    {
     "data": {
      "text/html": [
       "<pre style=\"white-space:pre;overflow-x:auto;line-height:normal;font-family:Menlo,'DejaVu Sans Mono',consolas,'Courier New',monospace\"></pre>\n"
      ],
      "text/plain": []
     },
     "metadata": {},
     "output_type": "display_data"
    },
    {
     "data": {
      "text/html": [
       "<pre style=\"white-space:pre;overflow-x:auto;line-height:normal;font-family:Menlo,'DejaVu Sans Mono',consolas,'Courier New',monospace\"><span style=\"color: #7fbfbf; text-decoration-color: #7fbfbf\">                    </span><span style=\"color: #000080; text-decoration-color: #000080\">INFO    </span> <span style=\"color: #0000ff; text-decoration-color: #0000ff\">train</span>  - <span style=\"font-weight: bold\">(</span>Valid<span style=\"font-weight: bold\">)</span> bce:  <span style=\"color: #008080; text-decoration-color: #008080; font-weight: bold\">0.3625</span>,  acc: <span style=\"color: #008080; text-decoration-color: #008080; font-weight: bold\">89.264</span> %,pearson: <span style=\"color: #008080; text-decoration-color: #008080; font-weight: bold\">0.638</span>,  <a href=\"file:///n/home09/pren/3DGeno_tools/src/gt3d/modules/higashi/Higashi_wrapper.py\" target=\"_blank\"><span style=\"color: #7f7f7f; text-decoration-color: #7f7f7f\">Higashi_wrapper.py</span></a><span style=\"color: #7f7f7f; text-decoration-color: #7f7f7f\">:</span><a href=\"file:///n/home09/pren/3DGeno_tools/src/gt3d/modules/higashi/Higashi_wrapper.py#1277\" target=\"_blank\"><span style=\"color: #7f7f7f; text-decoration-color: #7f7f7f\">1277</span></a>\n",
       "<span style=\"color: #7fbfbf; text-decoration-color: #7fbfbf\">                    </span>         spearman: <span style=\"color: #008080; text-decoration-color: #008080; font-weight: bold\">0.561</span>,elapse: <span style=\"color: #008080; text-decoration-color: #008080; font-weight: bold\">0.052</span> s                                <span style=\"color: #7f7f7f; text-decoration-color: #7f7f7f\">                       </span>\n",
       "</pre>\n"
      ],
      "text/plain": [
       "\u001b[2;36m                   \u001b[0m\u001b[2;36m \u001b[0m\u001b[34mINFO    \u001b[0m \u001b[94mtrain\u001b[0m  - \u001b[1m(\u001b[0mValid\u001b[1m)\u001b[0m bce:  \u001b[1;36m0.3625\u001b[0m,  acc: \u001b[1;36m89.264\u001b[0m %,pearson: \u001b[1;36m0.638\u001b[0m,  \u001b]8;id=110799;file:///n/home09/pren/3DGeno_tools/src/gt3d/modules/higashi/Higashi_wrapper.py\u001b\\\u001b[2mHigashi_wrapper.py\u001b[0m\u001b]8;;\u001b\\\u001b[2m:\u001b[0m\u001b]8;id=319729;file:///n/home09/pren/3DGeno_tools/src/gt3d/modules/higashi/Higashi_wrapper.py#1277\u001b\\\u001b[2m1277\u001b[0m\u001b]8;;\u001b\\\n",
       "\u001b[2;36m                    \u001b[0m         spearman: \u001b[1;36m0.561\u001b[0m,elapse: \u001b[1;36m0.052\u001b[0m s                                \u001b[2m                       \u001b[0m\n"
      ]
     },
     "metadata": {},
     "output_type": "display_data"
    },
    {
     "data": {
      "text/html": [
       "<pre style=\"white-space:pre;overflow-x:auto;line-height:normal;font-family:Menlo,'DejaVu Sans Mono',consolas,'Courier New',monospace\"><span style=\"color: #7fbfbf; text-decoration-color: #7fbfbf\">                    </span><span style=\"color: #000080; text-decoration-color: #000080\">INFO    </span> <span style=\"color: #0000ff; text-decoration-color: #0000ff\">train</span> update_rate: <span style=\"color: #008080; text-decoration-color: #008080; font-weight: bold\">0.004460</span>     <span style=\"color: #008080; text-decoration-color: #008080; font-weight: bold\">0.106013</span>                       <a href=\"file:///n/home09/pren/3DGeno_tools/src/gt3d/modules/higashi/Higashi_wrapper.py\" target=\"_blank\"><span style=\"color: #7f7f7f; text-decoration-color: #7f7f7f\">Higashi_wrapper.py</span></a><span style=\"color: #7f7f7f; text-decoration-color: #7f7f7f\">:</span><a href=\"file:///n/home09/pren/3DGeno_tools/src/gt3d/modules/higashi/Higashi_wrapper.py#1323\" target=\"_blank\"><span style=\"color: #7f7f7f; text-decoration-color: #7f7f7f\">1323</span></a>\n",
       "</pre>\n"
      ],
      "text/plain": [
       "\u001b[2;36m                   \u001b[0m\u001b[2;36m \u001b[0m\u001b[34mINFO    \u001b[0m \u001b[94mtrain\u001b[0m update_rate: \u001b[1;36m0.004460\u001b[0m     \u001b[1;36m0.106013\u001b[0m                       \u001b]8;id=521159;file:///n/home09/pren/3DGeno_tools/src/gt3d/modules/higashi/Higashi_wrapper.py\u001b\\\u001b[2mHigashi_wrapper.py\u001b[0m\u001b]8;;\u001b\\\u001b[2m:\u001b[0m\u001b]8;id=944608;file:///n/home09/pren/3DGeno_tools/src/gt3d/modules/higashi/Higashi_wrapper.py#1323\u001b\\\u001b[2m1323\u001b[0m\u001b]8;;\u001b\\\n"
      ]
     },
     "metadata": {},
     "output_type": "display_data"
    },
    {
     "data": {
      "text/html": [
       "<pre style=\"white-space:pre;overflow-x:auto;line-height:normal;font-family:Menlo,'DejaVu Sans Mono',consolas,'Courier New',monospace\"><span style=\"color: #7fbfbf; text-decoration-color: #7fbfbf\">                    </span><span style=\"color: #000080; text-decoration-color: #000080\">INFO    </span> <span style=\"color: #0000ff; text-decoration-color: #0000ff\">train</span> <span style=\"font-weight: bold\">[</span> Epoch <span style=\"color: #008080; text-decoration-color: #008080; font-weight: bold\">33</span> of <span style=\"color: #008080; text-decoration-color: #008080; font-weight: bold\">65</span> <span style=\"font-weight: bold\">]</span>                                       <a href=\"file:///n/home09/pren/3DGeno_tools/src/gt3d/modules/higashi/Higashi_wrapper.py\" target=\"_blank\"><span style=\"color: #7f7f7f; text-decoration-color: #7f7f7f\">Higashi_wrapper.py</span></a><span style=\"color: #7f7f7f; text-decoration-color: #7f7f7f\">:</span><a href=\"file:///n/home09/pren/3DGeno_tools/src/gt3d/modules/higashi/Higashi_wrapper.py#1245\" target=\"_blank\"><span style=\"color: #7f7f7f; text-decoration-color: #7f7f7f\">1245</span></a>\n",
       "</pre>\n"
      ],
      "text/plain": [
       "\u001b[2;36m                   \u001b[0m\u001b[2;36m \u001b[0m\u001b[34mINFO    \u001b[0m \u001b[94mtrain\u001b[0m \u001b[1m[\u001b[0m Epoch \u001b[1;36m33\u001b[0m of \u001b[1;36m65\u001b[0m \u001b[1m]\u001b[0m                                       \u001b]8;id=626323;file:///n/home09/pren/3DGeno_tools/src/gt3d/modules/higashi/Higashi_wrapper.py\u001b\\\u001b[2mHigashi_wrapper.py\u001b[0m\u001b]8;;\u001b\\\u001b[2m:\u001b[0m\u001b]8;id=399232;file:///n/home09/pren/3DGeno_tools/src/gt3d/modules/higashi/Higashi_wrapper.py#1245\u001b\\\u001b[2m1245\u001b[0m\u001b]8;;\u001b\\\n"
      ]
     },
     "metadata": {},
     "output_type": "display_data"
    },
    {
     "data": {
      "application/vnd.jupyter.widget-view+json": {
       "model_id": "a49f8fc7b9a1433abf93c0e91f72f764",
       "version_major": 2,
       "version_minor": 0
      },
      "text/plain": [
       "Output()"
      ]
     },
     "metadata": {},
     "output_type": "display_data"
    },
    {
     "data": {
      "text/html": [
       "<pre style=\"white-space:pre;overflow-x:auto;line-height:normal;font-family:Menlo,'DejaVu Sans Mono',consolas,'Courier New',monospace\"></pre>\n"
      ],
      "text/plain": []
     },
     "metadata": {},
     "output_type": "display_data"
    },
    {
     "data": {
      "text/html": [
       "<pre style=\"white-space:pre;overflow-x:auto;line-height:normal;font-family:Menlo,'DejaVu Sans Mono',consolas,'Courier New',monospace\"><span style=\"color: #7fbfbf; text-decoration-color: #7fbfbf\">[12/07/24 15:21:14] </span><span style=\"color: #000080; text-decoration-color: #000080\">INFO    </span> <span style=\"color: #0000ff; text-decoration-color: #0000ff\">train</span>  - <span style=\"font-weight: bold\">(</span>Train<span style=\"font-weight: bold\">)</span> bce:  <span style=\"color: #008080; text-decoration-color: #008080; font-weight: bold\">0.3178</span>, mse:  <span style=\"color: #008080; text-decoration-color: #008080; font-weight: bold\">0.9300</span>,  acc: <span style=\"color: #008080; text-decoration-color: #008080; font-weight: bold\">89.718</span> %,   <a href=\"file:///n/home09/pren/3DGeno_tools/src/gt3d/modules/higashi/Higashi_wrapper.py\" target=\"_blank\"><span style=\"color: #7f7f7f; text-decoration-color: #7f7f7f\">Higashi_wrapper.py</span></a><span style=\"color: #7f7f7f; text-decoration-color: #7f7f7f\">:</span><a href=\"file:///n/home09/pren/3DGeno_tools/src/gt3d/modules/higashi/Higashi_wrapper.py#1258\" target=\"_blank\"><span style=\"color: #7f7f7f; text-decoration-color: #7f7f7f\">1258</span></a>\n",
       "<span style=\"color: #7fbfbf; text-decoration-color: #7fbfbf\">                    </span>         pearson: <span style=\"color: #008080; text-decoration-color: #008080; font-weight: bold\">0.680</span>, spearman: <span style=\"color: #008080; text-decoration-color: #008080; font-weight: bold\">0.577</span>, elapse: <span style=\"color: #008080; text-decoration-color: #008080; font-weight: bold\">89.302</span> s              <span style=\"color: #7f7f7f; text-decoration-color: #7f7f7f\">                       </span>\n",
       "</pre>\n"
      ],
      "text/plain": [
       "\u001b[2;36m[12/07/24 15:21:14]\u001b[0m\u001b[2;36m \u001b[0m\u001b[34mINFO    \u001b[0m \u001b[94mtrain\u001b[0m  - \u001b[1m(\u001b[0mTrain\u001b[1m)\u001b[0m bce:  \u001b[1;36m0.3178\u001b[0m, mse:  \u001b[1;36m0.9300\u001b[0m,  acc: \u001b[1;36m89.718\u001b[0m %,   \u001b]8;id=867864;file:///n/home09/pren/3DGeno_tools/src/gt3d/modules/higashi/Higashi_wrapper.py\u001b\\\u001b[2mHigashi_wrapper.py\u001b[0m\u001b]8;;\u001b\\\u001b[2m:\u001b[0m\u001b]8;id=265996;file:///n/home09/pren/3DGeno_tools/src/gt3d/modules/higashi/Higashi_wrapper.py#1258\u001b\\\u001b[2m1258\u001b[0m\u001b]8;;\u001b\\\n",
       "\u001b[2;36m                    \u001b[0m         pearson: \u001b[1;36m0.680\u001b[0m, spearman: \u001b[1;36m0.577\u001b[0m, elapse: \u001b[1;36m89.302\u001b[0m s              \u001b[2m                       \u001b[0m\n"
      ]
     },
     "metadata": {},
     "output_type": "display_data"
    },
    {
     "data": {
      "application/vnd.jupyter.widget-view+json": {
       "model_id": "472a43ca29a64577af63465d4ab25b7d",
       "version_major": 2,
       "version_minor": 0
      },
      "text/plain": [
       "Output()"
      ]
     },
     "metadata": {},
     "output_type": "display_data"
    },
    {
     "data": {
      "text/html": [
       "<pre style=\"white-space:pre;overflow-x:auto;line-height:normal;font-family:Menlo,'DejaVu Sans Mono',consolas,'Courier New',monospace\"></pre>\n"
      ],
      "text/plain": []
     },
     "metadata": {},
     "output_type": "display_data"
    },
    {
     "data": {
      "text/html": [
       "<pre style=\"white-space:pre;overflow-x:auto;line-height:normal;font-family:Menlo,'DejaVu Sans Mono',consolas,'Courier New',monospace\"><span style=\"color: #7fbfbf; text-decoration-color: #7fbfbf\">                    </span><span style=\"color: #000080; text-decoration-color: #000080\">INFO    </span> <span style=\"color: #0000ff; text-decoration-color: #0000ff\">train</span>  - <span style=\"font-weight: bold\">(</span>Valid<span style=\"font-weight: bold\">)</span> bce:  <span style=\"color: #008080; text-decoration-color: #008080; font-weight: bold\">0.3501</span>,  acc: <span style=\"color: #008080; text-decoration-color: #008080; font-weight: bold\">88.978</span> %,pearson: <span style=\"color: #008080; text-decoration-color: #008080; font-weight: bold\">0.641</span>,  <a href=\"file:///n/home09/pren/3DGeno_tools/src/gt3d/modules/higashi/Higashi_wrapper.py\" target=\"_blank\"><span style=\"color: #7f7f7f; text-decoration-color: #7f7f7f\">Higashi_wrapper.py</span></a><span style=\"color: #7f7f7f; text-decoration-color: #7f7f7f\">:</span><a href=\"file:///n/home09/pren/3DGeno_tools/src/gt3d/modules/higashi/Higashi_wrapper.py#1277\" target=\"_blank\"><span style=\"color: #7f7f7f; text-decoration-color: #7f7f7f\">1277</span></a>\n",
       "<span style=\"color: #7fbfbf; text-decoration-color: #7fbfbf\">                    </span>         spearman: <span style=\"color: #008080; text-decoration-color: #008080; font-weight: bold\">0.563</span>,elapse: <span style=\"color: #008080; text-decoration-color: #008080; font-weight: bold\">0.052</span> s                                <span style=\"color: #7f7f7f; text-decoration-color: #7f7f7f\">                       </span>\n",
       "</pre>\n"
      ],
      "text/plain": [
       "\u001b[2;36m                   \u001b[0m\u001b[2;36m \u001b[0m\u001b[34mINFO    \u001b[0m \u001b[94mtrain\u001b[0m  - \u001b[1m(\u001b[0mValid\u001b[1m)\u001b[0m bce:  \u001b[1;36m0.3501\u001b[0m,  acc: \u001b[1;36m88.978\u001b[0m %,pearson: \u001b[1;36m0.641\u001b[0m,  \u001b]8;id=221881;file:///n/home09/pren/3DGeno_tools/src/gt3d/modules/higashi/Higashi_wrapper.py\u001b\\\u001b[2mHigashi_wrapper.py\u001b[0m\u001b]8;;\u001b\\\u001b[2m:\u001b[0m\u001b]8;id=679753;file:///n/home09/pren/3DGeno_tools/src/gt3d/modules/higashi/Higashi_wrapper.py#1277\u001b\\\u001b[2m1277\u001b[0m\u001b]8;;\u001b\\\n",
       "\u001b[2;36m                    \u001b[0m         spearman: \u001b[1;36m0.563\u001b[0m,elapse: \u001b[1;36m0.052\u001b[0m s                                \u001b[2m                       \u001b[0m\n"
      ]
     },
     "metadata": {},
     "output_type": "display_data"
    },
    {
     "data": {
      "text/html": [
       "<pre style=\"white-space:pre;overflow-x:auto;line-height:normal;font-family:Menlo,'DejaVu Sans Mono',consolas,'Courier New',monospace\"><span style=\"color: #7fbfbf; text-decoration-color: #7fbfbf\">                    </span><span style=\"color: #000080; text-decoration-color: #000080\">INFO    </span> <span style=\"color: #0000ff; text-decoration-color: #0000ff\">train</span> update_rate: <span style=\"color: #008080; text-decoration-color: #008080; font-weight: bold\">0.003833</span>     <span style=\"color: #008080; text-decoration-color: #008080; font-weight: bold\">0.121638</span>                       <a href=\"file:///n/home09/pren/3DGeno_tools/src/gt3d/modules/higashi/Higashi_wrapper.py\" target=\"_blank\"><span style=\"color: #7f7f7f; text-decoration-color: #7f7f7f\">Higashi_wrapper.py</span></a><span style=\"color: #7f7f7f; text-decoration-color: #7f7f7f\">:</span><a href=\"file:///n/home09/pren/3DGeno_tools/src/gt3d/modules/higashi/Higashi_wrapper.py#1323\" target=\"_blank\"><span style=\"color: #7f7f7f; text-decoration-color: #7f7f7f\">1323</span></a>\n",
       "</pre>\n"
      ],
      "text/plain": [
       "\u001b[2;36m                   \u001b[0m\u001b[2;36m \u001b[0m\u001b[34mINFO    \u001b[0m \u001b[94mtrain\u001b[0m update_rate: \u001b[1;36m0.003833\u001b[0m     \u001b[1;36m0.121638\u001b[0m                       \u001b]8;id=231779;file:///n/home09/pren/3DGeno_tools/src/gt3d/modules/higashi/Higashi_wrapper.py\u001b\\\u001b[2mHigashi_wrapper.py\u001b[0m\u001b]8;;\u001b\\\u001b[2m:\u001b[0m\u001b]8;id=631961;file:///n/home09/pren/3DGeno_tools/src/gt3d/modules/higashi/Higashi_wrapper.py#1323\u001b\\\u001b[2m1323\u001b[0m\u001b]8;;\u001b\\\n"
      ]
     },
     "metadata": {},
     "output_type": "display_data"
    },
    {
     "data": {
      "text/html": [
       "<pre style=\"white-space:pre;overflow-x:auto;line-height:normal;font-family:Menlo,'DejaVu Sans Mono',consolas,'Courier New',monospace\"><span style=\"color: #7fbfbf; text-decoration-color: #7fbfbf\">                    </span><span style=\"color: #000080; text-decoration-color: #000080\">INFO    </span> <span style=\"color: #0000ff; text-decoration-color: #0000ff\">train</span> <span style=\"font-weight: bold\">[</span> Epoch <span style=\"color: #008080; text-decoration-color: #008080; font-weight: bold\">34</span> of <span style=\"color: #008080; text-decoration-color: #008080; font-weight: bold\">65</span> <span style=\"font-weight: bold\">]</span>                                       <a href=\"file:///n/home09/pren/3DGeno_tools/src/gt3d/modules/higashi/Higashi_wrapper.py\" target=\"_blank\"><span style=\"color: #7f7f7f; text-decoration-color: #7f7f7f\">Higashi_wrapper.py</span></a><span style=\"color: #7f7f7f; text-decoration-color: #7f7f7f\">:</span><a href=\"file:///n/home09/pren/3DGeno_tools/src/gt3d/modules/higashi/Higashi_wrapper.py#1245\" target=\"_blank\"><span style=\"color: #7f7f7f; text-decoration-color: #7f7f7f\">1245</span></a>\n",
       "</pre>\n"
      ],
      "text/plain": [
       "\u001b[2;36m                   \u001b[0m\u001b[2;36m \u001b[0m\u001b[34mINFO    \u001b[0m \u001b[94mtrain\u001b[0m \u001b[1m[\u001b[0m Epoch \u001b[1;36m34\u001b[0m of \u001b[1;36m65\u001b[0m \u001b[1m]\u001b[0m                                       \u001b]8;id=266399;file:///n/home09/pren/3DGeno_tools/src/gt3d/modules/higashi/Higashi_wrapper.py\u001b\\\u001b[2mHigashi_wrapper.py\u001b[0m\u001b]8;;\u001b\\\u001b[2m:\u001b[0m\u001b]8;id=412743;file:///n/home09/pren/3DGeno_tools/src/gt3d/modules/higashi/Higashi_wrapper.py#1245\u001b\\\u001b[2m1245\u001b[0m\u001b]8;;\u001b\\\n"
      ]
     },
     "metadata": {},
     "output_type": "display_data"
    },
    {
     "data": {
      "application/vnd.jupyter.widget-view+json": {
       "model_id": "a2c4282c6cd4410dbe3cb4122a23aa78",
       "version_major": 2,
       "version_minor": 0
      },
      "text/plain": [
       "Output()"
      ]
     },
     "metadata": {},
     "output_type": "display_data"
    },
    {
     "data": {
      "text/html": [
       "<pre style=\"white-space:pre;overflow-x:auto;line-height:normal;font-family:Menlo,'DejaVu Sans Mono',consolas,'Courier New',monospace\"></pre>\n"
      ],
      "text/plain": []
     },
     "metadata": {},
     "output_type": "display_data"
    },
    {
     "data": {
      "text/html": [
       "<pre style=\"white-space:pre;overflow-x:auto;line-height:normal;font-family:Menlo,'DejaVu Sans Mono',consolas,'Courier New',monospace\"><span style=\"color: #7fbfbf; text-decoration-color: #7fbfbf\">[12/07/24 15:22:43] </span><span style=\"color: #000080; text-decoration-color: #000080\">INFO    </span> <span style=\"color: #0000ff; text-decoration-color: #0000ff\">train</span>  - <span style=\"font-weight: bold\">(</span>Train<span style=\"font-weight: bold\">)</span> bce:  <span style=\"color: #008080; text-decoration-color: #008080; font-weight: bold\">0.3160</span>, mse:  <span style=\"color: #008080; text-decoration-color: #008080; font-weight: bold\">0.8645</span>,  acc: <span style=\"color: #008080; text-decoration-color: #008080; font-weight: bold\">89.807</span> %,   <a href=\"file:///n/home09/pren/3DGeno_tools/src/gt3d/modules/higashi/Higashi_wrapper.py\" target=\"_blank\"><span style=\"color: #7f7f7f; text-decoration-color: #7f7f7f\">Higashi_wrapper.py</span></a><span style=\"color: #7f7f7f; text-decoration-color: #7f7f7f\">:</span><a href=\"file:///n/home09/pren/3DGeno_tools/src/gt3d/modules/higashi/Higashi_wrapper.py#1258\" target=\"_blank\"><span style=\"color: #7f7f7f; text-decoration-color: #7f7f7f\">1258</span></a>\n",
       "<span style=\"color: #7fbfbf; text-decoration-color: #7fbfbf\">                    </span>         pearson: <span style=\"color: #008080; text-decoration-color: #008080; font-weight: bold\">0.683</span>, spearman: <span style=\"color: #008080; text-decoration-color: #008080; font-weight: bold\">0.579</span>, elapse: <span style=\"color: #008080; text-decoration-color: #008080; font-weight: bold\">89.086</span> s              <span style=\"color: #7f7f7f; text-decoration-color: #7f7f7f\">                       </span>\n",
       "</pre>\n"
      ],
      "text/plain": [
       "\u001b[2;36m[12/07/24 15:22:43]\u001b[0m\u001b[2;36m \u001b[0m\u001b[34mINFO    \u001b[0m \u001b[94mtrain\u001b[0m  - \u001b[1m(\u001b[0mTrain\u001b[1m)\u001b[0m bce:  \u001b[1;36m0.3160\u001b[0m, mse:  \u001b[1;36m0.8645\u001b[0m,  acc: \u001b[1;36m89.807\u001b[0m %,   \u001b]8;id=407807;file:///n/home09/pren/3DGeno_tools/src/gt3d/modules/higashi/Higashi_wrapper.py\u001b\\\u001b[2mHigashi_wrapper.py\u001b[0m\u001b]8;;\u001b\\\u001b[2m:\u001b[0m\u001b]8;id=143518;file:///n/home09/pren/3DGeno_tools/src/gt3d/modules/higashi/Higashi_wrapper.py#1258\u001b\\\u001b[2m1258\u001b[0m\u001b]8;;\u001b\\\n",
       "\u001b[2;36m                    \u001b[0m         pearson: \u001b[1;36m0.683\u001b[0m, spearman: \u001b[1;36m0.579\u001b[0m, elapse: \u001b[1;36m89.086\u001b[0m s              \u001b[2m                       \u001b[0m\n"
      ]
     },
     "metadata": {},
     "output_type": "display_data"
    },
    {
     "data": {
      "application/vnd.jupyter.widget-view+json": {
       "model_id": "a499922895ea470eb777c52517092f26",
       "version_major": 2,
       "version_minor": 0
      },
      "text/plain": [
       "Output()"
      ]
     },
     "metadata": {},
     "output_type": "display_data"
    },
    {
     "data": {
      "text/html": [
       "<pre style=\"white-space:pre;overflow-x:auto;line-height:normal;font-family:Menlo,'DejaVu Sans Mono',consolas,'Courier New',monospace\"></pre>\n"
      ],
      "text/plain": []
     },
     "metadata": {},
     "output_type": "display_data"
    },
    {
     "data": {
      "text/html": [
       "<pre style=\"white-space:pre;overflow-x:auto;line-height:normal;font-family:Menlo,'DejaVu Sans Mono',consolas,'Courier New',monospace\"><span style=\"color: #7fbfbf; text-decoration-color: #7fbfbf\">                    </span><span style=\"color: #000080; text-decoration-color: #000080\">INFO    </span> <span style=\"color: #0000ff; text-decoration-color: #0000ff\">train</span>  - <span style=\"font-weight: bold\">(</span>Valid<span style=\"font-weight: bold\">)</span> bce:  <span style=\"color: #008080; text-decoration-color: #008080; font-weight: bold\">0.3604</span>,  acc: <span style=\"color: #008080; text-decoration-color: #008080; font-weight: bold\">88.652</span> %,pearson: <span style=\"color: #008080; text-decoration-color: #008080; font-weight: bold\">0.628</span>,  <a href=\"file:///n/home09/pren/3DGeno_tools/src/gt3d/modules/higashi/Higashi_wrapper.py\" target=\"_blank\"><span style=\"color: #7f7f7f; text-decoration-color: #7f7f7f\">Higashi_wrapper.py</span></a><span style=\"color: #7f7f7f; text-decoration-color: #7f7f7f\">:</span><a href=\"file:///n/home09/pren/3DGeno_tools/src/gt3d/modules/higashi/Higashi_wrapper.py#1277\" target=\"_blank\"><span style=\"color: #7f7f7f; text-decoration-color: #7f7f7f\">1277</span></a>\n",
       "<span style=\"color: #7fbfbf; text-decoration-color: #7fbfbf\">                    </span>         spearman: <span style=\"color: #008080; text-decoration-color: #008080; font-weight: bold\">0.553</span>,elapse: <span style=\"color: #008080; text-decoration-color: #008080; font-weight: bold\">0.052</span> s                                <span style=\"color: #7f7f7f; text-decoration-color: #7f7f7f\">                       </span>\n",
       "</pre>\n"
      ],
      "text/plain": [
       "\u001b[2;36m                   \u001b[0m\u001b[2;36m \u001b[0m\u001b[34mINFO    \u001b[0m \u001b[94mtrain\u001b[0m  - \u001b[1m(\u001b[0mValid\u001b[1m)\u001b[0m bce:  \u001b[1;36m0.3604\u001b[0m,  acc: \u001b[1;36m88.652\u001b[0m %,pearson: \u001b[1;36m0.628\u001b[0m,  \u001b]8;id=92121;file:///n/home09/pren/3DGeno_tools/src/gt3d/modules/higashi/Higashi_wrapper.py\u001b\\\u001b[2mHigashi_wrapper.py\u001b[0m\u001b]8;;\u001b\\\u001b[2m:\u001b[0m\u001b]8;id=717572;file:///n/home09/pren/3DGeno_tools/src/gt3d/modules/higashi/Higashi_wrapper.py#1277\u001b\\\u001b[2m1277\u001b[0m\u001b]8;;\u001b\\\n",
       "\u001b[2;36m                    \u001b[0m         spearman: \u001b[1;36m0.553\u001b[0m,elapse: \u001b[1;36m0.052\u001b[0m s                                \u001b[2m                       \u001b[0m\n"
      ]
     },
     "metadata": {},
     "output_type": "display_data"
    },
    {
     "data": {
      "text/html": [
       "<pre style=\"white-space:pre;overflow-x:auto;line-height:normal;font-family:Menlo,'DejaVu Sans Mono',consolas,'Courier New',monospace\"><span style=\"color: #7fbfbf; text-decoration-color: #7fbfbf\">                    </span><span style=\"color: #000080; text-decoration-color: #000080\">INFO    </span> <span style=\"color: #0000ff; text-decoration-color: #0000ff\">train</span> update_rate: <span style=\"color: #008080; text-decoration-color: #008080; font-weight: bold\">0.004404</span>     <span style=\"color: #008080; text-decoration-color: #008080; font-weight: bold\">0.181964</span>                       <a href=\"file:///n/home09/pren/3DGeno_tools/src/gt3d/modules/higashi/Higashi_wrapper.py\" target=\"_blank\"><span style=\"color: #7f7f7f; text-decoration-color: #7f7f7f\">Higashi_wrapper.py</span></a><span style=\"color: #7f7f7f; text-decoration-color: #7f7f7f\">:</span><a href=\"file:///n/home09/pren/3DGeno_tools/src/gt3d/modules/higashi/Higashi_wrapper.py#1323\" target=\"_blank\"><span style=\"color: #7f7f7f; text-decoration-color: #7f7f7f\">1323</span></a>\n",
       "</pre>\n"
      ],
      "text/plain": [
       "\u001b[2;36m                   \u001b[0m\u001b[2;36m \u001b[0m\u001b[34mINFO    \u001b[0m \u001b[94mtrain\u001b[0m update_rate: \u001b[1;36m0.004404\u001b[0m     \u001b[1;36m0.181964\u001b[0m                       \u001b]8;id=244948;file:///n/home09/pren/3DGeno_tools/src/gt3d/modules/higashi/Higashi_wrapper.py\u001b\\\u001b[2mHigashi_wrapper.py\u001b[0m\u001b]8;;\u001b\\\u001b[2m:\u001b[0m\u001b]8;id=196817;file:///n/home09/pren/3DGeno_tools/src/gt3d/modules/higashi/Higashi_wrapper.py#1323\u001b\\\u001b[2m1323\u001b[0m\u001b]8;;\u001b\\\n"
      ]
     },
     "metadata": {},
     "output_type": "display_data"
    },
    {
     "data": {
      "text/html": [
       "<pre style=\"white-space:pre;overflow-x:auto;line-height:normal;font-family:Menlo,'DejaVu Sans Mono',consolas,'Courier New',monospace\"><span style=\"color: #7fbfbf; text-decoration-color: #7fbfbf\">                    </span><span style=\"color: #000080; text-decoration-color: #000080\">INFO    </span> <span style=\"color: #0000ff; text-decoration-color: #0000ff\">train</span> <span style=\"font-weight: bold\">[</span> Epoch <span style=\"color: #008080; text-decoration-color: #008080; font-weight: bold\">35</span> of <span style=\"color: #008080; text-decoration-color: #008080; font-weight: bold\">65</span> <span style=\"font-weight: bold\">]</span>                                       <a href=\"file:///n/home09/pren/3DGeno_tools/src/gt3d/modules/higashi/Higashi_wrapper.py\" target=\"_blank\"><span style=\"color: #7f7f7f; text-decoration-color: #7f7f7f\">Higashi_wrapper.py</span></a><span style=\"color: #7f7f7f; text-decoration-color: #7f7f7f\">:</span><a href=\"file:///n/home09/pren/3DGeno_tools/src/gt3d/modules/higashi/Higashi_wrapper.py#1245\" target=\"_blank\"><span style=\"color: #7f7f7f; text-decoration-color: #7f7f7f\">1245</span></a>\n",
       "</pre>\n"
      ],
      "text/plain": [
       "\u001b[2;36m                   \u001b[0m\u001b[2;36m \u001b[0m\u001b[34mINFO    \u001b[0m \u001b[94mtrain\u001b[0m \u001b[1m[\u001b[0m Epoch \u001b[1;36m35\u001b[0m of \u001b[1;36m65\u001b[0m \u001b[1m]\u001b[0m                                       \u001b]8;id=347682;file:///n/home09/pren/3DGeno_tools/src/gt3d/modules/higashi/Higashi_wrapper.py\u001b\\\u001b[2mHigashi_wrapper.py\u001b[0m\u001b]8;;\u001b\\\u001b[2m:\u001b[0m\u001b]8;id=591954;file:///n/home09/pren/3DGeno_tools/src/gt3d/modules/higashi/Higashi_wrapper.py#1245\u001b\\\u001b[2m1245\u001b[0m\u001b]8;;\u001b\\\n"
      ]
     },
     "metadata": {},
     "output_type": "display_data"
    },
    {
     "data": {
      "application/vnd.jupyter.widget-view+json": {
       "model_id": "ed0ee9a7a9874012a2a0de3963a917cd",
       "version_major": 2,
       "version_minor": 0
      },
      "text/plain": [
       "Output()"
      ]
     },
     "metadata": {},
     "output_type": "display_data"
    },
    {
     "data": {
      "text/html": [
       "<pre style=\"white-space:pre;overflow-x:auto;line-height:normal;font-family:Menlo,'DejaVu Sans Mono',consolas,'Courier New',monospace\"></pre>\n"
      ],
      "text/plain": []
     },
     "metadata": {},
     "output_type": "display_data"
    },
    {
     "data": {
      "text/html": [
       "<pre style=\"white-space:pre;overflow-x:auto;line-height:normal;font-family:Menlo,'DejaVu Sans Mono',consolas,'Courier New',monospace\"><span style=\"color: #7fbfbf; text-decoration-color: #7fbfbf\">[12/07/24 15:24:12] </span><span style=\"color: #000080; text-decoration-color: #000080\">INFO    </span> <span style=\"color: #0000ff; text-decoration-color: #0000ff\">train</span>  - <span style=\"font-weight: bold\">(</span>Train<span style=\"font-weight: bold\">)</span> bce:  <span style=\"color: #008080; text-decoration-color: #008080; font-weight: bold\">0.3167</span>, mse:  <span style=\"color: #008080; text-decoration-color: #008080; font-weight: bold\">0.8606</span>,  acc: <span style=\"color: #008080; text-decoration-color: #008080; font-weight: bold\">89.789</span> %,   <a href=\"file:///n/home09/pren/3DGeno_tools/src/gt3d/modules/higashi/Higashi_wrapper.py\" target=\"_blank\"><span style=\"color: #7f7f7f; text-decoration-color: #7f7f7f\">Higashi_wrapper.py</span></a><span style=\"color: #7f7f7f; text-decoration-color: #7f7f7f\">:</span><a href=\"file:///n/home09/pren/3DGeno_tools/src/gt3d/modules/higashi/Higashi_wrapper.py#1258\" target=\"_blank\"><span style=\"color: #7f7f7f; text-decoration-color: #7f7f7f\">1258</span></a>\n",
       "<span style=\"color: #7fbfbf; text-decoration-color: #7fbfbf\">                    </span>         pearson: <span style=\"color: #008080; text-decoration-color: #008080; font-weight: bold\">0.683</span>, spearman: <span style=\"color: #008080; text-decoration-color: #008080; font-weight: bold\">0.579</span>, elapse: <span style=\"color: #008080; text-decoration-color: #008080; font-weight: bold\">89.113</span> s              <span style=\"color: #7f7f7f; text-decoration-color: #7f7f7f\">                       </span>\n",
       "</pre>\n"
      ],
      "text/plain": [
       "\u001b[2;36m[12/07/24 15:24:12]\u001b[0m\u001b[2;36m \u001b[0m\u001b[34mINFO    \u001b[0m \u001b[94mtrain\u001b[0m  - \u001b[1m(\u001b[0mTrain\u001b[1m)\u001b[0m bce:  \u001b[1;36m0.3167\u001b[0m, mse:  \u001b[1;36m0.8606\u001b[0m,  acc: \u001b[1;36m89.789\u001b[0m %,   \u001b]8;id=531185;file:///n/home09/pren/3DGeno_tools/src/gt3d/modules/higashi/Higashi_wrapper.py\u001b\\\u001b[2mHigashi_wrapper.py\u001b[0m\u001b]8;;\u001b\\\u001b[2m:\u001b[0m\u001b]8;id=265187;file:///n/home09/pren/3DGeno_tools/src/gt3d/modules/higashi/Higashi_wrapper.py#1258\u001b\\\u001b[2m1258\u001b[0m\u001b]8;;\u001b\\\n",
       "\u001b[2;36m                    \u001b[0m         pearson: \u001b[1;36m0.683\u001b[0m, spearman: \u001b[1;36m0.579\u001b[0m, elapse: \u001b[1;36m89.113\u001b[0m s              \u001b[2m                       \u001b[0m\n"
      ]
     },
     "metadata": {},
     "output_type": "display_data"
    },
    {
     "data": {
      "application/vnd.jupyter.widget-view+json": {
       "model_id": "9f6cb7c471504ee2959f4262f82a6113",
       "version_major": 2,
       "version_minor": 0
      },
      "text/plain": [
       "Output()"
      ]
     },
     "metadata": {},
     "output_type": "display_data"
    },
    {
     "data": {
      "text/html": [
       "<pre style=\"white-space:pre;overflow-x:auto;line-height:normal;font-family:Menlo,'DejaVu Sans Mono',consolas,'Courier New',monospace\"></pre>\n"
      ],
      "text/plain": []
     },
     "metadata": {},
     "output_type": "display_data"
    },
    {
     "data": {
      "text/html": [
       "<pre style=\"white-space:pre;overflow-x:auto;line-height:normal;font-family:Menlo,'DejaVu Sans Mono',consolas,'Courier New',monospace\"><span style=\"color: #7fbfbf; text-decoration-color: #7fbfbf\">                    </span><span style=\"color: #000080; text-decoration-color: #000080\">INFO    </span> <span style=\"color: #0000ff; text-decoration-color: #0000ff\">train</span>  - <span style=\"font-weight: bold\">(</span>Valid<span style=\"font-weight: bold\">)</span> bce:  <span style=\"color: #008080; text-decoration-color: #008080; font-weight: bold\">0.3670</span>,  acc: <span style=\"color: #008080; text-decoration-color: #008080; font-weight: bold\">88.477</span> %,pearson: <span style=\"color: #008080; text-decoration-color: #008080; font-weight: bold\">0.625</span>,  <a href=\"file:///n/home09/pren/3DGeno_tools/src/gt3d/modules/higashi/Higashi_wrapper.py\" target=\"_blank\"><span style=\"color: #7f7f7f; text-decoration-color: #7f7f7f\">Higashi_wrapper.py</span></a><span style=\"color: #7f7f7f; text-decoration-color: #7f7f7f\">:</span><a href=\"file:///n/home09/pren/3DGeno_tools/src/gt3d/modules/higashi/Higashi_wrapper.py#1277\" target=\"_blank\"><span style=\"color: #7f7f7f; text-decoration-color: #7f7f7f\">1277</span></a>\n",
       "<span style=\"color: #7fbfbf; text-decoration-color: #7fbfbf\">                    </span>         spearman: <span style=\"color: #008080; text-decoration-color: #008080; font-weight: bold\">0.550</span>,elapse: <span style=\"color: #008080; text-decoration-color: #008080; font-weight: bold\">0.052</span> s                                <span style=\"color: #7f7f7f; text-decoration-color: #7f7f7f\">                       </span>\n",
       "</pre>\n"
      ],
      "text/plain": [
       "\u001b[2;36m                   \u001b[0m\u001b[2;36m \u001b[0m\u001b[34mINFO    \u001b[0m \u001b[94mtrain\u001b[0m  - \u001b[1m(\u001b[0mValid\u001b[1m)\u001b[0m bce:  \u001b[1;36m0.3670\u001b[0m,  acc: \u001b[1;36m88.477\u001b[0m %,pearson: \u001b[1;36m0.625\u001b[0m,  \u001b]8;id=668364;file:///n/home09/pren/3DGeno_tools/src/gt3d/modules/higashi/Higashi_wrapper.py\u001b\\\u001b[2mHigashi_wrapper.py\u001b[0m\u001b]8;;\u001b\\\u001b[2m:\u001b[0m\u001b]8;id=259535;file:///n/home09/pren/3DGeno_tools/src/gt3d/modules/higashi/Higashi_wrapper.py#1277\u001b\\\u001b[2m1277\u001b[0m\u001b]8;;\u001b\\\n",
       "\u001b[2;36m                    \u001b[0m         spearman: \u001b[1;36m0.550\u001b[0m,elapse: \u001b[1;36m0.052\u001b[0m s                                \u001b[2m                       \u001b[0m\n"
      ]
     },
     "metadata": {},
     "output_type": "display_data"
    },
    {
     "data": {
      "text/html": [
       "<pre style=\"white-space:pre;overflow-x:auto;line-height:normal;font-family:Menlo,'DejaVu Sans Mono',consolas,'Courier New',monospace\"><span style=\"color: #7fbfbf; text-decoration-color: #7fbfbf\">                    </span><span style=\"color: #000080; text-decoration-color: #000080\">INFO    </span> <span style=\"color: #0000ff; text-decoration-color: #0000ff\">train</span> update_rate: <span style=\"color: #008080; text-decoration-color: #008080; font-weight: bold\">0.003809</span>     <span style=\"color: #008080; text-decoration-color: #008080; font-weight: bold\">0.069682</span>                       <a href=\"file:///n/home09/pren/3DGeno_tools/src/gt3d/modules/higashi/Higashi_wrapper.py\" target=\"_blank\"><span style=\"color: #7f7f7f; text-decoration-color: #7f7f7f\">Higashi_wrapper.py</span></a><span style=\"color: #7f7f7f; text-decoration-color: #7f7f7f\">:</span><a href=\"file:///n/home09/pren/3DGeno_tools/src/gt3d/modules/higashi/Higashi_wrapper.py#1323\" target=\"_blank\"><span style=\"color: #7f7f7f; text-decoration-color: #7f7f7f\">1323</span></a>\n",
       "</pre>\n"
      ],
      "text/plain": [
       "\u001b[2;36m                   \u001b[0m\u001b[2;36m \u001b[0m\u001b[34mINFO    \u001b[0m \u001b[94mtrain\u001b[0m update_rate: \u001b[1;36m0.003809\u001b[0m     \u001b[1;36m0.069682\u001b[0m                       \u001b]8;id=263593;file:///n/home09/pren/3DGeno_tools/src/gt3d/modules/higashi/Higashi_wrapper.py\u001b\\\u001b[2mHigashi_wrapper.py\u001b[0m\u001b]8;;\u001b\\\u001b[2m:\u001b[0m\u001b]8;id=769142;file:///n/home09/pren/3DGeno_tools/src/gt3d/modules/higashi/Higashi_wrapper.py#1323\u001b\\\u001b[2m1323\u001b[0m\u001b]8;;\u001b\\\n"
      ]
     },
     "metadata": {},
     "output_type": "display_data"
    },
    {
     "data": {
      "text/html": [
       "<pre style=\"white-space:pre;overflow-x:auto;line-height:normal;font-family:Menlo,'DejaVu Sans Mono',consolas,'Courier New',monospace\"><span style=\"color: #7fbfbf; text-decoration-color: #7fbfbf\">                    </span><span style=\"color: #000080; text-decoration-color: #000080\">INFO    </span> <span style=\"color: #0000ff; text-decoration-color: #0000ff\">train</span> <span style=\"font-weight: bold\">[</span> Epoch <span style=\"color: #008080; text-decoration-color: #008080; font-weight: bold\">36</span> of <span style=\"color: #008080; text-decoration-color: #008080; font-weight: bold\">65</span> <span style=\"font-weight: bold\">]</span>                                       <a href=\"file:///n/home09/pren/3DGeno_tools/src/gt3d/modules/higashi/Higashi_wrapper.py\" target=\"_blank\"><span style=\"color: #7f7f7f; text-decoration-color: #7f7f7f\">Higashi_wrapper.py</span></a><span style=\"color: #7f7f7f; text-decoration-color: #7f7f7f\">:</span><a href=\"file:///n/home09/pren/3DGeno_tools/src/gt3d/modules/higashi/Higashi_wrapper.py#1245\" target=\"_blank\"><span style=\"color: #7f7f7f; text-decoration-color: #7f7f7f\">1245</span></a>\n",
       "</pre>\n"
      ],
      "text/plain": [
       "\u001b[2;36m                   \u001b[0m\u001b[2;36m \u001b[0m\u001b[34mINFO    \u001b[0m \u001b[94mtrain\u001b[0m \u001b[1m[\u001b[0m Epoch \u001b[1;36m36\u001b[0m of \u001b[1;36m65\u001b[0m \u001b[1m]\u001b[0m                                       \u001b]8;id=152303;file:///n/home09/pren/3DGeno_tools/src/gt3d/modules/higashi/Higashi_wrapper.py\u001b\\\u001b[2mHigashi_wrapper.py\u001b[0m\u001b]8;;\u001b\\\u001b[2m:\u001b[0m\u001b]8;id=830736;file:///n/home09/pren/3DGeno_tools/src/gt3d/modules/higashi/Higashi_wrapper.py#1245\u001b\\\u001b[2m1245\u001b[0m\u001b]8;;\u001b\\\n"
      ]
     },
     "metadata": {},
     "output_type": "display_data"
    },
    {
     "data": {
      "application/vnd.jupyter.widget-view+json": {
       "model_id": "7b1b43c95dc04399b7f99648e0dd42c4",
       "version_major": 2,
       "version_minor": 0
      },
      "text/plain": [
       "Output()"
      ]
     },
     "metadata": {},
     "output_type": "display_data"
    },
    {
     "data": {
      "text/html": [
       "<pre style=\"white-space:pre;overflow-x:auto;line-height:normal;font-family:Menlo,'DejaVu Sans Mono',consolas,'Courier New',monospace\"></pre>\n"
      ],
      "text/plain": []
     },
     "metadata": {},
     "output_type": "display_data"
    },
    {
     "data": {
      "text/html": [
       "<pre style=\"white-space:pre;overflow-x:auto;line-height:normal;font-family:Menlo,'DejaVu Sans Mono',consolas,'Courier New',monospace\"><span style=\"color: #7fbfbf; text-decoration-color: #7fbfbf\">[12/07/24 15:25:42] </span><span style=\"color: #000080; text-decoration-color: #000080\">INFO    </span> <span style=\"color: #0000ff; text-decoration-color: #0000ff\">train</span>  - <span style=\"font-weight: bold\">(</span>Train<span style=\"font-weight: bold\">)</span> bce:  <span style=\"color: #008080; text-decoration-color: #008080; font-weight: bold\">0.3129</span>, mse:  <span style=\"color: #008080; text-decoration-color: #008080; font-weight: bold\">0.9097</span>,  acc: <span style=\"color: #008080; text-decoration-color: #008080; font-weight: bold\">90.025</span> %,   <a href=\"file:///n/home09/pren/3DGeno_tools/src/gt3d/modules/higashi/Higashi_wrapper.py\" target=\"_blank\"><span style=\"color: #7f7f7f; text-decoration-color: #7f7f7f\">Higashi_wrapper.py</span></a><span style=\"color: #7f7f7f; text-decoration-color: #7f7f7f\">:</span><a href=\"file:///n/home09/pren/3DGeno_tools/src/gt3d/modules/higashi/Higashi_wrapper.py#1258\" target=\"_blank\"><span style=\"color: #7f7f7f; text-decoration-color: #7f7f7f\">1258</span></a>\n",
       "<span style=\"color: #7fbfbf; text-decoration-color: #7fbfbf\">                    </span>         pearson: <span style=\"color: #008080; text-decoration-color: #008080; font-weight: bold\">0.690</span>, spearman: <span style=\"color: #008080; text-decoration-color: #008080; font-weight: bold\">0.582</span>, elapse: <span style=\"color: #008080; text-decoration-color: #008080; font-weight: bold\">89.397</span> s              <span style=\"color: #7f7f7f; text-decoration-color: #7f7f7f\">                       </span>\n",
       "</pre>\n"
      ],
      "text/plain": [
       "\u001b[2;36m[12/07/24 15:25:42]\u001b[0m\u001b[2;36m \u001b[0m\u001b[34mINFO    \u001b[0m \u001b[94mtrain\u001b[0m  - \u001b[1m(\u001b[0mTrain\u001b[1m)\u001b[0m bce:  \u001b[1;36m0.3129\u001b[0m, mse:  \u001b[1;36m0.9097\u001b[0m,  acc: \u001b[1;36m90.025\u001b[0m %,   \u001b]8;id=494860;file:///n/home09/pren/3DGeno_tools/src/gt3d/modules/higashi/Higashi_wrapper.py\u001b\\\u001b[2mHigashi_wrapper.py\u001b[0m\u001b]8;;\u001b\\\u001b[2m:\u001b[0m\u001b]8;id=569707;file:///n/home09/pren/3DGeno_tools/src/gt3d/modules/higashi/Higashi_wrapper.py#1258\u001b\\\u001b[2m1258\u001b[0m\u001b]8;;\u001b\\\n",
       "\u001b[2;36m                    \u001b[0m         pearson: \u001b[1;36m0.690\u001b[0m, spearman: \u001b[1;36m0.582\u001b[0m, elapse: \u001b[1;36m89.397\u001b[0m s              \u001b[2m                       \u001b[0m\n"
      ]
     },
     "metadata": {},
     "output_type": "display_data"
    },
    {
     "data": {
      "application/vnd.jupyter.widget-view+json": {
       "model_id": "36a8fd32bd0d491596db7546a43c90e5",
       "version_major": 2,
       "version_minor": 0
      },
      "text/plain": [
       "Output()"
      ]
     },
     "metadata": {},
     "output_type": "display_data"
    },
    {
     "data": {
      "text/html": [
       "<pre style=\"white-space:pre;overflow-x:auto;line-height:normal;font-family:Menlo,'DejaVu Sans Mono',consolas,'Courier New',monospace\"></pre>\n"
      ],
      "text/plain": []
     },
     "metadata": {},
     "output_type": "display_data"
    },
    {
     "data": {
      "text/html": [
       "<pre style=\"white-space:pre;overflow-x:auto;line-height:normal;font-family:Menlo,'DejaVu Sans Mono',consolas,'Courier New',monospace\"><span style=\"color: #7fbfbf; text-decoration-color: #7fbfbf\">                    </span><span style=\"color: #000080; text-decoration-color: #000080\">INFO    </span> <span style=\"color: #0000ff; text-decoration-color: #0000ff\">train</span>  - <span style=\"font-weight: bold\">(</span>Valid<span style=\"font-weight: bold\">)</span> bce:  <span style=\"color: #008080; text-decoration-color: #008080; font-weight: bold\">0.3689</span>,  acc: <span style=\"color: #008080; text-decoration-color: #008080; font-weight: bold\">88.249</span> %,pearson: <span style=\"color: #008080; text-decoration-color: #008080; font-weight: bold\">0.618</span>,  <a href=\"file:///n/home09/pren/3DGeno_tools/src/gt3d/modules/higashi/Higashi_wrapper.py\" target=\"_blank\"><span style=\"color: #7f7f7f; text-decoration-color: #7f7f7f\">Higashi_wrapper.py</span></a><span style=\"color: #7f7f7f; text-decoration-color: #7f7f7f\">:</span><a href=\"file:///n/home09/pren/3DGeno_tools/src/gt3d/modules/higashi/Higashi_wrapper.py#1277\" target=\"_blank\"><span style=\"color: #7f7f7f; text-decoration-color: #7f7f7f\">1277</span></a>\n",
       "<span style=\"color: #7fbfbf; text-decoration-color: #7fbfbf\">                    </span>         spearman: <span style=\"color: #008080; text-decoration-color: #008080; font-weight: bold\">0.550</span>,elapse: <span style=\"color: #008080; text-decoration-color: #008080; font-weight: bold\">0.052</span> s                                <span style=\"color: #7f7f7f; text-decoration-color: #7f7f7f\">                       </span>\n",
       "</pre>\n"
      ],
      "text/plain": [
       "\u001b[2;36m                   \u001b[0m\u001b[2;36m \u001b[0m\u001b[34mINFO    \u001b[0m \u001b[94mtrain\u001b[0m  - \u001b[1m(\u001b[0mValid\u001b[1m)\u001b[0m bce:  \u001b[1;36m0.3689\u001b[0m,  acc: \u001b[1;36m88.249\u001b[0m %,pearson: \u001b[1;36m0.618\u001b[0m,  \u001b]8;id=364411;file:///n/home09/pren/3DGeno_tools/src/gt3d/modules/higashi/Higashi_wrapper.py\u001b\\\u001b[2mHigashi_wrapper.py\u001b[0m\u001b]8;;\u001b\\\u001b[2m:\u001b[0m\u001b]8;id=553118;file:///n/home09/pren/3DGeno_tools/src/gt3d/modules/higashi/Higashi_wrapper.py#1277\u001b\\\u001b[2m1277\u001b[0m\u001b]8;;\u001b\\\n",
       "\u001b[2;36m                    \u001b[0m         spearman: \u001b[1;36m0.550\u001b[0m,elapse: \u001b[1;36m0.052\u001b[0m s                                \u001b[2m                       \u001b[0m\n"
      ]
     },
     "metadata": {},
     "output_type": "display_data"
    },
    {
     "data": {
      "text/html": [
       "<pre style=\"white-space:pre;overflow-x:auto;line-height:normal;font-family:Menlo,'DejaVu Sans Mono',consolas,'Courier New',monospace\"><span style=\"color: #7fbfbf; text-decoration-color: #7fbfbf\">                    </span><span style=\"color: #000080; text-decoration-color: #000080\">INFO    </span> <span style=\"color: #0000ff; text-decoration-color: #0000ff\">train</span> update_rate: <span style=\"color: #008080; text-decoration-color: #008080; font-weight: bold\">0.003774</span>     <span style=\"color: #008080; text-decoration-color: #008080; font-weight: bold\">0.095919</span>                       <a href=\"file:///n/home09/pren/3DGeno_tools/src/gt3d/modules/higashi/Higashi_wrapper.py\" target=\"_blank\"><span style=\"color: #7f7f7f; text-decoration-color: #7f7f7f\">Higashi_wrapper.py</span></a><span style=\"color: #7f7f7f; text-decoration-color: #7f7f7f\">:</span><a href=\"file:///n/home09/pren/3DGeno_tools/src/gt3d/modules/higashi/Higashi_wrapper.py#1323\" target=\"_blank\"><span style=\"color: #7f7f7f; text-decoration-color: #7f7f7f\">1323</span></a>\n",
       "</pre>\n"
      ],
      "text/plain": [
       "\u001b[2;36m                   \u001b[0m\u001b[2;36m \u001b[0m\u001b[34mINFO    \u001b[0m \u001b[94mtrain\u001b[0m update_rate: \u001b[1;36m0.003774\u001b[0m     \u001b[1;36m0.095919\u001b[0m                       \u001b]8;id=103703;file:///n/home09/pren/3DGeno_tools/src/gt3d/modules/higashi/Higashi_wrapper.py\u001b\\\u001b[2mHigashi_wrapper.py\u001b[0m\u001b]8;;\u001b\\\u001b[2m:\u001b[0m\u001b]8;id=221023;file:///n/home09/pren/3DGeno_tools/src/gt3d/modules/higashi/Higashi_wrapper.py#1323\u001b\\\u001b[2m1323\u001b[0m\u001b]8;;\u001b\\\n"
      ]
     },
     "metadata": {},
     "output_type": "display_data"
    },
    {
     "data": {
      "text/html": [
       "<pre style=\"white-space:pre;overflow-x:auto;line-height:normal;font-family:Menlo,'DejaVu Sans Mono',consolas,'Courier New',monospace\"><span style=\"color: #7fbfbf; text-decoration-color: #7fbfbf\">                    </span><span style=\"color: #000080; text-decoration-color: #000080\">INFO    </span> <span style=\"color: #0000ff; text-decoration-color: #0000ff\">train</span> <span style=\"font-weight: bold\">[</span> Epoch <span style=\"color: #008080; text-decoration-color: #008080; font-weight: bold\">37</span> of <span style=\"color: #008080; text-decoration-color: #008080; font-weight: bold\">65</span> <span style=\"font-weight: bold\">]</span>                                       <a href=\"file:///n/home09/pren/3DGeno_tools/src/gt3d/modules/higashi/Higashi_wrapper.py\" target=\"_blank\"><span style=\"color: #7f7f7f; text-decoration-color: #7f7f7f\">Higashi_wrapper.py</span></a><span style=\"color: #7f7f7f; text-decoration-color: #7f7f7f\">:</span><a href=\"file:///n/home09/pren/3DGeno_tools/src/gt3d/modules/higashi/Higashi_wrapper.py#1245\" target=\"_blank\"><span style=\"color: #7f7f7f; text-decoration-color: #7f7f7f\">1245</span></a>\n",
       "</pre>\n"
      ],
      "text/plain": [
       "\u001b[2;36m                   \u001b[0m\u001b[2;36m \u001b[0m\u001b[34mINFO    \u001b[0m \u001b[94mtrain\u001b[0m \u001b[1m[\u001b[0m Epoch \u001b[1;36m37\u001b[0m of \u001b[1;36m65\u001b[0m \u001b[1m]\u001b[0m                                       \u001b]8;id=720309;file:///n/home09/pren/3DGeno_tools/src/gt3d/modules/higashi/Higashi_wrapper.py\u001b\\\u001b[2mHigashi_wrapper.py\u001b[0m\u001b]8;;\u001b\\\u001b[2m:\u001b[0m\u001b]8;id=474474;file:///n/home09/pren/3DGeno_tools/src/gt3d/modules/higashi/Higashi_wrapper.py#1245\u001b\\\u001b[2m1245\u001b[0m\u001b]8;;\u001b\\\n"
      ]
     },
     "metadata": {},
     "output_type": "display_data"
    },
    {
     "data": {
      "application/vnd.jupyter.widget-view+json": {
       "model_id": "59d6ca38bbb94ce5ad624990a32f9448",
       "version_major": 2,
       "version_minor": 0
      },
      "text/plain": [
       "Output()"
      ]
     },
     "metadata": {},
     "output_type": "display_data"
    },
    {
     "data": {
      "text/html": [
       "<pre style=\"white-space:pre;overflow-x:auto;line-height:normal;font-family:Menlo,'DejaVu Sans Mono',consolas,'Courier New',monospace\"></pre>\n"
      ],
      "text/plain": []
     },
     "metadata": {},
     "output_type": "display_data"
    },
    {
     "data": {
      "text/html": [
       "<pre style=\"white-space:pre;overflow-x:auto;line-height:normal;font-family:Menlo,'DejaVu Sans Mono',consolas,'Courier New',monospace\"><span style=\"color: #7fbfbf; text-decoration-color: #7fbfbf\">[12/07/24 15:27:11] </span><span style=\"color: #000080; text-decoration-color: #000080\">INFO    </span> <span style=\"color: #0000ff; text-decoration-color: #0000ff\">train</span>  - <span style=\"font-weight: bold\">(</span>Train<span style=\"font-weight: bold\">)</span> bce:  <span style=\"color: #008080; text-decoration-color: #008080; font-weight: bold\">0.3155</span>, mse:  <span style=\"color: #008080; text-decoration-color: #008080; font-weight: bold\">0.8673</span>,  acc: <span style=\"color: #008080; text-decoration-color: #008080; font-weight: bold\">89.886</span> %,   <a href=\"file:///n/home09/pren/3DGeno_tools/src/gt3d/modules/higashi/Higashi_wrapper.py\" target=\"_blank\"><span style=\"color: #7f7f7f; text-decoration-color: #7f7f7f\">Higashi_wrapper.py</span></a><span style=\"color: #7f7f7f; text-decoration-color: #7f7f7f\">:</span><a href=\"file:///n/home09/pren/3DGeno_tools/src/gt3d/modules/higashi/Higashi_wrapper.py#1258\" target=\"_blank\"><span style=\"color: #7f7f7f; text-decoration-color: #7f7f7f\">1258</span></a>\n",
       "<span style=\"color: #7fbfbf; text-decoration-color: #7fbfbf\">                    </span>         pearson: <span style=\"color: #008080; text-decoration-color: #008080; font-weight: bold\">0.685</span>, spearman: <span style=\"color: #008080; text-decoration-color: #008080; font-weight: bold\">0.580</span>, elapse: <span style=\"color: #008080; text-decoration-color: #008080; font-weight: bold\">89.006</span> s              <span style=\"color: #7f7f7f; text-decoration-color: #7f7f7f\">                       </span>\n",
       "</pre>\n"
      ],
      "text/plain": [
       "\u001b[2;36m[12/07/24 15:27:11]\u001b[0m\u001b[2;36m \u001b[0m\u001b[34mINFO    \u001b[0m \u001b[94mtrain\u001b[0m  - \u001b[1m(\u001b[0mTrain\u001b[1m)\u001b[0m bce:  \u001b[1;36m0.3155\u001b[0m, mse:  \u001b[1;36m0.8673\u001b[0m,  acc: \u001b[1;36m89.886\u001b[0m %,   \u001b]8;id=301292;file:///n/home09/pren/3DGeno_tools/src/gt3d/modules/higashi/Higashi_wrapper.py\u001b\\\u001b[2mHigashi_wrapper.py\u001b[0m\u001b]8;;\u001b\\\u001b[2m:\u001b[0m\u001b]8;id=661516;file:///n/home09/pren/3DGeno_tools/src/gt3d/modules/higashi/Higashi_wrapper.py#1258\u001b\\\u001b[2m1258\u001b[0m\u001b]8;;\u001b\\\n",
       "\u001b[2;36m                    \u001b[0m         pearson: \u001b[1;36m0.685\u001b[0m, spearman: \u001b[1;36m0.580\u001b[0m, elapse: \u001b[1;36m89.006\u001b[0m s              \u001b[2m                       \u001b[0m\n"
      ]
     },
     "metadata": {},
     "output_type": "display_data"
    },
    {
     "data": {
      "application/vnd.jupyter.widget-view+json": {
       "model_id": "6f3257ea0374427d8ce516aaf8729b22",
       "version_major": 2,
       "version_minor": 0
      },
      "text/plain": [
       "Output()"
      ]
     },
     "metadata": {},
     "output_type": "display_data"
    },
    {
     "data": {
      "text/html": [
       "<pre style=\"white-space:pre;overflow-x:auto;line-height:normal;font-family:Menlo,'DejaVu Sans Mono',consolas,'Courier New',monospace\"></pre>\n"
      ],
      "text/plain": []
     },
     "metadata": {},
     "output_type": "display_data"
    },
    {
     "data": {
      "text/html": [
       "<pre style=\"white-space:pre;overflow-x:auto;line-height:normal;font-family:Menlo,'DejaVu Sans Mono',consolas,'Courier New',monospace\"><span style=\"color: #7fbfbf; text-decoration-color: #7fbfbf\">                    </span><span style=\"color: #000080; text-decoration-color: #000080\">INFO    </span> <span style=\"color: #0000ff; text-decoration-color: #0000ff\">train</span>  - <span style=\"font-weight: bold\">(</span>Valid<span style=\"font-weight: bold\">)</span> bce:  <span style=\"color: #008080; text-decoration-color: #008080; font-weight: bold\">0.3549</span>,  acc: <span style=\"color: #008080; text-decoration-color: #008080; font-weight: bold\">88.802</span> %,pearson: <span style=\"color: #008080; text-decoration-color: #008080; font-weight: bold\">0.626</span>,  <a href=\"file:///n/home09/pren/3DGeno_tools/src/gt3d/modules/higashi/Higashi_wrapper.py\" target=\"_blank\"><span style=\"color: #7f7f7f; text-decoration-color: #7f7f7f\">Higashi_wrapper.py</span></a><span style=\"color: #7f7f7f; text-decoration-color: #7f7f7f\">:</span><a href=\"file:///n/home09/pren/3DGeno_tools/src/gt3d/modules/higashi/Higashi_wrapper.py#1277\" target=\"_blank\"><span style=\"color: #7f7f7f; text-decoration-color: #7f7f7f\">1277</span></a>\n",
       "<span style=\"color: #7fbfbf; text-decoration-color: #7fbfbf\">                    </span>         spearman: <span style=\"color: #008080; text-decoration-color: #008080; font-weight: bold\">0.559</span>,elapse: <span style=\"color: #008080; text-decoration-color: #008080; font-weight: bold\">0.053</span> s                                <span style=\"color: #7f7f7f; text-decoration-color: #7f7f7f\">                       </span>\n",
       "</pre>\n"
      ],
      "text/plain": [
       "\u001b[2;36m                   \u001b[0m\u001b[2;36m \u001b[0m\u001b[34mINFO    \u001b[0m \u001b[94mtrain\u001b[0m  - \u001b[1m(\u001b[0mValid\u001b[1m)\u001b[0m bce:  \u001b[1;36m0.3549\u001b[0m,  acc: \u001b[1;36m88.802\u001b[0m %,pearson: \u001b[1;36m0.626\u001b[0m,  \u001b]8;id=47744;file:///n/home09/pren/3DGeno_tools/src/gt3d/modules/higashi/Higashi_wrapper.py\u001b\\\u001b[2mHigashi_wrapper.py\u001b[0m\u001b]8;;\u001b\\\u001b[2m:\u001b[0m\u001b]8;id=615385;file:///n/home09/pren/3DGeno_tools/src/gt3d/modules/higashi/Higashi_wrapper.py#1277\u001b\\\u001b[2m1277\u001b[0m\u001b]8;;\u001b\\\n",
       "\u001b[2;36m                    \u001b[0m         spearman: \u001b[1;36m0.559\u001b[0m,elapse: \u001b[1;36m0.053\u001b[0m s                                \u001b[2m                       \u001b[0m\n"
      ]
     },
     "metadata": {},
     "output_type": "display_data"
    },
    {
     "data": {
      "text/html": [
       "<pre style=\"white-space:pre;overflow-x:auto;line-height:normal;font-family:Menlo,'DejaVu Sans Mono',consolas,'Courier New',monospace\"><span style=\"color: #7fbfbf; text-decoration-color: #7fbfbf\">                    </span><span style=\"color: #000080; text-decoration-color: #000080\">INFO    </span> <span style=\"color: #0000ff; text-decoration-color: #0000ff\">train</span> update_rate: <span style=\"color: #008080; text-decoration-color: #008080; font-weight: bold\">0.004411</span>     <span style=\"color: #008080; text-decoration-color: #008080; font-weight: bold\">0.152993</span>                       <a href=\"file:///n/home09/pren/3DGeno_tools/src/gt3d/modules/higashi/Higashi_wrapper.py\" target=\"_blank\"><span style=\"color: #7f7f7f; text-decoration-color: #7f7f7f\">Higashi_wrapper.py</span></a><span style=\"color: #7f7f7f; text-decoration-color: #7f7f7f\">:</span><a href=\"file:///n/home09/pren/3DGeno_tools/src/gt3d/modules/higashi/Higashi_wrapper.py#1323\" target=\"_blank\"><span style=\"color: #7f7f7f; text-decoration-color: #7f7f7f\">1323</span></a>\n",
       "</pre>\n"
      ],
      "text/plain": [
       "\u001b[2;36m                   \u001b[0m\u001b[2;36m \u001b[0m\u001b[34mINFO    \u001b[0m \u001b[94mtrain\u001b[0m update_rate: \u001b[1;36m0.004411\u001b[0m     \u001b[1;36m0.152993\u001b[0m                       \u001b]8;id=728997;file:///n/home09/pren/3DGeno_tools/src/gt3d/modules/higashi/Higashi_wrapper.py\u001b\\\u001b[2mHigashi_wrapper.py\u001b[0m\u001b]8;;\u001b\\\u001b[2m:\u001b[0m\u001b]8;id=660947;file:///n/home09/pren/3DGeno_tools/src/gt3d/modules/higashi/Higashi_wrapper.py#1323\u001b\\\u001b[2m1323\u001b[0m\u001b]8;;\u001b\\\n"
      ]
     },
     "metadata": {},
     "output_type": "display_data"
    },
    {
     "data": {
      "text/html": [
       "<pre style=\"white-space:pre;overflow-x:auto;line-height:normal;font-family:Menlo,'DejaVu Sans Mono',consolas,'Courier New',monospace\"><span style=\"color: #7fbfbf; text-decoration-color: #7fbfbf\">                    </span><span style=\"color: #000080; text-decoration-color: #000080\">INFO    </span> <span style=\"color: #0000ff; text-decoration-color: #0000ff\">train</span> <span style=\"font-weight: bold\">[</span> Epoch <span style=\"color: #008080; text-decoration-color: #008080; font-weight: bold\">38</span> of <span style=\"color: #008080; text-decoration-color: #008080; font-weight: bold\">65</span> <span style=\"font-weight: bold\">]</span>                                       <a href=\"file:///n/home09/pren/3DGeno_tools/src/gt3d/modules/higashi/Higashi_wrapper.py\" target=\"_blank\"><span style=\"color: #7f7f7f; text-decoration-color: #7f7f7f\">Higashi_wrapper.py</span></a><span style=\"color: #7f7f7f; text-decoration-color: #7f7f7f\">:</span><a href=\"file:///n/home09/pren/3DGeno_tools/src/gt3d/modules/higashi/Higashi_wrapper.py#1245\" target=\"_blank\"><span style=\"color: #7f7f7f; text-decoration-color: #7f7f7f\">1245</span></a>\n",
       "</pre>\n"
      ],
      "text/plain": [
       "\u001b[2;36m                   \u001b[0m\u001b[2;36m \u001b[0m\u001b[34mINFO    \u001b[0m \u001b[94mtrain\u001b[0m \u001b[1m[\u001b[0m Epoch \u001b[1;36m38\u001b[0m of \u001b[1;36m65\u001b[0m \u001b[1m]\u001b[0m                                       \u001b]8;id=500085;file:///n/home09/pren/3DGeno_tools/src/gt3d/modules/higashi/Higashi_wrapper.py\u001b\\\u001b[2mHigashi_wrapper.py\u001b[0m\u001b]8;;\u001b\\\u001b[2m:\u001b[0m\u001b]8;id=895977;file:///n/home09/pren/3DGeno_tools/src/gt3d/modules/higashi/Higashi_wrapper.py#1245\u001b\\\u001b[2m1245\u001b[0m\u001b]8;;\u001b\\\n"
      ]
     },
     "metadata": {},
     "output_type": "display_data"
    },
    {
     "data": {
      "application/vnd.jupyter.widget-view+json": {
       "model_id": "cdb09a294e16479199315c547a7a1baa",
       "version_major": 2,
       "version_minor": 0
      },
      "text/plain": [
       "Output()"
      ]
     },
     "metadata": {},
     "output_type": "display_data"
    },
    {
     "data": {
      "text/html": [
       "<pre style=\"white-space:pre;overflow-x:auto;line-height:normal;font-family:Menlo,'DejaVu Sans Mono',consolas,'Courier New',monospace\"></pre>\n"
      ],
      "text/plain": []
     },
     "metadata": {},
     "output_type": "display_data"
    },
    {
     "data": {
      "text/html": [
       "<pre style=\"white-space:pre;overflow-x:auto;line-height:normal;font-family:Menlo,'DejaVu Sans Mono',consolas,'Courier New',monospace\"><span style=\"color: #7fbfbf; text-decoration-color: #7fbfbf\">[12/07/24 15:28:40] </span><span style=\"color: #000080; text-decoration-color: #000080\">INFO    </span> <span style=\"color: #0000ff; text-decoration-color: #0000ff\">train</span>  - <span style=\"font-weight: bold\">(</span>Train<span style=\"font-weight: bold\">)</span> bce:  <span style=\"color: #008080; text-decoration-color: #008080; font-weight: bold\">0.3155</span>, mse:  <span style=\"color: #008080; text-decoration-color: #008080; font-weight: bold\">0.8920</span>,  acc: <span style=\"color: #008080; text-decoration-color: #008080; font-weight: bold\">89.900</span> %,   <a href=\"file:///n/home09/pren/3DGeno_tools/src/gt3d/modules/higashi/Higashi_wrapper.py\" target=\"_blank\"><span style=\"color: #7f7f7f; text-decoration-color: #7f7f7f\">Higashi_wrapper.py</span></a><span style=\"color: #7f7f7f; text-decoration-color: #7f7f7f\">:</span><a href=\"file:///n/home09/pren/3DGeno_tools/src/gt3d/modules/higashi/Higashi_wrapper.py#1258\" target=\"_blank\"><span style=\"color: #7f7f7f; text-decoration-color: #7f7f7f\">1258</span></a>\n",
       "<span style=\"color: #7fbfbf; text-decoration-color: #7fbfbf\">                    </span>         pearson: <span style=\"color: #008080; text-decoration-color: #008080; font-weight: bold\">0.686</span>, spearman: <span style=\"color: #008080; text-decoration-color: #008080; font-weight: bold\">0.580</span>, elapse: <span style=\"color: #008080; text-decoration-color: #008080; font-weight: bold\">88.999</span> s              <span style=\"color: #7f7f7f; text-decoration-color: #7f7f7f\">                       </span>\n",
       "</pre>\n"
      ],
      "text/plain": [
       "\u001b[2;36m[12/07/24 15:28:40]\u001b[0m\u001b[2;36m \u001b[0m\u001b[34mINFO    \u001b[0m \u001b[94mtrain\u001b[0m  - \u001b[1m(\u001b[0mTrain\u001b[1m)\u001b[0m bce:  \u001b[1;36m0.3155\u001b[0m, mse:  \u001b[1;36m0.8920\u001b[0m,  acc: \u001b[1;36m89.900\u001b[0m %,   \u001b]8;id=101300;file:///n/home09/pren/3DGeno_tools/src/gt3d/modules/higashi/Higashi_wrapper.py\u001b\\\u001b[2mHigashi_wrapper.py\u001b[0m\u001b]8;;\u001b\\\u001b[2m:\u001b[0m\u001b]8;id=690726;file:///n/home09/pren/3DGeno_tools/src/gt3d/modules/higashi/Higashi_wrapper.py#1258\u001b\\\u001b[2m1258\u001b[0m\u001b]8;;\u001b\\\n",
       "\u001b[2;36m                    \u001b[0m         pearson: \u001b[1;36m0.686\u001b[0m, spearman: \u001b[1;36m0.580\u001b[0m, elapse: \u001b[1;36m88.999\u001b[0m s              \u001b[2m                       \u001b[0m\n"
      ]
     },
     "metadata": {},
     "output_type": "display_data"
    },
    {
     "data": {
      "application/vnd.jupyter.widget-view+json": {
       "model_id": "9354580bd59e48eeb9e6374cbdc90fbb",
       "version_major": 2,
       "version_minor": 0
      },
      "text/plain": [
       "Output()"
      ]
     },
     "metadata": {},
     "output_type": "display_data"
    },
    {
     "data": {
      "text/html": [
       "<pre style=\"white-space:pre;overflow-x:auto;line-height:normal;font-family:Menlo,'DejaVu Sans Mono',consolas,'Courier New',monospace\"></pre>\n"
      ],
      "text/plain": []
     },
     "metadata": {},
     "output_type": "display_data"
    },
    {
     "data": {
      "text/html": [
       "<pre style=\"white-space:pre;overflow-x:auto;line-height:normal;font-family:Menlo,'DejaVu Sans Mono',consolas,'Courier New',monospace\"><span style=\"color: #7fbfbf; text-decoration-color: #7fbfbf\">                    </span><span style=\"color: #000080; text-decoration-color: #000080\">INFO    </span> <span style=\"color: #0000ff; text-decoration-color: #0000ff\">train</span>  - <span style=\"font-weight: bold\">(</span>Valid<span style=\"font-weight: bold\">)</span> bce:  <span style=\"color: #008080; text-decoration-color: #008080; font-weight: bold\">0.3552</span>,  acc: <span style=\"color: #008080; text-decoration-color: #008080; font-weight: bold\">88.223</span> %,pearson: <span style=\"color: #008080; text-decoration-color: #008080; font-weight: bold\">0.628</span>,  <a href=\"file:///n/home09/pren/3DGeno_tools/src/gt3d/modules/higashi/Higashi_wrapper.py\" target=\"_blank\"><span style=\"color: #7f7f7f; text-decoration-color: #7f7f7f\">Higashi_wrapper.py</span></a><span style=\"color: #7f7f7f; text-decoration-color: #7f7f7f\">:</span><a href=\"file:///n/home09/pren/3DGeno_tools/src/gt3d/modules/higashi/Higashi_wrapper.py#1277\" target=\"_blank\"><span style=\"color: #7f7f7f; text-decoration-color: #7f7f7f\">1277</span></a>\n",
       "<span style=\"color: #7fbfbf; text-decoration-color: #7fbfbf\">                    </span>         spearman: <span style=\"color: #008080; text-decoration-color: #008080; font-weight: bold\">0.553</span>,elapse: <span style=\"color: #008080; text-decoration-color: #008080; font-weight: bold\">0.051</span> s                                <span style=\"color: #7f7f7f; text-decoration-color: #7f7f7f\">                       </span>\n",
       "</pre>\n"
      ],
      "text/plain": [
       "\u001b[2;36m                   \u001b[0m\u001b[2;36m \u001b[0m\u001b[34mINFO    \u001b[0m \u001b[94mtrain\u001b[0m  - \u001b[1m(\u001b[0mValid\u001b[1m)\u001b[0m bce:  \u001b[1;36m0.3552\u001b[0m,  acc: \u001b[1;36m88.223\u001b[0m %,pearson: \u001b[1;36m0.628\u001b[0m,  \u001b]8;id=421990;file:///n/home09/pren/3DGeno_tools/src/gt3d/modules/higashi/Higashi_wrapper.py\u001b\\\u001b[2mHigashi_wrapper.py\u001b[0m\u001b]8;;\u001b\\\u001b[2m:\u001b[0m\u001b]8;id=337143;file:///n/home09/pren/3DGeno_tools/src/gt3d/modules/higashi/Higashi_wrapper.py#1277\u001b\\\u001b[2m1277\u001b[0m\u001b]8;;\u001b\\\n",
       "\u001b[2;36m                    \u001b[0m         spearman: \u001b[1;36m0.553\u001b[0m,elapse: \u001b[1;36m0.051\u001b[0m s                                \u001b[2m                       \u001b[0m\n"
      ]
     },
     "metadata": {},
     "output_type": "display_data"
    },
    {
     "data": {
      "text/html": [
       "<pre style=\"white-space:pre;overflow-x:auto;line-height:normal;font-family:Menlo,'DejaVu Sans Mono',consolas,'Courier New',monospace\"><span style=\"color: #7fbfbf; text-decoration-color: #7fbfbf\">                    </span><span style=\"color: #000080; text-decoration-color: #000080\">INFO    </span> <span style=\"color: #0000ff; text-decoration-color: #0000ff\">train</span> update_rate: <span style=\"color: #008080; text-decoration-color: #008080; font-weight: bold\">0.003511</span>     <span style=\"color: #008080; text-decoration-color: #008080; font-weight: bold\">0.075664</span>                       <a href=\"file:///n/home09/pren/3DGeno_tools/src/gt3d/modules/higashi/Higashi_wrapper.py\" target=\"_blank\"><span style=\"color: #7f7f7f; text-decoration-color: #7f7f7f\">Higashi_wrapper.py</span></a><span style=\"color: #7f7f7f; text-decoration-color: #7f7f7f\">:</span><a href=\"file:///n/home09/pren/3DGeno_tools/src/gt3d/modules/higashi/Higashi_wrapper.py#1323\" target=\"_blank\"><span style=\"color: #7f7f7f; text-decoration-color: #7f7f7f\">1323</span></a>\n",
       "</pre>\n"
      ],
      "text/plain": [
       "\u001b[2;36m                   \u001b[0m\u001b[2;36m \u001b[0m\u001b[34mINFO    \u001b[0m \u001b[94mtrain\u001b[0m update_rate: \u001b[1;36m0.003511\u001b[0m     \u001b[1;36m0.075664\u001b[0m                       \u001b]8;id=231450;file:///n/home09/pren/3DGeno_tools/src/gt3d/modules/higashi/Higashi_wrapper.py\u001b\\\u001b[2mHigashi_wrapper.py\u001b[0m\u001b]8;;\u001b\\\u001b[2m:\u001b[0m\u001b]8;id=954175;file:///n/home09/pren/3DGeno_tools/src/gt3d/modules/higashi/Higashi_wrapper.py#1323\u001b\\\u001b[2m1323\u001b[0m\u001b]8;;\u001b\\\n"
      ]
     },
     "metadata": {},
     "output_type": "display_data"
    },
    {
     "data": {
      "text/html": [
       "<pre style=\"white-space:pre;overflow-x:auto;line-height:normal;font-family:Menlo,'DejaVu Sans Mono',consolas,'Courier New',monospace\"><span style=\"color: #7fbfbf; text-decoration-color: #7fbfbf\">                    </span><span style=\"color: #000080; text-decoration-color: #000080\">INFO    </span> <span style=\"color: #0000ff; text-decoration-color: #0000ff\">train</span> <span style=\"font-weight: bold\">[</span> Epoch <span style=\"color: #008080; text-decoration-color: #008080; font-weight: bold\">39</span> of <span style=\"color: #008080; text-decoration-color: #008080; font-weight: bold\">65</span> <span style=\"font-weight: bold\">]</span>                                       <a href=\"file:///n/home09/pren/3DGeno_tools/src/gt3d/modules/higashi/Higashi_wrapper.py\" target=\"_blank\"><span style=\"color: #7f7f7f; text-decoration-color: #7f7f7f\">Higashi_wrapper.py</span></a><span style=\"color: #7f7f7f; text-decoration-color: #7f7f7f\">:</span><a href=\"file:///n/home09/pren/3DGeno_tools/src/gt3d/modules/higashi/Higashi_wrapper.py#1245\" target=\"_blank\"><span style=\"color: #7f7f7f; text-decoration-color: #7f7f7f\">1245</span></a>\n",
       "</pre>\n"
      ],
      "text/plain": [
       "\u001b[2;36m                   \u001b[0m\u001b[2;36m \u001b[0m\u001b[34mINFO    \u001b[0m \u001b[94mtrain\u001b[0m \u001b[1m[\u001b[0m Epoch \u001b[1;36m39\u001b[0m of \u001b[1;36m65\u001b[0m \u001b[1m]\u001b[0m                                       \u001b]8;id=398847;file:///n/home09/pren/3DGeno_tools/src/gt3d/modules/higashi/Higashi_wrapper.py\u001b\\\u001b[2mHigashi_wrapper.py\u001b[0m\u001b]8;;\u001b\\\u001b[2m:\u001b[0m\u001b]8;id=80273;file:///n/home09/pren/3DGeno_tools/src/gt3d/modules/higashi/Higashi_wrapper.py#1245\u001b\\\u001b[2m1245\u001b[0m\u001b]8;;\u001b\\\n"
      ]
     },
     "metadata": {},
     "output_type": "display_data"
    },
    {
     "data": {
      "application/vnd.jupyter.widget-view+json": {
       "model_id": "b4dc59d5f1c244efbb21f5701aabbaab",
       "version_major": 2,
       "version_minor": 0
      },
      "text/plain": [
       "Output()"
      ]
     },
     "metadata": {},
     "output_type": "display_data"
    },
    {
     "data": {
      "text/html": [
       "<pre style=\"white-space:pre;overflow-x:auto;line-height:normal;font-family:Menlo,'DejaVu Sans Mono',consolas,'Courier New',monospace\"></pre>\n"
      ],
      "text/plain": []
     },
     "metadata": {},
     "output_type": "display_data"
    },
    {
     "data": {
      "text/html": [
       "<pre style=\"white-space:pre;overflow-x:auto;line-height:normal;font-family:Menlo,'DejaVu Sans Mono',consolas,'Courier New',monospace\"><span style=\"color: #7fbfbf; text-decoration-color: #7fbfbf\">[12/07/24 15:30:09] </span><span style=\"color: #000080; text-decoration-color: #000080\">INFO    </span> <span style=\"color: #0000ff; text-decoration-color: #0000ff\">train</span>  - <span style=\"font-weight: bold\">(</span>Train<span style=\"font-weight: bold\">)</span> bce:  <span style=\"color: #008080; text-decoration-color: #008080; font-weight: bold\">0.3128</span>, mse:  <span style=\"color: #008080; text-decoration-color: #008080; font-weight: bold\">0.8924</span>,  acc: <span style=\"color: #008080; text-decoration-color: #008080; font-weight: bold\">90.029</span> %,   <a href=\"file:///n/home09/pren/3DGeno_tools/src/gt3d/modules/higashi/Higashi_wrapper.py\" target=\"_blank\"><span style=\"color: #7f7f7f; text-decoration-color: #7f7f7f\">Higashi_wrapper.py</span></a><span style=\"color: #7f7f7f; text-decoration-color: #7f7f7f\">:</span><a href=\"file:///n/home09/pren/3DGeno_tools/src/gt3d/modules/higashi/Higashi_wrapper.py#1258\" target=\"_blank\"><span style=\"color: #7f7f7f; text-decoration-color: #7f7f7f\">1258</span></a>\n",
       "<span style=\"color: #7fbfbf; text-decoration-color: #7fbfbf\">                    </span>         pearson: <span style=\"color: #008080; text-decoration-color: #008080; font-weight: bold\">0.689</span>, spearman: <span style=\"color: #008080; text-decoration-color: #008080; font-weight: bold\">0.582</span>, elapse: <span style=\"color: #008080; text-decoration-color: #008080; font-weight: bold\">88.888</span> s              <span style=\"color: #7f7f7f; text-decoration-color: #7f7f7f\">                       </span>\n",
       "</pre>\n"
      ],
      "text/plain": [
       "\u001b[2;36m[12/07/24 15:30:09]\u001b[0m\u001b[2;36m \u001b[0m\u001b[34mINFO    \u001b[0m \u001b[94mtrain\u001b[0m  - \u001b[1m(\u001b[0mTrain\u001b[1m)\u001b[0m bce:  \u001b[1;36m0.3128\u001b[0m, mse:  \u001b[1;36m0.8924\u001b[0m,  acc: \u001b[1;36m90.029\u001b[0m %,   \u001b]8;id=772035;file:///n/home09/pren/3DGeno_tools/src/gt3d/modules/higashi/Higashi_wrapper.py\u001b\\\u001b[2mHigashi_wrapper.py\u001b[0m\u001b]8;;\u001b\\\u001b[2m:\u001b[0m\u001b]8;id=2719;file:///n/home09/pren/3DGeno_tools/src/gt3d/modules/higashi/Higashi_wrapper.py#1258\u001b\\\u001b[2m1258\u001b[0m\u001b]8;;\u001b\\\n",
       "\u001b[2;36m                    \u001b[0m         pearson: \u001b[1;36m0.689\u001b[0m, spearman: \u001b[1;36m0.582\u001b[0m, elapse: \u001b[1;36m88.888\u001b[0m s              \u001b[2m                       \u001b[0m\n"
      ]
     },
     "metadata": {},
     "output_type": "display_data"
    },
    {
     "data": {
      "application/vnd.jupyter.widget-view+json": {
       "model_id": "6799f3f038b34f21b956643011ae4267",
       "version_major": 2,
       "version_minor": 0
      },
      "text/plain": [
       "Output()"
      ]
     },
     "metadata": {},
     "output_type": "display_data"
    },
    {
     "data": {
      "text/html": [
       "<pre style=\"white-space:pre;overflow-x:auto;line-height:normal;font-family:Menlo,'DejaVu Sans Mono',consolas,'Courier New',monospace\"></pre>\n"
      ],
      "text/plain": []
     },
     "metadata": {},
     "output_type": "display_data"
    },
    {
     "data": {
      "text/html": [
       "<pre style=\"white-space:pre;overflow-x:auto;line-height:normal;font-family:Menlo,'DejaVu Sans Mono',consolas,'Courier New',monospace\"><span style=\"color: #7fbfbf; text-decoration-color: #7fbfbf\">                    </span><span style=\"color: #000080; text-decoration-color: #000080\">INFO    </span> <span style=\"color: #0000ff; text-decoration-color: #0000ff\">train</span>  - <span style=\"font-weight: bold\">(</span>Valid<span style=\"font-weight: bold\">)</span> bce:  <span style=\"color: #008080; text-decoration-color: #008080; font-weight: bold\">0.3678</span>,  acc: <span style=\"color: #008080; text-decoration-color: #008080; font-weight: bold\">88.965</span> %,pearson: <span style=\"color: #008080; text-decoration-color: #008080; font-weight: bold\">0.628</span>,  <a href=\"file:///n/home09/pren/3DGeno_tools/src/gt3d/modules/higashi/Higashi_wrapper.py\" target=\"_blank\"><span style=\"color: #7f7f7f; text-decoration-color: #7f7f7f\">Higashi_wrapper.py</span></a><span style=\"color: #7f7f7f; text-decoration-color: #7f7f7f\">:</span><a href=\"file:///n/home09/pren/3DGeno_tools/src/gt3d/modules/higashi/Higashi_wrapper.py#1277\" target=\"_blank\"><span style=\"color: #7f7f7f; text-decoration-color: #7f7f7f\">1277</span></a>\n",
       "<span style=\"color: #7fbfbf; text-decoration-color: #7fbfbf\">                    </span>         spearman: <span style=\"color: #008080; text-decoration-color: #008080; font-weight: bold\">0.559</span>,elapse: <span style=\"color: #008080; text-decoration-color: #008080; font-weight: bold\">0.051</span> s                                <span style=\"color: #7f7f7f; text-decoration-color: #7f7f7f\">                       </span>\n",
       "</pre>\n"
      ],
      "text/plain": [
       "\u001b[2;36m                   \u001b[0m\u001b[2;36m \u001b[0m\u001b[34mINFO    \u001b[0m \u001b[94mtrain\u001b[0m  - \u001b[1m(\u001b[0mValid\u001b[1m)\u001b[0m bce:  \u001b[1;36m0.3678\u001b[0m,  acc: \u001b[1;36m88.965\u001b[0m %,pearson: \u001b[1;36m0.628\u001b[0m,  \u001b]8;id=687646;file:///n/home09/pren/3DGeno_tools/src/gt3d/modules/higashi/Higashi_wrapper.py\u001b\\\u001b[2mHigashi_wrapper.py\u001b[0m\u001b]8;;\u001b\\\u001b[2m:\u001b[0m\u001b]8;id=825164;file:///n/home09/pren/3DGeno_tools/src/gt3d/modules/higashi/Higashi_wrapper.py#1277\u001b\\\u001b[2m1277\u001b[0m\u001b]8;;\u001b\\\n",
       "\u001b[2;36m                    \u001b[0m         spearman: \u001b[1;36m0.559\u001b[0m,elapse: \u001b[1;36m0.051\u001b[0m s                                \u001b[2m                       \u001b[0m\n"
      ]
     },
     "metadata": {},
     "output_type": "display_data"
    },
    {
     "data": {
      "text/html": [
       "<pre style=\"white-space:pre;overflow-x:auto;line-height:normal;font-family:Menlo,'DejaVu Sans Mono',consolas,'Courier New',monospace\"><span style=\"color: #7fbfbf; text-decoration-color: #7fbfbf\">                    </span><span style=\"color: #000080; text-decoration-color: #000080\">INFO    </span> <span style=\"color: #0000ff; text-decoration-color: #0000ff\">train</span> update_rate: <span style=\"color: #008080; text-decoration-color: #008080; font-weight: bold\">0.004066</span>     <span style=\"color: #008080; text-decoration-color: #008080; font-weight: bold\">0.121327</span>                       <a href=\"file:///n/home09/pren/3DGeno_tools/src/gt3d/modules/higashi/Higashi_wrapper.py\" target=\"_blank\"><span style=\"color: #7f7f7f; text-decoration-color: #7f7f7f\">Higashi_wrapper.py</span></a><span style=\"color: #7f7f7f; text-decoration-color: #7f7f7f\">:</span><a href=\"file:///n/home09/pren/3DGeno_tools/src/gt3d/modules/higashi/Higashi_wrapper.py#1323\" target=\"_blank\"><span style=\"color: #7f7f7f; text-decoration-color: #7f7f7f\">1323</span></a>\n",
       "</pre>\n"
      ],
      "text/plain": [
       "\u001b[2;36m                   \u001b[0m\u001b[2;36m \u001b[0m\u001b[34mINFO    \u001b[0m \u001b[94mtrain\u001b[0m update_rate: \u001b[1;36m0.004066\u001b[0m     \u001b[1;36m0.121327\u001b[0m                       \u001b]8;id=899760;file:///n/home09/pren/3DGeno_tools/src/gt3d/modules/higashi/Higashi_wrapper.py\u001b\\\u001b[2mHigashi_wrapper.py\u001b[0m\u001b]8;;\u001b\\\u001b[2m:\u001b[0m\u001b]8;id=609529;file:///n/home09/pren/3DGeno_tools/src/gt3d/modules/higashi/Higashi_wrapper.py#1323\u001b\\\u001b[2m1323\u001b[0m\u001b]8;;\u001b\\\n"
      ]
     },
     "metadata": {},
     "output_type": "display_data"
    },
    {
     "data": {
      "text/html": [
       "<pre style=\"white-space:pre;overflow-x:auto;line-height:normal;font-family:Menlo,'DejaVu Sans Mono',consolas,'Courier New',monospace\"><span style=\"color: #7fbfbf; text-decoration-color: #7fbfbf\">                    </span><span style=\"color: #000080; text-decoration-color: #000080\">INFO    </span> <span style=\"color: #0000ff; text-decoration-color: #0000ff\">train</span> <span style=\"font-weight: bold\">[</span> Epoch <span style=\"color: #008080; text-decoration-color: #008080; font-weight: bold\">40</span> of <span style=\"color: #008080; text-decoration-color: #008080; font-weight: bold\">65</span> <span style=\"font-weight: bold\">]</span>                                       <a href=\"file:///n/home09/pren/3DGeno_tools/src/gt3d/modules/higashi/Higashi_wrapper.py\" target=\"_blank\"><span style=\"color: #7f7f7f; text-decoration-color: #7f7f7f\">Higashi_wrapper.py</span></a><span style=\"color: #7f7f7f; text-decoration-color: #7f7f7f\">:</span><a href=\"file:///n/home09/pren/3DGeno_tools/src/gt3d/modules/higashi/Higashi_wrapper.py#1245\" target=\"_blank\"><span style=\"color: #7f7f7f; text-decoration-color: #7f7f7f\">1245</span></a>\n",
       "</pre>\n"
      ],
      "text/plain": [
       "\u001b[2;36m                   \u001b[0m\u001b[2;36m \u001b[0m\u001b[34mINFO    \u001b[0m \u001b[94mtrain\u001b[0m \u001b[1m[\u001b[0m Epoch \u001b[1;36m40\u001b[0m of \u001b[1;36m65\u001b[0m \u001b[1m]\u001b[0m                                       \u001b]8;id=672396;file:///n/home09/pren/3DGeno_tools/src/gt3d/modules/higashi/Higashi_wrapper.py\u001b\\\u001b[2mHigashi_wrapper.py\u001b[0m\u001b]8;;\u001b\\\u001b[2m:\u001b[0m\u001b]8;id=731916;file:///n/home09/pren/3DGeno_tools/src/gt3d/modules/higashi/Higashi_wrapper.py#1245\u001b\\\u001b[2m1245\u001b[0m\u001b]8;;\u001b\\\n"
      ]
     },
     "metadata": {},
     "output_type": "display_data"
    },
    {
     "data": {
      "application/vnd.jupyter.widget-view+json": {
       "model_id": "52c4f2be89c6481fb66b84f3194148da",
       "version_major": 2,
       "version_minor": 0
      },
      "text/plain": [
       "Output()"
      ]
     },
     "metadata": {},
     "output_type": "display_data"
    },
    {
     "data": {
      "text/html": [
       "<pre style=\"white-space:pre;overflow-x:auto;line-height:normal;font-family:Menlo,'DejaVu Sans Mono',consolas,'Courier New',monospace\"></pre>\n"
      ],
      "text/plain": []
     },
     "metadata": {},
     "output_type": "display_data"
    },
    {
     "data": {
      "text/html": [
       "<pre style=\"white-space:pre;overflow-x:auto;line-height:normal;font-family:Menlo,'DejaVu Sans Mono',consolas,'Courier New',monospace\"><span style=\"color: #7fbfbf; text-decoration-color: #7fbfbf\">[12/07/24 15:31:38] </span><span style=\"color: #000080; text-decoration-color: #000080\">INFO    </span> <span style=\"color: #0000ff; text-decoration-color: #0000ff\">train</span>  - <span style=\"font-weight: bold\">(</span>Train<span style=\"font-weight: bold\">)</span> bce:  <span style=\"color: #008080; text-decoration-color: #008080; font-weight: bold\">0.3124</span>, mse:  <span style=\"color: #008080; text-decoration-color: #008080; font-weight: bold\">0.8652</span>,  acc: <span style=\"color: #008080; text-decoration-color: #008080; font-weight: bold\">89.996</span> %,   <a href=\"file:///n/home09/pren/3DGeno_tools/src/gt3d/modules/higashi/Higashi_wrapper.py\" target=\"_blank\"><span style=\"color: #7f7f7f; text-decoration-color: #7f7f7f\">Higashi_wrapper.py</span></a><span style=\"color: #7f7f7f; text-decoration-color: #7f7f7f\">:</span><a href=\"file:///n/home09/pren/3DGeno_tools/src/gt3d/modules/higashi/Higashi_wrapper.py#1258\" target=\"_blank\"><span style=\"color: #7f7f7f; text-decoration-color: #7f7f7f\">1258</span></a>\n",
       "<span style=\"color: #7fbfbf; text-decoration-color: #7fbfbf\">                    </span>         pearson: <span style=\"color: #008080; text-decoration-color: #008080; font-weight: bold\">0.690</span>, spearman: <span style=\"color: #008080; text-decoration-color: #008080; font-weight: bold\">0.582</span>, elapse: <span style=\"color: #008080; text-decoration-color: #008080; font-weight: bold\">88.821</span> s              <span style=\"color: #7f7f7f; text-decoration-color: #7f7f7f\">                       </span>\n",
       "</pre>\n"
      ],
      "text/plain": [
       "\u001b[2;36m[12/07/24 15:31:38]\u001b[0m\u001b[2;36m \u001b[0m\u001b[34mINFO    \u001b[0m \u001b[94mtrain\u001b[0m  - \u001b[1m(\u001b[0mTrain\u001b[1m)\u001b[0m bce:  \u001b[1;36m0.3124\u001b[0m, mse:  \u001b[1;36m0.8652\u001b[0m,  acc: \u001b[1;36m89.996\u001b[0m %,   \u001b]8;id=694402;file:///n/home09/pren/3DGeno_tools/src/gt3d/modules/higashi/Higashi_wrapper.py\u001b\\\u001b[2mHigashi_wrapper.py\u001b[0m\u001b]8;;\u001b\\\u001b[2m:\u001b[0m\u001b]8;id=221723;file:///n/home09/pren/3DGeno_tools/src/gt3d/modules/higashi/Higashi_wrapper.py#1258\u001b\\\u001b[2m1258\u001b[0m\u001b]8;;\u001b\\\n",
       "\u001b[2;36m                    \u001b[0m         pearson: \u001b[1;36m0.690\u001b[0m, spearman: \u001b[1;36m0.582\u001b[0m, elapse: \u001b[1;36m88.821\u001b[0m s              \u001b[2m                       \u001b[0m\n"
      ]
     },
     "metadata": {},
     "output_type": "display_data"
    },
    {
     "data": {
      "application/vnd.jupyter.widget-view+json": {
       "model_id": "8f31f8e9ca39433c8750a9d8f24dd1b3",
       "version_major": 2,
       "version_minor": 0
      },
      "text/plain": [
       "Output()"
      ]
     },
     "metadata": {},
     "output_type": "display_data"
    },
    {
     "data": {
      "text/html": [
       "<pre style=\"white-space:pre;overflow-x:auto;line-height:normal;font-family:Menlo,'DejaVu Sans Mono',consolas,'Courier New',monospace\"></pre>\n"
      ],
      "text/plain": []
     },
     "metadata": {},
     "output_type": "display_data"
    },
    {
     "data": {
      "text/html": [
       "<pre style=\"white-space:pre;overflow-x:auto;line-height:normal;font-family:Menlo,'DejaVu Sans Mono',consolas,'Courier New',monospace\"><span style=\"color: #7fbfbf; text-decoration-color: #7fbfbf\">                    </span><span style=\"color: #000080; text-decoration-color: #000080\">INFO    </span> <span style=\"color: #0000ff; text-decoration-color: #0000ff\">train</span>  - <span style=\"font-weight: bold\">(</span>Valid<span style=\"font-weight: bold\">)</span> bce:  <span style=\"color: #008080; text-decoration-color: #008080; font-weight: bold\">0.3631</span>,  acc: <span style=\"color: #008080; text-decoration-color: #008080; font-weight: bold\">88.848</span> %,pearson: <span style=\"color: #008080; text-decoration-color: #008080; font-weight: bold\">0.624</span>,  <a href=\"file:///n/home09/pren/3DGeno_tools/src/gt3d/modules/higashi/Higashi_wrapper.py\" target=\"_blank\"><span style=\"color: #7f7f7f; text-decoration-color: #7f7f7f\">Higashi_wrapper.py</span></a><span style=\"color: #7f7f7f; text-decoration-color: #7f7f7f\">:</span><a href=\"file:///n/home09/pren/3DGeno_tools/src/gt3d/modules/higashi/Higashi_wrapper.py#1277\" target=\"_blank\"><span style=\"color: #7f7f7f; text-decoration-color: #7f7f7f\">1277</span></a>\n",
       "<span style=\"color: #7fbfbf; text-decoration-color: #7fbfbf\">                    </span>         spearman: <span style=\"color: #008080; text-decoration-color: #008080; font-weight: bold\">0.553</span>,elapse: <span style=\"color: #008080; text-decoration-color: #008080; font-weight: bold\">0.052</span> s                                <span style=\"color: #7f7f7f; text-decoration-color: #7f7f7f\">                       </span>\n",
       "</pre>\n"
      ],
      "text/plain": [
       "\u001b[2;36m                   \u001b[0m\u001b[2;36m \u001b[0m\u001b[34mINFO    \u001b[0m \u001b[94mtrain\u001b[0m  - \u001b[1m(\u001b[0mValid\u001b[1m)\u001b[0m bce:  \u001b[1;36m0.3631\u001b[0m,  acc: \u001b[1;36m88.848\u001b[0m %,pearson: \u001b[1;36m0.624\u001b[0m,  \u001b]8;id=743776;file:///n/home09/pren/3DGeno_tools/src/gt3d/modules/higashi/Higashi_wrapper.py\u001b\\\u001b[2mHigashi_wrapper.py\u001b[0m\u001b]8;;\u001b\\\u001b[2m:\u001b[0m\u001b]8;id=339740;file:///n/home09/pren/3DGeno_tools/src/gt3d/modules/higashi/Higashi_wrapper.py#1277\u001b\\\u001b[2m1277\u001b[0m\u001b]8;;\u001b\\\n",
       "\u001b[2;36m                    \u001b[0m         spearman: \u001b[1;36m0.553\u001b[0m,elapse: \u001b[1;36m0.052\u001b[0m s                                \u001b[2m                       \u001b[0m\n"
      ]
     },
     "metadata": {},
     "output_type": "display_data"
    },
    {
     "data": {
      "text/html": [
       "<pre style=\"white-space:pre;overflow-x:auto;line-height:normal;font-family:Menlo,'DejaVu Sans Mono',consolas,'Courier New',monospace\"><span style=\"color: #7fbfbf; text-decoration-color: #7fbfbf\">                    </span><span style=\"color: #000080; text-decoration-color: #000080\">INFO    </span> <span style=\"color: #0000ff; text-decoration-color: #0000ff\">train</span> update_rate: <span style=\"color: #008080; text-decoration-color: #008080; font-weight: bold\">0.003362</span>     <span style=\"color: #008080; text-decoration-color: #008080; font-weight: bold\">0.139198</span>                       <a href=\"file:///n/home09/pren/3DGeno_tools/src/gt3d/modules/higashi/Higashi_wrapper.py\" target=\"_blank\"><span style=\"color: #7f7f7f; text-decoration-color: #7f7f7f\">Higashi_wrapper.py</span></a><span style=\"color: #7f7f7f; text-decoration-color: #7f7f7f\">:</span><a href=\"file:///n/home09/pren/3DGeno_tools/src/gt3d/modules/higashi/Higashi_wrapper.py#1323\" target=\"_blank\"><span style=\"color: #7f7f7f; text-decoration-color: #7f7f7f\">1323</span></a>\n",
       "</pre>\n"
      ],
      "text/plain": [
       "\u001b[2;36m                   \u001b[0m\u001b[2;36m \u001b[0m\u001b[34mINFO    \u001b[0m \u001b[94mtrain\u001b[0m update_rate: \u001b[1;36m0.003362\u001b[0m     \u001b[1;36m0.139198\u001b[0m                       \u001b]8;id=23989;file:///n/home09/pren/3DGeno_tools/src/gt3d/modules/higashi/Higashi_wrapper.py\u001b\\\u001b[2mHigashi_wrapper.py\u001b[0m\u001b]8;;\u001b\\\u001b[2m:\u001b[0m\u001b]8;id=757776;file:///n/home09/pren/3DGeno_tools/src/gt3d/modules/higashi/Higashi_wrapper.py#1323\u001b\\\u001b[2m1323\u001b[0m\u001b]8;;\u001b\\\n"
      ]
     },
     "metadata": {},
     "output_type": "display_data"
    },
    {
     "data": {
      "text/html": [
       "<pre style=\"white-space:pre;overflow-x:auto;line-height:normal;font-family:Menlo,'DejaVu Sans Mono',consolas,'Courier New',monospace\"><span style=\"color: #7fbfbf; text-decoration-color: #7fbfbf\">                    </span><span style=\"color: #000080; text-decoration-color: #000080\">INFO    </span> <span style=\"color: #0000ff; text-decoration-color: #0000ff\">train</span> <span style=\"font-weight: bold\">[</span> Epoch <span style=\"color: #008080; text-decoration-color: #008080; font-weight: bold\">41</span> of <span style=\"color: #008080; text-decoration-color: #008080; font-weight: bold\">65</span> <span style=\"font-weight: bold\">]</span>                                       <a href=\"file:///n/home09/pren/3DGeno_tools/src/gt3d/modules/higashi/Higashi_wrapper.py\" target=\"_blank\"><span style=\"color: #7f7f7f; text-decoration-color: #7f7f7f\">Higashi_wrapper.py</span></a><span style=\"color: #7f7f7f; text-decoration-color: #7f7f7f\">:</span><a href=\"file:///n/home09/pren/3DGeno_tools/src/gt3d/modules/higashi/Higashi_wrapper.py#1245\" target=\"_blank\"><span style=\"color: #7f7f7f; text-decoration-color: #7f7f7f\">1245</span></a>\n",
       "</pre>\n"
      ],
      "text/plain": [
       "\u001b[2;36m                   \u001b[0m\u001b[2;36m \u001b[0m\u001b[34mINFO    \u001b[0m \u001b[94mtrain\u001b[0m \u001b[1m[\u001b[0m Epoch \u001b[1;36m41\u001b[0m of \u001b[1;36m65\u001b[0m \u001b[1m]\u001b[0m                                       \u001b]8;id=210293;file:///n/home09/pren/3DGeno_tools/src/gt3d/modules/higashi/Higashi_wrapper.py\u001b\\\u001b[2mHigashi_wrapper.py\u001b[0m\u001b]8;;\u001b\\\u001b[2m:\u001b[0m\u001b]8;id=750017;file:///n/home09/pren/3DGeno_tools/src/gt3d/modules/higashi/Higashi_wrapper.py#1245\u001b\\\u001b[2m1245\u001b[0m\u001b]8;;\u001b\\\n"
      ]
     },
     "metadata": {},
     "output_type": "display_data"
    },
    {
     "data": {
      "application/vnd.jupyter.widget-view+json": {
       "model_id": "4e95d24f73434a8ebbaccb6fe84f450b",
       "version_major": 2,
       "version_minor": 0
      },
      "text/plain": [
       "Output()"
      ]
     },
     "metadata": {},
     "output_type": "display_data"
    },
    {
     "data": {
      "text/html": [
       "<pre style=\"white-space:pre;overflow-x:auto;line-height:normal;font-family:Menlo,'DejaVu Sans Mono',consolas,'Courier New',monospace\"></pre>\n"
      ],
      "text/plain": []
     },
     "metadata": {},
     "output_type": "display_data"
    },
    {
     "data": {
      "text/html": [
       "<pre style=\"white-space:pre;overflow-x:auto;line-height:normal;font-family:Menlo,'DejaVu Sans Mono',consolas,'Courier New',monospace\"><span style=\"color: #7fbfbf; text-decoration-color: #7fbfbf\">[12/07/24 15:33:07] </span><span style=\"color: #000080; text-decoration-color: #000080\">INFO    </span> <span style=\"color: #0000ff; text-decoration-color: #0000ff\">train</span>  - <span style=\"font-weight: bold\">(</span>Train<span style=\"font-weight: bold\">)</span> bce:  <span style=\"color: #008080; text-decoration-color: #008080; font-weight: bold\">0.3136</span>, mse:  <span style=\"color: #008080; text-decoration-color: #008080; font-weight: bold\">0.9011</span>,  acc: <span style=\"color: #008080; text-decoration-color: #008080; font-weight: bold\">90.018</span> %,   <a href=\"file:///n/home09/pren/3DGeno_tools/src/gt3d/modules/higashi/Higashi_wrapper.py\" target=\"_blank\"><span style=\"color: #7f7f7f; text-decoration-color: #7f7f7f\">Higashi_wrapper.py</span></a><span style=\"color: #7f7f7f; text-decoration-color: #7f7f7f\">:</span><a href=\"file:///n/home09/pren/3DGeno_tools/src/gt3d/modules/higashi/Higashi_wrapper.py#1258\" target=\"_blank\"><span style=\"color: #7f7f7f; text-decoration-color: #7f7f7f\">1258</span></a>\n",
       "<span style=\"color: #7fbfbf; text-decoration-color: #7fbfbf\">                    </span>         pearson: <span style=\"color: #008080; text-decoration-color: #008080; font-weight: bold\">0.690</span>, spearman: <span style=\"color: #008080; text-decoration-color: #008080; font-weight: bold\">0.582</span>, elapse: <span style=\"color: #008080; text-decoration-color: #008080; font-weight: bold\">88.780</span> s              <span style=\"color: #7f7f7f; text-decoration-color: #7f7f7f\">                       </span>\n",
       "</pre>\n"
      ],
      "text/plain": [
       "\u001b[2;36m[12/07/24 15:33:07]\u001b[0m\u001b[2;36m \u001b[0m\u001b[34mINFO    \u001b[0m \u001b[94mtrain\u001b[0m  - \u001b[1m(\u001b[0mTrain\u001b[1m)\u001b[0m bce:  \u001b[1;36m0.3136\u001b[0m, mse:  \u001b[1;36m0.9011\u001b[0m,  acc: \u001b[1;36m90.018\u001b[0m %,   \u001b]8;id=870166;file:///n/home09/pren/3DGeno_tools/src/gt3d/modules/higashi/Higashi_wrapper.py\u001b\\\u001b[2mHigashi_wrapper.py\u001b[0m\u001b]8;;\u001b\\\u001b[2m:\u001b[0m\u001b]8;id=926980;file:///n/home09/pren/3DGeno_tools/src/gt3d/modules/higashi/Higashi_wrapper.py#1258\u001b\\\u001b[2m1258\u001b[0m\u001b]8;;\u001b\\\n",
       "\u001b[2;36m                    \u001b[0m         pearson: \u001b[1;36m0.690\u001b[0m, spearman: \u001b[1;36m0.582\u001b[0m, elapse: \u001b[1;36m88.780\u001b[0m s              \u001b[2m                       \u001b[0m\n"
      ]
     },
     "metadata": {},
     "output_type": "display_data"
    },
    {
     "data": {
      "application/vnd.jupyter.widget-view+json": {
       "model_id": "a1f77819f7c74b5891fa1d3c2f104ef3",
       "version_major": 2,
       "version_minor": 0
      },
      "text/plain": [
       "Output()"
      ]
     },
     "metadata": {},
     "output_type": "display_data"
    },
    {
     "data": {
      "text/html": [
       "<pre style=\"white-space:pre;overflow-x:auto;line-height:normal;font-family:Menlo,'DejaVu Sans Mono',consolas,'Courier New',monospace\"></pre>\n"
      ],
      "text/plain": []
     },
     "metadata": {},
     "output_type": "display_data"
    },
    {
     "data": {
      "text/html": [
       "<pre style=\"white-space:pre;overflow-x:auto;line-height:normal;font-family:Menlo,'DejaVu Sans Mono',consolas,'Courier New',monospace\"><span style=\"color: #7fbfbf; text-decoration-color: #7fbfbf\">                    </span><span style=\"color: #000080; text-decoration-color: #000080\">INFO    </span> <span style=\"color: #0000ff; text-decoration-color: #0000ff\">train</span>  - <span style=\"font-weight: bold\">(</span>Valid<span style=\"font-weight: bold\">)</span> bce:  <span style=\"color: #008080; text-decoration-color: #008080; font-weight: bold\">0.3723</span>,  acc: <span style=\"color: #008080; text-decoration-color: #008080; font-weight: bold\">88.001</span> %,pearson: <span style=\"color: #008080; text-decoration-color: #008080; font-weight: bold\">0.606</span>,  <a href=\"file:///n/home09/pren/3DGeno_tools/src/gt3d/modules/higashi/Higashi_wrapper.py\" target=\"_blank\"><span style=\"color: #7f7f7f; text-decoration-color: #7f7f7f\">Higashi_wrapper.py</span></a><span style=\"color: #7f7f7f; text-decoration-color: #7f7f7f\">:</span><a href=\"file:///n/home09/pren/3DGeno_tools/src/gt3d/modules/higashi/Higashi_wrapper.py#1277\" target=\"_blank\"><span style=\"color: #7f7f7f; text-decoration-color: #7f7f7f\">1277</span></a>\n",
       "<span style=\"color: #7fbfbf; text-decoration-color: #7fbfbf\">                    </span>         spearman: <span style=\"color: #008080; text-decoration-color: #008080; font-weight: bold\">0.547</span>,elapse: <span style=\"color: #008080; text-decoration-color: #008080; font-weight: bold\">0.052</span> s                                <span style=\"color: #7f7f7f; text-decoration-color: #7f7f7f\">                       </span>\n",
       "</pre>\n"
      ],
      "text/plain": [
       "\u001b[2;36m                   \u001b[0m\u001b[2;36m \u001b[0m\u001b[34mINFO    \u001b[0m \u001b[94mtrain\u001b[0m  - \u001b[1m(\u001b[0mValid\u001b[1m)\u001b[0m bce:  \u001b[1;36m0.3723\u001b[0m,  acc: \u001b[1;36m88.001\u001b[0m %,pearson: \u001b[1;36m0.606\u001b[0m,  \u001b]8;id=874886;file:///n/home09/pren/3DGeno_tools/src/gt3d/modules/higashi/Higashi_wrapper.py\u001b\\\u001b[2mHigashi_wrapper.py\u001b[0m\u001b]8;;\u001b\\\u001b[2m:\u001b[0m\u001b]8;id=477431;file:///n/home09/pren/3DGeno_tools/src/gt3d/modules/higashi/Higashi_wrapper.py#1277\u001b\\\u001b[2m1277\u001b[0m\u001b]8;;\u001b\\\n",
       "\u001b[2;36m                    \u001b[0m         spearman: \u001b[1;36m0.547\u001b[0m,elapse: \u001b[1;36m0.052\u001b[0m s                                \u001b[2m                       \u001b[0m\n"
      ]
     },
     "metadata": {},
     "output_type": "display_data"
    },
    {
     "data": {
      "text/html": [
       "<pre style=\"white-space:pre;overflow-x:auto;line-height:normal;font-family:Menlo,'DejaVu Sans Mono',consolas,'Courier New',monospace\"><span style=\"color: #7fbfbf; text-decoration-color: #7fbfbf\">                    </span><span style=\"color: #000080; text-decoration-color: #000080\">INFO    </span> <span style=\"color: #0000ff; text-decoration-color: #0000ff\">train</span> update_rate: <span style=\"color: #008080; text-decoration-color: #008080; font-weight: bold\">0.003154</span>     <span style=\"color: #008080; text-decoration-color: #008080; font-weight: bold\">0.125972</span>                       <a href=\"file:///n/home09/pren/3DGeno_tools/src/gt3d/modules/higashi/Higashi_wrapper.py\" target=\"_blank\"><span style=\"color: #7f7f7f; text-decoration-color: #7f7f7f\">Higashi_wrapper.py</span></a><span style=\"color: #7f7f7f; text-decoration-color: #7f7f7f\">:</span><a href=\"file:///n/home09/pren/3DGeno_tools/src/gt3d/modules/higashi/Higashi_wrapper.py#1323\" target=\"_blank\"><span style=\"color: #7f7f7f; text-decoration-color: #7f7f7f\">1323</span></a>\n",
       "</pre>\n"
      ],
      "text/plain": [
       "\u001b[2;36m                   \u001b[0m\u001b[2;36m \u001b[0m\u001b[34mINFO    \u001b[0m \u001b[94mtrain\u001b[0m update_rate: \u001b[1;36m0.003154\u001b[0m     \u001b[1;36m0.125972\u001b[0m                       \u001b]8;id=585182;file:///n/home09/pren/3DGeno_tools/src/gt3d/modules/higashi/Higashi_wrapper.py\u001b\\\u001b[2mHigashi_wrapper.py\u001b[0m\u001b]8;;\u001b\\\u001b[2m:\u001b[0m\u001b]8;id=113135;file:///n/home09/pren/3DGeno_tools/src/gt3d/modules/higashi/Higashi_wrapper.py#1323\u001b\\\u001b[2m1323\u001b[0m\u001b]8;;\u001b\\\n"
      ]
     },
     "metadata": {},
     "output_type": "display_data"
    },
    {
     "data": {
      "text/html": [
       "<pre style=\"white-space:pre;overflow-x:auto;line-height:normal;font-family:Menlo,'DejaVu Sans Mono',consolas,'Courier New',monospace\"><span style=\"color: #7fbfbf; text-decoration-color: #7fbfbf\">                    </span><span style=\"color: #000080; text-decoration-color: #000080\">INFO    </span> <span style=\"color: #0000ff; text-decoration-color: #0000ff\">train</span> <span style=\"font-weight: bold\">[</span> Epoch <span style=\"color: #008080; text-decoration-color: #008080; font-weight: bold\">42</span> of <span style=\"color: #008080; text-decoration-color: #008080; font-weight: bold\">65</span> <span style=\"font-weight: bold\">]</span>                                       <a href=\"file:///n/home09/pren/3DGeno_tools/src/gt3d/modules/higashi/Higashi_wrapper.py\" target=\"_blank\"><span style=\"color: #7f7f7f; text-decoration-color: #7f7f7f\">Higashi_wrapper.py</span></a><span style=\"color: #7f7f7f; text-decoration-color: #7f7f7f\">:</span><a href=\"file:///n/home09/pren/3DGeno_tools/src/gt3d/modules/higashi/Higashi_wrapper.py#1245\" target=\"_blank\"><span style=\"color: #7f7f7f; text-decoration-color: #7f7f7f\">1245</span></a>\n",
       "</pre>\n"
      ],
      "text/plain": [
       "\u001b[2;36m                   \u001b[0m\u001b[2;36m \u001b[0m\u001b[34mINFO    \u001b[0m \u001b[94mtrain\u001b[0m \u001b[1m[\u001b[0m Epoch \u001b[1;36m42\u001b[0m of \u001b[1;36m65\u001b[0m \u001b[1m]\u001b[0m                                       \u001b]8;id=237760;file:///n/home09/pren/3DGeno_tools/src/gt3d/modules/higashi/Higashi_wrapper.py\u001b\\\u001b[2mHigashi_wrapper.py\u001b[0m\u001b]8;;\u001b\\\u001b[2m:\u001b[0m\u001b]8;id=539295;file:///n/home09/pren/3DGeno_tools/src/gt3d/modules/higashi/Higashi_wrapper.py#1245\u001b\\\u001b[2m1245\u001b[0m\u001b]8;;\u001b\\\n"
      ]
     },
     "metadata": {},
     "output_type": "display_data"
    },
    {
     "data": {
      "application/vnd.jupyter.widget-view+json": {
       "model_id": "ff6b02470e1a48dd8589527b8ad7834a",
       "version_major": 2,
       "version_minor": 0
      },
      "text/plain": [
       "Output()"
      ]
     },
     "metadata": {},
     "output_type": "display_data"
    },
    {
     "data": {
      "text/html": [
       "<pre style=\"white-space:pre;overflow-x:auto;line-height:normal;font-family:Menlo,'DejaVu Sans Mono',consolas,'Courier New',monospace\"></pre>\n"
      ],
      "text/plain": []
     },
     "metadata": {},
     "output_type": "display_data"
    },
    {
     "data": {
      "text/html": [
       "<pre style=\"white-space:pre;overflow-x:auto;line-height:normal;font-family:Menlo,'DejaVu Sans Mono',consolas,'Courier New',monospace\"><span style=\"color: #7fbfbf; text-decoration-color: #7fbfbf\">[12/07/24 15:34:36] </span><span style=\"color: #000080; text-decoration-color: #000080\">INFO    </span> <span style=\"color: #0000ff; text-decoration-color: #0000ff\">train</span>  - <span style=\"font-weight: bold\">(</span>Train<span style=\"font-weight: bold\">)</span> bce:  <span style=\"color: #008080; text-decoration-color: #008080; font-weight: bold\">0.3148</span>, mse:  <span style=\"color: #008080; text-decoration-color: #008080; font-weight: bold\">0.9201</span>,  acc: <span style=\"color: #008080; text-decoration-color: #008080; font-weight: bold\">89.872</span> %,   <a href=\"file:///n/home09/pren/3DGeno_tools/src/gt3d/modules/higashi/Higashi_wrapper.py\" target=\"_blank\"><span style=\"color: #7f7f7f; text-decoration-color: #7f7f7f\">Higashi_wrapper.py</span></a><span style=\"color: #7f7f7f; text-decoration-color: #7f7f7f\">:</span><a href=\"file:///n/home09/pren/3DGeno_tools/src/gt3d/modules/higashi/Higashi_wrapper.py#1258\" target=\"_blank\"><span style=\"color: #7f7f7f; text-decoration-color: #7f7f7f\">1258</span></a>\n",
       "<span style=\"color: #7fbfbf; text-decoration-color: #7fbfbf\">                    </span>         pearson: <span style=\"color: #008080; text-decoration-color: #008080; font-weight: bold\">0.686</span>, spearman: <span style=\"color: #008080; text-decoration-color: #008080; font-weight: bold\">0.580</span>, elapse: <span style=\"color: #008080; text-decoration-color: #008080; font-weight: bold\">88.827</span> s              <span style=\"color: #7f7f7f; text-decoration-color: #7f7f7f\">                       </span>\n",
       "</pre>\n"
      ],
      "text/plain": [
       "\u001b[2;36m[12/07/24 15:34:36]\u001b[0m\u001b[2;36m \u001b[0m\u001b[34mINFO    \u001b[0m \u001b[94mtrain\u001b[0m  - \u001b[1m(\u001b[0mTrain\u001b[1m)\u001b[0m bce:  \u001b[1;36m0.3148\u001b[0m, mse:  \u001b[1;36m0.9201\u001b[0m,  acc: \u001b[1;36m89.872\u001b[0m %,   \u001b]8;id=417529;file:///n/home09/pren/3DGeno_tools/src/gt3d/modules/higashi/Higashi_wrapper.py\u001b\\\u001b[2mHigashi_wrapper.py\u001b[0m\u001b]8;;\u001b\\\u001b[2m:\u001b[0m\u001b]8;id=175748;file:///n/home09/pren/3DGeno_tools/src/gt3d/modules/higashi/Higashi_wrapper.py#1258\u001b\\\u001b[2m1258\u001b[0m\u001b]8;;\u001b\\\n",
       "\u001b[2;36m                    \u001b[0m         pearson: \u001b[1;36m0.686\u001b[0m, spearman: \u001b[1;36m0.580\u001b[0m, elapse: \u001b[1;36m88.827\u001b[0m s              \u001b[2m                       \u001b[0m\n"
      ]
     },
     "metadata": {},
     "output_type": "display_data"
    },
    {
     "data": {
      "application/vnd.jupyter.widget-view+json": {
       "model_id": "8b6db449bb1a48d0a780727ce55f52d4",
       "version_major": 2,
       "version_minor": 0
      },
      "text/plain": [
       "Output()"
      ]
     },
     "metadata": {},
     "output_type": "display_data"
    },
    {
     "data": {
      "text/html": [
       "<pre style=\"white-space:pre;overflow-x:auto;line-height:normal;font-family:Menlo,'DejaVu Sans Mono',consolas,'Courier New',monospace\"></pre>\n"
      ],
      "text/plain": []
     },
     "metadata": {},
     "output_type": "display_data"
    },
    {
     "data": {
      "text/html": [
       "<pre style=\"white-space:pre;overflow-x:auto;line-height:normal;font-family:Menlo,'DejaVu Sans Mono',consolas,'Courier New',monospace\"><span style=\"color: #7fbfbf; text-decoration-color: #7fbfbf\">                    </span><span style=\"color: #000080; text-decoration-color: #000080\">INFO    </span> <span style=\"color: #0000ff; text-decoration-color: #0000ff\">train</span>  - <span style=\"font-weight: bold\">(</span>Valid<span style=\"font-weight: bold\">)</span> bce:  <span style=\"color: #008080; text-decoration-color: #008080; font-weight: bold\">0.3939</span>,  acc: <span style=\"color: #008080; text-decoration-color: #008080; font-weight: bold\">88.848</span> %,pearson: <span style=\"color: #008080; text-decoration-color: #008080; font-weight: bold\">0.625</span>,  <a href=\"file:///n/home09/pren/3DGeno_tools/src/gt3d/modules/higashi/Higashi_wrapper.py\" target=\"_blank\"><span style=\"color: #7f7f7f; text-decoration-color: #7f7f7f\">Higashi_wrapper.py</span></a><span style=\"color: #7f7f7f; text-decoration-color: #7f7f7f\">:</span><a href=\"file:///n/home09/pren/3DGeno_tools/src/gt3d/modules/higashi/Higashi_wrapper.py#1277\" target=\"_blank\"><span style=\"color: #7f7f7f; text-decoration-color: #7f7f7f\">1277</span></a>\n",
       "<span style=\"color: #7fbfbf; text-decoration-color: #7fbfbf\">                    </span>         spearman: <span style=\"color: #008080; text-decoration-color: #008080; font-weight: bold\">0.557</span>,elapse: <span style=\"color: #008080; text-decoration-color: #008080; font-weight: bold\">0.052</span> s                                <span style=\"color: #7f7f7f; text-decoration-color: #7f7f7f\">                       </span>\n",
       "</pre>\n"
      ],
      "text/plain": [
       "\u001b[2;36m                   \u001b[0m\u001b[2;36m \u001b[0m\u001b[34mINFO    \u001b[0m \u001b[94mtrain\u001b[0m  - \u001b[1m(\u001b[0mValid\u001b[1m)\u001b[0m bce:  \u001b[1;36m0.3939\u001b[0m,  acc: \u001b[1;36m88.848\u001b[0m %,pearson: \u001b[1;36m0.625\u001b[0m,  \u001b]8;id=760667;file:///n/home09/pren/3DGeno_tools/src/gt3d/modules/higashi/Higashi_wrapper.py\u001b\\\u001b[2mHigashi_wrapper.py\u001b[0m\u001b]8;;\u001b\\\u001b[2m:\u001b[0m\u001b]8;id=511900;file:///n/home09/pren/3DGeno_tools/src/gt3d/modules/higashi/Higashi_wrapper.py#1277\u001b\\\u001b[2m1277\u001b[0m\u001b]8;;\u001b\\\n",
       "\u001b[2;36m                    \u001b[0m         spearman: \u001b[1;36m0.557\u001b[0m,elapse: \u001b[1;36m0.052\u001b[0m s                                \u001b[2m                       \u001b[0m\n"
      ]
     },
     "metadata": {},
     "output_type": "display_data"
    },
    {
     "data": {
      "text/html": [
       "<pre style=\"white-space:pre;overflow-x:auto;line-height:normal;font-family:Menlo,'DejaVu Sans Mono',consolas,'Courier New',monospace\"><span style=\"color: #7fbfbf; text-decoration-color: #7fbfbf\">                    </span><span style=\"color: #000080; text-decoration-color: #000080\">INFO    </span> <span style=\"color: #0000ff; text-decoration-color: #0000ff\">train</span> update_rate: <span style=\"color: #008080; text-decoration-color: #008080; font-weight: bold\">0.003104</span>     <span style=\"color: #008080; text-decoration-color: #008080; font-weight: bold\">0.071689</span>                       <a href=\"file:///n/home09/pren/3DGeno_tools/src/gt3d/modules/higashi/Higashi_wrapper.py\" target=\"_blank\"><span style=\"color: #7f7f7f; text-decoration-color: #7f7f7f\">Higashi_wrapper.py</span></a><span style=\"color: #7f7f7f; text-decoration-color: #7f7f7f\">:</span><a href=\"file:///n/home09/pren/3DGeno_tools/src/gt3d/modules/higashi/Higashi_wrapper.py#1323\" target=\"_blank\"><span style=\"color: #7f7f7f; text-decoration-color: #7f7f7f\">1323</span></a>\n",
       "</pre>\n"
      ],
      "text/plain": [
       "\u001b[2;36m                   \u001b[0m\u001b[2;36m \u001b[0m\u001b[34mINFO    \u001b[0m \u001b[94mtrain\u001b[0m update_rate: \u001b[1;36m0.003104\u001b[0m     \u001b[1;36m0.071689\u001b[0m                       \u001b]8;id=997071;file:///n/home09/pren/3DGeno_tools/src/gt3d/modules/higashi/Higashi_wrapper.py\u001b\\\u001b[2mHigashi_wrapper.py\u001b[0m\u001b]8;;\u001b\\\u001b[2m:\u001b[0m\u001b]8;id=377253;file:///n/home09/pren/3DGeno_tools/src/gt3d/modules/higashi/Higashi_wrapper.py#1323\u001b\\\u001b[2m1323\u001b[0m\u001b]8;;\u001b\\\n"
      ]
     },
     "metadata": {},
     "output_type": "display_data"
    },
    {
     "data": {
      "text/html": [
       "<pre style=\"white-space:pre;overflow-x:auto;line-height:normal;font-family:Menlo,'DejaVu Sans Mono',consolas,'Courier New',monospace\"><span style=\"color: #7fbfbf; text-decoration-color: #7fbfbf\">                    </span><span style=\"color: #000080; text-decoration-color: #000080\">INFO    </span> <span style=\"color: #0000ff; text-decoration-color: #0000ff\">train</span> <span style=\"font-weight: bold\">[</span> Epoch <span style=\"color: #008080; text-decoration-color: #008080; font-weight: bold\">43</span> of <span style=\"color: #008080; text-decoration-color: #008080; font-weight: bold\">65</span> <span style=\"font-weight: bold\">]</span>                                       <a href=\"file:///n/home09/pren/3DGeno_tools/src/gt3d/modules/higashi/Higashi_wrapper.py\" target=\"_blank\"><span style=\"color: #7f7f7f; text-decoration-color: #7f7f7f\">Higashi_wrapper.py</span></a><span style=\"color: #7f7f7f; text-decoration-color: #7f7f7f\">:</span><a href=\"file:///n/home09/pren/3DGeno_tools/src/gt3d/modules/higashi/Higashi_wrapper.py#1245\" target=\"_blank\"><span style=\"color: #7f7f7f; text-decoration-color: #7f7f7f\">1245</span></a>\n",
       "</pre>\n"
      ],
      "text/plain": [
       "\u001b[2;36m                   \u001b[0m\u001b[2;36m \u001b[0m\u001b[34mINFO    \u001b[0m \u001b[94mtrain\u001b[0m \u001b[1m[\u001b[0m Epoch \u001b[1;36m43\u001b[0m of \u001b[1;36m65\u001b[0m \u001b[1m]\u001b[0m                                       \u001b]8;id=341547;file:///n/home09/pren/3DGeno_tools/src/gt3d/modules/higashi/Higashi_wrapper.py\u001b\\\u001b[2mHigashi_wrapper.py\u001b[0m\u001b]8;;\u001b\\\u001b[2m:\u001b[0m\u001b]8;id=643653;file:///n/home09/pren/3DGeno_tools/src/gt3d/modules/higashi/Higashi_wrapper.py#1245\u001b\\\u001b[2m1245\u001b[0m\u001b]8;;\u001b\\\n"
      ]
     },
     "metadata": {},
     "output_type": "display_data"
    },
    {
     "data": {
      "application/vnd.jupyter.widget-view+json": {
       "model_id": "be7e98d1d87f498bbe9308212f005090",
       "version_major": 2,
       "version_minor": 0
      },
      "text/plain": [
       "Output()"
      ]
     },
     "metadata": {},
     "output_type": "display_data"
    },
    {
     "data": {
      "text/html": [
       "<pre style=\"white-space:pre;overflow-x:auto;line-height:normal;font-family:Menlo,'DejaVu Sans Mono',consolas,'Courier New',monospace\"></pre>\n"
      ],
      "text/plain": []
     },
     "metadata": {},
     "output_type": "display_data"
    },
    {
     "data": {
      "text/html": [
       "<pre style=\"white-space:pre;overflow-x:auto;line-height:normal;font-family:Menlo,'DejaVu Sans Mono',consolas,'Courier New',monospace\"><span style=\"color: #7fbfbf; text-decoration-color: #7fbfbf\">[12/07/24 15:36:06] </span><span style=\"color: #000080; text-decoration-color: #000080\">INFO    </span> <span style=\"color: #0000ff; text-decoration-color: #0000ff\">train</span>  - <span style=\"font-weight: bold\">(</span>Train<span style=\"font-weight: bold\">)</span> bce:  <span style=\"color: #008080; text-decoration-color: #008080; font-weight: bold\">0.3125</span>, mse:  <span style=\"color: #008080; text-decoration-color: #008080; font-weight: bold\">0.8972</span>,  acc: <span style=\"color: #008080; text-decoration-color: #008080; font-weight: bold\">90.017</span> %,   <a href=\"file:///n/home09/pren/3DGeno_tools/src/gt3d/modules/higashi/Higashi_wrapper.py\" target=\"_blank\"><span style=\"color: #7f7f7f; text-decoration-color: #7f7f7f\">Higashi_wrapper.py</span></a><span style=\"color: #7f7f7f; text-decoration-color: #7f7f7f\">:</span><a href=\"file:///n/home09/pren/3DGeno_tools/src/gt3d/modules/higashi/Higashi_wrapper.py#1258\" target=\"_blank\"><span style=\"color: #7f7f7f; text-decoration-color: #7f7f7f\">1258</span></a>\n",
       "<span style=\"color: #7fbfbf; text-decoration-color: #7fbfbf\">                    </span>         pearson: <span style=\"color: #008080; text-decoration-color: #008080; font-weight: bold\">0.690</span>, spearman: <span style=\"color: #008080; text-decoration-color: #008080; font-weight: bold\">0.582</span>, elapse: <span style=\"color: #008080; text-decoration-color: #008080; font-weight: bold\">89.333</span> s              <span style=\"color: #7f7f7f; text-decoration-color: #7f7f7f\">                       </span>\n",
       "</pre>\n"
      ],
      "text/plain": [
       "\u001b[2;36m[12/07/24 15:36:06]\u001b[0m\u001b[2;36m \u001b[0m\u001b[34mINFO    \u001b[0m \u001b[94mtrain\u001b[0m  - \u001b[1m(\u001b[0mTrain\u001b[1m)\u001b[0m bce:  \u001b[1;36m0.3125\u001b[0m, mse:  \u001b[1;36m0.8972\u001b[0m,  acc: \u001b[1;36m90.017\u001b[0m %,   \u001b]8;id=720124;file:///n/home09/pren/3DGeno_tools/src/gt3d/modules/higashi/Higashi_wrapper.py\u001b\\\u001b[2mHigashi_wrapper.py\u001b[0m\u001b]8;;\u001b\\\u001b[2m:\u001b[0m\u001b]8;id=528273;file:///n/home09/pren/3DGeno_tools/src/gt3d/modules/higashi/Higashi_wrapper.py#1258\u001b\\\u001b[2m1258\u001b[0m\u001b]8;;\u001b\\\n",
       "\u001b[2;36m                    \u001b[0m         pearson: \u001b[1;36m0.690\u001b[0m, spearman: \u001b[1;36m0.582\u001b[0m, elapse: \u001b[1;36m89.333\u001b[0m s              \u001b[2m                       \u001b[0m\n"
      ]
     },
     "metadata": {},
     "output_type": "display_data"
    },
    {
     "data": {
      "application/vnd.jupyter.widget-view+json": {
       "model_id": "585f4dafdd3149a4b4ed579ecd1561c6",
       "version_major": 2,
       "version_minor": 0
      },
      "text/plain": [
       "Output()"
      ]
     },
     "metadata": {},
     "output_type": "display_data"
    },
    {
     "data": {
      "text/html": [
       "<pre style=\"white-space:pre;overflow-x:auto;line-height:normal;font-family:Menlo,'DejaVu Sans Mono',consolas,'Courier New',monospace\"></pre>\n"
      ],
      "text/plain": []
     },
     "metadata": {},
     "output_type": "display_data"
    },
    {
     "data": {
      "text/html": [
       "<pre style=\"white-space:pre;overflow-x:auto;line-height:normal;font-family:Menlo,'DejaVu Sans Mono',consolas,'Courier New',monospace\"><span style=\"color: #7fbfbf; text-decoration-color: #7fbfbf\">                    </span><span style=\"color: #000080; text-decoration-color: #000080\">INFO    </span> <span style=\"color: #0000ff; text-decoration-color: #0000ff\">train</span>  - <span style=\"font-weight: bold\">(</span>Valid<span style=\"font-weight: bold\">)</span> bce:  <span style=\"color: #008080; text-decoration-color: #008080; font-weight: bold\">0.3608</span>,  acc: <span style=\"color: #008080; text-decoration-color: #008080; font-weight: bold\">88.522</span> %,pearson: <span style=\"color: #008080; text-decoration-color: #008080; font-weight: bold\">0.623</span>,  <a href=\"file:///n/home09/pren/3DGeno_tools/src/gt3d/modules/higashi/Higashi_wrapper.py\" target=\"_blank\"><span style=\"color: #7f7f7f; text-decoration-color: #7f7f7f\">Higashi_wrapper.py</span></a><span style=\"color: #7f7f7f; text-decoration-color: #7f7f7f\">:</span><a href=\"file:///n/home09/pren/3DGeno_tools/src/gt3d/modules/higashi/Higashi_wrapper.py#1277\" target=\"_blank\"><span style=\"color: #7f7f7f; text-decoration-color: #7f7f7f\">1277</span></a>\n",
       "<span style=\"color: #7fbfbf; text-decoration-color: #7fbfbf\">                    </span>         spearman: <span style=\"color: #008080; text-decoration-color: #008080; font-weight: bold\">0.559</span>,elapse: <span style=\"color: #008080; text-decoration-color: #008080; font-weight: bold\">0.052</span> s                                <span style=\"color: #7f7f7f; text-decoration-color: #7f7f7f\">                       </span>\n",
       "</pre>\n"
      ],
      "text/plain": [
       "\u001b[2;36m                   \u001b[0m\u001b[2;36m \u001b[0m\u001b[34mINFO    \u001b[0m \u001b[94mtrain\u001b[0m  - \u001b[1m(\u001b[0mValid\u001b[1m)\u001b[0m bce:  \u001b[1;36m0.3608\u001b[0m,  acc: \u001b[1;36m88.522\u001b[0m %,pearson: \u001b[1;36m0.623\u001b[0m,  \u001b]8;id=493189;file:///n/home09/pren/3DGeno_tools/src/gt3d/modules/higashi/Higashi_wrapper.py\u001b\\\u001b[2mHigashi_wrapper.py\u001b[0m\u001b]8;;\u001b\\\u001b[2m:\u001b[0m\u001b]8;id=41415;file:///n/home09/pren/3DGeno_tools/src/gt3d/modules/higashi/Higashi_wrapper.py#1277\u001b\\\u001b[2m1277\u001b[0m\u001b]8;;\u001b\\\n",
       "\u001b[2;36m                    \u001b[0m         spearman: \u001b[1;36m0.559\u001b[0m,elapse: \u001b[1;36m0.052\u001b[0m s                                \u001b[2m                       \u001b[0m\n"
      ]
     },
     "metadata": {},
     "output_type": "display_data"
    },
    {
     "data": {
      "text/html": [
       "<pre style=\"white-space:pre;overflow-x:auto;line-height:normal;font-family:Menlo,'DejaVu Sans Mono',consolas,'Courier New',monospace\"><span style=\"color: #7fbfbf; text-decoration-color: #7fbfbf\">                    </span><span style=\"color: #000080; text-decoration-color: #000080\">INFO    </span> <span style=\"color: #0000ff; text-decoration-color: #0000ff\">train</span> update_rate: <span style=\"color: #008080; text-decoration-color: #008080; font-weight: bold\">0.003665</span>     <span style=\"color: #008080; text-decoration-color: #008080; font-weight: bold\">0.138354</span>                       <a href=\"file:///n/home09/pren/3DGeno_tools/src/gt3d/modules/higashi/Higashi_wrapper.py\" target=\"_blank\"><span style=\"color: #7f7f7f; text-decoration-color: #7f7f7f\">Higashi_wrapper.py</span></a><span style=\"color: #7f7f7f; text-decoration-color: #7f7f7f\">:</span><a href=\"file:///n/home09/pren/3DGeno_tools/src/gt3d/modules/higashi/Higashi_wrapper.py#1323\" target=\"_blank\"><span style=\"color: #7f7f7f; text-decoration-color: #7f7f7f\">1323</span></a>\n",
       "</pre>\n"
      ],
      "text/plain": [
       "\u001b[2;36m                   \u001b[0m\u001b[2;36m \u001b[0m\u001b[34mINFO    \u001b[0m \u001b[94mtrain\u001b[0m update_rate: \u001b[1;36m0.003665\u001b[0m     \u001b[1;36m0.138354\u001b[0m                       \u001b]8;id=258900;file:///n/home09/pren/3DGeno_tools/src/gt3d/modules/higashi/Higashi_wrapper.py\u001b\\\u001b[2mHigashi_wrapper.py\u001b[0m\u001b]8;;\u001b\\\u001b[2m:\u001b[0m\u001b]8;id=98030;file:///n/home09/pren/3DGeno_tools/src/gt3d/modules/higashi/Higashi_wrapper.py#1323\u001b\\\u001b[2m1323\u001b[0m\u001b]8;;\u001b\\\n"
      ]
     },
     "metadata": {},
     "output_type": "display_data"
    },
    {
     "data": {
      "text/html": [
       "<pre style=\"white-space:pre;overflow-x:auto;line-height:normal;font-family:Menlo,'DejaVu Sans Mono',consolas,'Courier New',monospace\"><span style=\"color: #7fbfbf; text-decoration-color: #7fbfbf\">                    </span><span style=\"color: #000080; text-decoration-color: #000080\">INFO    </span> <span style=\"color: #0000ff; text-decoration-color: #0000ff\">train</span> <span style=\"font-weight: bold\">[</span> Epoch <span style=\"color: #008080; text-decoration-color: #008080; font-weight: bold\">44</span> of <span style=\"color: #008080; text-decoration-color: #008080; font-weight: bold\">65</span> <span style=\"font-weight: bold\">]</span>                                       <a href=\"file:///n/home09/pren/3DGeno_tools/src/gt3d/modules/higashi/Higashi_wrapper.py\" target=\"_blank\"><span style=\"color: #7f7f7f; text-decoration-color: #7f7f7f\">Higashi_wrapper.py</span></a><span style=\"color: #7f7f7f; text-decoration-color: #7f7f7f\">:</span><a href=\"file:///n/home09/pren/3DGeno_tools/src/gt3d/modules/higashi/Higashi_wrapper.py#1245\" target=\"_blank\"><span style=\"color: #7f7f7f; text-decoration-color: #7f7f7f\">1245</span></a>\n",
       "</pre>\n"
      ],
      "text/plain": [
       "\u001b[2;36m                   \u001b[0m\u001b[2;36m \u001b[0m\u001b[34mINFO    \u001b[0m \u001b[94mtrain\u001b[0m \u001b[1m[\u001b[0m Epoch \u001b[1;36m44\u001b[0m of \u001b[1;36m65\u001b[0m \u001b[1m]\u001b[0m                                       \u001b]8;id=58237;file:///n/home09/pren/3DGeno_tools/src/gt3d/modules/higashi/Higashi_wrapper.py\u001b\\\u001b[2mHigashi_wrapper.py\u001b[0m\u001b]8;;\u001b\\\u001b[2m:\u001b[0m\u001b]8;id=293603;file:///n/home09/pren/3DGeno_tools/src/gt3d/modules/higashi/Higashi_wrapper.py#1245\u001b\\\u001b[2m1245\u001b[0m\u001b]8;;\u001b\\\n"
      ]
     },
     "metadata": {},
     "output_type": "display_data"
    },
    {
     "data": {
      "application/vnd.jupyter.widget-view+json": {
       "model_id": "8d8381725198481ab07558decf061399",
       "version_major": 2,
       "version_minor": 0
      },
      "text/plain": [
       "Output()"
      ]
     },
     "metadata": {},
     "output_type": "display_data"
    },
    {
     "data": {
      "text/html": [
       "<pre style=\"white-space:pre;overflow-x:auto;line-height:normal;font-family:Menlo,'DejaVu Sans Mono',consolas,'Courier New',monospace\"></pre>\n"
      ],
      "text/plain": []
     },
     "metadata": {},
     "output_type": "display_data"
    },
    {
     "data": {
      "text/html": [
       "<pre style=\"white-space:pre;overflow-x:auto;line-height:normal;font-family:Menlo,'DejaVu Sans Mono',consolas,'Courier New',monospace\"><span style=\"color: #7fbfbf; text-decoration-color: #7fbfbf\">[12/07/24 15:37:35] </span><span style=\"color: #000080; text-decoration-color: #000080\">INFO    </span> <span style=\"color: #0000ff; text-decoration-color: #0000ff\">train</span>  - <span style=\"font-weight: bold\">(</span>Train<span style=\"font-weight: bold\">)</span> bce:  <span style=\"color: #008080; text-decoration-color: #008080; font-weight: bold\">0.3131</span>, mse:  <span style=\"color: #008080; text-decoration-color: #008080; font-weight: bold\">1.0270</span>,  acc: <span style=\"color: #008080; text-decoration-color: #008080; font-weight: bold\">90.048</span> %,   <a href=\"file:///n/home09/pren/3DGeno_tools/src/gt3d/modules/higashi/Higashi_wrapper.py\" target=\"_blank\"><span style=\"color: #7f7f7f; text-decoration-color: #7f7f7f\">Higashi_wrapper.py</span></a><span style=\"color: #7f7f7f; text-decoration-color: #7f7f7f\">:</span><a href=\"file:///n/home09/pren/3DGeno_tools/src/gt3d/modules/higashi/Higashi_wrapper.py#1258\" target=\"_blank\"><span style=\"color: #7f7f7f; text-decoration-color: #7f7f7f\">1258</span></a>\n",
       "<span style=\"color: #7fbfbf; text-decoration-color: #7fbfbf\">                    </span>         pearson: <span style=\"color: #008080; text-decoration-color: #008080; font-weight: bold\">0.691</span>, spearman: <span style=\"color: #008080; text-decoration-color: #008080; font-weight: bold\">0.582</span>, elapse: <span style=\"color: #008080; text-decoration-color: #008080; font-weight: bold\">89.612</span> s              <span style=\"color: #7f7f7f; text-decoration-color: #7f7f7f\">                       </span>\n",
       "</pre>\n"
      ],
      "text/plain": [
       "\u001b[2;36m[12/07/24 15:37:35]\u001b[0m\u001b[2;36m \u001b[0m\u001b[34mINFO    \u001b[0m \u001b[94mtrain\u001b[0m  - \u001b[1m(\u001b[0mTrain\u001b[1m)\u001b[0m bce:  \u001b[1;36m0.3131\u001b[0m, mse:  \u001b[1;36m1.0270\u001b[0m,  acc: \u001b[1;36m90.048\u001b[0m %,   \u001b]8;id=793350;file:///n/home09/pren/3DGeno_tools/src/gt3d/modules/higashi/Higashi_wrapper.py\u001b\\\u001b[2mHigashi_wrapper.py\u001b[0m\u001b]8;;\u001b\\\u001b[2m:\u001b[0m\u001b]8;id=806;file:///n/home09/pren/3DGeno_tools/src/gt3d/modules/higashi/Higashi_wrapper.py#1258\u001b\\\u001b[2m1258\u001b[0m\u001b]8;;\u001b\\\n",
       "\u001b[2;36m                    \u001b[0m         pearson: \u001b[1;36m0.691\u001b[0m, spearman: \u001b[1;36m0.582\u001b[0m, elapse: \u001b[1;36m89.612\u001b[0m s              \u001b[2m                       \u001b[0m\n"
      ]
     },
     "metadata": {},
     "output_type": "display_data"
    },
    {
     "data": {
      "application/vnd.jupyter.widget-view+json": {
       "model_id": "4a221fd5a33f4faa82d8a09e64762543",
       "version_major": 2,
       "version_minor": 0
      },
      "text/plain": [
       "Output()"
      ]
     },
     "metadata": {},
     "output_type": "display_data"
    },
    {
     "data": {
      "text/html": [
       "<pre style=\"white-space:pre;overflow-x:auto;line-height:normal;font-family:Menlo,'DejaVu Sans Mono',consolas,'Courier New',monospace\"></pre>\n"
      ],
      "text/plain": []
     },
     "metadata": {},
     "output_type": "display_data"
    },
    {
     "data": {
      "text/html": [
       "<pre style=\"white-space:pre;overflow-x:auto;line-height:normal;font-family:Menlo,'DejaVu Sans Mono',consolas,'Courier New',monospace\"><span style=\"color: #7fbfbf; text-decoration-color: #7fbfbf\">                    </span><span style=\"color: #000080; text-decoration-color: #000080\">INFO    </span> <span style=\"color: #0000ff; text-decoration-color: #0000ff\">train</span>  - <span style=\"font-weight: bold\">(</span>Valid<span style=\"font-weight: bold\">)</span> bce:  <span style=\"color: #008080; text-decoration-color: #008080; font-weight: bold\">0.3756</span>,  acc: <span style=\"color: #008080; text-decoration-color: #008080; font-weight: bold\">88.691</span> %,pearson: <span style=\"color: #008080; text-decoration-color: #008080; font-weight: bold\">0.624</span>,  <a href=\"file:///n/home09/pren/3DGeno_tools/src/gt3d/modules/higashi/Higashi_wrapper.py\" target=\"_blank\"><span style=\"color: #7f7f7f; text-decoration-color: #7f7f7f\">Higashi_wrapper.py</span></a><span style=\"color: #7f7f7f; text-decoration-color: #7f7f7f\">:</span><a href=\"file:///n/home09/pren/3DGeno_tools/src/gt3d/modules/higashi/Higashi_wrapper.py#1277\" target=\"_blank\"><span style=\"color: #7f7f7f; text-decoration-color: #7f7f7f\">1277</span></a>\n",
       "<span style=\"color: #7fbfbf; text-decoration-color: #7fbfbf\">                    </span>         spearman: <span style=\"color: #008080; text-decoration-color: #008080; font-weight: bold\">0.558</span>,elapse: <span style=\"color: #008080; text-decoration-color: #008080; font-weight: bold\">0.052</span> s                                <span style=\"color: #7f7f7f; text-decoration-color: #7f7f7f\">                       </span>\n",
       "</pre>\n"
      ],
      "text/plain": [
       "\u001b[2;36m                   \u001b[0m\u001b[2;36m \u001b[0m\u001b[34mINFO    \u001b[0m \u001b[94mtrain\u001b[0m  - \u001b[1m(\u001b[0mValid\u001b[1m)\u001b[0m bce:  \u001b[1;36m0.3756\u001b[0m,  acc: \u001b[1;36m88.691\u001b[0m %,pearson: \u001b[1;36m0.624\u001b[0m,  \u001b]8;id=827356;file:///n/home09/pren/3DGeno_tools/src/gt3d/modules/higashi/Higashi_wrapper.py\u001b\\\u001b[2mHigashi_wrapper.py\u001b[0m\u001b]8;;\u001b\\\u001b[2m:\u001b[0m\u001b]8;id=253038;file:///n/home09/pren/3DGeno_tools/src/gt3d/modules/higashi/Higashi_wrapper.py#1277\u001b\\\u001b[2m1277\u001b[0m\u001b]8;;\u001b\\\n",
       "\u001b[2;36m                    \u001b[0m         spearman: \u001b[1;36m0.558\u001b[0m,elapse: \u001b[1;36m0.052\u001b[0m s                                \u001b[2m                       \u001b[0m\n"
      ]
     },
     "metadata": {},
     "output_type": "display_data"
    },
    {
     "data": {
      "text/html": [
       "<pre style=\"white-space:pre;overflow-x:auto;line-height:normal;font-family:Menlo,'DejaVu Sans Mono',consolas,'Courier New',monospace\"><span style=\"color: #7fbfbf; text-decoration-color: #7fbfbf\">                    </span><span style=\"color: #000080; text-decoration-color: #000080\">INFO    </span> <span style=\"color: #0000ff; text-decoration-color: #0000ff\">train</span> update_rate: <span style=\"color: #008080; text-decoration-color: #008080; font-weight: bold\">0.003415</span>     <span style=\"color: #008080; text-decoration-color: #008080; font-weight: bold\">0.070474</span>                       <a href=\"file:///n/home09/pren/3DGeno_tools/src/gt3d/modules/higashi/Higashi_wrapper.py\" target=\"_blank\"><span style=\"color: #7f7f7f; text-decoration-color: #7f7f7f\">Higashi_wrapper.py</span></a><span style=\"color: #7f7f7f; text-decoration-color: #7f7f7f\">:</span><a href=\"file:///n/home09/pren/3DGeno_tools/src/gt3d/modules/higashi/Higashi_wrapper.py#1323\" target=\"_blank\"><span style=\"color: #7f7f7f; text-decoration-color: #7f7f7f\">1323</span></a>\n",
       "</pre>\n"
      ],
      "text/plain": [
       "\u001b[2;36m                   \u001b[0m\u001b[2;36m \u001b[0m\u001b[34mINFO    \u001b[0m \u001b[94mtrain\u001b[0m update_rate: \u001b[1;36m0.003415\u001b[0m     \u001b[1;36m0.070474\u001b[0m                       \u001b]8;id=495107;file:///n/home09/pren/3DGeno_tools/src/gt3d/modules/higashi/Higashi_wrapper.py\u001b\\\u001b[2mHigashi_wrapper.py\u001b[0m\u001b]8;;\u001b\\\u001b[2m:\u001b[0m\u001b]8;id=207294;file:///n/home09/pren/3DGeno_tools/src/gt3d/modules/higashi/Higashi_wrapper.py#1323\u001b\\\u001b[2m1323\u001b[0m\u001b]8;;\u001b\\\n"
      ]
     },
     "metadata": {},
     "output_type": "display_data"
    },
    {
     "data": {
      "text/html": [
       "<pre style=\"white-space:pre;overflow-x:auto;line-height:normal;font-family:Menlo,'DejaVu Sans Mono',consolas,'Courier New',monospace\"><span style=\"color: #7fbfbf; text-decoration-color: #7fbfbf\">[12/07/24 15:37:36] </span><span style=\"color: #000080; text-decoration-color: #000080\">INFO    </span> <span style=\"color: #0000ff; text-decoration-color: #0000ff\">train</span> <span style=\"font-weight: bold\">[</span> Epoch <span style=\"color: #008080; text-decoration-color: #008080; font-weight: bold\">45</span> of <span style=\"color: #008080; text-decoration-color: #008080; font-weight: bold\">65</span> <span style=\"font-weight: bold\">]</span>                                       <a href=\"file:///n/home09/pren/3DGeno_tools/src/gt3d/modules/higashi/Higashi_wrapper.py\" target=\"_blank\"><span style=\"color: #7f7f7f; text-decoration-color: #7f7f7f\">Higashi_wrapper.py</span></a><span style=\"color: #7f7f7f; text-decoration-color: #7f7f7f\">:</span><a href=\"file:///n/home09/pren/3DGeno_tools/src/gt3d/modules/higashi/Higashi_wrapper.py#1245\" target=\"_blank\"><span style=\"color: #7f7f7f; text-decoration-color: #7f7f7f\">1245</span></a>\n",
       "</pre>\n"
      ],
      "text/plain": [
       "\u001b[2;36m[12/07/24 15:37:36]\u001b[0m\u001b[2;36m \u001b[0m\u001b[34mINFO    \u001b[0m \u001b[94mtrain\u001b[0m \u001b[1m[\u001b[0m Epoch \u001b[1;36m45\u001b[0m of \u001b[1;36m65\u001b[0m \u001b[1m]\u001b[0m                                       \u001b]8;id=685490;file:///n/home09/pren/3DGeno_tools/src/gt3d/modules/higashi/Higashi_wrapper.py\u001b\\\u001b[2mHigashi_wrapper.py\u001b[0m\u001b]8;;\u001b\\\u001b[2m:\u001b[0m\u001b]8;id=444721;file:///n/home09/pren/3DGeno_tools/src/gt3d/modules/higashi/Higashi_wrapper.py#1245\u001b\\\u001b[2m1245\u001b[0m\u001b]8;;\u001b\\\n"
      ]
     },
     "metadata": {},
     "output_type": "display_data"
    },
    {
     "data": {
      "application/vnd.jupyter.widget-view+json": {
       "model_id": "79b6960d1f684d62a3d777af45d3d83f",
       "version_major": 2,
       "version_minor": 0
      },
      "text/plain": [
       "Output()"
      ]
     },
     "metadata": {},
     "output_type": "display_data"
    },
    {
     "data": {
      "text/html": [
       "<pre style=\"white-space:pre;overflow-x:auto;line-height:normal;font-family:Menlo,'DejaVu Sans Mono',consolas,'Courier New',monospace\"></pre>\n"
      ],
      "text/plain": []
     },
     "metadata": {},
     "output_type": "display_data"
    },
    {
     "data": {
      "text/html": [
       "<pre style=\"white-space:pre;overflow-x:auto;line-height:normal;font-family:Menlo,'DejaVu Sans Mono',consolas,'Courier New',monospace\"><span style=\"color: #7fbfbf; text-decoration-color: #7fbfbf\">[12/07/24 15:39:12] </span><span style=\"color: #000080; text-decoration-color: #000080\">INFO    </span> <span style=\"color: #0000ff; text-decoration-color: #0000ff\">train</span>  - <span style=\"font-weight: bold\">(</span>Train<span style=\"font-weight: bold\">)</span> bce:  <span style=\"color: #008080; text-decoration-color: #008080; font-weight: bold\">0.3093</span>, mse:  <span style=\"color: #008080; text-decoration-color: #008080; font-weight: bold\">0.9324</span>,  acc: <span style=\"color: #008080; text-decoration-color: #008080; font-weight: bold\">90.293</span> %,   <a href=\"file:///n/home09/pren/3DGeno_tools/src/gt3d/modules/higashi/Higashi_wrapper.py\" target=\"_blank\"><span style=\"color: #7f7f7f; text-decoration-color: #7f7f7f\">Higashi_wrapper.py</span></a><span style=\"color: #7f7f7f; text-decoration-color: #7f7f7f\">:</span><a href=\"file:///n/home09/pren/3DGeno_tools/src/gt3d/modules/higashi/Higashi_wrapper.py#1258\" target=\"_blank\"><span style=\"color: #7f7f7f; text-decoration-color: #7f7f7f\">1258</span></a>\n",
       "<span style=\"color: #7fbfbf; text-decoration-color: #7fbfbf\">                    </span>         pearson: <span style=\"color: #008080; text-decoration-color: #008080; font-weight: bold\">0.698</span>, spearman: <span style=\"color: #008080; text-decoration-color: #008080; font-weight: bold\">0.586</span>, elapse: <span style=\"color: #008080; text-decoration-color: #008080; font-weight: bold\">96.071</span> s              <span style=\"color: #7f7f7f; text-decoration-color: #7f7f7f\">                       </span>\n",
       "</pre>\n"
      ],
      "text/plain": [
       "\u001b[2;36m[12/07/24 15:39:12]\u001b[0m\u001b[2;36m \u001b[0m\u001b[34mINFO    \u001b[0m \u001b[94mtrain\u001b[0m  - \u001b[1m(\u001b[0mTrain\u001b[1m)\u001b[0m bce:  \u001b[1;36m0.3093\u001b[0m, mse:  \u001b[1;36m0.9324\u001b[0m,  acc: \u001b[1;36m90.293\u001b[0m %,   \u001b]8;id=132;file:///n/home09/pren/3DGeno_tools/src/gt3d/modules/higashi/Higashi_wrapper.py\u001b\\\u001b[2mHigashi_wrapper.py\u001b[0m\u001b]8;;\u001b\\\u001b[2m:\u001b[0m\u001b]8;id=533407;file:///n/home09/pren/3DGeno_tools/src/gt3d/modules/higashi/Higashi_wrapper.py#1258\u001b\\\u001b[2m1258\u001b[0m\u001b]8;;\u001b\\\n",
       "\u001b[2;36m                    \u001b[0m         pearson: \u001b[1;36m0.698\u001b[0m, spearman: \u001b[1;36m0.586\u001b[0m, elapse: \u001b[1;36m96.071\u001b[0m s              \u001b[2m                       \u001b[0m\n"
      ]
     },
     "metadata": {},
     "output_type": "display_data"
    },
    {
     "data": {
      "application/vnd.jupyter.widget-view+json": {
       "model_id": "0ce9d2fdd2524982a78568c0c98b70d5",
       "version_major": 2,
       "version_minor": 0
      },
      "text/plain": [
       "Output()"
      ]
     },
     "metadata": {},
     "output_type": "display_data"
    },
    {
     "data": {
      "text/html": [
       "<pre style=\"white-space:pre;overflow-x:auto;line-height:normal;font-family:Menlo,'DejaVu Sans Mono',consolas,'Courier New',monospace\"></pre>\n"
      ],
      "text/plain": []
     },
     "metadata": {},
     "output_type": "display_data"
    },
    {
     "data": {
      "text/html": [
       "<pre style=\"white-space:pre;overflow-x:auto;line-height:normal;font-family:Menlo,'DejaVu Sans Mono',consolas,'Courier New',monospace\"><span style=\"color: #7fbfbf; text-decoration-color: #7fbfbf\">                    </span><span style=\"color: #000080; text-decoration-color: #000080\">INFO    </span> <span style=\"color: #0000ff; text-decoration-color: #0000ff\">train</span>  - <span style=\"font-weight: bold\">(</span>Valid<span style=\"font-weight: bold\">)</span> bce:  <span style=\"color: #008080; text-decoration-color: #008080; font-weight: bold\">0.3676</span>,  acc: <span style=\"color: #008080; text-decoration-color: #008080; font-weight: bold\">88.288</span> %,pearson: <span style=\"color: #008080; text-decoration-color: #008080; font-weight: bold\">0.614</span>,  <a href=\"file:///n/home09/pren/3DGeno_tools/src/gt3d/modules/higashi/Higashi_wrapper.py\" target=\"_blank\"><span style=\"color: #7f7f7f; text-decoration-color: #7f7f7f\">Higashi_wrapper.py</span></a><span style=\"color: #7f7f7f; text-decoration-color: #7f7f7f\">:</span><a href=\"file:///n/home09/pren/3DGeno_tools/src/gt3d/modules/higashi/Higashi_wrapper.py#1277\" target=\"_blank\"><span style=\"color: #7f7f7f; text-decoration-color: #7f7f7f\">1277</span></a>\n",
       "<span style=\"color: #7fbfbf; text-decoration-color: #7fbfbf\">                    </span>         spearman: <span style=\"color: #008080; text-decoration-color: #008080; font-weight: bold\">0.552</span>,elapse: <span style=\"color: #008080; text-decoration-color: #008080; font-weight: bold\">0.052</span> s                                <span style=\"color: #7f7f7f; text-decoration-color: #7f7f7f\">                       </span>\n",
       "</pre>\n"
      ],
      "text/plain": [
       "\u001b[2;36m                   \u001b[0m\u001b[2;36m \u001b[0m\u001b[34mINFO    \u001b[0m \u001b[94mtrain\u001b[0m  - \u001b[1m(\u001b[0mValid\u001b[1m)\u001b[0m bce:  \u001b[1;36m0.3676\u001b[0m,  acc: \u001b[1;36m88.288\u001b[0m %,pearson: \u001b[1;36m0.614\u001b[0m,  \u001b]8;id=681227;file:///n/home09/pren/3DGeno_tools/src/gt3d/modules/higashi/Higashi_wrapper.py\u001b\\\u001b[2mHigashi_wrapper.py\u001b[0m\u001b]8;;\u001b\\\u001b[2m:\u001b[0m\u001b]8;id=18034;file:///n/home09/pren/3DGeno_tools/src/gt3d/modules/higashi/Higashi_wrapper.py#1277\u001b\\\u001b[2m1277\u001b[0m\u001b]8;;\u001b\\\n",
       "\u001b[2;36m                    \u001b[0m         spearman: \u001b[1;36m0.552\u001b[0m,elapse: \u001b[1;36m0.052\u001b[0m s                                \u001b[2m                       \u001b[0m\n"
      ]
     },
     "metadata": {},
     "output_type": "display_data"
    },
    {
     "data": {
      "text/html": [
       "<pre style=\"white-space:pre;overflow-x:auto;line-height:normal;font-family:Menlo,'DejaVu Sans Mono',consolas,'Courier New',monospace\"><span style=\"color: #7fbfbf; text-decoration-color: #7fbfbf\">                    </span><span style=\"color: #000080; text-decoration-color: #000080\">INFO    </span> <span style=\"color: #0000ff; text-decoration-color: #0000ff\">train</span> update_rate: <span style=\"color: #008080; text-decoration-color: #008080; font-weight: bold\">0.003794</span>     <span style=\"color: #008080; text-decoration-color: #008080; font-weight: bold\">0.134597</span>                       <a href=\"file:///n/home09/pren/3DGeno_tools/src/gt3d/modules/higashi/Higashi_wrapper.py\" target=\"_blank\"><span style=\"color: #7f7f7f; text-decoration-color: #7f7f7f\">Higashi_wrapper.py</span></a><span style=\"color: #7f7f7f; text-decoration-color: #7f7f7f\">:</span><a href=\"file:///n/home09/pren/3DGeno_tools/src/gt3d/modules/higashi/Higashi_wrapper.py#1323\" target=\"_blank\"><span style=\"color: #7f7f7f; text-decoration-color: #7f7f7f\">1323</span></a>\n",
       "</pre>\n"
      ],
      "text/plain": [
       "\u001b[2;36m                   \u001b[0m\u001b[2;36m \u001b[0m\u001b[34mINFO    \u001b[0m \u001b[94mtrain\u001b[0m update_rate: \u001b[1;36m0.003794\u001b[0m     \u001b[1;36m0.134597\u001b[0m                       \u001b]8;id=772168;file:///n/home09/pren/3DGeno_tools/src/gt3d/modules/higashi/Higashi_wrapper.py\u001b\\\u001b[2mHigashi_wrapper.py\u001b[0m\u001b]8;;\u001b\\\u001b[2m:\u001b[0m\u001b]8;id=574440;file:///n/home09/pren/3DGeno_tools/src/gt3d/modules/higashi/Higashi_wrapper.py#1323\u001b\\\u001b[2m1323\u001b[0m\u001b]8;;\u001b\\\n"
      ]
     },
     "metadata": {},
     "output_type": "display_data"
    },
    {
     "data": {
      "text/html": [
       "<pre style=\"white-space:pre;overflow-x:auto;line-height:normal;font-family:Menlo,'DejaVu Sans Mono',consolas,'Courier New',monospace\"><span style=\"color: #7fbfbf; text-decoration-color: #7fbfbf\">                    </span><span style=\"color: #000080; text-decoration-color: #000080\">INFO    </span> <span style=\"color: #0000ff; text-decoration-color: #0000ff\">train</span> <span style=\"font-weight: bold\">[</span> Epoch <span style=\"color: #008080; text-decoration-color: #008080; font-weight: bold\">46</span> of <span style=\"color: #008080; text-decoration-color: #008080; font-weight: bold\">65</span> <span style=\"font-weight: bold\">]</span>                                       <a href=\"file:///n/home09/pren/3DGeno_tools/src/gt3d/modules/higashi/Higashi_wrapper.py\" target=\"_blank\"><span style=\"color: #7f7f7f; text-decoration-color: #7f7f7f\">Higashi_wrapper.py</span></a><span style=\"color: #7f7f7f; text-decoration-color: #7f7f7f\">:</span><a href=\"file:///n/home09/pren/3DGeno_tools/src/gt3d/modules/higashi/Higashi_wrapper.py#1245\" target=\"_blank\"><span style=\"color: #7f7f7f; text-decoration-color: #7f7f7f\">1245</span></a>\n",
       "</pre>\n"
      ],
      "text/plain": [
       "\u001b[2;36m                   \u001b[0m\u001b[2;36m \u001b[0m\u001b[34mINFO    \u001b[0m \u001b[94mtrain\u001b[0m \u001b[1m[\u001b[0m Epoch \u001b[1;36m46\u001b[0m of \u001b[1;36m65\u001b[0m \u001b[1m]\u001b[0m                                       \u001b]8;id=223477;file:///n/home09/pren/3DGeno_tools/src/gt3d/modules/higashi/Higashi_wrapper.py\u001b\\\u001b[2mHigashi_wrapper.py\u001b[0m\u001b]8;;\u001b\\\u001b[2m:\u001b[0m\u001b]8;id=820529;file:///n/home09/pren/3DGeno_tools/src/gt3d/modules/higashi/Higashi_wrapper.py#1245\u001b\\\u001b[2m1245\u001b[0m\u001b]8;;\u001b\\\n"
      ]
     },
     "metadata": {},
     "output_type": "display_data"
    },
    {
     "data": {
      "application/vnd.jupyter.widget-view+json": {
       "model_id": "2aaa28a91dba42738750e100df694691",
       "version_major": 2,
       "version_minor": 0
      },
      "text/plain": [
       "Output()"
      ]
     },
     "metadata": {},
     "output_type": "display_data"
    },
    {
     "data": {
      "text/html": [
       "<pre style=\"white-space:pre;overflow-x:auto;line-height:normal;font-family:Menlo,'DejaVu Sans Mono',consolas,'Courier New',monospace\"></pre>\n"
      ],
      "text/plain": []
     },
     "metadata": {},
     "output_type": "display_data"
    },
    {
     "data": {
      "text/html": [
       "<pre style=\"white-space:pre;overflow-x:auto;line-height:normal;font-family:Menlo,'DejaVu Sans Mono',consolas,'Courier New',monospace\"><span style=\"color: #7fbfbf; text-decoration-color: #7fbfbf\">[12/07/24 15:40:42] </span><span style=\"color: #000080; text-decoration-color: #000080\">INFO    </span> <span style=\"color: #0000ff; text-decoration-color: #0000ff\">train</span>  - <span style=\"font-weight: bold\">(</span>Train<span style=\"font-weight: bold\">)</span> bce:  <span style=\"color: #008080; text-decoration-color: #008080; font-weight: bold\">0.3122</span>, mse:  <span style=\"color: #008080; text-decoration-color: #008080; font-weight: bold\">0.8615</span>,  acc: <span style=\"color: #008080; text-decoration-color: #008080; font-weight: bold\">90.088</span> %,   <a href=\"file:///n/home09/pren/3DGeno_tools/src/gt3d/modules/higashi/Higashi_wrapper.py\" target=\"_blank\"><span style=\"color: #7f7f7f; text-decoration-color: #7f7f7f\">Higashi_wrapper.py</span></a><span style=\"color: #7f7f7f; text-decoration-color: #7f7f7f\">:</span><a href=\"file:///n/home09/pren/3DGeno_tools/src/gt3d/modules/higashi/Higashi_wrapper.py#1258\" target=\"_blank\"><span style=\"color: #7f7f7f; text-decoration-color: #7f7f7f\">1258</span></a>\n",
       "<span style=\"color: #7fbfbf; text-decoration-color: #7fbfbf\">                    </span>         pearson: <span style=\"color: #008080; text-decoration-color: #008080; font-weight: bold\">0.692</span>, spearman: <span style=\"color: #008080; text-decoration-color: #008080; font-weight: bold\">0.584</span>, elapse: <span style=\"color: #008080; text-decoration-color: #008080; font-weight: bold\">90.125</span> s              <span style=\"color: #7f7f7f; text-decoration-color: #7f7f7f\">                       </span>\n",
       "</pre>\n"
      ],
      "text/plain": [
       "\u001b[2;36m[12/07/24 15:40:42]\u001b[0m\u001b[2;36m \u001b[0m\u001b[34mINFO    \u001b[0m \u001b[94mtrain\u001b[0m  - \u001b[1m(\u001b[0mTrain\u001b[1m)\u001b[0m bce:  \u001b[1;36m0.3122\u001b[0m, mse:  \u001b[1;36m0.8615\u001b[0m,  acc: \u001b[1;36m90.088\u001b[0m %,   \u001b]8;id=744088;file:///n/home09/pren/3DGeno_tools/src/gt3d/modules/higashi/Higashi_wrapper.py\u001b\\\u001b[2mHigashi_wrapper.py\u001b[0m\u001b]8;;\u001b\\\u001b[2m:\u001b[0m\u001b]8;id=669654;file:///n/home09/pren/3DGeno_tools/src/gt3d/modules/higashi/Higashi_wrapper.py#1258\u001b\\\u001b[2m1258\u001b[0m\u001b]8;;\u001b\\\n",
       "\u001b[2;36m                    \u001b[0m         pearson: \u001b[1;36m0.692\u001b[0m, spearman: \u001b[1;36m0.584\u001b[0m, elapse: \u001b[1;36m90.125\u001b[0m s              \u001b[2m                       \u001b[0m\n"
      ]
     },
     "metadata": {},
     "output_type": "display_data"
    },
    {
     "data": {
      "application/vnd.jupyter.widget-view+json": {
       "model_id": "b9aae961ac764edcac4195c0c9cfdbbf",
       "version_major": 2,
       "version_minor": 0
      },
      "text/plain": [
       "Output()"
      ]
     },
     "metadata": {},
     "output_type": "display_data"
    },
    {
     "data": {
      "text/html": [
       "<pre style=\"white-space:pre;overflow-x:auto;line-height:normal;font-family:Menlo,'DejaVu Sans Mono',consolas,'Courier New',monospace\"></pre>\n"
      ],
      "text/plain": []
     },
     "metadata": {},
     "output_type": "display_data"
    },
    {
     "data": {
      "text/html": [
       "<pre style=\"white-space:pre;overflow-x:auto;line-height:normal;font-family:Menlo,'DejaVu Sans Mono',consolas,'Courier New',monospace\"><span style=\"color: #7fbfbf; text-decoration-color: #7fbfbf\">                    </span><span style=\"color: #000080; text-decoration-color: #000080\">INFO    </span> <span style=\"color: #0000ff; text-decoration-color: #0000ff\">train</span>  - <span style=\"font-weight: bold\">(</span>Valid<span style=\"font-weight: bold\">)</span> bce:  <span style=\"color: #008080; text-decoration-color: #008080; font-weight: bold\">0.3810</span>,  acc: <span style=\"color: #008080; text-decoration-color: #008080; font-weight: bold\">89.036</span> %,pearson: <span style=\"color: #008080; text-decoration-color: #008080; font-weight: bold\">0.641</span>,  <a href=\"file:///n/home09/pren/3DGeno_tools/src/gt3d/modules/higashi/Higashi_wrapper.py\" target=\"_blank\"><span style=\"color: #7f7f7f; text-decoration-color: #7f7f7f\">Higashi_wrapper.py</span></a><span style=\"color: #7f7f7f; text-decoration-color: #7f7f7f\">:</span><a href=\"file:///n/home09/pren/3DGeno_tools/src/gt3d/modules/higashi/Higashi_wrapper.py#1277\" target=\"_blank\"><span style=\"color: #7f7f7f; text-decoration-color: #7f7f7f\">1277</span></a>\n",
       "<span style=\"color: #7fbfbf; text-decoration-color: #7fbfbf\">                    </span>         spearman: <span style=\"color: #008080; text-decoration-color: #008080; font-weight: bold\">0.560</span>,elapse: <span style=\"color: #008080; text-decoration-color: #008080; font-weight: bold\">0.051</span> s                                <span style=\"color: #7f7f7f; text-decoration-color: #7f7f7f\">                       </span>\n",
       "</pre>\n"
      ],
      "text/plain": [
       "\u001b[2;36m                   \u001b[0m\u001b[2;36m \u001b[0m\u001b[34mINFO    \u001b[0m \u001b[94mtrain\u001b[0m  - \u001b[1m(\u001b[0mValid\u001b[1m)\u001b[0m bce:  \u001b[1;36m0.3810\u001b[0m,  acc: \u001b[1;36m89.036\u001b[0m %,pearson: \u001b[1;36m0.641\u001b[0m,  \u001b]8;id=37068;file:///n/home09/pren/3DGeno_tools/src/gt3d/modules/higashi/Higashi_wrapper.py\u001b\\\u001b[2mHigashi_wrapper.py\u001b[0m\u001b]8;;\u001b\\\u001b[2m:\u001b[0m\u001b]8;id=517167;file:///n/home09/pren/3DGeno_tools/src/gt3d/modules/higashi/Higashi_wrapper.py#1277\u001b\\\u001b[2m1277\u001b[0m\u001b]8;;\u001b\\\n",
       "\u001b[2;36m                    \u001b[0m         spearman: \u001b[1;36m0.560\u001b[0m,elapse: \u001b[1;36m0.051\u001b[0m s                                \u001b[2m                       \u001b[0m\n"
      ]
     },
     "metadata": {},
     "output_type": "display_data"
    },
    {
     "data": {
      "text/html": [
       "<pre style=\"white-space:pre;overflow-x:auto;line-height:normal;font-family:Menlo,'DejaVu Sans Mono',consolas,'Courier New',monospace\"><span style=\"color: #7fbfbf; text-decoration-color: #7fbfbf\">                    </span><span style=\"color: #000080; text-decoration-color: #000080\">INFO    </span> <span style=\"color: #0000ff; text-decoration-color: #0000ff\">train</span> update_rate: <span style=\"color: #008080; text-decoration-color: #008080; font-weight: bold\">0.002891</span>     <span style=\"color: #008080; text-decoration-color: #008080; font-weight: bold\">0.092899</span>                       <a href=\"file:///n/home09/pren/3DGeno_tools/src/gt3d/modules/higashi/Higashi_wrapper.py\" target=\"_blank\"><span style=\"color: #7f7f7f; text-decoration-color: #7f7f7f\">Higashi_wrapper.py</span></a><span style=\"color: #7f7f7f; text-decoration-color: #7f7f7f\">:</span><a href=\"file:///n/home09/pren/3DGeno_tools/src/gt3d/modules/higashi/Higashi_wrapper.py#1323\" target=\"_blank\"><span style=\"color: #7f7f7f; text-decoration-color: #7f7f7f\">1323</span></a>\n",
       "</pre>\n"
      ],
      "text/plain": [
       "\u001b[2;36m                   \u001b[0m\u001b[2;36m \u001b[0m\u001b[34mINFO    \u001b[0m \u001b[94mtrain\u001b[0m update_rate: \u001b[1;36m0.002891\u001b[0m     \u001b[1;36m0.092899\u001b[0m                       \u001b]8;id=930719;file:///n/home09/pren/3DGeno_tools/src/gt3d/modules/higashi/Higashi_wrapper.py\u001b\\\u001b[2mHigashi_wrapper.py\u001b[0m\u001b]8;;\u001b\\\u001b[2m:\u001b[0m\u001b]8;id=175643;file:///n/home09/pren/3DGeno_tools/src/gt3d/modules/higashi/Higashi_wrapper.py#1323\u001b\\\u001b[2m1323\u001b[0m\u001b]8;;\u001b\\\n"
      ]
     },
     "metadata": {},
     "output_type": "display_data"
    },
    {
     "data": {
      "text/html": [
       "<pre style=\"white-space:pre;overflow-x:auto;line-height:normal;font-family:Menlo,'DejaVu Sans Mono',consolas,'Courier New',monospace\"><span style=\"color: #7fbfbf; text-decoration-color: #7fbfbf\">                    </span><span style=\"color: #000080; text-decoration-color: #000080\">INFO    </span> <span style=\"color: #0000ff; text-decoration-color: #0000ff\">train</span> <span style=\"font-weight: bold\">[</span> Epoch <span style=\"color: #008080; text-decoration-color: #008080; font-weight: bold\">47</span> of <span style=\"color: #008080; text-decoration-color: #008080; font-weight: bold\">65</span> <span style=\"font-weight: bold\">]</span>                                       <a href=\"file:///n/home09/pren/3DGeno_tools/src/gt3d/modules/higashi/Higashi_wrapper.py\" target=\"_blank\"><span style=\"color: #7f7f7f; text-decoration-color: #7f7f7f\">Higashi_wrapper.py</span></a><span style=\"color: #7f7f7f; text-decoration-color: #7f7f7f\">:</span><a href=\"file:///n/home09/pren/3DGeno_tools/src/gt3d/modules/higashi/Higashi_wrapper.py#1245\" target=\"_blank\"><span style=\"color: #7f7f7f; text-decoration-color: #7f7f7f\">1245</span></a>\n",
       "</pre>\n"
      ],
      "text/plain": [
       "\u001b[2;36m                   \u001b[0m\u001b[2;36m \u001b[0m\u001b[34mINFO    \u001b[0m \u001b[94mtrain\u001b[0m \u001b[1m[\u001b[0m Epoch \u001b[1;36m47\u001b[0m of \u001b[1;36m65\u001b[0m \u001b[1m]\u001b[0m                                       \u001b]8;id=748379;file:///n/home09/pren/3DGeno_tools/src/gt3d/modules/higashi/Higashi_wrapper.py\u001b\\\u001b[2mHigashi_wrapper.py\u001b[0m\u001b]8;;\u001b\\\u001b[2m:\u001b[0m\u001b]8;id=921179;file:///n/home09/pren/3DGeno_tools/src/gt3d/modules/higashi/Higashi_wrapper.py#1245\u001b\\\u001b[2m1245\u001b[0m\u001b]8;;\u001b\\\n"
      ]
     },
     "metadata": {},
     "output_type": "display_data"
    },
    {
     "data": {
      "application/vnd.jupyter.widget-view+json": {
       "model_id": "b0eccc8d360e44929c522dc131d2b40d",
       "version_major": 2,
       "version_minor": 0
      },
      "text/plain": [
       "Output()"
      ]
     },
     "metadata": {},
     "output_type": "display_data"
    },
    {
     "data": {
      "text/html": [
       "<pre style=\"white-space:pre;overflow-x:auto;line-height:normal;font-family:Menlo,'DejaVu Sans Mono',consolas,'Courier New',monospace\"></pre>\n"
      ],
      "text/plain": []
     },
     "metadata": {},
     "output_type": "display_data"
    },
    {
     "data": {
      "text/html": [
       "<pre style=\"white-space:pre;overflow-x:auto;line-height:normal;font-family:Menlo,'DejaVu Sans Mono',consolas,'Courier New',monospace\"><span style=\"color: #7fbfbf; text-decoration-color: #7fbfbf\">[12/07/24 15:42:11] </span><span style=\"color: #000080; text-decoration-color: #000080\">INFO    </span> <span style=\"color: #0000ff; text-decoration-color: #0000ff\">train</span>  - <span style=\"font-weight: bold\">(</span>Train<span style=\"font-weight: bold\">)</span> bce:  <span style=\"color: #008080; text-decoration-color: #008080; font-weight: bold\">0.3103</span>, mse:  <span style=\"color: #008080; text-decoration-color: #008080; font-weight: bold\">0.8678</span>,  acc: <span style=\"color: #008080; text-decoration-color: #008080; font-weight: bold\">90.192</span> %,   <a href=\"file:///n/home09/pren/3DGeno_tools/src/gt3d/modules/higashi/Higashi_wrapper.py\" target=\"_blank\"><span style=\"color: #7f7f7f; text-decoration-color: #7f7f7f\">Higashi_wrapper.py</span></a><span style=\"color: #7f7f7f; text-decoration-color: #7f7f7f\">:</span><a href=\"file:///n/home09/pren/3DGeno_tools/src/gt3d/modules/higashi/Higashi_wrapper.py#1258\" target=\"_blank\"><span style=\"color: #7f7f7f; text-decoration-color: #7f7f7f\">1258</span></a>\n",
       "<span style=\"color: #7fbfbf; text-decoration-color: #7fbfbf\">                    </span>         pearson: <span style=\"color: #008080; text-decoration-color: #008080; font-weight: bold\">0.695</span>, spearman: <span style=\"color: #008080; text-decoration-color: #008080; font-weight: bold\">0.584</span>, elapse: <span style=\"color: #008080; text-decoration-color: #008080; font-weight: bold\">89.112</span> s              <span style=\"color: #7f7f7f; text-decoration-color: #7f7f7f\">                       </span>\n",
       "</pre>\n"
      ],
      "text/plain": [
       "\u001b[2;36m[12/07/24 15:42:11]\u001b[0m\u001b[2;36m \u001b[0m\u001b[34mINFO    \u001b[0m \u001b[94mtrain\u001b[0m  - \u001b[1m(\u001b[0mTrain\u001b[1m)\u001b[0m bce:  \u001b[1;36m0.3103\u001b[0m, mse:  \u001b[1;36m0.8678\u001b[0m,  acc: \u001b[1;36m90.192\u001b[0m %,   \u001b]8;id=822673;file:///n/home09/pren/3DGeno_tools/src/gt3d/modules/higashi/Higashi_wrapper.py\u001b\\\u001b[2mHigashi_wrapper.py\u001b[0m\u001b]8;;\u001b\\\u001b[2m:\u001b[0m\u001b]8;id=6798;file:///n/home09/pren/3DGeno_tools/src/gt3d/modules/higashi/Higashi_wrapper.py#1258\u001b\\\u001b[2m1258\u001b[0m\u001b]8;;\u001b\\\n",
       "\u001b[2;36m                    \u001b[0m         pearson: \u001b[1;36m0.695\u001b[0m, spearman: \u001b[1;36m0.584\u001b[0m, elapse: \u001b[1;36m89.112\u001b[0m s              \u001b[2m                       \u001b[0m\n"
      ]
     },
     "metadata": {},
     "output_type": "display_data"
    },
    {
     "data": {
      "application/vnd.jupyter.widget-view+json": {
       "model_id": "b47c4a03df944160aa8d9c01158a73b0",
       "version_major": 2,
       "version_minor": 0
      },
      "text/plain": [
       "Output()"
      ]
     },
     "metadata": {},
     "output_type": "display_data"
    },
    {
     "data": {
      "text/html": [
       "<pre style=\"white-space:pre;overflow-x:auto;line-height:normal;font-family:Menlo,'DejaVu Sans Mono',consolas,'Courier New',monospace\"></pre>\n"
      ],
      "text/plain": []
     },
     "metadata": {},
     "output_type": "display_data"
    },
    {
     "data": {
      "text/html": [
       "<pre style=\"white-space:pre;overflow-x:auto;line-height:normal;font-family:Menlo,'DejaVu Sans Mono',consolas,'Courier New',monospace\"><span style=\"color: #7fbfbf; text-decoration-color: #7fbfbf\">                    </span><span style=\"color: #000080; text-decoration-color: #000080\">INFO    </span> <span style=\"color: #0000ff; text-decoration-color: #0000ff\">train</span>  - <span style=\"font-weight: bold\">(</span>Valid<span style=\"font-weight: bold\">)</span> bce:  <span style=\"color: #008080; text-decoration-color: #008080; font-weight: bold\">0.3822</span>,  acc: <span style=\"color: #008080; text-decoration-color: #008080; font-weight: bold\">89.896</span> %,pearson: <span style=\"color: #008080; text-decoration-color: #008080; font-weight: bold\">0.660</span>,  <a href=\"file:///n/home09/pren/3DGeno_tools/src/gt3d/modules/higashi/Higashi_wrapper.py\" target=\"_blank\"><span style=\"color: #7f7f7f; text-decoration-color: #7f7f7f\">Higashi_wrapper.py</span></a><span style=\"color: #7f7f7f; text-decoration-color: #7f7f7f\">:</span><a href=\"file:///n/home09/pren/3DGeno_tools/src/gt3d/modules/higashi/Higashi_wrapper.py#1277\" target=\"_blank\"><span style=\"color: #7f7f7f; text-decoration-color: #7f7f7f\">1277</span></a>\n",
       "<span style=\"color: #7fbfbf; text-decoration-color: #7fbfbf\">                    </span>         spearman: <span style=\"color: #008080; text-decoration-color: #008080; font-weight: bold\">0.576</span>,elapse: <span style=\"color: #008080; text-decoration-color: #008080; font-weight: bold\">0.052</span> s                                <span style=\"color: #7f7f7f; text-decoration-color: #7f7f7f\">                       </span>\n",
       "</pre>\n"
      ],
      "text/plain": [
       "\u001b[2;36m                   \u001b[0m\u001b[2;36m \u001b[0m\u001b[34mINFO    \u001b[0m \u001b[94mtrain\u001b[0m  - \u001b[1m(\u001b[0mValid\u001b[1m)\u001b[0m bce:  \u001b[1;36m0.3822\u001b[0m,  acc: \u001b[1;36m89.896\u001b[0m %,pearson: \u001b[1;36m0.660\u001b[0m,  \u001b]8;id=747135;file:///n/home09/pren/3DGeno_tools/src/gt3d/modules/higashi/Higashi_wrapper.py\u001b\\\u001b[2mHigashi_wrapper.py\u001b[0m\u001b]8;;\u001b\\\u001b[2m:\u001b[0m\u001b]8;id=92403;file:///n/home09/pren/3DGeno_tools/src/gt3d/modules/higashi/Higashi_wrapper.py#1277\u001b\\\u001b[2m1277\u001b[0m\u001b]8;;\u001b\\\n",
       "\u001b[2;36m                    \u001b[0m         spearman: \u001b[1;36m0.576\u001b[0m,elapse: \u001b[1;36m0.052\u001b[0m s                                \u001b[2m                       \u001b[0m\n"
      ]
     },
     "metadata": {},
     "output_type": "display_data"
    },
    {
     "data": {
      "text/html": [
       "<pre style=\"white-space:pre;overflow-x:auto;line-height:normal;font-family:Menlo,'DejaVu Sans Mono',consolas,'Courier New',monospace\"><span style=\"color: #7fbfbf; text-decoration-color: #7fbfbf\">                    </span><span style=\"color: #000080; text-decoration-color: #000080\">INFO    </span> <span style=\"color: #0000ff; text-decoration-color: #0000ff\">train</span> update_rate: <span style=\"color: #008080; text-decoration-color: #008080; font-weight: bold\">0.002112</span>     <span style=\"color: #008080; text-decoration-color: #008080; font-weight: bold\">0.127064</span>                       <a href=\"file:///n/home09/pren/3DGeno_tools/src/gt3d/modules/higashi/Higashi_wrapper.py\" target=\"_blank\"><span style=\"color: #7f7f7f; text-decoration-color: #7f7f7f\">Higashi_wrapper.py</span></a><span style=\"color: #7f7f7f; text-decoration-color: #7f7f7f\">:</span><a href=\"file:///n/home09/pren/3DGeno_tools/src/gt3d/modules/higashi/Higashi_wrapper.py#1323\" target=\"_blank\"><span style=\"color: #7f7f7f; text-decoration-color: #7f7f7f\">1323</span></a>\n",
       "</pre>\n"
      ],
      "text/plain": [
       "\u001b[2;36m                   \u001b[0m\u001b[2;36m \u001b[0m\u001b[34mINFO    \u001b[0m \u001b[94mtrain\u001b[0m update_rate: \u001b[1;36m0.002112\u001b[0m     \u001b[1;36m0.127064\u001b[0m                       \u001b]8;id=893376;file:///n/home09/pren/3DGeno_tools/src/gt3d/modules/higashi/Higashi_wrapper.py\u001b\\\u001b[2mHigashi_wrapper.py\u001b[0m\u001b]8;;\u001b\\\u001b[2m:\u001b[0m\u001b]8;id=856115;file:///n/home09/pren/3DGeno_tools/src/gt3d/modules/higashi/Higashi_wrapper.py#1323\u001b\\\u001b[2m1323\u001b[0m\u001b]8;;\u001b\\\n"
      ]
     },
     "metadata": {},
     "output_type": "display_data"
    },
    {
     "data": {
      "text/html": [
       "<pre style=\"white-space:pre;overflow-x:auto;line-height:normal;font-family:Menlo,'DejaVu Sans Mono',consolas,'Courier New',monospace\"><span style=\"color: #7fbfbf; text-decoration-color: #7fbfbf\">                    </span><span style=\"color: #000080; text-decoration-color: #000080\">INFO    </span> <span style=\"color: #0000ff; text-decoration-color: #0000ff\">train</span> <span style=\"font-weight: bold\">[</span> Epoch <span style=\"color: #008080; text-decoration-color: #008080; font-weight: bold\">48</span> of <span style=\"color: #008080; text-decoration-color: #008080; font-weight: bold\">65</span> <span style=\"font-weight: bold\">]</span>                                       <a href=\"file:///n/home09/pren/3DGeno_tools/src/gt3d/modules/higashi/Higashi_wrapper.py\" target=\"_blank\"><span style=\"color: #7f7f7f; text-decoration-color: #7f7f7f\">Higashi_wrapper.py</span></a><span style=\"color: #7f7f7f; text-decoration-color: #7f7f7f\">:</span><a href=\"file:///n/home09/pren/3DGeno_tools/src/gt3d/modules/higashi/Higashi_wrapper.py#1245\" target=\"_blank\"><span style=\"color: #7f7f7f; text-decoration-color: #7f7f7f\">1245</span></a>\n",
       "</pre>\n"
      ],
      "text/plain": [
       "\u001b[2;36m                   \u001b[0m\u001b[2;36m \u001b[0m\u001b[34mINFO    \u001b[0m \u001b[94mtrain\u001b[0m \u001b[1m[\u001b[0m Epoch \u001b[1;36m48\u001b[0m of \u001b[1;36m65\u001b[0m \u001b[1m]\u001b[0m                                       \u001b]8;id=221924;file:///n/home09/pren/3DGeno_tools/src/gt3d/modules/higashi/Higashi_wrapper.py\u001b\\\u001b[2mHigashi_wrapper.py\u001b[0m\u001b]8;;\u001b\\\u001b[2m:\u001b[0m\u001b]8;id=901898;file:///n/home09/pren/3DGeno_tools/src/gt3d/modules/higashi/Higashi_wrapper.py#1245\u001b\\\u001b[2m1245\u001b[0m\u001b]8;;\u001b\\\n"
      ]
     },
     "metadata": {},
     "output_type": "display_data"
    },
    {
     "data": {
      "application/vnd.jupyter.widget-view+json": {
       "model_id": "c34c044b94694cbaa8674119070d7575",
       "version_major": 2,
       "version_minor": 0
      },
      "text/plain": [
       "Output()"
      ]
     },
     "metadata": {},
     "output_type": "display_data"
    },
    {
     "data": {
      "text/html": [
       "<pre style=\"white-space:pre;overflow-x:auto;line-height:normal;font-family:Menlo,'DejaVu Sans Mono',consolas,'Courier New',monospace\"></pre>\n"
      ],
      "text/plain": []
     },
     "metadata": {},
     "output_type": "display_data"
    },
    {
     "data": {
      "text/html": [
       "<pre style=\"white-space:pre;overflow-x:auto;line-height:normal;font-family:Menlo,'DejaVu Sans Mono',consolas,'Courier New',monospace\"><span style=\"color: #7fbfbf; text-decoration-color: #7fbfbf\">[12/07/24 15:43:41] </span><span style=\"color: #000080; text-decoration-color: #000080\">INFO    </span> <span style=\"color: #0000ff; text-decoration-color: #0000ff\">train</span>  - <span style=\"font-weight: bold\">(</span>Train<span style=\"font-weight: bold\">)</span> bce:  <span style=\"color: #008080; text-decoration-color: #008080; font-weight: bold\">0.3085</span>, mse:  <span style=\"color: #008080; text-decoration-color: #008080; font-weight: bold\">0.8721</span>,  acc: <span style=\"color: #008080; text-decoration-color: #008080; font-weight: bold\">90.313</span> %,   <a href=\"file:///n/home09/pren/3DGeno_tools/src/gt3d/modules/higashi/Higashi_wrapper.py\" target=\"_blank\"><span style=\"color: #7f7f7f; text-decoration-color: #7f7f7f\">Higashi_wrapper.py</span></a><span style=\"color: #7f7f7f; text-decoration-color: #7f7f7f\">:</span><a href=\"file:///n/home09/pren/3DGeno_tools/src/gt3d/modules/higashi/Higashi_wrapper.py#1258\" target=\"_blank\"><span style=\"color: #7f7f7f; text-decoration-color: #7f7f7f\">1258</span></a>\n",
       "<span style=\"color: #7fbfbf; text-decoration-color: #7fbfbf\">                    </span>         pearson: <span style=\"color: #008080; text-decoration-color: #008080; font-weight: bold\">0.698</span>, spearman: <span style=\"color: #008080; text-decoration-color: #008080; font-weight: bold\">0.587</span>, elapse: <span style=\"color: #008080; text-decoration-color: #008080; font-weight: bold\">89.180</span> s              <span style=\"color: #7f7f7f; text-decoration-color: #7f7f7f\">                       </span>\n",
       "</pre>\n"
      ],
      "text/plain": [
       "\u001b[2;36m[12/07/24 15:43:41]\u001b[0m\u001b[2;36m \u001b[0m\u001b[34mINFO    \u001b[0m \u001b[94mtrain\u001b[0m  - \u001b[1m(\u001b[0mTrain\u001b[1m)\u001b[0m bce:  \u001b[1;36m0.3085\u001b[0m, mse:  \u001b[1;36m0.8721\u001b[0m,  acc: \u001b[1;36m90.313\u001b[0m %,   \u001b]8;id=607699;file:///n/home09/pren/3DGeno_tools/src/gt3d/modules/higashi/Higashi_wrapper.py\u001b\\\u001b[2mHigashi_wrapper.py\u001b[0m\u001b]8;;\u001b\\\u001b[2m:\u001b[0m\u001b]8;id=232415;file:///n/home09/pren/3DGeno_tools/src/gt3d/modules/higashi/Higashi_wrapper.py#1258\u001b\\\u001b[2m1258\u001b[0m\u001b]8;;\u001b\\\n",
       "\u001b[2;36m                    \u001b[0m         pearson: \u001b[1;36m0.698\u001b[0m, spearman: \u001b[1;36m0.587\u001b[0m, elapse: \u001b[1;36m89.180\u001b[0m s              \u001b[2m                       \u001b[0m\n"
      ]
     },
     "metadata": {},
     "output_type": "display_data"
    },
    {
     "data": {
      "application/vnd.jupyter.widget-view+json": {
       "model_id": "8e799f1d91024d429aec6aa8b42bafff",
       "version_major": 2,
       "version_minor": 0
      },
      "text/plain": [
       "Output()"
      ]
     },
     "metadata": {},
     "output_type": "display_data"
    },
    {
     "data": {
      "text/html": [
       "<pre style=\"white-space:pre;overflow-x:auto;line-height:normal;font-family:Menlo,'DejaVu Sans Mono',consolas,'Courier New',monospace\"></pre>\n"
      ],
      "text/plain": []
     },
     "metadata": {},
     "output_type": "display_data"
    },
    {
     "data": {
      "text/html": [
       "<pre style=\"white-space:pre;overflow-x:auto;line-height:normal;font-family:Menlo,'DejaVu Sans Mono',consolas,'Courier New',monospace\"><span style=\"color: #7fbfbf; text-decoration-color: #7fbfbf\">                    </span><span style=\"color: #000080; text-decoration-color: #000080\">INFO    </span> <span style=\"color: #0000ff; text-decoration-color: #0000ff\">train</span>  - <span style=\"font-weight: bold\">(</span>Valid<span style=\"font-weight: bold\">)</span> bce:  <span style=\"color: #008080; text-decoration-color: #008080; font-weight: bold\">0.3763</span>,  acc: <span style=\"color: #008080; text-decoration-color: #008080; font-weight: bold\">88.737</span> %,pearson: <span style=\"color: #008080; text-decoration-color: #008080; font-weight: bold\">0.630</span>,  <a href=\"file:///n/home09/pren/3DGeno_tools/src/gt3d/modules/higashi/Higashi_wrapper.py\" target=\"_blank\"><span style=\"color: #7f7f7f; text-decoration-color: #7f7f7f\">Higashi_wrapper.py</span></a><span style=\"color: #7f7f7f; text-decoration-color: #7f7f7f\">:</span><a href=\"file:///n/home09/pren/3DGeno_tools/src/gt3d/modules/higashi/Higashi_wrapper.py#1277\" target=\"_blank\"><span style=\"color: #7f7f7f; text-decoration-color: #7f7f7f\">1277</span></a>\n",
       "<span style=\"color: #7fbfbf; text-decoration-color: #7fbfbf\">                    </span>         spearman: <span style=\"color: #008080; text-decoration-color: #008080; font-weight: bold\">0.554</span>,elapse: <span style=\"color: #008080; text-decoration-color: #008080; font-weight: bold\">0.052</span> s                                <span style=\"color: #7f7f7f; text-decoration-color: #7f7f7f\">                       </span>\n",
       "</pre>\n"
      ],
      "text/plain": [
       "\u001b[2;36m                   \u001b[0m\u001b[2;36m \u001b[0m\u001b[34mINFO    \u001b[0m \u001b[94mtrain\u001b[0m  - \u001b[1m(\u001b[0mValid\u001b[1m)\u001b[0m bce:  \u001b[1;36m0.3763\u001b[0m,  acc: \u001b[1;36m88.737\u001b[0m %,pearson: \u001b[1;36m0.630\u001b[0m,  \u001b]8;id=844394;file:///n/home09/pren/3DGeno_tools/src/gt3d/modules/higashi/Higashi_wrapper.py\u001b\\\u001b[2mHigashi_wrapper.py\u001b[0m\u001b]8;;\u001b\\\u001b[2m:\u001b[0m\u001b]8;id=624019;file:///n/home09/pren/3DGeno_tools/src/gt3d/modules/higashi/Higashi_wrapper.py#1277\u001b\\\u001b[2m1277\u001b[0m\u001b]8;;\u001b\\\n",
       "\u001b[2;36m                    \u001b[0m         spearman: \u001b[1;36m0.554\u001b[0m,elapse: \u001b[1;36m0.052\u001b[0m s                                \u001b[2m                       \u001b[0m\n"
      ]
     },
     "metadata": {},
     "output_type": "display_data"
    },
    {
     "data": {
      "text/html": [
       "<pre style=\"white-space:pre;overflow-x:auto;line-height:normal;font-family:Menlo,'DejaVu Sans Mono',consolas,'Courier New',monospace\"><span style=\"color: #7fbfbf; text-decoration-color: #7fbfbf\">                    </span><span style=\"color: #000080; text-decoration-color: #000080\">INFO    </span> <span style=\"color: #0000ff; text-decoration-color: #0000ff\">train</span> update_rate: <span style=\"color: #008080; text-decoration-color: #008080; font-weight: bold\">0.002968</span>     <span style=\"color: #008080; text-decoration-color: #008080; font-weight: bold\">0.146045</span>                       <a href=\"file:///n/home09/pren/3DGeno_tools/src/gt3d/modules/higashi/Higashi_wrapper.py\" target=\"_blank\"><span style=\"color: #7f7f7f; text-decoration-color: #7f7f7f\">Higashi_wrapper.py</span></a><span style=\"color: #7f7f7f; text-decoration-color: #7f7f7f\">:</span><a href=\"file:///n/home09/pren/3DGeno_tools/src/gt3d/modules/higashi/Higashi_wrapper.py#1323\" target=\"_blank\"><span style=\"color: #7f7f7f; text-decoration-color: #7f7f7f\">1323</span></a>\n",
       "</pre>\n"
      ],
      "text/plain": [
       "\u001b[2;36m                   \u001b[0m\u001b[2;36m \u001b[0m\u001b[34mINFO    \u001b[0m \u001b[94mtrain\u001b[0m update_rate: \u001b[1;36m0.002968\u001b[0m     \u001b[1;36m0.146045\u001b[0m                       \u001b]8;id=112618;file:///n/home09/pren/3DGeno_tools/src/gt3d/modules/higashi/Higashi_wrapper.py\u001b\\\u001b[2mHigashi_wrapper.py\u001b[0m\u001b]8;;\u001b\\\u001b[2m:\u001b[0m\u001b]8;id=778528;file:///n/home09/pren/3DGeno_tools/src/gt3d/modules/higashi/Higashi_wrapper.py#1323\u001b\\\u001b[2m1323\u001b[0m\u001b]8;;\u001b\\\n"
      ]
     },
     "metadata": {},
     "output_type": "display_data"
    },
    {
     "data": {
      "text/html": [
       "<pre style=\"white-space:pre;overflow-x:auto;line-height:normal;font-family:Menlo,'DejaVu Sans Mono',consolas,'Courier New',monospace\"><span style=\"color: #7fbfbf; text-decoration-color: #7fbfbf\">                    </span><span style=\"color: #000080; text-decoration-color: #000080\">INFO    </span> <span style=\"color: #0000ff; text-decoration-color: #0000ff\">train</span> <span style=\"font-weight: bold\">[</span> Epoch <span style=\"color: #008080; text-decoration-color: #008080; font-weight: bold\">49</span> of <span style=\"color: #008080; text-decoration-color: #008080; font-weight: bold\">65</span> <span style=\"font-weight: bold\">]</span>                                       <a href=\"file:///n/home09/pren/3DGeno_tools/src/gt3d/modules/higashi/Higashi_wrapper.py\" target=\"_blank\"><span style=\"color: #7f7f7f; text-decoration-color: #7f7f7f\">Higashi_wrapper.py</span></a><span style=\"color: #7f7f7f; text-decoration-color: #7f7f7f\">:</span><a href=\"file:///n/home09/pren/3DGeno_tools/src/gt3d/modules/higashi/Higashi_wrapper.py#1245\" target=\"_blank\"><span style=\"color: #7f7f7f; text-decoration-color: #7f7f7f\">1245</span></a>\n",
       "</pre>\n"
      ],
      "text/plain": [
       "\u001b[2;36m                   \u001b[0m\u001b[2;36m \u001b[0m\u001b[34mINFO    \u001b[0m \u001b[94mtrain\u001b[0m \u001b[1m[\u001b[0m Epoch \u001b[1;36m49\u001b[0m of \u001b[1;36m65\u001b[0m \u001b[1m]\u001b[0m                                       \u001b]8;id=619066;file:///n/home09/pren/3DGeno_tools/src/gt3d/modules/higashi/Higashi_wrapper.py\u001b\\\u001b[2mHigashi_wrapper.py\u001b[0m\u001b]8;;\u001b\\\u001b[2m:\u001b[0m\u001b]8;id=357156;file:///n/home09/pren/3DGeno_tools/src/gt3d/modules/higashi/Higashi_wrapper.py#1245\u001b\\\u001b[2m1245\u001b[0m\u001b]8;;\u001b\\\n"
      ]
     },
     "metadata": {},
     "output_type": "display_data"
    },
    {
     "data": {
      "application/vnd.jupyter.widget-view+json": {
       "model_id": "ae941f68f6e545919b15799572051a69",
       "version_major": 2,
       "version_minor": 0
      },
      "text/plain": [
       "Output()"
      ]
     },
     "metadata": {},
     "output_type": "display_data"
    },
    {
     "data": {
      "text/html": [
       "<pre style=\"white-space:pre;overflow-x:auto;line-height:normal;font-family:Menlo,'DejaVu Sans Mono',consolas,'Courier New',monospace\"></pre>\n"
      ],
      "text/plain": []
     },
     "metadata": {},
     "output_type": "display_data"
    },
    {
     "data": {
      "text/html": [
       "<pre style=\"white-space:pre;overflow-x:auto;line-height:normal;font-family:Menlo,'DejaVu Sans Mono',consolas,'Courier New',monospace\"><span style=\"color: #7fbfbf; text-decoration-color: #7fbfbf\">[12/07/24 15:45:10] </span><span style=\"color: #000080; text-decoration-color: #000080\">INFO    </span> <span style=\"color: #0000ff; text-decoration-color: #0000ff\">train</span>  - <span style=\"font-weight: bold\">(</span>Train<span style=\"font-weight: bold\">)</span> bce:  <span style=\"color: #008080; text-decoration-color: #008080; font-weight: bold\">0.3113</span>, mse:  <span style=\"color: #008080; text-decoration-color: #008080; font-weight: bold\">0.8876</span>,  acc: <span style=\"color: #008080; text-decoration-color: #008080; font-weight: bold\">90.085</span> %,   <a href=\"file:///n/home09/pren/3DGeno_tools/src/gt3d/modules/higashi/Higashi_wrapper.py\" target=\"_blank\"><span style=\"color: #7f7f7f; text-decoration-color: #7f7f7f\">Higashi_wrapper.py</span></a><span style=\"color: #7f7f7f; text-decoration-color: #7f7f7f\">:</span><a href=\"file:///n/home09/pren/3DGeno_tools/src/gt3d/modules/higashi/Higashi_wrapper.py#1258\" target=\"_blank\"><span style=\"color: #7f7f7f; text-decoration-color: #7f7f7f\">1258</span></a>\n",
       "<span style=\"color: #7fbfbf; text-decoration-color: #7fbfbf\">                    </span>         pearson: <span style=\"color: #008080; text-decoration-color: #008080; font-weight: bold\">0.692</span>, spearman: <span style=\"color: #008080; text-decoration-color: #008080; font-weight: bold\">0.584</span>, elapse: <span style=\"color: #008080; text-decoration-color: #008080; font-weight: bold\">89.451</span> s              <span style=\"color: #7f7f7f; text-decoration-color: #7f7f7f\">                       </span>\n",
       "</pre>\n"
      ],
      "text/plain": [
       "\u001b[2;36m[12/07/24 15:45:10]\u001b[0m\u001b[2;36m \u001b[0m\u001b[34mINFO    \u001b[0m \u001b[94mtrain\u001b[0m  - \u001b[1m(\u001b[0mTrain\u001b[1m)\u001b[0m bce:  \u001b[1;36m0.3113\u001b[0m, mse:  \u001b[1;36m0.8876\u001b[0m,  acc: \u001b[1;36m90.085\u001b[0m %,   \u001b]8;id=140144;file:///n/home09/pren/3DGeno_tools/src/gt3d/modules/higashi/Higashi_wrapper.py\u001b\\\u001b[2mHigashi_wrapper.py\u001b[0m\u001b]8;;\u001b\\\u001b[2m:\u001b[0m\u001b]8;id=480815;file:///n/home09/pren/3DGeno_tools/src/gt3d/modules/higashi/Higashi_wrapper.py#1258\u001b\\\u001b[2m1258\u001b[0m\u001b]8;;\u001b\\\n",
       "\u001b[2;36m                    \u001b[0m         pearson: \u001b[1;36m0.692\u001b[0m, spearman: \u001b[1;36m0.584\u001b[0m, elapse: \u001b[1;36m89.451\u001b[0m s              \u001b[2m                       \u001b[0m\n"
      ]
     },
     "metadata": {},
     "output_type": "display_data"
    },
    {
     "data": {
      "application/vnd.jupyter.widget-view+json": {
       "model_id": "9c5f602406aa4f1a88347c8f58b5da21",
       "version_major": 2,
       "version_minor": 0
      },
      "text/plain": [
       "Output()"
      ]
     },
     "metadata": {},
     "output_type": "display_data"
    },
    {
     "data": {
      "text/html": [
       "<pre style=\"white-space:pre;overflow-x:auto;line-height:normal;font-family:Menlo,'DejaVu Sans Mono',consolas,'Courier New',monospace\"></pre>\n"
      ],
      "text/plain": []
     },
     "metadata": {},
     "output_type": "display_data"
    },
    {
     "data": {
      "text/html": [
       "<pre style=\"white-space:pre;overflow-x:auto;line-height:normal;font-family:Menlo,'DejaVu Sans Mono',consolas,'Courier New',monospace\"><span style=\"color: #7fbfbf; text-decoration-color: #7fbfbf\">                    </span><span style=\"color: #000080; text-decoration-color: #000080\">INFO    </span> <span style=\"color: #0000ff; text-decoration-color: #0000ff\">train</span>  - <span style=\"font-weight: bold\">(</span>Valid<span style=\"font-weight: bold\">)</span> bce:  <span style=\"color: #008080; text-decoration-color: #008080; font-weight: bold\">0.3775</span>,  acc: <span style=\"color: #008080; text-decoration-color: #008080; font-weight: bold\">89.134</span> %,pearson: <span style=\"color: #008080; text-decoration-color: #008080; font-weight: bold\">0.621</span>,  <a href=\"file:///n/home09/pren/3DGeno_tools/src/gt3d/modules/higashi/Higashi_wrapper.py\" target=\"_blank\"><span style=\"color: #7f7f7f; text-decoration-color: #7f7f7f\">Higashi_wrapper.py</span></a><span style=\"color: #7f7f7f; text-decoration-color: #7f7f7f\">:</span><a href=\"file:///n/home09/pren/3DGeno_tools/src/gt3d/modules/higashi/Higashi_wrapper.py#1277\" target=\"_blank\"><span style=\"color: #7f7f7f; text-decoration-color: #7f7f7f\">1277</span></a>\n",
       "<span style=\"color: #7fbfbf; text-decoration-color: #7fbfbf\">                    </span>         spearman: <span style=\"color: #008080; text-decoration-color: #008080; font-weight: bold\">0.557</span>,elapse: <span style=\"color: #008080; text-decoration-color: #008080; font-weight: bold\">0.052</span> s                                <span style=\"color: #7f7f7f; text-decoration-color: #7f7f7f\">                       </span>\n",
       "</pre>\n"
      ],
      "text/plain": [
       "\u001b[2;36m                   \u001b[0m\u001b[2;36m \u001b[0m\u001b[34mINFO    \u001b[0m \u001b[94mtrain\u001b[0m  - \u001b[1m(\u001b[0mValid\u001b[1m)\u001b[0m bce:  \u001b[1;36m0.3775\u001b[0m,  acc: \u001b[1;36m89.134\u001b[0m %,pearson: \u001b[1;36m0.621\u001b[0m,  \u001b]8;id=251920;file:///n/home09/pren/3DGeno_tools/src/gt3d/modules/higashi/Higashi_wrapper.py\u001b\\\u001b[2mHigashi_wrapper.py\u001b[0m\u001b]8;;\u001b\\\u001b[2m:\u001b[0m\u001b]8;id=206659;file:///n/home09/pren/3DGeno_tools/src/gt3d/modules/higashi/Higashi_wrapper.py#1277\u001b\\\u001b[2m1277\u001b[0m\u001b]8;;\u001b\\\n",
       "\u001b[2;36m                    \u001b[0m         spearman: \u001b[1;36m0.557\u001b[0m,elapse: \u001b[1;36m0.052\u001b[0m s                                \u001b[2m                       \u001b[0m\n"
      ]
     },
     "metadata": {},
     "output_type": "display_data"
    },
    {
     "data": {
      "text/html": [
       "<pre style=\"white-space:pre;overflow-x:auto;line-height:normal;font-family:Menlo,'DejaVu Sans Mono',consolas,'Courier New',monospace\"><span style=\"color: #7fbfbf; text-decoration-color: #7fbfbf\">                    </span><span style=\"color: #000080; text-decoration-color: #000080\">INFO    </span> <span style=\"color: #0000ff; text-decoration-color: #0000ff\">train</span> update_rate: <span style=\"color: #008080; text-decoration-color: #008080; font-weight: bold\">0.002583</span>     <span style=\"color: #008080; text-decoration-color: #008080; font-weight: bold\">0.092000</span>                       <a href=\"file:///n/home09/pren/3DGeno_tools/src/gt3d/modules/higashi/Higashi_wrapper.py\" target=\"_blank\"><span style=\"color: #7f7f7f; text-decoration-color: #7f7f7f\">Higashi_wrapper.py</span></a><span style=\"color: #7f7f7f; text-decoration-color: #7f7f7f\">:</span><a href=\"file:///n/home09/pren/3DGeno_tools/src/gt3d/modules/higashi/Higashi_wrapper.py#1323\" target=\"_blank\"><span style=\"color: #7f7f7f; text-decoration-color: #7f7f7f\">1323</span></a>\n",
       "</pre>\n"
      ],
      "text/plain": [
       "\u001b[2;36m                   \u001b[0m\u001b[2;36m \u001b[0m\u001b[34mINFO    \u001b[0m \u001b[94mtrain\u001b[0m update_rate: \u001b[1;36m0.002583\u001b[0m     \u001b[1;36m0.092000\u001b[0m                       \u001b]8;id=653592;file:///n/home09/pren/3DGeno_tools/src/gt3d/modules/higashi/Higashi_wrapper.py\u001b\\\u001b[2mHigashi_wrapper.py\u001b[0m\u001b]8;;\u001b\\\u001b[2m:\u001b[0m\u001b]8;id=915831;file:///n/home09/pren/3DGeno_tools/src/gt3d/modules/higashi/Higashi_wrapper.py#1323\u001b\\\u001b[2m1323\u001b[0m\u001b]8;;\u001b\\\n"
      ]
     },
     "metadata": {},
     "output_type": "display_data"
    },
    {
     "data": {
      "text/html": [
       "<pre style=\"white-space:pre;overflow-x:auto;line-height:normal;font-family:Menlo,'DejaVu Sans Mono',consolas,'Courier New',monospace\"><span style=\"color: #7fbfbf; text-decoration-color: #7fbfbf\">                    </span><span style=\"color: #000080; text-decoration-color: #000080\">INFO    </span> <span style=\"color: #0000ff; text-decoration-color: #0000ff\">train</span> <span style=\"font-weight: bold\">[</span> Epoch <span style=\"color: #008080; text-decoration-color: #008080; font-weight: bold\">50</span> of <span style=\"color: #008080; text-decoration-color: #008080; font-weight: bold\">65</span> <span style=\"font-weight: bold\">]</span>                                       <a href=\"file:///n/home09/pren/3DGeno_tools/src/gt3d/modules/higashi/Higashi_wrapper.py\" target=\"_blank\"><span style=\"color: #7f7f7f; text-decoration-color: #7f7f7f\">Higashi_wrapper.py</span></a><span style=\"color: #7f7f7f; text-decoration-color: #7f7f7f\">:</span><a href=\"file:///n/home09/pren/3DGeno_tools/src/gt3d/modules/higashi/Higashi_wrapper.py#1245\" target=\"_blank\"><span style=\"color: #7f7f7f; text-decoration-color: #7f7f7f\">1245</span></a>\n",
       "</pre>\n"
      ],
      "text/plain": [
       "\u001b[2;36m                   \u001b[0m\u001b[2;36m \u001b[0m\u001b[34mINFO    \u001b[0m \u001b[94mtrain\u001b[0m \u001b[1m[\u001b[0m Epoch \u001b[1;36m50\u001b[0m of \u001b[1;36m65\u001b[0m \u001b[1m]\u001b[0m                                       \u001b]8;id=124331;file:///n/home09/pren/3DGeno_tools/src/gt3d/modules/higashi/Higashi_wrapper.py\u001b\\\u001b[2mHigashi_wrapper.py\u001b[0m\u001b]8;;\u001b\\\u001b[2m:\u001b[0m\u001b]8;id=147826;file:///n/home09/pren/3DGeno_tools/src/gt3d/modules/higashi/Higashi_wrapper.py#1245\u001b\\\u001b[2m1245\u001b[0m\u001b]8;;\u001b\\\n"
      ]
     },
     "metadata": {},
     "output_type": "display_data"
    },
    {
     "data": {
      "application/vnd.jupyter.widget-view+json": {
       "model_id": "72572fa141ca4fe4a47c1bbc8e28017a",
       "version_major": 2,
       "version_minor": 0
      },
      "text/plain": [
       "Output()"
      ]
     },
     "metadata": {},
     "output_type": "display_data"
    },
    {
     "data": {
      "text/html": [
       "<pre style=\"white-space:pre;overflow-x:auto;line-height:normal;font-family:Menlo,'DejaVu Sans Mono',consolas,'Courier New',monospace\"></pre>\n"
      ],
      "text/plain": []
     },
     "metadata": {},
     "output_type": "display_data"
    },
    {
     "data": {
      "text/html": [
       "<pre style=\"white-space:pre;overflow-x:auto;line-height:normal;font-family:Menlo,'DejaVu Sans Mono',consolas,'Courier New',monospace\"><span style=\"color: #7fbfbf; text-decoration-color: #7fbfbf\">[12/07/24 15:46:40] </span><span style=\"color: #000080; text-decoration-color: #000080\">INFO    </span> <span style=\"color: #0000ff; text-decoration-color: #0000ff\">train</span>  - <span style=\"font-weight: bold\">(</span>Train<span style=\"font-weight: bold\">)</span> bce:  <span style=\"color: #008080; text-decoration-color: #008080; font-weight: bold\">0.3096</span>, mse:  <span style=\"color: #008080; text-decoration-color: #008080; font-weight: bold\">0.9217</span>,  acc: <span style=\"color: #008080; text-decoration-color: #008080; font-weight: bold\">90.240</span> %,   <a href=\"file:///n/home09/pren/3DGeno_tools/src/gt3d/modules/higashi/Higashi_wrapper.py\" target=\"_blank\"><span style=\"color: #7f7f7f; text-decoration-color: #7f7f7f\">Higashi_wrapper.py</span></a><span style=\"color: #7f7f7f; text-decoration-color: #7f7f7f\">:</span><a href=\"file:///n/home09/pren/3DGeno_tools/src/gt3d/modules/higashi/Higashi_wrapper.py#1258\" target=\"_blank\"><span style=\"color: #7f7f7f; text-decoration-color: #7f7f7f\">1258</span></a>\n",
       "<span style=\"color: #7fbfbf; text-decoration-color: #7fbfbf\">                    </span>         pearson: <span style=\"color: #008080; text-decoration-color: #008080; font-weight: bold\">0.697</span>, spearman: <span style=\"color: #008080; text-decoration-color: #008080; font-weight: bold\">0.586</span>, elapse: <span style=\"color: #008080; text-decoration-color: #008080; font-weight: bold\">89.856</span> s              <span style=\"color: #7f7f7f; text-decoration-color: #7f7f7f\">                       </span>\n",
       "</pre>\n"
      ],
      "text/plain": [
       "\u001b[2;36m[12/07/24 15:46:40]\u001b[0m\u001b[2;36m \u001b[0m\u001b[34mINFO    \u001b[0m \u001b[94mtrain\u001b[0m  - \u001b[1m(\u001b[0mTrain\u001b[1m)\u001b[0m bce:  \u001b[1;36m0.3096\u001b[0m, mse:  \u001b[1;36m0.9217\u001b[0m,  acc: \u001b[1;36m90.240\u001b[0m %,   \u001b]8;id=301153;file:///n/home09/pren/3DGeno_tools/src/gt3d/modules/higashi/Higashi_wrapper.py\u001b\\\u001b[2mHigashi_wrapper.py\u001b[0m\u001b]8;;\u001b\\\u001b[2m:\u001b[0m\u001b]8;id=325803;file:///n/home09/pren/3DGeno_tools/src/gt3d/modules/higashi/Higashi_wrapper.py#1258\u001b\\\u001b[2m1258\u001b[0m\u001b]8;;\u001b\\\n",
       "\u001b[2;36m                    \u001b[0m         pearson: \u001b[1;36m0.697\u001b[0m, spearman: \u001b[1;36m0.586\u001b[0m, elapse: \u001b[1;36m89.856\u001b[0m s              \u001b[2m                       \u001b[0m\n"
      ]
     },
     "metadata": {},
     "output_type": "display_data"
    },
    {
     "data": {
      "application/vnd.jupyter.widget-view+json": {
       "model_id": "caa65ca207e34681bab572308310b925",
       "version_major": 2,
       "version_minor": 0
      },
      "text/plain": [
       "Output()"
      ]
     },
     "metadata": {},
     "output_type": "display_data"
    },
    {
     "data": {
      "text/html": [
       "<pre style=\"white-space:pre;overflow-x:auto;line-height:normal;font-family:Menlo,'DejaVu Sans Mono',consolas,'Courier New',monospace\"></pre>\n"
      ],
      "text/plain": []
     },
     "metadata": {},
     "output_type": "display_data"
    },
    {
     "data": {
      "text/html": [
       "<pre style=\"white-space:pre;overflow-x:auto;line-height:normal;font-family:Menlo,'DejaVu Sans Mono',consolas,'Courier New',monospace\"><span style=\"color: #7fbfbf; text-decoration-color: #7fbfbf\">                    </span><span style=\"color: #000080; text-decoration-color: #000080\">INFO    </span> <span style=\"color: #0000ff; text-decoration-color: #0000ff\">train</span>  - <span style=\"font-weight: bold\">(</span>Valid<span style=\"font-weight: bold\">)</span> bce:  <span style=\"color: #008080; text-decoration-color: #008080; font-weight: bold\">0.3840</span>,  acc: <span style=\"color: #008080; text-decoration-color: #008080; font-weight: bold\">88.529</span> %,pearson: <span style=\"color: #008080; text-decoration-color: #008080; font-weight: bold\">0.608</span>,  <a href=\"file:///n/home09/pren/3DGeno_tools/src/gt3d/modules/higashi/Higashi_wrapper.py\" target=\"_blank\"><span style=\"color: #7f7f7f; text-decoration-color: #7f7f7f\">Higashi_wrapper.py</span></a><span style=\"color: #7f7f7f; text-decoration-color: #7f7f7f\">:</span><a href=\"file:///n/home09/pren/3DGeno_tools/src/gt3d/modules/higashi/Higashi_wrapper.py#1277\" target=\"_blank\"><span style=\"color: #7f7f7f; text-decoration-color: #7f7f7f\">1277</span></a>\n",
       "<span style=\"color: #7fbfbf; text-decoration-color: #7fbfbf\">                    </span>         spearman: <span style=\"color: #008080; text-decoration-color: #008080; font-weight: bold\">0.552</span>,elapse: <span style=\"color: #008080; text-decoration-color: #008080; font-weight: bold\">0.051</span> s                                <span style=\"color: #7f7f7f; text-decoration-color: #7f7f7f\">                       </span>\n",
       "</pre>\n"
      ],
      "text/plain": [
       "\u001b[2;36m                   \u001b[0m\u001b[2;36m \u001b[0m\u001b[34mINFO    \u001b[0m \u001b[94mtrain\u001b[0m  - \u001b[1m(\u001b[0mValid\u001b[1m)\u001b[0m bce:  \u001b[1;36m0.3840\u001b[0m,  acc: \u001b[1;36m88.529\u001b[0m %,pearson: \u001b[1;36m0.608\u001b[0m,  \u001b]8;id=176850;file:///n/home09/pren/3DGeno_tools/src/gt3d/modules/higashi/Higashi_wrapper.py\u001b\\\u001b[2mHigashi_wrapper.py\u001b[0m\u001b]8;;\u001b\\\u001b[2m:\u001b[0m\u001b]8;id=434612;file:///n/home09/pren/3DGeno_tools/src/gt3d/modules/higashi/Higashi_wrapper.py#1277\u001b\\\u001b[2m1277\u001b[0m\u001b]8;;\u001b\\\n",
       "\u001b[2;36m                    \u001b[0m         spearman: \u001b[1;36m0.552\u001b[0m,elapse: \u001b[1;36m0.051\u001b[0m s                                \u001b[2m                       \u001b[0m\n"
      ]
     },
     "metadata": {},
     "output_type": "display_data"
    },
    {
     "data": {
      "text/html": [
       "<pre style=\"white-space:pre;overflow-x:auto;line-height:normal;font-family:Menlo,'DejaVu Sans Mono',consolas,'Courier New',monospace\"><span style=\"color: #7fbfbf; text-decoration-color: #7fbfbf\">                    </span><span style=\"color: #000080; text-decoration-color: #000080\">INFO    </span> <span style=\"color: #0000ff; text-decoration-color: #0000ff\">train</span> update_rate: <span style=\"color: #008080; text-decoration-color: #008080; font-weight: bold\">0.002463</span>     <span style=\"color: #008080; text-decoration-color: #008080; font-weight: bold\">0.101315</span>                       <a href=\"file:///n/home09/pren/3DGeno_tools/src/gt3d/modules/higashi/Higashi_wrapper.py\" target=\"_blank\"><span style=\"color: #7f7f7f; text-decoration-color: #7f7f7f\">Higashi_wrapper.py</span></a><span style=\"color: #7f7f7f; text-decoration-color: #7f7f7f\">:</span><a href=\"file:///n/home09/pren/3DGeno_tools/src/gt3d/modules/higashi/Higashi_wrapper.py#1323\" target=\"_blank\"><span style=\"color: #7f7f7f; text-decoration-color: #7f7f7f\">1323</span></a>\n",
       "</pre>\n"
      ],
      "text/plain": [
       "\u001b[2;36m                   \u001b[0m\u001b[2;36m \u001b[0m\u001b[34mINFO    \u001b[0m \u001b[94mtrain\u001b[0m update_rate: \u001b[1;36m0.002463\u001b[0m     \u001b[1;36m0.101315\u001b[0m                       \u001b]8;id=461684;file:///n/home09/pren/3DGeno_tools/src/gt3d/modules/higashi/Higashi_wrapper.py\u001b\\\u001b[2mHigashi_wrapper.py\u001b[0m\u001b]8;;\u001b\\\u001b[2m:\u001b[0m\u001b]8;id=692686;file:///n/home09/pren/3DGeno_tools/src/gt3d/modules/higashi/Higashi_wrapper.py#1323\u001b\\\u001b[2m1323\u001b[0m\u001b]8;;\u001b\\\n"
      ]
     },
     "metadata": {},
     "output_type": "display_data"
    },
    {
     "data": {
      "text/html": [
       "<pre style=\"white-space:pre;overflow-x:auto;line-height:normal;font-family:Menlo,'DejaVu Sans Mono',consolas,'Courier New',monospace\"><span style=\"color: #7fbfbf; text-decoration-color: #7fbfbf\">                    </span><span style=\"color: #000080; text-decoration-color: #000080\">INFO    </span> <span style=\"color: #0000ff; text-decoration-color: #0000ff\">train</span> <span style=\"font-weight: bold\">[</span> Epoch <span style=\"color: #008080; text-decoration-color: #008080; font-weight: bold\">51</span> of <span style=\"color: #008080; text-decoration-color: #008080; font-weight: bold\">65</span> <span style=\"font-weight: bold\">]</span>                                       <a href=\"file:///n/home09/pren/3DGeno_tools/src/gt3d/modules/higashi/Higashi_wrapper.py\" target=\"_blank\"><span style=\"color: #7f7f7f; text-decoration-color: #7f7f7f\">Higashi_wrapper.py</span></a><span style=\"color: #7f7f7f; text-decoration-color: #7f7f7f\">:</span><a href=\"file:///n/home09/pren/3DGeno_tools/src/gt3d/modules/higashi/Higashi_wrapper.py#1245\" target=\"_blank\"><span style=\"color: #7f7f7f; text-decoration-color: #7f7f7f\">1245</span></a>\n",
       "</pre>\n"
      ],
      "text/plain": [
       "\u001b[2;36m                   \u001b[0m\u001b[2;36m \u001b[0m\u001b[34mINFO    \u001b[0m \u001b[94mtrain\u001b[0m \u001b[1m[\u001b[0m Epoch \u001b[1;36m51\u001b[0m of \u001b[1;36m65\u001b[0m \u001b[1m]\u001b[0m                                       \u001b]8;id=856110;file:///n/home09/pren/3DGeno_tools/src/gt3d/modules/higashi/Higashi_wrapper.py\u001b\\\u001b[2mHigashi_wrapper.py\u001b[0m\u001b]8;;\u001b\\\u001b[2m:\u001b[0m\u001b]8;id=435079;file:///n/home09/pren/3DGeno_tools/src/gt3d/modules/higashi/Higashi_wrapper.py#1245\u001b\\\u001b[2m1245\u001b[0m\u001b]8;;\u001b\\\n"
      ]
     },
     "metadata": {},
     "output_type": "display_data"
    },
    {
     "data": {
      "application/vnd.jupyter.widget-view+json": {
       "model_id": "0aed165bd35f4caca42a732312a18d69",
       "version_major": 2,
       "version_minor": 0
      },
      "text/plain": [
       "Output()"
      ]
     },
     "metadata": {},
     "output_type": "display_data"
    },
    {
     "data": {
      "text/html": [
       "<pre style=\"white-space:pre;overflow-x:auto;line-height:normal;font-family:Menlo,'DejaVu Sans Mono',consolas,'Courier New',monospace\"></pre>\n"
      ],
      "text/plain": []
     },
     "metadata": {},
     "output_type": "display_data"
    },
    {
     "data": {
      "text/html": [
       "<pre style=\"white-space:pre;overflow-x:auto;line-height:normal;font-family:Menlo,'DejaVu Sans Mono',consolas,'Courier New',monospace\"><span style=\"color: #7fbfbf; text-decoration-color: #7fbfbf\">[12/07/24 15:48:17] </span><span style=\"color: #000080; text-decoration-color: #000080\">INFO    </span> <span style=\"color: #0000ff; text-decoration-color: #0000ff\">train</span>  - <span style=\"font-weight: bold\">(</span>Train<span style=\"font-weight: bold\">)</span> bce:  <span style=\"color: #008080; text-decoration-color: #008080; font-weight: bold\">0.3106</span>, mse:  <span style=\"color: #008080; text-decoration-color: #008080; font-weight: bold\">0.8857</span>,  acc: <span style=\"color: #008080; text-decoration-color: #008080; font-weight: bold\">90.138</span> %,   <a href=\"file:///n/home09/pren/3DGeno_tools/src/gt3d/modules/higashi/Higashi_wrapper.py\" target=\"_blank\"><span style=\"color: #7f7f7f; text-decoration-color: #7f7f7f\">Higashi_wrapper.py</span></a><span style=\"color: #7f7f7f; text-decoration-color: #7f7f7f\">:</span><a href=\"file:///n/home09/pren/3DGeno_tools/src/gt3d/modules/higashi/Higashi_wrapper.py#1258\" target=\"_blank\"><span style=\"color: #7f7f7f; text-decoration-color: #7f7f7f\">1258</span></a>\n",
       "<span style=\"color: #7fbfbf; text-decoration-color: #7fbfbf\">                    </span>         pearson: <span style=\"color: #008080; text-decoration-color: #008080; font-weight: bold\">0.693</span>, spearman: <span style=\"color: #008080; text-decoration-color: #008080; font-weight: bold\">0.585</span>, elapse: <span style=\"color: #008080; text-decoration-color: #008080; font-weight: bold\">96.447</span> s              <span style=\"color: #7f7f7f; text-decoration-color: #7f7f7f\">                       </span>\n",
       "</pre>\n"
      ],
      "text/plain": [
       "\u001b[2;36m[12/07/24 15:48:17]\u001b[0m\u001b[2;36m \u001b[0m\u001b[34mINFO    \u001b[0m \u001b[94mtrain\u001b[0m  - \u001b[1m(\u001b[0mTrain\u001b[1m)\u001b[0m bce:  \u001b[1;36m0.3106\u001b[0m, mse:  \u001b[1;36m0.8857\u001b[0m,  acc: \u001b[1;36m90.138\u001b[0m %,   \u001b]8;id=139391;file:///n/home09/pren/3DGeno_tools/src/gt3d/modules/higashi/Higashi_wrapper.py\u001b\\\u001b[2mHigashi_wrapper.py\u001b[0m\u001b]8;;\u001b\\\u001b[2m:\u001b[0m\u001b]8;id=35143;file:///n/home09/pren/3DGeno_tools/src/gt3d/modules/higashi/Higashi_wrapper.py#1258\u001b\\\u001b[2m1258\u001b[0m\u001b]8;;\u001b\\\n",
       "\u001b[2;36m                    \u001b[0m         pearson: \u001b[1;36m0.693\u001b[0m, spearman: \u001b[1;36m0.585\u001b[0m, elapse: \u001b[1;36m96.447\u001b[0m s              \u001b[2m                       \u001b[0m\n"
      ]
     },
     "metadata": {},
     "output_type": "display_data"
    },
    {
     "data": {
      "application/vnd.jupyter.widget-view+json": {
       "model_id": "464e7e458e074c39abce62bdd71c07a0",
       "version_major": 2,
       "version_minor": 0
      },
      "text/plain": [
       "Output()"
      ]
     },
     "metadata": {},
     "output_type": "display_data"
    },
    {
     "data": {
      "text/html": [
       "<pre style=\"white-space:pre;overflow-x:auto;line-height:normal;font-family:Menlo,'DejaVu Sans Mono',consolas,'Courier New',monospace\"></pre>\n"
      ],
      "text/plain": []
     },
     "metadata": {},
     "output_type": "display_data"
    },
    {
     "data": {
      "text/html": [
       "<pre style=\"white-space:pre;overflow-x:auto;line-height:normal;font-family:Menlo,'DejaVu Sans Mono',consolas,'Courier New',monospace\"><span style=\"color: #7fbfbf; text-decoration-color: #7fbfbf\">                    </span><span style=\"color: #000080; text-decoration-color: #000080\">INFO    </span> <span style=\"color: #0000ff; text-decoration-color: #0000ff\">train</span>  - <span style=\"font-weight: bold\">(</span>Valid<span style=\"font-weight: bold\">)</span> bce:  <span style=\"color: #008080; text-decoration-color: #008080; font-weight: bold\">0.3717</span>,  acc: <span style=\"color: #008080; text-decoration-color: #008080; font-weight: bold\">88.451</span> %,pearson: <span style=\"color: #008080; text-decoration-color: #008080; font-weight: bold\">0.616</span>,  <a href=\"file:///n/home09/pren/3DGeno_tools/src/gt3d/modules/higashi/Higashi_wrapper.py\" target=\"_blank\"><span style=\"color: #7f7f7f; text-decoration-color: #7f7f7f\">Higashi_wrapper.py</span></a><span style=\"color: #7f7f7f; text-decoration-color: #7f7f7f\">:</span><a href=\"file:///n/home09/pren/3DGeno_tools/src/gt3d/modules/higashi/Higashi_wrapper.py#1277\" target=\"_blank\"><span style=\"color: #7f7f7f; text-decoration-color: #7f7f7f\">1277</span></a>\n",
       "<span style=\"color: #7fbfbf; text-decoration-color: #7fbfbf\">                    </span>         spearman: <span style=\"color: #008080; text-decoration-color: #008080; font-weight: bold\">0.555</span>,elapse: <span style=\"color: #008080; text-decoration-color: #008080; font-weight: bold\">0.053</span> s                                <span style=\"color: #7f7f7f; text-decoration-color: #7f7f7f\">                       </span>\n",
       "</pre>\n"
      ],
      "text/plain": [
       "\u001b[2;36m                   \u001b[0m\u001b[2;36m \u001b[0m\u001b[34mINFO    \u001b[0m \u001b[94mtrain\u001b[0m  - \u001b[1m(\u001b[0mValid\u001b[1m)\u001b[0m bce:  \u001b[1;36m0.3717\u001b[0m,  acc: \u001b[1;36m88.451\u001b[0m %,pearson: \u001b[1;36m0.616\u001b[0m,  \u001b]8;id=258354;file:///n/home09/pren/3DGeno_tools/src/gt3d/modules/higashi/Higashi_wrapper.py\u001b\\\u001b[2mHigashi_wrapper.py\u001b[0m\u001b]8;;\u001b\\\u001b[2m:\u001b[0m\u001b]8;id=718883;file:///n/home09/pren/3DGeno_tools/src/gt3d/modules/higashi/Higashi_wrapper.py#1277\u001b\\\u001b[2m1277\u001b[0m\u001b]8;;\u001b\\\n",
       "\u001b[2;36m                    \u001b[0m         spearman: \u001b[1;36m0.555\u001b[0m,elapse: \u001b[1;36m0.053\u001b[0m s                                \u001b[2m                       \u001b[0m\n"
      ]
     },
     "metadata": {},
     "output_type": "display_data"
    },
    {
     "data": {
      "text/html": [
       "<pre style=\"white-space:pre;overflow-x:auto;line-height:normal;font-family:Menlo,'DejaVu Sans Mono',consolas,'Courier New',monospace\"><span style=\"color: #7fbfbf; text-decoration-color: #7fbfbf\">                    </span><span style=\"color: #000080; text-decoration-color: #000080\">INFO    </span> <span style=\"color: #0000ff; text-decoration-color: #0000ff\">train</span> update_rate: <span style=\"color: #008080; text-decoration-color: #008080; font-weight: bold\">0.003521</span>     <span style=\"color: #008080; text-decoration-color: #008080; font-weight: bold\">0.139689</span>                       <a href=\"file:///n/home09/pren/3DGeno_tools/src/gt3d/modules/higashi/Higashi_wrapper.py\" target=\"_blank\"><span style=\"color: #7f7f7f; text-decoration-color: #7f7f7f\">Higashi_wrapper.py</span></a><span style=\"color: #7f7f7f; text-decoration-color: #7f7f7f\">:</span><a href=\"file:///n/home09/pren/3DGeno_tools/src/gt3d/modules/higashi/Higashi_wrapper.py#1323\" target=\"_blank\"><span style=\"color: #7f7f7f; text-decoration-color: #7f7f7f\">1323</span></a>\n",
       "</pre>\n"
      ],
      "text/plain": [
       "\u001b[2;36m                   \u001b[0m\u001b[2;36m \u001b[0m\u001b[34mINFO    \u001b[0m \u001b[94mtrain\u001b[0m update_rate: \u001b[1;36m0.003521\u001b[0m     \u001b[1;36m0.139689\u001b[0m                       \u001b]8;id=208551;file:///n/home09/pren/3DGeno_tools/src/gt3d/modules/higashi/Higashi_wrapper.py\u001b\\\u001b[2mHigashi_wrapper.py\u001b[0m\u001b]8;;\u001b\\\u001b[2m:\u001b[0m\u001b]8;id=550832;file:///n/home09/pren/3DGeno_tools/src/gt3d/modules/higashi/Higashi_wrapper.py#1323\u001b\\\u001b[2m1323\u001b[0m\u001b]8;;\u001b\\\n"
      ]
     },
     "metadata": {},
     "output_type": "display_data"
    },
    {
     "data": {
      "text/html": [
       "<pre style=\"white-space:pre;overflow-x:auto;line-height:normal;font-family:Menlo,'DejaVu Sans Mono',consolas,'Courier New',monospace\"><span style=\"color: #7fbfbf; text-decoration-color: #7fbfbf\">                    </span><span style=\"color: #000080; text-decoration-color: #000080\">INFO    </span> <span style=\"color: #0000ff; text-decoration-color: #0000ff\">train</span> <span style=\"font-weight: bold\">[</span> Epoch <span style=\"color: #008080; text-decoration-color: #008080; font-weight: bold\">52</span> of <span style=\"color: #008080; text-decoration-color: #008080; font-weight: bold\">65</span> <span style=\"font-weight: bold\">]</span>                                       <a href=\"file:///n/home09/pren/3DGeno_tools/src/gt3d/modules/higashi/Higashi_wrapper.py\" target=\"_blank\"><span style=\"color: #7f7f7f; text-decoration-color: #7f7f7f\">Higashi_wrapper.py</span></a><span style=\"color: #7f7f7f; text-decoration-color: #7f7f7f\">:</span><a href=\"file:///n/home09/pren/3DGeno_tools/src/gt3d/modules/higashi/Higashi_wrapper.py#1245\" target=\"_blank\"><span style=\"color: #7f7f7f; text-decoration-color: #7f7f7f\">1245</span></a>\n",
       "</pre>\n"
      ],
      "text/plain": [
       "\u001b[2;36m                   \u001b[0m\u001b[2;36m \u001b[0m\u001b[34mINFO    \u001b[0m \u001b[94mtrain\u001b[0m \u001b[1m[\u001b[0m Epoch \u001b[1;36m52\u001b[0m of \u001b[1;36m65\u001b[0m \u001b[1m]\u001b[0m                                       \u001b]8;id=401081;file:///n/home09/pren/3DGeno_tools/src/gt3d/modules/higashi/Higashi_wrapper.py\u001b\\\u001b[2mHigashi_wrapper.py\u001b[0m\u001b]8;;\u001b\\\u001b[2m:\u001b[0m\u001b]8;id=826906;file:///n/home09/pren/3DGeno_tools/src/gt3d/modules/higashi/Higashi_wrapper.py#1245\u001b\\\u001b[2m1245\u001b[0m\u001b]8;;\u001b\\\n"
      ]
     },
     "metadata": {},
     "output_type": "display_data"
    },
    {
     "data": {
      "application/vnd.jupyter.widget-view+json": {
       "model_id": "f367c3d9e7f74c9799dc87ddc631e1d9",
       "version_major": 2,
       "version_minor": 0
      },
      "text/plain": [
       "Output()"
      ]
     },
     "metadata": {},
     "output_type": "display_data"
    },
    {
     "data": {
      "text/html": [
       "<pre style=\"white-space:pre;overflow-x:auto;line-height:normal;font-family:Menlo,'DejaVu Sans Mono',consolas,'Courier New',monospace\"></pre>\n"
      ],
      "text/plain": []
     },
     "metadata": {},
     "output_type": "display_data"
    },
    {
     "data": {
      "text/html": [
       "<pre style=\"white-space:pre;overflow-x:auto;line-height:normal;font-family:Menlo,'DejaVu Sans Mono',consolas,'Courier New',monospace\"><span style=\"color: #7fbfbf; text-decoration-color: #7fbfbf\">[12/07/24 15:49:47] </span><span style=\"color: #000080; text-decoration-color: #000080\">INFO    </span> <span style=\"color: #0000ff; text-decoration-color: #0000ff\">train</span>  - <span style=\"font-weight: bold\">(</span>Train<span style=\"font-weight: bold\">)</span> bce:  <span style=\"color: #008080; text-decoration-color: #008080; font-weight: bold\">0.3090</span>, mse:  <span style=\"color: #008080; text-decoration-color: #008080; font-weight: bold\">0.8672</span>,  acc: <span style=\"color: #008080; text-decoration-color: #008080; font-weight: bold\">90.303</span> %,   <a href=\"file:///n/home09/pren/3DGeno_tools/src/gt3d/modules/higashi/Higashi_wrapper.py\" target=\"_blank\"><span style=\"color: #7f7f7f; text-decoration-color: #7f7f7f\">Higashi_wrapper.py</span></a><span style=\"color: #7f7f7f; text-decoration-color: #7f7f7f\">:</span><a href=\"file:///n/home09/pren/3DGeno_tools/src/gt3d/modules/higashi/Higashi_wrapper.py#1258\" target=\"_blank\"><span style=\"color: #7f7f7f; text-decoration-color: #7f7f7f\">1258</span></a>\n",
       "<span style=\"color: #7fbfbf; text-decoration-color: #7fbfbf\">                    </span>         pearson: <span style=\"color: #008080; text-decoration-color: #008080; font-weight: bold\">0.698</span>, spearman: <span style=\"color: #008080; text-decoration-color: #008080; font-weight: bold\">0.586</span>, elapse: <span style=\"color: #008080; text-decoration-color: #008080; font-weight: bold\">90.294</span> s              <span style=\"color: #7f7f7f; text-decoration-color: #7f7f7f\">                       </span>\n",
       "</pre>\n"
      ],
      "text/plain": [
       "\u001b[2;36m[12/07/24 15:49:47]\u001b[0m\u001b[2;36m \u001b[0m\u001b[34mINFO    \u001b[0m \u001b[94mtrain\u001b[0m  - \u001b[1m(\u001b[0mTrain\u001b[1m)\u001b[0m bce:  \u001b[1;36m0.3090\u001b[0m, mse:  \u001b[1;36m0.8672\u001b[0m,  acc: \u001b[1;36m90.303\u001b[0m %,   \u001b]8;id=825106;file:///n/home09/pren/3DGeno_tools/src/gt3d/modules/higashi/Higashi_wrapper.py\u001b\\\u001b[2mHigashi_wrapper.py\u001b[0m\u001b]8;;\u001b\\\u001b[2m:\u001b[0m\u001b]8;id=22644;file:///n/home09/pren/3DGeno_tools/src/gt3d/modules/higashi/Higashi_wrapper.py#1258\u001b\\\u001b[2m1258\u001b[0m\u001b]8;;\u001b\\\n",
       "\u001b[2;36m                    \u001b[0m         pearson: \u001b[1;36m0.698\u001b[0m, spearman: \u001b[1;36m0.586\u001b[0m, elapse: \u001b[1;36m90.294\u001b[0m s              \u001b[2m                       \u001b[0m\n"
      ]
     },
     "metadata": {},
     "output_type": "display_data"
    },
    {
     "data": {
      "application/vnd.jupyter.widget-view+json": {
       "model_id": "35f90857a8a949e3adacd3979d4c6e75",
       "version_major": 2,
       "version_minor": 0
      },
      "text/plain": [
       "Output()"
      ]
     },
     "metadata": {},
     "output_type": "display_data"
    },
    {
     "data": {
      "text/html": [
       "<pre style=\"white-space:pre;overflow-x:auto;line-height:normal;font-family:Menlo,'DejaVu Sans Mono',consolas,'Courier New',monospace\"></pre>\n"
      ],
      "text/plain": []
     },
     "metadata": {},
     "output_type": "display_data"
    },
    {
     "data": {
      "text/html": [
       "<pre style=\"white-space:pre;overflow-x:auto;line-height:normal;font-family:Menlo,'DejaVu Sans Mono',consolas,'Courier New',monospace\"><span style=\"color: #7fbfbf; text-decoration-color: #7fbfbf\">                    </span><span style=\"color: #000080; text-decoration-color: #000080\">INFO    </span> <span style=\"color: #0000ff; text-decoration-color: #0000ff\">train</span>  - <span style=\"font-weight: bold\">(</span>Valid<span style=\"font-weight: bold\">)</span> bce:  <span style=\"color: #008080; text-decoration-color: #008080; font-weight: bold\">0.3649</span>,  acc: <span style=\"color: #008080; text-decoration-color: #008080; font-weight: bold\">88.438</span> %,pearson: <span style=\"color: #008080; text-decoration-color: #008080; font-weight: bold\">0.615</span>,  <a href=\"file:///n/home09/pren/3DGeno_tools/src/gt3d/modules/higashi/Higashi_wrapper.py\" target=\"_blank\"><span style=\"color: #7f7f7f; text-decoration-color: #7f7f7f\">Higashi_wrapper.py</span></a><span style=\"color: #7f7f7f; text-decoration-color: #7f7f7f\">:</span><a href=\"file:///n/home09/pren/3DGeno_tools/src/gt3d/modules/higashi/Higashi_wrapper.py#1277\" target=\"_blank\"><span style=\"color: #7f7f7f; text-decoration-color: #7f7f7f\">1277</span></a>\n",
       "<span style=\"color: #7fbfbf; text-decoration-color: #7fbfbf\">                    </span>         spearman: <span style=\"color: #008080; text-decoration-color: #008080; font-weight: bold\">0.557</span>,elapse: <span style=\"color: #008080; text-decoration-color: #008080; font-weight: bold\">0.052</span> s                                <span style=\"color: #7f7f7f; text-decoration-color: #7f7f7f\">                       </span>\n",
       "</pre>\n"
      ],
      "text/plain": [
       "\u001b[2;36m                   \u001b[0m\u001b[2;36m \u001b[0m\u001b[34mINFO    \u001b[0m \u001b[94mtrain\u001b[0m  - \u001b[1m(\u001b[0mValid\u001b[1m)\u001b[0m bce:  \u001b[1;36m0.3649\u001b[0m,  acc: \u001b[1;36m88.438\u001b[0m %,pearson: \u001b[1;36m0.615\u001b[0m,  \u001b]8;id=102176;file:///n/home09/pren/3DGeno_tools/src/gt3d/modules/higashi/Higashi_wrapper.py\u001b\\\u001b[2mHigashi_wrapper.py\u001b[0m\u001b]8;;\u001b\\\u001b[2m:\u001b[0m\u001b]8;id=27595;file:///n/home09/pren/3DGeno_tools/src/gt3d/modules/higashi/Higashi_wrapper.py#1277\u001b\\\u001b[2m1277\u001b[0m\u001b]8;;\u001b\\\n",
       "\u001b[2;36m                    \u001b[0m         spearman: \u001b[1;36m0.557\u001b[0m,elapse: \u001b[1;36m0.052\u001b[0m s                                \u001b[2m                       \u001b[0m\n"
      ]
     },
     "metadata": {},
     "output_type": "display_data"
    },
    {
     "data": {
      "text/html": [
       "<pre style=\"white-space:pre;overflow-x:auto;line-height:normal;font-family:Menlo,'DejaVu Sans Mono',consolas,'Courier New',monospace\"><span style=\"color: #7fbfbf; text-decoration-color: #7fbfbf\">                    </span><span style=\"color: #000080; text-decoration-color: #000080\">INFO    </span> <span style=\"color: #0000ff; text-decoration-color: #0000ff\">train</span> update_rate: <span style=\"color: #008080; text-decoration-color: #008080; font-weight: bold\">0.002282</span>     <span style=\"color: #008080; text-decoration-color: #008080; font-weight: bold\">0.157665</span>                       <a href=\"file:///n/home09/pren/3DGeno_tools/src/gt3d/modules/higashi/Higashi_wrapper.py\" target=\"_blank\"><span style=\"color: #7f7f7f; text-decoration-color: #7f7f7f\">Higashi_wrapper.py</span></a><span style=\"color: #7f7f7f; text-decoration-color: #7f7f7f\">:</span><a href=\"file:///n/home09/pren/3DGeno_tools/src/gt3d/modules/higashi/Higashi_wrapper.py#1323\" target=\"_blank\"><span style=\"color: #7f7f7f; text-decoration-color: #7f7f7f\">1323</span></a>\n",
       "</pre>\n"
      ],
      "text/plain": [
       "\u001b[2;36m                   \u001b[0m\u001b[2;36m \u001b[0m\u001b[34mINFO    \u001b[0m \u001b[94mtrain\u001b[0m update_rate: \u001b[1;36m0.002282\u001b[0m     \u001b[1;36m0.157665\u001b[0m                       \u001b]8;id=351268;file:///n/home09/pren/3DGeno_tools/src/gt3d/modules/higashi/Higashi_wrapper.py\u001b\\\u001b[2mHigashi_wrapper.py\u001b[0m\u001b]8;;\u001b\\\u001b[2m:\u001b[0m\u001b]8;id=138275;file:///n/home09/pren/3DGeno_tools/src/gt3d/modules/higashi/Higashi_wrapper.py#1323\u001b\\\u001b[2m1323\u001b[0m\u001b]8;;\u001b\\\n"
      ]
     },
     "metadata": {},
     "output_type": "display_data"
    },
    {
     "data": {
      "text/html": [
       "<pre style=\"white-space:pre;overflow-x:auto;line-height:normal;font-family:Menlo,'DejaVu Sans Mono',consolas,'Courier New',monospace\"><span style=\"color: #7fbfbf; text-decoration-color: #7fbfbf\">                    </span><span style=\"color: #000080; text-decoration-color: #000080\">INFO    </span> <span style=\"color: #0000ff; text-decoration-color: #0000ff\">train</span> <span style=\"font-weight: bold\">[</span> Epoch <span style=\"color: #008080; text-decoration-color: #008080; font-weight: bold\">53</span> of <span style=\"color: #008080; text-decoration-color: #008080; font-weight: bold\">65</span> <span style=\"font-weight: bold\">]</span>                                       <a href=\"file:///n/home09/pren/3DGeno_tools/src/gt3d/modules/higashi/Higashi_wrapper.py\" target=\"_blank\"><span style=\"color: #7f7f7f; text-decoration-color: #7f7f7f\">Higashi_wrapper.py</span></a><span style=\"color: #7f7f7f; text-decoration-color: #7f7f7f\">:</span><a href=\"file:///n/home09/pren/3DGeno_tools/src/gt3d/modules/higashi/Higashi_wrapper.py#1245\" target=\"_blank\"><span style=\"color: #7f7f7f; text-decoration-color: #7f7f7f\">1245</span></a>\n",
       "</pre>\n"
      ],
      "text/plain": [
       "\u001b[2;36m                   \u001b[0m\u001b[2;36m \u001b[0m\u001b[34mINFO    \u001b[0m \u001b[94mtrain\u001b[0m \u001b[1m[\u001b[0m Epoch \u001b[1;36m53\u001b[0m of \u001b[1;36m65\u001b[0m \u001b[1m]\u001b[0m                                       \u001b]8;id=443988;file:///n/home09/pren/3DGeno_tools/src/gt3d/modules/higashi/Higashi_wrapper.py\u001b\\\u001b[2mHigashi_wrapper.py\u001b[0m\u001b]8;;\u001b\\\u001b[2m:\u001b[0m\u001b]8;id=158419;file:///n/home09/pren/3DGeno_tools/src/gt3d/modules/higashi/Higashi_wrapper.py#1245\u001b\\\u001b[2m1245\u001b[0m\u001b]8;;\u001b\\\n"
      ]
     },
     "metadata": {},
     "output_type": "display_data"
    },
    {
     "data": {
      "application/vnd.jupyter.widget-view+json": {
       "model_id": "49a197acd1784b39b99bbfabbfa3f23f",
       "version_major": 2,
       "version_minor": 0
      },
      "text/plain": [
       "Output()"
      ]
     },
     "metadata": {},
     "output_type": "display_data"
    },
    {
     "data": {
      "text/html": [
       "<pre style=\"white-space:pre;overflow-x:auto;line-height:normal;font-family:Menlo,'DejaVu Sans Mono',consolas,'Courier New',monospace\"></pre>\n"
      ],
      "text/plain": []
     },
     "metadata": {},
     "output_type": "display_data"
    },
    {
     "data": {
      "text/html": [
       "<pre style=\"white-space:pre;overflow-x:auto;line-height:normal;font-family:Menlo,'DejaVu Sans Mono',consolas,'Courier New',monospace\"><span style=\"color: #7fbfbf; text-decoration-color: #7fbfbf\">[12/07/24 15:51:17] </span><span style=\"color: #000080; text-decoration-color: #000080\">INFO    </span> <span style=\"color: #0000ff; text-decoration-color: #0000ff\">train</span>  - <span style=\"font-weight: bold\">(</span>Train<span style=\"font-weight: bold\">)</span> bce:  <span style=\"color: #008080; text-decoration-color: #008080; font-weight: bold\">0.3088</span>, mse:  <span style=\"color: #008080; text-decoration-color: #008080; font-weight: bold\">0.9627</span>,  acc: <span style=\"color: #008080; text-decoration-color: #008080; font-weight: bold\">90.313</span> %,   <a href=\"file:///n/home09/pren/3DGeno_tools/src/gt3d/modules/higashi/Higashi_wrapper.py\" target=\"_blank\"><span style=\"color: #7f7f7f; text-decoration-color: #7f7f7f\">Higashi_wrapper.py</span></a><span style=\"color: #7f7f7f; text-decoration-color: #7f7f7f\">:</span><a href=\"file:///n/home09/pren/3DGeno_tools/src/gt3d/modules/higashi/Higashi_wrapper.py#1258\" target=\"_blank\"><span style=\"color: #7f7f7f; text-decoration-color: #7f7f7f\">1258</span></a>\n",
       "<span style=\"color: #7fbfbf; text-decoration-color: #7fbfbf\">                    </span>         pearson: <span style=\"color: #008080; text-decoration-color: #008080; font-weight: bold\">0.699</span>, spearman: <span style=\"color: #008080; text-decoration-color: #008080; font-weight: bold\">0.587</span>, elapse: <span style=\"color: #008080; text-decoration-color: #008080; font-weight: bold\">89.110</span> s              <span style=\"color: #7f7f7f; text-decoration-color: #7f7f7f\">                       </span>\n",
       "</pre>\n"
      ],
      "text/plain": [
       "\u001b[2;36m[12/07/24 15:51:17]\u001b[0m\u001b[2;36m \u001b[0m\u001b[34mINFO    \u001b[0m \u001b[94mtrain\u001b[0m  - \u001b[1m(\u001b[0mTrain\u001b[1m)\u001b[0m bce:  \u001b[1;36m0.3088\u001b[0m, mse:  \u001b[1;36m0.9627\u001b[0m,  acc: \u001b[1;36m90.313\u001b[0m %,   \u001b]8;id=949444;file:///n/home09/pren/3DGeno_tools/src/gt3d/modules/higashi/Higashi_wrapper.py\u001b\\\u001b[2mHigashi_wrapper.py\u001b[0m\u001b]8;;\u001b\\\u001b[2m:\u001b[0m\u001b]8;id=627507;file:///n/home09/pren/3DGeno_tools/src/gt3d/modules/higashi/Higashi_wrapper.py#1258\u001b\\\u001b[2m1258\u001b[0m\u001b]8;;\u001b\\\n",
       "\u001b[2;36m                    \u001b[0m         pearson: \u001b[1;36m0.699\u001b[0m, spearman: \u001b[1;36m0.587\u001b[0m, elapse: \u001b[1;36m89.110\u001b[0m s              \u001b[2m                       \u001b[0m\n"
      ]
     },
     "metadata": {},
     "output_type": "display_data"
    },
    {
     "data": {
      "application/vnd.jupyter.widget-view+json": {
       "model_id": "addbc414551540ccb37045776bdecb0c",
       "version_major": 2,
       "version_minor": 0
      },
      "text/plain": [
       "Output()"
      ]
     },
     "metadata": {},
     "output_type": "display_data"
    },
    {
     "data": {
      "text/html": [
       "<pre style=\"white-space:pre;overflow-x:auto;line-height:normal;font-family:Menlo,'DejaVu Sans Mono',consolas,'Courier New',monospace\"></pre>\n"
      ],
      "text/plain": []
     },
     "metadata": {},
     "output_type": "display_data"
    },
    {
     "data": {
      "text/html": [
       "<pre style=\"white-space:pre;overflow-x:auto;line-height:normal;font-family:Menlo,'DejaVu Sans Mono',consolas,'Courier New',monospace\"><span style=\"color: #7fbfbf; text-decoration-color: #7fbfbf\">                    </span><span style=\"color: #000080; text-decoration-color: #000080\">INFO    </span> <span style=\"color: #0000ff; text-decoration-color: #0000ff\">train</span>  - <span style=\"font-weight: bold\">(</span>Valid<span style=\"font-weight: bold\">)</span> bce:  <span style=\"color: #008080; text-decoration-color: #008080; font-weight: bold\">0.3757</span>,  acc: <span style=\"color: #008080; text-decoration-color: #008080; font-weight: bold\">88.171</span> %,pearson: <span style=\"color: #008080; text-decoration-color: #008080; font-weight: bold\">0.609</span>,  <a href=\"file:///n/home09/pren/3DGeno_tools/src/gt3d/modules/higashi/Higashi_wrapper.py\" target=\"_blank\"><span style=\"color: #7f7f7f; text-decoration-color: #7f7f7f\">Higashi_wrapper.py</span></a><span style=\"color: #7f7f7f; text-decoration-color: #7f7f7f\">:</span><a href=\"file:///n/home09/pren/3DGeno_tools/src/gt3d/modules/higashi/Higashi_wrapper.py#1277\" target=\"_blank\"><span style=\"color: #7f7f7f; text-decoration-color: #7f7f7f\">1277</span></a>\n",
       "<span style=\"color: #7fbfbf; text-decoration-color: #7fbfbf\">                    </span>         spearman: <span style=\"color: #008080; text-decoration-color: #008080; font-weight: bold\">0.549</span>,elapse: <span style=\"color: #008080; text-decoration-color: #008080; font-weight: bold\">0.051</span> s                                <span style=\"color: #7f7f7f; text-decoration-color: #7f7f7f\">                       </span>\n",
       "</pre>\n"
      ],
      "text/plain": [
       "\u001b[2;36m                   \u001b[0m\u001b[2;36m \u001b[0m\u001b[34mINFO    \u001b[0m \u001b[94mtrain\u001b[0m  - \u001b[1m(\u001b[0mValid\u001b[1m)\u001b[0m bce:  \u001b[1;36m0.3757\u001b[0m,  acc: \u001b[1;36m88.171\u001b[0m %,pearson: \u001b[1;36m0.609\u001b[0m,  \u001b]8;id=147130;file:///n/home09/pren/3DGeno_tools/src/gt3d/modules/higashi/Higashi_wrapper.py\u001b\\\u001b[2mHigashi_wrapper.py\u001b[0m\u001b]8;;\u001b\\\u001b[2m:\u001b[0m\u001b]8;id=813643;file:///n/home09/pren/3DGeno_tools/src/gt3d/modules/higashi/Higashi_wrapper.py#1277\u001b\\\u001b[2m1277\u001b[0m\u001b]8;;\u001b\\\n",
       "\u001b[2;36m                    \u001b[0m         spearman: \u001b[1;36m0.549\u001b[0m,elapse: \u001b[1;36m0.051\u001b[0m s                                \u001b[2m                       \u001b[0m\n"
      ]
     },
     "metadata": {},
     "output_type": "display_data"
    },
    {
     "data": {
      "text/html": [
       "<pre style=\"white-space:pre;overflow-x:auto;line-height:normal;font-family:Menlo,'DejaVu Sans Mono',consolas,'Courier New',monospace\"><span style=\"color: #7fbfbf; text-decoration-color: #7fbfbf\">                    </span><span style=\"color: #000080; text-decoration-color: #000080\">INFO    </span> <span style=\"color: #0000ff; text-decoration-color: #0000ff\">train</span> update_rate: <span style=\"color: #008080; text-decoration-color: #008080; font-weight: bold\">0.002272</span>     <span style=\"color: #008080; text-decoration-color: #008080; font-weight: bold\">0.133921</span>                       <a href=\"file:///n/home09/pren/3DGeno_tools/src/gt3d/modules/higashi/Higashi_wrapper.py\" target=\"_blank\"><span style=\"color: #7f7f7f; text-decoration-color: #7f7f7f\">Higashi_wrapper.py</span></a><span style=\"color: #7f7f7f; text-decoration-color: #7f7f7f\">:</span><a href=\"file:///n/home09/pren/3DGeno_tools/src/gt3d/modules/higashi/Higashi_wrapper.py#1323\" target=\"_blank\"><span style=\"color: #7f7f7f; text-decoration-color: #7f7f7f\">1323</span></a>\n",
       "</pre>\n"
      ],
      "text/plain": [
       "\u001b[2;36m                   \u001b[0m\u001b[2;36m \u001b[0m\u001b[34mINFO    \u001b[0m \u001b[94mtrain\u001b[0m update_rate: \u001b[1;36m0.002272\u001b[0m     \u001b[1;36m0.133921\u001b[0m                       \u001b]8;id=893573;file:///n/home09/pren/3DGeno_tools/src/gt3d/modules/higashi/Higashi_wrapper.py\u001b\\\u001b[2mHigashi_wrapper.py\u001b[0m\u001b]8;;\u001b\\\u001b[2m:\u001b[0m\u001b]8;id=481858;file:///n/home09/pren/3DGeno_tools/src/gt3d/modules/higashi/Higashi_wrapper.py#1323\u001b\\\u001b[2m1323\u001b[0m\u001b]8;;\u001b\\\n"
      ]
     },
     "metadata": {},
     "output_type": "display_data"
    },
    {
     "data": {
      "text/html": [
       "<pre style=\"white-space:pre;overflow-x:auto;line-height:normal;font-family:Menlo,'DejaVu Sans Mono',consolas,'Courier New',monospace\"><span style=\"color: #7fbfbf; text-decoration-color: #7fbfbf\">                    </span><span style=\"color: #000080; text-decoration-color: #000080\">INFO    </span> <span style=\"color: #0000ff; text-decoration-color: #0000ff\">train</span> <span style=\"font-weight: bold\">[</span> Epoch <span style=\"color: #008080; text-decoration-color: #008080; font-weight: bold\">54</span> of <span style=\"color: #008080; text-decoration-color: #008080; font-weight: bold\">65</span> <span style=\"font-weight: bold\">]</span>                                       <a href=\"file:///n/home09/pren/3DGeno_tools/src/gt3d/modules/higashi/Higashi_wrapper.py\" target=\"_blank\"><span style=\"color: #7f7f7f; text-decoration-color: #7f7f7f\">Higashi_wrapper.py</span></a><span style=\"color: #7f7f7f; text-decoration-color: #7f7f7f\">:</span><a href=\"file:///n/home09/pren/3DGeno_tools/src/gt3d/modules/higashi/Higashi_wrapper.py#1245\" target=\"_blank\"><span style=\"color: #7f7f7f; text-decoration-color: #7f7f7f\">1245</span></a>\n",
       "</pre>\n"
      ],
      "text/plain": [
       "\u001b[2;36m                   \u001b[0m\u001b[2;36m \u001b[0m\u001b[34mINFO    \u001b[0m \u001b[94mtrain\u001b[0m \u001b[1m[\u001b[0m Epoch \u001b[1;36m54\u001b[0m of \u001b[1;36m65\u001b[0m \u001b[1m]\u001b[0m                                       \u001b]8;id=705053;file:///n/home09/pren/3DGeno_tools/src/gt3d/modules/higashi/Higashi_wrapper.py\u001b\\\u001b[2mHigashi_wrapper.py\u001b[0m\u001b]8;;\u001b\\\u001b[2m:\u001b[0m\u001b]8;id=708358;file:///n/home09/pren/3DGeno_tools/src/gt3d/modules/higashi/Higashi_wrapper.py#1245\u001b\\\u001b[2m1245\u001b[0m\u001b]8;;\u001b\\\n"
      ]
     },
     "metadata": {},
     "output_type": "display_data"
    },
    {
     "data": {
      "application/vnd.jupyter.widget-view+json": {
       "model_id": "fc4d84845e7a41d3ba98f4f60ada7cd6",
       "version_major": 2,
       "version_minor": 0
      },
      "text/plain": [
       "Output()"
      ]
     },
     "metadata": {},
     "output_type": "display_data"
    },
    {
     "data": {
      "text/html": [
       "<pre style=\"white-space:pre;overflow-x:auto;line-height:normal;font-family:Menlo,'DejaVu Sans Mono',consolas,'Courier New',monospace\"></pre>\n"
      ],
      "text/plain": []
     },
     "metadata": {},
     "output_type": "display_data"
    },
    {
     "data": {
      "text/html": [
       "<pre style=\"white-space:pre;overflow-x:auto;line-height:normal;font-family:Menlo,'DejaVu Sans Mono',consolas,'Courier New',monospace\"><span style=\"color: #7fbfbf; text-decoration-color: #7fbfbf\">[12/07/24 15:52:53] </span><span style=\"color: #000080; text-decoration-color: #000080\">INFO    </span> <span style=\"color: #0000ff; text-decoration-color: #0000ff\">train</span>  - <span style=\"font-weight: bold\">(</span>Train<span style=\"font-weight: bold\">)</span> bce:  <span style=\"color: #008080; text-decoration-color: #008080; font-weight: bold\">0.3081</span>, mse:  <span style=\"color: #008080; text-decoration-color: #008080; font-weight: bold\">0.8757</span>,  acc: <span style=\"color: #008080; text-decoration-color: #008080; font-weight: bold\">90.330</span> %,   <a href=\"file:///n/home09/pren/3DGeno_tools/src/gt3d/modules/higashi/Higashi_wrapper.py\" target=\"_blank\"><span style=\"color: #7f7f7f; text-decoration-color: #7f7f7f\">Higashi_wrapper.py</span></a><span style=\"color: #7f7f7f; text-decoration-color: #7f7f7f\">:</span><a href=\"file:///n/home09/pren/3DGeno_tools/src/gt3d/modules/higashi/Higashi_wrapper.py#1258\" target=\"_blank\"><span style=\"color: #7f7f7f; text-decoration-color: #7f7f7f\">1258</span></a>\n",
       "<span style=\"color: #7fbfbf; text-decoration-color: #7fbfbf\">                    </span>         pearson: <span style=\"color: #008080; text-decoration-color: #008080; font-weight: bold\">0.699</span>, spearman: <span style=\"color: #008080; text-decoration-color: #008080; font-weight: bold\">0.588</span>, elapse: <span style=\"color: #008080; text-decoration-color: #008080; font-weight: bold\">96.398</span> s              <span style=\"color: #7f7f7f; text-decoration-color: #7f7f7f\">                       </span>\n",
       "</pre>\n"
      ],
      "text/plain": [
       "\u001b[2;36m[12/07/24 15:52:53]\u001b[0m\u001b[2;36m \u001b[0m\u001b[34mINFO    \u001b[0m \u001b[94mtrain\u001b[0m  - \u001b[1m(\u001b[0mTrain\u001b[1m)\u001b[0m bce:  \u001b[1;36m0.3081\u001b[0m, mse:  \u001b[1;36m0.8757\u001b[0m,  acc: \u001b[1;36m90.330\u001b[0m %,   \u001b]8;id=55845;file:///n/home09/pren/3DGeno_tools/src/gt3d/modules/higashi/Higashi_wrapper.py\u001b\\\u001b[2mHigashi_wrapper.py\u001b[0m\u001b]8;;\u001b\\\u001b[2m:\u001b[0m\u001b]8;id=885146;file:///n/home09/pren/3DGeno_tools/src/gt3d/modules/higashi/Higashi_wrapper.py#1258\u001b\\\u001b[2m1258\u001b[0m\u001b]8;;\u001b\\\n",
       "\u001b[2;36m                    \u001b[0m         pearson: \u001b[1;36m0.699\u001b[0m, spearman: \u001b[1;36m0.588\u001b[0m, elapse: \u001b[1;36m96.398\u001b[0m s              \u001b[2m                       \u001b[0m\n"
      ]
     },
     "metadata": {},
     "output_type": "display_data"
    },
    {
     "data": {
      "application/vnd.jupyter.widget-view+json": {
       "model_id": "5bba9a557b4e4ac28d0c9cf5dfedacbc",
       "version_major": 2,
       "version_minor": 0
      },
      "text/plain": [
       "Output()"
      ]
     },
     "metadata": {},
     "output_type": "display_data"
    },
    {
     "data": {
      "text/html": [
       "<pre style=\"white-space:pre;overflow-x:auto;line-height:normal;font-family:Menlo,'DejaVu Sans Mono',consolas,'Courier New',monospace\"></pre>\n"
      ],
      "text/plain": []
     },
     "metadata": {},
     "output_type": "display_data"
    },
    {
     "data": {
      "text/html": [
       "<pre style=\"white-space:pre;overflow-x:auto;line-height:normal;font-family:Menlo,'DejaVu Sans Mono',consolas,'Courier New',monospace\"><span style=\"color: #7fbfbf; text-decoration-color: #7fbfbf\">                    </span><span style=\"color: #000080; text-decoration-color: #000080\">INFO    </span> <span style=\"color: #0000ff; text-decoration-color: #0000ff\">train</span>  - <span style=\"font-weight: bold\">(</span>Valid<span style=\"font-weight: bold\">)</span> bce:  <span style=\"color: #008080; text-decoration-color: #008080; font-weight: bold\">0.3559</span>,  acc: <span style=\"color: #008080; text-decoration-color: #008080; font-weight: bold\">88.255</span> %,pearson: <span style=\"color: #008080; text-decoration-color: #008080; font-weight: bold\">0.631</span>,  <a href=\"file:///n/home09/pren/3DGeno_tools/src/gt3d/modules/higashi/Higashi_wrapper.py\" target=\"_blank\"><span style=\"color: #7f7f7f; text-decoration-color: #7f7f7f\">Higashi_wrapper.py</span></a><span style=\"color: #7f7f7f; text-decoration-color: #7f7f7f\">:</span><a href=\"file:///n/home09/pren/3DGeno_tools/src/gt3d/modules/higashi/Higashi_wrapper.py#1277\" target=\"_blank\"><span style=\"color: #7f7f7f; text-decoration-color: #7f7f7f\">1277</span></a>\n",
       "<span style=\"color: #7fbfbf; text-decoration-color: #7fbfbf\">                    </span>         spearman: <span style=\"color: #008080; text-decoration-color: #008080; font-weight: bold\">0.557</span>,elapse: <span style=\"color: #008080; text-decoration-color: #008080; font-weight: bold\">0.055</span> s                                <span style=\"color: #7f7f7f; text-decoration-color: #7f7f7f\">                       </span>\n",
       "</pre>\n"
      ],
      "text/plain": [
       "\u001b[2;36m                   \u001b[0m\u001b[2;36m \u001b[0m\u001b[34mINFO    \u001b[0m \u001b[94mtrain\u001b[0m  - \u001b[1m(\u001b[0mValid\u001b[1m)\u001b[0m bce:  \u001b[1;36m0.3559\u001b[0m,  acc: \u001b[1;36m88.255\u001b[0m %,pearson: \u001b[1;36m0.631\u001b[0m,  \u001b]8;id=730056;file:///n/home09/pren/3DGeno_tools/src/gt3d/modules/higashi/Higashi_wrapper.py\u001b\\\u001b[2mHigashi_wrapper.py\u001b[0m\u001b]8;;\u001b\\\u001b[2m:\u001b[0m\u001b]8;id=707199;file:///n/home09/pren/3DGeno_tools/src/gt3d/modules/higashi/Higashi_wrapper.py#1277\u001b\\\u001b[2m1277\u001b[0m\u001b]8;;\u001b\\\n",
       "\u001b[2;36m                    \u001b[0m         spearman: \u001b[1;36m0.557\u001b[0m,elapse: \u001b[1;36m0.055\u001b[0m s                                \u001b[2m                       \u001b[0m\n"
      ]
     },
     "metadata": {},
     "output_type": "display_data"
    },
    {
     "data": {
      "text/html": [
       "<pre style=\"white-space:pre;overflow-x:auto;line-height:normal;font-family:Menlo,'DejaVu Sans Mono',consolas,'Courier New',monospace\"><span style=\"color: #7fbfbf; text-decoration-color: #7fbfbf\">                    </span><span style=\"color: #000080; text-decoration-color: #000080\">INFO    </span> <span style=\"color: #0000ff; text-decoration-color: #0000ff\">train</span> update_rate: <span style=\"color: #008080; text-decoration-color: #008080; font-weight: bold\">0.002457</span>     <span style=\"color: #008080; text-decoration-color: #008080; font-weight: bold\">0.144833</span>                       <a href=\"file:///n/home09/pren/3DGeno_tools/src/gt3d/modules/higashi/Higashi_wrapper.py\" target=\"_blank\"><span style=\"color: #7f7f7f; text-decoration-color: #7f7f7f\">Higashi_wrapper.py</span></a><span style=\"color: #7f7f7f; text-decoration-color: #7f7f7f\">:</span><a href=\"file:///n/home09/pren/3DGeno_tools/src/gt3d/modules/higashi/Higashi_wrapper.py#1323\" target=\"_blank\"><span style=\"color: #7f7f7f; text-decoration-color: #7f7f7f\">1323</span></a>\n",
       "</pre>\n"
      ],
      "text/plain": [
       "\u001b[2;36m                   \u001b[0m\u001b[2;36m \u001b[0m\u001b[34mINFO    \u001b[0m \u001b[94mtrain\u001b[0m update_rate: \u001b[1;36m0.002457\u001b[0m     \u001b[1;36m0.144833\u001b[0m                       \u001b]8;id=712202;file:///n/home09/pren/3DGeno_tools/src/gt3d/modules/higashi/Higashi_wrapper.py\u001b\\\u001b[2mHigashi_wrapper.py\u001b[0m\u001b]8;;\u001b\\\u001b[2m:\u001b[0m\u001b]8;id=492502;file:///n/home09/pren/3DGeno_tools/src/gt3d/modules/higashi/Higashi_wrapper.py#1323\u001b\\\u001b[2m1323\u001b[0m\u001b]8;;\u001b\\\n"
      ]
     },
     "metadata": {},
     "output_type": "display_data"
    },
    {
     "data": {
      "text/html": [
       "<pre style=\"white-space:pre;overflow-x:auto;line-height:normal;font-family:Menlo,'DejaVu Sans Mono',consolas,'Courier New',monospace\"><span style=\"color: #7fbfbf; text-decoration-color: #7fbfbf\">                    </span><span style=\"color: #000080; text-decoration-color: #000080\">INFO    </span> <span style=\"color: #0000ff; text-decoration-color: #0000ff\">train</span> <span style=\"font-weight: bold\">[</span> Epoch <span style=\"color: #008080; text-decoration-color: #008080; font-weight: bold\">55</span> of <span style=\"color: #008080; text-decoration-color: #008080; font-weight: bold\">65</span> <span style=\"font-weight: bold\">]</span>                                       <a href=\"file:///n/home09/pren/3DGeno_tools/src/gt3d/modules/higashi/Higashi_wrapper.py\" target=\"_blank\"><span style=\"color: #7f7f7f; text-decoration-color: #7f7f7f\">Higashi_wrapper.py</span></a><span style=\"color: #7f7f7f; text-decoration-color: #7f7f7f\">:</span><a href=\"file:///n/home09/pren/3DGeno_tools/src/gt3d/modules/higashi/Higashi_wrapper.py#1245\" target=\"_blank\"><span style=\"color: #7f7f7f; text-decoration-color: #7f7f7f\">1245</span></a>\n",
       "</pre>\n"
      ],
      "text/plain": [
       "\u001b[2;36m                   \u001b[0m\u001b[2;36m \u001b[0m\u001b[34mINFO    \u001b[0m \u001b[94mtrain\u001b[0m \u001b[1m[\u001b[0m Epoch \u001b[1;36m55\u001b[0m of \u001b[1;36m65\u001b[0m \u001b[1m]\u001b[0m                                       \u001b]8;id=41806;file:///n/home09/pren/3DGeno_tools/src/gt3d/modules/higashi/Higashi_wrapper.py\u001b\\\u001b[2mHigashi_wrapper.py\u001b[0m\u001b]8;;\u001b\\\u001b[2m:\u001b[0m\u001b]8;id=116738;file:///n/home09/pren/3DGeno_tools/src/gt3d/modules/higashi/Higashi_wrapper.py#1245\u001b\\\u001b[2m1245\u001b[0m\u001b]8;;\u001b\\\n"
      ]
     },
     "metadata": {},
     "output_type": "display_data"
    },
    {
     "data": {
      "application/vnd.jupyter.widget-view+json": {
       "model_id": "750cfba6108d438d94a71d26279d6551",
       "version_major": 2,
       "version_minor": 0
      },
      "text/plain": [
       "Output()"
      ]
     },
     "metadata": {},
     "output_type": "display_data"
    },
    {
     "data": {
      "text/html": [
       "<pre style=\"white-space:pre;overflow-x:auto;line-height:normal;font-family:Menlo,'DejaVu Sans Mono',consolas,'Courier New',monospace\"></pre>\n"
      ],
      "text/plain": []
     },
     "metadata": {},
     "output_type": "display_data"
    },
    {
     "data": {
      "text/html": [
       "<pre style=\"white-space:pre;overflow-x:auto;line-height:normal;font-family:Menlo,'DejaVu Sans Mono',consolas,'Courier New',monospace\"><span style=\"color: #7fbfbf; text-decoration-color: #7fbfbf\">[12/07/24 15:54:23] </span><span style=\"color: #000080; text-decoration-color: #000080\">INFO    </span> <span style=\"color: #0000ff; text-decoration-color: #0000ff\">train</span>  - <span style=\"font-weight: bold\">(</span>Train<span style=\"font-weight: bold\">)</span> bce:  <span style=\"color: #008080; text-decoration-color: #008080; font-weight: bold\">0.3089</span>, mse:  <span style=\"color: #008080; text-decoration-color: #008080; font-weight: bold\">0.9174</span>,  acc: <span style=\"color: #008080; text-decoration-color: #008080; font-weight: bold\">90.268</span> %,   <a href=\"file:///n/home09/pren/3DGeno_tools/src/gt3d/modules/higashi/Higashi_wrapper.py\" target=\"_blank\"><span style=\"color: #7f7f7f; text-decoration-color: #7f7f7f\">Higashi_wrapper.py</span></a><span style=\"color: #7f7f7f; text-decoration-color: #7f7f7f\">:</span><a href=\"file:///n/home09/pren/3DGeno_tools/src/gt3d/modules/higashi/Higashi_wrapper.py#1258\" target=\"_blank\"><span style=\"color: #7f7f7f; text-decoration-color: #7f7f7f\">1258</span></a>\n",
       "<span style=\"color: #7fbfbf; text-decoration-color: #7fbfbf\">                    </span>         pearson: <span style=\"color: #008080; text-decoration-color: #008080; font-weight: bold\">0.699</span>, spearman: <span style=\"color: #008080; text-decoration-color: #008080; font-weight: bold\">0.588</span>, elapse: <span style=\"color: #008080; text-decoration-color: #008080; font-weight: bold\">89.945</span> s              <span style=\"color: #7f7f7f; text-decoration-color: #7f7f7f\">                       </span>\n",
       "</pre>\n"
      ],
      "text/plain": [
       "\u001b[2;36m[12/07/24 15:54:23]\u001b[0m\u001b[2;36m \u001b[0m\u001b[34mINFO    \u001b[0m \u001b[94mtrain\u001b[0m  - \u001b[1m(\u001b[0mTrain\u001b[1m)\u001b[0m bce:  \u001b[1;36m0.3089\u001b[0m, mse:  \u001b[1;36m0.9174\u001b[0m,  acc: \u001b[1;36m90.268\u001b[0m %,   \u001b]8;id=833340;file:///n/home09/pren/3DGeno_tools/src/gt3d/modules/higashi/Higashi_wrapper.py\u001b\\\u001b[2mHigashi_wrapper.py\u001b[0m\u001b]8;;\u001b\\\u001b[2m:\u001b[0m\u001b]8;id=927554;file:///n/home09/pren/3DGeno_tools/src/gt3d/modules/higashi/Higashi_wrapper.py#1258\u001b\\\u001b[2m1258\u001b[0m\u001b]8;;\u001b\\\n",
       "\u001b[2;36m                    \u001b[0m         pearson: \u001b[1;36m0.699\u001b[0m, spearman: \u001b[1;36m0.588\u001b[0m, elapse: \u001b[1;36m89.945\u001b[0m s              \u001b[2m                       \u001b[0m\n"
      ]
     },
     "metadata": {},
     "output_type": "display_data"
    },
    {
     "data": {
      "application/vnd.jupyter.widget-view+json": {
       "model_id": "b3ff5d4a33c14865a21a1804263840cb",
       "version_major": 2,
       "version_minor": 0
      },
      "text/plain": [
       "Output()"
      ]
     },
     "metadata": {},
     "output_type": "display_data"
    },
    {
     "data": {
      "text/html": [
       "<pre style=\"white-space:pre;overflow-x:auto;line-height:normal;font-family:Menlo,'DejaVu Sans Mono',consolas,'Courier New',monospace\"></pre>\n"
      ],
      "text/plain": []
     },
     "metadata": {},
     "output_type": "display_data"
    },
    {
     "data": {
      "text/html": [
       "<pre style=\"white-space:pre;overflow-x:auto;line-height:normal;font-family:Menlo,'DejaVu Sans Mono',consolas,'Courier New',monospace\"><span style=\"color: #7fbfbf; text-decoration-color: #7fbfbf\">                    </span><span style=\"color: #000080; text-decoration-color: #000080\">INFO    </span> <span style=\"color: #0000ff; text-decoration-color: #0000ff\">train</span>  - <span style=\"font-weight: bold\">(</span>Valid<span style=\"font-weight: bold\">)</span> bce:  <span style=\"color: #008080; text-decoration-color: #008080; font-weight: bold\">0.3695</span>,  acc: <span style=\"color: #008080; text-decoration-color: #008080; font-weight: bold\">88.053</span> %,pearson: <span style=\"color: #008080; text-decoration-color: #008080; font-weight: bold\">0.607</span>,  <a href=\"file:///n/home09/pren/3DGeno_tools/src/gt3d/modules/higashi/Higashi_wrapper.py\" target=\"_blank\"><span style=\"color: #7f7f7f; text-decoration-color: #7f7f7f\">Higashi_wrapper.py</span></a><span style=\"color: #7f7f7f; text-decoration-color: #7f7f7f\">:</span><a href=\"file:///n/home09/pren/3DGeno_tools/src/gt3d/modules/higashi/Higashi_wrapper.py#1277\" target=\"_blank\"><span style=\"color: #7f7f7f; text-decoration-color: #7f7f7f\">1277</span></a>\n",
       "<span style=\"color: #7fbfbf; text-decoration-color: #7fbfbf\">                    </span>         spearman: <span style=\"color: #008080; text-decoration-color: #008080; font-weight: bold\">0.546</span>,elapse: <span style=\"color: #008080; text-decoration-color: #008080; font-weight: bold\">0.051</span> s                                <span style=\"color: #7f7f7f; text-decoration-color: #7f7f7f\">                       </span>\n",
       "</pre>\n"
      ],
      "text/plain": [
       "\u001b[2;36m                   \u001b[0m\u001b[2;36m \u001b[0m\u001b[34mINFO    \u001b[0m \u001b[94mtrain\u001b[0m  - \u001b[1m(\u001b[0mValid\u001b[1m)\u001b[0m bce:  \u001b[1;36m0.3695\u001b[0m,  acc: \u001b[1;36m88.053\u001b[0m %,pearson: \u001b[1;36m0.607\u001b[0m,  \u001b]8;id=571724;file:///n/home09/pren/3DGeno_tools/src/gt3d/modules/higashi/Higashi_wrapper.py\u001b\\\u001b[2mHigashi_wrapper.py\u001b[0m\u001b]8;;\u001b\\\u001b[2m:\u001b[0m\u001b]8;id=113843;file:///n/home09/pren/3DGeno_tools/src/gt3d/modules/higashi/Higashi_wrapper.py#1277\u001b\\\u001b[2m1277\u001b[0m\u001b]8;;\u001b\\\n",
       "\u001b[2;36m                    \u001b[0m         spearman: \u001b[1;36m0.546\u001b[0m,elapse: \u001b[1;36m0.051\u001b[0m s                                \u001b[2m                       \u001b[0m\n"
      ]
     },
     "metadata": {},
     "output_type": "display_data"
    },
    {
     "data": {
      "text/html": [
       "<pre style=\"white-space:pre;overflow-x:auto;line-height:normal;font-family:Menlo,'DejaVu Sans Mono',consolas,'Courier New',monospace\"><span style=\"color: #7fbfbf; text-decoration-color: #7fbfbf\">                    </span><span style=\"color: #000080; text-decoration-color: #000080\">INFO    </span> <span style=\"color: #0000ff; text-decoration-color: #0000ff\">train</span> update_rate: <span style=\"color: #008080; text-decoration-color: #008080; font-weight: bold\">0.002283</span>     <span style=\"color: #008080; text-decoration-color: #008080; font-weight: bold\">0.074120</span>                       <a href=\"file:///n/home09/pren/3DGeno_tools/src/gt3d/modules/higashi/Higashi_wrapper.py\" target=\"_blank\"><span style=\"color: #7f7f7f; text-decoration-color: #7f7f7f\">Higashi_wrapper.py</span></a><span style=\"color: #7f7f7f; text-decoration-color: #7f7f7f\">:</span><a href=\"file:///n/home09/pren/3DGeno_tools/src/gt3d/modules/higashi/Higashi_wrapper.py#1323\" target=\"_blank\"><span style=\"color: #7f7f7f; text-decoration-color: #7f7f7f\">1323</span></a>\n",
       "</pre>\n"
      ],
      "text/plain": [
       "\u001b[2;36m                   \u001b[0m\u001b[2;36m \u001b[0m\u001b[34mINFO    \u001b[0m \u001b[94mtrain\u001b[0m update_rate: \u001b[1;36m0.002283\u001b[0m     \u001b[1;36m0.074120\u001b[0m                       \u001b]8;id=5071;file:///n/home09/pren/3DGeno_tools/src/gt3d/modules/higashi/Higashi_wrapper.py\u001b\\\u001b[2mHigashi_wrapper.py\u001b[0m\u001b]8;;\u001b\\\u001b[2m:\u001b[0m\u001b]8;id=770326;file:///n/home09/pren/3DGeno_tools/src/gt3d/modules/higashi/Higashi_wrapper.py#1323\u001b\\\u001b[2m1323\u001b[0m\u001b]8;;\u001b\\\n"
      ]
     },
     "metadata": {},
     "output_type": "display_data"
    },
    {
     "data": {
      "text/html": [
       "<pre style=\"white-space:pre;overflow-x:auto;line-height:normal;font-family:Menlo,'DejaVu Sans Mono',consolas,'Courier New',monospace\"><span style=\"color: #7fbfbf; text-decoration-color: #7fbfbf\">                    </span><span style=\"color: #000080; text-decoration-color: #000080\">INFO    </span> <span style=\"color: #0000ff; text-decoration-color: #0000ff\">train</span> <span style=\"font-weight: bold\">[</span> Epoch <span style=\"color: #008080; text-decoration-color: #008080; font-weight: bold\">56</span> of <span style=\"color: #008080; text-decoration-color: #008080; font-weight: bold\">65</span> <span style=\"font-weight: bold\">]</span>                                       <a href=\"file:///n/home09/pren/3DGeno_tools/src/gt3d/modules/higashi/Higashi_wrapper.py\" target=\"_blank\"><span style=\"color: #7f7f7f; text-decoration-color: #7f7f7f\">Higashi_wrapper.py</span></a><span style=\"color: #7f7f7f; text-decoration-color: #7f7f7f\">:</span><a href=\"file:///n/home09/pren/3DGeno_tools/src/gt3d/modules/higashi/Higashi_wrapper.py#1245\" target=\"_blank\"><span style=\"color: #7f7f7f; text-decoration-color: #7f7f7f\">1245</span></a>\n",
       "</pre>\n"
      ],
      "text/plain": [
       "\u001b[2;36m                   \u001b[0m\u001b[2;36m \u001b[0m\u001b[34mINFO    \u001b[0m \u001b[94mtrain\u001b[0m \u001b[1m[\u001b[0m Epoch \u001b[1;36m56\u001b[0m of \u001b[1;36m65\u001b[0m \u001b[1m]\u001b[0m                                       \u001b]8;id=926388;file:///n/home09/pren/3DGeno_tools/src/gt3d/modules/higashi/Higashi_wrapper.py\u001b\\\u001b[2mHigashi_wrapper.py\u001b[0m\u001b]8;;\u001b\\\u001b[2m:\u001b[0m\u001b]8;id=34728;file:///n/home09/pren/3DGeno_tools/src/gt3d/modules/higashi/Higashi_wrapper.py#1245\u001b\\\u001b[2m1245\u001b[0m\u001b]8;;\u001b\\\n"
      ]
     },
     "metadata": {},
     "output_type": "display_data"
    },
    {
     "data": {
      "application/vnd.jupyter.widget-view+json": {
       "model_id": "8bf13aec969e49f9a3aaa3e299056fa1",
       "version_major": 2,
       "version_minor": 0
      },
      "text/plain": [
       "Output()"
      ]
     },
     "metadata": {},
     "output_type": "display_data"
    },
    {
     "data": {
      "text/html": [
       "<pre style=\"white-space:pre;overflow-x:auto;line-height:normal;font-family:Menlo,'DejaVu Sans Mono',consolas,'Courier New',monospace\"></pre>\n"
      ],
      "text/plain": []
     },
     "metadata": {},
     "output_type": "display_data"
    },
    {
     "data": {
      "text/html": [
       "<pre style=\"white-space:pre;overflow-x:auto;line-height:normal;font-family:Menlo,'DejaVu Sans Mono',consolas,'Courier New',monospace\"><span style=\"color: #7fbfbf; text-decoration-color: #7fbfbf\">[12/07/24 15:55:54] </span><span style=\"color: #000080; text-decoration-color: #000080\">INFO    </span> <span style=\"color: #0000ff; text-decoration-color: #0000ff\">train</span>  - <span style=\"font-weight: bold\">(</span>Train<span style=\"font-weight: bold\">)</span> bce:  <span style=\"color: #008080; text-decoration-color: #008080; font-weight: bold\">0.3093</span>, mse:  <span style=\"color: #008080; text-decoration-color: #008080; font-weight: bold\">0.8693</span>,  acc: <span style=\"color: #008080; text-decoration-color: #008080; font-weight: bold\">90.231</span> %,   <a href=\"file:///n/home09/pren/3DGeno_tools/src/gt3d/modules/higashi/Higashi_wrapper.py\" target=\"_blank\"><span style=\"color: #7f7f7f; text-decoration-color: #7f7f7f\">Higashi_wrapper.py</span></a><span style=\"color: #7f7f7f; text-decoration-color: #7f7f7f\">:</span><a href=\"file:///n/home09/pren/3DGeno_tools/src/gt3d/modules/higashi/Higashi_wrapper.py#1258\" target=\"_blank\"><span style=\"color: #7f7f7f; text-decoration-color: #7f7f7f\">1258</span></a>\n",
       "<span style=\"color: #7fbfbf; text-decoration-color: #7fbfbf\">                    </span>         pearson: <span style=\"color: #008080; text-decoration-color: #008080; font-weight: bold\">0.697</span>, spearman: <span style=\"color: #008080; text-decoration-color: #008080; font-weight: bold\">0.587</span>, elapse: <span style=\"color: #008080; text-decoration-color: #008080; font-weight: bold\">90.664</span> s              <span style=\"color: #7f7f7f; text-decoration-color: #7f7f7f\">                       </span>\n",
       "</pre>\n"
      ],
      "text/plain": [
       "\u001b[2;36m[12/07/24 15:55:54]\u001b[0m\u001b[2;36m \u001b[0m\u001b[34mINFO    \u001b[0m \u001b[94mtrain\u001b[0m  - \u001b[1m(\u001b[0mTrain\u001b[1m)\u001b[0m bce:  \u001b[1;36m0.3093\u001b[0m, mse:  \u001b[1;36m0.8693\u001b[0m,  acc: \u001b[1;36m90.231\u001b[0m %,   \u001b]8;id=859064;file:///n/home09/pren/3DGeno_tools/src/gt3d/modules/higashi/Higashi_wrapper.py\u001b\\\u001b[2mHigashi_wrapper.py\u001b[0m\u001b]8;;\u001b\\\u001b[2m:\u001b[0m\u001b]8;id=153181;file:///n/home09/pren/3DGeno_tools/src/gt3d/modules/higashi/Higashi_wrapper.py#1258\u001b\\\u001b[2m1258\u001b[0m\u001b]8;;\u001b\\\n",
       "\u001b[2;36m                    \u001b[0m         pearson: \u001b[1;36m0.697\u001b[0m, spearman: \u001b[1;36m0.587\u001b[0m, elapse: \u001b[1;36m90.664\u001b[0m s              \u001b[2m                       \u001b[0m\n"
      ]
     },
     "metadata": {},
     "output_type": "display_data"
    },
    {
     "data": {
      "application/vnd.jupyter.widget-view+json": {
       "model_id": "e7ea8319987546048bfeed7fb77ab6de",
       "version_major": 2,
       "version_minor": 0
      },
      "text/plain": [
       "Output()"
      ]
     },
     "metadata": {},
     "output_type": "display_data"
    },
    {
     "data": {
      "text/html": [
       "<pre style=\"white-space:pre;overflow-x:auto;line-height:normal;font-family:Menlo,'DejaVu Sans Mono',consolas,'Courier New',monospace\"></pre>\n"
      ],
      "text/plain": []
     },
     "metadata": {},
     "output_type": "display_data"
    },
    {
     "data": {
      "text/html": [
       "<pre style=\"white-space:pre;overflow-x:auto;line-height:normal;font-family:Menlo,'DejaVu Sans Mono',consolas,'Courier New',monospace\"><span style=\"color: #7fbfbf; text-decoration-color: #7fbfbf\">                    </span><span style=\"color: #000080; text-decoration-color: #000080\">INFO    </span> <span style=\"color: #0000ff; text-decoration-color: #0000ff\">train</span>  - <span style=\"font-weight: bold\">(</span>Valid<span style=\"font-weight: bold\">)</span> bce:  <span style=\"color: #008080; text-decoration-color: #008080; font-weight: bold\">0.3759</span>,  acc: <span style=\"color: #008080; text-decoration-color: #008080; font-weight: bold\">89.121</span> %,pearson: <span style=\"color: #008080; text-decoration-color: #008080; font-weight: bold\">0.624</span>,  <a href=\"file:///n/home09/pren/3DGeno_tools/src/gt3d/modules/higashi/Higashi_wrapper.py\" target=\"_blank\"><span style=\"color: #7f7f7f; text-decoration-color: #7f7f7f\">Higashi_wrapper.py</span></a><span style=\"color: #7f7f7f; text-decoration-color: #7f7f7f\">:</span><a href=\"file:///n/home09/pren/3DGeno_tools/src/gt3d/modules/higashi/Higashi_wrapper.py#1277\" target=\"_blank\"><span style=\"color: #7f7f7f; text-decoration-color: #7f7f7f\">1277</span></a>\n",
       "<span style=\"color: #7fbfbf; text-decoration-color: #7fbfbf\">                    </span>         spearman: <span style=\"color: #008080; text-decoration-color: #008080; font-weight: bold\">0.557</span>,elapse: <span style=\"color: #008080; text-decoration-color: #008080; font-weight: bold\">0.052</span> s                                <span style=\"color: #7f7f7f; text-decoration-color: #7f7f7f\">                       </span>\n",
       "</pre>\n"
      ],
      "text/plain": [
       "\u001b[2;36m                   \u001b[0m\u001b[2;36m \u001b[0m\u001b[34mINFO    \u001b[0m \u001b[94mtrain\u001b[0m  - \u001b[1m(\u001b[0mValid\u001b[1m)\u001b[0m bce:  \u001b[1;36m0.3759\u001b[0m,  acc: \u001b[1;36m89.121\u001b[0m %,pearson: \u001b[1;36m0.624\u001b[0m,  \u001b]8;id=553195;file:///n/home09/pren/3DGeno_tools/src/gt3d/modules/higashi/Higashi_wrapper.py\u001b\\\u001b[2mHigashi_wrapper.py\u001b[0m\u001b]8;;\u001b\\\u001b[2m:\u001b[0m\u001b]8;id=218542;file:///n/home09/pren/3DGeno_tools/src/gt3d/modules/higashi/Higashi_wrapper.py#1277\u001b\\\u001b[2m1277\u001b[0m\u001b]8;;\u001b\\\n",
       "\u001b[2;36m                    \u001b[0m         spearman: \u001b[1;36m0.557\u001b[0m,elapse: \u001b[1;36m0.052\u001b[0m s                                \u001b[2m                       \u001b[0m\n"
      ]
     },
     "metadata": {},
     "output_type": "display_data"
    },
    {
     "data": {
      "text/html": [
       "<pre style=\"white-space:pre;overflow-x:auto;line-height:normal;font-family:Menlo,'DejaVu Sans Mono',consolas,'Courier New',monospace\"><span style=\"color: #7fbfbf; text-decoration-color: #7fbfbf\">                    </span><span style=\"color: #000080; text-decoration-color: #000080\">INFO    </span> <span style=\"color: #0000ff; text-decoration-color: #0000ff\">train</span> update_rate: <span style=\"color: #008080; text-decoration-color: #008080; font-weight: bold\">0.002327</span>     <span style=\"color: #008080; text-decoration-color: #008080; font-weight: bold\">0.093172</span>                       <a href=\"file:///n/home09/pren/3DGeno_tools/src/gt3d/modules/higashi/Higashi_wrapper.py\" target=\"_blank\"><span style=\"color: #7f7f7f; text-decoration-color: #7f7f7f\">Higashi_wrapper.py</span></a><span style=\"color: #7f7f7f; text-decoration-color: #7f7f7f\">:</span><a href=\"file:///n/home09/pren/3DGeno_tools/src/gt3d/modules/higashi/Higashi_wrapper.py#1323\" target=\"_blank\"><span style=\"color: #7f7f7f; text-decoration-color: #7f7f7f\">1323</span></a>\n",
       "</pre>\n"
      ],
      "text/plain": [
       "\u001b[2;36m                   \u001b[0m\u001b[2;36m \u001b[0m\u001b[34mINFO    \u001b[0m \u001b[94mtrain\u001b[0m update_rate: \u001b[1;36m0.002327\u001b[0m     \u001b[1;36m0.093172\u001b[0m                       \u001b]8;id=154061;file:///n/home09/pren/3DGeno_tools/src/gt3d/modules/higashi/Higashi_wrapper.py\u001b\\\u001b[2mHigashi_wrapper.py\u001b[0m\u001b]8;;\u001b\\\u001b[2m:\u001b[0m\u001b]8;id=784284;file:///n/home09/pren/3DGeno_tools/src/gt3d/modules/higashi/Higashi_wrapper.py#1323\u001b\\\u001b[2m1323\u001b[0m\u001b]8;;\u001b\\\n"
      ]
     },
     "metadata": {},
     "output_type": "display_data"
    },
    {
     "data": {
      "text/html": [
       "<pre style=\"white-space:pre;overflow-x:auto;line-height:normal;font-family:Menlo,'DejaVu Sans Mono',consolas,'Courier New',monospace\"><span style=\"color: #7fbfbf; text-decoration-color: #7fbfbf\">                    </span><span style=\"color: #000080; text-decoration-color: #000080\">INFO    </span> <span style=\"color: #0000ff; text-decoration-color: #0000ff\">train</span> <span style=\"font-weight: bold\">[</span> Epoch <span style=\"color: #008080; text-decoration-color: #008080; font-weight: bold\">57</span> of <span style=\"color: #008080; text-decoration-color: #008080; font-weight: bold\">65</span> <span style=\"font-weight: bold\">]</span>                                       <a href=\"file:///n/home09/pren/3DGeno_tools/src/gt3d/modules/higashi/Higashi_wrapper.py\" target=\"_blank\"><span style=\"color: #7f7f7f; text-decoration-color: #7f7f7f\">Higashi_wrapper.py</span></a><span style=\"color: #7f7f7f; text-decoration-color: #7f7f7f\">:</span><a href=\"file:///n/home09/pren/3DGeno_tools/src/gt3d/modules/higashi/Higashi_wrapper.py#1245\" target=\"_blank\"><span style=\"color: #7f7f7f; text-decoration-color: #7f7f7f\">1245</span></a>\n",
       "</pre>\n"
      ],
      "text/plain": [
       "\u001b[2;36m                   \u001b[0m\u001b[2;36m \u001b[0m\u001b[34mINFO    \u001b[0m \u001b[94mtrain\u001b[0m \u001b[1m[\u001b[0m Epoch \u001b[1;36m57\u001b[0m of \u001b[1;36m65\u001b[0m \u001b[1m]\u001b[0m                                       \u001b]8;id=50624;file:///n/home09/pren/3DGeno_tools/src/gt3d/modules/higashi/Higashi_wrapper.py\u001b\\\u001b[2mHigashi_wrapper.py\u001b[0m\u001b]8;;\u001b\\\u001b[2m:\u001b[0m\u001b]8;id=16373;file:///n/home09/pren/3DGeno_tools/src/gt3d/modules/higashi/Higashi_wrapper.py#1245\u001b\\\u001b[2m1245\u001b[0m\u001b]8;;\u001b\\\n"
      ]
     },
     "metadata": {},
     "output_type": "display_data"
    },
    {
     "data": {
      "application/vnd.jupyter.widget-view+json": {
       "model_id": "07b89df824fa4e70ac09d856b6c01c98",
       "version_major": 2,
       "version_minor": 0
      },
      "text/plain": [
       "Output()"
      ]
     },
     "metadata": {},
     "output_type": "display_data"
    },
    {
     "data": {
      "text/html": [
       "<pre style=\"white-space:pre;overflow-x:auto;line-height:normal;font-family:Menlo,'DejaVu Sans Mono',consolas,'Courier New',monospace\"></pre>\n"
      ],
      "text/plain": []
     },
     "metadata": {},
     "output_type": "display_data"
    },
    {
     "data": {
      "text/html": [
       "<pre style=\"white-space:pre;overflow-x:auto;line-height:normal;font-family:Menlo,'DejaVu Sans Mono',consolas,'Courier New',monospace\"><span style=\"color: #7fbfbf; text-decoration-color: #7fbfbf\">[12/07/24 15:57:24] </span><span style=\"color: #000080; text-decoration-color: #000080\">INFO    </span> <span style=\"color: #0000ff; text-decoration-color: #0000ff\">train</span>  - <span style=\"font-weight: bold\">(</span>Train<span style=\"font-weight: bold\">)</span> bce:  <span style=\"color: #008080; text-decoration-color: #008080; font-weight: bold\">0.3087</span>, mse:  <span style=\"color: #008080; text-decoration-color: #008080; font-weight: bold\">1.0143</span>,  acc: <span style=\"color: #008080; text-decoration-color: #008080; font-weight: bold\">90.319</span> %,   <a href=\"file:///n/home09/pren/3DGeno_tools/src/gt3d/modules/higashi/Higashi_wrapper.py\" target=\"_blank\"><span style=\"color: #7f7f7f; text-decoration-color: #7f7f7f\">Higashi_wrapper.py</span></a><span style=\"color: #7f7f7f; text-decoration-color: #7f7f7f\">:</span><a href=\"file:///n/home09/pren/3DGeno_tools/src/gt3d/modules/higashi/Higashi_wrapper.py#1258\" target=\"_blank\"><span style=\"color: #7f7f7f; text-decoration-color: #7f7f7f\">1258</span></a>\n",
       "<span style=\"color: #7fbfbf; text-decoration-color: #7fbfbf\">                    </span>         pearson: <span style=\"color: #008080; text-decoration-color: #008080; font-weight: bold\">0.698</span>, spearman: <span style=\"color: #008080; text-decoration-color: #008080; font-weight: bold\">0.588</span>, elapse: <span style=\"color: #008080; text-decoration-color: #008080; font-weight: bold\">89.356</span> s              <span style=\"color: #7f7f7f; text-decoration-color: #7f7f7f\">                       </span>\n",
       "</pre>\n"
      ],
      "text/plain": [
       "\u001b[2;36m[12/07/24 15:57:24]\u001b[0m\u001b[2;36m \u001b[0m\u001b[34mINFO    \u001b[0m \u001b[94mtrain\u001b[0m  - \u001b[1m(\u001b[0mTrain\u001b[1m)\u001b[0m bce:  \u001b[1;36m0.3087\u001b[0m, mse:  \u001b[1;36m1.0143\u001b[0m,  acc: \u001b[1;36m90.319\u001b[0m %,   \u001b]8;id=966835;file:///n/home09/pren/3DGeno_tools/src/gt3d/modules/higashi/Higashi_wrapper.py\u001b\\\u001b[2mHigashi_wrapper.py\u001b[0m\u001b]8;;\u001b\\\u001b[2m:\u001b[0m\u001b]8;id=801864;file:///n/home09/pren/3DGeno_tools/src/gt3d/modules/higashi/Higashi_wrapper.py#1258\u001b\\\u001b[2m1258\u001b[0m\u001b]8;;\u001b\\\n",
       "\u001b[2;36m                    \u001b[0m         pearson: \u001b[1;36m0.698\u001b[0m, spearman: \u001b[1;36m0.588\u001b[0m, elapse: \u001b[1;36m89.356\u001b[0m s              \u001b[2m                       \u001b[0m\n"
      ]
     },
     "metadata": {},
     "output_type": "display_data"
    },
    {
     "data": {
      "application/vnd.jupyter.widget-view+json": {
       "model_id": "05b8adaaa5df4d71a5567f2c9e209371",
       "version_major": 2,
       "version_minor": 0
      },
      "text/plain": [
       "Output()"
      ]
     },
     "metadata": {},
     "output_type": "display_data"
    },
    {
     "data": {
      "text/html": [
       "<pre style=\"white-space:pre;overflow-x:auto;line-height:normal;font-family:Menlo,'DejaVu Sans Mono',consolas,'Courier New',monospace\"></pre>\n"
      ],
      "text/plain": []
     },
     "metadata": {},
     "output_type": "display_data"
    },
    {
     "data": {
      "text/html": [
       "<pre style=\"white-space:pre;overflow-x:auto;line-height:normal;font-family:Menlo,'DejaVu Sans Mono',consolas,'Courier New',monospace\"><span style=\"color: #7fbfbf; text-decoration-color: #7fbfbf\">                    </span><span style=\"color: #000080; text-decoration-color: #000080\">INFO    </span> <span style=\"color: #0000ff; text-decoration-color: #0000ff\">train</span>  - <span style=\"font-weight: bold\">(</span>Valid<span style=\"font-weight: bold\">)</span> bce:  <span style=\"color: #008080; text-decoration-color: #008080; font-weight: bold\">0.3663</span>,  acc: <span style=\"color: #008080; text-decoration-color: #008080; font-weight: bold\">89.108</span> %,pearson: <span style=\"color: #008080; text-decoration-color: #008080; font-weight: bold\">0.623</span>,  <a href=\"file:///n/home09/pren/3DGeno_tools/src/gt3d/modules/higashi/Higashi_wrapper.py\" target=\"_blank\"><span style=\"color: #7f7f7f; text-decoration-color: #7f7f7f\">Higashi_wrapper.py</span></a><span style=\"color: #7f7f7f; text-decoration-color: #7f7f7f\">:</span><a href=\"file:///n/home09/pren/3DGeno_tools/src/gt3d/modules/higashi/Higashi_wrapper.py#1277\" target=\"_blank\"><span style=\"color: #7f7f7f; text-decoration-color: #7f7f7f\">1277</span></a>\n",
       "<span style=\"color: #7fbfbf; text-decoration-color: #7fbfbf\">                    </span>         spearman: <span style=\"color: #008080; text-decoration-color: #008080; font-weight: bold\">0.565</span>,elapse: <span style=\"color: #008080; text-decoration-color: #008080; font-weight: bold\">0.052</span> s                                <span style=\"color: #7f7f7f; text-decoration-color: #7f7f7f\">                       </span>\n",
       "</pre>\n"
      ],
      "text/plain": [
       "\u001b[2;36m                   \u001b[0m\u001b[2;36m \u001b[0m\u001b[34mINFO    \u001b[0m \u001b[94mtrain\u001b[0m  - \u001b[1m(\u001b[0mValid\u001b[1m)\u001b[0m bce:  \u001b[1;36m0.3663\u001b[0m,  acc: \u001b[1;36m89.108\u001b[0m %,pearson: \u001b[1;36m0.623\u001b[0m,  \u001b]8;id=89727;file:///n/home09/pren/3DGeno_tools/src/gt3d/modules/higashi/Higashi_wrapper.py\u001b\\\u001b[2mHigashi_wrapper.py\u001b[0m\u001b]8;;\u001b\\\u001b[2m:\u001b[0m\u001b]8;id=109779;file:///n/home09/pren/3DGeno_tools/src/gt3d/modules/higashi/Higashi_wrapper.py#1277\u001b\\\u001b[2m1277\u001b[0m\u001b]8;;\u001b\\\n",
       "\u001b[2;36m                    \u001b[0m         spearman: \u001b[1;36m0.565\u001b[0m,elapse: \u001b[1;36m0.052\u001b[0m s                                \u001b[2m                       \u001b[0m\n"
      ]
     },
     "metadata": {},
     "output_type": "display_data"
    },
    {
     "data": {
      "text/html": [
       "<pre style=\"white-space:pre;overflow-x:auto;line-height:normal;font-family:Menlo,'DejaVu Sans Mono',consolas,'Courier New',monospace\"><span style=\"color: #7fbfbf; text-decoration-color: #7fbfbf\">                    </span><span style=\"color: #000080; text-decoration-color: #000080\">INFO    </span> <span style=\"color: #0000ff; text-decoration-color: #0000ff\">train</span> update_rate: <span style=\"color: #008080; text-decoration-color: #008080; font-weight: bold\">0.002463</span>     <span style=\"color: #008080; text-decoration-color: #008080; font-weight: bold\">0.093658</span>                       <a href=\"file:///n/home09/pren/3DGeno_tools/src/gt3d/modules/higashi/Higashi_wrapper.py\" target=\"_blank\"><span style=\"color: #7f7f7f; text-decoration-color: #7f7f7f\">Higashi_wrapper.py</span></a><span style=\"color: #7f7f7f; text-decoration-color: #7f7f7f\">:</span><a href=\"file:///n/home09/pren/3DGeno_tools/src/gt3d/modules/higashi/Higashi_wrapper.py#1323\" target=\"_blank\"><span style=\"color: #7f7f7f; text-decoration-color: #7f7f7f\">1323</span></a>\n",
       "</pre>\n"
      ],
      "text/plain": [
       "\u001b[2;36m                   \u001b[0m\u001b[2;36m \u001b[0m\u001b[34mINFO    \u001b[0m \u001b[94mtrain\u001b[0m update_rate: \u001b[1;36m0.002463\u001b[0m     \u001b[1;36m0.093658\u001b[0m                       \u001b]8;id=893755;file:///n/home09/pren/3DGeno_tools/src/gt3d/modules/higashi/Higashi_wrapper.py\u001b\\\u001b[2mHigashi_wrapper.py\u001b[0m\u001b]8;;\u001b\\\u001b[2m:\u001b[0m\u001b]8;id=235402;file:///n/home09/pren/3DGeno_tools/src/gt3d/modules/higashi/Higashi_wrapper.py#1323\u001b\\\u001b[2m1323\u001b[0m\u001b]8;;\u001b\\\n"
      ]
     },
     "metadata": {},
     "output_type": "display_data"
    },
    {
     "data": {
      "text/html": [
       "<pre style=\"white-space:pre;overflow-x:auto;line-height:normal;font-family:Menlo,'DejaVu Sans Mono',consolas,'Courier New',monospace\"><span style=\"color: #7fbfbf; text-decoration-color: #7fbfbf\">                    </span><span style=\"color: #000080; text-decoration-color: #000080\">INFO    </span> <span style=\"color: #0000ff; text-decoration-color: #0000ff\">train</span> <span style=\"font-weight: bold\">[</span> Epoch <span style=\"color: #008080; text-decoration-color: #008080; font-weight: bold\">58</span> of <span style=\"color: #008080; text-decoration-color: #008080; font-weight: bold\">65</span> <span style=\"font-weight: bold\">]</span>                                       <a href=\"file:///n/home09/pren/3DGeno_tools/src/gt3d/modules/higashi/Higashi_wrapper.py\" target=\"_blank\"><span style=\"color: #7f7f7f; text-decoration-color: #7f7f7f\">Higashi_wrapper.py</span></a><span style=\"color: #7f7f7f; text-decoration-color: #7f7f7f\">:</span><a href=\"file:///n/home09/pren/3DGeno_tools/src/gt3d/modules/higashi/Higashi_wrapper.py#1245\" target=\"_blank\"><span style=\"color: #7f7f7f; text-decoration-color: #7f7f7f\">1245</span></a>\n",
       "</pre>\n"
      ],
      "text/plain": [
       "\u001b[2;36m                   \u001b[0m\u001b[2;36m \u001b[0m\u001b[34mINFO    \u001b[0m \u001b[94mtrain\u001b[0m \u001b[1m[\u001b[0m Epoch \u001b[1;36m58\u001b[0m of \u001b[1;36m65\u001b[0m \u001b[1m]\u001b[0m                                       \u001b]8;id=366991;file:///n/home09/pren/3DGeno_tools/src/gt3d/modules/higashi/Higashi_wrapper.py\u001b\\\u001b[2mHigashi_wrapper.py\u001b[0m\u001b]8;;\u001b\\\u001b[2m:\u001b[0m\u001b]8;id=774255;file:///n/home09/pren/3DGeno_tools/src/gt3d/modules/higashi/Higashi_wrapper.py#1245\u001b\\\u001b[2m1245\u001b[0m\u001b]8;;\u001b\\\n"
      ]
     },
     "metadata": {},
     "output_type": "display_data"
    },
    {
     "data": {
      "application/vnd.jupyter.widget-view+json": {
       "model_id": "c42e72e4e75c42afb8d7e4872e4b8197",
       "version_major": 2,
       "version_minor": 0
      },
      "text/plain": [
       "Output()"
      ]
     },
     "metadata": {},
     "output_type": "display_data"
    },
    {
     "data": {
      "text/html": [
       "<pre style=\"white-space:pre;overflow-x:auto;line-height:normal;font-family:Menlo,'DejaVu Sans Mono',consolas,'Courier New',monospace\"></pre>\n"
      ],
      "text/plain": []
     },
     "metadata": {},
     "output_type": "display_data"
    },
    {
     "data": {
      "text/html": [
       "<pre style=\"white-space:pre;overflow-x:auto;line-height:normal;font-family:Menlo,'DejaVu Sans Mono',consolas,'Courier New',monospace\"><span style=\"color: #7fbfbf; text-decoration-color: #7fbfbf\">[12/07/24 15:58:58] </span><span style=\"color: #000080; text-decoration-color: #000080\">INFO    </span> <span style=\"color: #0000ff; text-decoration-color: #0000ff\">train</span>  - <span style=\"font-weight: bold\">(</span>Train<span style=\"font-weight: bold\">)</span> bce:  <span style=\"color: #008080; text-decoration-color: #008080; font-weight: bold\">0.3060</span>, mse:  <span style=\"color: #008080; text-decoration-color: #008080; font-weight: bold\">0.8833</span>,  acc: <span style=\"color: #008080; text-decoration-color: #008080; font-weight: bold\">90.451</span> %,   <a href=\"file:///n/home09/pren/3DGeno_tools/src/gt3d/modules/higashi/Higashi_wrapper.py\" target=\"_blank\"><span style=\"color: #7f7f7f; text-decoration-color: #7f7f7f\">Higashi_wrapper.py</span></a><span style=\"color: #7f7f7f; text-decoration-color: #7f7f7f\">:</span><a href=\"file:///n/home09/pren/3DGeno_tools/src/gt3d/modules/higashi/Higashi_wrapper.py#1258\" target=\"_blank\"><span style=\"color: #7f7f7f; text-decoration-color: #7f7f7f\">1258</span></a>\n",
       "<span style=\"color: #7fbfbf; text-decoration-color: #7fbfbf\">                    </span>         pearson: <span style=\"color: #008080; text-decoration-color: #008080; font-weight: bold\">0.702</span>, spearman: <span style=\"color: #008080; text-decoration-color: #008080; font-weight: bold\">0.589</span>, elapse: <span style=\"color: #008080; text-decoration-color: #008080; font-weight: bold\">94.129</span> s              <span style=\"color: #7f7f7f; text-decoration-color: #7f7f7f\">                       </span>\n",
       "</pre>\n"
      ],
      "text/plain": [
       "\u001b[2;36m[12/07/24 15:58:58]\u001b[0m\u001b[2;36m \u001b[0m\u001b[34mINFO    \u001b[0m \u001b[94mtrain\u001b[0m  - \u001b[1m(\u001b[0mTrain\u001b[1m)\u001b[0m bce:  \u001b[1;36m0.3060\u001b[0m, mse:  \u001b[1;36m0.8833\u001b[0m,  acc: \u001b[1;36m90.451\u001b[0m %,   \u001b]8;id=159831;file:///n/home09/pren/3DGeno_tools/src/gt3d/modules/higashi/Higashi_wrapper.py\u001b\\\u001b[2mHigashi_wrapper.py\u001b[0m\u001b]8;;\u001b\\\u001b[2m:\u001b[0m\u001b]8;id=224911;file:///n/home09/pren/3DGeno_tools/src/gt3d/modules/higashi/Higashi_wrapper.py#1258\u001b\\\u001b[2m1258\u001b[0m\u001b]8;;\u001b\\\n",
       "\u001b[2;36m                    \u001b[0m         pearson: \u001b[1;36m0.702\u001b[0m, spearman: \u001b[1;36m0.589\u001b[0m, elapse: \u001b[1;36m94.129\u001b[0m s              \u001b[2m                       \u001b[0m\n"
      ]
     },
     "metadata": {},
     "output_type": "display_data"
    },
    {
     "data": {
      "application/vnd.jupyter.widget-view+json": {
       "model_id": "f1d766d544994eabb84da1ad1d757e3c",
       "version_major": 2,
       "version_minor": 0
      },
      "text/plain": [
       "Output()"
      ]
     },
     "metadata": {},
     "output_type": "display_data"
    },
    {
     "data": {
      "text/html": [
       "<pre style=\"white-space:pre;overflow-x:auto;line-height:normal;font-family:Menlo,'DejaVu Sans Mono',consolas,'Courier New',monospace\"></pre>\n"
      ],
      "text/plain": []
     },
     "metadata": {},
     "output_type": "display_data"
    },
    {
     "data": {
      "text/html": [
       "<pre style=\"white-space:pre;overflow-x:auto;line-height:normal;font-family:Menlo,'DejaVu Sans Mono',consolas,'Courier New',monospace\"><span style=\"color: #7fbfbf; text-decoration-color: #7fbfbf\">                    </span><span style=\"color: #000080; text-decoration-color: #000080\">INFO    </span> <span style=\"color: #0000ff; text-decoration-color: #0000ff\">train</span>  - <span style=\"font-weight: bold\">(</span>Valid<span style=\"font-weight: bold\">)</span> bce:  <span style=\"color: #008080; text-decoration-color: #008080; font-weight: bold\">0.3642</span>,  acc: <span style=\"color: #008080; text-decoration-color: #008080; font-weight: bold\">89.108</span> %,pearson: <span style=\"color: #008080; text-decoration-color: #008080; font-weight: bold\">0.646</span>,  <a href=\"file:///n/home09/pren/3DGeno_tools/src/gt3d/modules/higashi/Higashi_wrapper.py\" target=\"_blank\"><span style=\"color: #7f7f7f; text-decoration-color: #7f7f7f\">Higashi_wrapper.py</span></a><span style=\"color: #7f7f7f; text-decoration-color: #7f7f7f\">:</span><a href=\"file:///n/home09/pren/3DGeno_tools/src/gt3d/modules/higashi/Higashi_wrapper.py#1277\" target=\"_blank\"><span style=\"color: #7f7f7f; text-decoration-color: #7f7f7f\">1277</span></a>\n",
       "<span style=\"color: #7fbfbf; text-decoration-color: #7fbfbf\">                    </span>         spearman: <span style=\"color: #008080; text-decoration-color: #008080; font-weight: bold\">0.561</span>,elapse: <span style=\"color: #008080; text-decoration-color: #008080; font-weight: bold\">0.053</span> s                                <span style=\"color: #7f7f7f; text-decoration-color: #7f7f7f\">                       </span>\n",
       "</pre>\n"
      ],
      "text/plain": [
       "\u001b[2;36m                   \u001b[0m\u001b[2;36m \u001b[0m\u001b[34mINFO    \u001b[0m \u001b[94mtrain\u001b[0m  - \u001b[1m(\u001b[0mValid\u001b[1m)\u001b[0m bce:  \u001b[1;36m0.3642\u001b[0m,  acc: \u001b[1;36m89.108\u001b[0m %,pearson: \u001b[1;36m0.646\u001b[0m,  \u001b]8;id=297377;file:///n/home09/pren/3DGeno_tools/src/gt3d/modules/higashi/Higashi_wrapper.py\u001b\\\u001b[2mHigashi_wrapper.py\u001b[0m\u001b]8;;\u001b\\\u001b[2m:\u001b[0m\u001b]8;id=516278;file:///n/home09/pren/3DGeno_tools/src/gt3d/modules/higashi/Higashi_wrapper.py#1277\u001b\\\u001b[2m1277\u001b[0m\u001b]8;;\u001b\\\n",
       "\u001b[2;36m                    \u001b[0m         spearman: \u001b[1;36m0.561\u001b[0m,elapse: \u001b[1;36m0.053\u001b[0m s                                \u001b[2m                       \u001b[0m\n"
      ]
     },
     "metadata": {},
     "output_type": "display_data"
    },
    {
     "data": {
      "text/html": [
       "<pre style=\"white-space:pre;overflow-x:auto;line-height:normal;font-family:Menlo,'DejaVu Sans Mono',consolas,'Courier New',monospace\"><span style=\"color: #7fbfbf; text-decoration-color: #7fbfbf\">                    </span><span style=\"color: #000080; text-decoration-color: #000080\">INFO    </span> <span style=\"color: #0000ff; text-decoration-color: #0000ff\">train</span> update_rate: <span style=\"color: #008080; text-decoration-color: #008080; font-weight: bold\">0.002370</span>     <span style=\"color: #008080; text-decoration-color: #008080; font-weight: bold\">0.082774</span>                       <a href=\"file:///n/home09/pren/3DGeno_tools/src/gt3d/modules/higashi/Higashi_wrapper.py\" target=\"_blank\"><span style=\"color: #7f7f7f; text-decoration-color: #7f7f7f\">Higashi_wrapper.py</span></a><span style=\"color: #7f7f7f; text-decoration-color: #7f7f7f\">:</span><a href=\"file:///n/home09/pren/3DGeno_tools/src/gt3d/modules/higashi/Higashi_wrapper.py#1323\" target=\"_blank\"><span style=\"color: #7f7f7f; text-decoration-color: #7f7f7f\">1323</span></a>\n",
       "</pre>\n"
      ],
      "text/plain": [
       "\u001b[2;36m                   \u001b[0m\u001b[2;36m \u001b[0m\u001b[34mINFO    \u001b[0m \u001b[94mtrain\u001b[0m update_rate: \u001b[1;36m0.002370\u001b[0m     \u001b[1;36m0.082774\u001b[0m                       \u001b]8;id=706207;file:///n/home09/pren/3DGeno_tools/src/gt3d/modules/higashi/Higashi_wrapper.py\u001b\\\u001b[2mHigashi_wrapper.py\u001b[0m\u001b]8;;\u001b\\\u001b[2m:\u001b[0m\u001b]8;id=827713;file:///n/home09/pren/3DGeno_tools/src/gt3d/modules/higashi/Higashi_wrapper.py#1323\u001b\\\u001b[2m1323\u001b[0m\u001b]8;;\u001b\\\n"
      ]
     },
     "metadata": {},
     "output_type": "display_data"
    },
    {
     "data": {
      "text/html": [
       "<pre style=\"white-space:pre;overflow-x:auto;line-height:normal;font-family:Menlo,'DejaVu Sans Mono',consolas,'Courier New',monospace\"><span style=\"color: #7fbfbf; text-decoration-color: #7fbfbf\">                    </span><span style=\"color: #000080; text-decoration-color: #000080\">INFO    </span> <span style=\"color: #0000ff; text-decoration-color: #0000ff\">train</span> <span style=\"font-weight: bold\">[</span> Epoch <span style=\"color: #008080; text-decoration-color: #008080; font-weight: bold\">59</span> of <span style=\"color: #008080; text-decoration-color: #008080; font-weight: bold\">65</span> <span style=\"font-weight: bold\">]</span>                                       <a href=\"file:///n/home09/pren/3DGeno_tools/src/gt3d/modules/higashi/Higashi_wrapper.py\" target=\"_blank\"><span style=\"color: #7f7f7f; text-decoration-color: #7f7f7f\">Higashi_wrapper.py</span></a><span style=\"color: #7f7f7f; text-decoration-color: #7f7f7f\">:</span><a href=\"file:///n/home09/pren/3DGeno_tools/src/gt3d/modules/higashi/Higashi_wrapper.py#1245\" target=\"_blank\"><span style=\"color: #7f7f7f; text-decoration-color: #7f7f7f\">1245</span></a>\n",
       "</pre>\n"
      ],
      "text/plain": [
       "\u001b[2;36m                   \u001b[0m\u001b[2;36m \u001b[0m\u001b[34mINFO    \u001b[0m \u001b[94mtrain\u001b[0m \u001b[1m[\u001b[0m Epoch \u001b[1;36m59\u001b[0m of \u001b[1;36m65\u001b[0m \u001b[1m]\u001b[0m                                       \u001b]8;id=683924;file:///n/home09/pren/3DGeno_tools/src/gt3d/modules/higashi/Higashi_wrapper.py\u001b\\\u001b[2mHigashi_wrapper.py\u001b[0m\u001b]8;;\u001b\\\u001b[2m:\u001b[0m\u001b]8;id=244643;file:///n/home09/pren/3DGeno_tools/src/gt3d/modules/higashi/Higashi_wrapper.py#1245\u001b\\\u001b[2m1245\u001b[0m\u001b]8;;\u001b\\\n"
      ]
     },
     "metadata": {},
     "output_type": "display_data"
    },
    {
     "data": {
      "application/vnd.jupyter.widget-view+json": {
       "model_id": "dcb01d6fde434fc6a9f68c81919b237d",
       "version_major": 2,
       "version_minor": 0
      },
      "text/plain": [
       "Output()"
      ]
     },
     "metadata": {},
     "output_type": "display_data"
    },
    {
     "data": {
      "text/html": [
       "<pre style=\"white-space:pre;overflow-x:auto;line-height:normal;font-family:Menlo,'DejaVu Sans Mono',consolas,'Courier New',monospace\"></pre>\n"
      ],
      "text/plain": []
     },
     "metadata": {},
     "output_type": "display_data"
    },
    {
     "data": {
      "text/html": [
       "<pre style=\"white-space:pre;overflow-x:auto;line-height:normal;font-family:Menlo,'DejaVu Sans Mono',consolas,'Courier New',monospace\"><span style=\"color: #7fbfbf; text-decoration-color: #7fbfbf\">[12/07/24 16:00:28] </span><span style=\"color: #000080; text-decoration-color: #000080\">INFO    </span> <span style=\"color: #0000ff; text-decoration-color: #0000ff\">train</span>  - <span style=\"font-weight: bold\">(</span>Train<span style=\"font-weight: bold\">)</span> bce:  <span style=\"color: #008080; text-decoration-color: #008080; font-weight: bold\">0.3086</span>, mse:  <span style=\"color: #008080; text-decoration-color: #008080; font-weight: bold\">0.8907</span>,  acc: <span style=\"color: #008080; text-decoration-color: #008080; font-weight: bold\">90.251</span> %,   <a href=\"file:///n/home09/pren/3DGeno_tools/src/gt3d/modules/higashi/Higashi_wrapper.py\" target=\"_blank\"><span style=\"color: #7f7f7f; text-decoration-color: #7f7f7f\">Higashi_wrapper.py</span></a><span style=\"color: #7f7f7f; text-decoration-color: #7f7f7f\">:</span><a href=\"file:///n/home09/pren/3DGeno_tools/src/gt3d/modules/higashi/Higashi_wrapper.py#1258\" target=\"_blank\"><span style=\"color: #7f7f7f; text-decoration-color: #7f7f7f\">1258</span></a>\n",
       "<span style=\"color: #7fbfbf; text-decoration-color: #7fbfbf\">                    </span>         pearson: <span style=\"color: #008080; text-decoration-color: #008080; font-weight: bold\">0.697</span>, spearman: <span style=\"color: #008080; text-decoration-color: #008080; font-weight: bold\">0.587</span>, elapse: <span style=\"color: #008080; text-decoration-color: #008080; font-weight: bold\">89.797</span> s              <span style=\"color: #7f7f7f; text-decoration-color: #7f7f7f\">                       </span>\n",
       "</pre>\n"
      ],
      "text/plain": [
       "\u001b[2;36m[12/07/24 16:00:28]\u001b[0m\u001b[2;36m \u001b[0m\u001b[34mINFO    \u001b[0m \u001b[94mtrain\u001b[0m  - \u001b[1m(\u001b[0mTrain\u001b[1m)\u001b[0m bce:  \u001b[1;36m0.3086\u001b[0m, mse:  \u001b[1;36m0.8907\u001b[0m,  acc: \u001b[1;36m90.251\u001b[0m %,   \u001b]8;id=806423;file:///n/home09/pren/3DGeno_tools/src/gt3d/modules/higashi/Higashi_wrapper.py\u001b\\\u001b[2mHigashi_wrapper.py\u001b[0m\u001b]8;;\u001b\\\u001b[2m:\u001b[0m\u001b]8;id=662841;file:///n/home09/pren/3DGeno_tools/src/gt3d/modules/higashi/Higashi_wrapper.py#1258\u001b\\\u001b[2m1258\u001b[0m\u001b]8;;\u001b\\\n",
       "\u001b[2;36m                    \u001b[0m         pearson: \u001b[1;36m0.697\u001b[0m, spearman: \u001b[1;36m0.587\u001b[0m, elapse: \u001b[1;36m89.797\u001b[0m s              \u001b[2m                       \u001b[0m\n"
      ]
     },
     "metadata": {},
     "output_type": "display_data"
    },
    {
     "data": {
      "application/vnd.jupyter.widget-view+json": {
       "model_id": "6d45314e87d1467a8de874d02d101cd4",
       "version_major": 2,
       "version_minor": 0
      },
      "text/plain": [
       "Output()"
      ]
     },
     "metadata": {},
     "output_type": "display_data"
    },
    {
     "data": {
      "text/html": [
       "<pre style=\"white-space:pre;overflow-x:auto;line-height:normal;font-family:Menlo,'DejaVu Sans Mono',consolas,'Courier New',monospace\"></pre>\n"
      ],
      "text/plain": []
     },
     "metadata": {},
     "output_type": "display_data"
    },
    {
     "data": {
      "text/html": [
       "<pre style=\"white-space:pre;overflow-x:auto;line-height:normal;font-family:Menlo,'DejaVu Sans Mono',consolas,'Courier New',monospace\"><span style=\"color: #7fbfbf; text-decoration-color: #7fbfbf\">                    </span><span style=\"color: #000080; text-decoration-color: #000080\">INFO    </span> <span style=\"color: #0000ff; text-decoration-color: #0000ff\">train</span>  - <span style=\"font-weight: bold\">(</span>Valid<span style=\"font-weight: bold\">)</span> bce:  <span style=\"color: #008080; text-decoration-color: #008080; font-weight: bold\">0.3724</span>,  acc: <span style=\"color: #008080; text-decoration-color: #008080; font-weight: bold\">88.900</span> %,pearson: <span style=\"color: #008080; text-decoration-color: #008080; font-weight: bold\">0.626</span>,  <a href=\"file:///n/home09/pren/3DGeno_tools/src/gt3d/modules/higashi/Higashi_wrapper.py\" target=\"_blank\"><span style=\"color: #7f7f7f; text-decoration-color: #7f7f7f\">Higashi_wrapper.py</span></a><span style=\"color: #7f7f7f; text-decoration-color: #7f7f7f\">:</span><a href=\"file:///n/home09/pren/3DGeno_tools/src/gt3d/modules/higashi/Higashi_wrapper.py#1277\" target=\"_blank\"><span style=\"color: #7f7f7f; text-decoration-color: #7f7f7f\">1277</span></a>\n",
       "<span style=\"color: #7fbfbf; text-decoration-color: #7fbfbf\">                    </span>         spearman: <span style=\"color: #008080; text-decoration-color: #008080; font-weight: bold\">0.560</span>,elapse: <span style=\"color: #008080; text-decoration-color: #008080; font-weight: bold\">0.051</span> s                                <span style=\"color: #7f7f7f; text-decoration-color: #7f7f7f\">                       </span>\n",
       "</pre>\n"
      ],
      "text/plain": [
       "\u001b[2;36m                   \u001b[0m\u001b[2;36m \u001b[0m\u001b[34mINFO    \u001b[0m \u001b[94mtrain\u001b[0m  - \u001b[1m(\u001b[0mValid\u001b[1m)\u001b[0m bce:  \u001b[1;36m0.3724\u001b[0m,  acc: \u001b[1;36m88.900\u001b[0m %,pearson: \u001b[1;36m0.626\u001b[0m,  \u001b]8;id=199134;file:///n/home09/pren/3DGeno_tools/src/gt3d/modules/higashi/Higashi_wrapper.py\u001b\\\u001b[2mHigashi_wrapper.py\u001b[0m\u001b]8;;\u001b\\\u001b[2m:\u001b[0m\u001b]8;id=431432;file:///n/home09/pren/3DGeno_tools/src/gt3d/modules/higashi/Higashi_wrapper.py#1277\u001b\\\u001b[2m1277\u001b[0m\u001b]8;;\u001b\\\n",
       "\u001b[2;36m                    \u001b[0m         spearman: \u001b[1;36m0.560\u001b[0m,elapse: \u001b[1;36m0.051\u001b[0m s                                \u001b[2m                       \u001b[0m\n"
      ]
     },
     "metadata": {},
     "output_type": "display_data"
    },
    {
     "data": {
      "text/html": [
       "<pre style=\"white-space:pre;overflow-x:auto;line-height:normal;font-family:Menlo,'DejaVu Sans Mono',consolas,'Courier New',monospace\"><span style=\"color: #7fbfbf; text-decoration-color: #7fbfbf\">                    </span><span style=\"color: #000080; text-decoration-color: #000080\">INFO    </span> <span style=\"color: #0000ff; text-decoration-color: #0000ff\">train</span> update_rate: <span style=\"color: #008080; text-decoration-color: #008080; font-weight: bold\">0.001835</span>     <span style=\"color: #008080; text-decoration-color: #008080; font-weight: bold\">0.062330</span>                       <a href=\"file:///n/home09/pren/3DGeno_tools/src/gt3d/modules/higashi/Higashi_wrapper.py\" target=\"_blank\"><span style=\"color: #7f7f7f; text-decoration-color: #7f7f7f\">Higashi_wrapper.py</span></a><span style=\"color: #7f7f7f; text-decoration-color: #7f7f7f\">:</span><a href=\"file:///n/home09/pren/3DGeno_tools/src/gt3d/modules/higashi/Higashi_wrapper.py#1323\" target=\"_blank\"><span style=\"color: #7f7f7f; text-decoration-color: #7f7f7f\">1323</span></a>\n",
       "</pre>\n"
      ],
      "text/plain": [
       "\u001b[2;36m                   \u001b[0m\u001b[2;36m \u001b[0m\u001b[34mINFO    \u001b[0m \u001b[94mtrain\u001b[0m update_rate: \u001b[1;36m0.001835\u001b[0m     \u001b[1;36m0.062330\u001b[0m                       \u001b]8;id=631396;file:///n/home09/pren/3DGeno_tools/src/gt3d/modules/higashi/Higashi_wrapper.py\u001b\\\u001b[2mHigashi_wrapper.py\u001b[0m\u001b]8;;\u001b\\\u001b[2m:\u001b[0m\u001b]8;id=781597;file:///n/home09/pren/3DGeno_tools/src/gt3d/modules/higashi/Higashi_wrapper.py#1323\u001b\\\u001b[2m1323\u001b[0m\u001b]8;;\u001b\\\n"
      ]
     },
     "metadata": {},
     "output_type": "display_data"
    },
    {
     "data": {
      "text/html": [
       "<pre style=\"white-space:pre;overflow-x:auto;line-height:normal;font-family:Menlo,'DejaVu Sans Mono',consolas,'Courier New',monospace\"><span style=\"color: #7fbfbf; text-decoration-color: #7fbfbf\">                    </span><span style=\"color: #000080; text-decoration-color: #000080\">INFO    </span> <span style=\"color: #0000ff; text-decoration-color: #0000ff\">train</span> <span style=\"font-weight: bold\">[</span> Epoch <span style=\"color: #008080; text-decoration-color: #008080; font-weight: bold\">60</span> of <span style=\"color: #008080; text-decoration-color: #008080; font-weight: bold\">65</span> <span style=\"font-weight: bold\">]</span>                                       <a href=\"file:///n/home09/pren/3DGeno_tools/src/gt3d/modules/higashi/Higashi_wrapper.py\" target=\"_blank\"><span style=\"color: #7f7f7f; text-decoration-color: #7f7f7f\">Higashi_wrapper.py</span></a><span style=\"color: #7f7f7f; text-decoration-color: #7f7f7f\">:</span><a href=\"file:///n/home09/pren/3DGeno_tools/src/gt3d/modules/higashi/Higashi_wrapper.py#1245\" target=\"_blank\"><span style=\"color: #7f7f7f; text-decoration-color: #7f7f7f\">1245</span></a>\n",
       "</pre>\n"
      ],
      "text/plain": [
       "\u001b[2;36m                   \u001b[0m\u001b[2;36m \u001b[0m\u001b[34mINFO    \u001b[0m \u001b[94mtrain\u001b[0m \u001b[1m[\u001b[0m Epoch \u001b[1;36m60\u001b[0m of \u001b[1;36m65\u001b[0m \u001b[1m]\u001b[0m                                       \u001b]8;id=225281;file:///n/home09/pren/3DGeno_tools/src/gt3d/modules/higashi/Higashi_wrapper.py\u001b\\\u001b[2mHigashi_wrapper.py\u001b[0m\u001b]8;;\u001b\\\u001b[2m:\u001b[0m\u001b]8;id=512956;file:///n/home09/pren/3DGeno_tools/src/gt3d/modules/higashi/Higashi_wrapper.py#1245\u001b\\\u001b[2m1245\u001b[0m\u001b]8;;\u001b\\\n"
      ]
     },
     "metadata": {},
     "output_type": "display_data"
    },
    {
     "data": {
      "application/vnd.jupyter.widget-view+json": {
       "model_id": "c88b13d4bc724d99b05377c2de0b48e8",
       "version_major": 2,
       "version_minor": 0
      },
      "text/plain": [
       "Output()"
      ]
     },
     "metadata": {},
     "output_type": "display_data"
    },
    {
     "data": {
      "text/html": [
       "<pre style=\"white-space:pre;overflow-x:auto;line-height:normal;font-family:Menlo,'DejaVu Sans Mono',consolas,'Courier New',monospace\"></pre>\n"
      ],
      "text/plain": []
     },
     "metadata": {},
     "output_type": "display_data"
    },
    {
     "data": {
      "text/html": [
       "<pre style=\"white-space:pre;overflow-x:auto;line-height:normal;font-family:Menlo,'DejaVu Sans Mono',consolas,'Courier New',monospace\"><span style=\"color: #7fbfbf; text-decoration-color: #7fbfbf\">[12/07/24 16:01:57] </span><span style=\"color: #000080; text-decoration-color: #000080\">INFO    </span> <span style=\"color: #0000ff; text-decoration-color: #0000ff\">train</span>  - <span style=\"font-weight: bold\">(</span>Train<span style=\"font-weight: bold\">)</span> bce:  <span style=\"color: #008080; text-decoration-color: #008080; font-weight: bold\">0.3090</span>, mse:  <span style=\"color: #008080; text-decoration-color: #008080; font-weight: bold\">0.8807</span>,  acc: <span style=\"color: #008080; text-decoration-color: #008080; font-weight: bold\">90.241</span> %,   <a href=\"file:///n/home09/pren/3DGeno_tools/src/gt3d/modules/higashi/Higashi_wrapper.py\" target=\"_blank\"><span style=\"color: #7f7f7f; text-decoration-color: #7f7f7f\">Higashi_wrapper.py</span></a><span style=\"color: #7f7f7f; text-decoration-color: #7f7f7f\">:</span><a href=\"file:///n/home09/pren/3DGeno_tools/src/gt3d/modules/higashi/Higashi_wrapper.py#1258\" target=\"_blank\"><span style=\"color: #7f7f7f; text-decoration-color: #7f7f7f\">1258</span></a>\n",
       "<span style=\"color: #7fbfbf; text-decoration-color: #7fbfbf\">                    </span>         pearson: <span style=\"color: #008080; text-decoration-color: #008080; font-weight: bold\">0.696</span>, spearman: <span style=\"color: #008080; text-decoration-color: #008080; font-weight: bold\">0.587</span>, elapse: <span style=\"color: #008080; text-decoration-color: #008080; font-weight: bold\">89.195</span> s              <span style=\"color: #7f7f7f; text-decoration-color: #7f7f7f\">                       </span>\n",
       "</pre>\n"
      ],
      "text/plain": [
       "\u001b[2;36m[12/07/24 16:01:57]\u001b[0m\u001b[2;36m \u001b[0m\u001b[34mINFO    \u001b[0m \u001b[94mtrain\u001b[0m  - \u001b[1m(\u001b[0mTrain\u001b[1m)\u001b[0m bce:  \u001b[1;36m0.3090\u001b[0m, mse:  \u001b[1;36m0.8807\u001b[0m,  acc: \u001b[1;36m90.241\u001b[0m %,   \u001b]8;id=51469;file:///n/home09/pren/3DGeno_tools/src/gt3d/modules/higashi/Higashi_wrapper.py\u001b\\\u001b[2mHigashi_wrapper.py\u001b[0m\u001b]8;;\u001b\\\u001b[2m:\u001b[0m\u001b]8;id=446601;file:///n/home09/pren/3DGeno_tools/src/gt3d/modules/higashi/Higashi_wrapper.py#1258\u001b\\\u001b[2m1258\u001b[0m\u001b]8;;\u001b\\\n",
       "\u001b[2;36m                    \u001b[0m         pearson: \u001b[1;36m0.696\u001b[0m, spearman: \u001b[1;36m0.587\u001b[0m, elapse: \u001b[1;36m89.195\u001b[0m s              \u001b[2m                       \u001b[0m\n"
      ]
     },
     "metadata": {},
     "output_type": "display_data"
    },
    {
     "data": {
      "application/vnd.jupyter.widget-view+json": {
       "model_id": "5eb171ee1c3d4cb287dc3e98e5f4fda6",
       "version_major": 2,
       "version_minor": 0
      },
      "text/plain": [
       "Output()"
      ]
     },
     "metadata": {},
     "output_type": "display_data"
    },
    {
     "data": {
      "text/html": [
       "<pre style=\"white-space:pre;overflow-x:auto;line-height:normal;font-family:Menlo,'DejaVu Sans Mono',consolas,'Courier New',monospace\"></pre>\n"
      ],
      "text/plain": []
     },
     "metadata": {},
     "output_type": "display_data"
    },
    {
     "data": {
      "text/html": [
       "<pre style=\"white-space:pre;overflow-x:auto;line-height:normal;font-family:Menlo,'DejaVu Sans Mono',consolas,'Courier New',monospace\"><span style=\"color: #7fbfbf; text-decoration-color: #7fbfbf\">                    </span><span style=\"color: #000080; text-decoration-color: #000080\">INFO    </span> <span style=\"color: #0000ff; text-decoration-color: #0000ff\">train</span>  - <span style=\"font-weight: bold\">(</span>Valid<span style=\"font-weight: bold\">)</span> bce:  <span style=\"color: #008080; text-decoration-color: #008080; font-weight: bold\">0.3843</span>,  acc: <span style=\"color: #008080; text-decoration-color: #008080; font-weight: bold\">89.362</span> %,pearson: <span style=\"color: #008080; text-decoration-color: #008080; font-weight: bold\">0.640</span>,  <a href=\"file:///n/home09/pren/3DGeno_tools/src/gt3d/modules/higashi/Higashi_wrapper.py\" target=\"_blank\"><span style=\"color: #7f7f7f; text-decoration-color: #7f7f7f\">Higashi_wrapper.py</span></a><span style=\"color: #7f7f7f; text-decoration-color: #7f7f7f\">:</span><a href=\"file:///n/home09/pren/3DGeno_tools/src/gt3d/modules/higashi/Higashi_wrapper.py#1277\" target=\"_blank\"><span style=\"color: #7f7f7f; text-decoration-color: #7f7f7f\">1277</span></a>\n",
       "<span style=\"color: #7fbfbf; text-decoration-color: #7fbfbf\">                    </span>         spearman: <span style=\"color: #008080; text-decoration-color: #008080; font-weight: bold\">0.558</span>,elapse: <span style=\"color: #008080; text-decoration-color: #008080; font-weight: bold\">0.051</span> s                                <span style=\"color: #7f7f7f; text-decoration-color: #7f7f7f\">                       </span>\n",
       "</pre>\n"
      ],
      "text/plain": [
       "\u001b[2;36m                   \u001b[0m\u001b[2;36m \u001b[0m\u001b[34mINFO    \u001b[0m \u001b[94mtrain\u001b[0m  - \u001b[1m(\u001b[0mValid\u001b[1m)\u001b[0m bce:  \u001b[1;36m0.3843\u001b[0m,  acc: \u001b[1;36m89.362\u001b[0m %,pearson: \u001b[1;36m0.640\u001b[0m,  \u001b]8;id=122934;file:///n/home09/pren/3DGeno_tools/src/gt3d/modules/higashi/Higashi_wrapper.py\u001b\\\u001b[2mHigashi_wrapper.py\u001b[0m\u001b]8;;\u001b\\\u001b[2m:\u001b[0m\u001b]8;id=814941;file:///n/home09/pren/3DGeno_tools/src/gt3d/modules/higashi/Higashi_wrapper.py#1277\u001b\\\u001b[2m1277\u001b[0m\u001b]8;;\u001b\\\n",
       "\u001b[2;36m                    \u001b[0m         spearman: \u001b[1;36m0.558\u001b[0m,elapse: \u001b[1;36m0.051\u001b[0m s                                \u001b[2m                       \u001b[0m\n"
      ]
     },
     "metadata": {},
     "output_type": "display_data"
    },
    {
     "data": {
      "text/html": [
       "<pre style=\"white-space:pre;overflow-x:auto;line-height:normal;font-family:Menlo,'DejaVu Sans Mono',consolas,'Courier New',monospace\"><span style=\"color: #7fbfbf; text-decoration-color: #7fbfbf\">                    </span><span style=\"color: #000080; text-decoration-color: #000080\">INFO    </span> <span style=\"color: #0000ff; text-decoration-color: #0000ff\">train</span> update_rate: <span style=\"color: #008080; text-decoration-color: #008080; font-weight: bold\">0.002260</span>     <span style=\"color: #008080; text-decoration-color: #008080; font-weight: bold\">0.071606</span>                       <a href=\"file:///n/home09/pren/3DGeno_tools/src/gt3d/modules/higashi/Higashi_wrapper.py\" target=\"_blank\"><span style=\"color: #7f7f7f; text-decoration-color: #7f7f7f\">Higashi_wrapper.py</span></a><span style=\"color: #7f7f7f; text-decoration-color: #7f7f7f\">:</span><a href=\"file:///n/home09/pren/3DGeno_tools/src/gt3d/modules/higashi/Higashi_wrapper.py#1323\" target=\"_blank\"><span style=\"color: #7f7f7f; text-decoration-color: #7f7f7f\">1323</span></a>\n",
       "</pre>\n"
      ],
      "text/plain": [
       "\u001b[2;36m                   \u001b[0m\u001b[2;36m \u001b[0m\u001b[34mINFO    \u001b[0m \u001b[94mtrain\u001b[0m update_rate: \u001b[1;36m0.002260\u001b[0m     \u001b[1;36m0.071606\u001b[0m                       \u001b]8;id=94984;file:///n/home09/pren/3DGeno_tools/src/gt3d/modules/higashi/Higashi_wrapper.py\u001b\\\u001b[2mHigashi_wrapper.py\u001b[0m\u001b]8;;\u001b\\\u001b[2m:\u001b[0m\u001b]8;id=479883;file:///n/home09/pren/3DGeno_tools/src/gt3d/modules/higashi/Higashi_wrapper.py#1323\u001b\\\u001b[2m1323\u001b[0m\u001b]8;;\u001b\\\n"
      ]
     },
     "metadata": {},
     "output_type": "display_data"
    },
    {
     "data": {
      "text/html": [
       "<pre style=\"white-space:pre;overflow-x:auto;line-height:normal;font-family:Menlo,'DejaVu Sans Mono',consolas,'Courier New',monospace\"><span style=\"color: #7fbfbf; text-decoration-color: #7fbfbf\">                    </span><span style=\"color: #000080; text-decoration-color: #000080\">INFO    </span> <span style=\"color: #0000ff; text-decoration-color: #0000ff\">train</span> <span style=\"font-weight: bold\">[</span> Epoch <span style=\"color: #008080; text-decoration-color: #008080; font-weight: bold\">61</span> of <span style=\"color: #008080; text-decoration-color: #008080; font-weight: bold\">65</span> <span style=\"font-weight: bold\">]</span>                                       <a href=\"file:///n/home09/pren/3DGeno_tools/src/gt3d/modules/higashi/Higashi_wrapper.py\" target=\"_blank\"><span style=\"color: #7f7f7f; text-decoration-color: #7f7f7f\">Higashi_wrapper.py</span></a><span style=\"color: #7f7f7f; text-decoration-color: #7f7f7f\">:</span><a href=\"file:///n/home09/pren/3DGeno_tools/src/gt3d/modules/higashi/Higashi_wrapper.py#1245\" target=\"_blank\"><span style=\"color: #7f7f7f; text-decoration-color: #7f7f7f\">1245</span></a>\n",
       "</pre>\n"
      ],
      "text/plain": [
       "\u001b[2;36m                   \u001b[0m\u001b[2;36m \u001b[0m\u001b[34mINFO    \u001b[0m \u001b[94mtrain\u001b[0m \u001b[1m[\u001b[0m Epoch \u001b[1;36m61\u001b[0m of \u001b[1;36m65\u001b[0m \u001b[1m]\u001b[0m                                       \u001b]8;id=233374;file:///n/home09/pren/3DGeno_tools/src/gt3d/modules/higashi/Higashi_wrapper.py\u001b\\\u001b[2mHigashi_wrapper.py\u001b[0m\u001b]8;;\u001b\\\u001b[2m:\u001b[0m\u001b]8;id=943528;file:///n/home09/pren/3DGeno_tools/src/gt3d/modules/higashi/Higashi_wrapper.py#1245\u001b\\\u001b[2m1245\u001b[0m\u001b]8;;\u001b\\\n"
      ]
     },
     "metadata": {},
     "output_type": "display_data"
    },
    {
     "data": {
      "application/vnd.jupyter.widget-view+json": {
       "model_id": "bba872b67b0547d8b221652ada9fdf4d",
       "version_major": 2,
       "version_minor": 0
      },
      "text/plain": [
       "Output()"
      ]
     },
     "metadata": {},
     "output_type": "display_data"
    },
    {
     "data": {
      "text/html": [
       "<pre style=\"white-space:pre;overflow-x:auto;line-height:normal;font-family:Menlo,'DejaVu Sans Mono',consolas,'Courier New',monospace\"></pre>\n"
      ],
      "text/plain": []
     },
     "metadata": {},
     "output_type": "display_data"
    },
    {
     "data": {
      "text/html": [
       "<pre style=\"white-space:pre;overflow-x:auto;line-height:normal;font-family:Menlo,'DejaVu Sans Mono',consolas,'Courier New',monospace\"><span style=\"color: #7fbfbf; text-decoration-color: #7fbfbf\">[12/07/24 16:03:30] </span><span style=\"color: #000080; text-decoration-color: #000080\">INFO    </span> <span style=\"color: #0000ff; text-decoration-color: #0000ff\">train</span>  - <span style=\"font-weight: bold\">(</span>Train<span style=\"font-weight: bold\">)</span> bce:  <span style=\"color: #008080; text-decoration-color: #008080; font-weight: bold\">0.3066</span>, mse:  <span style=\"color: #008080; text-decoration-color: #008080; font-weight: bold\">0.9487</span>,  acc: <span style=\"color: #008080; text-decoration-color: #008080; font-weight: bold\">90.389</span> %,   <a href=\"file:///n/home09/pren/3DGeno_tools/src/gt3d/modules/higashi/Higashi_wrapper.py\" target=\"_blank\"><span style=\"color: #7f7f7f; text-decoration-color: #7f7f7f\">Higashi_wrapper.py</span></a><span style=\"color: #7f7f7f; text-decoration-color: #7f7f7f\">:</span><a href=\"file:///n/home09/pren/3DGeno_tools/src/gt3d/modules/higashi/Higashi_wrapper.py#1258\" target=\"_blank\"><span style=\"color: #7f7f7f; text-decoration-color: #7f7f7f\">1258</span></a>\n",
       "<span style=\"color: #7fbfbf; text-decoration-color: #7fbfbf\">                    </span>         pearson: <span style=\"color: #008080; text-decoration-color: #008080; font-weight: bold\">0.702</span>, spearman: <span style=\"color: #008080; text-decoration-color: #008080; font-weight: bold\">0.590</span>, elapse: <span style=\"color: #008080; text-decoration-color: #008080; font-weight: bold\">92.894</span> s              <span style=\"color: #7f7f7f; text-decoration-color: #7f7f7f\">                       </span>\n",
       "</pre>\n"
      ],
      "text/plain": [
       "\u001b[2;36m[12/07/24 16:03:30]\u001b[0m\u001b[2;36m \u001b[0m\u001b[34mINFO    \u001b[0m \u001b[94mtrain\u001b[0m  - \u001b[1m(\u001b[0mTrain\u001b[1m)\u001b[0m bce:  \u001b[1;36m0.3066\u001b[0m, mse:  \u001b[1;36m0.9487\u001b[0m,  acc: \u001b[1;36m90.389\u001b[0m %,   \u001b]8;id=224227;file:///n/home09/pren/3DGeno_tools/src/gt3d/modules/higashi/Higashi_wrapper.py\u001b\\\u001b[2mHigashi_wrapper.py\u001b[0m\u001b]8;;\u001b\\\u001b[2m:\u001b[0m\u001b]8;id=630791;file:///n/home09/pren/3DGeno_tools/src/gt3d/modules/higashi/Higashi_wrapper.py#1258\u001b\\\u001b[2m1258\u001b[0m\u001b]8;;\u001b\\\n",
       "\u001b[2;36m                    \u001b[0m         pearson: \u001b[1;36m0.702\u001b[0m, spearman: \u001b[1;36m0.590\u001b[0m, elapse: \u001b[1;36m92.894\u001b[0m s              \u001b[2m                       \u001b[0m\n"
      ]
     },
     "metadata": {},
     "output_type": "display_data"
    },
    {
     "data": {
      "application/vnd.jupyter.widget-view+json": {
       "model_id": "71550a61dcf6490ca5b42f6ba4d4d298",
       "version_major": 2,
       "version_minor": 0
      },
      "text/plain": [
       "Output()"
      ]
     },
     "metadata": {},
     "output_type": "display_data"
    },
    {
     "data": {
      "text/html": [
       "<pre style=\"white-space:pre;overflow-x:auto;line-height:normal;font-family:Menlo,'DejaVu Sans Mono',consolas,'Courier New',monospace\"></pre>\n"
      ],
      "text/plain": []
     },
     "metadata": {},
     "output_type": "display_data"
    },
    {
     "data": {
      "text/html": [
       "<pre style=\"white-space:pre;overflow-x:auto;line-height:normal;font-family:Menlo,'DejaVu Sans Mono',consolas,'Courier New',monospace\"><span style=\"color: #7fbfbf; text-decoration-color: #7fbfbf\">                    </span><span style=\"color: #000080; text-decoration-color: #000080\">INFO    </span> <span style=\"color: #0000ff; text-decoration-color: #0000ff\">train</span>  - <span style=\"font-weight: bold\">(</span>Valid<span style=\"font-weight: bold\">)</span> bce:  <span style=\"color: #008080; text-decoration-color: #008080; font-weight: bold\">0.3718</span>,  acc: <span style=\"color: #008080; text-decoration-color: #008080; font-weight: bold\">89.355</span> %,pearson: <span style=\"color: #008080; text-decoration-color: #008080; font-weight: bold\">0.632</span>,  <a href=\"file:///n/home09/pren/3DGeno_tools/src/gt3d/modules/higashi/Higashi_wrapper.py\" target=\"_blank\"><span style=\"color: #7f7f7f; text-decoration-color: #7f7f7f\">Higashi_wrapper.py</span></a><span style=\"color: #7f7f7f; text-decoration-color: #7f7f7f\">:</span><a href=\"file:///n/home09/pren/3DGeno_tools/src/gt3d/modules/higashi/Higashi_wrapper.py#1277\" target=\"_blank\"><span style=\"color: #7f7f7f; text-decoration-color: #7f7f7f\">1277</span></a>\n",
       "<span style=\"color: #7fbfbf; text-decoration-color: #7fbfbf\">                    </span>         spearman: <span style=\"color: #008080; text-decoration-color: #008080; font-weight: bold\">0.567</span>,elapse: <span style=\"color: #008080; text-decoration-color: #008080; font-weight: bold\">0.053</span> s                                <span style=\"color: #7f7f7f; text-decoration-color: #7f7f7f\">                       </span>\n",
       "</pre>\n"
      ],
      "text/plain": [
       "\u001b[2;36m                   \u001b[0m\u001b[2;36m \u001b[0m\u001b[34mINFO    \u001b[0m \u001b[94mtrain\u001b[0m  - \u001b[1m(\u001b[0mValid\u001b[1m)\u001b[0m bce:  \u001b[1;36m0.3718\u001b[0m,  acc: \u001b[1;36m89.355\u001b[0m %,pearson: \u001b[1;36m0.632\u001b[0m,  \u001b]8;id=728310;file:///n/home09/pren/3DGeno_tools/src/gt3d/modules/higashi/Higashi_wrapper.py\u001b\\\u001b[2mHigashi_wrapper.py\u001b[0m\u001b]8;;\u001b\\\u001b[2m:\u001b[0m\u001b]8;id=609106;file:///n/home09/pren/3DGeno_tools/src/gt3d/modules/higashi/Higashi_wrapper.py#1277\u001b\\\u001b[2m1277\u001b[0m\u001b]8;;\u001b\\\n",
       "\u001b[2;36m                    \u001b[0m         spearman: \u001b[1;36m0.567\u001b[0m,elapse: \u001b[1;36m0.053\u001b[0m s                                \u001b[2m                       \u001b[0m\n"
      ]
     },
     "metadata": {},
     "output_type": "display_data"
    },
    {
     "data": {
      "text/html": [
       "<pre style=\"white-space:pre;overflow-x:auto;line-height:normal;font-family:Menlo,'DejaVu Sans Mono',consolas,'Courier New',monospace\"><span style=\"color: #7fbfbf; text-decoration-color: #7fbfbf\">                    </span><span style=\"color: #000080; text-decoration-color: #000080\">INFO    </span> <span style=\"color: #0000ff; text-decoration-color: #0000ff\">train</span> update_rate: <span style=\"color: #008080; text-decoration-color: #008080; font-weight: bold\">0.002564</span>     <span style=\"color: #008080; text-decoration-color: #008080; font-weight: bold\">0.110021</span>                       <a href=\"file:///n/home09/pren/3DGeno_tools/src/gt3d/modules/higashi/Higashi_wrapper.py\" target=\"_blank\"><span style=\"color: #7f7f7f; text-decoration-color: #7f7f7f\">Higashi_wrapper.py</span></a><span style=\"color: #7f7f7f; text-decoration-color: #7f7f7f\">:</span><a href=\"file:///n/home09/pren/3DGeno_tools/src/gt3d/modules/higashi/Higashi_wrapper.py#1323\" target=\"_blank\"><span style=\"color: #7f7f7f; text-decoration-color: #7f7f7f\">1323</span></a>\n",
       "</pre>\n"
      ],
      "text/plain": [
       "\u001b[2;36m                   \u001b[0m\u001b[2;36m \u001b[0m\u001b[34mINFO    \u001b[0m \u001b[94mtrain\u001b[0m update_rate: \u001b[1;36m0.002564\u001b[0m     \u001b[1;36m0.110021\u001b[0m                       \u001b]8;id=698826;file:///n/home09/pren/3DGeno_tools/src/gt3d/modules/higashi/Higashi_wrapper.py\u001b\\\u001b[2mHigashi_wrapper.py\u001b[0m\u001b]8;;\u001b\\\u001b[2m:\u001b[0m\u001b]8;id=223125;file:///n/home09/pren/3DGeno_tools/src/gt3d/modules/higashi/Higashi_wrapper.py#1323\u001b\\\u001b[2m1323\u001b[0m\u001b]8;;\u001b\\\n"
      ]
     },
     "metadata": {},
     "output_type": "display_data"
    },
    {
     "data": {
      "text/html": [
       "<pre style=\"white-space:pre;overflow-x:auto;line-height:normal;font-family:Menlo,'DejaVu Sans Mono',consolas,'Courier New',monospace\"><span style=\"color: #7fbfbf; text-decoration-color: #7fbfbf\">                    </span><span style=\"color: #000080; text-decoration-color: #000080\">INFO    </span> <span style=\"color: #0000ff; text-decoration-color: #0000ff\">train</span> <span style=\"font-weight: bold\">[</span> Epoch <span style=\"color: #008080; text-decoration-color: #008080; font-weight: bold\">62</span> of <span style=\"color: #008080; text-decoration-color: #008080; font-weight: bold\">65</span> <span style=\"font-weight: bold\">]</span>                                       <a href=\"file:///n/home09/pren/3DGeno_tools/src/gt3d/modules/higashi/Higashi_wrapper.py\" target=\"_blank\"><span style=\"color: #7f7f7f; text-decoration-color: #7f7f7f\">Higashi_wrapper.py</span></a><span style=\"color: #7f7f7f; text-decoration-color: #7f7f7f\">:</span><a href=\"file:///n/home09/pren/3DGeno_tools/src/gt3d/modules/higashi/Higashi_wrapper.py#1245\" target=\"_blank\"><span style=\"color: #7f7f7f; text-decoration-color: #7f7f7f\">1245</span></a>\n",
       "</pre>\n"
      ],
      "text/plain": [
       "\u001b[2;36m                   \u001b[0m\u001b[2;36m \u001b[0m\u001b[34mINFO    \u001b[0m \u001b[94mtrain\u001b[0m \u001b[1m[\u001b[0m Epoch \u001b[1;36m62\u001b[0m of \u001b[1;36m65\u001b[0m \u001b[1m]\u001b[0m                                       \u001b]8;id=654226;file:///n/home09/pren/3DGeno_tools/src/gt3d/modules/higashi/Higashi_wrapper.py\u001b\\\u001b[2mHigashi_wrapper.py\u001b[0m\u001b]8;;\u001b\\\u001b[2m:\u001b[0m\u001b]8;id=766851;file:///n/home09/pren/3DGeno_tools/src/gt3d/modules/higashi/Higashi_wrapper.py#1245\u001b\\\u001b[2m1245\u001b[0m\u001b]8;;\u001b\\\n"
      ]
     },
     "metadata": {},
     "output_type": "display_data"
    },
    {
     "data": {
      "application/vnd.jupyter.widget-view+json": {
       "model_id": "522aff2feaa34bef9ca038f9792267d2",
       "version_major": 2,
       "version_minor": 0
      },
      "text/plain": [
       "Output()"
      ]
     },
     "metadata": {},
     "output_type": "display_data"
    },
    {
     "data": {
      "text/html": [
       "<pre style=\"white-space:pre;overflow-x:auto;line-height:normal;font-family:Menlo,'DejaVu Sans Mono',consolas,'Courier New',monospace\"></pre>\n"
      ],
      "text/plain": []
     },
     "metadata": {},
     "output_type": "display_data"
    },
    {
     "data": {
      "text/html": [
       "<pre style=\"white-space:pre;overflow-x:auto;line-height:normal;font-family:Menlo,'DejaVu Sans Mono',consolas,'Courier New',monospace\"><span style=\"color: #7fbfbf; text-decoration-color: #7fbfbf\">[12/07/24 16:05:00] </span><span style=\"color: #000080; text-decoration-color: #000080\">INFO    </span> <span style=\"color: #0000ff; text-decoration-color: #0000ff\">train</span>  - <span style=\"font-weight: bold\">(</span>Train<span style=\"font-weight: bold\">)</span> bce:  <span style=\"color: #008080; text-decoration-color: #008080; font-weight: bold\">0.3050</span>, mse:  <span style=\"color: #008080; text-decoration-color: #008080; font-weight: bold\">0.8660</span>,  acc: <span style=\"color: #008080; text-decoration-color: #008080; font-weight: bold\">90.508</span> %,   <a href=\"file:///n/home09/pren/3DGeno_tools/src/gt3d/modules/higashi/Higashi_wrapper.py\" target=\"_blank\"><span style=\"color: #7f7f7f; text-decoration-color: #7f7f7f\">Higashi_wrapper.py</span></a><span style=\"color: #7f7f7f; text-decoration-color: #7f7f7f\">:</span><a href=\"file:///n/home09/pren/3DGeno_tools/src/gt3d/modules/higashi/Higashi_wrapper.py#1258\" target=\"_blank\"><span style=\"color: #7f7f7f; text-decoration-color: #7f7f7f\">1258</span></a>\n",
       "<span style=\"color: #7fbfbf; text-decoration-color: #7fbfbf\">                    </span>         pearson: <span style=\"color: #008080; text-decoration-color: #008080; font-weight: bold\">0.706</span>, spearman: <span style=\"color: #008080; text-decoration-color: #008080; font-weight: bold\">0.591</span>, elapse: <span style=\"color: #008080; text-decoration-color: #008080; font-weight: bold\">89.337</span> s              <span style=\"color: #7f7f7f; text-decoration-color: #7f7f7f\">                       </span>\n",
       "</pre>\n"
      ],
      "text/plain": [
       "\u001b[2;36m[12/07/24 16:05:00]\u001b[0m\u001b[2;36m \u001b[0m\u001b[34mINFO    \u001b[0m \u001b[94mtrain\u001b[0m  - \u001b[1m(\u001b[0mTrain\u001b[1m)\u001b[0m bce:  \u001b[1;36m0.3050\u001b[0m, mse:  \u001b[1;36m0.8660\u001b[0m,  acc: \u001b[1;36m90.508\u001b[0m %,   \u001b]8;id=624533;file:///n/home09/pren/3DGeno_tools/src/gt3d/modules/higashi/Higashi_wrapper.py\u001b\\\u001b[2mHigashi_wrapper.py\u001b[0m\u001b]8;;\u001b\\\u001b[2m:\u001b[0m\u001b]8;id=57832;file:///n/home09/pren/3DGeno_tools/src/gt3d/modules/higashi/Higashi_wrapper.py#1258\u001b\\\u001b[2m1258\u001b[0m\u001b]8;;\u001b\\\n",
       "\u001b[2;36m                    \u001b[0m         pearson: \u001b[1;36m0.706\u001b[0m, spearman: \u001b[1;36m0.591\u001b[0m, elapse: \u001b[1;36m89.337\u001b[0m s              \u001b[2m                       \u001b[0m\n"
      ]
     },
     "metadata": {},
     "output_type": "display_data"
    },
    {
     "data": {
      "application/vnd.jupyter.widget-view+json": {
       "model_id": "8fa4622c0fcc4e84933be192a8f32fb0",
       "version_major": 2,
       "version_minor": 0
      },
      "text/plain": [
       "Output()"
      ]
     },
     "metadata": {},
     "output_type": "display_data"
    },
    {
     "data": {
      "text/html": [
       "<pre style=\"white-space:pre;overflow-x:auto;line-height:normal;font-family:Menlo,'DejaVu Sans Mono',consolas,'Courier New',monospace\"></pre>\n"
      ],
      "text/plain": []
     },
     "metadata": {},
     "output_type": "display_data"
    },
    {
     "data": {
      "text/html": [
       "<pre style=\"white-space:pre;overflow-x:auto;line-height:normal;font-family:Menlo,'DejaVu Sans Mono',consolas,'Courier New',monospace\"><span style=\"color: #7fbfbf; text-decoration-color: #7fbfbf\">                    </span><span style=\"color: #000080; text-decoration-color: #000080\">INFO    </span> <span style=\"color: #0000ff; text-decoration-color: #0000ff\">train</span>  - <span style=\"font-weight: bold\">(</span>Valid<span style=\"font-weight: bold\">)</span> bce:  <span style=\"color: #008080; text-decoration-color: #008080; font-weight: bold\">0.3669</span>,  acc: <span style=\"color: #008080; text-decoration-color: #008080; font-weight: bold\">89.277</span> %,pearson: <span style=\"color: #008080; text-decoration-color: #008080; font-weight: bold\">0.636</span>,  <a href=\"file:///n/home09/pren/3DGeno_tools/src/gt3d/modules/higashi/Higashi_wrapper.py\" target=\"_blank\"><span style=\"color: #7f7f7f; text-decoration-color: #7f7f7f\">Higashi_wrapper.py</span></a><span style=\"color: #7f7f7f; text-decoration-color: #7f7f7f\">:</span><a href=\"file:///n/home09/pren/3DGeno_tools/src/gt3d/modules/higashi/Higashi_wrapper.py#1277\" target=\"_blank\"><span style=\"color: #7f7f7f; text-decoration-color: #7f7f7f\">1277</span></a>\n",
       "<span style=\"color: #7fbfbf; text-decoration-color: #7fbfbf\">                    </span>         spearman: <span style=\"color: #008080; text-decoration-color: #008080; font-weight: bold\">0.565</span>,elapse: <span style=\"color: #008080; text-decoration-color: #008080; font-weight: bold\">0.050</span> s                                <span style=\"color: #7f7f7f; text-decoration-color: #7f7f7f\">                       </span>\n",
       "</pre>\n"
      ],
      "text/plain": [
       "\u001b[2;36m                   \u001b[0m\u001b[2;36m \u001b[0m\u001b[34mINFO    \u001b[0m \u001b[94mtrain\u001b[0m  - \u001b[1m(\u001b[0mValid\u001b[1m)\u001b[0m bce:  \u001b[1;36m0.3669\u001b[0m,  acc: \u001b[1;36m89.277\u001b[0m %,pearson: \u001b[1;36m0.636\u001b[0m,  \u001b]8;id=298008;file:///n/home09/pren/3DGeno_tools/src/gt3d/modules/higashi/Higashi_wrapper.py\u001b\\\u001b[2mHigashi_wrapper.py\u001b[0m\u001b]8;;\u001b\\\u001b[2m:\u001b[0m\u001b]8;id=207528;file:///n/home09/pren/3DGeno_tools/src/gt3d/modules/higashi/Higashi_wrapper.py#1277\u001b\\\u001b[2m1277\u001b[0m\u001b]8;;\u001b\\\n",
       "\u001b[2;36m                    \u001b[0m         spearman: \u001b[1;36m0.565\u001b[0m,elapse: \u001b[1;36m0.050\u001b[0m s                                \u001b[2m                       \u001b[0m\n"
      ]
     },
     "metadata": {},
     "output_type": "display_data"
    },
    {
     "data": {
      "text/html": [
       "<pre style=\"white-space:pre;overflow-x:auto;line-height:normal;font-family:Menlo,'DejaVu Sans Mono',consolas,'Courier New',monospace\"><span style=\"color: #7fbfbf; text-decoration-color: #7fbfbf\">                    </span><span style=\"color: #000080; text-decoration-color: #000080\">INFO    </span> <span style=\"color: #0000ff; text-decoration-color: #0000ff\">train</span> update_rate: <span style=\"color: #008080; text-decoration-color: #008080; font-weight: bold\">0.002244</span>     <span style=\"color: #008080; text-decoration-color: #008080; font-weight: bold\">0.083188</span>                       <a href=\"file:///n/home09/pren/3DGeno_tools/src/gt3d/modules/higashi/Higashi_wrapper.py\" target=\"_blank\"><span style=\"color: #7f7f7f; text-decoration-color: #7f7f7f\">Higashi_wrapper.py</span></a><span style=\"color: #7f7f7f; text-decoration-color: #7f7f7f\">:</span><a href=\"file:///n/home09/pren/3DGeno_tools/src/gt3d/modules/higashi/Higashi_wrapper.py#1323\" target=\"_blank\"><span style=\"color: #7f7f7f; text-decoration-color: #7f7f7f\">1323</span></a>\n",
       "</pre>\n"
      ],
      "text/plain": [
       "\u001b[2;36m                   \u001b[0m\u001b[2;36m \u001b[0m\u001b[34mINFO    \u001b[0m \u001b[94mtrain\u001b[0m update_rate: \u001b[1;36m0.002244\u001b[0m     \u001b[1;36m0.083188\u001b[0m                       \u001b]8;id=871175;file:///n/home09/pren/3DGeno_tools/src/gt3d/modules/higashi/Higashi_wrapper.py\u001b\\\u001b[2mHigashi_wrapper.py\u001b[0m\u001b]8;;\u001b\\\u001b[2m:\u001b[0m\u001b]8;id=642075;file:///n/home09/pren/3DGeno_tools/src/gt3d/modules/higashi/Higashi_wrapper.py#1323\u001b\\\u001b[2m1323\u001b[0m\u001b]8;;\u001b\\\n"
      ]
     },
     "metadata": {},
     "output_type": "display_data"
    },
    {
     "data": {
      "text/html": [
       "<pre style=\"white-space:pre;overflow-x:auto;line-height:normal;font-family:Menlo,'DejaVu Sans Mono',consolas,'Courier New',monospace\"><span style=\"color: #7fbfbf; text-decoration-color: #7fbfbf\">                    </span><span style=\"color: #000080; text-decoration-color: #000080\">INFO    </span> <span style=\"color: #0000ff; text-decoration-color: #0000ff\">train</span> <span style=\"font-weight: bold\">[</span> Epoch <span style=\"color: #008080; text-decoration-color: #008080; font-weight: bold\">63</span> of <span style=\"color: #008080; text-decoration-color: #008080; font-weight: bold\">65</span> <span style=\"font-weight: bold\">]</span>                                       <a href=\"file:///n/home09/pren/3DGeno_tools/src/gt3d/modules/higashi/Higashi_wrapper.py\" target=\"_blank\"><span style=\"color: #7f7f7f; text-decoration-color: #7f7f7f\">Higashi_wrapper.py</span></a><span style=\"color: #7f7f7f; text-decoration-color: #7f7f7f\">:</span><a href=\"file:///n/home09/pren/3DGeno_tools/src/gt3d/modules/higashi/Higashi_wrapper.py#1245\" target=\"_blank\"><span style=\"color: #7f7f7f; text-decoration-color: #7f7f7f\">1245</span></a>\n",
       "</pre>\n"
      ],
      "text/plain": [
       "\u001b[2;36m                   \u001b[0m\u001b[2;36m \u001b[0m\u001b[34mINFO    \u001b[0m \u001b[94mtrain\u001b[0m \u001b[1m[\u001b[0m Epoch \u001b[1;36m63\u001b[0m of \u001b[1;36m65\u001b[0m \u001b[1m]\u001b[0m                                       \u001b]8;id=114922;file:///n/home09/pren/3DGeno_tools/src/gt3d/modules/higashi/Higashi_wrapper.py\u001b\\\u001b[2mHigashi_wrapper.py\u001b[0m\u001b]8;;\u001b\\\u001b[2m:\u001b[0m\u001b]8;id=221785;file:///n/home09/pren/3DGeno_tools/src/gt3d/modules/higashi/Higashi_wrapper.py#1245\u001b\\\u001b[2m1245\u001b[0m\u001b]8;;\u001b\\\n"
      ]
     },
     "metadata": {},
     "output_type": "display_data"
    },
    {
     "data": {
      "application/vnd.jupyter.widget-view+json": {
       "model_id": "372b814fba5540c4b48a193ebb95b818",
       "version_major": 2,
       "version_minor": 0
      },
      "text/plain": [
       "Output()"
      ]
     },
     "metadata": {},
     "output_type": "display_data"
    },
    {
     "data": {
      "text/html": [
       "<pre style=\"white-space:pre;overflow-x:auto;line-height:normal;font-family:Menlo,'DejaVu Sans Mono',consolas,'Courier New',monospace\"></pre>\n"
      ],
      "text/plain": []
     },
     "metadata": {},
     "output_type": "display_data"
    },
    {
     "data": {
      "text/html": [
       "<pre style=\"white-space:pre;overflow-x:auto;line-height:normal;font-family:Menlo,'DejaVu Sans Mono',consolas,'Courier New',monospace\"><span style=\"color: #7fbfbf; text-decoration-color: #7fbfbf\">[12/07/24 16:06:29] </span><span style=\"color: #000080; text-decoration-color: #000080\">INFO    </span> <span style=\"color: #0000ff; text-decoration-color: #0000ff\">train</span>  - <span style=\"font-weight: bold\">(</span>Train<span style=\"font-weight: bold\">)</span> bce:  <span style=\"color: #008080; text-decoration-color: #008080; font-weight: bold\">0.3062</span>, mse:  <span style=\"color: #008080; text-decoration-color: #008080; font-weight: bold\">0.8779</span>,  acc: <span style=\"color: #008080; text-decoration-color: #008080; font-weight: bold\">90.460</span> %,   <a href=\"file:///n/home09/pren/3DGeno_tools/src/gt3d/modules/higashi/Higashi_wrapper.py\" target=\"_blank\"><span style=\"color: #7f7f7f; text-decoration-color: #7f7f7f\">Higashi_wrapper.py</span></a><span style=\"color: #7f7f7f; text-decoration-color: #7f7f7f\">:</span><a href=\"file:///n/home09/pren/3DGeno_tools/src/gt3d/modules/higashi/Higashi_wrapper.py#1258\" target=\"_blank\"><span style=\"color: #7f7f7f; text-decoration-color: #7f7f7f\">1258</span></a>\n",
       "<span style=\"color: #7fbfbf; text-decoration-color: #7fbfbf\">                    </span>         pearson: <span style=\"color: #008080; text-decoration-color: #008080; font-weight: bold\">0.704</span>, spearman: <span style=\"color: #008080; text-decoration-color: #008080; font-weight: bold\">0.590</span>, elapse: <span style=\"color: #008080; text-decoration-color: #008080; font-weight: bold\">89.188</span> s              <span style=\"color: #7f7f7f; text-decoration-color: #7f7f7f\">                       </span>\n",
       "</pre>\n"
      ],
      "text/plain": [
       "\u001b[2;36m[12/07/24 16:06:29]\u001b[0m\u001b[2;36m \u001b[0m\u001b[34mINFO    \u001b[0m \u001b[94mtrain\u001b[0m  - \u001b[1m(\u001b[0mTrain\u001b[1m)\u001b[0m bce:  \u001b[1;36m0.3062\u001b[0m, mse:  \u001b[1;36m0.8779\u001b[0m,  acc: \u001b[1;36m90.460\u001b[0m %,   \u001b]8;id=497150;file:///n/home09/pren/3DGeno_tools/src/gt3d/modules/higashi/Higashi_wrapper.py\u001b\\\u001b[2mHigashi_wrapper.py\u001b[0m\u001b]8;;\u001b\\\u001b[2m:\u001b[0m\u001b]8;id=305159;file:///n/home09/pren/3DGeno_tools/src/gt3d/modules/higashi/Higashi_wrapper.py#1258\u001b\\\u001b[2m1258\u001b[0m\u001b]8;;\u001b\\\n",
       "\u001b[2;36m                    \u001b[0m         pearson: \u001b[1;36m0.704\u001b[0m, spearman: \u001b[1;36m0.590\u001b[0m, elapse: \u001b[1;36m89.188\u001b[0m s              \u001b[2m                       \u001b[0m\n"
      ]
     },
     "metadata": {},
     "output_type": "display_data"
    },
    {
     "data": {
      "application/vnd.jupyter.widget-view+json": {
       "model_id": "585b5dc4212f4dd7854c32a7a6e5476b",
       "version_major": 2,
       "version_minor": 0
      },
      "text/plain": [
       "Output()"
      ]
     },
     "metadata": {},
     "output_type": "display_data"
    },
    {
     "data": {
      "text/html": [
       "<pre style=\"white-space:pre;overflow-x:auto;line-height:normal;font-family:Menlo,'DejaVu Sans Mono',consolas,'Courier New',monospace\"></pre>\n"
      ],
      "text/plain": []
     },
     "metadata": {},
     "output_type": "display_data"
    },
    {
     "data": {
      "text/html": [
       "<pre style=\"white-space:pre;overflow-x:auto;line-height:normal;font-family:Menlo,'DejaVu Sans Mono',consolas,'Courier New',monospace\"><span style=\"color: #7fbfbf; text-decoration-color: #7fbfbf\">                    </span><span style=\"color: #000080; text-decoration-color: #000080\">INFO    </span> <span style=\"color: #0000ff; text-decoration-color: #0000ff\">train</span>  - <span style=\"font-weight: bold\">(</span>Valid<span style=\"font-weight: bold\">)</span> bce:  <span style=\"color: #008080; text-decoration-color: #008080; font-weight: bold\">0.3878</span>,  acc: <span style=\"color: #008080; text-decoration-color: #008080; font-weight: bold\">87.826</span> %,pearson: <span style=\"color: #008080; text-decoration-color: #008080; font-weight: bold\">0.603</span>,  <a href=\"file:///n/home09/pren/3DGeno_tools/src/gt3d/modules/higashi/Higashi_wrapper.py\" target=\"_blank\"><span style=\"color: #7f7f7f; text-decoration-color: #7f7f7f\">Higashi_wrapper.py</span></a><span style=\"color: #7f7f7f; text-decoration-color: #7f7f7f\">:</span><a href=\"file:///n/home09/pren/3DGeno_tools/src/gt3d/modules/higashi/Higashi_wrapper.py#1277\" target=\"_blank\"><span style=\"color: #7f7f7f; text-decoration-color: #7f7f7f\">1277</span></a>\n",
       "<span style=\"color: #7fbfbf; text-decoration-color: #7fbfbf\">                    </span>         spearman: <span style=\"color: #008080; text-decoration-color: #008080; font-weight: bold\">0.540</span>,elapse: <span style=\"color: #008080; text-decoration-color: #008080; font-weight: bold\">0.050</span> s                                <span style=\"color: #7f7f7f; text-decoration-color: #7f7f7f\">                       </span>\n",
       "</pre>\n"
      ],
      "text/plain": [
       "\u001b[2;36m                   \u001b[0m\u001b[2;36m \u001b[0m\u001b[34mINFO    \u001b[0m \u001b[94mtrain\u001b[0m  - \u001b[1m(\u001b[0mValid\u001b[1m)\u001b[0m bce:  \u001b[1;36m0.3878\u001b[0m,  acc: \u001b[1;36m87.826\u001b[0m %,pearson: \u001b[1;36m0.603\u001b[0m,  \u001b]8;id=15694;file:///n/home09/pren/3DGeno_tools/src/gt3d/modules/higashi/Higashi_wrapper.py\u001b\\\u001b[2mHigashi_wrapper.py\u001b[0m\u001b]8;;\u001b\\\u001b[2m:\u001b[0m\u001b]8;id=707109;file:///n/home09/pren/3DGeno_tools/src/gt3d/modules/higashi/Higashi_wrapper.py#1277\u001b\\\u001b[2m1277\u001b[0m\u001b]8;;\u001b\\\n",
       "\u001b[2;36m                    \u001b[0m         spearman: \u001b[1;36m0.540\u001b[0m,elapse: \u001b[1;36m0.050\u001b[0m s                                \u001b[2m                       \u001b[0m\n"
      ]
     },
     "metadata": {},
     "output_type": "display_data"
    },
    {
     "data": {
      "text/html": [
       "<pre style=\"white-space:pre;overflow-x:auto;line-height:normal;font-family:Menlo,'DejaVu Sans Mono',consolas,'Courier New',monospace\"><span style=\"color: #7fbfbf; text-decoration-color: #7fbfbf\">                    </span><span style=\"color: #000080; text-decoration-color: #000080\">INFO    </span> <span style=\"color: #0000ff; text-decoration-color: #0000ff\">train</span> update_rate: <span style=\"color: #008080; text-decoration-color: #008080; font-weight: bold\">0.002196</span>     <span style=\"color: #008080; text-decoration-color: #008080; font-weight: bold\">0.087113</span>                       <a href=\"file:///n/home09/pren/3DGeno_tools/src/gt3d/modules/higashi/Higashi_wrapper.py\" target=\"_blank\"><span style=\"color: #7f7f7f; text-decoration-color: #7f7f7f\">Higashi_wrapper.py</span></a><span style=\"color: #7f7f7f; text-decoration-color: #7f7f7f\">:</span><a href=\"file:///n/home09/pren/3DGeno_tools/src/gt3d/modules/higashi/Higashi_wrapper.py#1323\" target=\"_blank\"><span style=\"color: #7f7f7f; text-decoration-color: #7f7f7f\">1323</span></a>\n",
       "</pre>\n"
      ],
      "text/plain": [
       "\u001b[2;36m                   \u001b[0m\u001b[2;36m \u001b[0m\u001b[34mINFO    \u001b[0m \u001b[94mtrain\u001b[0m update_rate: \u001b[1;36m0.002196\u001b[0m     \u001b[1;36m0.087113\u001b[0m                       \u001b]8;id=859154;file:///n/home09/pren/3DGeno_tools/src/gt3d/modules/higashi/Higashi_wrapper.py\u001b\\\u001b[2mHigashi_wrapper.py\u001b[0m\u001b]8;;\u001b\\\u001b[2m:\u001b[0m\u001b]8;id=354635;file:///n/home09/pren/3DGeno_tools/src/gt3d/modules/higashi/Higashi_wrapper.py#1323\u001b\\\u001b[2m1323\u001b[0m\u001b]8;;\u001b\\\n"
      ]
     },
     "metadata": {},
     "output_type": "display_data"
    },
    {
     "data": {
      "text/html": [
       "<pre style=\"white-space:pre;overflow-x:auto;line-height:normal;font-family:Menlo,'DejaVu Sans Mono',consolas,'Courier New',monospace\"><span style=\"color: #7fbfbf; text-decoration-color: #7fbfbf\">                    </span><span style=\"color: #000080; text-decoration-color: #000080\">INFO    </span> <span style=\"color: #0000ff; text-decoration-color: #0000ff\">train</span> <span style=\"font-weight: bold\">[</span> Epoch <span style=\"color: #008080; text-decoration-color: #008080; font-weight: bold\">64</span> of <span style=\"color: #008080; text-decoration-color: #008080; font-weight: bold\">65</span> <span style=\"font-weight: bold\">]</span>                                       <a href=\"file:///n/home09/pren/3DGeno_tools/src/gt3d/modules/higashi/Higashi_wrapper.py\" target=\"_blank\"><span style=\"color: #7f7f7f; text-decoration-color: #7f7f7f\">Higashi_wrapper.py</span></a><span style=\"color: #7f7f7f; text-decoration-color: #7f7f7f\">:</span><a href=\"file:///n/home09/pren/3DGeno_tools/src/gt3d/modules/higashi/Higashi_wrapper.py#1245\" target=\"_blank\"><span style=\"color: #7f7f7f; text-decoration-color: #7f7f7f\">1245</span></a>\n",
       "</pre>\n"
      ],
      "text/plain": [
       "\u001b[2;36m                   \u001b[0m\u001b[2;36m \u001b[0m\u001b[34mINFO    \u001b[0m \u001b[94mtrain\u001b[0m \u001b[1m[\u001b[0m Epoch \u001b[1;36m64\u001b[0m of \u001b[1;36m65\u001b[0m \u001b[1m]\u001b[0m                                       \u001b]8;id=934328;file:///n/home09/pren/3DGeno_tools/src/gt3d/modules/higashi/Higashi_wrapper.py\u001b\\\u001b[2mHigashi_wrapper.py\u001b[0m\u001b]8;;\u001b\\\u001b[2m:\u001b[0m\u001b]8;id=149105;file:///n/home09/pren/3DGeno_tools/src/gt3d/modules/higashi/Higashi_wrapper.py#1245\u001b\\\u001b[2m1245\u001b[0m\u001b]8;;\u001b\\\n"
      ]
     },
     "metadata": {},
     "output_type": "display_data"
    },
    {
     "data": {
      "application/vnd.jupyter.widget-view+json": {
       "model_id": "1e99d3246c16496abfacbbf147e32177",
       "version_major": 2,
       "version_minor": 0
      },
      "text/plain": [
       "Output()"
      ]
     },
     "metadata": {},
     "output_type": "display_data"
    },
    {
     "data": {
      "text/html": [
       "<pre style=\"white-space:pre;overflow-x:auto;line-height:normal;font-family:Menlo,'DejaVu Sans Mono',consolas,'Courier New',monospace\"></pre>\n"
      ],
      "text/plain": []
     },
     "metadata": {},
     "output_type": "display_data"
    },
    {
     "data": {
      "text/html": [
       "<pre style=\"white-space:pre;overflow-x:auto;line-height:normal;font-family:Menlo,'DejaVu Sans Mono',consolas,'Courier New',monospace\"><span style=\"color: #7fbfbf; text-decoration-color: #7fbfbf\">[12/07/24 16:07:58] </span><span style=\"color: #000080; text-decoration-color: #000080\">INFO    </span> <span style=\"color: #0000ff; text-decoration-color: #0000ff\">train</span>  - <span style=\"font-weight: bold\">(</span>Train<span style=\"font-weight: bold\">)</span> bce:  <span style=\"color: #008080; text-decoration-color: #008080; font-weight: bold\">0.3060</span>, mse:  <span style=\"color: #008080; text-decoration-color: #008080; font-weight: bold\">0.8806</span>,  acc: <span style=\"color: #008080; text-decoration-color: #008080; font-weight: bold\">90.392</span> %,   <a href=\"file:///n/home09/pren/3DGeno_tools/src/gt3d/modules/higashi/Higashi_wrapper.py\" target=\"_blank\"><span style=\"color: #7f7f7f; text-decoration-color: #7f7f7f\">Higashi_wrapper.py</span></a><span style=\"color: #7f7f7f; text-decoration-color: #7f7f7f\">:</span><a href=\"file:///n/home09/pren/3DGeno_tools/src/gt3d/modules/higashi/Higashi_wrapper.py#1258\" target=\"_blank\"><span style=\"color: #7f7f7f; text-decoration-color: #7f7f7f\">1258</span></a>\n",
       "<span style=\"color: #7fbfbf; text-decoration-color: #7fbfbf\">                    </span>         pearson: <span style=\"color: #008080; text-decoration-color: #008080; font-weight: bold\">0.702</span>, spearman: <span style=\"color: #008080; text-decoration-color: #008080; font-weight: bold\">0.590</span>, elapse: <span style=\"color: #008080; text-decoration-color: #008080; font-weight: bold\">88.816</span> s              <span style=\"color: #7f7f7f; text-decoration-color: #7f7f7f\">                       </span>\n",
       "</pre>\n"
      ],
      "text/plain": [
       "\u001b[2;36m[12/07/24 16:07:58]\u001b[0m\u001b[2;36m \u001b[0m\u001b[34mINFO    \u001b[0m \u001b[94mtrain\u001b[0m  - \u001b[1m(\u001b[0mTrain\u001b[1m)\u001b[0m bce:  \u001b[1;36m0.3060\u001b[0m, mse:  \u001b[1;36m0.8806\u001b[0m,  acc: \u001b[1;36m90.392\u001b[0m %,   \u001b]8;id=926815;file:///n/home09/pren/3DGeno_tools/src/gt3d/modules/higashi/Higashi_wrapper.py\u001b\\\u001b[2mHigashi_wrapper.py\u001b[0m\u001b]8;;\u001b\\\u001b[2m:\u001b[0m\u001b]8;id=532815;file:///n/home09/pren/3DGeno_tools/src/gt3d/modules/higashi/Higashi_wrapper.py#1258\u001b\\\u001b[2m1258\u001b[0m\u001b]8;;\u001b\\\n",
       "\u001b[2;36m                    \u001b[0m         pearson: \u001b[1;36m0.702\u001b[0m, spearman: \u001b[1;36m0.590\u001b[0m, elapse: \u001b[1;36m88.816\u001b[0m s              \u001b[2m                       \u001b[0m\n"
      ]
     },
     "metadata": {},
     "output_type": "display_data"
    },
    {
     "data": {
      "application/vnd.jupyter.widget-view+json": {
       "model_id": "a3e9a5249a1e42f5a5136881aaed4610",
       "version_major": 2,
       "version_minor": 0
      },
      "text/plain": [
       "Output()"
      ]
     },
     "metadata": {},
     "output_type": "display_data"
    },
    {
     "data": {
      "text/html": [
       "<pre style=\"white-space:pre;overflow-x:auto;line-height:normal;font-family:Menlo,'DejaVu Sans Mono',consolas,'Courier New',monospace\"></pre>\n"
      ],
      "text/plain": []
     },
     "metadata": {},
     "output_type": "display_data"
    },
    {
     "data": {
      "text/html": [
       "<pre style=\"white-space:pre;overflow-x:auto;line-height:normal;font-family:Menlo,'DejaVu Sans Mono',consolas,'Courier New',monospace\"><span style=\"color: #7fbfbf; text-decoration-color: #7fbfbf\">                    </span><span style=\"color: #000080; text-decoration-color: #000080\">INFO    </span> <span style=\"color: #0000ff; text-decoration-color: #0000ff\">train</span>  - <span style=\"font-weight: bold\">(</span>Valid<span style=\"font-weight: bold\">)</span> bce:  <span style=\"color: #008080; text-decoration-color: #008080; font-weight: bold\">0.3612</span>,  acc: <span style=\"color: #008080; text-decoration-color: #008080; font-weight: bold\">88.952</span> %,pearson: <span style=\"color: #008080; text-decoration-color: #008080; font-weight: bold\">0.636</span>,  <a href=\"file:///n/home09/pren/3DGeno_tools/src/gt3d/modules/higashi/Higashi_wrapper.py\" target=\"_blank\"><span style=\"color: #7f7f7f; text-decoration-color: #7f7f7f\">Higashi_wrapper.py</span></a><span style=\"color: #7f7f7f; text-decoration-color: #7f7f7f\">:</span><a href=\"file:///n/home09/pren/3DGeno_tools/src/gt3d/modules/higashi/Higashi_wrapper.py#1277\" target=\"_blank\"><span style=\"color: #7f7f7f; text-decoration-color: #7f7f7f\">1277</span></a>\n",
       "<span style=\"color: #7fbfbf; text-decoration-color: #7fbfbf\">                    </span>         spearman: <span style=\"color: #008080; text-decoration-color: #008080; font-weight: bold\">0.566</span>,elapse: <span style=\"color: #008080; text-decoration-color: #008080; font-weight: bold\">0.050</span> s                                <span style=\"color: #7f7f7f; text-decoration-color: #7f7f7f\">                       </span>\n",
       "</pre>\n"
      ],
      "text/plain": [
       "\u001b[2;36m                   \u001b[0m\u001b[2;36m \u001b[0m\u001b[34mINFO    \u001b[0m \u001b[94mtrain\u001b[0m  - \u001b[1m(\u001b[0mValid\u001b[1m)\u001b[0m bce:  \u001b[1;36m0.3612\u001b[0m,  acc: \u001b[1;36m88.952\u001b[0m %,pearson: \u001b[1;36m0.636\u001b[0m,  \u001b]8;id=64289;file:///n/home09/pren/3DGeno_tools/src/gt3d/modules/higashi/Higashi_wrapper.py\u001b\\\u001b[2mHigashi_wrapper.py\u001b[0m\u001b]8;;\u001b\\\u001b[2m:\u001b[0m\u001b]8;id=194801;file:///n/home09/pren/3DGeno_tools/src/gt3d/modules/higashi/Higashi_wrapper.py#1277\u001b\\\u001b[2m1277\u001b[0m\u001b]8;;\u001b\\\n",
       "\u001b[2;36m                    \u001b[0m         spearman: \u001b[1;36m0.566\u001b[0m,elapse: \u001b[1;36m0.050\u001b[0m s                                \u001b[2m                       \u001b[0m\n"
      ]
     },
     "metadata": {},
     "output_type": "display_data"
    },
    {
     "data": {
      "text/html": [
       "<pre style=\"white-space:pre;overflow-x:auto;line-height:normal;font-family:Menlo,'DejaVu Sans Mono',consolas,'Courier New',monospace\"><span style=\"color: #7fbfbf; text-decoration-color: #7fbfbf\">                    </span><span style=\"color: #000080; text-decoration-color: #000080\">INFO    </span> <span style=\"color: #0000ff; text-decoration-color: #0000ff\">train</span> update_rate: <span style=\"color: #008080; text-decoration-color: #008080; font-weight: bold\">0.002365</span>     <span style=\"color: #008080; text-decoration-color: #008080; font-weight: bold\">0.114808</span>                       <a href=\"file:///n/home09/pren/3DGeno_tools/src/gt3d/modules/higashi/Higashi_wrapper.py\" target=\"_blank\"><span style=\"color: #7f7f7f; text-decoration-color: #7f7f7f\">Higashi_wrapper.py</span></a><span style=\"color: #7f7f7f; text-decoration-color: #7f7f7f\">:</span><a href=\"file:///n/home09/pren/3DGeno_tools/src/gt3d/modules/higashi/Higashi_wrapper.py#1323\" target=\"_blank\"><span style=\"color: #7f7f7f; text-decoration-color: #7f7f7f\">1323</span></a>\n",
       "</pre>\n"
      ],
      "text/plain": [
       "\u001b[2;36m                   \u001b[0m\u001b[2;36m \u001b[0m\u001b[34mINFO    \u001b[0m \u001b[94mtrain\u001b[0m update_rate: \u001b[1;36m0.002365\u001b[0m     \u001b[1;36m0.114808\u001b[0m                       \u001b]8;id=782897;file:///n/home09/pren/3DGeno_tools/src/gt3d/modules/higashi/Higashi_wrapper.py\u001b\\\u001b[2mHigashi_wrapper.py\u001b[0m\u001b]8;;\u001b\\\u001b[2m:\u001b[0m\u001b]8;id=151335;file:///n/home09/pren/3DGeno_tools/src/gt3d/modules/higashi/Higashi_wrapper.py#1323\u001b\\\u001b[2m1323\u001b[0m\u001b]8;;\u001b\\\n"
      ]
     },
     "metadata": {},
     "output_type": "display_data"
    },
    {
     "data": {
      "application/vnd.jupyter.widget-view+json": {
       "model_id": "4aadda6146134e019e2c0133dd336058",
       "version_major": 2,
       "version_minor": 0
      },
      "text/plain": [
       "Output()"
      ]
     },
     "metadata": {},
     "output_type": "display_data"
    },
    {
     "data": {
      "text/html": [
       "<pre style=\"white-space:pre;overflow-x:auto;line-height:normal;font-family:Menlo,'DejaVu Sans Mono',consolas,'Courier New',monospace\"></pre>\n"
      ],
      "text/plain": []
     },
     "metadata": {},
     "output_type": "display_data"
    },
    {
     "data": {
      "text/html": [
       "<pre style=\"white-space:pre;overflow-x:auto;line-height:normal;font-family:Menlo,'DejaVu Sans Mono',consolas,'Courier New',monospace\"><span style=\"color: #7fbfbf; text-decoration-color: #7fbfbf\">[12/07/24 16:07:59] </span><span style=\"color: #000080; text-decoration-color: #000080\">INFO    </span> <span style=\"color: #0000ff; text-decoration-color: #0000ff\">train</span>  - <span style=\"font-weight: bold\">(</span>Validation-hyper<span style=\"font-weight: bold\">)</span> bce:  <span style=\"color: #008080; text-decoration-color: #008080; font-weight: bold\">0.4745</span>,  acc: <span style=\"color: #008080; text-decoration-color: #008080; font-weight: bold\">81.265</span> %, auc: <a href=\"file:///n/home09/pren/3DGeno_tools/src/gt3d/modules/higashi/Higashi_wrapper.py\" target=\"_blank\"><span style=\"color: #7f7f7f; text-decoration-color: #7f7f7f\">Higashi_wrapper.py</span></a><span style=\"color: #7f7f7f; text-decoration-color: #7f7f7f\">:</span><a href=\"file:///n/home09/pren/3DGeno_tools/src/gt3d/modules/higashi/Higashi_wrapper.py#1328\" target=\"_blank\"><span style=\"color: #7f7f7f; text-decoration-color: #7f7f7f\">1328</span></a>\n",
       "<span style=\"color: #7fbfbf; text-decoration-color: #7fbfbf\">                    </span>         <span style=\"color: #008080; text-decoration-color: #008080; font-weight: bold\">0.454</span>, aupr: <span style=\"color: #008080; text-decoration-color: #008080; font-weight: bold\">0.441</span>,elapse: <span style=\"color: #008080; text-decoration-color: #008080; font-weight: bold\">1.050</span> s                             <span style=\"color: #7f7f7f; text-decoration-color: #7f7f7f\">                       </span>\n",
       "</pre>\n"
      ],
      "text/plain": [
       "\u001b[2;36m[12/07/24 16:07:59]\u001b[0m\u001b[2;36m \u001b[0m\u001b[34mINFO    \u001b[0m \u001b[94mtrain\u001b[0m  - \u001b[1m(\u001b[0mValidation-hyper\u001b[1m)\u001b[0m bce:  \u001b[1;36m0.4745\u001b[0m,  acc: \u001b[1;36m81.265\u001b[0m %, auc: \u001b]8;id=305921;file:///n/home09/pren/3DGeno_tools/src/gt3d/modules/higashi/Higashi_wrapper.py\u001b\\\u001b[2mHigashi_wrapper.py\u001b[0m\u001b]8;;\u001b\\\u001b[2m:\u001b[0m\u001b]8;id=168510;file:///n/home09/pren/3DGeno_tools/src/gt3d/modules/higashi/Higashi_wrapper.py#1328\u001b\\\u001b[2m1328\u001b[0m\u001b]8;;\u001b\\\n",
       "\u001b[2;36m                    \u001b[0m         \u001b[1;36m0.454\u001b[0m, aupr: \u001b[1;36m0.441\u001b[0m,elapse: \u001b[1;36m1.050\u001b[0m s                             \u001b[2m                       \u001b[0m\n"
      ]
     },
     "metadata": {},
     "output_type": "display_data"
    }
   ],
   "source": [
    "# Stage 1 training\n",
    "higashi_model.train_for_embeddings()"
   ]
  },
  {
   "cell_type": "code",
   "execution_count": 17,
   "id": "0988d5de",
   "metadata": {},
   "outputs": [
    {
     "data": {
      "text/plain": [
       "array(['L2/3 IT', 'Endo', 'VLMC', 'Astro', 'Oligo', 'Sst', 'OPC', 'L5 IT',\n",
       "       'L4/5 IT', 'Vip', 'L6 CT', 'L5 ET', 'Micro', 'Pvalb', 'L6 IT',\n",
       "       'SMC', 'Peri', 'Lamp5', 'L6b', nan, 'L5/6 NP', 'other', 'Sncg'],\n",
       "      dtype=object)"
      ]
     },
     "execution_count": 17,
     "metadata": {},
     "output_type": "execute_result"
    }
   ],
   "source": [
    "training_data_meta['cluster_subclass'].unique()"
   ]
  },
  {
   "cell_type": "code",
   "execution_count": 18,
   "id": "7b3514ee",
   "metadata": {},
   "outputs": [
    {
     "data": {
      "text/plain": [
       "array(['Gluta', 'Endo', 'VLMC', 'Astro', 'Oligo', 'GABA', 'Micro', 'SMC',\n",
       "       'Peri', nan, 'other'], dtype=object)"
      ]
     },
     "execution_count": 18,
     "metadata": {},
     "output_type": "execute_result"
    }
   ],
   "source": [
    "training_data_meta['cluster_class'].unique()"
   ]
  },
  {
   "cell_type": "code",
   "execution_count": 19,
   "id": "f39d7f10",
   "metadata": {},
   "outputs": [
    {
     "name": "stdout",
     "output_type": "stream",
     "text": [
      "(2420, 100)\n",
      "vec:  [[11.034867   2.943558 ]\n",
      " [ 6.0706944  2.806181 ]\n",
      " [ 9.343161   3.1955163]\n",
      " ...\n",
      " [ 6.565313   2.4826782]\n",
      " [ 7.587093   2.6034663]\n",
      " [11.447548   1.7926501]]\n",
      "type(vec):  <class 'numpy.ndarray'>\n",
      "vec.shape:  (2420, 2)\n"
     ]
    },
    {
     "ename": "ValueError",
     "evalue": "All arrays must be of the same length",
     "output_type": "error",
     "traceback": [
      "\u001b[0;31m---------------------------------------------------------------------------\u001b[0m",
      "\u001b[0;31mValueError\u001b[0m                                Traceback (most recent call last)",
      "Cell \u001b[0;32mIn[19], line 22\u001b[0m\n\u001b[1;32m     17\u001b[0m \u001b[38;5;28mprint\u001b[39m(\u001b[38;5;124m'\u001b[39m\u001b[38;5;124mvec.shape: \u001b[39m\u001b[38;5;124m'\u001b[39m, vec\u001b[38;5;241m.\u001b[39mshape)\n\u001b[1;32m     18\u001b[0m \u001b[38;5;66;03m# sns.scatterplot(x=vec[:, 0], y=vec[:, 1], hue=cell_type, ax=ax, s=5, alpha=0.8, linewidth=0,\u001b[39;00m\n\u001b[1;32m     19\u001b[0m \u001b[38;5;66;03m#                 hue_order=['L2/3 IT', 'Endo', 'VLMC', 'Astro', 'Oligo', 'Sst', 'OPC', 'L5 IT',\u001b[39;00m\n\u001b[1;32m     20\u001b[0m \u001b[38;5;66;03m#                            'L4/5 IT', 'Vip', 'L5 ET', 'Micro', 'Pvalb', 'L6 IT', 'L6 CT',\u001b[39;00m\n\u001b[1;32m     21\u001b[0m \u001b[38;5;66;03m#                            'SMC', 'Peri', 'Lamp5', 'L6b', 'L5/6 NP', 'other', 'Sncg'])\u001b[39;00m\n\u001b[0;32m---> 22\u001b[0m \u001b[43msns\u001b[49m\u001b[38;5;241;43m.\u001b[39;49m\u001b[43mscatterplot\u001b[49m\u001b[43m(\u001b[49m\u001b[43mx\u001b[49m\u001b[38;5;241;43m=\u001b[39;49m\u001b[43mvec\u001b[49m\u001b[43m[\u001b[49m\u001b[43m:\u001b[49m\u001b[43m,\u001b[49m\u001b[43m \u001b[49m\u001b[38;5;241;43m0\u001b[39;49m\u001b[43m]\u001b[49m\u001b[43m,\u001b[49m\u001b[43m \u001b[49m\u001b[43my\u001b[49m\u001b[38;5;241;43m=\u001b[39;49m\u001b[43mvec\u001b[49m\u001b[43m[\u001b[49m\u001b[43m:\u001b[49m\u001b[43m,\u001b[49m\u001b[43m \u001b[49m\u001b[38;5;241;43m1\u001b[39;49m\u001b[43m]\u001b[49m\u001b[43m,\u001b[49m\u001b[43m \u001b[49m\u001b[43mhue\u001b[49m\u001b[38;5;241;43m=\u001b[39;49m\u001b[43mcell_type\u001b[49m\u001b[43m,\u001b[49m\u001b[43m \u001b[49m\u001b[43max\u001b[49m\u001b[38;5;241;43m=\u001b[39;49m\u001b[43max\u001b[49m\u001b[43m,\u001b[49m\u001b[43m \u001b[49m\u001b[43ms\u001b[49m\u001b[38;5;241;43m=\u001b[39;49m\u001b[38;5;241;43m5\u001b[39;49m\u001b[43m,\u001b[49m\u001b[43m \u001b[49m\u001b[43malpha\u001b[49m\u001b[38;5;241;43m=\u001b[39;49m\u001b[38;5;241;43m0.8\u001b[39;49m\u001b[43m,\u001b[49m\u001b[43m \u001b[49m\u001b[43mlinewidth\u001b[49m\u001b[38;5;241;43m=\u001b[39;49m\u001b[38;5;241;43m0\u001b[39;49m\u001b[43m,\u001b[49m\n\u001b[1;32m     23\u001b[0m \u001b[43m                \u001b[49m\u001b[43mhue_order\u001b[49m\u001b[38;5;241;43m=\u001b[39;49m\u001b[43m[\u001b[49m\u001b[38;5;124;43m'\u001b[39;49m\u001b[38;5;124;43mGluta\u001b[39;49m\u001b[38;5;124;43m'\u001b[39;49m\u001b[43m,\u001b[49m\u001b[43m \u001b[49m\u001b[38;5;124;43m'\u001b[39;49m\u001b[38;5;124;43mEndo\u001b[39;49m\u001b[38;5;124;43m'\u001b[39;49m\u001b[43m,\u001b[49m\u001b[43m \u001b[49m\u001b[38;5;124;43m'\u001b[39;49m\u001b[38;5;124;43mVLMC\u001b[39;49m\u001b[38;5;124;43m'\u001b[39;49m\u001b[43m,\u001b[49m\u001b[43m \u001b[49m\u001b[38;5;124;43m'\u001b[39;49m\u001b[38;5;124;43mAstro\u001b[39;49m\u001b[38;5;124;43m'\u001b[39;49m\u001b[43m,\u001b[49m\u001b[43m \u001b[49m\u001b[38;5;124;43m'\u001b[39;49m\u001b[38;5;124;43mOligo\u001b[39;49m\u001b[38;5;124;43m'\u001b[39;49m\u001b[43m,\u001b[49m\u001b[43m \u001b[49m\u001b[38;5;124;43m'\u001b[39;49m\u001b[38;5;124;43mGABA\u001b[39;49m\u001b[38;5;124;43m'\u001b[39;49m\u001b[43m,\u001b[49m\u001b[43m \u001b[49m\u001b[38;5;124;43m'\u001b[39;49m\u001b[38;5;124;43mMicro\u001b[39;49m\u001b[38;5;124;43m'\u001b[39;49m\u001b[43m,\u001b[49m\u001b[43m \u001b[49m\u001b[38;5;124;43m'\u001b[39;49m\u001b[38;5;124;43mSMC\u001b[39;49m\u001b[38;5;124;43m'\u001b[39;49m\u001b[43m,\u001b[49m\n\u001b[1;32m     24\u001b[0m \u001b[43m                           \u001b[49m\u001b[38;5;124;43m'\u001b[39;49m\u001b[38;5;124;43mPeri\u001b[39;49m\u001b[38;5;124;43m'\u001b[39;49m\u001b[43m,\u001b[49m\u001b[43m \u001b[49m\u001b[38;5;124;43m'\u001b[39;49m\u001b[38;5;124;43mother\u001b[39;49m\u001b[38;5;124;43m'\u001b[39;49m\u001b[43m]\u001b[49m\u001b[43m)\u001b[49m\n\u001b[1;32m     25\u001b[0m handles, labels \u001b[38;5;241m=\u001b[39m ax\u001b[38;5;241m.\u001b[39mget_legend_handles_labels()\n\u001b[1;32m     26\u001b[0m labels, handles \u001b[38;5;241m=\u001b[39m \u001b[38;5;28mzip\u001b[39m(\u001b[38;5;241m*\u001b[39m\u001b[38;5;28msorted\u001b[39m(\u001b[38;5;28mzip\u001b[39m(labels, handles), key\u001b[38;5;241m=\u001b[39m\u001b[38;5;28;01mlambda\u001b[39;00m t: t[\u001b[38;5;241m0\u001b[39m]))\n",
      "File \u001b[0;32m~/.conda/envs/gt3d/lib/python3.10/site-packages/seaborn/relational.py:615\u001b[0m, in \u001b[0;36mscatterplot\u001b[0;34m(data, x, y, hue, size, style, palette, hue_order, hue_norm, sizes, size_order, size_norm, markers, style_order, legend, ax, **kwargs)\u001b[0m\n\u001b[1;32m    606\u001b[0m \u001b[38;5;28;01mdef\u001b[39;00m \u001b[38;5;21mscatterplot\u001b[39m(\n\u001b[1;32m    607\u001b[0m     data\u001b[38;5;241m=\u001b[39m\u001b[38;5;28;01mNone\u001b[39;00m, \u001b[38;5;241m*\u001b[39m,\n\u001b[1;32m    608\u001b[0m     x\u001b[38;5;241m=\u001b[39m\u001b[38;5;28;01mNone\u001b[39;00m, y\u001b[38;5;241m=\u001b[39m\u001b[38;5;28;01mNone\u001b[39;00m, hue\u001b[38;5;241m=\u001b[39m\u001b[38;5;28;01mNone\u001b[39;00m, size\u001b[38;5;241m=\u001b[39m\u001b[38;5;28;01mNone\u001b[39;00m, style\u001b[38;5;241m=\u001b[39m\u001b[38;5;28;01mNone\u001b[39;00m,\n\u001b[0;32m   (...)\u001b[0m\n\u001b[1;32m    612\u001b[0m     \u001b[38;5;241m*\u001b[39m\u001b[38;5;241m*\u001b[39mkwargs\n\u001b[1;32m    613\u001b[0m ):\n\u001b[0;32m--> 615\u001b[0m     p \u001b[38;5;241m=\u001b[39m \u001b[43m_ScatterPlotter\u001b[49m\u001b[43m(\u001b[49m\n\u001b[1;32m    616\u001b[0m \u001b[43m        \u001b[49m\u001b[43mdata\u001b[49m\u001b[38;5;241;43m=\u001b[39;49m\u001b[43mdata\u001b[49m\u001b[43m,\u001b[49m\n\u001b[1;32m    617\u001b[0m \u001b[43m        \u001b[49m\u001b[43mvariables\u001b[49m\u001b[38;5;241;43m=\u001b[39;49m\u001b[38;5;28;43mdict\u001b[39;49m\u001b[43m(\u001b[49m\u001b[43mx\u001b[49m\u001b[38;5;241;43m=\u001b[39;49m\u001b[43mx\u001b[49m\u001b[43m,\u001b[49m\u001b[43m \u001b[49m\u001b[43my\u001b[49m\u001b[38;5;241;43m=\u001b[39;49m\u001b[43my\u001b[49m\u001b[43m,\u001b[49m\u001b[43m \u001b[49m\u001b[43mhue\u001b[49m\u001b[38;5;241;43m=\u001b[39;49m\u001b[43mhue\u001b[49m\u001b[43m,\u001b[49m\u001b[43m \u001b[49m\u001b[43msize\u001b[49m\u001b[38;5;241;43m=\u001b[39;49m\u001b[43msize\u001b[49m\u001b[43m,\u001b[49m\u001b[43m \u001b[49m\u001b[43mstyle\u001b[49m\u001b[38;5;241;43m=\u001b[39;49m\u001b[43mstyle\u001b[49m\u001b[43m)\u001b[49m\u001b[43m,\u001b[49m\n\u001b[1;32m    618\u001b[0m \u001b[43m        \u001b[49m\u001b[43mlegend\u001b[49m\u001b[38;5;241;43m=\u001b[39;49m\u001b[43mlegend\u001b[49m\n\u001b[1;32m    619\u001b[0m \u001b[43m    \u001b[49m\u001b[43m)\u001b[49m\n\u001b[1;32m    621\u001b[0m     p\u001b[38;5;241m.\u001b[39mmap_hue(palette\u001b[38;5;241m=\u001b[39mpalette, order\u001b[38;5;241m=\u001b[39mhue_order, norm\u001b[38;5;241m=\u001b[39mhue_norm)\n\u001b[1;32m    622\u001b[0m     p\u001b[38;5;241m.\u001b[39mmap_size(sizes\u001b[38;5;241m=\u001b[39msizes, order\u001b[38;5;241m=\u001b[39msize_order, norm\u001b[38;5;241m=\u001b[39msize_norm)\n",
      "File \u001b[0;32m~/.conda/envs/gt3d/lib/python3.10/site-packages/seaborn/relational.py:396\u001b[0m, in \u001b[0;36m_ScatterPlotter.__init__\u001b[0;34m(self, data, variables, legend)\u001b[0m\n\u001b[1;32m    387\u001b[0m \u001b[38;5;28;01mdef\u001b[39;00m \u001b[38;5;21m__init__\u001b[39m(\u001b[38;5;28mself\u001b[39m, \u001b[38;5;241m*\u001b[39m, data\u001b[38;5;241m=\u001b[39m\u001b[38;5;28;01mNone\u001b[39;00m, variables\u001b[38;5;241m=\u001b[39m{}, legend\u001b[38;5;241m=\u001b[39m\u001b[38;5;28;01mNone\u001b[39;00m):\n\u001b[1;32m    388\u001b[0m \n\u001b[1;32m    389\u001b[0m     \u001b[38;5;66;03m# TODO this is messy, we want the mapping to be agnostic about\u001b[39;00m\n\u001b[1;32m    390\u001b[0m     \u001b[38;5;66;03m# the kind of plot to draw, but for the time being we need to set\u001b[39;00m\n\u001b[1;32m    391\u001b[0m     \u001b[38;5;66;03m# this information so the SizeMapping can use it\u001b[39;00m\n\u001b[1;32m    392\u001b[0m     \u001b[38;5;28mself\u001b[39m\u001b[38;5;241m.\u001b[39m_default_size_range \u001b[38;5;241m=\u001b[39m (\n\u001b[1;32m    393\u001b[0m         np\u001b[38;5;241m.\u001b[39mr_[\u001b[38;5;241m.5\u001b[39m, \u001b[38;5;241m2\u001b[39m] \u001b[38;5;241m*\u001b[39m np\u001b[38;5;241m.\u001b[39msquare(mpl\u001b[38;5;241m.\u001b[39mrcParams[\u001b[38;5;124m\"\u001b[39m\u001b[38;5;124mlines.markersize\u001b[39m\u001b[38;5;124m\"\u001b[39m])\n\u001b[1;32m    394\u001b[0m     )\n\u001b[0;32m--> 396\u001b[0m     \u001b[38;5;28;43msuper\u001b[39;49m\u001b[43m(\u001b[49m\u001b[43m)\u001b[49m\u001b[38;5;241;43m.\u001b[39;49m\u001b[38;5;21;43m__init__\u001b[39;49m\u001b[43m(\u001b[49m\u001b[43mdata\u001b[49m\u001b[38;5;241;43m=\u001b[39;49m\u001b[43mdata\u001b[49m\u001b[43m,\u001b[49m\u001b[43m \u001b[49m\u001b[43mvariables\u001b[49m\u001b[38;5;241;43m=\u001b[39;49m\u001b[43mvariables\u001b[49m\u001b[43m)\u001b[49m\n\u001b[1;32m    398\u001b[0m     \u001b[38;5;28mself\u001b[39m\u001b[38;5;241m.\u001b[39mlegend \u001b[38;5;241m=\u001b[39m legend\n",
      "File \u001b[0;32m~/.conda/envs/gt3d/lib/python3.10/site-packages/seaborn/_base.py:634\u001b[0m, in \u001b[0;36mVectorPlotter.__init__\u001b[0;34m(self, data, variables)\u001b[0m\n\u001b[1;32m    629\u001b[0m \u001b[38;5;66;03m# var_ordered is relevant only for categorical axis variables, and may\u001b[39;00m\n\u001b[1;32m    630\u001b[0m \u001b[38;5;66;03m# be better handled by an internal axis information object that tracks\u001b[39;00m\n\u001b[1;32m    631\u001b[0m \u001b[38;5;66;03m# such information and is set up by the scale_* methods. The analogous\u001b[39;00m\n\u001b[1;32m    632\u001b[0m \u001b[38;5;66;03m# information for numeric axes would be information about log scales.\u001b[39;00m\n\u001b[1;32m    633\u001b[0m \u001b[38;5;28mself\u001b[39m\u001b[38;5;241m.\u001b[39m_var_ordered \u001b[38;5;241m=\u001b[39m {\u001b[38;5;124m\"\u001b[39m\u001b[38;5;124mx\u001b[39m\u001b[38;5;124m\"\u001b[39m: \u001b[38;5;28;01mFalse\u001b[39;00m, \u001b[38;5;124m\"\u001b[39m\u001b[38;5;124my\u001b[39m\u001b[38;5;124m\"\u001b[39m: \u001b[38;5;28;01mFalse\u001b[39;00m}  \u001b[38;5;66;03m# alt., used DefaultDict\u001b[39;00m\n\u001b[0;32m--> 634\u001b[0m \u001b[38;5;28;43mself\u001b[39;49m\u001b[38;5;241;43m.\u001b[39;49m\u001b[43massign_variables\u001b[49m\u001b[43m(\u001b[49m\u001b[43mdata\u001b[49m\u001b[43m,\u001b[49m\u001b[43m \u001b[49m\u001b[43mvariables\u001b[49m\u001b[43m)\u001b[49m\n\u001b[1;32m    636\u001b[0m \u001b[38;5;66;03m# TODO Lots of tests assume that these are called to initialize the\u001b[39;00m\n\u001b[1;32m    637\u001b[0m \u001b[38;5;66;03m# mappings to default values on class initialization. I'd prefer to\u001b[39;00m\n\u001b[1;32m    638\u001b[0m \u001b[38;5;66;03m# move away from that and only have a mapping when explicitly called.\u001b[39;00m\n\u001b[1;32m    639\u001b[0m \u001b[38;5;28;01mfor\u001b[39;00m var \u001b[38;5;129;01min\u001b[39;00m [\u001b[38;5;124m\"\u001b[39m\u001b[38;5;124mhue\u001b[39m\u001b[38;5;124m\"\u001b[39m, \u001b[38;5;124m\"\u001b[39m\u001b[38;5;124msize\u001b[39m\u001b[38;5;124m\"\u001b[39m, \u001b[38;5;124m\"\u001b[39m\u001b[38;5;124mstyle\u001b[39m\u001b[38;5;124m\"\u001b[39m]:\n",
      "File \u001b[0;32m~/.conda/envs/gt3d/lib/python3.10/site-packages/seaborn/_base.py:679\u001b[0m, in \u001b[0;36mVectorPlotter.assign_variables\u001b[0;34m(self, data, variables)\u001b[0m\n\u001b[1;32m    674\u001b[0m \u001b[38;5;28;01melse\u001b[39;00m:\n\u001b[1;32m    675\u001b[0m     \u001b[38;5;66;03m# When dealing with long-form input, use the newer PlotData\u001b[39;00m\n\u001b[1;32m    676\u001b[0m     \u001b[38;5;66;03m# object (internal but introduced for the objects interface)\u001b[39;00m\n\u001b[1;32m    677\u001b[0m     \u001b[38;5;66;03m# to centralize / standardize data consumption logic.\u001b[39;00m\n\u001b[1;32m    678\u001b[0m     \u001b[38;5;28mself\u001b[39m\u001b[38;5;241m.\u001b[39minput_format \u001b[38;5;241m=\u001b[39m \u001b[38;5;124m\"\u001b[39m\u001b[38;5;124mlong\u001b[39m\u001b[38;5;124m\"\u001b[39m\n\u001b[0;32m--> 679\u001b[0m     plot_data \u001b[38;5;241m=\u001b[39m \u001b[43mPlotData\u001b[49m\u001b[43m(\u001b[49m\u001b[43mdata\u001b[49m\u001b[43m,\u001b[49m\u001b[43m \u001b[49m\u001b[43mvariables\u001b[49m\u001b[43m)\u001b[49m\n\u001b[1;32m    680\u001b[0m     frame \u001b[38;5;241m=\u001b[39m plot_data\u001b[38;5;241m.\u001b[39mframe\n\u001b[1;32m    681\u001b[0m     names \u001b[38;5;241m=\u001b[39m plot_data\u001b[38;5;241m.\u001b[39mnames\n",
      "File \u001b[0;32m~/.conda/envs/gt3d/lib/python3.10/site-packages/seaborn/_core/data.py:58\u001b[0m, in \u001b[0;36mPlotData.__init__\u001b[0;34m(self, data, variables)\u001b[0m\n\u001b[1;32m     51\u001b[0m \u001b[38;5;28;01mdef\u001b[39;00m \u001b[38;5;21m__init__\u001b[39m(\n\u001b[1;32m     52\u001b[0m     \u001b[38;5;28mself\u001b[39m,\n\u001b[1;32m     53\u001b[0m     data: DataSource,\n\u001b[1;32m     54\u001b[0m     variables: \u001b[38;5;28mdict\u001b[39m[\u001b[38;5;28mstr\u001b[39m, VariableSpec],\n\u001b[1;32m     55\u001b[0m ):\n\u001b[1;32m     57\u001b[0m     data \u001b[38;5;241m=\u001b[39m handle_data_source(data)\n\u001b[0;32m---> 58\u001b[0m     frame, names, ids \u001b[38;5;241m=\u001b[39m \u001b[38;5;28;43mself\u001b[39;49m\u001b[38;5;241;43m.\u001b[39;49m\u001b[43m_assign_variables\u001b[49m\u001b[43m(\u001b[49m\u001b[43mdata\u001b[49m\u001b[43m,\u001b[49m\u001b[43m \u001b[49m\u001b[43mvariables\u001b[49m\u001b[43m)\u001b[49m\n\u001b[1;32m     60\u001b[0m     \u001b[38;5;28mself\u001b[39m\u001b[38;5;241m.\u001b[39mframe \u001b[38;5;241m=\u001b[39m frame\n\u001b[1;32m     61\u001b[0m     \u001b[38;5;28mself\u001b[39m\u001b[38;5;241m.\u001b[39mnames \u001b[38;5;241m=\u001b[39m names\n",
      "File \u001b[0;32m~/.conda/envs/gt3d/lib/python3.10/site-packages/seaborn/_core/data.py:265\u001b[0m, in \u001b[0;36mPlotData._assign_variables\u001b[0;34m(self, data, variables)\u001b[0m\n\u001b[1;32m    260\u001b[0m             ids[key] \u001b[38;5;241m=\u001b[39m \u001b[38;5;28mid\u001b[39m(val)\n\u001b[1;32m    262\u001b[0m \u001b[38;5;66;03m# Construct a tidy plot DataFrame. This will convert a number of\u001b[39;00m\n\u001b[1;32m    263\u001b[0m \u001b[38;5;66;03m# types automatically, aligning on index in case of pandas objects\u001b[39;00m\n\u001b[1;32m    264\u001b[0m \u001b[38;5;66;03m# TODO Note: this fails when variable specs *only* have scalars!\u001b[39;00m\n\u001b[0;32m--> 265\u001b[0m frame \u001b[38;5;241m=\u001b[39m \u001b[43mpd\u001b[49m\u001b[38;5;241;43m.\u001b[39;49m\u001b[43mDataFrame\u001b[49m\u001b[43m(\u001b[49m\u001b[43mplot_data\u001b[49m\u001b[43m)\u001b[49m\n\u001b[1;32m    267\u001b[0m \u001b[38;5;28;01mreturn\u001b[39;00m frame, names, ids\n",
      "File \u001b[0;32m~/.conda/envs/gt3d/lib/python3.10/site-packages/pandas/core/frame.py:778\u001b[0m, in \u001b[0;36mDataFrame.__init__\u001b[0;34m(self, data, index, columns, dtype, copy)\u001b[0m\n\u001b[1;32m    772\u001b[0m     mgr \u001b[38;5;241m=\u001b[39m \u001b[38;5;28mself\u001b[39m\u001b[38;5;241m.\u001b[39m_init_mgr(\n\u001b[1;32m    773\u001b[0m         data, axes\u001b[38;5;241m=\u001b[39m{\u001b[38;5;124m\"\u001b[39m\u001b[38;5;124mindex\u001b[39m\u001b[38;5;124m\"\u001b[39m: index, \u001b[38;5;124m\"\u001b[39m\u001b[38;5;124mcolumns\u001b[39m\u001b[38;5;124m\"\u001b[39m: columns}, dtype\u001b[38;5;241m=\u001b[39mdtype, copy\u001b[38;5;241m=\u001b[39mcopy\n\u001b[1;32m    774\u001b[0m     )\n\u001b[1;32m    776\u001b[0m \u001b[38;5;28;01melif\u001b[39;00m \u001b[38;5;28misinstance\u001b[39m(data, \u001b[38;5;28mdict\u001b[39m):\n\u001b[1;32m    777\u001b[0m     \u001b[38;5;66;03m# GH#38939 de facto copy defaults to False only in non-dict cases\u001b[39;00m\n\u001b[0;32m--> 778\u001b[0m     mgr \u001b[38;5;241m=\u001b[39m \u001b[43mdict_to_mgr\u001b[49m\u001b[43m(\u001b[49m\u001b[43mdata\u001b[49m\u001b[43m,\u001b[49m\u001b[43m \u001b[49m\u001b[43mindex\u001b[49m\u001b[43m,\u001b[49m\u001b[43m \u001b[49m\u001b[43mcolumns\u001b[49m\u001b[43m,\u001b[49m\u001b[43m \u001b[49m\u001b[43mdtype\u001b[49m\u001b[38;5;241;43m=\u001b[39;49m\u001b[43mdtype\u001b[49m\u001b[43m,\u001b[49m\u001b[43m \u001b[49m\u001b[43mcopy\u001b[49m\u001b[38;5;241;43m=\u001b[39;49m\u001b[43mcopy\u001b[49m\u001b[43m,\u001b[49m\u001b[43m \u001b[49m\u001b[43mtyp\u001b[49m\u001b[38;5;241;43m=\u001b[39;49m\u001b[43mmanager\u001b[49m\u001b[43m)\u001b[49m\n\u001b[1;32m    779\u001b[0m \u001b[38;5;28;01melif\u001b[39;00m \u001b[38;5;28misinstance\u001b[39m(data, ma\u001b[38;5;241m.\u001b[39mMaskedArray):\n\u001b[1;32m    780\u001b[0m     \u001b[38;5;28;01mfrom\u001b[39;00m \u001b[38;5;21;01mnumpy\u001b[39;00m\u001b[38;5;21;01m.\u001b[39;00m\u001b[38;5;21;01mma\u001b[39;00m \u001b[38;5;28;01mimport\u001b[39;00m mrecords\n",
      "File \u001b[0;32m~/.conda/envs/gt3d/lib/python3.10/site-packages/pandas/core/internals/construction.py:503\u001b[0m, in \u001b[0;36mdict_to_mgr\u001b[0;34m(data, index, columns, dtype, typ, copy)\u001b[0m\n\u001b[1;32m    499\u001b[0m     \u001b[38;5;28;01melse\u001b[39;00m:\n\u001b[1;32m    500\u001b[0m         \u001b[38;5;66;03m# dtype check to exclude e.g. range objects, scalars\u001b[39;00m\n\u001b[1;32m    501\u001b[0m         arrays \u001b[38;5;241m=\u001b[39m [x\u001b[38;5;241m.\u001b[39mcopy() \u001b[38;5;28;01mif\u001b[39;00m \u001b[38;5;28mhasattr\u001b[39m(x, \u001b[38;5;124m\"\u001b[39m\u001b[38;5;124mdtype\u001b[39m\u001b[38;5;124m\"\u001b[39m) \u001b[38;5;28;01melse\u001b[39;00m x \u001b[38;5;28;01mfor\u001b[39;00m x \u001b[38;5;129;01min\u001b[39;00m arrays]\n\u001b[0;32m--> 503\u001b[0m \u001b[38;5;28;01mreturn\u001b[39;00m \u001b[43marrays_to_mgr\u001b[49m\u001b[43m(\u001b[49m\u001b[43marrays\u001b[49m\u001b[43m,\u001b[49m\u001b[43m \u001b[49m\u001b[43mcolumns\u001b[49m\u001b[43m,\u001b[49m\u001b[43m \u001b[49m\u001b[43mindex\u001b[49m\u001b[43m,\u001b[49m\u001b[43m \u001b[49m\u001b[43mdtype\u001b[49m\u001b[38;5;241;43m=\u001b[39;49m\u001b[43mdtype\u001b[49m\u001b[43m,\u001b[49m\u001b[43m \u001b[49m\u001b[43mtyp\u001b[49m\u001b[38;5;241;43m=\u001b[39;49m\u001b[43mtyp\u001b[49m\u001b[43m,\u001b[49m\u001b[43m \u001b[49m\u001b[43mconsolidate\u001b[49m\u001b[38;5;241;43m=\u001b[39;49m\u001b[43mcopy\u001b[49m\u001b[43m)\u001b[49m\n",
      "File \u001b[0;32m~/.conda/envs/gt3d/lib/python3.10/site-packages/pandas/core/internals/construction.py:114\u001b[0m, in \u001b[0;36marrays_to_mgr\u001b[0;34m(arrays, columns, index, dtype, verify_integrity, typ, consolidate)\u001b[0m\n\u001b[1;32m    111\u001b[0m \u001b[38;5;28;01mif\u001b[39;00m verify_integrity:\n\u001b[1;32m    112\u001b[0m     \u001b[38;5;66;03m# figure out the index, if necessary\u001b[39;00m\n\u001b[1;32m    113\u001b[0m     \u001b[38;5;28;01mif\u001b[39;00m index \u001b[38;5;129;01mis\u001b[39;00m \u001b[38;5;28;01mNone\u001b[39;00m:\n\u001b[0;32m--> 114\u001b[0m         index \u001b[38;5;241m=\u001b[39m \u001b[43m_extract_index\u001b[49m\u001b[43m(\u001b[49m\u001b[43marrays\u001b[49m\u001b[43m)\u001b[49m\n\u001b[1;32m    115\u001b[0m     \u001b[38;5;28;01melse\u001b[39;00m:\n\u001b[1;32m    116\u001b[0m         index \u001b[38;5;241m=\u001b[39m ensure_index(index)\n",
      "File \u001b[0;32m~/.conda/envs/gt3d/lib/python3.10/site-packages/pandas/core/internals/construction.py:677\u001b[0m, in \u001b[0;36m_extract_index\u001b[0;34m(data)\u001b[0m\n\u001b[1;32m    675\u001b[0m lengths \u001b[38;5;241m=\u001b[39m \u001b[38;5;28mlist\u001b[39m(\u001b[38;5;28mset\u001b[39m(raw_lengths))\n\u001b[1;32m    676\u001b[0m \u001b[38;5;28;01mif\u001b[39;00m \u001b[38;5;28mlen\u001b[39m(lengths) \u001b[38;5;241m>\u001b[39m \u001b[38;5;241m1\u001b[39m:\n\u001b[0;32m--> 677\u001b[0m     \u001b[38;5;28;01mraise\u001b[39;00m \u001b[38;5;167;01mValueError\u001b[39;00m(\u001b[38;5;124m\"\u001b[39m\u001b[38;5;124mAll arrays must be of the same length\u001b[39m\u001b[38;5;124m\"\u001b[39m)\n\u001b[1;32m    679\u001b[0m \u001b[38;5;28;01mif\u001b[39;00m have_dicts:\n\u001b[1;32m    680\u001b[0m     \u001b[38;5;28;01mraise\u001b[39;00m \u001b[38;5;167;01mValueError\u001b[39;00m(\n\u001b[1;32m    681\u001b[0m         \u001b[38;5;124m\"\u001b[39m\u001b[38;5;124mMixing dicts with non-Series may lead to ambiguous ordering.\u001b[39m\u001b[38;5;124m\"\u001b[39m\n\u001b[1;32m    682\u001b[0m     )\n",
      "\u001b[0;31mValueError\u001b[0m: All arrays must be of the same length"
     ]
    },
    {
     "data": {
      "image/png": "[encoded data removed]",
      "text/plain": [
       "<Figure size 1400x500 with 1 Axes>"
      ]
     },
     "metadata": {},
     "output_type": "display_data"
    }
   ],
   "source": [
    "# Visualize initial embedding results\n",
    "cell_embeddings = higashi_model.fetch_cell_embeddings()\n",
    "print (cell_embeddings.shape)\n",
    "\n",
    "from umap import UMAP\n",
    "import seaborn as sns\n",
    "import matplotlib.pyplot as plt\n",
    "\n",
    "vec = UMAP(n_components=2, n_neighbors=5, random_state=0).fit_transform(cell_embeddings)\n",
    "# cell_type = higashi_model.label_info['cluster_subclass']\n",
    "cell_type = higashi_model.label_info['cluster_class']\n",
    "batch = higashi_model.label_info['Sample_ID']\n",
    "fig = plt.figure(figsize=(14, 5))\n",
    "ax = plt.subplot(1, 2, 1)\n",
    "print('vec: ', vec)\n",
    "print('type(vec): ', type(vec))\n",
    "print('vec.shape: ', vec.shape)\n",
    "# sns.scatterplot(x=vec[:, 0], y=vec[:, 1], hue=cell_type, ax=ax, s=5, alpha=0.8, linewidth=0,\n",
    "#                 hue_order=['L2/3 IT', 'Endo', 'VLMC', 'Astro', 'Oligo', 'Sst', 'OPC', 'L5 IT',\n",
    "#                            'L4/5 IT', 'Vip', 'L5 ET', 'Micro', 'Pvalb', 'L6 IT', 'L6 CT',\n",
    "#                            'SMC', 'Peri', 'Lamp5', 'L6b', 'L5/6 NP', 'other', 'Sncg'])\n",
    "sns.scatterplot(x=vec[:, 0], y=vec[:, 1], hue=cell_type, ax=ax, s=5, alpha=0.8, linewidth=0,\n",
    "                hue_order=['Gluta', 'Endo', 'VLMC', 'Astro', 'Oligo', 'GABA', 'Micro', 'SMC',\n",
    "                           'Peri', 'other'])\n",
    "handles, labels = ax.get_legend_handles_labels()\n",
    "labels, handles = zip(*sorted(zip(labels, handles), key=lambda t: t[0]))\n",
    "ax.legend(handles=handles, labels=labels, bbox_to_anchor=(1.05, 1), loc=2, borderaxespad=0., ncol=1)\n",
    "ax = plt.subplot(1, 2, 2)\n",
    "sns.scatterplot(x=vec[:, 0], y=vec[:, 1], hue=batch, ax=ax, s=5, alpha=0.8, linewidth=0)\n",
    "handles, labels = ax.get_legend_handles_labels()\n",
    "labels, handles = zip(*sorted(zip(labels, handles), key=lambda t: t[0]))\n",
    "ax.legend(handles=handles, labels=labels, bbox_to_anchor=(1.05, 1), loc=2, borderaxespad=0., ncol=1)\n",
    "plt.tight_layout()\n",
    "plt.show()\n"
   ]
  },
  {
   "cell_type": "code",
   "execution_count": null,
   "id": "b17c1605",
   "metadata": {},
   "outputs": [],
   "source": [
    "# np.save('/n/netscratch/zhuang_lab/Lab/Peter/higashi_dnamerfish/test2/state/embeddings_dnamerfish_stage1_r2.npy', cell_embeddings)"
   ]
  },
  {
   "cell_type": "code",
   "execution_count": null,
   "id": "666b6153",
   "metadata": {},
   "outputs": [],
   "source": [
    "higashi_model.current_device"
   ]
  },
  {
   "cell_type": "code",
   "execution_count": null,
   "id": "c58d1e15",
   "metadata": {},
   "outputs": [],
   "source": [
    "# higashi_model.higashi_model = torch.load(higashi_model.save_path + \"_stage1_model\", map_location=higashi_model.current_device)\n",
    "# higashi_model.node_embedding_init = None\n"
   ]
  },
  {
   "cell_type": "code",
   "execution_count": null,
   "id": "da8c89d1",
   "metadata": {},
   "outputs": [],
   "source": [
    "higashi_model.train_for_imputation_nbr_0()\n",
    "higashi_model.impute_no_nbr()"
   ]
  },
  {
   "cell_type": "code",
   "execution_count": null,
   "id": "69d5401f",
   "metadata": {},
   "outputs": [],
   "source": [
    "higashi_model.train_for_imputation_with_nbr()\n",
    "higashi_model.impute_with_nbr()"
   ]
  },
  {
   "cell_type": "code",
   "execution_count": null,
   "id": "781114df",
   "metadata": {},
   "outputs": [],
   "source": [
    "# Visualize final embedding results\n",
    "cell_embeddings = higashi_model.fetch_cell_embeddings()\n",
    "print (cell_embeddings.shape)\n",
    "\n",
    "from sklearn.decomposition import PCA\n",
    "\n",
    "cell_type = higashi_model.label_info['cluster_class']\n",
    "fig = plt.figure(figsize=(14, 5))\n",
    "ax = plt.subplot(1, 2, 1)\n",
    "vec = PCA(n_components=2).fit_transform(cell_embeddings)\n",
    "sns.scatterplot(x=vec[:, 0], y=vec[:, 1], hue=cell_type, ax=ax, s=6, linewidth=0)\n",
    "handles, labels = ax.get_legend_handles_labels()\n",
    "labels, handles = zip(*sorted(zip(labels, handles), key=lambda t: t[0]))\n",
    "ax.legend(handles=handles, labels=labels, bbox_to_anchor=(1.05, 1), loc=2, borderaxespad=0., ncol=1)\n",
    "ax = plt.subplot(1, 2, 2)\n",
    "vec = UMAP(n_components=2).fit_transform(cell_embeddings)\n",
    "sns.scatterplot(x=vec[:, 0], y=vec[:, 1], hue=cell_type, ax=ax, s=6, linewidth=0)\n",
    "handles, labels = ax.get_legend_handles_labels()\n",
    "labels, handles = zip(*sorted(zip(labels, handles), key=lambda t: t[0]))\n",
    "ax.legend(handles=handles, labels=labels, bbox_to_anchor=(1.05, 1), loc=2, borderaxespad=0., ncol=1)\n",
    "plt.tight_layout()\n",
    "plt.savefig('/n/home09/pren/figures/dnamerfish_pca_umapp_500nmthresh.png')\n",
    "plt.show()"
   ]
  },
  {
   "cell_type": "code",
   "execution_count": null,
   "id": "3f389e10-11b8-423f-98c1-b8d325559b90",
   "metadata": {},
   "outputs": [],
   "source": [
    "# Visualize final embedding results\n",
    "cell_embeddings = higashi_model.fetch_cell_embeddings()\n",
    "print (cell_embeddings.shape)\n",
    "\n",
    "from sklearn.decomposition import PCA\n",
    "\n",
    "cell_type = higashi_model.label_info['neuron_identity']\n",
    "fig = plt.figure(figsize=(14, 5))\n",
    "ax = plt.subplot(1, 2, 1)\n",
    "vec = PCA(n_components=2).fit_transform(cell_embeddings)\n",
    "sns.scatterplot(x=vec[:, 0], y=vec[:, 1], hue=cell_type, ax=ax, s=6, linewidth=0)\n",
    "handles, labels = ax.get_legend_handles_labels()\n",
    "labels, handles = zip(*sorted(zip(labels, handles), key=lambda t: t[0]))\n",
    "ax.legend(handles=handles, labels=labels, bbox_to_anchor=(1.05, 1), loc=2, borderaxespad=0., ncol=1)\n",
    "ax = plt.subplot(1, 2, 2)\n",
    "vec = UMAP(n_components=2).fit_transform(cell_embeddings)\n",
    "sns.scatterplot(x=vec[:, 0], y=vec[:, 1], hue=cell_type, ax=ax, s=6, linewidth=0)\n",
    "handles, labels = ax.get_legend_handles_labels()\n",
    "labels, handles = zip(*sorted(zip(labels, handles), key=lambda t: t[0]))\n",
    "ax.legend(handles=handles, labels=labels, bbox_to_anchor=(1.05, 1), loc=2, borderaxespad=0., ncol=1)\n",
    "plt.tight_layout()\n",
    "plt.savefig('/n/home09/pren/figures/dnamerfish_pca_umapp_neuronlabels_500nm_thresh.png')\n",
    "plt.show()"
   ]
  },
  {
   "cell_type": "code",
   "execution_count": null,
   "id": "07557105-515f-4e67-821f-e874f9090c1a",
   "metadata": {},
   "outputs": [],
   "source": [
    "# ori.data"
   ]
  },
  {
   "cell_type": "code",
   "execution_count": null,
   "id": "5d59a924",
   "metadata": {},
   "outputs": [],
   "source": [
    "count = 0\n",
    "fig = plt.figure(figsize=(6, 2*5))\n",
    "i = 0\n",
    "for id_ in np.random.randint(0, 620, 620):\n",
    "    if i == 5:\n",
    "        break\n",
    "    ori, nbr0, nbr5 = higashi_model.fetch_map(\"chr3\", id_)\n",
    "    # print('ori.data.shape: ', ori.data.shape)\n",
    "    if ori.data.shape[0] == 0:\n",
    "        continue\n",
    "    else:\n",
    "        i += 1\n",
    "    count += 1\n",
    "    ax = plt.subplot(5, 3, count * 3 - 2)\n",
    "    ax.imshow(ori.toarray(), cmap='Reds', vmin=0.0, vmax=np.quantile(ori.data, 0.6))\n",
    "    ax.set_xticks([], [])\n",
    "    ax.set_yticks([], [])\n",
    "    if count == 1:\n",
    "        ax.set_title(\"raw\")\n",
    "    ax.set_ylabel(f'Cell {id_}')\n",
    "\n",
    "    \n",
    "    ax = plt.subplot(5, 3, count * 3 - 1)\n",
    "    ax.imshow(nbr0.toarray(), cmap='Reds', vmin=0.0, vmax=np.quantile(nbr0.data, 0.95))\n",
    "    ax.set_xticks([], [])\n",
    "    ax.set_yticks([], [])\n",
    "    if count == 1:\n",
    "        ax.set_title(\"higashi, k=0\")\n",
    "    \n",
    "    ax = plt.subplot(5, 3, count * 3)\n",
    "    ax.imshow(nbr5.toarray(), cmap='Reds', vmin=0.0, vmax=np.quantile(nbr5.data, 0.95))\n",
    "    ax.set_xticks([], [])\n",
    "    ax.set_yticks([], [])\n",
    "    if count == 1:\n",
    "        ax.set_title(\"higashi, k=5\")\n",
    "\n",
    "plt.tight_layout()\n",
    "# plt.suptitle('Chromosome 3')\n",
    "\n",
    "plt.savefig('/n/home09/pren/figures/dnamerfish_imputation_500nmthresh.png')"
   ]
  },
  {
   "cell_type": "code",
   "execution_count": null,
   "id": "662006b1",
   "metadata": {},
   "outputs": [],
   "source": []
  },
  {
   "cell_type": "code",
   "execution_count": null,
   "id": "baddeae8",
   "metadata": {},
   "outputs": [],
   "source": []
  },
  {
   "cell_type": "code",
   "execution_count": null,
   "id": "92e3e35b-be95-459b-831a-1e36cd543e48",
   "metadata": {},
   "outputs": [],
   "source": []
  }
 ],
 "metadata": {
  "kernelspec": {
   "display_name": "Python 3 (ipykernel)",
   "language": "python",
   "name": "python3"
  },
  "language_info": {
   "codemirror_mode": {
    "name": "ipython",
    "version": 3
   },
   "file_extension": ".py",
   "mimetype": "text/x-python",
   "name": "python",
   "nbconvert_exporter": "python",
   "pygments_lexer": "ipython3",
   "version": "3.10.16"
  }
 },
 "nbformat": 4,
 "nbformat_minor": 5
}
