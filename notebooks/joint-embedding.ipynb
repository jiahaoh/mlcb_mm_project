{
 "cells": [
  {
   "cell_type": "code",
   "execution_count": null,
   "id": "93b9eaff-ad65-4233-a852-a3df8d9d7a83",
   "metadata": {
    "tags": []
   },
   "outputs": [],
   "source": [
    "from higashi.Higashi_wrapper import *\n",
    "import pickle\n",
    "import numpy as np\n",
    "import os\n",
    "import pandas as pd\n",
    "import seaborn as sns\n",
    "import matplotlib.pyplot as plt\n",
    "from scipy.spatial.distance import pdist, squareform"
   ]
  },
  {
   "cell_type": "code",
   "execution_count": null,
   "id": "e57a9f41-4689-4ed2-b8d0-46e2bcc37f1d",
   "metadata": {},
   "outputs": [],
   "source": [
    "import torch\n",
    "print(torch.cuda.is_available())\n",
    "print(torch.cuda.device_count())\n",
    "print(torch.version.cuda)"
   ]
  },
  {
   "cell_type": "code",
   "execution_count": null,
   "id": "f74ddceb",
   "metadata": {},
   "outputs": [],
   "source": [
    "base_path = \"/home/unix/jiahao/wanglab/jiahao/test/mlcb/\"\n",
    "data_path = os.path.join(base_path, \"datasets\")\n",
    "metadata_path = os.path.join(base_path, \"metadata\") "
   ]
  },
  {
   "cell_type": "markdown",
   "id": "d835e46c",
   "metadata": {},
   "source": [
    "## sn-m3c-seq"
   ]
  },
  {
   "cell_type": "code",
   "execution_count": null,
   "id": "9531c6fa",
   "metadata": {},
   "outputs": [],
   "source": [
    "# create new input file list\n",
    "file_list = os.path.join(metadata_path, \"snm3c_filelist.txt\")\n",
    "with open(file_list, \"r\") as f:\n",
    "    input_files = f.read().splitlines()\n",
    "\n",
    "input_files = [f\"{data_path}/snm3c/{f.split('/')[7]}/{f.split('/')[8]}\" for f in input_files]\n",
    "input_files"
   ]
  },
  {
   "cell_type": "code",
   "execution_count": null,
   "id": "64140e8b",
   "metadata": {},
   "outputs": [],
   "source": [
    "# Create a DataFrame\n",
    "df = pd.DataFrame(input_files)\n",
    "\n",
    "# Write the DataFrame to a .txt file separated by \\t\n",
    "output_file = os.path.join(data_path, \"snm3c\", 'filelist.txt')\n",
    "df.to_csv(output_file, sep='\\t', index=False,  header=False)"
   ]
  },
  {
   "cell_type": "code",
   "execution_count": null,
   "id": "2ff15bf2",
   "metadata": {},
   "outputs": [],
   "source": [
    "# chcek dataset info\n",
    "with open(os.path.join(data_path, \"snm3c\", 'label_info.pickle'), 'rb') as f:\n",
    "    # Load the pickled data\n",
    "    label_info = pickle.load(f)\n",
    "\n",
    "print(label_info)"
   ]
  },
  {
   "cell_type": "code",
   "execution_count": null,
   "id": "e6d49d51",
   "metadata": {},
   "outputs": [],
   "source": [
    "# Set the training configuration\n",
    "config = os.path.join(data_path, \"snm3c\", \"config.JSON\")\n",
    "\n",
    "config_info = {\n",
    "    \"data_dir\": '/home/unix/jiahao/wanglab/jiahao/test/mlcb/datasets/snm3c/', # where the data is, the data has to be named as data.txt or the code can't find it\n",
    "    \"label_path\": \"/home/unix/jiahao/wanglab/jiahao/test/mlcb/datasets/snm3c/label_info.pickle\",\n",
    "    \"structured\": True,\n",
    "    \"input_format\": 'higashi_v2',\n",
    "    \"temp_dir\": \"/home/unix/jiahao/wanglab/jiahao/test/mlcb/output/snm3c\", # where to store model temp files\n",
    "    \"genome_reference_path\": \"/home/unix/jiahao/wanglab/jiahao/test/mlcb/metadata/chromInfo.txt\",\n",
    "    \"cytoband_path\": \"/home/unix/jiahao/wanglab/jiahao/test/mlcb/metadata/cytoBand.txt\",\n",
    "    \"chrom_list\": ['chr1', 'chr10', 'chr11', 'chr12', 'chr13', 'chr14', 'chr15',\n",
    "       'chr17', 'chr18', 'chr3', 'chr4', 'chr5', 'chr6', 'chr7', 'chr9',\n",
    "       'chr16', 'chr19', 'chr2', 'chr8'],\n",
    "    \"header_included\": False,\n",
    "    \"contact_header\" : [\"strand1\", \"chrom1\", \"pos1\", \"fragment1\", \"strand2\", \"chrom2\", \"pos2\", \"fragment2\"],\n",
    "    \"resolution\": 500000,\n",
    "    \"resolution_cell\": 500000,\n",
    "    \"resolution_fh\": [500000],\n",
    "    \"embedding_name\": \"snm3c\",\n",
    "    \"minimum_distance\": 500000,\n",
    "    \"maximum_distance\": -1,\n",
    "    \"local_transfer_range\": 0,\n",
    "    \"loss_mode\": \"zinb\",\n",
    "    \"dimensions\": 96, # can be adjusted later\n",
    "    \"impute_list\":['chr1', 'chr10', 'chr11', 'chr12', 'chr13', 'chr14', 'chr15',\n",
    "       'chr17', 'chr18', 'chr3', 'chr4', 'chr5', 'chr6', 'chr7', 'chr9',\n",
    "       'chr16', 'chr19', 'chr2', 'chr8'],\n",
    "    \"neighbor_num\": 5,\n",
    "    \"batch_id\": \"batch_id\",\n",
    "    \"cpu_num\": 8,\n",
    "    \"gpu_num\": 1,\n",
    "    \"embedding_epoch\": 30, # this can be adjusted\n",
    "    \"correct_be_impute\": True,\n",
    "}\n",
    "\n",
    "# save the config file to the current directory\n",
    "import json\n",
    "with open(config,\"w\") as f:\n",
    "    json.dump(config_info, f, indent = 6)"
   ]
  },
  {
   "cell_type": "code",
   "execution_count": null,
   "id": "a8c91ffc",
   "metadata": {},
   "outputs": [],
   "source": [
    "# Initialize the Higashi instance\n",
    "higashi_model = Higashi(config)\n",
    "\n",
    "# Data processing (only needs to be run for once)\n",
    "higashi_model.generate_chrom_start_end()\n",
    "higashi_model.extract_table()\n",
    "higashi_model.create_matrix()"
   ]
  },
  {
   "cell_type": "code",
   "execution_count": null,
   "id": "6b98b0db",
   "metadata": {},
   "outputs": [],
   "source": [
    " # prep the model\n",
    "higashi_model.prep_model()\n",
    "\n",
    "# train model embeddings\n",
    "higashi_model.train_for_embeddings()"
   ]
  },
  {
   "cell_type": "code",
   "execution_count": null,
   "id": "541b267f",
   "metadata": {},
   "outputs": [],
   "source": [
    "import re\n",
    "cell_groups = higashi_model.label_info['cell_group']\n",
    "\n",
    "pattern = r\"^[^_]+\"\n",
    "\n",
    "# Extract strings\n",
    "extracted = [re.match(pattern, cell_group).group() for cell_group in cell_groups]\n",
    "extracted"
   ]
  },
  {
   "cell_type": "code",
   "execution_count": null,
   "id": "1391c448",
   "metadata": {},
   "outputs": [],
   "source": [
    "# Load metadata from mC\n",
    "import re\n",
    "pattern = r\"^[^_]+\"\n",
    "mc_meta = pd.read_csv('/home/unix/jiahao/wanglab/jiahao/test/mlcb/metadata/CEMBA.mC.Metadata.csv')\n",
    "mc_cell_group = mc_meta.CellGroup.to_list()\n",
    "mc_meta_cellgroup = [re.match(pattern, cell_group).group() for cell_group in mc_cell_group]\n",
    "mc_meta[\"cellgrp\"] = mc_meta_cellgroup\n",
    "mc_meta"
   ]
  },
  {
   "cell_type": "code",
   "execution_count": null,
   "id": "49dec7dc",
   "metadata": {},
   "outputs": [],
   "source": [
    "class_to_cellgrp = mc_meta.groupby('cellgrp')['SubClass'].unique().to_dict()\n",
    "class_to_cellgrp"
   ]
  },
  {
   "cell_type": "code",
   "execution_count": null,
   "id": "979b34f1",
   "metadata": {},
   "outputs": [],
   "source": [
    "def classify_cell_group(group):\n",
    "    if \"Gaba\" in group:\n",
    "        return \"Inhibitory Neuron\"\n",
    "    elif \"Glut\" in group:\n",
    "        return \"Excitatory Neuron\"\n",
    "    elif \"NN\" in group:\n",
    "        return \"Non-Neuronal\"\n",
    "\n",
    "\n",
    "tmp = []\n",
    "for i in extracted:\n",
    "  tmp.append(class_to_cellgrp[i][0])\n",
    "cell_group_mapping = {group: classify_cell_group(group) for group in pd.Series(tmp).unique()}\n",
    "\n",
    "plotting_grps = []\n",
    "for i in tmp:\n",
    "  plotting_grps.append(cell_group_mapping[i])\n",
    "plotting_grps"
   ]
  },
  {
   "cell_type": "code",
   "execution_count": null,
   "id": "7ff2303e",
   "metadata": {},
   "outputs": [],
   "source": [
    "# Visualize embedding results\n",
    "cell_embeddings = higashi_model.fetch_cell_embeddings()\n",
    "\n",
    "from umap import UMAP\n",
    "import seaborn as sns\n",
    "import matplotlib.pyplot as plt\n",
    "palette = sns.color_palette(\"tab20\") + sns.color_palette(\"Set3\", 7)\n",
    "\n",
    "# Generate UMAP embeddings (example)\n",
    "vec = UMAP(n_components=2, n_neighbors=5, random_state=99).fit_transform(cell_embeddings)\n",
    "cell_groups = higashi_model.label_info['cell_group']\n",
    "\n",
    "fig = plt.figure(figsize=(8, 9))\n",
    "\n",
    "# First subplot without legend\n",
    "ax1 = plt.subplot(1, 1, 1)\n",
    "sns.scatterplot(x=vec[:, 0], y=vec[:, 1], hue=tmp, ax=ax1, s=5, alpha=0.8, linewidth=0, palette=palette)\n",
    "handles, labels = ax1.get_legend_handles_labels()\n",
    "ax1.legend(\n",
    "    handles=handles,\n",
    "    labels=labels,\n",
    "    bbox_to_anchor=(0.5, -0.2),  # Center the legend below the plot\n",
    "    loc='upper center',          # Position legend relative to bbox_to_anchor\n",
    "    ncol=3,                    # Arrange legend items in rows\n",
    "    title=\"Cell Types\"\n",
    ")\n",
    "\n",
    "plt.tight_layout()\n",
    "plt.show()"
   ]
  },
  {
   "cell_type": "code",
   "execution_count": null,
   "id": "fcbbbc86",
   "metadata": {},
   "outputs": [],
   "source": [
    "\n",
    "palette =  sns.color_palette(\"Set2\")\n",
    "\n",
    "# Generate UMAP embeddings (example)\n",
    "vec = UMAP(n_components=2, n_neighbors=5, random_state=99).fit_transform(cell_embeddings)\n",
    "cell_groups = higashi_model.label_info['cell_group']\n",
    "\n",
    "fig = plt.figure(figsize=(7, 7))\n",
    "\n",
    "# First subplot without legend\n",
    "ax1 = plt.subplot(1, 1, 1)\n",
    "sns.scatterplot(x=vec[:, 0], y=vec[:, 1], hue=plotting_grps, ax=ax1, s=5, alpha=0.8, linewidth=0, palette=palette)\n",
    "handles, labels = ax1.get_legend_handles_labels()\n",
    "ax1.legend(\n",
    "    handles=handles,\n",
    "    labels=labels,\n",
    "    bbox_to_anchor=(0.5, -0.2),  # Center the legend below the plot\n",
    "    loc='upper center',          # Position legend relative to bbox_to_anchor\n",
    "    ncol=2,                    # Arrange legend items in rows\n",
    "    title=\"Cell Types - Neurotransmitters\"\n",
    ")\n",
    "\n",
    "plt.tight_layout()\n",
    "plt.show()"
   ]
  },
  {
   "cell_type": "markdown",
   "id": "3b9988e7",
   "metadata": {},
   "source": [
    "## merfish"
   ]
  },
  {
   "cell_type": "code",
   "execution_count": null,
   "id": "51a427a5",
   "metadata": {},
   "outputs": [],
   "source": [
    "# create new input file list\n",
    "contact_files = [f for f in os.listdir(os.path.join(data_path, \"merfish\")) if f.startswith(\"dist\")]\n",
    "len(contact_files)"
   ]
  },
  {
   "cell_type": "code",
   "execution_count": null,
   "id": "ea4e7fdf",
   "metadata": {},
   "outputs": [],
   "source": [
    "cell_ids = [f.split(\"_\")[1].replace('cell', '') for f in contact_files]\n",
    "cell_ids"
   ]
  },
  {
   "cell_type": "code",
   "execution_count": null,
   "id": "d0caf3b2",
   "metadata": {},
   "outputs": [],
   "source": [
    "# chcek dataset info\n",
    "with open(os.path.join(data_path, \"merfish\", 'label_info.pickle'), 'rb') as f:\n",
    "    # Load the pickled data\n",
    "    label_info = pickle.load(f)\n",
    "\n",
    "print(label_info)"
   ]
  },
  {
   "cell_type": "code",
   "execution_count": null,
   "id": "10c0b535",
   "metadata": {},
   "outputs": [],
   "source": [
    "valid_cells = [f for f in cell_ids if f in label_info['Cell_ID']]\n",
    "len(valid_cells)"
   ]
  },
  {
   "cell_type": "code",
   "execution_count": null,
   "id": "b507eb37",
   "metadata": {},
   "outputs": [],
   "source": [
    "valid_files = [f for f in contact_files if f.split(\"_\")[1].replace('cell', '') in valid_cells]\n",
    "len(valid_files)"
   ]
  },
  {
   "cell_type": "code",
   "execution_count": null,
   "id": "b409c223",
   "metadata": {},
   "outputs": [],
   "source": [
    "# create new input file list\n",
    "input_files = [f\"{data_path}/merfish/{f}\" for f in valid_files]\n",
    "input_files"
   ]
  },
  {
   "cell_type": "code",
   "execution_count": null,
   "id": "014f9509",
   "metadata": {},
   "outputs": [],
   "source": [
    "# Create a DataFrame\n",
    "df = pd.DataFrame(input_files)\n",
    "\n",
    "# Write the DataFrame to a .txt file separated by \\t\n",
    "output_file = os.path.join(data_path, \"merfish\", 'filelist.txt')\n",
    "df.to_csv(output_file, sep='\\t', index=False,  header=False)"
   ]
  },
  {
   "cell_type": "code",
   "execution_count": null,
   "id": "4f8219b2",
   "metadata": {},
   "outputs": [],
   "source": [
    "# Set the training configuration\n",
    "config = os.path.join(data_path, \"merfish\", \"config.JSON\")\n",
    "# config = \"/content/drive/Shareddrives/MLCB_project_dataset/Results/Embeddings_snm3C-seq-full/config.JSON\"\n",
    "\n",
    "config_info = {\n",
    "    \"data_dir\": '/home/unix/jiahao/wanglab/jiahao/test/mlcb/datasets/merfish/', # where the data is, the data has to be named as data.txt or the code can't find it\n",
    "    \"label_path\": \"/home/unix/jiahao/wanglab/jiahao/test/mlcb/datasets/merfish/label_info.pickle\",\n",
    "    \"structured\": True,\n",
    "    \"input_format\": 'higashi_v2',\n",
    "    \"temp_dir\": \"/home/unix/jiahao/wanglab/jiahao/test/mlcb/output/merfish\", # where to store model temp files\n",
    "    \"genome_reference_path\": \"/home/unix/jiahao/wanglab/jiahao/test/mlcb/metadata/chromInfo.txt\",\n",
    "    \"cytoband_path\": \"/home/unix/jiahao/wanglab/jiahao/test/mlcb/metadata/cytoBand.txt\",\n",
    "    \"chrom_list\": ['chr1', 'chr10', 'chr11', 'chr12', 'chr13', 'chr14', 'chr15',\n",
    "       'chr17', 'chr18', 'chr3', 'chr4', 'chr5', 'chr6', 'chr7', 'chr9',\n",
    "       'chr16', 'chr19', 'chr2', 'chr8'],\n",
    "    \"header_included\": False,\n",
    "    \"resolution\": 2500000,\n",
    "    \"resolution_cell\": 2500000,\n",
    "    \"resolution_fh\": [2500000],\n",
    "    \"embedding_name\": \"merfish\",\n",
    "    \"minimum_distance\": 2500000,\n",
    "    \"maximum_distance\": -1,\n",
    "    \"local_transfer_range\": 0,\n",
    "    \"loss_mode\": \"zinb\",\n",
    "    \"dimensions\": 96, # can be adjusted later\n",
    "    \"impute_list\":['chr1', 'chr10', 'chr11', 'chr12', 'chr13', 'chr14', 'chr15',\n",
    "       'chr17', 'chr18', 'chr3', 'chr4', 'chr5', 'chr6', 'chr7', 'chr9',\n",
    "       'chr16', 'chr19', 'chr2', 'chr8'],\n",
    "    \"neighbor_num\": 5,\n",
    "    \"cpu_num\": 8,\n",
    "    \"gpu_num\": 1,\n",
    "    \"embedding_epoch\": 30, # this can be adjusted\n",
    "    \"correct_be_impute\": True,\n",
    "    \"header_included\": True\n",
    "}\n",
    "\n",
    "# save the config file to the current directory\n",
    "import json\n",
    "with open(config,\"w\") as f:\n",
    "    json.dump(config_info, f, indent = 6)"
   ]
  },
  {
   "cell_type": "code",
   "execution_count": null,
   "id": "ea473a5b",
   "metadata": {},
   "outputs": [],
   "source": [
    "# Initialize the Higashi instance\n",
    "higashi_model = Higashi(config)\n",
    "\n",
    "# Data processing (only needs to be run for once)\n",
    "\n",
    "higashi_model.generate_chrom_start_end()\n",
    "higashi_model.extract_table()\n",
    "higashi_model.create_matrix()"
   ]
  },
  {
   "cell_type": "code",
   "execution_count": null,
   "id": "7a912ddc",
   "metadata": {},
   "outputs": [],
   "source": [
    " # prep the model\n",
    "higashi_model.prep_model()\n",
    "\n",
    "# train model embeddings\n",
    "higashi_model.train_for_embeddings()"
   ]
  },
  {
   "cell_type": "code",
   "execution_count": null,
   "id": "086b9592",
   "metadata": {},
   "outputs": [],
   "source": [
    "valid_index = [np.argwhere(i == higashi_model.label_info['Cell_ID'])[0][0] for i in valid_cells]\n",
    "valid_index"
   ]
  },
  {
   "cell_type": "code",
   "execution_count": null,
   "id": "4df99410",
   "metadata": {},
   "outputs": [],
   "source": [
    "# Visualize embedding results\n",
    "cell_embeddings = higashi_model.fetch_cell_embeddings()\n",
    "\n",
    "from umap import UMAP\n",
    "import seaborn as sns\n",
    "import matplotlib.pyplot as plt\n",
    "palette = sns.color_palette(\"tab20\") + sns.color_palette(\"Set3\", 7)\n",
    "\n",
    "# Generate UMAP embeddings (example)\n",
    "vec = UMAP(n_components=2, n_neighbors=5, random_state=99).fit_transform(cell_embeddings)\n",
    "cell_groups = higashi_model.label_info['cluster_class']\n",
    "cell_groups[valid_index]\n",
    "\n",
    "fig = plt.figure(figsize=(8, 9))\n",
    "\n",
    "# First subplot without legend\n",
    "ax1 = plt.subplot(1, 1, 1)\n",
    "sns.scatterplot(x=vec[:, 0], y=vec[:, 1], hue=cell_groups[valid_index], ax=ax1, s=5, alpha=0.8, linewidth=0, palette=palette)\n",
    "handles, labels = ax1.get_legend_handles_labels()\n",
    "ax1.legend(\n",
    "    handles=handles,\n",
    "    labels=labels,\n",
    "    bbox_to_anchor=(0.5, -0.2),  # Center the legend below the plot\n",
    "    loc='upper center',          # Position legend relative to bbox_to_anchor\n",
    "    ncol=3,                    # Arrange legend items in rows\n",
    "    title=\"Cell Types\"\n",
    ")\n",
    "\n",
    "plt.tight_layout()\n",
    "plt.show()"
   ]
  },
  {
   "cell_type": "markdown",
   "id": "459727eb",
   "metadata": {},
   "source": [
    "## Combined"
   ]
  },
  {
   "cell_type": "markdown",
   "id": "d092c847",
   "metadata": {},
   "source": [
    "### modify snm3c data"
   ]
  },
  {
   "cell_type": "code",
   "execution_count": null,
   "id": "16d116d1",
   "metadata": {},
   "outputs": [],
   "source": [
    "# # create new input file list\n",
    "# file_list = os.path.join(metadata_path, \"snm3c_filelist.txt\")\n",
    "# with open(file_list, \"r\") as f:\n",
    "#     input_files = f.read().splitlines()\n",
    "\n",
    "# input_files = [f\"{data_path}/snm3c/{f.split('/')[7]}/{f.split('/')[8]}\" for f in input_files]\n",
    "# input_files"
   ]
  },
  {
   "cell_type": "code",
   "execution_count": null,
   "id": "11bebc14",
   "metadata": {},
   "outputs": [],
   "source": [
    "# # create new input file list\n",
    "# file_list = os.path.join(metadata_path, \"snm3c_filelist.txt\")\n",
    "# with open(file_list, \"r\") as f:\n",
    "#     input_files = f.read().splitlines()\n",
    "\n",
    "# input_files = [f\"{data_path}/backup/{f.split('/')[8]}\" for f in input_files]\n",
    "# input_files"
   ]
  },
  {
   "cell_type": "code",
   "execution_count": null,
   "id": "b45ea387",
   "metadata": {},
   "outputs": [],
   "source": [
    "# # create new snm3c files with header\n",
    "# common_header =  [\"strand1\", \"chrom1\", \"pos1\", \"fragment1\", \"strand2\", \"chrom2\", \"pos2\", \"fragment2\"]\n",
    "# new_data_path = '/home/unix/jiahao/wanglab/jiahao/test/mlcb/datasets/test/'\n",
    "\n",
    "# for current_file in tqdm(input_files):\n",
    "#     df = pd.read_table(current_file, header=None)\n",
    "#     df.columns = common_header\n",
    "#     fname = os.path.basename(current_file)  \n",
    "#     fname = fname.replace('.gz', '')\n",
    "#     new_fname = os.path.join(new_data_path, fname)\n",
    "#     df.to_csv(new_fname, sep='\\t', index=False, header=True)"
   ]
  },
  {
   "cell_type": "code",
   "execution_count": null,
   "id": "32418da2",
   "metadata": {},
   "outputs": [],
   "source": [
    "# # create new snm3c files with header\n",
    "# common_header =  [\"strand1\", \"chrom1\", \"pos1\", \"fragment1\", \"strand2\", \"chrom2\", \"pos2\", \"fragment2\"]\n",
    "# new_data_path = '/home/unix/jiahao/wanglab/jiahao/test/mlcb/datasets/combined/'\n",
    "\n",
    "# for current_file in tqdm(input_files):\n",
    "#     df = pd.read_table(current_file, header=None)\n",
    "#     df.columns = common_header\n",
    "#     fname = os.path.basename(current_file)  \n",
    "#     new_fname = os.path.join(new_data_path, fname)\n",
    "#     df.to_csv(new_fname, sep='\\t', index=False, header=True)"
   ]
  },
  {
   "cell_type": "code",
   "execution_count": null,
   "id": "1b6e9b85",
   "metadata": {},
   "outputs": [],
   "source": [
    "# new_data_path = '/home/unix/jiahao/wanglab/jiahao/test/mlcb/datasets/test/'\n",
    "# test_files = [f for f in os.listdir(new_data_path) if f.endswith('.gz')]\n",
    "# df = pd.read_table(os.path.join(new_data_path, test_files[0]), header=None)\n",
    "# df"
   ]
  },
  {
   "cell_type": "code",
   "execution_count": null,
   "id": "991a0262",
   "metadata": {},
   "outputs": [],
   "source": [
    "# test_files = [f for f in os.listdir(new_data_path) if f.endswith('.gz')]\n",
    "# for current_file in tqdm(test_files):\n",
    "#     try:\n",
    "#         df = pd.read_table(os.path.join(new_data_path, current_file), header=None)\n",
    "#     except:\n",
    "#         print(current_file)\n",
    "#         continue\n"
   ]
  },
  {
   "cell_type": "code",
   "execution_count": null,
   "id": "38ec5025",
   "metadata": {},
   "outputs": [],
   "source": [
    "# create new file list for test\n",
    "new_data_path = '/home/unix/jiahao/wanglab/jiahao/test/mlcb/datasets/mlcb-combined/'\n",
    "snm3c_list = [f for f in os.listdir(new_data_path) if f.endswith('tsv')]\n",
    "merfish_list = [f for f in os.listdir(new_data_path) if f.startswith('dist')]\n",
    "\n",
    "with open(os.path.join(data_path, \"snm3c\", 'label_info.pickle'), 'rb') as f:\n",
    "    # Load the pickled data\n",
    "    snm3c_label = pickle.load(f)\n",
    "snm3c_label['cell_group'] = np.array(snm3c_label['cell_group'])\n",
    "snm3c_label['batch_id'] = np.array(snm3c_label['batch_id'])\n",
    "\n",
    "with open(os.path.join(data_path, \"merfish\", 'label_info.pickle'), 'rb') as f:\n",
    "    # Load the pickled data\n",
    "    merfish_label = pickle.load(f)\n",
    "\n",
    "print(snm3c_label.keys())   \n",
    "print(merfish_label.keys())"
   ]
  },
  {
   "cell_type": "code",
   "execution_count": null,
   "id": "33bc9771",
   "metadata": {},
   "outputs": [],
   "source": [
    "import re\n",
    "cell_groups = snm3c_label['cell_group']\n",
    "pattern = r\"^[^_]+\"\n",
    "\n",
    "# Extract strings\n",
    "extracted = [re.match(pattern, cell_group).group() for cell_group in cell_groups]\n",
    "\n",
    "mc_meta = pd.read_csv('/home/unix/jiahao/wanglab/jiahao/test/mlcb/metadata/CEMBA.mC.Metadata.csv')\n",
    "mc_cell_group = mc_meta.CellGroup.to_list()\n",
    "mc_meta_cellgroup = [re.match(pattern, cell_group).group() for cell_group in mc_cell_group]\n",
    "mc_meta[\"cellgrp\"] = mc_meta_cellgroup\n",
    "class_to_cellgrp = mc_meta.groupby('cellgrp')['SubClass'].unique().to_dict()\n",
    "\n",
    "def classify_cell_group(group):\n",
    "    if \"Gaba\" in group:\n",
    "        return \"Inhibitory Neuron\"\n",
    "    elif \"Glut\" in group:\n",
    "        return \"Excitatory Neuron\"\n",
    "    elif \"NN\" in group:\n",
    "        return \"Non-Neuronal\"\n",
    "\n",
    "\n",
    "tmp = []\n",
    "for i in extracted:\n",
    "  tmp.append(class_to_cellgrp[i][0])\n",
    "cell_group_mapping = {group: classify_cell_group(group) for group in pd.Series(tmp).unique()}\n",
    "\n",
    "plotting_grps = []\n",
    "for i in tmp:\n",
    "  plotting_grps.append(cell_group_mapping[i])\n",
    "\n",
    "snm3c_label['cell_group'] = np.array(plotting_grps)"
   ]
  },
  {
   "cell_type": "code",
   "execution_count": null,
   "id": "5cf0ea38",
   "metadata": {},
   "outputs": [],
   "source": [
    "org_snm3c_list = pd.read_table(os.path.join(data_path, \"snm3c\", 'filelist.txt'), header=None)\n",
    "all_cells = np.array([os.path.basename(f).replace('.gz', '') for f in org_snm3c_list[0].values])\n",
    "valid_index = np.array([np.argwhere(i == all_cells)[0][0] for i in snm3c_list])\n",
    "snm3c_cell_groups = snm3c_label['cell_group'][valid_index]  \n",
    "snm3c_batch_id = snm3c_label['batch_id'][valid_index]\n",
    "\n",
    "merfish_cell_ids = [f.split(\"_\")[1].replace('cell', '') for f in merfish_list]\n",
    "valid_cells = [f for f in merfish_cell_ids if f in merfish_label['Cell_ID']]\n",
    "merfish_list_valid = [f for f in merfish_list if f.split(\"_\")[1].replace('cell', '') in valid_cells]\n",
    "valid_index = [np.argwhere(i == merfish_label['Cell_ID'])[0][0] for i in valid_cells]\n",
    "merfish_cluster_class = merfish_label['cluster_class'][valid_index]\n",
    "\n",
    "snm3c_df = pd.DataFrame(snm3c_list, columns=['file_name'])\n",
    "snm3c_df['library'] = 'snm3c'\n",
    "snm3c_df['batch_id'] = snm3c_batch_id\n",
    "snm3c_df['cell_group'] = snm3c_cell_groups\n",
    "\n",
    "merfish_df = pd.DataFrame(merfish_list_valid, columns=['file_name'])\n",
    "merfish_df['library'] = 'merfish'\n",
    "merfish_df['batch_id'] = 1\n",
    "merfish_df['cell_group'] = merfish_cluster_class\n",
    "merfish_label_dict = {\n",
    "    'Gluta': 'Excitatory Neuron', \n",
    "    'Endo': 'Non-Neuronal', \n",
    "    'VLMC': 'Non-Neuronal', \n",
    "    'Astro': 'Non-Neuronal', \n",
    "    'Oligo': 'Non-Neuronal',\n",
    "    'GABA': 'Inhibitory Neuron', \n",
    "    'Micro': 'Non-Neuronal', \n",
    "    'SMC': 'Non-Neuronal',\n",
    "    'Peri': 'Non-Neuronal', \n",
    "    np.nan: 'Non-Neuronal', \n",
    "    'other': 'Non-Neuronal'\n",
    "}\n",
    "\n",
    "merfish_df['cell_group'] = merfish_df['cell_group'].map(merfish_label_dict)\n",
    "\n",
    "total_df = pd.concat([snm3c_df, merfish_df], axis=0)\n",
    "# total_df = pd.concat([snm3c_df.sample(2500), merfish_df.sample(2500)], axis=0)\n",
    "total_df"
   ]
  },
  {
   "cell_type": "code",
   "execution_count": null,
   "id": "799fd0a6",
   "metadata": {},
   "outputs": [],
   "source": [
    "total_df.to_csv(os.path.join(metadata_path, 'mlcb-combined-metadata.csv'), index=False, header=True)"
   ]
  },
  {
   "cell_type": "code",
   "execution_count": null,
   "id": "5d120dbc",
   "metadata": {},
   "outputs": [],
   "source": [
    "total_df['file_path'] = new_data_path + total_df['file_name']\n",
    "total_df['file_path'].to_csv(os.path.join(new_data_path, 'filelist.txt'), sep='\\t', index=False, header=False)\n",
    "\n",
    "total_label = {\n",
    "    'library': total_df['library'].values,\n",
    "    'batch_id': total_df['batch_id'].values,\n",
    "    'cell_group': total_df['cell_group'].values,\n",
    "}\n",
    "\n",
    "with open(os.path.join(new_data_path, 'label_info.pickle'), 'wb') as f:\n",
    "    pickle.dump(total_label, f)"
   ]
  },
  {
   "cell_type": "code",
   "execution_count": null,
   "id": "a6b3cf77",
   "metadata": {},
   "outputs": [],
   "source": [
    "# Set the training configuration\n",
    "config = os.path.join(data_path, \"mlcb-combined\", \"config.JSON\")\n",
    "\n",
    "config_info = {\n",
    "    \"data_dir\": '/home/unix/jiahao/wanglab/jiahao/test/mlcb/datasets/mlcb-combined/', # where the data is, the data has to be named as data.txt or the code can't find it\n",
    "    \"label_path\": \"/home/unix/jiahao/wanglab/jiahao/test/mlcb/datasets/mlcb-combined/label_info.pickle\",\n",
    "    \"structured\": True,\n",
    "    \"input_format\": 'higashi_v2',\n",
    "    \"temp_dir\": \"/home/unix/jiahao/projects/mlcb_run_500\",\n",
    "    \"genome_reference_path\": \"/home/unix/jiahao/wanglab/jiahao/test/mlcb/metadata/chromInfo.txt\",\n",
    "    \"cytoband_path\": \"/home/unix/jiahao/wanglab/jiahao/test/mlcb/metadata/cytoBand.txt\",\n",
    "    \"chrom_list\": ['chr1', 'chr10', 'chr11', 'chr12', 'chr13', 'chr14', 'chr15',\n",
    "       'chr17', 'chr18', 'chr3', 'chr4', 'chr5', 'chr6', 'chr7', 'chr9',\n",
    "       'chr16', 'chr19', 'chr2', 'chr8'],\n",
    "    \"header_included\": True,\n",
    "    \"resolution\": 500000, # 1000000 500000\n",
    "    \"resolution_cell\": 500000,\n",
    "    \"resolution_fh\": [500000],\n",
    "    \"embedding_name\": \"test\",\n",
    "    \"minimum_distance\": 500000,\n",
    "    \"maximum_distance\": -1,\n",
    "    \"local_transfer_range\": 0,\n",
    "    \"loss_mode\": \"zinb\",\n",
    "    \"dimensions\": 96, # can be adjusted later\n",
    "    \"impute_list\":['chr1', 'chr10', 'chr11', 'chr12', 'chr13', 'chr14', 'chr15',\n",
    "       'chr17', 'chr18', 'chr3', 'chr4', 'chr5', 'chr6', 'chr7', 'chr9',\n",
    "       'chr16', 'chr19', 'chr2', 'chr8'],\n",
    "    \"neighbor_num\": 5,\n",
    "    \"library_id\": \"library\",\n",
    "    \"batch_id\": \"batch_id\",\n",
    "    \"cpu_num\": 8,\n",
    "    \"gpu_num\": 1,\n",
    "    \"embedding_epoch\": 30, # this can be adjusted\n",
    "    \"correct_be_impute\": True,\n",
    "}\n",
    "\n",
    "# save the config file to the current directory\n",
    "import json\n",
    "with open(config,\"w\") as f:\n",
    "    json.dump(config_info, f, indent = 6)"
   ]
  },
  {
   "cell_type": "code",
   "execution_count": null,
   "id": "8c929fca",
   "metadata": {},
   "outputs": [],
   "source": [
    "# Initialize the Higashi instance\n",
    "config = os.path.join(data_path, \"mlcb-combined\", \"config.JSON\")\n",
    "higashi_model = Higashi(config)"
   ]
  },
  {
   "cell_type": "code",
   "execution_count": null,
   "id": "54fb320f",
   "metadata": {},
   "outputs": [],
   "source": [
    "higashi_model.generate_chrom_start_end()"
   ]
  },
  {
   "cell_type": "code",
   "execution_count": null,
   "id": "58aa8107",
   "metadata": {},
   "outputs": [],
   "source": [
    "higashi_model.extract_table()"
   ]
  },
  {
   "cell_type": "code",
   "execution_count": null,
   "id": "6c8f0895",
   "metadata": {},
   "outputs": [],
   "source": [
    "higashi_model.create_matrix()"
   ]
  },
  {
   "cell_type": "code",
   "execution_count": null,
   "id": "e18bcca2",
   "metadata": {},
   "outputs": [],
   "source": [
    " # prep the model\n",
    "higashi_model.prep_model()\n",
    "\n",
    "# train model embeddings\n",
    "higashi_model.train_for_embeddings()"
   ]
  },
  {
   "cell_type": "code",
   "execution_count": null,
   "id": "e487f237",
   "metadata": {},
   "outputs": [],
   "source": [
    "# Visualize embedding results\n",
    "cell_embeddings = higashi_model.fetch_cell_embeddings()\n",
    "# print (cell_embeddings.shape)\n",
    "\n",
    "from umap import UMAP\n",
    "import seaborn as sns\n",
    "import matplotlib.pyplot as plt\n",
    "palette = sns.color_palette(\"Set1\", 2)\n",
    "\n",
    "# Generate UMAP embeddings (example)\n",
    "vec = UMAP(n_components=2, n_neighbors=5, random_state=99).fit_transform(cell_embeddings)\n",
    "cell_groups = higashi_model.label_info['library']\n",
    "\n",
    "fig = plt.figure(figsize=(8, 9))\n",
    "\n",
    "# First subplot without legend\n",
    "ax1 = plt.subplot(1, 1, 1)\n",
    "sns.scatterplot(x=vec[:, 0], y=vec[:, 1], hue=cell_groups, ax=ax1, s=5, alpha=0.8, linewidth=0, palette=palette)\n",
    "handles, labels = ax1.get_legend_handles_labels()\n",
    "ax1.legend(\n",
    "    handles=handles,\n",
    "    labels=labels,\n",
    "    bbox_to_anchor=(0.5, -0.2),  # Center the legend below the plot\n",
    "    loc='upper center',          # Position legend relative to bbox_to_anchor\n",
    "    ncol=3,                    # Arrange legend items in rows\n",
    "    title=\"Cell Types\"\n",
    ")\n",
    "\n",
    "plt.tight_layout()\n",
    "plt.show()"
   ]
  },
  {
   "cell_type": "code",
   "execution_count": null,
   "id": "8494d42b",
   "metadata": {},
   "outputs": [],
   "source": [
    "cell_groups = higashi_model.label_info['cell_group']\n",
    "\n",
    "fig = plt.figure(figsize=(8, 9))\n",
    "\n",
    "# First subplot without legend\n",
    "ax1 = plt.subplot(1, 1, 1)\n",
    "sns.scatterplot(x=vec[:, 0], y=vec[:, 1], hue=cell_groups, ax=ax1, s=5, alpha=0.8, linewidth=0, palette='Set2')\n",
    "handles, labels = ax1.get_legend_handles_labels()\n",
    "ax1.legend(\n",
    "    handles=handles,\n",
    "    labels=labels,\n",
    "    bbox_to_anchor=(0.5, -0.2),  # Center the legend below the plot\n",
    "    loc='upper center',          # Position legend relative to bbox_to_anchor\n",
    "    ncol=3,                    # Arrange legend items in rows\n",
    "    title=\"Cell Types\"\n",
    ")\n",
    "\n",
    "plt.tight_layout()\n",
    "plt.show()"
   ]
  },
  {
   "cell_type": "code",
   "execution_count": null,
   "id": "d860abc5",
   "metadata": {},
   "outputs": [],
   "source": [
    "fig, axs = plt.subplots(figsize=(20, 8), nrows=1, ncols=2)\n",
    "\n",
    "sns.scatterplot(x=vec[:, 0], y=vec[:, 1], hue=higashi_model.label_info['library'], s=5, alpha=0.8, linewidth=0, palette='Set1', ax=axs[0])\n",
    "sns.scatterplot(x=vec[:, 0], y=vec[:, 1], hue=higashi_model.label_info['cell_group'], s=5, alpha=0.8, linewidth=0, palette='Set2', ax=axs[1])\n",
    "\n",
    "plt.tight_layout()\n",
    "plt.show()"
   ]
  },
  {
   "cell_type": "code",
   "execution_count": null,
   "id": "49c7848b",
   "metadata": {},
   "outputs": [],
   "source": [
    "# Run Harmony\n",
    "import harmonypy as hm\n",
    "ho = hm.run_harmony(cell_embeddings, total_df, 'library')\n",
    "\n",
    "# Write the adjusted PCs to a new file.\n",
    "res = pd.DataFrame(ho.Z_corr)\n",
    "res.shape"
   ]
  },
  {
   "cell_type": "code",
   "execution_count": null,
   "id": "6c63ce9b",
   "metadata": {},
   "outputs": [],
   "source": [
    "integrated_vec = UMAP(n_components=2, n_neighbors=5, random_state=99).fit_transform(res.T)"
   ]
  },
  {
   "cell_type": "code",
   "execution_count": null,
   "id": "1e83a6f7",
   "metadata": {},
   "outputs": [],
   "source": [
    "fig, axs = plt.subplots(figsize=(20, 8), nrows=1, ncols=2)\n",
    "\n",
    "sns.scatterplot(x=vec[:, 0], y=vec[:, 1], hue=higashi_model.label_info['library'], s=5, alpha=0.8, linewidth=0, palette='Set1', ax=axs[0])\n",
    "sns.scatterplot(x=integrated_vec[:, 0], y=integrated_vec[:, 1], hue=higashi_model.label_info['library'], s=5, alpha=0.8, linewidth=0, palette='Set1', ax=axs[1])\n",
    "axs[0].title.set_text('Before Harmony Integration')\n",
    "axs[1].title.set_text('After Harmony Integration')\n",
    "\n",
    "plt.tight_layout()\n",
    "plt.show()"
   ]
  },
  {
   "cell_type": "code",
   "execution_count": null,
   "id": "57e89fc2",
   "metadata": {},
   "outputs": [],
   "source": [
    "fig, axs = plt.subplots(figsize=(20, 16), nrows=2, ncols=2)\n",
    "\n",
    "sns.scatterplot(x=vec[:, 0], y=vec[:, 1], hue=higashi_model.label_info['library'], s=5, alpha=0.8, linewidth=0, palette='Set1', ax=axs[0, 0])\n",
    "sns.scatterplot(x=integrated_vec[:, 0], y=integrated_vec[:, 1], hue=higashi_model.label_info['library'], s=5, alpha=0.8, linewidth=0, palette='Set1', ax=axs[0, 1])\n",
    "\n",
    "sns.scatterplot(x=vec[:, 0], y=vec[:, 1], hue=higashi_model.label_info['cell_group'], s=5, alpha=0.8, linewidth=0, palette='Set2', ax=axs[1, 0])\n",
    "sns.scatterplot(x=integrated_vec[:, 0], y=integrated_vec[:, 1], hue=higashi_model.label_info['cell_group'], s=5, alpha=0.8, linewidth=0, palette='Set2', ax=axs[1, 1])\n",
    "\n",
    "axs[0, 0].title.set_text('Before Harmony Integration')\n",
    "axs[0, 1].title.set_text('After Harmony Integration')\n",
    "\n",
    "plt.tight_layout()\n",
    "plt.show()"
   ]
  },
  {
   "cell_type": "code",
   "execution_count": null,
   "id": "6662b760",
   "metadata": {},
   "outputs": [],
   "source": [
    "config = os.path.join(data_path, \"mlcb-combined\", \"config.JSON\")\n",
    "higashi_model = Higashi(config)\n",
    "higashi_model.prep_model()"
   ]
  },
  {
   "cell_type": "code",
   "execution_count": null,
   "id": "19b3cd8e",
   "metadata": {},
   "outputs": [],
   "source": [
    "higashi_model.train_for_imputation_nbr_0()\n",
    "higashi_model.impute_no_nbr()"
   ]
  },
  {
   "cell_type": "code",
   "execution_count": null,
   "id": "a2074a85",
   "metadata": {},
   "outputs": [],
   "source": [
    "higashi_model.train_for_imputation_with_nbr()\n",
    "higashi_model.impute_with_nbr()"
   ]
  },
  {
   "cell_type": "code",
   "execution_count": null,
   "id": "6d55d9d0",
   "metadata": {},
   "outputs": [],
   "source": [
    "total_df = total_df.reset_index(drop=True)\n",
    "total_df"
   ]
  },
  {
   "cell_type": "code",
   "execution_count": null,
   "id": "61569314",
   "metadata": {},
   "outputs": [],
   "source": [
    "test_ids = ['CEMBA3C_2A3C_R1_P2-4-I7-E7', 'CEMBA3C_MOp5D_R1_P1-6-L11-M23', 'CEMBA3C_4A3C_R2_P7-5-I2-F9']\n",
    "total_df.loc[total_df['file_name'].str.contains(test_ids[2]), ]"
   ]
  },
  {
   "cell_type": "code",
   "execution_count": null,
   "id": "548b27b6",
   "metadata": {},
   "outputs": [],
   "source": [
    "for i in total_df.loc[[5029, 5631, 5704, 5962, 7977], 'file_name']:\n",
    "    print(i)"
   ]
  },
  {
   "cell_type": "code",
   "execution_count": null,
   "id": "b65db6bb",
   "metadata": {},
   "outputs": [],
   "source": [
    "import matplotlib.pyplot as plt\n",
    "count = 0\n",
    "fig = plt.figure(figsize=(12, 4*3))\n",
    "\n",
    "merfish_list = [802, 2862, 2989]\n",
    "# for id_ in np.random.randint(5000, 9267, 5):\n",
    "for id_ in merfish_list:\n",
    "    print(total_df.loc[id_, 'library'], id_)\n",
    "    # code to fetch imputed contact maps\n",
    "    ori, nbr0, nbr5 = higashi_model.fetch_map(\"chr4\", id_)\n",
    "    count += 1\n",
    "    ax = plt.subplot(3, 3, count * 3 - 2)\n",
    "    ax.imshow(ori.toarray(), cmap='Reds', vmin=0.0, vmax=np.quantile(ori.data, 0.95))\n",
    "    ax.set_xticks([], [])\n",
    "    ax.set_yticks([], [])\n",
    "    if count == 1:\n",
    "        ax.set_title(\"raw\")\n",
    "    \n",
    "    ax = plt.subplot(3, 3, count * 3 - 1)\n",
    "    ax.imshow(nbr0.toarray(), cmap='Reds', vmin=0.0, vmax=np.quantile(nbr0.data, 0.95))\n",
    "    ax.set_xticks([], [])\n",
    "    ax.set_yticks([], [])\n",
    "    if count == 1:\n",
    "        ax.set_title(\"higashi, k=0\")\n",
    "    \n",
    "    ax = plt.subplot(3, 3, count * 3)\n",
    "    ax.imshow(nbr5.toarray(), cmap='Reds', vmin=0.0, vmax=np.quantile(nbr5.data, 0.95))\n",
    "    ax.set_xticks([], [])\n",
    "    ax.set_yticks([], [])\n",
    "    if count == 1:\n",
    "        ax.set_title(\"higashi, k=5\")\n",
    "    \n",
    "plt.tight_layout()"
   ]
  },
  {
   "cell_type": "code",
   "execution_count": null,
   "id": "a4c6b1ea",
   "metadata": {},
   "outputs": [],
   "source": [
    "import matplotlib.pyplot as plt\n",
    "count = 0\n",
    "fig = plt.figure(figsize=(12, 4*5))\n",
    "\n",
    "merfish_list = [5029, 5631, 5704, 5962, 7977]\n",
    "# for id_ in np.random.randint(5000, 9267, 5):\n",
    "for id_ in merfish_list:\n",
    "    print(total_df.loc[id_, 'library'], id_)\n",
    "    # code to fetch imputed contact maps\n",
    "    ori, nbr0, nbr5 = higashi_model.fetch_map(\"chr1\", id_)\n",
    "    count += 1\n",
    "    ax = plt.subplot(5, 3, count * 3 - 2)\n",
    "    ax.imshow(ori.toarray(), cmap='Reds', vmin=0.0, vmax=np.quantile(ori.data, 0.95))\n",
    "    ax.set_xticks([], [])\n",
    "    ax.set_yticks([], [])\n",
    "    if count == 1:\n",
    "        ax.set_title(\"raw\")\n",
    "    \n",
    "    ax = plt.subplot(5, 3, count * 3 - 1)\n",
    "    ax.imshow(nbr0.toarray(), cmap='Reds', vmin=0.0, vmax=np.quantile(nbr0.data, 0.95))\n",
    "    ax.set_xticks([], [])\n",
    "    ax.set_yticks([], [])\n",
    "    if count == 1:\n",
    "        ax.set_title(\"higashi, k=0\")\n",
    "    \n",
    "    ax = plt.subplot(5, 3, count * 3)\n",
    "    ax.imshow(nbr5.toarray(), cmap='Reds', vmin=0.0, vmax=np.quantile(nbr5.data, 0.95))\n",
    "    ax.set_xticks([], [])\n",
    "    ax.set_yticks([], [])\n",
    "    if count == 1:\n",
    "        ax.set_title(\"higashi, k=5\")\n",
    "    \n",
    "plt.tight_layout()"
   ]
  },
  {
   "cell_type": "code",
   "execution_count": null,
   "id": "016d8cf7",
   "metadata": {},
   "outputs": [],
   "source": []
  }
 ],
 "metadata": {
  "kernelspec": {
   "display_name": "mlcb",
   "language": "python",
   "name": "python3"
  },
  "language_info": {
   "codemirror_mode": {
    "name": "ipython",
    "version": 3
   },
   "file_extension": ".py",
   "mimetype": "text/x-python",
   "name": "python",
   "nbconvert_exporter": "python",
   "pygments_lexer": "ipython3",
   "version": "3.7.9"
  }
 },
 "nbformat": 4,
 "nbformat_minor": 5
}
