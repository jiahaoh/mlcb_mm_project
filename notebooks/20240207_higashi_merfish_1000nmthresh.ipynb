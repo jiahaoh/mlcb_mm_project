{
 "cells": [
  {
   "cell_type": "code",
   "execution_count": 1,
   "id": "923be02d",
   "metadata": {},
   "outputs": [],
   "source": [
    "import os\n",
    "import re\n",
    "import pickle\n",
    "\n",
    "import numpy as np\n",
    "import pandas as pd"
   ]
  },
  {
   "cell_type": "code",
   "execution_count": 2,
   "id": "babfaf8e",
   "metadata": {},
   "outputs": [
    {
     "name": "stdout",
     "output_type": "stream",
     "text": [
      "2.5.1+cu118\n"
     ]
    }
   ],
   "source": [
    "import torch\n",
    "print(torch.__version__)"
   ]
  },
  {
   "cell_type": "code",
   "execution_count": 3,
   "id": "5a7f907b",
   "metadata": {},
   "outputs": [
    {
     "name": "stdout",
     "output_type": "stream",
     "text": [
      "Is CUDA available: True\n",
      "CUDA device count: 1\n",
      "CUDA version: 11.8\n",
      "CUDA devices: [<torch.cuda.device object at 0x14770d4c2200>]\n",
      "CUDA_VISIBLE_DEVICES: MIG-288afbf5-3444-56dc-81fb-30f6073ebc03\n",
      "Successfully allocated tensor on GPU.\n"
     ]
    }
   ],
   "source": [
    "print(\"Is CUDA available:\", torch.cuda.is_available())\n",
    "print(\"CUDA device count:\", torch.cuda.device_count())\n",
    "print(\"CUDA version:\", torch.version.cuda)\n",
    "print(\"CUDA devices:\", [torch.cuda.device(i) for i in range(torch.cuda.device_count())])\n",
    "print(\"CUDA_VISIBLE_DEVICES:\", os.environ.get('CUDA_VISIBLE_DEVICES'))\n",
    "\n",
    "# Try to allocate a tensor on GPU\n",
    "try:\n",
    "    device = torch.device('cuda:0')\n",
    "    torch.tensor([1.0], device=device)\n",
    "    print(\"Successfully allocated tensor on GPU.\")\n",
    "except Exception as e:\n",
    "    print(\"Failed to allocate tensor on GPU:\", e)"
   ]
  },
  {
   "cell_type": "code",
   "execution_count": 4,
   "id": "3dcd3c5b",
   "metadata": {},
   "outputs": [
    {
     "data": {
      "text/plain": [
       "['/n/home09/pren/3DGeno_tools/src/gt3d/modules',\n",
       " '/n/home09/pren/.conda/envs/gt3d/lib/python310.zip',\n",
       " '/n/home09/pren/.conda/envs/gt3d/lib/python3.10',\n",
       " '/n/home09/pren/.conda/envs/gt3d/lib/python3.10/lib-dynload',\n",
       " '',\n",
       " '/n/home09/pren/.conda/envs/gt3d/lib/python3.10/site-packages',\n",
       " '/n/home09/pren/3DGeno_tools/src']"
      ]
     },
     "execution_count": 4,
     "metadata": {},
     "output_type": "execute_result"
    }
   ],
   "source": [
    "import sys\n",
    "sys.path.insert(0, '/n/home09/pren/3DGeno_tools/src/gt3d/modules')\n",
    "# sys.path.append('/n/home09/pren/Higashi')\n",
    "# sys.path = ['/n/home09/pren/3DGeno_tools/src/gt3d/modules'] + sys.path\n",
    "sys.path\n"
   ]
  },
  {
   "cell_type": "code",
   "execution_count": 5,
   "id": "099fe23f-f32c-4f00-b75e-ef6ee0512010",
   "metadata": {},
   "outputs": [
    {
     "name": "stdout",
     "output_type": "stream",
     "text": [
      "/n/home09/pren/3DGeno_tools/src/gt3d/modules/higashi/__init__.py\n"
     ]
    }
   ],
   "source": [
    "import higashi\n",
    "print(higashi.__file__)"
   ]
  },
  {
   "cell_type": "code",
   "execution_count": 6,
   "id": "dfcdb4f6",
   "metadata": {},
   "outputs": [],
   "source": [
    "from higashi.Higashi_wrapper import *"
   ]
  },
  {
   "cell_type": "code",
   "execution_count": 7,
   "id": "ae94ecf2",
   "metadata": {},
   "outputs": [],
   "source": [
    "fish_path = '/n/netscratch/zhuang_lab/Lab/Peter/higashi_dnamerfish/multiplexed_fish/t6_filelist'"
   ]
  },
  {
   "cell_type": "code",
   "execution_count": 8,
   "id": "d95bcbfa",
   "metadata": {},
   "outputs": [
    {
     "ename": "FileNotFoundError",
     "evalue": "[Errno 2] No such file or directory: '/n/netscratch/zhuang_lab/Lab/Peter/higashi_dnamerfish/multiplexed_fish/t6_filelist/4DNESMTNNB3N/4DNFIA7FUW8Y.csv'",
     "output_type": "error",
     "traceback": [
      "\u001b[0;31m---------------------------------------------------------------------------\u001b[0m",
      "\u001b[0;31mFileNotFoundError\u001b[0m                         Traceback (most recent call last)",
      "Cell \u001b[0;32mIn[8], line 1\u001b[0m\n\u001b[0;32m----> 1\u001b[0m cell_df \u001b[38;5;241m=\u001b[39m \u001b[43mpd\u001b[49m\u001b[38;5;241;43m.\u001b[39;49m\u001b[43mread_csv\u001b[49m\u001b[43m(\u001b[49m\u001b[43mos\u001b[49m\u001b[38;5;241;43m.\u001b[39;49m\u001b[43mpath\u001b[49m\u001b[38;5;241;43m.\u001b[39;49m\u001b[43mjoin\u001b[49m\u001b[43m(\u001b[49m\u001b[43mfish_path\u001b[49m\u001b[43m,\u001b[49m\u001b[43m \u001b[49m\u001b[38;5;124;43m'\u001b[39;49m\u001b[38;5;124;43m4DNESMTNNB3N/4DNFIA7FUW8Y.csv\u001b[39;49m\u001b[38;5;124;43m'\u001b[39;49m\u001b[43m)\u001b[49m\u001b[43m,\u001b[49m\u001b[43m \u001b[49m\u001b[43mskiprows\u001b[49m\u001b[38;5;241;43m=\u001b[39;49m\u001b[38;5;241;43m22\u001b[39;49m\u001b[43m)\u001b[49m\n\u001b[1;32m      2\u001b[0m cell_df \u001b[38;5;241m=\u001b[39m cell_df\u001b[38;5;241m.\u001b[39mrename(columns\u001b[38;5;241m=\u001b[39m{\u001b[38;5;124m'\u001b[39m\u001b[38;5;124m##columns=(Cell_ID\u001b[39m\u001b[38;5;124m'\u001b[39m: \u001b[38;5;124m'\u001b[39m\u001b[38;5;124mCell_ID\u001b[39m\u001b[38;5;124m'\u001b[39m, \u001b[38;5;124m'\u001b[39m\u001b[38;5;124mZfp804b)\u001b[39m\u001b[38;5;124m'\u001b[39m: \u001b[38;5;124m'\u001b[39m\u001b[38;5;124mZfp804b\u001b[39m\u001b[38;5;124m'\u001b[39m})\n\u001b[1;32m      3\u001b[0m cell_df\n",
      "File \u001b[0;32m~/.conda/envs/gt3d/lib/python3.10/site-packages/pandas/io/parsers/readers.py:1026\u001b[0m, in \u001b[0;36mread_csv\u001b[0;34m(filepath_or_buffer, sep, delimiter, header, names, index_col, usecols, dtype, engine, converters, true_values, false_values, skipinitialspace, skiprows, skipfooter, nrows, na_values, keep_default_na, na_filter, verbose, skip_blank_lines, parse_dates, infer_datetime_format, keep_date_col, date_parser, date_format, dayfirst, cache_dates, iterator, chunksize, compression, thousands, decimal, lineterminator, quotechar, quoting, doublequote, escapechar, comment, encoding, encoding_errors, dialect, on_bad_lines, delim_whitespace, low_memory, memory_map, float_precision, storage_options, dtype_backend)\u001b[0m\n\u001b[1;32m   1013\u001b[0m kwds_defaults \u001b[38;5;241m=\u001b[39m _refine_defaults_read(\n\u001b[1;32m   1014\u001b[0m     dialect,\n\u001b[1;32m   1015\u001b[0m     delimiter,\n\u001b[0;32m   (...)\u001b[0m\n\u001b[1;32m   1022\u001b[0m     dtype_backend\u001b[38;5;241m=\u001b[39mdtype_backend,\n\u001b[1;32m   1023\u001b[0m )\n\u001b[1;32m   1024\u001b[0m kwds\u001b[38;5;241m.\u001b[39mupdate(kwds_defaults)\n\u001b[0;32m-> 1026\u001b[0m \u001b[38;5;28;01mreturn\u001b[39;00m \u001b[43m_read\u001b[49m\u001b[43m(\u001b[49m\u001b[43mfilepath_or_buffer\u001b[49m\u001b[43m,\u001b[49m\u001b[43m \u001b[49m\u001b[43mkwds\u001b[49m\u001b[43m)\u001b[49m\n",
      "File \u001b[0;32m~/.conda/envs/gt3d/lib/python3.10/site-packages/pandas/io/parsers/readers.py:620\u001b[0m, in \u001b[0;36m_read\u001b[0;34m(filepath_or_buffer, kwds)\u001b[0m\n\u001b[1;32m    617\u001b[0m _validate_names(kwds\u001b[38;5;241m.\u001b[39mget(\u001b[38;5;124m\"\u001b[39m\u001b[38;5;124mnames\u001b[39m\u001b[38;5;124m\"\u001b[39m, \u001b[38;5;28;01mNone\u001b[39;00m))\n\u001b[1;32m    619\u001b[0m \u001b[38;5;66;03m# Create the parser.\u001b[39;00m\n\u001b[0;32m--> 620\u001b[0m parser \u001b[38;5;241m=\u001b[39m \u001b[43mTextFileReader\u001b[49m\u001b[43m(\u001b[49m\u001b[43mfilepath_or_buffer\u001b[49m\u001b[43m,\u001b[49m\u001b[43m \u001b[49m\u001b[38;5;241;43m*\u001b[39;49m\u001b[38;5;241;43m*\u001b[39;49m\u001b[43mkwds\u001b[49m\u001b[43m)\u001b[49m\n\u001b[1;32m    622\u001b[0m \u001b[38;5;28;01mif\u001b[39;00m chunksize \u001b[38;5;129;01mor\u001b[39;00m iterator:\n\u001b[1;32m    623\u001b[0m     \u001b[38;5;28;01mreturn\u001b[39;00m parser\n",
      "File \u001b[0;32m~/.conda/envs/gt3d/lib/python3.10/site-packages/pandas/io/parsers/readers.py:1620\u001b[0m, in \u001b[0;36mTextFileReader.__init__\u001b[0;34m(self, f, engine, **kwds)\u001b[0m\n\u001b[1;32m   1617\u001b[0m     \u001b[38;5;28mself\u001b[39m\u001b[38;5;241m.\u001b[39moptions[\u001b[38;5;124m\"\u001b[39m\u001b[38;5;124mhas_index_names\u001b[39m\u001b[38;5;124m\"\u001b[39m] \u001b[38;5;241m=\u001b[39m kwds[\u001b[38;5;124m\"\u001b[39m\u001b[38;5;124mhas_index_names\u001b[39m\u001b[38;5;124m\"\u001b[39m]\n\u001b[1;32m   1619\u001b[0m \u001b[38;5;28mself\u001b[39m\u001b[38;5;241m.\u001b[39mhandles: IOHandles \u001b[38;5;241m|\u001b[39m \u001b[38;5;28;01mNone\u001b[39;00m \u001b[38;5;241m=\u001b[39m \u001b[38;5;28;01mNone\u001b[39;00m\n\u001b[0;32m-> 1620\u001b[0m \u001b[38;5;28mself\u001b[39m\u001b[38;5;241m.\u001b[39m_engine \u001b[38;5;241m=\u001b[39m \u001b[38;5;28;43mself\u001b[39;49m\u001b[38;5;241;43m.\u001b[39;49m\u001b[43m_make_engine\u001b[49m\u001b[43m(\u001b[49m\u001b[43mf\u001b[49m\u001b[43m,\u001b[49m\u001b[43m \u001b[49m\u001b[38;5;28;43mself\u001b[39;49m\u001b[38;5;241;43m.\u001b[39;49m\u001b[43mengine\u001b[49m\u001b[43m)\u001b[49m\n",
      "File \u001b[0;32m~/.conda/envs/gt3d/lib/python3.10/site-packages/pandas/io/parsers/readers.py:1880\u001b[0m, in \u001b[0;36mTextFileReader._make_engine\u001b[0;34m(self, f, engine)\u001b[0m\n\u001b[1;32m   1878\u001b[0m     \u001b[38;5;28;01mif\u001b[39;00m \u001b[38;5;124m\"\u001b[39m\u001b[38;5;124mb\u001b[39m\u001b[38;5;124m\"\u001b[39m \u001b[38;5;129;01mnot\u001b[39;00m \u001b[38;5;129;01min\u001b[39;00m mode:\n\u001b[1;32m   1879\u001b[0m         mode \u001b[38;5;241m+\u001b[39m\u001b[38;5;241m=\u001b[39m \u001b[38;5;124m\"\u001b[39m\u001b[38;5;124mb\u001b[39m\u001b[38;5;124m\"\u001b[39m\n\u001b[0;32m-> 1880\u001b[0m \u001b[38;5;28mself\u001b[39m\u001b[38;5;241m.\u001b[39mhandles \u001b[38;5;241m=\u001b[39m \u001b[43mget_handle\u001b[49m\u001b[43m(\u001b[49m\n\u001b[1;32m   1881\u001b[0m \u001b[43m    \u001b[49m\u001b[43mf\u001b[49m\u001b[43m,\u001b[49m\n\u001b[1;32m   1882\u001b[0m \u001b[43m    \u001b[49m\u001b[43mmode\u001b[49m\u001b[43m,\u001b[49m\n\u001b[1;32m   1883\u001b[0m \u001b[43m    \u001b[49m\u001b[43mencoding\u001b[49m\u001b[38;5;241;43m=\u001b[39;49m\u001b[38;5;28;43mself\u001b[39;49m\u001b[38;5;241;43m.\u001b[39;49m\u001b[43moptions\u001b[49m\u001b[38;5;241;43m.\u001b[39;49m\u001b[43mget\u001b[49m\u001b[43m(\u001b[49m\u001b[38;5;124;43m\"\u001b[39;49m\u001b[38;5;124;43mencoding\u001b[39;49m\u001b[38;5;124;43m\"\u001b[39;49m\u001b[43m,\u001b[49m\u001b[43m \u001b[49m\u001b[38;5;28;43;01mNone\u001b[39;49;00m\u001b[43m)\u001b[49m\u001b[43m,\u001b[49m\n\u001b[1;32m   1884\u001b[0m \u001b[43m    \u001b[49m\u001b[43mcompression\u001b[49m\u001b[38;5;241;43m=\u001b[39;49m\u001b[38;5;28;43mself\u001b[39;49m\u001b[38;5;241;43m.\u001b[39;49m\u001b[43moptions\u001b[49m\u001b[38;5;241;43m.\u001b[39;49m\u001b[43mget\u001b[49m\u001b[43m(\u001b[49m\u001b[38;5;124;43m\"\u001b[39;49m\u001b[38;5;124;43mcompression\u001b[39;49m\u001b[38;5;124;43m\"\u001b[39;49m\u001b[43m,\u001b[49m\u001b[43m \u001b[49m\u001b[38;5;28;43;01mNone\u001b[39;49;00m\u001b[43m)\u001b[49m\u001b[43m,\u001b[49m\n\u001b[1;32m   1885\u001b[0m \u001b[43m    \u001b[49m\u001b[43mmemory_map\u001b[49m\u001b[38;5;241;43m=\u001b[39;49m\u001b[38;5;28;43mself\u001b[39;49m\u001b[38;5;241;43m.\u001b[39;49m\u001b[43moptions\u001b[49m\u001b[38;5;241;43m.\u001b[39;49m\u001b[43mget\u001b[49m\u001b[43m(\u001b[49m\u001b[38;5;124;43m\"\u001b[39;49m\u001b[38;5;124;43mmemory_map\u001b[39;49m\u001b[38;5;124;43m\"\u001b[39;49m\u001b[43m,\u001b[49m\u001b[43m \u001b[49m\u001b[38;5;28;43;01mFalse\u001b[39;49;00m\u001b[43m)\u001b[49m\u001b[43m,\u001b[49m\n\u001b[1;32m   1886\u001b[0m \u001b[43m    \u001b[49m\u001b[43mis_text\u001b[49m\u001b[38;5;241;43m=\u001b[39;49m\u001b[43mis_text\u001b[49m\u001b[43m,\u001b[49m\n\u001b[1;32m   1887\u001b[0m \u001b[43m    \u001b[49m\u001b[43merrors\u001b[49m\u001b[38;5;241;43m=\u001b[39;49m\u001b[38;5;28;43mself\u001b[39;49m\u001b[38;5;241;43m.\u001b[39;49m\u001b[43moptions\u001b[49m\u001b[38;5;241;43m.\u001b[39;49m\u001b[43mget\u001b[49m\u001b[43m(\u001b[49m\u001b[38;5;124;43m\"\u001b[39;49m\u001b[38;5;124;43mencoding_errors\u001b[39;49m\u001b[38;5;124;43m\"\u001b[39;49m\u001b[43m,\u001b[49m\u001b[43m \u001b[49m\u001b[38;5;124;43m\"\u001b[39;49m\u001b[38;5;124;43mstrict\u001b[39;49m\u001b[38;5;124;43m\"\u001b[39;49m\u001b[43m)\u001b[49m\u001b[43m,\u001b[49m\n\u001b[1;32m   1888\u001b[0m \u001b[43m    \u001b[49m\u001b[43mstorage_options\u001b[49m\u001b[38;5;241;43m=\u001b[39;49m\u001b[38;5;28;43mself\u001b[39;49m\u001b[38;5;241;43m.\u001b[39;49m\u001b[43moptions\u001b[49m\u001b[38;5;241;43m.\u001b[39;49m\u001b[43mget\u001b[49m\u001b[43m(\u001b[49m\u001b[38;5;124;43m\"\u001b[39;49m\u001b[38;5;124;43mstorage_options\u001b[39;49m\u001b[38;5;124;43m\"\u001b[39;49m\u001b[43m,\u001b[49m\u001b[43m \u001b[49m\u001b[38;5;28;43;01mNone\u001b[39;49;00m\u001b[43m)\u001b[49m\u001b[43m,\u001b[49m\n\u001b[1;32m   1889\u001b[0m \u001b[43m\u001b[49m\u001b[43m)\u001b[49m\n\u001b[1;32m   1890\u001b[0m \u001b[38;5;28;01massert\u001b[39;00m \u001b[38;5;28mself\u001b[39m\u001b[38;5;241m.\u001b[39mhandles \u001b[38;5;129;01mis\u001b[39;00m \u001b[38;5;129;01mnot\u001b[39;00m \u001b[38;5;28;01mNone\u001b[39;00m\n\u001b[1;32m   1891\u001b[0m f \u001b[38;5;241m=\u001b[39m \u001b[38;5;28mself\u001b[39m\u001b[38;5;241m.\u001b[39mhandles\u001b[38;5;241m.\u001b[39mhandle\n",
      "File \u001b[0;32m~/.conda/envs/gt3d/lib/python3.10/site-packages/pandas/io/common.py:873\u001b[0m, in \u001b[0;36mget_handle\u001b[0;34m(path_or_buf, mode, encoding, compression, memory_map, is_text, errors, storage_options)\u001b[0m\n\u001b[1;32m    868\u001b[0m \u001b[38;5;28;01melif\u001b[39;00m \u001b[38;5;28misinstance\u001b[39m(handle, \u001b[38;5;28mstr\u001b[39m):\n\u001b[1;32m    869\u001b[0m     \u001b[38;5;66;03m# Check whether the filename is to be opened in binary mode.\u001b[39;00m\n\u001b[1;32m    870\u001b[0m     \u001b[38;5;66;03m# Binary mode does not support 'encoding' and 'newline'.\u001b[39;00m\n\u001b[1;32m    871\u001b[0m     \u001b[38;5;28;01mif\u001b[39;00m ioargs\u001b[38;5;241m.\u001b[39mencoding \u001b[38;5;129;01mand\u001b[39;00m \u001b[38;5;124m\"\u001b[39m\u001b[38;5;124mb\u001b[39m\u001b[38;5;124m\"\u001b[39m \u001b[38;5;129;01mnot\u001b[39;00m \u001b[38;5;129;01min\u001b[39;00m ioargs\u001b[38;5;241m.\u001b[39mmode:\n\u001b[1;32m    872\u001b[0m         \u001b[38;5;66;03m# Encoding\u001b[39;00m\n\u001b[0;32m--> 873\u001b[0m         handle \u001b[38;5;241m=\u001b[39m \u001b[38;5;28;43mopen\u001b[39;49m\u001b[43m(\u001b[49m\n\u001b[1;32m    874\u001b[0m \u001b[43m            \u001b[49m\u001b[43mhandle\u001b[49m\u001b[43m,\u001b[49m\n\u001b[1;32m    875\u001b[0m \u001b[43m            \u001b[49m\u001b[43mioargs\u001b[49m\u001b[38;5;241;43m.\u001b[39;49m\u001b[43mmode\u001b[49m\u001b[43m,\u001b[49m\n\u001b[1;32m    876\u001b[0m \u001b[43m            \u001b[49m\u001b[43mencoding\u001b[49m\u001b[38;5;241;43m=\u001b[39;49m\u001b[43mioargs\u001b[49m\u001b[38;5;241;43m.\u001b[39;49m\u001b[43mencoding\u001b[49m\u001b[43m,\u001b[49m\n\u001b[1;32m    877\u001b[0m \u001b[43m            \u001b[49m\u001b[43merrors\u001b[49m\u001b[38;5;241;43m=\u001b[39;49m\u001b[43merrors\u001b[49m\u001b[43m,\u001b[49m\n\u001b[1;32m    878\u001b[0m \u001b[43m            \u001b[49m\u001b[43mnewline\u001b[49m\u001b[38;5;241;43m=\u001b[39;49m\u001b[38;5;124;43m\"\u001b[39;49m\u001b[38;5;124;43m\"\u001b[39;49m\u001b[43m,\u001b[49m\n\u001b[1;32m    879\u001b[0m \u001b[43m        \u001b[49m\u001b[43m)\u001b[49m\n\u001b[1;32m    880\u001b[0m     \u001b[38;5;28;01melse\u001b[39;00m:\n\u001b[1;32m    881\u001b[0m         \u001b[38;5;66;03m# Binary mode\u001b[39;00m\n\u001b[1;32m    882\u001b[0m         handle \u001b[38;5;241m=\u001b[39m \u001b[38;5;28mopen\u001b[39m(handle, ioargs\u001b[38;5;241m.\u001b[39mmode)\n",
      "\u001b[0;31mFileNotFoundError\u001b[0m: [Errno 2] No such file or directory: '/n/netscratch/zhuang_lab/Lab/Peter/higashi_dnamerfish/multiplexed_fish/t6_filelist/4DNESMTNNB3N/4DNFIA7FUW8Y.csv'"
     ]
    }
   ],
   "source": [
    "cell_df = pd.read_csv(os.path.join(fish_path, '4DNESMTNNB3N/4DNFIA7FUW8Y.csv'), skiprows=22)\n",
    "cell_df = cell_df.rename(columns={'##columns=(Cell_ID': 'Cell_ID', 'Zfp804b)': 'Zfp804b'})\n",
    "cell_df\n"
   ]
  },
  {
   "cell_type": "code",
   "execution_count": null,
   "id": "40271fec",
   "metadata": {},
   "outputs": [],
   "source": [
    "cell_ids = [re.search('cell\\d+', filename).group()[4:] for filename in os.listdir(os.path.join(fish_path, 'merfish_contacts_thresh1000nm'))]\n",
    "len(cell_ids)"
   ]
  },
  {
   "cell_type": "code",
   "execution_count": null,
   "id": "a9846a86",
   "metadata": {},
   "outputs": [],
   "source": [
    "training_data_meta = pd.DataFrame(cell_ids, columns=['Cell_ID']).merge(cell_df, on='Cell_ID', how='left')\n",
    "training_data_meta"
   ]
  },
  {
   "cell_type": "code",
   "execution_count": null,
   "id": "08e3ecb4",
   "metadata": {},
   "outputs": [],
   "source": [
    "label_info = {k:np.asarray(training_data_meta[k]) for k in training_data_meta.columns}\n",
    "label_info_path = '/n/home09/pren/higfiles/merfish_metadata/label_info_1000nmthresh.pickle'\n",
    "with open(label_info_path, 'wb') as handle:\n",
    "    pickle.dump(label_info, handle)"
   ]
  },
  {
   "cell_type": "code",
   "execution_count": null,
   "id": "a2a6bc3c",
   "metadata": {},
   "outputs": [],
   "source": [
    "config = \"/n/home09/pren/higfiles/configs/config_liu_zhuang_t6_1000nmthresh.JSON\"\n",
    "config_info = {\n",
    "    \"data_dir\": fish_path, # where the data is, the data has to be named as data.txt (v1) or filelist.txt (v2) or the code can't find it\n",
    "    \"label_path\": label_info_path,\n",
    "    \"structured\": True,\n",
    "    \"input_format\": 'higashi_v2',\n",
    "    \"temp_dir\": \"/n/netscratch/zhuang_lab/Lab/Peter/higashi_dnamerfish/embeddings_liu_zhuang_temp6_1000nmthresh/\", # where to store model temp files\n",
    "    \"genome_reference_path\": \"/n/home09/pren/higfiles/params/chromInfo.txt\",\n",
    "    \"cytoband_path\": \"/n/home09/pren/higfiles/params/cytoBand.txt\",\n",
    "    \"chrom_list\": ['chr1', 'chr10', 'chr11', 'chr12', 'chr13', 'chr14', 'chr15',\n",
    "       'chr17', 'chr18', 'chr3', 'chr4', 'chr5', 'chr6', 'chr7', 'chr9',\n",
    "       'chr16', 'chr19', 'chr2', 'chr8', \"chrX\"],\n",
    "    \"resolution\": 2500000, # 2.5 Mbp\n",
    "    \"resolution_cell\": 2500000,\n",
    "    \"resolution_fh\": [2500000],\n",
    "    \"embedding_name\": \"test_dnamerfish_1000nmthresh\",\n",
    "    \"minimum_distance\": 2500000,\n",
    "    \"maximum_distance\": -1,\n",
    "    \"local_transfer_range\": 0,\n",
    "    \"loss_mode\": \"zinb\",\n",
    "    \"dimensions\": 100, # can be adjusted later\n",
    "    \"impute_list\":['chr1', 'chr10', 'chr11', 'chr12', 'chr13', 'chr14', 'chr15',\n",
    "       'chr17', 'chr18', 'chr3', 'chr4', 'chr5', 'chr6', 'chr7', 'chr9',\n",
    "       'chr16', 'chr19', 'chr2', 'chr8', \"chrX\"],\n",
    "    \"neighbor_num\": 5,\n",
    "    \"cpu_num\": 10,\n",
    "    \"gpu_num\": 1,\n",
    "    \"embedding_epoch\":65, # this can be adjusted\n",
    "    \"correct_be_impute\": True,\n",
    "    \"header_included\": True,\n",
    "    \"reprocess\": True,\n",
    "    # \"contact_header\": ['cell_id', 'chrom1', 'pos1', 'chrom2', 'pos2', 'count']\n",
    "}\n",
    "\n",
    "# save the config file to the current directory\n",
    "import json\n",
    "with open(config, \"w\") as f:\n",
    "    json.dump(config_info, f, indent = 6)"
   ]
  },
  {
   "cell_type": "code",
   "execution_count": null,
   "id": "36bd22a9-feeb-4b12-a25c-e3908dcada9b",
   "metadata": {},
   "outputs": [],
   "source": [
    "# Initialize the Higashi instance\n",
    "higashi_model = Higashi(config)\n"
   ]
  },
  {
   "cell_type": "code",
   "execution_count": null,
   "id": "faccf621",
   "metadata": {},
   "outputs": [],
   "source": [
    "# Data processing (only needs to be run for once)\n",
    "higashi_model.process_data()\n",
    "\n"
   ]
  },
  {
   "cell_type": "code",
   "execution_count": null,
   "id": "8ac62b1b-4d00-43be-8bfc-bd14499ebfff",
   "metadata": {},
   "outputs": [],
   "source": [
    "higashi_model.prep_model()"
   ]
  },
  {
   "cell_type": "code",
   "execution_count": null,
   "id": "3a403c56",
   "metadata": {},
   "outputs": [],
   "source": [
    "# Stage 1 training\n",
    "higashi_model.train_for_embeddings()"
   ]
  },
  {
   "cell_type": "code",
   "execution_count": null,
   "id": "0988d5de",
   "metadata": {},
   "outputs": [],
   "source": [
    "training_data_meta['cluster_subclass'].unique()"
   ]
  },
  {
   "cell_type": "code",
   "execution_count": null,
   "id": "7b3514ee",
   "metadata": {},
   "outputs": [],
   "source": [
    "training_data_meta['cluster_class'].unique()"
   ]
  },
  {
   "cell_type": "code",
   "execution_count": null,
   "id": "f39d7f10",
   "metadata": {},
   "outputs": [],
   "source": [
    "# Visualize initial embedding results\n",
    "cell_embeddings = higashi_model.fetch_cell_embeddings()\n",
    "print (cell_embeddings.shape)\n",
    "\n",
    "from umap import UMAP\n",
    "import seaborn as sns\n",
    "import matplotlib.pyplot as plt\n",
    "\n",
    "vec = UMAP(n_components=2, n_neighbors=5, random_state=0).fit_transform(cell_embeddings)\n",
    "# cell_type = higashi_model.label_info['cluster_subclass']\n",
    "cell_type = higashi_model.label_info['cluster_class']\n",
    "batch = higashi_model.label_info['Sample_ID']\n",
    "fig = plt.figure(figsize=(14, 5))\n",
    "ax = plt.subplot(1, 2, 1)\n",
    "# sns.scatterplot(x=vec[:, 0], y=vec[:, 1], hue=cell_type, ax=ax, s=5, alpha=0.8, linewidth=0,\n",
    "#                 hue_order=['L2/3 IT', 'Endo', 'VLMC', 'Astro', 'Oligo', 'Sst', 'OPC', 'L5 IT',\n",
    "#                            'L4/5 IT', 'Vip', 'L5 ET', 'Micro', 'Pvalb', 'L6 IT', 'L6 CT',\n",
    "#                            'SMC', 'Peri', 'Lamp5', 'L6b', 'L5/6 NP', 'other', 'Sncg'])\n",
    "sns.scatterplot(x=vec[:, 0], y=vec[:, 1], hue=cell_type, ax=ax, s=5, alpha=0.8, linewidth=0,\n",
    "                hue_order=['Gluta', 'Endo', 'VLMC', 'Astro', 'Oligo', 'GABA', 'Micro', 'SMC',\n",
    "                           'Peri', 'other'])\n",
    "handles, labels = ax.get_legend_handles_labels()\n",
    "labels, handles = zip(*sorted(zip(labels, handles), key=lambda t: t[0]))\n",
    "ax.legend(handles=handles, labels=labels, bbox_to_anchor=(1.05, 1), loc=2, borderaxespad=0., ncol=1)\n",
    "ax = plt.subplot(1, 2, 2)\n",
    "sns.scatterplot(x=vec[:, 0], y=vec[:, 1], hue=batch, ax=ax, s=5, alpha=0.8, linewidth=0)\n",
    "handles, labels = ax.get_legend_handles_labels()\n",
    "labels, handles = zip(*sorted(zip(labels, handles), key=lambda t: t[0]))\n",
    "ax.legend(handles=handles, labels=labels, bbox_to_anchor=(1.05, 1), loc=2, borderaxespad=0., ncol=1)\n",
    "plt.tight_layout()\n",
    "plt.show()\n"
   ]
  },
  {
   "cell_type": "code",
   "execution_count": null,
   "id": "b17c1605",
   "metadata": {},
   "outputs": [],
   "source": [
    "# np.save('/n/netscratch/zhuang_lab/Lab/Peter/higashi_dnamerfish/test2/state/embeddings_dnamerfish_stage1_r2.npy', cell_embeddings)"
   ]
  },
  {
   "cell_type": "code",
   "execution_count": null,
   "id": "666b6153",
   "metadata": {},
   "outputs": [],
   "source": [
    "higashi_model.current_device"
   ]
  },
  {
   "cell_type": "code",
   "execution_count": null,
   "id": "c58d1e15",
   "metadata": {},
   "outputs": [],
   "source": [
    "# higashi_model.higashi_model = torch.load(higashi_model.save_path + \"_stage1_model\", map_location=higashi_model.current_device)\n",
    "# higashi_model.node_embedding_init = None\n"
   ]
  },
  {
   "cell_type": "code",
   "execution_count": null,
   "id": "da8c89d1",
   "metadata": {},
   "outputs": [],
   "source": [
    "higashi_model.train_for_imputation_nbr_0()\n",
    "higashi_model.impute_no_nbr()"
   ]
  },
  {
   "cell_type": "code",
   "execution_count": null,
   "id": "69d5401f",
   "metadata": {},
   "outputs": [],
   "source": [
    "higashi_model.train_for_imputation_with_nbr()\n",
    "higashi_model.impute_with_nbr()"
   ]
  },
  {
   "cell_type": "code",
   "execution_count": null,
   "id": "781114df",
   "metadata": {},
   "outputs": [],
   "source": [
    "# Visualize final embedding results\n",
    "cell_embeddings = higashi_model.fetch_cell_embeddings()\n",
    "print (cell_embeddings.shape)\n",
    "\n",
    "from sklearn.decomposition import PCA\n",
    "\n",
    "cell_type = higashi_model.label_info['cluster_class']\n",
    "fig = plt.figure(figsize=(14, 5))\n",
    "ax = plt.subplot(1, 2, 1)\n",
    "vec = PCA(n_components=2).fit_transform(cell_embeddings)\n",
    "sns.scatterplot(x=vec[:, 0], y=vec[:, 1], hue=cell_type, ax=ax, s=6, linewidth=0)\n",
    "handles, labels = ax.get_legend_handles_labels()\n",
    "labels, handles = zip(*sorted(zip(labels, handles), key=lambda t: t[0]))\n",
    "ax.legend(handles=handles, labels=labels, bbox_to_anchor=(1.05, 1), loc=2, borderaxespad=0., ncol=1)\n",
    "ax = plt.subplot(1, 2, 2)\n",
    "vec = UMAP(n_components=2).fit_transform(cell_embeddings)\n",
    "sns.scatterplot(x=vec[:, 0], y=vec[:, 1], hue=cell_type, ax=ax, s=6, linewidth=0)\n",
    "handles, labels = ax.get_legend_handles_labels()\n",
    "labels, handles = zip(*sorted(zip(labels, handles), key=lambda t: t[0]))\n",
    "ax.legend(handles=handles, labels=labels, bbox_to_anchor=(1.05, 1), loc=2, borderaxespad=0., ncol=1)\n",
    "plt.tight_layout()\n",
    "plt.savefig('/n/home09/pren/figures/dnamerfish_pca_umapp_1000nmthresh.png')\n",
    "plt.show()"
   ]
  },
  {
   "cell_type": "code",
   "execution_count": null,
   "id": "3f389e10-11b8-423f-98c1-b8d325559b90",
   "metadata": {},
   "outputs": [],
   "source": [
    "# Visualize final embedding results\n",
    "cell_embeddings = higashi_model.fetch_cell_embeddings()\n",
    "print (cell_embeddings.shape)\n",
    "\n",
    "from sklearn.decomposition import PCA\n",
    "\n",
    "cell_type = higashi_model.label_info['neuron_identity']\n",
    "fig = plt.figure(figsize=(14, 5))\n",
    "ax = plt.subplot(1, 2, 1)\n",
    "vec = PCA(n_components=2).fit_transform(cell_embeddings)\n",
    "sns.scatterplot(x=vec[:, 0], y=vec[:, 1], hue=cell_type, ax=ax, s=6, linewidth=0)\n",
    "handles, labels = ax.get_legend_handles_labels()\n",
    "labels, handles = zip(*sorted(zip(labels, handles), key=lambda t: t[0]))\n",
    "ax.legend(handles=handles, labels=labels, bbox_to_anchor=(1.05, 1), loc=2, borderaxespad=0., ncol=1)\n",
    "ax = plt.subplot(1, 2, 2)\n",
    "vec = UMAP(n_components=2).fit_transform(cell_embeddings)\n",
    "sns.scatterplot(x=vec[:, 0], y=vec[:, 1], hue=cell_type, ax=ax, s=6, linewidth=0)\n",
    "handles, labels = ax.get_legend_handles_labels()\n",
    "labels, handles = zip(*sorted(zip(labels, handles), key=lambda t: t[0]))\n",
    "ax.legend(handles=handles, labels=labels, bbox_to_anchor=(1.05, 1), loc=2, borderaxespad=0., ncol=1)\n",
    "plt.tight_layout()\n",
    "plt.savefig('/n/home09/pren/figures/dnamerfish_pca_umapp_neuronlabels_1000nmthresh.png')\n",
    "plt.show()"
   ]
  },
  {
   "cell_type": "code",
   "execution_count": null,
   "id": "07557105-515f-4e67-821f-e874f9090c1a",
   "metadata": {},
   "outputs": [],
   "source": [
    "# ori.data"
   ]
  },
  {
   "cell_type": "code",
   "execution_count": null,
   "id": "5d59a924",
   "metadata": {},
   "outputs": [],
   "source": [
    "count = 0\n",
    "fig = plt.figure(figsize=(6, 2*5))\n",
    "i = 0\n",
    "for id_ in np.random.randint(0, 620, 620):\n",
    "    if i == 5:\n",
    "        break\n",
    "    ori, nbr0, nbr5 = higashi_model.fetch_map(\"chr3\", id_)\n",
    "    # print('ori.data.shape: ', ori.data.shape)\n",
    "    if ori.data.shape[0] == 0:\n",
    "        continue\n",
    "    else:\n",
    "        i += 1\n",
    "    count += 1\n",
    "    ax = plt.subplot(5, 3, count * 3 - 2)\n",
    "    ax.imshow(ori.toarray(), cmap='Reds', vmin=0.0, vmax=np.quantile(ori.data, 0.6))\n",
    "    ax.set_xticks([], [])\n",
    "    ax.set_yticks([], [])\n",
    "    if count == 1:\n",
    "        ax.set_title(\"raw\")\n",
    "    ax.set_ylabel(f'Cell {id_}')\n",
    "\n",
    "    \n",
    "    ax = plt.subplot(5, 3, count * 3 - 1)\n",
    "    ax.imshow(nbr0.toarray(), cmap='Reds', vmin=0.0, vmax=np.quantile(nbr0.data, 0.95))\n",
    "    ax.set_xticks([], [])\n",
    "    ax.set_yticks([], [])\n",
    "    if count == 1:\n",
    "        ax.set_title(\"higashi, k=0\")\n",
    "    \n",
    "    ax = plt.subplot(5, 3, count * 3)\n",
    "    ax.imshow(nbr5.toarray(), cmap='Reds', vmin=0.0, vmax=np.quantile(nbr5.data, 0.95))\n",
    "    ax.set_xticks([], [])\n",
    "    ax.set_yticks([], [])\n",
    "    if count == 1:\n",
    "        ax.set_title(\"higashi, k=5\")\n",
    "\n",
    "plt.tight_layout()\n",
    "# plt.suptitle('Chromosome 3')\n",
    "\n",
    "plt.savefig('/n/home09/pren/figures/dnamerfish_imputation_1000nmthresh.png')"
   ]
  },
  {
   "cell_type": "code",
   "execution_count": null,
   "id": "662006b1",
   "metadata": {},
   "outputs": [],
   "source": []
  },
  {
   "cell_type": "code",
   "execution_count": null,
   "id": "baddeae8",
   "metadata": {},
   "outputs": [],
   "source": []
  },
  {
   "cell_type": "code",
   "execution_count": null,
   "id": "92e3e35b-be95-459b-831a-1e36cd543e48",
   "metadata": {},
   "outputs": [],
   "source": []
  }
 ],
 "metadata": {
  "kernelspec": {
   "display_name": "Python 3 (ipykernel)",
   "language": "python",
   "name": "python3"
  },
  "language_info": {
   "codemirror_mode": {
    "name": "ipython",
    "version": 3
   },
   "file_extension": ".py",
   "mimetype": "text/x-python",
   "name": "python",
   "nbconvert_exporter": "python",
   "pygments_lexer": "ipython3",
   "version": "3.10.16"
  }
 },
 "nbformat": 4,
 "nbformat_minor": 5
}
